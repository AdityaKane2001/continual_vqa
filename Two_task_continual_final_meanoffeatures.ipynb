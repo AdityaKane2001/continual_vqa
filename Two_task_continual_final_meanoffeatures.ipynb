{
  "nbformat": 4,
  "nbformat_minor": 0,
  "metadata": {
    "colab": {
      "provenance": [],
      "collapsed_sections": [
        "JvTvZzeQJcUI"
      ]
    },
    "kernelspec": {
      "name": "python3",
      "display_name": "Python 3"
    },
    "language_info": {
      "name": "python"
    },
    "gpuClass": "standard",
    "accelerator": "GPU",
    "widgets": {
      "application/vnd.jupyter.widget-state+json": {
        "513775e80be4434280606bb77a3c9ac7": {
          "model_module": "@jupyter-widgets/controls",
          "model_name": "VBoxModel",
          "model_module_version": "1.5.0",
          "state": {
            "_dom_classes": [],
            "_model_module": "@jupyter-widgets/controls",
            "_model_module_version": "1.5.0",
            "_model_name": "VBoxModel",
            "_view_count": null,
            "_view_module": "@jupyter-widgets/controls",
            "_view_module_version": "1.5.0",
            "_view_name": "VBoxView",
            "box_style": "",
            "children": [
              "IPY_MODEL_2d482f481c124713b1010c3452e9c224",
              "IPY_MODEL_ffcc4f79c7a6499eb4c4615cff743217"
            ],
            "layout": "IPY_MODEL_36c5134692a34e04981c96882d308e9c"
          }
        },
        "2d482f481c124713b1010c3452e9c224": {
          "model_module": "@jupyter-widgets/controls",
          "model_name": "LabelModel",
          "model_module_version": "1.5.0",
          "state": {
            "_dom_classes": [],
            "_model_module": "@jupyter-widgets/controls",
            "_model_module_version": "1.5.0",
            "_model_name": "LabelModel",
            "_view_count": null,
            "_view_module": "@jupyter-widgets/controls",
            "_view_module_version": "1.5.0",
            "_view_name": "LabelView",
            "description": "",
            "description_tooltip": null,
            "layout": "IPY_MODEL_49ac26be6d45450bba79c528cf56cd33",
            "placeholder": "​",
            "style": "IPY_MODEL_1cf48fa1ea8b45c196734104df9e7206",
            "value": "0.017 MB of 0.017 MB uploaded (0.000 MB deduped)\r"
          }
        },
        "ffcc4f79c7a6499eb4c4615cff743217": {
          "model_module": "@jupyter-widgets/controls",
          "model_name": "FloatProgressModel",
          "model_module_version": "1.5.0",
          "state": {
            "_dom_classes": [],
            "_model_module": "@jupyter-widgets/controls",
            "_model_module_version": "1.5.0",
            "_model_name": "FloatProgressModel",
            "_view_count": null,
            "_view_module": "@jupyter-widgets/controls",
            "_view_module_version": "1.5.0",
            "_view_name": "ProgressView",
            "bar_style": "",
            "description": "",
            "description_tooltip": null,
            "layout": "IPY_MODEL_fcdaad23e01c4f3a8e31462fdfc48f89",
            "max": 1,
            "min": 0,
            "orientation": "horizontal",
            "style": "IPY_MODEL_f1b816ee28754eb2b7ce4482ea1d0d5d",
            "value": 1
          }
        },
        "36c5134692a34e04981c96882d308e9c": {
          "model_module": "@jupyter-widgets/base",
          "model_name": "LayoutModel",
          "model_module_version": "1.2.0",
          "state": {
            "_model_module": "@jupyter-widgets/base",
            "_model_module_version": "1.2.0",
            "_model_name": "LayoutModel",
            "_view_count": null,
            "_view_module": "@jupyter-widgets/base",
            "_view_module_version": "1.2.0",
            "_view_name": "LayoutView",
            "align_content": null,
            "align_items": null,
            "align_self": null,
            "border": null,
            "bottom": null,
            "display": null,
            "flex": null,
            "flex_flow": null,
            "grid_area": null,
            "grid_auto_columns": null,
            "grid_auto_flow": null,
            "grid_auto_rows": null,
            "grid_column": null,
            "grid_gap": null,
            "grid_row": null,
            "grid_template_areas": null,
            "grid_template_columns": null,
            "grid_template_rows": null,
            "height": null,
            "justify_content": null,
            "justify_items": null,
            "left": null,
            "margin": null,
            "max_height": null,
            "max_width": null,
            "min_height": null,
            "min_width": null,
            "object_fit": null,
            "object_position": null,
            "order": null,
            "overflow": null,
            "overflow_x": null,
            "overflow_y": null,
            "padding": null,
            "right": null,
            "top": null,
            "visibility": null,
            "width": null
          }
        },
        "49ac26be6d45450bba79c528cf56cd33": {
          "model_module": "@jupyter-widgets/base",
          "model_name": "LayoutModel",
          "model_module_version": "1.2.0",
          "state": {
            "_model_module": "@jupyter-widgets/base",
            "_model_module_version": "1.2.0",
            "_model_name": "LayoutModel",
            "_view_count": null,
            "_view_module": "@jupyter-widgets/base",
            "_view_module_version": "1.2.0",
            "_view_name": "LayoutView",
            "align_content": null,
            "align_items": null,
            "align_self": null,
            "border": null,
            "bottom": null,
            "display": null,
            "flex": null,
            "flex_flow": null,
            "grid_area": null,
            "grid_auto_columns": null,
            "grid_auto_flow": null,
            "grid_auto_rows": null,
            "grid_column": null,
            "grid_gap": null,
            "grid_row": null,
            "grid_template_areas": null,
            "grid_template_columns": null,
            "grid_template_rows": null,
            "height": null,
            "justify_content": null,
            "justify_items": null,
            "left": null,
            "margin": null,
            "max_height": null,
            "max_width": null,
            "min_height": null,
            "min_width": null,
            "object_fit": null,
            "object_position": null,
            "order": null,
            "overflow": null,
            "overflow_x": null,
            "overflow_y": null,
            "padding": null,
            "right": null,
            "top": null,
            "visibility": null,
            "width": null
          }
        },
        "1cf48fa1ea8b45c196734104df9e7206": {
          "model_module": "@jupyter-widgets/controls",
          "model_name": "DescriptionStyleModel",
          "model_module_version": "1.5.0",
          "state": {
            "_model_module": "@jupyter-widgets/controls",
            "_model_module_version": "1.5.0",
            "_model_name": "DescriptionStyleModel",
            "_view_count": null,
            "_view_module": "@jupyter-widgets/base",
            "_view_module_version": "1.2.0",
            "_view_name": "StyleView",
            "description_width": ""
          }
        },
        "fcdaad23e01c4f3a8e31462fdfc48f89": {
          "model_module": "@jupyter-widgets/base",
          "model_name": "LayoutModel",
          "model_module_version": "1.2.0",
          "state": {
            "_model_module": "@jupyter-widgets/base",
            "_model_module_version": "1.2.0",
            "_model_name": "LayoutModel",
            "_view_count": null,
            "_view_module": "@jupyter-widgets/base",
            "_view_module_version": "1.2.0",
            "_view_name": "LayoutView",
            "align_content": null,
            "align_items": null,
            "align_self": null,
            "border": null,
            "bottom": null,
            "display": null,
            "flex": null,
            "flex_flow": null,
            "grid_area": null,
            "grid_auto_columns": null,
            "grid_auto_flow": null,
            "grid_auto_rows": null,
            "grid_column": null,
            "grid_gap": null,
            "grid_row": null,
            "grid_template_areas": null,
            "grid_template_columns": null,
            "grid_template_rows": null,
            "height": null,
            "justify_content": null,
            "justify_items": null,
            "left": null,
            "margin": null,
            "max_height": null,
            "max_width": null,
            "min_height": null,
            "min_width": null,
            "object_fit": null,
            "object_position": null,
            "order": null,
            "overflow": null,
            "overflow_x": null,
            "overflow_y": null,
            "padding": null,
            "right": null,
            "top": null,
            "visibility": null,
            "width": null
          }
        },
        "f1b816ee28754eb2b7ce4482ea1d0d5d": {
          "model_module": "@jupyter-widgets/controls",
          "model_name": "ProgressStyleModel",
          "model_module_version": "1.5.0",
          "state": {
            "_model_module": "@jupyter-widgets/controls",
            "_model_module_version": "1.5.0",
            "_model_name": "ProgressStyleModel",
            "_view_count": null,
            "_view_module": "@jupyter-widgets/base",
            "_view_module_version": "1.2.0",
            "_view_name": "StyleView",
            "bar_color": null,
            "description_width": ""
          }
        },
        "3ef709c73b2d4fc6a48c354ba18acf30": {
          "model_module": "@jupyter-widgets/controls",
          "model_name": "VBoxModel",
          "model_module_version": "1.5.0",
          "state": {
            "_dom_classes": [],
            "_model_module": "@jupyter-widgets/controls",
            "_model_module_version": "1.5.0",
            "_model_name": "VBoxModel",
            "_view_count": null,
            "_view_module": "@jupyter-widgets/controls",
            "_view_module_version": "1.5.0",
            "_view_name": "VBoxView",
            "box_style": "",
            "children": [
              "IPY_MODEL_1f52f6720eac4c649e0355eb93f78a7a",
              "IPY_MODEL_5948c26445344e2b8ec7390a39541069"
            ],
            "layout": "IPY_MODEL_d3a7d2568a414f87b34877bbcc1d2dfe"
          }
        },
        "1f52f6720eac4c649e0355eb93f78a7a": {
          "model_module": "@jupyter-widgets/controls",
          "model_name": "LabelModel",
          "model_module_version": "1.5.0",
          "state": {
            "_dom_classes": [],
            "_model_module": "@jupyter-widgets/controls",
            "_model_module_version": "1.5.0",
            "_model_name": "LabelModel",
            "_view_count": null,
            "_view_module": "@jupyter-widgets/controls",
            "_view_module_version": "1.5.0",
            "_view_name": "LabelView",
            "description": "",
            "description_tooltip": null,
            "layout": "IPY_MODEL_2d2e0fe8cee544488442cca0e79df46c",
            "placeholder": "​",
            "style": "IPY_MODEL_9877a5ad898545719947910261c78cbd",
            "value": "0.034 MB of 0.034 MB uploaded (0.000 MB deduped)\r"
          }
        },
        "5948c26445344e2b8ec7390a39541069": {
          "model_module": "@jupyter-widgets/controls",
          "model_name": "FloatProgressModel",
          "model_module_version": "1.5.0",
          "state": {
            "_dom_classes": [],
            "_model_module": "@jupyter-widgets/controls",
            "_model_module_version": "1.5.0",
            "_model_name": "FloatProgressModel",
            "_view_count": null,
            "_view_module": "@jupyter-widgets/controls",
            "_view_module_version": "1.5.0",
            "_view_name": "ProgressView",
            "bar_style": "",
            "description": "",
            "description_tooltip": null,
            "layout": "IPY_MODEL_c076b8c60565412fa84872814fb3e56e",
            "max": 1,
            "min": 0,
            "orientation": "horizontal",
            "style": "IPY_MODEL_b76b2d138c0e4768a9f72130dd8f036b",
            "value": 1
          }
        },
        "d3a7d2568a414f87b34877bbcc1d2dfe": {
          "model_module": "@jupyter-widgets/base",
          "model_name": "LayoutModel",
          "model_module_version": "1.2.0",
          "state": {
            "_model_module": "@jupyter-widgets/base",
            "_model_module_version": "1.2.0",
            "_model_name": "LayoutModel",
            "_view_count": null,
            "_view_module": "@jupyter-widgets/base",
            "_view_module_version": "1.2.0",
            "_view_name": "LayoutView",
            "align_content": null,
            "align_items": null,
            "align_self": null,
            "border": null,
            "bottom": null,
            "display": null,
            "flex": null,
            "flex_flow": null,
            "grid_area": null,
            "grid_auto_columns": null,
            "grid_auto_flow": null,
            "grid_auto_rows": null,
            "grid_column": null,
            "grid_gap": null,
            "grid_row": null,
            "grid_template_areas": null,
            "grid_template_columns": null,
            "grid_template_rows": null,
            "height": null,
            "justify_content": null,
            "justify_items": null,
            "left": null,
            "margin": null,
            "max_height": null,
            "max_width": null,
            "min_height": null,
            "min_width": null,
            "object_fit": null,
            "object_position": null,
            "order": null,
            "overflow": null,
            "overflow_x": null,
            "overflow_y": null,
            "padding": null,
            "right": null,
            "top": null,
            "visibility": null,
            "width": null
          }
        },
        "2d2e0fe8cee544488442cca0e79df46c": {
          "model_module": "@jupyter-widgets/base",
          "model_name": "LayoutModel",
          "model_module_version": "1.2.0",
          "state": {
            "_model_module": "@jupyter-widgets/base",
            "_model_module_version": "1.2.0",
            "_model_name": "LayoutModel",
            "_view_count": null,
            "_view_module": "@jupyter-widgets/base",
            "_view_module_version": "1.2.0",
            "_view_name": "LayoutView",
            "align_content": null,
            "align_items": null,
            "align_self": null,
            "border": null,
            "bottom": null,
            "display": null,
            "flex": null,
            "flex_flow": null,
            "grid_area": null,
            "grid_auto_columns": null,
            "grid_auto_flow": null,
            "grid_auto_rows": null,
            "grid_column": null,
            "grid_gap": null,
            "grid_row": null,
            "grid_template_areas": null,
            "grid_template_columns": null,
            "grid_template_rows": null,
            "height": null,
            "justify_content": null,
            "justify_items": null,
            "left": null,
            "margin": null,
            "max_height": null,
            "max_width": null,
            "min_height": null,
            "min_width": null,
            "object_fit": null,
            "object_position": null,
            "order": null,
            "overflow": null,
            "overflow_x": null,
            "overflow_y": null,
            "padding": null,
            "right": null,
            "top": null,
            "visibility": null,
            "width": null
          }
        },
        "9877a5ad898545719947910261c78cbd": {
          "model_module": "@jupyter-widgets/controls",
          "model_name": "DescriptionStyleModel",
          "model_module_version": "1.5.0",
          "state": {
            "_model_module": "@jupyter-widgets/controls",
            "_model_module_version": "1.5.0",
            "_model_name": "DescriptionStyleModel",
            "_view_count": null,
            "_view_module": "@jupyter-widgets/base",
            "_view_module_version": "1.2.0",
            "_view_name": "StyleView",
            "description_width": ""
          }
        },
        "c076b8c60565412fa84872814fb3e56e": {
          "model_module": "@jupyter-widgets/base",
          "model_name": "LayoutModel",
          "model_module_version": "1.2.0",
          "state": {
            "_model_module": "@jupyter-widgets/base",
            "_model_module_version": "1.2.0",
            "_model_name": "LayoutModel",
            "_view_count": null,
            "_view_module": "@jupyter-widgets/base",
            "_view_module_version": "1.2.0",
            "_view_name": "LayoutView",
            "align_content": null,
            "align_items": null,
            "align_self": null,
            "border": null,
            "bottom": null,
            "display": null,
            "flex": null,
            "flex_flow": null,
            "grid_area": null,
            "grid_auto_columns": null,
            "grid_auto_flow": null,
            "grid_auto_rows": null,
            "grid_column": null,
            "grid_gap": null,
            "grid_row": null,
            "grid_template_areas": null,
            "grid_template_columns": null,
            "grid_template_rows": null,
            "height": null,
            "justify_content": null,
            "justify_items": null,
            "left": null,
            "margin": null,
            "max_height": null,
            "max_width": null,
            "min_height": null,
            "min_width": null,
            "object_fit": null,
            "object_position": null,
            "order": null,
            "overflow": null,
            "overflow_x": null,
            "overflow_y": null,
            "padding": null,
            "right": null,
            "top": null,
            "visibility": null,
            "width": null
          }
        },
        "b76b2d138c0e4768a9f72130dd8f036b": {
          "model_module": "@jupyter-widgets/controls",
          "model_name": "ProgressStyleModel",
          "model_module_version": "1.5.0",
          "state": {
            "_model_module": "@jupyter-widgets/controls",
            "_model_module_version": "1.5.0",
            "_model_name": "ProgressStyleModel",
            "_view_count": null,
            "_view_module": "@jupyter-widgets/base",
            "_view_module_version": "1.2.0",
            "_view_name": "StyleView",
            "bar_color": null,
            "description_width": ""
          }
        },
        "c3bb978f3bf545bf94ddae3791598ff8": {
          "model_module": "@jupyter-widgets/controls",
          "model_name": "VBoxModel",
          "model_module_version": "1.5.0",
          "state": {
            "_dom_classes": [],
            "_model_module": "@jupyter-widgets/controls",
            "_model_module_version": "1.5.0",
            "_model_name": "VBoxModel",
            "_view_count": null,
            "_view_module": "@jupyter-widgets/controls",
            "_view_module_version": "1.5.0",
            "_view_name": "VBoxView",
            "box_style": "",
            "children": [
              "IPY_MODEL_da6e548847794e6d8948838457a0a6b1",
              "IPY_MODEL_6015e552a6ed454ca6f7a0a20fb671e3"
            ],
            "layout": "IPY_MODEL_7dcc8131a7df40ff8760a8df92ddf84f"
          }
        },
        "da6e548847794e6d8948838457a0a6b1": {
          "model_module": "@jupyter-widgets/controls",
          "model_name": "LabelModel",
          "model_module_version": "1.5.0",
          "state": {
            "_dom_classes": [],
            "_model_module": "@jupyter-widgets/controls",
            "_model_module_version": "1.5.0",
            "_model_name": "LabelModel",
            "_view_count": null,
            "_view_module": "@jupyter-widgets/controls",
            "_view_module_version": "1.5.0",
            "_view_name": "LabelView",
            "description": "",
            "description_tooltip": null,
            "layout": "IPY_MODEL_680a3bfb716646b7a9d9fb8fe7be2aea",
            "placeholder": "​",
            "style": "IPY_MODEL_8290d480bf3b45b08cea4d48dea3289a",
            "value": "0.029 MB of 0.029 MB uploaded (0.000 MB deduped)\r"
          }
        },
        "6015e552a6ed454ca6f7a0a20fb671e3": {
          "model_module": "@jupyter-widgets/controls",
          "model_name": "FloatProgressModel",
          "model_module_version": "1.5.0",
          "state": {
            "_dom_classes": [],
            "_model_module": "@jupyter-widgets/controls",
            "_model_module_version": "1.5.0",
            "_model_name": "FloatProgressModel",
            "_view_count": null,
            "_view_module": "@jupyter-widgets/controls",
            "_view_module_version": "1.5.0",
            "_view_name": "ProgressView",
            "bar_style": "",
            "description": "",
            "description_tooltip": null,
            "layout": "IPY_MODEL_9d9419eb2e2f4fd9b9b655bfe2578723",
            "max": 1,
            "min": 0,
            "orientation": "horizontal",
            "style": "IPY_MODEL_d4de3f1c677f42da849ca325608cf875",
            "value": 1
          }
        },
        "7dcc8131a7df40ff8760a8df92ddf84f": {
          "model_module": "@jupyter-widgets/base",
          "model_name": "LayoutModel",
          "model_module_version": "1.2.0",
          "state": {
            "_model_module": "@jupyter-widgets/base",
            "_model_module_version": "1.2.0",
            "_model_name": "LayoutModel",
            "_view_count": null,
            "_view_module": "@jupyter-widgets/base",
            "_view_module_version": "1.2.0",
            "_view_name": "LayoutView",
            "align_content": null,
            "align_items": null,
            "align_self": null,
            "border": null,
            "bottom": null,
            "display": null,
            "flex": null,
            "flex_flow": null,
            "grid_area": null,
            "grid_auto_columns": null,
            "grid_auto_flow": null,
            "grid_auto_rows": null,
            "grid_column": null,
            "grid_gap": null,
            "grid_row": null,
            "grid_template_areas": null,
            "grid_template_columns": null,
            "grid_template_rows": null,
            "height": null,
            "justify_content": null,
            "justify_items": null,
            "left": null,
            "margin": null,
            "max_height": null,
            "max_width": null,
            "min_height": null,
            "min_width": null,
            "object_fit": null,
            "object_position": null,
            "order": null,
            "overflow": null,
            "overflow_x": null,
            "overflow_y": null,
            "padding": null,
            "right": null,
            "top": null,
            "visibility": null,
            "width": null
          }
        },
        "680a3bfb716646b7a9d9fb8fe7be2aea": {
          "model_module": "@jupyter-widgets/base",
          "model_name": "LayoutModel",
          "model_module_version": "1.2.0",
          "state": {
            "_model_module": "@jupyter-widgets/base",
            "_model_module_version": "1.2.0",
            "_model_name": "LayoutModel",
            "_view_count": null,
            "_view_module": "@jupyter-widgets/base",
            "_view_module_version": "1.2.0",
            "_view_name": "LayoutView",
            "align_content": null,
            "align_items": null,
            "align_self": null,
            "border": null,
            "bottom": null,
            "display": null,
            "flex": null,
            "flex_flow": null,
            "grid_area": null,
            "grid_auto_columns": null,
            "grid_auto_flow": null,
            "grid_auto_rows": null,
            "grid_column": null,
            "grid_gap": null,
            "grid_row": null,
            "grid_template_areas": null,
            "grid_template_columns": null,
            "grid_template_rows": null,
            "height": null,
            "justify_content": null,
            "justify_items": null,
            "left": null,
            "margin": null,
            "max_height": null,
            "max_width": null,
            "min_height": null,
            "min_width": null,
            "object_fit": null,
            "object_position": null,
            "order": null,
            "overflow": null,
            "overflow_x": null,
            "overflow_y": null,
            "padding": null,
            "right": null,
            "top": null,
            "visibility": null,
            "width": null
          }
        },
        "8290d480bf3b45b08cea4d48dea3289a": {
          "model_module": "@jupyter-widgets/controls",
          "model_name": "DescriptionStyleModel",
          "model_module_version": "1.5.0",
          "state": {
            "_model_module": "@jupyter-widgets/controls",
            "_model_module_version": "1.5.0",
            "_model_name": "DescriptionStyleModel",
            "_view_count": null,
            "_view_module": "@jupyter-widgets/base",
            "_view_module_version": "1.2.0",
            "_view_name": "StyleView",
            "description_width": ""
          }
        },
        "9d9419eb2e2f4fd9b9b655bfe2578723": {
          "model_module": "@jupyter-widgets/base",
          "model_name": "LayoutModel",
          "model_module_version": "1.2.0",
          "state": {
            "_model_module": "@jupyter-widgets/base",
            "_model_module_version": "1.2.0",
            "_model_name": "LayoutModel",
            "_view_count": null,
            "_view_module": "@jupyter-widgets/base",
            "_view_module_version": "1.2.0",
            "_view_name": "LayoutView",
            "align_content": null,
            "align_items": null,
            "align_self": null,
            "border": null,
            "bottom": null,
            "display": null,
            "flex": null,
            "flex_flow": null,
            "grid_area": null,
            "grid_auto_columns": null,
            "grid_auto_flow": null,
            "grid_auto_rows": null,
            "grid_column": null,
            "grid_gap": null,
            "grid_row": null,
            "grid_template_areas": null,
            "grid_template_columns": null,
            "grid_template_rows": null,
            "height": null,
            "justify_content": null,
            "justify_items": null,
            "left": null,
            "margin": null,
            "max_height": null,
            "max_width": null,
            "min_height": null,
            "min_width": null,
            "object_fit": null,
            "object_position": null,
            "order": null,
            "overflow": null,
            "overflow_x": null,
            "overflow_y": null,
            "padding": null,
            "right": null,
            "top": null,
            "visibility": null,
            "width": null
          }
        },
        "d4de3f1c677f42da849ca325608cf875": {
          "model_module": "@jupyter-widgets/controls",
          "model_name": "ProgressStyleModel",
          "model_module_version": "1.5.0",
          "state": {
            "_model_module": "@jupyter-widgets/controls",
            "_model_module_version": "1.5.0",
            "_model_name": "ProgressStyleModel",
            "_view_count": null,
            "_view_module": "@jupyter-widgets/base",
            "_view_module_version": "1.2.0",
            "_view_name": "StyleView",
            "bar_color": null,
            "description_width": ""
          }
        },
        "a0ae7aa7021e40c285db1b39540d982c": {
          "model_module": "@jupyter-widgets/controls",
          "model_name": "VBoxModel",
          "model_module_version": "1.5.0",
          "state": {
            "_dom_classes": [],
            "_model_module": "@jupyter-widgets/controls",
            "_model_module_version": "1.5.0",
            "_model_name": "VBoxModel",
            "_view_count": null,
            "_view_module": "@jupyter-widgets/controls",
            "_view_module_version": "1.5.0",
            "_view_name": "VBoxView",
            "box_style": "",
            "children": [
              "IPY_MODEL_217556fbd1614bf4a4761bc8df329ee9",
              "IPY_MODEL_a94e638fbe39477d9071e7468647792d"
            ],
            "layout": "IPY_MODEL_33c96b523cbd4bf2af4a72e803729ef3"
          }
        },
        "217556fbd1614bf4a4761bc8df329ee9": {
          "model_module": "@jupyter-widgets/controls",
          "model_name": "LabelModel",
          "model_module_version": "1.5.0",
          "state": {
            "_dom_classes": [],
            "_model_module": "@jupyter-widgets/controls",
            "_model_module_version": "1.5.0",
            "_model_name": "LabelModel",
            "_view_count": null,
            "_view_module": "@jupyter-widgets/controls",
            "_view_module_version": "1.5.0",
            "_view_name": "LabelView",
            "description": "",
            "description_tooltip": null,
            "layout": "IPY_MODEL_d825e01e6848465794265844bc0c155c",
            "placeholder": "​",
            "style": "IPY_MODEL_95c5f7499fc9409f9823f7508ebe0ba1",
            "value": "0.032 MB of 0.032 MB uploaded (0.000 MB deduped)\r"
          }
        },
        "a94e638fbe39477d9071e7468647792d": {
          "model_module": "@jupyter-widgets/controls",
          "model_name": "FloatProgressModel",
          "model_module_version": "1.5.0",
          "state": {
            "_dom_classes": [],
            "_model_module": "@jupyter-widgets/controls",
            "_model_module_version": "1.5.0",
            "_model_name": "FloatProgressModel",
            "_view_count": null,
            "_view_module": "@jupyter-widgets/controls",
            "_view_module_version": "1.5.0",
            "_view_name": "ProgressView",
            "bar_style": "",
            "description": "",
            "description_tooltip": null,
            "layout": "IPY_MODEL_347789819074476990d250d597d79b80",
            "max": 1,
            "min": 0,
            "orientation": "horizontal",
            "style": "IPY_MODEL_a6e1f9b64bfd40f980c55381f3d63634",
            "value": 1
          }
        },
        "33c96b523cbd4bf2af4a72e803729ef3": {
          "model_module": "@jupyter-widgets/base",
          "model_name": "LayoutModel",
          "model_module_version": "1.2.0",
          "state": {
            "_model_module": "@jupyter-widgets/base",
            "_model_module_version": "1.2.0",
            "_model_name": "LayoutModel",
            "_view_count": null,
            "_view_module": "@jupyter-widgets/base",
            "_view_module_version": "1.2.0",
            "_view_name": "LayoutView",
            "align_content": null,
            "align_items": null,
            "align_self": null,
            "border": null,
            "bottom": null,
            "display": null,
            "flex": null,
            "flex_flow": null,
            "grid_area": null,
            "grid_auto_columns": null,
            "grid_auto_flow": null,
            "grid_auto_rows": null,
            "grid_column": null,
            "grid_gap": null,
            "grid_row": null,
            "grid_template_areas": null,
            "grid_template_columns": null,
            "grid_template_rows": null,
            "height": null,
            "justify_content": null,
            "justify_items": null,
            "left": null,
            "margin": null,
            "max_height": null,
            "max_width": null,
            "min_height": null,
            "min_width": null,
            "object_fit": null,
            "object_position": null,
            "order": null,
            "overflow": null,
            "overflow_x": null,
            "overflow_y": null,
            "padding": null,
            "right": null,
            "top": null,
            "visibility": null,
            "width": null
          }
        },
        "d825e01e6848465794265844bc0c155c": {
          "model_module": "@jupyter-widgets/base",
          "model_name": "LayoutModel",
          "model_module_version": "1.2.0",
          "state": {
            "_model_module": "@jupyter-widgets/base",
            "_model_module_version": "1.2.0",
            "_model_name": "LayoutModel",
            "_view_count": null,
            "_view_module": "@jupyter-widgets/base",
            "_view_module_version": "1.2.0",
            "_view_name": "LayoutView",
            "align_content": null,
            "align_items": null,
            "align_self": null,
            "border": null,
            "bottom": null,
            "display": null,
            "flex": null,
            "flex_flow": null,
            "grid_area": null,
            "grid_auto_columns": null,
            "grid_auto_flow": null,
            "grid_auto_rows": null,
            "grid_column": null,
            "grid_gap": null,
            "grid_row": null,
            "grid_template_areas": null,
            "grid_template_columns": null,
            "grid_template_rows": null,
            "height": null,
            "justify_content": null,
            "justify_items": null,
            "left": null,
            "margin": null,
            "max_height": null,
            "max_width": null,
            "min_height": null,
            "min_width": null,
            "object_fit": null,
            "object_position": null,
            "order": null,
            "overflow": null,
            "overflow_x": null,
            "overflow_y": null,
            "padding": null,
            "right": null,
            "top": null,
            "visibility": null,
            "width": null
          }
        },
        "95c5f7499fc9409f9823f7508ebe0ba1": {
          "model_module": "@jupyter-widgets/controls",
          "model_name": "DescriptionStyleModel",
          "model_module_version": "1.5.0",
          "state": {
            "_model_module": "@jupyter-widgets/controls",
            "_model_module_version": "1.5.0",
            "_model_name": "DescriptionStyleModel",
            "_view_count": null,
            "_view_module": "@jupyter-widgets/base",
            "_view_module_version": "1.2.0",
            "_view_name": "StyleView",
            "description_width": ""
          }
        },
        "347789819074476990d250d597d79b80": {
          "model_module": "@jupyter-widgets/base",
          "model_name": "LayoutModel",
          "model_module_version": "1.2.0",
          "state": {
            "_model_module": "@jupyter-widgets/base",
            "_model_module_version": "1.2.0",
            "_model_name": "LayoutModel",
            "_view_count": null,
            "_view_module": "@jupyter-widgets/base",
            "_view_module_version": "1.2.0",
            "_view_name": "LayoutView",
            "align_content": null,
            "align_items": null,
            "align_self": null,
            "border": null,
            "bottom": null,
            "display": null,
            "flex": null,
            "flex_flow": null,
            "grid_area": null,
            "grid_auto_columns": null,
            "grid_auto_flow": null,
            "grid_auto_rows": null,
            "grid_column": null,
            "grid_gap": null,
            "grid_row": null,
            "grid_template_areas": null,
            "grid_template_columns": null,
            "grid_template_rows": null,
            "height": null,
            "justify_content": null,
            "justify_items": null,
            "left": null,
            "margin": null,
            "max_height": null,
            "max_width": null,
            "min_height": null,
            "min_width": null,
            "object_fit": null,
            "object_position": null,
            "order": null,
            "overflow": null,
            "overflow_x": null,
            "overflow_y": null,
            "padding": null,
            "right": null,
            "top": null,
            "visibility": null,
            "width": null
          }
        },
        "a6e1f9b64bfd40f980c55381f3d63634": {
          "model_module": "@jupyter-widgets/controls",
          "model_name": "ProgressStyleModel",
          "model_module_version": "1.5.0",
          "state": {
            "_model_module": "@jupyter-widgets/controls",
            "_model_module_version": "1.5.0",
            "_model_name": "ProgressStyleModel",
            "_view_count": null,
            "_view_module": "@jupyter-widgets/base",
            "_view_module_version": "1.2.0",
            "_view_name": "StyleView",
            "bar_color": null,
            "description_width": ""
          }
        },
        "3803b6651ed84dd1b7918496dac49dc8": {
          "model_module": "@jupyter-widgets/controls",
          "model_name": "VBoxModel",
          "model_module_version": "1.5.0",
          "state": {
            "_dom_classes": [],
            "_model_module": "@jupyter-widgets/controls",
            "_model_module_version": "1.5.0",
            "_model_name": "VBoxModel",
            "_view_count": null,
            "_view_module": "@jupyter-widgets/controls",
            "_view_module_version": "1.5.0",
            "_view_name": "VBoxView",
            "box_style": "",
            "children": [
              "IPY_MODEL_620c271e057347cea53a7d0c2f9eaf68",
              "IPY_MODEL_3703cb61aa844527878b65616683503a"
            ],
            "layout": "IPY_MODEL_3143f63f412b484f885f8df1b598dac4"
          }
        },
        "620c271e057347cea53a7d0c2f9eaf68": {
          "model_module": "@jupyter-widgets/controls",
          "model_name": "LabelModel",
          "model_module_version": "1.5.0",
          "state": {
            "_dom_classes": [],
            "_model_module": "@jupyter-widgets/controls",
            "_model_module_version": "1.5.0",
            "_model_name": "LabelModel",
            "_view_count": null,
            "_view_module": "@jupyter-widgets/controls",
            "_view_module_version": "1.5.0",
            "_view_name": "LabelView",
            "description": "",
            "description_tooltip": null,
            "layout": "IPY_MODEL_24d71fadb85e497db24361583cc87a34",
            "placeholder": "​",
            "style": "IPY_MODEL_b99ca5722daa49e8a472ca52a57e9847",
            "value": "0.030 MB of 0.030 MB uploaded (0.000 MB deduped)\r"
          }
        },
        "3703cb61aa844527878b65616683503a": {
          "model_module": "@jupyter-widgets/controls",
          "model_name": "FloatProgressModel",
          "model_module_version": "1.5.0",
          "state": {
            "_dom_classes": [],
            "_model_module": "@jupyter-widgets/controls",
            "_model_module_version": "1.5.0",
            "_model_name": "FloatProgressModel",
            "_view_count": null,
            "_view_module": "@jupyter-widgets/controls",
            "_view_module_version": "1.5.0",
            "_view_name": "ProgressView",
            "bar_style": "",
            "description": "",
            "description_tooltip": null,
            "layout": "IPY_MODEL_cd2a01a5fe834acbb46fb110dd1b8a96",
            "max": 1,
            "min": 0,
            "orientation": "horizontal",
            "style": "IPY_MODEL_38b86045da934b829f8398997904eb47",
            "value": 1
          }
        },
        "3143f63f412b484f885f8df1b598dac4": {
          "model_module": "@jupyter-widgets/base",
          "model_name": "LayoutModel",
          "model_module_version": "1.2.0",
          "state": {
            "_model_module": "@jupyter-widgets/base",
            "_model_module_version": "1.2.0",
            "_model_name": "LayoutModel",
            "_view_count": null,
            "_view_module": "@jupyter-widgets/base",
            "_view_module_version": "1.2.0",
            "_view_name": "LayoutView",
            "align_content": null,
            "align_items": null,
            "align_self": null,
            "border": null,
            "bottom": null,
            "display": null,
            "flex": null,
            "flex_flow": null,
            "grid_area": null,
            "grid_auto_columns": null,
            "grid_auto_flow": null,
            "grid_auto_rows": null,
            "grid_column": null,
            "grid_gap": null,
            "grid_row": null,
            "grid_template_areas": null,
            "grid_template_columns": null,
            "grid_template_rows": null,
            "height": null,
            "justify_content": null,
            "justify_items": null,
            "left": null,
            "margin": null,
            "max_height": null,
            "max_width": null,
            "min_height": null,
            "min_width": null,
            "object_fit": null,
            "object_position": null,
            "order": null,
            "overflow": null,
            "overflow_x": null,
            "overflow_y": null,
            "padding": null,
            "right": null,
            "top": null,
            "visibility": null,
            "width": null
          }
        },
        "24d71fadb85e497db24361583cc87a34": {
          "model_module": "@jupyter-widgets/base",
          "model_name": "LayoutModel",
          "model_module_version": "1.2.0",
          "state": {
            "_model_module": "@jupyter-widgets/base",
            "_model_module_version": "1.2.0",
            "_model_name": "LayoutModel",
            "_view_count": null,
            "_view_module": "@jupyter-widgets/base",
            "_view_module_version": "1.2.0",
            "_view_name": "LayoutView",
            "align_content": null,
            "align_items": null,
            "align_self": null,
            "border": null,
            "bottom": null,
            "display": null,
            "flex": null,
            "flex_flow": null,
            "grid_area": null,
            "grid_auto_columns": null,
            "grid_auto_flow": null,
            "grid_auto_rows": null,
            "grid_column": null,
            "grid_gap": null,
            "grid_row": null,
            "grid_template_areas": null,
            "grid_template_columns": null,
            "grid_template_rows": null,
            "height": null,
            "justify_content": null,
            "justify_items": null,
            "left": null,
            "margin": null,
            "max_height": null,
            "max_width": null,
            "min_height": null,
            "min_width": null,
            "object_fit": null,
            "object_position": null,
            "order": null,
            "overflow": null,
            "overflow_x": null,
            "overflow_y": null,
            "padding": null,
            "right": null,
            "top": null,
            "visibility": null,
            "width": null
          }
        },
        "b99ca5722daa49e8a472ca52a57e9847": {
          "model_module": "@jupyter-widgets/controls",
          "model_name": "DescriptionStyleModel",
          "model_module_version": "1.5.0",
          "state": {
            "_model_module": "@jupyter-widgets/controls",
            "_model_module_version": "1.5.0",
            "_model_name": "DescriptionStyleModel",
            "_view_count": null,
            "_view_module": "@jupyter-widgets/base",
            "_view_module_version": "1.2.0",
            "_view_name": "StyleView",
            "description_width": ""
          }
        },
        "cd2a01a5fe834acbb46fb110dd1b8a96": {
          "model_module": "@jupyter-widgets/base",
          "model_name": "LayoutModel",
          "model_module_version": "1.2.0",
          "state": {
            "_model_module": "@jupyter-widgets/base",
            "_model_module_version": "1.2.0",
            "_model_name": "LayoutModel",
            "_view_count": null,
            "_view_module": "@jupyter-widgets/base",
            "_view_module_version": "1.2.0",
            "_view_name": "LayoutView",
            "align_content": null,
            "align_items": null,
            "align_self": null,
            "border": null,
            "bottom": null,
            "display": null,
            "flex": null,
            "flex_flow": null,
            "grid_area": null,
            "grid_auto_columns": null,
            "grid_auto_flow": null,
            "grid_auto_rows": null,
            "grid_column": null,
            "grid_gap": null,
            "grid_row": null,
            "grid_template_areas": null,
            "grid_template_columns": null,
            "grid_template_rows": null,
            "height": null,
            "justify_content": null,
            "justify_items": null,
            "left": null,
            "margin": null,
            "max_height": null,
            "max_width": null,
            "min_height": null,
            "min_width": null,
            "object_fit": null,
            "object_position": null,
            "order": null,
            "overflow": null,
            "overflow_x": null,
            "overflow_y": null,
            "padding": null,
            "right": null,
            "top": null,
            "visibility": null,
            "width": null
          }
        },
        "38b86045da934b829f8398997904eb47": {
          "model_module": "@jupyter-widgets/controls",
          "model_name": "ProgressStyleModel",
          "model_module_version": "1.5.0",
          "state": {
            "_model_module": "@jupyter-widgets/controls",
            "_model_module_version": "1.5.0",
            "_model_name": "ProgressStyleModel",
            "_view_count": null,
            "_view_module": "@jupyter-widgets/base",
            "_view_module_version": "1.2.0",
            "_view_name": "StyleView",
            "bar_color": null,
            "description_width": ""
          }
        },
        "0af96011a093486fac3282eb1de49659": {
          "model_module": "@jupyter-widgets/controls",
          "model_name": "VBoxModel",
          "model_module_version": "1.5.0",
          "state": {
            "_dom_classes": [],
            "_model_module": "@jupyter-widgets/controls",
            "_model_module_version": "1.5.0",
            "_model_name": "VBoxModel",
            "_view_count": null,
            "_view_module": "@jupyter-widgets/controls",
            "_view_module_version": "1.5.0",
            "_view_name": "VBoxView",
            "box_style": "",
            "children": [
              "IPY_MODEL_285b4c88a8d44d34a6bd8dfd708f957a",
              "IPY_MODEL_a05a00743f334685bda1ec95709b36ae"
            ],
            "layout": "IPY_MODEL_c8426e0292314428ad59e96d3c8b8816"
          }
        },
        "285b4c88a8d44d34a6bd8dfd708f957a": {
          "model_module": "@jupyter-widgets/controls",
          "model_name": "LabelModel",
          "model_module_version": "1.5.0",
          "state": {
            "_dom_classes": [],
            "_model_module": "@jupyter-widgets/controls",
            "_model_module_version": "1.5.0",
            "_model_name": "LabelModel",
            "_view_count": null,
            "_view_module": "@jupyter-widgets/controls",
            "_view_module_version": "1.5.0",
            "_view_name": "LabelView",
            "description": "",
            "description_tooltip": null,
            "layout": "IPY_MODEL_231e6e4f005e4ed0871c711245c4e87c",
            "placeholder": "​",
            "style": "IPY_MODEL_b16b3825af644022a03d43a1863f9a47",
            "value": "0.029 MB of 0.029 MB uploaded (0.000 MB deduped)\r"
          }
        },
        "a05a00743f334685bda1ec95709b36ae": {
          "model_module": "@jupyter-widgets/controls",
          "model_name": "FloatProgressModel",
          "model_module_version": "1.5.0",
          "state": {
            "_dom_classes": [],
            "_model_module": "@jupyter-widgets/controls",
            "_model_module_version": "1.5.0",
            "_model_name": "FloatProgressModel",
            "_view_count": null,
            "_view_module": "@jupyter-widgets/controls",
            "_view_module_version": "1.5.0",
            "_view_name": "ProgressView",
            "bar_style": "",
            "description": "",
            "description_tooltip": null,
            "layout": "IPY_MODEL_35bd2034c250488ca6eaf69ab3c0a530",
            "max": 1,
            "min": 0,
            "orientation": "horizontal",
            "style": "IPY_MODEL_e72aecb8b5494506ac0292b37368bf2a",
            "value": 1
          }
        },
        "c8426e0292314428ad59e96d3c8b8816": {
          "model_module": "@jupyter-widgets/base",
          "model_name": "LayoutModel",
          "model_module_version": "1.2.0",
          "state": {
            "_model_module": "@jupyter-widgets/base",
            "_model_module_version": "1.2.0",
            "_model_name": "LayoutModel",
            "_view_count": null,
            "_view_module": "@jupyter-widgets/base",
            "_view_module_version": "1.2.0",
            "_view_name": "LayoutView",
            "align_content": null,
            "align_items": null,
            "align_self": null,
            "border": null,
            "bottom": null,
            "display": null,
            "flex": null,
            "flex_flow": null,
            "grid_area": null,
            "grid_auto_columns": null,
            "grid_auto_flow": null,
            "grid_auto_rows": null,
            "grid_column": null,
            "grid_gap": null,
            "grid_row": null,
            "grid_template_areas": null,
            "grid_template_columns": null,
            "grid_template_rows": null,
            "height": null,
            "justify_content": null,
            "justify_items": null,
            "left": null,
            "margin": null,
            "max_height": null,
            "max_width": null,
            "min_height": null,
            "min_width": null,
            "object_fit": null,
            "object_position": null,
            "order": null,
            "overflow": null,
            "overflow_x": null,
            "overflow_y": null,
            "padding": null,
            "right": null,
            "top": null,
            "visibility": null,
            "width": null
          }
        },
        "231e6e4f005e4ed0871c711245c4e87c": {
          "model_module": "@jupyter-widgets/base",
          "model_name": "LayoutModel",
          "model_module_version": "1.2.0",
          "state": {
            "_model_module": "@jupyter-widgets/base",
            "_model_module_version": "1.2.0",
            "_model_name": "LayoutModel",
            "_view_count": null,
            "_view_module": "@jupyter-widgets/base",
            "_view_module_version": "1.2.0",
            "_view_name": "LayoutView",
            "align_content": null,
            "align_items": null,
            "align_self": null,
            "border": null,
            "bottom": null,
            "display": null,
            "flex": null,
            "flex_flow": null,
            "grid_area": null,
            "grid_auto_columns": null,
            "grid_auto_flow": null,
            "grid_auto_rows": null,
            "grid_column": null,
            "grid_gap": null,
            "grid_row": null,
            "grid_template_areas": null,
            "grid_template_columns": null,
            "grid_template_rows": null,
            "height": null,
            "justify_content": null,
            "justify_items": null,
            "left": null,
            "margin": null,
            "max_height": null,
            "max_width": null,
            "min_height": null,
            "min_width": null,
            "object_fit": null,
            "object_position": null,
            "order": null,
            "overflow": null,
            "overflow_x": null,
            "overflow_y": null,
            "padding": null,
            "right": null,
            "top": null,
            "visibility": null,
            "width": null
          }
        },
        "b16b3825af644022a03d43a1863f9a47": {
          "model_module": "@jupyter-widgets/controls",
          "model_name": "DescriptionStyleModel",
          "model_module_version": "1.5.0",
          "state": {
            "_model_module": "@jupyter-widgets/controls",
            "_model_module_version": "1.5.0",
            "_model_name": "DescriptionStyleModel",
            "_view_count": null,
            "_view_module": "@jupyter-widgets/base",
            "_view_module_version": "1.2.0",
            "_view_name": "StyleView",
            "description_width": ""
          }
        },
        "35bd2034c250488ca6eaf69ab3c0a530": {
          "model_module": "@jupyter-widgets/base",
          "model_name": "LayoutModel",
          "model_module_version": "1.2.0",
          "state": {
            "_model_module": "@jupyter-widgets/base",
            "_model_module_version": "1.2.0",
            "_model_name": "LayoutModel",
            "_view_count": null,
            "_view_module": "@jupyter-widgets/base",
            "_view_module_version": "1.2.0",
            "_view_name": "LayoutView",
            "align_content": null,
            "align_items": null,
            "align_self": null,
            "border": null,
            "bottom": null,
            "display": null,
            "flex": null,
            "flex_flow": null,
            "grid_area": null,
            "grid_auto_columns": null,
            "grid_auto_flow": null,
            "grid_auto_rows": null,
            "grid_column": null,
            "grid_gap": null,
            "grid_row": null,
            "grid_template_areas": null,
            "grid_template_columns": null,
            "grid_template_rows": null,
            "height": null,
            "justify_content": null,
            "justify_items": null,
            "left": null,
            "margin": null,
            "max_height": null,
            "max_width": null,
            "min_height": null,
            "min_width": null,
            "object_fit": null,
            "object_position": null,
            "order": null,
            "overflow": null,
            "overflow_x": null,
            "overflow_y": null,
            "padding": null,
            "right": null,
            "top": null,
            "visibility": null,
            "width": null
          }
        },
        "e72aecb8b5494506ac0292b37368bf2a": {
          "model_module": "@jupyter-widgets/controls",
          "model_name": "ProgressStyleModel",
          "model_module_version": "1.5.0",
          "state": {
            "_model_module": "@jupyter-widgets/controls",
            "_model_module_version": "1.5.0",
            "_model_name": "ProgressStyleModel",
            "_view_count": null,
            "_view_module": "@jupyter-widgets/base",
            "_view_module_version": "1.2.0",
            "_view_name": "StyleView",
            "bar_color": null,
            "description_width": ""
          }
        },
        "2f13080918034350939cf36820379982": {
          "model_module": "@jupyter-widgets/controls",
          "model_name": "VBoxModel",
          "model_module_version": "1.5.0",
          "state": {
            "_dom_classes": [],
            "_model_module": "@jupyter-widgets/controls",
            "_model_module_version": "1.5.0",
            "_model_name": "VBoxModel",
            "_view_count": null,
            "_view_module": "@jupyter-widgets/controls",
            "_view_module_version": "1.5.0",
            "_view_name": "VBoxView",
            "box_style": "",
            "children": [
              "IPY_MODEL_388004e4f1524009861a94eee4d51f90",
              "IPY_MODEL_ad183859c2d248b7896b4676a5cdd1fe"
            ],
            "layout": "IPY_MODEL_bd94b049635445728d43412fc1949bb7"
          }
        },
        "388004e4f1524009861a94eee4d51f90": {
          "model_module": "@jupyter-widgets/controls",
          "model_name": "LabelModel",
          "model_module_version": "1.5.0",
          "state": {
            "_dom_classes": [],
            "_model_module": "@jupyter-widgets/controls",
            "_model_module_version": "1.5.0",
            "_model_name": "LabelModel",
            "_view_count": null,
            "_view_module": "@jupyter-widgets/controls",
            "_view_module_version": "1.5.0",
            "_view_name": "LabelView",
            "description": "",
            "description_tooltip": null,
            "layout": "IPY_MODEL_3e4a86a59f8d4c98af524c91462f8293",
            "placeholder": "​",
            "style": "IPY_MODEL_52f4dfde645643cfa87263d1558f928d",
            "value": "0.033 MB of 0.033 MB uploaded (0.000 MB deduped)\r"
          }
        },
        "ad183859c2d248b7896b4676a5cdd1fe": {
          "model_module": "@jupyter-widgets/controls",
          "model_name": "FloatProgressModel",
          "model_module_version": "1.5.0",
          "state": {
            "_dom_classes": [],
            "_model_module": "@jupyter-widgets/controls",
            "_model_module_version": "1.5.0",
            "_model_name": "FloatProgressModel",
            "_view_count": null,
            "_view_module": "@jupyter-widgets/controls",
            "_view_module_version": "1.5.0",
            "_view_name": "ProgressView",
            "bar_style": "",
            "description": "",
            "description_tooltip": null,
            "layout": "IPY_MODEL_aa7c6ab1bb7a46ee8253d1f6e9aca9f4",
            "max": 1,
            "min": 0,
            "orientation": "horizontal",
            "style": "IPY_MODEL_c643e50c4c5f42a5ab6e80f107f58105",
            "value": 1
          }
        },
        "bd94b049635445728d43412fc1949bb7": {
          "model_module": "@jupyter-widgets/base",
          "model_name": "LayoutModel",
          "model_module_version": "1.2.0",
          "state": {
            "_model_module": "@jupyter-widgets/base",
            "_model_module_version": "1.2.0",
            "_model_name": "LayoutModel",
            "_view_count": null,
            "_view_module": "@jupyter-widgets/base",
            "_view_module_version": "1.2.0",
            "_view_name": "LayoutView",
            "align_content": null,
            "align_items": null,
            "align_self": null,
            "border": null,
            "bottom": null,
            "display": null,
            "flex": null,
            "flex_flow": null,
            "grid_area": null,
            "grid_auto_columns": null,
            "grid_auto_flow": null,
            "grid_auto_rows": null,
            "grid_column": null,
            "grid_gap": null,
            "grid_row": null,
            "grid_template_areas": null,
            "grid_template_columns": null,
            "grid_template_rows": null,
            "height": null,
            "justify_content": null,
            "justify_items": null,
            "left": null,
            "margin": null,
            "max_height": null,
            "max_width": null,
            "min_height": null,
            "min_width": null,
            "object_fit": null,
            "object_position": null,
            "order": null,
            "overflow": null,
            "overflow_x": null,
            "overflow_y": null,
            "padding": null,
            "right": null,
            "top": null,
            "visibility": null,
            "width": null
          }
        },
        "3e4a86a59f8d4c98af524c91462f8293": {
          "model_module": "@jupyter-widgets/base",
          "model_name": "LayoutModel",
          "model_module_version": "1.2.0",
          "state": {
            "_model_module": "@jupyter-widgets/base",
            "_model_module_version": "1.2.0",
            "_model_name": "LayoutModel",
            "_view_count": null,
            "_view_module": "@jupyter-widgets/base",
            "_view_module_version": "1.2.0",
            "_view_name": "LayoutView",
            "align_content": null,
            "align_items": null,
            "align_self": null,
            "border": null,
            "bottom": null,
            "display": null,
            "flex": null,
            "flex_flow": null,
            "grid_area": null,
            "grid_auto_columns": null,
            "grid_auto_flow": null,
            "grid_auto_rows": null,
            "grid_column": null,
            "grid_gap": null,
            "grid_row": null,
            "grid_template_areas": null,
            "grid_template_columns": null,
            "grid_template_rows": null,
            "height": null,
            "justify_content": null,
            "justify_items": null,
            "left": null,
            "margin": null,
            "max_height": null,
            "max_width": null,
            "min_height": null,
            "min_width": null,
            "object_fit": null,
            "object_position": null,
            "order": null,
            "overflow": null,
            "overflow_x": null,
            "overflow_y": null,
            "padding": null,
            "right": null,
            "top": null,
            "visibility": null,
            "width": null
          }
        },
        "52f4dfde645643cfa87263d1558f928d": {
          "model_module": "@jupyter-widgets/controls",
          "model_name": "DescriptionStyleModel",
          "model_module_version": "1.5.0",
          "state": {
            "_model_module": "@jupyter-widgets/controls",
            "_model_module_version": "1.5.0",
            "_model_name": "DescriptionStyleModel",
            "_view_count": null,
            "_view_module": "@jupyter-widgets/base",
            "_view_module_version": "1.2.0",
            "_view_name": "StyleView",
            "description_width": ""
          }
        },
        "aa7c6ab1bb7a46ee8253d1f6e9aca9f4": {
          "model_module": "@jupyter-widgets/base",
          "model_name": "LayoutModel",
          "model_module_version": "1.2.0",
          "state": {
            "_model_module": "@jupyter-widgets/base",
            "_model_module_version": "1.2.0",
            "_model_name": "LayoutModel",
            "_view_count": null,
            "_view_module": "@jupyter-widgets/base",
            "_view_module_version": "1.2.0",
            "_view_name": "LayoutView",
            "align_content": null,
            "align_items": null,
            "align_self": null,
            "border": null,
            "bottom": null,
            "display": null,
            "flex": null,
            "flex_flow": null,
            "grid_area": null,
            "grid_auto_columns": null,
            "grid_auto_flow": null,
            "grid_auto_rows": null,
            "grid_column": null,
            "grid_gap": null,
            "grid_row": null,
            "grid_template_areas": null,
            "grid_template_columns": null,
            "grid_template_rows": null,
            "height": null,
            "justify_content": null,
            "justify_items": null,
            "left": null,
            "margin": null,
            "max_height": null,
            "max_width": null,
            "min_height": null,
            "min_width": null,
            "object_fit": null,
            "object_position": null,
            "order": null,
            "overflow": null,
            "overflow_x": null,
            "overflow_y": null,
            "padding": null,
            "right": null,
            "top": null,
            "visibility": null,
            "width": null
          }
        },
        "c643e50c4c5f42a5ab6e80f107f58105": {
          "model_module": "@jupyter-widgets/controls",
          "model_name": "ProgressStyleModel",
          "model_module_version": "1.5.0",
          "state": {
            "_model_module": "@jupyter-widgets/controls",
            "_model_module_version": "1.5.0",
            "_model_name": "ProgressStyleModel",
            "_view_count": null,
            "_view_module": "@jupyter-widgets/base",
            "_view_module_version": "1.2.0",
            "_view_name": "StyleView",
            "bar_color": null,
            "description_width": ""
          }
        }
      }
    }
  },
  "cells": [
    {
      "cell_type": "code",
      "source": [
        "from google.colab import drive\n",
        "drive.mount('/content/drive')"
      ],
      "metadata": {
        "colab": {
          "base_uri": "https://localhost:8080/"
        },
        "id": "dcvaKEHZH76K",
        "outputId": "01cb2eb1-9aef-4c3e-8cce-19a1739dd1b2"
      },
      "execution_count": null,
      "outputs": [
        {
          "output_type": "stream",
          "name": "stdout",
          "text": [
            "Mounted at /content/drive\n"
          ]
        }
      ]
    },
    {
      "cell_type": "markdown",
      "source": [
        "## Utils"
      ],
      "metadata": {
        "id": "tk9-sp7HB3yG"
      }
    },
    {
      "cell_type": "code",
      "source": [
        "!pip install wandb ml_collections\n",
        "!wandb login 8c920c1bbdcc7ee5353aaa8becd54a4942f0fc06"
      ],
      "metadata": {
        "colab": {
          "base_uri": "https://localhost:8080/"
        },
        "id": "vHxdWtkUkyEY",
        "outputId": "bd7ad1b8-e8ed-430a-fdef-e80a0eaa9532"
      },
      "execution_count": null,
      "outputs": [
        {
          "output_type": "stream",
          "name": "stdout",
          "text": [
            "Looking in indexes: https://pypi.org/simple, https://us-python.pkg.dev/colab-wheels/public/simple/\n",
            "Collecting wandb\n",
            "  Downloading wandb-0.13.3-py2.py3-none-any.whl (1.8 MB)\n",
            "\u001b[K     |████████████████████████████████| 1.8 MB 26.8 MB/s \n",
            "\u001b[?25hCollecting ml_collections\n",
            "  Downloading ml_collections-0.1.1.tar.gz (77 kB)\n",
            "\u001b[K     |████████████████████████████████| 77 kB 7.0 MB/s \n",
            "\u001b[?25hCollecting sentry-sdk>=1.0.0\n",
            "  Downloading sentry_sdk-1.9.8-py2.py3-none-any.whl (158 kB)\n",
            "\u001b[K     |████████████████████████████████| 158 kB 57.6 MB/s \n",
            "\u001b[?25hRequirement already satisfied: setuptools in /usr/local/lib/python3.7/dist-packages (from wandb) (57.4.0)\n",
            "Requirement already satisfied: promise<3,>=2.0 in /usr/local/lib/python3.7/dist-packages (from wandb) (2.3)\n",
            "Requirement already satisfied: Click!=8.0.0,>=7.0 in /usr/local/lib/python3.7/dist-packages (from wandb) (7.1.2)\n",
            "Collecting shortuuid>=0.5.0\n",
            "  Downloading shortuuid-1.0.9-py3-none-any.whl (9.4 kB)\n",
            "Requirement already satisfied: protobuf<4.0dev,>=3.12.0 in /usr/local/lib/python3.7/dist-packages (from wandb) (3.17.3)\n",
            "Requirement already satisfied: six>=1.13.0 in /usr/local/lib/python3.7/dist-packages (from wandb) (1.15.0)\n",
            "Requirement already satisfied: requests<3,>=2.0.0 in /usr/local/lib/python3.7/dist-packages (from wandb) (2.23.0)\n",
            "Collecting pathtools\n",
            "  Downloading pathtools-0.1.2.tar.gz (11 kB)\n",
            "Collecting GitPython>=1.0.0\n",
            "  Downloading GitPython-3.1.27-py3-none-any.whl (181 kB)\n",
            "\u001b[K     |████████████████████████████████| 181 kB 59.4 MB/s \n",
            "\u001b[?25hRequirement already satisfied: psutil>=5.0.0 in /usr/local/lib/python3.7/dist-packages (from wandb) (5.4.8)\n",
            "Collecting docker-pycreds>=0.4.0\n",
            "  Downloading docker_pycreds-0.4.0-py2.py3-none-any.whl (9.0 kB)\n",
            "Requirement already satisfied: PyYAML in /usr/local/lib/python3.7/dist-packages (from wandb) (6.0)\n",
            "Collecting setproctitle\n",
            "  Downloading setproctitle-1.3.2-cp37-cp37m-manylinux_2_5_x86_64.manylinux1_x86_64.manylinux_2_17_x86_64.manylinux2014_x86_64.whl (30 kB)\n",
            "Collecting gitdb<5,>=4.0.1\n",
            "  Downloading gitdb-4.0.9-py3-none-any.whl (63 kB)\n",
            "\u001b[K     |████████████████████████████████| 63 kB 1.4 MB/s \n",
            "\u001b[?25hRequirement already satisfied: typing-extensions>=3.7.4.3 in /usr/local/lib/python3.7/dist-packages (from GitPython>=1.0.0->wandb) (4.1.1)\n",
            "Collecting smmap<6,>=3.0.1\n",
            "  Downloading smmap-5.0.0-py3-none-any.whl (24 kB)\n",
            "Requirement already satisfied: urllib3!=1.25.0,!=1.25.1,<1.26,>=1.21.1 in /usr/local/lib/python3.7/dist-packages (from requests<3,>=2.0.0->wandb) (1.24.3)\n",
            "Requirement already satisfied: certifi>=2017.4.17 in /usr/local/lib/python3.7/dist-packages (from requests<3,>=2.0.0->wandb) (2022.6.15)\n",
            "Requirement already satisfied: idna<3,>=2.5 in /usr/local/lib/python3.7/dist-packages (from requests<3,>=2.0.0->wandb) (2.10)\n",
            "Requirement already satisfied: chardet<4,>=3.0.2 in /usr/local/lib/python3.7/dist-packages (from requests<3,>=2.0.0->wandb) (3.0.4)\n",
            "Collecting sentry-sdk>=1.0.0\n",
            "  Downloading sentry_sdk-1.9.7-py2.py3-none-any.whl (157 kB)\n",
            "\u001b[K     |████████████████████████████████| 157 kB 62.9 MB/s \n",
            "\u001b[?25h  Downloading sentry_sdk-1.9.6-py2.py3-none-any.whl (157 kB)\n",
            "\u001b[K     |████████████████████████████████| 157 kB 66.2 MB/s \n",
            "\u001b[?25h  Downloading sentry_sdk-1.9.5-py2.py3-none-any.whl (157 kB)\n",
            "\u001b[K     |████████████████████████████████| 157 kB 67.2 MB/s \n",
            "\u001b[?25h  Downloading sentry_sdk-1.9.4-py2.py3-none-any.whl (157 kB)\n",
            "\u001b[K     |████████████████████████████████| 157 kB 69.4 MB/s \n",
            "\u001b[?25h  Downloading sentry_sdk-1.9.3-py2.py3-none-any.whl (157 kB)\n",
            "\u001b[K     |████████████████████████████████| 157 kB 28.0 MB/s \n",
            "\u001b[?25h  Downloading sentry_sdk-1.9.2-py2.py3-none-any.whl (157 kB)\n",
            "\u001b[K     |████████████████████████████████| 157 kB 65.7 MB/s \n",
            "\u001b[?25h  Downloading sentry_sdk-1.9.1-py2.py3-none-any.whl (157 kB)\n",
            "\u001b[K     |████████████████████████████████| 157 kB 65.2 MB/s \n",
            "\u001b[?25h  Downloading sentry_sdk-1.9.0-py2.py3-none-any.whl (156 kB)\n",
            "\u001b[K     |████████████████████████████████| 156 kB 65.0 MB/s \n",
            "\u001b[?25hRequirement already satisfied: absl-py in /usr/local/lib/python3.7/dist-packages (from ml_collections) (1.2.0)\n",
            "Requirement already satisfied: contextlib2 in /usr/local/lib/python3.7/dist-packages (from ml_collections) (0.5.5)\n",
            "Building wheels for collected packages: ml-collections, pathtools\n",
            "  Building wheel for ml-collections (setup.py) ... \u001b[?25l\u001b[?25hdone\n",
            "  Created wheel for ml-collections: filename=ml_collections-0.1.1-py3-none-any.whl size=94524 sha256=84592b73922f27ef4727cc7c6b0d954e62bfc8c7e10dc09b4c76261ae36586bd\n",
            "  Stored in directory: /root/.cache/pip/wheels/b7/da/64/33c926a1b10ff19791081b705879561b715a8341a856a3bbd2\n",
            "  Building wheel for pathtools (setup.py) ... \u001b[?25l\u001b[?25hdone\n",
            "  Created wheel for pathtools: filename=pathtools-0.1.2-py3-none-any.whl size=8806 sha256=eafaf8947f709ff067f4202c62e7a3305fc29703137c15907b6644bc86fddbdd\n",
            "  Stored in directory: /root/.cache/pip/wheels/3e/31/09/fa59cef12cdcfecc627b3d24273699f390e71828921b2cbba2\n",
            "Successfully built ml-collections pathtools\n",
            "Installing collected packages: smmap, gitdb, shortuuid, setproctitle, sentry-sdk, pathtools, GitPython, docker-pycreds, wandb, ml-collections\n",
            "Successfully installed GitPython-3.1.27 docker-pycreds-0.4.0 gitdb-4.0.9 ml-collections-0.1.1 pathtools-0.1.2 sentry-sdk-1.9.0 setproctitle-1.3.2 shortuuid-1.0.9 smmap-5.0.0 wandb-0.13.3\n",
            "\u001b[34m\u001b[1mwandb\u001b[0m: Appending key for api.wandb.ai to your netrc file: /root/.netrc\n"
          ]
        }
      ]
    },
    {
      "cell_type": "code",
      "source": [
        "import torch\n",
        "from torch import nn\n",
        "from torch.utils.data import Dataset, DataLoader\n",
        "import os\n",
        "import numpy as np\n",
        "import json\n",
        "import tqdm\n",
        "from sklearn.model_selection import train_test_split\n",
        "import random\n",
        "import wandb\n",
        "from ml_collections import ConfigDict"
      ],
      "metadata": {
        "id": "VQLpSlH3lpMo"
      },
      "execution_count": null,
      "outputs": []
    },
    {
      "cell_type": "code",
      "source": [
        "cfg = ConfigDict()\n",
        "cfg.test_split = 0.2\n",
        "cfg.batch_size = 256\n",
        "cfg.task_0_lr = 1e-4\n",
        "cfg.task_1_lr = 5e-6\n",
        "cfg.residual_mlp_dropout_rate = 0.2\n",
        "cfg.task_0_weight_decay = 1e-5\n",
        "cfg.task_1_weight_decay = 2e-5\n",
        "cfg.samples_per_class = 25\n",
        "cfg.hidden_dims = 1024\n",
        "cfg.op = \"mul\"\n",
        "cfg.epochs = 25\n",
        "\n",
        "cfg.half_batch_size = cfg.batch_size // 2"
      ],
      "metadata": {
        "id": "_9oZCzdwlqlI"
      },
      "execution_count": null,
      "outputs": []
    },
    {
      "cell_type": "code",
      "source": [
        "\n",
        "\n",
        "def set_seed(seed):\n",
        "    random.seed(seed)\n",
        "    np.random.seed(seed)\n",
        "    torch.manual_seed(seed)\n",
        "    if torch.cuda.is_available():\n",
        "        torch.cuda.manual_seed_all(seed)\n",
        "\n",
        "set_seed(42)\n",
        "\n",
        "def accuracy(pred, true):\n",
        "    acc = np.sum((true == pred.argmax(-1)).astype(np.float32))\n",
        "    return float(100 * acc / len(true))\n",
        "\n",
        "def unbatch(half_batch):\n",
        "    \"\"\"\n",
        "    Unbatches a batch into list of examples.\n",
        "\n",
        "    Args:\n",
        "        batch: A batch of examples with the structure :\n",
        "        [torch.Tensor, torch.Tensor, torch.Tensor]\n",
        "\n",
        "    Returns:\n",
        "        list of unbatched examples: [[torch.Tensor, torch.Tensor, torch.Tensor], [torch.Tensor, torch.Tensor, torch.Tensor], [torch.Tensor, torch.Tensor, torch.Tensor]]\n",
        "\n",
        "    \"\"\"\n",
        "    list_of_examples = []\n",
        "\n",
        "    num_examples = len(half_batch[0])\n",
        "\n",
        "    for idx in range(num_examples):\n",
        "        list_of_examples.append([half_batch[0][idx], half_batch[1][idx], half_batch[2][idx]])\n",
        "\n",
        "    return list_of_examples\n",
        "\n",
        "\n",
        "def batch(list_of_examples):\n",
        "    \"\"\"\n",
        "    Batches unbatched examples into one\n",
        "\n",
        "    Args:\n",
        "        list_of_examples: list of unbatched examples: [[torch.Tensor, torch.Tensor, torch.Tensor], [torch.Tensor, torch.Tensor, torch.Tensor], [torch.Tensor, torch.Tensor, torch.Tensor]]\n",
        "\n",
        "    Returns:\n",
        "        A batch of examples with the structure :\n",
        "        [torch.Tensor, torch.Tensor, torch.Tensor]\n",
        "    \"\"\"\n",
        "    img_feats = []\n",
        "    q_feats = []\n",
        "    labels = []\n",
        "    for example in list_of_examples:\n",
        "        img_feats.append(example[0])\n",
        "        q_feats.append(example[1])\n",
        "        labels.append(example[2])\n",
        "\n",
        "    return torch.concat(img_feats), torch.concat(q_feats), torch.concat(labels)\n",
        "\n",
        "def hello():\n",
        "    print(\"hi\")\n",
        "\n",
        "def combine_batch_and_list(half_batch, list_of_examples):\n",
        "    for example in list_of_examples:\n",
        "        half_batch[0] = torch.concat([half_batch[0], example[0].unsqueeze(0)], dim=0)\n",
        "        half_batch[1] = torch.concat([half_batch[1], example[1].unsqueeze(0)], dim=0)\n",
        "        half_batch[2] = torch.concat([half_batch[2], example[2].unsqueeze(0)], dim=0)\n",
        "    return half_batch\n",
        "\n",
        "\n",
        "def get_train_val_splits(jsondict):\n",
        "    total = len(jsondict.keys())\n",
        "    train, val = train_test_split(list(jsondict.keys()), test_size=cfg.test_split)\n",
        "\n",
        "    print(len(train),len(val))\n",
        "\n",
        "    train_dict = dict()\n",
        "    val_dict = dict()\n",
        "    for i in train:\n",
        "        train_dict[str(i)] = jsondict[str(i)]\n",
        "    \n",
        "    for j in val:\n",
        "        val_dict[str(j)] = jsondict[str(j)]\n",
        "    \n",
        "    return train_dict, val_dict\n",
        "\n",
        "def get_uniq_image_ids(jsondict):\n",
        "    uniq_images = []\n",
        "    for key, example in jsondict.items():\n",
        "        if example[\"Image_ID\"] not in uniq_images:\n",
        "            uniq_images.append(example[\"Image_ID\"])\n",
        "    return uniq_images\n",
        "\n",
        "def get_questions_for_imageid(jsondict, imageid):\n",
        "    qs = dict()\n",
        "    for key, example in jsondict.items():\n",
        "        if example[\"Image_ID\"] == imageid:\n",
        "            qs[key] = example\n",
        "    return qs\n",
        "\n",
        "def get_train_val_splits_imagewise(jsondict):\n",
        "    train_dict = dict()\n",
        "    val_dict = dict()\n",
        "\n",
        "    uniq_images = get_uniq_image_ids(jsondict)\n",
        "    \n",
        "    train, val = train_test_split(uniq_images, test_size=0.2)\n",
        "\n",
        "    for imageid in train:\n",
        "        train_dict.update(get_questions_for_imageid(jsondict, imageid)) \n",
        "\n",
        "    for imageid in val:\n",
        "        val_dict.update(get_questions_for_imageid(jsondict, imageid))\n",
        "\n",
        "    return train_dict, val_dict\n",
        "\n",
        "def get_typewise_train_val_splits(train_dict, val_dict):\n",
        "    train_road_condition = dict()\n",
        "    train_yes_no = dict()\n",
        "    train_image_condition = dict()\n",
        "\n",
        "    counter = 0\n",
        "    for example in train_dict.values():\n",
        "        if example[\"Question_Type\"] == \"Yes_No\":\n",
        "            train_yes_no[str(counter)] = example\n",
        "            counter += 1\n",
        "        elif \"road\" in example[\"Question\"]:\n",
        "            train_road_condition[str(counter)] = example\n",
        "            counter += 1\n",
        "        elif \"overall\" in example[\"Question\"]:\n",
        "            train_image_condition[str(counter)] = example\n",
        "            counter += 1\n",
        "\n",
        "    val_road_condition = dict()\n",
        "    val_yes_no = dict()\n",
        "    val_image_condition = dict()\n",
        "\n",
        "    counter = 0\n",
        "    for example in val_dict.values():\n",
        "        if example[\"Question_Type\"] == \"Yes_No\":\n",
        "            val_yes_no[str(counter)] = example\n",
        "            counter += 1\n",
        "        elif \"road\" in example[\"Question\"]:\n",
        "            val_road_condition[str(counter)] = example\n",
        "            counter += 1\n",
        "        elif \"overall\" in example[\"Question\"]:\n",
        "            val_image_condition[str(counter)] = example\n",
        "            counter += 1\n",
        "\n",
        "    return [train_image_condition, train_road_condition, train_yes_no], [val_image_condition, val_road_condition, val_yes_no]\n",
        "\n",
        "def accuracy(pred, true):\n",
        "    acc = np.sum((true == pred.argmax(-1)).astype(np.float32))\n",
        "    return float(100 * acc / len(true))"
      ],
      "metadata": {
        "id": "b_tVFlm7Bzqw"
      },
      "execution_count": null,
      "outputs": []
    },
    {
      "cell_type": "markdown",
      "source": [
        "## Continual VQA"
      ],
      "metadata": {
        "id": "4BnUqVJcB7j9"
      }
    },
    {
      "cell_type": "code",
      "execution_count": null,
      "metadata": {
        "id": "nNCTCfFOdOun"
      },
      "outputs": [],
      "source": [
        "import torch\n",
        "from torch import nn\n",
        "from torch.utils.data import Dataset, DataLoader\n",
        "import os\n",
        "import numpy as np\n",
        "import json\n",
        "import tqdm\n",
        "from datetime import datetime\n",
        "from sklearn.model_selection import train_test_split\n",
        "from copy import deepcopy"
      ]
    },
    {
      "cell_type": "code",
      "source": [
        "import torch\n",
        "import random\n",
        "import numpy as np\n",
        "\n",
        "def set_seed(seed):\n",
        "    random.seed(seed)\n",
        "    np.random.seed(seed)\n",
        "    torch.manual_seed(seed)\n",
        "    if torch.cuda.is_available():\n",
        "        torch.cuda.manual_seed_all(seed)\n",
        "\n",
        "set_seed(42)"
      ],
      "metadata": {
        "id": "lwb-bWMnjYWb"
      },
      "execution_count": null,
      "outputs": []
    },
    {
      "cell_type": "code",
      "source": [
        "label_mapping = [\"flooded\", # condition\n",
        "\"non flooded\", # condition\n",
        "\"flooded,non flooded\", # condition\n",
        "\"Yes\", # yes/no\n",
        "\"No\", # yes/no\n",
        "] + list(map(str, range(0, 51))) # counting"
      ],
      "metadata": {
        "id": "CEavqtbHjZZh"
      },
      "execution_count": null,
      "outputs": []
    },
    {
      "cell_type": "code",
      "source": [
        "ORIGINAL_DATA_PATH = \"/content/drive/MyDrive/floodnet_data/\"\n",
        "RESNET_FEATURE_PATH = \"/content/drive/MyDrive/continual_floodnet_data/floodnet_resnet_features/\"\n",
        "CONVNEXT_FEATURE_PATH = \"/content/drive/MyDrive/continual_floodnet_data/floodnet_convnext_features/\"\n",
        "\n",
        "MODE = \"CONVNEXT\" # can be RESNET or CONVNEXT\n",
        "if MODE == \"RESNET\":\n",
        "    FEATURE_PATH = RESNET_FEATURE_PATH\n",
        "    IMG_FEAT_DIMS = 2048\n",
        "elif MODE == \"CONVNEXT\":\n",
        "    FEATURE_PATH = CONVNEXT_FEATURE_PATH\n",
        "    IMG_FEAT_DIMS = 1536\n",
        "else:\n",
        "    raise ValueError(f\"Mode must be one of `RESNET` or `CONVNEXT`, got {MODE}\")\n",
        "all_images_features = dict()\n",
        "for imagename in os.listdir(os.path.join(FEATURE_PATH, \"Images/Train_Image\")):\n",
        "    all_images_features[imagename.replace(\".pt\", \".JPG\")] = torch.load(os.path.join(os.path.join(FEATURE_PATH, \"Images/Train_Image\"), imagename))\n",
        "# 1234.JPG : torch.Tensor\n",
        "\n",
        "all_questions_features = dict()\n",
        "for imagename in os.listdir(os.path.join(FEATURE_PATH, \"Questions\")):\n",
        "    all_questions_features[imagename.replace(\".pt\", \"\").replace(\"_\", \"?\")] = torch.load(os.path.join(os.path.join(FEATURE_PATH, \"Questions\"), imagename))\n",
        "# \"what is the overall condition of this image?\": torch.Tensor\n"
      ],
      "metadata": {
        "id": "2wAw3y7_jbza"
      },
      "execution_count": null,
      "outputs": []
    },
    {
      "cell_type": "code",
      "source": [
        "class VQADataset(Dataset):\n",
        "    def __init__(self, qdict, label_mapping=label_mapping):\n",
        "        self.qdict = qdict\n",
        "        self.label_mapping = label_mapping\n",
        "        self.reset_index()\n",
        "\n",
        "    def reset_index(self):\n",
        "        new_qdict = dict()\n",
        "        for idx, value in enumerate(self.qdict.values()):\n",
        "            new_qdict[idx] = value\n",
        "        self.qdict = new_qdict\n",
        "\n",
        "    def __len__(self):\n",
        "        return len(self.qdict.keys())\n",
        "    \n",
        "    def __getitem__(self, idx):\n",
        "        # \"0\":{\"Image_ID\":\"10165.JPG\",\"Question\":\"What is the overall condition of the given image?\",\"Ground_Truth\":\"flooded\",\"Question_Type\":\"Condition_Recognition\"}\n",
        "        row = self.qdict[idx]\n",
        "        img_feat = all_images_features[row[\"Image_ID\"]]\n",
        "        q_feat = all_questions_features[row[\"Question\"]]\n",
        "        \n",
        "        return img_feat.float(), q_feat.squeeze().float(), self.label_mapping.index(str(row[\"Ground_Truth\"]))"
      ],
      "metadata": {
        "id": "DWYefBsupMgW"
      },
      "execution_count": null,
      "outputs": []
    },
    {
      "cell_type": "code",
      "source": [
        "print(all_questions_features)"
      ],
      "metadata": {
        "colab": {
          "base_uri": "https://localhost:8080/"
        },
        "id": "wKHrK2c9NfqO",
        "outputId": "e21f892e-4aa4-4c9b-e2ae-6ee95bf72099"
      },
      "execution_count": null,
      "outputs": [
        {
          "output_type": "stream",
          "name": "stdout",
          "text": [
            "{'What is the condition of the road in this image?': tensor([[ 0.1411,  0.6997,  0.4805,  ..., -0.0346,  0.3825, -0.3850]]), 'How many buildings are flooded?': tensor([[ 0.1581,  0.6904,  0.4658,  ...,  0.0075,  0.3707, -0.3965]]), 'How many buildings are in the image?': tensor([[ 0.1254,  0.7037,  0.4763,  ..., -0.0328,  0.3950, -0.3760]]), 'How many non flooded buildings can be seen in this image?': tensor([[ 0.1778,  0.6935,  0.5019,  ..., -0.0051,  0.3626, -0.3826]]), 'How many flooded buildings can be seen in this image?': tensor([[ 0.1676,  0.6941,  0.4887,  ..., -0.0123,  0.3558, -0.3945]]), 'How many buildings are non flooded?': tensor([[ 0.1624,  0.6911,  0.4680,  ..., -0.0013,  0.3891, -0.3861]]), 'Is the entire road non flooded?': tensor([[ 0.1393,  0.6994,  0.4554,  ..., -0.0285,  0.4102, -0.3997]]), 'What is the overall condition of the given image?': tensor([[ 0.1510,  0.6952,  0.4987,  ..., -0.0105,  0.3925, -0.3829]]), 'How many buildings can be seen in the image?': tensor([[ 0.1287,  0.7017,  0.4830,  ..., -0.0393,  0.3754, -0.3813]]), 'How many buildings can be seen in this image?': tensor([[ 0.1539,  0.6921,  0.4936,  ..., -0.0165,  0.3578, -0.3951]]), 'Is the entire road flooded?': tensor([[ 0.1450,  0.7011,  0.4531,  ..., -0.0247,  0.4086, -0.3958]]), 'How many buildings are flooded in this image?': tensor([[ 0.1663,  0.6914,  0.4937,  ..., -0.0060,  0.3609, -0.4083]]), 'How many buildings are non flooded in this image?': tensor([[ 0.1736,  0.6863,  0.4927,  ..., -0.0154,  0.3705, -0.4081]]), 'How many buildings are in this image?': tensor([[ 0.1468,  0.6908,  0.5002,  ..., -0.0130,  0.3657, -0.3991]]), 'What is the condition of road?': tensor([[ 0.1406,  0.6929,  0.4704,  ..., -0.0309,  0.4032, -0.3852]])}\n"
          ]
        }
      ]
    },
    {
      "cell_type": "code",
      "source": [
        "class ExperienceReplay:\n",
        "    def __init__(self, samples_per_class=10, num_classes=20, half_batch_size=8):\n",
        "        self.samples_per_class = samples_per_class\n",
        "        self.num_classes = num_classes\n",
        "        self.half_batch_size = half_batch_size\n",
        "\n",
        "        self.memory_size = self.samples_per_class * self.num_classes\n",
        "\n",
        "        self.memory =  [[] for _ in range(self.num_classes)]\n",
        "        self.classes_filled = [0] * self.num_classes\n",
        "        self.average_features = [[] for _ in range(self.num_classes)]\n",
        "        self.distance_values = [[] for _ in range(self.num_classes)]\n",
        "        self.avg_alpha = 0.7\n",
        "\n",
        "    def multiply_example(self, factor, example):\n",
        "        return [\n",
        "            factor * example[0],\n",
        "            factor * example[1],\n",
        "            example[2]\n",
        "        ]\n",
        "\n",
        "    def update_memory(self, current_batch, elapsed_examples=0):\n",
        "        list_of_examples = unbatch(current_batch)\n",
        "\n",
        "        for ll in range(len(list_of_examples)):\n",
        "            example_label = list_of_examples[ll][2].item()\n",
        "            if len(self.memory[example_label]) >= self.samples_per_class:\n",
        "                self.average_features[example_label] = self.avg_alpha * self.average_features[example_label] + (1 - self.avg_alpha) * list_of_examples[ll][0]\n",
        "                distance = np.linalg.norm((list_of_examples[ll][0] - self.average_features[example_label]))\n",
        "                max_distance = max(self.distance_values[example_label])\n",
        "                if distance < max_distance:\n",
        "                    f = lambda i: self.distance_values[example_label][i]\n",
        "                    index_max_distance = max(range(len(self.distance_values[example_label])), key=f)\n",
        "\n",
        "                    self.memory[example_label][index_max_distance] = list_of_examples[ll]\n",
        "                    self.distance_values[example_label][index_max_distance] = distance\n",
        "\n",
        "            else:\n",
        "                if self.classes_filled[example_label] == 0:\n",
        "                    self.average_features[example_label] = list_of_examples[ll][0]\n",
        "                else:\n",
        "                    self.average_features[example_label] = self.multiply_example(self.avg_alpha, self.average_features[example_label]) + self.multiply_example(1. - self.avg_alpha, list_of_examples[ll][0])\n",
        "                self.memory[example_label].append(list_of_examples[ll])\n",
        "                distance = np.linalg.norm((list_of_examples[ll][0] - self.average_features[example_label]))\n",
        "                self.distance_values[example_label].append(distance)\n",
        "\n",
        "        return None\n",
        "\n",
        "    def get_from_memory(self, num_samples):\n",
        "        drawn_samples = []\n",
        "\n",
        "        if sum(self.classes_filled) < num_samples:\n",
        "            mem_filled = [idx for idx, val in enumerate(self.classes_filled) if val != 0]\n",
        "            for mm in mem_filled:\n",
        "                drawn_samples += self.memory[mm]\n",
        "        elif sum(self.classes_filled) >= self.mem_batch_size:\n",
        "            mem_filled = [idx for idx, val in enumerate(self.classes_filled) if val != 0]\n",
        "            for mm in range(self.mem_batch_size):\n",
        "                mem_index = random.choice(mem_filled)\n",
        "                temp_index = random.randint(0, self.classes_filled[mem_index] - 1)\n",
        "                drawn_samples.append(self.memory[mem_index][temp_index])\n",
        "\n",
        "        return drawn_samples\n"
      ],
      "metadata": {
        "id": "T3rvMrSBsWcc"
      },
      "execution_count": null,
      "outputs": []
    },
    {
      "cell_type": "code",
      "source": [
        "# train_ds = VQADataset(train_tasks[0])\n",
        "# for i in train_ds:\n",
        "#     print(i)\n",
        "#     print(i[0].shape, i[1].shape)\n",
        "#     break"
      ],
      "metadata": {
        "id": "OPGmBekzM5Yl"
      },
      "execution_count": null,
      "outputs": []
    },
    {
      "cell_type": "markdown",
      "source": [
        "## VQA"
      ],
      "metadata": {
        "id": "AXk5Sa49JZHw"
      }
    },
    {
      "cell_type": "code",
      "source": [
        "class Residual(nn.Module):\n",
        "    def __init__(self, fn):\n",
        "        super().__init__()\n",
        "        self.fn = fn\n",
        "    \n",
        "    def forward(self, x):\n",
        "        return x + self.fn(x)\n",
        "\n",
        "class ResidualMLPBlock(nn.Module):\n",
        "    def __init__(self, hidden_dims, num_blocks=4):\n",
        "        super().__init__()\n",
        "        self.num_blocks = num_blocks\n",
        "        self.hidden_dims = hidden_dims\n",
        "        self.resblocks = list()\n",
        "        self.resblocks = nn.Sequential(\n",
        "                    *[Residual(\n",
        "                        nn.Sequential(\n",
        "                                nn.Linear(self.hidden_dims, 512),\n",
        "                                nn.Dropout(p=cfg.residual_mlp_dropout_rate),\n",
        "                                nn.Linear(512, 256),\n",
        "                                nn.Linear(256, 512),\n",
        "                                nn.Dropout(p=cfg.residual_mlp_dropout_rate),\n",
        "                                nn.Linear(512, self.hidden_dims)\n",
        "                            )\n",
        "                        ) for block_idx in range(self.num_blocks)]\n",
        "        )\n",
        "    def forward(self, inputs):\n",
        "        return self.resblocks(inputs)"
      ],
      "metadata": {
        "id": "gp-U6_s0YMae"
      },
      "execution_count": null,
      "outputs": []
    },
    {
      "cell_type": "code",
      "source": [
        "class VQAModel(nn.Module):\n",
        "    def __init__(self, op=\"cat\", out_classes=5): # `op` can be one of `cat`, `add`, `mul`\n",
        "        super().__init__()\n",
        "        self.op = op\n",
        "        if self.op == \"add\" or \"mul\":\n",
        "            self.image = nn.Sequential(\n",
        "                nn.Linear(in_features=IMG_FEAT_DIMS, out_features=1024),\n",
        "                nn.Dropout(p=0.2),\n",
        "                nn.Linear(in_features=1024, out_features=512)   \n",
        "                )\n",
        "            self.txt = nn.Linear(in_features=1024, out_features=512)\n",
        "            self.linstack1 = nn.Sequential(\n",
        "                nn.Linear(in_features=512, out_features=256),\n",
        "                nn.Dropout(p=0.2),\n",
        "                nn.Linear(in_features=256, out_features=128)\n",
        "            )\n",
        "            self.linstack2 = deepcopy(self.linstack1)\n",
        "            self.linstack3 = deepcopy(self.linstack1)\n",
        "            self.cls = nn.Linear(in_features=128 * 3, out_features=out_classes)\n",
        "\n",
        "        elif self.op == \"cat\":\n",
        "            self.image = nn.Identity()\n",
        "            self.text = nn.Identity()\n",
        "            self.linstack1 = nn.Sequential(\n",
        "                nn.Linear(in_features=2560, out_features=1024), # 2560 = 1024 (text) + 1536 (image)\n",
        "                nn.Dropout(p=0.2),\n",
        "                nn.Linear(in_features=1024, out_features=512),\n",
        "                nn.Dropout(p=0.2),\n",
        "                nn.Linear(in_features=512, out_features=256),\n",
        "                nn.Linear(in_features=256, out_features=128),\n",
        "                \n",
        "            )\n",
        "            self.linstack2 = deepcopy(self.linstack1)\n",
        "            self.linstack3 = deepcopy(self.linstack1)\n",
        "            self.cls = nn.Linear(in_features=128 * 3, out_features=out_classes)\n",
        "        else:\n",
        "            raise ValueError(f\"`op` must be one of `cat`, `add`, `mul`. Got {op}\")\n",
        "    \n",
        "    def forward(self, batch):\n",
        "        if self.op == \"cat\":\n",
        "            x = torch.concat([batch[0], batch[1]], dim=-1)\n",
        "            x1 = self.linstack1(x)\n",
        "            x2 = self.linstack2(x)\n",
        "            x3 = self.linstack3(x)\n",
        "            x = torch.concat([x1, x2, x3], dim=-1)\n",
        "            return self.cls(x)\n",
        "        elif self.op == \"add\":\n",
        "            img = self.image(batch[0])\n",
        "            txt = self.txt(batch[1])\n",
        "            x = img + txt\n",
        "            # vec = torch.dot(img, txt) # check if they are 1-d tensors\n",
        "            x1 = self.linstack1(x)\n",
        "            x2 = self.linstack2(x)\n",
        "            x3 = self.linstack3(x)\n",
        "            x = torch.concat([x1, x2, x3], dim=-1)\n",
        "\n",
        "            return self.cls(x)\n",
        "        elif self.op == \"mul\":\n",
        "            img = self.image(batch[0])\n",
        "            txt = self.txt(batch[1])\n",
        "            x = img * txt\n",
        "            # vec = torch.dot(img, txt) # check if they are 1-d tensors\n",
        "            x1 = self.linstack1(x)\n",
        "            x2 = self.linstack2(x)\n",
        "            x3 = self.linstack3(x)\n",
        "            x = torch.concat([x1, x2, x3], dim=-1)\n",
        "            return self.cls(x)\n",
        "\n",
        "class VQAResidualMLPModel(nn.Module):\n",
        "    def __init__(self, op=\"cat\", out_classes=5, hidden_dims=512, device=None):\n",
        "        super().__init__()\n",
        "        self.op = op\n",
        "        if self.op == \"add\" or \"mul\":\n",
        "            self.image = nn.Sequential(\n",
        "                nn.Linear(in_features=IMG_FEAT_DIMS, out_features=1024),\n",
        "                nn.Dropout(p=0.2),\n",
        "                nn.Linear(in_features=1024, out_features=hidden_dims)   \n",
        "                )\n",
        "            self.txt = nn.Linear(in_features=1024, out_features=hidden_dims)\n",
        "\n",
        "            self.linstack1 = ResidualMLPBlock(hidden_dims=hidden_dims)\n",
        "            self.linstack2 = ResidualMLPBlock(hidden_dims=hidden_dims)\n",
        "            self.linstack3 = ResidualMLPBlock(hidden_dims=hidden_dims)\n",
        "            self.cls = nn.Linear(in_features=hidden_dims * 3, out_features=out_classes)\n",
        "\n",
        "        elif self.op == \"cat\":\n",
        "            self.image = nn.Identity()\n",
        "            self.text = nn.Identity()\n",
        "            self.linstack1 = nn.Sequential( \n",
        "                nn.Linear(in_features=2560, out_features=hidden_dims),\n",
        "                ResidualMLPBlock(hidden_dims=hidden_dims),  \n",
        "            )\n",
        "            self.linstack2 = nn.Sequential( \n",
        "                nn.Linear(in_features=2560, out_features=hidden_dims),\n",
        "                ResidualMLPBlock(hidden_dims=hidden_dims),  \n",
        "            )\n",
        "            self.linstack3 = nn.Sequential( \n",
        "                nn.Linear(in_features=2560, out_features=hidden_dims),\n",
        "                ResidualMLPBlock(hidden_dims=hidden_dims),  \n",
        "            )\n",
        "            self.cls = nn.Linear(in_features=hidden_dims * 3, out_features=out_classes)\n",
        "        else:\n",
        "            raise ValueError(f\"`op` must be one of `cat`, `add`, `mul`. Got {op}\")\n",
        "        self.linstack1 = self.linstack1.to(device)\n",
        "        self.linstack2 = self.linstack2.to(device)\n",
        "        self.linstack3 = self.linstack3.to(device)\n",
        "        \n",
        "    \n",
        "    def forward(self, batch):\n",
        "        \n",
        "        if self.op == \"cat\":\n",
        "            x = torch.concat([batch[0], batch[1]], dim=-1)\n",
        "            x1 = self.linstack1(x)\n",
        "            x2 = self.linstack2(x)\n",
        "            x3 = self.linstack3(x)\n",
        "            x = torch.concat([x1, x2, x3], dim=-1)\n",
        "            return self.cls(x)\n",
        "        elif self.op == \"add\":\n",
        "            img = self.image(batch[0])\n",
        "            txt = self.txt(batch[1])\n",
        "            x = img + txt\n",
        "            # vec = torch.dot(img, txt) # check if they are 1-d tensors\n",
        "            x1 = self.linstack1(x)\n",
        "            x2 = self.linstack2(x)\n",
        "            x3 = self.linstack3(x)\n",
        "            x = torch.concat([x1, x2, x3], dim=-1)\n",
        "\n",
        "            return self.cls(x)\n",
        "        elif self.op == \"mul\":\n",
        "            img = self.image(batch[0])\n",
        "            txt = self.txt(batch[1])\n",
        "            x = img * txt\n",
        "            # vec = torch.dot(img, txt) # check if they are 1-d tensors\n",
        "            x1 = self.linstack1(x)\n",
        "            x2 = self.linstack2(x)\n",
        "            x3 = self.linstack3(x)\n",
        "            x = torch.concat([x1, x2, x3], dim=-1)\n",
        "            return self.cls(x)"
      ],
      "metadata": {
        "id": "1YKkOuy9HIH2"
      },
      "execution_count": null,
      "outputs": []
    },
    {
      "cell_type": "code",
      "source": [],
      "metadata": {
        "id": "VoZFA4rIjdXo"
      },
      "execution_count": null,
      "outputs": []
    },
    {
      "cell_type": "code",
      "source": [
        "for task_order in [\n",
        "    \"yesno imagecondition roadcondition\",\n",
        "    \"yesno roadcondition imagecondition\",\n",
        "    \"imagecondition yesno roadcondition\",\n",
        "    \"imagecondition roadcondition yesno\",\n",
        "    \"roadcondition yesno imagecondition\",\n",
        "    \"roadcondition imagecondition yesno\"\n",
        "]:\n",
        "    qdict = json.load(open(\"/content/drive/MyDrive/floodnet_data/Questions/Training Question.json\", \"r\"))\n",
        "\n",
        "    train_dict, val_dict = get_train_val_splits_imagewise(qdict)\n",
        "    train_tasks, val_tasks = get_typewise_train_val_splits(train_dict, val_dict)\n",
        "\n",
        "    cfg.task_order = task_order\n",
        "    new_train_tasks = []\n",
        "    new_val_tasks = []\n",
        "\n",
        "    # \"yes_no image_condition road_condition\"\n",
        "    # [train_image_condition, train_road_condition, train_yes_no]\n",
        "    for task_name in cfg.task_order.split():\n",
        "        if task_name == \"yesno\":\n",
        "            new_train_tasks.append(train_tasks[2])\n",
        "            new_val_tasks.append(val_tasks[2])\n",
        "        elif task_name == \"imagecondition\":\n",
        "            new_train_tasks.append(train_tasks[0])\n",
        "            new_val_tasks.append(val_tasks[0])\n",
        "        elif task_name == \"roadcondition\":\n",
        "            new_train_tasks.append(train_tasks[1])\n",
        "            new_val_tasks.append(val_tasks[1])\n",
        "\n",
        "    train_tasks = new_train_tasks\n",
        "    val_tasks = new_val_tasks\n",
        "\n",
        "    val_preserve = deepcopy(val_tasks)\n",
        "\n",
        "    # print(val_tasks[2])\n",
        "\n",
        "    # Make continual\n",
        "    val_tasks[2].update(val_tasks[1])\n",
        "    val_tasks[2].update(val_tasks[0])\n",
        "    val_tasks[1].update(val_tasks[0])\n",
        "\n",
        "    device = torch.device(\"cuda\" if torch.cuda.is_available() else \"cpu\")\n",
        "\n",
        "    model = VQAResidualMLPModel(op=cfg.op, hidden_dims=cfg.hidden_dims, out_classes=5, device=device)\n",
        "\n",
        "    for child in model.children():\n",
        "        child.to(device)\n",
        "\n",
        "    model.to(device)\n",
        "\n",
        "    loss_fn = nn.CrossEntropyLoss()\n",
        "\n",
        "    exp_replay = ExperienceReplay(samples_per_class=cfg.samples_per_class, num_classes=5, half_batch_size=cfg.half_batch_size)\n",
        "\n",
        "    NUM_TASKS = 3\n",
        "    counter = 0\n",
        "    EPOCHS = cfg.epochs\n",
        "\n",
        "    # reimport_utils()\n",
        "    now = datetime.now()\n",
        "    timestr = now.strftime(\"%d_%m_%Hh%Mm%Ss\")\n",
        "\n",
        "    run_name = \"_\".join([\"meanoffeatures\",cfg.task_order.replace(\" \", \"_\"), timestr, model.op])\n",
        "\n",
        "    wandb.init(project=\"continual_vqa_final\", entity=\"compyle\", name=run_name, config=cfg.to_dict())\n",
        "\n",
        "    for tasknum in range(NUM_TASKS):\n",
        "        \n",
        "        os.makedirs(f\"./ckpts/{timestr}\", exist_ok=True)\n",
        "        train_dl = DataLoader(VQADataset(train_tasks[tasknum]), batch_size=cfg.half_batch_size, shuffle=True, num_workers=4)\n",
        "        val_dl = DataLoader(VQADataset(val_tasks[tasknum]), batch_size=cfg.half_batch_size, shuffle=True, num_workers=4)\n",
        "\n",
        "        previous_tasks_dl = []\n",
        "        for prevtasknum in range(tasknum + 1):\n",
        "            previous_tasks_dl.append(DataLoader(VQADataset(val_preserve[prevtasknum]), batch_size=cfg.half_batch_size, shuffle=True, num_workers=4))\n",
        "\n",
        "\n",
        "        if tasknum == 0:\n",
        "            optimizer = torch.optim.Adam(model.parameters(), lr=cfg.task_0_lr, weight_decay=cfg.task_0_weight_decay)\n",
        "        elif tasknum == 1:\n",
        "            optimizer = torch.optim.Adam(model.parameters(), lr=cfg.task_1_lr, weight_decay=cfg.task_1_weight_decay)\n",
        "\n",
        "        for epoch in range(EPOCHS):\n",
        "            print(f\"########## Epoch {epoch}\")\n",
        "            model.train()\n",
        "            optimizer.zero_grad()\n",
        "            \n",
        "            epoch_loss = []\n",
        "            epoch_acc = []\n",
        "            \n",
        "            val_loss = []\n",
        "            val_acc = []\n",
        "\n",
        "            for batch in tqdm.tqdm(train_dl):\n",
        "                preserved_batch = deepcopy(batch)\n",
        "                if tasknum > 0:\n",
        "                    batch = combine_batch_and_list(\n",
        "                        batch, exp_replay.get_from_memory(cfg.half_batch_size)\n",
        "                    )\n",
        "\n",
        "                batch = [elem.to(device) for elem in batch]\n",
        "                \n",
        "                outputs = model(batch)\n",
        "                loss = loss_fn(outputs, batch[2])\n",
        "                loss.backward()\n",
        "                optimizer.step()\n",
        "                optimizer.zero_grad()\n",
        "                \n",
        "                acc = accuracy(outputs.detach().cpu().numpy(), batch[2].detach().cpu().numpy())\n",
        "                \n",
        "                epoch_loss.append(loss.detach().cpu().numpy())\n",
        "                epoch_acc.append(acc)\n",
        "                if epoch == EPOCHS - 1:\n",
        "                    counter += len(batch[2])\n",
        "\n",
        "            if epoch == EPOCHS - 1:\n",
        "                exp_replay.update_memory(preserved_batch, elapsed_examples=counter)\n",
        "\n",
        "            model.eval()\n",
        "            with torch.no_grad():\n",
        "                for batch in tqdm.tqdm(val_dl):\n",
        "                    batch = [elem.to(device) for elem in batch]\n",
        "        #             batch[0] = tr(batch[0])\n",
        "                    outputs = model(batch)\n",
        "                    loss = loss_fn(outputs, batch[2])\n",
        "            \n",
        "                    acc = accuracy(outputs.detach().cpu().numpy(), batch[2].detach().cpu().numpy())\n",
        "\n",
        "                    val_loss.append(loss.detach().cpu().numpy())\n",
        "                    val_acc.append(acc)\n",
        "            \n",
        "            \n",
        "            # torch.save(model.state_dict(), f\"./ckpts/{timestr}/vqa_{tasknum}_{epoch}.pt\")\n",
        "\n",
        "            metrics_dict =  {\n",
        "                    f\"task_{tasknum}_train_loss\": np.mean(epoch_loss),\n",
        "                    f\"task_{tasknum}_val_loss\": np.mean(val_loss),\n",
        "                    f\"task_{tasknum}_train_acc\": np.mean(epoch_acc),\n",
        "                    f\"task_{tasknum}_val_acc\": np.mean(val_acc),\n",
        "                }\n",
        "\n",
        "            print(f\"Train loss: {np.mean(epoch_loss)}\", end=\"\\t\")\n",
        "            print(f\"Val loss: {np.mean(val_loss)}\", end=\"\\t\")\n",
        "            print(f\"Train acc: {np.mean(epoch_acc)}\", end=\"\\t\")\n",
        "            print(f\"Val acc: {np.mean(val_acc)}\")\n",
        "\n",
        "            model.eval()\n",
        "            for prevtasknum in range(tasknum + 1):\n",
        "                val_loss = []\n",
        "                val_acc = []\n",
        "\n",
        "                with torch.no_grad():\n",
        "                    for batch in tqdm.tqdm(previous_tasks_dl[prevtasknum]):\n",
        "                        batch = [elem.to(device) for elem in batch]\n",
        "                        outputs = model(batch)\n",
        "                        loss = loss_fn(outputs, batch[2])\n",
        "                \n",
        "                        acc = accuracy(outputs.detach().cpu().numpy(), batch[2].detach().cpu().numpy())\n",
        "\n",
        "                        val_loss.append(loss.detach().cpu().numpy())\n",
        "                        val_acc.append(acc)\n",
        "                \n",
        "                metrics_dict[f\"task_{tasknum}_prevtask_{prevtasknum}_val_acc\"] = np.mean(val_acc)\n",
        "                metrics_dict[f\"task_{tasknum}_prevtask_{prevtasknum}_val_loss\"] = np.mean(val_loss)\n",
        "\n",
        "\n",
        "            wandb.log(metrics_dict)\n",
        "    wandb.finish()\n",
        "        # print(f\"Train loss: {np.mean(epoch_loss)}\", end=\"\\t\")\n",
        "        # print(f\"Val loss: {np.mean(val_loss)}\", end=\"\\t\")\n",
        "        # print(f\"Train acc: {np.mean(epoch_acc)}\", end=\"\\t\")\n",
        "        # print(f\"Val acc: {np.mean(val_acc)}\") \n",
        "        # wandb.log(\n",
        "        #     {\n",
        "        #         f\"task_{tasknum}_train_loss\": np.mean(epoch_loss),\n",
        "        #         f\"task_{tasknum}_val_loss\": np.mean(val_loss),\n",
        "        #         f\"task_{tasknum}_train_acc\": np.mean(epoch_acc),\n",
        "        #         f\"task_{tasknum}_val_acc\": np.mean(val_acc),\n",
        "        #     }\n",
        "        # )\n"
      ],
      "metadata": {
        "colab": {
          "base_uri": "https://localhost:8080/",
          "height": 1000,
          "referenced_widgets": [
            "513775e80be4434280606bb77a3c9ac7",
            "2d482f481c124713b1010c3452e9c224",
            "ffcc4f79c7a6499eb4c4615cff743217",
            "36c5134692a34e04981c96882d308e9c",
            "49ac26be6d45450bba79c528cf56cd33",
            "1cf48fa1ea8b45c196734104df9e7206",
            "fcdaad23e01c4f3a8e31462fdfc48f89",
            "f1b816ee28754eb2b7ce4482ea1d0d5d",
            "3ef709c73b2d4fc6a48c354ba18acf30",
            "1f52f6720eac4c649e0355eb93f78a7a",
            "5948c26445344e2b8ec7390a39541069",
            "d3a7d2568a414f87b34877bbcc1d2dfe",
            "2d2e0fe8cee544488442cca0e79df46c",
            "9877a5ad898545719947910261c78cbd",
            "c076b8c60565412fa84872814fb3e56e",
            "b76b2d138c0e4768a9f72130dd8f036b",
            "c3bb978f3bf545bf94ddae3791598ff8",
            "da6e548847794e6d8948838457a0a6b1",
            "6015e552a6ed454ca6f7a0a20fb671e3",
            "7dcc8131a7df40ff8760a8df92ddf84f",
            "680a3bfb716646b7a9d9fb8fe7be2aea",
            "8290d480bf3b45b08cea4d48dea3289a",
            "9d9419eb2e2f4fd9b9b655bfe2578723",
            "d4de3f1c677f42da849ca325608cf875",
            "a0ae7aa7021e40c285db1b39540d982c",
            "217556fbd1614bf4a4761bc8df329ee9",
            "a94e638fbe39477d9071e7468647792d",
            "33c96b523cbd4bf2af4a72e803729ef3",
            "d825e01e6848465794265844bc0c155c",
            "95c5f7499fc9409f9823f7508ebe0ba1",
            "347789819074476990d250d597d79b80",
            "a6e1f9b64bfd40f980c55381f3d63634",
            "3803b6651ed84dd1b7918496dac49dc8",
            "620c271e057347cea53a7d0c2f9eaf68",
            "3703cb61aa844527878b65616683503a",
            "3143f63f412b484f885f8df1b598dac4",
            "24d71fadb85e497db24361583cc87a34",
            "b99ca5722daa49e8a472ca52a57e9847",
            "cd2a01a5fe834acbb46fb110dd1b8a96",
            "38b86045da934b829f8398997904eb47",
            "0af96011a093486fac3282eb1de49659",
            "285b4c88a8d44d34a6bd8dfd708f957a",
            "a05a00743f334685bda1ec95709b36ae",
            "c8426e0292314428ad59e96d3c8b8816",
            "231e6e4f005e4ed0871c711245c4e87c",
            "b16b3825af644022a03d43a1863f9a47",
            "35bd2034c250488ca6eaf69ab3c0a530",
            "e72aecb8b5494506ac0292b37368bf2a",
            "2f13080918034350939cf36820379982",
            "388004e4f1524009861a94eee4d51f90",
            "ad183859c2d248b7896b4676a5cdd1fe",
            "bd94b049635445728d43412fc1949bb7",
            "3e4a86a59f8d4c98af524c91462f8293",
            "52f4dfde645643cfa87263d1558f928d",
            "aa7c6ab1bb7a46ee8253d1f6e9aca9f4",
            "c643e50c4c5f42a5ab6e80f107f58105"
          ]
        },
        "id": "D3hSQaQmG6pN",
        "outputId": "27840a99-d4d9-4e3c-c773-530e10467b35"
      },
      "execution_count": null,
      "outputs": [
        {
          "output_type": "display_data",
          "data": {
            "text/plain": [
              "<IPython.core.display.HTML object>"
            ],
            "text/html": [
              "Finishing last run (ID:1tj83hsp) before initializing another..."
            ]
          },
          "metadata": {}
        },
        {
          "output_type": "display_data",
          "data": {
            "text/plain": [
              "<IPython.core.display.HTML object>"
            ],
            "text/html": [
              "Waiting for W&B process to finish... <strong style=\"color:green\">(success).</strong>"
            ]
          },
          "metadata": {}
        },
        {
          "output_type": "display_data",
          "data": {
            "text/plain": [
              "VBox(children=(Label(value='0.000 MB of 0.000 MB uploaded (0.000 MB deduped)\\r'), FloatProgress(value=1.0, max…"
            ],
            "application/vnd.jupyter.widget-view+json": {
              "version_major": 2,
              "version_minor": 0,
              "model_id": "513775e80be4434280606bb77a3c9ac7"
            }
          },
          "metadata": {}
        },
        {
          "output_type": "display_data",
          "data": {
            "text/plain": [
              "<IPython.core.display.HTML object>"
            ],
            "text/html": [
              "<style>\n",
              "    table.wandb td:nth-child(1) { padding: 0 10px; text-align: left ; width: auto;} td:nth-child(2) {text-align: left ; width: 100%}\n",
              "    .wandb-row { display: flex; flex-direction: row; flex-wrap: wrap; justify-content: flex-start; width: 100% }\n",
              "    .wandb-col { display: flex; flex-direction: column; flex-basis: 100%; flex: 1; padding: 10px; }\n",
              "    </style>\n",
              "<div class=\"wandb-row\"><div class=\"wandb-col\"><h3>Run history:</h3><br/><table class=\"wandb\"><tr><td>task_0_prevtask_0_val_acc</td><td>▂▂▂▂▃▁▁▃▃▃▃▄▃▂▃▄▄▅▃▅▆█▆▆</td></tr><tr><td>task_0_prevtask_0_val_loss</td><td>▂▂▃▄▃▃▂▂▂▃▃▃▄▆▅▄▄▃█▄▂▁▂▄</td></tr><tr><td>task_0_train_acc</td><td>▁▂▂▃▂▃▄▄▄▄▅▅▅▆▅▆▆▆▆▅▆▇██</td></tr><tr><td>task_0_train_loss</td><td>█▅▅▅▅▅▅▄▄▄▄▄▄▃▄▃▃▃▃▃▃▂▁▁</td></tr><tr><td>task_0_val_acc</td><td>▂▂▂▂▃▂▂▂▃▁▃▂▃▂▂▃▄▄▂▅▅█▆▅</td></tr><tr><td>task_0_val_loss</td><td>▂▂▂▃▃▃▂▂▃▃▄▄▄▅▅▅▆▅█▅▂▁▂▅</td></tr></table><br/></div><div class=\"wandb-col\"><h3>Run summary:</h3><br/><table class=\"wandb\"><tr><td>task_0_prevtask_0_val_acc</td><td>68.08308</td></tr><tr><td>task_0_prevtask_0_val_loss</td><td>0.81021</td></tr><tr><td>task_0_train_acc</td><td>91.19522</td></tr><tr><td>task_0_train_loss</td><td>0.22834</td></tr><tr><td>task_0_val_acc</td><td>66.4253</td></tr><tr><td>task_0_val_loss</td><td>0.81734</td></tr></table><br/></div></div>"
            ]
          },
          "metadata": {}
        },
        {
          "output_type": "display_data",
          "data": {
            "text/plain": [
              "<IPython.core.display.HTML object>"
            ],
            "text/html": [
              "Synced <strong style=\"color:#cdcd00\">meanoffeatures_yesno_imagecondition_roadcondition_21_09_05h09m39s_mul</strong>: <a href=\"https://wandb.ai/compyle/continual_vqa_final/runs/1tj83hsp\" target=\"_blank\">https://wandb.ai/compyle/continual_vqa_final/runs/1tj83hsp</a><br/>Synced 5 W&B file(s), 0 media file(s), 0 artifact file(s) and 0 other file(s)"
            ]
          },
          "metadata": {}
        },
        {
          "output_type": "display_data",
          "data": {
            "text/plain": [
              "<IPython.core.display.HTML object>"
            ],
            "text/html": [
              "Find logs at: <code>./wandb/run-20220921_050939-1tj83hsp/logs</code>"
            ]
          },
          "metadata": {}
        },
        {
          "output_type": "display_data",
          "data": {
            "text/plain": [
              "<IPython.core.display.HTML object>"
            ],
            "text/html": [
              "Successfully finished last run (ID:1tj83hsp). Initializing new run:<br/>"
            ]
          },
          "metadata": {}
        },
        {
          "output_type": "display_data",
          "data": {
            "text/plain": [
              "<IPython.core.display.HTML object>"
            ],
            "text/html": [
              "Tracking run with wandb version 0.13.3"
            ]
          },
          "metadata": {}
        },
        {
          "output_type": "display_data",
          "data": {
            "text/plain": [
              "<IPython.core.display.HTML object>"
            ],
            "text/html": [
              "Run data is saved locally in <code>/content/wandb/run-20220921_051049-s4epq1xn</code>"
            ]
          },
          "metadata": {}
        },
        {
          "output_type": "display_data",
          "data": {
            "text/plain": [
              "<IPython.core.display.HTML object>"
            ],
            "text/html": [
              "Syncing run <strong><a href=\"https://wandb.ai/compyle/continual_vqa_final/runs/s4epq1xn\" target=\"_blank\">meanoffeatures_yesno_imagecondition_roadcondition_21_09_05h10m49s_mul</a></strong> to <a href=\"https://wandb.ai/compyle/continual_vqa_final\" target=\"_blank\">Weights & Biases</a> (<a href=\"https://wandb.me/run\" target=\"_blank\">docs</a>)<br/>"
            ]
          },
          "metadata": {}
        },
        {
          "output_type": "stream",
          "name": "stderr",
          "text": [
            "/usr/local/lib/python3.7/dist-packages/torch/utils/data/dataloader.py:566: UserWarning: This DataLoader will create 4 worker processes in total. Our suggested max number of worker in current system is 2, which is smaller than what this DataLoader is going to create. Please be aware that excessive worker creation might get DataLoader running slow or even freeze, lower the worker number to avoid potential slowness/freeze if necessary.\n",
            "  cpuset_checked))\n"
          ]
        },
        {
          "output_type": "stream",
          "name": "stdout",
          "text": [
            "########## Epoch 0\n"
          ]
        },
        {
          "output_type": "stream",
          "name": "stderr",
          "text": [
            "100%|██████████| 6/6 [00:00<00:00, 12.16it/s]\n",
            "100%|██████████| 2/2 [00:00<00:00,  6.72it/s]\n"
          ]
        },
        {
          "output_type": "stream",
          "name": "stdout",
          "text": [
            "Train loss: 1.0142470598220825\tVal loss: 0.7002467513084412\tTrain acc: 46.82203389830509\tVal acc: 45.703125\n"
          ]
        },
        {
          "output_type": "stream",
          "name": "stderr",
          "text": [
            "100%|██████████| 2/2 [00:00<00:00,  7.12it/s]\n"
          ]
        },
        {
          "output_type": "stream",
          "name": "stdout",
          "text": [
            "########## Epoch 1\n"
          ]
        },
        {
          "output_type": "stream",
          "name": "stderr",
          "text": [
            "100%|██████████| 6/6 [00:00<00:00, 12.55it/s]\n",
            "100%|██████████| 2/2 [00:00<00:00,  6.72it/s]\n"
          ]
        },
        {
          "output_type": "stream",
          "name": "stdout",
          "text": [
            "Train loss: 0.7044398188591003\tVal loss: 0.7368079423904419\tTrain acc: 53.17796610169491\tVal acc: 54.53125\n"
          ]
        },
        {
          "output_type": "stream",
          "name": "stderr",
          "text": [
            "100%|██████████| 2/2 [00:00<00:00,  6.90it/s]\n"
          ]
        },
        {
          "output_type": "stream",
          "name": "stdout",
          "text": [
            "########## Epoch 2\n"
          ]
        },
        {
          "output_type": "stream",
          "name": "stderr",
          "text": [
            "100%|██████████| 6/6 [00:00<00:00, 12.09it/s]\n",
            "100%|██████████| 2/2 [00:00<00:00,  6.99it/s]\n"
          ]
        },
        {
          "output_type": "stream",
          "name": "stdout",
          "text": [
            "Train loss: 0.7010836601257324\tVal loss: 0.7464755773544312\tTrain acc: 53.98349223163842\tVal acc: 46.09375\n"
          ]
        },
        {
          "output_type": "stream",
          "name": "stderr",
          "text": [
            "100%|██████████| 2/2 [00:00<00:00,  6.89it/s]\n"
          ]
        },
        {
          "output_type": "stream",
          "name": "stdout",
          "text": [
            "########## Epoch 3\n"
          ]
        },
        {
          "output_type": "stream",
          "name": "stderr",
          "text": [
            "100%|██████████| 6/6 [00:00<00:00, 11.89it/s]\n",
            "100%|██████████| 2/2 [00:00<00:00,  6.58it/s]\n"
          ]
        },
        {
          "output_type": "stream",
          "name": "stdout",
          "text": [
            "Train loss: 0.6788451075553894\tVal loss: 0.7305859327316284\tTrain acc: 56.73993644067797\tVal acc: 49.609375\n"
          ]
        },
        {
          "output_type": "stream",
          "name": "stderr",
          "text": [
            "100%|██████████| 2/2 [00:00<00:00,  6.29it/s]\n"
          ]
        },
        {
          "output_type": "stream",
          "name": "stdout",
          "text": [
            "########## Epoch 4\n"
          ]
        },
        {
          "output_type": "stream",
          "name": "stderr",
          "text": [
            "100%|██████████| 6/6 [00:00<00:00, 11.78it/s]\n",
            "100%|██████████| 2/2 [00:00<00:00,  6.83it/s]\n"
          ]
        },
        {
          "output_type": "stream",
          "name": "stdout",
          "text": [
            "Train loss: 0.6620456576347351\tVal loss: 0.7019832134246826\tTrain acc: 61.99461511299435\tVal acc: 52.96875\n"
          ]
        },
        {
          "output_type": "stream",
          "name": "stderr",
          "text": [
            "100%|██████████| 2/2 [00:00<00:00,  6.72it/s]\n"
          ]
        },
        {
          "output_type": "stream",
          "name": "stdout",
          "text": [
            "########## Epoch 5\n"
          ]
        },
        {
          "output_type": "stream",
          "name": "stderr",
          "text": [
            "100%|██████████| 6/6 [00:00<00:00, 12.20it/s]\n",
            "100%|██████████| 2/2 [00:00<00:00,  6.86it/s]\n"
          ]
        },
        {
          "output_type": "stream",
          "name": "stdout",
          "text": [
            "Train loss: 0.6715628504753113\tVal loss: 0.6712200045585632\tTrain acc: 56.762005649717516\tVal acc: 57.8125\n"
          ]
        },
        {
          "output_type": "stream",
          "name": "stderr",
          "text": [
            "100%|██████████| 2/2 [00:00<00:00,  6.67it/s]\n"
          ]
        },
        {
          "output_type": "stream",
          "name": "stdout",
          "text": [
            "########## Epoch 6\n"
          ]
        },
        {
          "output_type": "stream",
          "name": "stderr",
          "text": [
            "100%|██████████| 6/6 [00:00<00:00, 12.76it/s]\n",
            "100%|██████████| 2/2 [00:00<00:00,  6.98it/s]\n"
          ]
        },
        {
          "output_type": "stream",
          "name": "stdout",
          "text": [
            "Train loss: 0.6477218270301819\tVal loss: 0.6827223300933838\tTrain acc: 59.71265889830509\tVal acc: 60.078125\n"
          ]
        },
        {
          "output_type": "stream",
          "name": "stderr",
          "text": [
            "100%|██████████| 2/2 [00:00<00:00,  6.85it/s]\n"
          ]
        },
        {
          "output_type": "stream",
          "name": "stdout",
          "text": [
            "########## Epoch 7\n"
          ]
        },
        {
          "output_type": "stream",
          "name": "stderr",
          "text": [
            "100%|██████████| 6/6 [00:00<00:00, 12.19it/s]\n",
            "100%|██████████| 2/2 [00:00<00:00,  6.83it/s]\n"
          ]
        },
        {
          "output_type": "stream",
          "name": "stdout",
          "text": [
            "Train loss: 0.6431543231010437\tVal loss: 0.6871663928031921\tTrain acc: 61.1670197740113\tVal acc: 57.65625\n"
          ]
        },
        {
          "output_type": "stream",
          "name": "stderr",
          "text": [
            "100%|██████████| 2/2 [00:00<00:00,  6.42it/s]\n"
          ]
        },
        {
          "output_type": "stream",
          "name": "stdout",
          "text": [
            "########## Epoch 8\n"
          ]
        },
        {
          "output_type": "stream",
          "name": "stderr",
          "text": [
            "100%|██████████| 6/6 [00:00<00:00, 12.12it/s]\n",
            "100%|██████████| 2/2 [00:00<00:00,  6.81it/s]\n"
          ]
        },
        {
          "output_type": "stream",
          "name": "stdout",
          "text": [
            "Train loss: 0.6067768931388855\tVal loss: 0.738592267036438\tTrain acc: 68.20268361581921\tVal acc: 52.96875\n"
          ]
        },
        {
          "output_type": "stream",
          "name": "stderr",
          "text": [
            "100%|██████████| 2/2 [00:00<00:00,  6.71it/s]\n"
          ]
        },
        {
          "output_type": "stream",
          "name": "stdout",
          "text": [
            "########## Epoch 9\n"
          ]
        },
        {
          "output_type": "stream",
          "name": "stderr",
          "text": [
            "100%|██████████| 6/6 [00:00<00:00, 12.07it/s]\n",
            "100%|██████████| 2/2 [00:00<00:00,  6.32it/s]\n"
          ]
        },
        {
          "output_type": "stream",
          "name": "stdout",
          "text": [
            "Train loss: 0.6001488566398621\tVal loss: 0.6621124744415283\tTrain acc: 64.79299081920904\tVal acc: 59.140625\n"
          ]
        },
        {
          "output_type": "stream",
          "name": "stderr",
          "text": [
            "100%|██████████| 2/2 [00:00<00:00,  6.80it/s]\n"
          ]
        },
        {
          "output_type": "stream",
          "name": "stdout",
          "text": [
            "########## Epoch 10\n"
          ]
        },
        {
          "output_type": "stream",
          "name": "stderr",
          "text": [
            "100%|██████████| 6/6 [00:00<00:00, 12.64it/s]\n",
            "100%|██████████| 2/2 [00:00<00:00,  6.41it/s]\n"
          ]
        },
        {
          "output_type": "stream",
          "name": "stdout",
          "text": [
            "Train loss: 0.6221081614494324\tVal loss: 0.7008702754974365\tTrain acc: 64.94526836158192\tVal acc: 55.703125\n"
          ]
        },
        {
          "output_type": "stream",
          "name": "stderr",
          "text": [
            "100%|██████████| 2/2 [00:00<00:00,  6.74it/s]\n"
          ]
        },
        {
          "output_type": "stream",
          "name": "stdout",
          "text": [
            "########## Epoch 11\n"
          ]
        },
        {
          "output_type": "stream",
          "name": "stderr",
          "text": [
            "100%|██████████| 6/6 [00:00<00:00, 12.97it/s]\n",
            "100%|██████████| 2/2 [00:00<00:00,  6.77it/s]\n"
          ]
        },
        {
          "output_type": "stream",
          "name": "stdout",
          "text": [
            "Train loss: 0.5717068910598755\tVal loss: 0.7165383696556091\tTrain acc: 70.56629590395481\tVal acc: 55.78125\n"
          ]
        },
        {
          "output_type": "stream",
          "name": "stderr",
          "text": [
            "100%|██████████| 2/2 [00:00<00:00,  6.85it/s]\n"
          ]
        },
        {
          "output_type": "stream",
          "name": "stdout",
          "text": [
            "########## Epoch 12\n"
          ]
        },
        {
          "output_type": "stream",
          "name": "stderr",
          "text": [
            "100%|██████████| 6/6 [00:00<00:00, 12.67it/s]\n",
            "100%|██████████| 2/2 [00:00<00:00,  6.72it/s]\n"
          ]
        },
        {
          "output_type": "stream",
          "name": "stdout",
          "text": [
            "Train loss: 0.5593529343605042\tVal loss: 0.9030890464782715\tTrain acc: 69.93732344632768\tVal acc: 51.328125\n"
          ]
        },
        {
          "output_type": "stream",
          "name": "stderr",
          "text": [
            "100%|██████████| 2/2 [00:00<00:00,  6.80it/s]\n"
          ]
        },
        {
          "output_type": "stream",
          "name": "stdout",
          "text": [
            "########## Epoch 13\n"
          ]
        },
        {
          "output_type": "stream",
          "name": "stderr",
          "text": [
            "100%|██████████| 6/6 [00:00<00:00, 12.62it/s]\n",
            "100%|██████████| 2/2 [00:00<00:00,  6.95it/s]\n"
          ]
        },
        {
          "output_type": "stream",
          "name": "stdout",
          "text": [
            "Train loss: 0.567081868648529\tVal loss: 0.7456737756729126\tTrain acc: 70.09180790960453\tVal acc: 55.078125\n"
          ]
        },
        {
          "output_type": "stream",
          "name": "stderr",
          "text": [
            "100%|██████████| 2/2 [00:00<00:00,  7.00it/s]\n"
          ]
        },
        {
          "output_type": "stream",
          "name": "stdout",
          "text": [
            "########## Epoch 14\n"
          ]
        },
        {
          "output_type": "stream",
          "name": "stderr",
          "text": [
            "100%|██████████| 6/6 [00:00<00:00, 12.00it/s]\n",
            "100%|██████████| 2/2 [00:00<00:00,  6.90it/s]\n"
          ]
        },
        {
          "output_type": "stream",
          "name": "stdout",
          "text": [
            "Train loss: 0.5327152609825134\tVal loss: 0.7594730854034424\tTrain acc: 71.71830861581921\tVal acc: 49.0625\n"
          ]
        },
        {
          "output_type": "stream",
          "name": "stderr",
          "text": [
            "100%|██████████| 2/2 [00:00<00:00,  6.59it/s]\n"
          ]
        },
        {
          "output_type": "stream",
          "name": "stdout",
          "text": [
            "########## Epoch 15\n"
          ]
        },
        {
          "output_type": "stream",
          "name": "stderr",
          "text": [
            "100%|██████████| 6/6 [00:00<00:00, 11.77it/s]\n",
            "100%|██████████| 2/2 [00:00<00:00,  6.60it/s]\n"
          ]
        },
        {
          "output_type": "stream",
          "name": "stdout",
          "text": [
            "Train loss: 0.5047833323478699\tVal loss: 0.9134748578071594\tTrain acc: 74.81903248587571\tVal acc: 45.078125\n"
          ]
        },
        {
          "output_type": "stream",
          "name": "stderr",
          "text": [
            "100%|██████████| 2/2 [00:00<00:00,  6.73it/s]\n"
          ]
        },
        {
          "output_type": "stream",
          "name": "stdout",
          "text": [
            "########## Epoch 16\n"
          ]
        },
        {
          "output_type": "stream",
          "name": "stderr",
          "text": [
            "100%|██████████| 6/6 [00:00<00:00, 12.31it/s]\n",
            "100%|██████████| 2/2 [00:00<00:00,  6.87it/s]\n"
          ]
        },
        {
          "output_type": "stream",
          "name": "stdout",
          "text": [
            "Train loss: 0.5018896460533142\tVal loss: 0.7960062026977539\tTrain acc: 74.9955861581921\tVal acc: 53.75\n"
          ]
        },
        {
          "output_type": "stream",
          "name": "stderr",
          "text": [
            "100%|██████████| 2/2 [00:00<00:00,  6.78it/s]\n"
          ]
        },
        {
          "output_type": "stream",
          "name": "stdout",
          "text": [
            "########## Epoch 17\n"
          ]
        },
        {
          "output_type": "stream",
          "name": "stderr",
          "text": [
            "100%|██████████| 6/6 [00:00<00:00, 12.04it/s]\n",
            "100%|██████████| 2/2 [00:00<00:00,  7.03it/s]\n"
          ]
        },
        {
          "output_type": "stream",
          "name": "stdout",
          "text": [
            "Train loss: 0.4825854003429413\tVal loss: 0.7658175826072693\tTrain acc: 76.79643361581921\tVal acc: 60.15625\n"
          ]
        },
        {
          "output_type": "stream",
          "name": "stderr",
          "text": [
            "100%|██████████| 2/2 [00:00<00:00,  6.38it/s]\n"
          ]
        },
        {
          "output_type": "stream",
          "name": "stdout",
          "text": [
            "########## Epoch 18\n"
          ]
        },
        {
          "output_type": "stream",
          "name": "stderr",
          "text": [
            "100%|██████████| 6/6 [00:00<00:00, 12.05it/s]\n",
            "100%|██████████| 2/2 [00:00<00:00,  6.74it/s]\n"
          ]
        },
        {
          "output_type": "stream",
          "name": "stdout",
          "text": [
            "Train loss: 0.4312463104724884\tVal loss: 0.8348672389984131\tTrain acc: 79.16225282485875\tVal acc: 56.796875\n"
          ]
        },
        {
          "output_type": "stream",
          "name": "stderr",
          "text": [
            "100%|██████████| 2/2 [00:00<00:00,  6.07it/s]\n"
          ]
        },
        {
          "output_type": "stream",
          "name": "stdout",
          "text": [
            "########## Epoch 19\n"
          ]
        },
        {
          "output_type": "stream",
          "name": "stderr",
          "text": [
            "100%|██████████| 6/6 [00:00<00:00, 12.89it/s]\n",
            "100%|██████████| 2/2 [00:00<00:00,  6.95it/s]\n"
          ]
        },
        {
          "output_type": "stream",
          "name": "stdout",
          "text": [
            "Train loss: 0.3832332193851471\tVal loss: 0.8007333278656006\tTrain acc: 82.46159957627118\tVal acc: 60.9375\n"
          ]
        },
        {
          "output_type": "stream",
          "name": "stderr",
          "text": [
            "100%|██████████| 2/2 [00:00<00:00,  6.73it/s]\n"
          ]
        },
        {
          "output_type": "stream",
          "name": "stdout",
          "text": [
            "########## Epoch 20\n"
          ]
        },
        {
          "output_type": "stream",
          "name": "stderr",
          "text": [
            "100%|██████████| 6/6 [00:00<00:00, 12.13it/s]\n",
            "100%|██████████| 2/2 [00:00<00:00,  6.54it/s]\n"
          ]
        },
        {
          "output_type": "stream",
          "name": "stdout",
          "text": [
            "Train loss: 0.365332692861557\tVal loss: 0.9040963053703308\tTrain acc: 83.30685028248588\tVal acc: 63.671875\n"
          ]
        },
        {
          "output_type": "stream",
          "name": "stderr",
          "text": [
            "100%|██████████| 2/2 [00:00<00:00,  6.83it/s]\n"
          ]
        },
        {
          "output_type": "stream",
          "name": "stdout",
          "text": [
            "########## Epoch 21\n"
          ]
        },
        {
          "output_type": "stream",
          "name": "stderr",
          "text": [
            "100%|██████████| 6/6 [00:00<00:00, 12.39it/s]\n",
            "100%|██████████| 2/2 [00:00<00:00,  6.53it/s]\n"
          ]
        },
        {
          "output_type": "stream",
          "name": "stdout",
          "text": [
            "Train loss: 0.39235830307006836\tVal loss: 1.7410593032836914\tTrain acc: 82.19897598870057\tVal acc: 52.34375\n"
          ]
        },
        {
          "output_type": "stream",
          "name": "stderr",
          "text": [
            "100%|██████████| 2/2 [00:00<00:00,  7.02it/s]\n"
          ]
        },
        {
          "output_type": "stream",
          "name": "stdout",
          "text": [
            "########## Epoch 22\n"
          ]
        },
        {
          "output_type": "stream",
          "name": "stderr",
          "text": [
            "100%|██████████| 6/6 [00:00<00:00, 12.15it/s]\n",
            "100%|██████████| 2/2 [00:00<00:00,  6.33it/s]\n"
          ]
        },
        {
          "output_type": "stream",
          "name": "stdout",
          "text": [
            "Train loss: 0.6874212622642517\tVal loss: 0.6691886782646179\tTrain acc: 69.28186793785311\tVal acc: 66.796875\n"
          ]
        },
        {
          "output_type": "stream",
          "name": "stderr",
          "text": [
            "100%|██████████| 2/2 [00:00<00:00,  6.88it/s]\n"
          ]
        },
        {
          "output_type": "stream",
          "name": "stdout",
          "text": [
            "########## Epoch 23\n"
          ]
        },
        {
          "output_type": "stream",
          "name": "stderr",
          "text": [
            "100%|██████████| 6/6 [00:00<00:00, 12.14it/s]\n",
            "100%|██████████| 2/2 [00:00<00:00,  7.13it/s]\n"
          ]
        },
        {
          "output_type": "stream",
          "name": "stdout",
          "text": [
            "Train loss: 0.38948264718055725\tVal loss: 0.7691477537155151\tTrain acc: 79.94350282485875\tVal acc: 61.25\n"
          ]
        },
        {
          "output_type": "stream",
          "name": "stderr",
          "text": [
            "100%|██████████| 2/2 [00:00<00:00,  6.84it/s]\n"
          ]
        },
        {
          "output_type": "stream",
          "name": "stdout",
          "text": [
            "########## Epoch 24\n"
          ]
        },
        {
          "output_type": "stream",
          "name": "stderr",
          "text": [
            "100%|██████████| 6/6 [00:00<00:00, 11.76it/s]\n",
            "100%|██████████| 2/2 [00:00<00:00,  6.51it/s]\n"
          ]
        },
        {
          "output_type": "stream",
          "name": "stdout",
          "text": [
            "Train loss: 0.39756765961647034\tVal loss: 0.5800589919090271\tTrain acc: 80.64088983050847\tVal acc: 72.734375\n"
          ]
        },
        {
          "output_type": "stream",
          "name": "stderr",
          "text": [
            "100%|██████████| 2/2 [00:00<00:00,  6.26it/s]\n"
          ]
        },
        {
          "output_type": "stream",
          "name": "stdout",
          "text": [
            "########## Epoch 0\n"
          ]
        },
        {
          "output_type": "stream",
          "name": "stderr",
          "text": [
            "100%|██████████| 10/10 [00:00<00:00, 15.81it/s]\n",
            "100%|██████████| 4/4 [00:00<00:00, 11.85it/s]\n"
          ]
        },
        {
          "output_type": "stream",
          "name": "stdout",
          "text": [
            "Train loss: 6.462122440338135\tVal loss: 3.8025670051574707\tTrain acc: 0.0\tVal acc: 27.15899493243243\n"
          ]
        },
        {
          "output_type": "stream",
          "name": "stderr",
          "text": [
            "100%|██████████| 2/2 [00:00<00:00,  6.35it/s]\n",
            "100%|██████████| 3/3 [00:00<00:00,  9.93it/s]\n"
          ]
        },
        {
          "output_type": "stream",
          "name": "stdout",
          "text": [
            "########## Epoch 1\n"
          ]
        },
        {
          "output_type": "stream",
          "name": "stderr",
          "text": [
            "100%|██████████| 10/10 [00:00<00:00, 16.47it/s]\n",
            "100%|██████████| 4/4 [00:00<00:00, 12.50it/s]\n"
          ]
        },
        {
          "output_type": "stream",
          "name": "stdout",
          "text": [
            "Train loss: 5.1389665603637695\tVal loss: 3.085966110229492\tTrain acc: 0.0\tVal acc: 26.303842905405403\n"
          ]
        },
        {
          "output_type": "stream",
          "name": "stderr",
          "text": [
            "100%|██████████| 2/2 [00:00<00:00,  6.89it/s]\n",
            "100%|██████████| 3/3 [00:00<00:00,  9.69it/s]\n"
          ]
        },
        {
          "output_type": "stream",
          "name": "stdout",
          "text": [
            "########## Epoch 2\n"
          ]
        },
        {
          "output_type": "stream",
          "name": "stderr",
          "text": [
            "100%|██████████| 10/10 [00:00<00:00, 15.81it/s]\n",
            "100%|██████████| 4/4 [00:00<00:00, 12.19it/s]\n"
          ]
        },
        {
          "output_type": "stream",
          "name": "stdout",
          "text": [
            "Train loss: 3.9900879859924316\tVal loss: 2.352382183074951\tTrain acc: 0.0\tVal acc: 27.016469594594597\n"
          ]
        },
        {
          "output_type": "stream",
          "name": "stderr",
          "text": [
            "100%|██████████| 2/2 [00:00<00:00,  6.50it/s]\n",
            "100%|██████████| 3/3 [00:00<00:00,  9.99it/s]\n"
          ]
        },
        {
          "output_type": "stream",
          "name": "stdout",
          "text": [
            "########## Epoch 3\n"
          ]
        },
        {
          "output_type": "stream",
          "name": "stderr",
          "text": [
            "100%|██████████| 10/10 [00:00<00:00, 15.87it/s]\n",
            "100%|██████████| 4/4 [00:00<00:00, 11.36it/s]\n"
          ]
        },
        {
          "output_type": "stream",
          "name": "stdout",
          "text": [
            "Train loss: 2.904709815979004\tVal loss: 1.7070465087890625\tTrain acc: 0.0\tVal acc: 27.211782094594597\n"
          ]
        },
        {
          "output_type": "stream",
          "name": "stderr",
          "text": [
            "100%|██████████| 2/2 [00:00<00:00,  6.42it/s]\n",
            "100%|██████████| 3/3 [00:00<00:00,  9.31it/s]\n"
          ]
        },
        {
          "output_type": "stream",
          "name": "stdout",
          "text": [
            "########## Epoch 4\n"
          ]
        },
        {
          "output_type": "stream",
          "name": "stderr",
          "text": [
            "100%|██████████| 10/10 [00:00<00:00, 15.53it/s]\n",
            "100%|██████████| 4/4 [00:00<00:00, 11.61it/s]\n"
          ]
        },
        {
          "output_type": "stream",
          "name": "stdout",
          "text": [
            "Train loss: 1.8422132730484009\tVal loss: 1.2236137390136719\tTrain acc: 9.0625\tVal acc: 46.14653716216216\n"
          ]
        },
        {
          "output_type": "stream",
          "name": "stderr",
          "text": [
            "100%|██████████| 2/2 [00:00<00:00,  6.68it/s]\n",
            "100%|██████████| 3/3 [00:00<00:00,  9.63it/s]\n"
          ]
        },
        {
          "output_type": "stream",
          "name": "stdout",
          "text": [
            "########## Epoch 5\n"
          ]
        },
        {
          "output_type": "stream",
          "name": "stderr",
          "text": [
            "100%|██████████| 10/10 [00:00<00:00, 16.07it/s]\n",
            "100%|██████████| 4/4 [00:00<00:00, 12.27it/s]\n"
          ]
        },
        {
          "output_type": "stream",
          "name": "stdout",
          "text": [
            "Train loss: 1.0332905054092407\tVal loss: 1.1247403621673584\tTrain acc: 65.44270833333334\tVal acc: 56.53505067567568\n"
          ]
        },
        {
          "output_type": "stream",
          "name": "stderr",
          "text": [
            "100%|██████████| 2/2 [00:00<00:00,  6.65it/s]\n",
            "100%|██████████| 3/3 [00:00<00:00,  7.21it/s]\n"
          ]
        },
        {
          "output_type": "stream",
          "name": "stdout",
          "text": [
            "########## Epoch 6\n"
          ]
        },
        {
          "output_type": "stream",
          "name": "stderr",
          "text": [
            "100%|██████████| 10/10 [00:00<00:00, 16.17it/s]\n",
            "100%|██████████| 4/4 [00:00<00:00, 11.98it/s]\n"
          ]
        },
        {
          "output_type": "stream",
          "name": "stdout",
          "text": [
            "Train loss: 0.6512181758880615\tVal loss: 1.2716219425201416\tTrain acc: 83.41145833333334\tVal acc: 57.71220439189189\n"
          ]
        },
        {
          "output_type": "stream",
          "name": "stderr",
          "text": [
            "100%|██████████| 2/2 [00:00<00:00,  6.67it/s]\n",
            "100%|██████████| 3/3 [00:00<00:00,  9.57it/s]\n"
          ]
        },
        {
          "output_type": "stream",
          "name": "stdout",
          "text": [
            "########## Epoch 7\n"
          ]
        },
        {
          "output_type": "stream",
          "name": "stderr",
          "text": [
            "100%|██████████| 10/10 [00:00<00:00, 14.77it/s]\n",
            "100%|██████████| 4/4 [00:00<00:00, 11.72it/s]\n"
          ]
        },
        {
          "output_type": "stream",
          "name": "stdout",
          "text": [
            "Train loss: 0.5313990712165833\tVal loss: 1.4879852533340454\tTrain acc: 85.13020833333334\tVal acc: 57.28462837837838\n"
          ]
        },
        {
          "output_type": "stream",
          "name": "stderr",
          "text": [
            "100%|██████████| 2/2 [00:00<00:00,  6.29it/s]\n",
            "100%|██████████| 3/3 [00:00<00:00,  9.77it/s]\n"
          ]
        },
        {
          "output_type": "stream",
          "name": "stdout",
          "text": [
            "########## Epoch 8\n"
          ]
        },
        {
          "output_type": "stream",
          "name": "stderr",
          "text": [
            "100%|██████████| 10/10 [00:00<00:00, 16.18it/s]\n",
            "100%|██████████| 4/4 [00:00<00:00, 12.41it/s]\n"
          ]
        },
        {
          "output_type": "stream",
          "name": "stdout",
          "text": [
            "Train loss: 0.40219640731811523\tVal loss: 1.680108666419983\tTrain acc: 87.109375\tVal acc: 56.429476351351354\n"
          ]
        },
        {
          "output_type": "stream",
          "name": "stderr",
          "text": [
            "100%|██████████| 2/2 [00:00<00:00,  6.82it/s]\n",
            "100%|██████████| 3/3 [00:00<00:00,  9.07it/s]\n"
          ]
        },
        {
          "output_type": "stream",
          "name": "stdout",
          "text": [
            "########## Epoch 9\n"
          ]
        },
        {
          "output_type": "stream",
          "name": "stderr",
          "text": [
            "100%|██████████| 10/10 [00:00<00:00, 16.49it/s]\n",
            "100%|██████████| 4/4 [00:00<00:00, 12.18it/s]\n"
          ]
        },
        {
          "output_type": "stream",
          "name": "stdout",
          "text": [
            "Train loss: 0.36851292848587036\tVal loss: 1.752303123474121\tTrain acc: 87.34375\tVal acc: 56.37668918918919\n"
          ]
        },
        {
          "output_type": "stream",
          "name": "stderr",
          "text": [
            "100%|██████████| 2/2 [00:00<00:00,  6.47it/s]\n",
            "100%|██████████| 3/3 [00:00<00:00,  9.42it/s]\n"
          ]
        },
        {
          "output_type": "stream",
          "name": "stdout",
          "text": [
            "########## Epoch 10\n"
          ]
        },
        {
          "output_type": "stream",
          "name": "stderr",
          "text": [
            "100%|██████████| 10/10 [00:00<00:00, 16.03it/s]\n",
            "100%|██████████| 4/4 [00:00<00:00, 12.04it/s]\n"
          ]
        },
        {
          "output_type": "stream",
          "name": "stdout",
          "text": [
            "Train loss: 0.34303659200668335\tVal loss: 1.8278194665908813\tTrain acc: 87.265625\tVal acc: 56.37668918918919\n"
          ]
        },
        {
          "output_type": "stream",
          "name": "stderr",
          "text": [
            "100%|██████████| 2/2 [00:00<00:00,  6.61it/s]\n",
            "100%|██████████| 3/3 [00:00<00:00,  9.05it/s]\n"
          ]
        },
        {
          "output_type": "stream",
          "name": "stdout",
          "text": [
            "########## Epoch 11\n"
          ]
        },
        {
          "output_type": "stream",
          "name": "stderr",
          "text": [
            "100%|██████████| 10/10 [00:00<00:00, 16.76it/s]\n",
            "100%|██████████| 4/4 [00:00<00:00, 11.83it/s]\n"
          ]
        },
        {
          "output_type": "stream",
          "name": "stdout",
          "text": [
            "Train loss: 0.3356972932815552\tVal loss: 1.8900811672210693\tTrain acc: 85.83333333333334\tVal acc: 57.17905405405405\n"
          ]
        },
        {
          "output_type": "stream",
          "name": "stderr",
          "text": [
            "100%|██████████| 2/2 [00:00<00:00,  6.50it/s]\n",
            "100%|██████████| 3/3 [00:00<00:00,  9.83it/s]\n"
          ]
        },
        {
          "output_type": "stream",
          "name": "stdout",
          "text": [
            "########## Epoch 12\n"
          ]
        },
        {
          "output_type": "stream",
          "name": "stderr",
          "text": [
            "100%|██████████| 10/10 [00:00<00:00, 15.91it/s]\n",
            "100%|██████████| 4/4 [00:00<00:00, 12.25it/s]\n"
          ]
        },
        {
          "output_type": "stream",
          "name": "stdout",
          "text": [
            "Train loss: 0.3222760558128357\tVal loss: 1.9702802896499634\tTrain acc: 86.61458333333334\tVal acc: 56.909839527027025\n"
          ]
        },
        {
          "output_type": "stream",
          "name": "stderr",
          "text": [
            "100%|██████████| 2/2 [00:00<00:00,  6.49it/s]\n",
            "100%|██████████| 3/3 [00:00<00:00,  9.59it/s]\n"
          ]
        },
        {
          "output_type": "stream",
          "name": "stdout",
          "text": [
            "########## Epoch 13\n"
          ]
        },
        {
          "output_type": "stream",
          "name": "stderr",
          "text": [
            "100%|██████████| 10/10 [00:00<00:00, 15.78it/s]\n",
            "100%|██████████| 4/4 [00:00<00:00, 12.54it/s]\n"
          ]
        },
        {
          "output_type": "stream",
          "name": "stdout",
          "text": [
            "Train loss: 0.28913384675979614\tVal loss: 2.0513861179351807\tTrain acc: 89.609375\tVal acc: 57.886402027027025\n"
          ]
        },
        {
          "output_type": "stream",
          "name": "stderr",
          "text": [
            "100%|██████████| 2/2 [00:00<00:00,  6.81it/s]\n",
            "100%|██████████| 3/3 [00:00<00:00,  9.47it/s]\n"
          ]
        },
        {
          "output_type": "stream",
          "name": "stdout",
          "text": [
            "########## Epoch 14\n"
          ]
        },
        {
          "output_type": "stream",
          "name": "stderr",
          "text": [
            "100%|██████████| 10/10 [00:00<00:00, 16.58it/s]\n",
            "100%|██████████| 4/4 [00:00<00:00, 12.19it/s]\n"
          ]
        },
        {
          "output_type": "stream",
          "name": "stdout",
          "text": [
            "Train loss: 0.26382967829704285\tVal loss: 2.120950222015381\tTrain acc: 89.89583333333334\tVal acc: 58.70460304054054\n"
          ]
        },
        {
          "output_type": "stream",
          "name": "stderr",
          "text": [
            "100%|██████████| 2/2 [00:00<00:00,  6.58it/s]\n",
            "100%|██████████| 3/3 [00:00<00:00,  9.61it/s]\n"
          ]
        },
        {
          "output_type": "stream",
          "name": "stdout",
          "text": [
            "########## Epoch 15\n"
          ]
        },
        {
          "output_type": "stream",
          "name": "stderr",
          "text": [
            "100%|██████████| 10/10 [00:00<00:00, 16.15it/s]\n",
            "100%|██████████| 4/4 [00:00<00:00, 12.15it/s]\n"
          ]
        },
        {
          "output_type": "stream",
          "name": "stdout",
          "text": [
            "Train loss: 0.2541719377040863\tVal loss: 2.2343575954437256\tTrain acc: 92.578125\tVal acc: 58.667652027027025\n"
          ]
        },
        {
          "output_type": "stream",
          "name": "stderr",
          "text": [
            "100%|██████████| 2/2 [00:00<00:00,  6.67it/s]\n",
            "100%|██████████| 3/3 [00:00<00:00,  9.11it/s]\n"
          ]
        },
        {
          "output_type": "stream",
          "name": "stdout",
          "text": [
            "########## Epoch 16\n"
          ]
        },
        {
          "output_type": "stream",
          "name": "stderr",
          "text": [
            "100%|██████████| 10/10 [00:00<00:00, 16.50it/s]\n",
            "100%|██████████| 4/4 [00:00<00:00, 11.84it/s]\n"
          ]
        },
        {
          "output_type": "stream",
          "name": "stdout",
          "text": [
            "Train loss: 0.22250445187091827\tVal loss: 2.3168647289276123\tTrain acc: 93.75\tVal acc: 59.058277027027025\n"
          ]
        },
        {
          "output_type": "stream",
          "name": "stderr",
          "text": [
            "100%|██████████| 2/2 [00:00<00:00,  6.68it/s]\n",
            "100%|██████████| 3/3 [00:00<00:00,  9.68it/s]\n"
          ]
        },
        {
          "output_type": "stream",
          "name": "stdout",
          "text": [
            "########## Epoch 17\n"
          ]
        },
        {
          "output_type": "stream",
          "name": "stderr",
          "text": [
            "100%|██████████| 10/10 [00:00<00:00, 16.27it/s]\n",
            "100%|██████████| 4/4 [00:00<00:00, 12.39it/s]\n"
          ]
        },
        {
          "output_type": "stream",
          "name": "stdout",
          "text": [
            "Train loss: 0.21117806434631348\tVal loss: 2.350261688232422\tTrain acc: 95.078125\tVal acc: 59.62837837837838\n"
          ]
        },
        {
          "output_type": "stream",
          "name": "stderr",
          "text": [
            "100%|██████████| 2/2 [00:00<00:00,  6.56it/s]\n",
            "100%|██████████| 3/3 [00:00<00:00,  9.11it/s]\n"
          ]
        },
        {
          "output_type": "stream",
          "name": "stdout",
          "text": [
            "########## Epoch 18\n"
          ]
        },
        {
          "output_type": "stream",
          "name": "stderr",
          "text": [
            "100%|██████████| 10/10 [00:00<00:00, 15.88it/s]\n",
            "100%|██████████| 4/4 [00:00<00:00, 11.59it/s]\n"
          ]
        },
        {
          "output_type": "stream",
          "name": "stdout",
          "text": [
            "Train loss: 0.19710607826709747\tVal loss: 2.5212628841400146\tTrain acc: 95.078125\tVal acc: 58.87880067567568\n"
          ]
        },
        {
          "output_type": "stream",
          "name": "stderr",
          "text": [
            "100%|██████████| 2/2 [00:00<00:00,  6.59it/s]\n",
            "100%|██████████| 3/3 [00:00<00:00,  9.85it/s]\n"
          ]
        },
        {
          "output_type": "stream",
          "name": "stdout",
          "text": [
            "########## Epoch 19\n"
          ]
        },
        {
          "output_type": "stream",
          "name": "stderr",
          "text": [
            "100%|██████████| 10/10 [00:00<00:00, 16.39it/s]\n",
            "100%|██████████| 4/4 [00:00<00:00, 12.52it/s]\n"
          ]
        },
        {
          "output_type": "stream",
          "name": "stdout",
          "text": [
            "Train loss: 0.28647077083587646\tVal loss: 2.5352706909179688\tTrain acc: 92.52604166666666\tVal acc: 59.644214527027025\n"
          ]
        },
        {
          "output_type": "stream",
          "name": "stderr",
          "text": [
            "100%|██████████| 2/2 [00:00<00:00,  6.59it/s]\n",
            "100%|██████████| 3/3 [00:00<00:00,  9.27it/s]\n"
          ]
        },
        {
          "output_type": "stream",
          "name": "stdout",
          "text": [
            "########## Epoch 20\n"
          ]
        },
        {
          "output_type": "stream",
          "name": "stderr",
          "text": [
            "100%|██████████| 10/10 [00:00<00:00, 16.02it/s]\n",
            "100%|██████████| 4/4 [00:00<00:00, 12.36it/s]\n"
          ]
        },
        {
          "output_type": "stream",
          "name": "stdout",
          "text": [
            "Train loss: 0.18999142944812775\tVal loss: 2.6363296508789062\tTrain acc: 95.9375\tVal acc: 59.359163851351354\n"
          ]
        },
        {
          "output_type": "stream",
          "name": "stderr",
          "text": [
            "100%|██████████| 2/2 [00:00<00:00,  6.51it/s]\n",
            "100%|██████████| 3/3 [00:00<00:00,  9.78it/s]\n"
          ]
        },
        {
          "output_type": "stream",
          "name": "stdout",
          "text": [
            "########## Epoch 21\n"
          ]
        },
        {
          "output_type": "stream",
          "name": "stderr",
          "text": [
            "100%|██████████| 10/10 [00:00<00:00, 15.97it/s]\n",
            "100%|██████████| 4/4 [00:00<00:00, 12.37it/s]\n"
          ]
        },
        {
          "output_type": "stream",
          "name": "stdout",
          "text": [
            "Train loss: 0.191938117146492\tVal loss: 2.672699213027954\tTrain acc: 94.58333333333334\tVal acc: 59.50168918918919\n"
          ]
        },
        {
          "output_type": "stream",
          "name": "stderr",
          "text": [
            "100%|██████████| 2/2 [00:00<00:00,  6.52it/s]\n",
            "100%|██████████| 3/3 [00:00<00:00,  9.62it/s]\n"
          ]
        },
        {
          "output_type": "stream",
          "name": "stdout",
          "text": [
            "########## Epoch 22\n"
          ]
        },
        {
          "output_type": "stream",
          "name": "stderr",
          "text": [
            "100%|██████████| 10/10 [00:00<00:00, 16.21it/s]\n",
            "100%|██████████| 4/4 [00:00<00:00, 12.14it/s]\n"
          ]
        },
        {
          "output_type": "stream",
          "name": "stdout",
          "text": [
            "Train loss: 0.169470876455307\tVal loss: 2.7581074237823486\tTrain acc: 96.015625\tVal acc: 60.3198902027027\n"
          ]
        },
        {
          "output_type": "stream",
          "name": "stderr",
          "text": [
            "100%|██████████| 2/2 [00:00<00:00,  6.43it/s]\n",
            "100%|██████████| 3/3 [00:00<00:00,  9.22it/s]\n"
          ]
        },
        {
          "output_type": "stream",
          "name": "stdout",
          "text": [
            "########## Epoch 23\n"
          ]
        },
        {
          "output_type": "stream",
          "name": "stderr",
          "text": [
            "100%|██████████| 10/10 [00:00<00:00, 16.37it/s]\n",
            "100%|██████████| 4/4 [00:00<00:00, 12.19it/s]\n"
          ]
        },
        {
          "output_type": "stream",
          "name": "stdout",
          "text": [
            "Train loss: 0.17197439074516296\tVal loss: 2.8384885787963867\tTrain acc: 96.25\tVal acc: 60.620777027027025\n"
          ]
        },
        {
          "output_type": "stream",
          "name": "stderr",
          "text": [
            "100%|██████████| 2/2 [00:00<00:00,  6.79it/s]\n",
            "100%|██████████| 3/3 [00:00<00:00,  9.85it/s]\n"
          ]
        },
        {
          "output_type": "stream",
          "name": "stdout",
          "text": [
            "########## Epoch 24\n"
          ]
        },
        {
          "output_type": "stream",
          "name": "stderr",
          "text": [
            "100%|██████████| 10/10 [00:00<00:00, 16.03it/s]\n",
            "100%|██████████| 4/4 [00:00<00:00, 11.49it/s]\n"
          ]
        },
        {
          "output_type": "stream",
          "name": "stdout",
          "text": [
            "Train loss: 0.1681601107120514\tVal loss: 2.821606159210205\tTrain acc: 96.328125\tVal acc: 61.52871621621622\n"
          ]
        },
        {
          "output_type": "stream",
          "name": "stderr",
          "text": [
            "100%|██████████| 2/2 [00:00<00:00,  6.93it/s]\n",
            "100%|██████████| 3/3 [00:00<00:00,  9.58it/s]\n"
          ]
        },
        {
          "output_type": "stream",
          "name": "stdout",
          "text": [
            "########## Epoch 0\n"
          ]
        },
        {
          "output_type": "stream",
          "name": "stderr",
          "text": [
            "100%|██████████| 6/6 [00:00<00:00, 12.33it/s]\n",
            "100%|██████████| 5/5 [00:00<00:00, 14.34it/s]\n"
          ]
        },
        {
          "output_type": "stream",
          "name": "stdout",
          "text": [
            "Train loss: 0.16887213289737701\tVal loss: 2.1625185012817383\tTrain acc: 97.24355579096046\tVal acc: 70.67708333333334\n"
          ]
        },
        {
          "output_type": "stream",
          "name": "stderr",
          "text": [
            "100%|██████████| 2/2 [00:00<00:00,  6.66it/s]\n",
            "100%|██████████| 3/3 [00:00<00:00,  9.46it/s]\n",
            "100%|██████████| 2/2 [00:00<00:00,  6.61it/s]\n"
          ]
        },
        {
          "output_type": "stream",
          "name": "stdout",
          "text": [
            "########## Epoch 1\n"
          ]
        },
        {
          "output_type": "stream",
          "name": "stderr",
          "text": [
            "100%|██████████| 6/6 [00:00<00:00, 11.96it/s]\n",
            "100%|██████████| 5/5 [00:00<00:00, 14.75it/s]\n"
          ]
        },
        {
          "output_type": "stream",
          "name": "stdout",
          "text": [
            "Train loss: 0.16981028020381927\tVal loss: 2.173694610595703\tTrain acc: 96.80879237288134\tVal acc: 70.8470394736842\n"
          ]
        },
        {
          "output_type": "stream",
          "name": "stderr",
          "text": [
            "100%|██████████| 2/2 [00:00<00:00,  6.30it/s]\n",
            "100%|██████████| 3/3 [00:00<00:00,  9.65it/s]\n",
            "100%|██████████| 2/2 [00:00<00:00,  6.73it/s]\n"
          ]
        },
        {
          "output_type": "stream",
          "name": "stdout",
          "text": [
            "########## Epoch 2\n"
          ]
        },
        {
          "output_type": "stream",
          "name": "stderr",
          "text": [
            "100%|██████████| 6/6 [00:00<00:00, 12.17it/s]\n",
            "100%|██████████| 5/5 [00:00<00:00, 15.03it/s]\n"
          ]
        },
        {
          "output_type": "stream",
          "name": "stdout",
          "text": [
            "Train loss: 0.15248838067054749\tVal loss: 2.2203211784362793\tTrain acc: 97.39583333333333\tVal acc: 70.59758771929825\n"
          ]
        },
        {
          "output_type": "stream",
          "name": "stderr",
          "text": [
            "100%|██████████| 2/2 [00:00<00:00,  6.49it/s]\n",
            "100%|██████████| 3/3 [00:00<00:00,  9.20it/s]\n",
            "100%|██████████| 2/2 [00:00<00:00,  6.62it/s]\n"
          ]
        },
        {
          "output_type": "stream",
          "name": "stdout",
          "text": [
            "########## Epoch 3\n"
          ]
        },
        {
          "output_type": "stream",
          "name": "stderr",
          "text": [
            "100%|██████████| 6/6 [00:00<00:00, 11.92it/s]\n",
            "100%|██████████| 5/5 [00:00<00:00, 14.84it/s]\n"
          ]
        },
        {
          "output_type": "stream",
          "name": "stdout",
          "text": [
            "Train loss: 0.14829856157302856\tVal loss: 2.2361810207366943\tTrain acc: 97.39583333333333\tVal acc: 70.83059210526315\n"
          ]
        },
        {
          "output_type": "stream",
          "name": "stderr",
          "text": [
            "100%|██████████| 2/2 [00:00<00:00,  6.59it/s]\n",
            "100%|██████████| 3/3 [00:00<00:00,  8.97it/s]\n",
            "100%|██████████| 2/2 [00:00<00:00,  6.55it/s]\n"
          ]
        },
        {
          "output_type": "stream",
          "name": "stdout",
          "text": [
            "########## Epoch 4\n"
          ]
        },
        {
          "output_type": "stream",
          "name": "stderr",
          "text": [
            "100%|██████████| 6/6 [00:00<00:00, 12.23it/s]\n",
            "100%|██████████| 5/5 [00:00<00:00, 14.06it/s]\n"
          ]
        },
        {
          "output_type": "stream",
          "name": "stdout",
          "text": [
            "Train loss: 0.14829875528812408\tVal loss: 2.260852098464966\tTrain acc: 96.93900070621469\tVal acc: 70.92927631578948\n"
          ]
        },
        {
          "output_type": "stream",
          "name": "stderr",
          "text": [
            "100%|██████████| 2/2 [00:00<00:00,  6.74it/s]\n",
            "100%|██████████| 3/3 [00:00<00:00,  9.61it/s]\n",
            "100%|██████████| 2/2 [00:00<00:00,  6.50it/s]\n"
          ]
        },
        {
          "output_type": "stream",
          "name": "stdout",
          "text": [
            "########## Epoch 5\n"
          ]
        },
        {
          "output_type": "stream",
          "name": "stderr",
          "text": [
            "100%|██████████| 6/6 [00:00<00:00, 12.16it/s]\n",
            "100%|██████████| 5/5 [00:00<00:00, 15.12it/s]\n"
          ]
        },
        {
          "output_type": "stream",
          "name": "stdout",
          "text": [
            "Train loss: 0.14385992288589478\tVal loss: 2.2800445556640625\tTrain acc: 97.09127824858757\tVal acc: 70.9484649122807\n"
          ]
        },
        {
          "output_type": "stream",
          "name": "stderr",
          "text": [
            "100%|██████████| 2/2 [00:00<00:00,  6.48it/s]\n",
            "100%|██████████| 3/3 [00:00<00:00,  9.78it/s]\n",
            "100%|██████████| 2/2 [00:00<00:00,  6.54it/s]\n"
          ]
        },
        {
          "output_type": "stream",
          "name": "stdout",
          "text": [
            "########## Epoch 6\n"
          ]
        },
        {
          "output_type": "stream",
          "name": "stderr",
          "text": [
            "100%|██████████| 6/6 [00:00<00:00, 12.16it/s]\n",
            "100%|██████████| 5/5 [00:00<00:00, 14.64it/s]\n"
          ]
        },
        {
          "output_type": "stream",
          "name": "stdout",
          "text": [
            "Train loss: 0.1451089233160019\tVal loss: 2.2892420291900635\tTrain acc: 97.35169491525424\tVal acc: 71.31853070175438\n"
          ]
        },
        {
          "output_type": "stream",
          "name": "stderr",
          "text": [
            "100%|██████████| 2/2 [00:00<00:00,  6.88it/s]\n",
            "100%|██████████| 3/3 [00:00<00:00,  9.51it/s]\n",
            "100%|██████████| 2/2 [00:00<00:00,  6.78it/s]\n"
          ]
        },
        {
          "output_type": "stream",
          "name": "stdout",
          "text": [
            "########## Epoch 7\n"
          ]
        },
        {
          "output_type": "stream",
          "name": "stderr",
          "text": [
            "100%|██████████| 6/6 [00:00<00:00, 12.25it/s]\n",
            "100%|██████████| 5/5 [00:00<00:00, 14.40it/s]\n"
          ]
        },
        {
          "output_type": "stream",
          "name": "stdout",
          "text": [
            "Train loss: 0.12874387204647064\tVal loss: 2.3102641105651855\tTrain acc: 97.78645833333333\tVal acc: 71.22258771929825\n"
          ]
        },
        {
          "output_type": "stream",
          "name": "stderr",
          "text": [
            "100%|██████████| 2/2 [00:00<00:00,  6.91it/s]\n",
            "100%|██████████| 3/3 [00:00<00:00,  9.52it/s]\n",
            "100%|██████████| 2/2 [00:00<00:00,  6.66it/s]\n"
          ]
        },
        {
          "output_type": "stream",
          "name": "stdout",
          "text": [
            "########## Epoch 8\n"
          ]
        },
        {
          "output_type": "stream",
          "name": "stderr",
          "text": [
            "100%|██████████| 6/6 [00:00<00:00, 12.44it/s]\n",
            "100%|██████████| 5/5 [00:00<00:00, 14.43it/s]\n"
          ]
        },
        {
          "output_type": "stream",
          "name": "stdout",
          "text": [
            "Train loss: 0.12601806223392487\tVal loss: 2.3245816230773926\tTrain acc: 97.65625\tVal acc: 71.22258771929825\n"
          ]
        },
        {
          "output_type": "stream",
          "name": "stderr",
          "text": [
            "100%|██████████| 2/2 [00:00<00:00,  6.74it/s]\n",
            "100%|██████████| 3/3 [00:00<00:00,  9.79it/s]\n",
            "100%|██████████| 2/2 [00:00<00:00,  6.46it/s]\n"
          ]
        },
        {
          "output_type": "stream",
          "name": "stdout",
          "text": [
            "########## Epoch 9\n"
          ]
        },
        {
          "output_type": "stream",
          "name": "stderr",
          "text": [
            "100%|██████████| 6/6 [00:00<00:00, 12.23it/s]\n",
            "100%|██████████| 5/5 [00:00<00:00, 14.89it/s]\n"
          ]
        },
        {
          "output_type": "stream",
          "name": "stdout",
          "text": [
            "Train loss: 0.13518428802490234\tVal loss: 2.335541248321533\tTrain acc: 97.48190324858757\tVal acc: 71.33771929824562\n"
          ]
        },
        {
          "output_type": "stream",
          "name": "stderr",
          "text": [
            "100%|██████████| 2/2 [00:00<00:00,  6.08it/s]\n",
            "100%|██████████| 3/3 [00:00<00:00,  9.28it/s]\n",
            "100%|██████████| 2/2 [00:00<00:00,  6.69it/s]\n"
          ]
        },
        {
          "output_type": "stream",
          "name": "stdout",
          "text": [
            "########## Epoch 10\n"
          ]
        },
        {
          "output_type": "stream",
          "name": "stderr",
          "text": [
            "100%|██████████| 6/6 [00:00<00:00, 12.02it/s]\n",
            "100%|██████████| 5/5 [00:00<00:00, 14.74it/s]\n"
          ]
        },
        {
          "output_type": "stream",
          "name": "stdout",
          "text": [
            "Train loss: 0.12826721370220184\tVal loss: 2.350916624069214\tTrain acc: 97.63418079096046\tVal acc: 71.31853070175438\n"
          ]
        },
        {
          "output_type": "stream",
          "name": "stderr",
          "text": [
            "100%|██████████| 2/2 [00:00<00:00,  6.10it/s]\n",
            "100%|██████████| 3/3 [00:00<00:00,  9.58it/s]\n",
            "100%|██████████| 2/2 [00:00<00:00,  6.82it/s]\n"
          ]
        },
        {
          "output_type": "stream",
          "name": "stdout",
          "text": [
            "########## Epoch 11\n"
          ]
        },
        {
          "output_type": "stream",
          "name": "stderr",
          "text": [
            "100%|██████████| 6/6 [00:00<00:00, 11.88it/s]\n",
            "100%|██████████| 5/5 [00:00<00:00, 15.15it/s]\n"
          ]
        },
        {
          "output_type": "stream",
          "name": "stdout",
          "text": [
            "Train loss: 0.13324864208698273\tVal loss: 2.375082492828369\tTrain acc: 97.04713983050847\tVal acc: 71.20339912280701\n"
          ]
        },
        {
          "output_type": "stream",
          "name": "stderr",
          "text": [
            "100%|██████████| 2/2 [00:00<00:00,  6.67it/s]\n",
            "100%|██████████| 3/3 [00:00<00:00,  9.50it/s]\n",
            "100%|██████████| 2/2 [00:00<00:00,  6.57it/s]\n"
          ]
        },
        {
          "output_type": "stream",
          "name": "stdout",
          "text": [
            "########## Epoch 12\n"
          ]
        },
        {
          "output_type": "stream",
          "name": "stderr",
          "text": [
            "100%|██████████| 6/6 [00:00<00:00, 12.08it/s]\n",
            "100%|██████████| 5/5 [00:00<00:00, 14.33it/s]\n"
          ]
        },
        {
          "output_type": "stream",
          "name": "stdout",
          "text": [
            "Train loss: 0.12530513107776642\tVal loss: 2.393807888031006\tTrain acc: 97.48190324858757\tVal acc: 71.10745614035088\n"
          ]
        },
        {
          "output_type": "stream",
          "name": "stderr",
          "text": [
            "100%|██████████| 2/2 [00:00<00:00,  6.62it/s]\n",
            "100%|██████████| 3/3 [00:00<00:00,  9.57it/s]\n",
            "100%|██████████| 2/2 [00:00<00:00,  6.50it/s]\n"
          ]
        },
        {
          "output_type": "stream",
          "name": "stdout",
          "text": [
            "########## Epoch 13\n"
          ]
        },
        {
          "output_type": "stream",
          "name": "stderr",
          "text": [
            "100%|██████████| 6/6 [00:00<00:00, 12.42it/s]\n",
            "100%|██████████| 5/5 [00:00<00:00, 14.56it/s]\n"
          ]
        },
        {
          "output_type": "stream",
          "name": "stdout",
          "text": [
            "Train loss: 0.11214965581893921\tVal loss: 2.4014194011688232\tTrain acc: 97.91666666666667\tVal acc: 71.10745614035088\n"
          ]
        },
        {
          "output_type": "stream",
          "name": "stderr",
          "text": [
            "100%|██████████| 2/2 [00:00<00:00,  6.03it/s]\n",
            "100%|██████████| 3/3 [00:00<00:00,  9.71it/s]\n",
            "100%|██████████| 2/2 [00:00<00:00,  6.35it/s]\n"
          ]
        },
        {
          "output_type": "stream",
          "name": "stdout",
          "text": [
            "########## Epoch 14\n"
          ]
        },
        {
          "output_type": "stream",
          "name": "stderr",
          "text": [
            "100%|██████████| 6/6 [00:00<00:00, 12.09it/s]\n",
            "100%|██████████| 5/5 [00:00<00:00, 14.44it/s]\n"
          ]
        },
        {
          "output_type": "stream",
          "name": "stdout",
          "text": [
            "Train loss: 0.11301999539136887\tVal loss: 2.4126782417297363\tTrain acc: 97.63418079096046\tVal acc: 71.20339912280701\n"
          ]
        },
        {
          "output_type": "stream",
          "name": "stderr",
          "text": [
            "100%|██████████| 2/2 [00:00<00:00,  6.17it/s]\n",
            "100%|██████████| 3/3 [00:00<00:00,  9.26it/s]\n",
            "100%|██████████| 2/2 [00:00<00:00,  6.39it/s]\n"
          ]
        },
        {
          "output_type": "stream",
          "name": "stdout",
          "text": [
            "########## Epoch 15\n"
          ]
        },
        {
          "output_type": "stream",
          "name": "stderr",
          "text": [
            "100%|██████████| 6/6 [00:00<00:00, 12.07it/s]\n",
            "100%|██████████| 5/5 [00:00<00:00, 14.84it/s]\n"
          ]
        },
        {
          "output_type": "stream",
          "name": "stdout",
          "text": [
            "Train loss: 0.1089954748749733\tVal loss: 2.4247641563415527\tTrain acc: 97.50397245762713\tVal acc: 71.1842105263158\n"
          ]
        },
        {
          "output_type": "stream",
          "name": "stderr",
          "text": [
            "100%|██████████| 2/2 [00:00<00:00,  6.59it/s]\n",
            "100%|██████████| 3/3 [00:00<00:00,  8.94it/s]\n",
            "100%|██████████| 2/2 [00:00<00:00,  6.41it/s]\n"
          ]
        },
        {
          "output_type": "stream",
          "name": "stdout",
          "text": [
            "########## Epoch 16\n"
          ]
        },
        {
          "output_type": "stream",
          "name": "stderr",
          "text": [
            "100%|██████████| 6/6 [00:00<00:00, 11.56it/s]\n",
            "100%|██████████| 5/5 [00:00<00:00, 14.61it/s]\n"
          ]
        },
        {
          "output_type": "stream",
          "name": "stdout",
          "text": [
            "Train loss: 0.11222206801176071\tVal loss: 2.4297375679016113\tTrain acc: 97.89459745762713\tVal acc: 71.2609649122807\n"
          ]
        },
        {
          "output_type": "stream",
          "name": "stderr",
          "text": [
            "100%|██████████| 2/2 [00:00<00:00,  6.55it/s]\n",
            "100%|██████████| 3/3 [00:00<00:00,  8.68it/s]\n",
            "100%|██████████| 2/2 [00:00<00:00,  6.51it/s]\n"
          ]
        },
        {
          "output_type": "stream",
          "name": "stdout",
          "text": [
            "########## Epoch 17\n"
          ]
        },
        {
          "output_type": "stream",
          "name": "stderr",
          "text": [
            "100%|██████████| 6/6 [00:00<00:00, 12.35it/s]\n",
            "100%|██████████| 5/5 [00:00<00:00, 14.26it/s]\n"
          ]
        },
        {
          "output_type": "stream",
          "name": "stdout",
          "text": [
            "Train loss: 0.10923638939857483\tVal loss: 2.4411263465881348\tTrain acc: 97.74231991525424\tVal acc: 71.31853070175438\n"
          ]
        },
        {
          "output_type": "stream",
          "name": "stderr",
          "text": [
            "100%|██████████| 2/2 [00:00<00:00,  6.83it/s]\n",
            "100%|██████████| 3/3 [00:00<00:00,  9.55it/s]\n",
            "100%|██████████| 2/2 [00:00<00:00,  6.54it/s]\n"
          ]
        },
        {
          "output_type": "stream",
          "name": "stdout",
          "text": [
            "########## Epoch 18\n"
          ]
        },
        {
          "output_type": "stream",
          "name": "stderr",
          "text": [
            "100%|██████████| 6/6 [00:00<00:00, 12.01it/s]\n",
            "100%|██████████| 5/5 [00:00<00:00, 14.65it/s]\n"
          ]
        },
        {
          "output_type": "stream",
          "name": "stdout",
          "text": [
            "Train loss: 0.11172229051589966\tVal loss: 2.4500555992126465\tTrain acc: 97.6121115819209\tVal acc: 71.37609649122808\n"
          ]
        },
        {
          "output_type": "stream",
          "name": "stderr",
          "text": [
            "100%|██████████| 2/2 [00:00<00:00,  6.61it/s]\n",
            "100%|██████████| 3/3 [00:00<00:00,  9.47it/s]\n",
            "100%|██████████| 2/2 [00:00<00:00,  6.41it/s]\n"
          ]
        },
        {
          "output_type": "stream",
          "name": "stdout",
          "text": [
            "########## Epoch 19\n"
          ]
        },
        {
          "output_type": "stream",
          "name": "stderr",
          "text": [
            "100%|██████████| 6/6 [00:00<00:00, 11.85it/s]\n",
            "100%|██████████| 5/5 [00:00<00:00, 14.67it/s]\n"
          ]
        },
        {
          "output_type": "stream",
          "name": "stdout",
          "text": [
            "Train loss: 0.10034184902906418\tVal loss: 2.477416515350342\tTrain acc: 97.78645833333333\tVal acc: 71.16502192982456\n"
          ]
        },
        {
          "output_type": "stream",
          "name": "stderr",
          "text": [
            "100%|██████████| 2/2 [00:00<00:00,  6.30it/s]\n",
            "100%|██████████| 3/3 [00:00<00:00,  9.67it/s]\n",
            "100%|██████████| 2/2 [00:00<00:00,  6.60it/s]\n"
          ]
        },
        {
          "output_type": "stream",
          "name": "stdout",
          "text": [
            "########## Epoch 20\n"
          ]
        },
        {
          "output_type": "stream",
          "name": "stderr",
          "text": [
            "100%|██████████| 6/6 [00:00<00:00, 12.00it/s]\n",
            "100%|██████████| 5/5 [00:00<00:00, 14.16it/s]\n"
          ]
        },
        {
          "output_type": "stream",
          "name": "stdout",
          "text": [
            "Train loss: 0.09630569815635681\tVal loss: 2.471914768218994\tTrain acc: 97.91666666666667\tVal acc: 71.35690789473685\n"
          ]
        },
        {
          "output_type": "stream",
          "name": "stderr",
          "text": [
            "100%|██████████| 2/2 [00:00<00:00,  6.62it/s]\n",
            "100%|██████████| 3/3 [00:00<00:00,  9.10it/s]\n",
            "100%|██████████| 2/2 [00:00<00:00,  6.52it/s]\n"
          ]
        },
        {
          "output_type": "stream",
          "name": "stdout",
          "text": [
            "########## Epoch 21\n"
          ]
        },
        {
          "output_type": "stream",
          "name": "stderr",
          "text": [
            "100%|██████████| 6/6 [00:00<00:00, 12.21it/s]\n",
            "100%|██████████| 5/5 [00:00<00:00, 14.86it/s]\n"
          ]
        },
        {
          "output_type": "stream",
          "name": "stdout",
          "text": [
            "Train loss: 0.10408192127943039\tVal loss: 2.4990928173065186\tTrain acc: 97.7643891242938\tVal acc: 71.1842105263158\n"
          ]
        },
        {
          "output_type": "stream",
          "name": "stderr",
          "text": [
            "100%|██████████| 2/2 [00:00<00:00,  6.53it/s]\n",
            "100%|██████████| 3/3 [00:00<00:00,  9.35it/s]\n",
            "100%|██████████| 2/2 [00:00<00:00,  6.24it/s]\n"
          ]
        },
        {
          "output_type": "stream",
          "name": "stdout",
          "text": [
            "########## Epoch 22\n"
          ]
        },
        {
          "output_type": "stream",
          "name": "stderr",
          "text": [
            "100%|██████████| 6/6 [00:00<00:00, 12.03it/s]\n",
            "100%|██████████| 5/5 [00:00<00:00, 13.45it/s]\n"
          ]
        },
        {
          "output_type": "stream",
          "name": "stdout",
          "text": [
            "Train loss: 0.09447887539863586\tVal loss: 2.5156493186950684\tTrain acc: 98.046875\tVal acc: 71.12664473684211\n"
          ]
        },
        {
          "output_type": "stream",
          "name": "stderr",
          "text": [
            "100%|██████████| 2/2 [00:00<00:00,  6.32it/s]\n",
            "100%|██████████| 3/3 [00:00<00:00,  9.52it/s]\n",
            "100%|██████████| 2/2 [00:00<00:00,  6.28it/s]\n"
          ]
        },
        {
          "output_type": "stream",
          "name": "stdout",
          "text": [
            "########## Epoch 23\n"
          ]
        },
        {
          "output_type": "stream",
          "name": "stderr",
          "text": [
            "100%|██████████| 6/6 [00:00<00:00, 12.21it/s]\n",
            "100%|██████████| 5/5 [00:00<00:00, 14.64it/s]\n"
          ]
        },
        {
          "output_type": "stream",
          "name": "stdout",
          "text": [
            "Train loss: 0.10047010332345963\tVal loss: 2.512625217437744\tTrain acc: 97.7643891242938\tVal acc: 71.33771929824562\n"
          ]
        },
        {
          "output_type": "stream",
          "name": "stderr",
          "text": [
            "100%|██████████| 2/2 [00:00<00:00,  6.13it/s]\n",
            "100%|██████████| 3/3 [00:00<00:00,  8.98it/s]\n",
            "100%|██████████| 2/2 [00:00<00:00,  6.64it/s]\n"
          ]
        },
        {
          "output_type": "stream",
          "name": "stdout",
          "text": [
            "########## Epoch 24\n"
          ]
        },
        {
          "output_type": "stream",
          "name": "stderr",
          "text": [
            "100%|██████████| 6/6 [00:00<00:00, 11.73it/s]\n",
            "100%|██████████| 5/5 [00:00<00:00, 14.53it/s]\n"
          ]
        },
        {
          "output_type": "stream",
          "name": "stdout",
          "text": [
            "Train loss: 0.0971778854727745\tVal loss: 2.5258471965789795\tTrain acc: 97.48190324858757\tVal acc: 71.22258771929825\n"
          ]
        },
        {
          "output_type": "stream",
          "name": "stderr",
          "text": [
            "100%|██████████| 2/2 [00:00<00:00,  6.36it/s]\n",
            "100%|██████████| 3/3 [00:00<00:00,  9.06it/s]\n",
            "100%|██████████| 2/2 [00:00<00:00,  6.38it/s]\n"
          ]
        },
        {
          "output_type": "display_data",
          "data": {
            "text/plain": [
              "<IPython.core.display.HTML object>"
            ],
            "text/html": [
              "Waiting for W&B process to finish... <strong style=\"color:green\">(success).</strong>"
            ]
          },
          "metadata": {}
        },
        {
          "output_type": "display_data",
          "data": {
            "text/plain": [
              "VBox(children=(Label(value='0.000 MB of 0.000 MB uploaded (0.000 MB deduped)\\r'), FloatProgress(value=1.0, max…"
            ],
            "application/vnd.jupyter.widget-view+json": {
              "version_major": 2,
              "version_minor": 0,
              "model_id": "3ef709c73b2d4fc6a48c354ba18acf30"
            }
          },
          "metadata": {}
        },
        {
          "output_type": "display_data",
          "data": {
            "text/plain": [
              "<IPython.core.display.HTML object>"
            ],
            "text/html": [
              "<style>\n",
              "    table.wandb td:nth-child(1) { padding: 0 10px; text-align: left ; width: auto;} td:nth-child(2) {text-align: left ; width: 100%}\n",
              "    .wandb-row { display: flex; flex-direction: row; flex-wrap: wrap; justify-content: flex-start; width: 100% }\n",
              "    .wandb-col { display: flex; flex-direction: column; flex-basis: 100%; flex: 1; padding: 10px; }\n",
              "    </style>\n",
              "<div class=\"wandb-row\"><div class=\"wandb-col\"><h3>Run history:</h3><br/><table class=\"wandb\"><tr><td>task_0_prevtask_0_val_acc</td><td>▃▄▂▁▃▃▅▆▆▃▄▂▂▄▃▃▃▆▅▅▅▃█▅█</td></tr><tr><td>task_0_prevtask_0_val_loss</td><td>▁▂▂▂▂▁▁▁▁▂▁▂▃▂▂▂▂▂▂▂▃█▁▂▁</td></tr><tr><td>task_0_train_acc</td><td>▁▂▂▃▄▃▃▄▅▄▄▆▅▅▆▆▆▇▇███▅▇▇</td></tr><tr><td>task_0_train_loss</td><td>█▅▅▄▄▄▄▄▄▄▄▃▃▃▃▃▂▂▂▁▁▁▄▁▁</td></tr><tr><td>task_0_val_acc</td><td>▁▃▁▂▃▄▅▄▃▅▄▄▃▄▂▁▃▅▄▅▆▃▆▅█</td></tr><tr><td>task_0_val_loss</td><td>▂▂▂▂▂▂▂▂▂▁▂▂▃▂▂▃▂▂▃▂▃█▂▂▁</td></tr><tr><td>task_1_prevtask_0_val_acc</td><td>████▆▂▂▂▂▂▁▂▁▁▁▁▁▁▁▁▁▁▁▁▁</td></tr><tr><td>task_1_prevtask_0_val_loss</td><td>▁▁▁▁▁▂▃▄▄▅▅▅▅▆▆▆▆▇▇▇▇▇███</td></tr><tr><td>task_1_prevtask_1_val_acc</td><td>▁▁▁▁▄▇▇▇▇▇▇▇▇████████████</td></tr><tr><td>task_1_prevtask_1_val_loss</td><td>█▇▅▄▂▂▂▁▁▁▁▁▁▁▁▁▁▁▁▁▁▁▁▁▁</td></tr><tr><td>task_1_train_acc</td><td>▁▁▁▁▂▆▇▇▇▇▇▇▇████████████</td></tr><tr><td>task_1_train_loss</td><td>█▇▅▄▃▂▂▁▁▁▁▁▁▁▁▁▁▁▁▁▁▁▁▁▁</td></tr><tr><td>task_1_val_acc</td><td>▁▁▁▁▅▇▇▇▇▇▇▇▇▇▇▇██▇██████</td></tr><tr><td>task_1_val_loss</td><td>█▆▄▃▁▁▁▂▂▃▃▃▃▃▄▄▄▄▅▅▅▅▅▅▅</td></tr><tr><td>task_2_prevtask_0_val_acc</td><td>▁▁▁▁▁▁▁▁▁▁▁▁▁▁▁▁▁▁▁▁▁▁▁▁▁</td></tr><tr><td>task_2_prevtask_0_val_loss</td><td>▁▃▂▂▂▄▃▄▄▄▅▅▅▆▆▆▆▆▇▇▆▇█▆▇</td></tr><tr><td>task_2_prevtask_1_val_acc</td><td>▂▄▁▂▅▅██▅▅▅▃▃▅██▃█▅█▃█▅██</td></tr><tr><td>task_2_prevtask_1_val_loss</td><td>▇▆▃▄▃▆▂▂▅▄▆▄█▂▁▁▆▁▆▁▆▁▄▂▁</td></tr><tr><td>task_2_prevtask_2_val_acc</td><td>▁▁▁▁▃▃██▄█▄▁▄███▄▄███▁▄▄█</td></tr><tr><td>task_2_prevtask_2_val_loss</td><td>█▅▇▅▅▆▃▄▄▃▄▅▄▂▂▂▄▄▁▁▁▃▄▃▁</td></tr><tr><td>task_2_train_acc</td><td>▃▁▄▄▂▃▄▇▆▅▆▂▅▇▆▅▇▆▆▇▇▆█▆▅</td></tr><tr><td>task_2_train_loss</td><td>██▆▆▆▆▆▄▄▅▄▅▄▃▃▂▃▂▃▂▁▂▁▂▁</td></tr><tr><td>task_2_val_acc</td><td>▂▃▁▃▄▄▇▇▇█▇▆▆▆▆▆▇▇█▆█▆▆█▇</td></tr><tr><td>task_2_val_loss</td><td>▁▁▂▂▃▃▃▄▄▄▅▅▅▆▆▆▆▆▇▇▇▇███</td></tr></table><br/></div><div class=\"wandb-col\"><h3>Run summary:</h3><br/><table class=\"wandb\"><tr><td>task_0_prevtask_0_val_acc</td><td>69.29688</td></tr><tr><td>task_0_prevtask_0_val_loss</td><td>0.63507</td></tr><tr><td>task_0_train_acc</td><td>80.64089</td></tr><tr><td>task_0_train_loss</td><td>0.39757</td></tr><tr><td>task_0_val_acc</td><td>72.73438</td></tr><tr><td>task_0_val_loss</td><td>0.58006</td></tr><tr><td>task_1_prevtask_0_val_acc</td><td>0.0</td></tr><tr><td>task_1_prevtask_0_val_loss</td><td>7.5906</td></tr><tr><td>task_1_prevtask_1_val_acc</td><td>97.39583</td></tr><tr><td>task_1_prevtask_1_val_loss</td><td>0.15035</td></tr><tr><td>task_1_train_acc</td><td>96.32812</td></tr><tr><td>task_1_train_loss</td><td>0.16816</td></tr><tr><td>task_1_val_acc</td><td>61.52872</td></tr><tr><td>task_1_val_loss</td><td>2.82161</td></tr><tr><td>task_2_prevtask_0_val_acc</td><td>0.0</td></tr><tr><td>task_2_prevtask_0_val_loss</td><td>8.96295</td></tr><tr><td>task_2_prevtask_1_val_acc</td><td>97.65625</td></tr><tr><td>task_2_prevtask_1_val_loss</td><td>0.12157</td></tr><tr><td>task_2_prevtask_2_val_acc</td><td>98.82812</td></tr><tr><td>task_2_prevtask_2_val_loss</td><td>0.07144</td></tr><tr><td>task_2_train_acc</td><td>97.4819</td></tr><tr><td>task_2_train_loss</td><td>0.09718</td></tr><tr><td>task_2_val_acc</td><td>71.22259</td></tr><tr><td>task_2_val_loss</td><td>2.52585</td></tr></table><br/></div></div>"
            ]
          },
          "metadata": {}
        },
        {
          "output_type": "display_data",
          "data": {
            "text/plain": [
              "<IPython.core.display.HTML object>"
            ],
            "text/html": [
              "Synced <strong style=\"color:#cdcd00\">meanoffeatures_yesno_imagecondition_roadcondition_21_09_05h10m49s_mul</strong>: <a href=\"https://wandb.ai/compyle/continual_vqa_final/runs/s4epq1xn\" target=\"_blank\">https://wandb.ai/compyle/continual_vqa_final/runs/s4epq1xn</a><br/>Synced 5 W&B file(s), 0 media file(s), 0 artifact file(s) and 0 other file(s)"
            ]
          },
          "metadata": {}
        },
        {
          "output_type": "display_data",
          "data": {
            "text/plain": [
              "<IPython.core.display.HTML object>"
            ],
            "text/html": [
              "Find logs at: <code>./wandb/run-20220921_051049-s4epq1xn/logs</code>"
            ]
          },
          "metadata": {}
        },
        {
          "output_type": "display_data",
          "data": {
            "text/plain": [
              "<IPython.core.display.HTML object>"
            ],
            "text/html": [
              "Tracking run with wandb version 0.13.3"
            ]
          },
          "metadata": {}
        },
        {
          "output_type": "display_data",
          "data": {
            "text/plain": [
              "<IPython.core.display.HTML object>"
            ],
            "text/html": [
              "Run data is saved locally in <code>/content/wandb/run-20220921_051302-2as3hea2</code>"
            ]
          },
          "metadata": {}
        },
        {
          "output_type": "display_data",
          "data": {
            "text/plain": [
              "<IPython.core.display.HTML object>"
            ],
            "text/html": [
              "Syncing run <strong><a href=\"https://wandb.ai/compyle/continual_vqa_final/runs/2as3hea2\" target=\"_blank\">meanoffeatures_yesno_roadcondition_imagecondition_21_09_05h13m02s_mul</a></strong> to <a href=\"https://wandb.ai/compyle/continual_vqa_final\" target=\"_blank\">Weights & Biases</a> (<a href=\"https://wandb.me/run\" target=\"_blank\">docs</a>)<br/>"
            ]
          },
          "metadata": {}
        },
        {
          "output_type": "stream",
          "name": "stdout",
          "text": [
            "########## Epoch 0\n"
          ]
        },
        {
          "output_type": "stream",
          "name": "stderr",
          "text": [
            "100%|██████████| 6/6 [00:00<00:00, 11.55it/s]\n",
            "100%|██████████| 2/2 [00:00<00:00,  6.17it/s]\n"
          ]
        },
        {
          "output_type": "stream",
          "name": "stdout",
          "text": [
            "Train loss: 1.0346139669418335\tVal loss: 0.7428430914878845\tTrain acc: 43.27116935483871\tVal acc: 53.557854729729726\n"
          ]
        },
        {
          "output_type": "stream",
          "name": "stderr",
          "text": [
            "100%|██████████| 2/2 [00:00<00:00,  6.42it/s]\n"
          ]
        },
        {
          "output_type": "stream",
          "name": "stdout",
          "text": [
            "########## Epoch 1\n"
          ]
        },
        {
          "output_type": "stream",
          "name": "stderr",
          "text": [
            "100%|██████████| 6/6 [00:00<00:00, 11.98it/s]\n",
            "100%|██████████| 2/2 [00:00<00:00,  6.61it/s]\n"
          ]
        },
        {
          "output_type": "stream",
          "name": "stdout",
          "text": [
            "Train loss: 0.7205951809883118\tVal loss: 0.710990309715271\tTrain acc: 51.57930107526882\tVal acc: 49.71494932432432\n"
          ]
        },
        {
          "output_type": "stream",
          "name": "stderr",
          "text": [
            "100%|██████████| 2/2 [00:00<00:00,  6.39it/s]\n"
          ]
        },
        {
          "output_type": "stream",
          "name": "stdout",
          "text": [
            "########## Epoch 2\n"
          ]
        },
        {
          "output_type": "stream",
          "name": "stderr",
          "text": [
            "100%|██████████| 6/6 [00:00<00:00, 11.68it/s]\n",
            "100%|██████████| 2/2 [00:00<00:00,  6.53it/s]\n"
          ]
        },
        {
          "output_type": "stream",
          "name": "stdout",
          "text": [
            "Train loss: 0.6833794116973877\tVal loss: 0.7077716588973999\tTrain acc: 58.765961021505376\tVal acc: 49.68327702702703\n"
          ]
        },
        {
          "output_type": "stream",
          "name": "stderr",
          "text": [
            "100%|██████████| 2/2 [00:00<00:00,  6.98it/s]\n"
          ]
        },
        {
          "output_type": "stream",
          "name": "stdout",
          "text": [
            "########## Epoch 3\n"
          ]
        },
        {
          "output_type": "stream",
          "name": "stderr",
          "text": [
            "100%|██████████| 6/6 [00:00<00:00, 11.92it/s]\n",
            "100%|██████████| 2/2 [00:00<00:00,  6.45it/s]\n"
          ]
        },
        {
          "output_type": "stream",
          "name": "stdout",
          "text": [
            "Train loss: 0.6694017052650452\tVal loss: 0.6998894214630127\tTrain acc: 60.546875\tVal acc: 46.80109797297297\n"
          ]
        },
        {
          "output_type": "stream",
          "name": "stderr",
          "text": [
            "100%|██████████| 2/2 [00:00<00:00,  6.25it/s]\n"
          ]
        },
        {
          "output_type": "stream",
          "name": "stdout",
          "text": [
            "########## Epoch 4\n"
          ]
        },
        {
          "output_type": "stream",
          "name": "stderr",
          "text": [
            "100%|██████████| 6/6 [00:00<00:00, 12.34it/s]\n",
            "100%|██████████| 2/2 [00:00<00:00,  6.26it/s]\n"
          ]
        },
        {
          "output_type": "stream",
          "name": "stdout",
          "text": [
            "Train loss: 0.6706240773200989\tVal loss: 0.7055116295814514\tTrain acc: 56.510416666666664\tVal acc: 50.07390202702703\n"
          ]
        },
        {
          "output_type": "stream",
          "name": "stderr",
          "text": [
            "100%|██████████| 2/2 [00:00<00:00,  6.35it/s]\n"
          ]
        },
        {
          "output_type": "stream",
          "name": "stdout",
          "text": [
            "########## Epoch 5\n"
          ]
        },
        {
          "output_type": "stream",
          "name": "stderr",
          "text": [
            "100%|██████████| 6/6 [00:00<00:00, 12.43it/s]\n",
            "100%|██████████| 2/2 [00:00<00:00,  6.15it/s]\n"
          ]
        },
        {
          "output_type": "stream",
          "name": "stdout",
          "text": [
            "Train loss: 0.6719217896461487\tVal loss: 0.7383971810340881\tTrain acc: 59.45060483870967\tVal acc: 57.432432432432435\n"
          ]
        },
        {
          "output_type": "stream",
          "name": "stderr",
          "text": [
            "100%|██████████| 2/2 [00:00<00:00,  6.66it/s]\n"
          ]
        },
        {
          "output_type": "stream",
          "name": "stdout",
          "text": [
            "########## Epoch 6\n"
          ]
        },
        {
          "output_type": "stream",
          "name": "stderr",
          "text": [
            "100%|██████████| 6/6 [00:00<00:00, 12.16it/s]\n",
            "100%|██████████| 2/2 [00:00<00:00,  5.98it/s]\n"
          ]
        },
        {
          "output_type": "stream",
          "name": "stdout",
          "text": [
            "Train loss: 0.6508976221084595\tVal loss: 0.7323518395423889\tTrain acc: 60.45866935483871\tVal acc: 51.45692567567568\n"
          ]
        },
        {
          "output_type": "stream",
          "name": "stderr",
          "text": [
            "100%|██████████| 2/2 [00:00<00:00,  6.52it/s]\n"
          ]
        },
        {
          "output_type": "stream",
          "name": "stdout",
          "text": [
            "########## Epoch 7\n"
          ]
        },
        {
          "output_type": "stream",
          "name": "stderr",
          "text": [
            "100%|██████████| 6/6 [00:00<00:00, 12.05it/s]\n",
            "100%|██████████| 2/2 [00:00<00:00,  6.52it/s]\n"
          ]
        },
        {
          "output_type": "stream",
          "name": "stdout",
          "text": [
            "Train loss: 0.6184856295585632\tVal loss: 0.7578626275062561\tTrain acc: 65.96102150537634\tVal acc: 47.19172297297297\n"
          ]
        },
        {
          "output_type": "stream",
          "name": "stderr",
          "text": [
            "100%|██████████| 2/2 [00:00<00:00,  6.55it/s]\n"
          ]
        },
        {
          "output_type": "stream",
          "name": "stdout",
          "text": [
            "########## Epoch 8\n"
          ]
        },
        {
          "output_type": "stream",
          "name": "stderr",
          "text": [
            "100%|██████████| 6/6 [00:00<00:00, 11.95it/s]\n",
            "100%|██████████| 2/2 [00:00<00:00,  6.39it/s]\n"
          ]
        },
        {
          "output_type": "stream",
          "name": "stdout",
          "text": [
            "Train loss: 0.600705087184906\tVal loss: 0.7639328241348267\tTrain acc: 66.38524865591398\tVal acc: 44.489020270270274\n"
          ]
        },
        {
          "output_type": "stream",
          "name": "stderr",
          "text": [
            "100%|██████████| 2/2 [00:00<00:00,  6.37it/s]\n"
          ]
        },
        {
          "output_type": "stream",
          "name": "stdout",
          "text": [
            "########## Epoch 9\n"
          ]
        },
        {
          "output_type": "stream",
          "name": "stderr",
          "text": [
            "100%|██████████| 6/6 [00:00<00:00, 11.70it/s]\n",
            "100%|██████████| 2/2 [00:00<00:00,  6.54it/s]\n"
          ]
        },
        {
          "output_type": "stream",
          "name": "stdout",
          "text": [
            "Train loss: 0.5935205221176147\tVal loss: 0.7834410667419434\tTrain acc: 67.75033602150538\tVal acc: 52.02702702702703\n"
          ]
        },
        {
          "output_type": "stream",
          "name": "stderr",
          "text": [
            "100%|██████████| 2/2 [00:00<00:00,  6.50it/s]\n"
          ]
        },
        {
          "output_type": "stream",
          "name": "stdout",
          "text": [
            "########## Epoch 10\n"
          ]
        },
        {
          "output_type": "stream",
          "name": "stderr",
          "text": [
            "100%|██████████| 6/6 [00:00<00:00, 11.71it/s]\n",
            "100%|██████████| 2/2 [00:00<00:00,  6.39it/s]\n"
          ]
        },
        {
          "output_type": "stream",
          "name": "stdout",
          "text": [
            "Train loss: 0.5624163746833801\tVal loss: 0.7568632364273071\tTrain acc: 72.22782258064517\tVal acc: 48.33192567567568\n"
          ]
        },
        {
          "output_type": "stream",
          "name": "stderr",
          "text": [
            "100%|██████████| 2/2 [00:00<00:00,  6.08it/s]\n"
          ]
        },
        {
          "output_type": "stream",
          "name": "stdout",
          "text": [
            "########## Epoch 11\n"
          ]
        },
        {
          "output_type": "stream",
          "name": "stderr",
          "text": [
            "100%|██████████| 6/6 [00:00<00:00, 12.44it/s]\n",
            "100%|██████████| 2/2 [00:00<00:00,  6.32it/s]\n"
          ]
        },
        {
          "output_type": "stream",
          "name": "stdout",
          "text": [
            "Train loss: 0.553340494632721\tVal loss: 0.8203403949737549\tTrain acc: 72.77385752688171\tVal acc: 48.54307432432432\n"
          ]
        },
        {
          "output_type": "stream",
          "name": "stderr",
          "text": [
            "100%|██████████| 2/2 [00:00<00:00,  6.20it/s]\n"
          ]
        },
        {
          "output_type": "stream",
          "name": "stdout",
          "text": [
            "########## Epoch 12\n"
          ]
        },
        {
          "output_type": "stream",
          "name": "stderr",
          "text": [
            "100%|██████████| 6/6 [00:00<00:00, 12.36it/s]\n",
            "100%|██████████| 2/2 [00:00<00:00,  6.20it/s]\n"
          ]
        },
        {
          "output_type": "stream",
          "name": "stdout",
          "text": [
            "Train loss: 0.5415475964546204\tVal loss: 0.856386661529541\tTrain acc: 70.81233198924731\tVal acc: 47.223395270270274\n"
          ]
        },
        {
          "output_type": "stream",
          "name": "stderr",
          "text": [
            "100%|██████████| 2/2 [00:00<00:00,  6.44it/s]\n"
          ]
        },
        {
          "output_type": "stream",
          "name": "stdout",
          "text": [
            "########## Epoch 13\n"
          ]
        },
        {
          "output_type": "stream",
          "name": "stderr",
          "text": [
            "100%|██████████| 6/6 [00:00<00:00, 11.41it/s]\n",
            "100%|██████████| 2/2 [00:00<00:00,  6.24it/s]\n"
          ]
        },
        {
          "output_type": "stream",
          "name": "stdout",
          "text": [
            "Train loss: 0.5048953890800476\tVal loss: 0.8084644079208374\tTrain acc: 74.62197580645162\tVal acc: 49.50380067567568\n"
          ]
        },
        {
          "output_type": "stream",
          "name": "stderr",
          "text": [
            "100%|██████████| 2/2 [00:00<00:00,  6.38it/s]\n"
          ]
        },
        {
          "output_type": "stream",
          "name": "stdout",
          "text": [
            "########## Epoch 14\n"
          ]
        },
        {
          "output_type": "stream",
          "name": "stderr",
          "text": [
            "100%|██████████| 6/6 [00:00<00:00, 11.75it/s]\n",
            "100%|██████████| 2/2 [00:00<00:00,  6.61it/s]\n"
          ]
        },
        {
          "output_type": "stream",
          "name": "stdout",
          "text": [
            "Train loss: 0.5229323506355286\tVal loss: 0.9985983371734619\tTrain acc: 71.5767809139785\tVal acc: 51.24577702702703\n"
          ]
        },
        {
          "output_type": "stream",
          "name": "stderr",
          "text": [
            "100%|██████████| 2/2 [00:00<00:00,  6.48it/s]\n"
          ]
        },
        {
          "output_type": "stream",
          "name": "stdout",
          "text": [
            "########## Epoch 15\n"
          ]
        },
        {
          "output_type": "stream",
          "name": "stderr",
          "text": [
            "100%|██████████| 6/6 [00:00<00:00, 11.95it/s]\n",
            "100%|██████████| 2/2 [00:00<00:00,  6.42it/s]\n"
          ]
        },
        {
          "output_type": "stream",
          "name": "stdout",
          "text": [
            "Train loss: 0.5294374823570251\tVal loss: 0.9470386505126953\tTrain acc: 72.2614247311828\tVal acc: 48.54307432432432\n"
          ]
        },
        {
          "output_type": "stream",
          "name": "stderr",
          "text": [
            "100%|██████████| 2/2 [00:00<00:00,  6.30it/s]\n"
          ]
        },
        {
          "output_type": "stream",
          "name": "stdout",
          "text": [
            "########## Epoch 16\n"
          ]
        },
        {
          "output_type": "stream",
          "name": "stderr",
          "text": [
            "100%|██████████| 6/6 [00:00<00:00, 11.63it/s]\n",
            "100%|██████████| 2/2 [00:00<00:00,  6.05it/s]\n"
          ]
        },
        {
          "output_type": "stream",
          "name": "stdout",
          "text": [
            "Train loss: 0.5213363766670227\tVal loss: 0.8840453624725342\tTrain acc: 72.89566532258065\tVal acc: 54.729729729729726\n"
          ]
        },
        {
          "output_type": "stream",
          "name": "stderr",
          "text": [
            "100%|██████████| 2/2 [00:00<00:00,  6.23it/s]\n"
          ]
        },
        {
          "output_type": "stream",
          "name": "stdout",
          "text": [
            "########## Epoch 17\n"
          ]
        },
        {
          "output_type": "stream",
          "name": "stderr",
          "text": [
            "100%|██████████| 6/6 [00:00<00:00, 11.37it/s]\n",
            "100%|██████████| 2/2 [00:00<00:00,  6.49it/s]\n"
          ]
        },
        {
          "output_type": "stream",
          "name": "stdout",
          "text": [
            "Train loss: 0.5151874423027039\tVal loss: 0.8092615604400635\tTrain acc: 73.39129704301075\tVal acc: 52.62880067567568\n"
          ]
        },
        {
          "output_type": "stream",
          "name": "stderr",
          "text": [
            "100%|██████████| 2/2 [00:00<00:00,  6.24it/s]\n"
          ]
        },
        {
          "output_type": "stream",
          "name": "stdout",
          "text": [
            "########## Epoch 18\n"
          ]
        },
        {
          "output_type": "stream",
          "name": "stderr",
          "text": [
            "100%|██████████| 6/6 [00:00<00:00, 12.20it/s]\n",
            "100%|██████████| 2/2 [00:00<00:00,  6.43it/s]\n"
          ]
        },
        {
          "output_type": "stream",
          "name": "stdout",
          "text": [
            "Train loss: 0.4655008614063263\tVal loss: 0.895858883857727\tTrain acc: 76.73051075268818\tVal acc: 56.44003378378378\n"
          ]
        },
        {
          "output_type": "stream",
          "name": "stderr",
          "text": [
            "100%|██████████| 2/2 [00:00<00:00,  5.73it/s]\n"
          ]
        },
        {
          "output_type": "stream",
          "name": "stdout",
          "text": [
            "########## Epoch 19\n"
          ]
        },
        {
          "output_type": "stream",
          "name": "stderr",
          "text": [
            "100%|██████████| 6/6 [00:00<00:00, 12.02it/s]\n",
            "100%|██████████| 2/2 [00:00<00:00,  6.21it/s]\n"
          ]
        },
        {
          "output_type": "stream",
          "name": "stdout",
          "text": [
            "Train loss: 0.5301676392555237\tVal loss: 0.8327373266220093\tTrain acc: 69.9176747311828\tVal acc: 54.01182432432432\n"
          ]
        },
        {
          "output_type": "stream",
          "name": "stderr",
          "text": [
            "100%|██████████| 2/2 [00:00<00:00,  6.42it/s]\n"
          ]
        },
        {
          "output_type": "stream",
          "name": "stdout",
          "text": [
            "########## Epoch 20\n"
          ]
        },
        {
          "output_type": "stream",
          "name": "stderr",
          "text": [
            "100%|██████████| 6/6 [00:01<00:00,  5.42it/s]\n",
            "100%|██████████| 2/2 [00:00<00:00,  6.50it/s]\n"
          ]
        },
        {
          "output_type": "stream",
          "name": "stdout",
          "text": [
            "Train loss: 0.48392364382743835\tVal loss: 0.8508817553520203\tTrain acc: 76.67170698924731\tVal acc: 53.98015202702703\n"
          ]
        },
        {
          "output_type": "stream",
          "name": "stderr",
          "text": [
            "100%|██████████| 2/2 [00:00<00:00,  6.22it/s]\n"
          ]
        },
        {
          "output_type": "stream",
          "name": "stdout",
          "text": [
            "########## Epoch 21\n"
          ]
        },
        {
          "output_type": "stream",
          "name": "stderr",
          "text": [
            "100%|██████████| 6/6 [00:00<00:00, 12.01it/s]\n",
            "100%|██████████| 2/2 [00:00<00:00,  6.44it/s]\n"
          ]
        },
        {
          "output_type": "stream",
          "name": "stdout",
          "text": [
            "Train loss: 0.4456793963909149\tVal loss: 0.9252437353134155\tTrain acc: 79.43968413978494\tVal acc: 51.66807432432432\n"
          ]
        },
        {
          "output_type": "stream",
          "name": "stderr",
          "text": [
            "100%|██████████| 2/2 [00:00<00:00,  6.17it/s]\n"
          ]
        },
        {
          "output_type": "stream",
          "name": "stdout",
          "text": [
            "########## Epoch 22\n"
          ]
        },
        {
          "output_type": "stream",
          "name": "stderr",
          "text": [
            "100%|██████████| 6/6 [00:00<00:00, 11.93it/s]\n",
            "100%|██████████| 2/2 [00:00<00:00,  5.94it/s]\n"
          ]
        },
        {
          "output_type": "stream",
          "name": "stdout",
          "text": [
            "Train loss: 0.3968316316604614\tVal loss: 0.7708649635314941\tTrain acc: 81.53141801075269\tVal acc: 63.65076013513514\n"
          ]
        },
        {
          "output_type": "stream",
          "name": "stderr",
          "text": [
            "100%|██████████| 2/2 [00:00<00:00,  6.49it/s]\n"
          ]
        },
        {
          "output_type": "stream",
          "name": "stdout",
          "text": [
            "########## Epoch 23\n"
          ]
        },
        {
          "output_type": "stream",
          "name": "stderr",
          "text": [
            "100%|██████████| 6/6 [00:00<00:00, 11.96it/s]\n",
            "100%|██████████| 2/2 [00:00<00:00,  5.73it/s]\n"
          ]
        },
        {
          "output_type": "stream",
          "name": "stdout",
          "text": [
            "Train loss: 0.35066041350364685\tVal loss: 0.7763177156448364\tTrain acc: 84.98403897849462\tVal acc: 60.979729729729726\n"
          ]
        },
        {
          "output_type": "stream",
          "name": "stderr",
          "text": [
            "100%|██████████| 2/2 [00:00<00:00,  6.42it/s]\n"
          ]
        },
        {
          "output_type": "stream",
          "name": "stdout",
          "text": [
            "########## Epoch 24\n"
          ]
        },
        {
          "output_type": "stream",
          "name": "stderr",
          "text": [
            "100%|██████████| 6/6 [00:00<00:00, 11.74it/s]\n",
            "100%|██████████| 2/2 [00:00<00:00,  6.20it/s]\n"
          ]
        },
        {
          "output_type": "stream",
          "name": "stdout",
          "text": [
            "Train loss: 0.2981150448322296\tVal loss: 0.9363702535629272\tTrain acc: 88.3778561827957\tVal acc: 62.47888513513514\n"
          ]
        },
        {
          "output_type": "stream",
          "name": "stderr",
          "text": [
            "100%|██████████| 2/2 [00:00<00:00,  6.37it/s]\n"
          ]
        },
        {
          "output_type": "stream",
          "name": "stdout",
          "text": [
            "########## Epoch 0\n"
          ]
        },
        {
          "output_type": "stream",
          "name": "stderr",
          "text": [
            "100%|██████████| 6/6 [00:00<00:00, 10.87it/s]\n",
            "100%|██████████| 3/3 [00:00<00:00,  8.81it/s]\n"
          ]
        },
        {
          "output_type": "stream",
          "name": "stdout",
          "text": [
            "Train loss: 8.16037654876709\tVal loss: 4.1463751792907715\tTrain acc: 0.0\tVal acc: 31.45411036036036\n"
          ]
        },
        {
          "output_type": "stream",
          "name": "stderr",
          "text": [
            "100%|██████████| 2/2 [00:00<00:00,  6.29it/s]\n",
            "100%|██████████| 2/2 [00:00<00:00,  6.04it/s]\n"
          ]
        },
        {
          "output_type": "stream",
          "name": "stdout",
          "text": [
            "########## Epoch 1\n"
          ]
        },
        {
          "output_type": "stream",
          "name": "stderr",
          "text": [
            "100%|██████████| 6/6 [00:00<00:00, 11.72it/s]\n",
            "100%|██████████| 3/3 [00:00<00:00,  8.65it/s]\n"
          ]
        },
        {
          "output_type": "stream",
          "name": "stdout",
          "text": [
            "Train loss: 7.130898952484131\tVal loss: 3.8311967849731445\tTrain acc: 0.0\tVal acc: 30.412443693693692\n"
          ]
        },
        {
          "output_type": "stream",
          "name": "stderr",
          "text": [
            "100%|██████████| 2/2 [00:00<00:00,  6.33it/s]\n",
            "100%|██████████| 2/2 [00:00<00:00,  6.39it/s]\n"
          ]
        },
        {
          "output_type": "stream",
          "name": "stdout",
          "text": [
            "########## Epoch 2\n"
          ]
        },
        {
          "output_type": "stream",
          "name": "stderr",
          "text": [
            "100%|██████████| 6/6 [00:00<00:00, 11.11it/s]\n",
            "100%|██████████| 3/3 [00:00<00:00,  8.18it/s]\n"
          ]
        },
        {
          "output_type": "stream",
          "name": "stdout",
          "text": [
            "Train loss: 6.410308837890625\tVal loss: 3.4283573627471924\tTrain acc: 0.0\tVal acc: 30.84177927927928\n"
          ]
        },
        {
          "output_type": "stream",
          "name": "stderr",
          "text": [
            "100%|██████████| 2/2 [00:00<00:00,  5.83it/s]\n",
            "100%|██████████| 2/2 [00:00<00:00,  6.09it/s]\n"
          ]
        },
        {
          "output_type": "stream",
          "name": "stdout",
          "text": [
            "########## Epoch 3\n"
          ]
        },
        {
          "output_type": "stream",
          "name": "stderr",
          "text": [
            "100%|██████████| 6/6 [00:00<00:00, 12.11it/s]\n",
            "100%|██████████| 3/3 [00:00<00:00,  8.43it/s]\n"
          ]
        },
        {
          "output_type": "stream",
          "name": "stdout",
          "text": [
            "Train loss: 5.728366851806641\tVal loss: 3.1463563442230225\tTrain acc: 0.0\tVal acc: 29.65230855855856\n"
          ]
        },
        {
          "output_type": "stream",
          "name": "stderr",
          "text": [
            "100%|██████████| 2/2 [00:00<00:00,  6.20it/s]\n",
            "100%|██████████| 2/2 [00:00<00:00,  6.21it/s]\n"
          ]
        },
        {
          "output_type": "stream",
          "name": "stdout",
          "text": [
            "########## Epoch 4\n"
          ]
        },
        {
          "output_type": "stream",
          "name": "stderr",
          "text": [
            "100%|██████████| 6/6 [00:00<00:00, 11.66it/s]\n",
            "100%|██████████| 3/3 [00:00<00:00,  8.87it/s]\n"
          ]
        },
        {
          "output_type": "stream",
          "name": "stdout",
          "text": [
            "Train loss: 5.091738224029541\tVal loss: 2.7765095233917236\tTrain acc: 0.0\tVal acc: 32.47466216216216\n"
          ]
        },
        {
          "output_type": "stream",
          "name": "stderr",
          "text": [
            "100%|██████████| 2/2 [00:00<00:00,  6.29it/s]\n",
            "100%|██████████| 2/2 [00:00<00:00,  6.13it/s]\n"
          ]
        },
        {
          "output_type": "stream",
          "name": "stdout",
          "text": [
            "########## Epoch 5\n"
          ]
        },
        {
          "output_type": "stream",
          "name": "stderr",
          "text": [
            "100%|██████████| 6/6 [00:00<00:00, 11.91it/s]\n",
            "100%|██████████| 3/3 [00:00<00:00,  8.69it/s]\n"
          ]
        },
        {
          "output_type": "stream",
          "name": "stdout",
          "text": [
            "Train loss: 4.521503448486328\tVal loss: 2.527956008911133\tTrain acc: 0.0\tVal acc: 30.693975225225227\n"
          ]
        },
        {
          "output_type": "stream",
          "name": "stderr",
          "text": [
            "100%|██████████| 2/2 [00:00<00:00,  6.25it/s]\n",
            "100%|██████████| 2/2 [00:00<00:00,  6.28it/s]\n"
          ]
        },
        {
          "output_type": "stream",
          "name": "stdout",
          "text": [
            "########## Epoch 6\n"
          ]
        },
        {
          "output_type": "stream",
          "name": "stderr",
          "text": [
            "100%|██████████| 6/6 [00:00<00:00, 12.00it/s]\n",
            "100%|██████████| 3/3 [00:00<00:00,  9.07it/s]\n"
          ]
        },
        {
          "output_type": "stream",
          "name": "stdout",
          "text": [
            "Train loss: 3.966815948486328\tVal loss: 2.2531073093414307\tTrain acc: 0.0\tVal acc: 31.264076576576574\n"
          ]
        },
        {
          "output_type": "stream",
          "name": "stderr",
          "text": [
            "100%|██████████| 2/2 [00:00<00:00,  6.28it/s]\n",
            "100%|██████████| 2/2 [00:00<00:00,  6.10it/s]\n"
          ]
        },
        {
          "output_type": "stream",
          "name": "stdout",
          "text": [
            "########## Epoch 7\n"
          ]
        },
        {
          "output_type": "stream",
          "name": "stderr",
          "text": [
            "100%|██████████| 6/6 [00:00<00:00, 11.77it/s]\n",
            "100%|██████████| 3/3 [00:00<00:00,  8.93it/s]\n"
          ]
        },
        {
          "output_type": "stream",
          "name": "stdout",
          "text": [
            "Train loss: 3.3928520679473877\tVal loss: 1.98381769657135\tTrain acc: 0.0\tVal acc: 31.714527027027028\n"
          ]
        },
        {
          "output_type": "stream",
          "name": "stderr",
          "text": [
            "100%|██████████| 2/2 [00:00<00:00,  5.99it/s]\n",
            "100%|██████████| 2/2 [00:00<00:00,  6.44it/s]\n"
          ]
        },
        {
          "output_type": "stream",
          "name": "stdout",
          "text": [
            "########## Epoch 8\n"
          ]
        },
        {
          "output_type": "stream",
          "name": "stderr",
          "text": [
            "100%|██████████| 6/6 [00:00<00:00, 11.76it/s]\n",
            "100%|██████████| 3/3 [00:00<00:00,  9.09it/s]\n"
          ]
        },
        {
          "output_type": "stream",
          "name": "stdout",
          "text": [
            "Train loss: 2.844573736190796\tVal loss: 1.754801630973816\tTrain acc: 0.0\tVal acc: 32.28462837837838\n"
          ]
        },
        {
          "output_type": "stream",
          "name": "stderr",
          "text": [
            "100%|██████████| 2/2 [00:00<00:00,  6.31it/s]\n",
            "100%|██████████| 2/2 [00:00<00:00,  6.19it/s]\n"
          ]
        },
        {
          "output_type": "stream",
          "name": "stdout",
          "text": [
            "########## Epoch 9\n"
          ]
        },
        {
          "output_type": "stream",
          "name": "stderr",
          "text": [
            "100%|██████████| 6/6 [00:00<00:00, 11.74it/s]\n",
            "100%|██████████| 3/3 [00:00<00:00,  9.11it/s]\n"
          ]
        },
        {
          "output_type": "stream",
          "name": "stdout",
          "text": [
            "Train loss: 2.3070507049560547\tVal loss: 1.533542275428772\tTrain acc: 0.6678427419354839\tVal acc: 34.177927927927925\n"
          ]
        },
        {
          "output_type": "stream",
          "name": "stderr",
          "text": [
            "100%|██████████| 2/2 [00:00<00:00,  6.11it/s]\n",
            "100%|██████████| 2/2 [00:00<00:00,  6.01it/s]\n"
          ]
        },
        {
          "output_type": "stream",
          "name": "stdout",
          "text": [
            "########## Epoch 10\n"
          ]
        },
        {
          "output_type": "stream",
          "name": "stderr",
          "text": [
            "100%|██████████| 6/6 [00:00<00:00, 11.38it/s]\n",
            "100%|██████████| 3/3 [00:00<00:00,  8.97it/s]\n"
          ]
        },
        {
          "output_type": "stream",
          "name": "stdout",
          "text": [
            "Train loss: 1.8137201070785522\tVal loss: 1.3873547315597534\tTrain acc: 15.238575268817206\tVal acc: 42.4901463963964\n"
          ]
        },
        {
          "output_type": "stream",
          "name": "stderr",
          "text": [
            "100%|██████████| 2/2 [00:00<00:00,  6.36it/s]\n",
            "100%|██████████| 2/2 [00:00<00:00,  6.27it/s]\n"
          ]
        },
        {
          "output_type": "stream",
          "name": "stdout",
          "text": [
            "########## Epoch 11\n"
          ]
        },
        {
          "output_type": "stream",
          "name": "stderr",
          "text": [
            "100%|██████████| 6/6 [00:00<00:00, 11.73it/s]\n",
            "100%|██████████| 3/3 [00:00<00:00,  8.53it/s]\n"
          ]
        },
        {
          "output_type": "stream",
          "name": "stdout",
          "text": [
            "Train loss: 1.3408602476119995\tVal loss: 1.3472639322280884\tTrain acc: 48.878528225806456\tVal acc: 46.5160472972973\n"
          ]
        },
        {
          "output_type": "stream",
          "name": "stderr",
          "text": [
            "100%|██████████| 2/2 [00:00<00:00,  6.26it/s]\n",
            "100%|██████████| 2/2 [00:00<00:00,  6.43it/s]\n"
          ]
        },
        {
          "output_type": "stream",
          "name": "stdout",
          "text": [
            "########## Epoch 12\n"
          ]
        },
        {
          "output_type": "stream",
          "name": "stderr",
          "text": [
            "100%|██████████| 6/6 [00:00<00:00, 11.41it/s]\n",
            "100%|██████████| 3/3 [00:00<00:00,  8.99it/s]\n"
          ]
        },
        {
          "output_type": "stream",
          "name": "stdout",
          "text": [
            "Train loss: 1.0018891096115112\tVal loss: 1.4370651245117188\tTrain acc: 69.28343413978494\tVal acc: 42.060810810810814\n"
          ]
        },
        {
          "output_type": "stream",
          "name": "stderr",
          "text": [
            "100%|██████████| 2/2 [00:00<00:00,  6.31it/s]\n",
            "100%|██████████| 2/2 [00:00<00:00,  5.96it/s]\n"
          ]
        },
        {
          "output_type": "stream",
          "name": "stdout",
          "text": [
            "########## Epoch 13\n"
          ]
        },
        {
          "output_type": "stream",
          "name": "stderr",
          "text": [
            "100%|██████████| 6/6 [00:00<00:00, 12.10it/s]\n",
            "100%|██████████| 3/3 [00:00<00:00,  8.62it/s]\n"
          ]
        },
        {
          "output_type": "stream",
          "name": "stdout",
          "text": [
            "Train loss: 0.8007261753082275\tVal loss: 1.566359043121338\tTrain acc: 77.61676747311829\tVal acc: 42.68018018018018\n"
          ]
        },
        {
          "output_type": "stream",
          "name": "stderr",
          "text": [
            "100%|██████████| 2/2 [00:00<00:00,  6.13it/s]\n",
            "100%|██████████| 2/2 [00:00<00:00,  6.24it/s]\n"
          ]
        },
        {
          "output_type": "stream",
          "name": "stdout",
          "text": [
            "########## Epoch 14\n"
          ]
        },
        {
          "output_type": "stream",
          "name": "stderr",
          "text": [
            "100%|██████████| 6/6 [00:00<00:00, 11.49it/s]\n",
            "100%|██████████| 3/3 [00:00<00:00,  9.13it/s]\n"
          ]
        },
        {
          "output_type": "stream",
          "name": "stdout",
          "text": [
            "Train loss: 0.6514099836349487\tVal loss: 1.7125691175460815\tTrain acc: 80.52335349462366\tVal acc: 43.36993243243243\n"
          ]
        },
        {
          "output_type": "stream",
          "name": "stderr",
          "text": [
            "100%|██████████| 2/2 [00:00<00:00,  6.17it/s]\n",
            "100%|██████████| 2/2 [00:00<00:00,  6.05it/s]\n"
          ]
        },
        {
          "output_type": "stream",
          "name": "stdout",
          "text": [
            "########## Epoch 15\n"
          ]
        },
        {
          "output_type": "stream",
          "name": "stderr",
          "text": [
            "100%|██████████| 6/6 [00:00<00:00, 11.34it/s]\n",
            "100%|██████████| 3/3 [00:00<00:00,  8.58it/s]\n"
          ]
        },
        {
          "output_type": "stream",
          "name": "stdout",
          "text": [
            "Train loss: 0.5771641135215759\tVal loss: 1.8805261850357056\tTrain acc: 81.28780241935483\tVal acc: 42.01858108108108\n"
          ]
        },
        {
          "output_type": "stream",
          "name": "stderr",
          "text": [
            "100%|██████████| 2/2 [00:00<00:00,  5.97it/s]\n",
            "100%|██████████| 2/2 [00:00<00:00,  6.41it/s]\n"
          ]
        },
        {
          "output_type": "stream",
          "name": "stdout",
          "text": [
            "########## Epoch 16\n"
          ]
        },
        {
          "output_type": "stream",
          "name": "stderr",
          "text": [
            "100%|██████████| 6/6 [00:00<00:00, 11.52it/s]\n",
            "100%|██████████| 3/3 [00:00<00:00,  9.13it/s]\n"
          ]
        },
        {
          "output_type": "stream",
          "name": "stdout",
          "text": [
            "Train loss: 0.5252599120140076\tVal loss: 2.0126888751983643\tTrain acc: 81.27100134408602\tVal acc: 41.758164414414416\n"
          ]
        },
        {
          "output_type": "stream",
          "name": "stderr",
          "text": [
            "100%|██████████| 2/2 [00:00<00:00,  6.00it/s]\n",
            "100%|██████████| 2/2 [00:00<00:00,  6.16it/s]\n"
          ]
        },
        {
          "output_type": "stream",
          "name": "stdout",
          "text": [
            "########## Epoch 17\n"
          ]
        },
        {
          "output_type": "stream",
          "name": "stderr",
          "text": [
            "100%|██████████| 6/6 [00:00<00:00, 12.10it/s]\n",
            "100%|██████████| 3/3 [00:00<00:00,  8.67it/s]\n"
          ]
        },
        {
          "output_type": "stream",
          "name": "stdout",
          "text": [
            "Train loss: 0.481139212846756\tVal loss: 2.1399266719818115\tTrain acc: 81.53141801075269\tVal acc: 41.758164414414416\n"
          ]
        },
        {
          "output_type": "stream",
          "name": "stderr",
          "text": [
            "100%|██████████| 2/2 [00:00<00:00,  6.29it/s]\n",
            "100%|██████████| 2/2 [00:00<00:00,  6.05it/s]\n"
          ]
        },
        {
          "output_type": "stream",
          "name": "stdout",
          "text": [
            "########## Epoch 18\n"
          ]
        },
        {
          "output_type": "stream",
          "name": "stderr",
          "text": [
            "100%|██████████| 6/6 [00:00<00:00, 11.48it/s]\n",
            "100%|██████████| 3/3 [00:00<00:00,  9.26it/s]\n"
          ]
        },
        {
          "output_type": "stream",
          "name": "stdout",
          "text": [
            "Train loss: 0.4366053342819214\tVal loss: 2.2751810550689697\tTrain acc: 81.67842741935483\tVal acc: 41.37809684684685\n"
          ]
        },
        {
          "output_type": "stream",
          "name": "stderr",
          "text": [
            "100%|██████████| 2/2 [00:00<00:00,  6.03it/s]\n",
            "100%|██████████| 2/2 [00:00<00:00,  6.53it/s]\n"
          ]
        },
        {
          "output_type": "stream",
          "name": "stdout",
          "text": [
            "########## Epoch 19\n"
          ]
        },
        {
          "output_type": "stream",
          "name": "stderr",
          "text": [
            "100%|██████████| 6/6 [00:00<00:00, 11.97it/s]\n",
            "100%|██████████| 3/3 [00:00<00:00,  8.68it/s]\n"
          ]
        },
        {
          "output_type": "stream",
          "name": "stdout",
          "text": [
            "Train loss: 0.4139295518398285\tVal loss: 2.310053586959839\tTrain acc: 81.80023521505376\tVal acc: 41.687781531531535\n"
          ]
        },
        {
          "output_type": "stream",
          "name": "stderr",
          "text": [
            "100%|██████████| 2/2 [00:00<00:00,  6.03it/s]\n",
            "100%|██████████| 2/2 [00:00<00:00,  6.13it/s]\n"
          ]
        },
        {
          "output_type": "stream",
          "name": "stdout",
          "text": [
            "########## Epoch 20\n"
          ]
        },
        {
          "output_type": "stream",
          "name": "stderr",
          "text": [
            "100%|██████████| 6/6 [00:00<00:00, 11.76it/s]\n",
            "100%|██████████| 3/3 [00:00<00:00,  9.09it/s]\n"
          ]
        },
        {
          "output_type": "stream",
          "name": "stdout",
          "text": [
            "Train loss: 0.3783091604709625\tVal loss: 2.354783296585083\tTrain acc: 81.67002688172043\tVal acc: 41.758164414414416\n"
          ]
        },
        {
          "output_type": "stream",
          "name": "stderr",
          "text": [
            "100%|██████████| 2/2 [00:00<00:00,  5.76it/s]\n",
            "100%|██████████| 2/2 [00:00<00:00,  6.33it/s]\n"
          ]
        },
        {
          "output_type": "stream",
          "name": "stdout",
          "text": [
            "########## Epoch 21\n"
          ]
        },
        {
          "output_type": "stream",
          "name": "stderr",
          "text": [
            "100%|██████████| 6/6 [00:00<00:00, 11.89it/s]\n",
            "100%|██████████| 3/3 [00:00<00:00,  8.60it/s]\n"
          ]
        },
        {
          "output_type": "stream",
          "name": "stdout",
          "text": [
            "Train loss: 0.3454558849334717\tVal loss: 2.3892147541046143\tTrain acc: 83.50974462365592\tVal acc: 42.708333333333336\n"
          ]
        },
        {
          "output_type": "stream",
          "name": "stderr",
          "text": [
            "100%|██████████| 2/2 [00:00<00:00,  6.33it/s]\n",
            "100%|██████████| 2/2 [00:00<00:00,  6.17it/s]\n"
          ]
        },
        {
          "output_type": "stream",
          "name": "stdout",
          "text": [
            "########## Epoch 22\n"
          ]
        },
        {
          "output_type": "stream",
          "name": "stderr",
          "text": [
            "100%|██████████| 6/6 [00:00<00:00, 11.86it/s]\n",
            "100%|██████████| 3/3 [00:00<00:00,  9.45it/s]\n"
          ]
        },
        {
          "output_type": "stream",
          "name": "stdout",
          "text": [
            "Train loss: 0.31318455934524536\tVal loss: 2.482025384902954\tTrain acc: 85.87869623655915\tVal acc: 43.6303490990991\n"
          ]
        },
        {
          "output_type": "stream",
          "name": "stderr",
          "text": [
            "100%|██████████| 2/2 [00:00<00:00,  6.12it/s]\n",
            "100%|██████████| 2/2 [00:00<00:00,  6.26it/s]\n"
          ]
        },
        {
          "output_type": "stream",
          "name": "stdout",
          "text": [
            "########## Epoch 23\n"
          ]
        },
        {
          "output_type": "stream",
          "name": "stderr",
          "text": [
            "100%|██████████| 6/6 [00:00<00:00, 11.93it/s]\n",
            "100%|██████████| 3/3 [00:00<00:00,  8.90it/s]\n"
          ]
        },
        {
          "output_type": "stream",
          "name": "stdout",
          "text": [
            "Train loss: 0.28672289848327637\tVal loss: 2.541708469390869\tTrain acc: 87.71001344086022\tVal acc: 45.1928490990991\n"
          ]
        },
        {
          "output_type": "stream",
          "name": "stderr",
          "text": [
            "100%|██████████| 2/2 [00:00<00:00,  6.20it/s]\n",
            "100%|██████████| 2/2 [00:00<00:00,  6.37it/s]\n"
          ]
        },
        {
          "output_type": "stream",
          "name": "stdout",
          "text": [
            "########## Epoch 24\n"
          ]
        },
        {
          "output_type": "stream",
          "name": "stderr",
          "text": [
            "100%|██████████| 6/6 [00:00<00:00, 11.78it/s]\n",
            "100%|██████████| 3/3 [00:00<00:00,  8.52it/s]\n"
          ]
        },
        {
          "output_type": "stream",
          "name": "stdout",
          "text": [
            "Train loss: 0.2716723382472992\tVal loss: 2.589219093322754\tTrain acc: 89.63793682795699\tVal acc: 45.50253378378378\n"
          ]
        },
        {
          "output_type": "stream",
          "name": "stderr",
          "text": [
            "100%|██████████| 2/2 [00:00<00:00,  6.14it/s]\n",
            "100%|██████████| 2/2 [00:00<00:00,  6.11it/s]\n"
          ]
        },
        {
          "output_type": "stream",
          "name": "stdout",
          "text": [
            "########## Epoch 0\n"
          ]
        },
        {
          "output_type": "stream",
          "name": "stderr",
          "text": [
            "100%|██████████| 10/10 [00:00<00:00, 16.38it/s]\n",
            "100%|██████████| 5/5 [00:00<00:00, 14.04it/s]\n"
          ]
        },
        {
          "output_type": "stream",
          "name": "stdout",
          "text": [
            "Train loss: 0.23052287101745605\tVal loss: 1.5717875957489014\tTrain acc: 93.4375\tVal acc: 66.86921296296296\n"
          ]
        },
        {
          "output_type": "stream",
          "name": "stderr",
          "text": [
            "100%|██████████| 2/2 [00:00<00:00,  6.20it/s]\n",
            "100%|██████████| 2/2 [00:00<00:00,  6.63it/s]\n",
            "100%|██████████| 3/3 [00:00<00:00,  8.64it/s]\n"
          ]
        },
        {
          "output_type": "stream",
          "name": "stdout",
          "text": [
            "########## Epoch 1\n"
          ]
        },
        {
          "output_type": "stream",
          "name": "stderr",
          "text": [
            "100%|██████████| 10/10 [00:00<00:00, 16.04it/s]\n",
            "100%|██████████| 5/5 [00:00<00:00, 13.38it/s]\n"
          ]
        },
        {
          "output_type": "stream",
          "name": "stdout",
          "text": [
            "Train loss: 0.2305631935596466\tVal loss: 1.6115763187408447\tTrain acc: 92.55208333333334\tVal acc: 68.16550925925927\n"
          ]
        },
        {
          "output_type": "stream",
          "name": "stderr",
          "text": [
            "100%|██████████| 2/2 [00:00<00:00,  5.84it/s]\n",
            "100%|██████████| 2/2 [00:00<00:00,  6.47it/s]\n",
            "100%|██████████| 3/3 [00:00<00:00,  8.64it/s]\n"
          ]
        },
        {
          "output_type": "stream",
          "name": "stdout",
          "text": [
            "########## Epoch 2\n"
          ]
        },
        {
          "output_type": "stream",
          "name": "stderr",
          "text": [
            "100%|██████████| 10/10 [00:00<00:00, 15.88it/s]\n",
            "100%|██████████| 5/5 [00:00<00:00, 13.55it/s]\n"
          ]
        },
        {
          "output_type": "stream",
          "name": "stdout",
          "text": [
            "Train loss: 0.20441679656505585\tVal loss: 1.6535120010375977\tTrain acc: 95.390625\tVal acc: 68.83101851851852\n"
          ]
        },
        {
          "output_type": "stream",
          "name": "stderr",
          "text": [
            "100%|██████████| 2/2 [00:00<00:00,  6.38it/s]\n",
            "100%|██████████| 2/2 [00:00<00:00,  6.29it/s]\n",
            "100%|██████████| 3/3 [00:00<00:00,  8.50it/s]\n"
          ]
        },
        {
          "output_type": "stream",
          "name": "stdout",
          "text": [
            "########## Epoch 3\n"
          ]
        },
        {
          "output_type": "stream",
          "name": "stderr",
          "text": [
            "100%|██████████| 10/10 [00:00<00:00, 15.35it/s]\n",
            "100%|██████████| 5/5 [00:00<00:00, 12.38it/s]\n"
          ]
        },
        {
          "output_type": "stream",
          "name": "stdout",
          "text": [
            "Train loss: 0.20090170204639435\tVal loss: 1.7092005014419556\tTrain acc: 95.859375\tVal acc: 69.49652777777779\n"
          ]
        },
        {
          "output_type": "stream",
          "name": "stderr",
          "text": [
            "100%|██████████| 2/2 [00:00<00:00,  6.43it/s]\n",
            "100%|██████████| 2/2 [00:00<00:00,  6.14it/s]\n",
            "100%|██████████| 3/3 [00:00<00:00,  8.77it/s]\n"
          ]
        },
        {
          "output_type": "stream",
          "name": "stdout",
          "text": [
            "########## Epoch 4\n"
          ]
        },
        {
          "output_type": "stream",
          "name": "stderr",
          "text": [
            "100%|██████████| 10/10 [00:00<00:00, 15.98it/s]\n",
            "100%|██████████| 5/5 [00:00<00:00, 13.40it/s]\n"
          ]
        },
        {
          "output_type": "stream",
          "name": "stdout",
          "text": [
            "Train loss: 0.19176176190376282\tVal loss: 1.7553859949111938\tTrain acc: 96.25\tVal acc: 69.49652777777779\n"
          ]
        },
        {
          "output_type": "stream",
          "name": "stderr",
          "text": [
            "100%|██████████| 2/2 [00:00<00:00,  6.42it/s]\n",
            "100%|██████████| 2/2 [00:00<00:00,  6.37it/s]\n",
            "100%|██████████| 3/3 [00:00<00:00,  8.55it/s]\n"
          ]
        },
        {
          "output_type": "stream",
          "name": "stdout",
          "text": [
            "########## Epoch 5\n"
          ]
        },
        {
          "output_type": "stream",
          "name": "stderr",
          "text": [
            "100%|██████████| 10/10 [00:00<00:00, 15.97it/s]\n",
            "100%|██████████| 5/5 [00:00<00:00, 13.54it/s]\n"
          ]
        },
        {
          "output_type": "stream",
          "name": "stdout",
          "text": [
            "Train loss: 0.17628023028373718\tVal loss: 1.7843248844146729\tTrain acc: 96.640625\tVal acc: 69.95949074074073\n"
          ]
        },
        {
          "output_type": "stream",
          "name": "stderr",
          "text": [
            "100%|██████████| 2/2 [00:00<00:00,  6.31it/s]\n",
            "100%|██████████| 2/2 [00:00<00:00,  6.41it/s]\n",
            "100%|██████████| 3/3 [00:00<00:00,  8.41it/s]\n"
          ]
        },
        {
          "output_type": "stream",
          "name": "stdout",
          "text": [
            "########## Epoch 6\n"
          ]
        },
        {
          "output_type": "stream",
          "name": "stderr",
          "text": [
            "100%|██████████| 10/10 [00:00<00:00, 15.83it/s]\n",
            "100%|██████████| 5/5 [00:00<00:00, 13.34it/s]\n"
          ]
        },
        {
          "output_type": "stream",
          "name": "stdout",
          "text": [
            "Train loss: 0.17592006921768188\tVal loss: 1.851595163345337\tTrain acc: 96.71875\tVal acc: 69.75694444444444\n"
          ]
        },
        {
          "output_type": "stream",
          "name": "stderr",
          "text": [
            "100%|██████████| 2/2 [00:00<00:00,  6.13it/s]\n",
            "100%|██████████| 2/2 [00:00<00:00,  6.03it/s]\n",
            "100%|██████████| 3/3 [00:00<00:00,  8.50it/s]\n"
          ]
        },
        {
          "output_type": "stream",
          "name": "stdout",
          "text": [
            "########## Epoch 7\n"
          ]
        },
        {
          "output_type": "stream",
          "name": "stderr",
          "text": [
            "100%|██████████| 10/10 [00:00<00:00, 15.59it/s]\n",
            "100%|██████████| 5/5 [00:00<00:00, 13.59it/s]\n"
          ]
        },
        {
          "output_type": "stream",
          "name": "stdout",
          "text": [
            "Train loss: 0.16846445202827454\tVal loss: 1.900874376296997\tTrain acc: 96.71875\tVal acc: 69.52546296296296\n"
          ]
        },
        {
          "output_type": "stream",
          "name": "stderr",
          "text": [
            "100%|██████████| 2/2 [00:00<00:00,  6.06it/s]\n",
            "100%|██████████| 2/2 [00:00<00:00,  6.40it/s]\n",
            "100%|██████████| 3/3 [00:00<00:00,  8.82it/s]\n"
          ]
        },
        {
          "output_type": "stream",
          "name": "stdout",
          "text": [
            "########## Epoch 8\n"
          ]
        },
        {
          "output_type": "stream",
          "name": "stderr",
          "text": [
            "100%|██████████| 10/10 [00:00<00:00, 15.93it/s]\n",
            "100%|██████████| 5/5 [00:00<00:00, 13.75it/s]\n"
          ]
        },
        {
          "output_type": "stream",
          "name": "stdout",
          "text": [
            "Train loss: 0.16088555753231049\tVal loss: 1.9345104694366455\tTrain acc: 96.875\tVal acc: 69.88425925925927\n"
          ]
        },
        {
          "output_type": "stream",
          "name": "stderr",
          "text": [
            "100%|██████████| 2/2 [00:00<00:00,  6.05it/s]\n",
            "100%|██████████| 2/2 [00:00<00:00,  6.18it/s]\n",
            "100%|██████████| 3/3 [00:00<00:00,  8.66it/s]\n"
          ]
        },
        {
          "output_type": "stream",
          "name": "stdout",
          "text": [
            "########## Epoch 9\n"
          ]
        },
        {
          "output_type": "stream",
          "name": "stderr",
          "text": [
            "100%|██████████| 10/10 [00:00<00:00, 14.98it/s]\n",
            "100%|██████████| 5/5 [00:00<00:00, 13.65it/s]\n"
          ]
        },
        {
          "output_type": "stream",
          "name": "stdout",
          "text": [
            "Train loss: 0.15143126249313354\tVal loss: 1.9700143337249756\tTrain acc: 96.875\tVal acc: 70.04050925925927\n"
          ]
        },
        {
          "output_type": "stream",
          "name": "stderr",
          "text": [
            "100%|██████████| 2/2 [00:00<00:00,  6.08it/s]\n",
            "100%|██████████| 2/2 [00:00<00:00,  6.01it/s]\n",
            "100%|██████████| 3/3 [00:00<00:00,  9.00it/s]\n"
          ]
        },
        {
          "output_type": "stream",
          "name": "stdout",
          "text": [
            "########## Epoch 10\n"
          ]
        },
        {
          "output_type": "stream",
          "name": "stderr",
          "text": [
            "100%|██████████| 10/10 [00:00<00:00, 15.30it/s]\n",
            "100%|██████████| 5/5 [00:00<00:00, 13.30it/s]\n"
          ]
        },
        {
          "output_type": "stream",
          "name": "stdout",
          "text": [
            "Train loss: 0.1488952934741974\tVal loss: 1.999285101890564\tTrain acc: 96.796875\tVal acc: 70.15625\n"
          ]
        },
        {
          "output_type": "stream",
          "name": "stderr",
          "text": [
            "100%|██████████| 2/2 [00:00<00:00,  5.79it/s]\n",
            "100%|██████████| 2/2 [00:00<00:00,  5.96it/s]\n",
            "100%|██████████| 3/3 [00:00<00:00,  8.71it/s]\n"
          ]
        },
        {
          "output_type": "stream",
          "name": "stdout",
          "text": [
            "########## Epoch 11\n"
          ]
        },
        {
          "output_type": "stream",
          "name": "stderr",
          "text": [
            "100%|██████████| 10/10 [00:00<00:00, 15.52it/s]\n",
            "100%|██████████| 5/5 [00:00<00:00, 13.50it/s]\n"
          ]
        },
        {
          "output_type": "stream",
          "name": "stdout",
          "text": [
            "Train loss: 0.1490037888288498\tVal loss: 2.0406198501586914\tTrain acc: 96.796875\tVal acc: 70.01157407407408\n"
          ]
        },
        {
          "output_type": "stream",
          "name": "stderr",
          "text": [
            "100%|██████████| 2/2 [00:00<00:00,  6.29it/s]\n",
            "100%|██████████| 2/2 [00:00<00:00,  6.02it/s]\n",
            "100%|██████████| 3/3 [00:00<00:00,  8.49it/s]\n"
          ]
        },
        {
          "output_type": "stream",
          "name": "stdout",
          "text": [
            "########## Epoch 12\n"
          ]
        },
        {
          "output_type": "stream",
          "name": "stderr",
          "text": [
            "100%|██████████| 10/10 [00:00<00:00, 15.78it/s]\n",
            "100%|██████████| 5/5 [00:00<00:00, 13.19it/s]\n"
          ]
        },
        {
          "output_type": "stream",
          "name": "stdout",
          "text": [
            "Train loss: 0.14594799280166626\tVal loss: 2.076594829559326\tTrain acc: 96.875\tVal acc: 69.98263888888889\n"
          ]
        },
        {
          "output_type": "stream",
          "name": "stderr",
          "text": [
            "100%|██████████| 2/2 [00:00<00:00,  6.01it/s]\n",
            "100%|██████████| 2/2 [00:00<00:00,  6.19it/s]\n",
            "100%|██████████| 3/3 [00:00<00:00,  8.24it/s]\n"
          ]
        },
        {
          "output_type": "stream",
          "name": "stdout",
          "text": [
            "########## Epoch 13\n"
          ]
        },
        {
          "output_type": "stream",
          "name": "stderr",
          "text": [
            "100%|██████████| 10/10 [00:00<00:00, 15.54it/s]\n",
            "100%|██████████| 5/5 [00:00<00:00, 13.01it/s]\n"
          ]
        },
        {
          "output_type": "stream",
          "name": "stdout",
          "text": [
            "Train loss: 0.14189505577087402\tVal loss: 2.1118996143341064\tTrain acc: 96.875\tVal acc: 69.86689814814815\n"
          ]
        },
        {
          "output_type": "stream",
          "name": "stderr",
          "text": [
            "100%|██████████| 2/2 [00:00<00:00,  6.33it/s]\n",
            "100%|██████████| 2/2 [00:00<00:00,  6.19it/s]\n",
            "100%|██████████| 3/3 [00:00<00:00,  8.64it/s]\n"
          ]
        },
        {
          "output_type": "stream",
          "name": "stdout",
          "text": [
            "########## Epoch 14\n"
          ]
        },
        {
          "output_type": "stream",
          "name": "stderr",
          "text": [
            "100%|██████████| 10/10 [00:00<00:00, 15.91it/s]\n",
            "100%|██████████| 5/5 [00:00<00:00, 13.24it/s]\n"
          ]
        },
        {
          "output_type": "stream",
          "name": "stdout",
          "text": [
            "Train loss: 0.17405346035957336\tVal loss: 2.1211905479431152\tTrain acc: 95.36458333333334\tVal acc: 70.41087962962963\n"
          ]
        },
        {
          "output_type": "stream",
          "name": "stderr",
          "text": [
            "100%|██████████| 2/2 [00:00<00:00,  6.00it/s]\n",
            "100%|██████████| 2/2 [00:00<00:00,  6.10it/s]\n",
            "100%|██████████| 3/3 [00:00<00:00,  8.52it/s]\n"
          ]
        },
        {
          "output_type": "stream",
          "name": "stdout",
          "text": [
            "########## Epoch 15\n"
          ]
        },
        {
          "output_type": "stream",
          "name": "stderr",
          "text": [
            "100%|██████████| 10/10 [00:00<00:00, 16.13it/s]\n",
            "100%|██████████| 5/5 [00:00<00:00, 13.42it/s]\n"
          ]
        },
        {
          "output_type": "stream",
          "name": "stdout",
          "text": [
            "Train loss: 0.14314687252044678\tVal loss: 2.143571376800537\tTrain acc: 96.796875\tVal acc: 70.26620370370371\n"
          ]
        },
        {
          "output_type": "stream",
          "name": "stderr",
          "text": [
            "100%|██████████| 2/2 [00:00<00:00,  6.41it/s]\n",
            "100%|██████████| 2/2 [00:00<00:00,  6.10it/s]\n",
            "100%|██████████| 3/3 [00:00<00:00,  8.28it/s]\n"
          ]
        },
        {
          "output_type": "stream",
          "name": "stdout",
          "text": [
            "########## Epoch 16\n"
          ]
        },
        {
          "output_type": "stream",
          "name": "stderr",
          "text": [
            "100%|██████████| 10/10 [00:00<00:00, 15.59it/s]\n",
            "100%|██████████| 5/5 [00:00<00:00, 13.11it/s]\n"
          ]
        },
        {
          "output_type": "stream",
          "name": "stdout",
          "text": [
            "Train loss: 0.13957157731056213\tVal loss: 2.1868362426757812\tTrain acc: 96.953125\tVal acc: 70.36458333333334\n"
          ]
        },
        {
          "output_type": "stream",
          "name": "stderr",
          "text": [
            "100%|██████████| 2/2 [00:00<00:00,  5.95it/s]\n",
            "100%|██████████| 2/2 [00:00<00:00,  5.96it/s]\n",
            "100%|██████████| 3/3 [00:00<00:00,  8.28it/s]\n"
          ]
        },
        {
          "output_type": "stream",
          "name": "stdout",
          "text": [
            "########## Epoch 17\n"
          ]
        },
        {
          "output_type": "stream",
          "name": "stderr",
          "text": [
            "100%|██████████| 10/10 [00:00<00:00, 15.62it/s]\n",
            "100%|██████████| 5/5 [00:00<00:00, 13.16it/s]\n"
          ]
        },
        {
          "output_type": "stream",
          "name": "stdout",
          "text": [
            "Train loss: 0.13634303212165833\tVal loss: 2.1963629722595215\tTrain acc: 96.953125\tVal acc: 70.46875\n"
          ]
        },
        {
          "output_type": "stream",
          "name": "stderr",
          "text": [
            "100%|██████████| 2/2 [00:00<00:00,  6.15it/s]\n",
            "100%|██████████| 2/2 [00:00<00:00,  5.66it/s]\n",
            "100%|██████████| 3/3 [00:00<00:00,  8.49it/s]\n"
          ]
        },
        {
          "output_type": "stream",
          "name": "stdout",
          "text": [
            "########## Epoch 18\n"
          ]
        },
        {
          "output_type": "stream",
          "name": "stderr",
          "text": [
            "100%|██████████| 10/10 [00:00<00:00, 15.24it/s]\n",
            "100%|██████████| 5/5 [00:00<00:00, 13.43it/s]\n"
          ]
        },
        {
          "output_type": "stream",
          "name": "stdout",
          "text": [
            "Train loss: 0.13347402215003967\tVal loss: 2.2367522716522217\tTrain acc: 96.953125\tVal acc: 70.26620370370371\n"
          ]
        },
        {
          "output_type": "stream",
          "name": "stderr",
          "text": [
            "100%|██████████| 2/2 [00:00<00:00,  5.98it/s]\n",
            "100%|██████████| 2/2 [00:00<00:00,  6.10it/s]\n",
            "100%|██████████| 3/3 [00:00<00:00,  8.59it/s]\n"
          ]
        },
        {
          "output_type": "stream",
          "name": "stdout",
          "text": [
            "########## Epoch 19\n"
          ]
        },
        {
          "output_type": "stream",
          "name": "stderr",
          "text": [
            "100%|██████████| 10/10 [00:00<00:00, 15.68it/s]\n",
            "100%|██████████| 5/5 [00:00<00:00, 12.87it/s]\n"
          ]
        },
        {
          "output_type": "stream",
          "name": "stdout",
          "text": [
            "Train loss: 0.1309954673051834\tVal loss: 2.260826587677002\tTrain acc: 96.875\tVal acc: 70.02314814814815\n"
          ]
        },
        {
          "output_type": "stream",
          "name": "stderr",
          "text": [
            "100%|██████████| 2/2 [00:00<00:00,  6.03it/s]\n",
            "100%|██████████| 2/2 [00:00<00:00,  5.94it/s]\n",
            "100%|██████████| 3/3 [00:00<00:00,  8.52it/s]\n"
          ]
        },
        {
          "output_type": "stream",
          "name": "stdout",
          "text": [
            "########## Epoch 20\n"
          ]
        },
        {
          "output_type": "stream",
          "name": "stderr",
          "text": [
            "100%|██████████| 10/10 [00:00<00:00, 15.43it/s]\n",
            "100%|██████████| 5/5 [00:00<00:00, 13.39it/s]\n"
          ]
        },
        {
          "output_type": "stream",
          "name": "stdout",
          "text": [
            "Train loss: 0.14779336750507355\tVal loss: 2.2623050212860107\tTrain acc: 95.44270833333334\tVal acc: 70.3125\n"
          ]
        },
        {
          "output_type": "stream",
          "name": "stderr",
          "text": [
            "100%|██████████| 2/2 [00:00<00:00,  5.93it/s]\n",
            "100%|██████████| 2/2 [00:00<00:00,  6.16it/s]\n",
            "100%|██████████| 3/3 [00:00<00:00,  8.32it/s]\n"
          ]
        },
        {
          "output_type": "stream",
          "name": "stdout",
          "text": [
            "########## Epoch 21\n"
          ]
        },
        {
          "output_type": "stream",
          "name": "stderr",
          "text": [
            "100%|██████████| 10/10 [00:00<00:00, 15.68it/s]\n",
            "100%|██████████| 5/5 [00:00<00:00, 12.59it/s]\n"
          ]
        },
        {
          "output_type": "stream",
          "name": "stdout",
          "text": [
            "Train loss: 0.12928953766822815\tVal loss: 2.279693126678467\tTrain acc: 96.875\tVal acc: 70.04050925925927\n"
          ]
        },
        {
          "output_type": "stream",
          "name": "stderr",
          "text": [
            "100%|██████████| 2/2 [00:00<00:00,  5.69it/s]\n",
            "100%|██████████| 2/2 [00:00<00:00,  6.22it/s]\n",
            "100%|██████████| 3/3 [00:00<00:00,  8.51it/s]\n"
          ]
        },
        {
          "output_type": "stream",
          "name": "stdout",
          "text": [
            "########## Epoch 22\n"
          ]
        },
        {
          "output_type": "stream",
          "name": "stderr",
          "text": [
            "100%|██████████| 10/10 [00:00<00:00, 15.58it/s]\n",
            "100%|██████████| 5/5 [00:00<00:00, 13.41it/s]\n"
          ]
        },
        {
          "output_type": "stream",
          "name": "stdout",
          "text": [
            "Train loss: 0.12679806351661682\tVal loss: 2.311580181121826\tTrain acc: 96.953125\tVal acc: 69.89583333333334\n"
          ]
        },
        {
          "output_type": "stream",
          "name": "stderr",
          "text": [
            "100%|██████████| 2/2 [00:00<00:00,  6.07it/s]\n",
            "100%|██████████| 2/2 [00:00<00:00,  6.00it/s]\n",
            "100%|██████████| 3/3 [00:00<00:00,  8.89it/s]\n"
          ]
        },
        {
          "output_type": "stream",
          "name": "stdout",
          "text": [
            "########## Epoch 23\n"
          ]
        },
        {
          "output_type": "stream",
          "name": "stderr",
          "text": [
            "100%|██████████| 10/10 [00:00<00:00, 15.96it/s]\n",
            "100%|██████████| 5/5 [00:00<00:00, 13.07it/s]\n"
          ]
        },
        {
          "output_type": "stream",
          "name": "stdout",
          "text": [
            "Train loss: 0.12894298136234283\tVal loss: 2.340162992477417\tTrain acc: 96.953125\tVal acc: 69.99421296296296\n"
          ]
        },
        {
          "output_type": "stream",
          "name": "stderr",
          "text": [
            "100%|██████████| 2/2 [00:00<00:00,  5.88it/s]\n",
            "100%|██████████| 2/2 [00:00<00:00,  6.19it/s]\n",
            "100%|██████████| 3/3 [00:00<00:00,  8.71it/s]\n"
          ]
        },
        {
          "output_type": "stream",
          "name": "stdout",
          "text": [
            "########## Epoch 24\n"
          ]
        },
        {
          "output_type": "stream",
          "name": "stderr",
          "text": [
            "100%|██████████| 10/10 [00:00<00:00, 15.63it/s]\n",
            "100%|██████████| 5/5 [00:00<00:00, 13.07it/s]\n"
          ]
        },
        {
          "output_type": "stream",
          "name": "stdout",
          "text": [
            "Train loss: 0.1262187957763672\tVal loss: 2.352876901626587\tTrain acc: 97.03125\tVal acc: 69.98263888888889\n"
          ]
        },
        {
          "output_type": "stream",
          "name": "stderr",
          "text": [
            "100%|██████████| 2/2 [00:00<00:00,  6.12it/s]\n",
            "100%|██████████| 2/2 [00:00<00:00,  5.87it/s]\n",
            "100%|██████████| 3/3 [00:00<00:00,  8.17it/s]\n"
          ]
        },
        {
          "output_type": "display_data",
          "data": {
            "text/plain": [
              "<IPython.core.display.HTML object>"
            ],
            "text/html": [
              "Waiting for W&B process to finish... <strong style=\"color:green\">(success).</strong>"
            ]
          },
          "metadata": {}
        },
        {
          "output_type": "display_data",
          "data": {
            "text/plain": [
              "VBox(children=(Label(value='0.000 MB of 0.000 MB uploaded (0.000 MB deduped)\\r'), FloatProgress(value=1.0, max…"
            ],
            "application/vnd.jupyter.widget-view+json": {
              "version_major": 2,
              "version_minor": 0,
              "model_id": "c3bb978f3bf545bf94ddae3791598ff8"
            }
          },
          "metadata": {}
        },
        {
          "output_type": "display_data",
          "data": {
            "text/plain": [
              "<IPython.core.display.HTML object>"
            ],
            "text/html": [
              "<style>\n",
              "    table.wandb td:nth-child(1) { padding: 0 10px; text-align: left ; width: auto;} td:nth-child(2) {text-align: left ; width: 100%}\n",
              "    .wandb-row { display: flex; flex-direction: row; flex-wrap: wrap; justify-content: flex-start; width: 100% }\n",
              "    .wandb-col { display: flex; flex-direction: column; flex-basis: 100%; flex: 1; padding: 10px; }\n",
              "    </style>\n",
              "<div class=\"wandb-row\"><div class=\"wandb-col\"><h3>Run history:</h3><br/><table class=\"wandb\"><tr><td>task_0_prevtask_0_val_acc</td><td>▃▄▂▂▂▄▁▂▂▄▂▂▅▃▄▃▄▄▃▆▄▇▄█▇</td></tr><tr><td>task_0_prevtask_0_val_loss</td><td>▃▁▁▁▁▃▃▂▁▂▂▅▂▃▆▅▅▃█▂▄▃▅▃▆</td></tr><tr><td>task_0_train_acc</td><td>▁▂▃▄▃▄▄▅▅▅▅▆▅▆▅▅▆▆▆▅▆▇▇▇█</td></tr><tr><td>task_0_train_loss</td><td>█▅▅▅▅▅▄▄▄▄▄▃▃▃▃▃▃▃▃▃▃▂▂▁▁</td></tr><tr><td>task_0_val_acc</td><td>▄▃▃▂▃▆▄▂▁▄▂▂▂▃▃▂▅▄▅▄▄▄█▇█</td></tr><tr><td>task_0_val_loss</td><td>▂▁▁▁▁▂▂▂▃▃▂▄▅▄█▇▅▄▆▄▅▆▃▃▇</td></tr><tr><td>task_1_prevtask_0_val_acc</td><td>█▇▇▇▇█▇█▇█▆▄▂▂▂▂▁▂▂▁▁▁▁▁▁</td></tr><tr><td>task_1_prevtask_0_val_loss</td><td>▁▁▁▁▁▁▁▁▁▁▂▂▃▄▄▅▆▆▆▇▇▇███</td></tr><tr><td>task_1_prevtask_1_val_acc</td><td>▁▁▁▁▁▁▁▁▁▁▄▆▇▇▇▇▇▇█▇▇████</td></tr><tr><td>task_1_prevtask_1_val_loss</td><td>█▇▇▆▅▅▄▄▃▃▂▂▂▁▁▁▁▁▁▁▁▁▁▁▁</td></tr><tr><td>task_1_train_acc</td><td>▁▁▁▁▁▁▁▁▁▁▂▅▆▇▇▇▇▇▇▇▇████</td></tr><tr><td>task_1_train_loss</td><td>█▇▆▆▅▅▄▄▃▃▂▂▂▁▁▁▁▁▁▁▁▁▁▁▁</td></tr><tr><td>task_1_val_acc</td><td>▂▁▁▁▂▁▂▂▂▃▆█▆▆▇▆▆▆▆▆▆▆▇▇█</td></tr><tr><td>task_1_val_loss</td><td>█▇▆▅▅▄▃▃▂▁▁▁▁▂▂▂▃▃▃▃▄▄▄▄▄</td></tr><tr><td>task_2_prevtask_0_val_acc</td><td>▇█▁▁▁▁▁▁▁▁▁▁▁▁▁▁▁▁▁▁▁▁▁▁▁</td></tr><tr><td>task_2_prevtask_0_val_loss</td><td>▁▁▂▂▃▃▄▄▄▅▅▆▆▆▆▆▆▇▇▆▇▇▇██</td></tr><tr><td>task_2_prevtask_1_val_acc</td><td>▁▄▃▃▅▅▄▆▆▃▆▄▄▅▇▄█▇▆▆█▄▃▇▆</td></tr><tr><td>task_2_prevtask_1_val_loss</td><td>▅▆▇▇▆▆▅▅▃▅▃▄▅▆▃▅▂▃▂▂▁▆█▄▄</td></tr><tr><td>task_2_prevtask_2_val_acc</td><td>▁▄▅▅▇▃▄▅▇█▅▇▆▆▅▇▇▅▅▅█▆▆▇▇</td></tr><tr><td>task_2_prevtask_2_val_loss</td><td>█▅▅▆▃▇▅▄▃▂▅▃▃▄▆▃▂▄▃▅▁▄▂▁▂</td></tr><tr><td>task_2_train_acc</td><td>▂▁▅▆▇▇████████▅█████▆████</td></tr><tr><td>task_2_train_loss</td><td>██▆▆▅▄▄▄▃▃▃▃▂▂▄▂▂▂▁▁▂▁▁▁▁</td></tr><tr><td>task_2_val_acc</td><td>▁▄▅▆▆▇▇▆▇▇▇▇▇▇█████▇█▇▇▇▇</td></tr><tr><td>task_2_val_loss</td><td>▁▁▂▂▃▃▄▄▄▅▅▅▆▆▆▆▇▇▇▇▇▇███</td></tr></table><br/></div><div class=\"wandb-col\"><h3>Run summary:</h3><br/><table class=\"wandb\"><tr><td>task_0_prevtask_0_val_acc</td><td>59.59671</td></tr><tr><td>task_0_prevtask_0_val_loss</td><td>0.96189</td></tr><tr><td>task_0_train_acc</td><td>88.37786</td></tr><tr><td>task_0_train_loss</td><td>0.29812</td></tr><tr><td>task_0_val_acc</td><td>62.47889</td></tr><tr><td>task_0_val_loss</td><td>0.93637</td></tr><tr><td>task_1_prevtask_0_val_acc</td><td>1.17188</td></tr><tr><td>task_1_prevtask_0_val_loss</td><td>4.84923</td></tr><tr><td>task_1_prevtask_1_val_acc</td><td>85.07179</td></tr><tr><td>task_1_prevtask_1_val_loss</td><td>0.44879</td></tr><tr><td>task_1_train_acc</td><td>89.63794</td></tr><tr><td>task_1_train_loss</td><td>0.27167</td></tr><tr><td>task_1_val_acc</td><td>45.50253</td></tr><tr><td>task_1_val_loss</td><td>2.58922</td></tr><tr><td>task_2_prevtask_0_val_acc</td><td>0.0</td></tr><tr><td>task_2_prevtask_0_val_loss</td><td>8.23211</td></tr><tr><td>task_2_prevtask_1_val_acc</td><td>95.91427</td></tr><tr><td>task_2_prevtask_1_val_loss</td><td>0.25542</td></tr><tr><td>task_2_prevtask_2_val_acc</td><td>95.89461</td></tr><tr><td>task_2_prevtask_2_val_loss</td><td>0.17062</td></tr><tr><td>task_2_train_acc</td><td>97.03125</td></tr><tr><td>task_2_train_loss</td><td>0.12622</td></tr><tr><td>task_2_val_acc</td><td>69.98264</td></tr><tr><td>task_2_val_loss</td><td>2.35288</td></tr></table><br/></div></div>"
            ]
          },
          "metadata": {}
        },
        {
          "output_type": "display_data",
          "data": {
            "text/plain": [
              "<IPython.core.display.HTML object>"
            ],
            "text/html": [
              "Synced <strong style=\"color:#cdcd00\">meanoffeatures_yesno_roadcondition_imagecondition_21_09_05h13m02s_mul</strong>: <a href=\"https://wandb.ai/compyle/continual_vqa_final/runs/2as3hea2\" target=\"_blank\">https://wandb.ai/compyle/continual_vqa_final/runs/2as3hea2</a><br/>Synced 5 W&B file(s), 0 media file(s), 0 artifact file(s) and 0 other file(s)"
            ]
          },
          "metadata": {}
        },
        {
          "output_type": "display_data",
          "data": {
            "text/plain": [
              "<IPython.core.display.HTML object>"
            ],
            "text/html": [
              "Find logs at: <code>./wandb/run-20220921_051302-2as3hea2/logs</code>"
            ]
          },
          "metadata": {}
        },
        {
          "output_type": "display_data",
          "data": {
            "text/plain": [
              "<IPython.core.display.HTML object>"
            ],
            "text/html": [
              "Tracking run with wandb version 0.13.3"
            ]
          },
          "metadata": {}
        },
        {
          "output_type": "display_data",
          "data": {
            "text/plain": [
              "<IPython.core.display.HTML object>"
            ],
            "text/html": [
              "Run data is saved locally in <code>/content/wandb/run-20220921_051514-2cxmfd20</code>"
            ]
          },
          "metadata": {}
        },
        {
          "output_type": "display_data",
          "data": {
            "text/plain": [
              "<IPython.core.display.HTML object>"
            ],
            "text/html": [
              "Syncing run <strong><a href=\"https://wandb.ai/compyle/continual_vqa_final/runs/2cxmfd20\" target=\"_blank\">meanoffeatures_imagecondition_yesno_roadcondition_21_09_05h15m14s_mul</a></strong> to <a href=\"https://wandb.ai/compyle/continual_vqa_final\" target=\"_blank\">Weights & Biases</a> (<a href=\"https://wandb.me/run\" target=\"_blank\">docs</a>)<br/>"
            ]
          },
          "metadata": {}
        },
        {
          "output_type": "stream",
          "name": "stdout",
          "text": [
            "########## Epoch 0\n"
          ]
        },
        {
          "output_type": "stream",
          "name": "stderr",
          "text": [
            "100%|██████████| 10/10 [00:00<00:00, 14.75it/s]\n",
            "100%|██████████| 3/3 [00:00<00:00,  8.87it/s]\n"
          ]
        },
        {
          "output_type": "stream",
          "name": "stdout",
          "text": [
            "Train loss: 0.5920476317405701\tVal loss: 0.37962523102760315\tTrain acc: 82.23958333333334\tVal acc: 82.21507352941177\n"
          ]
        },
        {
          "output_type": "stream",
          "name": "stderr",
          "text": [
            "100%|██████████| 3/3 [00:00<00:00,  8.53it/s]\n"
          ]
        },
        {
          "output_type": "stream",
          "name": "stdout",
          "text": [
            "########## Epoch 1\n"
          ]
        },
        {
          "output_type": "stream",
          "name": "stderr",
          "text": [
            "100%|██████████| 10/10 [00:00<00:00, 15.29it/s]\n",
            "100%|██████████| 3/3 [00:00<00:00,  8.12it/s]\n"
          ]
        },
        {
          "output_type": "stream",
          "name": "stdout",
          "text": [
            "Train loss: 0.2161436527967453\tVal loss: 0.29548725485801697\tTrain acc: 93.28125\tVal acc: 92.8921568627451\n"
          ]
        },
        {
          "output_type": "stream",
          "name": "stderr",
          "text": [
            "100%|██████████| 3/3 [00:00<00:00,  8.71it/s]\n"
          ]
        },
        {
          "output_type": "stream",
          "name": "stdout",
          "text": [
            "########## Epoch 2\n"
          ]
        },
        {
          "output_type": "stream",
          "name": "stderr",
          "text": [
            "100%|██████████| 10/10 [00:00<00:00, 15.30it/s]\n",
            "100%|██████████| 3/3 [00:00<00:00,  8.85it/s]\n"
          ]
        },
        {
          "output_type": "stream",
          "name": "stdout",
          "text": [
            "Train loss: 0.13273730874061584\tVal loss: 0.16933953762054443\tTrain acc: 96.5625\tVal acc: 95.11335784313725\n"
          ]
        },
        {
          "output_type": "stream",
          "name": "stderr",
          "text": [
            "100%|██████████| 3/3 [00:00<00:00,  8.43it/s]\n"
          ]
        },
        {
          "output_type": "stream",
          "name": "stdout",
          "text": [
            "########## Epoch 3\n"
          ]
        },
        {
          "output_type": "stream",
          "name": "stderr",
          "text": [
            "100%|██████████| 10/10 [00:00<00:00, 15.49it/s]\n",
            "100%|██████████| 3/3 [00:00<00:00,  8.75it/s]\n"
          ]
        },
        {
          "output_type": "stream",
          "name": "stdout",
          "text": [
            "Train loss: 0.10263966023921967\tVal loss: 0.19328974187374115\tTrain acc: 97.1875\tVal acc: 94.8529411764706\n"
          ]
        },
        {
          "output_type": "stream",
          "name": "stderr",
          "text": [
            "100%|██████████| 3/3 [00:00<00:00,  8.42it/s]\n"
          ]
        },
        {
          "output_type": "stream",
          "name": "stdout",
          "text": [
            "########## Epoch 4\n"
          ]
        },
        {
          "output_type": "stream",
          "name": "stderr",
          "text": [
            "100%|██████████| 10/10 [00:00<00:00, 15.67it/s]\n",
            "100%|██████████| 3/3 [00:00<00:00,  8.71it/s]\n"
          ]
        },
        {
          "output_type": "stream",
          "name": "stdout",
          "text": [
            "Train loss: 0.09123003482818604\tVal loss: 0.13526560366153717\tTrain acc: 97.34375\tVal acc: 96.09375\n"
          ]
        },
        {
          "output_type": "stream",
          "name": "stderr",
          "text": [
            "100%|██████████| 3/3 [00:00<00:00,  8.81it/s]\n"
          ]
        },
        {
          "output_type": "stream",
          "name": "stdout",
          "text": [
            "########## Epoch 5\n"
          ]
        },
        {
          "output_type": "stream",
          "name": "stderr",
          "text": [
            "100%|██████████| 10/10 [00:00<00:00, 15.36it/s]\n",
            "100%|██████████| 3/3 [00:00<00:00,  8.54it/s]\n"
          ]
        },
        {
          "output_type": "stream",
          "name": "stdout",
          "text": [
            "Train loss: 0.07739593088626862\tVal loss: 0.17180325090885162\tTrain acc: 97.5\tVal acc: 95.37377450980392\n"
          ]
        },
        {
          "output_type": "stream",
          "name": "stderr",
          "text": [
            "100%|██████████| 3/3 [00:00<00:00,  8.87it/s]\n"
          ]
        },
        {
          "output_type": "stream",
          "name": "stdout",
          "text": [
            "########## Epoch 6\n"
          ]
        },
        {
          "output_type": "stream",
          "name": "stderr",
          "text": [
            "100%|██████████| 10/10 [00:00<00:00, 15.16it/s]\n",
            "100%|██████████| 3/3 [00:00<00:00,  9.02it/s]\n"
          ]
        },
        {
          "output_type": "stream",
          "name": "stdout",
          "text": [
            "Train loss: 0.12013392150402069\tVal loss: 0.14905859529972076\tTrain acc: 94.47916666666666\tVal acc: 94.39338235294117\n"
          ]
        },
        {
          "output_type": "stream",
          "name": "stderr",
          "text": [
            "100%|██████████| 3/3 [00:00<00:00,  8.33it/s]\n"
          ]
        },
        {
          "output_type": "stream",
          "name": "stdout",
          "text": [
            "########## Epoch 7\n"
          ]
        },
        {
          "output_type": "stream",
          "name": "stderr",
          "text": [
            "100%|██████████| 10/10 [00:00<00:00, 15.32it/s]\n",
            "100%|██████████| 3/3 [00:00<00:00,  8.18it/s]\n"
          ]
        },
        {
          "output_type": "stream",
          "name": "stdout",
          "text": [
            "Train loss: 0.12079370021820068\tVal loss: 0.21460430324077606\tTrain acc: 96.30208333333334\tVal acc: 93.41299019607844\n"
          ]
        },
        {
          "output_type": "stream",
          "name": "stderr",
          "text": [
            "100%|██████████| 3/3 [00:00<00:00,  8.93it/s]\n"
          ]
        },
        {
          "output_type": "stream",
          "name": "stdout",
          "text": [
            "########## Epoch 8\n"
          ]
        },
        {
          "output_type": "stream",
          "name": "stderr",
          "text": [
            "100%|██████████| 10/10 [00:00<00:00, 14.95it/s]\n",
            "100%|██████████| 3/3 [00:00<00:00,  8.75it/s]\n"
          ]
        },
        {
          "output_type": "stream",
          "name": "stdout",
          "text": [
            "Train loss: 0.09080128371715546\tVal loss: 0.17057569324970245\tTrain acc: 96.22395833333334\tVal acc: 94.65379901960785\n"
          ]
        },
        {
          "output_type": "stream",
          "name": "stderr",
          "text": [
            "100%|██████████| 3/3 [00:00<00:00,  8.59it/s]\n"
          ]
        },
        {
          "output_type": "stream",
          "name": "stdout",
          "text": [
            "########## Epoch 9\n"
          ]
        },
        {
          "output_type": "stream",
          "name": "stderr",
          "text": [
            "100%|██████████| 10/10 [00:00<00:00, 15.27it/s]\n",
            "100%|██████████| 3/3 [00:00<00:00,  8.86it/s]\n"
          ]
        },
        {
          "output_type": "stream",
          "name": "stdout",
          "text": [
            "Train loss: 0.06345796585083008\tVal loss: 0.34357476234436035\tTrain acc: 98.4375\tVal acc: 90.67095588235294\n"
          ]
        },
        {
          "output_type": "stream",
          "name": "stderr",
          "text": [
            "100%|██████████| 3/3 [00:00<00:00,  8.21it/s]\n"
          ]
        },
        {
          "output_type": "stream",
          "name": "stdout",
          "text": [
            "########## Epoch 10\n"
          ]
        },
        {
          "output_type": "stream",
          "name": "stderr",
          "text": [
            "100%|██████████| 10/10 [00:00<00:00, 15.31it/s]\n",
            "100%|██████████| 3/3 [00:00<00:00,  8.61it/s]\n"
          ]
        },
        {
          "output_type": "stream",
          "name": "stdout",
          "text": [
            "Train loss: 0.07601981610059738\tVal loss: 0.2033400535583496\tTrain acc: 97.8125\tVal acc: 93.15257352941177\n"
          ]
        },
        {
          "output_type": "stream",
          "name": "stderr",
          "text": [
            "100%|██████████| 3/3 [00:00<00:00,  8.26it/s]\n"
          ]
        },
        {
          "output_type": "stream",
          "name": "stdout",
          "text": [
            "########## Epoch 11\n"
          ]
        },
        {
          "output_type": "stream",
          "name": "stderr",
          "text": [
            "100%|██████████| 10/10 [00:00<00:00, 15.19it/s]\n",
            "100%|██████████| 3/3 [00:00<00:00,  8.75it/s]\n"
          ]
        },
        {
          "output_type": "stream",
          "name": "stdout",
          "text": [
            "Train loss: 0.05188192054629326\tVal loss: 0.15350989997386932\tTrain acc: 98.359375\tVal acc: 96.09375\n"
          ]
        },
        {
          "output_type": "stream",
          "name": "stderr",
          "text": [
            "100%|██████████| 3/3 [00:00<00:00,  8.36it/s]\n"
          ]
        },
        {
          "output_type": "stream",
          "name": "stdout",
          "text": [
            "########## Epoch 12\n"
          ]
        },
        {
          "output_type": "stream",
          "name": "stderr",
          "text": [
            "100%|██████████| 10/10 [00:00<00:00, 15.51it/s]\n",
            "100%|██████████| 3/3 [00:00<00:00,  8.72it/s]\n"
          ]
        },
        {
          "output_type": "stream",
          "name": "stdout",
          "text": [
            "Train loss: 0.04039730876684189\tVal loss: 0.1455441266298294\tTrain acc: 98.671875\tVal acc: 95.11335784313725\n"
          ]
        },
        {
          "output_type": "stream",
          "name": "stderr",
          "text": [
            "100%|██████████| 3/3 [00:00<00:00,  8.51it/s]\n"
          ]
        },
        {
          "output_type": "stream",
          "name": "stdout",
          "text": [
            "########## Epoch 13\n"
          ]
        },
        {
          "output_type": "stream",
          "name": "stderr",
          "text": [
            "100%|██████████| 10/10 [00:00<00:00, 15.19it/s]\n",
            "100%|██████████| 3/3 [00:00<00:00,  8.14it/s]\n"
          ]
        },
        {
          "output_type": "stream",
          "name": "stdout",
          "text": [
            "Train loss: 0.03535076230764389\tVal loss: 0.13428433239459991\tTrain acc: 99.21875\tVal acc: 96.35416666666667\n"
          ]
        },
        {
          "output_type": "stream",
          "name": "stderr",
          "text": [
            "100%|██████████| 3/3 [00:00<00:00,  8.34it/s]\n"
          ]
        },
        {
          "output_type": "stream",
          "name": "stdout",
          "text": [
            "########## Epoch 14\n"
          ]
        },
        {
          "output_type": "stream",
          "name": "stderr",
          "text": [
            "100%|██████████| 10/10 [00:00<00:00, 15.11it/s]\n",
            "100%|██████████| 3/3 [00:00<00:00,  8.65it/s]\n"
          ]
        },
        {
          "output_type": "stream",
          "name": "stdout",
          "text": [
            "Train loss: 0.03006693720817566\tVal loss: 0.18046028912067413\tTrain acc: 99.0625\tVal acc: 95.43504901960785\n"
          ]
        },
        {
          "output_type": "stream",
          "name": "stderr",
          "text": [
            "100%|██████████| 3/3 [00:00<00:00,  7.94it/s]\n"
          ]
        },
        {
          "output_type": "stream",
          "name": "stdout",
          "text": [
            "########## Epoch 15\n"
          ]
        },
        {
          "output_type": "stream",
          "name": "stderr",
          "text": [
            "100%|██████████| 10/10 [00:00<00:00, 15.35it/s]\n",
            "100%|██████████| 3/3 [00:00<00:00,  8.48it/s]\n"
          ]
        },
        {
          "output_type": "stream",
          "name": "stdout",
          "text": [
            "Train loss: 0.021362056955695152\tVal loss: 0.15411122143268585\tTrain acc: 99.609375\tVal acc: 95.37377450980392\n"
          ]
        },
        {
          "output_type": "stream",
          "name": "stderr",
          "text": [
            "100%|██████████| 3/3 [00:00<00:00,  8.72it/s]\n"
          ]
        },
        {
          "output_type": "stream",
          "name": "stdout",
          "text": [
            "########## Epoch 16\n"
          ]
        },
        {
          "output_type": "stream",
          "name": "stderr",
          "text": [
            "100%|██████████| 10/10 [00:00<00:00, 15.11it/s]\n",
            "100%|██████████| 3/3 [00:00<00:00,  8.55it/s]\n"
          ]
        },
        {
          "output_type": "stream",
          "name": "stdout",
          "text": [
            "Train loss: 0.01795426942408085\tVal loss: 0.18123842775821686\tTrain acc: 99.21875\tVal acc: 95.89460784313725\n"
          ]
        },
        {
          "output_type": "stream",
          "name": "stderr",
          "text": [
            "100%|██████████| 3/3 [00:00<00:00,  8.61it/s]\n"
          ]
        },
        {
          "output_type": "stream",
          "name": "stdout",
          "text": [
            "########## Epoch 17\n"
          ]
        },
        {
          "output_type": "stream",
          "name": "stderr",
          "text": [
            "100%|██████████| 10/10 [00:00<00:00, 14.91it/s]\n",
            "100%|██████████| 3/3 [00:00<00:00,  8.55it/s]\n"
          ]
        },
        {
          "output_type": "stream",
          "name": "stdout",
          "text": [
            "Train loss: 0.013030600734055042\tVal loss: 0.17498141527175903\tTrain acc: 99.765625\tVal acc: 96.09375\n"
          ]
        },
        {
          "output_type": "stream",
          "name": "stderr",
          "text": [
            "100%|██████████| 3/3 [00:00<00:00,  8.21it/s]\n"
          ]
        },
        {
          "output_type": "stream",
          "name": "stdout",
          "text": [
            "########## Epoch 18\n"
          ]
        },
        {
          "output_type": "stream",
          "name": "stderr",
          "text": [
            "100%|██████████| 10/10 [00:00<00:00, 15.09it/s]\n",
            "100%|██████████| 3/3 [00:00<00:00,  8.09it/s]\n"
          ]
        },
        {
          "output_type": "stream",
          "name": "stdout",
          "text": [
            "Train loss: 0.011227956973016262\tVal loss: 0.19061671197414398\tTrain acc: 99.6875\tVal acc: 96.15502450980392\n"
          ]
        },
        {
          "output_type": "stream",
          "name": "stderr",
          "text": [
            "100%|██████████| 3/3 [00:00<00:00,  8.37it/s]\n"
          ]
        },
        {
          "output_type": "stream",
          "name": "stdout",
          "text": [
            "########## Epoch 19\n"
          ]
        },
        {
          "output_type": "stream",
          "name": "stderr",
          "text": [
            "100%|██████████| 10/10 [00:00<00:00, 15.66it/s]\n",
            "100%|██████████| 3/3 [00:00<00:00,  8.41it/s]\n"
          ]
        },
        {
          "output_type": "stream",
          "name": "stdout",
          "text": [
            "Train loss: 0.010240016505122185\tVal loss: 0.2353944331407547\tTrain acc: 99.765625\tVal acc: 94.91421568627452\n"
          ]
        },
        {
          "output_type": "stream",
          "name": "stderr",
          "text": [
            "100%|██████████| 3/3 [00:00<00:00,  8.34it/s]\n"
          ]
        },
        {
          "output_type": "stream",
          "name": "stdout",
          "text": [
            "########## Epoch 20\n"
          ]
        },
        {
          "output_type": "stream",
          "name": "stderr",
          "text": [
            "100%|██████████| 10/10 [00:00<00:00, 15.45it/s]\n",
            "100%|██████████| 3/3 [00:00<00:00,  8.33it/s]\n"
          ]
        },
        {
          "output_type": "stream",
          "name": "stdout",
          "text": [
            "Train loss: 0.009302877821028233\tVal loss: 0.250537246465683\tTrain acc: 99.53125\tVal acc: 96.09375\n"
          ]
        },
        {
          "output_type": "stream",
          "name": "stderr",
          "text": [
            "100%|██████████| 3/3 [00:00<00:00,  8.59it/s]\n"
          ]
        },
        {
          "output_type": "stream",
          "name": "stdout",
          "text": [
            "########## Epoch 21\n"
          ]
        },
        {
          "output_type": "stream",
          "name": "stderr",
          "text": [
            "100%|██████████| 10/10 [00:00<00:00, 15.34it/s]\n",
            "100%|██████████| 3/3 [00:00<00:00,  8.30it/s]\n"
          ]
        },
        {
          "output_type": "stream",
          "name": "stdout",
          "text": [
            "Train loss: 0.003983388189226389\tVal loss: 0.46842947602272034\tTrain acc: 99.921875\tVal acc: 94.91421568627452\n"
          ]
        },
        {
          "output_type": "stream",
          "name": "stderr",
          "text": [
            "100%|██████████| 3/3 [00:00<00:00,  8.60it/s]\n"
          ]
        },
        {
          "output_type": "stream",
          "name": "stdout",
          "text": [
            "########## Epoch 22\n"
          ]
        },
        {
          "output_type": "stream",
          "name": "stderr",
          "text": [
            "100%|██████████| 10/10 [00:00<00:00, 14.97it/s]\n",
            "100%|██████████| 3/3 [00:00<00:00,  8.67it/s]\n"
          ]
        },
        {
          "output_type": "stream",
          "name": "stdout",
          "text": [
            "Train loss: 0.008828742429614067\tVal loss: 0.3702496290206909\tTrain acc: 99.6875\tVal acc: 93.15257352941177\n"
          ]
        },
        {
          "output_type": "stream",
          "name": "stderr",
          "text": [
            "100%|██████████| 3/3 [00:00<00:00,  8.35it/s]\n"
          ]
        },
        {
          "output_type": "stream",
          "name": "stdout",
          "text": [
            "########## Epoch 23\n"
          ]
        },
        {
          "output_type": "stream",
          "name": "stderr",
          "text": [
            "100%|██████████| 10/10 [00:00<00:00, 14.87it/s]\n",
            "100%|██████████| 3/3 [00:00<00:00,  8.94it/s]\n"
          ]
        },
        {
          "output_type": "stream",
          "name": "stdout",
          "text": [
            "Train loss: 0.007699248846620321\tVal loss: 0.4357941448688507\tTrain acc: 99.765625\tVal acc: 94.13296568627452\n"
          ]
        },
        {
          "output_type": "stream",
          "name": "stderr",
          "text": [
            "100%|██████████| 3/3 [00:00<00:00,  8.29it/s]\n"
          ]
        },
        {
          "output_type": "stream",
          "name": "stdout",
          "text": [
            "########## Epoch 24\n"
          ]
        },
        {
          "output_type": "stream",
          "name": "stderr",
          "text": [
            "100%|██████████| 10/10 [00:00<00:00, 15.47it/s]\n",
            "100%|██████████| 3/3 [00:00<00:00,  7.63it/s]\n"
          ]
        },
        {
          "output_type": "stream",
          "name": "stdout",
          "text": [
            "Train loss: 0.004597933031618595\tVal loss: 0.38032767176628113\tTrain acc: 99.6875\tVal acc: 95.17463235294117\n"
          ]
        },
        {
          "output_type": "stream",
          "name": "stderr",
          "text": [
            "100%|██████████| 3/3 [00:00<00:00,  8.40it/s]\n"
          ]
        },
        {
          "output_type": "stream",
          "name": "stdout",
          "text": [
            "########## Epoch 0\n"
          ]
        },
        {
          "output_type": "stream",
          "name": "stderr",
          "text": [
            "100%|██████████| 6/6 [00:00<00:00, 11.32it/s]\n",
            "100%|██████████| 4/4 [00:00<00:00, 10.48it/s]\n"
          ]
        },
        {
          "output_type": "stream",
          "name": "stdout",
          "text": [
            "Train loss: 15.308349609375\tVal loss: 5.377749443054199\tTrain acc: 0.0\tVal acc: 58.36950231481482\n"
          ]
        },
        {
          "output_type": "stream",
          "name": "stderr",
          "text": [
            "100%|██████████| 3/3 [00:00<00:00,  8.92it/s]\n",
            "100%|██████████| 2/2 [00:00<00:00,  5.48it/s]\n"
          ]
        },
        {
          "output_type": "stream",
          "name": "stdout",
          "text": [
            "########## Epoch 1\n"
          ]
        },
        {
          "output_type": "stream",
          "name": "stderr",
          "text": [
            "100%|██████████| 6/6 [00:00<00:00, 11.33it/s]\n",
            "100%|██████████| 4/4 [00:00<00:00, 10.40it/s]\n"
          ]
        },
        {
          "output_type": "stream",
          "name": "stdout",
          "text": [
            "Train loss: 13.397250175476074\tVal loss: 4.631368160247803\tTrain acc: 0.0\tVal acc: 58.350212191358025\n"
          ]
        },
        {
          "output_type": "stream",
          "name": "stderr",
          "text": [
            "100%|██████████| 3/3 [00:00<00:00,  8.31it/s]\n",
            "100%|██████████| 2/2 [00:00<00:00,  5.88it/s]\n"
          ]
        },
        {
          "output_type": "stream",
          "name": "stdout",
          "text": [
            "########## Epoch 2\n"
          ]
        },
        {
          "output_type": "stream",
          "name": "stderr",
          "text": [
            "100%|██████████| 6/6 [00:00<00:00, 11.14it/s]\n",
            "100%|██████████| 4/4 [00:00<00:00, 10.68it/s]\n"
          ]
        },
        {
          "output_type": "stream",
          "name": "stdout",
          "text": [
            "Train loss: 11.73991870880127\tVal loss: 4.226323127746582\tTrain acc: 0.0\tVal acc: 56.97096836419753\n"
          ]
        },
        {
          "output_type": "stream",
          "name": "stderr",
          "text": [
            "100%|██████████| 3/3 [00:00<00:00,  8.09it/s]\n",
            "100%|██████████| 2/2 [00:00<00:00,  5.86it/s]\n"
          ]
        },
        {
          "output_type": "stream",
          "name": "stdout",
          "text": [
            "########## Epoch 3\n"
          ]
        },
        {
          "output_type": "stream",
          "name": "stderr",
          "text": [
            "100%|██████████| 6/6 [00:00<00:00, 11.16it/s]\n",
            "100%|██████████| 4/4 [00:00<00:00, 11.08it/s]\n"
          ]
        },
        {
          "output_type": "stream",
          "name": "stdout",
          "text": [
            "Train loss: 10.584625244140625\tVal loss: 3.84805965423584\tTrain acc: 0.0\tVal acc: 54.709201388888886\n"
          ]
        },
        {
          "output_type": "stream",
          "name": "stderr",
          "text": [
            "100%|██████████| 3/3 [00:00<00:00,  9.02it/s]\n",
            "100%|██████████| 2/2 [00:00<00:00,  5.89it/s]\n"
          ]
        },
        {
          "output_type": "stream",
          "name": "stdout",
          "text": [
            "########## Epoch 4\n"
          ]
        },
        {
          "output_type": "stream",
          "name": "stderr",
          "text": [
            "100%|██████████| 6/6 [00:00<00:00, 11.65it/s]\n",
            "100%|██████████| 4/4 [00:00<00:00, 10.56it/s]\n"
          ]
        },
        {
          "output_type": "stream",
          "name": "stdout",
          "text": [
            "Train loss: 9.50629711151123\tVal loss: 3.6166293621063232\tTrain acc: 0.0\tVal acc: 51.540798611111114\n"
          ]
        },
        {
          "output_type": "stream",
          "name": "stderr",
          "text": [
            "100%|██████████| 3/3 [00:00<00:00,  8.38it/s]\n",
            "100%|██████████| 2/2 [00:00<00:00,  5.82it/s]\n"
          ]
        },
        {
          "output_type": "stream",
          "name": "stdout",
          "text": [
            "########## Epoch 5\n"
          ]
        },
        {
          "output_type": "stream",
          "name": "stderr",
          "text": [
            "100%|██████████| 6/6 [00:00<00:00, 11.15it/s]\n",
            "100%|██████████| 4/4 [00:00<00:00, 10.95it/s]\n"
          ]
        },
        {
          "output_type": "stream",
          "name": "stdout",
          "text": [
            "Train loss: 8.709410667419434\tVal loss: 3.4126720428466797\tTrain acc: 0.0\tVal acc: 50.173611111111114\n"
          ]
        },
        {
          "output_type": "stream",
          "name": "stderr",
          "text": [
            "100%|██████████| 3/3 [00:00<00:00,  8.64it/s]\n",
            "100%|██████████| 2/2 [00:00<00:00,  5.64it/s]\n"
          ]
        },
        {
          "output_type": "stream",
          "name": "stdout",
          "text": [
            "########## Epoch 6\n"
          ]
        },
        {
          "output_type": "stream",
          "name": "stderr",
          "text": [
            "100%|██████████| 6/6 [00:00<00:00, 11.26it/s]\n",
            "100%|██████████| 4/4 [00:00<00:00, 10.59it/s]\n"
          ]
        },
        {
          "output_type": "stream",
          "name": "stdout",
          "text": [
            "Train loss: 7.8048882484436035\tVal loss: 3.084639072418213\tTrain acc: 0.0\tVal acc: 48.33381558641975\n"
          ]
        },
        {
          "output_type": "stream",
          "name": "stderr",
          "text": [
            "100%|██████████| 3/3 [00:00<00:00,  8.56it/s]\n",
            "100%|██████████| 2/2 [00:00<00:00,  5.85it/s]\n"
          ]
        },
        {
          "output_type": "stream",
          "name": "stdout",
          "text": [
            "########## Epoch 7\n"
          ]
        },
        {
          "output_type": "stream",
          "name": "stderr",
          "text": [
            "100%|██████████| 6/6 [00:00<00:00, 11.44it/s]\n",
            "100%|██████████| 4/4 [00:00<00:00, 10.97it/s]\n"
          ]
        },
        {
          "output_type": "stream",
          "name": "stdout",
          "text": [
            "Train loss: 7.146320343017578\tVal loss: 2.9106550216674805\tTrain acc: 0.0\tVal acc: 47.94319058641975\n"
          ]
        },
        {
          "output_type": "stream",
          "name": "stderr",
          "text": [
            "100%|██████████| 3/3 [00:00<00:00,  8.40it/s]\n",
            "100%|██████████| 2/2 [00:00<00:00,  5.58it/s]\n"
          ]
        },
        {
          "output_type": "stream",
          "name": "stdout",
          "text": [
            "########## Epoch 8\n"
          ]
        },
        {
          "output_type": "stream",
          "name": "stderr",
          "text": [
            "100%|██████████| 6/6 [00:00<00:00, 10.83it/s]\n",
            "100%|██████████| 4/4 [00:00<00:00, 10.65it/s]\n"
          ]
        },
        {
          "output_type": "stream",
          "name": "stdout",
          "text": [
            "Train loss: 6.4740753173828125\tVal loss: 2.6745505332946777\tTrain acc: 0.0\tVal acc: 47.75993441358025\n"
          ]
        },
        {
          "output_type": "stream",
          "name": "stderr",
          "text": [
            "100%|██████████| 3/3 [00:00<00:00,  8.27it/s]\n",
            "100%|██████████| 2/2 [00:00<00:00,  5.82it/s]\n"
          ]
        },
        {
          "output_type": "stream",
          "name": "stdout",
          "text": [
            "########## Epoch 9\n"
          ]
        },
        {
          "output_type": "stream",
          "name": "stderr",
          "text": [
            "100%|██████████| 6/6 [00:00<00:00, 11.30it/s]\n",
            "100%|██████████| 4/4 [00:00<00:00, 10.81it/s]\n"
          ]
        },
        {
          "output_type": "stream",
          "name": "stdout",
          "text": [
            "Train loss: 5.824548721313477\tVal loss: 2.495753526687622\tTrain acc: 0.0\tVal acc: 45.71277006172839\n"
          ]
        },
        {
          "output_type": "stream",
          "name": "stderr",
          "text": [
            "100%|██████████| 3/3 [00:00<00:00,  8.60it/s]\n",
            "100%|██████████| 2/2 [00:00<00:00,  6.01it/s]\n"
          ]
        },
        {
          "output_type": "stream",
          "name": "stdout",
          "text": [
            "########## Epoch 10\n"
          ]
        },
        {
          "output_type": "stream",
          "name": "stderr",
          "text": [
            "100%|██████████| 6/6 [00:00<00:00, 11.30it/s]\n",
            "100%|██████████| 4/4 [00:00<00:00, 11.35it/s]\n"
          ]
        },
        {
          "output_type": "stream",
          "name": "stdout",
          "text": [
            "Train loss: 5.297855854034424\tVal loss: 2.3286733627319336\tTrain acc: 0.0\tVal acc: 45.01350308641975\n"
          ]
        },
        {
          "output_type": "stream",
          "name": "stderr",
          "text": [
            "100%|██████████| 3/3 [00:00<00:00,  8.73it/s]\n",
            "100%|██████████| 2/2 [00:00<00:00,  5.60it/s]\n"
          ]
        },
        {
          "output_type": "stream",
          "name": "stdout",
          "text": [
            "########## Epoch 11\n"
          ]
        },
        {
          "output_type": "stream",
          "name": "stderr",
          "text": [
            "100%|██████████| 6/6 [00:00<00:00, 11.48it/s]\n",
            "100%|██████████| 4/4 [00:00<00:00, 10.23it/s]\n"
          ]
        },
        {
          "output_type": "stream",
          "name": "stdout",
          "text": [
            "Train loss: 4.781574726104736\tVal loss: 2.1785402297973633\tTrain acc: 0.0\tVal acc: 44.20090663580247\n"
          ]
        },
        {
          "output_type": "stream",
          "name": "stderr",
          "text": [
            "100%|██████████| 3/3 [00:00<00:00,  8.55it/s]\n",
            "100%|██████████| 2/2 [00:00<00:00,  6.11it/s]\n"
          ]
        },
        {
          "output_type": "stream",
          "name": "stdout",
          "text": [
            "########## Epoch 12\n"
          ]
        },
        {
          "output_type": "stream",
          "name": "stderr",
          "text": [
            "100%|██████████| 6/6 [00:00<00:00, 11.27it/s]\n",
            "100%|██████████| 4/4 [00:00<00:00, 10.55it/s]\n"
          ]
        },
        {
          "output_type": "stream",
          "name": "stdout",
          "text": [
            "Train loss: 4.214993000030518\tVal loss: 2.0673038959503174\tTrain acc: 0.0\tVal acc: 42.83371913580247\n"
          ]
        },
        {
          "output_type": "stream",
          "name": "stderr",
          "text": [
            "100%|██████████| 3/3 [00:00<00:00,  8.75it/s]\n",
            "100%|██████████| 2/2 [00:00<00:00,  5.89it/s]\n"
          ]
        },
        {
          "output_type": "stream",
          "name": "stdout",
          "text": [
            "########## Epoch 13\n"
          ]
        },
        {
          "output_type": "stream",
          "name": "stderr",
          "text": [
            "100%|██████████| 6/6 [00:00<00:00, 11.66it/s]\n",
            "100%|██████████| 4/4 [00:00<00:00, 10.70it/s]\n"
          ]
        },
        {
          "output_type": "stream",
          "name": "stdout",
          "text": [
            "Train loss: 3.6652495861053467\tVal loss: 1.9580192565917969\tTrain acc: 0.0\tVal acc: 41.82581018518518\n"
          ]
        },
        {
          "output_type": "stream",
          "name": "stderr",
          "text": [
            "100%|██████████| 3/3 [00:00<00:00,  8.39it/s]\n",
            "100%|██████████| 2/2 [00:00<00:00,  5.63it/s]\n"
          ]
        },
        {
          "output_type": "stream",
          "name": "stdout",
          "text": [
            "########## Epoch 14\n"
          ]
        },
        {
          "output_type": "stream",
          "name": "stderr",
          "text": [
            "100%|██████████| 6/6 [00:00<00:00, 11.61it/s]\n",
            "100%|██████████| 4/4 [00:00<00:00, 11.01it/s]\n"
          ]
        },
        {
          "output_type": "stream",
          "name": "stdout",
          "text": [
            "Train loss: 3.2024710178375244\tVal loss: 1.9141812324523926\tTrain acc: 0.390625\tVal acc: 38.88406635802469\n"
          ]
        },
        {
          "output_type": "stream",
          "name": "stderr",
          "text": [
            "100%|██████████| 3/3 [00:00<00:00,  8.03it/s]\n",
            "100%|██████████| 2/2 [00:00<00:00,  6.12it/s]\n"
          ]
        },
        {
          "output_type": "stream",
          "name": "stdout",
          "text": [
            "########## Epoch 15\n"
          ]
        },
        {
          "output_type": "stream",
          "name": "stderr",
          "text": [
            "100%|██████████| 6/6 [00:00<00:00, 11.01it/s]\n",
            "100%|██████████| 4/4 [00:00<00:00, 10.90it/s]\n"
          ]
        },
        {
          "output_type": "stream",
          "name": "stdout",
          "text": [
            "Train loss: 2.6583759784698486\tVal loss: 1.8734581470489502\tTrain acc: 4.91786858974359\tVal acc: 39.2554012345679\n"
          ]
        },
        {
          "output_type": "stream",
          "name": "stderr",
          "text": [
            "100%|██████████| 3/3 [00:00<00:00,  8.14it/s]\n",
            "100%|██████████| 2/2 [00:00<00:00,  5.43it/s]\n"
          ]
        },
        {
          "output_type": "stream",
          "name": "stdout",
          "text": [
            "########## Epoch 16\n"
          ]
        },
        {
          "output_type": "stream",
          "name": "stderr",
          "text": [
            "100%|██████████| 6/6 [00:00<00:00, 11.25it/s]\n",
            "100%|██████████| 4/4 [00:00<00:00, 10.36it/s]\n"
          ]
        },
        {
          "output_type": "stream",
          "name": "stdout",
          "text": [
            "Train loss: 2.2204246520996094\tVal loss: 1.9669021368026733\tTrain acc: 14.092548076923078\tVal acc: 36.571662808641975\n"
          ]
        },
        {
          "output_type": "stream",
          "name": "stderr",
          "text": [
            "100%|██████████| 3/3 [00:00<00:00,  8.59it/s]\n",
            "100%|██████████| 2/2 [00:00<00:00,  6.09it/s]\n"
          ]
        },
        {
          "output_type": "stream",
          "name": "stdout",
          "text": [
            "########## Epoch 17\n"
          ]
        },
        {
          "output_type": "stream",
          "name": "stderr",
          "text": [
            "100%|██████████| 6/6 [00:00<00:00, 11.47it/s]\n",
            "100%|██████████| 4/4 [00:00<00:00, 10.81it/s]\n"
          ]
        },
        {
          "output_type": "stream",
          "name": "stdout",
          "text": [
            "Train loss: 1.7980676889419556\tVal loss: 2.090662717819214\tTrain acc: 24.609375\tVal acc: 34.08323688271605\n"
          ]
        },
        {
          "output_type": "stream",
          "name": "stderr",
          "text": [
            "100%|██████████| 3/3 [00:00<00:00,  8.47it/s]\n",
            "100%|██████████| 2/2 [00:00<00:00,  6.09it/s]\n"
          ]
        },
        {
          "output_type": "stream",
          "name": "stdout",
          "text": [
            "########## Epoch 18\n"
          ]
        },
        {
          "output_type": "stream",
          "name": "stderr",
          "text": [
            "100%|██████████| 6/6 [00:00<00:00, 11.58it/s]\n",
            "100%|██████████| 4/4 [00:00<00:00, 10.93it/s]\n"
          ]
        },
        {
          "output_type": "stream",
          "name": "stdout",
          "text": [
            "Train loss: 1.4606165885925293\tVal loss: 2.3306565284729004\tTrain acc: 30.909455128205128\tVal acc: 30.93894675925926\n"
          ]
        },
        {
          "output_type": "stream",
          "name": "stderr",
          "text": [
            "100%|██████████| 3/3 [00:00<00:00,  8.42it/s]\n",
            "100%|██████████| 2/2 [00:00<00:00,  5.97it/s]\n"
          ]
        },
        {
          "output_type": "stream",
          "name": "stdout",
          "text": [
            "########## Epoch 19\n"
          ]
        },
        {
          "output_type": "stream",
          "name": "stderr",
          "text": [
            "100%|██████████| 6/6 [00:00<00:00, 11.62it/s]\n",
            "100%|██████████| 4/4 [00:00<00:00, 10.73it/s]\n"
          ]
        },
        {
          "output_type": "stream",
          "name": "stdout",
          "text": [
            "Train loss: 1.223476767539978\tVal loss: 2.6633527278900146\tTrain acc: 35.69711538461539\tVal acc: 27.94656635802469\n"
          ]
        },
        {
          "output_type": "stream",
          "name": "stderr",
          "text": [
            "100%|██████████| 3/3 [00:00<00:00,  8.52it/s]\n",
            "100%|██████████| 2/2 [00:00<00:00,  5.80it/s]\n"
          ]
        },
        {
          "output_type": "stream",
          "name": "stdout",
          "text": [
            "########## Epoch 20\n"
          ]
        },
        {
          "output_type": "stream",
          "name": "stderr",
          "text": [
            "100%|██████████| 6/6 [00:00<00:00, 11.17it/s]\n",
            "100%|██████████| 4/4 [00:00<00:00, 10.96it/s]\n"
          ]
        },
        {
          "output_type": "stream",
          "name": "stdout",
          "text": [
            "Train loss: 1.044918417930603\tVal loss: 2.986238479614258\tTrain acc: 45.35256410256411\tVal acc: 23.707561728395063\n"
          ]
        },
        {
          "output_type": "stream",
          "name": "stderr",
          "text": [
            "100%|██████████| 3/3 [00:00<00:00,  8.74it/s]\n",
            "100%|██████████| 2/2 [00:00<00:00,  5.74it/s]\n"
          ]
        },
        {
          "output_type": "stream",
          "name": "stdout",
          "text": [
            "########## Epoch 21\n"
          ]
        },
        {
          "output_type": "stream",
          "name": "stderr",
          "text": [
            "100%|██████████| 6/6 [00:00<00:00, 11.75it/s]\n",
            "100%|██████████| 4/4 [00:00<00:00, 10.95it/s]\n"
          ]
        },
        {
          "output_type": "stream",
          "name": "stdout",
          "text": [
            "Train loss: 0.9505283236503601\tVal loss: 3.3188414573669434\tTrain acc: 45.47275641025641\tVal acc: 21.848476080246915\n"
          ]
        },
        {
          "output_type": "stream",
          "name": "stderr",
          "text": [
            "100%|██████████| 3/3 [00:00<00:00,  8.83it/s]\n",
            "100%|██████████| 2/2 [00:00<00:00,  5.97it/s]\n"
          ]
        },
        {
          "output_type": "stream",
          "name": "stdout",
          "text": [
            "########## Epoch 22\n"
          ]
        },
        {
          "output_type": "stream",
          "name": "stderr",
          "text": [
            "100%|██████████| 6/6 [00:00<00:00, 11.08it/s]\n",
            "100%|██████████| 4/4 [00:00<00:00, 10.27it/s]\n"
          ]
        },
        {
          "output_type": "stream",
          "name": "stdout",
          "text": [
            "Train loss: 0.8675402998924255\tVal loss: 3.634981870651245\tTrain acc: 49.65945512820513\tVal acc: 20.531925154320987\n"
          ]
        },
        {
          "output_type": "stream",
          "name": "stderr",
          "text": [
            "100%|██████████| 3/3 [00:00<00:00,  8.39it/s]\n",
            "100%|██████████| 2/2 [00:00<00:00,  5.80it/s]\n"
          ]
        },
        {
          "output_type": "stream",
          "name": "stdout",
          "text": [
            "########## Epoch 23\n"
          ]
        },
        {
          "output_type": "stream",
          "name": "stderr",
          "text": [
            "100%|██████████| 6/6 [00:00<00:00, 11.73it/s]\n",
            "100%|██████████| 4/4 [00:00<00:00, 10.75it/s]\n"
          ]
        },
        {
          "output_type": "stream",
          "name": "stdout",
          "text": [
            "Train loss: 0.83075350522995\tVal loss: 3.8409550189971924\tTrain acc: 47.80649038461539\tVal acc: 20.25462962962963\n"
          ]
        },
        {
          "output_type": "stream",
          "name": "stderr",
          "text": [
            "100%|██████████| 3/3 [00:00<00:00,  8.35it/s]\n",
            "100%|██████████| 2/2 [00:00<00:00,  5.68it/s]\n"
          ]
        },
        {
          "output_type": "stream",
          "name": "stdout",
          "text": [
            "########## Epoch 24\n"
          ]
        },
        {
          "output_type": "stream",
          "name": "stderr",
          "text": [
            "100%|██████████| 6/6 [00:00<00:00, 11.17it/s]\n",
            "100%|██████████| 4/4 [00:00<00:00, 10.09it/s]\n"
          ]
        },
        {
          "output_type": "stream",
          "name": "stdout",
          "text": [
            "Train loss: 0.8060433864593506\tVal loss: 4.071223258972168\tTrain acc: 50.59094551282052\tVal acc: 19.895351080246915\n"
          ]
        },
        {
          "output_type": "stream",
          "name": "stderr",
          "text": [
            "100%|██████████| 3/3 [00:00<00:00,  8.23it/s]\n",
            "100%|██████████| 2/2 [00:00<00:00,  5.68it/s]\n"
          ]
        },
        {
          "output_type": "stream",
          "name": "stdout",
          "text": [
            "########## Epoch 0\n"
          ]
        },
        {
          "output_type": "stream",
          "name": "stderr",
          "text": [
            "100%|██████████| 6/6 [00:00<00:00, 11.16it/s]\n",
            "100%|██████████| 5/5 [00:00<00:00, 13.14it/s]\n"
          ]
        },
        {
          "output_type": "stream",
          "name": "stdout",
          "text": [
            "Train loss: 6.045677661895752\tVal loss: 3.9437453746795654\tTrain acc: 4.477163461538462\tVal acc: 16.875\n"
          ]
        },
        {
          "output_type": "stream",
          "name": "stderr",
          "text": [
            "100%|██████████| 3/3 [00:00<00:00,  8.43it/s]\n",
            "100%|██████████| 2/2 [00:00<00:00,  5.72it/s]\n",
            "100%|██████████| 2/2 [00:00<00:00,  6.01it/s]\n"
          ]
        },
        {
          "output_type": "stream",
          "name": "stdout",
          "text": [
            "########## Epoch 1\n"
          ]
        },
        {
          "output_type": "stream",
          "name": "stderr",
          "text": [
            "100%|██████████| 6/6 [00:00<00:00, 11.24it/s]\n",
            "100%|██████████| 5/5 [00:00<00:00, 13.38it/s]\n"
          ]
        },
        {
          "output_type": "stream",
          "name": "stdout",
          "text": [
            "Train loss: 4.342046737670898\tVal loss: 2.593925714492798\tTrain acc: 10.29647435897436\tVal acc: 23.59375\n"
          ]
        },
        {
          "output_type": "stream",
          "name": "stderr",
          "text": [
            "100%|██████████| 3/3 [00:00<00:00,  8.66it/s]\n",
            "100%|██████████| 2/2 [00:00<00:00,  5.61it/s]\n",
            "100%|██████████| 2/2 [00:00<00:00,  5.76it/s]\n"
          ]
        },
        {
          "output_type": "stream",
          "name": "stdout",
          "text": [
            "########## Epoch 2\n"
          ]
        },
        {
          "output_type": "stream",
          "name": "stderr",
          "text": [
            "100%|██████████| 6/6 [00:00<00:00, 11.08it/s]\n",
            "100%|██████████| 5/5 [00:00<00:00, 13.26it/s]\n"
          ]
        },
        {
          "output_type": "stream",
          "name": "stdout",
          "text": [
            "Train loss: 2.602656126022339\tVal loss: 1.677696943283081\tTrain acc: 29.747596153846157\tVal acc: 40.625\n"
          ]
        },
        {
          "output_type": "stream",
          "name": "stderr",
          "text": [
            "100%|██████████| 3/3 [00:00<00:00,  8.28it/s]\n",
            "100%|██████████| 2/2 [00:00<00:00,  5.64it/s]\n",
            "100%|██████████| 2/2 [00:00<00:00,  5.70it/s]\n"
          ]
        },
        {
          "output_type": "stream",
          "name": "stdout",
          "text": [
            "########## Epoch 3\n"
          ]
        },
        {
          "output_type": "stream",
          "name": "stderr",
          "text": [
            "100%|██████████| 6/6 [00:00<00:00, 11.50it/s]\n",
            "100%|██████████| 5/5 [00:00<00:00, 13.47it/s]\n"
          ]
        },
        {
          "output_type": "stream",
          "name": "stdout",
          "text": [
            "Train loss: 1.4197689294815063\tVal loss: 1.2602237462997437\tTrain acc: 59.905849358974365\tVal acc: 55.15625\n"
          ]
        },
        {
          "output_type": "stream",
          "name": "stderr",
          "text": [
            "100%|██████████| 3/3 [00:00<00:00,  8.53it/s]\n",
            "100%|██████████| 2/2 [00:00<00:00,  5.39it/s]\n",
            "100%|██████████| 2/2 [00:00<00:00,  6.01it/s]\n"
          ]
        },
        {
          "output_type": "stream",
          "name": "stdout",
          "text": [
            "########## Epoch 4\n"
          ]
        },
        {
          "output_type": "stream",
          "name": "stderr",
          "text": [
            "100%|██████████| 6/6 [00:00<00:00, 11.47it/s]\n",
            "100%|██████████| 5/5 [00:00<00:00, 12.72it/s]\n"
          ]
        },
        {
          "output_type": "stream",
          "name": "stdout",
          "text": [
            "Train loss: 0.7972458004951477\tVal loss: 1.1504490375518799\tTrain acc: 80.10817307692308\tVal acc: 64.6875\n"
          ]
        },
        {
          "output_type": "stream",
          "name": "stderr",
          "text": [
            "100%|██████████| 3/3 [00:00<00:00,  8.54it/s]\n",
            "100%|██████████| 2/2 [00:00<00:00,  5.50it/s]\n",
            "100%|██████████| 2/2 [00:00<00:00,  6.00it/s]\n"
          ]
        },
        {
          "output_type": "stream",
          "name": "stdout",
          "text": [
            "########## Epoch 5\n"
          ]
        },
        {
          "output_type": "stream",
          "name": "stderr",
          "text": [
            "100%|██████████| 6/6 [00:00<00:00, 11.64it/s]\n",
            "100%|██████████| 5/5 [00:00<00:00, 13.00it/s]\n"
          ]
        },
        {
          "output_type": "stream",
          "name": "stdout",
          "text": [
            "Train loss: 0.527938961982727\tVal loss: 1.1642924547195435\tTrain acc: 91.56650641025641\tVal acc: 66.875\n"
          ]
        },
        {
          "output_type": "stream",
          "name": "stderr",
          "text": [
            "100%|██████████| 3/3 [00:00<00:00,  8.31it/s]\n",
            "100%|██████████| 2/2 [00:00<00:00,  5.61it/s]\n",
            "100%|██████████| 2/2 [00:00<00:00,  5.54it/s]\n"
          ]
        },
        {
          "output_type": "stream",
          "name": "stdout",
          "text": [
            "########## Epoch 6\n"
          ]
        },
        {
          "output_type": "stream",
          "name": "stderr",
          "text": [
            "100%|██████████| 6/6 [00:00<00:00, 11.62it/s]\n",
            "100%|██████████| 5/5 [00:00<00:00, 12.99it/s]\n"
          ]
        },
        {
          "output_type": "stream",
          "name": "stdout",
          "text": [
            "Train loss: 0.3762528598308563\tVal loss: 1.2108843326568604\tTrain acc: 96.03365384615385\tVal acc: 67.65625\n"
          ]
        },
        {
          "output_type": "stream",
          "name": "stderr",
          "text": [
            "100%|██████████| 3/3 [00:00<00:00,  8.32it/s]\n",
            "100%|██████████| 2/2 [00:00<00:00,  5.62it/s]\n",
            "100%|██████████| 2/2 [00:00<00:00,  5.40it/s]\n"
          ]
        },
        {
          "output_type": "stream",
          "name": "stdout",
          "text": [
            "########## Epoch 7\n"
          ]
        },
        {
          "output_type": "stream",
          "name": "stderr",
          "text": [
            "100%|██████████| 6/6 [00:00<00:00, 10.97it/s]\n",
            "100%|██████████| 5/5 [00:00<00:00, 12.62it/s]\n"
          ]
        },
        {
          "output_type": "stream",
          "name": "stdout",
          "text": [
            "Train loss: 0.3246258795261383\tVal loss: 1.2577893733978271\tTrain acc: 96.23397435897436\tVal acc: 68.28125\n"
          ]
        },
        {
          "output_type": "stream",
          "name": "stderr",
          "text": [
            "100%|██████████| 3/3 [00:00<00:00,  8.54it/s]\n",
            "100%|██████████| 2/2 [00:00<00:00,  5.69it/s]\n",
            "100%|██████████| 2/2 [00:00<00:00,  5.69it/s]\n"
          ]
        },
        {
          "output_type": "stream",
          "name": "stdout",
          "text": [
            "########## Epoch 8\n"
          ]
        },
        {
          "output_type": "stream",
          "name": "stderr",
          "text": [
            "100%|██████████| 6/6 [00:00<00:00, 11.22it/s]\n",
            "100%|██████████| 5/5 [00:00<00:00, 13.08it/s]\n"
          ]
        },
        {
          "output_type": "stream",
          "name": "stdout",
          "text": [
            "Train loss: 0.3013404607772827\tVal loss: 1.296862006187439\tTrain acc: 96.30408653846155\tVal acc: 68.59375\n"
          ]
        },
        {
          "output_type": "stream",
          "name": "stderr",
          "text": [
            "100%|██████████| 3/3 [00:00<00:00,  8.32it/s]\n",
            "100%|██████████| 2/2 [00:00<00:00,  5.69it/s]\n",
            "100%|██████████| 2/2 [00:00<00:00,  5.88it/s]\n"
          ]
        },
        {
          "output_type": "stream",
          "name": "stdout",
          "text": [
            "########## Epoch 9\n"
          ]
        },
        {
          "output_type": "stream",
          "name": "stderr",
          "text": [
            "100%|██████████| 6/6 [00:00<00:00, 10.82it/s]\n",
            "100%|██████████| 5/5 [00:00<00:00, 12.87it/s]\n"
          ]
        },
        {
          "output_type": "stream",
          "name": "stdout",
          "text": [
            "Train loss: 0.2559266686439514\tVal loss: 1.3298405408859253\tTrain acc: 96.29407051282051\tVal acc: 68.75\n"
          ]
        },
        {
          "output_type": "stream",
          "name": "stderr",
          "text": [
            "100%|██████████| 3/3 [00:00<00:00,  8.52it/s]\n",
            "100%|██████████| 2/2 [00:00<00:00,  5.80it/s]\n",
            "100%|██████████| 2/2 [00:00<00:00,  5.72it/s]\n"
          ]
        },
        {
          "output_type": "stream",
          "name": "stdout",
          "text": [
            "########## Epoch 10\n"
          ]
        },
        {
          "output_type": "stream",
          "name": "stderr",
          "text": [
            "100%|██████████| 6/6 [00:00<00:00, 11.50it/s]\n",
            "100%|██████████| 5/5 [00:00<00:00, 12.52it/s]\n"
          ]
        },
        {
          "output_type": "stream",
          "name": "stdout",
          "text": [
            "Train loss: 0.2313038855791092\tVal loss: 1.3567341566085815\tTrain acc: 96.42427884615385\tVal acc: 68.75\n"
          ]
        },
        {
          "output_type": "stream",
          "name": "stderr",
          "text": [
            "100%|██████████| 3/3 [00:00<00:00,  8.11it/s]\n",
            "100%|██████████| 2/2 [00:00<00:00,  5.87it/s]\n",
            "100%|██████████| 2/2 [00:00<00:00,  5.47it/s]\n"
          ]
        },
        {
          "output_type": "stream",
          "name": "stdout",
          "text": [
            "########## Epoch 11\n"
          ]
        },
        {
          "output_type": "stream",
          "name": "stderr",
          "text": [
            "100%|██████████| 6/6 [00:00<00:00, 11.37it/s]\n",
            "100%|██████████| 5/5 [00:00<00:00, 12.70it/s]\n"
          ]
        },
        {
          "output_type": "stream",
          "name": "stdout",
          "text": [
            "Train loss: 0.21719567477703094\tVal loss: 1.3793834447860718\tTrain acc: 96.10376602564104\tVal acc: 68.59375\n"
          ]
        },
        {
          "output_type": "stream",
          "name": "stderr",
          "text": [
            "100%|██████████| 3/3 [00:00<00:00,  8.10it/s]\n",
            "100%|██████████| 2/2 [00:00<00:00,  5.79it/s]\n",
            "100%|██████████| 2/2 [00:00<00:00,  5.81it/s]\n"
          ]
        },
        {
          "output_type": "stream",
          "name": "stdout",
          "text": [
            "########## Epoch 12\n"
          ]
        },
        {
          "output_type": "stream",
          "name": "stderr",
          "text": [
            "100%|██████████| 6/6 [00:00<00:00, 11.58it/s]\n",
            "100%|██████████| 5/5 [00:00<00:00, 12.93it/s]\n"
          ]
        },
        {
          "output_type": "stream",
          "name": "stdout",
          "text": [
            "Train loss: 0.2088891714811325\tVal loss: 1.3995198011398315\tTrain acc: 96.29407051282051\tVal acc: 68.75\n"
          ]
        },
        {
          "output_type": "stream",
          "name": "stderr",
          "text": [
            "100%|██████████| 3/3 [00:00<00:00,  8.58it/s]\n",
            "100%|██████████| 2/2 [00:00<00:00,  5.89it/s]\n",
            "100%|██████████| 2/2 [00:00<00:00,  5.72it/s]\n"
          ]
        },
        {
          "output_type": "stream",
          "name": "stdout",
          "text": [
            "########## Epoch 13\n"
          ]
        },
        {
          "output_type": "stream",
          "name": "stderr",
          "text": [
            "100%|██████████| 6/6 [00:00<00:00, 11.04it/s]\n",
            "100%|██████████| 5/5 [00:00<00:00, 13.23it/s]\n"
          ]
        },
        {
          "output_type": "stream",
          "name": "stdout",
          "text": [
            "Train loss: 0.21805965900421143\tVal loss: 1.4171708822250366\tTrain acc: 95.91346153846155\tVal acc: 68.75\n"
          ]
        },
        {
          "output_type": "stream",
          "name": "stderr",
          "text": [
            "100%|██████████| 3/3 [00:00<00:00,  8.30it/s]\n",
            "100%|██████████| 2/2 [00:00<00:00,  5.74it/s]\n",
            "100%|██████████| 2/2 [00:00<00:00,  5.66it/s]\n"
          ]
        },
        {
          "output_type": "stream",
          "name": "stdout",
          "text": [
            "########## Epoch 14\n"
          ]
        },
        {
          "output_type": "stream",
          "name": "stderr",
          "text": [
            "100%|██████████| 6/6 [00:00<00:00, 11.47it/s]\n",
            "100%|██████████| 5/5 [00:00<00:00, 12.80it/s]\n"
          ]
        },
        {
          "output_type": "stream",
          "name": "stdout",
          "text": [
            "Train loss: 0.19649885594844818\tVal loss: 1.4337421655654907\tTrain acc: 96.42427884615385\tVal acc: 68.75\n"
          ]
        },
        {
          "output_type": "stream",
          "name": "stderr",
          "text": [
            "100%|██████████| 3/3 [00:00<00:00,  7.88it/s]\n",
            "100%|██████████| 2/2 [00:00<00:00,  6.00it/s]\n",
            "100%|██████████| 2/2 [00:00<00:00,  5.76it/s]\n"
          ]
        },
        {
          "output_type": "stream",
          "name": "stdout",
          "text": [
            "########## Epoch 15\n"
          ]
        },
        {
          "output_type": "stream",
          "name": "stderr",
          "text": [
            "100%|██████████| 6/6 [00:00<00:00, 11.79it/s]\n",
            "100%|██████████| 5/5 [00:00<00:00, 12.62it/s]\n"
          ]
        },
        {
          "output_type": "stream",
          "name": "stdout",
          "text": [
            "Train loss: 0.19412565231323242\tVal loss: 1.4487930536270142\tTrain acc: 95.9735576923077\tVal acc: 68.75\n"
          ]
        },
        {
          "output_type": "stream",
          "name": "stderr",
          "text": [
            "100%|██████████| 3/3 [00:00<00:00,  8.17it/s]\n",
            "100%|██████████| 2/2 [00:00<00:00,  5.90it/s]\n",
            "100%|██████████| 2/2 [00:00<00:00,  5.28it/s]\n"
          ]
        },
        {
          "output_type": "stream",
          "name": "stdout",
          "text": [
            "########## Epoch 16\n"
          ]
        },
        {
          "output_type": "stream",
          "name": "stderr",
          "text": [
            "100%|██████████| 6/6 [00:00<00:00, 11.20it/s]\n",
            "100%|██████████| 5/5 [00:00<00:00, 12.24it/s]\n"
          ]
        },
        {
          "output_type": "stream",
          "name": "stdout",
          "text": [
            "Train loss: 0.19434340298175812\tVal loss: 1.4635517597198486\tTrain acc: 96.81490384615385\tVal acc: 68.75\n"
          ]
        },
        {
          "output_type": "stream",
          "name": "stderr",
          "text": [
            "100%|██████████| 3/3 [00:00<00:00,  8.15it/s]\n",
            "100%|██████████| 2/2 [00:00<00:00,  5.77it/s]\n",
            "100%|██████████| 2/2 [00:00<00:00,  5.49it/s]\n"
          ]
        },
        {
          "output_type": "stream",
          "name": "stdout",
          "text": [
            "########## Epoch 17\n"
          ]
        },
        {
          "output_type": "stream",
          "name": "stderr",
          "text": [
            "100%|██████████| 6/6 [00:00<00:00, 11.27it/s]\n",
            "100%|██████████| 5/5 [00:00<00:00, 12.55it/s]\n"
          ]
        },
        {
          "output_type": "stream",
          "name": "stdout",
          "text": [
            "Train loss: 0.1834862381219864\tVal loss: 1.4772011041641235\tTrain acc: 96.55448717948718\tVal acc: 68.75\n"
          ]
        },
        {
          "output_type": "stream",
          "name": "stderr",
          "text": [
            "100%|██████████| 3/3 [00:00<00:00,  8.42it/s]\n",
            "100%|██████████| 2/2 [00:00<00:00,  6.02it/s]\n",
            "100%|██████████| 2/2 [00:00<00:00,  5.84it/s]\n"
          ]
        },
        {
          "output_type": "stream",
          "name": "stdout",
          "text": [
            "########## Epoch 18\n"
          ]
        },
        {
          "output_type": "stream",
          "name": "stderr",
          "text": [
            "100%|██████████| 6/6 [00:00<00:00, 11.51it/s]\n",
            "100%|██████████| 5/5 [00:00<00:00, 12.43it/s]\n"
          ]
        },
        {
          "output_type": "stream",
          "name": "stdout",
          "text": [
            "Train loss: 0.17290222644805908\tVal loss: 1.4902294874191284\tTrain acc: 96.49439102564104\tVal acc: 68.75\n"
          ]
        },
        {
          "output_type": "stream",
          "name": "stderr",
          "text": [
            "100%|██████████| 3/3 [00:00<00:00,  8.76it/s]\n",
            "100%|██████████| 2/2 [00:00<00:00,  5.63it/s]\n",
            "100%|██████████| 2/2 [00:00<00:00,  5.59it/s]\n"
          ]
        },
        {
          "output_type": "stream",
          "name": "stdout",
          "text": [
            "########## Epoch 19\n"
          ]
        },
        {
          "output_type": "stream",
          "name": "stderr",
          "text": [
            "100%|██████████| 6/6 [00:00<00:00, 11.58it/s]\n",
            "100%|██████████| 5/5 [00:00<00:00, 12.79it/s]\n"
          ]
        },
        {
          "output_type": "stream",
          "name": "stdout",
          "text": [
            "Train loss: 0.17670612037181854\tVal loss: 1.502809762954712\tTrain acc: 96.62459935897436\tVal acc: 68.75\n"
          ]
        },
        {
          "output_type": "stream",
          "name": "stderr",
          "text": [
            "100%|██████████| 3/3 [00:00<00:00,  8.49it/s]\n",
            "100%|██████████| 2/2 [00:00<00:00,  5.75it/s]\n",
            "100%|██████████| 2/2 [00:00<00:00,  5.51it/s]\n"
          ]
        },
        {
          "output_type": "stream",
          "name": "stdout",
          "text": [
            "########## Epoch 20\n"
          ]
        },
        {
          "output_type": "stream",
          "name": "stderr",
          "text": [
            "100%|██████████| 6/6 [00:00<00:00, 11.05it/s]\n",
            "100%|██████████| 5/5 [00:00<00:00, 12.90it/s]\n"
          ]
        },
        {
          "output_type": "stream",
          "name": "stdout",
          "text": [
            "Train loss: 0.15924261510372162\tVal loss: 1.5154145956039429\tTrain acc: 97.00520833333333\tVal acc: 68.75\n"
          ]
        },
        {
          "output_type": "stream",
          "name": "stderr",
          "text": [
            "100%|██████████| 3/3 [00:00<00:00,  8.68it/s]\n",
            "100%|██████████| 2/2 [00:00<00:00,  5.65it/s]\n",
            "100%|██████████| 2/2 [00:00<00:00,  5.78it/s]\n"
          ]
        },
        {
          "output_type": "stream",
          "name": "stdout",
          "text": [
            "########## Epoch 21\n"
          ]
        },
        {
          "output_type": "stream",
          "name": "stderr",
          "text": [
            "100%|██████████| 6/6 [00:00<00:00, 11.43it/s]\n",
            "100%|██████████| 5/5 [00:00<00:00, 12.66it/s]\n"
          ]
        },
        {
          "output_type": "stream",
          "name": "stdout",
          "text": [
            "Train loss: 0.1642352044582367\tVal loss: 1.5274181365966797\tTrain acc: 96.3641826923077\tVal acc: 68.75\n"
          ]
        },
        {
          "output_type": "stream",
          "name": "stderr",
          "text": [
            "100%|██████████| 3/3 [00:00<00:00,  8.50it/s]\n",
            "100%|██████████| 2/2 [00:00<00:00,  5.61it/s]\n",
            "100%|██████████| 2/2 [00:00<00:00,  5.41it/s]\n"
          ]
        },
        {
          "output_type": "stream",
          "name": "stdout",
          "text": [
            "########## Epoch 22\n"
          ]
        },
        {
          "output_type": "stream",
          "name": "stderr",
          "text": [
            "100%|██████████| 6/6 [00:00<00:00, 11.12it/s]\n",
            "100%|██████████| 5/5 [00:00<00:00, 12.68it/s]\n"
          ]
        },
        {
          "output_type": "stream",
          "name": "stdout",
          "text": [
            "Train loss: 0.1550212949514389\tVal loss: 1.5391039848327637\tTrain acc: 97.07532051282051\tVal acc: 68.75\n"
          ]
        },
        {
          "output_type": "stream",
          "name": "stderr",
          "text": [
            "100%|██████████| 3/3 [00:00<00:00,  8.47it/s]\n",
            "100%|██████████| 2/2 [00:00<00:00,  5.24it/s]\n",
            "100%|██████████| 2/2 [00:00<00:00,  5.39it/s]\n"
          ]
        },
        {
          "output_type": "stream",
          "name": "stdout",
          "text": [
            "########## Epoch 23\n"
          ]
        },
        {
          "output_type": "stream",
          "name": "stderr",
          "text": [
            "100%|██████████| 6/6 [00:00<00:00, 11.11it/s]\n",
            "100%|██████████| 5/5 [00:00<00:00, 13.02it/s]\n"
          ]
        },
        {
          "output_type": "stream",
          "name": "stdout",
          "text": [
            "Train loss: 0.1569899469614029\tVal loss: 1.5504071712493896\tTrain acc: 97.20552884615385\tVal acc: 68.75\n"
          ]
        },
        {
          "output_type": "stream",
          "name": "stderr",
          "text": [
            "100%|██████████| 3/3 [00:00<00:00,  8.35it/s]\n",
            "100%|██████████| 2/2 [00:00<00:00,  5.70it/s]\n",
            "100%|██████████| 2/2 [00:00<00:00,  5.57it/s]\n"
          ]
        },
        {
          "output_type": "stream",
          "name": "stdout",
          "text": [
            "########## Epoch 24\n"
          ]
        },
        {
          "output_type": "stream",
          "name": "stderr",
          "text": [
            "100%|██████████| 6/6 [00:00<00:00, 11.45it/s]\n",
            "100%|██████████| 5/5 [00:00<00:00, 11.67it/s]\n"
          ]
        },
        {
          "output_type": "stream",
          "name": "stdout",
          "text": [
            "Train loss: 0.14725510776042938\tVal loss: 1.5616823434829712\tTrain acc: 96.81490384615385\tVal acc: 68.75\n"
          ]
        },
        {
          "output_type": "stream",
          "name": "stderr",
          "text": [
            "100%|██████████| 3/3 [00:00<00:00,  8.36it/s]\n",
            "100%|██████████| 2/2 [00:00<00:00,  5.61it/s]\n",
            "100%|██████████| 2/2 [00:00<00:00,  5.37it/s]\n"
          ]
        },
        {
          "output_type": "display_data",
          "data": {
            "text/plain": [
              "<IPython.core.display.HTML object>"
            ],
            "text/html": [
              "Waiting for W&B process to finish... <strong style=\"color:green\">(success).</strong>"
            ]
          },
          "metadata": {}
        },
        {
          "output_type": "display_data",
          "data": {
            "text/plain": [
              "VBox(children=(Label(value='0.000 MB of 0.000 MB uploaded (0.000 MB deduped)\\r'), FloatProgress(value=1.0, max…"
            ],
            "application/vnd.jupyter.widget-view+json": {
              "version_major": 2,
              "version_minor": 0,
              "model_id": "a0ae7aa7021e40c285db1b39540d982c"
            }
          },
          "metadata": {}
        },
        {
          "output_type": "display_data",
          "data": {
            "text/plain": [
              "<IPython.core.display.HTML object>"
            ],
            "text/html": [
              "<style>\n",
              "    table.wandb td:nth-child(1) { padding: 0 10px; text-align: left ; width: auto;} td:nth-child(2) {text-align: left ; width: 100%}\n",
              "    .wandb-row { display: flex; flex-direction: row; flex-wrap: wrap; justify-content: flex-start; width: 100% }\n",
              "    .wandb-col { display: flex; flex-direction: column; flex-basis: 100%; flex: 1; padding: 10px; }\n",
              "    </style>\n",
              "<div class=\"wandb-row\"><div class=\"wandb-col\"><h3>Run history:</h3><br/><table class=\"wandb\"><tr><td>task_0_prevtask_0_val_acc</td><td>▁▇▇▇▇▇▇▇▇▆▇▇▇▇█▇████▇▇▇▇▇</td></tr><tr><td>task_0_prevtask_0_val_loss</td><td>▆▄▂▂▂▂▁▂▂▃▁▂▁▂▁▂▃▂▂▂▇▅▄█▆</td></tr><tr><td>task_0_train_acc</td><td>▁▅▇▇▇▇▆▇▇▇▇▇█████████████</td></tr><tr><td>task_0_train_loss</td><td>█▄▃▂▂▂▂▂▂▂▂▂▁▁▁▁▁▁▁▁▁▁▁▁▁</td></tr><tr><td>task_0_val_acc</td><td>▁▆▇▇██▇▇▇▅▆█▇██████▇█▇▆▇▇</td></tr><tr><td>task_0_val_loss</td><td>▆▄▂▂▁▂▁▃▂▅▂▁▁▁▂▁▂▂▂▃▃█▆▇▆</td></tr><tr><td>task_1_prevtask_0_val_acc</td><td>███▇▇▇▇▇▆▆▆▆▆▆▆▅▄▄▃▂▂▁▁▁▁</td></tr><tr><td>task_1_prevtask_0_val_loss</td><td>▁▁▁▁▁▂▂▂▂▂▂▂▂▂▂▃▃▄▅▅▆▆▇██</td></tr><tr><td>task_1_prevtask_1_val_acc</td><td>▁▁▁▁▁▁▁▁▁▁▁▁▁▁▁▂▄▅▅▇██▇▇▇</td></tr><tr><td>task_1_prevtask_1_val_loss</td><td>█▇▆▆▅▅▄▄▄▃▃▃▃▂▂▂▂▁▁▁▁▁▁▁▁</td></tr><tr><td>task_1_train_acc</td><td>▁▁▁▁▁▁▁▁▁▁▁▁▁▁▁▂▃▄▅▆▇▇███</td></tr><tr><td>task_1_train_loss</td><td>█▇▆▆▅▅▄▄▄▃▃▃▃▂▂▂▂▁▁▁▁▁▁▁▁</td></tr><tr><td>task_1_val_acc</td><td>███▇▇▇▆▆▆▆▆▅▅▅▄▅▄▄▃▂▂▁▁▁▁</td></tr><tr><td>task_1_val_loss</td><td>█▇▆▅▄▄▃▃▃▂▂▂▁▁▁▁▁▁▂▃▃▄▅▅▅</td></tr><tr><td>task_2_prevtask_0_val_acc</td><td>▁▂▄▆▇████████████████████</td></tr><tr><td>task_2_prevtask_0_val_loss</td><td>█▅▃▂▂▁▁▁▁▁▁▁▁▁▁▁▁▁▁▁▁▁▁▁▁</td></tr><tr><td>task_2_prevtask_1_val_acc</td><td>█▆▅▃▂▁▁▁▁▁▁▁▁▁▁▁▁▁▁▁▁▁▁▁▁</td></tr><tr><td>task_2_prevtask_1_val_loss</td><td>▁▁▂▃▄▅▅▆▆▆▇▇▇▇▇▇▇▇▇██████</td></tr><tr><td>task_2_prevtask_2_val_acc</td><td>▁▂▄▆▇█▇██████████████████</td></tr><tr><td>task_2_prevtask_2_val_loss</td><td>█▅▃▂▂▁▁▁▁▁▁▁▁▁▁▁▁▁▁▁▁▁▁▁▁</td></tr><tr><td>task_2_train_acc</td><td>▁▁▃▅▇████████████████████</td></tr><tr><td>task_2_train_loss</td><td>█▆▄▃▂▁▁▁▁▁▁▁▁▁▁▁▁▁▁▁▁▁▁▁▁</td></tr><tr><td>task_2_val_acc</td><td>▁▂▄▆▇████████████████████</td></tr><tr><td>task_2_val_loss</td><td>█▅▂▁▁▁▁▁▁▁▂▂▂▂▂▂▂▂▂▂▂▂▂▂▂</td></tr></table><br/></div><div class=\"wandb-col\"><h3>Run summary:</h3><br/><table class=\"wandb\"><tr><td>task_0_prevtask_0_val_acc</td><td>93.73468</td></tr><tr><td>task_0_prevtask_0_val_loss</td><td>0.42189</td></tr><tr><td>task_0_train_acc</td><td>99.6875</td></tr><tr><td>task_0_train_loss</td><td>0.0046</td></tr><tr><td>task_0_val_acc</td><td>95.17463</td></tr><tr><td>task_0_val_loss</td><td>0.38033</td></tr><tr><td>task_1_prevtask_0_val_acc</td><td>4.36581</td></tr><tr><td>task_1_prevtask_0_val_loss</td><td>5.97365</td></tr><tr><td>task_1_prevtask_1_val_acc</td><td>43.93285</td></tr><tr><td>task_1_prevtask_1_val_loss</td><td>0.76203</td></tr><tr><td>task_1_train_acc</td><td>50.59095</td></tr><tr><td>task_1_train_loss</td><td>0.80604</td></tr><tr><td>task_1_val_acc</td><td>19.89535</td></tr><tr><td>task_1_val_loss</td><td>4.07122</td></tr><tr><td>task_2_prevtask_0_val_acc</td><td>95.83333</td></tr><tr><td>task_2_prevtask_0_val_loss</td><td>0.18122</td></tr><tr><td>task_2_prevtask_1_val_acc</td><td>0.0</td></tr><tr><td>task_2_prevtask_1_val_loss</td><td>5.10588</td></tr><tr><td>task_2_prevtask_2_val_acc</td><td>94.46476</td></tr><tr><td>task_2_prevtask_2_val_loss</td><td>0.26642</td></tr><tr><td>task_2_train_acc</td><td>96.8149</td></tr><tr><td>task_2_train_loss</td><td>0.14726</td></tr><tr><td>task_2_val_acc</td><td>68.75</td></tr><tr><td>task_2_val_loss</td><td>1.56168</td></tr></table><br/></div></div>"
            ]
          },
          "metadata": {}
        },
        {
          "output_type": "display_data",
          "data": {
            "text/plain": [
              "<IPython.core.display.HTML object>"
            ],
            "text/html": [
              "Synced <strong style=\"color:#cdcd00\">meanoffeatures_imagecondition_yesno_roadcondition_21_09_05h15m14s_mul</strong>: <a href=\"https://wandb.ai/compyle/continual_vqa_final/runs/2cxmfd20\" target=\"_blank\">https://wandb.ai/compyle/continual_vqa_final/runs/2cxmfd20</a><br/>Synced 5 W&B file(s), 0 media file(s), 0 artifact file(s) and 0 other file(s)"
            ]
          },
          "metadata": {}
        },
        {
          "output_type": "display_data",
          "data": {
            "text/plain": [
              "<IPython.core.display.HTML object>"
            ],
            "text/html": [
              "Find logs at: <code>./wandb/run-20220921_051514-2cxmfd20/logs</code>"
            ]
          },
          "metadata": {}
        },
        {
          "output_type": "display_data",
          "data": {
            "text/plain": [
              "<IPython.core.display.HTML object>"
            ],
            "text/html": [
              "Tracking run with wandb version 0.13.3"
            ]
          },
          "metadata": {}
        },
        {
          "output_type": "display_data",
          "data": {
            "text/plain": [
              "<IPython.core.display.HTML object>"
            ],
            "text/html": [
              "Run data is saved locally in <code>/content/wandb/run-20220921_051734-28glqnw5</code>"
            ]
          },
          "metadata": {}
        },
        {
          "output_type": "display_data",
          "data": {
            "text/plain": [
              "<IPython.core.display.HTML object>"
            ],
            "text/html": [
              "Syncing run <strong><a href=\"https://wandb.ai/compyle/continual_vqa_final/runs/28glqnw5\" target=\"_blank\">meanoffeatures_imagecondition_roadcondition_yesno_21_09_05h17m34s_mul</a></strong> to <a href=\"https://wandb.ai/compyle/continual_vqa_final\" target=\"_blank\">Weights & Biases</a> (<a href=\"https://wandb.me/run\" target=\"_blank\">docs</a>)<br/>"
            ]
          },
          "metadata": {}
        },
        {
          "output_type": "stream",
          "name": "stdout",
          "text": [
            "########## Epoch 0\n"
          ]
        },
        {
          "output_type": "stream",
          "name": "stderr",
          "text": [
            "100%|██████████| 10/10 [00:00<00:00, 14.21it/s]\n",
            "100%|██████████| 3/3 [00:00<00:00,  8.26it/s]\n"
          ]
        },
        {
          "output_type": "stream",
          "name": "stdout",
          "text": [
            "Train loss: 0.550547182559967\tVal loss: 0.21580202877521515\tTrain acc: 83.4375\tVal acc: 94.01041666666667\n"
          ]
        },
        {
          "output_type": "stream",
          "name": "stderr",
          "text": [
            "100%|██████████| 3/3 [00:00<00:00,  7.73it/s]\n"
          ]
        },
        {
          "output_type": "stream",
          "name": "stdout",
          "text": [
            "########## Epoch 1\n"
          ]
        },
        {
          "output_type": "stream",
          "name": "stderr",
          "text": [
            "100%|██████████| 10/10 [00:00<00:00, 14.11it/s]\n",
            "100%|██████████| 3/3 [00:00<00:00,  8.09it/s]\n"
          ]
        },
        {
          "output_type": "stream",
          "name": "stdout",
          "text": [
            "Train loss: 0.16184471547603607\tVal loss: 0.1683052033185959\tTrain acc: 96.015625\tVal acc: 95.6341911764706\n"
          ]
        },
        {
          "output_type": "stream",
          "name": "stderr",
          "text": [
            "100%|██████████| 3/3 [00:00<00:00,  8.09it/s]\n"
          ]
        },
        {
          "output_type": "stream",
          "name": "stdout",
          "text": [
            "########## Epoch 2\n"
          ]
        },
        {
          "output_type": "stream",
          "name": "stderr",
          "text": [
            "100%|██████████| 10/10 [00:00<00:00, 14.80it/s]\n",
            "100%|██████████| 3/3 [00:00<00:00,  7.89it/s]\n"
          ]
        },
        {
          "output_type": "stream",
          "name": "stdout",
          "text": [
            "Train loss: 0.11871743202209473\tVal loss: 0.16589409112930298\tTrain acc: 96.5625\tVal acc: 94.71507352941177\n"
          ]
        },
        {
          "output_type": "stream",
          "name": "stderr",
          "text": [
            "100%|██████████| 3/3 [00:00<00:00,  8.09it/s]\n"
          ]
        },
        {
          "output_type": "stream",
          "name": "stdout",
          "text": [
            "########## Epoch 3\n"
          ]
        },
        {
          "output_type": "stream",
          "name": "stderr",
          "text": [
            "100%|██████████| 10/10 [00:00<00:00, 14.91it/s]\n",
            "100%|██████████| 3/3 [00:00<00:00,  8.25it/s]\n"
          ]
        },
        {
          "output_type": "stream",
          "name": "stdout",
          "text": [
            "Train loss: 0.0949774906039238\tVal loss: 0.13531135022640228\tTrain acc: 97.421875\tVal acc: 96.15502450980392\n"
          ]
        },
        {
          "output_type": "stream",
          "name": "stderr",
          "text": [
            "100%|██████████| 3/3 [00:00<00:00,  7.75it/s]\n"
          ]
        },
        {
          "output_type": "stream",
          "name": "stdout",
          "text": [
            "########## Epoch 4\n"
          ]
        },
        {
          "output_type": "stream",
          "name": "stderr",
          "text": [
            "100%|██████████| 10/10 [00:00<00:00, 15.21it/s]\n",
            "100%|██████████| 3/3 [00:00<00:00,  8.00it/s]\n"
          ]
        },
        {
          "output_type": "stream",
          "name": "stdout",
          "text": [
            "Train loss: 0.07295431941747665\tVal loss: 0.15111573040485382\tTrain acc: 97.578125\tVal acc: 95.69546568627452\n"
          ]
        },
        {
          "output_type": "stream",
          "name": "stderr",
          "text": [
            "100%|██████████| 3/3 [00:00<00:00,  7.97it/s]\n"
          ]
        },
        {
          "output_type": "stream",
          "name": "stdout",
          "text": [
            "########## Epoch 5\n"
          ]
        },
        {
          "output_type": "stream",
          "name": "stderr",
          "text": [
            "100%|██████████| 10/10 [00:00<00:00, 14.55it/s]\n",
            "100%|██████████| 3/3 [00:00<00:00,  8.41it/s]\n"
          ]
        },
        {
          "output_type": "stream",
          "name": "stdout",
          "text": [
            "Train loss: 0.06263851374387741\tVal loss: 0.14545132219791412\tTrain acc: 98.125\tVal acc: 95.17463235294117\n"
          ]
        },
        {
          "output_type": "stream",
          "name": "stderr",
          "text": [
            "100%|██████████| 3/3 [00:00<00:00,  8.17it/s]\n"
          ]
        },
        {
          "output_type": "stream",
          "name": "stdout",
          "text": [
            "########## Epoch 6\n"
          ]
        },
        {
          "output_type": "stream",
          "name": "stderr",
          "text": [
            "100%|██████████| 10/10 [00:00<00:00, 14.88it/s]\n",
            "100%|██████████| 3/3 [00:00<00:00,  7.87it/s]\n"
          ]
        },
        {
          "output_type": "stream",
          "name": "stdout",
          "text": [
            "Train loss: 0.04596637934446335\tVal loss: 0.13373470306396484\tTrain acc: 98.4375\tVal acc: 95.17463235294117\n"
          ]
        },
        {
          "output_type": "stream",
          "name": "stderr",
          "text": [
            "100%|██████████| 3/3 [00:00<00:00,  7.72it/s]\n"
          ]
        },
        {
          "output_type": "stream",
          "name": "stdout",
          "text": [
            "########## Epoch 7\n"
          ]
        },
        {
          "output_type": "stream",
          "name": "stderr",
          "text": [
            "100%|██████████| 10/10 [00:00<00:00, 14.60it/s]\n",
            "100%|██████████| 3/3 [00:00<00:00,  8.39it/s]\n"
          ]
        },
        {
          "output_type": "stream",
          "name": "stdout",
          "text": [
            "Train loss: 0.03517273813486099\tVal loss: 0.14761580526828766\tTrain acc: 98.984375\tVal acc: 96.93627450980392\n"
          ]
        },
        {
          "output_type": "stream",
          "name": "stderr",
          "text": [
            "100%|██████████| 3/3 [00:00<00:00,  8.05it/s]\n"
          ]
        },
        {
          "output_type": "stream",
          "name": "stdout",
          "text": [
            "########## Epoch 8\n"
          ]
        },
        {
          "output_type": "stream",
          "name": "stderr",
          "text": [
            "100%|██████████| 10/10 [00:00<00:00, 14.54it/s]\n",
            "100%|██████████| 3/3 [00:00<00:00,  8.32it/s]\n"
          ]
        },
        {
          "output_type": "stream",
          "name": "stdout",
          "text": [
            "Train loss: 0.03370295837521553\tVal loss: 0.23028729856014252\tTrain acc: 99.453125\tVal acc: 94.8529411764706\n"
          ]
        },
        {
          "output_type": "stream",
          "name": "stderr",
          "text": [
            "100%|██████████| 3/3 [00:00<00:00,  7.79it/s]\n"
          ]
        },
        {
          "output_type": "stream",
          "name": "stdout",
          "text": [
            "########## Epoch 9\n"
          ]
        },
        {
          "output_type": "stream",
          "name": "stderr",
          "text": [
            "100%|██████████| 10/10 [00:00<00:00, 15.23it/s]\n",
            "100%|██████████| 3/3 [00:00<00:00,  7.74it/s]\n"
          ]
        },
        {
          "output_type": "stream",
          "name": "stdout",
          "text": [
            "Train loss: 0.07912823557853699\tVal loss: 0.21382011473178864\tTrain acc: 97.421875\tVal acc: 95.43504901960785\n"
          ]
        },
        {
          "output_type": "stream",
          "name": "stderr",
          "text": [
            "100%|██████████| 3/3 [00:00<00:00,  8.22it/s]\n"
          ]
        },
        {
          "output_type": "stream",
          "name": "stdout",
          "text": [
            "########## Epoch 10\n"
          ]
        },
        {
          "output_type": "stream",
          "name": "stderr",
          "text": [
            "100%|██████████| 10/10 [00:00<00:00, 14.41it/s]\n",
            "100%|██████████| 3/3 [00:00<00:00,  8.38it/s]\n"
          ]
        },
        {
          "output_type": "stream",
          "name": "stdout",
          "text": [
            "Train loss: 0.04625888168811798\tVal loss: 0.16764044761657715\tTrain acc: 98.59375\tVal acc: 96.35416666666667\n"
          ]
        },
        {
          "output_type": "stream",
          "name": "stderr",
          "text": [
            "100%|██████████| 3/3 [00:00<00:00,  7.94it/s]\n"
          ]
        },
        {
          "output_type": "stream",
          "name": "stdout",
          "text": [
            "########## Epoch 11\n"
          ]
        },
        {
          "output_type": "stream",
          "name": "stderr",
          "text": [
            "100%|██████████| 10/10 [00:00<00:00, 14.99it/s]\n",
            "100%|██████████| 3/3 [00:00<00:00,  8.01it/s]\n"
          ]
        },
        {
          "output_type": "stream",
          "name": "stdout",
          "text": [
            "Train loss: 0.03289704769849777\tVal loss: 0.2002631276845932\tTrain acc: 98.90625\tVal acc: 96.4154411764706\n"
          ]
        },
        {
          "output_type": "stream",
          "name": "stderr",
          "text": [
            "100%|██████████| 3/3 [00:00<00:00,  8.11it/s]\n"
          ]
        },
        {
          "output_type": "stream",
          "name": "stdout",
          "text": [
            "########## Epoch 12\n"
          ]
        },
        {
          "output_type": "stream",
          "name": "stderr",
          "text": [
            "100%|██████████| 10/10 [00:00<00:00, 14.59it/s]\n",
            "100%|██████████| 3/3 [00:00<00:00,  8.00it/s]\n"
          ]
        },
        {
          "output_type": "stream",
          "name": "stdout",
          "text": [
            "Train loss: 0.029374051839113235\tVal loss: 0.15079088509082794\tTrain acc: 99.140625\tVal acc: 96.4154411764706\n"
          ]
        },
        {
          "output_type": "stream",
          "name": "stderr",
          "text": [
            "100%|██████████| 3/3 [00:00<00:00,  7.99it/s]\n"
          ]
        },
        {
          "output_type": "stream",
          "name": "stdout",
          "text": [
            "########## Epoch 13\n"
          ]
        },
        {
          "output_type": "stream",
          "name": "stderr",
          "text": [
            "100%|██████████| 10/10 [00:00<00:00, 14.26it/s]\n",
            "100%|██████████| 3/3 [00:00<00:00,  7.89it/s]\n"
          ]
        },
        {
          "output_type": "stream",
          "name": "stdout",
          "text": [
            "Train loss: 0.02972283400595188\tVal loss: 0.20561672747135162\tTrain acc: 99.0625\tVal acc: 95.43504901960785\n"
          ]
        },
        {
          "output_type": "stream",
          "name": "stderr",
          "text": [
            "100%|██████████| 3/3 [00:00<00:00,  7.53it/s]\n"
          ]
        },
        {
          "output_type": "stream",
          "name": "stdout",
          "text": [
            "########## Epoch 14\n"
          ]
        },
        {
          "output_type": "stream",
          "name": "stderr",
          "text": [
            "100%|██████████| 10/10 [00:00<00:00, 14.40it/s]\n",
            "100%|██████████| 3/3 [00:00<00:00,  7.80it/s]\n"
          ]
        },
        {
          "output_type": "stream",
          "name": "stdout",
          "text": [
            "Train loss: 0.09723915904760361\tVal loss: 0.15231762826442719\tTrain acc: 97.78645833333334\tVal acc: 97.39583333333333\n"
          ]
        },
        {
          "output_type": "stream",
          "name": "stderr",
          "text": [
            "100%|██████████| 3/3 [00:00<00:00,  7.71it/s]\n"
          ]
        },
        {
          "output_type": "stream",
          "name": "stdout",
          "text": [
            "########## Epoch 15\n"
          ]
        },
        {
          "output_type": "stream",
          "name": "stderr",
          "text": [
            "100%|██████████| 10/10 [00:00<00:00, 14.54it/s]\n",
            "100%|██████████| 3/3 [00:00<00:00,  8.15it/s]\n"
          ]
        },
        {
          "output_type": "stream",
          "name": "stdout",
          "text": [
            "Train loss: 0.08329889923334122\tVal loss: 0.17785070836544037\tTrain acc: 96.796875\tVal acc: 95.3125\n"
          ]
        },
        {
          "output_type": "stream",
          "name": "stderr",
          "text": [
            "100%|██████████| 3/3 [00:00<00:00,  7.78it/s]\n"
          ]
        },
        {
          "output_type": "stream",
          "name": "stdout",
          "text": [
            "########## Epoch 16\n"
          ]
        },
        {
          "output_type": "stream",
          "name": "stderr",
          "text": [
            "100%|██████████| 10/10 [00:00<00:00, 15.04it/s]\n",
            "100%|██████████| 3/3 [00:00<00:00,  7.65it/s]\n"
          ]
        },
        {
          "output_type": "stream",
          "name": "stdout",
          "text": [
            "Train loss: 0.04383684694766998\tVal loss: 0.183274507522583\tTrain acc: 98.28125\tVal acc: 95.43504901960785\n"
          ]
        },
        {
          "output_type": "stream",
          "name": "stderr",
          "text": [
            "100%|██████████| 3/3 [00:00<00:00,  8.42it/s]\n"
          ]
        },
        {
          "output_type": "stream",
          "name": "stdout",
          "text": [
            "########## Epoch 17\n"
          ]
        },
        {
          "output_type": "stream",
          "name": "stderr",
          "text": [
            "100%|██████████| 10/10 [00:00<00:00, 14.93it/s]\n",
            "100%|██████████| 3/3 [00:00<00:00,  8.28it/s]\n"
          ]
        },
        {
          "output_type": "stream",
          "name": "stdout",
          "text": [
            "Train loss: 0.02695908024907112\tVal loss: 0.17472998797893524\tTrain acc: 99.140625\tVal acc: 96.61458333333333\n"
          ]
        },
        {
          "output_type": "stream",
          "name": "stderr",
          "text": [
            "100%|██████████| 3/3 [00:00<00:00,  8.03it/s]\n"
          ]
        },
        {
          "output_type": "stream",
          "name": "stdout",
          "text": [
            "########## Epoch 18\n"
          ]
        },
        {
          "output_type": "stream",
          "name": "stderr",
          "text": [
            "100%|██████████| 10/10 [00:00<00:00, 14.94it/s]\n",
            "100%|██████████| 3/3 [00:00<00:00,  7.73it/s]\n"
          ]
        },
        {
          "output_type": "stream",
          "name": "stdout",
          "text": [
            "Train loss: 0.021230515092611313\tVal loss: 0.19513170421123505\tTrain acc: 99.0625\tVal acc: 96.15502450980392\n"
          ]
        },
        {
          "output_type": "stream",
          "name": "stderr",
          "text": [
            "100%|██████████| 3/3 [00:00<00:00,  8.55it/s]\n"
          ]
        },
        {
          "output_type": "stream",
          "name": "stdout",
          "text": [
            "########## Epoch 19\n"
          ]
        },
        {
          "output_type": "stream",
          "name": "stderr",
          "text": [
            "100%|██████████| 10/10 [00:00<00:00, 14.27it/s]\n",
            "100%|██████████| 3/3 [00:00<00:00,  8.05it/s]\n"
          ]
        },
        {
          "output_type": "stream",
          "name": "stdout",
          "text": [
            "Train loss: 0.007988068275153637\tVal loss: 0.25413647294044495\tTrain acc: 99.84375\tVal acc: 96.4154411764706\n"
          ]
        },
        {
          "output_type": "stream",
          "name": "stderr",
          "text": [
            "100%|██████████| 3/3 [00:00<00:00,  8.01it/s]\n"
          ]
        },
        {
          "output_type": "stream",
          "name": "stdout",
          "text": [
            "########## Epoch 20\n"
          ]
        },
        {
          "output_type": "stream",
          "name": "stderr",
          "text": [
            "100%|██████████| 10/10 [00:00<00:00, 14.33it/s]\n",
            "100%|██████████| 3/3 [00:00<00:00,  7.57it/s]\n"
          ]
        },
        {
          "output_type": "stream",
          "name": "stdout",
          "text": [
            "Train loss: 0.006950295064598322\tVal loss: 0.21706359088420868\tTrain acc: 99.84375\tVal acc: 96.67585784313725\n"
          ]
        },
        {
          "output_type": "stream",
          "name": "stderr",
          "text": [
            "100%|██████████| 3/3 [00:00<00:00,  8.12it/s]\n"
          ]
        },
        {
          "output_type": "stream",
          "name": "stdout",
          "text": [
            "########## Epoch 21\n"
          ]
        },
        {
          "output_type": "stream",
          "name": "stderr",
          "text": [
            "100%|██████████| 10/10 [00:00<00:00, 14.27it/s]\n",
            "100%|██████████| 3/3 [00:00<00:00,  7.77it/s]\n"
          ]
        },
        {
          "output_type": "stream",
          "name": "stdout",
          "text": [
            "Train loss: 0.0046570757403969765\tVal loss: 0.39028218388557434\tTrain acc: 99.921875\tVal acc: 94.97549019607844\n"
          ]
        },
        {
          "output_type": "stream",
          "name": "stderr",
          "text": [
            "100%|██████████| 3/3 [00:00<00:00,  7.88it/s]\n"
          ]
        },
        {
          "output_type": "stream",
          "name": "stdout",
          "text": [
            "########## Epoch 22\n"
          ]
        },
        {
          "output_type": "stream",
          "name": "stderr",
          "text": [
            "100%|██████████| 10/10 [00:00<00:00, 14.59it/s]\n",
            "100%|██████████| 3/3 [00:00<00:00,  8.32it/s]\n"
          ]
        },
        {
          "output_type": "stream",
          "name": "stdout",
          "text": [
            "Train loss: 0.005332601256668568\tVal loss: 0.40132924914360046\tTrain acc: 99.84375\tVal acc: 95.69546568627452\n"
          ]
        },
        {
          "output_type": "stream",
          "name": "stderr",
          "text": [
            "100%|██████████| 3/3 [00:00<00:00,  8.00it/s]\n"
          ]
        },
        {
          "output_type": "stream",
          "name": "stdout",
          "text": [
            "########## Epoch 23\n"
          ]
        },
        {
          "output_type": "stream",
          "name": "stderr",
          "text": [
            "100%|██████████| 10/10 [00:00<00:00, 15.40it/s]\n",
            "100%|██████████| 3/3 [00:00<00:00,  7.86it/s]\n"
          ]
        },
        {
          "output_type": "stream",
          "name": "stdout",
          "text": [
            "Train loss: 0.0022620654199272394\tVal loss: 0.2702594995498657\tTrain acc: 100.0\tVal acc: 97.13541666666667\n"
          ]
        },
        {
          "output_type": "stream",
          "name": "stderr",
          "text": [
            "100%|██████████| 3/3 [00:00<00:00,  8.05it/s]\n"
          ]
        },
        {
          "output_type": "stream",
          "name": "stdout",
          "text": [
            "########## Epoch 24\n"
          ]
        },
        {
          "output_type": "stream",
          "name": "stderr",
          "text": [
            "100%|██████████| 10/10 [00:00<00:00, 15.22it/s]\n",
            "100%|██████████| 3/3 [00:00<00:00,  8.05it/s]\n"
          ]
        },
        {
          "output_type": "stream",
          "name": "stdout",
          "text": [
            "Train loss: 0.0007735930266790092\tVal loss: 0.366281121969223\tTrain acc: 100.0\tVal acc: 96.4154411764706\n"
          ]
        },
        {
          "output_type": "stream",
          "name": "stderr",
          "text": [
            "100%|██████████| 3/3 [00:00<00:00,  8.18it/s]\n"
          ]
        },
        {
          "output_type": "stream",
          "name": "stdout",
          "text": [
            "########## Epoch 0\n"
          ]
        },
        {
          "output_type": "stream",
          "name": "stderr",
          "text": [
            "100%|██████████| 6/6 [00:00<00:00, 11.31it/s]\n",
            "100%|██████████| 4/4 [00:00<00:00, 10.14it/s]\n"
          ]
        },
        {
          "output_type": "stream",
          "name": "stdout",
          "text": [
            "Train loss: 0.3027053773403168\tVal loss: 0.3705572187900543\tTrain acc: 96.02430555555556\tVal acc: 95.89576198630137\n"
          ]
        },
        {
          "output_type": "stream",
          "name": "stderr",
          "text": [
            "100%|██████████| 3/3 [00:00<00:00,  7.82it/s]\n",
            "100%|██████████| 2/2 [00:00<00:00,  5.66it/s]\n"
          ]
        },
        {
          "output_type": "stream",
          "name": "stdout",
          "text": [
            "########## Epoch 1\n"
          ]
        },
        {
          "output_type": "stream",
          "name": "stderr",
          "text": [
            "100%|██████████| 6/6 [00:00<00:00, 10.88it/s]\n",
            "100%|██████████| 4/4 [00:00<00:00, 10.36it/s]\n"
          ]
        },
        {
          "output_type": "stream",
          "name": "stdout",
          "text": [
            "Train loss: 0.2006562203168869\tVal loss: 0.3069321811199188\tTrain acc: 96.72743055555556\tVal acc: 96.82416523972603\n"
          ]
        },
        {
          "output_type": "stream",
          "name": "stderr",
          "text": [
            "100%|██████████| 3/3 [00:00<00:00,  7.99it/s]\n",
            "100%|██████████| 2/2 [00:00<00:00,  5.63it/s]\n"
          ]
        },
        {
          "output_type": "stream",
          "name": "stdout",
          "text": [
            "########## Epoch 2\n"
          ]
        },
        {
          "output_type": "stream",
          "name": "stderr",
          "text": [
            "100%|██████████| 6/6 [00:00<00:00, 11.13it/s]\n",
            "100%|██████████| 4/4 [00:00<00:00, 10.37it/s]\n"
          ]
        },
        {
          "output_type": "stream",
          "name": "stdout",
          "text": [
            "Train loss: 0.16534683108329773\tVal loss: 0.3708239793777466\tTrain acc: 96.9704861111111\tVal acc: 96.1392337328767\n"
          ]
        },
        {
          "output_type": "stream",
          "name": "stderr",
          "text": [
            "100%|██████████| 3/3 [00:00<00:00,  8.02it/s]\n",
            "100%|██████████| 2/2 [00:00<00:00,  5.27it/s]\n"
          ]
        },
        {
          "output_type": "stream",
          "name": "stdout",
          "text": [
            "########## Epoch 3\n"
          ]
        },
        {
          "output_type": "stream",
          "name": "stderr",
          "text": [
            "100%|██████████| 6/6 [00:00<00:00, 11.25it/s]\n",
            "100%|██████████| 4/4 [00:00<00:00, 10.04it/s]\n"
          ]
        },
        {
          "output_type": "stream",
          "name": "stdout",
          "text": [
            "Train loss: 0.14356932044029236\tVal loss: 0.2836732268333435\tTrain acc: 97.6388888888889\tVal acc: 96.875\n"
          ]
        },
        {
          "output_type": "stream",
          "name": "stderr",
          "text": [
            "100%|██████████| 3/3 [00:00<00:00,  7.81it/s]\n",
            "100%|██████████| 2/2 [00:00<00:00,  5.58it/s]\n"
          ]
        },
        {
          "output_type": "stream",
          "name": "stdout",
          "text": [
            "########## Epoch 4\n"
          ]
        },
        {
          "output_type": "stream",
          "name": "stderr",
          "text": [
            "100%|██████████| 6/6 [00:00<00:00, 10.84it/s]\n",
            "100%|██████████| 4/4 [00:00<00:00, 10.02it/s]\n"
          ]
        },
        {
          "output_type": "stream",
          "name": "stdout",
          "text": [
            "Train loss: 0.14068855345249176\tVal loss: 0.33888688683509827\tTrain acc: 97.6388888888889\tVal acc: 95.79944349315069\n"
          ]
        },
        {
          "output_type": "stream",
          "name": "stderr",
          "text": [
            "100%|██████████| 3/3 [00:00<00:00,  7.48it/s]\n",
            "100%|██████████| 2/2 [00:00<00:00,  5.32it/s]\n"
          ]
        },
        {
          "output_type": "stream",
          "name": "stdout",
          "text": [
            "########## Epoch 5\n"
          ]
        },
        {
          "output_type": "stream",
          "name": "stderr",
          "text": [
            "100%|██████████| 6/6 [00:00<00:00, 10.77it/s]\n",
            "100%|██████████| 4/4 [00:00<00:00, 10.41it/s]\n"
          ]
        },
        {
          "output_type": "stream",
          "name": "stdout",
          "text": [
            "Train loss: 0.1229337751865387\tVal loss: 0.3306959867477417\tTrain acc: 98.30729166666667\tVal acc: 95.50513698630137\n"
          ]
        },
        {
          "output_type": "stream",
          "name": "stderr",
          "text": [
            "100%|██████████| 3/3 [00:00<00:00,  7.92it/s]\n",
            "100%|██████████| 2/2 [00:00<00:00,  5.39it/s]\n"
          ]
        },
        {
          "output_type": "stream",
          "name": "stdout",
          "text": [
            "########## Epoch 6\n"
          ]
        },
        {
          "output_type": "stream",
          "name": "stderr",
          "text": [
            "100%|██████████| 6/6 [00:00<00:00, 11.01it/s]\n",
            "100%|██████████| 4/4 [00:00<00:00,  9.90it/s]\n"
          ]
        },
        {
          "output_type": "stream",
          "name": "stdout",
          "text": [
            "Train loss: 0.12007086724042892\tVal loss: 0.3145221769809723\tTrain acc: 98.046875\tVal acc: 95.50513698630137\n"
          ]
        },
        {
          "output_type": "stream",
          "name": "stderr",
          "text": [
            "100%|██████████| 3/3 [00:00<00:00,  7.80it/s]\n",
            "100%|██████████| 2/2 [00:00<00:00,  5.45it/s]\n"
          ]
        },
        {
          "output_type": "stream",
          "name": "stdout",
          "text": [
            "########## Epoch 7\n"
          ]
        },
        {
          "output_type": "stream",
          "name": "stderr",
          "text": [
            "100%|██████████| 6/6 [00:00<00:00, 11.17it/s]\n",
            "100%|██████████| 4/4 [00:00<00:00, 10.76it/s]\n"
          ]
        },
        {
          "output_type": "stream",
          "name": "stdout",
          "text": [
            "Train loss: 0.13877849280834198\tVal loss: 0.29711875319480896\tTrain acc: 98.01215277777777\tVal acc: 95.65229023972603\n"
          ]
        },
        {
          "output_type": "stream",
          "name": "stderr",
          "text": [
            "100%|██████████| 3/3 [00:00<00:00,  8.00it/s]\n",
            "100%|██████████| 2/2 [00:00<00:00,  5.64it/s]\n"
          ]
        },
        {
          "output_type": "stream",
          "name": "stdout",
          "text": [
            "########## Epoch 8\n"
          ]
        },
        {
          "output_type": "stream",
          "name": "stderr",
          "text": [
            "100%|██████████| 6/6 [00:00<00:00, 11.26it/s]\n",
            "100%|██████████| 4/4 [00:00<00:00,  9.96it/s]\n"
          ]
        },
        {
          "output_type": "stream",
          "name": "stdout",
          "text": [
            "Train loss: 0.12408372014760971\tVal loss: 0.2661459147930145\tTrain acc: 97.60416666666667\tVal acc: 96.33722174657534\n"
          ]
        },
        {
          "output_type": "stream",
          "name": "stderr",
          "text": [
            "100%|██████████| 3/3 [00:00<00:00,  8.09it/s]\n",
            "100%|██████████| 2/2 [00:00<00:00,  5.33it/s]\n"
          ]
        },
        {
          "output_type": "stream",
          "name": "stdout",
          "text": [
            "########## Epoch 9\n"
          ]
        },
        {
          "output_type": "stream",
          "name": "stderr",
          "text": [
            "100%|██████████| 6/6 [00:00<00:00, 11.19it/s]\n",
            "100%|██████████| 4/4 [00:00<00:00,  9.81it/s]\n"
          ]
        },
        {
          "output_type": "stream",
          "name": "stdout",
          "text": [
            "Train loss: 0.10301452875137329\tVal loss: 0.27696025371551514\tTrain acc: 98.0295138888889\tVal acc: 96.19006849315069\n"
          ]
        },
        {
          "output_type": "stream",
          "name": "stderr",
          "text": [
            "100%|██████████| 3/3 [00:00<00:00,  7.82it/s]\n",
            "100%|██████████| 2/2 [00:00<00:00,  5.33it/s]\n"
          ]
        },
        {
          "output_type": "stream",
          "name": "stdout",
          "text": [
            "########## Epoch 10\n"
          ]
        },
        {
          "output_type": "stream",
          "name": "stderr",
          "text": [
            "100%|██████████| 6/6 [00:00<00:00, 10.59it/s]\n",
            "100%|██████████| 4/4 [00:00<00:00, 10.78it/s]\n"
          ]
        },
        {
          "output_type": "stream",
          "name": "stdout",
          "text": [
            "Train loss: 0.10863173753023148\tVal loss: 0.2902948260307312\tTrain acc: 97.7517361111111\tVal acc: 96.19006849315069\n"
          ]
        },
        {
          "output_type": "stream",
          "name": "stderr",
          "text": [
            "100%|██████████| 3/3 [00:00<00:00,  7.74it/s]\n",
            "100%|██████████| 2/2 [00:00<00:00,  5.34it/s]\n"
          ]
        },
        {
          "output_type": "stream",
          "name": "stdout",
          "text": [
            "########## Epoch 11\n"
          ]
        },
        {
          "output_type": "stream",
          "name": "stderr",
          "text": [
            "100%|██████████| 6/6 [00:00<00:00, 10.69it/s]\n",
            "100%|██████████| 4/4 [00:00<00:00, 10.28it/s]\n"
          ]
        },
        {
          "output_type": "stream",
          "name": "stdout",
          "text": [
            "Train loss: 0.09223368018865585\tVal loss: 0.2619723081588745\tTrain acc: 98.046875\tVal acc: 96.04291523972603\n"
          ]
        },
        {
          "output_type": "stream",
          "name": "stderr",
          "text": [
            "100%|██████████| 3/3 [00:00<00:00,  7.96it/s]\n",
            "100%|██████████| 2/2 [00:00<00:00,  5.33it/s]\n"
          ]
        },
        {
          "output_type": "stream",
          "name": "stdout",
          "text": [
            "########## Epoch 12\n"
          ]
        },
        {
          "output_type": "stream",
          "name": "stderr",
          "text": [
            "100%|██████████| 6/6 [00:00<00:00, 10.86it/s]\n",
            "100%|██████████| 4/4 [00:00<00:00, 10.16it/s]\n"
          ]
        },
        {
          "output_type": "stream",
          "name": "stdout",
          "text": [
            "Train loss: 0.09129274636507034\tVal loss: 0.2711763381958008\tTrain acc: 98.4375\tVal acc: 95.89576198630137\n"
          ]
        },
        {
          "output_type": "stream",
          "name": "stderr",
          "text": [
            "100%|██████████| 3/3 [00:00<00:00,  8.43it/s]\n",
            "100%|██████████| 2/2 [00:00<00:00,  5.54it/s]\n"
          ]
        },
        {
          "output_type": "stream",
          "name": "stdout",
          "text": [
            "########## Epoch 13\n"
          ]
        },
        {
          "output_type": "stream",
          "name": "stderr",
          "text": [
            "100%|██████████| 6/6 [00:00<00:00, 10.45it/s]\n",
            "100%|██████████| 4/4 [00:00<00:00, 10.07it/s]\n"
          ]
        },
        {
          "output_type": "stream",
          "name": "stdout",
          "text": [
            "Train loss: 0.08580330014228821\tVal loss: 0.2631740868091583\tTrain acc: 98.17708333333333\tVal acc: 96.04291523972603\n"
          ]
        },
        {
          "output_type": "stream",
          "name": "stderr",
          "text": [
            "100%|██████████| 3/3 [00:00<00:00,  7.65it/s]\n",
            "100%|██████████| 2/2 [00:00<00:00,  5.55it/s]\n"
          ]
        },
        {
          "output_type": "stream",
          "name": "stdout",
          "text": [
            "########## Epoch 14\n"
          ]
        },
        {
          "output_type": "stream",
          "name": "stderr",
          "text": [
            "100%|██████████| 6/6 [00:00<00:00, 10.94it/s]\n",
            "100%|██████████| 4/4 [00:00<00:00,  9.62it/s]\n"
          ]
        },
        {
          "output_type": "stream",
          "name": "stdout",
          "text": [
            "Train loss: 0.08898831158876419\tVal loss: 0.2428000420331955\tTrain acc: 98.0295138888889\tVal acc: 96.19006849315069\n"
          ]
        },
        {
          "output_type": "stream",
          "name": "stderr",
          "text": [
            "100%|██████████| 3/3 [00:00<00:00,  7.68it/s]\n",
            "100%|██████████| 2/2 [00:00<00:00,  5.64it/s]\n"
          ]
        },
        {
          "output_type": "stream",
          "name": "stdout",
          "text": [
            "########## Epoch 15\n"
          ]
        },
        {
          "output_type": "stream",
          "name": "stderr",
          "text": [
            "100%|██████████| 6/6 [00:00<00:00, 10.95it/s]\n",
            "100%|██████████| 4/4 [00:00<00:00,  9.98it/s]\n"
          ]
        },
        {
          "output_type": "stream",
          "name": "stdout",
          "text": [
            "Train loss: 0.08977188915014267\tVal loss: 0.24315819144248962\tTrain acc: 98.4201388888889\tVal acc: 96.58069349315069\n"
          ]
        },
        {
          "output_type": "stream",
          "name": "stderr",
          "text": [
            "100%|██████████| 3/3 [00:00<00:00,  7.82it/s]\n",
            "100%|██████████| 2/2 [00:00<00:00,  5.52it/s]\n"
          ]
        },
        {
          "output_type": "stream",
          "name": "stdout",
          "text": [
            "########## Epoch 16\n"
          ]
        },
        {
          "output_type": "stream",
          "name": "stderr",
          "text": [
            "100%|██████████| 6/6 [00:00<00:00, 10.78it/s]\n",
            "100%|██████████| 4/4 [00:00<00:00,  9.70it/s]\n"
          ]
        },
        {
          "output_type": "stream",
          "name": "stdout",
          "text": [
            "Train loss: 0.07644831389188766\tVal loss: 0.24031870067119598\tTrain acc: 98.0295138888889\tVal acc: 96.58069349315069\n"
          ]
        },
        {
          "output_type": "stream",
          "name": "stderr",
          "text": [
            "100%|██████████| 3/3 [00:00<00:00,  7.95it/s]\n",
            "100%|██████████| 2/2 [00:00<00:00,  5.48it/s]\n"
          ]
        },
        {
          "output_type": "stream",
          "name": "stdout",
          "text": [
            "########## Epoch 17\n"
          ]
        },
        {
          "output_type": "stream",
          "name": "stderr",
          "text": [
            "100%|██████████| 6/6 [00:00<00:00, 10.87it/s]\n",
            "100%|██████████| 4/4 [00:00<00:00, 10.22it/s]\n"
          ]
        },
        {
          "output_type": "stream",
          "name": "stdout",
          "text": [
            "Train loss: 0.07842419296503067\tVal loss: 0.24796715378761292\tTrain acc: 98.4201388888889\tVal acc: 96.97131849315069\n"
          ]
        },
        {
          "output_type": "stream",
          "name": "stderr",
          "text": [
            "100%|██████████| 3/3 [00:00<00:00,  7.81it/s]\n",
            "100%|██████████| 2/2 [00:00<00:00,  5.36it/s]\n"
          ]
        },
        {
          "output_type": "stream",
          "name": "stdout",
          "text": [
            "########## Epoch 18\n"
          ]
        },
        {
          "output_type": "stream",
          "name": "stderr",
          "text": [
            "100%|██████████| 6/6 [00:00<00:00, 11.20it/s]\n",
            "100%|██████████| 4/4 [00:00<00:00, 10.20it/s]\n"
          ]
        },
        {
          "output_type": "stream",
          "name": "stdout",
          "text": [
            "Train loss: 0.07223549485206604\tVal loss: 0.2598106563091278\tTrain acc: 98.15972222222223\tVal acc: 96.97131849315069\n"
          ]
        },
        {
          "output_type": "stream",
          "name": "stderr",
          "text": [
            "100%|██████████| 3/3 [00:00<00:00,  7.96it/s]\n",
            "100%|██████████| 2/2 [00:00<00:00,  5.20it/s]\n"
          ]
        },
        {
          "output_type": "stream",
          "name": "stdout",
          "text": [
            "########## Epoch 19\n"
          ]
        },
        {
          "output_type": "stream",
          "name": "stderr",
          "text": [
            "100%|██████████| 6/6 [00:00<00:00, 10.70it/s]\n",
            "100%|██████████| 4/4 [00:00<00:00, 10.01it/s]\n"
          ]
        },
        {
          "output_type": "stream",
          "name": "stdout",
          "text": [
            "Train loss: 0.06536751240491867\tVal loss: 0.23458266258239746\tTrain acc: 98.4201388888889\tVal acc: 97.11847174657534\n"
          ]
        },
        {
          "output_type": "stream",
          "name": "stderr",
          "text": [
            "100%|██████████| 3/3 [00:00<00:00,  7.80it/s]\n",
            "100%|██████████| 2/2 [00:00<00:00,  5.58it/s]\n"
          ]
        },
        {
          "output_type": "stream",
          "name": "stdout",
          "text": [
            "########## Epoch 20\n"
          ]
        },
        {
          "output_type": "stream",
          "name": "stderr",
          "text": [
            "100%|██████████| 6/6 [00:00<00:00, 10.99it/s]\n",
            "100%|██████████| 4/4 [00:00<00:00, 10.25it/s]\n"
          ]
        },
        {
          "output_type": "stream",
          "name": "stdout",
          "text": [
            "Train loss: 0.06589149683713913\tVal loss: 0.223585307598114\tTrain acc: 98.4201388888889\tVal acc: 97.265625\n"
          ]
        },
        {
          "output_type": "stream",
          "name": "stderr",
          "text": [
            "100%|██████████| 3/3 [00:00<00:00,  7.65it/s]\n",
            "100%|██████████| 2/2 [00:00<00:00,  5.64it/s]\n"
          ]
        },
        {
          "output_type": "stream",
          "name": "stdout",
          "text": [
            "########## Epoch 21\n"
          ]
        },
        {
          "output_type": "stream",
          "name": "stderr",
          "text": [
            "100%|██████████| 6/6 [00:00<00:00, 10.45it/s]\n",
            "100%|██████████| 4/4 [00:00<00:00,  9.82it/s]\n"
          ]
        },
        {
          "output_type": "stream",
          "name": "stdout",
          "text": [
            "Train loss: 0.06287310272455215\tVal loss: 0.29316386580467224\tTrain acc: 98.30729166666667\tVal acc: 96.67701198630137\n"
          ]
        },
        {
          "output_type": "stream",
          "name": "stderr",
          "text": [
            "100%|██████████| 3/3 [00:00<00:00,  7.56it/s]\n",
            "100%|██████████| 2/2 [00:00<00:00,  5.25it/s]\n"
          ]
        },
        {
          "output_type": "stream",
          "name": "stdout",
          "text": [
            "########## Epoch 22\n"
          ]
        },
        {
          "output_type": "stream",
          "name": "stderr",
          "text": [
            "100%|██████████| 6/6 [00:00<00:00, 10.93it/s]\n",
            "100%|██████████| 4/4 [00:00<00:00,  9.99it/s]\n"
          ]
        },
        {
          "output_type": "stream",
          "name": "stdout",
          "text": [
            "Train loss: 0.06010222062468529\tVal loss: 0.24525879323482513\tTrain acc: 98.69791666666667\tVal acc: 96.82416523972603\n"
          ]
        },
        {
          "output_type": "stream",
          "name": "stderr",
          "text": [
            "100%|██████████| 3/3 [00:00<00:00,  7.81it/s]\n",
            "100%|██████████| 2/2 [00:00<00:00,  5.63it/s]\n"
          ]
        },
        {
          "output_type": "stream",
          "name": "stdout",
          "text": [
            "########## Epoch 23\n"
          ]
        },
        {
          "output_type": "stream",
          "name": "stderr",
          "text": [
            "100%|██████████| 6/6 [00:00<00:00, 10.39it/s]\n",
            "100%|██████████| 4/4 [00:00<00:00,  9.83it/s]\n"
          ]
        },
        {
          "output_type": "stream",
          "name": "stdout",
          "text": [
            "Train loss: 0.0709003284573555\tVal loss: 0.21971966326236725\tTrain acc: 98.28993055555556\tVal acc: 97.265625\n"
          ]
        },
        {
          "output_type": "stream",
          "name": "stderr",
          "text": [
            "100%|██████████| 3/3 [00:00<00:00,  7.58it/s]\n",
            "100%|██████████| 2/2 [00:00<00:00,  5.52it/s]\n"
          ]
        },
        {
          "output_type": "stream",
          "name": "stdout",
          "text": [
            "########## Epoch 24\n"
          ]
        },
        {
          "output_type": "stream",
          "name": "stderr",
          "text": [
            "100%|██████████| 6/6 [00:00<00:00, 11.16it/s]\n",
            "100%|██████████| 4/4 [00:00<00:00,  9.48it/s]\n"
          ]
        },
        {
          "output_type": "stream",
          "name": "stdout",
          "text": [
            "Train loss: 0.06439980119466782\tVal loss: 0.2944873571395874\tTrain acc: 98.15972222222223\tVal acc: 96.5298587328767\n"
          ]
        },
        {
          "output_type": "stream",
          "name": "stderr",
          "text": [
            "100%|██████████| 3/3 [00:00<00:00,  7.96it/s]\n",
            "100%|██████████| 2/2 [00:00<00:00,  5.23it/s]\n"
          ]
        },
        {
          "output_type": "stream",
          "name": "stdout",
          "text": [
            "########## Epoch 0\n"
          ]
        },
        {
          "output_type": "stream",
          "name": "stderr",
          "text": [
            "100%|██████████| 6/6 [00:00<00:00, 10.93it/s]\n",
            "100%|██████████| 5/5 [00:00<00:00, 11.98it/s]\n"
          ]
        },
        {
          "output_type": "stream",
          "name": "stdout",
          "text": [
            "Train loss: 12.297200202941895\tVal loss: 2.7793853282928467\tTrain acc: 0.0\tVal acc: 70.3125\n"
          ]
        },
        {
          "output_type": "stream",
          "name": "stderr",
          "text": [
            "100%|██████████| 3/3 [00:00<00:00,  8.16it/s]\n",
            "100%|██████████| 2/2 [00:00<00:00,  5.47it/s]\n",
            "100%|██████████| 2/2 [00:00<00:00,  5.60it/s]\n"
          ]
        },
        {
          "output_type": "stream",
          "name": "stdout",
          "text": [
            "########## Epoch 1\n"
          ]
        },
        {
          "output_type": "stream",
          "name": "stderr",
          "text": [
            "100%|██████████| 6/6 [00:00<00:00, 10.62it/s]\n",
            "100%|██████████| 5/5 [00:00<00:00, 12.20it/s]\n"
          ]
        },
        {
          "output_type": "stream",
          "name": "stdout",
          "text": [
            "Train loss: 9.021651268005371\tVal loss: 2.0591912269592285\tTrain acc: 0.0\tVal acc: 70.06696428571429\n"
          ]
        },
        {
          "output_type": "stream",
          "name": "stderr",
          "text": [
            "100%|██████████| 3/3 [00:00<00:00,  7.63it/s]\n",
            "100%|██████████| 2/2 [00:00<00:00,  5.27it/s]\n",
            "100%|██████████| 2/2 [00:00<00:00,  5.40it/s]\n"
          ]
        },
        {
          "output_type": "stream",
          "name": "stdout",
          "text": [
            "########## Epoch 2\n"
          ]
        },
        {
          "output_type": "stream",
          "name": "stderr",
          "text": [
            "100%|██████████| 6/6 [00:00<00:00, 10.75it/s]\n",
            "100%|██████████| 5/5 [00:00<00:00, 12.19it/s]\n"
          ]
        },
        {
          "output_type": "stream",
          "name": "stdout",
          "text": [
            "Train loss: 6.41619348526001\tVal loss: 1.6074235439300537\tTrain acc: 0.0\tVal acc: 69.91071428571429\n"
          ]
        },
        {
          "output_type": "stream",
          "name": "stderr",
          "text": [
            "100%|██████████| 3/3 [00:00<00:00,  7.71it/s]\n",
            "100%|██████████| 2/2 [00:00<00:00,  5.37it/s]\n",
            "100%|██████████| 2/2 [00:00<00:00,  5.49it/s]\n"
          ]
        },
        {
          "output_type": "stream",
          "name": "stdout",
          "text": [
            "########## Epoch 3\n"
          ]
        },
        {
          "output_type": "stream",
          "name": "stderr",
          "text": [
            "100%|██████████| 6/6 [00:00<00:00, 10.51it/s]\n",
            "100%|██████████| 5/5 [00:00<00:00, 12.27it/s]\n"
          ]
        },
        {
          "output_type": "stream",
          "name": "stdout",
          "text": [
            "Train loss: 4.657867908477783\tVal loss: 1.322256326675415\tTrain acc: 0.0\tVal acc: 69.53125\n"
          ]
        },
        {
          "output_type": "stream",
          "name": "stderr",
          "text": [
            "100%|██████████| 3/3 [00:00<00:00,  7.91it/s]\n",
            "100%|██████████| 2/2 [00:00<00:00,  5.39it/s]\n",
            "100%|██████████| 2/2 [00:00<00:00,  5.48it/s]\n"
          ]
        },
        {
          "output_type": "stream",
          "name": "stdout",
          "text": [
            "########## Epoch 4\n"
          ]
        },
        {
          "output_type": "stream",
          "name": "stderr",
          "text": [
            "100%|██████████| 6/6 [00:00<00:00, 10.73it/s]\n",
            "100%|██████████| 5/5 [00:00<00:00, 12.06it/s]\n"
          ]
        },
        {
          "output_type": "stream",
          "name": "stdout",
          "text": [
            "Train loss: 3.363600492477417\tVal loss: 1.2286453247070312\tTrain acc: 0.2777777777777778\tVal acc: 67.61160714285714\n"
          ]
        },
        {
          "output_type": "stream",
          "name": "stderr",
          "text": [
            "100%|██████████| 3/3 [00:00<00:00,  7.93it/s]\n",
            "100%|██████████| 2/2 [00:00<00:00,  5.00it/s]\n",
            "100%|██████████| 2/2 [00:00<00:00,  5.54it/s]\n"
          ]
        },
        {
          "output_type": "stream",
          "name": "stdout",
          "text": [
            "########## Epoch 5\n"
          ]
        },
        {
          "output_type": "stream",
          "name": "stderr",
          "text": [
            "100%|██████████| 6/6 [00:00<00:00, 10.73it/s]\n",
            "100%|██████████| 5/5 [00:00<00:00, 12.28it/s]\n"
          ]
        },
        {
          "output_type": "stream",
          "name": "stdout",
          "text": [
            "Train loss: 2.4358255863189697\tVal loss: 1.340846061706543\tTrain acc: 5.217013888888889\tVal acc: 51.205357142857146\n"
          ]
        },
        {
          "output_type": "stream",
          "name": "stderr",
          "text": [
            "100%|██████████| 3/3 [00:00<00:00,  7.20it/s]\n",
            "100%|██████████| 2/2 [00:00<00:00,  5.31it/s]\n",
            "100%|██████████| 2/2 [00:00<00:00,  5.41it/s]\n"
          ]
        },
        {
          "output_type": "stream",
          "name": "stdout",
          "text": [
            "########## Epoch 6\n"
          ]
        },
        {
          "output_type": "stream",
          "name": "stderr",
          "text": [
            "100%|██████████| 6/6 [00:00<00:00, 10.49it/s]\n",
            "100%|██████████| 5/5 [00:00<00:00, 12.29it/s]\n"
          ]
        },
        {
          "output_type": "stream",
          "name": "stdout",
          "text": [
            "Train loss: 1.7586854696273804\tVal loss: 1.6841739416122437\tTrain acc: 28.246527777777775\tVal acc: 28.370535714285715\n"
          ]
        },
        {
          "output_type": "stream",
          "name": "stderr",
          "text": [
            "100%|██████████| 3/3 [00:00<00:00,  7.54it/s]\n",
            "100%|██████████| 2/2 [00:00<00:00,  5.38it/s]\n",
            "100%|██████████| 2/2 [00:00<00:00,  5.44it/s]\n"
          ]
        },
        {
          "output_type": "stream",
          "name": "stdout",
          "text": [
            "########## Epoch 7\n"
          ]
        },
        {
          "output_type": "stream",
          "name": "stderr",
          "text": [
            "100%|██████████| 6/6 [00:00<00:00, 10.24it/s]\n",
            "100%|██████████| 5/5 [00:00<00:00, 12.66it/s]\n"
          ]
        },
        {
          "output_type": "stream",
          "name": "stdout",
          "text": [
            "Train loss: 1.3047027587890625\tVal loss: 2.1567161083221436\tTrain acc: 39.46180555555556\tVal acc: 14.263392857142858\n"
          ]
        },
        {
          "output_type": "stream",
          "name": "stderr",
          "text": [
            "100%|██████████| 3/3 [00:00<00:00,  7.58it/s]\n",
            "100%|██████████| 2/2 [00:00<00:00,  5.66it/s]\n",
            "100%|██████████| 2/2 [00:00<00:00,  5.41it/s]\n"
          ]
        },
        {
          "output_type": "stream",
          "name": "stdout",
          "text": [
            "########## Epoch 8\n"
          ]
        },
        {
          "output_type": "stream",
          "name": "stderr",
          "text": [
            "100%|██████████| 6/6 [00:00<00:00, 10.90it/s]\n",
            "100%|██████████| 5/5 [00:00<00:00, 12.68it/s]\n"
          ]
        },
        {
          "output_type": "stream",
          "name": "stdout",
          "text": [
            "Train loss: 1.0333974361419678\tVal loss: 2.64983868598938\tTrain acc: 46.197916666666664\tVal acc: 12.276785714285714\n"
          ]
        },
        {
          "output_type": "stream",
          "name": "stderr",
          "text": [
            "100%|██████████| 3/3 [00:00<00:00,  7.45it/s]\n",
            "100%|██████████| 2/2 [00:00<00:00,  5.41it/s]\n",
            "100%|██████████| 2/2 [00:00<00:00,  5.41it/s]\n"
          ]
        },
        {
          "output_type": "stream",
          "name": "stdout",
          "text": [
            "########## Epoch 9\n"
          ]
        },
        {
          "output_type": "stream",
          "name": "stderr",
          "text": [
            "100%|██████████| 6/6 [00:00<00:00, 10.61it/s]\n",
            "100%|██████████| 5/5 [00:00<00:00, 12.35it/s]\n"
          ]
        },
        {
          "output_type": "stream",
          "name": "stdout",
          "text": [
            "Train loss: 0.8902719616889954\tVal loss: 3.0963873863220215\tTrain acc: 48.35069444444445\tVal acc: 11.852678571428573\n"
          ]
        },
        {
          "output_type": "stream",
          "name": "stderr",
          "text": [
            "100%|██████████| 3/3 [00:00<00:00,  7.74it/s]\n",
            "100%|██████████| 2/2 [00:00<00:00,  5.27it/s]\n",
            "100%|██████████| 2/2 [00:00<00:00,  5.06it/s]\n"
          ]
        },
        {
          "output_type": "stream",
          "name": "stdout",
          "text": [
            "########## Epoch 10\n"
          ]
        },
        {
          "output_type": "stream",
          "name": "stderr",
          "text": [
            "100%|██████████| 6/6 [00:00<00:00, 11.05it/s]\n",
            "100%|██████████| 5/5 [00:00<00:00, 12.40it/s]\n"
          ]
        },
        {
          "output_type": "stream",
          "name": "stdout",
          "text": [
            "Train loss: 0.7975018620491028\tVal loss: 3.477903366088867\tTrain acc: 51.67534722222222\tVal acc: 11.919642857142858\n"
          ]
        },
        {
          "output_type": "stream",
          "name": "stderr",
          "text": [
            "100%|██████████| 3/3 [00:00<00:00,  7.92it/s]\n",
            "100%|██████████| 2/2 [00:00<00:00,  5.22it/s]\n",
            "100%|██████████| 2/2 [00:00<00:00,  5.06it/s]\n"
          ]
        },
        {
          "output_type": "stream",
          "name": "stdout",
          "text": [
            "########## Epoch 11\n"
          ]
        },
        {
          "output_type": "stream",
          "name": "stderr",
          "text": [
            "100%|██████████| 6/6 [00:00<00:00, 10.46it/s]\n",
            "100%|██████████| 5/5 [00:00<00:00, 12.36it/s]\n"
          ]
        },
        {
          "output_type": "stream",
          "name": "stdout",
          "text": [
            "Train loss: 0.7616794109344482\tVal loss: 3.7814507484436035\tTrain acc: 53.09027777777778\tVal acc: 12.857142857142858\n"
          ]
        },
        {
          "output_type": "stream",
          "name": "stderr",
          "text": [
            "100%|██████████| 3/3 [00:00<00:00,  8.04it/s]\n",
            "100%|██████████| 2/2 [00:00<00:00,  5.46it/s]\n",
            "100%|██████████| 2/2 [00:00<00:00,  5.22it/s]\n"
          ]
        },
        {
          "output_type": "stream",
          "name": "stdout",
          "text": [
            "########## Epoch 12\n"
          ]
        },
        {
          "output_type": "stream",
          "name": "stderr",
          "text": [
            "100%|██████████| 6/6 [00:00<00:00, 10.95it/s]\n",
            "100%|██████████| 5/5 [00:00<00:00, 12.09it/s]\n"
          ]
        },
        {
          "output_type": "stream",
          "name": "stdout",
          "text": [
            "Train loss: 0.7353963255882263\tVal loss: 4.040227890014648\tTrain acc: 54.045138888888886\tVal acc: 11.116071428571429\n"
          ]
        },
        {
          "output_type": "stream",
          "name": "stderr",
          "text": [
            "100%|██████████| 3/3 [00:00<00:00,  7.47it/s]\n",
            "100%|██████████| 2/2 [00:00<00:00,  5.39it/s]\n",
            "100%|██████████| 2/2 [00:00<00:00,  5.27it/s]\n"
          ]
        },
        {
          "output_type": "stream",
          "name": "stdout",
          "text": [
            "########## Epoch 13\n"
          ]
        },
        {
          "output_type": "stream",
          "name": "stderr",
          "text": [
            "100%|██████████| 6/6 [00:00<00:00, 10.77it/s]\n",
            "100%|██████████| 5/5 [00:00<00:00, 12.24it/s]\n"
          ]
        },
        {
          "output_type": "stream",
          "name": "stdout",
          "text": [
            "Train loss: 0.7175695300102234\tVal loss: 4.233829498291016\tTrain acc: 55.954861111111114\tVal acc: 11.607142857142858\n"
          ]
        },
        {
          "output_type": "stream",
          "name": "stderr",
          "text": [
            "100%|██████████| 3/3 [00:00<00:00,  8.00it/s]\n",
            "100%|██████████| 2/2 [00:00<00:00,  5.37it/s]\n",
            "100%|██████████| 2/2 [00:00<00:00,  5.20it/s]\n"
          ]
        },
        {
          "output_type": "stream",
          "name": "stdout",
          "text": [
            "########## Epoch 14\n"
          ]
        },
        {
          "output_type": "stream",
          "name": "stderr",
          "text": [
            "100%|██████████| 6/6 [00:00<00:00, 10.88it/s]\n",
            "100%|██████████| 5/5 [00:00<00:00, 11.90it/s]\n"
          ]
        },
        {
          "output_type": "stream",
          "name": "stdout",
          "text": [
            "Train loss: 0.7172090411186218\tVal loss: 4.368796348571777\tTrain acc: 54.80902777777778\tVal acc: 12.5\n"
          ]
        },
        {
          "output_type": "stream",
          "name": "stderr",
          "text": [
            "100%|██████████| 3/3 [00:00<00:00,  7.70it/s]\n",
            "100%|██████████| 2/2 [00:00<00:00,  5.38it/s]\n",
            "100%|██████████| 2/2 [00:00<00:00,  5.20it/s]\n"
          ]
        },
        {
          "output_type": "stream",
          "name": "stdout",
          "text": [
            "########## Epoch 15\n"
          ]
        },
        {
          "output_type": "stream",
          "name": "stderr",
          "text": [
            "100%|██████████| 6/6 [00:00<00:00, 10.55it/s]\n",
            "100%|██████████| 5/5 [00:00<00:00, 11.37it/s]\n"
          ]
        },
        {
          "output_type": "stream",
          "name": "stdout",
          "text": [
            "Train loss: 0.7082543969154358\tVal loss: 4.517937660217285\tTrain acc: 54.392361111111114\tVal acc: 11.450892857142858\n"
          ]
        },
        {
          "output_type": "stream",
          "name": "stderr",
          "text": [
            "100%|██████████| 3/3 [00:00<00:00,  7.59it/s]\n",
            "100%|██████████| 2/2 [00:00<00:00,  5.38it/s]\n",
            "100%|██████████| 2/2 [00:00<00:00,  5.50it/s]\n"
          ]
        },
        {
          "output_type": "stream",
          "name": "stdout",
          "text": [
            "########## Epoch 16\n"
          ]
        },
        {
          "output_type": "stream",
          "name": "stderr",
          "text": [
            "100%|██████████| 6/6 [00:00<00:00, 10.47it/s]\n",
            "100%|██████████| 5/5 [00:00<00:00, 12.40it/s]\n"
          ]
        },
        {
          "output_type": "stream",
          "name": "stdout",
          "text": [
            "Train loss: 0.7108378410339355\tVal loss: 4.620489597320557\tTrain acc: 52.56944444444445\tVal acc: 11.897321428571427\n"
          ]
        },
        {
          "output_type": "stream",
          "name": "stderr",
          "text": [
            "100%|██████████| 3/3 [00:00<00:00,  7.58it/s]\n",
            "100%|██████████| 2/2 [00:00<00:00,  5.31it/s]\n",
            "100%|██████████| 2/2 [00:00<00:00,  5.45it/s]\n"
          ]
        },
        {
          "output_type": "stream",
          "name": "stdout",
          "text": [
            "########## Epoch 17\n"
          ]
        },
        {
          "output_type": "stream",
          "name": "stderr",
          "text": [
            "100%|██████████| 6/6 [00:00<00:00, 10.58it/s]\n",
            "100%|██████████| 5/5 [00:00<00:00, 12.01it/s]\n"
          ]
        },
        {
          "output_type": "stream",
          "name": "stdout",
          "text": [
            "Train loss: 0.70849609375\tVal loss: 4.716888427734375\tTrain acc: 51.953125\tVal acc: 12.053571428571427\n"
          ]
        },
        {
          "output_type": "stream",
          "name": "stderr",
          "text": [
            "100%|██████████| 3/3 [00:00<00:00,  7.75it/s]\n",
            "100%|██████████| 2/2 [00:00<00:00,  4.94it/s]\n",
            "100%|██████████| 2/2 [00:00<00:00,  5.47it/s]\n"
          ]
        },
        {
          "output_type": "stream",
          "name": "stdout",
          "text": [
            "########## Epoch 18\n"
          ]
        },
        {
          "output_type": "stream",
          "name": "stderr",
          "text": [
            "100%|██████████| 6/6 [00:00<00:00, 10.26it/s]\n",
            "100%|██████████| 5/5 [00:00<00:00, 12.32it/s]\n"
          ]
        },
        {
          "output_type": "stream",
          "name": "stdout",
          "text": [
            "Train loss: 0.6974368691444397\tVal loss: 4.809406280517578\tTrain acc: 57.5\tVal acc: 13.080357142857142\n"
          ]
        },
        {
          "output_type": "stream",
          "name": "stderr",
          "text": [
            "100%|██████████| 3/3 [00:00<00:00,  7.52it/s]\n",
            "100%|██████████| 2/2 [00:00<00:00,  5.34it/s]\n",
            "100%|██████████| 2/2 [00:00<00:00,  5.34it/s]\n"
          ]
        },
        {
          "output_type": "stream",
          "name": "stdout",
          "text": [
            "########## Epoch 19\n"
          ]
        },
        {
          "output_type": "stream",
          "name": "stderr",
          "text": [
            "100%|██████████| 6/6 [00:00<00:00, 10.40it/s]\n",
            "100%|██████████| 5/5 [00:00<00:00, 12.25it/s]\n"
          ]
        },
        {
          "output_type": "stream",
          "name": "stdout",
          "text": [
            "Train loss: 0.6963732838630676\tVal loss: 4.8908538818359375\tTrain acc: 57.526041666666664\tVal acc: 12.1875\n"
          ]
        },
        {
          "output_type": "stream",
          "name": "stderr",
          "text": [
            "100%|██████████| 3/3 [00:00<00:00,  7.53it/s]\n",
            "100%|██████████| 2/2 [00:00<00:00,  5.45it/s]\n",
            "100%|██████████| 2/2 [00:00<00:00,  5.35it/s]\n"
          ]
        },
        {
          "output_type": "stream",
          "name": "stdout",
          "text": [
            "########## Epoch 20\n"
          ]
        },
        {
          "output_type": "stream",
          "name": "stderr",
          "text": [
            "100%|██████████| 6/6 [00:00<00:00, 10.76it/s]\n",
            "100%|██████████| 5/5 [00:00<00:00, 12.39it/s]\n"
          ]
        },
        {
          "output_type": "stream",
          "name": "stdout",
          "text": [
            "Train loss: 0.6972790360450745\tVal loss: 4.966513633728027\tTrain acc: 56.501736111111114\tVal acc: 12.946428571428573\n"
          ]
        },
        {
          "output_type": "stream",
          "name": "stderr",
          "text": [
            "100%|██████████| 3/3 [00:00<00:00,  7.62it/s]\n",
            "100%|██████████| 2/2 [00:00<00:00,  5.23it/s]\n",
            "100%|██████████| 2/2 [00:00<00:00,  5.35it/s]\n"
          ]
        },
        {
          "output_type": "stream",
          "name": "stdout",
          "text": [
            "########## Epoch 21\n"
          ]
        },
        {
          "output_type": "stream",
          "name": "stderr",
          "text": [
            "100%|██████████| 6/6 [00:00<00:00, 10.93it/s]\n",
            "100%|██████████| 5/5 [00:00<00:00, 12.65it/s]\n"
          ]
        },
        {
          "output_type": "stream",
          "name": "stdout",
          "text": [
            "Train loss: 0.69586181640625\tVal loss: 5.02761173248291\tTrain acc: 54.18402777777778\tVal acc: 12.34375\n"
          ]
        },
        {
          "output_type": "stream",
          "name": "stderr",
          "text": [
            "100%|██████████| 3/3 [00:00<00:00,  7.65it/s]\n",
            "100%|██████████| 2/2 [00:00<00:00,  5.32it/s]\n",
            "100%|██████████| 2/2 [00:00<00:00,  5.18it/s]\n"
          ]
        },
        {
          "output_type": "stream",
          "name": "stdout",
          "text": [
            "########## Epoch 22\n"
          ]
        },
        {
          "output_type": "stream",
          "name": "stderr",
          "text": [
            "100%|██████████| 6/6 [00:00<00:00, 10.88it/s]\n",
            "100%|██████████| 5/5 [00:00<00:00, 11.84it/s]\n"
          ]
        },
        {
          "output_type": "stream",
          "name": "stdout",
          "text": [
            "Train loss: 0.699664294719696\tVal loss: 5.0804572105407715\tTrain acc: 55.217013888888886\tVal acc: 12.566964285714286\n"
          ]
        },
        {
          "output_type": "stream",
          "name": "stderr",
          "text": [
            "100%|██████████| 3/3 [00:00<00:00,  7.59it/s]\n",
            "100%|██████████| 2/2 [00:00<00:00,  5.36it/s]\n",
            "100%|██████████| 2/2 [00:00<00:00,  5.23it/s]\n"
          ]
        },
        {
          "output_type": "stream",
          "name": "stdout",
          "text": [
            "########## Epoch 23\n"
          ]
        },
        {
          "output_type": "stream",
          "name": "stderr",
          "text": [
            "100%|██████████| 6/6 [00:00<00:00, 11.03it/s]\n",
            "100%|██████████| 5/5 [00:00<00:00, 11.98it/s]\n"
          ]
        },
        {
          "output_type": "stream",
          "name": "stdout",
          "text": [
            "Train loss: 0.6955015659332275\tVal loss: 5.148167610168457\tTrain acc: 54.904513888888886\tVal acc: 12.232142857142858\n"
          ]
        },
        {
          "output_type": "stream",
          "name": "stderr",
          "text": [
            "100%|██████████| 3/3 [00:00<00:00,  7.87it/s]\n",
            "100%|██████████| 2/2 [00:00<00:00,  5.30it/s]\n",
            "100%|██████████| 2/2 [00:00<00:00,  5.07it/s]\n"
          ]
        },
        {
          "output_type": "stream",
          "name": "stdout",
          "text": [
            "########## Epoch 24\n"
          ]
        },
        {
          "output_type": "stream",
          "name": "stderr",
          "text": [
            "100%|██████████| 6/6 [00:00<00:00, 10.63it/s]\n",
            "100%|██████████| 5/5 [00:00<00:00, 11.27it/s]\n"
          ]
        },
        {
          "output_type": "stream",
          "name": "stdout",
          "text": [
            "Train loss: 0.6934205889701843\tVal loss: 5.216875076293945\tTrain acc: 54.782986111111114\tVal acc: 12.34375\n"
          ]
        },
        {
          "output_type": "stream",
          "name": "stderr",
          "text": [
            "100%|██████████| 3/3 [00:00<00:00,  7.52it/s]\n",
            "100%|██████████| 2/2 [00:00<00:00,  5.23it/s]\n",
            "100%|██████████| 2/2 [00:00<00:00,  5.48it/s]\n"
          ]
        },
        {
          "output_type": "display_data",
          "data": {
            "text/plain": [
              "<IPython.core.display.HTML object>"
            ],
            "text/html": [
              "Waiting for W&B process to finish... <strong style=\"color:green\">(success).</strong>"
            ]
          },
          "metadata": {}
        },
        {
          "output_type": "display_data",
          "data": {
            "text/plain": [
              "VBox(children=(Label(value='0.000 MB of 0.000 MB uploaded (0.000 MB deduped)\\r'), FloatProgress(value=1.0, max…"
            ],
            "application/vnd.jupyter.widget-view+json": {
              "version_major": 2,
              "version_minor": 0,
              "model_id": "3803b6651ed84dd1b7918496dac49dc8"
            }
          },
          "metadata": {}
        },
        {
          "output_type": "display_data",
          "data": {
            "text/plain": [
              "<IPython.core.display.HTML object>"
            ],
            "text/html": [
              "<style>\n",
              "    table.wandb td:nth-child(1) { padding: 0 10px; text-align: left ; width: auto;} td:nth-child(2) {text-align: left ; width: 100%}\n",
              "    .wandb-row { display: flex; flex-direction: row; flex-wrap: wrap; justify-content: flex-start; width: 100% }\n",
              "    .wandb-col { display: flex; flex-direction: column; flex-basis: 100%; flex: 1; padding: 10px; }\n",
              "    </style>\n",
              "<div class=\"wandb-row\"><div class=\"wandb-col\"><h3>Run history:</h3><br/><table class=\"wandb\"><tr><td>task_0_prevtask_0_val_acc</td><td>▁▂█▅▇▄▅█▄█▅█▇▃▅▄▇▅▁█▇▅█▆▇</td></tr><tr><td>task_0_prevtask_0_val_loss</td><td>▄▄▁▂▁▃▂▃▅▂▂▁▃▅▄▃▂▃█▂▄█▄▆▆</td></tr><tr><td>task_0_train_acc</td><td>▁▆▇▇▇▇▇██▇▇███▇▇▇████████</td></tr><tr><td>task_0_train_loss</td><td>█▃▃▂▂▂▂▁▁▂▂▁▁▁▂▂▂▁▁▁▁▁▁▁▁</td></tr><tr><td>task_0_val_acc</td><td>▁▄▂▅▄▃▃▇▃▄▆▆▆▄█▄▄▆▅▆▇▃▄▇▆</td></tr><tr><td>task_0_val_loss</td><td>▃▂▂▁▁▁▁▁▄▃▂▃▁▃▁▂▂▂▃▄▃██▅▇</td></tr><tr><td>task_1_prevtask_0_val_acc</td><td>▇█▇█▂▁▅▃▄▅▆▅▆▄▅▇▆▇▇▂▇▆▆▅▇</td></tr><tr><td>task_1_prevtask_0_val_loss</td><td>▂▃▃▁▇▆▆█▅▃▂▂▁▅▃▂▃▂▂▆▁▃▁▅▂</td></tr><tr><td>task_1_prevtask_1_val_acc</td><td>▅▆▁▇▂▃▂▂▇▄▅▅▅▇▇▄▆██▇████▇</td></tr><tr><td>task_1_prevtask_1_val_loss</td><td>▅▅█▂▅▄▇▃▁▂▂▂▂▁▁▂▂▂▁▄▁▁▁▁▂</td></tr><tr><td>task_1_train_acc</td><td>▁▃▃▅▅▇▆▆▅▆▆▆▇▇▆▇▆▇▇▇▇▇█▇▇</td></tr><tr><td>task_1_train_loss</td><td>█▅▄▃▃▃▃▃▃▂▂▂▂▂▂▂▁▂▁▁▁▁▁▁▁</td></tr><tr><td>task_1_val_acc</td><td>▃▆▄▆▂▁▁▂▄▄▄▃▃▃▄▅▅▇▇▇█▆▆█▅</td></tr><tr><td>task_1_val_loss</td><td>█▅█▄▇▆▅▅▃▄▄▃▃▃▂▂▂▂▃▂▁▄▂▁▄</td></tr><tr><td>task_2_prevtask_0_val_acc</td><td>█████▆▃▂▁▁▁▁▁▁▁▁▁▁▁▁▁▁▁▁▁</td></tr><tr><td>task_2_prevtask_0_val_loss</td><td>▁▁▁▁▁▂▃▃▄▅▅▆▆▇▇▇▇▇▇██████</td></tr><tr><td>task_2_prevtask_1_val_acc</td><td>█████▅▃▁▁▁▁▁▁▁▁▁▁▁▁▁▁▁▁▁▁</td></tr><tr><td>task_2_prevtask_1_val_loss</td><td>▁▁▁▁▂▂▃▃▄▅▅▆▆▆▇▇▇▇▇▇█████</td></tr><tr><td>task_2_prevtask_2_val_acc</td><td>▁▁▁▁▁▃▅▆▆▆▇█▇▆█▇▇▇████▇▇█</td></tr><tr><td>task_2_prevtask_2_val_loss</td><td>█▆▅▄▃▂▂▁▁▁▁▁▁▁▁▁▁▁▁▁▁▁▁▁▁</td></tr><tr><td>task_2_train_acc</td><td>▁▁▁▁▁▂▄▆▇▇▇▇████▇▇███████</td></tr><tr><td>task_2_train_loss</td><td>█▆▄▃▃▂▂▁▁▁▁▁▁▁▁▁▁▁▁▁▁▁▁▁▁</td></tr><tr><td>task_2_val_acc</td><td>█████▆▃▁▁▁▁▁▁▁▁▁▁▁▁▁▁▁▁▁▁</td></tr><tr><td>task_2_val_loss</td><td>▄▂▂▁▁▁▂▃▃▄▅▅▆▆▇▇▇▇▇▇█████</td></tr></table><br/></div><div class=\"wandb-col\"><h3>Run summary:</h3><br/><table class=\"wandb\"><tr><td>task_0_prevtask_0_val_acc</td><td>96.41544</td></tr><tr><td>task_0_prevtask_0_val_loss</td><td>0.36705</td></tr><tr><td>task_0_train_acc</td><td>100.0</td></tr><tr><td>task_0_train_loss</td><td>0.00077</td></tr><tr><td>task_0_val_acc</td><td>96.41544</td></tr><tr><td>task_0_val_loss</td><td>0.36628</td></tr><tr><td>task_1_prevtask_0_val_acc</td><td>96.41544</td></tr><tr><td>task_1_prevtask_0_val_loss</td><td>0.33012</td></tr><tr><td>task_1_prevtask_1_val_acc</td><td>97.9367</td></tr><tr><td>task_1_prevtask_1_val_loss</td><td>0.09562</td></tr><tr><td>task_1_train_acc</td><td>98.15972</td></tr><tr><td>task_1_train_loss</td><td>0.0644</td></tr><tr><td>task_1_val_acc</td><td>96.52986</td></tr><tr><td>task_1_val_loss</td><td>0.29449</td></tr><tr><td>task_2_prevtask_0_val_acc</td><td>0.0</td></tr><tr><td>task_2_prevtask_0_val_loss</td><td>6.71417</td></tr><tr><td>task_2_prevtask_1_val_acc</td><td>0.0</td></tr><tr><td>task_2_prevtask_1_val_loss</td><td>7.19552</td></tr><tr><td>task_2_prevtask_2_val_acc</td><td>47.01522</td></tr><tr><td>task_2_prevtask_2_val_loss</td><td>0.70816</td></tr><tr><td>task_2_train_acc</td><td>54.78299</td></tr><tr><td>task_2_train_loss</td><td>0.69342</td></tr><tr><td>task_2_val_acc</td><td>12.34375</td></tr><tr><td>task_2_val_loss</td><td>5.21688</td></tr></table><br/></div></div>"
            ]
          },
          "metadata": {}
        },
        {
          "output_type": "display_data",
          "data": {
            "text/plain": [
              "<IPython.core.display.HTML object>"
            ],
            "text/html": [
              "Synced <strong style=\"color:#cdcd00\">meanoffeatures_imagecondition_roadcondition_yesno_21_09_05h17m34s_mul</strong>: <a href=\"https://wandb.ai/compyle/continual_vqa_final/runs/28glqnw5\" target=\"_blank\">https://wandb.ai/compyle/continual_vqa_final/runs/28glqnw5</a><br/>Synced 5 W&B file(s), 0 media file(s), 0 artifact file(s) and 0 other file(s)"
            ]
          },
          "metadata": {}
        },
        {
          "output_type": "display_data",
          "data": {
            "text/plain": [
              "<IPython.core.display.HTML object>"
            ],
            "text/html": [
              "Find logs at: <code>./wandb/run-20220921_051734-28glqnw5/logs</code>"
            ]
          },
          "metadata": {}
        },
        {
          "output_type": "display_data",
          "data": {
            "text/plain": [
              "<IPython.core.display.HTML object>"
            ],
            "text/html": [
              "Tracking run with wandb version 0.13.3"
            ]
          },
          "metadata": {}
        },
        {
          "output_type": "display_data",
          "data": {
            "text/plain": [
              "<IPython.core.display.HTML object>"
            ],
            "text/html": [
              "Run data is saved locally in <code>/content/wandb/run-20220921_052003-2b02e3i4</code>"
            ]
          },
          "metadata": {}
        },
        {
          "output_type": "display_data",
          "data": {
            "text/plain": [
              "<IPython.core.display.HTML object>"
            ],
            "text/html": [
              "Syncing run <strong><a href=\"https://wandb.ai/compyle/continual_vqa_final/runs/2b02e3i4\" target=\"_blank\">meanoffeatures_roadcondition_yesno_imagecondition_21_09_05h20m03s_mul</a></strong> to <a href=\"https://wandb.ai/compyle/continual_vqa_final\" target=\"_blank\">Weights & Biases</a> (<a href=\"https://wandb.me/run\" target=\"_blank\">docs</a>)<br/>"
            ]
          },
          "metadata": {}
        },
        {
          "output_type": "stream",
          "name": "stdout",
          "text": [
            "########## Epoch 0\n"
          ]
        },
        {
          "output_type": "stream",
          "name": "stderr",
          "text": [
            "100%|██████████| 6/6 [00:00<00:00, 10.28it/s]\n",
            "100%|██████████| 2/2 [00:00<00:00,  4.54it/s]\n"
          ]
        },
        {
          "output_type": "stream",
          "name": "stdout",
          "text": [
            "Train loss: 0.8404904007911682\tVal loss: 0.3399527966976166\tTrain acc: 67.63463050314465\tVal acc: 77.80230978260869\n"
          ]
        },
        {
          "output_type": "stream",
          "name": "stderr",
          "text": [
            "100%|██████████| 2/2 [00:00<00:00,  5.48it/s]\n"
          ]
        },
        {
          "output_type": "stream",
          "name": "stdout",
          "text": [
            "########## Epoch 1\n"
          ]
        },
        {
          "output_type": "stream",
          "name": "stderr",
          "text": [
            "100%|██████████| 6/6 [00:00<00:00, 10.38it/s]\n",
            "100%|██████████| 2/2 [00:00<00:00,  5.01it/s]\n"
          ]
        },
        {
          "output_type": "stream",
          "name": "stdout",
          "text": [
            "Train loss: 0.23677442967891693\tVal loss: 0.07577428966760635\tTrain acc: 93.3814858490566\tVal acc: 96.95991847826087\n"
          ]
        },
        {
          "output_type": "stream",
          "name": "stderr",
          "text": [
            "100%|██████████| 2/2 [00:00<00:00,  4.99it/s]\n"
          ]
        },
        {
          "output_type": "stream",
          "name": "stdout",
          "text": [
            "########## Epoch 2\n"
          ]
        },
        {
          "output_type": "stream",
          "name": "stderr",
          "text": [
            "100%|██████████| 6/6 [00:00<00:00, 10.41it/s]\n",
            "100%|██████████| 2/2 [00:00<00:00,  4.98it/s]\n"
          ]
        },
        {
          "output_type": "stream",
          "name": "stdout",
          "text": [
            "Train loss: 0.18965774774551392\tVal loss: 0.06173176318407059\tTrain acc: 96.52859669811322\tVal acc: 98.4375\n"
          ]
        },
        {
          "output_type": "stream",
          "name": "stderr",
          "text": [
            "100%|██████████| 2/2 [00:00<00:00,  4.99it/s]\n"
          ]
        },
        {
          "output_type": "stream",
          "name": "stdout",
          "text": [
            "########## Epoch 3\n"
          ]
        },
        {
          "output_type": "stream",
          "name": "stderr",
          "text": [
            "100%|██████████| 6/6 [00:00<00:00,  9.40it/s]\n",
            "100%|██████████| 2/2 [00:00<00:00,  5.27it/s]\n"
          ]
        },
        {
          "output_type": "stream",
          "name": "stdout",
          "text": [
            "Train loss: 0.116172194480896\tVal loss: 0.053310178220272064\tTrain acc: 96.84306210691824\tVal acc: 98.4375\n"
          ]
        },
        {
          "output_type": "stream",
          "name": "stderr",
          "text": [
            "100%|██████████| 2/2 [00:00<00:00,  5.18it/s]\n"
          ]
        },
        {
          "output_type": "stream",
          "name": "stdout",
          "text": [
            "########## Epoch 4\n"
          ]
        },
        {
          "output_type": "stream",
          "name": "stderr",
          "text": [
            "100%|██████████| 6/6 [00:00<00:00, 10.18it/s]\n",
            "100%|██████████| 2/2 [00:00<00:00,  5.15it/s]\n"
          ]
        },
        {
          "output_type": "stream",
          "name": "stdout",
          "text": [
            "Train loss: 0.08870025724172592\tVal loss: 0.07464486360549927\tTrain acc: 97.86261792452831\tVal acc: 98.13179347826087\n"
          ]
        },
        {
          "output_type": "stream",
          "name": "stderr",
          "text": [
            "100%|██████████| 2/2 [00:00<00:00,  5.09it/s]\n"
          ]
        },
        {
          "output_type": "stream",
          "name": "stdout",
          "text": [
            "########## Epoch 5\n"
          ]
        },
        {
          "output_type": "stream",
          "name": "stderr",
          "text": [
            "100%|██████████| 6/6 [00:00<00:00, 10.69it/s]\n",
            "100%|██████████| 2/2 [00:00<00:00,  5.09it/s]\n"
          ]
        },
        {
          "output_type": "stream",
          "name": "stdout",
          "text": [
            "Train loss: 0.060988739132881165\tVal loss: 0.04694917052984238\tTrain acc: 98.4375\tVal acc: 98.828125\n"
          ]
        },
        {
          "output_type": "stream",
          "name": "stderr",
          "text": [
            "100%|██████████| 2/2 [00:00<00:00,  5.20it/s]\n"
          ]
        },
        {
          "output_type": "stream",
          "name": "stdout",
          "text": [
            "########## Epoch 6\n"
          ]
        },
        {
          "output_type": "stream",
          "name": "stderr",
          "text": [
            "100%|██████████| 6/6 [00:00<00:00, 10.55it/s]\n",
            "100%|██████████| 2/2 [00:00<00:00,  5.09it/s]\n"
          ]
        },
        {
          "output_type": "stream",
          "name": "stdout",
          "text": [
            "Train loss: 0.04936246573925018\tVal loss: 0.04302288219332695\tTrain acc: 98.828125\tVal acc: 98.828125\n"
          ]
        },
        {
          "output_type": "stream",
          "name": "stderr",
          "text": [
            "100%|██████████| 2/2 [00:00<00:00,  5.20it/s]\n"
          ]
        },
        {
          "output_type": "stream",
          "name": "stdout",
          "text": [
            "########## Epoch 7\n"
          ]
        },
        {
          "output_type": "stream",
          "name": "stderr",
          "text": [
            "100%|██████████| 6/6 [00:00<00:00, 10.27it/s]\n",
            "100%|██████████| 2/2 [00:00<00:00,  5.03it/s]\n"
          ]
        },
        {
          "output_type": "stream",
          "name": "stdout",
          "text": [
            "Train loss: 0.0475199855864048\tVal loss: 0.04375695064663887\tTrain acc: 98.51365959119498\tVal acc: 98.828125\n"
          ]
        },
        {
          "output_type": "stream",
          "name": "stderr",
          "text": [
            "100%|██████████| 2/2 [00:00<00:00,  5.03it/s]\n"
          ]
        },
        {
          "output_type": "stream",
          "name": "stdout",
          "text": [
            "########## Epoch 8\n"
          ]
        },
        {
          "output_type": "stream",
          "name": "stderr",
          "text": [
            "100%|██████████| 6/6 [00:00<00:00, 10.52it/s]\n",
            "100%|██████████| 2/2 [00:00<00:00,  5.16it/s]\n"
          ]
        },
        {
          "output_type": "stream",
          "name": "stdout",
          "text": [
            "Train loss: 0.04636017978191376\tVal loss: 0.05192892998456955\tTrain acc: 98.58981918238993\tVal acc: 98.828125\n"
          ]
        },
        {
          "output_type": "stream",
          "name": "stderr",
          "text": [
            "100%|██████████| 2/2 [00:00<00:00,  5.00it/s]\n"
          ]
        },
        {
          "output_type": "stream",
          "name": "stdout",
          "text": [
            "########## Epoch 9\n"
          ]
        },
        {
          "output_type": "stream",
          "name": "stderr",
          "text": [
            "100%|██████████| 6/6 [00:00<00:00, 10.60it/s]\n",
            "100%|██████████| 2/2 [00:00<00:00,  5.13it/s]\n"
          ]
        },
        {
          "output_type": "stream",
          "name": "stdout",
          "text": [
            "Train loss: 0.03648792579770088\tVal loss: 0.05182082951068878\tTrain acc: 98.72002751572326\tVal acc: 97.35054347826087\n"
          ]
        },
        {
          "output_type": "stream",
          "name": "stderr",
          "text": [
            "100%|██████████| 2/2 [00:00<00:00,  5.18it/s]\n"
          ]
        },
        {
          "output_type": "stream",
          "name": "stdout",
          "text": [
            "########## Epoch 10\n"
          ]
        },
        {
          "output_type": "stream",
          "name": "stderr",
          "text": [
            "100%|██████████| 6/6 [00:00<00:00, 10.29it/s]\n",
            "100%|██████████| 2/2 [00:00<00:00,  5.25it/s]\n"
          ]
        },
        {
          "output_type": "stream",
          "name": "stdout",
          "text": [
            "Train loss: 0.023690685629844666\tVal loss: 0.07476219534873962\tTrain acc: 99.21875\tVal acc: 98.13179347826087\n"
          ]
        },
        {
          "output_type": "stream",
          "name": "stderr",
          "text": [
            "100%|██████████| 2/2 [00:00<00:00,  4.95it/s]\n"
          ]
        },
        {
          "output_type": "stream",
          "name": "stdout",
          "text": [
            "########## Epoch 11\n"
          ]
        },
        {
          "output_type": "stream",
          "name": "stderr",
          "text": [
            "100%|██████████| 6/6 [00:00<00:00, 10.58it/s]\n",
            "100%|██████████| 2/2 [00:00<00:00,  4.96it/s]\n"
          ]
        },
        {
          "output_type": "stream",
          "name": "stdout",
          "text": [
            "Train loss: 0.019488509744405746\tVal loss: 0.04831564053893089\tTrain acc: 99.609375\tVal acc: 97.74116847826087\n"
          ]
        },
        {
          "output_type": "stream",
          "name": "stderr",
          "text": [
            "100%|██████████| 2/2 [00:00<00:00,  5.21it/s]\n"
          ]
        },
        {
          "output_type": "stream",
          "name": "stdout",
          "text": [
            "########## Epoch 12\n"
          ]
        },
        {
          "output_type": "stream",
          "name": "stderr",
          "text": [
            "100%|██████████| 6/6 [00:00<00:00, 10.60it/s]\n",
            "100%|██████████| 2/2 [00:00<00:00,  5.21it/s]\n"
          ]
        },
        {
          "output_type": "stream",
          "name": "stdout",
          "text": [
            "Train loss: 0.015297465026378632\tVal loss: 0.05450323224067688\tTrain acc: 99.21875\tVal acc: 97.35054347826087\n"
          ]
        },
        {
          "output_type": "stream",
          "name": "stderr",
          "text": [
            "100%|██████████| 2/2 [00:00<00:00,  5.06it/s]\n"
          ]
        },
        {
          "output_type": "stream",
          "name": "stdout",
          "text": [
            "########## Epoch 13\n"
          ]
        },
        {
          "output_type": "stream",
          "name": "stderr",
          "text": [
            "100%|██████████| 6/6 [00:00<00:00, 10.69it/s]\n",
            "100%|██████████| 2/2 [00:00<00:00,  5.05it/s]\n"
          ]
        },
        {
          "output_type": "stream",
          "name": "stdout",
          "text": [
            "Train loss: 0.008844904601573944\tVal loss: 0.05079340189695358\tTrain acc: 99.86979166666667\tVal acc: 99.21875\n"
          ]
        },
        {
          "output_type": "stream",
          "name": "stderr",
          "text": [
            "100%|██████████| 2/2 [00:00<00:00,  4.83it/s]\n"
          ]
        },
        {
          "output_type": "stream",
          "name": "stdout",
          "text": [
            "########## Epoch 14\n"
          ]
        },
        {
          "output_type": "stream",
          "name": "stderr",
          "text": [
            "100%|██████████| 6/6 [00:00<00:00, 10.80it/s]\n",
            "100%|██████████| 2/2 [00:00<00:00,  5.10it/s]\n"
          ]
        },
        {
          "output_type": "stream",
          "name": "stdout",
          "text": [
            "Train loss: 0.007360849063843489\tVal loss: 0.058124229311943054\tTrain acc: 99.73958333333333\tVal acc: 99.21875\n"
          ]
        },
        {
          "output_type": "stream",
          "name": "stderr",
          "text": [
            "100%|██████████| 2/2 [00:00<00:00,  5.33it/s]\n"
          ]
        },
        {
          "output_type": "stream",
          "name": "stdout",
          "text": [
            "########## Epoch 15\n"
          ]
        },
        {
          "output_type": "stream",
          "name": "stderr",
          "text": [
            "100%|██████████| 6/6 [00:00<00:00, 10.19it/s]\n",
            "100%|██████████| 2/2 [00:00<00:00,  5.34it/s]\n"
          ]
        },
        {
          "output_type": "stream",
          "name": "stdout",
          "text": [
            "Train loss: 0.005192101001739502\tVal loss: 0.06849919259548187\tTrain acc: 100.0\tVal acc: 97.43546195652175\n"
          ]
        },
        {
          "output_type": "stream",
          "name": "stderr",
          "text": [
            "100%|██████████| 2/2 [00:00<00:00,  5.03it/s]\n"
          ]
        },
        {
          "output_type": "stream",
          "name": "stdout",
          "text": [
            "########## Epoch 16\n"
          ]
        },
        {
          "output_type": "stream",
          "name": "stderr",
          "text": [
            "100%|██████████| 6/6 [00:00<00:00, 10.80it/s]\n",
            "100%|██████████| 2/2 [00:00<00:00,  5.20it/s]\n"
          ]
        },
        {
          "output_type": "stream",
          "name": "stdout",
          "text": [
            "Train loss: 0.002673361450433731\tVal loss: 0.08041532337665558\tTrain acc: 100.0\tVal acc: 97.04483695652175\n"
          ]
        },
        {
          "output_type": "stream",
          "name": "stderr",
          "text": [
            "100%|██████████| 2/2 [00:00<00:00,  5.14it/s]\n"
          ]
        },
        {
          "output_type": "stream",
          "name": "stdout",
          "text": [
            "########## Epoch 17\n"
          ]
        },
        {
          "output_type": "stream",
          "name": "stderr",
          "text": [
            "100%|██████████| 6/6 [00:00<00:00, 10.24it/s]\n",
            "100%|██████████| 2/2 [00:00<00:00,  4.93it/s]\n"
          ]
        },
        {
          "output_type": "stream",
          "name": "stdout",
          "text": [
            "Train loss: 0.0021432426292449236\tVal loss: 0.05786032974720001\tTrain acc: 100.0\tVal acc: 98.4375\n"
          ]
        },
        {
          "output_type": "stream",
          "name": "stderr",
          "text": [
            "100%|██████████| 2/2 [00:00<00:00,  4.91it/s]\n"
          ]
        },
        {
          "output_type": "stream",
          "name": "stdout",
          "text": [
            "########## Epoch 18\n"
          ]
        },
        {
          "output_type": "stream",
          "name": "stderr",
          "text": [
            "100%|██████████| 6/6 [00:00<00:00, 10.46it/s]\n",
            "100%|██████████| 2/2 [00:00<00:00,  5.11it/s]\n"
          ]
        },
        {
          "output_type": "stream",
          "name": "stdout",
          "text": [
            "Train loss: 0.001564564066939056\tVal loss: 0.05272609367966652\tTrain acc: 100.0\tVal acc: 99.21875\n"
          ]
        },
        {
          "output_type": "stream",
          "name": "stderr",
          "text": [
            "100%|██████████| 2/2 [00:00<00:00,  4.72it/s]\n"
          ]
        },
        {
          "output_type": "stream",
          "name": "stdout",
          "text": [
            "########## Epoch 19\n"
          ]
        },
        {
          "output_type": "stream",
          "name": "stderr",
          "text": [
            "100%|██████████| 6/6 [00:00<00:00, 10.43it/s]\n",
            "100%|██████████| 2/2 [00:00<00:00,  4.95it/s]\n"
          ]
        },
        {
          "output_type": "stream",
          "name": "stdout",
          "text": [
            "Train loss: 0.0017314959550276399\tVal loss: 0.083650141954422\tTrain acc: 100.0\tVal acc: 98.13179347826087\n"
          ]
        },
        {
          "output_type": "stream",
          "name": "stderr",
          "text": [
            "100%|██████████| 2/2 [00:00<00:00,  5.07it/s]\n"
          ]
        },
        {
          "output_type": "stream",
          "name": "stdout",
          "text": [
            "########## Epoch 20\n"
          ]
        },
        {
          "output_type": "stream",
          "name": "stderr",
          "text": [
            "100%|██████████| 6/6 [00:00<00:00, 10.48it/s]\n",
            "100%|██████████| 2/2 [00:00<00:00,  5.26it/s]\n"
          ]
        },
        {
          "output_type": "stream",
          "name": "stdout",
          "text": [
            "Train loss: 0.0012507960200309753\tVal loss: 0.06794571876525879\tTrain acc: 100.0\tVal acc: 98.828125\n"
          ]
        },
        {
          "output_type": "stream",
          "name": "stderr",
          "text": [
            "100%|██████████| 2/2 [00:00<00:00,  5.02it/s]\n"
          ]
        },
        {
          "output_type": "stream",
          "name": "stdout",
          "text": [
            "########## Epoch 21\n"
          ]
        },
        {
          "output_type": "stream",
          "name": "stderr",
          "text": [
            "100%|██████████| 6/6 [00:00<00:00, 10.28it/s]\n",
            "100%|██████████| 2/2 [00:00<00:00,  4.75it/s]\n"
          ]
        },
        {
          "output_type": "stream",
          "name": "stdout",
          "text": [
            "Train loss: 0.0006068075890652835\tVal loss: 0.12399657815694809\tTrain acc: 100.0\tVal acc: 98.52241847826087\n"
          ]
        },
        {
          "output_type": "stream",
          "name": "stderr",
          "text": [
            "100%|██████████| 2/2 [00:00<00:00,  5.11it/s]\n"
          ]
        },
        {
          "output_type": "stream",
          "name": "stdout",
          "text": [
            "########## Epoch 22\n"
          ]
        },
        {
          "output_type": "stream",
          "name": "stderr",
          "text": [
            "100%|██████████| 6/6 [00:00<00:00, 10.69it/s]\n",
            "100%|██████████| 2/2 [00:00<00:00,  5.14it/s]\n"
          ]
        },
        {
          "output_type": "stream",
          "name": "stdout",
          "text": [
            "Train loss: 0.0008722781203687191\tVal loss: 0.0648588165640831\tTrain acc: 100.0\tVal acc: 98.13179347826087\n"
          ]
        },
        {
          "output_type": "stream",
          "name": "stderr",
          "text": [
            "100%|██████████| 2/2 [00:00<00:00,  4.90it/s]\n"
          ]
        },
        {
          "output_type": "stream",
          "name": "stdout",
          "text": [
            "########## Epoch 23\n"
          ]
        },
        {
          "output_type": "stream",
          "name": "stderr",
          "text": [
            "100%|██████████| 6/6 [00:00<00:00, 10.48it/s]\n",
            "100%|██████████| 2/2 [00:00<00:00,  5.10it/s]\n"
          ]
        },
        {
          "output_type": "stream",
          "name": "stdout",
          "text": [
            "Train loss: 0.0007777360151521862\tVal loss: 0.1571148782968521\tTrain acc: 100.0\tVal acc: 96.73913043478261\n"
          ]
        },
        {
          "output_type": "stream",
          "name": "stderr",
          "text": [
            "100%|██████████| 2/2 [00:00<00:00,  5.34it/s]\n"
          ]
        },
        {
          "output_type": "stream",
          "name": "stdout",
          "text": [
            "########## Epoch 24\n"
          ]
        },
        {
          "output_type": "stream",
          "name": "stderr",
          "text": [
            "100%|██████████| 6/6 [00:00<00:00, 10.14it/s]\n",
            "100%|██████████| 2/2 [00:00<00:00,  4.86it/s]\n"
          ]
        },
        {
          "output_type": "stream",
          "name": "stdout",
          "text": [
            "Train loss: 0.0002581881999503821\tVal loss: 0.05290934816002846\tTrain acc: 100.0\tVal acc: 99.609375\n"
          ]
        },
        {
          "output_type": "stream",
          "name": "stderr",
          "text": [
            "100%|██████████| 2/2 [00:00<00:00,  5.03it/s]\n"
          ]
        },
        {
          "output_type": "stream",
          "name": "stdout",
          "text": [
            "########## Epoch 0\n"
          ]
        },
        {
          "output_type": "stream",
          "name": "stderr",
          "text": [
            "100%|██████████| 6/6 [00:00<00:00, 10.49it/s]\n",
            "100%|██████████| 3/3 [00:00<00:00,  7.32it/s]\n"
          ]
        },
        {
          "output_type": "stream",
          "name": "stdout",
          "text": [
            "Train loss: 21.00319480895996\tVal loss: 9.643296241760254\tTrain acc: 0.0\tVal acc: 49.21875\n"
          ]
        },
        {
          "output_type": "stream",
          "name": "stderr",
          "text": [
            "100%|██████████| 2/2 [00:00<00:00,  5.20it/s]\n",
            "100%|██████████| 2/2 [00:00<00:00,  5.33it/s]\n"
          ]
        },
        {
          "output_type": "stream",
          "name": "stdout",
          "text": [
            "########## Epoch 1\n"
          ]
        },
        {
          "output_type": "stream",
          "name": "stderr",
          "text": [
            "100%|██████████| 6/6 [00:00<00:00, 10.20it/s]\n",
            "100%|██████████| 3/3 [00:00<00:00,  7.69it/s]\n"
          ]
        },
        {
          "output_type": "stream",
          "name": "stdout",
          "text": [
            "Train loss: 18.38869285583496\tVal loss: 8.442522048950195\tTrain acc: 0.0\tVal acc: 48.90172101449275\n"
          ]
        },
        {
          "output_type": "stream",
          "name": "stderr",
          "text": [
            "100%|██████████| 2/2 [00:00<00:00,  5.25it/s]\n",
            "100%|██████████| 2/2 [00:00<00:00,  5.36it/s]\n"
          ]
        },
        {
          "output_type": "stream",
          "name": "stdout",
          "text": [
            "########## Epoch 2\n"
          ]
        },
        {
          "output_type": "stream",
          "name": "stderr",
          "text": [
            "100%|██████████| 6/6 [00:00<00:00, 10.20it/s]\n",
            "100%|██████████| 3/3 [00:00<00:00,  7.73it/s]\n"
          ]
        },
        {
          "output_type": "stream",
          "name": "stdout",
          "text": [
            "Train loss: 16.02769660949707\tVal loss: 7.534593105316162\tTrain acc: 0.0\tVal acc: 47.87137681159421\n"
          ]
        },
        {
          "output_type": "stream",
          "name": "stderr",
          "text": [
            "100%|██████████| 2/2 [00:00<00:00,  4.95it/s]\n",
            "100%|██████████| 2/2 [00:00<00:00,  5.15it/s]\n"
          ]
        },
        {
          "output_type": "stream",
          "name": "stdout",
          "text": [
            "########## Epoch 3\n"
          ]
        },
        {
          "output_type": "stream",
          "name": "stderr",
          "text": [
            "100%|██████████| 6/6 [00:00<00:00, 10.42it/s]\n",
            "100%|██████████| 3/3 [00:00<00:00,  7.59it/s]\n"
          ]
        },
        {
          "output_type": "stream",
          "name": "stdout",
          "text": [
            "Train loss: 14.072482109069824\tVal loss: 6.769673824310303\tTrain acc: 0.0\tVal acc: 46.98822463768116\n"
          ]
        },
        {
          "output_type": "stream",
          "name": "stderr",
          "text": [
            "100%|██████████| 2/2 [00:00<00:00,  5.12it/s]\n",
            "100%|██████████| 2/2 [00:00<00:00,  5.00it/s]\n"
          ]
        },
        {
          "output_type": "stream",
          "name": "stdout",
          "text": [
            "########## Epoch 4\n"
          ]
        },
        {
          "output_type": "stream",
          "name": "stderr",
          "text": [
            "100%|██████████| 6/6 [00:00<00:00, 10.45it/s]\n",
            "100%|██████████| 3/3 [00:00<00:00,  7.43it/s]\n"
          ]
        },
        {
          "output_type": "stream",
          "name": "stdout",
          "text": [
            "Train loss: 12.394902229309082\tVal loss: 6.0319695472717285\tTrain acc: 0.0\tVal acc: 45.26721014492754\n"
          ]
        },
        {
          "output_type": "stream",
          "name": "stderr",
          "text": [
            "100%|██████████| 2/2 [00:00<00:00,  5.24it/s]\n",
            "100%|██████████| 2/2 [00:00<00:00,  5.00it/s]\n"
          ]
        },
        {
          "output_type": "stream",
          "name": "stdout",
          "text": [
            "########## Epoch 5\n"
          ]
        },
        {
          "output_type": "stream",
          "name": "stderr",
          "text": [
            "100%|██████████| 6/6 [00:00<00:00, 10.22it/s]\n",
            "100%|██████████| 3/3 [00:00<00:00,  7.19it/s]\n"
          ]
        },
        {
          "output_type": "stream",
          "name": "stdout",
          "text": [
            "Train loss: 11.001233100891113\tVal loss: 5.506731033325195\tTrain acc: 0.0\tVal acc: 44.06702898550725\n"
          ]
        },
        {
          "output_type": "stream",
          "name": "stderr",
          "text": [
            "100%|██████████| 2/2 [00:00<00:00,  4.72it/s]\n",
            "100%|██████████| 2/2 [00:00<00:00,  5.15it/s]\n"
          ]
        },
        {
          "output_type": "stream",
          "name": "stdout",
          "text": [
            "########## Epoch 6\n"
          ]
        },
        {
          "output_type": "stream",
          "name": "stderr",
          "text": [
            "100%|██████████| 6/6 [00:00<00:00, 10.31it/s]\n",
            "100%|██████████| 3/3 [00:00<00:00,  7.70it/s]\n"
          ]
        },
        {
          "output_type": "stream",
          "name": "stdout",
          "text": [
            "Train loss: 9.83082103729248\tVal loss: 5.073243141174316\tTrain acc: 0.0\tVal acc: 39.95697463768116\n"
          ]
        },
        {
          "output_type": "stream",
          "name": "stderr",
          "text": [
            "100%|██████████| 2/2 [00:00<00:00,  4.84it/s]\n",
            "100%|██████████| 2/2 [00:00<00:00,  5.10it/s]\n"
          ]
        },
        {
          "output_type": "stream",
          "name": "stdout",
          "text": [
            "########## Epoch 7\n"
          ]
        },
        {
          "output_type": "stream",
          "name": "stderr",
          "text": [
            "100%|██████████| 6/6 [00:00<00:00, 10.38it/s]\n",
            "100%|██████████| 3/3 [00:00<00:00,  7.53it/s]\n"
          ]
        },
        {
          "output_type": "stream",
          "name": "stdout",
          "text": [
            "Train loss: 8.809622764587402\tVal loss: 4.752405643463135\tTrain acc: 0.0\tVal acc: 37.2169384057971\n"
          ]
        },
        {
          "output_type": "stream",
          "name": "stderr",
          "text": [
            "100%|██████████| 2/2 [00:00<00:00,  5.10it/s]\n",
            "100%|██████████| 2/2 [00:00<00:00,  5.03it/s]\n"
          ]
        },
        {
          "output_type": "stream",
          "name": "stdout",
          "text": [
            "########## Epoch 8\n"
          ]
        },
        {
          "output_type": "stream",
          "name": "stderr",
          "text": [
            "100%|██████████| 6/6 [00:00<00:00,  9.99it/s]\n",
            "100%|██████████| 3/3 [00:00<00:00,  7.33it/s]\n"
          ]
        },
        {
          "output_type": "stream",
          "name": "stdout",
          "text": [
            "Train loss: 8.037541389465332\tVal loss: 4.477105617523193\tTrain acc: 0.0\tVal acc: 34.42028985507246\n"
          ]
        },
        {
          "output_type": "stream",
          "name": "stderr",
          "text": [
            "100%|██████████| 2/2 [00:00<00:00,  5.17it/s]\n",
            "100%|██████████| 2/2 [00:00<00:00,  5.23it/s]\n"
          ]
        },
        {
          "output_type": "stream",
          "name": "stdout",
          "text": [
            "########## Epoch 9\n"
          ]
        },
        {
          "output_type": "stream",
          "name": "stderr",
          "text": [
            "100%|██████████| 6/6 [00:00<00:00, 10.25it/s]\n",
            "100%|██████████| 3/3 [00:00<00:00,  7.36it/s]\n"
          ]
        },
        {
          "output_type": "stream",
          "name": "stdout",
          "text": [
            "Train loss: 7.1947021484375\tVal loss: 4.1295576095581055\tTrain acc: 0.0\tVal acc: 32.90307971014493\n"
          ]
        },
        {
          "output_type": "stream",
          "name": "stderr",
          "text": [
            "100%|██████████| 2/2 [00:00<00:00,  4.97it/s]\n",
            "100%|██████████| 2/2 [00:00<00:00,  5.31it/s]\n"
          ]
        },
        {
          "output_type": "stream",
          "name": "stdout",
          "text": [
            "########## Epoch 10\n"
          ]
        },
        {
          "output_type": "stream",
          "name": "stderr",
          "text": [
            "100%|██████████| 6/6 [00:00<00:00, 10.56it/s]\n",
            "100%|██████████| 3/3 [00:00<00:00,  7.34it/s]\n"
          ]
        },
        {
          "output_type": "stream",
          "name": "stdout",
          "text": [
            "Train loss: 6.492285251617432\tVal loss: 3.7909679412841797\tTrain acc: 0.0\tVal acc: 31.657608695652176\n"
          ]
        },
        {
          "output_type": "stream",
          "name": "stderr",
          "text": [
            "100%|██████████| 2/2 [00:00<00:00,  5.01it/s]\n",
            "100%|██████████| 2/2 [00:00<00:00,  4.96it/s]\n"
          ]
        },
        {
          "output_type": "stream",
          "name": "stdout",
          "text": [
            "########## Epoch 11\n"
          ]
        },
        {
          "output_type": "stream",
          "name": "stderr",
          "text": [
            "100%|██████████| 6/6 [00:00<00:00, 10.28it/s]\n",
            "100%|██████████| 3/3 [00:00<00:00,  7.19it/s]\n"
          ]
        },
        {
          "output_type": "stream",
          "name": "stdout",
          "text": [
            "Train loss: 5.733612060546875\tVal loss: 3.448505401611328\tTrain acc: 0.0\tVal acc: 30.29891304347826\n"
          ]
        },
        {
          "output_type": "stream",
          "name": "stderr",
          "text": [
            "100%|██████████| 2/2 [00:00<00:00,  4.88it/s]\n",
            "100%|██████████| 2/2 [00:00<00:00,  4.96it/s]\n"
          ]
        },
        {
          "output_type": "stream",
          "name": "stdout",
          "text": [
            "########## Epoch 12\n"
          ]
        },
        {
          "output_type": "stream",
          "name": "stderr",
          "text": [
            "100%|██████████| 6/6 [00:00<00:00, 10.58it/s]\n",
            "100%|██████████| 3/3 [00:00<00:00,  7.07it/s]\n"
          ]
        },
        {
          "output_type": "stream",
          "name": "stdout",
          "text": [
            "Train loss: 5.201503753662109\tVal loss: 3.2046425342559814\tTrain acc: 0.0\tVal acc: 28.691123188405797\n"
          ]
        },
        {
          "output_type": "stream",
          "name": "stderr",
          "text": [
            "100%|██████████| 2/2 [00:00<00:00,  5.10it/s]\n",
            "100%|██████████| 2/2 [00:00<00:00,  4.96it/s]\n"
          ]
        },
        {
          "output_type": "stream",
          "name": "stdout",
          "text": [
            "########## Epoch 13\n"
          ]
        },
        {
          "output_type": "stream",
          "name": "stderr",
          "text": [
            "100%|██████████| 6/6 [00:00<00:00, 10.54it/s]\n",
            "100%|██████████| 3/3 [00:00<00:00,  7.23it/s]\n"
          ]
        },
        {
          "output_type": "stream",
          "name": "stdout",
          "text": [
            "Train loss: 4.379951000213623\tVal loss: 2.8973124027252197\tTrain acc: 0.0\tVal acc: 27.389039855072465\n"
          ]
        },
        {
          "output_type": "stream",
          "name": "stderr",
          "text": [
            "100%|██████████| 2/2 [00:00<00:00,  5.08it/s]\n",
            "100%|██████████| 2/2 [00:00<00:00,  5.04it/s]\n"
          ]
        },
        {
          "output_type": "stream",
          "name": "stdout",
          "text": [
            "########## Epoch 14\n"
          ]
        },
        {
          "output_type": "stream",
          "name": "stderr",
          "text": [
            "100%|██████████| 6/6 [00:00<00:00, 10.16it/s]\n",
            "100%|██████████| 3/3 [00:00<00:00,  7.62it/s]\n"
          ]
        },
        {
          "output_type": "stream",
          "name": "stdout",
          "text": [
            "Train loss: 3.7636516094207764\tVal loss: 2.6672303676605225\tTrain acc: 0.0\tVal acc: 25.622735507246375\n"
          ]
        },
        {
          "output_type": "stream",
          "name": "stderr",
          "text": [
            "100%|██████████| 2/2 [00:00<00:00,  4.98it/s]\n",
            "100%|██████████| 2/2 [00:00<00:00,  5.27it/s]\n"
          ]
        },
        {
          "output_type": "stream",
          "name": "stdout",
          "text": [
            "########## Epoch 15\n"
          ]
        },
        {
          "output_type": "stream",
          "name": "stderr",
          "text": [
            "100%|██████████| 6/6 [00:00<00:00, 10.37it/s]\n",
            "100%|██████████| 3/3 [00:00<00:00,  7.41it/s]\n"
          ]
        },
        {
          "output_type": "stream",
          "name": "stdout",
          "text": [
            "Train loss: 3.1306216716766357\tVal loss: 2.549403667449951\tTrain acc: 0.0\tVal acc: 22.45244565217391\n"
          ]
        },
        {
          "output_type": "stream",
          "name": "stderr",
          "text": [
            "100%|██████████| 2/2 [00:00<00:00,  5.19it/s]\n",
            "100%|██████████| 2/2 [00:00<00:00,  4.92it/s]\n"
          ]
        },
        {
          "output_type": "stream",
          "name": "stdout",
          "text": [
            "########## Epoch 16\n"
          ]
        },
        {
          "output_type": "stream",
          "name": "stderr",
          "text": [
            "100%|██████████| 6/6 [00:00<00:00, 10.16it/s]\n",
            "100%|██████████| 3/3 [00:00<00:00,  7.38it/s]\n"
          ]
        },
        {
          "output_type": "stream",
          "name": "stdout",
          "text": [
            "Train loss: 2.5534064769744873\tVal loss: 2.467262029647827\tTrain acc: 10.804834905660377\tVal acc: 22.59963768115942\n"
          ]
        },
        {
          "output_type": "stream",
          "name": "stderr",
          "text": [
            "100%|██████████| 2/2 [00:00<00:00,  4.94it/s]\n",
            "100%|██████████| 2/2 [00:00<00:00,  5.23it/s]\n"
          ]
        },
        {
          "output_type": "stream",
          "name": "stdout",
          "text": [
            "########## Epoch 17\n"
          ]
        },
        {
          "output_type": "stream",
          "name": "stderr",
          "text": [
            "100%|██████████| 6/6 [00:00<00:00, 10.28it/s]\n",
            "100%|██████████| 3/3 [00:00<00:00,  6.91it/s]\n"
          ]
        },
        {
          "output_type": "stream",
          "name": "stdout",
          "text": [
            "Train loss: 2.0418691635131836\tVal loss: 2.574214458465576\tTrain acc: 25.57242531446541\tVal acc: 22.814764492753625\n"
          ]
        },
        {
          "output_type": "stream",
          "name": "stderr",
          "text": [
            "100%|██████████| 2/2 [00:00<00:00,  5.13it/s]\n",
            "100%|██████████| 2/2 [00:00<00:00,  5.01it/s]\n"
          ]
        },
        {
          "output_type": "stream",
          "name": "stdout",
          "text": [
            "########## Epoch 18\n"
          ]
        },
        {
          "output_type": "stream",
          "name": "stderr",
          "text": [
            "100%|██████████| 6/6 [00:00<00:00, 10.33it/s]\n",
            "100%|██████████| 3/3 [00:00<00:00,  7.57it/s]\n"
          ]
        },
        {
          "output_type": "stream",
          "name": "stdout",
          "text": [
            "Train loss: 1.7319449186325073\tVal loss: 2.715430498123169\tTrain acc: 36.45341981132075\tVal acc: 22.090126811594203\n"
          ]
        },
        {
          "output_type": "stream",
          "name": "stderr",
          "text": [
            "100%|██████████| 2/2 [00:00<00:00,  5.06it/s]\n",
            "100%|██████████| 2/2 [00:00<00:00,  5.06it/s]\n"
          ]
        },
        {
          "output_type": "stream",
          "name": "stdout",
          "text": [
            "########## Epoch 19\n"
          ]
        },
        {
          "output_type": "stream",
          "name": "stderr",
          "text": [
            "100%|██████████| 6/6 [00:00<00:00, 10.60it/s]\n",
            "100%|██████████| 3/3 [00:00<00:00,  7.69it/s]\n"
          ]
        },
        {
          "output_type": "stream",
          "name": "stdout",
          "text": [
            "Train loss: 1.4674609899520874\tVal loss: 2.87389874458313\tTrain acc: 41.56348270440252\tVal acc: 19.55389492753623\n"
          ]
        },
        {
          "output_type": "stream",
          "name": "stderr",
          "text": [
            "100%|██████████| 2/2 [00:00<00:00,  5.03it/s]\n",
            "100%|██████████| 2/2 [00:00<00:00,  5.12it/s]\n"
          ]
        },
        {
          "output_type": "stream",
          "name": "stdout",
          "text": [
            "########## Epoch 20\n"
          ]
        },
        {
          "output_type": "stream",
          "name": "stderr",
          "text": [
            "100%|██████████| 6/6 [00:00<00:00, 10.38it/s]\n",
            "100%|██████████| 3/3 [00:00<00:00,  7.27it/s]\n"
          ]
        },
        {
          "output_type": "stream",
          "name": "stdout",
          "text": [
            "Train loss: 1.2920258045196533\tVal loss: 3.1085808277130127\tTrain acc: 40.04520440251572\tVal acc: 22.14673913043478\n"
          ]
        },
        {
          "output_type": "stream",
          "name": "stderr",
          "text": [
            "100%|██████████| 2/2 [00:00<00:00,  4.55it/s]\n",
            "100%|██████████| 2/2 [00:00<00:00,  5.09it/s]\n"
          ]
        },
        {
          "output_type": "stream",
          "name": "stdout",
          "text": [
            "########## Epoch 21\n"
          ]
        },
        {
          "output_type": "stream",
          "name": "stderr",
          "text": [
            "100%|██████████| 6/6 [00:00<00:00, 10.53it/s]\n",
            "100%|██████████| 3/3 [00:00<00:00,  7.52it/s]\n"
          ]
        },
        {
          "output_type": "stream",
          "name": "stdout",
          "text": [
            "Train loss: 1.136448860168457\tVal loss: 3.2833526134490967\tTrain acc: 42.4872248427673\tVal acc: 22.293931159420293\n"
          ]
        },
        {
          "output_type": "stream",
          "name": "stderr",
          "text": [
            "100%|██████████| 2/2 [00:00<00:00,  5.01it/s]\n",
            "100%|██████████| 2/2 [00:00<00:00,  5.05it/s]\n"
          ]
        },
        {
          "output_type": "stream",
          "name": "stdout",
          "text": [
            "########## Epoch 22\n"
          ]
        },
        {
          "output_type": "stream",
          "name": "stderr",
          "text": [
            "100%|██████████| 6/6 [00:00<00:00,  9.98it/s]\n",
            "100%|██████████| 3/3 [00:00<00:00,  7.35it/s]\n"
          ]
        },
        {
          "output_type": "stream",
          "name": "stdout",
          "text": [
            "Train loss: 1.0510406494140625\tVal loss: 3.4721577167510986\tTrain acc: 41.988502358490564\tVal acc: 22.203351449275363\n"
          ]
        },
        {
          "output_type": "stream",
          "name": "stderr",
          "text": [
            "100%|██████████| 2/2 [00:00<00:00,  4.96it/s]\n",
            "100%|██████████| 2/2 [00:00<00:00,  5.27it/s]\n"
          ]
        },
        {
          "output_type": "stream",
          "name": "stdout",
          "text": [
            "########## Epoch 23\n"
          ]
        },
        {
          "output_type": "stream",
          "name": "stderr",
          "text": [
            "100%|██████████| 6/6 [00:00<00:00, 10.21it/s]\n",
            "100%|██████████| 3/3 [00:00<00:00,  7.38it/s]\n"
          ]
        },
        {
          "output_type": "stream",
          "name": "stdout",
          "text": [
            "Train loss: 0.9509698748588562\tVal loss: 3.5963103771209717\tTrain acc: 44.55827437106918\tVal acc: 24.52445652173913\n"
          ]
        },
        {
          "output_type": "stream",
          "name": "stderr",
          "text": [
            "100%|██████████| 2/2 [00:00<00:00,  5.10it/s]\n",
            "100%|██████████| 2/2 [00:00<00:00,  5.10it/s]\n"
          ]
        },
        {
          "output_type": "stream",
          "name": "stdout",
          "text": [
            "########## Epoch 24\n"
          ]
        },
        {
          "output_type": "stream",
          "name": "stderr",
          "text": [
            "100%|██████████| 6/6 [00:00<00:00, 10.53it/s]\n",
            "100%|██████████| 3/3 [00:00<00:00,  7.74it/s]\n"
          ]
        },
        {
          "output_type": "stream",
          "name": "stdout",
          "text": [
            "Train loss: 0.8725051879882812\tVal loss: 3.7501182556152344\tTrain acc: 48.42030267295598\tVal acc: 24.739583333333332\n"
          ]
        },
        {
          "output_type": "stream",
          "name": "stderr",
          "text": [
            "100%|██████████| 2/2 [00:00<00:00,  5.24it/s]\n",
            "100%|██████████| 2/2 [00:00<00:00,  5.07it/s]\n"
          ]
        },
        {
          "output_type": "stream",
          "name": "stdout",
          "text": [
            "########## Epoch 0\n"
          ]
        },
        {
          "output_type": "stream",
          "name": "stderr",
          "text": [
            "100%|██████████| 10/10 [00:00<00:00, 14.29it/s]\n",
            "100%|██████████| 5/5 [00:00<00:00, 11.14it/s]\n"
          ]
        },
        {
          "output_type": "stream",
          "name": "stdout",
          "text": [
            "Train loss: 5.155900955200195\tVal loss: 2.527487277984619\tTrain acc: 7.005208333333334\tVal acc: 23.51438492063492\n"
          ]
        },
        {
          "output_type": "stream",
          "name": "stderr",
          "text": [
            "100%|██████████| 2/2 [00:00<00:00,  5.12it/s]\n",
            "100%|██████████| 2/2 [00:00<00:00,  5.05it/s]\n",
            "100%|██████████| 3/3 [00:00<00:00,  7.68it/s]\n"
          ]
        },
        {
          "output_type": "stream",
          "name": "stdout",
          "text": [
            "########## Epoch 1\n"
          ]
        },
        {
          "output_type": "stream",
          "name": "stderr",
          "text": [
            "100%|██████████| 10/10 [00:00<00:00, 14.38it/s]\n",
            "100%|██████████| 5/5 [00:00<00:00, 11.86it/s]\n"
          ]
        },
        {
          "output_type": "stream",
          "name": "stdout",
          "text": [
            "Train loss: 1.549586534500122\tVal loss: 1.3427051305770874\tTrain acc: 58.28125\tVal acc: 61.45337301587301\n"
          ]
        },
        {
          "output_type": "stream",
          "name": "stderr",
          "text": [
            "100%|██████████| 2/2 [00:00<00:00,  4.80it/s]\n",
            "100%|██████████| 2/2 [00:00<00:00,  5.27it/s]\n",
            "100%|██████████| 3/3 [00:00<00:00,  7.47it/s]\n"
          ]
        },
        {
          "output_type": "stream",
          "name": "stdout",
          "text": [
            "########## Epoch 2\n"
          ]
        },
        {
          "output_type": "stream",
          "name": "stderr",
          "text": [
            "100%|██████████| 10/10 [00:00<00:00, 13.75it/s]\n",
            "100%|██████████| 5/5 [00:00<00:00, 11.74it/s]\n"
          ]
        },
        {
          "output_type": "stream",
          "name": "stdout",
          "text": [
            "Train loss: 0.5415827631950378\tVal loss: 1.4330472946166992\tTrain acc: 91.328125\tVal acc: 66.1185515873016\n"
          ]
        },
        {
          "output_type": "stream",
          "name": "stderr",
          "text": [
            "100%|██████████| 2/2 [00:00<00:00,  4.95it/s]\n",
            "100%|██████████| 2/2 [00:00<00:00,  4.78it/s]\n",
            "100%|██████████| 3/3 [00:00<00:00,  7.40it/s]\n"
          ]
        },
        {
          "output_type": "stream",
          "name": "stdout",
          "text": [
            "########## Epoch 3\n"
          ]
        },
        {
          "output_type": "stream",
          "name": "stderr",
          "text": [
            "100%|██████████| 10/10 [00:00<00:00, 14.07it/s]\n",
            "100%|██████████| 5/5 [00:00<00:00, 10.96it/s]\n"
          ]
        },
        {
          "output_type": "stream",
          "name": "stdout",
          "text": [
            "Train loss: 0.4019070565700531\tVal loss: 1.5203510522842407\tTrain acc: 93.828125\tVal acc: 67.24454365079364\n"
          ]
        },
        {
          "output_type": "stream",
          "name": "stderr",
          "text": [
            "100%|██████████| 2/2 [00:00<00:00,  4.93it/s]\n",
            "100%|██████████| 2/2 [00:00<00:00,  4.71it/s]\n",
            "100%|██████████| 3/3 [00:00<00:00,  7.42it/s]\n"
          ]
        },
        {
          "output_type": "stream",
          "name": "stdout",
          "text": [
            "########## Epoch 4\n"
          ]
        },
        {
          "output_type": "stream",
          "name": "stderr",
          "text": [
            "100%|██████████| 10/10 [00:00<00:00, 13.57it/s]\n",
            "100%|██████████| 5/5 [00:00<00:00, 11.60it/s]\n"
          ]
        },
        {
          "output_type": "stream",
          "name": "stdout",
          "text": [
            "Train loss: 0.32966405153274536\tVal loss: 1.563900351524353\tTrain acc: 94.53125\tVal acc: 67.7108134920635\n"
          ]
        },
        {
          "output_type": "stream",
          "name": "stderr",
          "text": [
            "100%|██████████| 2/2 [00:00<00:00,  4.75it/s]\n",
            "100%|██████████| 2/2 [00:00<00:00,  5.09it/s]\n",
            "100%|██████████| 3/3 [00:00<00:00,  7.23it/s]\n"
          ]
        },
        {
          "output_type": "stream",
          "name": "stdout",
          "text": [
            "########## Epoch 5\n"
          ]
        },
        {
          "output_type": "stream",
          "name": "stderr",
          "text": [
            "100%|██████████| 10/10 [00:00<00:00, 13.45it/s]\n",
            "100%|██████████| 5/5 [00:00<00:00, 10.66it/s]\n"
          ]
        },
        {
          "output_type": "stream",
          "name": "stdout",
          "text": [
            "Train loss: 0.3092140555381775\tVal loss: 1.583970546722412\tTrain acc: 94.6875\tVal acc: 68.18204365079364\n"
          ]
        },
        {
          "output_type": "stream",
          "name": "stderr",
          "text": [
            "100%|██████████| 2/2 [00:00<00:00,  5.13it/s]\n",
            "100%|██████████| 2/2 [00:00<00:00,  4.63it/s]\n",
            "100%|██████████| 3/3 [00:00<00:00,  7.22it/s]\n"
          ]
        },
        {
          "output_type": "stream",
          "name": "stdout",
          "text": [
            "########## Epoch 6\n"
          ]
        },
        {
          "output_type": "stream",
          "name": "stderr",
          "text": [
            "100%|██████████| 10/10 [00:00<00:00, 14.21it/s]\n",
            "100%|██████████| 5/5 [00:00<00:00, 11.08it/s]\n"
          ]
        },
        {
          "output_type": "stream",
          "name": "stdout",
          "text": [
            "Train loss: 0.281277596950531\tVal loss: 1.5985273122787476\tTrain acc: 95.46875\tVal acc: 68.4920634920635\n"
          ]
        },
        {
          "output_type": "stream",
          "name": "stderr",
          "text": [
            "100%|██████████| 2/2 [00:00<00:00,  5.10it/s]\n",
            "100%|██████████| 2/2 [00:00<00:00,  5.12it/s]\n",
            "100%|██████████| 3/3 [00:00<00:00,  7.43it/s]\n"
          ]
        },
        {
          "output_type": "stream",
          "name": "stdout",
          "text": [
            "########## Epoch 7\n"
          ]
        },
        {
          "output_type": "stream",
          "name": "stderr",
          "text": [
            "100%|██████████| 10/10 [00:00<00:00, 14.17it/s]\n",
            "100%|██████████| 5/5 [00:00<00:00, 12.05it/s]\n"
          ]
        },
        {
          "output_type": "stream",
          "name": "stdout",
          "text": [
            "Train loss: 0.3181250989437103\tVal loss: 1.608353853225708\tTrain acc: 93.95833333333334\tVal acc: 68.78720238095238\n"
          ]
        },
        {
          "output_type": "stream",
          "name": "stderr",
          "text": [
            "100%|██████████| 2/2 [00:00<00:00,  4.97it/s]\n",
            "100%|██████████| 2/2 [00:00<00:00,  5.02it/s]\n",
            "100%|██████████| 3/3 [00:00<00:00,  7.35it/s]\n"
          ]
        },
        {
          "output_type": "stream",
          "name": "stdout",
          "text": [
            "########## Epoch 8\n"
          ]
        },
        {
          "output_type": "stream",
          "name": "stderr",
          "text": [
            "100%|██████████| 10/10 [00:00<00:00, 13.81it/s]\n",
            "100%|██████████| 5/5 [00:00<00:00, 11.15it/s]\n"
          ]
        },
        {
          "output_type": "stream",
          "name": "stdout",
          "text": [
            "Train loss: 0.2577308416366577\tVal loss: 1.616599678993225\tTrain acc: 95.78125\tVal acc: 68.80952380952381\n"
          ]
        },
        {
          "output_type": "stream",
          "name": "stderr",
          "text": [
            "100%|██████████| 2/2 [00:00<00:00,  4.87it/s]\n",
            "100%|██████████| 2/2 [00:00<00:00,  5.02it/s]\n",
            "100%|██████████| 3/3 [00:00<00:00,  7.37it/s]\n"
          ]
        },
        {
          "output_type": "stream",
          "name": "stdout",
          "text": [
            "########## Epoch 9\n"
          ]
        },
        {
          "output_type": "stream",
          "name": "stderr",
          "text": [
            "100%|██████████| 10/10 [00:00<00:00, 14.46it/s]\n",
            "100%|██████████| 5/5 [00:00<00:00, 10.56it/s]\n"
          ]
        },
        {
          "output_type": "stream",
          "name": "stdout",
          "text": [
            "Train loss: 0.30417221784591675\tVal loss: 1.6260221004486084\tTrain acc: 94.34895833333334\tVal acc: 68.80952380952381\n"
          ]
        },
        {
          "output_type": "stream",
          "name": "stderr",
          "text": [
            "100%|██████████| 2/2 [00:00<00:00,  5.13it/s]\n",
            "100%|██████████| 2/2 [00:00<00:00,  4.95it/s]\n",
            "100%|██████████| 3/3 [00:00<00:00,  7.26it/s]\n"
          ]
        },
        {
          "output_type": "stream",
          "name": "stdout",
          "text": [
            "########## Epoch 10\n"
          ]
        },
        {
          "output_type": "stream",
          "name": "stderr",
          "text": [
            "100%|██████████| 10/10 [00:00<00:00, 13.43it/s]\n",
            "100%|██████████| 5/5 [00:00<00:00, 11.39it/s]\n"
          ]
        },
        {
          "output_type": "stream",
          "name": "stdout",
          "text": [
            "Train loss: 0.23197011649608612\tVal loss: 1.6338351964950562\tTrain acc: 96.09375\tVal acc: 69.27827380952381\n"
          ]
        },
        {
          "output_type": "stream",
          "name": "stderr",
          "text": [
            "100%|██████████| 2/2 [00:00<00:00,  4.72it/s]\n",
            "100%|██████████| 2/2 [00:00<00:00,  5.23it/s]\n",
            "100%|██████████| 3/3 [00:00<00:00,  7.35it/s]\n"
          ]
        },
        {
          "output_type": "stream",
          "name": "stdout",
          "text": [
            "########## Epoch 11\n"
          ]
        },
        {
          "output_type": "stream",
          "name": "stderr",
          "text": [
            "100%|██████████| 10/10 [00:00<00:00, 14.19it/s]\n",
            "100%|██████████| 5/5 [00:00<00:00, 10.81it/s]\n"
          ]
        },
        {
          "output_type": "stream",
          "name": "stdout",
          "text": [
            "Train loss: 0.26426583528518677\tVal loss: 1.6453351974487305\tTrain acc: 94.58333333333334\tVal acc: 69.58085317460318\n"
          ]
        },
        {
          "output_type": "stream",
          "name": "stderr",
          "text": [
            "100%|██████████| 2/2 [00:00<00:00,  4.87it/s]\n",
            "100%|██████████| 2/2 [00:00<00:00,  4.86it/s]\n",
            "100%|██████████| 3/3 [00:00<00:00,  7.27it/s]\n"
          ]
        },
        {
          "output_type": "stream",
          "name": "stdout",
          "text": [
            "########## Epoch 12\n"
          ]
        },
        {
          "output_type": "stream",
          "name": "stderr",
          "text": [
            "100%|██████████| 10/10 [00:00<00:00, 13.77it/s]\n",
            "100%|██████████| 5/5 [00:00<00:00, 11.63it/s]\n"
          ]
        },
        {
          "output_type": "stream",
          "name": "stdout",
          "text": [
            "Train loss: 0.3420197069644928\tVal loss: 1.6583364009857178\tTrain acc: 94.66145833333334\tVal acc: 69.89583333333334\n"
          ]
        },
        {
          "output_type": "stream",
          "name": "stderr",
          "text": [
            "100%|██████████| 2/2 [00:00<00:00,  4.81it/s]\n",
            "100%|██████████| 2/2 [00:00<00:00,  4.97it/s]\n",
            "100%|██████████| 3/3 [00:00<00:00,  7.39it/s]\n"
          ]
        },
        {
          "output_type": "stream",
          "name": "stdout",
          "text": [
            "########## Epoch 13\n"
          ]
        },
        {
          "output_type": "stream",
          "name": "stderr",
          "text": [
            "100%|██████████| 10/10 [00:00<00:00, 13.90it/s]\n",
            "100%|██████████| 5/5 [00:00<00:00, 10.93it/s]\n"
          ]
        },
        {
          "output_type": "stream",
          "name": "stdout",
          "text": [
            "Train loss: 0.2099141627550125\tVal loss: 1.672681450843811\tTrain acc: 96.40625\tVal acc: 70.52827380952381\n"
          ]
        },
        {
          "output_type": "stream",
          "name": "stderr",
          "text": [
            "100%|██████████| 2/2 [00:00<00:00,  4.70it/s]\n",
            "100%|██████████| 2/2 [00:00<00:00,  5.17it/s]\n",
            "100%|██████████| 3/3 [00:00<00:00,  7.11it/s]\n"
          ]
        },
        {
          "output_type": "stream",
          "name": "stdout",
          "text": [
            "########## Epoch 14\n"
          ]
        },
        {
          "output_type": "stream",
          "name": "stderr",
          "text": [
            "100%|██████████| 10/10 [00:00<00:00, 14.39it/s]\n",
            "100%|██████████| 5/5 [00:00<00:00, 10.94it/s]\n"
          ]
        },
        {
          "output_type": "stream",
          "name": "stdout",
          "text": [
            "Train loss: 0.20458006858825684\tVal loss: 1.6855547428131104\tTrain acc: 96.328125\tVal acc: 70.38194444444444\n"
          ]
        },
        {
          "output_type": "stream",
          "name": "stderr",
          "text": [
            "100%|██████████| 2/2 [00:00<00:00,  5.04it/s]\n",
            "100%|██████████| 2/2 [00:00<00:00,  4.89it/s]\n",
            "100%|██████████| 3/3 [00:00<00:00,  7.46it/s]\n"
          ]
        },
        {
          "output_type": "stream",
          "name": "stdout",
          "text": [
            "########## Epoch 15\n"
          ]
        },
        {
          "output_type": "stream",
          "name": "stderr",
          "text": [
            "100%|██████████| 10/10 [00:00<00:00, 13.73it/s]\n",
            "100%|██████████| 5/5 [00:00<00:00, 11.33it/s]\n"
          ]
        },
        {
          "output_type": "stream",
          "name": "stdout",
          "text": [
            "Train loss: 0.19945982098579407\tVal loss: 1.6978687047958374\tTrain acc: 96.40625\tVal acc: 70.69940476190476\n"
          ]
        },
        {
          "output_type": "stream",
          "name": "stderr",
          "text": [
            "100%|██████████| 2/2 [00:00<00:00,  4.74it/s]\n",
            "100%|██████████| 2/2 [00:00<00:00,  4.96it/s]\n",
            "100%|██████████| 3/3 [00:00<00:00,  7.00it/s]\n"
          ]
        },
        {
          "output_type": "stream",
          "name": "stdout",
          "text": [
            "########## Epoch 16\n"
          ]
        },
        {
          "output_type": "stream",
          "name": "stderr",
          "text": [
            "100%|██████████| 10/10 [00:00<00:00, 13.91it/s]\n",
            "100%|██████████| 5/5 [00:00<00:00, 11.16it/s]\n"
          ]
        },
        {
          "output_type": "stream",
          "name": "stdout",
          "text": [
            "Train loss: 0.21629853546619415\tVal loss: 1.7120649814605713\tTrain acc: 94.58333333333334\tVal acc: 70.66220238095238\n"
          ]
        },
        {
          "output_type": "stream",
          "name": "stderr",
          "text": [
            "100%|██████████| 2/2 [00:00<00:00,  4.69it/s]\n",
            "100%|██████████| 2/2 [00:00<00:00,  4.93it/s]\n",
            "100%|██████████| 3/3 [00:00<00:00,  7.01it/s]\n"
          ]
        },
        {
          "output_type": "stream",
          "name": "stdout",
          "text": [
            "########## Epoch 17\n"
          ]
        },
        {
          "output_type": "stream",
          "name": "stderr",
          "text": [
            "100%|██████████| 10/10 [00:00<00:00, 14.33it/s]\n",
            "100%|██████████| 5/5 [00:00<00:00, 11.37it/s]\n"
          ]
        },
        {
          "output_type": "stream",
          "name": "stdout",
          "text": [
            "Train loss: 0.3313259780406952\tVal loss: 1.721757173538208\tTrain acc: 93.38541666666666\tVal acc: 70.68948412698413\n"
          ]
        },
        {
          "output_type": "stream",
          "name": "stderr",
          "text": [
            "100%|██████████| 2/2 [00:00<00:00,  5.03it/s]\n",
            "100%|██████████| 2/2 [00:00<00:00,  4.81it/s]\n",
            "100%|██████████| 3/3 [00:00<00:00,  7.08it/s]\n"
          ]
        },
        {
          "output_type": "stream",
          "name": "stdout",
          "text": [
            "########## Epoch 18\n"
          ]
        },
        {
          "output_type": "stream",
          "name": "stderr",
          "text": [
            "100%|██████████| 10/10 [00:00<00:00, 13.37it/s]\n",
            "100%|██████████| 5/5 [00:00<00:00, 11.26it/s]\n"
          ]
        },
        {
          "output_type": "stream",
          "name": "stdout",
          "text": [
            "Train loss: 0.3350861668586731\tVal loss: 1.7357957363128662\tTrain acc: 92.91666666666666\tVal acc: 70.69692460317461\n"
          ]
        },
        {
          "output_type": "stream",
          "name": "stderr",
          "text": [
            "100%|██████████| 2/2 [00:00<00:00,  4.41it/s]\n",
            "100%|██████████| 2/2 [00:00<00:00,  4.98it/s]\n",
            "100%|██████████| 3/3 [00:00<00:00,  7.02it/s]\n"
          ]
        },
        {
          "output_type": "stream",
          "name": "stdout",
          "text": [
            "########## Epoch 19\n"
          ]
        },
        {
          "output_type": "stream",
          "name": "stderr",
          "text": [
            "100%|██████████| 10/10 [00:00<00:00, 14.10it/s]\n",
            "100%|██████████| 5/5 [00:00<00:00, 11.30it/s]\n"
          ]
        },
        {
          "output_type": "stream",
          "name": "stdout",
          "text": [
            "Train loss: 0.2786596715450287\tVal loss: 1.7516132593154907\tTrain acc: 94.73958333333334\tVal acc: 70.52579365079364\n"
          ]
        },
        {
          "output_type": "stream",
          "name": "stderr",
          "text": [
            "100%|██████████| 2/2 [00:00<00:00,  5.06it/s]\n",
            "100%|██████████| 2/2 [00:00<00:00,  4.97it/s]\n",
            "100%|██████████| 3/3 [00:00<00:00,  7.33it/s]\n"
          ]
        },
        {
          "output_type": "stream",
          "name": "stdout",
          "text": [
            "########## Epoch 20\n"
          ]
        },
        {
          "output_type": "stream",
          "name": "stderr",
          "text": [
            "100%|██████████| 10/10 [00:00<00:00, 14.17it/s]\n",
            "100%|██████████| 5/5 [00:00<00:00, 11.36it/s]\n"
          ]
        },
        {
          "output_type": "stream",
          "name": "stdout",
          "text": [
            "Train loss: 0.18406100571155548\tVal loss: 1.7631816864013672\tTrain acc: 96.171875\tVal acc: 70.20337301587301\n"
          ]
        },
        {
          "output_type": "stream",
          "name": "stderr",
          "text": [
            "100%|██████████| 2/2 [00:00<00:00,  4.69it/s]\n",
            "100%|██████████| 2/2 [00:00<00:00,  5.01it/s]\n",
            "100%|██████████| 3/3 [00:00<00:00,  7.05it/s]\n"
          ]
        },
        {
          "output_type": "stream",
          "name": "stdout",
          "text": [
            "########## Epoch 21\n"
          ]
        },
        {
          "output_type": "stream",
          "name": "stderr",
          "text": [
            "100%|██████████| 10/10 [00:00<00:00, 13.96it/s]\n",
            "100%|██████████| 5/5 [00:00<00:00, 11.48it/s]\n"
          ]
        },
        {
          "output_type": "stream",
          "name": "stdout",
          "text": [
            "Train loss: 0.18172039091587067\tVal loss: 1.774999976158142\tTrain acc: 96.40625\tVal acc: 70.21577380952381\n"
          ]
        },
        {
          "output_type": "stream",
          "name": "stderr",
          "text": [
            "100%|██████████| 2/2 [00:00<00:00,  4.87it/s]\n",
            "100%|██████████| 2/2 [00:00<00:00,  5.06it/s]\n",
            "100%|██████████| 3/3 [00:00<00:00,  7.51it/s]\n"
          ]
        },
        {
          "output_type": "stream",
          "name": "stdout",
          "text": [
            "########## Epoch 22\n"
          ]
        },
        {
          "output_type": "stream",
          "name": "stderr",
          "text": [
            "100%|██████████| 10/10 [00:00<00:00, 14.48it/s]\n",
            "100%|██████████| 5/5 [00:00<00:00, 11.27it/s]\n"
          ]
        },
        {
          "output_type": "stream",
          "name": "stdout",
          "text": [
            "Train loss: 0.17282091081142426\tVal loss: 1.786043405532837\tTrain acc: 96.171875\tVal acc: 70.06696428571429\n"
          ]
        },
        {
          "output_type": "stream",
          "name": "stderr",
          "text": [
            "100%|██████████| 2/2 [00:00<00:00,  4.78it/s]\n",
            "100%|██████████| 2/2 [00:00<00:00,  4.94it/s]\n",
            "100%|██████████| 3/3 [00:00<00:00,  7.41it/s]\n"
          ]
        },
        {
          "output_type": "stream",
          "name": "stdout",
          "text": [
            "########## Epoch 23\n"
          ]
        },
        {
          "output_type": "stream",
          "name": "stderr",
          "text": [
            "100%|██████████| 10/10 [00:00<00:00, 13.28it/s]\n",
            "100%|██████████| 5/5 [00:00<00:00, 11.73it/s]\n"
          ]
        },
        {
          "output_type": "stream",
          "name": "stdout",
          "text": [
            "Train loss: 0.19840720295906067\tVal loss: 1.797346830368042\tTrain acc: 94.66145833333334\tVal acc: 70.3670634920635\n"
          ]
        },
        {
          "output_type": "stream",
          "name": "stderr",
          "text": [
            "100%|██████████| 2/2 [00:00<00:00,  4.76it/s]\n",
            "100%|██████████| 2/2 [00:00<00:00,  5.08it/s]\n",
            "100%|██████████| 3/3 [00:00<00:00,  7.31it/s]\n"
          ]
        },
        {
          "output_type": "stream",
          "name": "stdout",
          "text": [
            "########## Epoch 24\n"
          ]
        },
        {
          "output_type": "stream",
          "name": "stderr",
          "text": [
            "100%|██████████| 10/10 [00:00<00:00, 14.29it/s]\n",
            "100%|██████████| 5/5 [00:00<00:00, 11.04it/s]\n"
          ]
        },
        {
          "output_type": "stream",
          "name": "stdout",
          "text": [
            "Train loss: 0.17469346523284912\tVal loss: 1.807794213294983\tTrain acc: 96.25\tVal acc: 70.20833333333334\n"
          ]
        },
        {
          "output_type": "stream",
          "name": "stderr",
          "text": [
            "100%|██████████| 2/2 [00:00<00:00,  4.88it/s]\n",
            "100%|██████████| 2/2 [00:00<00:00,  5.00it/s]\n",
            "100%|██████████| 3/3 [00:00<00:00,  7.37it/s]\n"
          ]
        },
        {
          "output_type": "display_data",
          "data": {
            "text/plain": [
              "<IPython.core.display.HTML object>"
            ],
            "text/html": [
              "Waiting for W&B process to finish... <strong style=\"color:green\">(success).</strong>"
            ]
          },
          "metadata": {}
        },
        {
          "output_type": "display_data",
          "data": {
            "text/plain": [
              "VBox(children=(Label(value='0.000 MB of 0.000 MB uploaded (0.000 MB deduped)\\r'), FloatProgress(value=1.0, max…"
            ],
            "application/vnd.jupyter.widget-view+json": {
              "version_major": 2,
              "version_minor": 0,
              "model_id": "0af96011a093486fac3282eb1de49659"
            }
          },
          "metadata": {}
        },
        {
          "output_type": "display_data",
          "data": {
            "text/plain": [
              "<IPython.core.display.HTML object>"
            ],
            "text/html": [
              "<style>\n",
              "    table.wandb td:nth-child(1) { padding: 0 10px; text-align: left ; width: auto;} td:nth-child(2) {text-align: left ; width: 100%}\n",
              "    .wandb-row { display: flex; flex-direction: row; flex-wrap: wrap; justify-content: flex-start; width: 100% }\n",
              "    .wandb-col { display: flex; flex-direction: column; flex-basis: 100%; flex: 1; padding: 10px; }\n",
              "    </style>\n",
              "<div class=\"wandb-row\"><div class=\"wandb-col\"><h3>Run history:</h3><br/><table class=\"wandb\"><tr><td>task_0_prevtask_0_val_acc</td><td>▁▇▇▇███████▇████▇█████▇██</td></tr><tr><td>task_0_prevtask_0_val_loss</td><td>█▂▃▁▁▁▁▁▂▁▂▁▁▁▁▂▂▁▃▂▂▁▃▁▁</td></tr><tr><td>task_0_train_acc</td><td>▁▇▇▇█████████████████████</td></tr><tr><td>task_0_train_loss</td><td>█▃▃▂▂▂▁▁▁▁▁▁▁▁▁▁▁▁▁▁▁▁▁▁▁</td></tr><tr><td>task_0_val_acc</td><td>▁▇███████▇█▇▇██▇▇██████▇█</td></tr><tr><td>task_0_val_loss</td><td>█▂▁▁▂▁▁▁▁▁▂▁▁▁▁▂▂▁▁▂▂▃▂▄▁</td></tr><tr><td>task_1_prevtask_0_val_acc</td><td>████▇▇▇▆▆▆▅▅▅▅▅▄▃▂▂▁▁▁▁▁▁</td></tr><tr><td>task_1_prevtask_0_val_loss</td><td>▁▁▁▁▁▁▂▂▂▂▂▂▂▂▃▃▄▄▅▆▆▇▇██</td></tr><tr><td>task_1_prevtask_1_val_acc</td><td>▁▁▁▁▁▁▁▁▁▁▁▁▁▁▁▁▄▅▆▅▇▇███</td></tr><tr><td>task_1_prevtask_1_val_loss</td><td>█▇▆▆▅▅▄▄▄▃▃▃▃▂▂▂▂▁▁▁▁▁▁▁▁</td></tr><tr><td>task_1_train_acc</td><td>▁▁▁▁▁▁▁▁▁▁▁▁▁▁▁▁▃▅▆▇▇▇▇▇█</td></tr><tr><td>task_1_train_loss</td><td>█▇▆▆▅▅▄▄▃▃▃▃▃▂▂▂▂▁▁▁▁▁▁▁▁</td></tr><tr><td>task_1_val_acc</td><td>███▇▇▇▆▅▅▄▄▄▃▃▂▂▂▂▂▁▂▂▂▂▂</td></tr><tr><td>task_1_val_loss</td><td>█▇▆▅▄▄▄▃▃▃▂▂▂▁▁▁▁▁▁▁▂▂▂▂▂</td></tr><tr><td>task_2_prevtask_0_val_acc</td><td>▁▆▇▇▇▇▇▇█████████████████</td></tr><tr><td>task_2_prevtask_0_val_loss</td><td>█▃▂▂▁▁▁▁▁▁▁▁▁▁▁▁▁▁▁▁▁▁▁▁▁</td></tr><tr><td>task_2_prevtask_1_val_acc</td><td>█▂▂▂▁▁▁▁▁▁▁▁▁▁▁▁▁▁▁▁▁▁▁▁▁</td></tr><tr><td>task_2_prevtask_1_val_loss</td><td>▁▃▅▆▆▇▇▆▇▇▇▇▇▇▇▇▇████████</td></tr><tr><td>task_2_prevtask_2_val_acc</td><td>▁▇▇██▇███████████████████</td></tr><tr><td>task_2_prevtask_2_val_loss</td><td>█▃▂▁▁▂▁▁▂▁▁▁▁▁▁▁▁▁▁▁▁▁▁▁▁</td></tr><tr><td>task_2_train_acc</td><td>▁▅███████████████████████</td></tr><tr><td>task_2_train_loss</td><td>█▃▂▁▁▁▁▁▁▁▁▁▁▁▁▁▁▁▁▁▁▁▁▁▁</td></tr><tr><td>task_2_val_acc</td><td>▁▇▇▇█████████████████████</td></tr><tr><td>task_2_val_loss</td><td>█▁▂▂▂▂▃▃▃▃▃▃▃▃▃▃▃▃▃▃▃▄▄▄▄</td></tr></table><br/></div><div class=\"wandb-col\"><h3>Run summary:</h3><br/><table class=\"wandb\"><tr><td>task_0_prevtask_0_val_acc</td><td>99.60938</td></tr><tr><td>task_0_prevtask_0_val_loss</td><td>0.05406</td></tr><tr><td>task_0_train_acc</td><td>100.0</td></tr><tr><td>task_0_train_loss</td><td>0.00026</td></tr><tr><td>task_0_val_acc</td><td>99.60938</td></tr><tr><td>task_0_val_loss</td><td>0.05291</td></tr><tr><td>task_1_prevtask_0_val_acc</td><td>3.82133</td></tr><tr><td>task_1_prevtask_0_val_loss</td><td>6.59874</td></tr><tr><td>task_1_prevtask_1_val_acc</td><td>43.69905</td></tr><tr><td>task_1_prevtask_1_val_loss</td><td>0.87683</td></tr><tr><td>task_1_train_acc</td><td>48.4203</td></tr><tr><td>task_1_train_loss</td><td>0.87251</td></tr><tr><td>task_1_val_acc</td><td>24.73958</td></tr><tr><td>task_1_val_loss</td><td>3.75012</td></tr><tr><td>task_2_prevtask_0_val_acc</td><td>97.74117</td></tr><tr><td>task_2_prevtask_0_val_loss</td><td>0.1006</td></tr><tr><td>task_2_prevtask_1_val_acc</td><td>0.0</td></tr><tr><td>task_2_prevtask_1_val_loss</td><td>6.18416</td></tr><tr><td>task_2_prevtask_2_val_acc</td><td>96.15502</td></tr><tr><td>task_2_prevtask_2_val_loss</td><td>0.25799</td></tr><tr><td>task_2_train_acc</td><td>96.25</td></tr><tr><td>task_2_train_loss</td><td>0.17469</td></tr><tr><td>task_2_val_acc</td><td>70.20833</td></tr><tr><td>task_2_val_loss</td><td>1.80779</td></tr></table><br/></div></div>"
            ]
          },
          "metadata": {}
        },
        {
          "output_type": "display_data",
          "data": {
            "text/plain": [
              "<IPython.core.display.HTML object>"
            ],
            "text/html": [
              "Synced <strong style=\"color:#cdcd00\">meanoffeatures_roadcondition_yesno_imagecondition_21_09_05h20m03s_mul</strong>: <a href=\"https://wandb.ai/compyle/continual_vqa_final/runs/2b02e3i4\" target=\"_blank\">https://wandb.ai/compyle/continual_vqa_final/runs/2b02e3i4</a><br/>Synced 5 W&B file(s), 0 media file(s), 0 artifact file(s) and 0 other file(s)"
            ]
          },
          "metadata": {}
        },
        {
          "output_type": "display_data",
          "data": {
            "text/plain": [
              "<IPython.core.display.HTML object>"
            ],
            "text/html": [
              "Find logs at: <code>./wandb/run-20220921_052003-2b02e3i4/logs</code>"
            ]
          },
          "metadata": {}
        },
        {
          "output_type": "display_data",
          "data": {
            "text/plain": [
              "<IPython.core.display.HTML object>"
            ],
            "text/html": [
              "Tracking run with wandb version 0.13.3"
            ]
          },
          "metadata": {}
        },
        {
          "output_type": "display_data",
          "data": {
            "text/plain": [
              "<IPython.core.display.HTML object>"
            ],
            "text/html": [
              "Run data is saved locally in <code>/content/wandb/run-20220921_052240-6czpdisy</code>"
            ]
          },
          "metadata": {}
        },
        {
          "output_type": "display_data",
          "data": {
            "text/plain": [
              "<IPython.core.display.HTML object>"
            ],
            "text/html": [
              "Syncing run <strong><a href=\"https://wandb.ai/compyle/continual_vqa_final/runs/6czpdisy\" target=\"_blank\">meanoffeatures_roadcondition_imagecondition_yesno_21_09_05h22m40s_mul</a></strong> to <a href=\"https://wandb.ai/compyle/continual_vqa_final\" target=\"_blank\">Weights & Biases</a> (<a href=\"https://wandb.me/run\" target=\"_blank\">docs</a>)<br/>"
            ]
          },
          "metadata": {}
        },
        {
          "output_type": "stream",
          "name": "stdout",
          "text": [
            "########## Epoch 0\n"
          ]
        },
        {
          "output_type": "stream",
          "name": "stderr",
          "text": [
            "100%|██████████| 6/6 [00:00<00:00,  9.52it/s]\n",
            "100%|██████████| 2/2 [00:00<00:00,  4.96it/s]\n"
          ]
        },
        {
          "output_type": "stream",
          "name": "stdout",
          "text": [
            "Train loss: 0.8445839285850525\tVal loss: 0.32518625259399414\tTrain acc: 70.65104166666667\tVal acc: 82.9326923076923\n"
          ]
        },
        {
          "output_type": "stream",
          "name": "stderr",
          "text": [
            "100%|██████████| 2/2 [00:00<00:00,  4.71it/s]\n"
          ]
        },
        {
          "output_type": "stream",
          "name": "stdout",
          "text": [
            "########## Epoch 1\n"
          ]
        },
        {
          "output_type": "stream",
          "name": "stderr",
          "text": [
            "100%|██████████| 6/6 [00:00<00:00, 10.15it/s]\n",
            "100%|██████████| 2/2 [00:00<00:00,  4.83it/s]\n"
          ]
        },
        {
          "output_type": "stream",
          "name": "stdout",
          "text": [
            "Train loss: 0.2269338220357895\tVal loss: 0.1805359423160553\tTrain acc: 93.046875\tVal acc: 96.65464743589743\n"
          ]
        },
        {
          "output_type": "stream",
          "name": "stderr",
          "text": [
            "100%|██████████| 2/2 [00:00<00:00,  5.03it/s]\n"
          ]
        },
        {
          "output_type": "stream",
          "name": "stdout",
          "text": [
            "########## Epoch 2\n"
          ]
        },
        {
          "output_type": "stream",
          "name": "stderr",
          "text": [
            "100%|██████████| 6/6 [00:00<00:00,  9.90it/s]\n",
            "100%|██████████| 2/2 [00:00<00:00,  4.96it/s]\n"
          ]
        },
        {
          "output_type": "stream",
          "name": "stdout",
          "text": [
            "Train loss: 0.09953486919403076\tVal loss: 0.14762495458126068\tTrain acc: 97.52604166666667\tVal acc: 97.15544871794872\n"
          ]
        },
        {
          "output_type": "stream",
          "name": "stderr",
          "text": [
            "100%|██████████| 2/2 [00:00<00:00,  4.69it/s]\n"
          ]
        },
        {
          "output_type": "stream",
          "name": "stdout",
          "text": [
            "########## Epoch 3\n"
          ]
        },
        {
          "output_type": "stream",
          "name": "stderr",
          "text": [
            "100%|██████████| 6/6 [00:00<00:00, 10.23it/s]\n",
            "100%|██████████| 2/2 [00:00<00:00,  4.78it/s]\n"
          ]
        },
        {
          "output_type": "stream",
          "name": "stdout",
          "text": [
            "Train loss: 0.09850356727838516\tVal loss: 0.10476755350828171\tTrain acc: 97.86458333333333\tVal acc: 96.37419871794872\n"
          ]
        },
        {
          "output_type": "stream",
          "name": "stderr",
          "text": [
            "100%|██████████| 2/2 [00:00<00:00,  4.94it/s]\n"
          ]
        },
        {
          "output_type": "stream",
          "name": "stdout",
          "text": [
            "########## Epoch 4\n"
          ]
        },
        {
          "output_type": "stream",
          "name": "stderr",
          "text": [
            "100%|██████████| 6/6 [00:00<00:00, 10.03it/s]\n",
            "100%|██████████| 2/2 [00:00<00:00,  4.91it/s]\n"
          ]
        },
        {
          "output_type": "stream",
          "name": "stdout",
          "text": [
            "Train loss: 0.06319072097539902\tVal loss: 0.12851999700069427\tTrain acc: 98.828125\tVal acc: 95.48277243589743\n"
          ]
        },
        {
          "output_type": "stream",
          "name": "stderr",
          "text": [
            "100%|██████████| 2/2 [00:00<00:00,  5.06it/s]\n"
          ]
        },
        {
          "output_type": "stream",
          "name": "stdout",
          "text": [
            "########## Epoch 5\n"
          ]
        },
        {
          "output_type": "stream",
          "name": "stderr",
          "text": [
            "100%|██████████| 6/6 [00:00<00:00, 10.00it/s]\n",
            "100%|██████████| 2/2 [00:00<00:00,  4.92it/s]\n"
          ]
        },
        {
          "output_type": "stream",
          "name": "stdout",
          "text": [
            "Train loss: 0.05825997516512871\tVal loss: 0.08746509253978729\tTrain acc: 98.5329861111111\tVal acc: 97.15544871794872\n"
          ]
        },
        {
          "output_type": "stream",
          "name": "stderr",
          "text": [
            "100%|██████████| 2/2 [00:00<00:00,  4.57it/s]\n"
          ]
        },
        {
          "output_type": "stream",
          "name": "stdout",
          "text": [
            "########## Epoch 6\n"
          ]
        },
        {
          "output_type": "stream",
          "name": "stderr",
          "text": [
            "100%|██████████| 6/6 [00:00<00:00, 10.02it/s]\n",
            "100%|██████████| 2/2 [00:00<00:00,  4.81it/s]\n"
          ]
        },
        {
          "output_type": "stream",
          "name": "stdout",
          "text": [
            "Train loss: 0.040534473955631256\tVal loss: 0.07797984778881073\tTrain acc: 99.08854166666667\tVal acc: 98.046875\n"
          ]
        },
        {
          "output_type": "stream",
          "name": "stderr",
          "text": [
            "100%|██████████| 2/2 [00:00<00:00,  5.02it/s]\n"
          ]
        },
        {
          "output_type": "stream",
          "name": "stdout",
          "text": [
            "########## Epoch 7\n"
          ]
        },
        {
          "output_type": "stream",
          "name": "stderr",
          "text": [
            "100%|██████████| 6/6 [00:00<00:00,  9.78it/s]\n",
            "100%|██████████| 2/2 [00:00<00:00,  4.88it/s]\n"
          ]
        },
        {
          "output_type": "stream",
          "name": "stdout",
          "text": [
            "Train loss: 0.03353055194020271\tVal loss: 0.1766047477722168\tTrain acc: 99.21875\tVal acc: 95.37259615384616\n"
          ]
        },
        {
          "output_type": "stream",
          "name": "stderr",
          "text": [
            "100%|██████████| 2/2 [00:00<00:00,  4.80it/s]\n"
          ]
        },
        {
          "output_type": "stream",
          "name": "stdout",
          "text": [
            "########## Epoch 8\n"
          ]
        },
        {
          "output_type": "stream",
          "name": "stderr",
          "text": [
            "100%|██████████| 6/6 [00:00<00:00, 10.02it/s]\n",
            "100%|██████████| 2/2 [00:00<00:00,  4.89it/s]\n"
          ]
        },
        {
          "output_type": "stream",
          "name": "stdout",
          "text": [
            "Train loss: 0.02823886275291443\tVal loss: 0.120841845870018\tTrain acc: 99.2013888888889\tVal acc: 96.26402243589743\n"
          ]
        },
        {
          "output_type": "stream",
          "name": "stderr",
          "text": [
            "100%|██████████| 2/2 [00:00<00:00,  5.07it/s]\n"
          ]
        },
        {
          "output_type": "stream",
          "name": "stdout",
          "text": [
            "########## Epoch 9\n"
          ]
        },
        {
          "output_type": "stream",
          "name": "stderr",
          "text": [
            "100%|██████████| 6/6 [00:00<00:00,  9.96it/s]\n",
            "100%|██████████| 2/2 [00:00<00:00,  4.85it/s]\n"
          ]
        },
        {
          "output_type": "stream",
          "name": "stdout",
          "text": [
            "Train loss: 0.020603874698281288\tVal loss: 0.18903988599777222\tTrain acc: 99.21875\tVal acc: 94.09054487179486\n"
          ]
        },
        {
          "output_type": "stream",
          "name": "stderr",
          "text": [
            "100%|██████████| 2/2 [00:00<00:00,  4.87it/s]\n"
          ]
        },
        {
          "output_type": "stream",
          "name": "stdout",
          "text": [
            "########## Epoch 10\n"
          ]
        },
        {
          "output_type": "stream",
          "name": "stderr",
          "text": [
            "100%|██████████| 6/6 [00:00<00:00,  9.73it/s]\n",
            "100%|██████████| 2/2 [00:00<00:00,  4.81it/s]\n"
          ]
        },
        {
          "output_type": "stream",
          "name": "stdout",
          "text": [
            "Train loss: 0.017730554565787315\tVal loss: 0.11001036316156387\tTrain acc: 99.47916666666667\tVal acc: 95.87339743589743\n"
          ]
        },
        {
          "output_type": "stream",
          "name": "stderr",
          "text": [
            "100%|██████████| 2/2 [00:00<00:00,  4.71it/s]\n"
          ]
        },
        {
          "output_type": "stream",
          "name": "stdout",
          "text": [
            "########## Epoch 11\n"
          ]
        },
        {
          "output_type": "stream",
          "name": "stderr",
          "text": [
            "100%|██████████| 6/6 [00:00<00:00,  9.65it/s]\n",
            "100%|██████████| 2/2 [00:00<00:00,  4.90it/s]\n"
          ]
        },
        {
          "output_type": "stream",
          "name": "stdout",
          "text": [
            "Train loss: 0.013635304756462574\tVal loss: 0.18330538272857666\tTrain acc: 99.609375\tVal acc: 96.65464743589743\n"
          ]
        },
        {
          "output_type": "stream",
          "name": "stderr",
          "text": [
            "100%|██████████| 2/2 [00:00<00:00,  4.94it/s]\n"
          ]
        },
        {
          "output_type": "stream",
          "name": "stdout",
          "text": [
            "########## Epoch 12\n"
          ]
        },
        {
          "output_type": "stream",
          "name": "stderr",
          "text": [
            "100%|██████████| 6/6 [00:00<00:00,  9.69it/s]\n",
            "100%|██████████| 2/2 [00:00<00:00,  4.74it/s]\n"
          ]
        },
        {
          "output_type": "stream",
          "name": "stdout",
          "text": [
            "Train loss: 0.009149453602731228\tVal loss: 0.1760125756263733\tTrain acc: 99.5920138888889\tVal acc: 95.76322115384616\n"
          ]
        },
        {
          "output_type": "stream",
          "name": "stderr",
          "text": [
            "100%|██████████| 2/2 [00:00<00:00,  4.79it/s]\n"
          ]
        },
        {
          "output_type": "stream",
          "name": "stdout",
          "text": [
            "########## Epoch 13\n"
          ]
        },
        {
          "output_type": "stream",
          "name": "stderr",
          "text": [
            "100%|██████████| 6/6 [00:00<00:00, 10.17it/s]\n",
            "100%|██████████| 2/2 [00:00<00:00,  4.89it/s]\n"
          ]
        },
        {
          "output_type": "stream",
          "name": "stdout",
          "text": [
            "Train loss: 0.006730003748089075\tVal loss: 0.08708278834819794\tTrain acc: 99.86979166666667\tVal acc: 98.4375\n"
          ]
        },
        {
          "output_type": "stream",
          "name": "stderr",
          "text": [
            "100%|██████████| 2/2 [00:00<00:00,  4.84it/s]\n"
          ]
        },
        {
          "output_type": "stream",
          "name": "stdout",
          "text": [
            "########## Epoch 14\n"
          ]
        },
        {
          "output_type": "stream",
          "name": "stderr",
          "text": [
            "100%|██████████| 6/6 [00:00<00:00,  9.62it/s]\n",
            "100%|██████████| 2/2 [00:00<00:00,  4.92it/s]\n"
          ]
        },
        {
          "output_type": "stream",
          "name": "stdout",
          "text": [
            "Train loss: 0.006262915674597025\tVal loss: 0.09408286213874817\tTrain acc: 99.86979166666667\tVal acc: 98.4375\n"
          ]
        },
        {
          "output_type": "stream",
          "name": "stderr",
          "text": [
            "100%|██████████| 2/2 [00:00<00:00,  4.77it/s]\n"
          ]
        },
        {
          "output_type": "stream",
          "name": "stdout",
          "text": [
            "########## Epoch 15\n"
          ]
        },
        {
          "output_type": "stream",
          "name": "stderr",
          "text": [
            "100%|██████████| 6/6 [00:00<00:00, 10.10it/s]\n",
            "100%|██████████| 2/2 [00:00<00:00,  4.95it/s]\n"
          ]
        },
        {
          "output_type": "stream",
          "name": "stdout",
          "text": [
            "Train loss: 0.005696806591004133\tVal loss: 0.23347851634025574\tTrain acc: 99.609375\tVal acc: 96.26402243589743\n"
          ]
        },
        {
          "output_type": "stream",
          "name": "stderr",
          "text": [
            "100%|██████████| 2/2 [00:00<00:00,  4.89it/s]\n"
          ]
        },
        {
          "output_type": "stream",
          "name": "stdout",
          "text": [
            "########## Epoch 16\n"
          ]
        },
        {
          "output_type": "stream",
          "name": "stderr",
          "text": [
            "100%|██████████| 6/6 [00:00<00:00,  9.91it/s]\n",
            "100%|██████████| 2/2 [00:00<00:00,  5.02it/s]\n"
          ]
        },
        {
          "output_type": "stream",
          "name": "stdout",
          "text": [
            "Train loss: 0.0027235529851168394\tVal loss: 0.13851258158683777\tTrain acc: 100.0\tVal acc: 97.15544871794872\n"
          ]
        },
        {
          "output_type": "stream",
          "name": "stderr",
          "text": [
            "100%|██████████| 2/2 [00:00<00:00,  4.82it/s]\n"
          ]
        },
        {
          "output_type": "stream",
          "name": "stdout",
          "text": [
            "########## Epoch 17\n"
          ]
        },
        {
          "output_type": "stream",
          "name": "stderr",
          "text": [
            "100%|██████████| 6/6 [00:00<00:00, 10.04it/s]\n",
            "100%|██████████| 2/2 [00:00<00:00,  4.93it/s]\n"
          ]
        },
        {
          "output_type": "stream",
          "name": "stdout",
          "text": [
            "Train loss: 0.0018884511664509773\tVal loss: 0.279081255197525\tTrain acc: 100.0\tVal acc: 95.37259615384616\n"
          ]
        },
        {
          "output_type": "stream",
          "name": "stderr",
          "text": [
            "100%|██████████| 2/2 [00:00<00:00,  4.62it/s]\n"
          ]
        },
        {
          "output_type": "stream",
          "name": "stdout",
          "text": [
            "########## Epoch 18\n"
          ]
        },
        {
          "output_type": "stream",
          "name": "stderr",
          "text": [
            "100%|██████████| 6/6 [00:00<00:00,  9.94it/s]\n",
            "100%|██████████| 2/2 [00:00<00:00,  4.86it/s]\n"
          ]
        },
        {
          "output_type": "stream",
          "name": "stdout",
          "text": [
            "Train loss: 0.0012512238463386893\tVal loss: 0.13628853857517242\tTrain acc: 100.0\tVal acc: 98.4375\n"
          ]
        },
        {
          "output_type": "stream",
          "name": "stderr",
          "text": [
            "100%|██████████| 2/2 [00:00<00:00,  4.79it/s]\n"
          ]
        },
        {
          "output_type": "stream",
          "name": "stdout",
          "text": [
            "########## Epoch 19\n"
          ]
        },
        {
          "output_type": "stream",
          "name": "stderr",
          "text": [
            "100%|██████████| 6/6 [00:00<00:00,  9.71it/s]\n",
            "100%|██████████| 2/2 [00:00<00:00,  5.04it/s]\n"
          ]
        },
        {
          "output_type": "stream",
          "name": "stdout",
          "text": [
            "Train loss: 0.000763709016609937\tVal loss: 0.2108338475227356\tTrain acc: 100.0\tVal acc: 97.54607371794872\n"
          ]
        },
        {
          "output_type": "stream",
          "name": "stderr",
          "text": [
            "100%|██████████| 2/2 [00:00<00:00,  4.58it/s]\n"
          ]
        },
        {
          "output_type": "stream",
          "name": "stdout",
          "text": [
            "########## Epoch 20\n"
          ]
        },
        {
          "output_type": "stream",
          "name": "stderr",
          "text": [
            "100%|██████████| 6/6 [00:00<00:00, 10.30it/s]\n",
            "100%|██████████| 2/2 [00:00<00:00,  4.55it/s]\n"
          ]
        },
        {
          "output_type": "stream",
          "name": "stdout",
          "text": [
            "Train loss: 0.0007229456678032875\tVal loss: 0.1452884078025818\tTrain acc: 100.0\tVal acc: 98.4375\n"
          ]
        },
        {
          "output_type": "stream",
          "name": "stderr",
          "text": [
            "100%|██████████| 2/2 [00:00<00:00,  4.79it/s]\n"
          ]
        },
        {
          "output_type": "stream",
          "name": "stdout",
          "text": [
            "########## Epoch 21\n"
          ]
        },
        {
          "output_type": "stream",
          "name": "stderr",
          "text": [
            "100%|██████████| 6/6 [00:00<00:00,  9.65it/s]\n",
            "100%|██████████| 2/2 [00:00<00:00,  4.96it/s]\n"
          ]
        },
        {
          "output_type": "stream",
          "name": "stdout",
          "text": [
            "Train loss: 0.0004226651508361101\tVal loss: 0.27929818630218506\tTrain acc: 100.0\tVal acc: 97.54607371794872\n"
          ]
        },
        {
          "output_type": "stream",
          "name": "stderr",
          "text": [
            "100%|██████████| 2/2 [00:00<00:00,  4.61it/s]\n"
          ]
        },
        {
          "output_type": "stream",
          "name": "stdout",
          "text": [
            "########## Epoch 22\n"
          ]
        },
        {
          "output_type": "stream",
          "name": "stderr",
          "text": [
            "100%|██████████| 6/6 [00:00<00:00,  6.33it/s]\n",
            "100%|██████████| 2/2 [00:00<00:00,  3.42it/s]\n"
          ]
        },
        {
          "output_type": "stream",
          "name": "stdout",
          "text": [
            "Train loss: 0.00040878981235437095\tVal loss: 0.15586373209953308\tTrain acc: 100.0\tVal acc: 97.54607371794872\n"
          ]
        },
        {
          "output_type": "stream",
          "name": "stderr",
          "text": [
            "100%|██████████| 2/2 [00:00<00:00,  3.49it/s]\n"
          ]
        },
        {
          "output_type": "stream",
          "name": "stdout",
          "text": [
            "########## Epoch 23\n"
          ]
        },
        {
          "output_type": "stream",
          "name": "stderr",
          "text": [
            "100%|██████████| 6/6 [00:01<00:00,  5.08it/s]\n",
            "100%|██████████| 2/2 [00:00<00:00,  4.81it/s]\n"
          ]
        },
        {
          "output_type": "stream",
          "name": "stdout",
          "text": [
            "Train loss: 0.00036677668686024845\tVal loss: 0.4221181571483612\tTrain acc: 100.0\tVal acc: 95.76322115384616\n"
          ]
        },
        {
          "output_type": "stream",
          "name": "stderr",
          "text": [
            "100%|██████████| 2/2 [00:00<00:00,  4.53it/s]\n"
          ]
        },
        {
          "output_type": "stream",
          "name": "stdout",
          "text": [
            "########## Epoch 24\n"
          ]
        },
        {
          "output_type": "stream",
          "name": "stderr",
          "text": [
            "100%|██████████| 6/6 [00:00<00:00, 10.27it/s]\n",
            "100%|██████████| 2/2 [00:00<00:00,  4.56it/s]\n"
          ]
        },
        {
          "output_type": "stream",
          "name": "stdout",
          "text": [
            "Train loss: 0.00020753045100718737\tVal loss: 0.3479832112789154\tTrain acc: 100.0\tVal acc: 96.65464743589743\n"
          ]
        },
        {
          "output_type": "stream",
          "name": "stderr",
          "text": [
            "100%|██████████| 2/2 [00:00<00:00,  4.65it/s]\n"
          ]
        },
        {
          "output_type": "stream",
          "name": "stdout",
          "text": [
            "########## Epoch 0\n"
          ]
        },
        {
          "output_type": "stream",
          "name": "stderr",
          "text": [
            "100%|██████████| 10/10 [00:00<00:00, 13.93it/s]\n",
            "100%|██████████| 4/4 [00:00<00:00,  8.97it/s]\n"
          ]
        },
        {
          "output_type": "stream",
          "name": "stdout",
          "text": [
            "Train loss: 0.46806615591049194\tVal loss: 0.3845885396003723\tTrain acc: 96.40625\tVal acc: 96.58069349315069\n"
          ]
        },
        {
          "output_type": "stream",
          "name": "stderr",
          "text": [
            "100%|██████████| 2/2 [00:00<00:00,  4.66it/s]\n",
            "100%|██████████| 3/3 [00:00<00:00,  7.20it/s]\n"
          ]
        },
        {
          "output_type": "stream",
          "name": "stdout",
          "text": [
            "########## Epoch 1\n"
          ]
        },
        {
          "output_type": "stream",
          "name": "stderr",
          "text": [
            "100%|██████████| 10/10 [00:00<00:00, 13.37it/s]\n",
            "100%|██████████| 4/4 [00:00<00:00,  9.03it/s]\n"
          ]
        },
        {
          "output_type": "stream",
          "name": "stdout",
          "text": [
            "Train loss: 0.38977888226509094\tVal loss: 0.38133636116981506\tTrain acc: 96.25\tVal acc: 95.3579837328767\n"
          ]
        },
        {
          "output_type": "stream",
          "name": "stderr",
          "text": [
            "100%|██████████| 2/2 [00:00<00:00,  4.74it/s]\n",
            "100%|██████████| 3/3 [00:00<00:00,  7.13it/s]\n"
          ]
        },
        {
          "output_type": "stream",
          "name": "stdout",
          "text": [
            "########## Epoch 2\n"
          ]
        },
        {
          "output_type": "stream",
          "name": "stderr",
          "text": [
            "100%|██████████| 10/10 [00:00<00:00, 13.85it/s]\n",
            "100%|██████████| 4/4 [00:00<00:00,  9.16it/s]\n"
          ]
        },
        {
          "output_type": "stream",
          "name": "stdout",
          "text": [
            "Train loss: 0.31811758875846863\tVal loss: 0.31675755977630615\tTrain acc: 96.09375\tVal acc: 95.79944349315069\n"
          ]
        },
        {
          "output_type": "stream",
          "name": "stderr",
          "text": [
            "100%|██████████| 2/2 [00:00<00:00,  4.72it/s]\n",
            "100%|██████████| 3/3 [00:00<00:00,  6.62it/s]\n"
          ]
        },
        {
          "output_type": "stream",
          "name": "stdout",
          "text": [
            "########## Epoch 3\n"
          ]
        },
        {
          "output_type": "stream",
          "name": "stderr",
          "text": [
            "100%|██████████| 10/10 [00:00<00:00, 13.47it/s]\n",
            "100%|██████████| 4/4 [00:00<00:00,  9.13it/s]\n"
          ]
        },
        {
          "output_type": "stream",
          "name": "stdout",
          "text": [
            "Train loss: 0.28303807973861694\tVal loss: 0.356673926115036\tTrain acc: 95.9375\tVal acc: 94.91919948630137\n"
          ]
        },
        {
          "output_type": "stream",
          "name": "stderr",
          "text": [
            "100%|██████████| 2/2 [00:00<00:00,  4.57it/s]\n",
            "100%|██████████| 3/3 [00:00<00:00,  7.15it/s]\n"
          ]
        },
        {
          "output_type": "stream",
          "name": "stdout",
          "text": [
            "########## Epoch 4\n"
          ]
        },
        {
          "output_type": "stream",
          "name": "stderr",
          "text": [
            "100%|██████████| 10/10 [00:00<00:00, 13.87it/s]\n",
            "100%|██████████| 4/4 [00:00<00:00,  9.16it/s]\n"
          ]
        },
        {
          "output_type": "stream",
          "name": "stdout",
          "text": [
            "Train loss: 0.3401879668235779\tVal loss: 0.27621644735336304\tTrain acc: 94.19270833333334\tVal acc: 95.8984375\n"
          ]
        },
        {
          "output_type": "stream",
          "name": "stderr",
          "text": [
            "100%|██████████| 2/2 [00:00<00:00,  4.72it/s]\n",
            "100%|██████████| 3/3 [00:00<00:00,  6.90it/s]\n"
          ]
        },
        {
          "output_type": "stream",
          "name": "stdout",
          "text": [
            "########## Epoch 5\n"
          ]
        },
        {
          "output_type": "stream",
          "name": "stderr",
          "text": [
            "100%|██████████| 10/10 [00:00<00:00, 13.54it/s]\n",
            "100%|██████████| 4/4 [00:00<00:00,  9.10it/s]\n"
          ]
        },
        {
          "output_type": "stream",
          "name": "stdout",
          "text": [
            "Train loss: 0.21855664253234863\tVal loss: 0.2739468216896057\tTrain acc: 96.25\tVal acc: 95.79944349315069\n"
          ]
        },
        {
          "output_type": "stream",
          "name": "stderr",
          "text": [
            "100%|██████████| 2/2 [00:00<00:00,  4.33it/s]\n",
            "100%|██████████| 3/3 [00:00<00:00,  6.95it/s]\n"
          ]
        },
        {
          "output_type": "stream",
          "name": "stdout",
          "text": [
            "########## Epoch 6\n"
          ]
        },
        {
          "output_type": "stream",
          "name": "stderr",
          "text": [
            "100%|██████████| 10/10 [00:00<00:00, 13.54it/s]\n",
            "100%|██████████| 4/4 [00:00<00:00,  8.85it/s]\n"
          ]
        },
        {
          "output_type": "stream",
          "name": "stdout",
          "text": [
            "Train loss: 0.229444220662117\tVal loss: 0.25001707673072815\tTrain acc: 94.58333333333334\tVal acc: 96.19006849315069\n"
          ]
        },
        {
          "output_type": "stream",
          "name": "stderr",
          "text": [
            "100%|██████████| 2/2 [00:00<00:00,  4.66it/s]\n",
            "100%|██████████| 3/3 [00:00<00:00,  6.88it/s]\n"
          ]
        },
        {
          "output_type": "stream",
          "name": "stdout",
          "text": [
            "########## Epoch 7\n"
          ]
        },
        {
          "output_type": "stream",
          "name": "stderr",
          "text": [
            "100%|██████████| 10/10 [00:00<00:00, 13.53it/s]\n",
            "100%|██████████| 4/4 [00:00<00:00,  9.18it/s]\n"
          ]
        },
        {
          "output_type": "stream",
          "name": "stdout",
          "text": [
            "Train loss: 0.19408784806728363\tVal loss: 0.28575775027275085\tTrain acc: 95.9375\tVal acc: 95.11451198630137\n"
          ]
        },
        {
          "output_type": "stream",
          "name": "stderr",
          "text": [
            "100%|██████████| 2/2 [00:00<00:00,  4.56it/s]\n",
            "100%|██████████| 3/3 [00:00<00:00,  7.37it/s]\n"
          ]
        },
        {
          "output_type": "stream",
          "name": "stdout",
          "text": [
            "########## Epoch 8\n"
          ]
        },
        {
          "output_type": "stream",
          "name": "stderr",
          "text": [
            "100%|██████████| 10/10 [00:00<00:00, 14.05it/s]\n",
            "100%|██████████| 4/4 [00:00<00:00,  8.43it/s]\n"
          ]
        },
        {
          "output_type": "stream",
          "name": "stdout",
          "text": [
            "Train loss: 0.18813425302505493\tVal loss: 0.2625216543674469\tTrain acc: 94.34895833333334\tVal acc: 94.9673587328767\n"
          ]
        },
        {
          "output_type": "stream",
          "name": "stderr",
          "text": [
            "100%|██████████| 2/2 [00:00<00:00,  4.87it/s]\n",
            "100%|██████████| 3/3 [00:00<00:00,  7.20it/s]\n"
          ]
        },
        {
          "output_type": "stream",
          "name": "stdout",
          "text": [
            "########## Epoch 9\n"
          ]
        },
        {
          "output_type": "stream",
          "name": "stderr",
          "text": [
            "100%|██████████| 10/10 [00:00<00:00, 13.67it/s]\n",
            "100%|██████████| 4/4 [00:00<00:00,  8.91it/s]\n"
          ]
        },
        {
          "output_type": "stream",
          "name": "stdout",
          "text": [
            "Train loss: 0.15764234960079193\tVal loss: 0.21985553205013275\tTrain acc: 96.171875\tVal acc: 96.484375\n"
          ]
        },
        {
          "output_type": "stream",
          "name": "stderr",
          "text": [
            "100%|██████████| 2/2 [00:00<00:00,  4.54it/s]\n",
            "100%|██████████| 3/3 [00:00<00:00,  7.30it/s]\n"
          ]
        },
        {
          "output_type": "stream",
          "name": "stdout",
          "text": [
            "########## Epoch 10\n"
          ]
        },
        {
          "output_type": "stream",
          "name": "stderr",
          "text": [
            "100%|██████████| 10/10 [00:00<00:00, 13.25it/s]\n",
            "100%|██████████| 4/4 [00:00<00:00,  8.80it/s]\n"
          ]
        },
        {
          "output_type": "stream",
          "name": "stdout",
          "text": [
            "Train loss: 0.15333864092826843\tVal loss: 0.21915172040462494\tTrain acc: 96.484375\tVal acc: 96.04291523972603\n"
          ]
        },
        {
          "output_type": "stream",
          "name": "stderr",
          "text": [
            "100%|██████████| 2/2 [00:00<00:00,  4.46it/s]\n",
            "100%|██████████| 3/3 [00:00<00:00,  7.22it/s]\n"
          ]
        },
        {
          "output_type": "stream",
          "name": "stdout",
          "text": [
            "########## Epoch 11\n"
          ]
        },
        {
          "output_type": "stream",
          "name": "stderr",
          "text": [
            "100%|██████████| 10/10 [00:00<00:00, 13.71it/s]\n",
            "100%|██████████| 4/4 [00:00<00:00,  9.25it/s]\n"
          ]
        },
        {
          "output_type": "stream",
          "name": "stdout",
          "text": [
            "Train loss: 0.14880535006523132\tVal loss: 0.20335102081298828\tTrain acc: 96.5625\tVal acc: 96.484375\n"
          ]
        },
        {
          "output_type": "stream",
          "name": "stderr",
          "text": [
            "100%|██████████| 2/2 [00:00<00:00,  4.65it/s]\n",
            "100%|██████████| 3/3 [00:00<00:00,  7.19it/s]\n"
          ]
        },
        {
          "output_type": "stream",
          "name": "stdout",
          "text": [
            "########## Epoch 12\n"
          ]
        },
        {
          "output_type": "stream",
          "name": "stderr",
          "text": [
            "100%|██████████| 10/10 [00:00<00:00, 13.88it/s]\n",
            "100%|██████████| 4/4 [00:00<00:00,  8.91it/s]\n"
          ]
        },
        {
          "output_type": "stream",
          "name": "stdout",
          "text": [
            "Train loss: 0.1476600170135498\tVal loss: 0.22729960083961487\tTrain acc: 95.13020833333334\tVal acc: 95.89576198630137\n"
          ]
        },
        {
          "output_type": "stream",
          "name": "stderr",
          "text": [
            "100%|██████████| 2/2 [00:00<00:00,  4.70it/s]\n",
            "100%|██████████| 3/3 [00:00<00:00,  7.40it/s]\n"
          ]
        },
        {
          "output_type": "stream",
          "name": "stdout",
          "text": [
            "########## Epoch 13\n"
          ]
        },
        {
          "output_type": "stream",
          "name": "stderr",
          "text": [
            "100%|██████████| 10/10 [00:00<00:00, 13.92it/s]\n",
            "100%|██████████| 4/4 [00:00<00:00,  8.89it/s]\n"
          ]
        },
        {
          "output_type": "stream",
          "name": "stdout",
          "text": [
            "Train loss: 0.13307242095470428\tVal loss: 0.22491000592708588\tTrain acc: 96.953125\tVal acc: 96.04291523972603\n"
          ]
        },
        {
          "output_type": "stream",
          "name": "stderr",
          "text": [
            "100%|██████████| 2/2 [00:00<00:00,  4.64it/s]\n",
            "100%|██████████| 3/3 [00:00<00:00,  7.20it/s]\n"
          ]
        },
        {
          "output_type": "stream",
          "name": "stdout",
          "text": [
            "########## Epoch 14\n"
          ]
        },
        {
          "output_type": "stream",
          "name": "stderr",
          "text": [
            "100%|██████████| 10/10 [00:00<00:00, 13.59it/s]\n",
            "100%|██████████| 4/4 [00:00<00:00,  9.27it/s]\n"
          ]
        },
        {
          "output_type": "stream",
          "name": "stdout",
          "text": [
            "Train loss: 0.19995050132274628\tVal loss: 0.24983341991901398\tTrain acc: 95.13020833333334\tVal acc: 95.7486087328767\n"
          ]
        },
        {
          "output_type": "stream",
          "name": "stderr",
          "text": [
            "100%|██████████| 2/2 [00:00<00:00,  4.61it/s]\n",
            "100%|██████████| 3/3 [00:00<00:00,  7.03it/s]\n"
          ]
        },
        {
          "output_type": "stream",
          "name": "stdout",
          "text": [
            "########## Epoch 15\n"
          ]
        },
        {
          "output_type": "stream",
          "name": "stderr",
          "text": [
            "100%|██████████| 10/10 [00:00<00:00, 13.14it/s]\n",
            "100%|██████████| 4/4 [00:00<00:00,  8.86it/s]\n"
          ]
        },
        {
          "output_type": "stream",
          "name": "stdout",
          "text": [
            "Train loss: 0.2127741575241089\tVal loss: 0.20758318901062012\tTrain acc: 95.05208333333334\tVal acc: 95.65229023972603\n"
          ]
        },
        {
          "output_type": "stream",
          "name": "stderr",
          "text": [
            "100%|██████████| 2/2 [00:00<00:00,  4.64it/s]\n",
            "100%|██████████| 3/3 [00:00<00:00,  7.03it/s]\n"
          ]
        },
        {
          "output_type": "stream",
          "name": "stdout",
          "text": [
            "########## Epoch 16\n"
          ]
        },
        {
          "output_type": "stream",
          "name": "stderr",
          "text": [
            "100%|██████████| 10/10 [00:00<00:00, 13.31it/s]\n",
            "100%|██████████| 4/4 [00:00<00:00,  9.18it/s]\n"
          ]
        },
        {
          "output_type": "stream",
          "name": "stdout",
          "text": [
            "Train loss: 0.12221481651067734\tVal loss: 0.227922722697258\tTrain acc: 96.5625\tVal acc: 95.50513698630137\n"
          ]
        },
        {
          "output_type": "stream",
          "name": "stderr",
          "text": [
            "100%|██████████| 2/2 [00:00<00:00,  4.61it/s]\n",
            "100%|██████████| 3/3 [00:00<00:00,  6.93it/s]\n"
          ]
        },
        {
          "output_type": "stream",
          "name": "stdout",
          "text": [
            "########## Epoch 17\n"
          ]
        },
        {
          "output_type": "stream",
          "name": "stderr",
          "text": [
            "100%|██████████| 10/10 [00:00<00:00, 13.24it/s]\n",
            "100%|██████████| 4/4 [00:00<00:00,  8.99it/s]\n"
          ]
        },
        {
          "output_type": "stream",
          "name": "stdout",
          "text": [
            "Train loss: 0.1178772896528244\tVal loss: 0.1910739243030548\tTrain acc: 96.484375\tVal acc: 96.09375\n"
          ]
        },
        {
          "output_type": "stream",
          "name": "stderr",
          "text": [
            "100%|██████████| 2/2 [00:00<00:00,  4.74it/s]\n",
            "100%|██████████| 3/3 [00:00<00:00,  7.02it/s]\n"
          ]
        },
        {
          "output_type": "stream",
          "name": "stdout",
          "text": [
            "########## Epoch 18\n"
          ]
        },
        {
          "output_type": "stream",
          "name": "stderr",
          "text": [
            "100%|██████████| 10/10 [00:00<00:00, 13.21it/s]\n",
            "100%|██████████| 4/4 [00:00<00:00,  9.29it/s]\n"
          ]
        },
        {
          "output_type": "stream",
          "name": "stdout",
          "text": [
            "Train loss: 0.11136847734451294\tVal loss: 0.20393143594264984\tTrain acc: 97.03125\tVal acc: 96.04291523972603\n"
          ]
        },
        {
          "output_type": "stream",
          "name": "stderr",
          "text": [
            "100%|██████████| 2/2 [00:00<00:00,  4.38it/s]\n",
            "100%|██████████| 3/3 [00:00<00:00,  7.07it/s]\n"
          ]
        },
        {
          "output_type": "stream",
          "name": "stdout",
          "text": [
            "########## Epoch 19\n"
          ]
        },
        {
          "output_type": "stream",
          "name": "stderr",
          "text": [
            "100%|██████████| 10/10 [00:00<00:00, 13.45it/s]\n",
            "100%|██████████| 4/4 [00:00<00:00,  9.00it/s]\n"
          ]
        },
        {
          "output_type": "stream",
          "name": "stdout",
          "text": [
            "Train loss: 0.1431851089000702\tVal loss: 0.17609059810638428\tTrain acc: 95.44270833333334\tVal acc: 96.72784674657534\n"
          ]
        },
        {
          "output_type": "stream",
          "name": "stderr",
          "text": [
            "100%|██████████| 2/2 [00:00<00:00,  4.70it/s]\n",
            "100%|██████████| 3/3 [00:00<00:00,  6.63it/s]\n"
          ]
        },
        {
          "output_type": "stream",
          "name": "stdout",
          "text": [
            "########## Epoch 20\n"
          ]
        },
        {
          "output_type": "stream",
          "name": "stderr",
          "text": [
            "100%|██████████| 10/10 [00:00<00:00, 13.20it/s]\n",
            "100%|██████████| 4/4 [00:00<00:00,  8.98it/s]\n"
          ]
        },
        {
          "output_type": "stream",
          "name": "stdout",
          "text": [
            "Train loss: 0.1046510711312294\tVal loss: 0.17836348712444305\tTrain acc: 97.109375\tVal acc: 96.43354023972603\n"
          ]
        },
        {
          "output_type": "stream",
          "name": "stderr",
          "text": [
            "100%|██████████| 2/2 [00:00<00:00,  4.60it/s]\n",
            "100%|██████████| 3/3 [00:00<00:00,  6.85it/s]\n"
          ]
        },
        {
          "output_type": "stream",
          "name": "stdout",
          "text": [
            "########## Epoch 21\n"
          ]
        },
        {
          "output_type": "stream",
          "name": "stderr",
          "text": [
            "100%|██████████| 10/10 [00:00<00:00, 13.79it/s]\n",
            "100%|██████████| 4/4 [00:00<00:00,  8.82it/s]\n"
          ]
        },
        {
          "output_type": "stream",
          "name": "stdout",
          "text": [
            "Train loss: 0.10026266425848007\tVal loss: 0.17607802152633667\tTrain acc: 97.109375\tVal acc: 96.58069349315069\n"
          ]
        },
        {
          "output_type": "stream",
          "name": "stderr",
          "text": [
            "100%|██████████| 2/2 [00:00<00:00,  4.63it/s]\n",
            "100%|██████████| 3/3 [00:00<00:00,  7.21it/s]\n"
          ]
        },
        {
          "output_type": "stream",
          "name": "stdout",
          "text": [
            "########## Epoch 22\n"
          ]
        },
        {
          "output_type": "stream",
          "name": "stderr",
          "text": [
            "100%|██████████| 10/10 [00:00<00:00, 13.54it/s]\n",
            "100%|██████████| 4/4 [00:00<00:00,  9.12it/s]\n"
          ]
        },
        {
          "output_type": "stream",
          "name": "stdout",
          "text": [
            "Train loss: 0.10262028872966766\tVal loss: 0.1819521188735962\tTrain acc: 97.265625\tVal acc: 96.58069349315069\n"
          ]
        },
        {
          "output_type": "stream",
          "name": "stderr",
          "text": [
            "100%|██████████| 2/2 [00:00<00:00,  4.60it/s]\n",
            "100%|██████████| 3/3 [00:00<00:00,  6.95it/s]\n"
          ]
        },
        {
          "output_type": "stream",
          "name": "stdout",
          "text": [
            "########## Epoch 23\n"
          ]
        },
        {
          "output_type": "stream",
          "name": "stderr",
          "text": [
            "100%|██████████| 10/10 [00:00<00:00, 13.39it/s]\n",
            "100%|██████████| 4/4 [00:00<00:00,  9.04it/s]\n"
          ]
        },
        {
          "output_type": "stream",
          "name": "stdout",
          "text": [
            "Train loss: 0.10078847408294678\tVal loss: 0.21022236347198486\tTrain acc: 97.03125\tVal acc: 95.99208047945206\n"
          ]
        },
        {
          "output_type": "stream",
          "name": "stderr",
          "text": [
            "100%|██████████| 2/2 [00:00<00:00,  4.45it/s]\n",
            "100%|██████████| 3/3 [00:00<00:00,  7.10it/s]\n"
          ]
        },
        {
          "output_type": "stream",
          "name": "stdout",
          "text": [
            "########## Epoch 24\n"
          ]
        },
        {
          "output_type": "stream",
          "name": "stderr",
          "text": [
            "100%|██████████| 10/10 [00:00<00:00, 13.42it/s]\n",
            "100%|██████████| 4/4 [00:00<00:00,  8.78it/s]\n"
          ]
        },
        {
          "output_type": "stream",
          "name": "stdout",
          "text": [
            "Train loss: 0.09905461966991425\tVal loss: 0.17489692568778992\tTrain acc: 97.265625\tVal acc: 96.43354023972603\n"
          ]
        },
        {
          "output_type": "stream",
          "name": "stderr",
          "text": [
            "100%|██████████| 2/2 [00:00<00:00,  4.64it/s]\n",
            "100%|██████████| 3/3 [00:00<00:00,  7.16it/s]\n"
          ]
        },
        {
          "output_type": "stream",
          "name": "stdout",
          "text": [
            "########## Epoch 0\n"
          ]
        },
        {
          "output_type": "stream",
          "name": "stderr",
          "text": [
            "100%|██████████| 6/6 [00:00<00:00,  9.52it/s]\n",
            "100%|██████████| 5/5 [00:00<00:00, 10.33it/s]\n"
          ]
        },
        {
          "output_type": "stream",
          "name": "stdout",
          "text": [
            "Train loss: 11.57323169708252\tVal loss: 2.7772834300994873\tTrain acc: 0.0\tVal acc: 70.06696428571429\n"
          ]
        },
        {
          "output_type": "stream",
          "name": "stderr",
          "text": [
            "100%|██████████| 2/2 [00:00<00:00,  4.53it/s]\n",
            "100%|██████████| 3/3 [00:00<00:00,  7.09it/s]\n",
            "100%|██████████| 2/2 [00:00<00:00,  4.86it/s]\n"
          ]
        },
        {
          "output_type": "stream",
          "name": "stdout",
          "text": [
            "########## Epoch 1\n"
          ]
        },
        {
          "output_type": "stream",
          "name": "stderr",
          "text": [
            "100%|██████████| 6/6 [00:00<00:00, 10.07it/s]\n",
            "100%|██████████| 5/5 [00:00<00:00, 10.42it/s]\n"
          ]
        },
        {
          "output_type": "stream",
          "name": "stdout",
          "text": [
            "Train loss: 8.711457252502441\tVal loss: 2.1196327209472656\tTrain acc: 0.0\tVal acc: 68.05803571428571\n"
          ]
        },
        {
          "output_type": "stream",
          "name": "stderr",
          "text": [
            "100%|██████████| 2/2 [00:00<00:00,  4.68it/s]\n",
            "100%|██████████| 3/3 [00:00<00:00,  7.19it/s]\n",
            "100%|██████████| 2/2 [00:00<00:00,  4.94it/s]\n"
          ]
        },
        {
          "output_type": "stream",
          "name": "stdout",
          "text": [
            "########## Epoch 2\n"
          ]
        },
        {
          "output_type": "stream",
          "name": "stderr",
          "text": [
            "100%|██████████| 6/6 [00:00<00:00,  9.90it/s]\n",
            "100%|██████████| 5/5 [00:00<00:00, 10.46it/s]\n"
          ]
        },
        {
          "output_type": "stream",
          "name": "stdout",
          "text": [
            "Train loss: 6.318136215209961\tVal loss: 1.7108688354492188\tTrain acc: 0.0\tVal acc: 63.41517857142858\n"
          ]
        },
        {
          "output_type": "stream",
          "name": "stderr",
          "text": [
            "100%|██████████| 2/2 [00:00<00:00,  4.69it/s]\n",
            "100%|██████████| 3/3 [00:00<00:00,  6.70it/s]\n",
            "100%|██████████| 2/2 [00:00<00:00,  4.68it/s]\n"
          ]
        },
        {
          "output_type": "stream",
          "name": "stdout",
          "text": [
            "########## Epoch 3\n"
          ]
        },
        {
          "output_type": "stream",
          "name": "stderr",
          "text": [
            "100%|██████████| 6/6 [00:00<00:00, 10.29it/s]\n",
            "100%|██████████| 5/5 [00:00<00:00, 11.42it/s]\n"
          ]
        },
        {
          "output_type": "stream",
          "name": "stdout",
          "text": [
            "Train loss: 4.690232276916504\tVal loss: 1.5502363443374634\tTrain acc: 0.0\tVal acc: 53.99553571428571\n"
          ]
        },
        {
          "output_type": "stream",
          "name": "stderr",
          "text": [
            "100%|██████████| 2/2 [00:00<00:00,  4.62it/s]\n",
            "100%|██████████| 3/3 [00:00<00:00,  7.04it/s]\n",
            "100%|██████████| 2/2 [00:00<00:00,  4.81it/s]\n"
          ]
        },
        {
          "output_type": "stream",
          "name": "stdout",
          "text": [
            "########## Epoch 4\n"
          ]
        },
        {
          "output_type": "stream",
          "name": "stderr",
          "text": [
            "100%|██████████| 6/6 [00:00<00:00, 10.01it/s]\n",
            "100%|██████████| 5/5 [00:00<00:00, 11.12it/s]\n"
          ]
        },
        {
          "output_type": "stream",
          "name": "stdout",
          "text": [
            "Train loss: 3.479534149169922\tVal loss: 1.4765727519989014\tTrain acc: 0.0\tVal acc: 44.39732142857143\n"
          ]
        },
        {
          "output_type": "stream",
          "name": "stderr",
          "text": [
            "100%|██████████| 2/2 [00:00<00:00,  4.75it/s]\n",
            "100%|██████████| 3/3 [00:00<00:00,  7.06it/s]\n",
            "100%|██████████| 2/2 [00:00<00:00,  4.66it/s]\n"
          ]
        },
        {
          "output_type": "stream",
          "name": "stdout",
          "text": [
            "########## Epoch 5\n"
          ]
        },
        {
          "output_type": "stream",
          "name": "stderr",
          "text": [
            "100%|██████████| 6/6 [00:00<00:00, 10.03it/s]\n",
            "100%|██████████| 5/5 [00:00<00:00, 11.10it/s]\n"
          ]
        },
        {
          "output_type": "stream",
          "name": "stdout",
          "text": [
            "Train loss: 2.5298540592193604\tVal loss: 1.4996325969696045\tTrain acc: 0.2777777777777778\tVal acc: 38.99553571428571\n"
          ]
        },
        {
          "output_type": "stream",
          "name": "stderr",
          "text": [
            "100%|██████████| 2/2 [00:00<00:00,  4.66it/s]\n",
            "100%|██████████| 3/3 [00:00<00:00,  7.04it/s]\n",
            "100%|██████████| 2/2 [00:00<00:00,  4.80it/s]\n"
          ]
        },
        {
          "output_type": "stream",
          "name": "stdout",
          "text": [
            "########## Epoch 6\n"
          ]
        },
        {
          "output_type": "stream",
          "name": "stderr",
          "text": [
            "100%|██████████| 6/6 [00:00<00:00,  9.99it/s]\n",
            "100%|██████████| 5/5 [00:00<00:00, 11.25it/s]\n"
          ]
        },
        {
          "output_type": "stream",
          "name": "stdout",
          "text": [
            "Train loss: 1.8001903295516968\tVal loss: 1.7180633544921875\tTrain acc: 16.05034722222222\tVal acc: 24.620535714285715\n"
          ]
        },
        {
          "output_type": "stream",
          "name": "stderr",
          "text": [
            "100%|██████████| 2/2 [00:00<00:00,  4.71it/s]\n",
            "100%|██████████| 3/3 [00:00<00:00,  6.88it/s]\n",
            "100%|██████████| 2/2 [00:00<00:00,  4.96it/s]\n"
          ]
        },
        {
          "output_type": "stream",
          "name": "stdout",
          "text": [
            "########## Epoch 7\n"
          ]
        },
        {
          "output_type": "stream",
          "name": "stderr",
          "text": [
            "100%|██████████| 6/6 [00:00<00:00,  9.26it/s]\n",
            "100%|██████████| 5/5 [00:00<00:00, 10.48it/s]\n"
          ]
        },
        {
          "output_type": "stream",
          "name": "stdout",
          "text": [
            "Train loss: 1.3020224571228027\tVal loss: 2.1510980129241943\tTrain acc: 36.81423611111111\tVal acc: 18.90625\n"
          ]
        },
        {
          "output_type": "stream",
          "name": "stderr",
          "text": [
            "100%|██████████| 2/2 [00:00<00:00,  4.69it/s]\n",
            "100%|██████████| 3/3 [00:00<00:00,  6.99it/s]\n",
            "100%|██████████| 2/2 [00:00<00:00,  4.80it/s]\n"
          ]
        },
        {
          "output_type": "stream",
          "name": "stdout",
          "text": [
            "########## Epoch 8\n"
          ]
        },
        {
          "output_type": "stream",
          "name": "stderr",
          "text": [
            "100%|██████████| 6/6 [00:00<00:00, 10.09it/s]\n",
            "100%|██████████| 5/5 [00:00<00:00, 10.76it/s]\n"
          ]
        },
        {
          "output_type": "stream",
          "name": "stdout",
          "text": [
            "Train loss: 1.0045064687728882\tVal loss: 2.683488130569458\tTrain acc: 44.661458333333336\tVal acc: 16.584821428571427\n"
          ]
        },
        {
          "output_type": "stream",
          "name": "stderr",
          "text": [
            "100%|██████████| 2/2 [00:00<00:00,  4.66it/s]\n",
            "100%|██████████| 3/3 [00:00<00:00,  6.89it/s]\n",
            "100%|██████████| 2/2 [00:00<00:00,  4.91it/s]\n"
          ]
        },
        {
          "output_type": "stream",
          "name": "stdout",
          "text": [
            "########## Epoch 9\n"
          ]
        },
        {
          "output_type": "stream",
          "name": "stderr",
          "text": [
            "100%|██████████| 6/6 [00:00<00:00,  9.54it/s]\n",
            "100%|██████████| 5/5 [00:00<00:00, 10.23it/s]\n"
          ]
        },
        {
          "output_type": "stream",
          "name": "stdout",
          "text": [
            "Train loss: 0.8572568297386169\tVal loss: 3.2069640159606934\tTrain acc: 50.59027777777778\tVal acc: 16.607142857142858\n"
          ]
        },
        {
          "output_type": "stream",
          "name": "stderr",
          "text": [
            "100%|██████████| 2/2 [00:00<00:00,  4.71it/s]\n",
            "100%|██████████| 3/3 [00:00<00:00,  6.86it/s]\n",
            "100%|██████████| 2/2 [00:00<00:00,  4.50it/s]\n"
          ]
        },
        {
          "output_type": "stream",
          "name": "stdout",
          "text": [
            "########## Epoch 10\n"
          ]
        },
        {
          "output_type": "stream",
          "name": "stderr",
          "text": [
            "100%|██████████| 6/6 [00:00<00:00, 10.08it/s]\n",
            "100%|██████████| 5/5 [00:00<00:00, 10.86it/s]\n"
          ]
        },
        {
          "output_type": "stream",
          "name": "stdout",
          "text": [
            "Train loss: 0.7847857475280762\tVal loss: 3.638608932495117\tTrain acc: 52.02256944444445\tVal acc: 16.428571428571427\n"
          ]
        },
        {
          "output_type": "stream",
          "name": "stderr",
          "text": [
            "100%|██████████| 2/2 [00:00<00:00,  4.58it/s]\n",
            "100%|██████████| 3/3 [00:00<00:00,  7.04it/s]\n",
            "100%|██████████| 2/2 [00:00<00:00,  4.65it/s]\n"
          ]
        },
        {
          "output_type": "stream",
          "name": "stdout",
          "text": [
            "########## Epoch 11\n"
          ]
        },
        {
          "output_type": "stream",
          "name": "stderr",
          "text": [
            "100%|██████████| 6/6 [00:00<00:00,  9.86it/s]\n",
            "100%|██████████| 5/5 [00:00<00:00, 11.00it/s]\n"
          ]
        },
        {
          "output_type": "stream",
          "name": "stdout",
          "text": [
            "Train loss: 0.7459406852722168\tVal loss: 4.002593517303467\tTrain acc: 54.28819444444445\tVal acc: 15.245535714285714\n"
          ]
        },
        {
          "output_type": "stream",
          "name": "stderr",
          "text": [
            "100%|██████████| 2/2 [00:00<00:00,  4.51it/s]\n",
            "100%|██████████| 3/3 [00:00<00:00,  6.51it/s]\n",
            "100%|██████████| 2/2 [00:00<00:00,  4.73it/s]\n"
          ]
        },
        {
          "output_type": "stream",
          "name": "stdout",
          "text": [
            "########## Epoch 12\n"
          ]
        },
        {
          "output_type": "stream",
          "name": "stderr",
          "text": [
            "100%|██████████| 6/6 [00:00<00:00,  9.42it/s]\n",
            "100%|██████████| 5/5 [00:00<00:00, 11.25it/s]\n"
          ]
        },
        {
          "output_type": "stream",
          "name": "stdout",
          "text": [
            "Train loss: 0.7285603880882263\tVal loss: 4.2924323081970215\tTrain acc: 54.88715277777778\tVal acc: 13.616071428571427\n"
          ]
        },
        {
          "output_type": "stream",
          "name": "stderr",
          "text": [
            "100%|██████████| 2/2 [00:00<00:00,  4.66it/s]\n",
            "100%|██████████| 3/3 [00:00<00:00,  6.57it/s]\n",
            "100%|██████████| 2/2 [00:00<00:00,  4.70it/s]\n"
          ]
        },
        {
          "output_type": "stream",
          "name": "stdout",
          "text": [
            "########## Epoch 13\n"
          ]
        },
        {
          "output_type": "stream",
          "name": "stderr",
          "text": [
            "100%|██████████| 6/6 [00:00<00:00, 10.18it/s]\n",
            "100%|██████████| 5/5 [00:00<00:00, 10.58it/s]\n"
          ]
        },
        {
          "output_type": "stream",
          "name": "stdout",
          "text": [
            "Train loss: 0.7143387794494629\tVal loss: 4.503502368927002\tTrain acc: 54.73090277777778\tVal acc: 12.165178571428573\n"
          ]
        },
        {
          "output_type": "stream",
          "name": "stderr",
          "text": [
            "100%|██████████| 2/2 [00:00<00:00,  4.71it/s]\n",
            "100%|██████████| 3/3 [00:00<00:00,  6.75it/s]\n",
            "100%|██████████| 2/2 [00:00<00:00,  4.65it/s]\n"
          ]
        },
        {
          "output_type": "stream",
          "name": "stdout",
          "text": [
            "########## Epoch 14\n"
          ]
        },
        {
          "output_type": "stream",
          "name": "stderr",
          "text": [
            "100%|██████████| 6/6 [00:00<00:00,  9.83it/s]\n",
            "100%|██████████| 5/5 [00:00<00:00, 10.57it/s]\n"
          ]
        },
        {
          "output_type": "stream",
          "name": "stdout",
          "text": [
            "Train loss: 0.7122623920440674\tVal loss: 4.68474817276001\tTrain acc: 52.97743055555555\tVal acc: 12.254464285714286\n"
          ]
        },
        {
          "output_type": "stream",
          "name": "stderr",
          "text": [
            "100%|██████████| 2/2 [00:00<00:00,  4.79it/s]\n",
            "100%|██████████| 3/3 [00:00<00:00,  6.89it/s]\n",
            "100%|██████████| 2/2 [00:00<00:00,  4.84it/s]\n"
          ]
        },
        {
          "output_type": "stream",
          "name": "stdout",
          "text": [
            "########## Epoch 15\n"
          ]
        },
        {
          "output_type": "stream",
          "name": "stderr",
          "text": [
            "100%|██████████| 6/6 [00:00<00:00, 10.02it/s]\n",
            "100%|██████████| 5/5 [00:00<00:00, 11.07it/s]\n"
          ]
        },
        {
          "output_type": "stream",
          "name": "stdout",
          "text": [
            "Train loss: 0.7070407867431641\tVal loss: 4.7898359298706055\tTrain acc: 54.817708333333336\tVal acc: 14.53125\n"
          ]
        },
        {
          "output_type": "stream",
          "name": "stderr",
          "text": [
            "100%|██████████| 2/2 [00:00<00:00,  4.45it/s]\n",
            "100%|██████████| 3/3 [00:00<00:00,  7.04it/s]\n",
            "100%|██████████| 2/2 [00:00<00:00,  4.67it/s]\n"
          ]
        },
        {
          "output_type": "stream",
          "name": "stdout",
          "text": [
            "########## Epoch 16\n"
          ]
        },
        {
          "output_type": "stream",
          "name": "stderr",
          "text": [
            "100%|██████████| 6/6 [00:00<00:00, 10.05it/s]\n",
            "100%|██████████| 5/5 [00:00<00:00, 10.32it/s]\n"
          ]
        },
        {
          "output_type": "stream",
          "name": "stdout",
          "text": [
            "Train loss: 0.7019758820533752\tVal loss: 4.9185967445373535\tTrain acc: 53.36805555555555\tVal acc: 14.285714285714286\n"
          ]
        },
        {
          "output_type": "stream",
          "name": "stderr",
          "text": [
            "100%|██████████| 2/2 [00:00<00:00,  4.56it/s]\n",
            "100%|██████████| 3/3 [00:00<00:00,  6.92it/s]\n",
            "100%|██████████| 2/2 [00:00<00:00,  4.65it/s]\n"
          ]
        },
        {
          "output_type": "stream",
          "name": "stdout",
          "text": [
            "########## Epoch 17\n"
          ]
        },
        {
          "output_type": "stream",
          "name": "stderr",
          "text": [
            "100%|██████████| 6/6 [00:00<00:00,  9.59it/s]\n",
            "100%|██████████| 5/5 [00:00<00:00, 10.95it/s]\n"
          ]
        },
        {
          "output_type": "stream",
          "name": "stdout",
          "text": [
            "Train loss: 0.7053372263908386\tVal loss: 5.027362823486328\tTrain acc: 52.421875\tVal acc: 13.90625\n"
          ]
        },
        {
          "output_type": "stream",
          "name": "stderr",
          "text": [
            "100%|██████████| 2/2 [00:00<00:00,  4.79it/s]\n",
            "100%|██████████| 3/3 [00:00<00:00,  6.84it/s]\n",
            "100%|██████████| 2/2 [00:00<00:00,  4.87it/s]\n"
          ]
        },
        {
          "output_type": "stream",
          "name": "stdout",
          "text": [
            "########## Epoch 18\n"
          ]
        },
        {
          "output_type": "stream",
          "name": "stderr",
          "text": [
            "100%|██████████| 6/6 [00:00<00:00,  9.62it/s]\n",
            "100%|██████████| 5/5 [00:00<00:00, 10.93it/s]\n"
          ]
        },
        {
          "output_type": "stream",
          "name": "stdout",
          "text": [
            "Train loss: 0.7009217143058777\tVal loss: 5.114192485809326\tTrain acc: 54.17534722222222\tVal acc: 15.022321428571427\n"
          ]
        },
        {
          "output_type": "stream",
          "name": "stderr",
          "text": [
            "100%|██████████| 2/2 [00:00<00:00,  4.50it/s]\n",
            "100%|██████████| 3/3 [00:00<00:00,  7.24it/s]\n",
            "100%|██████████| 2/2 [00:00<00:00,  4.43it/s]\n"
          ]
        },
        {
          "output_type": "stream",
          "name": "stdout",
          "text": [
            "########## Epoch 19\n"
          ]
        },
        {
          "output_type": "stream",
          "name": "stderr",
          "text": [
            "100%|██████████| 6/6 [00:00<00:00, 10.19it/s]\n",
            "100%|██████████| 5/5 [00:00<00:00, 11.01it/s]\n"
          ]
        },
        {
          "output_type": "stream",
          "name": "stdout",
          "text": [
            "Train loss: 0.6964848041534424\tVal loss: 5.178128719329834\tTrain acc: 52.65625\tVal acc: 14.84375\n"
          ]
        },
        {
          "output_type": "stream",
          "name": "stderr",
          "text": [
            "100%|██████████| 2/2 [00:00<00:00,  4.78it/s]\n",
            "100%|██████████| 3/3 [00:00<00:00,  6.78it/s]\n",
            "100%|██████████| 2/2 [00:00<00:00,  4.89it/s]\n"
          ]
        },
        {
          "output_type": "stream",
          "name": "stdout",
          "text": [
            "########## Epoch 20\n"
          ]
        },
        {
          "output_type": "stream",
          "name": "stderr",
          "text": [
            "100%|██████████| 6/6 [00:00<00:00,  9.64it/s]\n",
            "100%|██████████| 5/5 [00:00<00:00, 10.68it/s]\n"
          ]
        },
        {
          "output_type": "stream",
          "name": "stdout",
          "text": [
            "Train loss: 0.697333037853241\tVal loss: 5.245842933654785\tTrain acc: 52.56944444444445\tVal acc: 14.0625\n"
          ]
        },
        {
          "output_type": "stream",
          "name": "stderr",
          "text": [
            "100%|██████████| 2/2 [00:00<00:00,  4.56it/s]\n",
            "100%|██████████| 3/3 [00:00<00:00,  6.72it/s]\n",
            "100%|██████████| 2/2 [00:00<00:00,  4.69it/s]\n"
          ]
        },
        {
          "output_type": "stream",
          "name": "stdout",
          "text": [
            "########## Epoch 21\n"
          ]
        },
        {
          "output_type": "stream",
          "name": "stderr",
          "text": [
            "100%|██████████| 6/6 [00:00<00:00,  9.86it/s]\n",
            "100%|██████████| 5/5 [00:00<00:00, 10.47it/s]\n"
          ]
        },
        {
          "output_type": "stream",
          "name": "stdout",
          "text": [
            "Train loss: 0.6952886581420898\tVal loss: 5.319969177246094\tTrain acc: 55.85069444444445\tVal acc: 14.508928571428573\n"
          ]
        },
        {
          "output_type": "stream",
          "name": "stderr",
          "text": [
            "100%|██████████| 2/2 [00:00<00:00,  4.51it/s]\n",
            "100%|██████████| 3/3 [00:00<00:00,  6.73it/s]\n",
            "100%|██████████| 2/2 [00:00<00:00,  4.72it/s]\n"
          ]
        },
        {
          "output_type": "stream",
          "name": "stdout",
          "text": [
            "########## Epoch 22\n"
          ]
        },
        {
          "output_type": "stream",
          "name": "stderr",
          "text": [
            "100%|██████████| 6/6 [00:00<00:00,  9.96it/s]\n",
            "100%|██████████| 5/5 [00:00<00:00, 10.52it/s]\n"
          ]
        },
        {
          "output_type": "stream",
          "name": "stdout",
          "text": [
            "Train loss: 0.6903910040855408\tVal loss: 5.377142906188965\tTrain acc: 57.10069444444445\tVal acc: 14.241071428571427\n"
          ]
        },
        {
          "output_type": "stream",
          "name": "stderr",
          "text": [
            "100%|██████████| 2/2 [00:00<00:00,  4.51it/s]\n",
            "100%|██████████| 3/3 [00:00<00:00,  6.75it/s]\n",
            "100%|██████████| 2/2 [00:00<00:00,  4.72it/s]\n"
          ]
        },
        {
          "output_type": "stream",
          "name": "stdout",
          "text": [
            "########## Epoch 23\n"
          ]
        },
        {
          "output_type": "stream",
          "name": "stderr",
          "text": [
            "100%|██████████| 6/6 [00:00<00:00,  9.92it/s]\n",
            "100%|██████████| 5/5 [00:00<00:00, 10.74it/s]\n"
          ]
        },
        {
          "output_type": "stream",
          "name": "stdout",
          "text": [
            "Train loss: 0.6967050433158875\tVal loss: 5.441922187805176\tTrain acc: 53.48090277777778\tVal acc: 14.598214285714286\n"
          ]
        },
        {
          "output_type": "stream",
          "name": "stderr",
          "text": [
            "100%|██████████| 2/2 [00:00<00:00,  4.69it/s]\n",
            "100%|██████████| 3/3 [00:00<00:00,  6.94it/s]\n",
            "100%|██████████| 2/2 [00:00<00:00,  4.67it/s]\n"
          ]
        },
        {
          "output_type": "stream",
          "name": "stdout",
          "text": [
            "########## Epoch 24\n"
          ]
        },
        {
          "output_type": "stream",
          "name": "stderr",
          "text": [
            "100%|██████████| 6/6 [00:00<00:00,  9.74it/s]\n",
            "100%|██████████| 5/5 [00:00<00:00, 10.39it/s]\n"
          ]
        },
        {
          "output_type": "stream",
          "name": "stdout",
          "text": [
            "Train loss: 0.6933801174163818\tVal loss: 5.486294746398926\tTrain acc: 56.31944444444445\tVal acc: 14.419642857142858\n"
          ]
        },
        {
          "output_type": "stream",
          "name": "stderr",
          "text": [
            "100%|██████████| 2/2 [00:00<00:00,  4.34it/s]\n",
            "100%|██████████| 3/3 [00:00<00:00,  6.96it/s]\n",
            "100%|██████████| 2/2 [00:00<00:00,  4.56it/s]\n"
          ]
        },
        {
          "output_type": "display_data",
          "data": {
            "text/plain": [
              "<IPython.core.display.HTML object>"
            ],
            "text/html": [
              "Waiting for W&B process to finish... <strong style=\"color:green\">(success).</strong>"
            ]
          },
          "metadata": {}
        },
        {
          "output_type": "display_data",
          "data": {
            "text/plain": [
              "VBox(children=(Label(value='0.000 MB of 0.000 MB uploaded (0.000 MB deduped)\\r'), FloatProgress(value=1.0, max…"
            ],
            "application/vnd.jupyter.widget-view+json": {
              "version_major": 2,
              "version_minor": 0,
              "model_id": "2f13080918034350939cf36820379982"
            }
          },
          "metadata": {}
        },
        {
          "output_type": "display_data",
          "data": {
            "text/plain": [
              "<IPython.core.display.HTML object>"
            ],
            "text/html": [
              "<style>\n",
              "    table.wandb td:nth-child(1) { padding: 0 10px; text-align: left ; width: auto;} td:nth-child(2) {text-align: left ; width: 100%}\n",
              "    .wandb-row { display: flex; flex-direction: row; flex-wrap: wrap; justify-content: flex-start; width: 100% }\n",
              "    .wandb-col { display: flex; flex-direction: column; flex-basis: 100%; flex: 1; padding: 10px; }\n",
              "    </style>\n",
              "<div class=\"wandb-row\"><div class=\"wandb-col\"><h3>Run history:</h3><br/><table class=\"wandb\"><tr><td>task_0_prevtask_0_val_acc</td><td>▁█▇▇▇█▇▇▇▇██▇█▇█▇▇▇██████</td></tr><tr><td>task_0_prevtask_0_val_loss</td><td>█▂▅▃▁▁▂▃▃▂▁▃▅▂▅▂▅▅▇▃▅▅▃▆▄</td></tr><tr><td>task_0_train_acc</td><td>▁▆▇▇█████████████████████</td></tr><tr><td>task_0_train_loss</td><td>█▃▂▂▂▁▁▁▁▁▁▁▁▁▁▁▁▁▁▁▁▁▁▁▁</td></tr><tr><td>task_0_val_acc</td><td>▁▇▇▇▇▇█▇▇▆▇▇▇██▇▇▇█████▇▇</td></tr><tr><td>task_0_val_loss</td><td>▆▃▂▂▂▁▁▃▂▃▂▃▃▁▁▄▂▅▂▄▂▅▃█▆</td></tr><tr><td>task_1_prevtask_0_val_acc</td><td>▆▅▃▃▅▅▄▄▁▄▇▄▆▇▇▃▆▅▁██▅██▆</td></tr><tr><td>task_1_prevtask_0_val_loss</td><td>▂▇█▅▄▃▄▃▅▄▁▄▂▁▁▂▂▂▆▁▁▂▁▂▄</td></tr><tr><td>task_1_prevtask_1_val_acc</td><td>▅▂▅▂▃▅▇▃▃▄▄▆▇▄▁▄▄▄▁█▃▆▅█▅</td></tr><tr><td>task_1_prevtask_1_val_loss</td><td>▇█▆▇▄▃▂▄▄▄▄▂▂▃▄▂▃▂▃▁▃▁▂▁▁</td></tr><tr><td>task_1_train_acc</td><td>▆▆▅▅▁▆▂▅▁▆▆▆▃▇▃▃▆▆▇▄███▇█</td></tr><tr><td>task_1_train_loss</td><td>█▇▅▄▆▃▃▃▃▂▂▂▂▂▃▃▁▁▁▂▁▁▁▁▁</td></tr><tr><td>task_1_val_acc</td><td>▇▃▄▁▅▄▆▂▁▇▅▇▅▅▄▄▃▆▅█▇▇▇▅▇</td></tr><tr><td>task_1_val_loss</td><td>██▆▇▄▄▄▅▄▃▂▂▃▃▄▂▃▂▂▁▁▁▁▂▁</td></tr><tr><td>task_2_prevtask_0_val_acc</td><td>██▇▆▆▅▃▂▂▁▁▁▁▁▁▁▁▁▁▁▁▁▁▁▁</td></tr><tr><td>task_2_prevtask_0_val_loss</td><td>▁▁▁▂▂▂▃▃▄▅▅▆▆▇▇▇▇████████</td></tr><tr><td>task_2_prevtask_1_val_acc</td><td>██▇▆▅▅▃▂▁▁▁▁▁▁▁▁▁▁▁▁▁▁▁▁▁</td></tr><tr><td>task_2_prevtask_1_val_loss</td><td>▁▁▁▁▂▂▃▃▄▅▅▆▆▇▇▇▇▇▇██████</td></tr><tr><td>task_2_prevtask_2_val_acc</td><td>▁▁▁▁▁▁▅▅▆▇███▇▅█████▇▇██▇</td></tr><tr><td>task_2_prevtask_2_val_loss</td><td>█▆▄▄▃▂▂▁▁▁▁▁▁▁▁▁▁▁▁▁▁▁▁▁▁</td></tr><tr><td>task_2_train_acc</td><td>▁▁▁▁▁▁▃▆▆▇▇███▇██▇█▇▇████</td></tr><tr><td>task_2_train_loss</td><td>█▆▅▄▃▂▂▁▁▁▁▁▁▁▁▁▁▁▁▁▁▁▁▁▁</td></tr><tr><td>task_2_val_acc</td><td>██▇▆▅▄▃▂▂▂▂▁▁▁▁▁▁▁▁▁▁▁▁▁▁</td></tr><tr><td>task_2_val_loss</td><td>▃▂▁▁▁▁▁▂▃▄▅▅▆▆▇▇▇▇▇▇█████</td></tr></table><br/></div><div class=\"wandb-col\"><h3>Run summary:</h3><br/><table class=\"wandb\"><tr><td>task_0_prevtask_0_val_acc</td><td>98.4375</td></tr><tr><td>task_0_prevtask_0_val_loss</td><td>0.16449</td></tr><tr><td>task_0_train_acc</td><td>100.0</td></tr><tr><td>task_0_train_loss</td><td>0.00021</td></tr><tr><td>task_0_val_acc</td><td>96.65465</td></tr><tr><td>task_0_val_loss</td><td>0.34798</td></tr><tr><td>task_1_prevtask_0_val_acc</td><td>97.15545</td></tr><tr><td>task_1_prevtask_0_val_loss</td><td>0.26958</td></tr><tr><td>task_1_prevtask_1_val_acc</td><td>95.69547</td></tr><tr><td>task_1_prevtask_1_val_loss</td><td>0.1325</td></tr><tr><td>task_1_train_acc</td><td>97.26562</td></tr><tr><td>task_1_train_loss</td><td>0.09905</td></tr><tr><td>task_1_val_acc</td><td>96.43354</td></tr><tr><td>task_1_val_loss</td><td>0.1749</td></tr><tr><td>task_2_prevtask_0_val_acc</td><td>0.0</td></tr><tr><td>task_2_prevtask_0_val_loss</td><td>7.14324</td></tr><tr><td>task_2_prevtask_1_val_acc</td><td>0.0</td></tr><tr><td>task_2_prevtask_1_val_loss</td><td>7.24694</td></tr><tr><td>task_2_prevtask_2_val_acc</td><td>49.41907</td></tr><tr><td>task_2_prevtask_2_val_loss</td><td>0.7029</td></tr><tr><td>task_2_train_acc</td><td>56.31944</td></tr><tr><td>task_2_train_loss</td><td>0.69338</td></tr><tr><td>task_2_val_acc</td><td>14.41964</td></tr><tr><td>task_2_val_loss</td><td>5.48629</td></tr></table><br/></div></div>"
            ]
          },
          "metadata": {}
        },
        {
          "output_type": "display_data",
          "data": {
            "text/plain": [
              "<IPython.core.display.HTML object>"
            ],
            "text/html": [
              "Synced <strong style=\"color:#cdcd00\">meanoffeatures_roadcondition_imagecondition_yesno_21_09_05h22m40s_mul</strong>: <a href=\"https://wandb.ai/compyle/continual_vqa_final/runs/6czpdisy\" target=\"_blank\">https://wandb.ai/compyle/continual_vqa_final/runs/6czpdisy</a><br/>Synced 5 W&B file(s), 0 media file(s), 0 artifact file(s) and 0 other file(s)"
            ]
          },
          "metadata": {}
        },
        {
          "output_type": "display_data",
          "data": {
            "text/plain": [
              "<IPython.core.display.HTML object>"
            ],
            "text/html": [
              "Find logs at: <code>./wandb/run-20220921_052240-6czpdisy/logs</code>"
            ]
          },
          "metadata": {}
        }
      ]
    },
    {
      "cell_type": "code",
      "source": [
        "!rm -rf ckpts"
      ],
      "metadata": {
        "id": "-4yMdNu4oixt"
      },
      "execution_count": null,
      "outputs": []
    },
    {
      "cell_type": "markdown",
      "source": [
        "## ER on CIFAR10"
      ],
      "metadata": {
        "id": "JvTvZzeQJcUI"
      }
    },
    {
      "cell_type": "code",
      "source": [
        "from torchvision.models import resnet50, ResNet50_Weights"
      ],
      "metadata": {
        "colab": {
          "base_uri": "https://localhost:8080/"
        },
        "id": "V8daoUEZJvuC",
        "outputId": "2fb2ccd0-485c-47a3-d70d-09df4e73c159"
      },
      "execution_count": null,
      "outputs": [
        {
          "output_type": "stream",
          "name": "stderr",
          "text": [
            "Traceback (most recent call last):\n",
            "  File \"/usr/lib/python3.7/multiprocessing/queues.py\", line 232, in _feed\n",
            "    close()\n",
            "  File \"/usr/lib/python3.7/multiprocessing/connection.py\", line 177, in close\n",
            "    self._close()\n",
            "  File \"/usr/lib/python3.7/multiprocessing/connection.py\", line 361, in _close\n",
            "    _close(self._handle)\n",
            "OSError: [Errno 9] Bad file descriptor\n"
          ]
        }
      ]
    },
    {
      "cell_type": "code",
      "source": [
        "weights = ResNet50_Weights.DEFAULT\n",
        "model = resnet50(weights=weights)\n",
        "model.eval()"
      ],
      "metadata": {
        "id": "wNEGCeUaKPX8"
      },
      "execution_count": null,
      "outputs": []
    },
    {
      "cell_type": "code",
      "source": [
        "new_model = nn.Sequential(\n",
        "    *[layer for layer in model.children() if layer!=model.fc]\n",
        ")"
      ],
      "metadata": {
        "id": "leCeg1MEKUhT"
      },
      "execution_count": null,
      "outputs": []
    },
    {
      "cell_type": "code",
      "source": [
        "class ContinualResnet(nn.Module):\n",
        "    def __init__(self, num_classes=0, model=None):\n",
        "        self.backbone = model\n",
        "        self.lin = nn.Linear(in_features=2048, out_features=10)\n",
        "    \n",
        "    def forward(self, batch):\n",
        "        return self.lin(self.backbone(batch[0]))"
      ],
      "metadata": {
        "id": "mleJjN_LLao-"
      },
      "execution_count": null,
      "outputs": []
    },
    {
      "cell_type": "code",
      "source": [
        "continual_resnet = "
      ],
      "metadata": {
        "id": "ZIfZUjApLyTP"
      },
      "execution_count": null,
      "outputs": []
    }
  ]
}