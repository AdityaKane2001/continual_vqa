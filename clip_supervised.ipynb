{
  "nbformat": 4,
  "nbformat_minor": 0,
  "metadata": {
    "colab": {
      "provenance": [],
      "collapsed_sections": []
    },
    "kernelspec": {
      "name": "python3",
      "display_name": "Python 3"
    },
    "language_info": {
      "name": "python"
    },
    "accelerator": "GPU"
  },
  "cells": [
    {
      "cell_type": "code",
      "execution_count": null,
      "metadata": {
        "id": "kc-4piKe694p"
      },
      "outputs": [],
      "source": [
        "import torch\n",
        "from torch import nn\n",
        "from torch.utils.data import Dataset, DataLoader\n",
        "import os\n",
        "import numpy as np\n",
        "import json\n",
        "import tqdm\n",
        "from sklearn.model_selection import train_test_split"
      ]
    },
    {
      "cell_type": "code",
      "source": [
        "from google.colab import drive\n",
        "drive.mount('/content/drive')"
      ],
      "metadata": {
        "colab": {
          "base_uri": "https://localhost:8080/"
        },
        "id": "4w8gqfbv9HWU",
        "outputId": "3658b566-d014-486f-b60b-1c0b3ae1f0f5"
      },
      "execution_count": null,
      "outputs": [
        {
          "output_type": "stream",
          "name": "stdout",
          "text": [
            "Mounted at /content/drive\n"
          ]
        }
      ]
    },
    {
      "cell_type": "code",
      "source": [
        "import torch\n",
        "import random\n",
        "import numpy as np\n",
        "\n",
        "\n",
        "def set_seed(seed):\n",
        "    random.seed(seed)\n",
        "    np.random.seed(seed)\n",
        "    torch.manual_seed(seed)\n",
        "    if torch.cuda.is_available():\n",
        "        torch.cuda.manual_seed_all(seed)\n",
        "\n",
        "set_seed(43)"
      ],
      "metadata": {
        "id": "FrVNFr13P2yt"
      },
      "execution_count": null,
      "outputs": []
    },
    {
      "cell_type": "code",
      "source": [
        "label_mapping = [\"flooded\",\n",
        "\"non flooded\",\n",
        "\"flooded,non flooded\",\n",
        "\"Yes\",\n",
        "\"No\"] +list( map(str, range(51)))"
      ],
      "metadata": {
        "id": "ZHA9LMt3BVhF"
      },
      "execution_count": null,
      "outputs": []
    },
    {
      "cell_type": "code",
      "source": [
        "OLD_FEATURE_PATH = \"/content/drive/MyDrive/continual_floodnet_data/floodnet_clip_features\"\n",
        "FEATURE_PATH = \"/content/drive/MyDrive/continual_floodnet_data/floodnet_clip_features\""
      ],
      "metadata": {
        "id": "aimXknD1LZG5"
      },
      "execution_count": null,
      "outputs": []
    },
    {
      "cell_type": "code",
      "source": [
        "len(os.listdir(os.path.join(FEATURE_PATH, \"Images/Train_Image\")))"
      ],
      "metadata": {
        "colab": {
          "base_uri": "https://localhost:8080/"
        },
        "id": "iA6IDVwlH68A",
        "outputId": "a5ff904d-fed2-489f-af15-c7c71e26b0a0"
      },
      "execution_count": null,
      "outputs": [
        {
          "output_type": "execute_result",
          "data": {
            "text/plain": [
              "1448"
            ]
          },
          "metadata": {},
          "execution_count": 6
        }
      ]
    },
    {
      "cell_type": "code",
      "source": [
        "all_images_features = dict()\n",
        "for imagename in os.listdir(os.path.join(FEATURE_PATH, \"Images/Train_Image\")):\n",
        "    all_images_features[imagename.replace(\".pt\", \".JPG\")] = torch.load(os.path.join(os.path.join(FEATURE_PATH, \"Images/Train_Image\"), imagename))\n",
        "\n",
        "all_questions_features = dict()\n",
        "for imagename in os.listdir(os.path.join(OLD_FEATURE_PATH, \"Questions\")):\n",
        "    all_questions_features[imagename.replace(\".pt\", \"\").lstrip(\"Questions\")] = torch.load(os.path.join(os.path.join(OLD_FEATURE_PATH, \"Questions\"), imagename))\n"
      ],
      "metadata": {
        "id": "8t_MTBBoH_yN"
      },
      "execution_count": null,
      "outputs": []
    },
    {
      "cell_type": "code",
      "source": [
        "all_questions_features.keys()"
      ],
      "metadata": {
        "colab": {
          "base_uri": "https://localhost:8080/"
        },
        "id": "tSsmiOEWIebs",
        "outputId": "6efd9b4e-803e-450b-f54e-7277b8d9e84e"
      },
      "execution_count": null,
      "outputs": [
        {
          "output_type": "execute_result",
          "data": {
            "text/plain": [
              "dict_keys(['How many buildings are flooded in this image?', 'How many buildings are flooded?', 'How many buildings are in the image?', 'How many buildings are in this image?', 'How many buildings are non flooded in this image?', 'How many buildings are non flooded?', 'How many buildings can be seen in the image?', 'How many buildings can be seen in this image?', 'How many flooded buildings can be seen in this image?', 'How many non flooded buildings can be seen in this image?', 'Is the entire road flooded?', 'Is the entire road non flooded?', 'What is the condition of road?', 'What is the condition of the road in this image?', 'What is the overall condition of the given image?'])"
            ]
          },
          "metadata": {},
          "execution_count": 8
        }
      ]
    },
    {
      "cell_type": "code",
      "source": [
        "class VQADataset(Dataset):\n",
        "    def __init__(self, qdict, label_mapping=label_mapping):\n",
        "        self.qdict = qdict\n",
        "        self.label_mapping = label_mapping\n",
        "        self.reset_index()\n",
        "\n",
        "    def reset_index(self):\n",
        "        new_qdict = dict()\n",
        "        for idx, value in enumerate(self.qdict.values()):\n",
        "            new_qdict[idx] = value\n",
        "        self.qdict = new_qdict\n",
        "\n",
        "    def __len__(self):\n",
        "        return len(self.qdict.keys())\n",
        "    \n",
        "    def __getitem__(self, idx):\n",
        "        # \"0\":{\"Image_ID\":\"10165.JPG\",\"Question\":\"What is the overall condition of the given image?\",\"Ground_Truth\":\"flooded\",\"Question_Type\":\"Condition_Recognition\"}\n",
        "        row = self.qdict[idx]\n",
        "        img_feat = all_images_features[row[\"Image_ID\"]]\n",
        "        q_feat = all_questions_features[row[\"Question\"]]\n",
        "        \n",
        "        return img_feat, q_feat.squeeze(), self.label_mapping.index(str(row[\"Ground_Truth\"]))"
      ],
      "metadata": {
        "id": "8lo2dxb89H4Q"
      },
      "execution_count": null,
      "outputs": []
    },
    {
      "cell_type": "code",
      "source": [
        "# !ls /content/drive/MyDrive/floodnet_data/Images/Train_Image | wc -l"
      ],
      "metadata": {
        "id": "-L-bFshu3FK9"
      },
      "execution_count": null,
      "outputs": []
    },
    {
      "cell_type": "code",
      "source": [
        "qdict = json.load(open(\"/content/drive/MyDrive/floodnet_data/Questions/Training Question.json\", \"r\"))\n",
        "\n",
        "def get_train_val_splits(jsondict):\n",
        "    total = len(jsondict.keys())\n",
        "    train, val = train_test_split(list(jsondict.keys()), test_size=0.2)\n",
        "\n",
        "    print(len(train),len(val))\n",
        "\n",
        "    train_dict = dict()\n",
        "    val_dict = dict()\n",
        "    for i in train:\n",
        "        train_dict[str(i)] = jsondict[str(i)]\n",
        "    \n",
        "    for j in val:\n",
        "        val_dict[str(j)] = jsondict[str(j)]\n",
        "    \n",
        "    return train_dict, val_dict\n",
        "\n",
        "def get_train_val_splits_typewise(jsondict):\n",
        "    simple_count = dict()\n",
        "    complex_count = dict()\n",
        "    yes_no = dict()\n",
        "    entire_image = dict()\n",
        "    road_condition = dict()\n",
        "\n",
        "    counter = 0\n",
        "    for example in jsondict.values():\n",
        "        if example[\"Question_Type\"] == \"Yes_No\":\n",
        "            yes_no[str(counter)] = example\n",
        "            counter += 1\n",
        "        elif example[\"Question_Type\"] == \"Simple_Counting\":\n",
        "            simple_count[str(counter)] = example\n",
        "            counter += 1\n",
        "        elif example[\"Question_Type\"] == \"Complex_Counting\":\n",
        "            complex_count[str(counter)] = example\n",
        "            counter += 1\n",
        "        elif \"road\" in example[\"Question\"]:\n",
        "            road_condition[str(counter)] = example\n",
        "            counter += 1\n",
        "        elif \"overall\" in example[\"Question\"]:\n",
        "            entire_image[str(counter)] = example\n",
        "            counter += 1\n",
        "\n",
        "    train_dict = dict()\n",
        "    val_dict = dict()\n",
        "\n",
        "    for typedict in [road_condition,simple_count,entire_image,complex_count,yes_no]:\n",
        "        \n",
        "        print(len(typedict.keys()))\n",
        "        train, val = train_test_split(list(typedict.keys()), test_size=0.2)\n",
        "        for idx, i in enumerate(train):\n",
        "            \n",
        "            if idx == 0:\n",
        "                print(typedict[str(i)])\n",
        "            train_dict[str(i)] = typedict[str(i)]\n",
        "        \n",
        "        for idx, j in enumerate(val):\n",
        "            \n",
        "            if idx == 0:\n",
        "                print(typedict[str(j)])\n",
        "            val_dict[str(j)] = typedict[str(j)]\n",
        "        \n",
        "\n",
        "\n",
        "    return train_dict, val_dict\n",
        "\n",
        "def get_uniq_image_ids(jsondict):\n",
        "    uniq_images = []\n",
        "    for key, example in jsondict.items():\n",
        "        if example[\"Image_ID\"] not in uniq_images:\n",
        "            uniq_images.append(example[\"Image_ID\"])\n",
        "    return uniq_images\n",
        "\n",
        "def get_questions_for_imageid(jsondict, imageid):\n",
        "    qs = dict()\n",
        "    for key, example in jsondict.items():\n",
        "        if example[\"Image_ID\"] == imageid:\n",
        "            qs[key] = example\n",
        "    return qs\n",
        "\n",
        "def get_train_val_splits_imagewise(jsondict):\n",
        "    train_dict = dict()\n",
        "    val_dict = dict()\n",
        "\n",
        "    uniq_images = get_uniq_image_ids(jsondict)\n",
        "    \n",
        "    train, val = train_test_split(uniq_images, test_size=0.2)\n",
        "\n",
        "    for imageid in train:\n",
        "        train_dict.update(get_questions_for_imageid(jsondict, imageid)) \n",
        "\n",
        "    for imageid in val:\n",
        "        val_dict.update(get_questions_for_imageid(jsondict, imageid))\n",
        "\n",
        "    return train_dict, val_dict\n",
        "\n",
        "def get_typewise_train_val_splits(train_dict, val_dict):\n",
        "    train_road_condition = dict()\n",
        "    train_yes_no = dict()\n",
        "    train_image_condition = dict()\n",
        "\n",
        "    counter = 0\n",
        "    for example in train_dict.values():\n",
        "        if example[\"Question_Type\"] == \"Yes_No\":\n",
        "            train_yes_no[str(counter)] = example\n",
        "            counter += 1\n",
        "        elif \"road\" in example[\"Question\"]:\n",
        "            train_road_condition[str(counter)] = example\n",
        "            counter += 1\n",
        "        elif \"overall\" in example[\"Question\"]:\n",
        "            train_image_condition[str(counter)] = example\n",
        "            counter += 1\n",
        "\n",
        "    val_road_condition = dict()\n",
        "    val_yes_no = dict()\n",
        "    val_image_condition = dict()\n",
        "\n",
        "    counter = 0\n",
        "    for example in val_dict.values():\n",
        "        if example[\"Question_Type\"] == \"Yes_No\":\n",
        "            val_yes_no[str(counter)] = example\n",
        "            counter += 1\n",
        "        elif \"road\" in example[\"Question\"]:\n",
        "            val_road_condition[str(counter)] = example\n",
        "            counter += 1\n",
        "        elif \"overall\" in example[\"Question\"]:\n",
        "            val_image_condition[str(counter)] = example\n",
        "            counter += 1\n",
        "\n",
        "    return [train_image_condition, train_road_condition, train_yes_no], [val_image_condition, val_road_condition, val_yes_no]\n",
        "\n",
        "\n",
        "train_dict, val_dict  = get_train_val_splits_imagewise(qdict)\n",
        "train_tasks, val_tasks = get_typewise_train_val_splits(train_dict, val_dict)"
      ],
      "metadata": {
        "id": "LPFE25qIB8Wg"
      },
      "execution_count": null,
      "outputs": []
    },
    {
      "cell_type": "code",
      "source": [
        "print(len(train_dict.keys()))\n",
        "print(len(val_dict.keys()))"
      ],
      "metadata": {
        "colab": {
          "base_uri": "https://localhost:8080/"
        },
        "id": "LQR96hhOluc3",
        "outputId": "17874a4e-974c-4294-823a-d4e5f4f8b6fb"
      },
      "execution_count": null,
      "outputs": [
        {
          "output_type": "stream",
          "name": "stdout",
          "text": [
            "3621\n",
            "890\n"
          ]
        }
      ]
    },
    {
      "cell_type": "code",
      "source": [
        "train_ims = []\n",
        "val_ims = []\n",
        "\n",
        "for i in train_dict.values():\n",
        "    if i[\"Image_ID\"] not in train_ims:\n",
        "        train_ims.append(i[\"Image_ID\"])\n",
        "\n",
        "\n",
        "for i in val_dict.values():\n",
        "    if i[\"Image_ID\"] not in val_ims:\n",
        "        val_ims.append(i[\"Image_ID\"])"
      ],
      "metadata": {
        "id": "z9IC2gMUmEyj"
      },
      "execution_count": null,
      "outputs": []
    },
    {
      "cell_type": "code",
      "source": [
        "len(train_ims)"
      ],
      "metadata": {
        "colab": {
          "base_uri": "https://localhost:8080/"
        },
        "id": "ejJ-nCKlmSai",
        "outputId": "b1ef9e48-fd88-4e40-a30b-5a7735aea847"
      },
      "execution_count": null,
      "outputs": [
        {
          "output_type": "execute_result",
          "data": {
            "text/plain": [
              "1158"
            ]
          },
          "metadata": {},
          "execution_count": 14
        }
      ]
    },
    {
      "cell_type": "code",
      "source": [
        "len(val_ims)"
      ],
      "metadata": {
        "colab": {
          "base_uri": "https://localhost:8080/"
        },
        "id": "dpXQS4gymUZ9",
        "outputId": "97d32309-2e4c-4ea2-ef80-3fac64973c66"
      },
      "execution_count": null,
      "outputs": [
        {
          "output_type": "execute_result",
          "data": {
            "text/plain": [
              "290"
            ]
          },
          "metadata": {},
          "execution_count": 15
        }
      ]
    },
    {
      "cell_type": "code",
      "source": [
        "def accuracy(pred, true):\n",
        "    acc = np.sum((true == pred.argmax(-1)).astype(np.float32))\n",
        "    return float(100 * acc / len(true))\n"
      ],
      "metadata": {
        "id": "S7r2ocyhF5RC"
      },
      "execution_count": null,
      "outputs": []
    },
    {
      "cell_type": "code",
      "source": [
        "!mkdir ckpts"
      ],
      "metadata": {
        "id": "-XvT3nfDjdB1"
      },
      "execution_count": null,
      "outputs": []
    },
    {
      "cell_type": "markdown",
      "source": [
        "### Models\n"
      ],
      "metadata": {
        "id": "qkBbQcGK7NGc"
      }
    },
    {
      "cell_type": "code",
      "source": [
        "from datetime import datetime\n",
        "\n",
        "class VQAModelConcat(nn.Module):\n",
        "    def __init__(self):\n",
        "        super().__init__()\n",
        "        self.linstack = nn.Sequential(\n",
        "            # nn.Linear(in_features=3072, out_features=1024), # 3072 = 1024 (text) + 2048 (image)\n",
        "            nn.Linear(in_features=1536, out_features=1024), # 3072 = 1024 (text) + 1536 (image)\n",
        "            nn.Dropout(p=0.2),\n",
        "            nn.Linear(in_features=1024, out_features=512),\n",
        "            nn.Dropout(p=0.2),\n",
        "            nn.Linear(in_features=512, out_features=256),\n",
        "            nn.Linear(in_features=256, out_features=128),\n",
        "            nn.Linear(in_features=128, out_features=56),\n",
        "        )\n",
        "        self.device = torch.device(\"cuda\") if torch.cuda.is_available() else torch.device(\"cpu\")\n",
        "    \n",
        "    def forward(self, batch):\n",
        "        x = torch.concat([batch[0].float(), batch[1].float()], dim=-1)\n",
        "        x = self.linstack(x)\n",
        "        return x\n",
        "\n",
        "    def fit(self, train_ds, val_ds):\n",
        "        now = datetime.now()\n",
        "        timestr = now.strftime(\"%d_%m_%Hh%Mm%Ss\")\n",
        "        os.makedirs(f\"./ckpts/{timestr}\", exist_ok=True)\n",
        "        self.to(self.device)\n",
        "        train_dl = DataLoader(train_ds, batch_size=128, shuffle=True, num_workers=4)\n",
        "        val_dl = DataLoader(val_ds, batch_size=128, shuffle=False, num_workers=4)\n",
        "\n",
        "        optimizer = torch.optim.Adam(self.parameters(), lr=3e-4)\n",
        "        loss_fn = nn.CrossEntropyLoss()\n",
        "\n",
        "        for epoch in range(100):\n",
        "            print(f\"########## Epoch {epoch}\")\n",
        "            self.train()\n",
        "            optimizer.zero_grad()\n",
        "            \n",
        "            epoch_loss = []\n",
        "            epoch_acc = []\n",
        "            \n",
        "            val_loss = []\n",
        "            val_acc = []\n",
        "\n",
        "            for batch in tqdm.tqdm(train_dl):\n",
        "                batch = [elem.to(self.device) for elem in batch]\n",
        "        #         batch[0] = tr(batch[0])\n",
        "                outputs = self(batch)\n",
        "                loss = loss_fn(outputs, batch[2])\n",
        "                loss.backward()\n",
        "                optimizer.step()\n",
        "                optimizer.zero_grad()\n",
        "                \n",
        "                acc = accuracy(outputs.detach().cpu().numpy(), batch[2].detach().cpu().numpy())\n",
        "                \n",
        "                epoch_loss.append(loss.detach().cpu().numpy())\n",
        "                epoch_acc.append(acc)\n",
        "            \n",
        "            self.eval()\n",
        "            with torch.no_grad():\n",
        "                for batch in tqdm.tqdm(val_dl):\n",
        "                    batch = [elem.to(self.device) for elem in batch]\n",
        "        #             batch[0] = tr(batch[0])\n",
        "                    outputs = self(batch)\n",
        "                    loss = loss_fn(outputs, batch[2])\n",
        "            \n",
        "                    acc = accuracy(outputs.detach().cpu().numpy(), batch[2].detach().cpu().numpy())\n",
        "\n",
        "                    val_loss.append(loss.detach().cpu().numpy())\n",
        "                    val_acc.append(acc)\n",
        "            \n",
        "            \n",
        "            torch.save(self.state_dict(), f\"./ckpts/{timestr}/vqa_{epoch}.pt\")\n",
        "            \n",
        "            print(f\"Train loss: {np.mean(epoch_loss)}\", end=\"\\t\")\n",
        "            print(f\"Val loss: {np.mean(val_loss)}\", end=\"\\t\")\n",
        "            print(f\"Train acc: {np.mean(epoch_acc)}\", end=\"\\t\")\n",
        "            print(f\"Val acc: {np.mean(val_acc)}\")\n",
        "    \n",
        "    def evaluate(self, val_ds):\n",
        "        val_dl = DataLoader(val_ds, batch_size=1, shuffle=False, num_workers=4)\n",
        "        loss_fn = nn.CrossEntropyLoss()\n",
        "        self.eval()\n",
        "        self.to(self.device)\n",
        "        val_loss = []\n",
        "        val_acc = []\n",
        "        with torch.no_grad():\n",
        "            for batch in tqdm.tqdm(val_dl):\n",
        "                batch = [elem.to(self.device) for elem in batch]\n",
        "    #             batch[0] = tr(batch[0])\n",
        "                outputs = self(batch)\n",
        "                loss = loss_fn(outputs, batch[2])\n",
        "        \n",
        "                acc = accuracy(outputs.detach().cpu().numpy(), batch[2].detach().cpu().numpy())\n",
        "\n",
        "                val_loss.append(loss.detach().cpu().numpy())\n",
        "                val_acc.append(acc)\n",
        "        print(f\"Val loss: {np.mean(val_loss)}\", end=\"\\t\")\n",
        "        print(f\"Val acc: {np.mean(val_acc)}\")"
      ],
      "metadata": {
        "id": "VFy8fh8YDLBA"
      },
      "execution_count": null,
      "outputs": []
    },
    {
      "cell_type": "code",
      "source": [
        "from datetime import datetime\n",
        "\n",
        "class VQAModelAdd(nn.Module):\n",
        "    def __init__(self):\n",
        "        super().__init__()\n",
        "        self.image = nn.Sequential(\n",
        "         nn.Linear(in_features=768, out_features=1024),\n",
        "         nn.Dropout(p=0.2),\n",
        "         nn.Linear(in_features=1024, out_features=512)   \n",
        "        )\n",
        "        self.txt = nn.Linear(in_features=768, out_features=512)\n",
        "        self.linstack = nn.Sequential(\n",
        "            nn.Linear(in_features=512, out_features=256),\n",
        "            nn.Dropout(p=0.2),\n",
        "            nn.Linear(in_features=256, out_features=128),\n",
        "            nn.Linear(in_features=128, out_features=56),\n",
        "        )\n",
        "        self.device = torch.device(\"cuda\") if torch.cuda.is_available() else torch.device(\"cpu\")\n",
        "    \n",
        "    def forward(self, batch):\n",
        "        img = self.image(batch[0].float())\n",
        "        txt = self.txt(batch[1].float())\n",
        "        vec = img+txt\n",
        "        # vec = torch.dot(img, txt) # check if they are 1-d tensors\n",
        "        x = self.linstack(vec)\n",
        "        return x\n",
        "\n",
        "    def fit(self, train_ds, val_ds):\n",
        "        now = datetime.now()\n",
        "        timestr = now.strftime(\"%d_%m_%Hh%Mm%Ss\")\n",
        "        os.makedirs(f\"./ckpts/{timestr}\", exist_ok=True)\n",
        "        self.to(self.device)\n",
        "        train_dl = DataLoader(train_ds, batch_size=128, shuffle=True, num_workers=4)\n",
        "        val_dl = DataLoader(val_ds, batch_size=128, shuffle=False, num_workers=4)\n",
        "\n",
        "        optimizer = torch.optim.Adam(self.parameters(), lr=3e-4)\n",
        "        loss_fn = nn.CrossEntropyLoss()\n",
        "\n",
        "        best_val_acc = -1.\n",
        "\n",
        "        for epoch in range(100):\n",
        "            print(f\"########## Epoch {epoch}\")\n",
        "            self.train()\n",
        "            optimizer.zero_grad()\n",
        "            \n",
        "            epoch_loss = []\n",
        "            epoch_acc = []\n",
        "            \n",
        "            val_loss = []\n",
        "            val_acc = []\n",
        "\n",
        "            for batch in tqdm.tqdm(train_dl):\n",
        "                batch = [elem.to(self.device) for elem in batch]\n",
        "        #         batch[0] = tr(batch[0])\n",
        "                outputs = self(batch)\n",
        "                loss = loss_fn(outputs, batch[2])\n",
        "                loss.backward()\n",
        "                optimizer.step()\n",
        "                optimizer.zero_grad()\n",
        "                \n",
        "                acc = accuracy(outputs.detach().cpu().numpy(), batch[2].detach().cpu().numpy())\n",
        "                \n",
        "                epoch_loss.append(loss.detach().cpu().numpy())\n",
        "                epoch_acc.append(acc)\n",
        "            \n",
        "            self.eval()\n",
        "            with torch.no_grad():\n",
        "                for batch in tqdm.tqdm(val_dl):\n",
        "                    batch = [elem.to(self.device) for elem in batch]\n",
        "        #             batch[0] = tr(batch[0])\n",
        "                    outputs = self(batch)\n",
        "                    loss = loss_fn(outputs, batch[2])\n",
        "            \n",
        "                    acc = accuracy(outputs.detach().cpu().numpy(), batch[2].detach().cpu().numpy())\n",
        "\n",
        "                    val_loss.append(loss.detach().cpu().numpy())\n",
        "                    val_acc.append(acc)\n",
        "            \n",
        "            \n",
        "            torch.save(self.state_dict(), f\"./ckpts/{timestr}/vqa_{epoch}.pt\")\n",
        "            \n",
        "            if np.mean(val_acc) > best_val_acc:\n",
        "                best_val_acc = np.mean(val_acc)\n",
        "                best_epoch = epoch\n",
        "\n",
        "\n",
        "            print(f\"Train loss: {np.mean(epoch_loss)}\", end=\"\\t\")\n",
        "            print(f\"Val loss: {np.mean(val_loss)}\", end=\"\\t\")\n",
        "            print(f\"Train acc: {np.mean(epoch_acc)}\", end=\"\\t\")\n",
        "            print(f\"Val acc: {np.mean(val_acc)}\")\n",
        "    \n",
        "    def evaluate(self, val_ds):\n",
        "        val_dl = DataLoader(val_ds, batch_size=1, shuffle=False, num_workers=4)\n",
        "        loss_fn = nn.CrossEntropyLoss()\n",
        "        self.eval()\n",
        "        self.to(self.device)\n",
        "        val_loss = []\n",
        "        val_acc = []\n",
        "        with torch.no_grad():\n",
        "            for batch in tqdm.tqdm(val_dl):\n",
        "                batch = [elem.to(self.device) for elem in batch]\n",
        "    #             batch[0] = tr(batch[0])\n",
        "                outputs = self(batch)\n",
        "                loss = loss_fn(outputs, batch[2])\n",
        "        \n",
        "                acc = accuracy(outputs.detach().cpu().numpy(), batch[2].detach().cpu().numpy())\n",
        "\n",
        "                val_loss.append(loss.detach().cpu().numpy())\n",
        "                val_acc.append(acc)\n",
        "        print(f\"Val loss: {np.mean(val_loss)}\", end=\"\\t\")\n",
        "        print(f\"Val acc: {np.mean(val_acc)}\")"
      ],
      "metadata": {
        "id": "NIWE4fNuggd3"
      },
      "execution_count": null,
      "outputs": []
    },
    {
      "cell_type": "code",
      "source": [
        "from datetime import datetime\n",
        "\n",
        "class VQAModelProduct(nn.Module):\n",
        "    def __init__(self):\n",
        "        super().__init__()\n",
        "        self.image = nn.Sequential(\n",
        "         nn.Linear(in_features=768, out_features=1024),\n",
        "         nn.Dropout(p=0.2),\n",
        "         nn.Linear(in_features=1024, out_features=512)   \n",
        "        )\n",
        "        self.txt = nn.Linear(in_features=768, out_features=512)\n",
        "        self.linstack = nn.Sequential(\n",
        "            nn.Linear(in_features=512, out_features=256),\n",
        "            nn.Dropout(p=0.2),\n",
        "            nn.Linear(in_features=256, out_features=128),\n",
        "            nn.Linear(in_features=128, out_features=56),\n",
        "        )\n",
        "        self.device = torch.device(\"cuda\") if torch.cuda.is_available() else torch.device(\"cpu\")\n",
        "    \n",
        "    def forward(self, batch):\n",
        "        img = self.image(batch[0].float())\n",
        "        txt = self.txt(batch[1].float())\n",
        "        vec = img*txt\n",
        "        # vec = torch.dot(img, txt) # check if they are 1-d tensors\n",
        "        x = self.linstack(vec)\n",
        "        return x\n",
        "\n",
        "    def fit(self, train_ds, val_ds):\n",
        "        now = datetime.now()\n",
        "        timestr = now.strftime(\"%d_%m_%Hh%Mm%Ss\")\n",
        "        os.makedirs(f\"./ckpts/{timestr}\", exist_ok=True)\n",
        "        self.to(self.device)\n",
        "        train_dl = DataLoader(train_ds, batch_size=256, shuffle=True, num_workers=4)\n",
        "        val_dl = DataLoader(val_ds, batch_size=256, shuffle=False, num_workers=4)\n",
        "\n",
        "        optimizer = torch.optim.Adam(self.parameters(), lr=1e-4)\n",
        "        loss_fn = nn.CrossEntropyLoss()\n",
        "\n",
        "        for epoch in range(100):\n",
        "            print(f\"########## Epoch {epoch}\")\n",
        "            self.train()\n",
        "            optimizer.zero_grad()\n",
        "            \n",
        "            epoch_loss = []\n",
        "            epoch_acc = []\n",
        "            \n",
        "            val_loss = []\n",
        "            val_acc = []\n",
        "\n",
        "            best_val_acc = -1.\n",
        "\n",
        "            for batch in tqdm.tqdm(train_dl):\n",
        "                batch = [elem.to(self.device) for elem in batch]\n",
        "        #         batch[0] = tr(batch[0])\n",
        "                outputs = self(batch)\n",
        "                loss = loss_fn(outputs, batch[2])\n",
        "                loss.backward()\n",
        "                optimizer.step()\n",
        "                optimizer.zero_grad()\n",
        "                \n",
        "                acc = accuracy(outputs.detach().cpu().numpy(), batch[2].detach().cpu().numpy())\n",
        "                \n",
        "                epoch_loss.append(loss.detach().cpu().numpy())\n",
        "                epoch_acc.append(acc)\n",
        "            \n",
        "            self.eval()\n",
        "            with torch.no_grad():\n",
        "                for batch in tqdm.tqdm(val_dl):\n",
        "                    batch = [elem.to(self.device) for elem in batch]\n",
        "        #             batch[0] = tr(batch[0])\n",
        "                    outputs = self(batch)\n",
        "                    loss = loss_fn(outputs, batch[2])\n",
        "            \n",
        "                    acc = accuracy(outputs.detach().cpu().numpy(), batch[2].detach().cpu().numpy())\n",
        "\n",
        "                    val_loss.append(loss.detach().cpu().numpy())\n",
        "                    val_acc.append(acc)\n",
        "            \n",
        "            \n",
        "            torch.save(self.state_dict(), f\"./ckpts/{timestr}/vqa_{epoch}.pt\")\n",
        "\n",
        "            if np.mean(val_acc) > best_val_acc:\n",
        "                best_val_acc = np.mean(val_acc)\n",
        "                best_epoch = epoch\n",
        "            \n",
        "            print(f\"Train loss: {np.mean(epoch_loss)}\", end=\"\\t\")\n",
        "            print(f\"Val loss: {np.mean(val_loss)}\", end=\"\\t\")\n",
        "            print(f\"Train acc: {np.mean(epoch_acc)}\", end=\"\\t\")\n",
        "            print(f\"Val acc: {np.mean(val_acc)}\")\n",
        "        print(best_val_acc, best_epoch)\n",
        "    \n",
        "    def evaluate(self, val_ds):\n",
        "        val_dl = DataLoader(val_ds, batch_size=1, shuffle=False, num_workers=4)\n",
        "        loss_fn = nn.CrossEntropyLoss()\n",
        "        self.eval()\n",
        "        self.to(self.device)\n",
        "        val_loss = []\n",
        "        val_acc = []\n",
        "        with torch.no_grad():\n",
        "            for batch in tqdm.tqdm(val_dl):\n",
        "                batch = [elem.to(self.device) for elem in batch]\n",
        "    #             batch[0] = tr(batch[0])\n",
        "                outputs = self(batch)\n",
        "                loss = loss_fn(outputs, batch[2])\n",
        "        \n",
        "                acc = accuracy(outputs.detach().cpu().numpy(), batch[2].detach().cpu().numpy())\n",
        "\n",
        "                val_loss.append(loss.detach().cpu().numpy())\n",
        "                val_acc.append(acc)\n",
        "        print(f\"Val loss: {np.mean(val_loss)}\", end=\"\\t\")\n",
        "        print(f\"Val acc: {np.mean(val_acc)}\")\n",
        "        print()"
      ],
      "metadata": {
        "id": "F2y_QKoe8LcT"
      },
      "execution_count": null,
      "outputs": []
    },
    {
      "cell_type": "markdown",
      "source": [
        "### Runs"
      ],
      "metadata": {
        "id": "iNcV4Ice7SVt"
      }
    },
    {
      "cell_type": "code",
      "source": [],
      "metadata": {
        "id": "43r_VCySGUeE",
        "colab": {
          "base_uri": "https://localhost:8080/"
        },
        "outputId": "faa4df9e-31bb-43b0-c065-5f1eee29ef8b"
      },
      "execution_count": null,
      "outputs": [
        {
          "output_type": "execute_result",
          "data": {
            "text/plain": [
              "890"
            ]
          },
          "metadata": {},
          "execution_count": 161
        }
      ]
    },
    {
      "cell_type": "code",
      "source": [
        "# train_image_condition, train_road_condition, train_yes_no\n",
        "\n",
        "\n",
        "for train_dict, val_dict in list(zip(train_tasks, val_tasks)):\n",
        "    train_ds = VQADataset(train_dict)\n",
        "    val_ds = VQADataset(val_dict)\n",
        "    len(val_ds)\n",
        "    # model = VQAModelConcat()\n",
        "    model = VQAModelProduct()\n",
        "    # model = VQAModelAdd()\n",
        "    # model = VQAModelAttention()\n",
        "    model.fit(train_ds, val_ds)"
      ],
      "metadata": {
        "colab": {
          "base_uri": "https://localhost:8080/"
        },
        "id": "jpSth5OvGNm6",
        "outputId": "c32c1f8c-1cbd-4437-b27b-651dc0fc5e3c"
      },
      "execution_count": null,
      "outputs": [
        {
          "output_type": "stream",
          "name": "stderr",
          "text": [
            "/usr/local/lib/python3.7/dist-packages/torch/utils/data/dataloader.py:566: UserWarning: This DataLoader will create 4 worker processes in total. Our suggested max number of worker in current system is 2, which is smaller than what this DataLoader is going to create. Please be aware that excessive worker creation might get DataLoader running slow or even freeze, lower the worker number to avoid potential slowness/freeze if necessary.\n",
            "  cpuset_checked))\n"
          ]
        },
        {
          "output_type": "stream",
          "name": "stdout",
          "text": [
            "########## Epoch 0\n"
          ]
        },
        {
          "output_type": "stream",
          "name": "stderr",
          "text": [
            "100%|██████████| 5/5 [00:02<00:00,  1.86it/s]\n",
            "100%|██████████| 2/2 [00:00<00:00, 10.23it/s]\n"
          ]
        },
        {
          "output_type": "stream",
          "name": "stdout",
          "text": [
            "Train loss: 3.8242969512939453\tVal loss: 3.515929698944092\tTrain acc: 67.88129664179105\tVal acc: 86.00643382352942\n",
            "########## Epoch 1\n"
          ]
        },
        {
          "output_type": "stream",
          "name": "stderr",
          "text": [
            "100%|██████████| 5/5 [00:00<00:00, 21.50it/s]\n",
            "100%|██████████| 2/2 [00:00<00:00, 10.46it/s]\n"
          ]
        },
        {
          "output_type": "stream",
          "name": "stdout",
          "text": [
            "Train loss: 3.187647581100464\tVal loss: 2.515432357788086\tTrain acc: 86.06343283582089\tVal acc: 86.00643382352942\n",
            "########## Epoch 2\n"
          ]
        },
        {
          "output_type": "stream",
          "name": "stderr",
          "text": [
            "100%|██████████| 5/5 [00:00<00:00, 19.95it/s]\n",
            "100%|██████████| 2/2 [00:00<00:00, 10.43it/s]\n"
          ]
        },
        {
          "output_type": "stream",
          "name": "stdout",
          "text": [
            "Train loss: 1.8732478618621826\tVal loss: 0.9412484765052795\tTrain acc: 86.20569029850746\tVal acc: 86.00643382352942\n",
            "########## Epoch 3\n"
          ]
        },
        {
          "output_type": "stream",
          "name": "stderr",
          "text": [
            "100%|██████████| 5/5 [00:00<00:00, 21.15it/s]\n",
            "100%|██████████| 2/2 [00:00<00:00, 10.67it/s]\n"
          ]
        },
        {
          "output_type": "stream",
          "name": "stdout",
          "text": [
            "Train loss: 0.8397337198257446\tVal loss: 0.8712972402572632\tTrain acc: 85.77891791044776\tVal acc: 86.00643382352942\n",
            "########## Epoch 4\n"
          ]
        },
        {
          "output_type": "stream",
          "name": "stderr",
          "text": [
            "100%|██████████| 5/5 [00:00<00:00, 20.19it/s]\n",
            "100%|██████████| 2/2 [00:00<00:00, 10.36it/s]\n"
          ]
        },
        {
          "output_type": "stream",
          "name": "stdout",
          "text": [
            "Train loss: 0.7772514224052429\tVal loss: 0.6726301908493042\tTrain acc: 85.99230410447761\tVal acc: 86.00643382352942\n",
            "########## Epoch 5\n"
          ]
        },
        {
          "output_type": "stream",
          "name": "stderr",
          "text": [
            "100%|██████████| 5/5 [00:00<00:00, 22.29it/s]\n",
            "100%|██████████| 2/2 [00:00<00:00, 10.65it/s]\n"
          ]
        },
        {
          "output_type": "stream",
          "name": "stdout",
          "text": [
            "Train loss: 0.4734047055244446\tVal loss: 0.27950435876846313\tTrain acc: 85.85004664179105\tVal acc: 86.39705882352942\n",
            "########## Epoch 6\n"
          ]
        },
        {
          "output_type": "stream",
          "name": "stderr",
          "text": [
            "100%|██████████| 5/5 [00:00<00:00, 20.28it/s]\n",
            "100%|██████████| 2/2 [00:00<00:00,  9.55it/s]\n"
          ]
        },
        {
          "output_type": "stream",
          "name": "stdout",
          "text": [
            "Train loss: 0.25978612899780273\tVal loss: 0.29625311493873596\tTrain acc: 93.798973880597\tVal acc: 95.20909926470588\n",
            "########## Epoch 7\n"
          ]
        },
        {
          "output_type": "stream",
          "name": "stderr",
          "text": [
            "100%|██████████| 5/5 [00:00<00:00, 21.77it/s]\n",
            "100%|██████████| 2/2 [00:00<00:00, 10.56it/s]\n"
          ]
        },
        {
          "output_type": "stream",
          "name": "stdout",
          "text": [
            "Train loss: 0.2574496567249298\tVal loss: 0.1876477599143982\tTrain acc: 94.56623134328359\tVal acc: 94.91038602941177\n",
            "########## Epoch 8\n"
          ]
        },
        {
          "output_type": "stream",
          "name": "stderr",
          "text": [
            "100%|██████████| 5/5 [00:00<00:00, 22.25it/s]\n",
            "100%|██████████| 2/2 [00:00<00:00,  8.53it/s]\n"
          ]
        },
        {
          "output_type": "stream",
          "name": "stdout",
          "text": [
            "Train loss: 0.17022041976451874\tVal loss: 0.21777164936065674\tTrain acc: 95.283348880597\tVal acc: 94.51976102941177\n",
            "########## Epoch 9\n"
          ]
        },
        {
          "output_type": "stream",
          "name": "stderr",
          "text": [
            "100%|██████████| 5/5 [00:00<00:00, 22.06it/s]\n",
            "100%|██████████| 2/2 [00:00<00:00, 10.48it/s]\n"
          ]
        },
        {
          "output_type": "stream",
          "name": "stdout",
          "text": [
            "Train loss: 0.1711275279521942\tVal loss: 0.19624978303909302\tTrain acc: 95.13409514925374\tVal acc: 94.91038602941177\n",
            "########## Epoch 10\n"
          ]
        },
        {
          "output_type": "stream",
          "name": "stderr",
          "text": [
            "100%|██████████| 5/5 [00:00<00:00, 21.07it/s]\n",
            "100%|██████████| 2/2 [00:00<00:00, 10.02it/s]\n"
          ]
        },
        {
          "output_type": "stream",
          "name": "stdout",
          "text": [
            "Train loss: 0.1509813517332077\tVal loss: 0.15279266238212585\tTrain acc: 95.908348880597\tVal acc: 94.51976102941177\n",
            "########## Epoch 11\n"
          ]
        },
        {
          "output_type": "stream",
          "name": "stderr",
          "text": [
            "100%|██████████| 5/5 [00:00<00:00, 20.62it/s]\n",
            "100%|██████████| 2/2 [00:00<00:00, 10.45it/s]\n"
          ]
        },
        {
          "output_type": "stream",
          "name": "stdout",
          "text": [
            "Train loss: 0.13020364940166473\tVal loss: 0.14023880660533905\tTrain acc: 95.9013526119403\tVal acc: 95.40441176470588\n",
            "########## Epoch 12\n"
          ]
        },
        {
          "output_type": "stream",
          "name": "stderr",
          "text": [
            "100%|██████████| 5/5 [00:00<00:00, 20.16it/s]\n",
            "100%|██████████| 2/2 [00:00<00:00, 10.21it/s]\n"
          ]
        },
        {
          "output_type": "stream",
          "name": "stdout",
          "text": [
            "Train loss: 0.1394522339105606\tVal loss: 0.1433277130126953\tTrain acc: 95.8232276119403\tVal acc: 94.12913602941177\n",
            "########## Epoch 13\n"
          ]
        },
        {
          "output_type": "stream",
          "name": "stderr",
          "text": [
            "100%|██████████| 5/5 [00:00<00:00, 20.68it/s]\n",
            "100%|██████████| 2/2 [00:00<00:00, 10.51it/s]\n"
          ]
        },
        {
          "output_type": "stream",
          "name": "stdout",
          "text": [
            "Train loss: 0.11893781274557114\tVal loss: 0.15138927102088928\tTrain acc: 96.73973880597015\tVal acc: 94.32444852941177\n",
            "########## Epoch 14\n"
          ]
        },
        {
          "output_type": "stream",
          "name": "stderr",
          "text": [
            "100%|██████████| 5/5 [00:00<00:00, 20.27it/s]\n",
            "100%|██████████| 2/2 [00:00<00:00, 10.34it/s]\n"
          ]
        },
        {
          "output_type": "stream",
          "name": "stdout",
          "text": [
            "Train loss: 0.11787668615579605\tVal loss: 0.14845868945121765\tTrain acc: 96.58348880597015\tVal acc: 94.32444852941177\n",
            "########## Epoch 15\n"
          ]
        },
        {
          "output_type": "stream",
          "name": "stderr",
          "text": [
            "100%|██████████| 5/5 [00:00<00:00, 20.42it/s]\n",
            "100%|██████████| 2/2 [00:00<00:00, 10.69it/s]\n"
          ]
        },
        {
          "output_type": "stream",
          "name": "stdout",
          "text": [
            "Train loss: 0.11528389155864716\tVal loss: 0.13698215782642365\tTrain acc: 96.73274253731344\tVal acc: 94.32444852941177\n",
            "########## Epoch 16\n"
          ]
        },
        {
          "output_type": "stream",
          "name": "stderr",
          "text": [
            "100%|██████████| 5/5 [00:00<00:00, 21.45it/s]\n",
            "100%|██████████| 2/2 [00:00<00:00, 10.05it/s]\n"
          ]
        },
        {
          "output_type": "stream",
          "name": "stdout",
          "text": [
            "Train loss: 0.1283572018146515\tVal loss: 0.12990981340408325\tTrain acc: 96.16371268656717\tVal acc: 95.59972426470588\n",
            "########## Epoch 17\n"
          ]
        },
        {
          "output_type": "stream",
          "name": "stderr",
          "text": [
            "100%|██████████| 5/5 [00:00<00:00, 20.21it/s]\n",
            "100%|██████████| 2/2 [00:00<00:00, 10.33it/s]\n"
          ]
        },
        {
          "output_type": "stream",
          "name": "stdout",
          "text": [
            "Train loss: 0.11803366988897324\tVal loss: 0.12754221260547638\tTrain acc: 96.59048507462687\tVal acc: 95.79503676470588\n",
            "########## Epoch 18\n"
          ]
        },
        {
          "output_type": "stream",
          "name": "stderr",
          "text": [
            "100%|██████████| 5/5 [00:00<00:00, 20.52it/s]\n",
            "100%|██████████| 2/2 [00:00<00:00,  9.74it/s]\n"
          ]
        },
        {
          "output_type": "stream",
          "name": "stdout",
          "text": [
            "Train loss: 0.112099789083004\tVal loss: 0.13209539651870728\tTrain acc: 96.81786380597015\tVal acc: 94.32444852941177\n",
            "########## Epoch 19\n"
          ]
        },
        {
          "output_type": "stream",
          "name": "stderr",
          "text": [
            "100%|██████████| 5/5 [00:00<00:00, 20.43it/s]\n",
            "100%|██████████| 2/2 [00:00<00:00,  9.87it/s]\n"
          ]
        },
        {
          "output_type": "stream",
          "name": "stdout",
          "text": [
            "Train loss: 0.10936246812343597\tVal loss: 0.12834511697292328\tTrain acc: 96.43423507462687\tVal acc: 94.32444852941177\n",
            "########## Epoch 20\n"
          ]
        },
        {
          "output_type": "stream",
          "name": "stderr",
          "text": [
            "100%|██████████| 5/5 [00:00<00:00, 21.52it/s]\n",
            "100%|██████████| 2/2 [00:00<00:00, 10.57it/s]\n"
          ]
        },
        {
          "output_type": "stream",
          "name": "stdout",
          "text": [
            "Train loss: 0.10791808366775513\tVal loss: 0.12323811650276184\tTrain acc: 97.05223880597015\tVal acc: 95.79503676470588\n",
            "########## Epoch 21\n"
          ]
        },
        {
          "output_type": "stream",
          "name": "stderr",
          "text": [
            "100%|██████████| 5/5 [00:00<00:00, 20.15it/s]\n",
            "100%|██████████| 2/2 [00:00<00:00,  9.72it/s]\n"
          ]
        },
        {
          "output_type": "stream",
          "name": "stdout",
          "text": [
            "Train loss: 0.10845354944467545\tVal loss: 0.11892318725585938\tTrain acc: 96.66861007462687\tVal acc: 95.79503676470588\n",
            "########## Epoch 22\n"
          ]
        },
        {
          "output_type": "stream",
          "name": "stderr",
          "text": [
            "100%|██████████| 5/5 [00:00<00:00, 21.17it/s]\n",
            "100%|██████████| 2/2 [00:00<00:00, 10.45it/s]\n"
          ]
        },
        {
          "output_type": "stream",
          "name": "stdout",
          "text": [
            "Train loss: 0.10219665616750717\tVal loss: 0.11818957328796387\tTrain acc: 97.12336753731344\tVal acc: 95.79503676470588\n",
            "########## Epoch 23\n"
          ]
        },
        {
          "output_type": "stream",
          "name": "stderr",
          "text": [
            "100%|██████████| 5/5 [00:00<00:00, 19.96it/s]\n",
            "100%|██████████| 2/2 [00:00<00:00, 10.18it/s]\n"
          ]
        },
        {
          "output_type": "stream",
          "name": "stdout",
          "text": [
            "Train loss: 0.09595324099063873\tVal loss: 0.1185658797621727\tTrain acc: 96.90298507462687\tVal acc: 95.99034926470588\n",
            "########## Epoch 24\n"
          ]
        },
        {
          "output_type": "stream",
          "name": "stderr",
          "text": [
            "100%|██████████| 5/5 [00:00<00:00, 21.39it/s]\n",
            "100%|██████████| 2/2 [00:00<00:00, 10.05it/s]\n"
          ]
        },
        {
          "output_type": "stream",
          "name": "stdout",
          "text": [
            "Train loss: 0.09455658495426178\tVal loss: 0.11349083483219147\tTrain acc: 97.20149253731344\tVal acc: 96.18566176470588\n",
            "########## Epoch 25\n"
          ]
        },
        {
          "output_type": "stream",
          "name": "stderr",
          "text": [
            "100%|██████████| 5/5 [00:00<00:00, 20.92it/s]\n",
            "100%|██████████| 2/2 [00:00<00:00,  8.23it/s]\n"
          ]
        },
        {
          "output_type": "stream",
          "name": "stdout",
          "text": [
            "Train loss: 0.09813778102397919\tVal loss: 0.11442244797945023\tTrain acc: 96.767723880597\tVal acc: 95.99034926470588\n",
            "########## Epoch 26\n"
          ]
        },
        {
          "output_type": "stream",
          "name": "stderr",
          "text": [
            "100%|██████████| 5/5 [00:00<00:00, 21.79it/s]\n",
            "100%|██████████| 2/2 [00:00<00:00,  9.93it/s]\n"
          ]
        },
        {
          "output_type": "stream",
          "name": "stdout",
          "text": [
            "Train loss: 0.09212706238031387\tVal loss: 0.10927069187164307\tTrain acc: 96.82486007462687\tVal acc: 96.18566176470588\n",
            "########## Epoch 27\n"
          ]
        },
        {
          "output_type": "stream",
          "name": "stderr",
          "text": [
            "100%|██████████| 5/5 [00:00<00:00, 21.84it/s]\n",
            "100%|██████████| 2/2 [00:00<00:00, 10.52it/s]\n"
          ]
        },
        {
          "output_type": "stream",
          "name": "stdout",
          "text": [
            "Train loss: 0.09884010255336761\tVal loss: 0.10729026794433594\tTrain acc: 96.69659514925374\tVal acc: 96.18566176470588\n",
            "########## Epoch 28\n"
          ]
        },
        {
          "output_type": "stream",
          "name": "stderr",
          "text": [
            "100%|██████████| 5/5 [00:00<00:00, 20.45it/s]\n",
            "100%|██████████| 2/2 [00:00<00:00, 10.35it/s]\n"
          ]
        },
        {
          "output_type": "stream",
          "name": "stdout",
          "text": [
            "Train loss: 0.08416713774204254\tVal loss: 0.11444849520921707\tTrain acc: 97.13036380597015\tVal acc: 95.99034926470588\n",
            "########## Epoch 29\n"
          ]
        },
        {
          "output_type": "stream",
          "name": "stderr",
          "text": [
            "100%|██████████| 5/5 [00:00<00:00, 21.02it/s]\n",
            "100%|██████████| 2/2 [00:00<00:00, 10.49it/s]\n"
          ]
        },
        {
          "output_type": "stream",
          "name": "stdout",
          "text": [
            "Train loss: 0.09277258813381195\tVal loss: 0.10891671478748322\tTrain acc: 96.56133395522389\tVal acc: 96.18566176470588\n",
            "########## Epoch 30\n"
          ]
        },
        {
          "output_type": "stream",
          "name": "stderr",
          "text": [
            "100%|██████████| 5/5 [00:00<00:00, 19.21it/s]\n",
            "100%|██████████| 2/2 [00:00<00:00, 10.13it/s]\n"
          ]
        },
        {
          "output_type": "stream",
          "name": "stdout",
          "text": [
            "Train loss: 0.08027549088001251\tVal loss: 0.10291880369186401\tTrain acc: 97.35774253731344\tVal acc: 96.18566176470588\n",
            "########## Epoch 31\n"
          ]
        },
        {
          "output_type": "stream",
          "name": "stderr",
          "text": [
            "100%|██████████| 5/5 [00:00<00:00, 19.72it/s]\n",
            "100%|██████████| 2/2 [00:00<00:00, 10.23it/s]\n"
          ]
        },
        {
          "output_type": "stream",
          "name": "stdout",
          "text": [
            "Train loss: 0.08466466516256332\tVal loss: 0.10319791734218597\tTrain acc: 97.29361007462687\tVal acc: 96.18566176470588\n",
            "########## Epoch 32\n"
          ]
        },
        {
          "output_type": "stream",
          "name": "stderr",
          "text": [
            "100%|██████████| 5/5 [00:00<00:00, 20.91it/s]\n",
            "100%|██████████| 2/2 [00:00<00:00, 10.43it/s]\n"
          ]
        },
        {
          "output_type": "stream",
          "name": "stdout",
          "text": [
            "Train loss: 0.08499012887477875\tVal loss: 0.10307883471250534\tTrain acc: 97.29361007462687\tVal acc: 96.18566176470588\n",
            "########## Epoch 33\n"
          ]
        },
        {
          "output_type": "stream",
          "name": "stderr",
          "text": [
            "100%|██████████| 5/5 [00:00<00:00, 21.20it/s]\n",
            "100%|██████████| 2/2 [00:00<00:00, 10.15it/s]\n"
          ]
        },
        {
          "output_type": "stream",
          "name": "stdout",
          "text": [
            "Train loss: 0.07731795310974121\tVal loss: 0.09942474961280823\tTrain acc: 98.28125\tVal acc: 96.18566176470588\n",
            "########## Epoch 34\n"
          ]
        },
        {
          "output_type": "stream",
          "name": "stderr",
          "text": [
            "100%|██████████| 5/5 [00:00<00:00, 20.12it/s]\n",
            "100%|██████████| 2/2 [00:00<00:00, 10.21it/s]\n"
          ]
        },
        {
          "output_type": "stream",
          "name": "stdout",
          "text": [
            "Train loss: 0.07829390466213226\tVal loss: 0.10230696946382523\tTrain acc: 97.91161380597015\tVal acc: 96.18566176470588\n",
            "########## Epoch 35\n"
          ]
        },
        {
          "output_type": "stream",
          "name": "stderr",
          "text": [
            "100%|██████████| 5/5 [00:00<00:00, 19.99it/s]\n",
            "100%|██████████| 2/2 [00:00<00:00, 10.19it/s]\n"
          ]
        },
        {
          "output_type": "stream",
          "name": "stdout",
          "text": [
            "Train loss: 0.0737278014421463\tVal loss: 0.10038387030363083\tTrain acc: 97.36473880597015\tVal acc: 96.18566176470588\n",
            "########## Epoch 36\n"
          ]
        },
        {
          "output_type": "stream",
          "name": "stderr",
          "text": [
            "100%|██████████| 5/5 [00:00<00:00, 17.24it/s]\n",
            "100%|██████████| 2/2 [00:00<00:00, 10.67it/s]\n"
          ]
        },
        {
          "output_type": "stream",
          "name": "stdout",
          "text": [
            "Train loss: 0.07604063302278519\tVal loss: 0.09856320917606354\tTrain acc: 97.60611007462687\tVal acc: 96.18566176470588\n",
            "########## Epoch 37\n"
          ]
        },
        {
          "output_type": "stream",
          "name": "stderr",
          "text": [
            "100%|██████████| 5/5 [00:00<00:00, 20.58it/s]\n",
            "100%|██████████| 2/2 [00:00<00:00, 10.18it/s]\n"
          ]
        },
        {
          "output_type": "stream",
          "name": "stdout",
          "text": [
            "Train loss: 0.06708189845085144\tVal loss: 0.09865331649780273\tTrain acc: 98.0538712686567\tVal acc: 96.18566176470588\n",
            "########## Epoch 38\n"
          ]
        },
        {
          "output_type": "stream",
          "name": "stderr",
          "text": [
            "100%|██████████| 5/5 [00:00<00:00, 20.94it/s]\n",
            "100%|██████████| 2/2 [00:00<00:00,  9.97it/s]\n"
          ]
        },
        {
          "output_type": "stream",
          "name": "stdout",
          "text": [
            "Train loss: 0.06417255103588104\tVal loss: 0.09625349938869476\tTrain acc: 98.1319962686567\tVal acc: 95.99034926470588\n",
            "########## Epoch 39\n"
          ]
        },
        {
          "output_type": "stream",
          "name": "stderr",
          "text": [
            "100%|██████████| 5/5 [00:00<00:00, 21.17it/s]\n",
            "100%|██████████| 2/2 [00:00<00:00, 10.34it/s]\n"
          ]
        },
        {
          "output_type": "stream",
          "name": "stdout",
          "text": [
            "Train loss: 0.06682814657688141\tVal loss: 0.0963829755783081\tTrain acc: 98.6788712686567\tVal acc: 95.99034926470588\n",
            "########## Epoch 40\n"
          ]
        },
        {
          "output_type": "stream",
          "name": "stderr",
          "text": [
            "100%|██████████| 5/5 [00:00<00:00, 21.21it/s]\n",
            "100%|██████████| 2/2 [00:00<00:00,  9.80it/s]\n"
          ]
        },
        {
          "output_type": "stream",
          "name": "stdout",
          "text": [
            "Train loss: 0.0660087838768959\tVal loss: 0.10184270143508911\tTrain acc: 97.99673507462687\tVal acc: 96.18566176470588\n",
            "########## Epoch 41\n"
          ]
        },
        {
          "output_type": "stream",
          "name": "stderr",
          "text": [
            "100%|██████████| 5/5 [00:00<00:00, 21.01it/s]\n",
            "100%|██████████| 2/2 [00:00<00:00,  9.88it/s]\n"
          ]
        },
        {
          "output_type": "stream",
          "name": "stdout",
          "text": [
            "Train loss: 0.05989803001284599\tVal loss: 0.09589453041553497\tTrain acc: 98.4375\tVal acc: 96.18566176470588\n",
            "########## Epoch 42\n"
          ]
        },
        {
          "output_type": "stream",
          "name": "stderr",
          "text": [
            "100%|██████████| 5/5 [00:00<00:00, 20.42it/s]\n",
            "100%|██████████| 2/2 [00:00<00:00, 10.30it/s]\n"
          ]
        },
        {
          "output_type": "stream",
          "name": "stdout",
          "text": [
            "Train loss: 0.05832240730524063\tVal loss: 0.09489041566848755\tTrain acc: 98.4375\tVal acc: 96.18566176470588\n",
            "########## Epoch 43\n"
          ]
        },
        {
          "output_type": "stream",
          "name": "stderr",
          "text": [
            "100%|██████████| 5/5 [00:00<00:00, 21.05it/s]\n",
            "100%|██████████| 2/2 [00:00<00:00, 10.64it/s]\n"
          ]
        },
        {
          "output_type": "stream",
          "name": "stdout",
          "text": [
            "Train loss: 0.06062392517924309\tVal loss: 0.10012639313936234\tTrain acc: 98.3663712686567\tVal acc: 96.38097426470588\n",
            "########## Epoch 44\n"
          ]
        },
        {
          "output_type": "stream",
          "name": "stderr",
          "text": [
            "100%|██████████| 5/5 [00:00<00:00, 21.28it/s]\n",
            "100%|██████████| 2/2 [00:00<00:00, 10.44it/s]\n"
          ]
        },
        {
          "output_type": "stream",
          "name": "stdout",
          "text": [
            "Train loss: 0.060366757214069366\tVal loss: 0.09495848417282104\tTrain acc: 98.22411380597015\tVal acc: 96.38097426470588\n",
            "########## Epoch 45\n"
          ]
        },
        {
          "output_type": "stream",
          "name": "stderr",
          "text": [
            "100%|██████████| 5/5 [00:00<00:00, 21.30it/s]\n",
            "100%|██████████| 2/2 [00:00<00:00, 10.57it/s]\n"
          ]
        },
        {
          "output_type": "stream",
          "name": "stdout",
          "text": [
            "Train loss: 0.059282004833221436\tVal loss: 0.09818825125694275\tTrain acc: 98.45149253731344\tVal acc: 96.38097426470588\n",
            "########## Epoch 46\n"
          ]
        },
        {
          "output_type": "stream",
          "name": "stderr",
          "text": [
            "100%|██████████| 5/5 [00:00<00:00, 21.46it/s]\n",
            "100%|██████████| 2/2 [00:00<00:00,  8.76it/s]\n"
          ]
        },
        {
          "output_type": "stream",
          "name": "stdout",
          "text": [
            "Train loss: 0.06056717783212662\tVal loss: 0.09573692828416824\tTrain acc: 98.37336753731344\tVal acc: 96.38097426470588\n",
            "########## Epoch 47\n"
          ]
        },
        {
          "output_type": "stream",
          "name": "stderr",
          "text": [
            "100%|██████████| 5/5 [00:00<00:00, 20.99it/s]\n",
            "100%|██████████| 2/2 [00:00<00:00,  9.77it/s]\n"
          ]
        },
        {
          "output_type": "stream",
          "name": "stdout",
          "text": [
            "Train loss: 0.05245702713727951\tVal loss: 0.0964057445526123\tTrain acc: 98.90625\tVal acc: 96.38097426470588\n",
            "########## Epoch 48\n"
          ]
        },
        {
          "output_type": "stream",
          "name": "stderr",
          "text": [
            "100%|██████████| 5/5 [00:00<00:00, 20.83it/s]\n",
            "100%|██████████| 2/2 [00:00<00:00,  9.75it/s]\n"
          ]
        },
        {
          "output_type": "stream",
          "name": "stdout",
          "text": [
            "Train loss: 0.050089407712221146\tVal loss: 0.09945980459451675\tTrain acc: 98.515625\tVal acc: 96.57628676470588\n",
            "########## Epoch 49\n"
          ]
        },
        {
          "output_type": "stream",
          "name": "stderr",
          "text": [
            "100%|██████████| 5/5 [00:00<00:00, 19.15it/s]\n",
            "100%|██████████| 2/2 [00:00<00:00, 10.13it/s]\n"
          ]
        },
        {
          "output_type": "stream",
          "name": "stdout",
          "text": [
            "Train loss: 0.051801878958940506\tVal loss: 0.09313729405403137\tTrain acc: 98.5226212686567\tVal acc: 96.18566176470588\n",
            "########## Epoch 50\n"
          ]
        },
        {
          "output_type": "stream",
          "name": "stderr",
          "text": [
            "100%|██████████| 5/5 [00:00<00:00, 20.27it/s]\n",
            "100%|██████████| 2/2 [00:00<00:00,  9.93it/s]\n"
          ]
        },
        {
          "output_type": "stream",
          "name": "stdout",
          "text": [
            "Train loss: 0.04935497045516968\tVal loss: 0.09749703109264374\tTrain acc: 98.68586753731344\tVal acc: 96.77159926470588\n",
            "########## Epoch 51\n"
          ]
        },
        {
          "output_type": "stream",
          "name": "stderr",
          "text": [
            "100%|██████████| 5/5 [00:00<00:00, 20.08it/s]\n",
            "100%|██████████| 2/2 [00:00<00:00, 10.21it/s]\n"
          ]
        },
        {
          "output_type": "stream",
          "name": "stdout",
          "text": [
            "Train loss: 0.051414377987384796\tVal loss: 0.09440150856971741\tTrain acc: 98.29524253731344\tVal acc: 96.57628676470588\n",
            "########## Epoch 52\n"
          ]
        },
        {
          "output_type": "stream",
          "name": "stderr",
          "text": [
            "100%|██████████| 5/5 [00:00<00:00, 20.41it/s]\n",
            "100%|██████████| 2/2 [00:00<00:00, 10.23it/s]\n"
          ]
        },
        {
          "output_type": "stream",
          "name": "stdout",
          "text": [
            "Train loss: 0.05130215734243393\tVal loss: 0.0941675528883934\tTrain acc: 98.45848880597015\tVal acc: 96.77159926470588\n",
            "########## Epoch 53\n"
          ]
        },
        {
          "output_type": "stream",
          "name": "stderr",
          "text": [
            "100%|██████████| 5/5 [00:00<00:00, 21.09it/s]\n",
            "100%|██████████| 2/2 [00:00<00:00, 10.52it/s]\n"
          ]
        },
        {
          "output_type": "stream",
          "name": "stdout",
          "text": [
            "Train loss: 0.043995458632707596\tVal loss: 0.0921868160367012\tTrain acc: 98.45149253731344\tVal acc: 96.57628676470588\n",
            "########## Epoch 54\n"
          ]
        },
        {
          "output_type": "stream",
          "name": "stderr",
          "text": [
            "100%|██████████| 5/5 [00:00<00:00, 20.80it/s]\n",
            "100%|██████████| 2/2 [00:00<00:00, 10.18it/s]\n"
          ]
        },
        {
          "output_type": "stream",
          "name": "stdout",
          "text": [
            "Train loss: 0.04284779354929924\tVal loss: 0.09600931406021118\tTrain acc: 98.7569962686567\tVal acc: 96.77159926470588\n",
            "########## Epoch 55\n"
          ]
        },
        {
          "output_type": "stream",
          "name": "stderr",
          "text": [
            "100%|██████████| 5/5 [00:00<00:00, 21.65it/s]\n",
            "100%|██████████| 2/2 [00:00<00:00,  9.88it/s]\n"
          ]
        },
        {
          "output_type": "stream",
          "name": "stdout",
          "text": [
            "Train loss: 0.038086194545030594\tVal loss: 0.09250513464212418\tTrain acc: 98.984375\tVal acc: 96.77159926470588\n",
            "########## Epoch 56\n"
          ]
        },
        {
          "output_type": "stream",
          "name": "stderr",
          "text": [
            "100%|██████████| 5/5 [00:00<00:00, 20.50it/s]\n",
            "100%|██████████| 2/2 [00:00<00:00, 10.26it/s]\n"
          ]
        },
        {
          "output_type": "stream",
          "name": "stdout",
          "text": [
            "Train loss: 0.038280315697193146\tVal loss: 0.09171447902917862\tTrain acc: 98.7569962686567\tVal acc: 96.57628676470588\n",
            "########## Epoch 57\n"
          ]
        },
        {
          "output_type": "stream",
          "name": "stderr",
          "text": [
            "100%|██████████| 5/5 [00:00<00:00, 18.30it/s]\n",
            "100%|██████████| 2/2 [00:00<00:00,  9.95it/s]\n"
          ]
        },
        {
          "output_type": "stream",
          "name": "stdout",
          "text": [
            "Train loss: 0.03989451378583908\tVal loss: 0.09415028244256973\tTrain acc: 98.77098880597015\tVal acc: 96.77159926470588\n",
            "########## Epoch 58\n"
          ]
        },
        {
          "output_type": "stream",
          "name": "stderr",
          "text": [
            "100%|██████████| 5/5 [00:00<00:00, 19.98it/s]\n",
            "100%|██████████| 2/2 [00:00<00:00, 10.28it/s]\n"
          ]
        },
        {
          "output_type": "stream",
          "name": "stdout",
          "text": [
            "Train loss: 0.03457765281200409\tVal loss: 0.09482003003358841\tTrain acc: 99.0694962686567\tVal acc: 96.77159926470588\n",
            "########## Epoch 59\n"
          ]
        },
        {
          "output_type": "stream",
          "name": "stderr",
          "text": [
            "100%|██████████| 5/5 [00:00<00:00, 20.89it/s]\n",
            "100%|██████████| 2/2 [00:00<00:00,  9.45it/s]\n"
          ]
        },
        {
          "output_type": "stream",
          "name": "stdout",
          "text": [
            "Train loss: 0.037018071860075\tVal loss: 0.0929201990365982\tTrain acc: 98.77098880597015\tVal acc: 96.77159926470588\n",
            "########## Epoch 60\n"
          ]
        },
        {
          "output_type": "stream",
          "name": "stderr",
          "text": [
            "100%|██████████| 5/5 [00:00<00:00, 21.37it/s]\n",
            "100%|██████████| 2/2 [00:00<00:00, 10.53it/s]\n"
          ]
        },
        {
          "output_type": "stream",
          "name": "stdout",
          "text": [
            "Train loss: 0.0336894616484642\tVal loss: 0.09470175206661224\tTrain acc: 98.9132462686567\tVal acc: 96.57628676470588\n",
            "########## Epoch 61\n"
          ]
        },
        {
          "output_type": "stream",
          "name": "stderr",
          "text": [
            "100%|██████████| 5/5 [00:00<00:00, 21.25it/s]\n",
            "100%|██████████| 2/2 [00:00<00:00, 10.47it/s]\n"
          ]
        },
        {
          "output_type": "stream",
          "name": "stdout",
          "text": [
            "Train loss: 0.029006969183683395\tVal loss: 0.09490188956260681\tTrain acc: 98.9913712686567\tVal acc: 96.57628676470588\n",
            "########## Epoch 62\n"
          ]
        },
        {
          "output_type": "stream",
          "name": "stderr",
          "text": [
            "100%|██████████| 5/5 [00:00<00:00, 20.23it/s]\n",
            "100%|██████████| 2/2 [00:00<00:00, 10.24it/s]\n"
          ]
        },
        {
          "output_type": "stream",
          "name": "stdout",
          "text": [
            "Train loss: 0.02914879284799099\tVal loss: 0.09100525081157684\tTrain acc: 99.3038712686567\tVal acc: 98.046875\n",
            "########## Epoch 63\n"
          ]
        },
        {
          "output_type": "stream",
          "name": "stderr",
          "text": [
            "100%|██████████| 5/5 [00:00<00:00, 21.49it/s]\n",
            "100%|██████████| 2/2 [00:00<00:00, 10.14it/s]\n"
          ]
        },
        {
          "output_type": "stream",
          "name": "stdout",
          "text": [
            "Train loss: 0.023596791550517082\tVal loss: 0.09833673387765884\tTrain acc: 99.375\tVal acc: 96.57628676470588\n",
            "########## Epoch 64\n"
          ]
        },
        {
          "output_type": "stream",
          "name": "stderr",
          "text": [
            "100%|██████████| 5/5 [00:00<00:00, 19.33it/s]\n",
            "100%|██████████| 2/2 [00:00<00:00, 10.17it/s]\n"
          ]
        },
        {
          "output_type": "stream",
          "name": "stdout",
          "text": [
            "Train loss: 0.022642046213150024\tVal loss: 0.09224867075681686\tTrain acc: 99.5382462686567\tVal acc: 98.046875\n",
            "########## Epoch 65\n"
          ]
        },
        {
          "output_type": "stream",
          "name": "stderr",
          "text": [
            "100%|██████████| 5/5 [00:00<00:00, 21.63it/s]\n",
            "100%|██████████| 2/2 [00:00<00:00, 10.41it/s]\n"
          ]
        },
        {
          "output_type": "stream",
          "name": "stdout",
          "text": [
            "Train loss: 0.022952226921916008\tVal loss: 0.09483585506677628\tTrain acc: 99.53125\tVal acc: 98.046875\n",
            "########## Epoch 66\n"
          ]
        },
        {
          "output_type": "stream",
          "name": "stderr",
          "text": [
            "100%|██████████| 5/5 [00:00<00:00, 10.16it/s]\n",
            "100%|██████████| 2/2 [00:00<00:00, 10.27it/s]\n"
          ]
        },
        {
          "output_type": "stream",
          "name": "stdout",
          "text": [
            "Train loss: 0.019395053386688232\tVal loss: 0.09890443831682205\tTrain acc: 99.53125\tVal acc: 96.57628676470588\n",
            "########## Epoch 67\n"
          ]
        },
        {
          "output_type": "stream",
          "name": "stderr",
          "text": [
            "100%|██████████| 5/5 [00:00<00:00, 11.85it/s]\n",
            "100%|██████████| 2/2 [00:00<00:00,  6.03it/s]\n"
          ]
        },
        {
          "output_type": "stream",
          "name": "stdout",
          "text": [
            "Train loss: 0.019085410982370377\tVal loss: 0.10158328711986542\tTrain acc: 99.6875\tVal acc: 96.57628676470588\n",
            "########## Epoch 68\n"
          ]
        },
        {
          "output_type": "stream",
          "name": "stderr",
          "text": [
            "100%|██████████| 5/5 [00:00<00:00, 20.64it/s]\n",
            "100%|██████████| 2/2 [00:00<00:00,  6.23it/s]\n"
          ]
        },
        {
          "output_type": "stream",
          "name": "stdout",
          "text": [
            "Train loss: 0.01761491410434246\tVal loss: 0.10736173391342163\tTrain acc: 99.6163712686567\tVal acc: 96.57628676470588\n",
            "########## Epoch 69\n"
          ]
        },
        {
          "output_type": "stream",
          "name": "stderr",
          "text": [
            "100%|██████████| 5/5 [00:00<00:00, 17.31it/s]\n",
            "100%|██████████| 2/2 [00:00<00:00,  9.68it/s]\n"
          ]
        },
        {
          "output_type": "stream",
          "name": "stdout",
          "text": [
            "Train loss: 0.018780330196022987\tVal loss: 0.11268021166324615\tTrain acc: 99.3819962686567\tVal acc: 96.77159926470588\n",
            "########## Epoch 70\n"
          ]
        },
        {
          "output_type": "stream",
          "name": "stderr",
          "text": [
            "100%|██████████| 5/5 [00:00<00:00, 21.29it/s]\n",
            "100%|██████████| 2/2 [00:00<00:00, 10.21it/s]\n"
          ]
        },
        {
          "output_type": "stream",
          "name": "stdout",
          "text": [
            "Train loss: 0.013101747259497643\tVal loss: 0.10170090943574905\tTrain acc: 99.53125\tVal acc: 98.4375\n",
            "########## Epoch 71\n"
          ]
        },
        {
          "output_type": "stream",
          "name": "stderr",
          "text": [
            "100%|██████████| 5/5 [00:00<00:00, 20.03it/s]\n",
            "100%|██████████| 2/2 [00:00<00:00, 10.13it/s]\n"
          ]
        },
        {
          "output_type": "stream",
          "name": "stdout",
          "text": [
            "Train loss: 0.014383291825652122\tVal loss: 0.12399424612522125\tTrain acc: 99.765625\tVal acc: 96.57628676470588\n",
            "########## Epoch 72\n"
          ]
        },
        {
          "output_type": "stream",
          "name": "stderr",
          "text": [
            "100%|██████████| 5/5 [00:00<00:00, 21.69it/s]\n",
            "100%|██████████| 2/2 [00:00<00:00, 10.47it/s]\n"
          ]
        },
        {
          "output_type": "stream",
          "name": "stdout",
          "text": [
            "Train loss: 0.014041292481124401\tVal loss: 0.1057150661945343\tTrain acc: 99.6944962686567\tVal acc: 98.2421875\n",
            "########## Epoch 73\n"
          ]
        },
        {
          "output_type": "stream",
          "name": "stderr",
          "text": [
            "100%|██████████| 5/5 [00:00<00:00, 19.87it/s]\n",
            "100%|██████████| 2/2 [00:00<00:00, 10.26it/s]\n"
          ]
        },
        {
          "output_type": "stream",
          "name": "stdout",
          "text": [
            "Train loss: 0.010032187215983868\tVal loss: 0.12127579748630524\tTrain acc: 99.765625\tVal acc: 96.77159926470588\n",
            "########## Epoch 74\n"
          ]
        },
        {
          "output_type": "stream",
          "name": "stderr",
          "text": [
            "100%|██████████| 5/5 [00:00<00:00, 21.12it/s]\n",
            "100%|██████████| 2/2 [00:00<00:00, 10.23it/s]\n"
          ]
        },
        {
          "output_type": "stream",
          "name": "stdout",
          "text": [
            "Train loss: 0.010302281938493252\tVal loss: 0.10715612024068832\tTrain acc: 99.5382462686567\tVal acc: 98.2421875\n",
            "########## Epoch 75\n"
          ]
        },
        {
          "output_type": "stream",
          "name": "stderr",
          "text": [
            "100%|██████████| 5/5 [00:00<00:00, 20.53it/s]\n",
            "100%|██████████| 2/2 [00:00<00:00, 10.23it/s]\n"
          ]
        },
        {
          "output_type": "stream",
          "name": "stdout",
          "text": [
            "Train loss: 0.009163862094283104\tVal loss: 0.11415235698223114\tTrain acc: 99.6875\tVal acc: 98.2421875\n",
            "########## Epoch 76\n"
          ]
        },
        {
          "output_type": "stream",
          "name": "stderr",
          "text": [
            "100%|██████████| 5/5 [00:00<00:00, 21.28it/s]\n",
            "100%|██████████| 2/2 [00:00<00:00, 10.31it/s]\n"
          ]
        },
        {
          "output_type": "stream",
          "name": "stdout",
          "text": [
            "Train loss: 0.008164201863110065\tVal loss: 0.11215457320213318\tTrain acc: 99.765625\tVal acc: 98.2421875\n",
            "########## Epoch 77\n"
          ]
        },
        {
          "output_type": "stream",
          "name": "stderr",
          "text": [
            "100%|██████████| 5/5 [00:00<00:00, 21.06it/s]\n",
            "100%|██████████| 2/2 [00:00<00:00,  8.40it/s]\n"
          ]
        },
        {
          "output_type": "stream",
          "name": "stdout",
          "text": [
            "Train loss: 0.006693991366773844\tVal loss: 0.14129376411437988\tTrain acc: 99.921875\tVal acc: 96.57628676470588\n",
            "########## Epoch 78\n"
          ]
        },
        {
          "output_type": "stream",
          "name": "stderr",
          "text": [
            "100%|██████████| 5/5 [00:00<00:00, 20.95it/s]\n",
            "100%|██████████| 2/2 [00:00<00:00, 10.31it/s]\n"
          ]
        },
        {
          "output_type": "stream",
          "name": "stdout",
          "text": [
            "Train loss: 0.009962514042854309\tVal loss: 0.12369267642498016\tTrain acc: 99.84375\tVal acc: 98.046875\n",
            "########## Epoch 79\n"
          ]
        },
        {
          "output_type": "stream",
          "name": "stderr",
          "text": [
            "100%|██████████| 5/5 [00:00<00:00, 20.36it/s]\n",
            "100%|██████████| 2/2 [00:00<00:00,  9.38it/s]\n"
          ]
        },
        {
          "output_type": "stream",
          "name": "stdout",
          "text": [
            "Train loss: 0.007445045746862888\tVal loss: 0.17178595066070557\tTrain acc: 99.84375\tVal acc: 95.10569852941177\n",
            "########## Epoch 80\n"
          ]
        },
        {
          "output_type": "stream",
          "name": "stderr",
          "text": [
            "100%|██████████| 5/5 [00:00<00:00, 21.10it/s]\n",
            "100%|██████████| 2/2 [00:00<00:00, 10.52it/s]\n"
          ]
        },
        {
          "output_type": "stream",
          "name": "stdout",
          "text": [
            "Train loss: 0.012314653024077415\tVal loss: 0.15669770538806915\tTrain acc: 99.296875\tVal acc: 94.32444852941177\n",
            "########## Epoch 81\n"
          ]
        },
        {
          "output_type": "stream",
          "name": "stderr",
          "text": [
            "100%|██████████| 5/5 [00:00<00:00, 20.33it/s]\n",
            "100%|██████████| 2/2 [00:00<00:00,  9.66it/s]\n"
          ]
        },
        {
          "output_type": "stream",
          "name": "stdout",
          "text": [
            "Train loss: 0.025821805000305176\tVal loss: 0.22409360110759735\tTrain acc: 98.45848880597015\tVal acc: 95.30101102941177\n",
            "########## Epoch 82\n"
          ]
        },
        {
          "output_type": "stream",
          "name": "stderr",
          "text": [
            "100%|██████████| 5/5 [00:00<00:00, 21.21it/s]\n",
            "100%|██████████| 2/2 [00:00<00:00, 10.00it/s]\n"
          ]
        },
        {
          "output_type": "stream",
          "name": "stdout",
          "text": [
            "Train loss: 0.027112305164337158\tVal loss: 0.14322401583194733\tTrain acc: 98.92024253731344\tVal acc: 96.18566176470588\n",
            "########## Epoch 83\n"
          ]
        },
        {
          "output_type": "stream",
          "name": "stderr",
          "text": [
            "100%|██████████| 5/5 [00:00<00:00, 20.53it/s]\n",
            "100%|██████████| 2/2 [00:00<00:00, 10.49it/s]\n"
          ]
        },
        {
          "output_type": "stream",
          "name": "stdout",
          "text": [
            "Train loss: 0.018630987033247948\tVal loss: 0.14198297262191772\tTrain acc: 99.6163712686567\tVal acc: 98.2421875\n",
            "########## Epoch 84\n"
          ]
        },
        {
          "output_type": "stream",
          "name": "stderr",
          "text": [
            "100%|██████████| 5/5 [00:00<00:00, 21.12it/s]\n",
            "100%|██████████| 2/2 [00:00<00:00, 10.41it/s]\n"
          ]
        },
        {
          "output_type": "stream",
          "name": "stdout",
          "text": [
            "Train loss: 0.008892123587429523\tVal loss: 0.11320406198501587\tTrain acc: 99.6875\tVal acc: 98.046875\n",
            "########## Epoch 85\n"
          ]
        },
        {
          "output_type": "stream",
          "name": "stderr",
          "text": [
            "100%|██████████| 5/5 [00:00<00:00, 20.29it/s]\n",
            "100%|██████████| 2/2 [00:00<00:00, 10.28it/s]\n"
          ]
        },
        {
          "output_type": "stream",
          "name": "stdout",
          "text": [
            "Train loss: 0.008494190871715546\tVal loss: 0.12888051569461823\tTrain acc: 99.53125\tVal acc: 97.8515625\n",
            "########## Epoch 86\n"
          ]
        },
        {
          "output_type": "stream",
          "name": "stderr",
          "text": [
            "100%|██████████| 5/5 [00:00<00:00, 20.74it/s]\n",
            "100%|██████████| 2/2 [00:00<00:00, 10.31it/s]\n"
          ]
        },
        {
          "output_type": "stream",
          "name": "stdout",
          "text": [
            "Train loss: 0.006101746577769518\tVal loss: 0.12752336263656616\tTrain acc: 99.84375\tVal acc: 98.046875\n",
            "########## Epoch 87\n"
          ]
        },
        {
          "output_type": "stream",
          "name": "stderr",
          "text": [
            "100%|██████████| 5/5 [00:00<00:00, 20.78it/s]\n",
            "100%|██████████| 2/2 [00:00<00:00, 10.03it/s]\n"
          ]
        },
        {
          "output_type": "stream",
          "name": "stdout",
          "text": [
            "Train loss: 0.003427243558689952\tVal loss: 0.12354908138513565\tTrain acc: 100.0\tVal acc: 98.046875\n",
            "########## Epoch 88\n"
          ]
        },
        {
          "output_type": "stream",
          "name": "stderr",
          "text": [
            "100%|██████████| 5/5 [00:00<00:00, 17.35it/s]\n",
            "100%|██████████| 2/2 [00:00<00:00,  9.82it/s]\n"
          ]
        },
        {
          "output_type": "stream",
          "name": "stdout",
          "text": [
            "Train loss: 0.0029862141236662865\tVal loss: 0.13544213771820068\tTrain acc: 100.0\tVal acc: 97.8515625\n",
            "########## Epoch 89\n"
          ]
        },
        {
          "output_type": "stream",
          "name": "stderr",
          "text": [
            "100%|██████████| 5/5 [00:00<00:00, 20.74it/s]\n",
            "100%|██████████| 2/2 [00:00<00:00, 10.28it/s]\n"
          ]
        },
        {
          "output_type": "stream",
          "name": "stdout",
          "text": [
            "Train loss: 0.0024335957132279873\tVal loss: 0.13204438984394073\tTrain acc: 100.0\tVal acc: 97.8515625\n",
            "########## Epoch 90\n"
          ]
        },
        {
          "output_type": "stream",
          "name": "stderr",
          "text": [
            "100%|██████████| 5/5 [00:00<00:00, 19.22it/s]\n",
            "100%|██████████| 2/2 [00:00<00:00, 10.34it/s]\n"
          ]
        },
        {
          "output_type": "stream",
          "name": "stdout",
          "text": [
            "Train loss: 0.002688672859221697\tVal loss: 0.1316913515329361\tTrain acc: 99.921875\tVal acc: 98.046875\n",
            "########## Epoch 91\n"
          ]
        },
        {
          "output_type": "stream",
          "name": "stderr",
          "text": [
            "100%|██████████| 5/5 [00:00<00:00, 20.26it/s]\n",
            "100%|██████████| 2/2 [00:00<00:00, 10.33it/s]\n"
          ]
        },
        {
          "output_type": "stream",
          "name": "stdout",
          "text": [
            "Train loss: 0.0028949729166924953\tVal loss: 0.1361430138349533\tTrain acc: 100.0\tVal acc: 98.4375\n",
            "########## Epoch 92\n"
          ]
        },
        {
          "output_type": "stream",
          "name": "stderr",
          "text": [
            "100%|██████████| 5/5 [00:00<00:00, 19.47it/s]\n",
            "100%|██████████| 2/2 [00:00<00:00,  9.40it/s]\n"
          ]
        },
        {
          "output_type": "stream",
          "name": "stdout",
          "text": [
            "Train loss: 0.0022501801140606403\tVal loss: 0.1472264677286148\tTrain acc: 100.0\tVal acc: 98.046875\n",
            "########## Epoch 93\n"
          ]
        },
        {
          "output_type": "stream",
          "name": "stderr",
          "text": [
            "100%|██████████| 5/5 [00:00<00:00, 20.62it/s]\n",
            "100%|██████████| 2/2 [00:00<00:00,  9.92it/s]\n"
          ]
        },
        {
          "output_type": "stream",
          "name": "stdout",
          "text": [
            "Train loss: 0.0033328072167932987\tVal loss: 0.14621590077877045\tTrain acc: 99.8507462686567\tVal acc: 98.2421875\n",
            "########## Epoch 94\n"
          ]
        },
        {
          "output_type": "stream",
          "name": "stderr",
          "text": [
            "100%|██████████| 5/5 [00:00<00:00, 18.52it/s]\n",
            "100%|██████████| 2/2 [00:00<00:00,  9.79it/s]\n"
          ]
        },
        {
          "output_type": "stream",
          "name": "stdout",
          "text": [
            "Train loss: 0.0019445011857897043\tVal loss: 0.1403973549604416\tTrain acc: 100.0\tVal acc: 98.046875\n",
            "########## Epoch 95\n"
          ]
        },
        {
          "output_type": "stream",
          "name": "stderr",
          "text": [
            "100%|██████████| 5/5 [00:00<00:00, 20.10it/s]\n",
            "100%|██████████| 2/2 [00:00<00:00,  5.21it/s]\n"
          ]
        },
        {
          "output_type": "stream",
          "name": "stdout",
          "text": [
            "Train loss: 0.0021646632812917233\tVal loss: 0.14948436617851257\tTrain acc: 100.0\tVal acc: 98.046875\n",
            "########## Epoch 96\n"
          ]
        },
        {
          "output_type": "stream",
          "name": "stderr",
          "text": [
            "100%|██████████| 5/5 [00:00<00:00, 18.87it/s]\n",
            "100%|██████████| 2/2 [00:00<00:00,  9.99it/s]\n"
          ]
        },
        {
          "output_type": "stream",
          "name": "stdout",
          "text": [
            "Train loss: 0.001926091848872602\tVal loss: 0.15200188755989075\tTrain acc: 100.0\tVal acc: 98.046875\n",
            "########## Epoch 97\n"
          ]
        },
        {
          "output_type": "stream",
          "name": "stderr",
          "text": [
            "100%|██████████| 5/5 [00:00<00:00, 11.37it/s]\n",
            "100%|██████████| 2/2 [00:00<00:00,  9.63it/s]\n"
          ]
        },
        {
          "output_type": "stream",
          "name": "stdout",
          "text": [
            "Train loss: 0.0016038420144468546\tVal loss: 0.14328576624393463\tTrain acc: 100.0\tVal acc: 98.046875\n",
            "########## Epoch 98\n"
          ]
        },
        {
          "output_type": "stream",
          "name": "stderr",
          "text": [
            "100%|██████████| 5/5 [00:00<00:00, 21.65it/s]\n",
            "100%|██████████| 2/2 [00:00<00:00,  9.73it/s]\n"
          ]
        },
        {
          "output_type": "stream",
          "name": "stdout",
          "text": [
            "Train loss: 0.002012348733842373\tVal loss: 0.14820529520511627\tTrain acc: 100.0\tVal acc: 98.4375\n",
            "########## Epoch 99\n"
          ]
        },
        {
          "output_type": "stream",
          "name": "stderr",
          "text": [
            "100%|██████████| 5/5 [00:00<00:00, 20.22it/s]\n",
            "100%|██████████| 2/2 [00:00<00:00,  9.66it/s]\n"
          ]
        },
        {
          "output_type": "stream",
          "name": "stdout",
          "text": [
            "Train loss: 0.0010223661083728075\tVal loss: 0.16381533443927765\tTrain acc: 100.0\tVal acc: 98.046875\n",
            "98.046875 99\n",
            "########## Epoch 0\n"
          ]
        },
        {
          "output_type": "stream",
          "name": "stderr",
          "text": [
            "100%|██████████| 3/3 [00:00<00:00, 13.36it/s]\n",
            "100%|██████████| 1/1 [00:00<00:00,  5.26it/s]\n"
          ]
        },
        {
          "output_type": "stream",
          "name": "stdout",
          "text": [
            "Train loss: 3.9986040592193604\tVal loss: 3.8696422576904297\tTrain acc: 0.1851851851851852\tVal acc: 70.28571428571429\n",
            "########## Epoch 1\n"
          ]
        },
        {
          "output_type": "stream",
          "name": "stderr",
          "text": [
            "100%|██████████| 3/3 [00:00<00:00, 11.82it/s]\n",
            "100%|██████████| 1/1 [00:00<00:00,  5.29it/s]\n"
          ]
        },
        {
          "output_type": "stream",
          "name": "stdout",
          "text": [
            "Train loss: 3.7980544567108154\tVal loss: 3.609705686569214\tTrain acc: 71.84895833333333\tVal acc: 82.85714285714286\n",
            "########## Epoch 2\n"
          ]
        },
        {
          "output_type": "stream",
          "name": "stderr",
          "text": [
            "100%|██████████| 3/3 [00:00<00:00, 13.57it/s]\n",
            "100%|██████████| 1/1 [00:00<00:00,  5.18it/s]\n"
          ]
        },
        {
          "output_type": "stream",
          "name": "stdout",
          "text": [
            "Train loss: 3.4972152709960938\tVal loss: 3.180610418319702\tTrain acc: 80.51793981481482\tVal acc: 82.85714285714286\n",
            "########## Epoch 3\n"
          ]
        },
        {
          "output_type": "stream",
          "name": "stderr",
          "text": [
            "100%|██████████| 3/3 [00:00<00:00, 13.33it/s]\n",
            "100%|██████████| 1/1 [00:00<00:00,  5.19it/s]\n"
          ]
        },
        {
          "output_type": "stream",
          "name": "stdout",
          "text": [
            "Train loss: 3.0009047985076904\tVal loss: 2.4734344482421875\tTrain acc: 80.62789351851852\tVal acc: 82.85714285714286\n",
            "########## Epoch 4\n"
          ]
        },
        {
          "output_type": "stream",
          "name": "stderr",
          "text": [
            "100%|██████████| 3/3 [00:00<00:00, 12.82it/s]\n",
            "100%|██████████| 1/1 [00:00<00:00,  5.35it/s]\n"
          ]
        },
        {
          "output_type": "stream",
          "name": "stdout",
          "text": [
            "Train loss: 2.2128398418426514\tVal loss: 1.4687405824661255\tTrain acc: 80.2980324074074\tVal acc: 82.85714285714286\n",
            "########## Epoch 5\n"
          ]
        },
        {
          "output_type": "stream",
          "name": "stderr",
          "text": [
            "100%|██████████| 3/3 [00:00<00:00, 12.83it/s]\n",
            "100%|██████████| 1/1 [00:00<00:00,  5.10it/s]\n"
          ]
        },
        {
          "output_type": "stream",
          "name": "stdout",
          "text": [
            "Train loss: 1.2661696672439575\tVal loss: 0.8014217615127563\tTrain acc: 80.35300925925925\tVal acc: 82.85714285714286\n",
            "########## Epoch 6\n"
          ]
        },
        {
          "output_type": "stream",
          "name": "stderr",
          "text": [
            "100%|██████████| 3/3 [00:00<00:00, 12.71it/s]\n",
            "100%|██████████| 1/1 [00:00<00:00,  5.33it/s]\n"
          ]
        },
        {
          "output_type": "stream",
          "name": "stdout",
          "text": [
            "Train loss: 0.9043372273445129\tVal loss: 0.7947333455085754\tTrain acc: 80.35300925925925\tVal acc: 82.85714285714286\n",
            "########## Epoch 7\n"
          ]
        },
        {
          "output_type": "stream",
          "name": "stderr",
          "text": [
            "100%|██████████| 3/3 [00:00<00:00, 13.32it/s]\n",
            "100%|██████████| 1/1 [00:00<00:00,  5.13it/s]\n"
          ]
        },
        {
          "output_type": "stream",
          "name": "stdout",
          "text": [
            "Train loss: 0.8723039627075195\tVal loss: 0.6792973279953003\tTrain acc: 80.68287037037037\tVal acc: 82.85714285714286\n",
            "########## Epoch 8\n"
          ]
        },
        {
          "output_type": "stream",
          "name": "stderr",
          "text": [
            "100%|██████████| 3/3 [00:00<00:00, 13.44it/s]\n",
            "100%|██████████| 1/1 [00:00<00:00,  4.91it/s]\n"
          ]
        },
        {
          "output_type": "stream",
          "name": "stdout",
          "text": [
            "Train loss: 0.6822630763053894\tVal loss: 0.42675039172172546\tTrain acc: 80.51793981481482\tVal acc: 82.85714285714286\n",
            "########## Epoch 9\n"
          ]
        },
        {
          "output_type": "stream",
          "name": "stderr",
          "text": [
            "100%|██████████| 3/3 [00:00<00:00, 12.72it/s]\n",
            "100%|██████████| 1/1 [00:00<00:00,  4.75it/s]\n"
          ]
        },
        {
          "output_type": "stream",
          "name": "stdout",
          "text": [
            "Train loss: 0.40071722865104675\tVal loss: 0.2751504182815552\tTrain acc: 82.30902777777777\tVal acc: 94.85714285714286\n",
            "########## Epoch 10\n"
          ]
        },
        {
          "output_type": "stream",
          "name": "stderr",
          "text": [
            "100%|██████████| 3/3 [00:00<00:00, 12.86it/s]\n",
            "100%|██████████| 1/1 [00:00<00:00,  5.04it/s]\n"
          ]
        },
        {
          "output_type": "stream",
          "name": "stdout",
          "text": [
            "Train loss: 0.3406273126602173\tVal loss: 0.378661572933197\tTrain acc: 96.22974537037037\tVal acc: 96.57142857142857\n",
            "########## Epoch 11\n"
          ]
        },
        {
          "output_type": "stream",
          "name": "stderr",
          "text": [
            "100%|██████████| 3/3 [00:00<00:00, 13.41it/s]\n",
            "100%|██████████| 1/1 [00:00<00:00,  5.26it/s]\n"
          ]
        },
        {
          "output_type": "stream",
          "name": "stdout",
          "text": [
            "Train loss: 0.3720405101776123\tVal loss: 0.25699010491371155\tTrain acc: 95.63368055555556\tVal acc: 97.71428571428571\n",
            "########## Epoch 12\n"
          ]
        },
        {
          "output_type": "stream",
          "name": "stderr",
          "text": [
            "100%|██████████| 3/3 [00:00<00:00, 13.28it/s]\n",
            "100%|██████████| 1/1 [00:00<00:00,  5.22it/s]\n"
          ]
        },
        {
          "output_type": "stream",
          "name": "stdout",
          "text": [
            "Train loss: 0.240000918507576\tVal loss: 0.1890229433774948\tTrain acc: 97.30613425925925\tVal acc: 97.14285714285714\n",
            "########## Epoch 13\n"
          ]
        },
        {
          "output_type": "stream",
          "name": "stderr",
          "text": [
            "100%|██████████| 3/3 [00:00<00:00, 13.56it/s]\n",
            "100%|██████████| 1/1 [00:00<00:00,  5.12it/s]\n"
          ]
        },
        {
          "output_type": "stream",
          "name": "stdout",
          "text": [
            "Train loss: 0.2022428959608078\tVal loss: 0.18854285776615143\tTrain acc: 95.28356481481482\tVal acc: 96.57142857142857\n",
            "########## Epoch 14\n"
          ]
        },
        {
          "output_type": "stream",
          "name": "stderr",
          "text": [
            "100%|██████████| 3/3 [00:00<00:00, 13.07it/s]\n",
            "100%|██████████| 1/1 [00:00<00:00,  5.20it/s]\n"
          ]
        },
        {
          "output_type": "stream",
          "name": "stdout",
          "text": [
            "Train loss: 0.19152866303920746\tVal loss: 0.17983341217041016\tTrain acc: 95.55844907407408\tVal acc: 96.57142857142857\n",
            "########## Epoch 15\n"
          ]
        },
        {
          "output_type": "stream",
          "name": "stderr",
          "text": [
            "100%|██████████| 3/3 [00:00<00:00, 13.07it/s]\n",
            "100%|██████████| 1/1 [00:00<00:00,  5.16it/s]\n"
          ]
        },
        {
          "output_type": "stream",
          "name": "stdout",
          "text": [
            "Train loss: 0.17053945362567902\tVal loss: 0.15875647962093353\tTrain acc: 95.3587962962963\tVal acc: 97.71428571428571\n",
            "########## Epoch 16\n"
          ]
        },
        {
          "output_type": "stream",
          "name": "stderr",
          "text": [
            "100%|██████████| 3/3 [00:00<00:00, 11.20it/s]\n",
            "100%|██████████| 1/1 [00:00<00:00,  5.27it/s]\n"
          ]
        },
        {
          "output_type": "stream",
          "name": "stdout",
          "text": [
            "Train loss: 0.14425481855869293\tVal loss: 0.13791126012802124\tTrain acc: 96.02430555555556\tVal acc: 97.71428571428571\n",
            "########## Epoch 17\n"
          ]
        },
        {
          "output_type": "stream",
          "name": "stderr",
          "text": [
            "100%|██████████| 3/3 [00:00<00:00, 13.13it/s]\n",
            "100%|██████████| 1/1 [00:00<00:00,  5.25it/s]\n"
          ]
        },
        {
          "output_type": "stream",
          "name": "stdout",
          "text": [
            "Train loss: 0.12100740522146225\tVal loss: 0.12722569704055786\tTrain acc: 97.73148148148148\tVal acc: 97.71428571428571\n",
            "########## Epoch 18\n"
          ]
        },
        {
          "output_type": "stream",
          "name": "stderr",
          "text": [
            "100%|██████████| 3/3 [00:00<00:00, 13.19it/s]\n",
            "100%|██████████| 1/1 [00:00<00:00,  5.08it/s]\n"
          ]
        },
        {
          "output_type": "stream",
          "name": "stdout",
          "text": [
            "Train loss: 0.11583837121725082\tVal loss: 0.12497344613075256\tTrain acc: 97.8269675925926\tVal acc: 97.14285714285714\n",
            "########## Epoch 19\n"
          ]
        },
        {
          "output_type": "stream",
          "name": "stderr",
          "text": [
            "100%|██████████| 3/3 [00:00<00:00, 12.76it/s]\n",
            "100%|██████████| 1/1 [00:00<00:00,  4.95it/s]\n"
          ]
        },
        {
          "output_type": "stream",
          "name": "stdout",
          "text": [
            "Train loss: 0.11359261721372604\tVal loss: 0.12501418590545654\tTrain acc: 98.1423611111111\tVal acc: 96.57142857142857\n",
            "########## Epoch 20\n"
          ]
        },
        {
          "output_type": "stream",
          "name": "stderr",
          "text": [
            "100%|██████████| 3/3 [00:00<00:00, 12.95it/s]\n",
            "100%|██████████| 1/1 [00:00<00:00,  5.14it/s]\n"
          ]
        },
        {
          "output_type": "stream",
          "name": "stdout",
          "text": [
            "Train loss: 0.10359367728233337\tVal loss: 0.12369991838932037\tTrain acc: 98.51273148148148\tVal acc: 96.57142857142857\n",
            "########## Epoch 21\n"
          ]
        },
        {
          "output_type": "stream",
          "name": "stderr",
          "text": [
            "100%|██████████| 3/3 [00:00<00:00, 13.58it/s]\n",
            "100%|██████████| 1/1 [00:00<00:00,  5.13it/s]\n"
          ]
        },
        {
          "output_type": "stream",
          "name": "stdout",
          "text": [
            "Train loss: 0.10185333341360092\tVal loss: 0.12234042584896088\tTrain acc: 98.45775462962963\tVal acc: 96.57142857142857\n",
            "########## Epoch 22\n"
          ]
        },
        {
          "output_type": "stream",
          "name": "stderr",
          "text": [
            "100%|██████████| 3/3 [00:00<00:00, 13.49it/s]\n",
            "100%|██████████| 1/1 [00:00<00:00,  5.25it/s]\n"
          ]
        },
        {
          "output_type": "stream",
          "name": "stdout",
          "text": [
            "Train loss: 0.09802350401878357\tVal loss: 0.12185461819171906\tTrain acc: 98.5329861111111\tVal acc: 96.57142857142857\n",
            "########## Epoch 23\n"
          ]
        },
        {
          "output_type": "stream",
          "name": "stderr",
          "text": [
            "100%|██████████| 3/3 [00:00<00:00, 13.71it/s]\n",
            "100%|██████████| 1/1 [00:00<00:00,  5.39it/s]\n"
          ]
        },
        {
          "output_type": "stream",
          "name": "stdout",
          "text": [
            "Train loss: 0.09064406156539917\tVal loss: 0.12211927026510239\tTrain acc: 98.5329861111111\tVal acc: 97.14285714285714\n",
            "########## Epoch 24\n"
          ]
        },
        {
          "output_type": "stream",
          "name": "stderr",
          "text": [
            "100%|██████████| 3/3 [00:00<00:00, 12.86it/s]\n",
            "100%|██████████| 1/1 [00:00<00:00,  4.66it/s]\n"
          ]
        },
        {
          "output_type": "stream",
          "name": "stdout",
          "text": [
            "Train loss: 0.08470644801855087\tVal loss: 0.12241009622812271\tTrain acc: 98.58796296296298\tVal acc: 97.14285714285714\n",
            "########## Epoch 25\n"
          ]
        },
        {
          "output_type": "stream",
          "name": "stderr",
          "text": [
            "100%|██████████| 3/3 [00:00<00:00, 13.73it/s]\n",
            "100%|██████████| 1/1 [00:00<00:00,  5.11it/s]\n"
          ]
        },
        {
          "output_type": "stream",
          "name": "stdout",
          "text": [
            "Train loss: 0.08078289031982422\tVal loss: 0.12231218814849854\tTrain acc: 98.51273148148148\tVal acc: 96.57142857142857\n",
            "########## Epoch 26\n"
          ]
        },
        {
          "output_type": "stream",
          "name": "stderr",
          "text": [
            "100%|██████████| 3/3 [00:00<00:00, 11.84it/s]\n",
            "100%|██████████| 1/1 [00:00<00:00,  5.16it/s]\n"
          ]
        },
        {
          "output_type": "stream",
          "name": "stdout",
          "text": [
            "Train loss: 0.08118423819541931\tVal loss: 0.12243446707725525\tTrain acc: 98.2175925925926\tVal acc: 96.57142857142857\n",
            "########## Epoch 27\n"
          ]
        },
        {
          "output_type": "stream",
          "name": "stderr",
          "text": [
            "100%|██████████| 3/3 [00:00<00:00, 11.57it/s]\n",
            "100%|██████████| 1/1 [00:00<00:00,  5.35it/s]\n"
          ]
        },
        {
          "output_type": "stream",
          "name": "stdout",
          "text": [
            "Train loss: 0.07557090371847153\tVal loss: 0.12249933183193207\tTrain acc: 98.5329861111111\tVal acc: 96.57142857142857\n",
            "########## Epoch 28\n"
          ]
        },
        {
          "output_type": "stream",
          "name": "stderr",
          "text": [
            "100%|██████████| 3/3 [00:00<00:00, 12.52it/s]\n",
            "100%|██████████| 1/1 [00:00<00:00,  5.24it/s]\n"
          ]
        },
        {
          "output_type": "stream",
          "name": "stdout",
          "text": [
            "Train loss: 0.06556301563978195\tVal loss: 0.12314529716968536\tTrain acc: 98.64293981481482\tVal acc: 96.57142857142857\n",
            "########## Epoch 29\n"
          ]
        },
        {
          "output_type": "stream",
          "name": "stderr",
          "text": [
            "100%|██████████| 3/3 [00:00<00:00, 13.00it/s]\n",
            "100%|██████████| 1/1 [00:00<00:00,  5.04it/s]\n"
          ]
        },
        {
          "output_type": "stream",
          "name": "stdout",
          "text": [
            "Train loss: 0.0693957656621933\tVal loss: 0.12418787181377411\tTrain acc: 98.47800925925925\tVal acc: 96.57142857142857\n",
            "########## Epoch 30\n"
          ]
        },
        {
          "output_type": "stream",
          "name": "stderr",
          "text": [
            "100%|██████████| 3/3 [00:00<00:00, 13.43it/s]\n",
            "100%|██████████| 1/1 [00:00<00:00,  4.87it/s]\n"
          ]
        },
        {
          "output_type": "stream",
          "name": "stdout",
          "text": [
            "Train loss: 0.06156034395098686\tVal loss: 0.1258096992969513\tTrain acc: 98.77314814814815\tVal acc: 96.57142857142857\n",
            "########## Epoch 31\n"
          ]
        },
        {
          "output_type": "stream",
          "name": "stderr",
          "text": [
            "100%|██████████| 3/3 [00:00<00:00, 12.73it/s]\n",
            "100%|██████████| 1/1 [00:00<00:00,  5.51it/s]\n"
          ]
        },
        {
          "output_type": "stream",
          "name": "stdout",
          "text": [
            "Train loss: 0.0638696625828743\tVal loss: 0.12751519680023193\tTrain acc: 98.34780092592592\tVal acc: 96.57142857142857\n",
            "########## Epoch 32\n"
          ]
        },
        {
          "output_type": "stream",
          "name": "stderr",
          "text": [
            "100%|██████████| 3/3 [00:00<00:00, 13.46it/s]\n",
            "100%|██████████| 1/1 [00:00<00:00,  4.96it/s]\n"
          ]
        },
        {
          "output_type": "stream",
          "name": "stdout",
          "text": [
            "Train loss: 0.05822098255157471\tVal loss: 0.12917141616344452\tTrain acc: 98.69791666666667\tVal acc: 96.57142857142857\n",
            "########## Epoch 33\n"
          ]
        },
        {
          "output_type": "stream",
          "name": "stderr",
          "text": [
            "100%|██████████| 3/3 [00:00<00:00, 12.94it/s]\n",
            "100%|██████████| 1/1 [00:00<00:00,  5.35it/s]\n"
          ]
        },
        {
          "output_type": "stream",
          "name": "stdout",
          "text": [
            "Train loss: 0.06012287363409996\tVal loss: 0.1302454173564911\tTrain acc: 98.5329861111111\tVal acc: 96.57142857142857\n",
            "########## Epoch 34\n"
          ]
        },
        {
          "output_type": "stream",
          "name": "stderr",
          "text": [
            "100%|██████████| 3/3 [00:00<00:00, 13.78it/s]\n",
            "100%|██████████| 1/1 [00:00<00:00,  5.02it/s]\n"
          ]
        },
        {
          "output_type": "stream",
          "name": "stdout",
          "text": [
            "Train loss: 0.05728115513920784\tVal loss: 0.13129162788391113\tTrain acc: 98.7181712962963\tVal acc: 96.57142857142857\n",
            "########## Epoch 35\n"
          ]
        },
        {
          "output_type": "stream",
          "name": "stderr",
          "text": [
            "100%|██████████| 3/3 [00:00<00:00, 13.68it/s]\n",
            "100%|██████████| 1/1 [00:00<00:00,  5.15it/s]\n"
          ]
        },
        {
          "output_type": "stream",
          "name": "stdout",
          "text": [
            "Train loss: 0.04787437990307808\tVal loss: 0.13216012716293335\tTrain acc: 98.77314814814815\tVal acc: 96.57142857142857\n",
            "########## Epoch 36\n"
          ]
        },
        {
          "output_type": "stream",
          "name": "stderr",
          "text": [
            "100%|██████████| 3/3 [00:00<00:00, 13.10it/s]\n",
            "100%|██████████| 1/1 [00:00<00:00,  5.13it/s]\n"
          ]
        },
        {
          "output_type": "stream",
          "name": "stdout",
          "text": [
            "Train loss: 0.05732499435544014\tVal loss: 0.13326306641101837\tTrain acc: 98.7181712962963\tVal acc: 96.57142857142857\n",
            "########## Epoch 37\n"
          ]
        },
        {
          "output_type": "stream",
          "name": "stderr",
          "text": [
            "100%|██████████| 3/3 [00:00<00:00, 13.35it/s]\n",
            "100%|██████████| 1/1 [00:00<00:00,  5.11it/s]\n"
          ]
        },
        {
          "output_type": "stream",
          "name": "stdout",
          "text": [
            "Train loss: 0.05978745222091675\tVal loss: 0.1340259611606598\tTrain acc: 98.4230324074074\tVal acc: 96.57142857142857\n",
            "########## Epoch 38\n"
          ]
        },
        {
          "output_type": "stream",
          "name": "stderr",
          "text": [
            "100%|██████████| 3/3 [00:00<00:00, 10.87it/s]\n",
            "100%|██████████| 1/1 [00:00<00:00,  5.32it/s]\n"
          ]
        },
        {
          "output_type": "stream",
          "name": "stdout",
          "text": [
            "Train loss: 0.052075933665037155\tVal loss: 0.13538311421871185\tTrain acc: 98.90335648148148\tVal acc: 96.57142857142857\n",
            "########## Epoch 39\n"
          ]
        },
        {
          "output_type": "stream",
          "name": "stderr",
          "text": [
            "100%|██████████| 3/3 [00:00<00:00, 12.79it/s]\n",
            "100%|██████████| 1/1 [00:00<00:00,  5.27it/s]\n"
          ]
        },
        {
          "output_type": "stream",
          "name": "stdout",
          "text": [
            "Train loss: 0.052921950817108154\tVal loss: 0.13677173852920532\tTrain acc: 98.7181712962963\tVal acc: 96.57142857142857\n",
            "########## Epoch 40\n"
          ]
        },
        {
          "output_type": "stream",
          "name": "stderr",
          "text": [
            "100%|██████████| 3/3 [00:00<00:00, 12.48it/s]\n",
            "100%|██████████| 1/1 [00:00<00:00,  5.33it/s]\n"
          ]
        },
        {
          "output_type": "stream",
          "name": "stdout",
          "text": [
            "Train loss: 0.0514674074947834\tVal loss: 0.1381550431251526\tTrain acc: 98.58796296296298\tVal acc: 96.57142857142857\n",
            "########## Epoch 41\n"
          ]
        },
        {
          "output_type": "stream",
          "name": "stderr",
          "text": [
            "100%|██████████| 3/3 [00:00<00:00, 13.58it/s]\n",
            "100%|██████████| 1/1 [00:00<00:00,  4.98it/s]\n"
          ]
        },
        {
          "output_type": "stream",
          "name": "stdout",
          "text": [
            "Train loss: 0.04866247996687889\tVal loss: 0.13938495516777039\tTrain acc: 98.58796296296298\tVal acc: 96.57142857142857\n",
            "########## Epoch 42\n"
          ]
        },
        {
          "output_type": "stream",
          "name": "stderr",
          "text": [
            "100%|██████████| 3/3 [00:00<00:00, 13.51it/s]\n",
            "100%|██████████| 1/1 [00:00<00:00,  5.17it/s]\n"
          ]
        },
        {
          "output_type": "stream",
          "name": "stdout",
          "text": [
            "Train loss: 0.053050119429826736\tVal loss: 0.1406843215227127\tTrain acc: 98.55324074074075\tVal acc: 96.57142857142857\n",
            "########## Epoch 43\n"
          ]
        },
        {
          "output_type": "stream",
          "name": "stderr",
          "text": [
            "100%|██████████| 3/3 [00:00<00:00, 13.21it/s]\n",
            "100%|██████████| 1/1 [00:00<00:00,  4.92it/s]\n"
          ]
        },
        {
          "output_type": "stream",
          "name": "stdout",
          "text": [
            "Train loss: 0.0546184666454792\tVal loss: 0.1425904482603073\tTrain acc: 98.68344907407408\tVal acc: 96.57142857142857\n",
            "########## Epoch 44\n"
          ]
        },
        {
          "output_type": "stream",
          "name": "stderr",
          "text": [
            "100%|██████████| 3/3 [00:00<00:00, 13.02it/s]\n",
            "100%|██████████| 1/1 [00:00<00:00,  5.22it/s]\n"
          ]
        },
        {
          "output_type": "stream",
          "name": "stdout",
          "text": [
            "Train loss: 0.04675845429301262\tVal loss: 0.14463354647159576\tTrain acc: 98.90335648148148\tVal acc: 96.57142857142857\n",
            "########## Epoch 45\n"
          ]
        },
        {
          "output_type": "stream",
          "name": "stderr",
          "text": [
            "100%|██████████| 3/3 [00:00<00:00, 13.38it/s]\n",
            "100%|██████████| 1/1 [00:00<00:00,  5.21it/s]\n"
          ]
        },
        {
          "output_type": "stream",
          "name": "stdout",
          "text": [
            "Train loss: 0.04856308922171593\tVal loss: 0.14614447951316833\tTrain acc: 98.66319444444444\tVal acc: 96.57142857142857\n",
            "########## Epoch 46\n"
          ]
        },
        {
          "output_type": "stream",
          "name": "stderr",
          "text": [
            "100%|██████████| 3/3 [00:00<00:00, 13.07it/s]\n",
            "100%|██████████| 1/1 [00:00<00:00,  5.36it/s]\n"
          ]
        },
        {
          "output_type": "stream",
          "name": "stdout",
          "text": [
            "Train loss: 0.04655562713742256\tVal loss: 0.14757102727890015\tTrain acc: 98.84837962962963\tVal acc: 96.57142857142857\n",
            "########## Epoch 47\n"
          ]
        },
        {
          "output_type": "stream",
          "name": "stderr",
          "text": [
            "100%|██████████| 3/3 [00:00<00:00, 13.48it/s]\n",
            "100%|██████████| 1/1 [00:00<00:00,  5.19it/s]\n"
          ]
        },
        {
          "output_type": "stream",
          "name": "stdout",
          "text": [
            "Train loss: 0.047299742698669434\tVal loss: 0.1484924703836441\tTrain acc: 98.6082175925926\tVal acc: 96.57142857142857\n",
            "########## Epoch 48\n"
          ]
        },
        {
          "output_type": "stream",
          "name": "stderr",
          "text": [
            "100%|██████████| 3/3 [00:00<00:00, 12.96it/s]\n",
            "100%|██████████| 1/1 [00:00<00:00,  5.23it/s]\n"
          ]
        },
        {
          "output_type": "stream",
          "name": "stdout",
          "text": [
            "Train loss: 0.04532201960682869\tVal loss: 0.14959101378917694\tTrain acc: 98.84837962962963\tVal acc: 96.57142857142857\n",
            "########## Epoch 49\n"
          ]
        },
        {
          "output_type": "stream",
          "name": "stderr",
          "text": [
            "100%|██████████| 3/3 [00:00<00:00, 10.48it/s]\n",
            "100%|██████████| 1/1 [00:00<00:00,  5.16it/s]\n"
          ]
        },
        {
          "output_type": "stream",
          "name": "stdout",
          "text": [
            "Train loss: 0.049752745777368546\tVal loss: 0.15051007270812988\tTrain acc: 98.86863425925925\tVal acc: 96.57142857142857\n",
            "########## Epoch 50\n"
          ]
        },
        {
          "output_type": "stream",
          "name": "stderr",
          "text": [
            "100%|██████████| 3/3 [00:00<00:00, 12.75it/s]\n",
            "100%|██████████| 1/1 [00:00<00:00,  5.18it/s]\n"
          ]
        },
        {
          "output_type": "stream",
          "name": "stdout",
          "text": [
            "Train loss: 0.04636193439364433\tVal loss: 0.1521340012550354\tTrain acc: 98.66319444444444\tVal acc: 96.57142857142857\n",
            "########## Epoch 51\n"
          ]
        },
        {
          "output_type": "stream",
          "name": "stderr",
          "text": [
            "100%|██████████| 3/3 [00:00<00:00, 13.13it/s]\n",
            "100%|██████████| 1/1 [00:00<00:00,  5.34it/s]\n"
          ]
        },
        {
          "output_type": "stream",
          "name": "stdout",
          "text": [
            "Train loss: 0.04483788087964058\tVal loss: 0.15419963002204895\tTrain acc: 98.84837962962963\tVal acc: 96.57142857142857\n",
            "########## Epoch 52\n"
          ]
        },
        {
          "output_type": "stream",
          "name": "stderr",
          "text": [
            "100%|██████████| 3/3 [00:00<00:00, 13.48it/s]\n",
            "100%|██████████| 1/1 [00:00<00:00,  4.87it/s]\n"
          ]
        },
        {
          "output_type": "stream",
          "name": "stdout",
          "text": [
            "Train loss: 0.04606311023235321\tVal loss: 0.15649227797985077\tTrain acc: 98.79340277777777\tVal acc: 96.57142857142857\n",
            "########## Epoch 53\n"
          ]
        },
        {
          "output_type": "stream",
          "name": "stderr",
          "text": [
            "100%|██████████| 3/3 [00:00<00:00, 13.44it/s]\n",
            "100%|██████████| 1/1 [00:00<00:00,  5.08it/s]\n"
          ]
        },
        {
          "output_type": "stream",
          "name": "stdout",
          "text": [
            "Train loss: 0.04431337118148804\tVal loss: 0.15857629477977753\tTrain acc: 98.79340277777777\tVal acc: 96.57142857142857\n",
            "########## Epoch 54\n"
          ]
        },
        {
          "output_type": "stream",
          "name": "stderr",
          "text": [
            "100%|██████████| 3/3 [00:00<00:00, 13.14it/s]\n",
            "100%|██████████| 1/1 [00:00<00:00,  4.88it/s]\n"
          ]
        },
        {
          "output_type": "stream",
          "name": "stdout",
          "text": [
            "Train loss: 0.04015784710645676\tVal loss: 0.16085103154182434\tTrain acc: 99.08854166666667\tVal acc: 96.57142857142857\n",
            "########## Epoch 55\n"
          ]
        },
        {
          "output_type": "stream",
          "name": "stderr",
          "text": [
            "100%|██████████| 3/3 [00:00<00:00, 13.62it/s]\n",
            "100%|██████████| 1/1 [00:00<00:00,  5.05it/s]\n"
          ]
        },
        {
          "output_type": "stream",
          "name": "stdout",
          "text": [
            "Train loss: 0.03823581337928772\tVal loss: 0.1613129824399948\tTrain acc: 99.03356481481482\tVal acc: 96.57142857142857\n",
            "########## Epoch 56\n"
          ]
        },
        {
          "output_type": "stream",
          "name": "stderr",
          "text": [
            "100%|██████████| 3/3 [00:00<00:00, 13.11it/s]\n",
            "100%|██████████| 1/1 [00:00<00:00,  5.17it/s]\n"
          ]
        },
        {
          "output_type": "stream",
          "name": "stdout",
          "text": [
            "Train loss: 0.04414080083370209\tVal loss: 0.16173610091209412\tTrain acc: 98.97858796296298\tVal acc: 96.57142857142857\n",
            "########## Epoch 57\n"
          ]
        },
        {
          "output_type": "stream",
          "name": "stderr",
          "text": [
            "100%|██████████| 3/3 [00:00<00:00, 12.96it/s]\n",
            "100%|██████████| 1/1 [00:00<00:00,  5.25it/s]\n"
          ]
        },
        {
          "output_type": "stream",
          "name": "stdout",
          "text": [
            "Train loss: 0.043592020869255066\tVal loss: 0.16180342435836792\tTrain acc: 98.9236111111111\tVal acc: 96.57142857142857\n",
            "########## Epoch 58\n"
          ]
        },
        {
          "output_type": "stream",
          "name": "stderr",
          "text": [
            "100%|██████████| 3/3 [00:00<00:00, 12.94it/s]\n",
            "100%|██████████| 1/1 [00:00<00:00,  5.38it/s]\n"
          ]
        },
        {
          "output_type": "stream",
          "name": "stdout",
          "text": [
            "Train loss: 0.04122604802250862\tVal loss: 0.16253843903541565\tTrain acc: 98.84837962962963\tVal acc: 96.57142857142857\n",
            "########## Epoch 59\n"
          ]
        },
        {
          "output_type": "stream",
          "name": "stderr",
          "text": [
            "100%|██████████| 3/3 [00:00<00:00, 13.13it/s]\n",
            "100%|██████████| 1/1 [00:00<00:00,  5.23it/s]\n"
          ]
        },
        {
          "output_type": "stream",
          "name": "stdout",
          "text": [
            "Train loss: 0.04140198230743408\tVal loss: 0.16456598043441772\tTrain acc: 99.03356481481482\tVal acc: 96.57142857142857\n",
            "########## Epoch 60\n"
          ]
        },
        {
          "output_type": "stream",
          "name": "stderr",
          "text": [
            "100%|██████████| 3/3 [00:00<00:00, 13.31it/s]\n",
            "100%|██████████| 1/1 [00:00<00:00,  5.31it/s]\n"
          ]
        },
        {
          "output_type": "stream",
          "name": "stdout",
          "text": [
            "Train loss: 0.040909383445978165\tVal loss: 0.16749335825443268\tTrain acc: 98.90335648148148\tVal acc: 96.57142857142857\n",
            "########## Epoch 61\n"
          ]
        },
        {
          "output_type": "stream",
          "name": "stderr",
          "text": [
            "100%|██████████| 3/3 [00:00<00:00, 10.31it/s]\n",
            "100%|██████████| 1/1 [00:00<00:00,  5.04it/s]\n"
          ]
        },
        {
          "output_type": "stream",
          "name": "stdout",
          "text": [
            "Train loss: 0.040682341903448105\tVal loss: 0.1704322248697281\tTrain acc: 98.79340277777777\tVal acc: 96.57142857142857\n",
            "########## Epoch 62\n"
          ]
        },
        {
          "output_type": "stream",
          "name": "stderr",
          "text": [
            "100%|██████████| 3/3 [00:00<00:00, 12.98it/s]\n",
            "100%|██████████| 1/1 [00:00<00:00,  5.26it/s]\n"
          ]
        },
        {
          "output_type": "stream",
          "name": "stdout",
          "text": [
            "Train loss: 0.041154831647872925\tVal loss: 0.17286767065525055\tTrain acc: 98.84837962962963\tVal acc: 96.57142857142857\n",
            "########## Epoch 63\n"
          ]
        },
        {
          "output_type": "stream",
          "name": "stderr",
          "text": [
            "100%|██████████| 3/3 [00:00<00:00, 13.31it/s]\n",
            "100%|██████████| 1/1 [00:00<00:00,  5.01it/s]\n"
          ]
        },
        {
          "output_type": "stream",
          "name": "stdout",
          "text": [
            "Train loss: 0.042053673416376114\tVal loss: 0.17504389584064484\tTrain acc: 98.79340277777777\tVal acc: 96.57142857142857\n",
            "########## Epoch 64\n"
          ]
        },
        {
          "output_type": "stream",
          "name": "stderr",
          "text": [
            "100%|██████████| 3/3 [00:00<00:00, 12.87it/s]\n",
            "100%|██████████| 1/1 [00:00<00:00,  5.22it/s]\n"
          ]
        },
        {
          "output_type": "stream",
          "name": "stdout",
          "text": [
            "Train loss: 0.03858768567442894\tVal loss: 0.17713488638401031\tTrain acc: 99.08854166666667\tVal acc: 96.57142857142857\n",
            "########## Epoch 65\n"
          ]
        },
        {
          "output_type": "stream",
          "name": "stderr",
          "text": [
            "100%|██████████| 3/3 [00:00<00:00, 13.42it/s]\n",
            "100%|██████████| 1/1 [00:00<00:00,  5.19it/s]\n"
          ]
        },
        {
          "output_type": "stream",
          "name": "stdout",
          "text": [
            "Train loss: 0.04165247082710266\tVal loss: 0.17793577909469604\tTrain acc: 98.9236111111111\tVal acc: 96.57142857142857\n",
            "########## Epoch 66\n"
          ]
        },
        {
          "output_type": "stream",
          "name": "stderr",
          "text": [
            "100%|██████████| 3/3 [00:00<00:00, 13.60it/s]\n",
            "100%|██████████| 1/1 [00:00<00:00,  5.21it/s]\n"
          ]
        },
        {
          "output_type": "stream",
          "name": "stdout",
          "text": [
            "Train loss: 0.038449130952358246\tVal loss: 0.1791381984949112\tTrain acc: 98.97858796296298\tVal acc: 96.57142857142857\n",
            "########## Epoch 67\n"
          ]
        },
        {
          "output_type": "stream",
          "name": "stderr",
          "text": [
            "100%|██████████| 3/3 [00:00<00:00, 13.51it/s]\n",
            "100%|██████████| 1/1 [00:00<00:00,  5.38it/s]\n"
          ]
        },
        {
          "output_type": "stream",
          "name": "stdout",
          "text": [
            "Train loss: 0.034670352935791016\tVal loss: 0.18020322918891907\tTrain acc: 99.03356481481482\tVal acc: 96.57142857142857\n",
            "########## Epoch 68\n"
          ]
        },
        {
          "output_type": "stream",
          "name": "stderr",
          "text": [
            "100%|██████████| 3/3 [00:00<00:00, 13.21it/s]\n",
            "100%|██████████| 1/1 [00:00<00:00,  5.08it/s]\n"
          ]
        },
        {
          "output_type": "stream",
          "name": "stdout",
          "text": [
            "Train loss: 0.03851177170872688\tVal loss: 0.18134348094463348\tTrain acc: 98.97858796296298\tVal acc: 96.57142857142857\n",
            "########## Epoch 69\n"
          ]
        },
        {
          "output_type": "stream",
          "name": "stderr",
          "text": [
            "100%|██████████| 3/3 [00:00<00:00, 13.56it/s]\n",
            "100%|██████████| 1/1 [00:00<00:00,  5.11it/s]\n"
          ]
        },
        {
          "output_type": "stream",
          "name": "stdout",
          "text": [
            "Train loss: 0.03886308893561363\tVal loss: 0.18279048800468445\tTrain acc: 98.97858796296298\tVal acc: 96.57142857142857\n",
            "########## Epoch 70\n"
          ]
        },
        {
          "output_type": "stream",
          "name": "stderr",
          "text": [
            "100%|██████████| 3/3 [00:00<00:00, 12.83it/s]\n",
            "100%|██████████| 1/1 [00:00<00:00,  5.22it/s]\n"
          ]
        },
        {
          "output_type": "stream",
          "name": "stdout",
          "text": [
            "Train loss: 0.039237361401319504\tVal loss: 0.18511012196540833\tTrain acc: 98.9236111111111\tVal acc: 96.57142857142857\n",
            "########## Epoch 71\n"
          ]
        },
        {
          "output_type": "stream",
          "name": "stderr",
          "text": [
            "100%|██████████| 3/3 [00:00<00:00, 13.65it/s]\n",
            "100%|██████████| 1/1 [00:00<00:00,  5.32it/s]\n"
          ]
        },
        {
          "output_type": "stream",
          "name": "stdout",
          "text": [
            "Train loss: 0.03688087686896324\tVal loss: 0.18807339668273926\tTrain acc: 99.03356481481482\tVal acc: 96.57142857142857\n",
            "########## Epoch 72\n"
          ]
        },
        {
          "output_type": "stream",
          "name": "stderr",
          "text": [
            "100%|██████████| 3/3 [00:00<00:00, 12.20it/s]\n",
            "100%|██████████| 1/1 [00:00<00:00,  5.21it/s]\n"
          ]
        },
        {
          "output_type": "stream",
          "name": "stdout",
          "text": [
            "Train loss: 0.03741942718625069\tVal loss: 0.1891760230064392\tTrain acc: 98.9236111111111\tVal acc: 96.57142857142857\n",
            "########## Epoch 73\n"
          ]
        },
        {
          "output_type": "stream",
          "name": "stderr",
          "text": [
            "100%|██████████| 3/3 [00:00<00:00, 10.52it/s]\n",
            "100%|██████████| 1/1 [00:00<00:00,  5.19it/s]\n"
          ]
        },
        {
          "output_type": "stream",
          "name": "stdout",
          "text": [
            "Train loss: 0.03982186317443848\tVal loss: 0.19083033502101898\tTrain acc: 98.9236111111111\tVal acc: 96.57142857142857\n",
            "########## Epoch 74\n"
          ]
        },
        {
          "output_type": "stream",
          "name": "stderr",
          "text": [
            "100%|██████████| 3/3 [00:00<00:00, 11.81it/s]\n",
            "100%|██████████| 1/1 [00:00<00:00,  4.77it/s]\n"
          ]
        },
        {
          "output_type": "stream",
          "name": "stdout",
          "text": [
            "Train loss: 0.03390095755457878\tVal loss: 0.1927233189344406\tTrain acc: 99.03356481481482\tVal acc: 96.57142857142857\n",
            "########## Epoch 75\n"
          ]
        },
        {
          "output_type": "stream",
          "name": "stderr",
          "text": [
            "100%|██████████| 3/3 [00:00<00:00, 12.84it/s]\n",
            "100%|██████████| 1/1 [00:00<00:00,  5.14it/s]\n"
          ]
        },
        {
          "output_type": "stream",
          "name": "stdout",
          "text": [
            "Train loss: 0.034292783588171005\tVal loss: 0.19421124458312988\tTrain acc: 98.9236111111111\tVal acc: 96.57142857142857\n",
            "########## Epoch 76\n"
          ]
        },
        {
          "output_type": "stream",
          "name": "stderr",
          "text": [
            "100%|██████████| 3/3 [00:00<00:00, 13.59it/s]\n",
            "100%|██████████| 1/1 [00:00<00:00,  4.96it/s]\n"
          ]
        },
        {
          "output_type": "stream",
          "name": "stdout",
          "text": [
            "Train loss: 0.03399887681007385\tVal loss: 0.19634605944156647\tTrain acc: 98.97858796296298\tVal acc: 96.57142857142857\n",
            "########## Epoch 77\n"
          ]
        },
        {
          "output_type": "stream",
          "name": "stderr",
          "text": [
            "100%|██████████| 3/3 [00:00<00:00, 13.15it/s]\n",
            "100%|██████████| 1/1 [00:00<00:00,  5.17it/s]\n"
          ]
        },
        {
          "output_type": "stream",
          "name": "stdout",
          "text": [
            "Train loss: 0.0373988151550293\tVal loss: 0.19807688891887665\tTrain acc: 98.9236111111111\tVal acc: 96.57142857142857\n",
            "########## Epoch 78\n"
          ]
        },
        {
          "output_type": "stream",
          "name": "stderr",
          "text": [
            "100%|██████████| 3/3 [00:00<00:00, 13.24it/s]\n",
            "100%|██████████| 1/1 [00:00<00:00,  5.10it/s]\n"
          ]
        },
        {
          "output_type": "stream",
          "name": "stdout",
          "text": [
            "Train loss: 0.03334522619843483\tVal loss: 0.2006668895483017\tTrain acc: 99.03356481481482\tVal acc: 96.57142857142857\n",
            "########## Epoch 79\n"
          ]
        },
        {
          "output_type": "stream",
          "name": "stderr",
          "text": [
            "100%|██████████| 3/3 [00:00<00:00, 13.45it/s]\n",
            "100%|██████████| 1/1 [00:00<00:00,  4.82it/s]\n"
          ]
        },
        {
          "output_type": "stream",
          "name": "stdout",
          "text": [
            "Train loss: 0.0354565866291523\tVal loss: 0.20271240174770355\tTrain acc: 99.03356481481482\tVal acc: 96.57142857142857\n",
            "########## Epoch 80\n"
          ]
        },
        {
          "output_type": "stream",
          "name": "stderr",
          "text": [
            "100%|██████████| 3/3 [00:00<00:00, 13.41it/s]\n",
            "100%|██████████| 1/1 [00:00<00:00,  5.34it/s]\n"
          ]
        },
        {
          "output_type": "stream",
          "name": "stdout",
          "text": [
            "Train loss: 0.031032701954245567\tVal loss: 0.2037038505077362\tTrain acc: 99.16377314814815\tVal acc: 96.57142857142857\n",
            "########## Epoch 81\n"
          ]
        },
        {
          "output_type": "stream",
          "name": "stderr",
          "text": [
            "100%|██████████| 3/3 [00:00<00:00, 12.83it/s]\n",
            "100%|██████████| 1/1 [00:00<00:00,  5.07it/s]\n"
          ]
        },
        {
          "output_type": "stream",
          "name": "stdout",
          "text": [
            "Train loss: 0.030538886785507202\tVal loss: 0.2044895738363266\tTrain acc: 99.03356481481482\tVal acc: 96.57142857142857\n",
            "########## Epoch 82\n"
          ]
        },
        {
          "output_type": "stream",
          "name": "stderr",
          "text": [
            "100%|██████████| 3/3 [00:00<00:00, 12.90it/s]\n",
            "100%|██████████| 1/1 [00:00<00:00,  5.16it/s]\n"
          ]
        },
        {
          "output_type": "stream",
          "name": "stdout",
          "text": [
            "Train loss: 0.03525393456220627\tVal loss: 0.20515403151512146\tTrain acc: 99.16377314814815\tVal acc: 96.57142857142857\n",
            "########## Epoch 83\n"
          ]
        },
        {
          "output_type": "stream",
          "name": "stderr",
          "text": [
            "100%|██████████| 3/3 [00:00<00:00, 12.56it/s]\n",
            "100%|██████████| 1/1 [00:00<00:00,  5.15it/s]\n"
          ]
        },
        {
          "output_type": "stream",
          "name": "stdout",
          "text": [
            "Train loss: 0.02999988943338394\tVal loss: 0.20648404955863953\tTrain acc: 99.16377314814815\tVal acc: 96.57142857142857\n",
            "########## Epoch 84\n"
          ]
        },
        {
          "output_type": "stream",
          "name": "stderr",
          "text": [
            "100%|██████████| 3/3 [00:00<00:00, 13.07it/s]\n",
            "100%|██████████| 1/1 [00:00<00:00,  4.29it/s]\n"
          ]
        },
        {
          "output_type": "stream",
          "name": "stdout",
          "text": [
            "Train loss: 0.030669575557112694\tVal loss: 0.20794865489006042\tTrain acc: 99.16377314814815\tVal acc: 96.57142857142857\n",
            "########## Epoch 85\n"
          ]
        },
        {
          "output_type": "stream",
          "name": "stderr",
          "text": [
            "100%|██████████| 3/3 [00:00<00:00, 11.91it/s]\n",
            "100%|██████████| 1/1 [00:00<00:00,  4.92it/s]\n"
          ]
        },
        {
          "output_type": "stream",
          "name": "stdout",
          "text": [
            "Train loss: 0.03243048116564751\tVal loss: 0.20965614914894104\tTrain acc: 99.16377314814815\tVal acc: 96.57142857142857\n",
            "########## Epoch 86\n"
          ]
        },
        {
          "output_type": "stream",
          "name": "stderr",
          "text": [
            "100%|██████████| 3/3 [00:00<00:00, 13.34it/s]\n",
            "100%|██████████| 1/1 [00:00<00:00,  5.30it/s]\n"
          ]
        },
        {
          "output_type": "stream",
          "name": "stdout",
          "text": [
            "Train loss: 0.028990983963012695\tVal loss: 0.21236871182918549\tTrain acc: 99.16377314814815\tVal acc: 96.57142857142857\n",
            "########## Epoch 87\n"
          ]
        },
        {
          "output_type": "stream",
          "name": "stderr",
          "text": [
            "100%|██████████| 3/3 [00:00<00:00, 13.02it/s]\n",
            "100%|██████████| 1/1 [00:00<00:00,  4.87it/s]\n"
          ]
        },
        {
          "output_type": "stream",
          "name": "stdout",
          "text": [
            "Train loss: 0.03201580047607422\tVal loss: 0.21507912874221802\tTrain acc: 99.23900462962963\tVal acc: 97.14285714285714\n",
            "########## Epoch 88\n"
          ]
        },
        {
          "output_type": "stream",
          "name": "stderr",
          "text": [
            "100%|██████████| 3/3 [00:00<00:00, 12.85it/s]\n",
            "100%|██████████| 1/1 [00:00<00:00,  5.08it/s]\n"
          ]
        },
        {
          "output_type": "stream",
          "name": "stdout",
          "text": [
            "Train loss: 0.028534723445773125\tVal loss: 0.21800875663757324\tTrain acc: 99.16377314814815\tVal acc: 97.14285714285714\n",
            "########## Epoch 89\n"
          ]
        },
        {
          "output_type": "stream",
          "name": "stderr",
          "text": [
            "100%|██████████| 3/3 [00:00<00:00, 13.54it/s]\n",
            "100%|██████████| 1/1 [00:00<00:00,  4.98it/s]\n"
          ]
        },
        {
          "output_type": "stream",
          "name": "stdout",
          "text": [
            "Train loss: 0.0299553032964468\tVal loss: 0.21980628371238708\tTrain acc: 99.1087962962963\tVal acc: 97.14285714285714\n",
            "########## Epoch 90\n"
          ]
        },
        {
          "output_type": "stream",
          "name": "stderr",
          "text": [
            "100%|██████████| 3/3 [00:00<00:00, 12.03it/s]\n",
            "100%|██████████| 1/1 [00:00<00:00,  5.05it/s]\n"
          ]
        },
        {
          "output_type": "stream",
          "name": "stdout",
          "text": [
            "Train loss: 0.02948307804763317\tVal loss: 0.22095070779323578\tTrain acc: 99.1087962962963\tVal acc: 97.14285714285714\n",
            "########## Epoch 91\n"
          ]
        },
        {
          "output_type": "stream",
          "name": "stderr",
          "text": [
            "100%|██████████| 3/3 [00:00<00:00, 13.23it/s]\n",
            "100%|██████████| 1/1 [00:00<00:00,  4.84it/s]\n"
          ]
        },
        {
          "output_type": "stream",
          "name": "stdout",
          "text": [
            "Train loss: 0.02869603969156742\tVal loss: 0.22291043400764465\tTrain acc: 99.05381944444444\tVal acc: 97.14285714285714\n",
            "########## Epoch 92\n"
          ]
        },
        {
          "output_type": "stream",
          "name": "stderr",
          "text": [
            "100%|██████████| 3/3 [00:00<00:00, 13.15it/s]\n",
            "100%|██████████| 1/1 [00:00<00:00,  5.07it/s]\n"
          ]
        },
        {
          "output_type": "stream",
          "name": "stdout",
          "text": [
            "Train loss: 0.027299484238028526\tVal loss: 0.22674626111984253\tTrain acc: 99.1087962962963\tVal acc: 97.14285714285714\n",
            "########## Epoch 93\n"
          ]
        },
        {
          "output_type": "stream",
          "name": "stderr",
          "text": [
            "100%|██████████| 3/3 [00:00<00:00, 13.70it/s]\n",
            "100%|██████████| 1/1 [00:00<00:00,  5.20it/s]\n"
          ]
        },
        {
          "output_type": "stream",
          "name": "stdout",
          "text": [
            "Train loss: 0.03283616527915001\tVal loss: 0.2295224368572235\tTrain acc: 98.9988425925926\tVal acc: 97.14285714285714\n",
            "########## Epoch 94\n"
          ]
        },
        {
          "output_type": "stream",
          "name": "stderr",
          "text": [
            "100%|██████████| 3/3 [00:00<00:00, 12.36it/s]\n",
            "100%|██████████| 1/1 [00:00<00:00,  4.91it/s]\n"
          ]
        },
        {
          "output_type": "stream",
          "name": "stdout",
          "text": [
            "Train loss: 0.02538352459669113\tVal loss: 0.23171432316303253\tTrain acc: 99.55439814814815\tVal acc: 97.14285714285714\n",
            "########## Epoch 95\n"
          ]
        },
        {
          "output_type": "stream",
          "name": "stderr",
          "text": [
            "100%|██████████| 3/3 [00:00<00:00, 13.01it/s]\n",
            "100%|██████████| 1/1 [00:00<00:00,  4.30it/s]\n"
          ]
        },
        {
          "output_type": "stream",
          "name": "stdout",
          "text": [
            "Train loss: 0.024108896031975746\tVal loss: 0.2327837198972702\tTrain acc: 99.1087962962963\tVal acc: 97.14285714285714\n",
            "########## Epoch 96\n"
          ]
        },
        {
          "output_type": "stream",
          "name": "stderr",
          "text": [
            "100%|██████████| 3/3 [00:00<00:00, 12.53it/s]\n",
            "100%|██████████| 1/1 [00:00<00:00,  5.07it/s]\n"
          ]
        },
        {
          "output_type": "stream",
          "name": "stdout",
          "text": [
            "Train loss: 0.0267492588609457\tVal loss: 0.23650600016117096\tTrain acc: 99.29398148148148\tVal acc: 97.14285714285714\n",
            "########## Epoch 97\n"
          ]
        },
        {
          "output_type": "stream",
          "name": "stderr",
          "text": [
            "100%|██████████| 3/3 [00:00<00:00, 13.64it/s]\n",
            "100%|██████████| 1/1 [00:00<00:00,  5.29it/s]\n"
          ]
        },
        {
          "output_type": "stream",
          "name": "stdout",
          "text": [
            "Train loss: 0.02322867512702942\tVal loss: 0.24018488824367523\tTrain acc: 99.29398148148148\tVal acc: 97.14285714285714\n",
            "########## Epoch 98\n"
          ]
        },
        {
          "output_type": "stream",
          "name": "stderr",
          "text": [
            "100%|██████████| 3/3 [00:00<00:00, 11.15it/s]\n",
            "100%|██████████| 1/1 [00:00<00:00,  5.13it/s]\n"
          ]
        },
        {
          "output_type": "stream",
          "name": "stdout",
          "text": [
            "Train loss: 0.019966071471571922\tVal loss: 0.24285922944545746\tTrain acc: 99.29398148148148\tVal acc: 97.14285714285714\n",
            "########## Epoch 99\n"
          ]
        },
        {
          "output_type": "stream",
          "name": "stderr",
          "text": [
            "100%|██████████| 3/3 [00:00<00:00, 13.26it/s]\n",
            "100%|██████████| 1/1 [00:00<00:00,  5.21it/s]\n"
          ]
        },
        {
          "output_type": "stream",
          "name": "stdout",
          "text": [
            "Train loss: 0.026334986090660095\tVal loss: 0.24452939629554749\tTrain acc: 99.29398148148148\tVal acc: 97.14285714285714\n",
            "97.14285714285714 99\n",
            "########## Epoch 0\n"
          ]
        },
        {
          "output_type": "stream",
          "name": "stderr",
          "text": [
            "100%|██████████| 3/3 [00:00<00:00, 12.38it/s]\n",
            "100%|██████████| 1/1 [00:00<00:00,  4.98it/s]\n"
          ]
        },
        {
          "output_type": "stream",
          "name": "stdout",
          "text": [
            "Train loss: 4.027262210845947\tVal loss: 3.908693790435791\tTrain acc: 0.0\tVal acc: 9.142857142857142\n",
            "########## Epoch 1\n"
          ]
        },
        {
          "output_type": "stream",
          "name": "stderr",
          "text": [
            "100%|██████████| 3/3 [00:00<00:00, 13.52it/s]\n",
            "100%|██████████| 1/1 [00:00<00:00,  5.07it/s]\n"
          ]
        },
        {
          "output_type": "stream",
          "name": "stdout",
          "text": [
            "Train loss: 3.8360602855682373\tVal loss: 3.6567630767822266\tTrain acc: 37.754629629629626\tVal acc: 48.0\n",
            "########## Epoch 2\n"
          ]
        },
        {
          "output_type": "stream",
          "name": "stderr",
          "text": [
            "100%|██████████| 3/3 [00:00<00:00, 13.36it/s]\n",
            "100%|██████████| 1/1 [00:00<00:00,  4.91it/s]\n"
          ]
        },
        {
          "output_type": "stream",
          "name": "stdout",
          "text": [
            "Train loss: 3.5332157611846924\tVal loss: 3.2337300777435303\tTrain acc: 52.76331018518518\tVal acc: 48.0\n",
            "########## Epoch 3\n"
          ]
        },
        {
          "output_type": "stream",
          "name": "stderr",
          "text": [
            "100%|██████████| 3/3 [00:00<00:00, 12.87it/s]\n",
            "100%|██████████| 1/1 [00:00<00:00,  5.02it/s]\n"
          ]
        },
        {
          "output_type": "stream",
          "name": "stdout",
          "text": [
            "Train loss: 3.0283267498016357\tVal loss: 2.548140287399292\tTrain acc: 50.96643518518518\tVal acc: 48.0\n",
            "########## Epoch 4\n"
          ]
        },
        {
          "output_type": "stream",
          "name": "stderr",
          "text": [
            "100%|██████████| 3/3 [00:00<00:00, 13.30it/s]\n",
            "100%|██████████| 1/1 [00:00<00:00,  5.09it/s]\n"
          ]
        },
        {
          "output_type": "stream",
          "name": "stdout",
          "text": [
            "Train loss: 2.2417852878570557\tVal loss: 1.6114853620529175\tTrain acc: 50.81597222222222\tVal acc: 48.0\n",
            "########## Epoch 5\n"
          ]
        },
        {
          "output_type": "stream",
          "name": "stderr",
          "text": [
            "100%|██████████| 3/3 [00:00<00:00, 13.16it/s]\n",
            "100%|██████████| 1/1 [00:00<00:00,  5.18it/s]\n"
          ]
        },
        {
          "output_type": "stream",
          "name": "stdout",
          "text": [
            "Train loss: 1.3373199701309204\tVal loss: 0.9318848252296448\tTrain acc: 50.78125\tVal acc: 48.0\n",
            "########## Epoch 6\n"
          ]
        },
        {
          "output_type": "stream",
          "name": "stderr",
          "text": [
            "100%|██████████| 3/3 [00:00<00:00, 12.90it/s]\n",
            "100%|██████████| 1/1 [00:00<00:00,  5.14it/s]\n"
          ]
        },
        {
          "output_type": "stream",
          "name": "stdout",
          "text": [
            "Train loss: 0.8172340393066406\tVal loss: 0.6249369978904724\tTrain acc: 53.504050925925924\tVal acc: 83.42857142857143\n",
            "########## Epoch 7\n"
          ]
        },
        {
          "output_type": "stream",
          "name": "stderr",
          "text": [
            "100%|██████████| 3/3 [00:00<00:00, 12.55it/s]\n",
            "100%|██████████| 1/1 [00:00<00:00,  5.12it/s]\n"
          ]
        },
        {
          "output_type": "stream",
          "name": "stdout",
          "text": [
            "Train loss: 0.6228132247924805\tVal loss: 0.6276968717575073\tTrain acc: 67.06886574074075\tVal acc: 52.0\n",
            "########## Epoch 8\n"
          ]
        },
        {
          "output_type": "stream",
          "name": "stderr",
          "text": [
            "100%|██████████| 3/3 [00:00<00:00, 13.30it/s]\n",
            "100%|██████████| 1/1 [00:00<00:00,  4.91it/s]\n"
          ]
        },
        {
          "output_type": "stream",
          "name": "stdout",
          "text": [
            "Train loss: 0.6571311354637146\tVal loss: 0.5413383841514587\tTrain acc: 60.85358796296296\tVal acc: 83.42857142857143\n",
            "########## Epoch 9\n"
          ]
        },
        {
          "output_type": "stream",
          "name": "stderr",
          "text": [
            "100%|██████████| 3/3 [00:00<00:00, 10.18it/s]\n",
            "100%|██████████| 1/1 [00:00<00:00,  5.31it/s]\n"
          ]
        },
        {
          "output_type": "stream",
          "name": "stdout",
          "text": [
            "Train loss: 0.632521390914917\tVal loss: 0.5495947003364563\tTrain acc: 66.03877314814815\tVal acc: 82.85714285714286\n",
            "########## Epoch 10\n"
          ]
        },
        {
          "output_type": "stream",
          "name": "stderr",
          "text": [
            "100%|██████████| 3/3 [00:00<00:00, 13.76it/s]\n",
            "100%|██████████| 1/1 [00:00<00:00,  5.14it/s]\n"
          ]
        },
        {
          "output_type": "stream",
          "name": "stdout",
          "text": [
            "Train loss: 0.5755202770233154\tVal loss: 0.49427559971809387\tTrain acc: 72.21064814814815\tVal acc: 83.42857142857143\n",
            "########## Epoch 11\n"
          ]
        },
        {
          "output_type": "stream",
          "name": "stderr",
          "text": [
            "100%|██████████| 3/3 [00:00<00:00, 12.92it/s]\n",
            "100%|██████████| 1/1 [00:00<00:00,  5.25it/s]\n"
          ]
        },
        {
          "output_type": "stream",
          "name": "stdout",
          "text": [
            "Train loss: 0.5319662094116211\tVal loss: 0.4503481984138489\tTrain acc: 74.73379629629629\tVal acc: 83.42857142857143\n",
            "########## Epoch 12\n"
          ]
        },
        {
          "output_type": "stream",
          "name": "stderr",
          "text": [
            "100%|██████████| 3/3 [00:00<00:00, 12.78it/s]\n",
            "100%|██████████| 1/1 [00:00<00:00,  4.80it/s]\n"
          ]
        },
        {
          "output_type": "stream",
          "name": "stdout",
          "text": [
            "Train loss: 0.5315400958061218\tVal loss: 0.4394853115081787\tTrain acc: 76.78819444444444\tVal acc: 83.42857142857143\n",
            "########## Epoch 13\n"
          ]
        },
        {
          "output_type": "stream",
          "name": "stderr",
          "text": [
            "100%|██████████| 3/3 [00:00<00:00, 12.94it/s]\n",
            "100%|██████████| 1/1 [00:00<00:00,  5.08it/s]\n"
          ]
        },
        {
          "output_type": "stream",
          "name": "stdout",
          "text": [
            "Train loss: 0.5063007473945618\tVal loss: 0.41028594970703125\tTrain acc: 79.29108796296296\tVal acc: 83.42857142857143\n",
            "########## Epoch 14\n"
          ]
        },
        {
          "output_type": "stream",
          "name": "stderr",
          "text": [
            "100%|██████████| 3/3 [00:00<00:00, 13.33it/s]\n",
            "100%|██████████| 1/1 [00:00<00:00,  5.19it/s]\n"
          ]
        },
        {
          "output_type": "stream",
          "name": "stdout",
          "text": [
            "Train loss: 0.4917221963405609\tVal loss: 0.4003788232803345\tTrain acc: 79.40104166666667\tVal acc: 83.42857142857143\n",
            "########## Epoch 15\n"
          ]
        },
        {
          "output_type": "stream",
          "name": "stderr",
          "text": [
            "100%|██████████| 3/3 [00:00<00:00, 13.51it/s]\n",
            "100%|██████████| 1/1 [00:00<00:00,  4.74it/s]\n"
          ]
        },
        {
          "output_type": "stream",
          "name": "stdout",
          "text": [
            "Train loss: 0.4650798738002777\tVal loss: 0.3926409184932709\tTrain acc: 80.7175925925926\tVal acc: 83.42857142857143\n",
            "########## Epoch 16\n"
          ]
        },
        {
          "output_type": "stream",
          "name": "stderr",
          "text": [
            "100%|██████████| 3/3 [00:00<00:00, 13.50it/s]\n",
            "100%|██████████| 1/1 [00:00<00:00,  5.15it/s]\n"
          ]
        },
        {
          "output_type": "stream",
          "name": "stdout",
          "text": [
            "Train loss: 0.4546804130077362\tVal loss: 0.3747097849845886\tTrain acc: 80.88831018518518\tVal acc: 83.42857142857143\n",
            "########## Epoch 17\n"
          ]
        },
        {
          "output_type": "stream",
          "name": "stderr",
          "text": [
            "100%|██████████| 3/3 [00:00<00:00, 13.20it/s]\n",
            "100%|██████████| 1/1 [00:00<00:00,  5.06it/s]\n"
          ]
        },
        {
          "output_type": "stream",
          "name": "stdout",
          "text": [
            "Train loss: 0.4393967092037201\tVal loss: 0.35990798473358154\tTrain acc: 81.3136574074074\tVal acc: 83.42857142857143\n",
            "########## Epoch 18\n"
          ]
        },
        {
          "output_type": "stream",
          "name": "stderr",
          "text": [
            "100%|██████████| 3/3 [00:00<00:00, 13.60it/s]\n",
            "100%|██████████| 1/1 [00:00<00:00,  4.94it/s]\n"
          ]
        },
        {
          "output_type": "stream",
          "name": "stdout",
          "text": [
            "Train loss: 0.3936128616333008\tVal loss: 0.35935258865356445\tTrain acc: 82.2048611111111\tVal acc: 83.42857142857143\n",
            "########## Epoch 19\n"
          ]
        },
        {
          "output_type": "stream",
          "name": "stderr",
          "text": [
            "100%|██████████| 3/3 [00:00<00:00, 13.25it/s]\n",
            "100%|██████████| 1/1 [00:00<00:00,  5.04it/s]\n"
          ]
        },
        {
          "output_type": "stream",
          "name": "stdout",
          "text": [
            "Train loss: 0.40783071517944336\tVal loss: 0.3246561288833618\tTrain acc: 81.16898148148148\tVal acc: 83.42857142857143\n",
            "########## Epoch 20\n"
          ]
        },
        {
          "output_type": "stream",
          "name": "stderr",
          "text": [
            "100%|██████████| 3/3 [00:00<00:00, 12.51it/s]\n",
            "100%|██████████| 1/1 [00:00<00:00,  5.00it/s]\n"
          ]
        },
        {
          "output_type": "stream",
          "name": "stdout",
          "text": [
            "Train loss: 0.3770070970058441\tVal loss: 0.30404186248779297\tTrain acc: 81.53935185185185\tVal acc: 83.42857142857143\n",
            "########## Epoch 21\n"
          ]
        },
        {
          "output_type": "stream",
          "name": "stderr",
          "text": [
            "100%|██████████| 3/3 [00:00<00:00, 13.28it/s]\n",
            "100%|██████████| 1/1 [00:00<00:00,  5.06it/s]\n"
          ]
        },
        {
          "output_type": "stream",
          "name": "stdout",
          "text": [
            "Train loss: 0.34289559721946716\tVal loss: 0.29051876068115234\tTrain acc: 81.90972222222223\tVal acc: 83.42857142857143\n",
            "########## Epoch 22\n"
          ]
        },
        {
          "output_type": "stream",
          "name": "stderr",
          "text": [
            "100%|██████████| 3/3 [00:00<00:00, 12.33it/s]\n",
            "100%|██████████| 1/1 [00:00<00:00,  5.30it/s]\n"
          ]
        },
        {
          "output_type": "stream",
          "name": "stdout",
          "text": [
            "Train loss: 0.3301301598548889\tVal loss: 0.2649787664413452\tTrain acc: 83.08159722222223\tVal acc: 84.0\n",
            "########## Epoch 23\n"
          ]
        },
        {
          "output_type": "stream",
          "name": "stderr",
          "text": [
            "100%|██████████| 3/3 [00:00<00:00, 13.50it/s]\n",
            "100%|██████████| 1/1 [00:00<00:00,  4.22it/s]\n"
          ]
        },
        {
          "output_type": "stream",
          "name": "stdout",
          "text": [
            "Train loss: 0.2797396779060364\tVal loss: 0.23037564754486084\tTrain acc: 85.50925925925925\tVal acc: 85.71428571428571\n",
            "########## Epoch 24\n"
          ]
        },
        {
          "output_type": "stream",
          "name": "stderr",
          "text": [
            "100%|██████████| 3/3 [00:00<00:00, 12.52it/s]\n",
            "100%|██████████| 1/1 [00:00<00:00,  5.36it/s]\n"
          ]
        },
        {
          "output_type": "stream",
          "name": "stdout",
          "text": [
            "Train loss: 0.25205692648887634\tVal loss: 0.2038627564907074\tTrain acc: 87.55208333333333\tVal acc: 93.14285714285714\n",
            "########## Epoch 25\n"
          ]
        },
        {
          "output_type": "stream",
          "name": "stderr",
          "text": [
            "100%|██████████| 3/3 [00:00<00:00, 12.87it/s]\n",
            "100%|██████████| 1/1 [00:00<00:00,  5.00it/s]\n"
          ]
        },
        {
          "output_type": "stream",
          "name": "stdout",
          "text": [
            "Train loss: 0.2235022336244583\tVal loss: 0.1825743466615677\tTrain acc: 91.89814814814815\tVal acc: 94.28571428571429\n",
            "########## Epoch 26\n"
          ]
        },
        {
          "output_type": "stream",
          "name": "stderr",
          "text": [
            "100%|██████████| 3/3 [00:00<00:00, 13.48it/s]\n",
            "100%|██████████| 1/1 [00:00<00:00,  5.08it/s]\n"
          ]
        },
        {
          "output_type": "stream",
          "name": "stdout",
          "text": [
            "Train loss: 0.19173313677310944\tVal loss: 0.15751913189888\tTrain acc: 94.89293981481482\tVal acc: 95.42857142857143\n",
            "########## Epoch 27\n"
          ]
        },
        {
          "output_type": "stream",
          "name": "stderr",
          "text": [
            "100%|██████████| 3/3 [00:00<00:00, 13.54it/s]\n",
            "100%|██████████| 1/1 [00:00<00:00,  5.08it/s]\n"
          ]
        },
        {
          "output_type": "stream",
          "name": "stdout",
          "text": [
            "Train loss: 0.17116010189056396\tVal loss: 0.13286192715168\tTrain acc: 96.06481481481482\tVal acc: 97.14285714285714\n",
            "########## Epoch 28\n"
          ]
        },
        {
          "output_type": "stream",
          "name": "stderr",
          "text": [
            "100%|██████████| 3/3 [00:00<00:00, 12.87it/s]\n",
            "100%|██████████| 1/1 [00:00<00:00,  4.93it/s]\n"
          ]
        },
        {
          "output_type": "stream",
          "name": "stdout",
          "text": [
            "Train loss: 0.13896621763706207\tVal loss: 0.11010881513357162\tTrain acc: 96.20949074074075\tVal acc: 98.28571428571429\n",
            "########## Epoch 29\n"
          ]
        },
        {
          "output_type": "stream",
          "name": "stderr",
          "text": [
            "100%|██████████| 3/3 [00:00<00:00, 13.26it/s]\n",
            "100%|██████████| 1/1 [00:00<00:00,  4.83it/s]\n"
          ]
        },
        {
          "output_type": "stream",
          "name": "stdout",
          "text": [
            "Train loss: 0.1152488961815834\tVal loss: 0.0916377604007721\tTrain acc: 96.9704861111111\tVal acc: 98.28571428571429\n",
            "########## Epoch 30\n"
          ]
        },
        {
          "output_type": "stream",
          "name": "stderr",
          "text": [
            "100%|██████████| 3/3 [00:00<00:00, 13.47it/s]\n",
            "100%|██████████| 1/1 [00:00<00:00,  4.97it/s]\n"
          ]
        },
        {
          "output_type": "stream",
          "name": "stdout",
          "text": [
            "Train loss: 0.09549390524625778\tVal loss: 0.07819994539022446\tTrain acc: 97.1412037037037\tVal acc: 98.28571428571429\n",
            "########## Epoch 31\n"
          ]
        },
        {
          "output_type": "stream",
          "name": "stderr",
          "text": [
            "100%|██████████| 3/3 [00:00<00:00, 13.25it/s]\n",
            "100%|██████████| 1/1 [00:00<00:00,  5.24it/s]\n"
          ]
        },
        {
          "output_type": "stream",
          "name": "stdout",
          "text": [
            "Train loss: 0.0783437043428421\tVal loss: 0.06866620481014252\tTrain acc: 97.80671296296298\tVal acc: 98.28571428571429\n",
            "########## Epoch 32\n"
          ]
        },
        {
          "output_type": "stream",
          "name": "stderr",
          "text": [
            "100%|██████████| 3/3 [00:00<00:00, 13.27it/s]\n",
            "100%|██████████| 1/1 [00:00<00:00,  5.26it/s]\n"
          ]
        },
        {
          "output_type": "stream",
          "name": "stdout",
          "text": [
            "Train loss: 0.07272246479988098\tVal loss: 0.062173500657081604\tTrain acc: 97.97743055555556\tVal acc: 98.85714285714286\n",
            "########## Epoch 33\n"
          ]
        },
        {
          "output_type": "stream",
          "name": "stderr",
          "text": [
            "100%|██████████| 3/3 [00:00<00:00, 12.87it/s]\n",
            "100%|██████████| 1/1 [00:00<00:00,  5.26it/s]\n"
          ]
        },
        {
          "output_type": "stream",
          "name": "stdout",
          "text": [
            "Train loss: 0.06309824436903\tVal loss: 0.05872908607125282\tTrain acc: 98.40277777777777\tVal acc: 98.85714285714286\n",
            "########## Epoch 34\n"
          ]
        },
        {
          "output_type": "stream",
          "name": "stderr",
          "text": [
            "100%|██████████| 3/3 [00:00<00:00, 13.16it/s]\n",
            "100%|██████████| 1/1 [00:00<00:00,  5.05it/s]\n"
          ]
        },
        {
          "output_type": "stream",
          "name": "stdout",
          "text": [
            "Train loss: 0.05835689976811409\tVal loss: 0.05673540011048317\tTrain acc: 98.2175925925926\tVal acc: 98.28571428571429\n",
            "########## Epoch 35\n"
          ]
        },
        {
          "output_type": "stream",
          "name": "stderr",
          "text": [
            "100%|██████████| 3/3 [00:00<00:00, 13.18it/s]\n",
            "100%|██████████| 1/1 [00:00<00:00,  4.07it/s]\n"
          ]
        },
        {
          "output_type": "stream",
          "name": "stdout",
          "text": [
            "Train loss: 0.05367453768849373\tVal loss: 0.055903177708387375\tTrain acc: 98.19733796296298\tVal acc: 97.71428571428571\n",
            "########## Epoch 36\n"
          ]
        },
        {
          "output_type": "stream",
          "name": "stderr",
          "text": [
            "100%|██████████| 3/3 [00:00<00:00, 12.16it/s]\n",
            "100%|██████████| 1/1 [00:00<00:00,  5.24it/s]\n"
          ]
        },
        {
          "output_type": "stream",
          "name": "stdout",
          "text": [
            "Train loss: 0.05182081088423729\tVal loss: 0.05577610433101654\tTrain acc: 98.58796296296298\tVal acc: 97.71428571428571\n",
            "########## Epoch 37\n"
          ]
        },
        {
          "output_type": "stream",
          "name": "stderr",
          "text": [
            "100%|██████████| 3/3 [00:00<00:00, 13.50it/s]\n",
            "100%|██████████| 1/1 [00:00<00:00,  5.12it/s]\n"
          ]
        },
        {
          "output_type": "stream",
          "name": "stdout",
          "text": [
            "Train loss: 0.04906537011265755\tVal loss: 0.05576000735163689\tTrain acc: 98.84837962962963\tVal acc: 98.28571428571429\n",
            "########## Epoch 38\n"
          ]
        },
        {
          "output_type": "stream",
          "name": "stderr",
          "text": [
            "100%|██████████| 3/3 [00:00<00:00, 13.09it/s]\n",
            "100%|██████████| 1/1 [00:00<00:00,  4.59it/s]\n"
          ]
        },
        {
          "output_type": "stream",
          "name": "stdout",
          "text": [
            "Train loss: 0.0498996265232563\tVal loss: 0.05645252391695976\tTrain acc: 98.27256944444444\tVal acc: 98.28571428571429\n",
            "########## Epoch 39\n"
          ]
        },
        {
          "output_type": "stream",
          "name": "stderr",
          "text": [
            "100%|██████████| 3/3 [00:00<00:00, 13.05it/s]\n",
            "100%|██████████| 1/1 [00:00<00:00,  4.93it/s]\n"
          ]
        },
        {
          "output_type": "stream",
          "name": "stdout",
          "text": [
            "Train loss: 0.048068877309560776\tVal loss: 0.05752509459853172\tTrain acc: 98.58796296296298\tVal acc: 98.28571428571429\n",
            "########## Epoch 40\n"
          ]
        },
        {
          "output_type": "stream",
          "name": "stderr",
          "text": [
            "100%|██████████| 3/3 [00:00<00:00, 13.72it/s]\n",
            "100%|██████████| 1/1 [00:00<00:00,  4.91it/s]\n"
          ]
        },
        {
          "output_type": "stream",
          "name": "stdout",
          "text": [
            "Train loss: 0.04743105545639992\tVal loss: 0.05659103766083717\tTrain acc: 98.40277777777777\tVal acc: 97.71428571428571\n",
            "########## Epoch 41\n"
          ]
        },
        {
          "output_type": "stream",
          "name": "stderr",
          "text": [
            "100%|██████████| 3/3 [00:00<00:00, 12.74it/s]\n",
            "100%|██████████| 1/1 [00:00<00:00,  5.35it/s]\n"
          ]
        },
        {
          "output_type": "stream",
          "name": "stdout",
          "text": [
            "Train loss: 0.04835496470332146\tVal loss: 0.05633067712187767\tTrain acc: 98.68344907407408\tVal acc: 97.71428571428571\n",
            "########## Epoch 42\n"
          ]
        },
        {
          "output_type": "stream",
          "name": "stderr",
          "text": [
            "100%|██████████| 3/3 [00:00<00:00, 12.96it/s]\n",
            "100%|██████████| 1/1 [00:00<00:00,  5.12it/s]\n"
          ]
        },
        {
          "output_type": "stream",
          "name": "stdout",
          "text": [
            "Train loss: 0.039696212857961655\tVal loss: 0.0568939633667469\tTrain acc: 99.1087962962963\tVal acc: 97.71428571428571\n",
            "########## Epoch 43\n"
          ]
        },
        {
          "output_type": "stream",
          "name": "stderr",
          "text": [
            "100%|██████████| 3/3 [00:00<00:00, 12.66it/s]\n",
            "100%|██████████| 1/1 [00:00<00:00,  5.30it/s]\n"
          ]
        },
        {
          "output_type": "stream",
          "name": "stdout",
          "text": [
            "Train loss: 0.04278206825256348\tVal loss: 0.05736946687102318\tTrain acc: 98.7181712962963\tVal acc: 97.71428571428571\n",
            "########## Epoch 44\n"
          ]
        },
        {
          "output_type": "stream",
          "name": "stderr",
          "text": [
            "100%|██████████| 3/3 [00:00<00:00, 12.71it/s]\n",
            "100%|██████████| 1/1 [00:00<00:00,  4.91it/s]\n"
          ]
        },
        {
          "output_type": "stream",
          "name": "stdout",
          "text": [
            "Train loss: 0.04290124773979187\tVal loss: 0.05713055655360222\tTrain acc: 98.47800925925925\tVal acc: 97.71428571428571\n",
            "########## Epoch 45\n"
          ]
        },
        {
          "output_type": "stream",
          "name": "stderr",
          "text": [
            "100%|██████████| 3/3 [00:00<00:00, 13.42it/s]\n",
            "100%|██████████| 1/1 [00:00<00:00,  5.25it/s]\n"
          ]
        },
        {
          "output_type": "stream",
          "name": "stdout",
          "text": [
            "Train loss: 0.03783881291747093\tVal loss: 0.05704645439982414\tTrain acc: 98.77314814814815\tVal acc: 97.71428571428571\n",
            "########## Epoch 46\n"
          ]
        },
        {
          "output_type": "stream",
          "name": "stderr",
          "text": [
            "100%|██████████| 3/3 [00:00<00:00, 12.57it/s]\n",
            "100%|██████████| 1/1 [00:00<00:00,  5.10it/s]\n"
          ]
        },
        {
          "output_type": "stream",
          "name": "stdout",
          "text": [
            "Train loss: 0.04353750869631767\tVal loss: 0.057354629039764404\tTrain acc: 98.79340277777777\tVal acc: 97.71428571428571\n",
            "########## Epoch 47\n"
          ]
        },
        {
          "output_type": "stream",
          "name": "stderr",
          "text": [
            "100%|██████████| 3/3 [00:00<00:00, 10.75it/s]\n",
            "100%|██████████| 1/1 [00:00<00:00,  5.04it/s]\n"
          ]
        },
        {
          "output_type": "stream",
          "name": "stdout",
          "text": [
            "Train loss: 0.037493377923965454\tVal loss: 0.05862480774521828\tTrain acc: 98.90335648148148\tVal acc: 97.71428571428571\n",
            "########## Epoch 48\n"
          ]
        },
        {
          "output_type": "stream",
          "name": "stderr",
          "text": [
            "100%|██████████| 3/3 [00:00<00:00, 12.59it/s]\n",
            "100%|██████████| 1/1 [00:00<00:00,  4.75it/s]\n"
          ]
        },
        {
          "output_type": "stream",
          "name": "stdout",
          "text": [
            "Train loss: 0.03751154989004135\tVal loss: 0.0604785792529583\tTrain acc: 98.90335648148148\tVal acc: 98.28571428571429\n",
            "########## Epoch 49\n"
          ]
        },
        {
          "output_type": "stream",
          "name": "stderr",
          "text": [
            "100%|██████████| 3/3 [00:00<00:00, 12.93it/s]\n",
            "100%|██████████| 1/1 [00:00<00:00,  5.17it/s]\n"
          ]
        },
        {
          "output_type": "stream",
          "name": "stdout",
          "text": [
            "Train loss: 0.03814299777150154\tVal loss: 0.0604206807911396\tTrain acc: 98.84837962962963\tVal acc: 97.71428571428571\n",
            "########## Epoch 50\n"
          ]
        },
        {
          "output_type": "stream",
          "name": "stderr",
          "text": [
            "100%|██████████| 3/3 [00:00<00:00, 13.20it/s]\n",
            "100%|██████████| 1/1 [00:00<00:00,  5.02it/s]\n"
          ]
        },
        {
          "output_type": "stream",
          "name": "stdout",
          "text": [
            "Train loss: 0.03433205187320709\tVal loss: 0.05928271636366844\tTrain acc: 98.90335648148148\tVal acc: 97.71428571428571\n",
            "########## Epoch 51\n"
          ]
        },
        {
          "output_type": "stream",
          "name": "stderr",
          "text": [
            "100%|██████████| 3/3 [00:00<00:00, 13.44it/s]\n",
            "100%|██████████| 1/1 [00:00<00:00,  5.01it/s]\n"
          ]
        },
        {
          "output_type": "stream",
          "name": "stdout",
          "text": [
            "Train loss: 0.0324551947414875\tVal loss: 0.058995626866817474\tTrain acc: 99.03356481481482\tVal acc: 97.71428571428571\n",
            "########## Epoch 52\n"
          ]
        },
        {
          "output_type": "stream",
          "name": "stderr",
          "text": [
            "100%|██████████| 3/3 [00:00<00:00, 13.67it/s]\n",
            "100%|██████████| 1/1 [00:00<00:00,  4.71it/s]\n"
          ]
        },
        {
          "output_type": "stream",
          "name": "stdout",
          "text": [
            "Train loss: 0.0317254401743412\tVal loss: 0.05962091684341431\tTrain acc: 99.08854166666667\tVal acc: 97.71428571428571\n",
            "########## Epoch 53\n"
          ]
        },
        {
          "output_type": "stream",
          "name": "stderr",
          "text": [
            "100%|██████████| 3/3 [00:00<00:00, 12.06it/s]\n",
            "100%|██████████| 1/1 [00:00<00:00,  5.08it/s]\n"
          ]
        },
        {
          "output_type": "stream",
          "name": "stdout",
          "text": [
            "Train loss: 0.03288872912526131\tVal loss: 0.059813592582941055\tTrain acc: 99.1087962962963\tVal acc: 97.71428571428571\n",
            "########## Epoch 54\n"
          ]
        },
        {
          "output_type": "stream",
          "name": "stderr",
          "text": [
            "100%|██████████| 3/3 [00:00<00:00, 13.32it/s]\n",
            "100%|██████████| 1/1 [00:00<00:00,  5.20it/s]\n"
          ]
        },
        {
          "output_type": "stream",
          "name": "stdout",
          "text": [
            "Train loss: 0.0317961685359478\tVal loss: 0.06022028252482414\tTrain acc: 98.9236111111111\tVal acc: 97.71428571428571\n",
            "########## Epoch 55\n"
          ]
        },
        {
          "output_type": "stream",
          "name": "stderr",
          "text": [
            "100%|██████████| 3/3 [00:00<00:00, 12.42it/s]\n",
            "100%|██████████| 1/1 [00:00<00:00,  4.78it/s]\n"
          ]
        },
        {
          "output_type": "stream",
          "name": "stdout",
          "text": [
            "Train loss: 0.028549177572131157\tVal loss: 0.06151208654046059\tTrain acc: 99.42418981481482\tVal acc: 97.71428571428571\n",
            "########## Epoch 56\n"
          ]
        },
        {
          "output_type": "stream",
          "name": "stderr",
          "text": [
            "100%|██████████| 3/3 [00:00<00:00, 13.12it/s]\n",
            "100%|██████████| 1/1 [00:00<00:00,  4.83it/s]\n"
          ]
        },
        {
          "output_type": "stream",
          "name": "stdout",
          "text": [
            "Train loss: 0.030435562133789062\tVal loss: 0.061297591775655746\tTrain acc: 99.16377314814815\tVal acc: 97.71428571428571\n",
            "########## Epoch 57\n"
          ]
        },
        {
          "output_type": "stream",
          "name": "stderr",
          "text": [
            "100%|██████████| 3/3 [00:00<00:00, 12.96it/s]\n",
            "100%|██████████| 1/1 [00:00<00:00,  5.05it/s]\n"
          ]
        },
        {
          "output_type": "stream",
          "name": "stdout",
          "text": [
            "Train loss: 0.030094316229224205\tVal loss: 0.0613463819026947\tTrain acc: 99.29398148148148\tVal acc: 97.71428571428571\n",
            "########## Epoch 58\n"
          ]
        },
        {
          "output_type": "stream",
          "name": "stderr",
          "text": [
            "100%|██████████| 3/3 [00:00<00:00, 12.70it/s]\n",
            "100%|██████████| 1/1 [00:00<00:00,  5.17it/s]\n"
          ]
        },
        {
          "output_type": "stream",
          "name": "stdout",
          "text": [
            "Train loss: 0.029860617592930794\tVal loss: 0.06106617674231529\tTrain acc: 99.1087962962963\tVal acc: 97.71428571428571\n",
            "########## Epoch 59\n"
          ]
        },
        {
          "output_type": "stream",
          "name": "stderr",
          "text": [
            "100%|██████████| 3/3 [00:00<00:00, 12.87it/s]\n",
            "100%|██████████| 1/1 [00:00<00:00,  5.18it/s]\n"
          ]
        },
        {
          "output_type": "stream",
          "name": "stdout",
          "text": [
            "Train loss: 0.029769795015454292\tVal loss: 0.06126176193356514\tTrain acc: 99.23900462962963\tVal acc: 97.71428571428571\n",
            "########## Epoch 60\n"
          ]
        },
        {
          "output_type": "stream",
          "name": "stderr",
          "text": [
            "100%|██████████| 3/3 [00:00<00:00, 10.70it/s]\n",
            "100%|██████████| 1/1 [00:00<00:00,  5.12it/s]\n"
          ]
        },
        {
          "output_type": "stream",
          "name": "stdout",
          "text": [
            "Train loss: 0.026155484840273857\tVal loss: 0.0617050975561142\tTrain acc: 99.29398148148148\tVal acc: 97.71428571428571\n",
            "########## Epoch 61\n"
          ]
        },
        {
          "output_type": "stream",
          "name": "stderr",
          "text": [
            "100%|██████████| 3/3 [00:00<00:00, 12.48it/s]\n",
            "100%|██████████| 1/1 [00:00<00:00,  5.10it/s]\n"
          ]
        },
        {
          "output_type": "stream",
          "name": "stdout",
          "text": [
            "Train loss: 0.0251028910279274\tVal loss: 0.06275320053100586\tTrain acc: 99.34895833333333\tVal acc: 97.71428571428571\n",
            "########## Epoch 62\n"
          ]
        },
        {
          "output_type": "stream",
          "name": "stderr",
          "text": [
            "100%|██████████| 3/3 [00:00<00:00, 13.29it/s]\n",
            "100%|██████████| 1/1 [00:00<00:00,  5.29it/s]\n"
          ]
        },
        {
          "output_type": "stream",
          "name": "stdout",
          "text": [
            "Train loss: 0.02520487643778324\tVal loss: 0.06416032463312149\tTrain acc: 99.42418981481482\tVal acc: 97.71428571428571\n",
            "########## Epoch 63\n"
          ]
        },
        {
          "output_type": "stream",
          "name": "stderr",
          "text": [
            "100%|██████████| 3/3 [00:00<00:00, 12.27it/s]\n",
            "100%|██████████| 1/1 [00:00<00:00,  4.61it/s]\n"
          ]
        },
        {
          "output_type": "stream",
          "name": "stdout",
          "text": [
            "Train loss: 0.02509695291519165\tVal loss: 0.06421388685703278\tTrain acc: 99.34895833333333\tVal acc: 97.71428571428571\n",
            "########## Epoch 64\n"
          ]
        },
        {
          "output_type": "stream",
          "name": "stderr",
          "text": [
            "100%|██████████| 3/3 [00:00<00:00, 13.43it/s]\n",
            "100%|██████████| 1/1 [00:00<00:00,  5.12it/s]\n"
          ]
        },
        {
          "output_type": "stream",
          "name": "stdout",
          "text": [
            "Train loss: 0.024795956909656525\tVal loss: 0.06342125684022903\tTrain acc: 99.42418981481482\tVal acc: 97.71428571428571\n",
            "########## Epoch 65\n"
          ]
        },
        {
          "output_type": "stream",
          "name": "stderr",
          "text": [
            "100%|██████████| 3/3 [00:00<00:00, 13.20it/s]\n",
            "100%|██████████| 1/1 [00:00<00:00,  5.12it/s]\n"
          ]
        },
        {
          "output_type": "stream",
          "name": "stdout",
          "text": [
            "Train loss: 0.022899344563484192\tVal loss: 0.06359915435314178\tTrain acc: 99.47916666666667\tVal acc: 97.71428571428571\n",
            "########## Epoch 66\n"
          ]
        },
        {
          "output_type": "stream",
          "name": "stderr",
          "text": [
            "100%|██████████| 3/3 [00:00<00:00, 13.40it/s]\n",
            "100%|██████████| 1/1 [00:00<00:00,  5.18it/s]\n"
          ]
        },
        {
          "output_type": "stream",
          "name": "stdout",
          "text": [
            "Train loss: 0.02281085215508938\tVal loss: 0.06409668922424316\tTrain acc: 99.47916666666667\tVal acc: 97.71428571428571\n",
            "########## Epoch 67\n"
          ]
        },
        {
          "output_type": "stream",
          "name": "stderr",
          "text": [
            "100%|██████████| 3/3 [00:00<00:00, 12.82it/s]\n",
            "100%|██████████| 1/1 [00:00<00:00,  5.05it/s]\n"
          ]
        },
        {
          "output_type": "stream",
          "name": "stdout",
          "text": [
            "Train loss: 0.024855447933077812\tVal loss: 0.06487538665533066\tTrain acc: 99.29398148148148\tVal acc: 97.71428571428571\n",
            "########## Epoch 68\n"
          ]
        },
        {
          "output_type": "stream",
          "name": "stderr",
          "text": [
            "100%|██████████| 3/3 [00:00<00:00, 12.80it/s]\n",
            "100%|██████████| 1/1 [00:00<00:00,  5.06it/s]\n"
          ]
        },
        {
          "output_type": "stream",
          "name": "stdout",
          "text": [
            "Train loss: 0.02294621802866459\tVal loss: 0.06505283713340759\tTrain acc: 99.29398148148148\tVal acc: 97.71428571428571\n",
            "########## Epoch 69\n"
          ]
        },
        {
          "output_type": "stream",
          "name": "stderr",
          "text": [
            "100%|██████████| 3/3 [00:00<00:00, 13.43it/s]\n",
            "100%|██████████| 1/1 [00:00<00:00,  4.98it/s]\n"
          ]
        },
        {
          "output_type": "stream",
          "name": "stdout",
          "text": [
            "Train loss: 0.024163147434592247\tVal loss: 0.06548363715410233\tTrain acc: 99.42418981481482\tVal acc: 97.71428571428571\n",
            "########## Epoch 70\n"
          ]
        },
        {
          "output_type": "stream",
          "name": "stderr",
          "text": [
            "100%|██████████| 3/3 [00:00<00:00, 12.39it/s]\n",
            "100%|██████████| 1/1 [00:00<00:00,  5.19it/s]\n"
          ]
        },
        {
          "output_type": "stream",
          "name": "stdout",
          "text": [
            "Train loss: 0.020896853879094124\tVal loss: 0.06720414012670517\tTrain acc: 99.47916666666667\tVal acc: 97.71428571428571\n",
            "########## Epoch 71\n"
          ]
        },
        {
          "output_type": "stream",
          "name": "stderr",
          "text": [
            "100%|██████████| 3/3 [00:00<00:00, 13.09it/s]\n",
            "100%|██████████| 1/1 [00:00<00:00,  4.97it/s]\n"
          ]
        },
        {
          "output_type": "stream",
          "name": "stdout",
          "text": [
            "Train loss: 0.0224620308727026\tVal loss: 0.06648921221494675\tTrain acc: 99.42418981481482\tVal acc: 97.71428571428571\n",
            "########## Epoch 72\n"
          ]
        },
        {
          "output_type": "stream",
          "name": "stderr",
          "text": [
            "100%|██████████| 3/3 [00:00<00:00, 12.47it/s]\n",
            "100%|██████████| 1/1 [00:00<00:00,  5.04it/s]\n"
          ]
        },
        {
          "output_type": "stream",
          "name": "stdout",
          "text": [
            "Train loss: 0.020078111439943314\tVal loss: 0.06632653623819351\tTrain acc: 99.42418981481482\tVal acc: 97.71428571428571\n",
            "########## Epoch 73\n"
          ]
        },
        {
          "output_type": "stream",
          "name": "stderr",
          "text": [
            "100%|██████████| 3/3 [00:00<00:00, 13.12it/s]\n",
            "100%|██████████| 1/1 [00:00<00:00,  5.11it/s]\n"
          ]
        },
        {
          "output_type": "stream",
          "name": "stdout",
          "text": [
            "Train loss: 0.018327439203858376\tVal loss: 0.06614837050437927\tTrain acc: 99.47916666666667\tVal acc: 97.71428571428571\n",
            "########## Epoch 74\n"
          ]
        },
        {
          "output_type": "stream",
          "name": "stderr",
          "text": [
            "100%|██████████| 3/3 [00:00<00:00, 10.84it/s]\n",
            "100%|██████████| 1/1 [00:00<00:00,  5.12it/s]\n"
          ]
        },
        {
          "output_type": "stream",
          "name": "stdout",
          "text": [
            "Train loss: 0.02071177028119564\tVal loss: 0.06634341925382614\tTrain acc: 99.29398148148148\tVal acc: 97.71428571428571\n",
            "########## Epoch 75\n"
          ]
        },
        {
          "output_type": "stream",
          "name": "stderr",
          "text": [
            "100%|██████████| 3/3 [00:00<00:00, 13.29it/s]\n",
            "100%|██████████| 1/1 [00:00<00:00,  5.07it/s]\n"
          ]
        },
        {
          "output_type": "stream",
          "name": "stdout",
          "text": [
            "Train loss: 0.018763884902000427\tVal loss: 0.06776236742734909\tTrain acc: 99.36921296296298\tVal acc: 97.71428571428571\n",
            "########## Epoch 76\n"
          ]
        },
        {
          "output_type": "stream",
          "name": "stderr",
          "text": [
            "100%|██████████| 3/3 [00:00<00:00, 13.62it/s]\n",
            "100%|██████████| 1/1 [00:00<00:00,  4.89it/s]\n"
          ]
        },
        {
          "output_type": "stream",
          "name": "stdout",
          "text": [
            "Train loss: 0.019796710461378098\tVal loss: 0.0714583769440651\tTrain acc: 99.609375\tVal acc: 97.71428571428571\n",
            "########## Epoch 77\n"
          ]
        },
        {
          "output_type": "stream",
          "name": "stderr",
          "text": [
            "100%|██████████| 3/3 [00:00<00:00, 12.78it/s]\n",
            "100%|██████████| 1/1 [00:00<00:00,  5.07it/s]\n"
          ]
        },
        {
          "output_type": "stream",
          "name": "stdout",
          "text": [
            "Train loss: 0.017662210389971733\tVal loss: 0.06967468559741974\tTrain acc: 99.55439814814815\tVal acc: 97.71428571428571\n",
            "########## Epoch 78\n"
          ]
        },
        {
          "output_type": "stream",
          "name": "stderr",
          "text": [
            "100%|██████████| 3/3 [00:00<00:00, 12.11it/s]\n",
            "100%|██████████| 1/1 [00:00<00:00,  4.52it/s]\n"
          ]
        },
        {
          "output_type": "stream",
          "name": "stdout",
          "text": [
            "Train loss: 0.019277289509773254\tVal loss: 0.06893651932477951\tTrain acc: 99.55439814814815\tVal acc: 97.71428571428571\n",
            "########## Epoch 79\n"
          ]
        },
        {
          "output_type": "stream",
          "name": "stderr",
          "text": [
            "100%|██████████| 3/3 [00:00<00:00, 13.16it/s]\n",
            "100%|██████████| 1/1 [00:00<00:00,  5.35it/s]\n"
          ]
        },
        {
          "output_type": "stream",
          "name": "stdout",
          "text": [
            "Train loss: 0.017771439626812935\tVal loss: 0.06880473345518112\tTrain acc: 99.47916666666667\tVal acc: 97.71428571428571\n",
            "########## Epoch 80\n"
          ]
        },
        {
          "output_type": "stream",
          "name": "stderr",
          "text": [
            "100%|██████████| 3/3 [00:00<00:00, 12.19it/s]\n",
            "100%|██████████| 1/1 [00:00<00:00,  4.79it/s]\n"
          ]
        },
        {
          "output_type": "stream",
          "name": "stdout",
          "text": [
            "Train loss: 0.015656238421797752\tVal loss: 0.06918951869010925\tTrain acc: 99.609375\tVal acc: 97.71428571428571\n",
            "########## Epoch 81\n"
          ]
        },
        {
          "output_type": "stream",
          "name": "stderr",
          "text": [
            "100%|██████████| 3/3 [00:00<00:00, 13.00it/s]\n",
            "100%|██████████| 1/1 [00:00<00:00,  5.05it/s]\n"
          ]
        },
        {
          "output_type": "stream",
          "name": "stdout",
          "text": [
            "Train loss: 0.015305671840906143\tVal loss: 0.06932748854160309\tTrain acc: 99.55439814814815\tVal acc: 97.71428571428571\n",
            "########## Epoch 82\n"
          ]
        },
        {
          "output_type": "stream",
          "name": "stderr",
          "text": [
            "100%|██████████| 3/3 [00:00<00:00, 13.02it/s]\n",
            "100%|██████████| 1/1 [00:00<00:00,  5.04it/s]\n"
          ]
        },
        {
          "output_type": "stream",
          "name": "stdout",
          "text": [
            "Train loss: 0.02010653354227543\tVal loss: 0.06929979473352432\tTrain acc: 99.36921296296298\tVal acc: 97.71428571428571\n",
            "########## Epoch 83\n"
          ]
        },
        {
          "output_type": "stream",
          "name": "stderr",
          "text": [
            "100%|██████████| 3/3 [00:00<00:00, 12.75it/s]\n",
            "100%|██████████| 1/1 [00:00<00:00,  5.09it/s]\n"
          ]
        },
        {
          "output_type": "stream",
          "name": "stdout",
          "text": [
            "Train loss: 0.01483798399567604\tVal loss: 0.07070093601942062\tTrain acc: 99.4994212962963\tVal acc: 97.71428571428571\n",
            "########## Epoch 84\n"
          ]
        },
        {
          "output_type": "stream",
          "name": "stderr",
          "text": [
            "100%|██████████| 3/3 [00:00<00:00, 12.85it/s]\n",
            "100%|██████████| 1/1 [00:00<00:00,  5.10it/s]\n"
          ]
        },
        {
          "output_type": "stream",
          "name": "stdout",
          "text": [
            "Train loss: 0.016155825927853584\tVal loss: 0.07122492790222168\tTrain acc: 99.36921296296298\tVal acc: 97.71428571428571\n",
            "########## Epoch 85\n"
          ]
        },
        {
          "output_type": "stream",
          "name": "stderr",
          "text": [
            "100%|██████████| 3/3 [00:00<00:00, 12.35it/s]\n",
            "100%|██████████| 1/1 [00:00<00:00,  5.08it/s]\n"
          ]
        },
        {
          "output_type": "stream",
          "name": "stdout",
          "text": [
            "Train loss: 0.014166448265314102\tVal loss: 0.07042107731103897\tTrain acc: 99.609375\tVal acc: 97.71428571428571\n",
            "########## Epoch 86\n"
          ]
        },
        {
          "output_type": "stream",
          "name": "stderr",
          "text": [
            "100%|██████████| 3/3 [00:00<00:00, 12.67it/s]\n",
            "100%|██████████| 1/1 [00:00<00:00,  5.14it/s]\n"
          ]
        },
        {
          "output_type": "stream",
          "name": "stdout",
          "text": [
            "Train loss: 0.015379056334495544\tVal loss: 0.0695706382393837\tTrain acc: 99.42418981481482\tVal acc: 97.71428571428571\n",
            "########## Epoch 87\n"
          ]
        },
        {
          "output_type": "stream",
          "name": "stderr",
          "text": [
            "100%|██████████| 3/3 [00:00<00:00, 12.37it/s]\n",
            "100%|██████████| 1/1 [00:00<00:00,  4.21it/s]\n"
          ]
        },
        {
          "output_type": "stream",
          "name": "stdout",
          "text": [
            "Train loss: 0.015102614648640156\tVal loss: 0.06974300742149353\tTrain acc: 99.55439814814815\tVal acc: 97.71428571428571\n",
            "########## Epoch 88\n"
          ]
        },
        {
          "output_type": "stream",
          "name": "stderr",
          "text": [
            "100%|██████████| 3/3 [00:00<00:00, 12.04it/s]\n",
            "100%|██████████| 1/1 [00:00<00:00,  5.04it/s]\n"
          ]
        },
        {
          "output_type": "stream",
          "name": "stdout",
          "text": [
            "Train loss: 0.01260326337069273\tVal loss: 0.07188493013381958\tTrain acc: 99.609375\tVal acc: 97.71428571428571\n",
            "########## Epoch 89\n"
          ]
        },
        {
          "output_type": "stream",
          "name": "stderr",
          "text": [
            "100%|██████████| 3/3 [00:00<00:00, 12.30it/s]\n",
            "100%|██████████| 1/1 [00:00<00:00,  5.21it/s]\n"
          ]
        },
        {
          "output_type": "stream",
          "name": "stdout",
          "text": [
            "Train loss: 0.012985636480152607\tVal loss: 0.07283815741539001\tTrain acc: 99.68460648148148\tVal acc: 97.71428571428571\n",
            "########## Epoch 90\n"
          ]
        },
        {
          "output_type": "stream",
          "name": "stderr",
          "text": [
            "100%|██████████| 3/3 [00:00<00:00, 12.70it/s]\n",
            "100%|██████████| 1/1 [00:00<00:00,  5.09it/s]\n"
          ]
        },
        {
          "output_type": "stream",
          "name": "stdout",
          "text": [
            "Train loss: 0.01280162762850523\tVal loss: 0.07336654514074326\tTrain acc: 99.73958333333333\tVal acc: 97.71428571428571\n",
            "########## Epoch 91\n"
          ]
        },
        {
          "output_type": "stream",
          "name": "stderr",
          "text": [
            "100%|██████████| 3/3 [00:00<00:00, 12.81it/s]\n",
            "100%|██████████| 1/1 [00:00<00:00,  4.97it/s]\n"
          ]
        },
        {
          "output_type": "stream",
          "name": "stdout",
          "text": [
            "Train loss: 0.013408899307250977\tVal loss: 0.0728568583726883\tTrain acc: 99.55439814814815\tVal acc: 97.71428571428571\n",
            "########## Epoch 92\n"
          ]
        },
        {
          "output_type": "stream",
          "name": "stderr",
          "text": [
            "100%|██████████| 3/3 [00:00<00:00, 12.70it/s]\n",
            "100%|██████████| 1/1 [00:00<00:00,  4.96it/s]\n"
          ]
        },
        {
          "output_type": "stream",
          "name": "stdout",
          "text": [
            "Train loss: 0.010999265126883984\tVal loss: 0.0728573277592659\tTrain acc: 99.68460648148148\tVal acc: 97.71428571428571\n",
            "########## Epoch 93\n"
          ]
        },
        {
          "output_type": "stream",
          "name": "stderr",
          "text": [
            "100%|██████████| 3/3 [00:00<00:00, 13.17it/s]\n",
            "100%|██████████| 1/1 [00:00<00:00,  4.82it/s]\n"
          ]
        },
        {
          "output_type": "stream",
          "name": "stdout",
          "text": [
            "Train loss: 0.010001682676374912\tVal loss: 0.07310395687818527\tTrain acc: 99.609375\tVal acc: 97.71428571428571\n",
            "########## Epoch 94\n"
          ]
        },
        {
          "output_type": "stream",
          "name": "stderr",
          "text": [
            "100%|██████████| 3/3 [00:00<00:00, 13.05it/s]\n",
            "100%|██████████| 1/1 [00:00<00:00,  5.03it/s]\n"
          ]
        },
        {
          "output_type": "stream",
          "name": "stdout",
          "text": [
            "Train loss: 0.009326641447842121\tVal loss: 0.07203973829746246\tTrain acc: 99.609375\tVal acc: 97.71428571428571\n",
            "########## Epoch 95\n"
          ]
        },
        {
          "output_type": "stream",
          "name": "stderr",
          "text": [
            "100%|██████████| 3/3 [00:00<00:00, 12.88it/s]\n",
            "100%|██████████| 1/1 [00:00<00:00,  5.18it/s]\n"
          ]
        },
        {
          "output_type": "stream",
          "name": "stdout",
          "text": [
            "Train loss: 0.012496073730289936\tVal loss: 0.07188867777585983\tTrain acc: 99.62962962962963\tVal acc: 97.71428571428571\n",
            "########## Epoch 96\n"
          ]
        },
        {
          "output_type": "stream",
          "name": "stderr",
          "text": [
            "100%|██████████| 3/3 [00:00<00:00, 13.63it/s]\n",
            "100%|██████████| 1/1 [00:00<00:00,  4.96it/s]\n"
          ]
        },
        {
          "output_type": "stream",
          "name": "stdout",
          "text": [
            "Train loss: 0.008501644246280193\tVal loss: 0.0734449177980423\tTrain acc: 99.68460648148148\tVal acc: 97.71428571428571\n",
            "########## Epoch 97\n"
          ]
        },
        {
          "output_type": "stream",
          "name": "stderr",
          "text": [
            "100%|██████████| 3/3 [00:00<00:00, 12.55it/s]\n",
            "100%|██████████| 1/1 [00:00<00:00,  4.71it/s]\n"
          ]
        },
        {
          "output_type": "stream",
          "name": "stdout",
          "text": [
            "Train loss: 0.009692427702248096\tVal loss: 0.07626555114984512\tTrain acc: 99.55439814814815\tVal acc: 97.71428571428571\n",
            "########## Epoch 98\n"
          ]
        },
        {
          "output_type": "stream",
          "name": "stderr",
          "text": [
            "100%|██████████| 3/3 [00:00<00:00, 12.53it/s]\n",
            "100%|██████████| 1/1 [00:00<00:00,  5.00it/s]\n"
          ]
        },
        {
          "output_type": "stream",
          "name": "stdout",
          "text": [
            "Train loss: 0.01003097090870142\tVal loss: 0.07437101006507874\tTrain acc: 99.55439814814815\tVal acc: 97.71428571428571\n",
            "########## Epoch 99\n"
          ]
        },
        {
          "output_type": "stream",
          "name": "stderr",
          "text": [
            "100%|██████████| 3/3 [00:00<00:00, 11.29it/s]\n",
            "100%|██████████| 1/1 [00:00<00:00,  4.43it/s]"
          ]
        },
        {
          "output_type": "stream",
          "name": "stdout",
          "text": [
            "Train loss: 0.009012733586132526\tVal loss: 0.07280134409666061\tTrain acc: 99.68460648148148\tVal acc: 97.71428571428571\n",
            "97.71428571428571 99\n"
          ]
        },
        {
          "output_type": "stream",
          "name": "stderr",
          "text": [
            "\n"
          ]
        }
      ]
    },
    {
      "cell_type": "code",
      "source": [
        "# a = torch.tensor([1, 1, 2, 1])\n",
        "# b = torch.tensor([11, 12, 3, 2])\n",
        "# a*b"
      ],
      "metadata": {
        "id": "vICDVRQDNm3V"
      },
      "execution_count": null,
      "outputs": []
    },
    {
      "cell_type": "markdown",
      "source": [],
      "metadata": {
        "id": "b4l7OTPX7RV5"
      }
    },
    {
      "cell_type": "code",
      "source": [
        "simple_count = dict()\n",
        "complex_count = dict()\n",
        "yes_no = dict()\n",
        "entire_image = dict()\n",
        "road_condition = dict()\n",
        "\n",
        "counter = 0\n",
        "for example in val_dict.values():\n",
        "    if example[\"Question_Type\"] == \"Yes_No\":\n",
        "        yes_no[str(counter)] = example\n",
        "        counter += 1\n",
        "    elif example[\"Question_Type\"] == \"Simple_Counting\":\n",
        "        simple_count[str(counter)] = example\n",
        "        counter += 1\n",
        "    elif example[\"Question_Type\"] == \"Complex_Counting\":\n",
        "        complex_count[str(counter)] = example\n",
        "        counter += 1\n",
        "    elif \"road\" in example[\"Question\"]:\n",
        "        road_condition[str(counter)] = example\n",
        "        counter += 1\n",
        "    elif \"overall\" in example[\"Question\"]:\n",
        "        entire_image[str(counter)] = example\n",
        "        counter += 1\n",
        "\n",
        "simple_count = VQADataset(simple_count)\n",
        "complex_count = VQADataset(complex_count)\n",
        "road_condition = VQADataset(road_condition)\n",
        "yes_no = VQADataset(yes_no)\n",
        "entire_image = VQADataset(entire_image)\n",
        "\n",
        "train_ds = VQADataset(train_dict)\n",
        "val_ds = VQADataset(val_dict)\n",
        "len(val_ds)"
      ],
      "metadata": {
        "id": "kVIisfCMJkWD",
        "colab": {
          "base_uri": "https://localhost:8080/"
        },
        "outputId": "92492a2d-f46f-4441-94a3-76d884acbb49"
      },
      "execution_count": null,
      "outputs": [
        {
          "output_type": "execute_result",
          "data": {
            "text/plain": [
              "890"
            ]
          },
          "metadata": {},
          "execution_count": 154
        }
      ]
    },
    {
      "cell_type": "code",
      "source": [
        "print(len(simple_count))\n",
        "print(len(complex_count))\n",
        "print(len(yes_no))\n",
        "print(len(entire_image))\n",
        "print(len(road_condition))"
      ],
      "metadata": {
        "colab": {
          "base_uri": "https://localhost:8080/"
        },
        "id": "GRtn28-Vnp7Y",
        "outputId": "072b6bd2-302c-4ee1-ae91-9297e5123ee3"
      },
      "execution_count": null,
      "outputs": [
        {
          "output_type": "stream",
          "name": "stdout",
          "text": [
            "120\n",
            "130\n",
            "175\n",
            "290\n",
            "175\n"
          ]
        }
      ]
    },
    {
      "cell_type": "code",
      "source": [
        "!ls /content/ckpts/"
      ],
      "metadata": {
        "colab": {
          "base_uri": "https://localhost:8080/"
        },
        "id": "1mL_J6zOPGmm",
        "outputId": "b502361a-782b-4dca-eed0-589a17c28150"
      },
      "execution_count": null,
      "outputs": [
        {
          "output_type": "stream",
          "name": "stdout",
          "text": [
            "20_09_16h43m15s  20_09_16h52m49s  20_09_17h28m06s  20_09_17h42m01s  best.pt\n",
            "20_09_16h43m46s  20_09_16h57m08s  20_09_17h29m52s  20_09_17h46m10s\n",
            "20_09_16h44m42s  20_09_17h03m56s  20_09_17h40m18s  20_09_17h50m08s\n"
          ]
        }
      ]
    },
    {
      "cell_type": "code",
      "source": [
        "# model = VQAModelConcat()\n",
        "# model = VQAModelAdd()\n",
        "model = VQAModelProduct()\n",
        "model.load_state_dict(torch.load(\"/content/ckpts/20_09_17h50m08s/vqa_47.pt\"))\n",
        "model.eval()"
      ],
      "metadata": {
        "colab": {
          "base_uri": "https://localhost:8080/"
        },
        "id": "EIAfmzRyll0D",
        "outputId": "e8411318-0b3c-4440-d583-507fdae04254"
      },
      "execution_count": null,
      "outputs": [
        {
          "output_type": "execute_result",
          "data": {
            "text/plain": [
              "VQAModelProduct(\n",
              "  (image): Sequential(\n",
              "    (0): Linear(in_features=768, out_features=1024, bias=True)\n",
              "    (1): Dropout(p=0.2, inplace=False)\n",
              "    (2): Linear(in_features=1024, out_features=512, bias=True)\n",
              "  )\n",
              "  (txt): Linear(in_features=768, out_features=512, bias=True)\n",
              "  (linstack): Sequential(\n",
              "    (0): Linear(in_features=512, out_features=256, bias=True)\n",
              "    (1): Dropout(p=0.2, inplace=False)\n",
              "    (2): Linear(in_features=256, out_features=128, bias=True)\n",
              "    (3): Linear(in_features=128, out_features=56, bias=True)\n",
              "  )\n",
              ")"
            ]
          },
          "metadata": {},
          "execution_count": 164
        }
      ]
    },
    {
      "cell_type": "code",
      "source": [
        "model.evaluate(val_ds)"
      ],
      "metadata": {
        "colab": {
          "base_uri": "https://localhost:8080/"
        },
        "id": "zgnUF1TRhsfn",
        "outputId": "8d7d6d99-ed94-4c52-9740-ccae48645407"
      },
      "execution_count": null,
      "outputs": [
        {
          "output_type": "stream",
          "name": "stderr",
          "text": [
            "\n",
            "  0%|          | 0/890 [00:00<?, ?it/s]\u001b[A\n",
            "  0%|          | 1/890 [00:00<02:46,  5.33it/s]\u001b[A\n",
            "  2%|▏         | 21/890 [00:00<00:09, 89.34it/s]\u001b[A\n",
            "  6%|▌         | 52/890 [00:00<00:04, 172.39it/s]\u001b[A\n",
            " 10%|▉         | 87/890 [00:00<00:03, 234.57it/s]\u001b[A\n",
            " 13%|█▎        | 118/890 [00:00<00:02, 257.58it/s]\u001b[A\n",
            " 17%|█▋        | 154/890 [00:00<00:02, 288.67it/s]\u001b[A\n",
            " 21%|██        | 189/890 [00:00<00:02, 307.15it/s]\u001b[A\n",
            " 25%|██▍       | 222/890 [00:00<00:02, 313.07it/s]\u001b[A\n",
            " 29%|██▉       | 256/890 [00:00<00:01, 320.20it/s]\u001b[A\n",
            " 32%|███▏      | 289/890 [00:01<00:01, 319.54it/s]\u001b[A\n",
            " 36%|███▌      | 322/890 [00:01<00:01, 318.10it/s]\u001b[A\n",
            " 40%|████      | 356/890 [00:01<00:01, 323.87it/s]\u001b[A\n",
            " 44%|████▍     | 392/890 [00:01<00:01, 332.73it/s]\u001b[A\n",
            " 48%|████▊     | 426/890 [00:01<00:01, 332.46it/s]\u001b[A\n",
            " 52%|█████▏    | 460/890 [00:01<00:01, 315.83it/s]\u001b[A\n",
            " 55%|█████▌    | 492/890 [00:01<00:01, 315.23it/s]\u001b[A\n",
            " 59%|█████▉    | 524/890 [00:01<00:01, 289.14it/s]\u001b[A\n",
            " 62%|██████▏   | 556/890 [00:01<00:01, 295.67it/s]\u001b[A\n",
            " 66%|██████▌   | 588/890 [00:02<00:01, 298.73it/s]\u001b[A\n",
            " 70%|██████▉   | 619/890 [00:02<00:00, 299.86it/s]\u001b[A\n",
            " 73%|███████▎  | 651/890 [00:02<00:00, 304.31it/s]\u001b[A\n",
            " 77%|███████▋  | 684/890 [00:02<00:00, 309.46it/s]\u001b[A\n",
            " 81%|████████  | 718/890 [00:02<00:00, 316.61it/s]\u001b[A\n",
            " 84%|████████▍ | 750/890 [00:02<00:00, 307.14it/s]\u001b[A\n",
            " 88%|████████▊ | 781/890 [00:02<00:00, 306.49it/s]\u001b[A\n",
            " 91%|█████████▏| 814/890 [00:02<00:00, 312.18it/s]\u001b[A\n",
            " 95%|█████████▌| 848/890 [00:02<00:00, 319.10it/s]\u001b[A\n",
            "100%|██████████| 890/890 [00:03<00:00, 286.20it/s]"
          ]
        },
        {
          "output_type": "stream",
          "name": "stdout",
          "text": [
            "Val loss: 0.6203692555427551\tVal acc: 81.79775280898876\n",
            "\n"
          ]
        },
        {
          "output_type": "stream",
          "name": "stderr",
          "text": [
            "\n"
          ]
        }
      ]
    },
    {
      "cell_type": "code",
      "source": [
        "model.evaluate(simple_count)"
      ],
      "metadata": {
        "colab": {
          "base_uri": "https://localhost:8080/"
        },
        "id": "_xTR_TjlmmAI",
        "outputId": "3bb73de4-e4e2-4947-f38e-ef71b767b126"
      },
      "execution_count": null,
      "outputs": [
        {
          "output_type": "stream",
          "name": "stderr",
          "text": [
            "\n",
            "  0%|          | 0/120 [00:00<?, ?it/s]\u001b[A\n",
            "  1%|          | 1/120 [00:00<00:22,  5.30it/s]\u001b[A\n",
            " 13%|█▎        | 16/120 [00:00<00:01, 67.34it/s]\u001b[A\n",
            " 42%|████▎     | 51/120 [00:00<00:00, 172.92it/s]\u001b[A\n",
            " 68%|██████▊   | 82/120 [00:00<00:00, 218.81it/s]\u001b[A\n",
            "100%|██████████| 120/120 [00:00<00:00, 172.58it/s]"
          ]
        },
        {
          "output_type": "stream",
          "name": "stdout",
          "text": [
            "Val loss: 1.714484453201294\tVal acc: 46.666666666666664\n",
            "\n"
          ]
        },
        {
          "output_type": "stream",
          "name": "stderr",
          "text": [
            "\n"
          ]
        }
      ]
    },
    {
      "cell_type": "code",
      "source": [
        "model.evaluate(complex_count)"
      ],
      "metadata": {
        "colab": {
          "base_uri": "https://localhost:8080/"
        },
        "id": "XiVfW8RumwqJ",
        "outputId": "8f8be361-d111-4e99-c15c-a4426a558459"
      },
      "execution_count": null,
      "outputs": [
        {
          "output_type": "stream",
          "name": "stderr",
          "text": [
            "\n",
            "  0%|          | 0/130 [00:00<?, ?it/s]\u001b[A\n",
            "  1%|          | 1/130 [00:00<00:27,  4.69it/s]\u001b[A\n",
            " 20%|██        | 26/130 [00:00<00:01, 102.45it/s]\u001b[A\n",
            " 47%|████▋     | 61/130 [00:00<00:00, 190.94it/s]\u001b[A\n",
            "100%|██████████| 130/130 [00:00<00:00, 188.91it/s]"
          ]
        },
        {
          "output_type": "stream",
          "name": "stdout",
          "text": [
            "Val loss: 2.0441653728485107\tVal acc: 42.30769230769231\n",
            "\n"
          ]
        },
        {
          "output_type": "stream",
          "name": "stderr",
          "text": [
            "\n"
          ]
        }
      ]
    },
    {
      "cell_type": "code",
      "source": [
        "model.evaluate(yes_no)"
      ],
      "metadata": {
        "colab": {
          "base_uri": "https://localhost:8080/"
        },
        "id": "9IEbWGJ0qs6Q",
        "outputId": "ae08a4ee-2c54-4994-9ef8-270a592426b9"
      },
      "execution_count": null,
      "outputs": [
        {
          "output_type": "stream",
          "name": "stderr",
          "text": [
            "\n",
            "  0%|          | 0/175 [00:00<?, ?it/s]\u001b[A\n",
            "  1%|          | 1/175 [00:00<00:34,  5.01it/s]\u001b[A\n",
            "  9%|▉         | 16/175 [00:00<00:02, 64.67it/s]\u001b[A\n",
            " 29%|██▉       | 51/175 [00:00<00:00, 169.14it/s]\u001b[A\n",
            " 50%|████▉     | 87/175 [00:00<00:00, 232.78it/s]\u001b[A\n",
            " 68%|██████▊   | 119/175 [00:00<00:00, 260.11it/s]\u001b[A\n",
            "100%|██████████| 175/175 [00:00<00:00, 207.51it/s]"
          ]
        },
        {
          "output_type": "stream",
          "name": "stdout",
          "text": [
            "Val loss: 0.07158318907022476\tVal acc: 97.71428571428571\n",
            "\n"
          ]
        },
        {
          "output_type": "stream",
          "name": "stderr",
          "text": [
            "\n"
          ]
        }
      ]
    },
    {
      "cell_type": "code",
      "source": [
        "model.evaluate(entire_image)"
      ],
      "metadata": {
        "colab": {
          "base_uri": "https://localhost:8080/"
        },
        "id": "mfS_xPgeqvpX",
        "outputId": "dbdd9bc7-02bd-421a-aeca-ac6a399e9f7d"
      },
      "execution_count": null,
      "outputs": [
        {
          "output_type": "stream",
          "name": "stderr",
          "text": [
            "\n",
            "  0%|          | 0/290 [00:00<?, ?it/s]\u001b[A\n",
            "  0%|          | 1/290 [00:00<00:55,  5.19it/s]\u001b[A\n",
            "  2%|▏         | 7/290 [00:00<00:10, 28.21it/s]\u001b[A\n",
            " 15%|█▍        | 43/290 [00:00<00:01, 152.43it/s]\u001b[A\n",
            " 27%|██▋       | 78/290 [00:00<00:00, 221.28it/s]\u001b[A\n",
            " 39%|███▉      | 113/290 [00:00<00:00, 262.26it/s]\u001b[A\n",
            " 51%|█████     | 148/290 [00:00<00:00, 290.25it/s]\u001b[A\n",
            " 64%|██████▍   | 185/290 [00:00<00:00, 313.76it/s]\u001b[A\n",
            " 75%|███████▌  | 218/290 [00:00<00:00, 315.29it/s]\u001b[A\n",
            " 87%|████████▋ | 251/290 [00:01<00:00, 317.43it/s]\u001b[A\n",
            "100%|██████████| 290/290 [00:01<00:00, 242.30it/s]"
          ]
        },
        {
          "output_type": "stream",
          "name": "stdout",
          "text": [
            "Val loss: 0.13860592246055603\tVal acc: 95.17241379310344\n",
            "\n"
          ]
        },
        {
          "output_type": "stream",
          "name": "stderr",
          "text": [
            "\n"
          ]
        }
      ]
    },
    {
      "cell_type": "code",
      "source": [
        "model.evaluate(road_condition)"
      ],
      "metadata": {
        "colab": {
          "base_uri": "https://localhost:8080/"
        },
        "id": "09yMDVsCq2BX",
        "outputId": "3ab59615-a6da-4cea-90da-fd12bc6992cd"
      },
      "execution_count": null,
      "outputs": [
        {
          "output_type": "stream",
          "name": "stderr",
          "text": [
            "\n",
            "  0%|          | 0/175 [00:00<?, ?it/s]\u001b[A\n",
            "  1%|          | 1/175 [00:00<00:35,  4.89it/s]\u001b[A\n",
            " 11%|█▏        | 20/175 [00:00<00:01, 80.79it/s]\u001b[A\n",
            " 31%|███▏      | 55/175 [00:00<00:00, 179.63it/s]\u001b[A\n",
            " 51%|█████     | 89/175 [00:00<00:00, 233.35it/s]\u001b[A\n",
            " 70%|███████   | 123/175 [00:00<00:00, 268.13it/s]\u001b[A\n",
            "100%|██████████| 175/175 [00:00<00:00, 210.65it/s]"
          ]
        },
        {
          "output_type": "stream",
          "name": "stdout",
          "text": [
            "Val loss: 0.15957875549793243\tVal acc: 97.14285714285714\n",
            "\n"
          ]
        },
        {
          "output_type": "stream",
          "name": "stderr",
          "text": [
            "\n"
          ]
        }
      ]
    },
    {
      "cell_type": "code",
      "source": [
        "# !pip install transformers\n",
        "# # from transformers import ViLT"
      ],
      "metadata": {
        "id": "i3oalgDkwqU0"
      },
      "execution_count": null,
      "outputs": []
    },
    {
      "cell_type": "code",
      "source": [
        "# from transformers import ViltModel"
      ],
      "metadata": {
        "id": "1aMLuLMz1bix"
      },
      "execution_count": null,
      "outputs": []
    },
    {
      "cell_type": "code",
      "source": [
        "# from transformers import ViltProcessor, ViltModel\n",
        "# from PIL import Image\n",
        "# import requests\n",
        "\n",
        "# # prepare image and text\n",
        "# url = \"http://images.cocodataset.org/val2017/000000039769.jpg\"\n",
        "# image = Image.open(requests.get(url, stream=True).raw)\n",
        "# text = \"hello world\"\n",
        "\n",
        "# processor = ViltProcessor.from_pretrained(\"dandelin/vilt-b32-mlm\")\n",
        "# model = ViltModel.from_pretrained(\"dandelin/vilt-b32-mlm\")\n",
        "\n",
        "# inputs = processor(image, text, return_tensors=\"pt\")\n",
        "# outputs = model(**inputs)\n",
        "# last_hidden_states = outputs.last_hidden_state"
      ],
      "metadata": {
        "id": "UALuJPxC1pWP"
      },
      "execution_count": null,
      "outputs": []
    },
    {
      "cell_type": "code",
      "source": [
        "# from prettytable import PrettyTable\n",
        "\n",
        "# def count_parameters(model):\n",
        "#     table = PrettyTable([\"Modules\", \"Parameters\"])\n",
        "#     total_params = 0\n",
        "#     for name, parameter in model.named_parameters():\n",
        "#         if not parameter.requires_grad: continue\n",
        "#         params = parameter.numel()\n",
        "#         table.add_row([name, params])\n",
        "#         total_params+=params\n",
        "#     print(table)\n",
        "#     print(f\"Total Trainable Params: {total_params}\")\n",
        "#     return total_params\n",
        "    \n",
        "# count_parameters(model)"
      ],
      "metadata": {
        "id": "6t732NXG1uNX"
      },
      "execution_count": null,
      "outputs": []
    },
    {
      "cell_type": "code",
      "source": [
        "# from datetime import datetime\n",
        "\n",
        "# class AttentionBlock(nn.Module):\n",
        "#   def __init__(self, embed_dim=512, num_heads=4):\n",
        "#     super().__init__()\n",
        "#     self.multihead_attn = nn.MultiheadAttention(embed_dim=embed_dim, num_heads=num_heads)\n",
        "#     self.lnorm = nn.LayerNorm(embed_dim)\n",
        "#     self.feed_forward = nn.Linear(embed_dim, embed_dim)\n",
        "\n",
        "#   def forward(self, k, v, q):\n",
        "#     attn_output, attn_output_weights = self.multihead_attn(query=q, key=k, value=v)\n",
        "#     attn_output = self.lnorm(attn_output + q)\n",
        "#     attn_output = self.lnorm(self.feed_forward(attn_output) + attn_output)\n",
        "#     return attn_output\n",
        "\n",
        "\n",
        "# class VQAModelAttention(nn.Module):\n",
        "#     def __init__(self, embed_dim=512, num_heads=4, num_blocks=1):\n",
        "#         super().__init__()\n",
        "#         self.attn = nn.ModuleList([\n",
        "#                                *(AttentionBlock(embed_dim=512, num_heads=4) for _ in range(num_blocks))\n",
        "#                                 ])\n",
        "\n",
        "#         self.image = nn.Sequential(\n",
        "#          nn.Linear(in_features=2048, out_features=1024),\n",
        "#          nn.Dropout(p=0.2),\n",
        "#          nn.Linear(in_features=1024, out_features=512)   \n",
        "#         )\n",
        "#         self.txt = nn.Linear(in_features=1024, out_features=512)\n",
        "        \n",
        "#         self.linstack = nn.Sequential(\n",
        "#             nn.Linear(in_features=512, out_features=256),\n",
        "#             nn.Dropout(p=0.2),\n",
        "#             nn.Linear(in_features=256, out_features=128),\n",
        "#             nn.Linear(in_features=128, out_features=56),\n",
        "#         )\n",
        "#         self.device = torch.device(\"cuda\") if torch.cuda.is_available() else torch.device(\"cpu\")\n",
        "    \n",
        "#     def forward(self, batch):\n",
        "#         img = self.image(batch[0])\n",
        "#         txt = self.txt(batch[1])\n",
        "        \n",
        "#         attn_output = img\n",
        "#         for layer in self.attn:\n",
        "#           attn_output = layer(k=attn_output, v=attn_output, q=txt)\n",
        "          \n",
        "#         x = self.linstack(attn_output)\n",
        "#         return x\n",
        "\n",
        "#     def fit(self, train_ds, val_ds):\n",
        "#         now = datetime.now()\n",
        "#         timestr = now.strftime(\"%d_%m_%Hh%Mm%Ss\")\n",
        "#         os.makedirs(f\"./ckpts/{timestr}\", exist_ok=True)\n",
        "#         self.to(self.device)\n",
        "#         train_dl = DataLoader(train_ds, batch_size=128, shuffle=True, num_workers=4)\n",
        "#         val_dl = DataLoader(val_ds, batch_size=128, shuffle=False, num_workers=4)\n",
        "\n",
        "#         optimizer = torch.optim.Adam(self.parameters(), lr=3e-4)\n",
        "#         loss_fn = nn.CrossEntropyLoss()\n",
        "\n",
        "#         for epoch in range(100):\n",
        "#             print(f\"########## Epoch {epoch}\")\n",
        "#             self.train()\n",
        "#             optimizer.zero_grad()\n",
        "            \n",
        "#             epoch_loss = []\n",
        "#             epoch_acc = []\n",
        "            \n",
        "#             val_loss = []\n",
        "#             val_acc = []\n",
        "\n",
        "#             for batch in tqdm.tqdm(train_dl):\n",
        "#                 batch = [elem.to(self.device) for elem in batch]\n",
        "#         #         batch[0] = tr(batch[0])\n",
        "#                 outputs = self(batch)\n",
        "#                 loss = loss_fn(outputs, batch[2])\n",
        "#                 loss.backward()\n",
        "#                 optimizer.step()\n",
        "#                 optimizer.zero_grad()\n",
        "                \n",
        "#                 acc = accuracy(outputs.detach().cpu().numpy(), batch[2].detach().cpu().numpy())\n",
        "                \n",
        "#                 epoch_loss.append(loss.detach().cpu().numpy())\n",
        "#                 epoch_acc.append(acc)\n",
        "            \n",
        "#             self.eval()\n",
        "#             with torch.no_grad():\n",
        "#                 for batch in tqdm.tqdm(val_dl):\n",
        "#                     batch = [elem.to(self.device) for elem in batch]\n",
        "#         #             batch[0] = tr(batch[0])\n",
        "#                     outputs = self(batch)\n",
        "#                     loss = loss_fn(outputs, batch[2])\n",
        "            \n",
        "#                     acc = accuracy(outputs.detach().cpu().numpy(), batch[2].detach().cpu().numpy())\n",
        "\n",
        "#                     val_loss.append(loss.detach().cpu().numpy())\n",
        "#                     val_acc.append(acc)\n",
        "            \n",
        "            \n",
        "#             torch.save(self.state_dict(), f\"./ckpts/{timestr}/vqa_{epoch}.pt\")\n",
        "            \n",
        "#             print(f\"Train loss: {np.mean(epoch_loss)}\", end=\"\\t\")\n",
        "#             print(f\"Val loss: {np.mean(val_loss)}\", end=\"\\t\")\n",
        "#             print(f\"Train acc: {np.mean(epoch_acc)}\", end=\"\\t\")\n",
        "#             print(f\"Val acc: {np.mean(val_acc)}\")\n",
        "    \n",
        "#     def evaluate(self, val_ds):\n",
        "#         val_dl = DataLoader(val_ds, batch_size=1, shuffle=False, num_workers=4)\n",
        "#         loss_fn = nn.CrossEntropyLoss()\n",
        "#         self.eval()\n",
        "#         self.to(self.device)\n",
        "#         val_loss = []\n",
        "#         val_acc = []\n",
        "#         with torch.no_grad():\n",
        "#             for batch in tqdm.tqdm(val_dl):\n",
        "#                 batch = [elem.to(self.device) for elem in batch]\n",
        "#     #             batch[0] = tr(batch[0])\n",
        "#                 outputs = self(batch)\n",
        "#                 loss = loss_fn(outputs, batch[2])\n",
        "        \n",
        "#                 acc = accuracy(outputs.detach().cpu().numpy(), batch[2].detach().cpu().numpy())\n",
        "\n",
        "#                 val_loss.append(loss.detach().cpu().numpy())\n",
        "#                 val_acc.append(acc)\n",
        "#         print(f\"Val loss: {np.mean(val_loss)}\", end=\"\\t\")\n",
        "#         print(f\"Val acc: {np.mean(val_acc)}\")"
      ],
      "metadata": {
        "id": "QqNSDAuy10YA"
      },
      "execution_count": null,
      "outputs": []
    }
  ]
}