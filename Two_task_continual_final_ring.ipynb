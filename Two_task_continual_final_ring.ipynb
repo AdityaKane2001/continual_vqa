{
  "nbformat": 4,
  "nbformat_minor": 0,
  "metadata": {
    "colab": {
      "provenance": [],
      "collapsed_sections": [
        "JvTvZzeQJcUI"
      ]
    },
    "kernelspec": {
      "name": "python3",
      "display_name": "Python 3"
    },
    "language_info": {
      "name": "python"
    },
    "gpuClass": "standard",
    "accelerator": "GPU",
    "widgets": {
      "application/vnd.jupyter.widget-state+json": {
        "a7c92a0a58dd467098134f905d7552d8": {
          "model_module": "@jupyter-widgets/controls",
          "model_name": "VBoxModel",
          "model_module_version": "1.5.0",
          "state": {
            "_dom_classes": [],
            "_model_module": "@jupyter-widgets/controls",
            "_model_module_version": "1.5.0",
            "_model_name": "VBoxModel",
            "_view_count": null,
            "_view_module": "@jupyter-widgets/controls",
            "_view_module_version": "1.5.0",
            "_view_name": "VBoxView",
            "box_style": "",
            "children": [
              "IPY_MODEL_6d8b2758af3542bfb93bd90bac74cb8b",
              "IPY_MODEL_817b8554c0154c2d8aeb97e5678d79b4"
            ],
            "layout": "IPY_MODEL_e372413b103e4e61a06652e1132d3ddf"
          }
        },
        "6d8b2758af3542bfb93bd90bac74cb8b": {
          "model_module": "@jupyter-widgets/controls",
          "model_name": "LabelModel",
          "model_module_version": "1.5.0",
          "state": {
            "_dom_classes": [],
            "_model_module": "@jupyter-widgets/controls",
            "_model_module_version": "1.5.0",
            "_model_name": "LabelModel",
            "_view_count": null,
            "_view_module": "@jupyter-widgets/controls",
            "_view_module_version": "1.5.0",
            "_view_name": "LabelView",
            "description": "",
            "description_tooltip": null,
            "layout": "IPY_MODEL_36cb5fcc020745008b345c4216667779",
            "placeholder": "​",
            "style": "IPY_MODEL_c19df12bcf6341238bf5eddcfa2fbcba",
            "value": "0.029 MB of 0.029 MB uploaded (0.000 MB deduped)\r"
          }
        },
        "817b8554c0154c2d8aeb97e5678d79b4": {
          "model_module": "@jupyter-widgets/controls",
          "model_name": "FloatProgressModel",
          "model_module_version": "1.5.0",
          "state": {
            "_dom_classes": [],
            "_model_module": "@jupyter-widgets/controls",
            "_model_module_version": "1.5.0",
            "_model_name": "FloatProgressModel",
            "_view_count": null,
            "_view_module": "@jupyter-widgets/controls",
            "_view_module_version": "1.5.0",
            "_view_name": "ProgressView",
            "bar_style": "",
            "description": "",
            "description_tooltip": null,
            "layout": "IPY_MODEL_392d7f4fb7a74a998f38316be75ebbf9",
            "max": 1,
            "min": 0,
            "orientation": "horizontal",
            "style": "IPY_MODEL_c862d9357a6948bfbf3c5609f14e87f9",
            "value": 1
          }
        },
        "e372413b103e4e61a06652e1132d3ddf": {
          "model_module": "@jupyter-widgets/base",
          "model_name": "LayoutModel",
          "model_module_version": "1.2.0",
          "state": {
            "_model_module": "@jupyter-widgets/base",
            "_model_module_version": "1.2.0",
            "_model_name": "LayoutModel",
            "_view_count": null,
            "_view_module": "@jupyter-widgets/base",
            "_view_module_version": "1.2.0",
            "_view_name": "LayoutView",
            "align_content": null,
            "align_items": null,
            "align_self": null,
            "border": null,
            "bottom": null,
            "display": null,
            "flex": null,
            "flex_flow": null,
            "grid_area": null,
            "grid_auto_columns": null,
            "grid_auto_flow": null,
            "grid_auto_rows": null,
            "grid_column": null,
            "grid_gap": null,
            "grid_row": null,
            "grid_template_areas": null,
            "grid_template_columns": null,
            "grid_template_rows": null,
            "height": null,
            "justify_content": null,
            "justify_items": null,
            "left": null,
            "margin": null,
            "max_height": null,
            "max_width": null,
            "min_height": null,
            "min_width": null,
            "object_fit": null,
            "object_position": null,
            "order": null,
            "overflow": null,
            "overflow_x": null,
            "overflow_y": null,
            "padding": null,
            "right": null,
            "top": null,
            "visibility": null,
            "width": null
          }
        },
        "36cb5fcc020745008b345c4216667779": {
          "model_module": "@jupyter-widgets/base",
          "model_name": "LayoutModel",
          "model_module_version": "1.2.0",
          "state": {
            "_model_module": "@jupyter-widgets/base",
            "_model_module_version": "1.2.0",
            "_model_name": "LayoutModel",
            "_view_count": null,
            "_view_module": "@jupyter-widgets/base",
            "_view_module_version": "1.2.0",
            "_view_name": "LayoutView",
            "align_content": null,
            "align_items": null,
            "align_self": null,
            "border": null,
            "bottom": null,
            "display": null,
            "flex": null,
            "flex_flow": null,
            "grid_area": null,
            "grid_auto_columns": null,
            "grid_auto_flow": null,
            "grid_auto_rows": null,
            "grid_column": null,
            "grid_gap": null,
            "grid_row": null,
            "grid_template_areas": null,
            "grid_template_columns": null,
            "grid_template_rows": null,
            "height": null,
            "justify_content": null,
            "justify_items": null,
            "left": null,
            "margin": null,
            "max_height": null,
            "max_width": null,
            "min_height": null,
            "min_width": null,
            "object_fit": null,
            "object_position": null,
            "order": null,
            "overflow": null,
            "overflow_x": null,
            "overflow_y": null,
            "padding": null,
            "right": null,
            "top": null,
            "visibility": null,
            "width": null
          }
        },
        "c19df12bcf6341238bf5eddcfa2fbcba": {
          "model_module": "@jupyter-widgets/controls",
          "model_name": "DescriptionStyleModel",
          "model_module_version": "1.5.0",
          "state": {
            "_model_module": "@jupyter-widgets/controls",
            "_model_module_version": "1.5.0",
            "_model_name": "DescriptionStyleModel",
            "_view_count": null,
            "_view_module": "@jupyter-widgets/base",
            "_view_module_version": "1.2.0",
            "_view_name": "StyleView",
            "description_width": ""
          }
        },
        "392d7f4fb7a74a998f38316be75ebbf9": {
          "model_module": "@jupyter-widgets/base",
          "model_name": "LayoutModel",
          "model_module_version": "1.2.0",
          "state": {
            "_model_module": "@jupyter-widgets/base",
            "_model_module_version": "1.2.0",
            "_model_name": "LayoutModel",
            "_view_count": null,
            "_view_module": "@jupyter-widgets/base",
            "_view_module_version": "1.2.0",
            "_view_name": "LayoutView",
            "align_content": null,
            "align_items": null,
            "align_self": null,
            "border": null,
            "bottom": null,
            "display": null,
            "flex": null,
            "flex_flow": null,
            "grid_area": null,
            "grid_auto_columns": null,
            "grid_auto_flow": null,
            "grid_auto_rows": null,
            "grid_column": null,
            "grid_gap": null,
            "grid_row": null,
            "grid_template_areas": null,
            "grid_template_columns": null,
            "grid_template_rows": null,
            "height": null,
            "justify_content": null,
            "justify_items": null,
            "left": null,
            "margin": null,
            "max_height": null,
            "max_width": null,
            "min_height": null,
            "min_width": null,
            "object_fit": null,
            "object_position": null,
            "order": null,
            "overflow": null,
            "overflow_x": null,
            "overflow_y": null,
            "padding": null,
            "right": null,
            "top": null,
            "visibility": null,
            "width": null
          }
        },
        "c862d9357a6948bfbf3c5609f14e87f9": {
          "model_module": "@jupyter-widgets/controls",
          "model_name": "ProgressStyleModel",
          "model_module_version": "1.5.0",
          "state": {
            "_model_module": "@jupyter-widgets/controls",
            "_model_module_version": "1.5.0",
            "_model_name": "ProgressStyleModel",
            "_view_count": null,
            "_view_module": "@jupyter-widgets/base",
            "_view_module_version": "1.2.0",
            "_view_name": "StyleView",
            "bar_color": null,
            "description_width": ""
          }
        },
        "c149bdce5d9e4859875f8fba5d861c7f": {
          "model_module": "@jupyter-widgets/controls",
          "model_name": "VBoxModel",
          "model_module_version": "1.5.0",
          "state": {
            "_dom_classes": [],
            "_model_module": "@jupyter-widgets/controls",
            "_model_module_version": "1.5.0",
            "_model_name": "VBoxModel",
            "_view_count": null,
            "_view_module": "@jupyter-widgets/controls",
            "_view_module_version": "1.5.0",
            "_view_name": "VBoxView",
            "box_style": "",
            "children": [
              "IPY_MODEL_231fdb2bb66d405cbe47e7b8aa26117c",
              "IPY_MODEL_ef2da368ec3c4bb0994903044b61795a"
            ],
            "layout": "IPY_MODEL_b12d977b87964a87830018d712cc3728"
          }
        },
        "231fdb2bb66d405cbe47e7b8aa26117c": {
          "model_module": "@jupyter-widgets/controls",
          "model_name": "LabelModel",
          "model_module_version": "1.5.0",
          "state": {
            "_dom_classes": [],
            "_model_module": "@jupyter-widgets/controls",
            "_model_module_version": "1.5.0",
            "_model_name": "LabelModel",
            "_view_count": null,
            "_view_module": "@jupyter-widgets/controls",
            "_view_module_version": "1.5.0",
            "_view_name": "LabelView",
            "description": "",
            "description_tooltip": null,
            "layout": "IPY_MODEL_f8fa21c529504da5a7d56f7f68da7489",
            "placeholder": "​",
            "style": "IPY_MODEL_fbc0fd8420a8421588a1be9a8ae166c3",
            "value": "0.030 MB of 0.030 MB uploaded (0.000 MB deduped)\r"
          }
        },
        "ef2da368ec3c4bb0994903044b61795a": {
          "model_module": "@jupyter-widgets/controls",
          "model_name": "FloatProgressModel",
          "model_module_version": "1.5.0",
          "state": {
            "_dom_classes": [],
            "_model_module": "@jupyter-widgets/controls",
            "_model_module_version": "1.5.0",
            "_model_name": "FloatProgressModel",
            "_view_count": null,
            "_view_module": "@jupyter-widgets/controls",
            "_view_module_version": "1.5.0",
            "_view_name": "ProgressView",
            "bar_style": "",
            "description": "",
            "description_tooltip": null,
            "layout": "IPY_MODEL_fc4a693b5f44425998331c1872114c88",
            "max": 1,
            "min": 0,
            "orientation": "horizontal",
            "style": "IPY_MODEL_92b064e679ef4dd3b39f4cfdd9e1384f",
            "value": 1
          }
        },
        "b12d977b87964a87830018d712cc3728": {
          "model_module": "@jupyter-widgets/base",
          "model_name": "LayoutModel",
          "model_module_version": "1.2.0",
          "state": {
            "_model_module": "@jupyter-widgets/base",
            "_model_module_version": "1.2.0",
            "_model_name": "LayoutModel",
            "_view_count": null,
            "_view_module": "@jupyter-widgets/base",
            "_view_module_version": "1.2.0",
            "_view_name": "LayoutView",
            "align_content": null,
            "align_items": null,
            "align_self": null,
            "border": null,
            "bottom": null,
            "display": null,
            "flex": null,
            "flex_flow": null,
            "grid_area": null,
            "grid_auto_columns": null,
            "grid_auto_flow": null,
            "grid_auto_rows": null,
            "grid_column": null,
            "grid_gap": null,
            "grid_row": null,
            "grid_template_areas": null,
            "grid_template_columns": null,
            "grid_template_rows": null,
            "height": null,
            "justify_content": null,
            "justify_items": null,
            "left": null,
            "margin": null,
            "max_height": null,
            "max_width": null,
            "min_height": null,
            "min_width": null,
            "object_fit": null,
            "object_position": null,
            "order": null,
            "overflow": null,
            "overflow_x": null,
            "overflow_y": null,
            "padding": null,
            "right": null,
            "top": null,
            "visibility": null,
            "width": null
          }
        },
        "f8fa21c529504da5a7d56f7f68da7489": {
          "model_module": "@jupyter-widgets/base",
          "model_name": "LayoutModel",
          "model_module_version": "1.2.0",
          "state": {
            "_model_module": "@jupyter-widgets/base",
            "_model_module_version": "1.2.0",
            "_model_name": "LayoutModel",
            "_view_count": null,
            "_view_module": "@jupyter-widgets/base",
            "_view_module_version": "1.2.0",
            "_view_name": "LayoutView",
            "align_content": null,
            "align_items": null,
            "align_self": null,
            "border": null,
            "bottom": null,
            "display": null,
            "flex": null,
            "flex_flow": null,
            "grid_area": null,
            "grid_auto_columns": null,
            "grid_auto_flow": null,
            "grid_auto_rows": null,
            "grid_column": null,
            "grid_gap": null,
            "grid_row": null,
            "grid_template_areas": null,
            "grid_template_columns": null,
            "grid_template_rows": null,
            "height": null,
            "justify_content": null,
            "justify_items": null,
            "left": null,
            "margin": null,
            "max_height": null,
            "max_width": null,
            "min_height": null,
            "min_width": null,
            "object_fit": null,
            "object_position": null,
            "order": null,
            "overflow": null,
            "overflow_x": null,
            "overflow_y": null,
            "padding": null,
            "right": null,
            "top": null,
            "visibility": null,
            "width": null
          }
        },
        "fbc0fd8420a8421588a1be9a8ae166c3": {
          "model_module": "@jupyter-widgets/controls",
          "model_name": "DescriptionStyleModel",
          "model_module_version": "1.5.0",
          "state": {
            "_model_module": "@jupyter-widgets/controls",
            "_model_module_version": "1.5.0",
            "_model_name": "DescriptionStyleModel",
            "_view_count": null,
            "_view_module": "@jupyter-widgets/base",
            "_view_module_version": "1.2.0",
            "_view_name": "StyleView",
            "description_width": ""
          }
        },
        "fc4a693b5f44425998331c1872114c88": {
          "model_module": "@jupyter-widgets/base",
          "model_name": "LayoutModel",
          "model_module_version": "1.2.0",
          "state": {
            "_model_module": "@jupyter-widgets/base",
            "_model_module_version": "1.2.0",
            "_model_name": "LayoutModel",
            "_view_count": null,
            "_view_module": "@jupyter-widgets/base",
            "_view_module_version": "1.2.0",
            "_view_name": "LayoutView",
            "align_content": null,
            "align_items": null,
            "align_self": null,
            "border": null,
            "bottom": null,
            "display": null,
            "flex": null,
            "flex_flow": null,
            "grid_area": null,
            "grid_auto_columns": null,
            "grid_auto_flow": null,
            "grid_auto_rows": null,
            "grid_column": null,
            "grid_gap": null,
            "grid_row": null,
            "grid_template_areas": null,
            "grid_template_columns": null,
            "grid_template_rows": null,
            "height": null,
            "justify_content": null,
            "justify_items": null,
            "left": null,
            "margin": null,
            "max_height": null,
            "max_width": null,
            "min_height": null,
            "min_width": null,
            "object_fit": null,
            "object_position": null,
            "order": null,
            "overflow": null,
            "overflow_x": null,
            "overflow_y": null,
            "padding": null,
            "right": null,
            "top": null,
            "visibility": null,
            "width": null
          }
        },
        "92b064e679ef4dd3b39f4cfdd9e1384f": {
          "model_module": "@jupyter-widgets/controls",
          "model_name": "ProgressStyleModel",
          "model_module_version": "1.5.0",
          "state": {
            "_model_module": "@jupyter-widgets/controls",
            "_model_module_version": "1.5.0",
            "_model_name": "ProgressStyleModel",
            "_view_count": null,
            "_view_module": "@jupyter-widgets/base",
            "_view_module_version": "1.2.0",
            "_view_name": "StyleView",
            "bar_color": null,
            "description_width": ""
          }
        },
        "6d1ff203149f46b1b0e73363e268b8f5": {
          "model_module": "@jupyter-widgets/controls",
          "model_name": "VBoxModel",
          "model_module_version": "1.5.0",
          "state": {
            "_dom_classes": [],
            "_model_module": "@jupyter-widgets/controls",
            "_model_module_version": "1.5.0",
            "_model_name": "VBoxModel",
            "_view_count": null,
            "_view_module": "@jupyter-widgets/controls",
            "_view_module_version": "1.5.0",
            "_view_name": "VBoxView",
            "box_style": "",
            "children": [
              "IPY_MODEL_1809849d0c384d4fbfd063fd2f1aa593",
              "IPY_MODEL_4f0621f22b6a41a9a5c27cf513f38c81"
            ],
            "layout": "IPY_MODEL_1a8a97d4f9184cdcb721d6f7a27b31fa"
          }
        },
        "1809849d0c384d4fbfd063fd2f1aa593": {
          "model_module": "@jupyter-widgets/controls",
          "model_name": "LabelModel",
          "model_module_version": "1.5.0",
          "state": {
            "_dom_classes": [],
            "_model_module": "@jupyter-widgets/controls",
            "_model_module_version": "1.5.0",
            "_model_name": "LabelModel",
            "_view_count": null,
            "_view_module": "@jupyter-widgets/controls",
            "_view_module_version": "1.5.0",
            "_view_name": "LabelView",
            "description": "",
            "description_tooltip": null,
            "layout": "IPY_MODEL_8d8217f55e8b4fb6beee836c7c981191",
            "placeholder": "​",
            "style": "IPY_MODEL_e50f925b1e034bc6bc364d27fdb37043",
            "value": "0.036 MB of 0.036 MB uploaded (0.000 MB deduped)\r"
          }
        },
        "4f0621f22b6a41a9a5c27cf513f38c81": {
          "model_module": "@jupyter-widgets/controls",
          "model_name": "FloatProgressModel",
          "model_module_version": "1.5.0",
          "state": {
            "_dom_classes": [],
            "_model_module": "@jupyter-widgets/controls",
            "_model_module_version": "1.5.0",
            "_model_name": "FloatProgressModel",
            "_view_count": null,
            "_view_module": "@jupyter-widgets/controls",
            "_view_module_version": "1.5.0",
            "_view_name": "ProgressView",
            "bar_style": "",
            "description": "",
            "description_tooltip": null,
            "layout": "IPY_MODEL_ed44f3c92cf044aaa7972cf90b45d07a",
            "max": 1,
            "min": 0,
            "orientation": "horizontal",
            "style": "IPY_MODEL_af9925db54fa480fbadf282a44f11e22",
            "value": 1
          }
        },
        "1a8a97d4f9184cdcb721d6f7a27b31fa": {
          "model_module": "@jupyter-widgets/base",
          "model_name": "LayoutModel",
          "model_module_version": "1.2.0",
          "state": {
            "_model_module": "@jupyter-widgets/base",
            "_model_module_version": "1.2.0",
            "_model_name": "LayoutModel",
            "_view_count": null,
            "_view_module": "@jupyter-widgets/base",
            "_view_module_version": "1.2.0",
            "_view_name": "LayoutView",
            "align_content": null,
            "align_items": null,
            "align_self": null,
            "border": null,
            "bottom": null,
            "display": null,
            "flex": null,
            "flex_flow": null,
            "grid_area": null,
            "grid_auto_columns": null,
            "grid_auto_flow": null,
            "grid_auto_rows": null,
            "grid_column": null,
            "grid_gap": null,
            "grid_row": null,
            "grid_template_areas": null,
            "grid_template_columns": null,
            "grid_template_rows": null,
            "height": null,
            "justify_content": null,
            "justify_items": null,
            "left": null,
            "margin": null,
            "max_height": null,
            "max_width": null,
            "min_height": null,
            "min_width": null,
            "object_fit": null,
            "object_position": null,
            "order": null,
            "overflow": null,
            "overflow_x": null,
            "overflow_y": null,
            "padding": null,
            "right": null,
            "top": null,
            "visibility": null,
            "width": null
          }
        },
        "8d8217f55e8b4fb6beee836c7c981191": {
          "model_module": "@jupyter-widgets/base",
          "model_name": "LayoutModel",
          "model_module_version": "1.2.0",
          "state": {
            "_model_module": "@jupyter-widgets/base",
            "_model_module_version": "1.2.0",
            "_model_name": "LayoutModel",
            "_view_count": null,
            "_view_module": "@jupyter-widgets/base",
            "_view_module_version": "1.2.0",
            "_view_name": "LayoutView",
            "align_content": null,
            "align_items": null,
            "align_self": null,
            "border": null,
            "bottom": null,
            "display": null,
            "flex": null,
            "flex_flow": null,
            "grid_area": null,
            "grid_auto_columns": null,
            "grid_auto_flow": null,
            "grid_auto_rows": null,
            "grid_column": null,
            "grid_gap": null,
            "grid_row": null,
            "grid_template_areas": null,
            "grid_template_columns": null,
            "grid_template_rows": null,
            "height": null,
            "justify_content": null,
            "justify_items": null,
            "left": null,
            "margin": null,
            "max_height": null,
            "max_width": null,
            "min_height": null,
            "min_width": null,
            "object_fit": null,
            "object_position": null,
            "order": null,
            "overflow": null,
            "overflow_x": null,
            "overflow_y": null,
            "padding": null,
            "right": null,
            "top": null,
            "visibility": null,
            "width": null
          }
        },
        "e50f925b1e034bc6bc364d27fdb37043": {
          "model_module": "@jupyter-widgets/controls",
          "model_name": "DescriptionStyleModel",
          "model_module_version": "1.5.0",
          "state": {
            "_model_module": "@jupyter-widgets/controls",
            "_model_module_version": "1.5.0",
            "_model_name": "DescriptionStyleModel",
            "_view_count": null,
            "_view_module": "@jupyter-widgets/base",
            "_view_module_version": "1.2.0",
            "_view_name": "StyleView",
            "description_width": ""
          }
        },
        "ed44f3c92cf044aaa7972cf90b45d07a": {
          "model_module": "@jupyter-widgets/base",
          "model_name": "LayoutModel",
          "model_module_version": "1.2.0",
          "state": {
            "_model_module": "@jupyter-widgets/base",
            "_model_module_version": "1.2.0",
            "_model_name": "LayoutModel",
            "_view_count": null,
            "_view_module": "@jupyter-widgets/base",
            "_view_module_version": "1.2.0",
            "_view_name": "LayoutView",
            "align_content": null,
            "align_items": null,
            "align_self": null,
            "border": null,
            "bottom": null,
            "display": null,
            "flex": null,
            "flex_flow": null,
            "grid_area": null,
            "grid_auto_columns": null,
            "grid_auto_flow": null,
            "grid_auto_rows": null,
            "grid_column": null,
            "grid_gap": null,
            "grid_row": null,
            "grid_template_areas": null,
            "grid_template_columns": null,
            "grid_template_rows": null,
            "height": null,
            "justify_content": null,
            "justify_items": null,
            "left": null,
            "margin": null,
            "max_height": null,
            "max_width": null,
            "min_height": null,
            "min_width": null,
            "object_fit": null,
            "object_position": null,
            "order": null,
            "overflow": null,
            "overflow_x": null,
            "overflow_y": null,
            "padding": null,
            "right": null,
            "top": null,
            "visibility": null,
            "width": null
          }
        },
        "af9925db54fa480fbadf282a44f11e22": {
          "model_module": "@jupyter-widgets/controls",
          "model_name": "ProgressStyleModel",
          "model_module_version": "1.5.0",
          "state": {
            "_model_module": "@jupyter-widgets/controls",
            "_model_module_version": "1.5.0",
            "_model_name": "ProgressStyleModel",
            "_view_count": null,
            "_view_module": "@jupyter-widgets/base",
            "_view_module_version": "1.2.0",
            "_view_name": "StyleView",
            "bar_color": null,
            "description_width": ""
          }
        },
        "918ffbf1de2f457a811390ca11b6ba3a": {
          "model_module": "@jupyter-widgets/controls",
          "model_name": "VBoxModel",
          "model_module_version": "1.5.0",
          "state": {
            "_dom_classes": [],
            "_model_module": "@jupyter-widgets/controls",
            "_model_module_version": "1.5.0",
            "_model_name": "VBoxModel",
            "_view_count": null,
            "_view_module": "@jupyter-widgets/controls",
            "_view_module_version": "1.5.0",
            "_view_name": "VBoxView",
            "box_style": "",
            "children": [
              "IPY_MODEL_bd2137baf391483e9e3be1a052b7bd0d",
              "IPY_MODEL_fd01ad7196b844e495b7afafdfab648d"
            ],
            "layout": "IPY_MODEL_1d8d032f03f941fcb8971a65cd91bf7e"
          }
        },
        "bd2137baf391483e9e3be1a052b7bd0d": {
          "model_module": "@jupyter-widgets/controls",
          "model_name": "LabelModel",
          "model_module_version": "1.5.0",
          "state": {
            "_dom_classes": [],
            "_model_module": "@jupyter-widgets/controls",
            "_model_module_version": "1.5.0",
            "_model_name": "LabelModel",
            "_view_count": null,
            "_view_module": "@jupyter-widgets/controls",
            "_view_module_version": "1.5.0",
            "_view_name": "LabelView",
            "description": "",
            "description_tooltip": null,
            "layout": "IPY_MODEL_bc4a92b73cba4203bec26964714260ac",
            "placeholder": "​",
            "style": "IPY_MODEL_f14a5531915645f8be719fa935e53a5f",
            "value": "0.031 MB of 0.031 MB uploaded (0.000 MB deduped)\r"
          }
        },
        "fd01ad7196b844e495b7afafdfab648d": {
          "model_module": "@jupyter-widgets/controls",
          "model_name": "FloatProgressModel",
          "model_module_version": "1.5.0",
          "state": {
            "_dom_classes": [],
            "_model_module": "@jupyter-widgets/controls",
            "_model_module_version": "1.5.0",
            "_model_name": "FloatProgressModel",
            "_view_count": null,
            "_view_module": "@jupyter-widgets/controls",
            "_view_module_version": "1.5.0",
            "_view_name": "ProgressView",
            "bar_style": "",
            "description": "",
            "description_tooltip": null,
            "layout": "IPY_MODEL_c2d10015b9ca42bcb9ce6f045e927b42",
            "max": 1,
            "min": 0,
            "orientation": "horizontal",
            "style": "IPY_MODEL_7976f17bbd084a90a41ed55ff2c7e521",
            "value": 1
          }
        },
        "1d8d032f03f941fcb8971a65cd91bf7e": {
          "model_module": "@jupyter-widgets/base",
          "model_name": "LayoutModel",
          "model_module_version": "1.2.0",
          "state": {
            "_model_module": "@jupyter-widgets/base",
            "_model_module_version": "1.2.0",
            "_model_name": "LayoutModel",
            "_view_count": null,
            "_view_module": "@jupyter-widgets/base",
            "_view_module_version": "1.2.0",
            "_view_name": "LayoutView",
            "align_content": null,
            "align_items": null,
            "align_self": null,
            "border": null,
            "bottom": null,
            "display": null,
            "flex": null,
            "flex_flow": null,
            "grid_area": null,
            "grid_auto_columns": null,
            "grid_auto_flow": null,
            "grid_auto_rows": null,
            "grid_column": null,
            "grid_gap": null,
            "grid_row": null,
            "grid_template_areas": null,
            "grid_template_columns": null,
            "grid_template_rows": null,
            "height": null,
            "justify_content": null,
            "justify_items": null,
            "left": null,
            "margin": null,
            "max_height": null,
            "max_width": null,
            "min_height": null,
            "min_width": null,
            "object_fit": null,
            "object_position": null,
            "order": null,
            "overflow": null,
            "overflow_x": null,
            "overflow_y": null,
            "padding": null,
            "right": null,
            "top": null,
            "visibility": null,
            "width": null
          }
        },
        "bc4a92b73cba4203bec26964714260ac": {
          "model_module": "@jupyter-widgets/base",
          "model_name": "LayoutModel",
          "model_module_version": "1.2.0",
          "state": {
            "_model_module": "@jupyter-widgets/base",
            "_model_module_version": "1.2.0",
            "_model_name": "LayoutModel",
            "_view_count": null,
            "_view_module": "@jupyter-widgets/base",
            "_view_module_version": "1.2.0",
            "_view_name": "LayoutView",
            "align_content": null,
            "align_items": null,
            "align_self": null,
            "border": null,
            "bottom": null,
            "display": null,
            "flex": null,
            "flex_flow": null,
            "grid_area": null,
            "grid_auto_columns": null,
            "grid_auto_flow": null,
            "grid_auto_rows": null,
            "grid_column": null,
            "grid_gap": null,
            "grid_row": null,
            "grid_template_areas": null,
            "grid_template_columns": null,
            "grid_template_rows": null,
            "height": null,
            "justify_content": null,
            "justify_items": null,
            "left": null,
            "margin": null,
            "max_height": null,
            "max_width": null,
            "min_height": null,
            "min_width": null,
            "object_fit": null,
            "object_position": null,
            "order": null,
            "overflow": null,
            "overflow_x": null,
            "overflow_y": null,
            "padding": null,
            "right": null,
            "top": null,
            "visibility": null,
            "width": null
          }
        },
        "f14a5531915645f8be719fa935e53a5f": {
          "model_module": "@jupyter-widgets/controls",
          "model_name": "DescriptionStyleModel",
          "model_module_version": "1.5.0",
          "state": {
            "_model_module": "@jupyter-widgets/controls",
            "_model_module_version": "1.5.0",
            "_model_name": "DescriptionStyleModel",
            "_view_count": null,
            "_view_module": "@jupyter-widgets/base",
            "_view_module_version": "1.2.0",
            "_view_name": "StyleView",
            "description_width": ""
          }
        },
        "c2d10015b9ca42bcb9ce6f045e927b42": {
          "model_module": "@jupyter-widgets/base",
          "model_name": "LayoutModel",
          "model_module_version": "1.2.0",
          "state": {
            "_model_module": "@jupyter-widgets/base",
            "_model_module_version": "1.2.0",
            "_model_name": "LayoutModel",
            "_view_count": null,
            "_view_module": "@jupyter-widgets/base",
            "_view_module_version": "1.2.0",
            "_view_name": "LayoutView",
            "align_content": null,
            "align_items": null,
            "align_self": null,
            "border": null,
            "bottom": null,
            "display": null,
            "flex": null,
            "flex_flow": null,
            "grid_area": null,
            "grid_auto_columns": null,
            "grid_auto_flow": null,
            "grid_auto_rows": null,
            "grid_column": null,
            "grid_gap": null,
            "grid_row": null,
            "grid_template_areas": null,
            "grid_template_columns": null,
            "grid_template_rows": null,
            "height": null,
            "justify_content": null,
            "justify_items": null,
            "left": null,
            "margin": null,
            "max_height": null,
            "max_width": null,
            "min_height": null,
            "min_width": null,
            "object_fit": null,
            "object_position": null,
            "order": null,
            "overflow": null,
            "overflow_x": null,
            "overflow_y": null,
            "padding": null,
            "right": null,
            "top": null,
            "visibility": null,
            "width": null
          }
        },
        "7976f17bbd084a90a41ed55ff2c7e521": {
          "model_module": "@jupyter-widgets/controls",
          "model_name": "ProgressStyleModel",
          "model_module_version": "1.5.0",
          "state": {
            "_model_module": "@jupyter-widgets/controls",
            "_model_module_version": "1.5.0",
            "_model_name": "ProgressStyleModel",
            "_view_count": null,
            "_view_module": "@jupyter-widgets/base",
            "_view_module_version": "1.2.0",
            "_view_name": "StyleView",
            "bar_color": null,
            "description_width": ""
          }
        },
        "4b2d24323bb34723a023f7d3156acd85": {
          "model_module": "@jupyter-widgets/controls",
          "model_name": "VBoxModel",
          "model_module_version": "1.5.0",
          "state": {
            "_dom_classes": [],
            "_model_module": "@jupyter-widgets/controls",
            "_model_module_version": "1.5.0",
            "_model_name": "VBoxModel",
            "_view_count": null,
            "_view_module": "@jupyter-widgets/controls",
            "_view_module_version": "1.5.0",
            "_view_name": "VBoxView",
            "box_style": "",
            "children": [
              "IPY_MODEL_c0c24b8930d14703af9fbc4793f8bee0",
              "IPY_MODEL_b02141f5e7724105af77de418fab353c"
            ],
            "layout": "IPY_MODEL_091f699562394d23bb3007b4df74f72a"
          }
        },
        "c0c24b8930d14703af9fbc4793f8bee0": {
          "model_module": "@jupyter-widgets/controls",
          "model_name": "LabelModel",
          "model_module_version": "1.5.0",
          "state": {
            "_dom_classes": [],
            "_model_module": "@jupyter-widgets/controls",
            "_model_module_version": "1.5.0",
            "_model_name": "LabelModel",
            "_view_count": null,
            "_view_module": "@jupyter-widgets/controls",
            "_view_module_version": "1.5.0",
            "_view_name": "LabelView",
            "description": "",
            "description_tooltip": null,
            "layout": "IPY_MODEL_35e7136672a143b7843616a4f1aee701",
            "placeholder": "​",
            "style": "IPY_MODEL_3515a69307844da283c360cc82e81f27",
            "value": "0.029 MB of 0.029 MB uploaded (0.000 MB deduped)\r"
          }
        },
        "b02141f5e7724105af77de418fab353c": {
          "model_module": "@jupyter-widgets/controls",
          "model_name": "FloatProgressModel",
          "model_module_version": "1.5.0",
          "state": {
            "_dom_classes": [],
            "_model_module": "@jupyter-widgets/controls",
            "_model_module_version": "1.5.0",
            "_model_name": "FloatProgressModel",
            "_view_count": null,
            "_view_module": "@jupyter-widgets/controls",
            "_view_module_version": "1.5.0",
            "_view_name": "ProgressView",
            "bar_style": "",
            "description": "",
            "description_tooltip": null,
            "layout": "IPY_MODEL_ef99086fbc2d4ba186e8bbe104c42e37",
            "max": 1,
            "min": 0,
            "orientation": "horizontal",
            "style": "IPY_MODEL_4e600a8cf5ee4e609a6a0334bcdf2a5b",
            "value": 1
          }
        },
        "091f699562394d23bb3007b4df74f72a": {
          "model_module": "@jupyter-widgets/base",
          "model_name": "LayoutModel",
          "model_module_version": "1.2.0",
          "state": {
            "_model_module": "@jupyter-widgets/base",
            "_model_module_version": "1.2.0",
            "_model_name": "LayoutModel",
            "_view_count": null,
            "_view_module": "@jupyter-widgets/base",
            "_view_module_version": "1.2.0",
            "_view_name": "LayoutView",
            "align_content": null,
            "align_items": null,
            "align_self": null,
            "border": null,
            "bottom": null,
            "display": null,
            "flex": null,
            "flex_flow": null,
            "grid_area": null,
            "grid_auto_columns": null,
            "grid_auto_flow": null,
            "grid_auto_rows": null,
            "grid_column": null,
            "grid_gap": null,
            "grid_row": null,
            "grid_template_areas": null,
            "grid_template_columns": null,
            "grid_template_rows": null,
            "height": null,
            "justify_content": null,
            "justify_items": null,
            "left": null,
            "margin": null,
            "max_height": null,
            "max_width": null,
            "min_height": null,
            "min_width": null,
            "object_fit": null,
            "object_position": null,
            "order": null,
            "overflow": null,
            "overflow_x": null,
            "overflow_y": null,
            "padding": null,
            "right": null,
            "top": null,
            "visibility": null,
            "width": null
          }
        },
        "35e7136672a143b7843616a4f1aee701": {
          "model_module": "@jupyter-widgets/base",
          "model_name": "LayoutModel",
          "model_module_version": "1.2.0",
          "state": {
            "_model_module": "@jupyter-widgets/base",
            "_model_module_version": "1.2.0",
            "_model_name": "LayoutModel",
            "_view_count": null,
            "_view_module": "@jupyter-widgets/base",
            "_view_module_version": "1.2.0",
            "_view_name": "LayoutView",
            "align_content": null,
            "align_items": null,
            "align_self": null,
            "border": null,
            "bottom": null,
            "display": null,
            "flex": null,
            "flex_flow": null,
            "grid_area": null,
            "grid_auto_columns": null,
            "grid_auto_flow": null,
            "grid_auto_rows": null,
            "grid_column": null,
            "grid_gap": null,
            "grid_row": null,
            "grid_template_areas": null,
            "grid_template_columns": null,
            "grid_template_rows": null,
            "height": null,
            "justify_content": null,
            "justify_items": null,
            "left": null,
            "margin": null,
            "max_height": null,
            "max_width": null,
            "min_height": null,
            "min_width": null,
            "object_fit": null,
            "object_position": null,
            "order": null,
            "overflow": null,
            "overflow_x": null,
            "overflow_y": null,
            "padding": null,
            "right": null,
            "top": null,
            "visibility": null,
            "width": null
          }
        },
        "3515a69307844da283c360cc82e81f27": {
          "model_module": "@jupyter-widgets/controls",
          "model_name": "DescriptionStyleModel",
          "model_module_version": "1.5.0",
          "state": {
            "_model_module": "@jupyter-widgets/controls",
            "_model_module_version": "1.5.0",
            "_model_name": "DescriptionStyleModel",
            "_view_count": null,
            "_view_module": "@jupyter-widgets/base",
            "_view_module_version": "1.2.0",
            "_view_name": "StyleView",
            "description_width": ""
          }
        },
        "ef99086fbc2d4ba186e8bbe104c42e37": {
          "model_module": "@jupyter-widgets/base",
          "model_name": "LayoutModel",
          "model_module_version": "1.2.0",
          "state": {
            "_model_module": "@jupyter-widgets/base",
            "_model_module_version": "1.2.0",
            "_model_name": "LayoutModel",
            "_view_count": null,
            "_view_module": "@jupyter-widgets/base",
            "_view_module_version": "1.2.0",
            "_view_name": "LayoutView",
            "align_content": null,
            "align_items": null,
            "align_self": null,
            "border": null,
            "bottom": null,
            "display": null,
            "flex": null,
            "flex_flow": null,
            "grid_area": null,
            "grid_auto_columns": null,
            "grid_auto_flow": null,
            "grid_auto_rows": null,
            "grid_column": null,
            "grid_gap": null,
            "grid_row": null,
            "grid_template_areas": null,
            "grid_template_columns": null,
            "grid_template_rows": null,
            "height": null,
            "justify_content": null,
            "justify_items": null,
            "left": null,
            "margin": null,
            "max_height": null,
            "max_width": null,
            "min_height": null,
            "min_width": null,
            "object_fit": null,
            "object_position": null,
            "order": null,
            "overflow": null,
            "overflow_x": null,
            "overflow_y": null,
            "padding": null,
            "right": null,
            "top": null,
            "visibility": null,
            "width": null
          }
        },
        "4e600a8cf5ee4e609a6a0334bcdf2a5b": {
          "model_module": "@jupyter-widgets/controls",
          "model_name": "ProgressStyleModel",
          "model_module_version": "1.5.0",
          "state": {
            "_model_module": "@jupyter-widgets/controls",
            "_model_module_version": "1.5.0",
            "_model_name": "ProgressStyleModel",
            "_view_count": null,
            "_view_module": "@jupyter-widgets/base",
            "_view_module_version": "1.2.0",
            "_view_name": "StyleView",
            "bar_color": null,
            "description_width": ""
          }
        },
        "a0b9e31e1acd40a1ad839d5834edd8f6": {
          "model_module": "@jupyter-widgets/controls",
          "model_name": "VBoxModel",
          "model_module_version": "1.5.0",
          "state": {
            "_dom_classes": [],
            "_model_module": "@jupyter-widgets/controls",
            "_model_module_version": "1.5.0",
            "_model_name": "VBoxModel",
            "_view_count": null,
            "_view_module": "@jupyter-widgets/controls",
            "_view_module_version": "1.5.0",
            "_view_name": "VBoxView",
            "box_style": "",
            "children": [
              "IPY_MODEL_cf2cca6abb62408c873b84eee1bf6024",
              "IPY_MODEL_cf1d3cb7eb644ea59dd4f125e635cfa8"
            ],
            "layout": "IPY_MODEL_c6f7d82e9f9b40c4a4e6a85558803407"
          }
        },
        "cf2cca6abb62408c873b84eee1bf6024": {
          "model_module": "@jupyter-widgets/controls",
          "model_name": "LabelModel",
          "model_module_version": "1.5.0",
          "state": {
            "_dom_classes": [],
            "_model_module": "@jupyter-widgets/controls",
            "_model_module_version": "1.5.0",
            "_model_name": "LabelModel",
            "_view_count": null,
            "_view_module": "@jupyter-widgets/controls",
            "_view_module_version": "1.5.0",
            "_view_name": "LabelView",
            "description": "",
            "description_tooltip": null,
            "layout": "IPY_MODEL_81963286ff114c12a748f6f6172d76b2",
            "placeholder": "​",
            "style": "IPY_MODEL_924bf896d4cc454b9a8a35b39178c87c",
            "value": "0.033 MB of 0.033 MB uploaded (0.000 MB deduped)\r"
          }
        },
        "cf1d3cb7eb644ea59dd4f125e635cfa8": {
          "model_module": "@jupyter-widgets/controls",
          "model_name": "FloatProgressModel",
          "model_module_version": "1.5.0",
          "state": {
            "_dom_classes": [],
            "_model_module": "@jupyter-widgets/controls",
            "_model_module_version": "1.5.0",
            "_model_name": "FloatProgressModel",
            "_view_count": null,
            "_view_module": "@jupyter-widgets/controls",
            "_view_module_version": "1.5.0",
            "_view_name": "ProgressView",
            "bar_style": "",
            "description": "",
            "description_tooltip": null,
            "layout": "IPY_MODEL_ea37299972754645871ef7a4c2d7233a",
            "max": 1,
            "min": 0,
            "orientation": "horizontal",
            "style": "IPY_MODEL_be46e5d861474d3dadb2c718b6dc48c8",
            "value": 1
          }
        },
        "c6f7d82e9f9b40c4a4e6a85558803407": {
          "model_module": "@jupyter-widgets/base",
          "model_name": "LayoutModel",
          "model_module_version": "1.2.0",
          "state": {
            "_model_module": "@jupyter-widgets/base",
            "_model_module_version": "1.2.0",
            "_model_name": "LayoutModel",
            "_view_count": null,
            "_view_module": "@jupyter-widgets/base",
            "_view_module_version": "1.2.0",
            "_view_name": "LayoutView",
            "align_content": null,
            "align_items": null,
            "align_self": null,
            "border": null,
            "bottom": null,
            "display": null,
            "flex": null,
            "flex_flow": null,
            "grid_area": null,
            "grid_auto_columns": null,
            "grid_auto_flow": null,
            "grid_auto_rows": null,
            "grid_column": null,
            "grid_gap": null,
            "grid_row": null,
            "grid_template_areas": null,
            "grid_template_columns": null,
            "grid_template_rows": null,
            "height": null,
            "justify_content": null,
            "justify_items": null,
            "left": null,
            "margin": null,
            "max_height": null,
            "max_width": null,
            "min_height": null,
            "min_width": null,
            "object_fit": null,
            "object_position": null,
            "order": null,
            "overflow": null,
            "overflow_x": null,
            "overflow_y": null,
            "padding": null,
            "right": null,
            "top": null,
            "visibility": null,
            "width": null
          }
        },
        "81963286ff114c12a748f6f6172d76b2": {
          "model_module": "@jupyter-widgets/base",
          "model_name": "LayoutModel",
          "model_module_version": "1.2.0",
          "state": {
            "_model_module": "@jupyter-widgets/base",
            "_model_module_version": "1.2.0",
            "_model_name": "LayoutModel",
            "_view_count": null,
            "_view_module": "@jupyter-widgets/base",
            "_view_module_version": "1.2.0",
            "_view_name": "LayoutView",
            "align_content": null,
            "align_items": null,
            "align_self": null,
            "border": null,
            "bottom": null,
            "display": null,
            "flex": null,
            "flex_flow": null,
            "grid_area": null,
            "grid_auto_columns": null,
            "grid_auto_flow": null,
            "grid_auto_rows": null,
            "grid_column": null,
            "grid_gap": null,
            "grid_row": null,
            "grid_template_areas": null,
            "grid_template_columns": null,
            "grid_template_rows": null,
            "height": null,
            "justify_content": null,
            "justify_items": null,
            "left": null,
            "margin": null,
            "max_height": null,
            "max_width": null,
            "min_height": null,
            "min_width": null,
            "object_fit": null,
            "object_position": null,
            "order": null,
            "overflow": null,
            "overflow_x": null,
            "overflow_y": null,
            "padding": null,
            "right": null,
            "top": null,
            "visibility": null,
            "width": null
          }
        },
        "924bf896d4cc454b9a8a35b39178c87c": {
          "model_module": "@jupyter-widgets/controls",
          "model_name": "DescriptionStyleModel",
          "model_module_version": "1.5.0",
          "state": {
            "_model_module": "@jupyter-widgets/controls",
            "_model_module_version": "1.5.0",
            "_model_name": "DescriptionStyleModel",
            "_view_count": null,
            "_view_module": "@jupyter-widgets/base",
            "_view_module_version": "1.2.0",
            "_view_name": "StyleView",
            "description_width": ""
          }
        },
        "ea37299972754645871ef7a4c2d7233a": {
          "model_module": "@jupyter-widgets/base",
          "model_name": "LayoutModel",
          "model_module_version": "1.2.0",
          "state": {
            "_model_module": "@jupyter-widgets/base",
            "_model_module_version": "1.2.0",
            "_model_name": "LayoutModel",
            "_view_count": null,
            "_view_module": "@jupyter-widgets/base",
            "_view_module_version": "1.2.0",
            "_view_name": "LayoutView",
            "align_content": null,
            "align_items": null,
            "align_self": null,
            "border": null,
            "bottom": null,
            "display": null,
            "flex": null,
            "flex_flow": null,
            "grid_area": null,
            "grid_auto_columns": null,
            "grid_auto_flow": null,
            "grid_auto_rows": null,
            "grid_column": null,
            "grid_gap": null,
            "grid_row": null,
            "grid_template_areas": null,
            "grid_template_columns": null,
            "grid_template_rows": null,
            "height": null,
            "justify_content": null,
            "justify_items": null,
            "left": null,
            "margin": null,
            "max_height": null,
            "max_width": null,
            "min_height": null,
            "min_width": null,
            "object_fit": null,
            "object_position": null,
            "order": null,
            "overflow": null,
            "overflow_x": null,
            "overflow_y": null,
            "padding": null,
            "right": null,
            "top": null,
            "visibility": null,
            "width": null
          }
        },
        "be46e5d861474d3dadb2c718b6dc48c8": {
          "model_module": "@jupyter-widgets/controls",
          "model_name": "ProgressStyleModel",
          "model_module_version": "1.5.0",
          "state": {
            "_model_module": "@jupyter-widgets/controls",
            "_model_module_version": "1.5.0",
            "_model_name": "ProgressStyleModel",
            "_view_count": null,
            "_view_module": "@jupyter-widgets/base",
            "_view_module_version": "1.2.0",
            "_view_name": "StyleView",
            "bar_color": null,
            "description_width": ""
          }
        },
        "91584577bb734b169e22eb01808842e7": {
          "model_module": "@jupyter-widgets/controls",
          "model_name": "HBoxModel",
          "model_module_version": "1.5.0",
          "state": {
            "_dom_classes": [],
            "_model_module": "@jupyter-widgets/controls",
            "_model_module_version": "1.5.0",
            "_model_name": "HBoxModel",
            "_view_count": null,
            "_view_module": "@jupyter-widgets/controls",
            "_view_module_version": "1.5.0",
            "_view_name": "HBoxView",
            "box_style": "",
            "children": [
              "IPY_MODEL_775d2a2d2c514d11a436ec067af1d31e",
              "IPY_MODEL_3108cd0fc18049a9aabe6010e4bf65c7",
              "IPY_MODEL_61989045068747c0a66b341d708359fd"
            ],
            "layout": "IPY_MODEL_99f9c68a3eb24f1f9d44dd69b4bc818d"
          }
        },
        "775d2a2d2c514d11a436ec067af1d31e": {
          "model_module": "@jupyter-widgets/controls",
          "model_name": "HTMLModel",
          "model_module_version": "1.5.0",
          "state": {
            "_dom_classes": [],
            "_model_module": "@jupyter-widgets/controls",
            "_model_module_version": "1.5.0",
            "_model_name": "HTMLModel",
            "_view_count": null,
            "_view_module": "@jupyter-widgets/controls",
            "_view_module_version": "1.5.0",
            "_view_name": "HTMLView",
            "description": "",
            "description_tooltip": null,
            "layout": "IPY_MODEL_f06d12e49e76487cac8076ba4fee9f8d",
            "placeholder": "​",
            "style": "IPY_MODEL_9112663a107c4b3a9912150c997507db",
            "value": "100%"
          }
        },
        "3108cd0fc18049a9aabe6010e4bf65c7": {
          "model_module": "@jupyter-widgets/controls",
          "model_name": "FloatProgressModel",
          "model_module_version": "1.5.0",
          "state": {
            "_dom_classes": [],
            "_model_module": "@jupyter-widgets/controls",
            "_model_module_version": "1.5.0",
            "_model_name": "FloatProgressModel",
            "_view_count": null,
            "_view_module": "@jupyter-widgets/controls",
            "_view_module_version": "1.5.0",
            "_view_name": "ProgressView",
            "bar_style": "success",
            "description": "",
            "description_tooltip": null,
            "layout": "IPY_MODEL_3ee2afbb79b844cb826872b32076403d",
            "max": 102540417,
            "min": 0,
            "orientation": "horizontal",
            "style": "IPY_MODEL_308343204c94468bbd2b8d116f25785e",
            "value": 102540417
          }
        },
        "61989045068747c0a66b341d708359fd": {
          "model_module": "@jupyter-widgets/controls",
          "model_name": "HTMLModel",
          "model_module_version": "1.5.0",
          "state": {
            "_dom_classes": [],
            "_model_module": "@jupyter-widgets/controls",
            "_model_module_version": "1.5.0",
            "_model_name": "HTMLModel",
            "_view_count": null,
            "_view_module": "@jupyter-widgets/controls",
            "_view_module_version": "1.5.0",
            "_view_name": "HTMLView",
            "description": "",
            "description_tooltip": null,
            "layout": "IPY_MODEL_1fde10477dd74752badcb321fff05284",
            "placeholder": "​",
            "style": "IPY_MODEL_3526ef5af3d54c7d92bc7c8273392455",
            "value": " 97.8M/97.8M [00:01&lt;00:00, 77.4MB/s]"
          }
        },
        "99f9c68a3eb24f1f9d44dd69b4bc818d": {
          "model_module": "@jupyter-widgets/base",
          "model_name": "LayoutModel",
          "model_module_version": "1.2.0",
          "state": {
            "_model_module": "@jupyter-widgets/base",
            "_model_module_version": "1.2.0",
            "_model_name": "LayoutModel",
            "_view_count": null,
            "_view_module": "@jupyter-widgets/base",
            "_view_module_version": "1.2.0",
            "_view_name": "LayoutView",
            "align_content": null,
            "align_items": null,
            "align_self": null,
            "border": null,
            "bottom": null,
            "display": null,
            "flex": null,
            "flex_flow": null,
            "grid_area": null,
            "grid_auto_columns": null,
            "grid_auto_flow": null,
            "grid_auto_rows": null,
            "grid_column": null,
            "grid_gap": null,
            "grid_row": null,
            "grid_template_areas": null,
            "grid_template_columns": null,
            "grid_template_rows": null,
            "height": null,
            "justify_content": null,
            "justify_items": null,
            "left": null,
            "margin": null,
            "max_height": null,
            "max_width": null,
            "min_height": null,
            "min_width": null,
            "object_fit": null,
            "object_position": null,
            "order": null,
            "overflow": null,
            "overflow_x": null,
            "overflow_y": null,
            "padding": null,
            "right": null,
            "top": null,
            "visibility": null,
            "width": null
          }
        },
        "f06d12e49e76487cac8076ba4fee9f8d": {
          "model_module": "@jupyter-widgets/base",
          "model_name": "LayoutModel",
          "model_module_version": "1.2.0",
          "state": {
            "_model_module": "@jupyter-widgets/base",
            "_model_module_version": "1.2.0",
            "_model_name": "LayoutModel",
            "_view_count": null,
            "_view_module": "@jupyter-widgets/base",
            "_view_module_version": "1.2.0",
            "_view_name": "LayoutView",
            "align_content": null,
            "align_items": null,
            "align_self": null,
            "border": null,
            "bottom": null,
            "display": null,
            "flex": null,
            "flex_flow": null,
            "grid_area": null,
            "grid_auto_columns": null,
            "grid_auto_flow": null,
            "grid_auto_rows": null,
            "grid_column": null,
            "grid_gap": null,
            "grid_row": null,
            "grid_template_areas": null,
            "grid_template_columns": null,
            "grid_template_rows": null,
            "height": null,
            "justify_content": null,
            "justify_items": null,
            "left": null,
            "margin": null,
            "max_height": null,
            "max_width": null,
            "min_height": null,
            "min_width": null,
            "object_fit": null,
            "object_position": null,
            "order": null,
            "overflow": null,
            "overflow_x": null,
            "overflow_y": null,
            "padding": null,
            "right": null,
            "top": null,
            "visibility": null,
            "width": null
          }
        },
        "9112663a107c4b3a9912150c997507db": {
          "model_module": "@jupyter-widgets/controls",
          "model_name": "DescriptionStyleModel",
          "model_module_version": "1.5.0",
          "state": {
            "_model_module": "@jupyter-widgets/controls",
            "_model_module_version": "1.5.0",
            "_model_name": "DescriptionStyleModel",
            "_view_count": null,
            "_view_module": "@jupyter-widgets/base",
            "_view_module_version": "1.2.0",
            "_view_name": "StyleView",
            "description_width": ""
          }
        },
        "3ee2afbb79b844cb826872b32076403d": {
          "model_module": "@jupyter-widgets/base",
          "model_name": "LayoutModel",
          "model_module_version": "1.2.0",
          "state": {
            "_model_module": "@jupyter-widgets/base",
            "_model_module_version": "1.2.0",
            "_model_name": "LayoutModel",
            "_view_count": null,
            "_view_module": "@jupyter-widgets/base",
            "_view_module_version": "1.2.0",
            "_view_name": "LayoutView",
            "align_content": null,
            "align_items": null,
            "align_self": null,
            "border": null,
            "bottom": null,
            "display": null,
            "flex": null,
            "flex_flow": null,
            "grid_area": null,
            "grid_auto_columns": null,
            "grid_auto_flow": null,
            "grid_auto_rows": null,
            "grid_column": null,
            "grid_gap": null,
            "grid_row": null,
            "grid_template_areas": null,
            "grid_template_columns": null,
            "grid_template_rows": null,
            "height": null,
            "justify_content": null,
            "justify_items": null,
            "left": null,
            "margin": null,
            "max_height": null,
            "max_width": null,
            "min_height": null,
            "min_width": null,
            "object_fit": null,
            "object_position": null,
            "order": null,
            "overflow": null,
            "overflow_x": null,
            "overflow_y": null,
            "padding": null,
            "right": null,
            "top": null,
            "visibility": null,
            "width": null
          }
        },
        "308343204c94468bbd2b8d116f25785e": {
          "model_module": "@jupyter-widgets/controls",
          "model_name": "ProgressStyleModel",
          "model_module_version": "1.5.0",
          "state": {
            "_model_module": "@jupyter-widgets/controls",
            "_model_module_version": "1.5.0",
            "_model_name": "ProgressStyleModel",
            "_view_count": null,
            "_view_module": "@jupyter-widgets/base",
            "_view_module_version": "1.2.0",
            "_view_name": "StyleView",
            "bar_color": null,
            "description_width": ""
          }
        },
        "1fde10477dd74752badcb321fff05284": {
          "model_module": "@jupyter-widgets/base",
          "model_name": "LayoutModel",
          "model_module_version": "1.2.0",
          "state": {
            "_model_module": "@jupyter-widgets/base",
            "_model_module_version": "1.2.0",
            "_model_name": "LayoutModel",
            "_view_count": null,
            "_view_module": "@jupyter-widgets/base",
            "_view_module_version": "1.2.0",
            "_view_name": "LayoutView",
            "align_content": null,
            "align_items": null,
            "align_self": null,
            "border": null,
            "bottom": null,
            "display": null,
            "flex": null,
            "flex_flow": null,
            "grid_area": null,
            "grid_auto_columns": null,
            "grid_auto_flow": null,
            "grid_auto_rows": null,
            "grid_column": null,
            "grid_gap": null,
            "grid_row": null,
            "grid_template_areas": null,
            "grid_template_columns": null,
            "grid_template_rows": null,
            "height": null,
            "justify_content": null,
            "justify_items": null,
            "left": null,
            "margin": null,
            "max_height": null,
            "max_width": null,
            "min_height": null,
            "min_width": null,
            "object_fit": null,
            "object_position": null,
            "order": null,
            "overflow": null,
            "overflow_x": null,
            "overflow_y": null,
            "padding": null,
            "right": null,
            "top": null,
            "visibility": null,
            "width": null
          }
        },
        "3526ef5af3d54c7d92bc7c8273392455": {
          "model_module": "@jupyter-widgets/controls",
          "model_name": "DescriptionStyleModel",
          "model_module_version": "1.5.0",
          "state": {
            "_model_module": "@jupyter-widgets/controls",
            "_model_module_version": "1.5.0",
            "_model_name": "DescriptionStyleModel",
            "_view_count": null,
            "_view_module": "@jupyter-widgets/base",
            "_view_module_version": "1.2.0",
            "_view_name": "StyleView",
            "description_width": ""
          }
        }
      }
    }
  },
  "cells": [
    {
      "cell_type": "code",
      "source": [
        "from google.colab import drive\n",
        "drive.mount('/content/drive')"
      ],
      "metadata": {
        "colab": {
          "base_uri": "https://localhost:8080/"
        },
        "id": "dcvaKEHZH76K",
        "outputId": "75684d43-3715-4031-d526-43d624b256e0"
      },
      "execution_count": null,
      "outputs": [
        {
          "output_type": "stream",
          "name": "stdout",
          "text": [
            "Mounted at /content/drive\n"
          ]
        }
      ]
    },
    {
      "cell_type": "markdown",
      "source": [
        "## Utils"
      ],
      "metadata": {
        "id": "tk9-sp7HB3yG"
      }
    },
    {
      "cell_type": "code",
      "source": [
        "!pip install wandb ml_collections\n",
        "!wandb login 8c920c1bbdcc7ee5353aaa8becd54a4942f0fc06"
      ],
      "metadata": {
        "colab": {
          "base_uri": "https://localhost:8080/"
        },
        "id": "vHxdWtkUkyEY",
        "outputId": "f9afd4f1-67fc-4507-b922-3ef6541ab83d"
      },
      "execution_count": null,
      "outputs": [
        {
          "output_type": "stream",
          "name": "stdout",
          "text": [
            "Looking in indexes: https://pypi.org/simple, https://us-python.pkg.dev/colab-wheels/public/simple/\n",
            "Collecting wandb\n",
            "  Downloading wandb-0.13.3-py2.py3-none-any.whl (1.8 MB)\n",
            "\u001b[K     |████████████████████████████████| 1.8 MB 39.1 MB/s \n",
            "\u001b[?25hCollecting ml_collections\n",
            "  Downloading ml_collections-0.1.1.tar.gz (77 kB)\n",
            "\u001b[K     |████████████████████████████████| 77 kB 7.5 MB/s \n",
            "\u001b[?25hCollecting shortuuid>=0.5.0\n",
            "  Downloading shortuuid-1.0.9-py3-none-any.whl (9.4 kB)\n",
            "Requirement already satisfied: Click!=8.0.0,>=7.0 in /usr/local/lib/python3.7/dist-packages (from wandb) (7.1.2)\n",
            "Requirement already satisfied: requests<3,>=2.0.0 in /usr/local/lib/python3.7/dist-packages (from wandb) (2.23.0)\n",
            "Collecting pathtools\n",
            "  Downloading pathtools-0.1.2.tar.gz (11 kB)\n",
            "Requirement already satisfied: PyYAML in /usr/local/lib/python3.7/dist-packages (from wandb) (6.0)\n",
            "Requirement already satisfied: six>=1.13.0 in /usr/local/lib/python3.7/dist-packages (from wandb) (1.15.0)\n",
            "Requirement already satisfied: promise<3,>=2.0 in /usr/local/lib/python3.7/dist-packages (from wandb) (2.3)\n",
            "Collecting sentry-sdk>=1.0.0\n",
            "  Downloading sentry_sdk-1.9.8-py2.py3-none-any.whl (158 kB)\n",
            "\u001b[K     |████████████████████████████████| 158 kB 66.0 MB/s \n",
            "\u001b[?25hRequirement already satisfied: psutil>=5.0.0 in /usr/local/lib/python3.7/dist-packages (from wandb) (5.4.8)\n",
            "Collecting docker-pycreds>=0.4.0\n",
            "  Downloading docker_pycreds-0.4.0-py2.py3-none-any.whl (9.0 kB)\n",
            "Requirement already satisfied: protobuf<4.0dev,>=3.12.0 in /usr/local/lib/python3.7/dist-packages (from wandb) (3.17.3)\n",
            "Requirement already satisfied: setuptools in /usr/local/lib/python3.7/dist-packages (from wandb) (57.4.0)\n",
            "Collecting GitPython>=1.0.0\n",
            "  Downloading GitPython-3.1.27-py3-none-any.whl (181 kB)\n",
            "\u001b[K     |████████████████████████████████| 181 kB 72.5 MB/s \n",
            "\u001b[?25hCollecting setproctitle\n",
            "  Downloading setproctitle-1.3.2-cp37-cp37m-manylinux_2_5_x86_64.manylinux1_x86_64.manylinux_2_17_x86_64.manylinux2014_x86_64.whl (30 kB)\n",
            "Collecting gitdb<5,>=4.0.1\n",
            "  Downloading gitdb-4.0.9-py3-none-any.whl (63 kB)\n",
            "\u001b[K     |████████████████████████████████| 63 kB 1.4 MB/s \n",
            "\u001b[?25hRequirement already satisfied: typing-extensions>=3.7.4.3 in /usr/local/lib/python3.7/dist-packages (from GitPython>=1.0.0->wandb) (4.1.1)\n",
            "Collecting smmap<6,>=3.0.1\n",
            "  Downloading smmap-5.0.0-py3-none-any.whl (24 kB)\n",
            "Requirement already satisfied: chardet<4,>=3.0.2 in /usr/local/lib/python3.7/dist-packages (from requests<3,>=2.0.0->wandb) (3.0.4)\n",
            "Requirement already satisfied: urllib3!=1.25.0,!=1.25.1,<1.26,>=1.21.1 in /usr/local/lib/python3.7/dist-packages (from requests<3,>=2.0.0->wandb) (1.24.3)\n",
            "Requirement already satisfied: idna<3,>=2.5 in /usr/local/lib/python3.7/dist-packages (from requests<3,>=2.0.0->wandb) (2.10)\n",
            "Requirement already satisfied: certifi>=2017.4.17 in /usr/local/lib/python3.7/dist-packages (from requests<3,>=2.0.0->wandb) (2022.6.15)\n",
            "Collecting sentry-sdk>=1.0.0\n",
            "  Downloading sentry_sdk-1.9.7-py2.py3-none-any.whl (157 kB)\n",
            "\u001b[K     |████████████████████████████████| 157 kB 72.9 MB/s \n",
            "\u001b[?25h  Downloading sentry_sdk-1.9.6-py2.py3-none-any.whl (157 kB)\n",
            "\u001b[K     |████████████████████████████████| 157 kB 72.8 MB/s \n",
            "\u001b[?25h  Downloading sentry_sdk-1.9.5-py2.py3-none-any.whl (157 kB)\n",
            "\u001b[K     |████████████████████████████████| 157 kB 76.9 MB/s \n",
            "\u001b[?25h  Downloading sentry_sdk-1.9.4-py2.py3-none-any.whl (157 kB)\n",
            "\u001b[K     |████████████████████████████████| 157 kB 72.6 MB/s \n",
            "\u001b[?25h  Downloading sentry_sdk-1.9.3-py2.py3-none-any.whl (157 kB)\n",
            "\u001b[K     |████████████████████████████████| 157 kB 71.6 MB/s \n",
            "\u001b[?25h  Downloading sentry_sdk-1.9.2-py2.py3-none-any.whl (157 kB)\n",
            "\u001b[K     |████████████████████████████████| 157 kB 71.9 MB/s \n",
            "\u001b[?25h  Downloading sentry_sdk-1.9.1-py2.py3-none-any.whl (157 kB)\n",
            "\u001b[K     |████████████████████████████████| 157 kB 76.2 MB/s \n",
            "\u001b[?25h  Downloading sentry_sdk-1.9.0-py2.py3-none-any.whl (156 kB)\n",
            "\u001b[K     |████████████████████████████████| 156 kB 74.2 MB/s \n",
            "\u001b[?25hRequirement already satisfied: absl-py in /usr/local/lib/python3.7/dist-packages (from ml_collections) (1.2.0)\n",
            "Requirement already satisfied: contextlib2 in /usr/local/lib/python3.7/dist-packages (from ml_collections) (0.5.5)\n",
            "Building wheels for collected packages: ml-collections, pathtools\n",
            "  Building wheel for ml-collections (setup.py) ... \u001b[?25l\u001b[?25hdone\n",
            "  Created wheel for ml-collections: filename=ml_collections-0.1.1-py3-none-any.whl size=94524 sha256=325fda6f470daadc057389264bc95b285a50c7862346efbb0ec30e0993142980\n",
            "  Stored in directory: /root/.cache/pip/wheels/b7/da/64/33c926a1b10ff19791081b705879561b715a8341a856a3bbd2\n",
            "  Building wheel for pathtools (setup.py) ... \u001b[?25l\u001b[?25hdone\n",
            "  Created wheel for pathtools: filename=pathtools-0.1.2-py3-none-any.whl size=8806 sha256=55ce3651f1c5c803fc44d895ae4b98944064a868707f11a3e5bc6b0b3c50b598\n",
            "  Stored in directory: /root/.cache/pip/wheels/3e/31/09/fa59cef12cdcfecc627b3d24273699f390e71828921b2cbba2\n",
            "Successfully built ml-collections pathtools\n",
            "Installing collected packages: smmap, gitdb, shortuuid, setproctitle, sentry-sdk, pathtools, GitPython, docker-pycreds, wandb, ml-collections\n",
            "Successfully installed GitPython-3.1.27 docker-pycreds-0.4.0 gitdb-4.0.9 ml-collections-0.1.1 pathtools-0.1.2 sentry-sdk-1.9.0 setproctitle-1.3.2 shortuuid-1.0.9 smmap-5.0.0 wandb-0.13.3\n",
            "\u001b[34m\u001b[1mwandb\u001b[0m: Appending key for api.wandb.ai to your netrc file: /root/.netrc\n"
          ]
        }
      ]
    },
    {
      "cell_type": "code",
      "source": [
        "import torch\n",
        "from torch import nn\n",
        "from torch.utils.data import Dataset, DataLoader\n",
        "import os\n",
        "import numpy as np\n",
        "import json\n",
        "import tqdm\n",
        "from sklearn.model_selection import train_test_split\n",
        "import random\n",
        "import wandb\n",
        "from ml_collections import ConfigDict"
      ],
      "metadata": {
        "id": "VQLpSlH3lpMo"
      },
      "execution_count": null,
      "outputs": []
    },
    {
      "cell_type": "code",
      "source": [
        "cfg = ConfigDict()\n",
        "cfg.test_split = 0.2\n",
        "cfg.batch_size = 256\n",
        "cfg.task_0_lr = 1e-4\n",
        "cfg.task_1_lr = 5e-6\n",
        "cfg.residual_mlp_dropout_rate = 0.2\n",
        "cfg.task_0_weight_decay = 1e-5\n",
        "cfg.task_1_weight_decay = 2e-5\n",
        "cfg.samples_per_class = 25\n",
        "cfg.hidden_dims = 1024\n",
        "cfg.op = \"mul\"\n",
        "cfg.epochs = 25\n",
        "\n",
        "cfg.half_batch_size = cfg.batch_size // 2"
      ],
      "metadata": {
        "id": "_9oZCzdwlqlI"
      },
      "execution_count": null,
      "outputs": []
    },
    {
      "cell_type": "code",
      "source": [
        "\n",
        "\n",
        "def set_seed(seed):\n",
        "    random.seed(seed)\n",
        "    np.random.seed(seed)\n",
        "    torch.manual_seed(seed)\n",
        "    if torch.cuda.is_available():\n",
        "        torch.cuda.manual_seed_all(seed)\n",
        "\n",
        "set_seed(42)\n",
        "\n",
        "def accuracy(pred, true):\n",
        "    acc = np.sum((true == pred.argmax(-1)).astype(np.float32))\n",
        "    return float(100 * acc / len(true))\n",
        "\n",
        "def unbatch(half_batch):\n",
        "    \"\"\"\n",
        "    Unbatches a batch into list of examples.\n",
        "\n",
        "    Args:\n",
        "        batch: A batch of examples with the structure :\n",
        "        [torch.Tensor, torch.Tensor, torch.Tensor]\n",
        "\n",
        "    Returns:\n",
        "        list of unbatched examples: [[torch.Tensor, torch.Tensor, torch.Tensor], [torch.Tensor, torch.Tensor, torch.Tensor], [torch.Tensor, torch.Tensor, torch.Tensor]]\n",
        "\n",
        "    \"\"\"\n",
        "    list_of_examples = []\n",
        "\n",
        "    num_examples = len(half_batch[0])\n",
        "\n",
        "    for idx in range(num_examples):\n",
        "        list_of_examples.append([half_batch[0][idx], half_batch[1][idx], half_batch[2][idx]])\n",
        "\n",
        "    return list_of_examples\n",
        "\n",
        "\n",
        "def batch(list_of_examples):\n",
        "    \"\"\"\n",
        "    Batches unbatched examples into one\n",
        "\n",
        "    Args:\n",
        "        list_of_examples: list of unbatched examples: [[torch.Tensor, torch.Tensor, torch.Tensor], [torch.Tensor, torch.Tensor, torch.Tensor], [torch.Tensor, torch.Tensor, torch.Tensor]]\n",
        "\n",
        "    Returns:\n",
        "        A batch of examples with the structure :\n",
        "        [torch.Tensor, torch.Tensor, torch.Tensor]\n",
        "    \"\"\"\n",
        "    img_feats = []\n",
        "    q_feats = []\n",
        "    labels = []\n",
        "    for example in list_of_examples:\n",
        "        img_feats.append(example[0])\n",
        "        q_feats.append(example[1])\n",
        "        labels.append(example[2])\n",
        "\n",
        "    return torch.concat(img_feats), torch.concat(q_feats), torch.concat(labels)\n",
        "\n",
        "def hello():\n",
        "    print(\"hi\")\n",
        "\n",
        "def combine_batch_and_list(half_batch, list_of_examples):\n",
        "    for example in list_of_examples:\n",
        "        half_batch[0] = torch.concat([half_batch[0], example[0].unsqueeze(0)], dim=0)\n",
        "        half_batch[1] = torch.concat([half_batch[1], example[1].unsqueeze(0)], dim=0)\n",
        "        half_batch[2] = torch.concat([half_batch[2], example[2].unsqueeze(0)], dim=0)\n",
        "    return half_batch\n",
        "\n",
        "\n",
        "def get_train_val_splits(jsondict):\n",
        "    total = len(jsondict.keys())\n",
        "    train, val = train_test_split(list(jsondict.keys()), test_size=cfg.test_split)\n",
        "\n",
        "    print(len(train),len(val))\n",
        "\n",
        "    train_dict = dict()\n",
        "    val_dict = dict()\n",
        "    for i in train:\n",
        "        train_dict[str(i)] = jsondict[str(i)]\n",
        "    \n",
        "    for j in val:\n",
        "        val_dict[str(j)] = jsondict[str(j)]\n",
        "    \n",
        "    return train_dict, val_dict\n",
        "\n",
        "def get_uniq_image_ids(jsondict):\n",
        "    uniq_images = []\n",
        "    for key, example in jsondict.items():\n",
        "        if example[\"Image_ID\"] not in uniq_images:\n",
        "            uniq_images.append(example[\"Image_ID\"])\n",
        "    return uniq_images\n",
        "\n",
        "def get_questions_for_imageid(jsondict, imageid):\n",
        "    qs = dict()\n",
        "    for key, example in jsondict.items():\n",
        "        if example[\"Image_ID\"] == imageid:\n",
        "            qs[key] = example\n",
        "    return qs\n",
        "\n",
        "def get_train_val_splits_imagewise(jsondict):\n",
        "    train_dict = dict()\n",
        "    val_dict = dict()\n",
        "\n",
        "    uniq_images = get_uniq_image_ids(jsondict)\n",
        "    \n",
        "    train, val = train_test_split(uniq_images, test_size=0.2)\n",
        "\n",
        "    for imageid in train:\n",
        "        train_dict.update(get_questions_for_imageid(jsondict, imageid)) \n",
        "\n",
        "    for imageid in val:\n",
        "        val_dict.update(get_questions_for_imageid(jsondict, imageid))\n",
        "\n",
        "    return train_dict, val_dict\n",
        "\n",
        "def get_typewise_train_val_splits(train_dict, val_dict):\n",
        "    train_road_condition = dict()\n",
        "    train_yes_no = dict()\n",
        "    train_image_condition = dict()\n",
        "\n",
        "    counter = 0\n",
        "    for example in train_dict.values():\n",
        "        if example[\"Question_Type\"] == \"Yes_No\":\n",
        "            train_yes_no[str(counter)] = example\n",
        "            counter += 1\n",
        "        elif \"road\" in example[\"Question\"]:\n",
        "            train_road_condition[str(counter)] = example\n",
        "            counter += 1\n",
        "        elif \"overall\" in example[\"Question\"]:\n",
        "            train_image_condition[str(counter)] = example\n",
        "            counter += 1\n",
        "\n",
        "    val_road_condition = dict()\n",
        "    val_yes_no = dict()\n",
        "    val_image_condition = dict()\n",
        "\n",
        "    counter = 0\n",
        "    for example in val_dict.values():\n",
        "        if example[\"Question_Type\"] == \"Yes_No\":\n",
        "            val_yes_no[str(counter)] = example\n",
        "            counter += 1\n",
        "        elif \"road\" in example[\"Question\"]:\n",
        "            val_road_condition[str(counter)] = example\n",
        "            counter += 1\n",
        "        elif \"overall\" in example[\"Question\"]:\n",
        "            val_image_condition[str(counter)] = example\n",
        "            counter += 1\n",
        "\n",
        "    return [train_image_condition, train_road_condition, train_yes_no], [val_image_condition, val_road_condition, val_yes_no]\n",
        "\n",
        "def accuracy(pred, true):\n",
        "    acc = np.sum((true == pred.argmax(-1)).astype(np.float32))\n",
        "    return float(100 * acc / len(true))"
      ],
      "metadata": {
        "id": "b_tVFlm7Bzqw"
      },
      "execution_count": null,
      "outputs": []
    },
    {
      "cell_type": "markdown",
      "source": [
        "## Continual VQA"
      ],
      "metadata": {
        "id": "4BnUqVJcB7j9"
      }
    },
    {
      "cell_type": "code",
      "execution_count": null,
      "metadata": {
        "id": "nNCTCfFOdOun"
      },
      "outputs": [],
      "source": [
        "import torch\n",
        "from torch import nn\n",
        "from torch.utils.data import Dataset, DataLoader\n",
        "import os\n",
        "import numpy as np\n",
        "import json\n",
        "import tqdm\n",
        "from datetime import datetime\n",
        "from sklearn.model_selection import train_test_split\n",
        "from copy import deepcopy"
      ]
    },
    {
      "cell_type": "code",
      "source": [
        "import torch\n",
        "import random\n",
        "import numpy as np\n",
        "\n",
        "def set_seed(seed):\n",
        "    random.seed(seed)\n",
        "    np.random.seed(seed)\n",
        "    torch.manual_seed(seed)\n",
        "    if torch.cuda.is_available():\n",
        "        torch.cuda.manual_seed_all(seed)\n",
        "\n",
        "set_seed(42)"
      ],
      "metadata": {
        "id": "lwb-bWMnjYWb"
      },
      "execution_count": null,
      "outputs": []
    },
    {
      "cell_type": "code",
      "source": [
        "label_mapping = [\"flooded\", # condition\n",
        "\"non flooded\", # condition\n",
        "\"flooded,non flooded\", # condition\n",
        "\"Yes\", # yes/no\n",
        "\"No\", # yes/no\n",
        "] + list(map(str, range(0, 51))) # counting"
      ],
      "metadata": {
        "id": "CEavqtbHjZZh"
      },
      "execution_count": null,
      "outputs": []
    },
    {
      "cell_type": "code",
      "source": [
        "ORIGINAL_DATA_PATH = \"/content/drive/MyDrive/floodnet_data/\"\n",
        "RESNET_FEATURE_PATH = \"/content/drive/MyDrive/continual_floodnet_data/floodnet_resnet_features/\"\n",
        "CONVNEXT_FEATURE_PATH = \"/content/drive/MyDrive/continual_floodnet_data/floodnet_convnext_features/\"\n",
        "CLIP_FEATURE_PATH = \"/content/drive/MyDrive/continual_floodnet_data/floodnet_clip_features/\"\n",
        "\n",
        "MODE = \"CLIP\" # can be RESNET or CONVNEXT\n",
        "if MODE == \"RESNET\":\n",
        "    FEATURE_PATH = RESNET_FEATURE_PATH\n",
        "    IMG_FEAT_DIMS = 2048\n",
        "elif MODE == \"CONVNEXT\":\n",
        "    FEATURE_PATH = CONVNEXT_FEATURE_PATH\n",
        "    IMG_FEAT_DIMS = 1536\n",
        "elif MODE == \"CLIP\":\n",
        "    FEATURE_PATH = CLIP_FEATURE_PATH\n",
        "    IMG_FEAT_DIMS = 768\n",
        "else:\n",
        "    raise ValueError(f\"Mode must be one of `RESNET` or `CONVNEXT`, got {MODE}\")\n",
        "\n",
        "all_images_features = dict()\n",
        "for imagename in os.listdir(os.path.join(FEATURE_PATH, \"Images/Train_Image\")):\n",
        "    all_images_features[imagename.replace(\".pt\", \".JPG\")] = torch.load(os.path.join(os.path.join(FEATURE_PATH, \"Images/Train_Image\"), imagename))\n",
        "# 1234.JPG : torch.Tensor\n",
        "\n",
        "all_questions_features = dict()\n",
        "for imagename in os.listdir(os.path.join(FEATURE_PATH, \"Questions\")):\n",
        "    all_questions_features[imagename.replace(\".pt\", \"\").replace(\"_\", \"?\")] = torch.load(os.path.join(os.path.join(FEATURE_PATH, \"Questions\"), imagename))\n",
        "# \"what is the overall condition of this image?\": torch.Tensor\n"
      ],
      "metadata": {
        "id": "2wAw3y7_jbza"
      },
      "execution_count": null,
      "outputs": []
    },
    {
      "cell_type": "code",
      "source": [
        "class VQADataset(Dataset):\n",
        "    def __init__(self, qdict, label_mapping=label_mapping):\n",
        "        self.qdict = qdict\n",
        "        self.label_mapping = label_mapping\n",
        "        self.reset_index()\n",
        "\n",
        "    def reset_index(self):\n",
        "        new_qdict = dict()\n",
        "        for idx, value in enumerate(self.qdict.values()):\n",
        "            new_qdict[idx] = value\n",
        "        self.qdict = new_qdict\n",
        "\n",
        "    def __len__(self):\n",
        "        return len(self.qdict.keys())\n",
        "    \n",
        "    def __getitem__(self, idx):\n",
        "        # \"0\":{\"Image_ID\":\"10165.JPG\",\"Question\":\"What is the overall condition of the given image?\",\"Ground_Truth\":\"flooded\",\"Question_Type\":\"Condition_Recognition\"}\n",
        "        row = self.qdict[idx]\n",
        "        img_feat = all_images_features[row[\"Image_ID\"]]\n",
        "        q_feat = all_questions_features[row[\"Question\"]]\n",
        "        \n",
        "        return img_feat.float(), q_feat.squeeze().float(), self.label_mapping.index(str(row[\"Ground_Truth\"]))"
      ],
      "metadata": {
        "id": "DWYefBsupMgW"
      },
      "execution_count": null,
      "outputs": []
    },
    {
      "cell_type": "code",
      "source": [
        "print(all_questions_features)"
      ],
      "metadata": {
        "colab": {
          "base_uri": "https://localhost:8080/"
        },
        "id": "wKHrK2c9NfqO",
        "outputId": "193a4b48-c134-4625-b676-2f87f54119a1"
      },
      "execution_count": null,
      "outputs": [
        {
          "output_type": "stream",
          "name": "stdout",
          "text": [
            "{'How many buildings are flooded in this image?': tensor([[-5.4639e-01, -1.5417e-01,  5.2539e-01,  4.8340e-01, -1.5210e-01,\n",
            "          2.5537e-01, -1.7273e-01, -4.7760e-02, -3.8843e-01,  4.9219e-01,\n",
            "          1.0583e-01, -5.1562e-01, -2.1777e-01, -1.7065e-01, -1.0156e-01,\n",
            "          3.4912e-01,  2.1497e-01,  1.2878e-01,  1.4526e-01, -3.0054e-01,\n",
            "          5.2686e-01,  4.1748e-01, -1.0979e-02,  4.4946e-01, -1.4490e-01,\n",
            "         -2.7832e-01, -2.4185e-03, -1.0321e-01,  8.3691e-01, -6.8481e-02,\n",
            "          6.1646e-03, -1.2964e-01,  2.7954e-01, -1.1504e+00,  5.9387e-02,\n",
            "          2.3987e-01,  2.7557e-02,  5.9570e-02, -3.6987e-02,  9.7168e-02,\n",
            "         -5.8154e-01, -6.7871e-01, -8.1934e-01, -5.5127e-01, -1.7944e-01,\n",
            "          7.2754e-01, -2.2583e-01,  4.8657e-01,  1.6101e-01, -4.0454e-01,\n",
            "         -1.2964e-01, -2.9492e-01,  6.0303e-01,  6.6162e-01, -4.3335e-01,\n",
            "         -9.0674e-01,  2.3242e-01,  2.6562e-01, -5.5762e-01, -1.7944e-01,\n",
            "          4.0063e-01,  1.2915e-01, -4.3652e-01,  6.1621e-01, -3.8916e-01,\n",
            "         -7.0752e-01, -2.0312e-01,  1.2939e-01,  9.6313e-02,  5.4590e-01,\n",
            "          1.7151e-01, -3.4302e-01,  8.3618e-02, -2.5537e-01,  1.5305e-02,\n",
            "         -6.5283e-01,  2.4939e-01,  2.7002e-01, -7.7100e-01, -5.5615e-01,\n",
            "         -2.1960e-01, -4.7144e-01, -1.8884e-01,  3.1494e-01,  3.2373e-01,\n",
            "         -3.4155e-01, -4.7699e-02, -2.7515e-01, -1.0078e+00, -3.3252e-01,\n",
            "          3.5596e-01,  8.9111e-02,  2.1622e-02, -8.1177e-03,  2.8613e-01,\n",
            "         -1.5210e-01, -1.8701e-01, -2.0691e-01,  4.3983e-03, -6.5283e-01,\n",
            "         -5.9912e-01, -8.9050e-02,  2.2278e-01,  5.7764e-01, -7.1680e-01,\n",
            "          3.2593e-01,  4.7974e-02,  4.9536e-01,  9.2773e-01,  4.7803e-01,\n",
            "         -2.3206e-01, -1.1005e-01, -1.0773e-01,  1.2732e-01,  1.5625e-01,\n",
            "         -3.1250e-01, -4.0503e-01, -3.6377e-01,  2.0349e-01, -2.8687e-02,\n",
            "         -4.3042e-01, -7.0724e-03,  3.5614e-02,  2.9761e-01, -9.2285e-02,\n",
            "          3.7109e-01,  1.6772e-01,  1.3428e-01,  2.2241e-01,  1.5649e-01,\n",
            "         -7.2705e-01,  2.0972e-01, -1.8860e-02,  3.0640e-01, -4.2676e-01,\n",
            "         -6.2793e-01,  3.7556e-03,  1.5857e-01,  3.4863e-01,  6.2305e-01,\n",
            "          4.6362e-01, -1.0699e-01,  4.8828e-01, -4.9805e-01, -2.7197e-01,\n",
            "         -1.0557e+00,  4.4556e-02,  5.1074e-01, -6.4062e-01, -1.3635e-01,\n",
            "         -6.5125e-02, -1.7639e-02, -4.2896e-01,  7.2441e-03,  2.0483e-01,\n",
            "         -1.0120e-01, -2.3468e-02, -6.5063e-02,  3.5596e-01, -3.0762e-01,\n",
            "         -1.2396e-01,  1.1871e-02, -3.6499e-02, -3.6133e-01,  1.6321e-01,\n",
            "         -4.3304e-02, -5.0684e-01, -4.5776e-02,  7.8735e-02, -3.6353e-01,\n",
            "         -4.4220e-02,  9.7412e-02, -1.0315e-01, -4.3628e-01, -1.0535e-01,\n",
            "          1.3232e-01, -5.7666e-01, -1.2903e-01,  2.4231e-01, -5.3857e-01,\n",
            "         -2.8149e-01, -1.8420e-01, -3.1787e-01,  2.9834e-01, -2.2314e-01,\n",
            "         -4.4043e-01, -1.2891e-01, -1.7346e-01,  4.5410e-02, -4.1650e-01,\n",
            "          3.4424e-01, -1.4294e-01, -2.5928e-01, -3.3887e-01, -7.0686e-03,\n",
            "         -1.4023e+00, -2.1021e-01,  6.3232e-01,  6.5039e-01, -8.4668e-01,\n",
            "         -4.4434e-01,  1.8103e-01, -1.1328e-01,  3.2056e-01,  2.7881e-01,\n",
            "          1.4746e-01, -1.7349e-02,  1.5381e-02, -2.5952e-01, -5.2197e-01,\n",
            "         -2.9419e-01, -6.3916e-01, -3.2593e-01,  5.8350e-02, -4.5703e-01,\n",
            "          3.3691e-02, -1.4587e-01,  2.7563e-01,  3.4155e-01,  5.2783e-01,\n",
            "          3.3179e-01, -7.5378e-02,  2.5244e-01,  3.4131e-01, -2.8732e-02,\n",
            "          7.3047e-01, -2.8979e-01, -3.3105e-01,  3.3398e-01, -4.7412e-01,\n",
            "          2.7734e-01, -4.7705e-01,  3.0670e-02, -3.4326e-01, -8.7891e-01,\n",
            "          4.4165e-01,  1.1151e-01, -4.0710e-02, -1.9373e-01,  2.1521e-01,\n",
            "          6.6016e-01,  3.1830e-02, -5.3125e-01,  1.6699e-01,  2.0068e-01,\n",
            "          3.5620e-01, -4.2920e-01, -9.6619e-02,  2.8955e-01,  5.5029e-01,\n",
            "         -2.0715e-01, -5.2441e-01,  3.4497e-01, -5.0928e-01,  2.0142e-01,\n",
            "          1.1646e-01, -1.8250e-01,  6.9482e-01,  1.1090e-01, -9.1858e-03,\n",
            "         -7.4121e-01, -1.3794e-01, -6.6309e-01, -8.0566e-02, -1.7700e-01,\n",
            "          2.0065e-02,  2.0557e-01, -1.3525e-01,  9.4177e-02, -3.0347e-01,\n",
            "          5.9113e-02,  6.1719e-01,  2.8857e-01,  6.1890e-02, -3.0713e-01,\n",
            "         -1.4807e-01, -3.5278e-01, -5.3406e-02, -2.7661e-01, -4.5117e-01,\n",
            "          4.7119e-02,  2.2766e-01, -6.7090e-01,  5.9961e-01, -8.2214e-02,\n",
            "          2.7664e-02, -1.1025e+00,  2.7026e-01, -6.9092e-01, -2.7246e-01,\n",
            "          2.4216e-02,  1.3428e-01, -3.7646e-01, -8.6328e-01,  9.2896e-02,\n",
            "          2.0215e-01,  1.2476e-01, -2.9224e-01,  4.5605e-01,  5.9180e-01,\n",
            "         -4.8584e-01, -1.0486e-01,  6.8701e-01, -5.6738e-01,  5.5127e-01,\n",
            "          1.8079e-01, -7.4023e-01, -8.1885e-01, -9.1095e-03, -2.6904e-01,\n",
            "         -1.0020e+00,  3.9771e-01, -2.3108e-01,  1.2129e+00, -1.6138e-01,\n",
            "         -3.0225e-01, -7.8984e+00,  4.8828e-01,  1.4038e-01, -1.0516e-01,\n",
            "         -5.8167e-02, -6.7578e-01,  9.5068e-01, -3.7158e-01, -2.8839e-03,\n",
            "          3.7646e-01, -5.7324e-01, -4.7168e-01,  3.5010e-01,  3.6279e-01,\n",
            "          2.6782e-01,  4.0576e-01,  5.8008e-01, -1.3733e-01, -5.6592e-01,\n",
            "          3.1421e-01,  5.7812e-01,  9.9854e-02,  1.6199e-01, -7.9346e-02,\n",
            "         -4.1431e-01, -4.1968e-01,  3.4741e-01, -1.8237e-01,  4.3610e-02,\n",
            "         -1.1511e-01,  3.0249e-01, -6.2408e-02,  7.2998e-01,  6.8164e-01,\n",
            "          7.1338e-01, -3.5156e-01, -1.0651e-01,  5.0391e-01,  1.3074e-01,\n",
            "         -1.8884e-01,  2.2900e-01, -2.9663e-02,  5.1758e-01,  4.7583e-01,\n",
            "         -2.7930e-01, -7.5488e-01, -1.4294e-01, -3.2425e-03,  9.4727e-02,\n",
            "         -5.9387e-02, -5.4535e-02, -5.9131e-01,  4.9072e-01,  4.5850e-01,\n",
            "         -5.0732e-01,  8.2373e-01, -2.6465e-01, -1.6138e-01,  2.2021e-01,\n",
            "         -6.8604e-01,  1.3684e-01,  3.7201e-02, -3.8647e-01,  3.8696e-01,\n",
            "          4.1724e-01, -2.4402e-01,  5.1239e-02,  9.8816e-02, -3.4546e-01,\n",
            "         -3.5217e-02,  1.3818e-01,  2.2180e-01,  1.6125e-01, -1.5601e-01,\n",
            "         -1.3831e-01, -5.3680e-02,  4.8950e-01,  1.6882e-01,  4.8999e-01,\n",
            "          6.1646e-02, -4.4702e-01, -8.8770e-01, -7.2266e-02,  7.3682e-01,\n",
            "         -3.5156e-01, -4.6509e-02,  1.7053e-01,  3.7231e-01,  7.4316e-01,\n",
            "          4.2505e-01,  1.8225e-01,  5.3619e-02, -1.6187e-01, -3.4607e-02,\n",
            "          3.0396e-01, -1.8054e-01,  1.0244e+00, -8.1152e-01,  1.0791e-01,\n",
            "         -2.5513e-01,  1.4905e-01,  3.8672e-01,  3.4692e-01, -3.4766e-01,\n",
            "         -1.1511e-01,  2.1875e-01, -1.4175e-02,  4.7290e-01,  6.1963e-01,\n",
            "          1.8433e-02,  2.9102e-01,  3.5986e-01,  2.4377e-01, -9.1553e-02,\n",
            "         -5.1544e-02,  3.0981e-01, -1.4209e-01, -4.6826e-01,  4.6753e-02,\n",
            "          1.0225e+00,  5.7910e-01, -2.8149e-01,  2.7563e-01,  5.5518e-01,\n",
            "          7.4648e+00,  3.9136e-01, -5.1666e-02,  2.3145e-01, -2.5488e-01,\n",
            "         -4.8438e-01,  8.8037e-01,  5.8545e-01, -1.9312e-01, -3.5449e-01,\n",
            "          2.8625e-02,  2.9443e-01,  8.5107e-01,  1.1084e+00, -9.8145e-02,\n",
            "         -8.2080e-01, -2.6993e-02,  6.7188e-01, -8.4814e-01,  4.4287e-01,\n",
            "         -2.9370e-01,  6.9031e-02,  1.4368e-01,  3.3142e-02, -5.0598e-02,\n",
            "          2.0117e-01,  3.0176e-01, -1.0803e-01,  7.0007e-02,  5.7324e-01,\n",
            "          8.1909e-02, -1.2219e-01, -6.1462e-02, -3.6621e-01, -3.9819e-01,\n",
            "          1.1395e-01,  5.3564e-01, -3.9307e-01, -2.2522e-01,  2.5952e-01,\n",
            "          2.0996e-01,  2.7612e-01,  5.1178e-02,  3.0298e-01,  1.6138e-01,\n",
            "         -6.8262e-01,  6.5625e-01, -3.8110e-01, -1.3245e-01, -6.1377e-01,\n",
            "         -2.6245e-01,  7.7209e-02, -4.8462e-01, -9.1113e-01, -5.5273e-01,\n",
            "         -5.6787e-01, -9.7412e-02, -1.4343e-01, -1.0205e-01, -1.3390e-02,\n",
            "          3.7427e-01,  4.4360e-01,  1.1945e-01,  4.5312e-01, -6.0400e-01,\n",
            "         -3.1445e-01, -8.4595e-02, -1.3171e-01, -2.8857e-01,  3.9526e-01,\n",
            "          6.0547e-01, -2.6184e-02, -5.3906e-01, -3.0908e-01, -3.5840e-01,\n",
            "         -8.2422e-01, -3.3789e-01, -1.6504e-01,  1.7578e-01,  4.6875e-01,\n",
            "          2.1875e-01, -1.1124e-02, -1.8494e-01,  1.1450e-01,  2.4963e-01,\n",
            "          2.1045e-01,  2.2510e-01,  4.6655e-01, -1.1865e+00,  6.3135e-01,\n",
            "         -2.2308e-02,  3.7231e-01, -1.3538e-01,  5.2441e-01,  4.4727e-01,\n",
            "          7.0992e-03, -3.0347e-01,  3.3228e-01, -4.4019e-01, -6.4258e-01,\n",
            "         -4.3359e-01, -3.7769e-01, -4.3945e-01,  2.1692e-01, -1.3584e+00,\n",
            "         -4.8242e-01,  6.9153e-02,  3.8910e-02, -1.0815e-01,  4.2114e-01,\n",
            "          2.4780e-01, -5.3223e-01,  4.2480e-01,  3.1104e-01, -1.9727e-01,\n",
            "         -1.6525e-02, -1.2168e+00,  1.3977e-01, -4.8486e-01, -1.3416e-01,\n",
            "         -4.6899e-01,  1.5723e-01, -3.5083e-01,  8.0338e-03, -3.0103e-01,\n",
            "          2.5244e-01,  3.1787e-01, -8.2910e-01,  4.2529e-01, -2.7271e-01,\n",
            "         -4.2801e-03, -6.1475e-01, -4.4116e-01,  4.2871e-01,  6.8213e-01,\n",
            "          1.1368e-02,  2.3718e-01,  3.1714e-01,  2.3535e-01, -3.5669e-01,\n",
            "         -5.0928e-01, -6.9153e-02, -2.6318e-01, -5.2490e-01, -2.0370e-02,\n",
            "          4.1772e-01,  7.7515e-02,  5.4102e-01, -3.7079e-02, -1.0498e-01,\n",
            "          2.9395e-01,  2.1692e-01, -3.8501e-01, -2.7832e-01, -2.8613e-01,\n",
            "          1.1261e-01,  5.1074e-01, -4.8999e-01,  8.3069e-02,  2.3438e-01,\n",
            "         -2.6416e-01, -5.9375e-01,  2.9028e-01,  2.9297e-01, -4.9896e-02,\n",
            "         -7.5977e-01,  3.9893e-01,  3.6011e-01,  2.4768e-01, -5.7422e-01,\n",
            "          1.4210e-03, -2.5732e-01, -6.8457e-01, -8.7744e-01,  3.3350e-01,\n",
            "         -5.9473e-01, -4.1479e-01, -5.6445e-01,  1.1249e-01,  2.4731e-01,\n",
            "          6.9702e-02, -3.8989e-01, -9.5764e-02, -4.1699e-01, -3.4155e-01,\n",
            "         -4.3579e-01, -4.2871e-01,  9.4238e-02, -2.4866e-01,  1.4209e-01,\n",
            "         -9.4092e-01,  7.9688e-01, -1.1987e-01,  7.8857e-02, -4.1064e-01,\n",
            "         -2.1497e-01,  3.0103e-01,  3.0786e-01,  3.6670e-01,  1.2445e-01,\n",
            "         -1.3696e-01,  3.0786e-01, -3.0273e-02, -8.9551e-01,  8.1201e-01,\n",
            "          1.0553e-01, -7.7698e-02, -2.5781e-01,  1.8341e-02, -7.5195e-01,\n",
            "          1.4209e-01,  4.0649e-01,  3.2324e-01,  7.0152e-03, -1.5051e-01,\n",
            "         -2.7197e-01, -6.6711e-02,  7.9163e-02,  2.4854e-01,  8.4570e-01,\n",
            "          3.5864e-01,  4.6631e-01, -4.7119e-01, -4.5471e-02,  4.6313e-01,\n",
            "         -7.3389e-01, -1.1615e-01,  1.0293e+00,  2.3230e-01, -2.1286e-02,\n",
            "          4.1113e-01,  3.2275e-01, -1.8481e-01, -5.2539e-01, -2.1469e-02,\n",
            "         -1.0956e-01, -1.4331e-01, -3.4717e-01, -2.5757e-01,  3.2422e-01,\n",
            "         -8.9990e-01,  3.6182e-01,  3.4271e-02,  1.9226e-01,  3.0200e-01,\n",
            "         -1.0614e-01,  5.7324e-01,  2.3621e-02, -2.5711e-02,  5.7910e-01,\n",
            "          3.5864e-01,  4.4653e-01, -7.8796e-02, -1.7419e-01,  1.7212e-01,\n",
            "         -4.8071e-01,  1.8274e-01, -6.8799e-01,  1.3745e-01,  2.5513e-01,\n",
            "          1.8152e-01, -1.8408e-01, -2.0279e-02, -8.7305e-01,  1.8890e-02,\n",
            "          4.1504e-01, -7.0312e-02, -2.4390e-01, -2.5000e-01,  5.5725e-02,\n",
            "         -2.4368e-02,  3.0908e-01, -3.7354e-02,  4.6973e-01,  6.3525e-01,\n",
            "          7.6843e-02, -3.5645e-01, -3.8843e-01, -1.0400e+00,  6.0516e-02,\n",
            "          2.0493e-02,  7.2412e-01,  2.8296e-01, -1.0381e+00,  1.0215e+00,\n",
            "          4.4946e-01, -1.5295e-01,  1.0992e-01,  6.2012e-01,  7.2705e-01,\n",
            "         -8.7280e-02, -1.9104e-01, -3.6328e-01, -5.7764e-01, -6.8408e-01,\n",
            "          3.2666e-01, -4.0131e-02,  4.2798e-01,  3.4521e-01, -3.2251e-01,\n",
            "         -3.3667e-01, -2.7686e-01, -3.1494e-01, -9.7046e-02,  7.0947e-01,\n",
            "          3.4619e-01,  6.6016e-01,  1.6602e-01,  3.6108e-01, -1.0809e-01,\n",
            "         -4.9561e-02, -2.8442e-01,  6.1572e-01, -3.2684e-02,  2.5757e-01,\n",
            "         -8.2245e-03, -9.3750e-02,  3.1030e-01, -5.8929e-02,  3.0420e-01,\n",
            "          9.1992e-01, -8.3594e-01,  9.0186e-01,  1.6931e-01, -3.1885e-01,\n",
            "          4.0723e-01,  9.8755e-02,  1.0034e-01]], dtype=torch.float16), 'How many buildings are flooded?': tensor([[-4.6021e-01,  1.2042e-01,  6.2158e-01,  4.1821e-01, -1.9812e-01,\n",
            "          6.4697e-02, -3.7451e-01, -3.5205e-01, -1.2585e-01,  7.6709e-01,\n",
            "         -7.0679e-02, -8.9355e-02,  8.6548e-02, -4.2310e-01, -4.2676e-01,\n",
            "          4.4653e-01,  5.7487e-03, -1.1432e-01,  1.3281e-01, -4.1675e-01,\n",
            "         -7.2937e-02,  2.5952e-01, -1.4746e-01,  3.7573e-01,  6.4941e-02,\n",
            "         -2.3523e-01,  3.5400e-01,  4.7144e-01,  4.2114e-01,  1.8225e-01,\n",
            "         -1.3281e-01, -1.3574e-01,  9.1858e-02, -1.1318e+00, -1.6211e-01,\n",
            "          2.6099e-01, -4.2944e-01,  2.5708e-01,  1.5845e-01, -2.3865e-01,\n",
            "         -6.4111e-01, -7.3877e-01, -4.5703e-01, -6.4795e-01, -5.1056e-02,\n",
            "          5.0098e-01, -2.7222e-01,  1.8579e-01,  1.8753e-02, -4.1846e-01,\n",
            "         -2.3022e-01, -2.9883e-01,  1.6467e-01,  9.8584e-01,  6.9519e-02,\n",
            "         -4.8120e-01,  8.9661e-02,  3.4692e-01, -5.5371e-01, -1.9690e-01,\n",
            "          6.7090e-01,  7.1680e-01, -2.1057e-01,  4.7363e-01, -2.9858e-01,\n",
            "         -8.3496e-01, -2.1228e-01,  2.6685e-01,  1.2408e-01,  4.2725e-01,\n",
            "          1.7078e-01, -2.2986e-01, -8.7402e-02, -1.4294e-01, -1.6739e-02,\n",
            "         -7.5635e-01,  2.6352e-02,  3.7109e-01, -9.3115e-01, -7.9150e-01,\n",
            "         -1.1700e-01,  1.1023e-01, -5.8740e-01,  4.1772e-01,  1.2781e-01,\n",
            "         -7.7820e-02, -1.4136e-01, -2.5000e-01, -7.7441e-01, -1.8005e-02,\n",
            "         -2.6660e-01,  7.5012e-02,  4.6661e-02,  6.0059e-02,  2.4438e-01,\n",
            "         -4.4214e-01, -5.5634e-02, -4.7058e-02,  2.8345e-01, -3.5205e-01,\n",
            "          3.3508e-02,  8.7402e-02,  3.4668e-01,  4.8120e-01, -7.1680e-01,\n",
            "          2.8223e-01,  8.6121e-02,  4.8120e-01,  8.1055e-01,  2.2729e-01,\n",
            "         -2.5024e-01, -2.2241e-01, -3.7988e-01,  1.8372e-01,  5.2295e-01,\n",
            "         -5.4688e-02, -9.4055e-02,  1.1884e-01,  5.4413e-02,  2.0972e-01,\n",
            "         -3.3789e-01, -3.0664e-01,  4.9438e-02,  1.7029e-01, -6.7078e-02,\n",
            "          2.0630e-01,  5.4883e-01, -1.6272e-01,  1.3313e-02,  1.5967e-01,\n",
            "         -9.8242e-01, -2.0459e-01, -4.8126e-02,  8.0017e-02, -7.3486e-01,\n",
            "         -7.7881e-01,  2.1936e-01,  3.9111e-01,  1.5381e-01,  6.4844e-01,\n",
            "          3.3960e-01, -1.1475e-01,  7.9590e-02, -4.3335e-01,  1.8176e-01,\n",
            "         -5.3564e-01,  4.2041e-01,  3.9453e-01, -6.8994e-01, -2.0667e-01,\n",
            "         -1.8347e-01, -2.5589e-02, -6.0303e-01,  2.5513e-01,  4.9561e-01,\n",
            "         -1.3599e-01,  5.0201e-02, -1.5051e-01,  4.5825e-01, -5.5420e-01,\n",
            "         -8.0795e-03,  2.8198e-01,  3.7744e-01, -3.6206e-01,  5.0977e-01,\n",
            "         -1.3586e-01, -2.8125e-01,  3.1763e-01, -2.3889e-01, -1.1955e-02,\n",
            "          9.6558e-02,  3.6938e-01, -2.0288e-01, -1.8457e-01, -1.1438e-01,\n",
            "         -6.6956e-02, -6.2061e-01,  8.9661e-02, -2.4634e-01, -4.1797e-01,\n",
            "         -3.5205e-01,  1.1176e-01, -4.4891e-02,  5.1416e-01, -3.5425e-01,\n",
            "         -3.8428e-01, -5.6000e-02, -1.0553e-01, -4.1284e-01, -4.2432e-01,\n",
            "          3.0835e-01,  1.7725e-01, -3.3154e-01, -3.1097e-02, -1.5808e-02,\n",
            "         -2.3691e+00,  1.4636e-01,  3.3594e-01,  5.9912e-01, -9.3115e-01,\n",
            "         -5.2832e-01,  6.6504e-01, -5.2637e-01,  1.0822e-01,  2.9614e-01,\n",
            "          2.6685e-01,  2.3560e-01,  9.3933e-02, -7.5537e-01, -3.6697e-03,\n",
            "          5.2734e-02, -3.5059e-01, -3.4332e-02,  2.0886e-01, -7.8516e-01,\n",
            "         -1.9287e-01, -1.7871e-01, -1.6199e-01,  3.2056e-01,  5.4443e-01,\n",
            "          6.6956e-02, -1.4331e-01,  6.3330e-01,  5.1318e-01, -1.5881e-01,\n",
            "          6.6455e-01, -2.8442e-01, -2.2009e-01,  1.3049e-01, -4.0869e-01,\n",
            "         -3.2837e-02,  8.3801e-02,  4.0430e-01, -5.9033e-01, -8.7695e-01,\n",
            "          4.9707e-01,  3.4668e-01,  8.3801e-02, -1.1932e-01,  4.2896e-01,\n",
            "          6.4453e-01, -3.0322e-01, -9.2712e-02,  9.8694e-02,  2.7246e-01,\n",
            "          3.1274e-01, -1.9458e-01, -1.6431e-01, -1.5552e-01,  3.5059e-01,\n",
            "         -5.9717e-01, -5.5811e-01,  2.3148e-02, -6.7188e-01, -4.2542e-02,\n",
            "          1.1542e-01,  1.7249e-01,  6.7871e-01,  1.6199e-01,  1.0144e-01,\n",
            "         -4.5654e-01, -9.4482e-02, -3.9795e-01, -1.4636e-01, -3.1738e-01,\n",
            "          1.5906e-01,  4.0186e-01,  1.4221e-01, -1.2006e-01, -1.1926e-01,\n",
            "         -2.8052e-01,  8.3154e-01, -9.0088e-02,  5.3802e-02, -4.0356e-01,\n",
            "          1.0925e-01, -1.9116e-01,  3.4302e-01, -4.4312e-02,  1.6260e-01,\n",
            "         -2.6215e-02,  9.3066e-01, -1.0957e+00,  2.1838e-01,  5.5511e-02,\n",
            "         -2.2351e-01, -1.3037e+00,  2.3096e-01, -1.9541e+00, -4.0015e-01,\n",
            "          1.3806e-01,  5.8031e-04, -1.5442e-01, -4.8682e-01, -1.6441e-03,\n",
            "          1.2091e-01,  4.3823e-01, -3.8623e-01,  6.5576e-01,  4.5557e-01,\n",
            "         -4.8309e-02,  7.8857e-02,  4.8804e-01, -3.5742e-01,  7.5391e-01,\n",
            "          4.5068e-01, -2.1973e-01, -8.4229e-01, -1.9263e-01, -3.8013e-01,\n",
            "         -4.3262e-01, -4.9133e-02, -5.8960e-02,  8.3252e-01, -2.0667e-01,\n",
            "         -5.9912e-01, -9.3203e+00,  5.7617e-01,  1.1572e-01, -6.3232e-02,\n",
            "         -1.7224e-01, -3.6279e-01,  7.6709e-01, -4.1187e-01, -2.8473e-02,\n",
            "          1.0431e-01, -3.1421e-01,  5.8472e-02,  9.1492e-02, -1.7871e-01,\n",
            "          9.8633e-02,  3.0981e-01,  9.2346e-02,  1.3220e-01,  2.2507e-04,\n",
            "          2.0142e-01,  3.1787e-01,  1.0449e-01,  6.1230e-01, -1.4978e-01,\n",
            "          2.1458e-03, -5.9082e-02,  4.2084e-02,  1.5613e-01,  4.9780e-01,\n",
            "         -2.6489e-01,  3.7256e-01, -1.0339e-01,  5.2148e-01,  7.3242e-01,\n",
            "          4.5703e-01,  7.6416e-02,  4.6777e-01,  3.2886e-01,  2.8931e-01,\n",
            "         -2.4963e-01,  1.4062e-01, -2.1997e-01,  4.6436e-01, -9.3750e-02,\n",
            "          4.8120e-01, -8.9697e-01, -4.2798e-01, -3.6646e-01, -9.9976e-02,\n",
            "         -2.5854e-01, -3.5156e-01, -4.0967e-01,  4.2847e-01,  4.3433e-01,\n",
            "         -3.7354e-01,  9.4141e-01, -5.2930e-01, -3.9429e-02,  1.6125e-01,\n",
            "         -2.4255e-01,  5.9052e-02, -2.8735e-01, -2.3853e-01, -1.0262e-02,\n",
            "         -3.6475e-01,  1.3145e-02,  7.8796e-02,  1.9592e-01, -3.0273e-01,\n",
            "         -1.9836e-01, -6.2256e-02,  2.0837e-01,  2.6782e-01, -1.1072e-01,\n",
            "         -3.1299e-01, -1.8396e-01, -1.3123e-01,  2.4609e-01,  8.5449e-01,\n",
            "          4.3182e-02, -5.0195e-01, -2.0959e-01, -1.1615e-01,  6.4014e-01,\n",
            "         -7.6367e-01, -1.4697e-01,  4.3799e-01,  5.0684e-01, -1.7365e-02,\n",
            "          3.9014e-01, -2.3560e-01,  2.4280e-01, -1.5125e-01, -2.0471e-01,\n",
            "          5.0879e-01, -3.4326e-01,  8.1836e-01, -1.1465e+00,  1.7273e-01,\n",
            "         -1.6504e-01, -2.0081e-01,  1.4282e-01,  3.3838e-01, -2.8809e-01,\n",
            "          1.0461e-01,  1.8115e-01, -4.1168e-02,  1.5771e-01,  5.0537e-01,\n",
            "          2.4402e-01,  4.5142e-01,  3.8306e-01, -5.2185e-02,  3.1769e-02,\n",
            "         -3.4180e-01,  2.5635e-01,  2.4133e-01, -5.6641e-01, -4.8828e-02,\n",
            "          9.3750e-01,  3.1396e-01, -1.1560e-01,  1.7993e-01,  7.3438e-01,\n",
            "          8.1641e+00, -8.2886e-02,  3.5791e-01,  2.7319e-01, -4.4287e-01,\n",
            "         -6.0107e-01,  7.2998e-01,  2.9639e-01, -6.0498e-01, -1.5898e-03,\n",
            "         -6.5967e-01,  9.9731e-02,  8.0225e-01,  7.4805e-01, -1.7969e-01,\n",
            "         -4.7021e-01,  2.2449e-01,  2.8979e-01, -1.1553e+00,  4.0088e-01,\n",
            "         -1.7078e-01,  8.5510e-02,  7.4280e-02, -3.5889e-01,  2.3877e-01,\n",
            "          4.0845e-01,  1.1818e-02, -4.8145e-01,  3.6963e-01,  1.0234e+00,\n",
            "          3.8184e-01, -1.0632e-01,  9.2590e-02, -3.4424e-01, -2.8833e-01,\n",
            "         -3.1311e-02, -1.3647e-01, -1.1475e-01, -2.0752e-01,  6.6113e-01,\n",
            "          3.9703e-02,  1.1810e-01, -6.5247e-02,  3.0981e-01,  2.7515e-01,\n",
            "         -5.6982e-01,  2.3157e-01, -4.3848e-01,  2.3816e-01, -2.8955e-01,\n",
            "         -1.0413e-01,  4.5190e-01, -5.9814e-01, -6.7920e-01, -3.0664e-01,\n",
            "         -5.1562e-01, -3.2617e-01, -1.5881e-01, -3.0298e-01, -1.9702e-01,\n",
            "          1.4844e-01,  5.6641e-01,  2.8366e-02,  1.5747e-01, -3.4595e-01,\n",
            "         -2.4719e-01,  5.7373e-02, -9.8206e-02, -2.8671e-02, -6.6162e-02,\n",
            "          3.2275e-01, -3.9185e-01, -7.2998e-01,  1.0483e-02, -3.0713e-01,\n",
            "         -8.1738e-01, -4.4116e-01,  2.4948e-02,  1.4392e-01,  3.5181e-01,\n",
            "         -4.1675e-01,  2.1167e-01, -8.6914e-02, -1.3733e-01,  4.4360e-01,\n",
            "          2.8296e-01, -8.0505e-02,  1.0449e-01, -3.6743e-01,  3.7280e-01,\n",
            "          7.2144e-02,  4.3921e-01, -2.0288e-01,  4.6631e-01,  3.1250e-01,\n",
            "         -2.3840e-01,  3.4424e-02, -2.5269e-02, -1.8445e-01, -7.3193e-01,\n",
            "         -4.0234e-01, -3.5962e-01, -4.3652e-01,  6.0760e-02, -1.0410e+00,\n",
            "         -2.8394e-01,  1.0883e-01,  4.7900e-01,  2.9370e-01,  3.0811e-01,\n",
            "          2.6074e-01, -3.6377e-01,  5.5859e-01,  3.2275e-01, -8.6609e-02,\n",
            "          6.1981e-02, -1.2002e+00, -2.3535e-01, -4.1602e-01,  3.1128e-02,\n",
            "         -5.2246e-01,  1.3086e-01,  2.4365e-01,  6.0730e-02,  2.4612e-02,\n",
            "         -1.6211e-01,  3.1641e-01, -4.7559e-01,  4.3042e-01, -2.8979e-01,\n",
            "         -3.5797e-02, -2.5562e-01, -4.6240e-01,  5.0195e-01,  4.4849e-01,\n",
            "          2.4585e-01,  8.3374e-02,  2.2205e-01,  6.0400e-01, -3.1030e-01,\n",
            "         -2.3706e-01, -1.3831e-01, -1.4026e-01, -1.6064e-01, -4.1016e-01,\n",
            "          2.9956e-01, -1.3379e-01,  6.8164e-01, -6.4990e-01, -3.3179e-01,\n",
            "          6.3770e-01,  1.6162e-01, -1.8640e-01, -1.3232e-01, -3.4009e-01,\n",
            "         -1.6736e-01,  4.6021e-01, -7.5000e-01,  1.6724e-01, -6.4331e-02,\n",
            "         -4.8462e-02, -4.9536e-01,  1.2451e-01, -1.8774e-01, -1.0913e-01,\n",
            "         -1.5889e+00,  3.2080e-01,  1.5967e-01,  4.0845e-01, -3.5059e-01,\n",
            "          1.2537e-01, -1.4839e-02, -4.3701e-01, -8.0420e-01, -2.0923e-01,\n",
            "         -6.1426e-01, -3.9990e-01, -5.6592e-01,  9.9121e-02,  1.8079e-01,\n",
            "          7.7637e-01, -6.3281e-01, -7.9895e-02, -5.1807e-01, -3.9868e-01,\n",
            "         -2.7246e-01, -3.5309e-02, -1.1182e-01,  5.3589e-02,  6.1475e-01,\n",
            "         -2.8369e-01,  2.2302e-01, -5.4932e-01, -9.7107e-02,  1.9580e-01,\n",
            "         -1.4600e-01,  1.1774e-01,  3.2495e-01,  4.3042e-01,  5.1172e-01,\n",
            "         -1.6797e-01, -1.8396e-01, -1.9714e-01, -7.2949e-01,  1.1426e+00,\n",
            "         -7.4158e-02,  6.3843e-02, -1.7163e-01,  9.3872e-02, -3.3716e-01,\n",
            "          2.7710e-01,  4.0576e-01, -7.1228e-02,  1.6064e-01, -4.9072e-01,\n",
            "         -3.6914e-01,  3.9941e-01,  2.6465e-01,  3.8647e-01,  4.4824e-01,\n",
            "          1.8115e-01,  6.5674e-01,  2.1716e-01, -4.8047e-01, -2.6978e-02,\n",
            "         -3.8818e-01, -4.8511e-01,  1.2793e+00,  4.7607e-01,  9.6924e-02,\n",
            "          1.0040e-01, -1.5671e-02, -2.6587e-01, -4.7925e-01, -1.6321e-01,\n",
            "          1.2988e-01,  3.8239e-02, -7.3828e-01, -2.2314e-01,  3.9233e-01,\n",
            "         -6.0498e-01,  6.0516e-02,  1.0815e-01,  3.0786e-01,  6.2805e-02,\n",
            "         -1.1932e-01,  5.3662e-01, -8.7280e-02, -1.6187e-01, -1.2769e-01,\n",
            "          8.9600e-01, -2.8540e-01,  3.2031e-01, -3.1323e-01, -2.0599e-02,\n",
            "         -3.3008e-01,  8.3252e-01, -3.9160e-01, -1.0443e-01, -2.1194e-02,\n",
            "          4.3335e-01,  3.1055e-01,  1.0895e-01, -7.5732e-01, -3.1567e-01,\n",
            "          3.8110e-01, -2.2522e-01, -5.5695e-02, -5.1270e-01,  1.1121e-01,\n",
            "          5.9814e-02,  2.0886e-01,  1.6937e-02,  1.7773e-01,  4.8706e-01,\n",
            "          4.3579e-01, -5.3589e-02, -4.8218e-01, -6.2158e-01,  8.5144e-02,\n",
            "         -3.1226e-01,  3.8135e-01,  4.3823e-01, -1.0107e+00,  3.7476e-01,\n",
            "         -2.1753e-01, -3.5083e-01,  1.2445e-01,  5.5811e-01,  3.5815e-01,\n",
            "         -2.8198e-01, -1.9495e-01, -2.4109e-01, -5.7520e-01, -6.7725e-01,\n",
            "         -1.1224e-01, -3.9575e-01,  6.8262e-01, -1.9482e-01, -5.8691e-01,\n",
            "          1.1145e-01, -2.5903e-01, -1.9241e-02, -6.3477e-01,  5.5615e-01,\n",
            "          2.8534e-02,  4.3091e-01, -1.4368e-01,  3.2318e-02, -2.1985e-01,\n",
            "          2.1973e-02, -4.9683e-01,  6.1182e-01,  1.0791e-01,  1.4453e-01,\n",
            "          1.2256e-01, -1.3013e-01, -1.2732e-01, -4.4006e-02,  1.8530e-01,\n",
            "          8.6670e-01, -6.5283e-01,  5.7520e-01, -3.0469e-01, -1.8079e-01,\n",
            "          2.9980e-01, -7.5562e-02, -4.0625e-01]], dtype=torch.float16), 'How many buildings are in the image?': tensor([[-3.9380e-01, -1.1829e-01,  7.7393e-01,  8.5010e-01, -1.9495e-01,\n",
            "          2.1387e-01, -2.2485e-01,  3.3130e-01, -4.4800e-01, -2.1558e-01,\n",
            "         -1.1554e-01, -6.1670e-01, -2.0349e-01, -3.1250e-01, -4.2065e-01,\n",
            "          1.5210e-01,  7.7100e-01, -3.9233e-01,  1.3660e-01, -5.1807e-01,\n",
            "          6.2744e-01,  1.8652e-01, -2.6660e-01,  9.3164e-01,  8.5388e-02,\n",
            "         -2.2314e-01, -7.8174e-01, -4.2725e-01,  4.8950e-01,  1.7822e-01,\n",
            "         -9.4971e-02,  4.9731e-01,  2.9266e-02, -9.6240e-01, -2.4646e-01,\n",
            "          6.5552e-02,  1.2115e-01, -1.6992e-01, -1.8481e-01,  3.3594e-01,\n",
            "         -1.5002e-01, -2.6465e-01, -4.1577e-01, -2.8589e-01, -3.4473e-01,\n",
            "          4.9902e-01,  3.1830e-02,  3.0884e-01,  5.3857e-01, -3.2153e-01,\n",
            "         -1.6638e-01, -6.9287e-01,  5.9570e-01,  5.1221e-01, -3.5864e-01,\n",
            "         -6.2695e-01,  3.0444e-01, -1.5430e-01, -4.9164e-02, -3.9038e-01,\n",
            "          6.2683e-02, -6.7383e-02, -8.9453e-01,  5.4395e-01, -2.5195e-01,\n",
            "          9.3750e-02, -2.1436e-01,  2.3193e-01, -2.5122e-01,  4.3152e-02,\n",
            "          5.2197e-01,  3.9948e-02, -1.3916e-01, -7.7148e-01,  1.4099e-01,\n",
            "         -4.9829e-01,  4.5258e-02,  1.9275e-01, -4.7095e-01,  1.2146e-01,\n",
            "         -2.8760e-01, -6.8542e-02, -1.6443e-01,  5.6494e-01,  2.5928e-01,\n",
            "          4.6484e-01,  1.0138e-01, -5.4688e-01, -1.1562e+00, -4.6729e-01,\n",
            "          1.0962e-01, -1.1469e-01,  2.8735e-01, -1.5649e-01, -1.5918e-01,\n",
            "         -2.2693e-01, -1.6724e-01, -9.4910e-02, -9.6436e-02, -4.7217e-01,\n",
            "         -5.7422e-01,  1.9116e-01,  1.5845e-01,  7.3145e-01, -5.3284e-02,\n",
            "          2.0679e-01,  3.6450e-01,  1.7792e-02,  1.0293e+00,  9.2334e-01,\n",
            "          1.3000e-01,  3.6621e-02, -1.4453e-01,  1.4893e-01, -1.0138e-01,\n",
            "         -4.3481e-01, -2.1130e-01, -7.0508e-01, -3.2764e-01,  5.1758e-01,\n",
            "         -1.4087e-01,  2.2815e-01,  3.5449e-01, -1.6125e-01,  2.4646e-01,\n",
            "          5.8643e-01,  3.4973e-02,  2.3145e-01, -7.0915e-03, -1.4795e-01,\n",
            "         -1.4050e-01,  3.3032e-01, -3.2135e-02,  1.8628e-01, -8.3691e-01,\n",
            "         -5.1904e-01, -2.6562e-01,  1.9067e-01,  6.5381e-01, -5.5511e-02,\n",
            "         -1.5015e-01, -1.3184e-01,  9.2773e-01, -6.9092e-01,  2.1741e-01,\n",
            "         -9.4531e-01,  3.0933e-01,  8.4912e-01, -1.0931e-01, -3.0457e-02,\n",
            "          5.6732e-02, -6.1218e-02, -1.2378e-01,  1.6064e-01,  3.2227e-01,\n",
            "         -4.2920e-01, -2.1252e-01,  2.8003e-01,  3.8269e-02, -4.7363e-01,\n",
            "          3.8208e-02,  1.4496e-02,  2.8662e-01, -5.6250e-01, -4.0796e-01,\n",
            "          6.7444e-02, -1.7175e-01, -5.3564e-01,  4.1412e-02, -4.5508e-01,\n",
            "         -1.1450e-01,  1.8799e-01, -1.8774e-01,  1.1589e-02,  5.2490e-01,\n",
            "         -2.5415e-01, -2.5562e-01, -5.7080e-01,  2.8418e-01, -2.9639e-01,\n",
            "         -6.1890e-02, -4.2450e-02, -3.3789e-01,  3.2617e-01,  3.9673e-02,\n",
            "         -6.0254e-01,  2.3035e-01,  7.1838e-02,  2.3828e-01, -1.9043e-01,\n",
            "          3.4741e-01,  3.5938e-01, -3.2104e-01, -4.6387e-01, -1.9995e-01,\n",
            "         -2.1582e+00, -3.0640e-01,  7.0947e-01,  6.2354e-01, -5.3662e-01,\n",
            "         -3.7506e-02,  4.3921e-01, -1.1987e-01,  1.1456e-01,  3.5950e-02,\n",
            "          3.5986e-01,  2.7368e-01, -2.4634e-01,  1.9055e-01, -2.6929e-01,\n",
            "          1.8250e-01, -4.9634e-01, -1.6614e-01, -1.1224e-01, -5.3406e-02,\n",
            "          1.7029e-01, -4.2603e-02,  3.3081e-01,  3.4570e-01, -3.1952e-02,\n",
            "          2.0776e-01,  2.6172e-01,  6.4819e-02,  2.2461e-01, -1.7957e-01,\n",
            "          1.7212e-01, -3.7573e-01,  5.9052e-02,  4.8071e-01,  6.4430e-03,\n",
            "          3.4058e-01, -5.1611e-01, -3.1543e-01,  1.1554e-01, -4.1040e-01,\n",
            "          4.6484e-01,  6.6455e-01,  2.8809e-01, -3.5596e-01, -1.8616e-01,\n",
            "          5.1318e-01, -2.2363e-01, -2.0435e-01,  2.9199e-01,  3.0908e-01,\n",
            "          1.5015e-01, -2.3636e-02, -8.7891e-02, -1.1322e-01,  1.8384e-01,\n",
            "          2.2632e-01,  2.8052e-01,  3.1104e-01, -3.8135e-01,  2.5253e-03,\n",
            "         -9.4055e-02, -1.1945e-01,  3.2080e-01,  5.2765e-02, -4.3304e-02,\n",
            "         -1.4734e-01, -5.0049e-01, -6.0596e-01,  2.9834e-01, -1.6980e-01,\n",
            "          2.9004e-01,  3.2446e-01, -2.8296e-01, -2.1021e-01, -2.3889e-01,\n",
            "          5.2887e-02, -7.5806e-02,  2.5049e-01, -4.2065e-01,  3.3179e-01,\n",
            "         -2.6831e-01, -2.4951e-01, -4.4434e-01, -2.3346e-03, -5.1904e-01,\n",
            "          6.9275e-02,  2.9465e-02, -8.4229e-01,  8.1543e-01, -9.4421e-02,\n",
            "          3.6285e-02, -8.1152e-01,  1.4880e-01, -1.7383e+00, -2.7930e-01,\n",
            "          6.0986e-01,  4.5386e-01, -5.5762e-01, -3.8940e-01,  4.0015e-01,\n",
            "         -1.1816e-01,  2.3889e-01,  3.7866e-01,  5.1086e-02,  4.2749e-01,\n",
            "         -1.1920e-01, -1.5417e-01,  2.8906e-01, -3.1152e-01, -2.4365e-01,\n",
            "         -2.2925e-01, -8.4326e-01,  2.4426e-01,  3.4155e-01,  3.1338e-03,\n",
            "         -8.9795e-01,  3.1201e-01, -9.1370e-02,  7.3828e-01, -4.0186e-01,\n",
            "          1.2146e-01, -9.8750e+00,  2.7490e-01,  1.7517e-01, -3.1348e-01,\n",
            "         -5.5115e-02, -1.1963e+00,  6.9629e-01, -8.8623e-01, -2.1277e-01,\n",
            "          4.6680e-01, -3.1958e-01, -4.7607e-01, -4.8340e-02,  5.4382e-02,\n",
            "         -1.2183e-01,  5.2783e-01,  4.7803e-01, -1.2067e-01, -4.1968e-01,\n",
            "          3.0811e-01,  6.0205e-01, -2.2961e-01, -3.5010e-01,  2.5854e-01,\n",
            "         -4.5337e-01, -1.6077e-01,  2.9321e-01,  1.4595e-02, -1.8433e-01,\n",
            "          1.7761e-01,  3.5474e-01, -2.6440e-01, -1.2688e-02,  2.9688e-01,\n",
            "          3.9990e-01, -5.7404e-02, -5.2673e-02,  3.7256e-01,  1.1499e-01,\n",
            "          2.9126e-01,  2.5269e-01, -2.1729e-01,  5.2539e-01,  3.8965e-01,\n",
            "         -4.5654e-01, -6.6016e-01,  4.2139e-01,  3.8788e-02, -1.6443e-01,\n",
            "          2.2339e-01,  5.7471e-01, -4.4556e-01,  5.8545e-01,  4.0942e-01,\n",
            "         -4.5166e-01,  7.1240e-01,  3.1934e-01,  8.2336e-02, -1.9531e-01,\n",
            "         -6.6455e-01,  1.4185e-01, -8.5205e-02,  1.9080e-01,  3.7207e-01,\n",
            "          2.0361e-01,  7.8064e-02, -4.1357e-01, -3.9038e-01, -1.6370e-01,\n",
            "         -1.6064e-01,  3.7134e-01, -1.8152e-01,  2.6196e-01,  4.2053e-02,\n",
            "          1.9666e-01,  2.2095e-02,  1.0864e-01, -5.5518e-01,  4.8889e-02,\n",
            "         -1.6098e-02, -5.0732e-01, -7.8467e-01, -4.7095e-01, -7.1594e-02,\n",
            "         -3.1647e-02, -5.8496e-01,  1.1224e-01,  3.3838e-01,  1.0264e+00,\n",
            "          1.8164e-01,  2.9028e-01,  3.4790e-01, -2.9614e-01,  3.4961e-01,\n",
            "         -5.5908e-02,  2.5360e-02,  1.0156e+00, -1.1904e+00, -5.9113e-02,\n",
            "         -1.5649e-01, -1.0277e-02, -3.4912e-02,  1.9043e-01, -5.4443e-01,\n",
            "         -7.5378e-02,  2.1533e-01,  1.3074e-01,  5.8258e-02,  1.6992e-01,\n",
            "          1.6846e-02,  9.1064e-01,  2.9224e-01,  3.4106e-01,  2.6428e-02,\n",
            "         -2.1753e-01,  1.8494e-01, -5.5481e-02, -3.6768e-01,  3.1421e-01,\n",
            "          1.2217e+00,  7.1777e-01, -4.8120e-01,  1.2384e-01, -3.1958e-01,\n",
            "          8.9141e+00,  4.4043e-01,  2.6993e-02, -1.6626e-01, -5.6000e-02,\n",
            "          7.1716e-02,  8.4412e-02,  4.3457e-01, -1.9043e-01, -7.0610e-03,\n",
            "          4.3237e-01,  4.0796e-01,  9.5410e-01,  1.2930e+00, -2.7075e-01,\n",
            "         -1.8811e-01, -3.8623e-01,  3.6304e-01, -1.0166e+00, -1.8774e-01,\n",
            "          1.9702e-01, -1.2915e-01,  1.4478e-01,  3.1885e-01, -2.3877e-01,\n",
            "         -1.8457e-01, -4.4525e-02, -3.3936e-01,  2.3938e-01,  3.3130e-01,\n",
            "         -2.0630e-01, -2.2107e-01, -2.7124e-01, -9.8206e-02, -2.5830e-01,\n",
            "         -7.3486e-02,  2.2839e-01, -6.1066e-02, -1.1646e-01,  3.6621e-01,\n",
            "         -2.0923e-01,  4.0991e-01, -1.2901e-02,  4.0234e-01,  3.2928e-02,\n",
            "         -2.2974e-01,  6.2012e-01,  2.1375e-01,  3.2257e-02, -1.8823e-01,\n",
            "         -3.4741e-01,  1.9482e-01, -5.6006e-01, -3.6963e-01, -2.1887e-01,\n",
            "         -1.7871e-01, -3.0127e-01, -2.2424e-01,  3.5004e-02, -4.9286e-02,\n",
            "          1.5344e-01, -9.8267e-02,  2.6147e-01, -2.1301e-01, -4.8706e-01,\n",
            "         -6.3672e-01,  1.1346e-01, -3.3325e-01, -6.2256e-01,  7.7930e-01,\n",
            "         -2.4390e-01,  1.8115e-01, -4.7363e-01, -4.3286e-01, -3.6475e-01,\n",
            "         -5.2551e-02, -1.5979e-01, -2.6505e-02, -6.8652e-01,  9.4727e-01,\n",
            "          5.8887e-01,  1.8774e-01,  9.9426e-02,  4.4751e-01,  6.2927e-02,\n",
            "         -1.8982e-01,  1.4966e-01,  2.6929e-01, -1.6631e+00,  2.8223e-01,\n",
            "         -7.6172e-01,  3.8525e-01,  8.7219e-02,  9.7168e-02,  6.2207e-01,\n",
            "          6.8750e-01, -2.3047e-01,  5.1709e-01, -4.1724e-01, -2.4255e-01,\n",
            "         -2.1423e-01, -3.5126e-02, -4.6143e-01,  1.3721e-01, -6.0156e-01,\n",
            "         -5.1172e-01, -7.6721e-02, -5.1270e-01, -1.0950e-01,  8.2812e-01,\n",
            "          4.4604e-01, -4.6460e-01,  2.5195e-01,  1.9067e-01, -2.7759e-01,\n",
            "         -7.7209e-02, -1.1250e+00, -3.6499e-01, -9.4055e-02,  4.7417e-03,\n",
            "         -2.5708e-01, -1.8097e-02, -4.3652e-01, -3.0121e-02,  6.7139e-02,\n",
            "          4.0845e-01,  7.5146e-01, -4.6777e-01,  8.4412e-02, -6.8665e-02,\n",
            "         -3.4619e-01, -4.3994e-01, -1.1230e-01, -2.2545e-03,  3.7769e-01,\n",
            "          6.1920e-02, -8.0444e-02, -1.6223e-01,  1.7493e-01, -3.6926e-02,\n",
            "         -4.1064e-01,  1.0309e-01, -3.9673e-01, -1.6406e-01, -5.6787e-01,\n",
            "         -8.0017e-02,  3.7598e-01, -1.3947e-02, -9.0210e-02,  3.5791e-01,\n",
            "          2.1094e-01,  2.0557e-01, -4.5117e-01, -4.0063e-01,  1.3565e-02,\n",
            "          1.2720e-01,  1.6541e-01,  3.2080e-01,  1.7358e-01, -1.5759e-01,\n",
            "         -5.4980e-01, -2.0459e-01,  9.8694e-02,  3.6890e-01, -2.7832e-01,\n",
            "         -3.0957e-01, -3.2617e-01,  8.3252e-01,  1.7175e-01, -2.0020e-01,\n",
            "          9.5764e-02,  1.9336e-01, -4.8926e-01, -2.3035e-01,  2.8784e-01,\n",
            "         -3.6230e-01,  2.7124e-01, -1.3916e-02,  1.7212e-01,  1.5527e-01,\n",
            "          1.1005e-01, -2.4365e-01, -3.6646e-01, -2.9984e-02, -8.5693e-01,\n",
            "         -2.4255e-01, -6.9275e-02,  1.0345e-02, -7.2217e-01,  1.8387e-02,\n",
            "         -4.1772e-01,  1.0879e+00, -2.1008e-01,  2.2168e-01, -6.3477e-01,\n",
            "          1.5918e-01,  5.0781e-02,  2.7710e-01,  4.2236e-01, -6.3525e-01,\n",
            "          1.8051e-02,  7.6514e-01,  8.2275e-02, -6.6895e-01,  1.1875e+00,\n",
            "         -1.6693e-02,  1.8396e-01, -2.7734e-01, -6.8787e-02, -2.7002e-01,\n",
            "         -7.4829e-02,  2.0410e-01,  3.7915e-01,  1.4868e-01, -3.4058e-01,\n",
            "         -5.9845e-02, -5.0488e-01,  2.0007e-01,  2.3022e-01,  3.2227e-01,\n",
            "          2.9834e-01,  3.9673e-01, -4.1968e-01,  2.8174e-01, -4.9390e-01,\n",
            "         -1.4001e-01,  1.3892e-01,  9.1699e-01,  5.7526e-03,  5.2002e-01,\n",
            "          7.6514e-01,  1.9812e-01, -1.2646e-01, -4.1064e-01,  6.1523e-01,\n",
            "          7.4272e-03, -6.2012e-02, -4.7363e-02, -4.6533e-01, -1.3794e-01,\n",
            "         -7.6270e-01, -4.3030e-02, -1.3756e-02,  1.0382e-01, -6.6345e-02,\n",
            "         -2.9028e-01,  2.9688e-01,  1.2659e-01,  7.1472e-02,  1.3008e-02,\n",
            "          6.1719e-01,  2.4048e-01, -3.0054e-01,  2.0410e-01,  3.7207e-01,\n",
            "         -2.3840e-01,  1.0028e-01, -9.0967e-01,  1.9958e-02,  1.6272e-01,\n",
            "         -1.2494e-01, -3.1030e-01,  1.5698e-01, -6.3428e-01, -5.4504e-02,\n",
            "          5.6006e-01,  3.8916e-01, -2.6001e-01, -7.8735e-02, -4.0601e-01,\n",
            "          1.2390e-01, -1.9922e-01,  6.1963e-01,  5.5817e-02,  3.7061e-01,\n",
            "         -7.1533e-02, -5.1074e-01,  2.3422e-02, -6.1963e-01,  2.0166e-01,\n",
            "          4.8022e-01,  4.7729e-01, -4.2554e-01, -8.4326e-01,  9.8535e-01,\n",
            "          3.9502e-01, -5.4718e-02, -1.1499e-01,  6.8359e-01,  2.1216e-01,\n",
            "         -4.0259e-01, -5.8594e-01, -1.0522e-01, -2.9272e-01, -3.2495e-01,\n",
            "          5.6299e-01,  1.1621e-01,  2.0523e-02,  5.0684e-01,  6.6406e-02,\n",
            "         -7.9193e-03,  1.3481e-02, -6.2842e-01,  3.0563e-02,  2.6904e-01,\n",
            "          2.5220e-01,  6.8262e-01, -5.2307e-02,  9.4849e-02,  1.8018e-01,\n",
            "         -2.0215e-01,  1.2939e-01,  1.3464e-01, -5.6299e-01,  1.9348e-01,\n",
            "         -2.9980e-01,  3.1738e-01,  4.6411e-01, -5.5811e-01, -2.5928e-01,\n",
            "          4.9805e-01, -6.3721e-01,  1.3745e-01,  2.1680e-01, -4.8682e-01,\n",
            "          2.8687e-01,  4.7070e-01,  1.2939e-01]], dtype=torch.float16), 'How many buildings are in this image?': tensor([[-4.7974e-01, -4.7821e-02,  7.2852e-01,  7.4707e-01, -1.4412e-02,\n",
            "          2.5781e-01, -3.7500e-01,  3.9160e-01, -4.4067e-01, -2.0850e-01,\n",
            "         -5.8838e-02, -4.2896e-01, -1.3892e-01, -1.6797e-01, -3.8232e-01,\n",
            "          3.0200e-01,  6.5820e-01, -1.9958e-01,  6.4148e-02, -5.6494e-01,\n",
            "          6.4258e-01,  1.9104e-01, -3.9795e-01,  8.6865e-01,  5.3833e-02,\n",
            "         -2.9053e-01, -8.0176e-01, -3.4644e-01,  5.8545e-01,  1.6724e-01,\n",
            "         -9.1797e-02,  5.2686e-01,  3.9215e-03, -1.0010e+00, -2.1164e-02,\n",
            "          2.5952e-01,  2.3706e-01, -3.6401e-01, -7.5317e-02,  4.9414e-01,\n",
            "         -2.1881e-02, -3.8281e-01, -5.3906e-01, -2.7490e-01, -4.0405e-01,\n",
            "          6.9092e-01, -1.2183e-01,  3.7012e-01,  3.2764e-01, -3.5864e-01,\n",
            "         -2.7051e-01, -6.6553e-01,  7.1777e-01,  7.8613e-01, -4.9536e-01,\n",
            "         -5.9521e-01,  4.1919e-01, -1.6968e-01, -1.4136e-01, -4.7705e-01,\n",
            "          9.9792e-02, -1.8665e-01, -7.9150e-01,  6.4697e-01, -2.1167e-01,\n",
            "          1.3680e-02, -3.6353e-01,  1.3245e-01, -2.2656e-01, -7.1106e-02,\n",
            "          5.8643e-01,  6.3354e-02,  9.9365e-02, -6.0645e-01,  7.2479e-03,\n",
            "         -3.0127e-01,  2.6260e-02,  2.4292e-01, -3.8379e-01,  3.3539e-02,\n",
            "         -3.2666e-01, -1.2177e-01, -2.4182e-01,  4.5264e-01,  1.5381e-01,\n",
            "          5.1172e-01, -6.1462e-02, -4.7461e-01, -9.8633e-01, -4.4702e-01,\n",
            "          1.9495e-01, -1.6467e-01,  2.1460e-01, -2.9480e-02,  8.8501e-03,\n",
            "         -2.9248e-01, -1.9836e-01, -1.5735e-01, -2.4475e-02, -4.8779e-01,\n",
            "         -4.8071e-01,  1.1993e-01,  2.2156e-01,  5.8105e-01, -8.1543e-02,\n",
            "          3.7207e-01,  5.0537e-01, -3.7415e-02,  1.0146e+00,  1.0273e+00,\n",
            "          2.9688e-01,  1.5088e-01, -4.7577e-02,  1.7004e-01, -1.0818e-02,\n",
            "         -5.5615e-01, -2.8467e-01, -7.0752e-01, -1.6125e-01,  5.8350e-01,\n",
            "         -1.9360e-01,  5.5542e-02,  2.8589e-01, -2.9248e-01,  3.8185e-03,\n",
            "          3.1689e-01,  2.8900e-02,  5.7220e-03, -3.4161e-03, -7.9590e-02,\n",
            "         -4.1931e-02,  2.2400e-01, -6.2943e-03,  2.8271e-01, -7.7100e-01,\n",
            "         -6.4502e-01, -3.3789e-01,  1.9031e-01,  5.6201e-01,  2.2559e-01,\n",
            "          9.2896e-02, -1.2488e-01,  9.1455e-01, -5.9570e-01,  1.2573e-01,\n",
            "         -9.7070e-01,  3.5278e-01,  8.6377e-01, -2.9712e-01, -1.2378e-01,\n",
            "          3.5187e-02, -1.4087e-01, -1.4648e-01,  1.5796e-01,  2.4084e-01,\n",
            "         -3.2837e-01, -3.0957e-01,  4.8706e-01,  9.2407e-02, -3.1006e-01,\n",
            "          1.2463e-01, -2.8625e-02,  3.1543e-01, -6.0400e-01, -3.4082e-01,\n",
            "         -3.1525e-02, -6.4148e-02, -3.4106e-01,  2.8549e-02, -4.5068e-01,\n",
            "         -1.0175e-01,  2.3608e-01, -3.9307e-01, -5.5908e-02,  5.4150e-01,\n",
            "         -1.5198e-01, -9.1675e-02, -2.8955e-01,  3.9746e-01, -2.8809e-01,\n",
            "         -1.4563e-01, -1.2878e-01, -4.7852e-01,  2.9736e-01, -1.8555e-02,\n",
            "         -4.9951e-01,  1.6272e-01,  9.3079e-02,  2.1252e-01, -1.8945e-01,\n",
            "          5.1514e-01,  2.9199e-01, -3.8599e-01, -2.7246e-01, -1.1279e-01,\n",
            "         -1.6416e+00, -4.1431e-01,  7.5439e-01,  5.6445e-01, -3.4644e-01,\n",
            "          7.8064e-02,  2.0825e-01,  1.1823e-01,  2.0605e-01,  1.7566e-01,\n",
            "          2.5244e-01,  1.3538e-01, -1.7114e-01,  2.0483e-01, -4.2114e-01,\n",
            "         -2.9099e-02, -5.2197e-01, -2.7100e-02, -5.4245e-03, -7.2021e-02,\n",
            "          3.0200e-01, -6.4514e-02,  2.8638e-01,  4.8486e-01,  5.0278e-03,\n",
            "          3.8361e-02,  2.2205e-01,  1.8555e-02,  1.3440e-01, -2.4402e-01,\n",
            "          2.9224e-01, -2.2217e-01, -5.0110e-02,  5.3125e-01, -1.5335e-02,\n",
            "          3.9087e-01, -5.8105e-01, -1.5125e-01, -5.6610e-02, -5.5713e-01,\n",
            "          4.2725e-01,  5.2490e-01,  1.3039e-02, -3.7695e-01, -8.5999e-02,\n",
            "          6.7480e-01, -1.8140e-01, -2.7051e-01,  3.0664e-01,  3.2275e-01,\n",
            "          1.1340e-01, -1.0724e-01, -2.6587e-01, -5.9624e-03,  2.9639e-01,\n",
            "          1.4258e-01,  2.4146e-01,  2.0837e-01, -5.3027e-01,  1.5320e-02,\n",
            "         -4.3640e-02, -2.7808e-01,  2.9004e-01,  2.5684e-01,  4.1534e-02,\n",
            "         -2.3389e-01, -3.4595e-01, -5.9180e-01,  2.3181e-01, -1.8951e-02,\n",
            "          2.2583e-01,  2.4011e-01, -3.5449e-01, -4.9194e-02, -3.1665e-01,\n",
            "          3.4229e-01, -2.9602e-02,  4.2139e-01, -3.3813e-01,  9.3079e-02,\n",
            "         -1.8445e-01, -3.1982e-01, -3.3618e-01, -4.7424e-02, -6.3574e-01,\n",
            "          1.5356e-01,  1.8726e-01, -9.6777e-01,  1.0508e+00, -1.4539e-01,\n",
            "          5.1788e-02, -8.2031e-01,  2.5366e-01, -9.5068e-01, -4.7485e-01,\n",
            "          6.7236e-01,  3.7085e-01, -6.7676e-01, -4.8486e-01,  4.9170e-01,\n",
            "         -2.0117e-01,  2.1997e-01,  2.5317e-01,  2.1594e-01,  5.5566e-01,\n",
            "         -2.5903e-01, -2.2937e-01,  1.4978e-01, -4.6802e-01, -2.8027e-01,\n",
            "         -1.5417e-01, -7.9102e-01, -1.1566e-01,  4.9780e-01, -1.0742e-01,\n",
            "         -1.1494e+00,  2.5049e-01,  5.9235e-02,  6.4600e-01, -3.8647e-01,\n",
            "          1.6077e-01, -9.4219e+00,  7.1899e-02,  1.7358e-01, -2.5708e-01,\n",
            "          3.1952e-02, -1.1172e+00,  7.4805e-01, -9.6582e-01, -2.8735e-01,\n",
            "          3.1787e-01, -2.2986e-01, -3.7866e-01, -9.8938e-02,  2.9956e-01,\n",
            "          1.0052e-01,  5.5273e-01,  5.3027e-01,  1.5129e-02, -3.4424e-01,\n",
            "          2.8052e-01,  6.4453e-01, -3.8116e-02, -9.6741e-02,  1.0498e-01,\n",
            "         -4.6729e-01, -2.8662e-01,  3.8843e-01, -5.0446e-02, -2.4365e-01,\n",
            "          1.8494e-01,  3.5205e-01, -3.4277e-01,  1.3843e-01,  3.1396e-01,\n",
            "          5.3711e-01, -1.9592e-01, -1.6266e-02,  3.1104e-01,  4.9194e-02,\n",
            "          3.3496e-01,  4.2700e-01, -3.8428e-01,  4.4556e-01,  4.7412e-01,\n",
            "         -5.7422e-01, -6.9287e-01,  2.0764e-01,  1.7725e-01, -1.6040e-01,\n",
            "          9.5032e-02,  8.1836e-01, -5.7959e-01,  3.7012e-01,  4.0601e-01,\n",
            "         -3.1934e-01,  5.7275e-01,  3.2227e-01,  3.4766e-01, -2.6758e-01,\n",
            "         -7.4268e-01,  2.8613e-01,  2.5848e-02,  2.0068e-01,  2.8906e-01,\n",
            "          4.7168e-01, -7.8125e-02, -2.5244e-01, -3.2861e-01, -8.9905e-02,\n",
            "         -6.4575e-02,  5.1221e-01, -1.4587e-01,  1.7542e-01,  4.4274e-04,\n",
            "          1.9885e-01,  5.9418e-02,  2.0984e-01, -5.6299e-01, -4.5502e-02,\n",
            "          1.5259e-01, -5.5273e-01, -8.3594e-01, -4.3188e-01, -1.5369e-01,\n",
            "          4.9347e-02, -4.6899e-01,  1.9690e-01,  5.0098e-01,  1.0732e+00,\n",
            "          1.8127e-01,  3.8574e-01,  3.5278e-01, -3.5083e-01,  8.7036e-02,\n",
            "         -1.0553e-01,  2.3010e-01,  9.1016e-01, -1.0176e+00,  3.8239e-02,\n",
            "          7.7698e-02,  7.1960e-02, -6.7261e-02,  2.2095e-01, -4.7095e-01,\n",
            "         -1.0840e-01,  3.4131e-01, -4.4594e-03,  7.6233e-02,  2.6489e-01,\n",
            "          3.5889e-02,  8.9258e-01,  4.0796e-01,  4.0356e-01, -8.5815e-02,\n",
            "         -1.7749e-01,  2.6123e-01, -3.8971e-02, -4.0186e-01,  5.2734e-01,\n",
            "          1.1719e+00,  6.9873e-01, -2.8857e-01,  3.9856e-02, -1.9531e-01,\n",
            "          8.7109e+00,  3.9526e-01,  1.3599e-01, -6.9519e-02,  4.2847e-02,\n",
            "          6.6345e-02,  2.5439e-01,  7.7002e-01, -1.8909e-01,  2.4670e-01,\n",
            "          3.7842e-01,  4.1309e-01,  1.0830e+00,  9.2432e-01, -3.2764e-01,\n",
            "         -2.7417e-01, -3.6694e-01,  3.9771e-01, -1.0010e+00, -1.9836e-01,\n",
            "          5.3680e-02, -1.2012e-01,  6.2027e-03,  1.2830e-01, -4.4556e-01,\n",
            "         -3.9368e-02, -1.0388e-01, -3.0078e-01,  2.8906e-01,  1.8799e-01,\n",
            "         -1.8091e-01, -1.5417e-01, -2.5024e-01, -1.3867e-01,  6.9275e-02,\n",
            "          6.6032e-03,  2.9468e-01,  2.2925e-01, -1.5063e-01,  2.9004e-01,\n",
            "         -7.3425e-02,  3.8672e-01,  6.4270e-02,  4.3677e-01,  2.2083e-01,\n",
            "         -3.5815e-01,  7.3779e-01,  6.1005e-02,  1.3928e-01, -3.3081e-01,\n",
            "         -2.4255e-01,  1.8835e-01, -4.8291e-01, -3.0176e-01, -4.3115e-01,\n",
            "         -1.1163e-01, -4.3164e-01, -4.7778e-01,  1.9897e-01,  4.4281e-02,\n",
            "          9.7961e-02, -3.7476e-02,  3.2007e-01, -9.2773e-02, -5.1123e-01,\n",
            "         -4.9170e-01,  9.0408e-03, -3.2007e-01, -4.7656e-01,  7.6562e-01,\n",
            "         -1.9714e-01,  1.7456e-01, -3.3081e-01, -3.0542e-01, -4.2944e-01,\n",
            "         -1.5381e-01, -8.9111e-02, -1.8323e-01, -4.9854e-01,  8.9404e-01,\n",
            "          4.6118e-01,  2.1387e-01,  2.7612e-01,  4.1016e-01,  1.0510e-01,\n",
            "         -1.3818e-01,  1.6321e-01,  3.7769e-01, -1.8896e+00,  2.9517e-01,\n",
            "         -6.9238e-01,  6.7920e-01,  1.5588e-01,  5.2032e-03,  5.3809e-01,\n",
            "          4.9731e-01, -3.0933e-01,  4.2139e-01, -4.9463e-01, -4.4971e-01,\n",
            "         -4.4580e-01, -6.9618e-04, -5.8301e-01,  1.2061e-01, -7.0264e-01,\n",
            "         -3.8892e-01, -1.3940e-01, -3.0273e-01,  1.8433e-01,  7.2070e-01,\n",
            "          3.4839e-01, -6.0352e-01,  4.1699e-01,  1.9946e-01, -2.5684e-01,\n",
            "         -2.8052e-01, -1.0234e+00, -2.2791e-01, -4.0253e-02,  1.0223e-01,\n",
            "          5.3253e-02,  1.7419e-01, -4.3457e-01, -1.2732e-01,  4.2572e-02,\n",
            "          2.5610e-01,  6.4502e-01, -5.3662e-01,  2.3755e-01, -2.6978e-01,\n",
            "         -2.2290e-01, -6.1328e-01, -1.1536e-01,  7.9224e-02,  4.0723e-01,\n",
            "         -7.0435e-02,  1.0010e-01, -2.3486e-01,  6.5002e-02, -2.0093e-01,\n",
            "         -5.0635e-01,  7.4036e-02, -2.0044e-01, -3.1982e-01, -4.0991e-01,\n",
            "         -2.2607e-01,  5.6494e-01,  9.8389e-02, -2.5464e-01,  2.8345e-01,\n",
            "          2.9761e-01,  1.5112e-01, -5.4150e-01, -2.1692e-01, -6.5796e-02,\n",
            "          2.7716e-05,  3.5156e-01,  7.8430e-02,  9.3445e-02, -5.1788e-02,\n",
            "         -5.3467e-01, -2.8369e-01,  4.6173e-02,  3.5425e-01, -4.3823e-01,\n",
            "         -4.7656e-01, -8.3130e-02,  9.1162e-01,  3.7549e-01, -2.3633e-01,\n",
            "         -5.4840e-02,  1.9363e-02, -4.8096e-01, -4.6021e-01,  3.5767e-01,\n",
            "         -3.6499e-01,  3.8135e-01,  2.4536e-02,  3.0103e-01,  9.7473e-02,\n",
            "         -7.6233e-02, -3.3226e-03, -4.2358e-01, -4.9713e-02, -8.2910e-01,\n",
            "         -1.7981e-01, -5.6366e-02,  1.0907e-01, -5.2246e-01, -1.5222e-01,\n",
            "         -3.9233e-01,  1.0342e+00, -2.1289e-01,  3.2837e-01, -6.4209e-01,\n",
            "          4.1565e-02,  1.3428e-02,  2.2546e-01,  3.6792e-01, -4.1797e-01,\n",
            "         -1.0443e-01,  8.9014e-01, -5.3772e-02, -4.6802e-01,  1.0156e+00,\n",
            "         -6.9824e-02,  1.3550e-01, -3.5278e-01, -1.8152e-01, -2.6147e-01,\n",
            "         -1.4539e-01, -1.6113e-02,  4.8682e-01,  5.6549e-02, -4.9170e-01,\n",
            "          1.1163e-01, -3.9526e-01,  1.1253e-02,  1.9995e-01,  8.0762e-01,\n",
            "          3.1274e-01,  1.1682e-01, -6.7334e-01,  4.3408e-01, -3.9746e-01,\n",
            "         -2.4268e-01,  2.0654e-01,  9.2676e-01,  3.6102e-02,  2.0654e-01,\n",
            "          6.6309e-01,  2.8589e-01, -9.9609e-02, -2.9932e-01,  5.1904e-01,\n",
            "         -1.9299e-01,  6.1981e-02,  2.8369e-01, -3.6548e-01, -2.5375e-02,\n",
            "         -7.7637e-01, -3.7170e-02, -3.8635e-02,  2.5073e-01, -1.3464e-01,\n",
            "         -4.3854e-02,  3.7720e-01,  2.6099e-01,  1.0590e-01,  4.6478e-02,\n",
            "          6.4453e-01,  3.2544e-01, -4.7900e-01,  5.5511e-02,  1.9360e-01,\n",
            "         -2.8662e-01, -1.6052e-01, -1.0938e+00,  4.3365e-02,  3.0200e-01,\n",
            "          1.9760e-02, -3.3276e-01,  3.1250e-01, -7.8076e-01, -1.4990e-01,\n",
            "          4.0430e-01,  3.7183e-01, -2.9370e-01, -1.6541e-01, -2.7100e-01,\n",
            "         -3.2745e-02, -7.0740e-02,  4.0161e-01,  3.5254e-01,  3.3081e-01,\n",
            "         -7.0801e-02, -5.8008e-01,  7.9529e-02, -6.2061e-01,  2.1155e-01,\n",
            "          3.3398e-01,  4.6143e-01, -2.5586e-01, -8.5449e-01,  9.8096e-01,\n",
            "          5.7422e-01, -1.4685e-01, -6.5369e-02,  7.7588e-01,  3.7231e-01,\n",
            "         -5.1367e-01, -5.1270e-01, -2.2266e-01, -3.6548e-01, -1.7627e-01,\n",
            "          6.2646e-01,  2.5269e-02,  4.7638e-02,  5.0439e-01, -5.1697e-02,\n",
            "         -1.6370e-01, -2.6169e-02, -7.2363e-01,  1.1969e-03,  2.6172e-01,\n",
            "          3.4692e-01,  7.5098e-01,  1.4258e-01, -2.5848e-02,  8.0505e-02,\n",
            "         -3.1909e-01,  1.4856e-01,  2.9199e-01, -5.2881e-01,  1.7529e-01,\n",
            "         -1.3928e-01,  3.6719e-01,  5.2637e-01, -3.8916e-01, -9.4482e-02,\n",
            "          5.4590e-01, -5.9863e-01,  3.5986e-01,  2.5708e-01, -5.8057e-01,\n",
            "          2.2974e-01,  4.1382e-01,  1.6589e-01]], dtype=torch.float16), 'How many buildings are non flooded in this image?': tensor([[-2.5024e-01, -1.9043e-01,  7.0166e-01,  4.1968e-01, -2.1155e-01,\n",
            "         -4.0375e-02, -1.7969e-01, -1.5857e-01, -2.5244e-01,  3.0371e-01,\n",
            "          1.9885e-01, -6.6455e-01, -2.3767e-01, -6.5234e-01, -1.4062e-01,\n",
            "          3.7109e-01,  3.1763e-01, -1.6785e-01,  7.8735e-02, -2.9175e-01,\n",
            "          2.6416e-01,  3.2007e-01, -1.1084e-01,  6.5479e-01, -2.2571e-01,\n",
            "         -6.5918e-01, -1.1963e-01, -4.7070e-01,  8.2471e-01, -5.4718e-02,\n",
            "          2.0276e-01, -7.2174e-03,  1.4917e-01, -8.4912e-01, -9.0515e-02,\n",
            "          2.3718e-01,  2.9297e-02,  7.8308e-02, -1.6953e-02,  1.4563e-01,\n",
            "         -3.4790e-01, -5.9521e-01, -8.4131e-01, -3.3887e-01, -2.6758e-01,\n",
            "          8.8916e-01, -1.8567e-01,  5.7373e-01,  3.5522e-01, -1.5015e-01,\n",
            "         -2.2388e-01, -8.3203e-01,  4.2334e-01,  4.4165e-01, -3.5938e-01,\n",
            "         -7.3633e-01,  3.8306e-01,  3.3752e-02, -6.5527e-01, -2.7246e-01,\n",
            "          2.7197e-01, -2.3975e-01, -5.6836e-01,  5.1270e-01, -3.8281e-01,\n",
            "         -1.5894e-01, -1.7200e-01, -5.3223e-02,  1.3281e-01,  4.5435e-01,\n",
            "          2.1033e-01, -1.8176e-01, -1.6953e-02, -2.3853e-01,  1.1005e-03,\n",
            "         -6.7969e-01,  1.0986e-01,  3.5791e-01, -3.0005e-01, -2.8296e-01,\n",
            "         -1.7676e-01, -2.9102e-01, -2.6196e-01,  2.3730e-01,  4.6216e-01,\n",
            "         -5.0507e-02,  3.1769e-02, -3.3569e-01, -8.0225e-01, -2.8125e-01,\n",
            "          2.9370e-01,  5.7106e-03, -6.7482e-03, -2.1582e-01,  2.9883e-01,\n",
            "         -3.8086e-02, -3.1689e-01, -1.9440e-02, -8.2397e-02, -7.4023e-01,\n",
            "         -4.5215e-01, -1.8091e-01,  2.1558e-01,  3.4082e-01, -1.9446e-01,\n",
            "          4.3457e-01,  5.9692e-02,  3.8843e-01,  8.6572e-01,  6.6064e-01,\n",
            "         -4.5776e-02, -2.0032e-01, -4.9133e-03,  2.5513e-01,  1.9629e-01,\n",
            "         -4.8950e-01, -4.0894e-01, -3.9673e-01, -3.7109e-01,  2.2980e-02,\n",
            "         -3.0469e-01, -2.4304e-01,  8.7219e-02,  1.0156e-01,  1.0828e-01,\n",
            "          4.3286e-01, -6.2561e-02,  4.0308e-01,  1.2610e-01, -1.4563e-01,\n",
            "         -7.3291e-01,  3.1641e-01, -1.7432e-01,  1.2207e-01, -4.7900e-01,\n",
            "         -6.4551e-01, -3.4717e-01,  1.7822e-01,  1.6418e-01,  6.3428e-01,\n",
            "          5.1416e-01, -3.8635e-02,  7.0020e-01, -3.6597e-01,  5.1193e-03,\n",
            "         -1.1221e+00, -6.4087e-02,  7.4561e-01, -6.2451e-01, -2.0728e-01,\n",
            "         -1.3953e-01, -2.0300e-01, -3.6230e-01,  2.2168e-01,  3.5034e-02,\n",
            "         -8.3618e-02, -4.7028e-02,  1.3013e-01,  3.4155e-01, -5.7031e-01,\n",
            "         -3.4924e-03,  4.8920e-02,  5.3101e-02, -3.1934e-01, -1.8295e-02,\n",
            "          6.1554e-02, -2.9346e-01, -1.4246e-01,  7.3280e-03, -6.7969e-01,\n",
            "         -4.8737e-02,  1.2585e-01, -2.5073e-01, -2.8732e-02,  1.6479e-01,\n",
            "          8.2581e-02, -3.2153e-01, -1.7310e-01,  2.5244e-01, -3.5425e-01,\n",
            "         -2.7490e-01,  1.9760e-03, -3.3618e-01,  2.9956e-01, -9.3689e-02,\n",
            "         -6.7480e-01,  1.0522e-01,  5.0163e-03,  6.4270e-02, -4.5508e-01,\n",
            "          2.4707e-01,  8.1238e-02, -3.9136e-01, -2.8296e-01, -3.6377e-02,\n",
            "         -1.9531e+00, -3.6206e-01,  5.4199e-01,  6.6602e-01, -6.4111e-01,\n",
            "         -2.7930e-01,  4.3628e-01, -1.9116e-01, -4.4708e-02,  2.8976e-02,\n",
            "         -3.5362e-03,  1.4197e-01, -2.6001e-02, -4.8901e-01, -3.0005e-01,\n",
            "         -6.5308e-02, -5.1953e-01, -4.2432e-01, -1.7957e-01, -4.3579e-01,\n",
            "         -1.7151e-01,  7.0068e-02,  5.6152e-01,  3.8794e-01,  4.4263e-01,\n",
            "          2.5952e-01,  1.0193e-01,  2.0740e-01,  1.4587e-01,  2.2327e-01,\n",
            "          8.4473e-01, -4.4409e-01, -1.8726e-01,  1.3257e-01, -4.2773e-01,\n",
            "          2.5098e-01, -4.3604e-01, -7.9529e-02, -2.2412e-01, -8.2031e-01,\n",
            "          2.6978e-01, -2.8305e-02, -3.1067e-02, -2.5488e-01,  2.6831e-01,\n",
            "          5.6641e-01, -5.8929e-02, -2.4707e-01,  1.4685e-01,  4.2511e-02,\n",
            "          2.6538e-01, -3.8257e-01,  3.8574e-02,  3.2139e-03,  5.9180e-01,\n",
            "         -4.1260e-02, -3.8232e-01,  2.8760e-01, -3.9941e-01,  9.0515e-02,\n",
            "          9.2224e-02, -1.8079e-01,  5.3711e-01,  2.1301e-01, -3.4546e-01,\n",
            "         -4.0015e-01, -3.9697e-01, -4.5093e-01, -1.5640e-02, -1.3513e-01,\n",
            "          9.5886e-02, -3.9093e-02, -3.1152e-01,  6.2927e-02, -1.9910e-01,\n",
            "         -7.2571e-02,  4.5190e-01,  3.1201e-01, -4.1534e-02, -1.5552e-01,\n",
            "         -3.8599e-01, -2.8906e-01, -2.8125e-01, -2.4304e-01, -2.7881e-01,\n",
            "         -1.2659e-01,  2.2839e-01, -8.3057e-01,  5.6396e-01, -1.2146e-01,\n",
            "          2.0126e-02, -8.9014e-01,  3.8672e-01, -1.3066e+00, -2.0764e-01,\n",
            "         -7.0312e-02,  1.7136e-02, -4.6851e-01, -7.8271e-01, -1.8478e-02,\n",
            "          3.1689e-01,  1.7773e-01, -1.3977e-01,  1.8280e-02,  3.5767e-02,\n",
            "         -3.3569e-01, -3.2837e-01,  6.3867e-01, -3.5474e-01,  3.9258e-01,\n",
            "          1.1090e-01, -7.1533e-01, -5.3955e-01,  5.7793e-04,  8.9188e-03,\n",
            "         -8.2764e-01,  4.2114e-01, -2.3499e-01,  8.8916e-01, -2.6440e-01,\n",
            "         -3.6133e-02, -9.1797e+00,  2.3853e-01,  1.4551e-01, -2.1912e-01,\n",
            "          2.3816e-01, -8.1689e-01,  1.1562e+00, -3.5693e-01, -1.5723e-01,\n",
            "          5.9229e-01, -5.0537e-01, -5.3955e-01,  3.1177e-01,  2.7490e-01,\n",
            "          1.2549e-01,  4.9707e-01,  5.4590e-01,  1.6998e-02, -4.5117e-01,\n",
            "          4.3384e-01,  5.0195e-01, -6.1768e-02,  2.0599e-02,  1.1481e-01,\n",
            "         -4.4312e-01, -2.2278e-01,  2.3608e-01, -2.9248e-01, -2.3956e-02,\n",
            "         -6.4819e-02, -6.2042e-02, -8.5022e-02,  8.6816e-01,  6.6455e-01,\n",
            "          5.4541e-01, -1.1798e-01, -3.5645e-01,  3.6841e-01,  2.7612e-01,\n",
            "         -1.5295e-01,  3.2983e-01, -6.3110e-02,  3.0054e-01,  6.4404e-01,\n",
            "         -2.8198e-01, -6.8115e-01, -1.0596e-01, -5.0018e-02, -7.5256e-02,\n",
            "          6.5063e-02, -9.2529e-02, -5.1807e-01,  6.2891e-01,  3.0786e-01,\n",
            "         -4.4653e-01,  1.1191e+00, -2.2266e-01, -4.4739e-02,  2.5253e-02,\n",
            "         -6.5186e-01, -2.7930e-01,  1.3153e-02, -3.4131e-01,  3.2446e-01,\n",
            "          2.3987e-01, -5.1308e-03, -1.3721e-01, -4.3152e-02, -6.3330e-01,\n",
            "         -1.5808e-01,  9.8511e-02,  1.9507e-01,  3.7036e-01,  7.5562e-02,\n",
            "          4.1382e-02, -1.2903e-01,  1.2793e-01, -3.4973e-02,  5.6982e-01,\n",
            "         -7.5928e-02, -5.0293e-01, -1.1123e+00, -5.3162e-02,  4.6924e-01,\n",
            "         -2.6050e-01, -8.0017e-02,  6.4331e-02,  5.1025e-01,  1.3301e+00,\n",
            "          3.0420e-01,  1.0358e-01,  1.0449e-01, -3.2886e-01,  1.7542e-01,\n",
            "         -5.8136e-02, -2.5562e-01,  1.2490e+00, -1.0312e+00, -1.3232e-01,\n",
            "         -1.3940e-01, -6.5186e-02,  1.5796e-01,  4.3164e-01, -2.8052e-01,\n",
            "         -2.0728e-01, -1.5228e-02, -8.2703e-02,  6.1816e-01,  5.7764e-01,\n",
            "         -9.0271e-02,  3.5010e-01,  5.3174e-01,  1.1084e-01, -1.9067e-01,\n",
            "          1.0754e-01,  2.2485e-01, -7.1533e-02, -4.6411e-01, -2.0046e-03,\n",
            "          9.5605e-01,  1.8237e-01, -2.8223e-01,  2.5299e-02,  3.3716e-01,\n",
            "          8.3438e+00,  2.4524e-01,  8.8379e-02,  3.0371e-01, -2.9590e-01,\n",
            "         -4.1113e-01,  4.3506e-01,  4.9731e-01, -2.2937e-01, -1.1804e-01,\n",
            "          4.6021e-01,  4.1040e-01,  9.2188e-01,  9.6045e-01, -1.0236e-01,\n",
            "         -5.8984e-01,  4.4983e-02,  8.4766e-01, -1.1260e+00,  1.7590e-01,\n",
            "         -1.1621e-01,  1.3892e-01,  2.5848e-02, -1.1566e-01, -4.8447e-03,\n",
            "         -1.2183e-01,  3.0273e-01, -2.9492e-01,  2.4316e-01,  5.0684e-01,\n",
            "         -1.1511e-01,  3.3173e-02,  8.8196e-03, -1.9482e-01, -3.5913e-01,\n",
            "          1.2915e-01,  2.4182e-01, -3.4668e-01, -7.6782e-02,  4.7656e-01,\n",
            "          3.0914e-02,  4.2871e-01, -6.7749e-02,  1.4844e-01,  4.5679e-01,\n",
            "         -5.2490e-01,  3.7500e-01, -7.2754e-02, -1.3382e-02, -6.6504e-01,\n",
            "         -1.2280e-01,  2.1606e-01, -6.4014e-01, -9.8584e-01, -6.7090e-01,\n",
            "         -6.4697e-01,  9.6558e-02, -3.6670e-01, -1.9385e-01, -2.2571e-01,\n",
            "          2.3596e-01,  2.7051e-01,  2.4268e-01,  2.8931e-01, -5.3320e-01,\n",
            "         -2.9932e-01,  1.7932e-01, -4.1885e-03, -2.9639e-01,  4.1016e-01,\n",
            "          3.1494e-01, -5.3436e-02, -3.3276e-01, -3.7915e-01, -1.4001e-01,\n",
            "         -4.6582e-01, -5.2002e-01, -5.2185e-02, -9.5398e-02,  7.1045e-01,\n",
            "          2.3267e-01,  1.0986e-01, -7.3853e-02,  2.5879e-01,  4.8364e-01,\n",
            "         -5.4077e-02,  2.6855e-02,  1.2500e-01, -1.2285e+00,  2.9541e-01,\n",
            "         -1.8115e-01,  4.0405e-02, -3.3105e-01,  6.2695e-01,  7.5732e-01,\n",
            "          3.8354e-01, -1.1279e-01,  3.0298e-01, -4.5996e-01, -1.5820e-01,\n",
            "         -3.9917e-01, -8.4412e-02, -4.9780e-01,  1.4661e-01, -1.2607e+00,\n",
            "         -4.9341e-01, -2.4780e-02, -2.8442e-01, -1.2354e-01,  4.1333e-01,\n",
            "          4.0942e-01, -3.7427e-01,  3.4497e-01,  4.6753e-01,  3.1494e-02,\n",
            "         -1.0150e-01, -1.3105e+00, -2.9037e-02, -4.3994e-01, -2.0615e-02,\n",
            "         -5.4297e-01,  2.5830e-01, -4.3237e-01, -5.3139e-03, -4.1138e-02,\n",
            "          2.8442e-01,  5.8398e-01, -1.0430e+00,  4.1309e-01, -2.0170e-04,\n",
            "          9.2468e-02, -7.6855e-01, -4.4897e-01,  1.2103e-01,  6.3867e-01,\n",
            "          4.9255e-02, -7.8369e-02,  9.6130e-02,  3.4570e-01, -8.9264e-03,\n",
            "         -3.6670e-01, -6.1951e-02, -1.8311e-01, -2.0947e-01, -3.0472e-02,\n",
            "          2.1460e-01,  1.5320e-01,  4.6118e-01, -5.1611e-01,  6.8665e-02,\n",
            "          1.8579e-01,  2.3755e-01, -5.1074e-01, -4.9390e-01, -3.2739e-01,\n",
            "          7.3242e-02,  5.3857e-01, -2.0288e-01,  1.8799e-02,  7.3975e-02,\n",
            "         -2.7319e-01, -6.8481e-02,  5.1318e-01,  3.1812e-01, -1.0126e-01,\n",
            "         -5.3760e-01,  2.9224e-01,  5.9277e-01,  2.4475e-01, -3.6865e-01,\n",
            "         -3.3691e-02, -1.4343e-01, -4.8267e-01, -7.5342e-01,  3.0566e-01,\n",
            "         -5.6982e-01, -7.8552e-02, -5.6738e-01, -5.1208e-02,  3.1921e-02,\n",
            "          1.6736e-01, -2.7734e-01, -3.0981e-01, -2.1350e-01, -7.0312e-01,\n",
            "         -5.8838e-01, -3.8354e-01,  1.1551e-02, -4.6729e-01,  1.8835e-01,\n",
            "         -8.0273e-01,  9.1602e-01, -4.0137e-01,  1.9824e-01, -3.0469e-01,\n",
            "          1.6248e-01,  1.5540e-01,  2.8418e-01,  4.9976e-01, -4.0863e-02,\n",
            "         -1.5039e-01,  2.1008e-01,  9.2712e-02, -1.0371e+00,  1.0264e+00,\n",
            "          1.6626e-01, -2.6196e-01, -1.5808e-01, -4.5502e-02, -7.0361e-01,\n",
            "          1.1346e-01,  3.3374e-01,  4.6606e-01, -2.1155e-01, -2.3193e-01,\n",
            "         -2.0728e-01, -3.0542e-01, -7.0190e-02,  2.8900e-02,  4.5654e-01,\n",
            "          3.1421e-01,  6.8066e-01, -2.5562e-01, -3.0182e-02,  1.4746e-01,\n",
            "         -5.4980e-01,  1.8408e-01,  9.8779e-01,  2.2583e-01,  3.2593e-01,\n",
            "          5.0830e-01,  3.3813e-01, -2.8857e-01, -5.6982e-01,  2.2119e-01,\n",
            "         -4.5312e-01, -1.2494e-01, -1.4258e-01, -3.2715e-01,  2.0520e-01,\n",
            "         -8.1445e-01,  3.6133e-01, -2.8125e-01,  3.7573e-01,  2.1216e-01,\n",
            "         -2.6538e-01,  6.5088e-01,  4.4861e-02, -1.5149e-01,  3.7036e-01,\n",
            "          6.3916e-01,  3.2007e-01, -2.2107e-01,  1.8799e-01,  2.3242e-01,\n",
            "         -5.3076e-01,  3.5736e-02, -6.8701e-01,  4.3640e-03,  1.0284e-01,\n",
            "          1.3403e-01, -1.2469e-01,  9.6741e-02, -6.8604e-01, -5.0598e-02,\n",
            "          4.7168e-01,  1.1127e-01, -3.4888e-01, -1.6724e-01,  3.2074e-02,\n",
            "          3.0957e-01,  4.1479e-01, -2.5806e-01,  3.0469e-01,  7.7490e-01,\n",
            "          3.0737e-01, -1.2500e-01, -2.1973e-01, -7.8760e-01, -2.8931e-02,\n",
            "         -2.7197e-01,  3.5376e-01, -1.9913e-02, -1.0410e+00,  1.1436e+00,\n",
            "          2.1045e-01, -4.4409e-01, -2.1896e-02,  3.2739e-01,  5.1172e-01,\n",
            "          4.3915e-02, -6.9580e-02, -4.8193e-01, -4.5654e-01, -4.6216e-01,\n",
            "          2.2681e-01,  1.3501e-01,  4.2896e-01,  3.6377e-01, -3.0225e-01,\n",
            "         -2.4927e-01, -3.6523e-01, -4.9707e-01,  1.2134e-01,  7.9443e-01,\n",
            "          2.6440e-01,  5.8594e-01,  1.5649e-01,  8.0750e-02,  6.6223e-02,\n",
            "          1.7493e-01, -1.7700e-01,  3.6108e-01, -2.5171e-01,  4.6313e-01,\n",
            "          9.4055e-02,  1.2177e-01,  4.4531e-01, -6.7078e-02,  1.7578e-01,\n",
            "          8.2910e-01, -9.8730e-01,  8.2275e-01,  1.9263e-01, -6.0449e-01,\n",
            "          1.9202e-01,  9.9670e-02, -2.0203e-01]], dtype=torch.float16), 'How many buildings are non flooded?': tensor([[-2.9419e-01, -9.3323e-02,  5.2637e-01,  2.8223e-01, -3.1836e-01,\n",
            "          5.4932e-02, -4.5630e-01, -3.9673e-01, -2.0215e-01,  6.5771e-01,\n",
            "          1.9800e-01, -3.0396e-01, -4.5319e-03, -7.8809e-01, -4.2651e-01,\n",
            "          4.2944e-01,  1.2439e-01, -1.2866e-01,  1.2671e-01, -2.8687e-01,\n",
            "         -1.9910e-01,  8.6731e-02, -9.5886e-02,  5.3027e-01,  6.0364e-02,\n",
            "         -4.7925e-01,  3.0737e-01, -4.5204e-03,  5.7568e-01,  1.6443e-01,\n",
            "          5.1941e-02,  1.0645e-01, -1.1055e-02, -9.9121e-01, -3.6353e-01,\n",
            "          2.2339e-01, -3.5132e-01,  2.7686e-01, -1.8646e-02, -1.3745e-01,\n",
            "         -6.8506e-01, -7.0850e-01, -5.8838e-01, -3.2886e-01, -8.1848e-02,\n",
            "          6.8604e-01, -9.9365e-02,  3.6475e-01,  1.9409e-01, -2.0007e-01,\n",
            "         -3.3545e-01, -4.1968e-01,  6.9885e-02,  6.6846e-01,  7.9773e-02,\n",
            "         -3.7085e-01,  3.7231e-01,  2.7124e-01, -7.4268e-01, -2.8174e-01,\n",
            "          5.0537e-01,  3.6279e-01, -2.4524e-01,  4.3433e-01, -4.1406e-01,\n",
            "         -5.7031e-01, -1.9092e-01,  1.3098e-01,  1.5820e-01,  3.1592e-01,\n",
            "          9.3811e-02, -6.9031e-02, -1.5784e-01, -1.2195e-01,  6.6833e-02,\n",
            "         -6.6553e-01,  1.6846e-02,  4.5654e-01, -5.7520e-01, -4.9658e-01,\n",
            "          8.3847e-03,  1.3428e-01, -5.3369e-01,  3.3618e-01,  1.0266e-01,\n",
            "          7.7637e-02, -1.7456e-01, -2.2180e-01, -4.7388e-01, -1.0278e-01,\n",
            "         -2.0740e-01, -7.8613e-02, -1.7883e-02, -2.6047e-02,  3.9062e-01,\n",
            "         -3.5181e-01, -9.5032e-02,  6.6833e-02,  2.4658e-01, -4.7778e-01,\n",
            "          5.5084e-02, -3.0197e-02,  3.1909e-01,  2.5146e-01, -4.4971e-01,\n",
            "          1.5015e-01, -1.1743e-01,  5.1172e-01,  6.7188e-01,  2.4219e-01,\n",
            "         -2.1521e-01, -3.1714e-01, -1.5332e-01,  1.7346e-01,  4.8267e-01,\n",
            "         -1.9250e-01, -2.4829e-01,  7.4524e-02, -3.8867e-01, -2.5284e-02,\n",
            "         -1.9275e-01, -4.2407e-01, -9.7847e-04,  9.7412e-02,  3.8471e-03,\n",
            "         -8.6975e-03,  3.0322e-01,  8.8257e-02, -7.0007e-02, -6.1493e-02,\n",
            "         -9.4434e-01, -1.8689e-01, -2.4490e-02, -6.4453e-02, -6.9287e-01,\n",
            "         -5.4248e-01,  6.0333e-02,  3.8037e-01, -1.1053e-01,  7.3145e-01,\n",
            "          6.0059e-01,  5.6335e-02,  2.4634e-01, -4.0405e-01,  2.6367e-01,\n",
            "         -7.7734e-01,  3.4448e-01,  4.6997e-01, -7.4512e-01, -2.3669e-01,\n",
            "         -2.6978e-01, -1.6040e-01, -4.8901e-01,  5.8057e-01,  2.4670e-01,\n",
            "         -7.5684e-02, -7.7698e-02, -1.3037e-01,  5.7422e-01, -5.7422e-01,\n",
            "          1.8784e-02,  3.4717e-01,  2.5903e-01, -5.4053e-01,  4.4507e-01,\n",
            "         -1.9104e-02, -6.4392e-03,  3.1909e-01, -3.3350e-01, -1.2305e-01,\n",
            "          7.1716e-02,  2.7612e-01, -2.3645e-01,  1.9934e-01,  1.3416e-01,\n",
            "         -2.4243e-01, -5.5713e-01,  7.2998e-02, -2.0996e-01, -5.5713e-01,\n",
            "         -5.4736e-01,  2.5830e-01, -2.8125e-01,  5.4346e-01, -3.5986e-01,\n",
            "         -5.1855e-01,  4.3249e-04, -8.7646e-02, -4.3555e-01, -5.2441e-01,\n",
            "          2.9028e-01,  1.4197e-01, -3.5376e-01,  1.5625e-01, -1.3013e-01,\n",
            "         -2.8535e+00, -2.5830e-01,  4.4312e-01,  5.2197e-01, -7.1729e-01,\n",
            "         -3.5669e-01,  8.4473e-01, -4.6167e-01, -2.1484e-01,  9.3018e-02,\n",
            "          1.7920e-01,  3.5547e-01,  5.1697e-02, -8.7451e-01,  1.0266e-01,\n",
            "          1.2927e-01, -2.1387e-01, -4.8553e-02, -5.0049e-02, -6.7920e-01,\n",
            "         -3.1348e-01, -1.3428e-01,  5.9967e-02,  3.3569e-01,  4.2725e-01,\n",
            "          1.6394e-01, -5.8655e-02,  3.9746e-01,  1.8457e-01, -1.4258e-01,\n",
            "          8.9062e-01, -3.0688e-01, -2.3746e-03, -3.7872e-02, -2.5146e-01,\n",
            "          7.2266e-02,  1.9751e-01,  2.3120e-01, -5.9668e-01, -8.6230e-01,\n",
            "          3.1885e-01,  3.1519e-01,  3.2520e-01, -1.7227e-02,  5.4492e-01,\n",
            "          7.2119e-01, -2.8467e-01,  2.4017e-02,  1.2305e-01,  7.2876e-02,\n",
            "          8.5510e-02, -9.1797e-02, -1.2732e-01, -1.6919e-01,  3.7842e-01,\n",
            "         -5.3369e-01, -3.4375e-01,  7.2861e-03, -5.6787e-01, -4.9639e-04,\n",
            "         -1.9180e-02,  1.7212e-01,  5.8154e-01,  2.1619e-01, -1.3403e-01,\n",
            "         -1.0254e-01, -2.4976e-01, -3.4253e-01, -3.2300e-01, -4.1675e-01,\n",
            "          9.4604e-02,  1.2802e-02,  1.3268e-02,  8.4106e-02, -1.2109e-01,\n",
            "         -1.8958e-01,  8.6035e-01, -7.8857e-02,  8.5083e-02, -4.4067e-01,\n",
            "         -1.5540e-01, -5.0140e-02,  1.3257e-01, -1.3782e-01,  2.8076e-01,\n",
            "         -2.0618e-01,  1.0332e+00, -1.2646e+00,  7.5195e-02, -3.5187e-02,\n",
            "         -1.5027e-01, -1.0479e+00,  3.5986e-01, -2.4102e+00, -2.9834e-01,\n",
            "         -3.6621e-02, -1.0431e-01, -3.4424e-01, -4.5459e-01, -1.6846e-01,\n",
            "          1.7227e-02,  3.8965e-01, -3.1079e-01,  2.7051e-01,  1.9543e-01,\n",
            "         -8.6731e-02, -3.4155e-01,  5.9863e-01, -1.2537e-01,  4.0845e-01,\n",
            "          3.7231e-01, -4.8340e-01, -7.5439e-01, -1.5771e-01, -2.4658e-01,\n",
            "         -4.4141e-01, -1.1548e-01,  1.0645e-01,  7.3242e-01, -2.4719e-01,\n",
            "         -5.0635e-01, -1.0195e+01,  3.8525e-01,  4.8561e-03, -9.4238e-02,\n",
            "          1.8823e-01, -4.4360e-01,  8.7549e-01, -4.5288e-01, -1.7932e-01,\n",
            "          2.9907e-01, -2.8882e-01,  6.4697e-02,  1.5503e-01, -1.9116e-01,\n",
            "         -1.5894e-01,  3.6450e-01,  2.7075e-01,  1.7676e-01, -3.9215e-03,\n",
            "          3.8086e-01,  3.8818e-01,  2.2534e-01,  5.2734e-01,  1.0376e-02,\n",
            "          1.4612e-01, -2.3999e-01,  1.4526e-01, -2.7695e-02,  5.1514e-01,\n",
            "         -1.6980e-01,  2.4707e-01, -5.5603e-02,  6.5381e-01,  7.0215e-01,\n",
            "          4.4360e-01,  2.0520e-01,  2.9053e-01,  2.1338e-01,  5.2979e-01,\n",
            "         -1.6626e-01,  2.8003e-01, -2.8467e-01,  2.5146e-01,  6.7139e-02,\n",
            "          3.6353e-01, -8.2471e-01, -3.3032e-01, -3.6597e-01, -4.3823e-02,\n",
            "         -2.5684e-01, -3.8696e-01, -3.5547e-01,  4.3066e-01,  4.0356e-01,\n",
            "         -4.8218e-01,  1.2295e+00, -4.5752e-01, -1.1330e-03,  3.0838e-02,\n",
            "         -7.9102e-02, -3.3081e-01, -4.2529e-01, -2.3889e-01, -1.6235e-01,\n",
            "         -4.8340e-01,  1.5002e-01, -1.1890e-01,  5.1025e-02, -5.2930e-01,\n",
            "         -3.2593e-01,  9.4757e-03,  9.2590e-02,  5.2100e-01,  2.1960e-01,\n",
            "         -2.0398e-01, -2.8687e-01, -8.0688e-02,  1.2634e-01,  8.0762e-01,\n",
            "         -1.9824e-01, -5.2734e-01, -4.5532e-01,  5.2582e-02,  6.2939e-01,\n",
            "         -4.9463e-01, -2.4426e-01,  3.6353e-01,  4.9072e-01,  4.1309e-01,\n",
            "          2.8589e-01, -1.2830e-01,  2.8394e-01, -2.4731e-01, -3.7170e-02,\n",
            "          2.8931e-02, -2.9834e-01,  8.5205e-01, -1.3184e+00,  7.7209e-02,\n",
            "         -1.7773e-01, -4.0332e-01,  6.4209e-02,  2.6953e-01, -1.8237e-01,\n",
            "         -1.6699e-03, -1.3939e-02,  4.4556e-02,  1.5161e-01,  4.7534e-01,\n",
            "          4.2114e-02,  5.5713e-01,  4.7412e-01, -9.4299e-02,  2.9068e-02,\n",
            "         -9.5886e-02,  2.6807e-01,  2.0435e-01, -4.9268e-01, -1.6211e-01,\n",
            "          7.8711e-01,  1.7151e-01, -5.9937e-02, -5.6366e-02,  5.8838e-01,\n",
            "          8.7578e+00, -3.1128e-01,  4.7168e-01,  1.5747e-01, -4.1748e-01,\n",
            "         -5.9082e-01,  4.7217e-01,  2.1899e-01, -6.1816e-01,  1.6150e-01,\n",
            "         -2.4915e-01,  1.4771e-01,  6.4648e-01,  6.6846e-01, -2.1680e-01,\n",
            "         -3.5352e-01,  1.6675e-01,  4.1943e-01, -1.3252e+00,  2.9468e-01,\n",
            "         -1.9287e-02,  2.9297e-01,  9.6375e-02, -5.0244e-01,  1.5125e-01,\n",
            "          2.3511e-01,  7.0435e-02, -5.5518e-01,  2.2327e-01,  8.6865e-01,\n",
            "          1.5137e-01, -2.8320e-02,  1.8982e-01, -1.7590e-01, -1.2903e-01,\n",
            "         -2.0935e-01, -2.6343e-01, -2.5903e-01, -3.0884e-01,  7.8857e-01,\n",
            "          1.2854e-01,  2.5317e-01, -2.1008e-01,  2.1216e-01,  4.1772e-01,\n",
            "         -7.3730e-01,  2.2888e-01, -2.8687e-01,  3.2031e-01, -2.4182e-01,\n",
            "         -4.1008e-03,  3.9429e-01, -6.4111e-01, -9.0820e-01, -2.3596e-01,\n",
            "         -4.6509e-01,  6.0181e-02, -1.2402e-01, -4.3701e-01, -3.0811e-01,\n",
            "          6.0486e-02,  3.6011e-01,  3.2642e-01,  2.0703e-01, -1.9531e-01,\n",
            "         -3.0249e-01,  3.7500e-01,  1.1554e-01, -9.1125e-02, -1.0309e-01,\n",
            "          1.6492e-01, -2.5195e-01, -3.4692e-01, -1.8054e-01, -3.7048e-02,\n",
            "         -5.0928e-01, -4.8535e-01, -4.5624e-02, -5.2826e-02,  5.7520e-01,\n",
            "         -3.4570e-01,  3.5449e-01, -1.8066e-02,  7.3357e-03,  7.4902e-01,\n",
            "          9.8389e-02, -1.1823e-01, -1.2549e-01, -5.7422e-01,  6.7017e-02,\n",
            "          3.2013e-02,  1.9556e-01, -4.7217e-01,  5.3027e-01,  4.9854e-01,\n",
            "          3.5980e-02, -2.1572e-03, -6.1310e-02, -1.2708e-01, -2.0898e-01,\n",
            "         -3.6597e-01, -1.9763e-01, -2.4341e-01,  1.7822e-02, -1.0156e+00,\n",
            "         -8.9661e-02,  7.9956e-02,  1.4502e-01,  1.8677e-01,  3.2104e-01,\n",
            "          4.9756e-01, -1.4270e-01,  5.1904e-01,  4.7632e-01, -5.5817e-02,\n",
            "          2.9510e-02, -1.3789e+00, -6.1035e-01, -4.6191e-01,  8.4381e-03,\n",
            "         -8.2910e-01,  5.1880e-02,  2.1729e-01, -2.1957e-02,  1.3733e-01,\n",
            "         -6.6101e-02,  5.4102e-01, -7.7588e-01,  3.1787e-01, -1.0529e-01,\n",
            "          6.5430e-02, -4.3188e-01, -4.5361e-01,  3.1641e-01,  4.0015e-01,\n",
            "          2.1069e-01, -3.5767e-01,  6.7261e-02,  4.5264e-01,  1.4417e-01,\n",
            "         -2.8149e-01, -2.5977e-01, -1.0309e-01,  9.3567e-02, -4.4678e-01,\n",
            "          2.4561e-01, -9.9945e-03,  6.6504e-01, -9.7754e-01, -1.5625e-01,\n",
            "          4.8706e-01,  1.2720e-01, -4.2383e-01, -2.8540e-01, -3.5278e-01,\n",
            "         -2.5098e-01,  4.4702e-01, -6.2891e-01, -8.3847e-03, -9.7473e-02,\n",
            "         -1.1597e-01, -1.7957e-01,  3.3569e-01, -1.9849e-01, -7.5623e-02,\n",
            "         -1.1895e+00,  3.6914e-01,  3.7646e-01,  3.6987e-01, -3.0811e-01,\n",
            "          6.2195e-02, -1.4624e-01, -4.5459e-01, -6.6357e-01, -2.2876e-01,\n",
            "         -6.4209e-01, -7.1777e-02, -6.6309e-01, -3.9551e-02,  1.2085e-02,\n",
            "          7.2510e-01, -3.3765e-01, -2.8320e-01, -5.5127e-01, -6.4453e-01,\n",
            "         -4.9243e-01, -3.6041e-02, -1.1371e-01, -3.4424e-01,  6.1426e-01,\n",
            "         -3.4741e-01,  5.5127e-01, -7.2363e-01,  8.7158e-02,  2.6660e-01,\n",
            "          8.4991e-03,  1.3538e-01,  4.2432e-01,  5.7422e-01,  1.3757e-01,\n",
            "         -1.7908e-01, -1.0797e-01, -1.3535e-02, -6.3818e-01,  1.3115e+00,\n",
            "         -1.0614e-01, -9.4299e-02, -5.0903e-02, -3.5305e-03, -2.1704e-01,\n",
            "          4.1528e-01,  3.7305e-01, -2.5635e-03,  7.1960e-02, -1.8469e-01,\n",
            "         -2.6611e-01,  2.9053e-01,  9.3689e-02,  2.3584e-01,  9.3994e-02,\n",
            "          2.4280e-01,  7.3193e-01,  2.9663e-01, -3.5132e-01, -1.2482e-01,\n",
            "         -2.6636e-01, -2.7856e-01,  1.0078e+00,  3.6816e-01,  3.8379e-01,\n",
            "         -4.1473e-02,  1.9543e-01, -2.9736e-01, -3.4717e-01, -1.3501e-01,\n",
            "         -3.1885e-01, -5.5664e-02, -6.6504e-01, -2.4170e-01,  2.6196e-01,\n",
            "         -5.1611e-01,  3.4863e-01, -1.8396e-01,  3.1641e-01,  2.3645e-01,\n",
            "         -1.5991e-01,  7.3389e-01, -7.5607e-03, -2.5439e-01, -1.6272e-01,\n",
            "          8.3252e-01, -4.0332e-01,  1.0999e-01,  1.1334e-01,  7.3364e-02,\n",
            "         -2.1533e-01,  6.4893e-01, -3.2886e-01, -8.1848e-02, -3.5217e-02,\n",
            "          4.4849e-01,  2.7856e-01,  1.6943e-01, -8.6426e-01, -2.4768e-01,\n",
            "          3.9941e-01, -1.0565e-01, -1.2317e-01, -3.6206e-01,  1.1115e-01,\n",
            "          2.8394e-01,  3.8647e-01, -2.9053e-01, -1.1340e-01,  5.0928e-01,\n",
            "          6.2451e-01,  1.1298e-01, -4.1772e-01, -5.2979e-01, -1.7944e-01,\n",
            "         -5.7129e-01,  5.2002e-02,  1.5710e-01, -8.8232e-01,  5.5518e-01,\n",
            "         -1.9287e-01, -5.6250e-01, -6.5491e-02,  2.5488e-01,  3.3789e-01,\n",
            "         -2.0435e-01, -5.6061e-02, -3.2642e-01, -3.5059e-01, -4.8584e-01,\n",
            "         -2.3645e-01,  1.2550e-02,  7.9443e-01, -5.1514e-02, -5.1025e-01,\n",
            "          2.5940e-03, -2.6880e-01, -2.9517e-01, -2.1143e-01,  7.8662e-01,\n",
            "          1.4026e-01,  3.3081e-01, -1.9806e-02, -1.2195e-01, -1.8176e-01,\n",
            "          1.1792e-01, -3.3301e-01,  4.4434e-01,  1.0192e-05,  3.8770e-01,\n",
            "          3.7140e-02,  2.5708e-01,  2.7649e-02,  1.5759e-01,  5.8533e-02,\n",
            "          7.4561e-01, -9.0723e-01,  6.5771e-01, -4.6289e-01, -4.1919e-01,\n",
            "          1.5906e-01, -1.1768e-01, -3.3057e-01]], dtype=torch.float16), 'How many buildings can be seen in the image?': tensor([[-5.5957e-01,  4.6722e-02,  6.7725e-01,  1.0459e+00, -1.1658e-01,\n",
            "          1.7847e-01, -2.9810e-01,  2.3792e-01, -3.0859e-01, -1.7102e-01,\n",
            "         -2.6538e-01, -5.0000e-01, -2.9175e-01, -3.7134e-01, -3.3105e-01,\n",
            "          1.6345e-01,  4.5386e-01, -4.2456e-01, -3.0014e-02, -5.3125e-01,\n",
            "          7.8906e-01,  2.0190e-01, -1.1896e-01,  9.0430e-01,  2.0386e-01,\n",
            "         -2.1094e-01, -7.3828e-01, -4.6338e-01,  5.0977e-01,  1.8616e-01,\n",
            "         -1.2184e-02,  6.1768e-01,  2.3384e-03, -9.0137e-01, -2.9736e-01,\n",
            "         -6.5857e-02,  8.6365e-02, -2.4561e-01, -1.9910e-01,  2.3962e-01,\n",
            "         -1.4648e-01, -3.4399e-01, -4.7607e-01, -2.9370e-01, -3.8110e-01,\n",
            "          6.4746e-01, -5.2246e-02,  1.2439e-01,  7.0020e-01, -2.3669e-01,\n",
            "         -1.2476e-01, -5.6152e-01,  4.7803e-01,  4.0137e-01, -4.5068e-01,\n",
            "         -5.1270e-01,  2.1411e-01,  6.8665e-02, -8.0322e-02, -3.8989e-01,\n",
            "          6.8359e-02, -1.2927e-01, -8.8037e-01,  6.5088e-01, -3.2495e-01,\n",
            "         -6.2866e-02, -2.0459e-01,  1.5430e-01, -2.1082e-01, -3.0960e-02,\n",
            "          5.8496e-01, -1.7297e-01, -1.3684e-01, -7.1729e-01,  2.8247e-01,\n",
            "         -5.0586e-01,  2.8247e-01,  2.8320e-01, -3.7085e-01, -7.0190e-02,\n",
            "         -4.4385e-01, -9.5276e-02, -3.9575e-01,  6.3623e-01,  1.8518e-01,\n",
            "          4.4629e-01,  1.1835e-01, -6.7529e-01, -9.9609e-01, -5.8301e-01,\n",
            "          2.2205e-01, -3.1372e-01,  1.8384e-01, -2.6657e-02,  1.7990e-02,\n",
            "         -4.4971e-01, -2.3181e-01, -1.1884e-01, -2.3804e-02, -5.7812e-01,\n",
            "         -6.4600e-01,  1.6870e-01,  2.7295e-01,  8.6328e-01, -3.7415e-02,\n",
            "          9.3689e-02,  2.5928e-01,  1.6333e-01,  8.4668e-01,  9.8242e-01,\n",
            "          1.6687e-01,  7.1289e-02, -2.8149e-01,  1.8250e-01, -1.2891e-01,\n",
            "         -6.5576e-01, -2.0325e-01, -7.6709e-01, -4.7925e-01,  5.5420e-01,\n",
            "         -3.2495e-01,  2.4976e-01,  4.4141e-01, -3.9233e-01,  5.8289e-03,\n",
            "          3.4595e-01, -2.5818e-02,  1.8884e-01,  1.0437e-01, -1.5967e-01,\n",
            "         -1.2585e-01,  4.6753e-01,  6.9946e-02,  1.3330e-01, -1.0215e+00,\n",
            "         -7.0654e-01, -4.2871e-01, -4.8248e-02,  7.5439e-01,  1.0492e-01,\n",
            "         -1.0156e-01, -1.3770e-01,  8.4033e-01, -7.1729e-01,  1.8384e-01,\n",
            "         -8.1641e-01,  2.1167e-01,  9.9170e-01, -2.1948e-01, -4.1870e-02,\n",
            "          1.9653e-01, -8.9966e-02, -3.9307e-01,  2.7148e-01,  3.2373e-01,\n",
            "         -3.0664e-01, -2.6953e-01,  1.9836e-01,  5.2765e-02, -2.5244e-01,\n",
            "          5.8441e-02, -1.2183e-01,  4.1992e-01, -6.0986e-01, -3.8770e-01,\n",
            "         -1.8341e-02, -1.1884e-01, -3.8770e-01,  2.3985e-04, -4.8267e-01,\n",
            "         -5.5328e-02,  3.0884e-01, -4.2725e-01, -3.7476e-02,  4.4043e-01,\n",
            "         -3.2983e-01, -9.7656e-02, -5.1465e-01,  5.2295e-01, -3.4180e-01,\n",
            "         -2.9663e-02, -6.8176e-02, -2.7222e-01,  4.0503e-01, -1.7004e-01,\n",
            "         -5.7227e-01,  1.5076e-01,  1.4490e-01,  2.5488e-01, -1.2463e-01,\n",
            "          3.7842e-01,  2.7319e-01, -1.7639e-01, -3.7598e-01, -3.5181e-01,\n",
            "         -1.7812e+00, -2.4463e-01,  7.0850e-01,  5.6592e-01, -5.3760e-01,\n",
            "         -4.0588e-02,  3.3057e-01,  8.5449e-02,  9.0454e-02,  2.4805e-01,\n",
            "          3.2324e-01,  4.5166e-01, -1.4319e-01,  2.0422e-01, -2.1252e-01,\n",
            "          1.6235e-01, -5.7422e-01, -2.8394e-01, -1.0968e-01, -2.3157e-01,\n",
            "          1.4819e-01, -1.2634e-01,  1.9617e-01,  4.0576e-01, -9.6252e-02,\n",
            "          1.2805e-01,  3.4082e-01,  1.5515e-01,  2.7197e-01, -3.0371e-01,\n",
            "          2.3486e-01,  3.5217e-02, -1.2939e-01,  2.6611e-01,  2.7930e-01,\n",
            "          3.3423e-01, -6.4551e-01, -3.5522e-01,  4.3030e-03, -4.9097e-01,\n",
            "          5.1074e-01,  6.4258e-01,  3.3301e-01, -2.5366e-01, -9.1553e-02,\n",
            "          4.8022e-01, -2.3291e-01, -2.0972e-01,  1.6638e-01,  1.0297e-01,\n",
            "         -1.3928e-01, -7.9590e-02, -6.9214e-02, -1.6821e-01, -6.5125e-02,\n",
            "          1.9397e-01,  2.4902e-01,  2.9541e-01, -3.9062e-01,  1.5515e-01,\n",
            "         -1.3702e-02, -1.6797e-01,  1.9666e-01, -4.8294e-03, -3.2886e-01,\n",
            "         -2.1741e-01, -4.7900e-01, -7.8174e-01,  6.2195e-02, -4.0161e-02,\n",
            "          2.6440e-01,  1.9763e-01, -2.9102e-01, -5.7037e-02, -2.8516e-01,\n",
            "          4.7656e-01, -2.0984e-01,  3.9526e-01, -2.8369e-01,  2.4939e-01,\n",
            "         -1.7432e-01, -7.3181e-02, -3.3081e-01, -7.1297e-03, -5.1123e-01,\n",
            "          2.2491e-02,  1.0632e-01, -8.8135e-01,  8.4717e-01, -1.1847e-01,\n",
            "          4.0924e-02, -8.1934e-01,  3.0655e-02, -1.4102e+00, -2.9688e-01,\n",
            "          7.0752e-01,  3.6963e-01, -4.8608e-01, -3.7793e-01,  3.7451e-01,\n",
            "         -4.0601e-01,  2.4548e-01,  3.8281e-01,  1.6586e-02,  4.8730e-01,\n",
            "         -2.5684e-01, -5.0934e-02,  2.1301e-01, -2.6123e-01, -2.1997e-01,\n",
            "         -2.4390e-01, -8.5840e-01, -2.7863e-02,  2.5317e-01, -3.9062e-02,\n",
            "         -8.9258e-01,  2.2278e-01,  9.9548e-02,  8.2080e-01, -4.8462e-01,\n",
            "          2.4646e-01, -9.2656e+00,  1.3953e-01,  7.5195e-02, -3.2422e-01,\n",
            "         -1.2030e-01, -1.1875e+00,  4.0796e-01, -9.8047e-01, -9.9487e-02,\n",
            "          3.8208e-01, -2.6392e-01, -3.0347e-01,  2.7802e-02,  2.5610e-01,\n",
            "         -1.0327e-01,  5.6396e-01,  4.3188e-01, -3.2463e-03, -3.5791e-01,\n",
            "          2.9150e-01,  5.4395e-01, -7.6599e-02, -3.3789e-01,  2.3389e-01,\n",
            "         -4.8413e-01, -2.4780e-01,  4.6729e-01, -1.4587e-01, -3.1299e-01,\n",
            "          8.0383e-02,  4.1211e-01, -1.9080e-01,  1.0742e-02,  1.9275e-01,\n",
            "          3.4619e-01, -9.9426e-02, -1.2695e-01,  5.5566e-01,  1.4786e-02,\n",
            "          2.2876e-01,  2.8516e-01, -2.7100e-01,  4.2261e-01,  4.0283e-01,\n",
            "         -4.0137e-01, -6.9824e-01,  2.9053e-01,  7.9651e-02, -1.7346e-01,\n",
            "          4.5972e-01,  6.0742e-01, -4.4409e-01,  5.0586e-01,  4.3384e-01,\n",
            "         -4.6411e-01,  4.5508e-01,  3.2202e-01,  8.3862e-02, -3.0176e-01,\n",
            "         -6.6504e-01,  1.9739e-01, -1.0309e-01,  1.6736e-01,  3.7817e-01,\n",
            "          1.1084e-01,  1.3220e-01, -2.3755e-01, -3.1323e-01, -5.9601e-02,\n",
            "          8.4595e-02,  1.6736e-01, -1.1664e-01,  1.7822e-01, -3.0167e-02,\n",
            "          1.4905e-01, -1.0522e-01,  2.7783e-01, -5.1123e-01,  7.5623e-02,\n",
            "          1.9153e-01, -4.3701e-01, -7.2168e-01, -3.5181e-01, -1.9666e-01,\n",
            "         -6.1226e-03, -5.9912e-01,  1.6406e-01,  5.1807e-01,  9.4678e-01,\n",
            "         -6.1401e-02,  1.7957e-01,  3.6035e-01, -3.8452e-01,  3.3081e-01,\n",
            "         -1.3232e-01,  1.5234e-01,  9.4482e-01, -1.0576e+00,  8.7891e-02,\n",
            "         -8.7158e-02,  8.5754e-02,  8.0811e-02,  3.3020e-02, -5.3662e-01,\n",
            "         -9.5886e-02,  1.1157e-01, -9.6436e-02,  2.1326e-01,  3.6572e-01,\n",
            "         -3.4210e-02,  8.9648e-01,  4.6313e-01,  2.4390e-01, -1.4145e-02,\n",
            "         -1.6861e-02,  1.8774e-01, -3.0060e-02, -3.2837e-01,  2.7759e-01,\n",
            "          1.1426e+00,  7.9199e-01, -4.8364e-01,  2.1289e-01, -4.2700e-01,\n",
            "          8.3828e+00,  6.5283e-01,  2.3209e-02, -1.0724e-01, -1.1261e-01,\n",
            "          1.0248e-01,  3.1033e-03,  7.7002e-01, -3.5547e-01,  6.0028e-02,\n",
            "          6.0254e-01,  4.8706e-01,  1.0117e+00,  1.1533e+00, -4.6216e-01,\n",
            "         -1.1963e-01, -3.9624e-01,  4.1162e-01, -9.6826e-01, -2.6611e-01,\n",
            "          4.0356e-01, -1.1646e-01,  3.1311e-02,  2.6245e-01, -4.0820e-01,\n",
            "         -1.3756e-02,  3.3844e-02, -3.6401e-01,  1.6870e-01,  1.2793e-01,\n",
            "         -9.8633e-02, -1.8359e-01, -3.2861e-01, -6.9336e-02, -9.1125e-02,\n",
            "         -7.3853e-02,  3.6841e-01, -4.2236e-02,  2.3056e-02,  3.5718e-01,\n",
            "         -6.3049e-02,  5.3223e-01,  1.1353e-01,  4.8657e-01,  1.6699e-01,\n",
            "         -3.5986e-01,  5.5713e-01,  2.1594e-01, -4.2114e-02, -2.7148e-01,\n",
            "         -5.3027e-01,  2.4744e-01, -3.0078e-01, -4.3994e-01, -2.7148e-01,\n",
            "         -2.4805e-01, -1.1609e-01, -3.3228e-01, -8.8135e-02, -7.3975e-02,\n",
            "         -5.9723e-02,  9.0881e-02,  1.7065e-01, -1.9873e-01, -5.2197e-01,\n",
            "         -5.8936e-01,  7.3242e-02, -4.6777e-01, -3.9478e-01,  8.4961e-01,\n",
            "         -1.9824e-01,  3.4546e-01, -4.1943e-01, -5.2881e-01, -2.7026e-01,\n",
            "         -9.4055e-02, -2.5562e-01, -2.4292e-02, -4.5508e-01,  7.0996e-01,\n",
            "          4.9438e-01,  4.0796e-01,  2.5269e-01,  3.9673e-01,  7.0305e-03,\n",
            "         -1.1212e-01,  1.7310e-01,  8.4229e-02, -1.5674e+00,  5.5078e-01,\n",
            "         -7.5732e-01,  6.1621e-01,  1.4905e-01,  2.1191e-01,  4.7803e-01,\n",
            "          5.1416e-01, -4.3872e-01,  4.1333e-01, -5.5420e-01, -3.1250e-01,\n",
            "         -2.3828e-01,  1.0156e-01, -3.8208e-01,  5.9662e-02, -7.7783e-01,\n",
            "         -5.8594e-01, -2.5269e-01, -4.3481e-01, -1.0388e-01,  6.2695e-01,\n",
            "          4.2896e-01, -5.3320e-01,  2.7856e-01,  1.2549e-01, -1.2317e-01,\n",
            "         -2.6929e-01, -1.3008e+00, -4.0649e-01,  1.4929e-01,  1.9067e-01,\n",
            "         -2.8931e-01,  7.5012e-02, -6.0010e-01, -2.2498e-01,  4.2175e-02,\n",
            "          3.1812e-01,  7.1387e-01, -6.4111e-01, -5.4840e-02, -2.4597e-02,\n",
            "         -2.6929e-01, -3.9429e-01, -6.7932e-02,  1.9067e-01,  3.6646e-01,\n",
            "          2.0264e-01, -1.6016e-01, -2.4927e-01,  2.9468e-01,  1.0248e-01,\n",
            "         -3.9258e-01,  1.7346e-01, -4.3823e-01, -2.7319e-01, -4.4800e-01,\n",
            "          8.1360e-02,  4.3945e-01,  1.3049e-01,  3.7022e-03,  3.0322e-01,\n",
            "          2.9175e-02,  2.0862e-01, -5.1367e-01, -1.0089e-01,  2.0300e-01,\n",
            "          7.8125e-02,  1.6296e-01,  1.6870e-01,  5.1537e-03, -1.6467e-01,\n",
            "         -4.1968e-01, -4.1724e-01,  2.8516e-01,  2.6855e-01, -3.6401e-01,\n",
            "         -6.5918e-01, -2.0215e-01,  8.1006e-01,  1.8115e-01, -3.3105e-01,\n",
            "         -2.3613e-03,  2.6099e-01, -4.4629e-01, -1.8823e-01,  3.1226e-01,\n",
            "         -4.5508e-01,  1.8164e-01, -2.5925e-02,  9.3811e-02,  1.6724e-01,\n",
            "          1.0022e-01, -2.0129e-01, -3.9795e-01,  5.2429e-02, -8.4814e-01,\n",
            "         -3.4937e-01, -2.1912e-01, -6.2439e-02, -6.5869e-01,  1.2665e-02,\n",
            "         -3.2861e-01,  9.5752e-01, -1.0333e-01,  3.0127e-01, -5.1514e-01,\n",
            "          8.9233e-02, -1.2366e-01,  4.0308e-01,  3.5913e-01, -5.1318e-01,\n",
            "         -5.0171e-02,  7.3682e-01,  6.5430e-02, -5.8008e-01,  1.0576e+00,\n",
            "         -4.6875e-02,  1.8933e-01, -3.3203e-01, -1.1884e-01, -1.6968e-01,\n",
            "         -1.3866e-03, -1.2825e-02,  5.6494e-01,  1.9165e-01, -4.1357e-01,\n",
            "         -1.6052e-01, -5.3174e-01,  2.3584e-01,  1.9568e-01,  5.9033e-01,\n",
            "          4.1870e-01,  3.3594e-01, -6.5918e-01,  4.5874e-01, -4.1040e-01,\n",
            "         -2.6538e-01,  1.3831e-01,  8.8184e-01,  1.2201e-01,  4.3921e-01,\n",
            "          7.0068e-01,  7.1350e-02, -9.8343e-03, -2.7539e-01,  5.0293e-01,\n",
            "         -4.7668e-02, -1.9446e-01,  2.0972e-01, -1.9568e-01, -1.8665e-01,\n",
            "         -8.2861e-01,  1.9971e-01, -3.2501e-02,  3.1689e-01,  3.5858e-02,\n",
            "          4.0283e-03,  4.2139e-01,  2.4780e-02,  2.1741e-01,  5.2216e-02,\n",
            "          4.0430e-01,  2.3242e-01, -4.5996e-01,  1.8323e-01,  3.8965e-01,\n",
            "         -3.3252e-01, -7.1777e-02, -9.0918e-01,  8.2458e-02,  1.9019e-01,\n",
            "         -4.4830e-02, -2.1716e-01,  3.8971e-02, -3.8184e-01,  2.3584e-01,\n",
            "          6.0596e-01,  3.0005e-01, -4.5947e-01, -2.7695e-02, -1.1548e-01,\n",
            "          2.2742e-01, -9.1675e-02,  7.2803e-01,  1.2012e-01,  1.3049e-01,\n",
            "         -1.5417e-01, -6.7529e-01,  5.3314e-02, -5.5615e-01,  3.7671e-01,\n",
            "          4.4873e-01,  4.5337e-01, -2.6001e-01, -7.2412e-01,  7.7197e-01,\n",
            "          6.8555e-01, -1.4624e-01, -4.0588e-02,  7.6270e-01,  3.6475e-01,\n",
            "         -4.9414e-01, -7.3340e-01, -8.2703e-02, -3.6084e-01, -3.9160e-01,\n",
            "          4.8901e-01, -1.4392e-01, -2.8296e-01,  4.4482e-01,  4.9988e-02,\n",
            "         -2.9736e-03, -5.9357e-03, -5.6104e-01, -4.6616e-03,  3.8403e-01,\n",
            "          4.7534e-01,  7.4316e-01,  4.5929e-02, -4.3915e-02,  1.9714e-01,\n",
            "         -3.4619e-01,  7.3364e-02,  1.8127e-01, -4.3530e-01,  1.3770e-01,\n",
            "         -2.9956e-01,  1.7395e-01,  5.6201e-01, -4.2236e-01, -1.1755e-01,\n",
            "          5.5615e-01, -8.2031e-01, -3.7323e-02,  2.1497e-01, -5.6348e-01,\n",
            "          1.7615e-01,  5.4980e-01,  2.4307e-02]], dtype=torch.float16), 'How many buildings can be seen in this image?': tensor([[-6.1084e-01,  7.0190e-02,  6.2402e-01,  9.8438e-01, -4.1260e-02,\n",
            "          1.9067e-01, -3.9355e-01,  3.4351e-01, -2.9199e-01, -1.6626e-01,\n",
            "         -1.6101e-01, -5.6592e-01, -2.3145e-01, -2.7197e-01, -3.1787e-01,\n",
            "          2.1570e-01,  3.9966e-01, -2.9663e-01, -4.5929e-02, -5.8447e-01,\n",
            "          7.8711e-01,  2.4243e-01, -1.0645e-01,  9.1455e-01,  1.9873e-01,\n",
            "         -1.7419e-01, -7.7393e-01, -3.0688e-01,  5.1953e-01,  6.0852e-02,\n",
            "          7.5806e-02,  7.0850e-01,  3.6407e-02, -8.2812e-01, -1.7627e-01,\n",
            "          3.0716e-02,  1.9043e-01, -2.0508e-01, -1.7944e-01,  3.0737e-01,\n",
            "         -7.3547e-02, -4.1553e-01, -5.0635e-01, -3.7573e-01, -3.2812e-01,\n",
            "          7.7783e-01, -1.8030e-01,  1.2421e-01,  5.5957e-01, -1.6943e-01,\n",
            "         -1.1108e-01, -5.7324e-01,  5.3906e-01,  7.5244e-01, -4.9097e-01,\n",
            "         -4.6436e-01,  2.1057e-01,  9.4788e-02, -1.1993e-01, -3.7476e-01,\n",
            "          6.2805e-02, -2.9272e-01, -8.4814e-01,  7.4170e-01, -2.6514e-01,\n",
            "         -1.3049e-01, -2.2729e-01,  7.1228e-02, -7.6355e-02, -1.1993e-01,\n",
            "          5.3857e-01, -1.1292e-01,  7.1259e-03, -6.0303e-01,  1.2988e-01,\n",
            "         -4.2456e-01,  2.6758e-01,  3.8770e-01, -3.5205e-01, -8.7219e-02,\n",
            "         -4.2041e-01, -2.0068e-01, -4.8242e-01,  6.2402e-01,  1.9702e-01,\n",
            "          4.9146e-01,  5.0232e-02, -6.5088e-01, -8.5938e-01, -5.6152e-01,\n",
            "          3.0640e-01, -3.8721e-01,  1.0852e-01,  5.5084e-02,  9.5276e-02,\n",
            "         -4.2554e-01, -2.4548e-01, -1.4221e-01, -1.5152e-02, -5.4346e-01,\n",
            "         -6.2354e-01,  1.7749e-01,  3.7524e-01,  7.6514e-01, -1.1920e-01,\n",
            "          2.5269e-01,  3.0420e-01,  1.9873e-01,  7.9883e-01,  1.0811e+00,\n",
            "          3.7280e-01,  1.3501e-01, -1.4709e-01,  1.7786e-01, -4.7089e-02,\n",
            "         -6.7676e-01, -1.9324e-01, -8.0469e-01, -3.8330e-01,  5.2783e-01,\n",
            "         -3.3130e-01,  1.0931e-01,  3.4009e-01, -4.9951e-01, -1.2268e-01,\n",
            "          1.7114e-01, -3.1036e-02,  2.9312e-02,  1.6028e-01, -7.6721e-02,\n",
            "         -1.1823e-01,  5.0049e-01,  1.1279e-01,  3.3643e-01, -8.7891e-01,\n",
            "         -7.5977e-01, -4.9536e-01, -1.3940e-01,  6.8018e-01,  2.9321e-01,\n",
            "          8.4045e-02, -1.7358e-01,  9.1064e-01, -6.5771e-01,  1.4185e-01,\n",
            "         -9.2236e-01,  1.6235e-01,  1.0244e+00, -3.0225e-01, -1.1035e-01,\n",
            "          2.0776e-01, -1.4709e-01, -3.9478e-01,  2.7710e-01,  2.5415e-01,\n",
            "         -2.5903e-01, -4.0894e-01,  3.3301e-01,  4.2267e-02, -1.8835e-01,\n",
            "          8.2397e-02, -2.3413e-01,  4.0210e-01, -5.7715e-01, -3.3008e-01,\n",
            "         -1.5076e-01, -9.0759e-02, -2.5830e-01,  8.7967e-03, -4.5996e-01,\n",
            "         -6.3416e-02,  3.7500e-01, -4.9756e-01, -9.2346e-02,  4.5996e-01,\n",
            "         -3.0957e-01,  2.7344e-02, -1.8835e-01,  5.8545e-01, -3.1445e-01,\n",
            "         -1.1511e-01, -1.9104e-01, -3.7329e-01,  4.4824e-01, -1.7676e-01,\n",
            "         -5.2686e-01,  7.6477e-02,  1.6516e-01,  2.4646e-01, -7.8796e-02,\n",
            "          4.5703e-01,  2.2937e-01, -9.5154e-02, -3.9819e-01, -2.9639e-01,\n",
            "         -1.4287e+00, -2.8931e-01,  6.6357e-01,  4.5532e-01, -5.1172e-01,\n",
            "         -1.8749e-03,  1.9824e-01,  2.1582e-01,  1.4343e-01,  3.8062e-01,\n",
            "          3.0688e-01,  3.8940e-01, -1.0065e-01,  2.3340e-01, -4.0015e-01,\n",
            "          1.3684e-01, -5.8740e-01, -1.7065e-01, -2.0203e-02, -2.8076e-01,\n",
            "          1.9739e-01, -6.8054e-02,  1.4160e-01,  4.7046e-01, -3.7018e-02,\n",
            "          8.0872e-03,  3.1543e-01,  1.3611e-01,  3.3350e-01, -3.3350e-01,\n",
            "          2.8394e-01,  1.0028e-01, -1.8152e-01,  3.6841e-01,  3.0591e-01,\n",
            "          3.9526e-01, -6.8652e-01, -2.6001e-01, -1.0107e-01, -5.3906e-01,\n",
            "          6.2109e-01,  5.3320e-01,  1.1560e-01, -2.2668e-01, -1.6638e-01,\n",
            "          5.9814e-01, -1.9751e-01, -2.5513e-01,  1.8274e-01,  1.1029e-01,\n",
            "         -2.5903e-01, -6.0425e-02, -2.4231e-01, -1.5796e-01, -1.4343e-02,\n",
            "          1.3879e-01,  2.1838e-01,  1.8359e-01, -3.1909e-01,  1.7773e-01,\n",
            "          1.3977e-02, -2.9272e-01,  1.4685e-01,  7.4463e-02, -1.9751e-01,\n",
            "         -2.6074e-01, -4.2456e-01, -6.6455e-01, -3.7140e-02, -9.8343e-03,\n",
            "          1.7163e-01,  2.3291e-01, -1.9739e-01,  1.2152e-01, -3.6963e-01,\n",
            "          5.8740e-01, -2.3352e-01,  4.5459e-01, -1.4673e-01,  7.0801e-02,\n",
            "         -3.9825e-02, -1.3580e-02, -2.6465e-01, -1.9684e-02, -6.1426e-01,\n",
            "          1.2451e-01,  2.6831e-01, -8.7744e-01,  9.2285e-01, -1.1792e-01,\n",
            "          7.8857e-02, -8.1641e-01,  2.6810e-02, -8.8135e-01, -4.2944e-01,\n",
            "          7.0801e-01,  3.8159e-01, -4.8486e-01, -3.4766e-01,  4.8120e-01,\n",
            "         -4.6997e-01,  2.0435e-01,  2.7002e-01,  2.0264e-01,  6.7383e-01,\n",
            "         -3.1616e-01, -1.0651e-01,  1.0736e-01, -3.6963e-01, -2.6855e-01,\n",
            "         -1.3452e-01, -8.5742e-01, -1.9763e-01,  3.2910e-01, -9.2468e-02,\n",
            "         -9.7949e-01,  2.2766e-01,  2.2241e-01,  8.9111e-01, -5.2441e-01,\n",
            "          2.2705e-01, -8.8125e+00,  7.4890e-02,  1.3745e-01, -2.9956e-01,\n",
            "         -2.8671e-02, -1.1709e+00,  3.8965e-01, -1.1074e+00, -1.3098e-01,\n",
            "          2.6294e-01, -1.1340e-01, -1.8030e-01, -3.2837e-02,  4.0552e-01,\n",
            "          2.3331e-02,  5.5029e-01,  5.0244e-01,  7.5684e-02, -3.0420e-01,\n",
            "          2.0667e-01,  5.3369e-01,  2.1057e-02, -1.5649e-01,  7.2571e-02,\n",
            "         -5.2295e-01, -2.7271e-01,  4.3994e-01, -1.7334e-01, -4.0283e-01,\n",
            "          6.1584e-02,  5.6250e-01, -1.9995e-01,  6.5613e-02,  1.9409e-01,\n",
            "          4.8828e-01, -1.6187e-01, -9.5032e-02,  4.2212e-01, -5.5054e-02,\n",
            "          2.8198e-01,  3.8965e-01, -3.6011e-01,  3.9185e-01,  5.0146e-01,\n",
            "         -5.3564e-01, -7.3145e-01,  3.3374e-01,  1.2457e-01, -2.1582e-01,\n",
            "          4.6826e-01,  7.2754e-01, -4.9219e-01,  4.5190e-01,  4.5776e-01,\n",
            "         -5.6836e-01,  3.7988e-01,  3.5889e-01,  2.3462e-01, -3.9160e-01,\n",
            "         -6.8457e-01,  2.5293e-01, -7.0435e-02,  1.5210e-01,  3.5522e-01,\n",
            "          3.2178e-01,  1.0913e-01, -1.9263e-01, -3.0591e-01,  6.0844e-03,\n",
            "          8.5754e-02,  2.9810e-01, -1.4038e-01,  9.6619e-02, -4.0924e-02,\n",
            "          2.2827e-01, -9.3872e-02,  3.4595e-01, -4.8047e-01,  4.4975e-03,\n",
            "          2.5659e-01, -5.0146e-01, -6.8213e-01, -3.0469e-01, -3.9209e-01,\n",
            "         -1.7487e-02, -5.6201e-01,  2.0520e-01,  5.3711e-01,  9.4043e-01,\n",
            "         -9.8206e-02,  2.7222e-01,  3.3179e-01, -3.5181e-01,  1.5015e-01,\n",
            "         -1.1987e-01,  2.3706e-01,  8.9648e-01, -9.2969e-01,  2.6443e-02,\n",
            "          4.8981e-02,  1.5344e-01,  2.1744e-02,  1.1597e-01, -5.0879e-01,\n",
            "         -1.1926e-01,  1.7395e-01, -1.0919e-01,  2.4963e-01,  4.1260e-01,\n",
            "          8.2397e-03,  8.3105e-01,  4.8486e-01,  3.3325e-01, -1.4481e-02,\n",
            "          2.6779e-02,  2.3682e-01, -7.0251e-02, -2.5195e-01,  3.6401e-01,\n",
            "          1.0488e+00,  8.8037e-01, -3.7939e-01,  2.1143e-01, -3.9233e-01,\n",
            "          8.1016e+00,  6.5918e-01,  1.3757e-01, -5.3192e-02, -5.7922e-02,\n",
            "          1.2085e-01,  1.0602e-01,  9.2627e-01, -2.7393e-01,  1.5039e-01,\n",
            "          6.1670e-01,  5.1123e-01,  1.0049e+00,  9.2822e-01, -4.3970e-01,\n",
            "         -2.4500e-01, -4.0698e-01,  4.6509e-01, -7.7588e-01, -2.7783e-01,\n",
            "          3.0737e-01, -1.9373e-01, -8.7952e-02,  1.7529e-01, -5.5322e-01,\n",
            "          7.3669e-02, -8.2642e-02, -3.0884e-01,  1.5430e-01,  3.3234e-02,\n",
            "         -1.2732e-01, -1.4136e-01, -3.9307e-01, -1.9324e-01,  1.1487e-01,\n",
            "          1.2787e-02,  4.7510e-01,  1.1639e-01,  1.7944e-02,  2.9199e-01,\n",
            "          3.3142e-02,  5.6787e-01,  1.5833e-01,  5.0439e-01,  2.1350e-01,\n",
            "         -4.9341e-01,  6.2891e-01,  1.1597e-01,  1.6769e-02, -3.5132e-01,\n",
            "         -4.3188e-01,  2.2400e-01, -1.9934e-01, -4.2212e-01, -2.8125e-01,\n",
            "         -1.8018e-01, -2.0374e-01, -4.4263e-01, -1.9318e-02, -5.0995e-02,\n",
            "         -1.6174e-01,  1.2299e-01,  2.5806e-01, -1.4600e-01, -4.2163e-01,\n",
            "         -4.9805e-01,  2.7802e-02, -4.7290e-01, -3.1641e-01,  8.5498e-01,\n",
            "         -1.5027e-01,  3.4961e-01, -3.3960e-01, -5.1123e-01, -3.4204e-01,\n",
            "         -1.8726e-01, -2.6953e-01, -1.1176e-01, -3.9282e-01,  6.2207e-01,\n",
            "          4.8071e-01,  5.0049e-01,  3.8232e-01,  2.8687e-01,  1.4397e-02,\n",
            "         -1.8652e-01,  2.8345e-01,  1.7151e-01, -1.6240e+00,  4.7119e-01,\n",
            "         -7.2266e-01,  7.9736e-01,  2.1204e-01,  1.7969e-01,  3.5547e-01,\n",
            "          4.3677e-01, -4.9023e-01,  4.1235e-01, -4.9780e-01, -4.8242e-01,\n",
            "         -4.0869e-01,  1.4514e-01, -4.7900e-01,  1.0321e-01, -7.0752e-01,\n",
            "         -5.0195e-01, -3.8599e-01, -2.8247e-01,  7.3120e-02,  5.9424e-01,\n",
            "          3.9917e-01, -6.6846e-01,  3.0347e-01,  1.9019e-01, -8.0750e-02,\n",
            "         -4.7266e-01, -1.2666e+00, -4.0723e-01,  2.2595e-01,  3.0273e-01,\n",
            "         -1.0437e-01,  1.3928e-01, -5.1074e-01, -2.5293e-01, -6.1768e-02,\n",
            "          2.2754e-01,  7.1191e-01, -6.5234e-01,  1.5771e-01, -1.9312e-01,\n",
            "         -2.8540e-01, -5.4492e-01, -2.9724e-02,  2.5854e-01,  3.3325e-01,\n",
            "          1.8628e-01, -7.6904e-02, -2.1936e-01,  2.4304e-01, -2.6443e-02,\n",
            "         -3.5547e-01,  1.3171e-01, -3.2788e-01, -3.8745e-01, -4.6558e-01,\n",
            "          1.3016e-02,  5.6348e-01,  1.2256e-01, -5.5054e-02,  2.9834e-01,\n",
            "          6.9519e-02,  1.6968e-01, -6.1572e-01, -3.0090e-02,  1.6711e-01,\n",
            "         -5.4260e-02,  2.5195e-01,  8.4534e-02, -7.1594e-02, -1.5417e-01,\n",
            "         -4.2212e-01, -4.8853e-01,  1.5344e-01,  2.9199e-01, -4.6509e-01,\n",
            "         -7.9639e-01, -1.3770e-01,  8.3105e-01,  3.1470e-01, -2.6440e-01,\n",
            "         -8.1299e-02,  1.2573e-01, -3.8940e-01, -3.0249e-01,  3.8599e-01,\n",
            "         -4.3555e-01,  3.4082e-01, -6.3660e-02,  1.1615e-01,  1.3843e-01,\n",
            "         -4.8248e-02,  6.8283e-03, -3.4595e-01,  1.2500e-01, -6.8066e-01,\n",
            "         -3.2690e-01, -2.5342e-01,  4.5967e-03, -6.4209e-01, -3.3203e-02,\n",
            "         -2.9053e-01,  9.0088e-01, -9.2285e-02,  3.1909e-01, -5.4492e-01,\n",
            "          6.7993e-02, -1.3611e-01,  3.7280e-01,  4.0576e-01, -3.6841e-01,\n",
            "         -1.7044e-02,  8.5156e-01,  2.3804e-02, -4.1504e-01,  9.2871e-01,\n",
            "         -3.9429e-02,  1.3293e-01, -3.4326e-01, -1.5881e-01, -2.0276e-01,\n",
            "         -1.5121e-02, -1.5857e-01,  6.4990e-01,  2.1667e-01, -5.3174e-01,\n",
            "         -1.0099e-03, -4.8242e-01,  9.2224e-02,  2.0142e-01,  9.2334e-01,\n",
            "          4.2480e-01,  1.5942e-01, -8.6279e-01,  6.6504e-01, -3.3984e-01,\n",
            "         -3.3447e-01,  2.0178e-01,  8.7451e-01,  6.9397e-02,  1.8616e-01,\n",
            "          6.4014e-01,  8.4839e-02,  7.9895e-02, -1.8274e-01,  4.9756e-01,\n",
            "         -1.3318e-01, -1.1176e-01,  3.2886e-01, -2.4878e-01, -1.3684e-01,\n",
            "         -8.2959e-01,  2.0105e-01,  8.0109e-04,  2.9492e-01, -1.5808e-02,\n",
            "          1.3367e-01,  4.8730e-01,  2.2522e-01,  2.1301e-01,  4.4067e-02,\n",
            "          3.7329e-01,  3.2324e-01, -4.2700e-01,  1.0657e-01,  1.8005e-01,\n",
            "         -3.0444e-01, -2.2778e-01, -1.0195e+00,  1.1664e-01,  2.7148e-01,\n",
            "         -1.4603e-02, -1.8335e-01,  2.2485e-01, -4.9316e-01,  9.4116e-02,\n",
            "          5.0195e-01,  3.4009e-01, -4.6582e-01, -1.2079e-01, -3.8300e-02,\n",
            "          7.8735e-02,  2.6627e-02,  6.4258e-01,  4.1357e-01,  7.0007e-02,\n",
            "         -2.0520e-01, -6.8896e-01,  1.1993e-01, -5.0195e-01,  3.7842e-01,\n",
            "          3.8525e-01,  4.8193e-01, -1.4795e-01, -7.0654e-01,  7.9736e-01,\n",
            "          7.4561e-01, -2.3584e-01, -1.8616e-02,  8.1250e-01,  4.0015e-01,\n",
            "         -5.9131e-01, -5.6006e-01, -1.9641e-01, -4.0112e-01, -3.1665e-01,\n",
            "          4.2529e-01, -2.4475e-01, -3.5571e-01,  4.0894e-01, -5.0110e-02,\n",
            "         -1.4270e-01, -1.3557e-02, -6.3574e-01, -5.2185e-02,  4.2407e-01,\n",
            "          4.9341e-01,  7.8076e-01,  1.1462e-01, -1.4465e-01,  2.6636e-01,\n",
            "         -4.2285e-01,  1.6284e-01,  3.3447e-01, -4.6533e-01,  1.6296e-01,\n",
            "         -1.9775e-01,  9.8633e-02,  4.9414e-01, -4.2358e-01, -8.5144e-02,\n",
            "          5.2441e-01, -7.3486e-01,  1.8301e-03,  2.4927e-01, -5.3320e-01,\n",
            "          1.3123e-01,  5.4492e-01,  3.7354e-02]], dtype=torch.float16), 'How many flooded buildings can be seen in this image?': tensor([[-3.1177e-01, -1.5442e-01,  4.4604e-01,  5.5127e-01, -2.5244e-01,\n",
            "         -9.4910e-03, -3.3295e-02, -5.7129e-02, -3.6621e-01,  4.0063e-01,\n",
            "          8.4839e-02, -7.7002e-01, -2.6758e-01, -3.6133e-01, -3.7646e-01,\n",
            "          5.8105e-01,  1.5247e-01, -8.5205e-02,  6.8787e-02, -1.6772e-01,\n",
            "          4.5581e-01,  3.6548e-01,  7.6477e-02,  6.2158e-01, -2.6123e-01,\n",
            "         -2.2156e-01, -2.7173e-01, -3.7988e-01,  9.5264e-01, -1.9324e-01,\n",
            "          1.1131e-02,  8.7280e-02,  1.1713e-01, -1.1074e+00, -4.2999e-02,\n",
            "          2.8467e-01,  3.7937e-03, -1.6846e-01, -2.3523e-01,  1.5417e-01,\n",
            "         -5.6152e-01, -6.6650e-01, -8.1152e-01, -4.1333e-01,  5.2948e-02,\n",
            "          6.8945e-01, -3.5059e-01,  5.7617e-01,  2.3328e-01, -5.9912e-01,\n",
            "         -3.8513e-02, -3.3594e-01,  5.3418e-01,  7.0215e-01, -3.6890e-01,\n",
            "         -7.7637e-01,  1.6357e-01,  3.4375e-01, -5.7324e-01, -2.5439e-01,\n",
            "          4.0674e-01, -9.2621e-03, -9.0674e-01,  6.3623e-01, -1.6882e-01,\n",
            "         -5.6494e-01, -9.7595e-02,  1.3635e-01,  3.7170e-02,  3.4644e-01,\n",
            "          2.3706e-01, -1.5613e-01, -6.5002e-02, -2.6221e-01,  8.0200e-02,\n",
            "         -7.3779e-01,  5.3809e-01,  3.2764e-01, -7.8418e-01, -5.1758e-01,\n",
            "         -1.4795e-01, -5.6982e-01, -2.7661e-01,  2.0752e-01,  2.1155e-01,\n",
            "         -1.0492e-01,  2.4817e-01, -2.0923e-01, -8.2422e-01, -3.5010e-01,\n",
            "          5.4102e-01, -1.2549e-01,  3.4180e-02,  2.8000e-02,  3.2959e-01,\n",
            "         -8.7524e-02, -1.8567e-01, -1.6040e-01,  9.1553e-02, -6.2354e-01,\n",
            "         -4.8242e-01, -1.8387e-02,  2.2217e-01,  6.0254e-01, -4.1187e-01,\n",
            "          4.1797e-01,  9.0271e-02,  4.9634e-01,  8.8623e-01,  4.4385e-01,\n",
            "         -8.1360e-02, -1.4185e-01, -5.3772e-02,  2.3010e-01,  3.6914e-01,\n",
            "         -5.1514e-01, -3.1299e-01, -4.1431e-01, -6.5842e-03, -7.5569e-03,\n",
            "         -4.7363e-01,  6.9031e-02,  7.1106e-02,  9.8877e-02, -1.3733e-01,\n",
            "          2.3645e-01,  5.9937e-02, -3.2139e-03,  3.5303e-01, -3.8544e-02,\n",
            "         -4.5361e-01,  5.3320e-01,  2.6352e-02,  2.8296e-01, -5.9033e-01,\n",
            "         -8.8770e-01, -1.1096e-01, -5.3711e-02,  1.4355e-01,  6.0693e-01,\n",
            "          3.3228e-01, -3.4485e-02,  5.2686e-01, -5.4883e-01, -6.7749e-02,\n",
            "         -1.2744e+00, -6.9809e-03,  5.7031e-01, -7.8076e-01,  6.1150e-03,\n",
            "         -4.0405e-02, -1.6443e-01, -4.2017e-01,  2.1011e-02,  1.3367e-01,\n",
            "         -1.3367e-01, -8.5083e-02, -2.3047e-01,  2.6025e-01, -2.9419e-01,\n",
            "         -1.5735e-01, -8.3496e-02,  1.6309e-01, -3.2031e-01,  5.6396e-02,\n",
            "         -7.2571e-02, -2.5977e-01, -1.2073e-01,  2.3727e-02, -5.9912e-01,\n",
            "         -1.1414e-01,  2.9907e-01, -1.4771e-01, -2.1985e-01,  4.0405e-02,\n",
            "          7.5012e-02, -3.1030e-01,  9.7473e-02,  2.1863e-01, -4.4409e-01,\n",
            "         -5.1416e-01, -2.1973e-01, -1.7273e-01,  4.4678e-01, -2.0935e-01,\n",
            "         -5.3760e-01, -7.0190e-02, -2.2546e-01,  7.3242e-03, -2.1899e-01,\n",
            "          2.4792e-01, -1.2751e-03, -4.7363e-01, -9.2773e-02,  1.7151e-01,\n",
            "         -1.6865e+00, -1.7688e-01,  2.1301e-01,  6.6309e-01, -8.8135e-01,\n",
            "         -3.6816e-01,  3.3203e-01, -3.5522e-02,  3.6230e-01,  2.6880e-01,\n",
            "          2.0044e-01,  1.0370e-01,  2.3132e-02, -3.8599e-01, -5.5029e-01,\n",
            "         -2.6416e-01, -5.4932e-01, -2.7173e-01,  4.8248e-02, -4.8828e-01,\n",
            "          3.2368e-03, -2.4036e-01,  1.6235e-01,  4.2163e-01,  1.8005e-01,\n",
            "          3.1909e-01,  1.9641e-01,  3.0029e-01,  3.4229e-01, -1.0406e-01,\n",
            "          7.6318e-01, -1.3977e-01, -2.5635e-01,  1.6968e-01, -3.3569e-01,\n",
            "          4.6021e-01, -5.4590e-01,  1.3863e-02, -4.1431e-01, -9.8242e-01,\n",
            "          3.3594e-01,  1.1206e-01, -1.0150e-01, -1.7102e-01,  8.9600e-02,\n",
            "          4.9268e-01, -1.6943e-01, -4.7925e-01,  2.5708e-01,  3.0469e-01,\n",
            "         -5.0476e-02, -3.7329e-01, -1.5515e-01,  1.2103e-01,  3.0591e-01,\n",
            "         -2.5244e-01, -1.9397e-01,  3.7793e-01, -7.0605e-01,  4.0601e-01,\n",
            "          3.0811e-01, -2.4304e-01,  3.9990e-01,  3.4131e-01, -2.1033e-01,\n",
            "         -7.5977e-01, -2.0459e-01, -5.3516e-01, -4.9408e-02, -4.3182e-02,\n",
            "          1.6943e-01,  2.5098e-01, -1.0791e-01,  2.1289e-01, -2.5952e-01,\n",
            "          1.4026e-01,  2.2034e-01,  1.7859e-01,  1.0132e-01, -4.0356e-01,\n",
            "         -2.1082e-01, -2.3120e-01, -9.9487e-02, -2.1399e-01, -6.7432e-01,\n",
            "          1.4832e-01,  1.6406e-01, -7.4219e-01,  5.2246e-01, -1.4966e-01,\n",
            "          2.2009e-01, -1.0781e+00,  3.3276e-01, -1.0205e+00, -2.3450e-01,\n",
            "         -1.3660e-01,  2.9346e-01, -1.4929e-01, -8.3252e-01, -4.3213e-02,\n",
            "          1.9516e-02,  6.7017e-02, -8.4534e-02,  2.6465e-01,  2.7930e-01,\n",
            "         -4.1870e-01, -2.0752e-01,  6.1816e-01, -3.6426e-01,  4.8022e-01,\n",
            "          2.9834e-01, -5.5127e-01, -7.9980e-01, -3.1689e-01, -3.5767e-01,\n",
            "         -8.0420e-01,  2.1057e-01, -8.1604e-02,  1.3057e+00, -1.1273e-01,\n",
            "         -2.7759e-01, -7.7656e+00,  4.4995e-01,  8.3252e-02, -2.0093e-01,\n",
            "         -2.7832e-02, -8.8867e-01,  1.0459e+00, -5.5664e-01,  1.7090e-01,\n",
            "          2.9468e-01, -4.4263e-01, -9.5703e-02,  3.2349e-01,  2.0386e-01,\n",
            "          2.6538e-01,  4.5850e-01,  6.5186e-01, -1.0822e-01, -3.4424e-01,\n",
            "          3.8818e-01,  5.3467e-01, -1.3220e-01,  2.1924e-01,  3.4485e-02,\n",
            "         -4.4946e-01, -3.1226e-01,  4.0576e-01, -2.6001e-01,  2.0447e-02,\n",
            "         -3.6450e-01,  3.1226e-01, -4.7302e-02,  5.0732e-01,  6.2061e-01,\n",
            "          8.0127e-01, -3.4131e-01, -1.3818e-01,  6.5137e-01,  3.9648e-01,\n",
            "          3.7689e-02,  1.2524e-01,  2.7832e-02,  5.2393e-01,  4.2334e-01,\n",
            "         -4.1351e-02, -6.8506e-01, -7.1350e-02, -9.2712e-02,  2.7527e-02,\n",
            "          1.3855e-01,  2.1191e-03, -8.0029e-01,  4.5557e-01,  6.5186e-01,\n",
            "         -3.2568e-01,  9.3506e-01, -1.9324e-01, -6.1874e-03,  3.1464e-02,\n",
            "         -7.1533e-01,  2.3120e-01, -1.4923e-02, -2.2717e-01,  5.8154e-01,\n",
            "          2.7539e-01, -2.7930e-01,  2.4890e-01,  2.3560e-01, -2.4902e-01,\n",
            "          9.1980e-02,  4.1595e-02,  5.9875e-02,  3.2031e-01, -8.4961e-02,\n",
            "         -1.1328e-01, -2.0361e-01,  2.6440e-01,  1.8713e-01,  2.9541e-01,\n",
            "         -1.0809e-01, -3.8086e-01, -6.4941e-01, -1.6138e-01,  3.5693e-01,\n",
            "         -3.0298e-01, -1.4917e-01,  9.1675e-02,  6.1377e-01,  8.6230e-01,\n",
            "          1.6040e-01,  1.7236e-01,  8.5999e-02, -1.5588e-01,  3.8788e-02,\n",
            "          6.8420e-02, -2.5098e-01,  1.0293e+00, -8.7305e-01, -2.3819e-02,\n",
            "         -2.2290e-01, -5.3070e-02,  4.2041e-01,  1.8457e-01, -3.3472e-01,\n",
            "         -6.5332e-01,  3.0249e-01, -1.6754e-02,  4.8535e-01,  6.5186e-01,\n",
            "          9.3811e-02,  1.7371e-01,  4.1479e-01,  1.6882e-01, -1.5833e-01,\n",
            "          1.2708e-01,  3.2684e-02, -1.5002e-01, -5.6543e-01,  3.7811e-02,\n",
            "          8.5498e-01,  4.0503e-01, -1.2207e-01,  3.1274e-01,  4.5605e-01,\n",
            "          7.0117e+00,  3.2397e-01,  6.2225e-02,  8.2397e-02, -3.6328e-01,\n",
            "         -4.3262e-01,  5.5371e-01,  6.9922e-01, -2.8271e-01, -2.7563e-01,\n",
            "          3.7939e-01,  4.1846e-01,  5.2295e-01,  1.1299e+00, -1.7969e-01,\n",
            "         -7.4512e-01,  7.5317e-02,  5.6006e-01, -1.2139e+00,  3.8574e-01,\n",
            "         -8.8684e-02,  3.0981e-01,  2.2473e-01,  5.8167e-02, -2.1704e-01,\n",
            "          2.0020e-01,  3.0176e-01, -2.3914e-01,  1.4844e-01,  5.0879e-01,\n",
            "          1.5402e-04, -3.1958e-01, -3.4082e-01, -1.3147e-01, -3.8574e-01,\n",
            "          1.1432e-01,  4.4019e-01, -3.0933e-01, -2.6031e-02,  1.0474e-01,\n",
            "          9.1309e-02,  4.4263e-01, -8.9966e-02,  3.4009e-01,  1.7590e-01,\n",
            "         -5.3320e-01,  5.8008e-01, -1.9434e-01, -8.3984e-02, -5.4736e-01,\n",
            "         -1.8689e-01,  1.1975e-01, -4.0649e-01, -7.0508e-01, -7.1143e-01,\n",
            "         -4.7168e-01,  7.1777e-02, -3.8647e-01, -1.8250e-01,  5.2643e-02,\n",
            "          3.8525e-01,  5.0195e-01,  2.1997e-01,  1.9006e-01, -4.7778e-01,\n",
            "         -3.5498e-01,  2.7783e-01, -4.7180e-02, -6.7566e-02,  5.1660e-01,\n",
            "          7.4512e-01,  2.2168e-01, -6.8066e-01, -3.0981e-01, -4.0796e-01,\n",
            "         -7.5830e-01, -4.4897e-01, -2.4353e-01,  7.5562e-02,  2.5708e-01,\n",
            "          2.0129e-01,  1.7383e-01, -2.0203e-01,  2.7197e-01,  2.7637e-01,\n",
            "         -1.2024e-01,  3.5791e-01,  3.1982e-01, -1.1006e+00,  6.2549e-01,\n",
            "         -7.5806e-02,  1.9568e-01,  2.7786e-02,  4.9048e-01,  4.4287e-01,\n",
            "          1.1475e-01, -5.5371e-01,  1.8445e-01, -3.6182e-01, -6.2793e-01,\n",
            "         -4.0161e-01, -2.8735e-01, -5.2295e-01,  6.2561e-02, -1.2686e+00,\n",
            "         -3.1738e-01, -6.3904e-02, -1.5698e-01,  2.4365e-01,  4.1724e-01,\n",
            "          8.1543e-02, -7.4609e-01,  2.5732e-01,  2.2986e-01,  9.2407e-02,\n",
            "         -2.9068e-02, -1.2764e+00,  1.4380e-01, -4.1650e-01,  2.9266e-02,\n",
            "         -4.2700e-01,  1.6492e-01, -3.5156e-01, -1.3818e-01, -1.0114e-01,\n",
            "          3.2446e-01,  4.2676e-01, -8.1006e-01,  2.8052e-01, -7.3975e-02,\n",
            "         -2.1558e-01, -8.0029e-01, -3.9917e-01,  3.7622e-01,  7.6611e-01,\n",
            "          4.4739e-02,  1.2305e-01,  2.0044e-01,  4.1187e-01, -1.2067e-01,\n",
            "         -3.4106e-01,  7.5317e-02, -1.3538e-01, -3.7842e-01, -8.8684e-02,\n",
            "          5.1611e-01,  2.7710e-01,  5.2246e-01, -8.6426e-02,  1.9775e-01,\n",
            "          2.2327e-01,  9.4788e-02, -2.7881e-01, -2.4194e-01, -2.0569e-01,\n",
            "          2.6099e-01,  6.1133e-01, -4.7998e-01,  1.1731e-01,  6.3171e-02,\n",
            "         -3.5156e-01, -7.2510e-01,  3.5669e-01,  2.5903e-01, -8.7830e-02,\n",
            "         -1.1299e+00,  3.4204e-01,  3.6304e-01,  1.4783e-01, -5.0830e-01,\n",
            "          1.7529e-01, -9.8633e-02, -5.4346e-01, -6.0840e-01,  2.9834e-01,\n",
            "         -5.9668e-01, -2.8418e-01, -5.3027e-01,  1.4526e-01,  1.5015e-01,\n",
            "          9.4543e-02, -1.7163e-01, -3.3276e-01, -3.7939e-01, -5.2393e-01,\n",
            "         -7.2510e-01, -4.6387e-01, -7.6843e-02, -3.3008e-01,  1.2634e-01,\n",
            "         -6.5039e-01,  6.6406e-01, -2.1655e-01, -3.3752e-02, -3.2202e-01,\n",
            "          1.7126e-01,  1.7944e-01,  3.7256e-01,  3.7329e-01,  2.2974e-01,\n",
            "         -3.1921e-02,  1.8738e-01,  9.9548e-02, -9.5264e-01,  8.7549e-01,\n",
            "         -9.3460e-03, -2.1692e-01, -1.9104e-01,  5.7465e-02, -7.1289e-01,\n",
            "          1.5955e-01,  2.5317e-01,  5.5322e-01, -1.9629e-01, -2.0422e-01,\n",
            "         -3.0127e-01, -7.5317e-02,  9.1248e-02,  8.4167e-02,  9.6191e-01,\n",
            "          1.3123e-01,  4.0210e-01, -6.1475e-01, -8.1177e-02,  1.7371e-01,\n",
            "         -6.6016e-01, -1.0071e-01,  1.0010e+00,  2.3767e-01, -1.6022e-02,\n",
            "          5.9863e-01,  1.3196e-01, -7.0190e-02, -5.7812e-01, -2.4353e-02,\n",
            "         -3.7378e-01, -2.4744e-01, -1.5308e-01, -8.6670e-02,  2.1899e-01,\n",
            "         -8.1641e-01,  2.9102e-01,  1.2384e-01,  1.4014e-01,  6.1670e-01,\n",
            "         -1.3062e-01,  6.5820e-01,  1.0236e-01, -9.9243e-02,  5.8984e-01,\n",
            "          3.4570e-01,  4.9243e-01, -6.8787e-02, -9.3201e-02,  2.9883e-01,\n",
            "         -3.6230e-01, -5.7144e-03, -9.1797e-01,  2.9182e-04,  2.1655e-01,\n",
            "          1.3196e-01,  7.1182e-03, -1.5125e-01, -7.9004e-01,  5.6519e-02,\n",
            "          5.4736e-01, -6.5186e-02, -3.1396e-01, -3.1201e-01, -1.3257e-01,\n",
            "          3.2349e-01,  9.6680e-02,  4.7089e-02,  1.3135e-01,  3.5254e-01,\n",
            "          1.9360e-01, -3.6328e-01, -4.9072e-01, -9.7363e-01,  1.2283e-02,\n",
            "         -1.2079e-01,  6.2744e-01,  2.9980e-01, -9.0576e-01,  9.5752e-01,\n",
            "          4.1675e-01, -3.0054e-01,  1.6772e-01,  5.3955e-01,  3.6255e-01,\n",
            "          7.4219e-02, -2.9736e-01, -3.5132e-01, -5.0098e-01, -7.7930e-01,\n",
            "          2.0056e-01, -1.0126e-01,  4.0210e-01,  3.8477e-01, -3.5571e-01,\n",
            "         -2.7173e-01, -2.6172e-01, -5.6934e-01, -2.1826e-01,  7.8027e-01,\n",
            "          2.8760e-01,  7.0508e-01,  2.7637e-01,  9.8328e-02, -2.5415e-01,\n",
            "         -1.3672e-01, -1.6260e-01,  6.1328e-01, -8.7967e-03,  4.5630e-01,\n",
            "         -1.5222e-01,  1.6650e-01,  4.1577e-01,  2.1103e-02,  7.6599e-02,\n",
            "          9.8779e-01, -7.8369e-01,  5.4883e-01,  1.1896e-01, -4.7217e-01,\n",
            "          3.5254e-01,  1.2732e-01, -1.3611e-01]], dtype=torch.float16), 'How many non flooded buildings can be seen in this image?': tensor([[-2.2253e-01, -1.3232e-01,  5.5859e-01,  5.9668e-01, -3.0396e-01,\n",
            "         -8.7708e-02, -1.4966e-01,  1.0406e-02, -9.4543e-02,  1.9641e-01,\n",
            "          3.9429e-02, -6.7529e-01, -3.8403e-01, -5.1416e-01, -4.1919e-01,\n",
            "          4.7754e-01,  2.3584e-01, -3.5303e-01,  5.9967e-02, -1.5173e-01,\n",
            "          5.1514e-01,  3.1738e-01,  2.0508e-01,  6.7334e-01, -3.4644e-01,\n",
            "         -5.2783e-01, -2.6025e-01, -6.8848e-01,  1.0312e+00, -2.2717e-01,\n",
            "          4.1351e-02,  1.9922e-01,  3.4332e-02, -9.5020e-01, -1.6003e-01,\n",
            "          3.0029e-01,  4.4281e-02, -3.4131e-01, -2.5830e-01,  2.6929e-01,\n",
            "         -3.6255e-01, -5.9473e-01, -8.8770e-01, -3.2104e-01, -1.5466e-01,\n",
            "          1.0332e+00, -4.1699e-01,  5.9277e-01,  3.2422e-01, -4.4531e-01,\n",
            "         -1.7273e-01, -6.6455e-01,  3.6865e-01,  4.8804e-01, -4.6704e-01,\n",
            "         -5.2441e-01,  1.3770e-01,  1.4233e-01, -5.7080e-01, -3.9917e-01,\n",
            "          3.1226e-01, -4.0454e-01, -8.8525e-01,  3.1812e-01, -1.7212e-01,\n",
            "         -1.9299e-01, -2.5024e-01,  1.1707e-01,  3.6987e-02,  2.0801e-01,\n",
            "          2.9468e-01,  4.6492e-04,  1.3786e-02, -3.9941e-01,  7.2998e-02,\n",
            "         -5.3955e-01,  4.9561e-01,  3.6816e-01, -4.5288e-01, -4.0186e-01,\n",
            "         -7.8186e-02, -4.5581e-01, -3.3594e-01,  6.7993e-02,  2.8638e-01,\n",
            "          3.6682e-02,  2.3694e-01, -2.9932e-01, -6.2256e-01, -2.3657e-01,\n",
            "          3.7451e-01, -2.4365e-01,  3.2074e-02, -1.9531e-01,  3.2593e-01,\n",
            "          1.3879e-01, -3.7402e-01, -1.6418e-01, -5.6213e-02, -6.2891e-01,\n",
            "         -4.8999e-01, -2.9175e-01,  2.7417e-01,  4.7168e-01, -3.4729e-02,\n",
            "          2.6123e-01,  1.8433e-01,  3.8721e-01,  9.0527e-01,  5.1562e-01,\n",
            "         -2.7328e-02, -1.7712e-01, -7.7942e-02,  4.2920e-01,  2.6855e-01,\n",
            "         -6.3379e-01, -3.3105e-01, -6.0352e-01, -4.2480e-01,  6.1920e-02,\n",
            "         -3.6011e-01, -8.9172e-02,  1.9067e-01,  5.9326e-02, -2.5116e-02,\n",
            "          3.1201e-01, -1.2854e-01,  1.6272e-01,  2.7783e-01, -1.3843e-01,\n",
            "         -5.3027e-01,  6.9922e-01, -2.7734e-01,  2.5830e-01, -7.1094e-01,\n",
            "         -7.7637e-01, -3.4155e-01, -3.6621e-02,  3.3447e-02,  6.9287e-01,\n",
            "          3.7280e-01,  2.0432e-02,  5.4395e-01, -4.7632e-01,  1.0391e-02,\n",
            "         -1.2432e+00, -2.3975e-01,  7.6367e-01, -6.5527e-01, -6.6772e-02,\n",
            "         -1.2366e-01, -3.7964e-01, -2.0581e-01,  1.8835e-01,  1.4069e-02,\n",
            "         -1.2396e-01, -8.6517e-03, -1.2947e-02,  2.8931e-01, -4.7119e-01,\n",
            "         -3.3984e-01, -9.8694e-02,  1.7017e-01, -3.0298e-01,  2.3308e-03,\n",
            "         -2.2827e-01, -2.3047e-01, -9.0942e-02, -3.5950e-02, -5.8984e-01,\n",
            "         -1.5027e-01,  1.5710e-01, -1.2439e-01, -5.8472e-02,  1.9507e-01,\n",
            "         -1.8585e-02, -2.0630e-01,  2.4963e-01,  1.2317e-01, -4.0820e-01,\n",
            "         -4.6875e-01, -2.6245e-02, -1.2695e-01,  4.2261e-01,  2.4979e-02,\n",
            "         -5.5127e-01,  5.6702e-02,  1.7883e-02,  1.3916e-01, -3.6670e-01,\n",
            "          2.7954e-01,  8.0811e-02, -3.7866e-01, -1.3257e-01,  1.0547e-01,\n",
            "         -2.0039e+00, -1.6797e-01,  1.4880e-01,  6.0645e-01, -6.1133e-01,\n",
            "         -1.9312e-01,  5.3662e-01,  4.0398e-03,  2.2781e-02,  1.1066e-01,\n",
            "          1.5161e-01,  1.6760e-01, -1.4038e-01, -3.2495e-01, -3.7231e-01,\n",
            "         -1.8958e-01, -5.0488e-01, -3.5327e-01, -2.8540e-01, -3.0371e-01,\n",
            "         -1.3257e-01, -1.0345e-01,  4.3726e-01,  5.2637e-01,  1.8201e-01,\n",
            "          1.4453e-01,  2.5708e-01,  1.1487e-01,  1.8359e-01,  5.2368e-02,\n",
            "          9.1211e-01, -1.5320e-01, -7.5989e-02,  1.3513e-01, -1.8665e-01,\n",
            "          2.6660e-01, -6.4209e-01,  4.0466e-02, -2.1021e-01, -7.8418e-01,\n",
            "          3.2617e-01,  1.2610e-01, -1.5479e-01, -2.3108e-01,  1.4111e-01,\n",
            "          4.2871e-01,  3.4576e-02, -3.4131e-01,  1.9763e-01,  3.3521e-01,\n",
            "         -1.6138e-01, -4.3945e-01,  8.6670e-02,  2.0264e-01,  4.4775e-01,\n",
            "         -1.4746e-01, -1.0858e-01,  1.6663e-01, -7.3486e-01,  3.0176e-01,\n",
            "          2.7637e-01, -2.7856e-01,  3.8257e-01,  2.9395e-01, -4.0112e-01,\n",
            "         -4.5996e-01, -6.9336e-01, -4.9048e-01, -1.0333e-01, -1.8759e-03,\n",
            "          9.7229e-02,  2.4414e-01, -3.5498e-01,  1.3062e-01, -1.7798e-01,\n",
            "          5.3741e-02,  1.0760e-01,  2.4561e-01,  7.7209e-02, -2.8198e-01,\n",
            "         -2.4158e-01, -1.9629e-01, -1.6760e-01, -7.1777e-02, -5.6689e-01,\n",
            "         -1.5161e-01,  2.0386e-01, -9.5801e-01,  6.5186e-01, -2.3572e-01,\n",
            "          1.4575e-01, -8.7891e-01,  4.5508e-01, -1.4482e+00, -1.4636e-01,\n",
            "          7.7698e-02,  2.5073e-01, -3.0713e-01, -8.4082e-01, -1.0309e-01,\n",
            "          1.4136e-01,  2.4316e-01, -7.1777e-02,  1.2030e-01, -7.0557e-02,\n",
            "         -2.7344e-01, -1.3672e-01,  6.1523e-01, -2.1655e-01,  2.5122e-01,\n",
            "          2.4072e-01, -5.9619e-01, -5.2148e-01, -2.8174e-01,  7.5417e-03,\n",
            "         -7.6270e-01,  1.5356e-01,  5.4443e-02,  1.1240e+00, -1.9873e-01,\n",
            "         -1.9775e-02, -8.9141e+00,  3.0981e-01,  5.2490e-02, -2.5098e-01,\n",
            "          1.6760e-01, -9.9854e-01,  9.9658e-01, -6.4551e-01,  6.3965e-02,\n",
            "          4.5410e-01, -3.4937e-01, -2.1155e-01,  2.8467e-01,  8.0017e-02,\n",
            "          2.3779e-01,  5.0049e-01,  5.0049e-01,  1.0022e-01, -2.4878e-01,\n",
            "          4.6094e-01,  4.5337e-01, -7.5317e-02,  1.3428e-01,  6.0059e-02,\n",
            "         -5.3271e-01, -1.7285e-01,  2.2131e-01, -3.2886e-01, -1.2213e-01,\n",
            "         -1.1688e-01, -9.0256e-03, -4.6387e-02,  6.3867e-01,  5.3223e-01,\n",
            "          7.5293e-01, -3.2935e-01, -1.8970e-01,  6.2012e-01,  4.3091e-01,\n",
            "         -2.0370e-02,  2.6782e-01, -1.6101e-01,  3.8574e-01,  4.6777e-01,\n",
            "         -4.7882e-02, -5.6787e-01, -7.5684e-02, -1.1511e-01, -2.0837e-01,\n",
            "         -3.6530e-02, -1.5564e-01, -6.3721e-01,  4.9365e-01,  3.9160e-01,\n",
            "         -2.9541e-01,  8.8672e-01, -9.0698e-02,  2.4338e-02,  1.0010e-01,\n",
            "         -7.4707e-01, -7.1045e-02,  2.7405e-02, -9.5825e-02,  4.0063e-01,\n",
            "          1.9849e-01, -8.8684e-02,  1.9031e-01,  1.0046e-01, -4.7266e-01,\n",
            "         -7.6233e-02,  1.8445e-01,  1.4551e-01,  5.2490e-01, -3.8788e-02,\n",
            "         -7.8308e-02, -2.3035e-01,  1.4795e-01, -9.4727e-02,  3.4229e-01,\n",
            "         -1.1298e-01, -4.2725e-01, -8.3301e-01, -9.7168e-02,  4.3457e-01,\n",
            "         -1.1523e-01, -1.3342e-01,  1.1090e-01,  6.1182e-01,  1.1670e+00,\n",
            "          2.2705e-01,  1.7883e-01,  7.9895e-02, -2.7466e-01,  4.6814e-02,\n",
            "         -3.7537e-02, -1.7419e-01,  1.1719e+00, -1.0391e+00, -1.4160e-01,\n",
            "         -1.7859e-01, -7.6660e-02,  2.7246e-01,  3.1812e-01, -3.9771e-01,\n",
            "         -6.6846e-01,  1.7322e-01, -5.2826e-02,  4.3457e-01,  4.6558e-01,\n",
            "         -2.4277e-02,  2.9639e-01,  5.1855e-01,  7.3120e-02, -1.1255e-01,\n",
            "          7.1350e-02,  7.7942e-02, -1.2585e-01, -7.0264e-01,  1.3928e-01,\n",
            "          8.1787e-01,  1.4331e-01, -1.6260e-01, -2.2797e-02,  3.5620e-01,\n",
            "          7.8789e+00,  2.8638e-01,  2.2021e-01,  1.1090e-01, -3.7891e-01,\n",
            "         -3.3765e-01,  2.9761e-01,  6.8994e-01, -2.9956e-01, -1.3074e-01,\n",
            "          6.0938e-01,  4.3823e-01,  5.4688e-01,  8.1787e-01, -2.4438e-01,\n",
            "         -6.4746e-01, -3.9368e-02,  7.0654e-01, -1.1943e+00,  5.0842e-02,\n",
            "          1.7993e-01,  1.5112e-01,  1.9299e-01, -1.0980e-01, -2.7710e-01,\n",
            "         -3.4332e-02,  3.2593e-01, -2.6855e-01,  2.4585e-01,  3.4595e-01,\n",
            "         -1.6504e-01, -8.1726e-02, -2.2021e-01, -1.6980e-01, -2.9150e-01,\n",
            "         -2.7847e-02,  3.8428e-01, -1.8567e-01, -7.3814e-03,  1.3989e-01,\n",
            "          7.7209e-02,  6.9287e-01,  7.7209e-02,  3.0981e-01,  4.6313e-01,\n",
            "         -4.5239e-01,  3.8721e-01, -8.9172e-02,  8.3542e-03, -6.7334e-01,\n",
            "         -1.1774e-01,  1.7273e-01, -5.0049e-01, -6.8701e-01, -5.8057e-01,\n",
            "         -4.9951e-01,  3.6835e-02, -5.2588e-01, -1.4819e-01, -9.8328e-02,\n",
            "          3.0469e-01,  2.4390e-01,  1.7114e-01,  1.0822e-01, -4.1504e-01,\n",
            "         -3.5474e-01,  3.5376e-01,  1.3100e-02, -8.5144e-02,  5.3857e-01,\n",
            "          5.4932e-01,  1.6724e-01, -3.8184e-01, -4.1919e-01, -3.6182e-01,\n",
            "         -4.6118e-01, -4.3823e-01, -1.7725e-01, -1.7053e-01,  5.4346e-01,\n",
            "          1.5881e-01,  2.5757e-01, -2.1545e-01,  1.4832e-01,  3.0908e-01,\n",
            "         -1.6113e-01,  3.5669e-01,  3.4326e-01, -1.0576e+00,  3.8916e-01,\n",
            "         -1.8066e-01,  8.4763e-03, -2.4060e-01,  4.9243e-01,  6.1816e-01,\n",
            "          1.8079e-01, -3.4131e-01,  1.3599e-01, -4.1821e-01, -4.3750e-01,\n",
            "         -4.0796e-01, -6.5918e-03, -3.7256e-01,  7.2510e-02, -1.2715e+00,\n",
            "         -4.1602e-01, -3.6224e-02, -3.6499e-01,  2.9224e-01,  3.2202e-01,\n",
            "          1.7078e-01, -5.6885e-01,  2.8223e-01,  3.9600e-01,  7.8125e-02,\n",
            "         -1.6187e-01, -1.3545e+00,  1.5747e-02, -3.1226e-01,  9.2834e-02,\n",
            "         -5.6934e-01,  2.4829e-01, -4.1577e-01, -1.8384e-01,  2.0233e-02,\n",
            "          4.3188e-01,  4.8804e-01, -9.2480e-01,  3.9697e-01, -3.7018e-02,\n",
            "         -2.1472e-01, -7.6514e-01, -4.4116e-01,  1.5015e-01,  4.7314e-01,\n",
            "          5.1208e-02,  1.4880e-01, -7.4577e-04,  4.7998e-01,  8.3694e-03,\n",
            "         -4.6680e-01, -4.4975e-03, -8.8867e-02, -3.6572e-01, -4.0894e-02,\n",
            "          3.7817e-01,  2.1619e-01,  4.1675e-01, -5.5273e-01,  1.0712e-01,\n",
            "          6.5308e-02,  2.8687e-01, -4.3066e-01, -2.2717e-01, -2.4927e-01,\n",
            "          2.6831e-01,  6.3867e-01, -1.3269e-01,  3.8483e-02,  5.5511e-02,\n",
            "         -3.9648e-01, -3.5864e-01,  4.0723e-01,  3.5205e-01, -9.4971e-02,\n",
            "         -7.7246e-01,  3.3301e-01,  6.1621e-01, -1.4992e-02, -3.9038e-01,\n",
            "          4.9774e-02,  3.9856e-02, -5.1318e-01, -6.8115e-01,  3.6011e-01,\n",
            "         -5.2490e-01,  1.2854e-01, -6.6113e-01,  1.1975e-01,  3.8605e-03,\n",
            "          1.3794e-01, -1.8225e-01, -5.0146e-01, -2.8125e-01, -6.1182e-01,\n",
            "         -8.2568e-01, -3.2129e-01, -1.0339e-01, -3.4717e-01,  2.6367e-01,\n",
            "         -5.8594e-01,  8.0908e-01, -2.9688e-01,  1.1700e-01, -3.7329e-01,\n",
            "          3.3179e-01,  9.7778e-02,  3.4644e-01,  3.9478e-01,  5.7007e-02,\n",
            "         -2.7023e-02,  1.6479e-01,  2.1973e-01, -9.9609e-01,  1.0391e+00,\n",
            "         -6.9275e-02, -3.4058e-01, -1.8335e-01, -6.2805e-02, -4.5044e-01,\n",
            "          8.2642e-02,  1.6589e-01,  6.5869e-01, -2.2314e-01, -3.0737e-01,\n",
            "         -2.2888e-01, -1.6272e-01, -1.2646e-01, -1.1041e-01,  6.3867e-01,\n",
            "          1.1816e-01,  4.4360e-01, -5.7812e-01,  8.3679e-02, -8.6975e-02,\n",
            "         -5.6592e-01,  5.6366e-02,  9.0137e-01,  1.5283e-01,  2.8198e-01,\n",
            "          6.4258e-01,  8.6487e-02, -1.0052e-01, -6.8115e-01,  1.1955e-02,\n",
            "         -5.6836e-01, -2.9370e-01, -1.5320e-01, -1.3428e-01,  1.0840e-01,\n",
            "         -7.9297e-01,  3.0493e-01, -2.0264e-01,  1.4893e-01,  4.8022e-01,\n",
            "         -3.7012e-01,  7.2852e-01, -7.2327e-02, -1.9299e-01,  3.4985e-01,\n",
            "          5.0586e-01,  2.1313e-01, -1.6150e-01,  1.5454e-01,  5.6488e-02,\n",
            "         -3.2935e-01, -9.7229e-02, -9.9365e-01, -1.4795e-01,  1.5271e-01,\n",
            "          1.2238e-01,  1.4648e-01, -1.3855e-01, -7.1094e-01,  1.3513e-01,\n",
            "          4.7534e-01, -4.7852e-02, -3.2007e-01, -1.2238e-01,  9.3689e-02,\n",
            "          4.2651e-01,  1.9580e-01, -1.0675e-01,  2.0837e-01,  3.7500e-01,\n",
            "          3.0957e-01, -3.9062e-01, -3.7451e-01, -7.9297e-01,  1.0962e-01,\n",
            "         -2.0300e-01,  4.4409e-01,  1.0968e-01, -1.0010e+00,  8.6182e-01,\n",
            "          3.7964e-01, -3.8452e-01, -1.3306e-01,  4.2529e-01,  3.1348e-01,\n",
            "          1.9180e-02, -3.3081e-01, -3.2397e-01, -2.8467e-01, -5.1367e-01,\n",
            "          2.4915e-01,  4.9591e-02,  5.6152e-01,  4.2261e-01, -1.9373e-01,\n",
            "         -1.5381e-01, -1.0669e-01, -6.0352e-01, -3.6011e-02,  6.6455e-01,\n",
            "          2.0251e-01,  5.9424e-01,  3.0322e-01,  7.5439e-02, -2.2607e-01,\n",
            "         -8.2886e-02, -5.4718e-02,  5.3125e-01, -2.7222e-01,  5.9570e-01,\n",
            "         -6.6772e-02,  3.6084e-01,  4.5093e-01,  2.9373e-02,  7.1228e-02,\n",
            "          8.0908e-01, -9.7119e-01,  5.4932e-01,  1.6650e-01, -5.5225e-01,\n",
            "          4.6484e-01,  1.3623e-01, -2.2400e-01]], dtype=torch.float16), 'Is the entire road flooded?': tensor([[-5.1270e-01,  1.3159e-01,  3.2275e-01,  4.8737e-02,  1.0565e-01,\n",
            "          1.1963e-01,  5.9766e-01,  7.9712e-02,  2.1509e-01,  3.9697e-01,\n",
            "          1.9482e-01,  1.7310e-01, -5.1709e-01, -9.8572e-02, -1.3879e-01,\n",
            "          7.5879e-01,  1.7700e-01, -9.0561e-03, -1.3574e-01,  3.7451e-01,\n",
            "         -5.4626e-02,  7.5732e-01,  9.4543e-02, -2.6123e-01,  1.9055e-01,\n",
            "          1.2314e-02,  6.2598e-01,  5.6055e-01, -3.4912e-01, -2.6147e-01,\n",
            "          2.0154e-01,  4.5441e-02,  4.0137e-01, -7.2705e-01,  2.4084e-01,\n",
            "          4.3799e-01, -3.7158e-01,  2.7856e-01, -2.7237e-02, -3.2861e-01,\n",
            "         -4.4946e-01, -5.0049e-01, -1.9995e-01, -8.6035e-01,  2.4658e-01,\n",
            "         -6.8169e-03, -2.0789e-01,  3.0786e-01,  1.6309e-01, -3.7549e-01,\n",
            "          2.3169e-01,  1.0345e-01, -6.6284e-02, -2.9272e-01, -4.0161e-01,\n",
            "         -1.2915e-01,  5.7129e-01,  2.6685e-01, -4.5288e-01, -4.3262e-01,\n",
            "          7.3389e-01,  3.7524e-01, -2.3022e-01,  1.6455e-01, -4.3018e-01,\n",
            "         -2.8906e-01,  9.4910e-03,  2.1790e-01,  2.1509e-01,  4.7632e-01,\n",
            "         -3.0835e-01, -5.8203e-01,  1.2866e-01, -6.6223e-02,  2.8857e-01,\n",
            "         -8.4326e-01, -1.1230e-01, -6.0463e-03, -3.9233e-01, -3.9771e-01,\n",
            "          2.5269e-01, -4.7607e-01, -4.0796e-01, -1.2444e-02,  4.5581e-01,\n",
            "         -4.4678e-01, -7.4501e-03, -2.1143e-01, -8.7012e-01, -2.8638e-01,\n",
            "         -2.0520e-01,  6.3086e-01,  2.5299e-02, -5.2832e-01,  1.4514e-01,\n",
            "         -7.4890e-02, -2.8638e-01, -1.7004e-01,  2.1912e-01, -4.7412e-01,\n",
            "          3.0884e-01, -2.6196e-01,  2.0056e-01,  2.0984e-01,  6.0242e-02,\n",
            "          2.1252e-01, -2.4765e-02,  4.6118e-01,  3.8818e-01,  2.1240e-01,\n",
            "         -5.4590e-01, -5.9473e-01,  1.7786e-01,  1.7065e-01,  2.5806e-01,\n",
            "          2.5977e-01, -1.3647e-01,  4.0253e-02, -1.9385e-01, -1.2769e-01,\n",
            "         -7.6807e-01, -1.7627e-01, -5.1318e-01, -4.4617e-02, -4.4116e-01,\n",
            "         -2.7924e-02,  5.7568e-01, -6.4941e-02,  2.0557e-01,  4.3506e-01,\n",
            "         -7.8223e-01, -6.2012e-01, -2.6050e-01,  2.3474e-01, -2.8149e-01,\n",
            "         -3.7256e-01,  3.8879e-02,  2.4902e-01, -6.4893e-01,  2.3645e-01,\n",
            "          7.9712e-02, -1.7896e-01, -2.0398e-01, -2.7100e-01, -1.7566e-01,\n",
            "         -4.5898e-01, -1.6809e-01,  2.9272e-01, -8.5352e-01,  2.0850e-01,\n",
            "         -4.5837e-02,  2.5781e-01, -1.9019e-01, -3.9331e-01,  4.3408e-01,\n",
            "          5.3711e-01,  6.4941e-01, -7.0984e-02,  3.3545e-01, -3.7695e-01,\n",
            "         -2.1777e-01,  6.6846e-01, -1.4417e-01, -5.9619e-01,  2.1509e-01,\n",
            "         -3.0859e-01, -3.2153e-01,  8.8806e-02,  1.4062e-01,  2.2852e-01,\n",
            "         -1.2463e-01, -4.3831e-03,  8.8501e-02, -5.0568e-02, -4.4116e-01,\n",
            "          2.4292e-01, -8.0225e-01, -4.0405e-01, -2.0972e-01, -2.0740e-01,\n",
            "         -1.8640e-01,  2.9053e-02,  6.5186e-02,  5.9448e-02,  8.0139e-02,\n",
            "         -2.9468e-01, -5.2673e-02, -6.2683e-02, -2.4805e-01,  2.4036e-01,\n",
            "         -2.6636e-01,  4.7437e-01,  5.2881e-01,  3.9215e-02, -4.9902e-01,\n",
            "         -1.6855e+00, -4.8462e-01, -1.8726e-01,  4.0454e-01, -2.8320e-01,\n",
            "         -5.2734e-01,  7.1924e-01, -4.3701e-01, -2.7905e-01,  1.2561e-01,\n",
            "         -8.4961e-02,  1.1951e-01,  1.0925e-02, -8.3154e-01, -2.9688e-01,\n",
            "         -4.1412e-02, -5.7178e-01,  4.2114e-02,  7.3669e-02,  7.7553e-03,\n",
            "         -2.8174e-01, -1.9897e-01,  6.3477e-01, -1.6284e-01,  5.4150e-01,\n",
            "          7.6025e-01,  2.2192e-01, -2.4414e-01, -2.9297e-01, -3.3813e-02,\n",
            "          6.4404e-01, -7.8711e-01, -5.9766e-01, -6.5283e-01, -5.2539e-01,\n",
            "          1.3184e-01,  5.8691e-01, -1.2366e-01, -1.1157e-01, -9.0234e-01,\n",
            "          7.1826e-01,  2.9761e-01,  7.9224e-02, -1.3843e-01,  5.9961e-01,\n",
            "          3.1982e-01,  2.5586e-01,  1.3892e-01,  4.6948e-01, -5.1178e-02,\n",
            "          1.1709e+00, -2.7051e-01, -6.3330e-01, -4.0894e-01,  6.0156e-01,\n",
            "         -6.0129e-04, -6.0986e-01, -9.4788e-02, -2.0096e-02,  2.1716e-01,\n",
            "         -3.4619e-01, -1.0492e-01,  6.8408e-01,  3.2153e-01,  7.6843e-02,\n",
            "         -2.3242e-01, -4.8267e-01, -3.5425e-01, -2.8369e-01, -1.4185e-01,\n",
            "          4.2334e-01,  1.8396e-01,  3.0792e-02, -1.0101e-02,  7.8918e-02,\n",
            "         -5.9375e-01,  1.0283e+00, -3.1714e-01,  3.4229e-01, -5.4980e-01,\n",
            "          4.4952e-02, -1.4539e-01,  1.4258e-01, -8.3447e-01, -6.5002e-02,\n",
            "         -8.4412e-02,  7.0508e-01, -5.4565e-02,  8.4473e-02,  2.5244e-01,\n",
            "          4.0894e-01, -2.8369e-01,  5.5957e-01, -9.2139e-01,  1.8054e-01,\n",
            "         -4.2847e-01,  2.0154e-01,  2.2011e-03, -1.0010e+00, -1.0498e-01,\n",
            "          8.6060e-02,  7.8979e-02, -3.5962e-01,  2.0142e-01, -3.6841e-01,\n",
            "         -1.1407e-01,  4.7638e-02,  5.6201e-01, -1.9867e-02,  7.3145e-01,\n",
            "          1.4844e-01, -8.8232e-01, -8.6621e-01, -8.2520e-01,  4.5410e-01,\n",
            "          2.3328e-01, -2.5464e-01, -4.1772e-01,  1.3831e-01,  1.0724e-01,\n",
            "          1.9678e-01, -8.3906e+00,  4.8511e-01, -1.8701e-01,  2.6953e-01,\n",
            "         -1.6602e-01,  1.6406e-01,  5.1318e-01, -1.6251e-02, -4.2456e-01,\n",
            "          3.7207e-01, -5.9961e-01, -1.0364e-01,  4.0771e-01,  1.3867e-01,\n",
            "         -5.3467e-01,  5.5127e-01,  7.8418e-01, -5.7910e-01, -4.0137e-01,\n",
            "          4.7607e-01,  9.6252e-02, -2.1606e-01, -8.6243e-02,  1.0992e-01,\n",
            "         -2.1759e-02,  1.2891e-01,  3.3643e-01,  4.1870e-01,  7.4097e-02,\n",
            "          1.3867e-01, -6.6162e-02, -6.1475e-01,  6.1230e-01,  5.8838e-01,\n",
            "          3.3521e-01, -7.4805e-01,  1.8445e-01,  5.4736e-01,  2.0911e-01,\n",
            "         -2.3059e-01,  1.2042e-01, -2.7390e-02,  2.5049e-01,  2.1838e-01,\n",
            "          6.0156e-01, -8.9893e-01, -1.0400e+00, -3.8159e-01,  4.0649e-01,\n",
            "          4.5227e-02, -3.2861e-01, -2.6123e-02,  7.8027e-01, -2.3401e-01,\n",
            "         -3.8666e-02,  5.3418e-01, -4.8022e-01, -3.6572e-01,  1.3562e-01,\n",
            "         -8.8074e-02,  3.6060e-01, -3.8672e-01, -8.1592e-01,  1.8164e-01,\n",
            "         -7.0215e-01,  3.2642e-01,  5.9845e-02,  6.1719e-01, -3.5919e-02,\n",
            "         -3.0249e-01, -2.8223e-01,  6.7383e-02,  3.2544e-01, -3.6792e-01,\n",
            "         -6.5918e-01, -3.0347e-01,  2.2156e-02,  3.3301e-01,  6.5088e-01,\n",
            "          5.8014e-02, -3.4448e-01, -8.2959e-01,  2.4231e-01,  9.7168e-01,\n",
            "         -3.8306e-01,  1.5564e-01,  3.5962e-01,  3.8940e-01,  6.6406e-01,\n",
            "          5.4395e-01,  1.9507e-01, -2.3743e-01,  5.2460e-02, -2.7856e-01,\n",
            "          5.0000e-01,  4.2915e-03,  1.7126e-01, -7.9492e-01,  1.3086e-01,\n",
            "          1.4868e-01,  5.4199e-01, -3.7451e-01,  2.4231e-01, -1.0490e-02,\n",
            "         -1.3285e-03,  1.2978e-02,  2.2546e-01,  2.5732e-01,  4.3970e-01,\n",
            "         -2.0288e-01, -3.8745e-01,  4.1870e-01, -1.7654e-02,  2.7710e-01,\n",
            "          5.5371e-01,  4.9121e-01,  7.2607e-01, -8.8684e-02,  7.0679e-02,\n",
            "          8.4717e-01, -1.8909e-01, -3.9734e-02,  3.7256e-01,  2.6050e-01,\n",
            "          8.1172e+00,  1.0284e-01,  5.0488e-01, -2.7319e-01, -3.6060e-01,\n",
            "         -6.3428e-01,  1.0830e+00, -1.3635e-01, -3.7451e-01,  1.2854e-01,\n",
            "         -4.3457e-01,  8.6060e-02,  5.4688e-01, -6.8176e-02,  2.4353e-01,\n",
            "         -5.4199e-01, -5.5176e-02,  7.7393e-01, -2.4719e-01,  7.5439e-01,\n",
            "          1.4026e-01,  7.2998e-02,  3.6133e-02,  9.2163e-03,  1.9800e-01,\n",
            "          1.7810e-01,  2.5024e-01, -4.1455e-01, -1.6138e-01,  1.0811e+00,\n",
            "          4.2749e-01, -1.7371e-01, -3.9258e-01,  5.3329e-03, -3.4424e-01,\n",
            "          5.4785e-01, -5.8594e-02, -5.5469e-01, -2.7197e-01,  9.3567e-02,\n",
            "          3.0713e-01, -2.5854e-01,  2.2650e-06, -4.7974e-01,  5.1221e-01,\n",
            "         -5.8398e-01, -2.7246e-01, -3.2983e-01, -9.2224e-02, -7.2412e-01,\n",
            "         -3.4668e-01,  3.4644e-01, -8.3691e-01, -5.1514e-01, -1.1487e-01,\n",
            "         -3.3838e-01, -2.1472e-01,  1.7725e-01, -6.9189e-01,  7.5989e-03,\n",
            "          7.2266e-01,  9.2346e-02, -1.4397e-02,  5.6982e-01, -6.9482e-01,\n",
            "          2.5000e-01, -4.2407e-01,  2.3773e-02, -6.7041e-01,  7.2388e-02,\n",
            "          2.1484e-01,  1.6077e-01, -6.9336e-01, -3.4497e-01, -2.9492e-01,\n",
            "          7.0190e-02, -6.5479e-01,  3.2251e-01,  2.6221e-01, -1.3535e-02,\n",
            "         -2.4988e-01,  2.0667e-01,  9.4482e-02,  7.2937e-02,  5.7495e-02,\n",
            "         -2.1851e-01,  3.9215e-02, -2.4438e-01, -7.9834e-01,  3.8086e-01,\n",
            "         -5.5809e-03, -2.5537e-01,  1.2305e-01,  4.1919e-01, -3.2544e-01,\n",
            "         -1.6870e-01,  2.3096e-01, -2.9028e-01,  1.3013e-01,  1.7871e-01,\n",
            "          4.4727e-01, -3.1812e-01,  5.2307e-02,  3.3276e-01, -6.4062e-01,\n",
            "          3.5278e-02, -1.4539e-01,  4.1992e-01, -5.5469e-01,  4.6533e-01,\n",
            "         -4.5117e-01,  1.8692e-02,  7.0312e-01, -4.2267e-02, -6.3867e-01,\n",
            "         -2.0667e-01, -1.5547e+00,  2.7124e-01, -4.0698e-01, -5.2673e-02,\n",
            "         -8.5840e-01,  1.5503e-01, -1.4832e-01,  1.1642e-02, -7.1631e-01,\n",
            "          4.9103e-02,  1.4648e-01, -1.8542e-01,  1.1682e-01, -6.1768e-01,\n",
            "         -6.4026e-02, -6.9397e-02, -1.0049e+00,  6.2354e-01,  4.4727e-01,\n",
            "         -3.2806e-02, -1.3260e-02,  1.3904e-01,  2.5055e-02, -2.1313e-01,\n",
            "          1.7517e-01,  3.2501e-02, -6.2988e-01,  2.4573e-01, -4.5746e-02,\n",
            "          3.1665e-01, -5.1575e-02,  1.4575e-01, -8.0957e-01, -3.1445e-01,\n",
            "          1.9760e-02,  2.1637e-02, -1.2225e-01, -6.4893e-01, -4.7852e-01,\n",
            "          4.0649e-01,  2.7271e-01, -3.9307e-01,  3.8159e-01,  1.3196e-01,\n",
            "         -4.1626e-02,  3.0347e-01,  4.1064e-01, -9.6924e-02,  2.5391e-01,\n",
            "          3.8428e-01,  1.8860e-01, -6.0608e-02,  1.2769e-01, -5.1465e-01,\n",
            "          4.0088e-01,  2.4048e-01, -7.7539e-01, -4.6167e-01,  1.2659e-01,\n",
            "         -1.9214e-01, -7.4805e-01, -8.1055e-01, -3.8818e-01,  1.6248e-01,\n",
            "          1.4612e-01, -1.8335e-01, -4.3726e-01, -4.9683e-01, -7.5537e-01,\n",
            "         -3.1470e-01, -6.8512e-03, -3.2617e-01, -2.2144e-01,  9.2529e-01,\n",
            "         -3.2422e-01,  5.8252e-01, -8.9990e-01, -1.9821e-02,  8.6963e-01,\n",
            "         -1.3391e-01,  2.1240e-01,  6.3330e-01, -1.8958e-01, -2.7359e-02,\n",
            "         -2.2717e-01, -3.0420e-01, -2.2461e-01, -2.9248e-01,  7.8711e-01,\n",
            "          1.0956e-01,  4.2343e-03, -2.4182e-01, -8.3160e-04, -5.9521e-01,\n",
            "          1.3501e-01,  8.7256e-01,  5.8057e-01,  1.7261e-01,  4.6094e-01,\n",
            "          1.2988e-01,  3.5596e-01, -1.9812e-01, -2.6062e-02,  4.8828e-01,\n",
            "          6.6406e-02,  3.7671e-01,  7.6904e-02, -5.0244e-01,  1.9409e-01,\n",
            "          2.8833e-01, -4.9225e-02,  3.6719e-01,  6.4844e-01,  3.3789e-01,\n",
            "         -2.5238e-02,  1.9946e-01, -1.4392e-01, -6.4307e-01, -4.3945e-01,\n",
            "         -2.1729e-01, -3.3667e-01, -7.9541e-01, -9.3811e-02,  4.2999e-02,\n",
            "         -9.9854e-01,  4.3970e-01,  1.1725e-01, -1.8030e-01,  4.3259e-03,\n",
            "         -9.0039e-01,  5.0049e-01, -3.2202e-01,  2.4561e-01,  4.2944e-01,\n",
            "          1.5236e-02, -3.9478e-01,  7.4829e-02, -1.5552e-01, -1.1298e-01,\n",
            "         -2.7328e-02,  6.6602e-01, -2.7734e-01, -1.6785e-02,  1.9958e-01,\n",
            "          5.4291e-02,  1.9238e-01, -2.7051e-01, -1.1689e+00, -2.5757e-01,\n",
            "          4.1113e-01, -8.2422e-01,  1.6931e-01, -3.7573e-01,  2.6416e-01,\n",
            "         -4.5685e-02,  3.1689e-01,  2.6047e-02,  1.1041e-01,  5.9521e-01,\n",
            "          5.9906e-02,  8.4180e-01, -1.6846e-01, -6.2500e-01, -1.4380e-01,\n",
            "         -4.9487e-01,  8.9233e-02,  3.9673e-01, -1.0107e+00,  8.6426e-01,\n",
            "         -6.1719e-01, -2.7222e-01,  5.4962e-02,  8.8318e-02,  3.0591e-01,\n",
            "         -2.4634e-01,  6.8588e-03, -1.8518e-01, -2.8418e-01, -5.4688e-01,\n",
            "         -2.2363e-01,  8.4229e-02,  5.9766e-01,  8.1116e-02, -4.9048e-01,\n",
            "         -2.4634e-01, -6.3525e-01,  4.5502e-02,  8.0444e-02,  3.0151e-01,\n",
            "          5.9668e-01,  1.2073e-01,  4.7699e-02,  1.2018e-01,  4.5502e-02,\n",
            "          3.2666e-01, -9.0698e-02, -2.6514e-01,  1.8835e-01,  2.1777e-01,\n",
            "          5.0391e-01, -2.5635e-01, -4.9591e-02,  2.2803e-01,  4.6362e-01,\n",
            "          5.7666e-01, -3.4375e-01,  3.8013e-01,  1.5784e-01, -2.8076e-01,\n",
            "          4.9536e-01, -5.1575e-02, -6.3904e-02]], dtype=torch.float16), 'Is the entire road non flooded?': tensor([[-2.4280e-01,  1.8091e-01,  4.3140e-01, -1.8018e-01, -2.2046e-01,\n",
            "          1.0870e-01,  4.6558e-01,  3.4302e-02,  3.0981e-01,  4.0405e-01,\n",
            "          1.6541e-01,  2.7447e-03, -5.3076e-01, -3.9893e-01, -2.0361e-01,\n",
            "          6.9727e-01,  4.2529e-01, -3.7720e-02, -1.6098e-02,  4.0283e-01,\n",
            "         -2.3291e-01,  5.9229e-01, -6.8604e-02, -8.0078e-02, -3.7659e-02,\n",
            "          1.4600e-01,  5.4883e-01,  3.6255e-01, -3.9551e-01, -2.1338e-01,\n",
            "          3.3569e-01,  2.5562e-01,  3.9185e-01, -5.9082e-01,  6.1768e-02,\n",
            "          4.8413e-01, -3.5107e-01,  5.5957e-01, -2.0129e-01, -2.1570e-01,\n",
            "         -4.4727e-01, -2.3145e-01, -2.7808e-01, -4.9512e-01,  1.8066e-01,\n",
            "          4.6936e-02, -1.0376e-01,  4.4434e-01,  2.2131e-01, -2.8564e-01,\n",
            "          8.1421e-02, -1.5881e-01, -1.0925e-01, -3.4546e-01, -2.7612e-01,\n",
            "         -2.0401e-02,  8.7988e-01,  1.0199e-01, -4.6069e-01, -3.0591e-01,\n",
            "          7.7881e-01,  2.0703e-01, -2.9614e-01,  2.3474e-01, -1.7932e-01,\n",
            "         -2.2217e-01, -3.9642e-02,  2.5293e-01,  4.1895e-01,  5.1904e-01,\n",
            "         -2.7979e-01, -5.7178e-01, -6.1371e-02, -9.3811e-02,  3.2178e-01,\n",
            "         -6.4502e-01, -2.3364e-01,  2.8687e-01, -2.5171e-01, -2.1240e-01,\n",
            "          3.6377e-01, -3.0444e-01, -5.3223e-01, -1.0004e-01,  6.1865e-01,\n",
            "         -2.8760e-01,  1.6479e-01, -2.2263e-02, -6.9238e-01, -2.4451e-01,\n",
            "         -3.4351e-01,  5.4932e-01, -2.4390e-01, -3.8965e-01,  1.8079e-01,\n",
            "          1.9791e-02, -1.8762e-01, -1.0315e-02,  2.6978e-01, -5.9131e-01,\n",
            "          5.1318e-01, -2.7026e-01,  1.3440e-01, -1.3782e-01,  2.2559e-01,\n",
            "          5.0439e-01, -1.9055e-01,  4.5874e-01,  3.7622e-01,  5.9131e-01,\n",
            "         -6.7773e-01, -6.1035e-01,  2.1033e-01,  3.3032e-01,  3.6450e-01,\n",
            "          1.2042e-01, -2.2791e-01,  1.2164e-01, -4.4458e-01, -2.1118e-01,\n",
            "         -7.0898e-01, -2.8955e-01, -4.4067e-01,  1.8616e-01, -3.2617e-01,\n",
            "          9.4971e-02,  5.0293e-01, -1.2988e-01,  9.6130e-02,  1.3049e-01,\n",
            "         -6.2012e-01, -5.5713e-01, -4.0869e-01,  1.2537e-01, -2.4829e-01,\n",
            "         -4.4238e-01, -1.0773e-01,  2.5562e-01, -6.3330e-01,  2.0569e-01,\n",
            "          1.0547e-01, -3.1128e-01, -1.6406e-01, -1.0333e-01,  2.0737e-02,\n",
            "         -5.6299e-01, -1.0101e-01,  4.7046e-01, -8.9160e-01,  2.0129e-01,\n",
            "         -2.0251e-01, -1.3245e-01, -2.4805e-01, -2.7441e-01,  2.9346e-01,\n",
            "          3.2080e-01,  5.8105e-01, -2.0004e-02,  2.9785e-01, -4.8877e-01,\n",
            "         -1.9263e-01,  6.2646e-01, -2.1655e-01, -5.7422e-01,  1.6272e-01,\n",
            "         -1.1505e-01, -3.8867e-01, -9.4070e-03,  8.4656e-02,  7.8201e-03,\n",
            "         -1.1450e-01, -9.5177e-04, -1.3257e-01,  5.4047e-02, -1.4001e-01,\n",
            "          1.4636e-01, -8.5400e-01, -5.5664e-01, -3.0664e-01, -2.1533e-01,\n",
            "         -3.9697e-01,  1.4563e-01,  1.2292e-01,  5.6885e-02,  2.1106e-01,\n",
            "         -4.4800e-01,  1.3464e-01, -6.2469e-02, -1.2164e-01,  1.9934e-01,\n",
            "         -2.6685e-01,  4.3481e-01,  2.4463e-01, -5.6519e-02, -2.5830e-01,\n",
            "         -1.7812e+00, -5.1807e-01, -2.3792e-01,  3.3984e-01, -1.8860e-01,\n",
            "         -5.1416e-01,  7.6416e-01, -2.7734e-01, -4.5996e-01, -1.0828e-01,\n",
            "         -2.0447e-01,  3.1342e-02, -2.4023e-01, -7.4121e-01,  5.9235e-02,\n",
            "         -4.4800e-02, -3.6060e-01, -1.7896e-01, -1.8848e-01, -9.7900e-02,\n",
            "         -4.2090e-01, -5.6689e-01,  8.9404e-01, -9.6497e-02,  5.4590e-01,\n",
            "          7.2217e-01,  2.1838e-01, -2.6025e-01, -6.5674e-01, -4.3549e-02,\n",
            "          7.2217e-01, -6.8457e-01, -5.0439e-01, -8.4619e-01, -6.5430e-01,\n",
            "          1.0242e-01,  5.0635e-01,  5.5969e-02, -1.0919e-01, -8.8379e-01,\n",
            "          5.8936e-01,  1.7065e-01,  8.0017e-02, -1.9226e-01,  5.2148e-01,\n",
            "          4.2798e-01,  5.5322e-01,  1.5344e-01,  4.3408e-01, -1.3318e-01,\n",
            "          9.0723e-01, -2.8320e-01, -4.9390e-01, -4.6069e-01,  4.0869e-01,\n",
            "          1.4417e-01, -7.3779e-01, -2.0813e-01, -2.4341e-01,  3.5425e-01,\n",
            "         -4.9219e-01, -1.4795e-01,  5.3857e-01,  3.3423e-01, -1.1066e-01,\n",
            "          2.0920e-02, -6.3867e-01, -5.2051e-01, -2.1826e-01, -2.0984e-01,\n",
            "          3.6157e-01,  2.5195e-01, -3.9124e-02,  6.9763e-02,  2.3560e-01,\n",
            "         -6.1914e-01,  9.0723e-01, -3.4644e-01,  1.4917e-01, -3.9087e-01,\n",
            "         -1.7908e-01,  6.3477e-02,  4.6875e-02, -6.8994e-01,  1.4734e-01,\n",
            "          6.2683e-02,  8.2666e-01, -5.7869e-03,  1.5527e-01,  4.3221e-03,\n",
            "          2.7026e-01, -1.3208e-01,  5.8740e-01, -1.0225e+00,  3.7280e-01,\n",
            "         -4.2261e-01,  2.6270e-01,  8.1726e-02, -9.7168e-01, -1.2085e-01,\n",
            "          1.7700e-01,  3.3936e-01, -3.3667e-01,  1.7151e-02, -7.2021e-01,\n",
            "         -2.1765e-01, -1.5906e-01,  6.1963e-01,  7.2571e-02,  6.7334e-01,\n",
            "          2.0740e-01, -9.2090e-01, -8.4961e-01, -7.1240e-01,  4.0088e-01,\n",
            "         -2.3376e-02, -4.4800e-01, -2.8320e-01,  1.9519e-01,  9.8083e-02,\n",
            "          1.8872e-01, -8.2656e+00,  1.4319e-01, -7.4768e-02,  1.1047e-01,\n",
            "         -1.5173e-01, -2.5562e-01,  6.8555e-01,  1.1395e-01, -2.4878e-01,\n",
            "          6.7969e-01, -5.8936e-01, -1.9519e-01,  3.2666e-01,  6.5186e-02,\n",
            "         -8.2959e-01,  5.5664e-01,  7.5977e-01, -5.5371e-01, -2.6221e-01,\n",
            "          5.2344e-01,  8.9478e-02, -5.0684e-01,  2.4597e-02,  1.8433e-01,\n",
            "         -5.5908e-02,  2.6611e-01,  4.3091e-01,  2.8271e-01,  1.8713e-01,\n",
            "          3.4888e-01, -1.4954e-01, -6.8311e-01,  4.9146e-01,  6.7822e-01,\n",
            "          3.4033e-01, -5.3223e-01,  1.5613e-01,  4.5801e-01,  2.3914e-01,\n",
            "         -2.1362e-01, -5.3444e-03, -3.3960e-01,  1.1859e-01,  3.3911e-01,\n",
            "          6.3037e-01, -8.8623e-01, -1.0693e+00, -3.3057e-01,  2.6221e-01,\n",
            "          7.9712e-02, -6.0010e-01,  4.1840e-02,  9.4238e-01, -2.3560e-01,\n",
            "          4.4922e-02,  6.2158e-01, -3.0762e-01, -5.0635e-01,  9.1858e-02,\n",
            "         -1.3831e-01,  2.4704e-02, -2.3364e-01, -8.9600e-01,  1.7566e-01,\n",
            "         -6.4844e-01,  4.3213e-01, -1.0419e-01,  5.3857e-01, -1.0577e-01,\n",
            "         -5.4883e-01, -2.8516e-01,  7.9346e-02,  2.5977e-01, -1.2720e-01,\n",
            "         -2.9492e-01, -3.3569e-01, -8.9111e-02,  1.5479e-01,  5.8984e-01,\n",
            "         -2.4857e-02, -4.0820e-01, -8.9355e-01,  2.4988e-01,  9.6729e-01,\n",
            "         -3.2568e-01,  1.1426e-01,  2.5635e-01,  3.7036e-01,  1.0371e+00,\n",
            "          5.8789e-01,  2.0471e-01, -2.4255e-01, -1.4046e-02, -1.0834e-01,\n",
            "          2.2729e-01, -2.4536e-02,  4.9976e-01, -8.2275e-01, -7.3853e-02,\n",
            "          1.0211e-01,  3.0811e-01, -3.1787e-01,  2.4341e-01,  5.8105e-02,\n",
            "         -1.0391e-02,  6.9336e-02,  3.0542e-01,  3.6011e-01,  4.2822e-01,\n",
            "         -2.5345e-02, -3.7061e-01,  3.4741e-01,  1.5369e-01,  2.8027e-01,\n",
            "          6.5186e-01,  3.4082e-01,  6.7627e-01, -1.3391e-01,  1.0724e-01,\n",
            "          7.0312e-01, -2.4963e-01, -1.3232e-01,  7.7576e-02,  4.5142e-01,\n",
            "          7.9453e+00, -1.9104e-01,  5.2686e-01, -3.3862e-01, -2.4976e-01,\n",
            "         -7.3486e-01,  8.0273e-01,  7.2327e-02, -2.1533e-01,  7.6477e-02,\n",
            "         -7.4524e-02,  6.0883e-02,  7.7441e-01,  1.9299e-01,  1.4575e-01,\n",
            "         -4.4556e-01,  6.9214e-02,  9.2334e-01, -4.2310e-01,  6.4111e-01,\n",
            "          2.6758e-01, -3.2806e-02,  1.0577e-01,  3.2227e-02,  2.4719e-01,\n",
            "          1.9180e-02,  3.6719e-01, -5.6543e-01, -2.6367e-01,  8.4619e-01,\n",
            "          4.1821e-01,  7.6111e-02, -4.8779e-01, -1.2627e-02, -3.2642e-01,\n",
            "          9.4299e-02, -3.2861e-01, -8.3643e-01, -7.8247e-02,  2.9541e-01,\n",
            "          4.1699e-01,  6.7017e-02, -1.5564e-01, -5.6006e-01,  4.0259e-01,\n",
            "         -1.8481e-01, -2.9150e-01, -5.5237e-02, -1.5015e-01, -5.9863e-01,\n",
            "         -2.1521e-01,  2.6221e-01, -9.3896e-01, -4.1724e-01, -2.4402e-01,\n",
            "         -3.1274e-01,  1.9543e-01,  8.4961e-02, -6.4746e-01, -2.6978e-01,\n",
            "          5.4932e-01, -1.3077e-02,  1.3635e-01,  5.3125e-01, -4.7021e-01,\n",
            "          2.4329e-01, -1.1432e-01,  2.0105e-01, -6.6406e-01,  1.9577e-02,\n",
            "          6.6101e-02, -6.2073e-02, -3.9209e-01, -1.1810e-01, -6.3904e-02,\n",
            "          1.0278e-01, -6.3281e-01,  2.9028e-01,  2.4365e-01,  2.1912e-01,\n",
            "         -3.5742e-01,  3.8989e-01,  7.9712e-02,  9.8206e-02,  2.9736e-01,\n",
            "         -3.1396e-01, -1.2695e-01, -3.6401e-01, -6.7969e-01,  3.3325e-01,\n",
            "          1.1574e-02, -4.3359e-01, -1.0974e-01,  5.6641e-01,  1.1304e-01,\n",
            "         -2.4377e-01,  1.4905e-01, -1.1273e-01,  2.2876e-01,  4.3408e-01,\n",
            "          5.3564e-01, -6.2012e-02,  1.1646e-01,  3.2056e-01, -5.5469e-01,\n",
            "          2.4854e-01,  4.1534e-02,  1.7883e-01, -7.3682e-01,  3.0762e-01,\n",
            "         -1.7676e-01, -1.2726e-02,  5.6201e-01,  2.5049e-01, -6.3770e-01,\n",
            "         -3.0518e-01, -1.5664e+00,  2.3499e-01, -5.1807e-01, -1.2413e-02,\n",
            "         -9.1650e-01,  2.3486e-01, -1.6248e-01, -9.5825e-03, -7.6221e-01,\n",
            "          3.0127e-01,  3.0811e-01, -4.0918e-01, -4.3121e-02, -4.2529e-01,\n",
            "         -1.4282e-01, -9.5337e-02, -1.0752e+00,  4.6680e-01,  5.0000e-01,\n",
            "         -7.8186e-02, -1.2598e-01,  1.3770e-01,  3.4882e-02, -1.0229e-01,\n",
            "          2.0007e-01,  2.7252e-02, -5.7617e-01,  4.0454e-01, -1.8219e-02,\n",
            "          1.9604e-01, -1.1615e-01,  9.9426e-02, -9.8730e-01, -5.3613e-01,\n",
            "          5.2216e-02,  8.3008e-02, -1.9324e-01, -6.4404e-01, -2.3853e-01,\n",
            "          4.3896e-01,  2.4158e-01, -3.2007e-01,  2.7466e-01,  5.7892e-02,\n",
            "         -2.0288e-01,  3.5693e-01,  5.2002e-01, -2.0874e-01,  4.2065e-01,\n",
            "          5.5127e-01,  2.1863e-01,  1.3428e-01,  1.7798e-01, -3.8159e-01,\n",
            "          4.9609e-01,  3.3813e-01, -7.0215e-01, -4.4409e-01,  1.5454e-01,\n",
            "         -1.7285e-01, -4.5386e-01, -7.9150e-01, -2.3169e-01, -6.1073e-03,\n",
            "          3.3667e-01, -2.0068e-01, -5.5029e-01, -4.5898e-01, -6.5820e-01,\n",
            "         -3.6670e-01, -4.4769e-02, -3.8794e-01, -4.4092e-01,  6.2207e-01,\n",
            "         -3.3545e-01,  5.1855e-01, -9.7803e-01,  1.4062e-01,  6.1426e-01,\n",
            "         -1.4331e-01,  4.3042e-01,  7.4902e-01, -1.2207e-01, -2.1204e-01,\n",
            "         -9.2896e-02, -2.7368e-01, -2.6550e-03, -7.6416e-02,  8.1299e-01,\n",
            "         -1.8250e-02, -2.2446e-02, -1.6528e-01, -3.6407e-02, -6.4795e-01,\n",
            "          2.4475e-01,  8.7354e-01,  5.4736e-01, -5.4352e-02,  3.9282e-01,\n",
            "          9.0271e-02,  1.7737e-01, -1.0706e-01, -2.8491e-01,  3.0322e-01,\n",
            "          2.2937e-01,  4.8413e-01,  3.1006e-01, -3.8818e-01,  4.9347e-02,\n",
            "          2.4048e-01,  2.2690e-02,  4.3579e-01,  1.7505e-01,  7.6807e-01,\n",
            "         -6.2332e-03,  3.1177e-01, -2.1317e-02, -6.2549e-01, -8.0713e-01,\n",
            "         -5.5518e-01, -1.7786e-01, -6.7236e-01, -3.6896e-02,  9.8328e-02,\n",
            "         -6.0938e-01,  4.8706e-01, -1.0303e-01, -1.1975e-01,  9.3933e-02,\n",
            "         -8.7842e-01,  4.6558e-01, -2.5220e-01,  1.8286e-01,  5.2100e-01,\n",
            "          2.3218e-01, -4.9292e-01, -1.6281e-02, -2.5986e-02, -5.2795e-02,\n",
            "          2.6337e-02,  3.8550e-01, -4.3506e-01,  3.4393e-02,  2.3706e-01,\n",
            "         -1.0303e-01,  3.0396e-01, -1.5906e-01, -9.2578e-01, -1.3147e-01,\n",
            "          4.1479e-01, -5.7275e-01,  2.0496e-01, -3.1494e-01,  2.7759e-01,\n",
            "          1.0278e-01,  1.4966e-01, -3.8147e-02, -1.8738e-01,  7.2510e-01,\n",
            "          1.8213e-01,  6.3525e-01, -9.2850e-03, -5.7471e-01, -5.0684e-01,\n",
            "         -8.6719e-01,  9.7656e-02, -1.7624e-02, -8.5352e-01,  1.1475e+00,\n",
            "         -6.6406e-01, -6.0938e-01, -1.2085e-01,  1.0510e-01,  2.2278e-01,\n",
            "          1.0583e-01,  1.0516e-01, -3.6670e-01, -3.2397e-01, -6.0205e-01,\n",
            "         -2.9346e-01,  2.1765e-01,  6.1377e-01,  1.3977e-01, -5.5420e-01,\n",
            "         -1.4294e-01, -6.1084e-01, -1.1713e-01,  3.4644e-01,  3.7720e-01,\n",
            "          5.3662e-01,  2.1802e-01,  5.6702e-02,  1.2402e-01, -9.0820e-02,\n",
            "          4.3652e-01, -2.4023e-01, -3.8599e-01,  1.1578e-01,  4.7949e-01,\n",
            "          3.6890e-01, -3.5095e-02,  1.5002e-01,  4.0479e-01,  2.2754e-01,\n",
            "          3.8843e-01, -3.3716e-01,  3.6914e-01,  2.4670e-01, -4.3018e-01,\n",
            "          2.6318e-01,  1.4111e-01, -1.7786e-01]], dtype=torch.float16), 'What is the condition of road?': tensor([[-6.7139e-01,  5.6104e-01,  6.8066e-01,  6.8896e-01,  1.5100e-01,\n",
            "         -2.3328e-01,  5.1465e-01,  3.9844e-01,  3.9844e-01,  2.0300e-01,\n",
            "         -3.4814e-01, -6.2866e-02, -8.5645e-01,  8.3923e-03, -1.7151e-01,\n",
            "          8.5571e-02,  1.0898e+00, -1.9910e-01,  3.2495e-01, -3.1372e-02,\n",
            "          1.2805e-01, -1.8201e-01, -3.8135e-01, -8.5266e-02,  1.2840e-02,\n",
            "          2.0129e-01,  2.1521e-01,  3.1885e-01, -2.2632e-01,  2.0361e-01,\n",
            "          8.1604e-02,  6.9336e-01,  5.1367e-01, -3.7207e-01, -5.6055e-01,\n",
            "         -2.3376e-01, -6.0889e-01,  3.6865e-01, -3.6816e-01, -4.0942e-01,\n",
            "         -2.7783e-01,  3.2593e-01,  4.2944e-01, -2.8589e-01,  2.5806e-01,\n",
            "          4.8560e-01,  3.1006e-01, -1.5259e-01,  2.7319e-01, -4.2432e-01,\n",
            "          2.4121e-01, -9.5520e-02,  2.0166e-01, -3.3545e-01, -1.9678e-01,\n",
            "         -1.0681e-01,  8.5059e-01,  6.8359e-01,  3.4668e-01, -2.8931e-01,\n",
            "          5.4688e-01,  2.4414e-01, -1.8152e-01,  9.2285e-02,  6.3965e-02,\n",
            "          2.3364e-01,  2.0056e-01,  9.7717e-02, -1.7102e-01,  1.9421e-01,\n",
            "         -3.7817e-01, -2.3975e-01,  2.1988e-02,  2.2400e-02, -1.9897e-01,\n",
            "         -7.0801e-01, -4.0430e-01, -3.0273e-01, -1.6663e-01, -6.0742e-01,\n",
            "          3.2690e-01, -4.8999e-01, -7.8711e-01, -9.4116e-02,  6.8066e-01,\n",
            "         -6.0425e-02, -4.2686e-03, -1.3123e-01, -8.0322e-01, -4.4653e-01,\n",
            "          8.1543e-02,  6.9336e-01, -4.4312e-01, -5.8838e-02,  1.9196e-02,\n",
            "          1.4636e-01, -3.9087e-01,  1.4539e-01,  1.0779e-01, -5.1453e-02,\n",
            "          4.1602e-01, -5.0537e-01, -2.3462e-01,  1.8030e-01,  2.5781e-01,\n",
            "          9.0698e-02, -7.6721e-02,  4.6082e-02, -2.2412e-01,  3.5986e-01,\n",
            "         -5.5078e-01, -2.0767e-02,  1.8311e-01,  4.1724e-01,  1.9299e-01,\n",
            "         -2.0981e-02,  5.2834e-04,  5.2124e-02, -3.9331e-01, -1.3281e-01,\n",
            "          4.2664e-02, -4.6051e-02, -4.2529e-01, -5.8167e-02, -4.1064e-01,\n",
            "          3.6646e-01, -2.1835e-02,  1.4755e-02, -4.5459e-01,  1.8237e-01,\n",
            "         -5.1453e-02, -9.7351e-03, -5.7953e-02, -9.9182e-02, -6.9043e-01,\n",
            "         -5.0928e-01,  2.6245e-01,  5.0507e-02, -1.8018e-01, -3.9258e-01,\n",
            "          2.3071e-01, -5.5664e-01, -8.4778e-02, -7.8491e-02,  2.9761e-01,\n",
            "          3.0225e-01,  9.2529e-02,  2.9199e-01, -5.2295e-01, -6.5651e-03,\n",
            "          5.1514e-02, -6.3379e-01,  1.1780e-01, -3.8452e-02,  3.8770e-01,\n",
            "          9.9640e-03,  3.0615e-01,  2.7881e-01, -4.7534e-01, -2.6953e-01,\n",
            "         -5.1562e-01,  4.7314e-01,  2.4536e-01, -7.2705e-01,  3.2251e-01,\n",
            "         -2.4780e-01,  1.7554e-01, -5.5664e-01,  2.6831e-01,  3.3838e-01,\n",
            "          6.8359e-02, -2.5439e-01, -7.1875e-01,  1.1353e-01,  1.1090e-01,\n",
            "         -5.1465e-01, -6.6357e-01, -9.6680e-01,  1.3318e-01, -2.6465e-01,\n",
            "          5.1392e-02, -1.2344e-02,  3.5205e-01, -4.7516e-02,  5.6671e-02,\n",
            "         -1.9958e-01, -4.6704e-01,  4.7827e-01, -4.5776e-02,  1.9629e-01,\n",
            "         -5.8936e-01,  3.3057e-01,  6.8311e-01,  6.5857e-02, -2.8214e-02,\n",
            "         -1.5537e+00, -2.0789e-01, -2.3071e-01,  1.5149e-01, -3.0371e-01,\n",
            "         -6.8970e-02,  4.5996e-01, -2.0911e-01,  5.2795e-02, -6.4621e-03,\n",
            "          1.7700e-01, -4.9248e-03,  7.4768e-02, -5.7861e-01,  2.7612e-01,\n",
            "          1.2842e-01, -3.0298e-01,  5.0323e-02, -1.0962e-01, -6.5063e-02,\n",
            "         -2.5073e-01, -4.2310e-01,  1.0098e+00,  3.6963e-01,  3.0054e-01,\n",
            "          6.1836e-03,  2.1558e-01, -3.6548e-01, -4.0479e-01, -2.6562e-01,\n",
            "          1.5283e-01, -9.0381e-01, -2.6221e-01, -4.3994e-01, -3.0121e-02,\n",
            "          1.4685e-01, -1.3565e-02, -2.1045e-01,  2.0642e-01, -2.5269e-01,\n",
            "          4.8218e-01, -3.8477e-01,  1.0498e-02,  4.5166e-01,  4.7559e-01,\n",
            "          5.3174e-01,  1.4148e-01, -2.0923e-01,  1.9128e-01, -1.5305e-02,\n",
            "          1.4707e+00,  3.6816e-01, -2.6025e-01, -4.4043e-01,  2.1570e-01,\n",
            "         -6.2622e-02,  1.2657e-02, -1.6589e-01,  1.6321e-01, -4.3579e-02,\n",
            "         -9.9268e-01, -4.9622e-02,  5.6885e-01, -5.0903e-02,  5.5298e-02,\n",
            "         -1.9080e-01, -5.9326e-01, -8.8867e-01,  1.5297e-02, -7.0862e-02,\n",
            "          6.7139e-01, -4.2053e-02,  4.2065e-01, -1.2805e-01,  5.2637e-01,\n",
            "         -6.3672e-01,  9.9023e-01, -2.9572e-02,  2.9199e-01, -2.0667e-01,\n",
            "         -9.8267e-03, -2.9126e-01,  4.6899e-01, -5.4443e-01, -1.4380e-01,\n",
            "          9.8328e-02,  7.4756e-01,  1.3330e-01,  5.3125e-01,  1.0608e-01,\n",
            "          1.4221e-01,  4.5923e-01,  2.3755e-01, -9.1748e-01,  3.0859e-01,\n",
            "          4.6173e-02,  1.7334e-01,  9.0637e-02, -6.0205e-01,  2.9404e-02,\n",
            "          1.6541e-01,  4.2383e-01, -1.4124e-01,  2.5903e-01, -1.9287e-01,\n",
            "          4.5923e-01, -6.1279e-01,  2.6416e-01, -2.9712e-01,  2.6413e-02,\n",
            "         -3.3521e-01, -8.1592e-01, -6.2158e-01, -5.6006e-01,  4.8853e-01,\n",
            "         -2.8564e-01,  1.3391e-01, -4.6924e-01, -2.5269e-01,  8.9966e-02,\n",
            "          1.5686e-01, -9.7188e+00,  1.5381e-01, -3.1592e-01, -2.4670e-01,\n",
            "         -2.1924e-01,  3.1543e-01,  3.8477e-01,  1.6846e-01, -5.7666e-01,\n",
            "          5.1074e-01, -9.6338e-01, -1.1285e-01,  1.4209e-01, -8.0420e-01,\n",
            "         -7.6172e-01,  3.8623e-01,  6.6113e-01, -5.1318e-01,  7.7963e-04,\n",
            "          5.5957e-01, -3.8721e-01, -6.0547e-01, -1.9519e-01, -3.9764e-02,\n",
            "          6.0010e-01,  4.0991e-01,  3.8452e-02, -8.9966e-02,  2.9236e-02,\n",
            "          6.3477e-01, -4.2188e-01, -2.7808e-01,  1.5381e-01,  1.9080e-01,\n",
            "         -1.9092e-01, -5.1221e-01,  3.0615e-01,  2.0728e-01,  7.4414e-01,\n",
            "          1.3892e-01,  4.5312e-01, -8.6670e-01, -2.4390e-01, -1.6418e-02,\n",
            "          5.9570e-01, -2.5171e-01, -5.0293e-01, -1.9885e-01,  3.2520e-01,\n",
            "         -2.5818e-02, -1.4795e-01,  2.2852e-01,  8.8623e-01, -5.6641e-01,\n",
            "          1.0339e-01,  1.6284e-01, -3.9038e-01, -1.4868e-01, -1.0156e-01,\n",
            "         -7.9407e-02,  2.9834e-01, -7.1045e-01, -2.6587e-01, -5.0244e-01,\n",
            "         -2.4036e-01,  3.5596e-01, -3.7793e-01,  5.6689e-01,  6.2317e-02,\n",
            "         -4.0576e-01, -1.8457e-01, -1.1005e-01,  5.3076e-01,  1.7859e-01,\n",
            "         -5.0342e-01, -3.4766e-01, -2.8711e-01, -2.7563e-01,  1.3440e-01,\n",
            "          2.2742e-01, -3.8116e-02,  1.7285e-01, -8.4305e-03,  6.3623e-01,\n",
            "         -8.0261e-03,  1.4172e-01, -6.6719e-03,  8.0762e-01,  5.7715e-01,\n",
            "          5.2734e-01,  8.0371e-01, -2.8442e-01,  9.5337e-02, -1.8213e-01,\n",
            "          7.6367e-01,  7.2998e-02, -4.9805e-01, -8.8281e-01,  5.7648e-02,\n",
            "         -1.6870e-01,  2.7075e-01, -4.6240e-01,  4.2993e-01,  1.1511e-01,\n",
            "         -4.1626e-01, -1.8713e-01,  2.8857e-01,  8.5815e-02,  3.6713e-02,\n",
            "          2.1143e-01, -2.2095e-01, -8.2397e-02, -2.1387e-01,  6.8896e-01,\n",
            "          4.1528e-01,  2.1484e-01,  1.1676e-01, -2.4796e-02, -3.4473e-01,\n",
            "          9.4922e-01,  6.0486e-02, -2.6001e-01, -7.2510e-02,  3.8379e-01,\n",
            "          8.8594e+00, -3.8281e-01,  5.6299e-01, -3.7378e-01,  4.0210e-01,\n",
            "         -4.8730e-01,  8.5986e-01,  1.8311e-01, -1.5454e-01, -2.4673e-02,\n",
            "         -2.1887e-01,  6.7725e-01,  1.0078e+00, -1.9995e-01,  3.6621e-01,\n",
            "         -3.7549e-01, -1.3770e-01,  1.7914e-02,  3.0054e-01,  4.8364e-01,\n",
            "          1.8396e-01, -2.2461e-01, -3.2080e-01,  5.2834e-03, -2.6099e-01,\n",
            "          4.3799e-01,  5.2100e-01, -2.3407e-02, -1.0327e-01,  3.7305e-01,\n",
            "         -2.2559e-01, -1.1646e-01, -2.2974e-01, -3.2300e-01,  6.5857e-02,\n",
            "          8.7219e-02, -3.3276e-01,  4.4037e-02,  3.5864e-01,  2.1228e-01,\n",
            "         -2.4048e-02, -2.9590e-01, -1.3672e-01, -9.9902e-01,  1.6528e-01,\n",
            "         -5.8502e-02,  4.6265e-02, -6.9275e-02,  2.2693e-01, -7.0215e-01,\n",
            "         -3.0933e-01, -2.3327e-03, -3.4155e-01,  4.1919e-01,  2.4377e-01,\n",
            "         -1.6174e-01,  1.0828e-01, -1.6797e-01, -6.2451e-01, -2.8223e-01,\n",
            "          5.2002e-01, -1.2646e-01,  1.7053e-01,  2.2046e-01, -6.3281e-01,\n",
            "         -1.2018e-01, -2.7856e-01,  1.4001e-01, -4.5044e-01, -7.2449e-02,\n",
            "          2.5610e-01,  1.0040e-01,  4.1504e-01, -2.0764e-01, -7.3914e-02,\n",
            "          2.0972e-01, -2.7417e-01, -2.2217e-01,  1.6528e-01, -1.3336e-02,\n",
            "         -2.9248e-01,  6.8555e-01,  4.0674e-01,  4.6272e-03,  1.3721e-01,\n",
            "          2.8638e-01,  4.4312e-02, -5.8545e-01, -5.5518e-01,  3.6450e-01,\n",
            "          1.7834e-01, -4.3152e-02, -2.8198e-01, -6.4062e-01,  4.9365e-01,\n",
            "         -5.6689e-01,  2.3486e-01, -2.7490e-01, -2.3767e-01,  6.6162e-01,\n",
            "         -4.0588e-02, -4.5593e-02, -1.9177e-01,  2.7856e-01, -4.2554e-01,\n",
            "          2.2385e-02, -8.1482e-02, -2.4902e-02, -2.5391e-01,  2.9053e-01,\n",
            "          1.7810e-01, -2.2083e-01,  4.9634e-01, -3.6963e-01, -4.6216e-01,\n",
            "         -1.1909e-02, -1.4971e+00, -2.7856e-01, -6.1768e-01,  3.0908e-01,\n",
            "         -1.1768e+00, -6.3721e-02, -1.3771e-02,  1.2878e-01, -6.4893e-01,\n",
            "          3.3691e-01,  2.9590e-01, -1.9080e-01,  1.3354e-01,  5.0262e-02,\n",
            "         -9.8999e-02,  3.0273e-01, -1.1123e+00, -1.4067e-04,  5.5225e-01,\n",
            "          4.0063e-01,  1.9836e-01, -4.3188e-01, -5.6854e-02,  7.8491e-02,\n",
            "         -1.5430e-01, -3.0640e-01, -6.1670e-01,  8.2666e-01, -4.0161e-01,\n",
            "         -1.0791e-01, -3.6255e-02, -2.4060e-01, -5.4492e-01, -9.3079e-02,\n",
            "         -5.8545e-01,  3.5107e-01,  3.9282e-01, -2.5659e-01, -2.0593e-01,\n",
            "          2.5562e-01,  3.2031e-01, -1.7004e-01,  1.1090e-01, -1.1055e-02,\n",
            "          1.1560e-01,  5.3406e-03,  3.5669e-01, -2.6779e-02,  4.0234e-01,\n",
            "         -5.5029e-01,  3.3154e-01,  6.9336e-02,  2.4756e-01, -9.5093e-02,\n",
            "          6.7480e-01,  1.3342e-01, -8.1738e-01,  7.8918e-02,  3.5986e-01,\n",
            "          1.6159e-02, -3.2202e-01, -1.1016e+00, -9.2468e-02,  1.6016e-01,\n",
            "         -1.4014e-01,  5.1239e-02, -5.4004e-01, -3.1616e-01, -7.8809e-01,\n",
            "         -3.4277e-01,  2.3816e-01,  1.4233e-01, -2.4365e-01,  9.3066e-01,\n",
            "         -3.8757e-02,  4.3311e-01, -1.0752e+00,  5.0000e-01,  9.0869e-01,\n",
            "          6.4111e-01,  1.4124e-01,  1.3586e-01, -5.5603e-02, -2.2241e-01,\n",
            "         -2.2864e-01, -3.1152e-01,  4.3427e-02, -3.5547e-01,  8.8916e-01,\n",
            "         -3.5327e-01,  1.8567e-01, -3.4839e-01, -5.1807e-01,  1.9562e-02,\n",
            "          9.9670e-02,  6.3818e-01,  5.4248e-01, -5.8960e-02,  4.0698e-01,\n",
            "          3.7134e-01, -4.6661e-02,  1.4868e-01, -3.9087e-01,  1.7651e-01,\n",
            "          1.8201e-01,  6.7749e-02,  1.6577e-01,  1.4671e-02, -4.9536e-01,\n",
            "          1.6113e-01, -1.7896e-01,  2.7588e-01,  3.4814e-01,  8.8086e-01,\n",
            "         -3.4229e-01,  4.0796e-01, -1.7114e-01, -6.3916e-01, -2.9614e-01,\n",
            "         -1.8616e-01,  2.6587e-01, -5.5762e-01,  2.7881e-01,  1.2463e-01,\n",
            "         -3.0664e-01, -3.0960e-02, -3.6987e-01, -1.3817e-02,  3.5339e-02,\n",
            "          6.9580e-02,  5.1758e-01, -5.2100e-01,  7.7734e-01,  5.3070e-02,\n",
            "          2.3914e-01, -2.3816e-01,  6.7139e-03, -3.8013e-01,  3.3325e-01,\n",
            "          5.2344e-01,  2.9834e-01,  4.8920e-02, -2.3450e-01,  9.9304e-02,\n",
            "         -3.4937e-01, -6.0010e-01, -1.3013e-01, -6.2305e-01, -1.3733e-01,\n",
            "          6.8555e-01, -2.9126e-01,  3.6841e-01,  9.0637e-03, -2.1619e-01,\n",
            "         -2.6505e-02,  4.9866e-02,  1.9287e-01, -2.5122e-01,  7.0508e-01,\n",
            "         -2.9395e-01,  4.2725e-01,  4.7882e-02, -1.6266e-02, -3.8135e-01,\n",
            "         -5.6299e-01, -1.2744e-01, -4.3823e-02, -8.3984e-01,  6.2012e-01,\n",
            "          4.4263e-01, -5.6982e-01, -3.2739e-01, -3.1714e-01,  5.2100e-01,\n",
            "         -1.0828e-01,  2.1094e-01, -5.7861e-01, -2.7008e-03, -6.6711e-02,\n",
            "         -7.8076e-01,  2.9297e-01,  1.6528e-01, -1.2474e-02, -3.3667e-01,\n",
            "          5.6396e-01, -3.2202e-01, -2.2058e-01,  3.6938e-01, -4.7821e-02,\n",
            "          1.0850e+00,  1.8628e-01, -9.6619e-02,  1.1719e-02,  1.0791e-01,\n",
            "         -1.9150e-03,  1.3330e-01, -5.6641e-01,  1.0107e-01,  1.9434e-01,\n",
            "          6.5491e-02,  6.3965e-02,  4.9219e-01,  7.0801e-03, -3.2898e-02,\n",
            "         -5.0049e-01, -2.1777e-01,  2.6880e-01,  2.9028e-01, -5.5078e-01,\n",
            "         -1.4392e-01,  3.2129e-01, -2.9761e-01]], dtype=torch.float16), 'What is the condition of the road in this image?': tensor([[ 2.3560e-02,  6.1182e-01,  5.2295e-01,  4.3262e-01,  7.7332e-02,\n",
            "         -3.6572e-01,  5.7764e-01,  5.3320e-01,  5.0928e-01, -1.2408e-01,\n",
            "          2.0889e-02, -3.1055e-01, -6.0010e-01,  1.1615e-01, -3.4766e-01,\n",
            "          2.2858e-02,  1.2930e+00,  3.6719e-01,  2.9980e-01, -2.7222e-01,\n",
            "          4.8859e-02,  1.6772e-01, -2.8857e-01, -3.6426e-01,  1.4313e-02,\n",
            "         -4.4873e-01, -3.1769e-02, -2.5249e-04,  2.7417e-01,  2.0166e-01,\n",
            "         -1.4941e-01,  3.7085e-01,  3.8452e-01, -2.2583e-01, -6.8066e-01,\n",
            "          2.1094e-01, -3.8623e-01,  2.5244e-01, -1.2524e-01, -1.4941e-01,\n",
            "         -9.9976e-02,  2.7490e-01,  1.0663e-01,  1.6022e-02,  1.5625e-01,\n",
            "          2.6025e-01,  2.7466e-01,  5.5145e-02, -2.9614e-01, -4.4971e-01,\n",
            "         -7.4280e-02, -4.6899e-01,  3.7134e-01, -2.7905e-01, -2.7490e-01,\n",
            "         -4.3530e-01,  6.8799e-01,  4.3970e-01, -1.3354e-01, -2.3474e-01,\n",
            "          4.6069e-01,  1.9409e-02,  3.9917e-02,  4.1626e-01,  6.9237e-03,\n",
            "          3.4351e-01,  5.5176e-01,  1.7798e-01,  4.2084e-02,  2.7393e-01,\n",
            "         -7.1594e-02,  1.3965e-01,  2.7661e-01,  4.7266e-01,  3.0469e-01,\n",
            "         -7.6465e-01, -7.4219e-01, -2.5101e-02, -3.0792e-02, -3.4082e-01,\n",
            "          2.8613e-01, -6.5918e-01, -3.2227e-01, -4.6680e-01,  5.5469e-01,\n",
            "          2.4719e-01, -1.0284e-02,  2.0111e-02, -7.3193e-01, -5.5145e-02,\n",
            "          2.1130e-01,  7.3877e-01, -1.9312e-01, -6.6895e-02, -3.6230e-01,\n",
            "          2.7686e-01, -5.3711e-01,  5.8350e-02,  1.0413e-01, -4.1553e-01,\n",
            "         -1.7175e-01, -8.8623e-01, -3.9966e-01, -2.3926e-02,  2.2693e-01,\n",
            "          6.9141e-01, -2.8979e-01,  9.9792e-02,  2.4023e-01,  3.6328e-01,\n",
            "         -5.0879e-01,  2.1521e-01,  1.4148e-01,  1.6956e-01, -3.0371e-01,\n",
            "         -8.7051e-03, -7.4414e-01, -2.9639e-01,  1.3039e-02, -1.9012e-02,\n",
            "          3.3478e-02, -8.3984e-02, -1.9360e-01, -3.4131e-01, -1.8982e-01,\n",
            "          6.2500e-01, -1.4880e-01, -1.2329e-01,  2.4414e-02,  2.7002e-01,\n",
            "         -1.4542e-02,  3.6499e-01, -2.2302e-01,  1.0400e-01, -3.3154e-01,\n",
            "         -3.4888e-01,  1.2952e-01,  3.5718e-01, -1.2347e-01, -2.5269e-01,\n",
            "          9.7839e-02, -6.1230e-01,  1.2372e-01, -2.1606e-01, -7.1411e-02,\n",
            "         -1.9995e-01, -4.3945e-02,  1.7566e-01, -2.8955e-01, -3.6694e-01,\n",
            "         -8.7662e-03, -2.9883e-01,  2.0898e-01, -3.8721e-01,  1.8250e-01,\n",
            "          3.2251e-01,  3.2910e-01,  2.9419e-01, -1.3684e-01, -4.2578e-01,\n",
            "         -3.0249e-01,  4.7998e-01,  5.9998e-02, -2.7734e-01, -2.0593e-01,\n",
            "         -3.5352e-01,  7.7148e-02, -4.9951e-01,  5.7520e-01, -2.7466e-01,\n",
            "         -1.4844e-01, -3.9917e-01, -5.2588e-01, -3.0713e-01,  3.1665e-01,\n",
            "         -2.5464e-01, -5.1025e-01, -1.3994e+00,  5.1904e-01, -4.3213e-01,\n",
            "          2.1643e-01,  2.9480e-02,  2.6642e-02, -2.2058e-01,  8.8867e-02,\n",
            "         -2.3486e-01, -4.4128e-02,  2.7368e-01,  3.6987e-01, -3.7866e-01,\n",
            "         -4.3140e-01,  8.3008e-01,  4.6436e-01,  7.5439e-02, -9.9243e-02,\n",
            "         -1.1797e+00, -6.0400e-01,  3.5913e-01, -2.3657e-01, -4.3115e-01,\n",
            "          8.2397e-02, -3.8867e-01, -1.4929e-01, -3.1891e-02, -2.0081e-01,\n",
            "          2.7148e-01, -3.3936e-01, -7.1167e-02, -3.8354e-01,  7.8674e-02,\n",
            "         -4.3488e-02, -4.8560e-01, -2.1167e-01, -2.4744e-01,  8.0032e-03,\n",
            "          6.5491e-02, -4.1309e-01,  8.9453e-01,  2.4451e-01,  4.7803e-01,\n",
            "          2.8931e-01, -3.6377e-02, -5.9424e-01, -5.1074e-01, -3.9844e-01,\n",
            "         -1.3562e-01, -1.2598e+00, -2.4460e-02,  1.0809e-01, -1.5808e-01,\n",
            "          3.3911e-01, -3.3789e-01, -2.7417e-01,  1.0938e-01, -1.8140e-01,\n",
            "         -3.7689e-02, -7.4072e-01,  1.5515e-01,  3.3521e-01,  4.1309e-01,\n",
            "          4.5898e-01,  5.5029e-01, -5.0415e-02, -3.6392e-03,  2.0142e-01,\n",
            "          1.4844e+00,  2.3895e-02, -4.5532e-02, -3.7476e-01,  6.4990e-01,\n",
            "          5.2930e-01, -3.4106e-01, -1.4099e-01, -7.2693e-02, -2.0935e-01,\n",
            "         -7.5391e-01,  4.0649e-02,  7.2949e-01,  3.1079e-01,  4.9835e-02,\n",
            "         -3.9233e-01, -5.3076e-01, -5.9766e-01,  6.2988e-02,  2.2351e-01,\n",
            "          5.9814e-01, -1.3562e-01, -1.7749e-01, -3.3325e-01,  3.0933e-01,\n",
            "         -5.9912e-01,  5.5420e-01,  3.6865e-02,  2.2839e-01, -1.1212e-01,\n",
            "         -2.1704e-01, -5.0293e-01,  3.1226e-01, -2.6685e-01, -5.3467e-01,\n",
            "          7.6965e-02,  1.7761e-01,  9.5825e-02,  1.7920e-01,  7.4463e-02,\n",
            "         -2.2681e-01,  5.1562e-01,  5.1660e-01, -5.0439e-01,  3.4204e-01,\n",
            "          1.3208e-01,  2.9639e-01, -3.3569e-01, -7.3340e-01,  4.3066e-01,\n",
            "          6.5820e-01,  2.9956e-01, -1.6858e-01,  2.1802e-01,  1.5125e-01,\n",
            "          2.5684e-01, -4.1797e-01,  2.0630e-01, -3.5181e-01,  8.5876e-02,\n",
            "         -6.6064e-01, -8.7451e-01, -2.7466e-01, -3.1519e-01,  3.4595e-01,\n",
            "         -6.4111e-01,  1.4856e-01, -7.4316e-01,  2.4976e-01,  2.5439e-01,\n",
            "          4.1162e-01, -9.1641e+00,  6.9763e-02, -3.2275e-01,  7.8003e-02,\n",
            "         -9.2163e-02, -3.5376e-01,  7.5098e-01, -1.6418e-02, -5.2539e-01,\n",
            "          8.6572e-01, -1.1826e+00, -6.7920e-01,  2.2644e-01,  9.3155e-03,\n",
            "         -5.9326e-01,  5.4980e-01,  6.4941e-01, -4.2432e-01, -2.2839e-01,\n",
            "          1.8701e-01, -9.7595e-02, -9.6436e-01, -1.2915e-01, -3.9746e-01,\n",
            "          1.9385e-01,  3.9697e-01, -2.0544e-01, -5.5664e-02, -8.7280e-02,\n",
            "          5.6250e-01, -3.7573e-01, -5.7178e-01,  3.2690e-01,  3.2080e-01,\n",
            "         -4.1687e-02, -6.4502e-01, -2.9761e-01,  9.4043e-01,  2.6440e-01,\n",
            "          2.2049e-02,  6.9385e-01, -8.0762e-01, -2.1347e-02,  4.7339e-01,\n",
            "          4.6655e-01, -5.1318e-01, -6.1914e-01,  5.0293e-01,  4.9341e-01,\n",
            "          2.4951e-01,  1.5369e-01,  5.4883e-01,  9.8096e-01, -4.5923e-01,\n",
            "         -8.1116e-02,  7.7942e-02, -3.3252e-01, -4.3652e-01, -3.8361e-02,\n",
            "         -1.7200e-01,  1.0126e-01, -8.9050e-02, -2.8784e-01,  5.4016e-02,\n",
            "          3.7891e-01,  3.5620e-01, -2.3145e-01,  1.7419e-01,  2.7710e-01,\n",
            "         -3.8232e-01, -2.4805e-01, -7.2327e-02,  8.0127e-01, -9.1736e-02,\n",
            "         -3.9478e-01, -2.4951e-01,  8.7402e-02, -4.2432e-01, -1.2097e-01,\n",
            "          1.4270e-01,  1.1963e-01, -1.7993e-01, -3.3472e-01,  5.2441e-01,\n",
            "          9.1248e-02,  5.1611e-01, -4.4702e-01,  3.3447e-01,  1.7656e+00,\n",
            "          5.0293e-01,  1.1318e+00, -2.2839e-01,  1.7493e-01,  5.2528e-03,\n",
            "          5.8643e-01,  1.0815e-01,  4.4952e-02, -7.5195e-01,  2.8052e-01,\n",
            "          1.6235e-01,  3.8916e-01, -2.1912e-02,  3.8159e-01, -3.1665e-01,\n",
            "         -7.0068e-01,  6.4697e-02,  2.9810e-01,  3.8281e-01, -1.0986e-01,\n",
            "          1.8652e-01, -2.3108e-01,  1.5833e-01, -7.4844e-03,  8.2080e-01,\n",
            "          2.1484e-01,  2.8271e-01,  2.2278e-01,  1.0919e-01, -1.6711e-01,\n",
            "          1.2393e+00, -3.4790e-02, -2.9956e-01,  4.5242e-03,  8.1250e-01,\n",
            "          8.6484e+00, -7.5012e-02,  1.6797e-01, -3.0249e-01,  1.7676e-01,\n",
            "         -2.7539e-01,  8.5840e-01,  2.2729e-01,  2.8540e-01, -4.4482e-01,\n",
            "         -2.0691e-01,  5.2246e-01,  1.0049e+00, -5.6213e-02,  2.1875e-01,\n",
            "         -2.8491e-01,  4.2229e-03,  7.4341e-02,  3.4204e-01,  2.4329e-01,\n",
            "         -2.2559e-01,  1.1925e-02, -1.1169e-01, -1.0101e-01, -1.8066e-02,\n",
            "         -3.7048e-02,  8.8916e-01,  4.8071e-01, -1.7224e-01,  4.5776e-01,\n",
            "         -1.7285e-01, -3.8696e-02,  2.7002e-01, -1.8225e-01,  2.1204e-01,\n",
            "          2.8955e-01, -3.7256e-01,  1.7181e-02,  3.9453e-01, -1.6321e-01,\n",
            "          2.7026e-01, -4.3140e-01, -1.4587e-01, -9.1309e-01,  7.4158e-03,\n",
            "         -1.2445e-01, -1.1743e-01, -5.8057e-01, -9.8267e-02, -8.4424e-01,\n",
            "         -8.7524e-02,  3.0469e-01, -5.4932e-01,  6.4819e-02,  3.1055e-01,\n",
            "          1.0040e-01,  4.7302e-03, -3.2227e-01, -3.8916e-01,  8.0811e-02,\n",
            "          2.4255e-01, -1.8616e-01,  3.0127e-01,  6.0742e-01, -1.0508e+00,\n",
            "          5.5908e-02,  3.0640e-02, -2.1805e-02, -1.1035e+00,  2.4829e-01,\n",
            "          3.6279e-01,  2.5415e-01,  2.3108e-01, -3.7524e-01, -5.7715e-01,\n",
            "          8.6975e-02, -5.4736e-01, -2.1960e-01,  2.4988e-01, -1.2396e-01,\n",
            "          2.0276e-01,  2.6221e-01,  1.2421e-01, -3.7598e-02, -6.7627e-02,\n",
            "          3.4790e-01,  1.3049e-01,  8.3191e-02, -1.3203e+00,  5.4108e-02,\n",
            "         -4.3481e-01, -2.2534e-01, -1.4832e-01, -1.6736e-01,  3.8794e-01,\n",
            "         -3.3203e-01, -1.1796e-04,  1.3867e-01, -7.9395e-01,  6.2061e-01,\n",
            "          2.0959e-01,  4.8633e-01, -8.9172e-02,  4.8096e-01, -3.8330e-01,\n",
            "         -1.2048e-01, -2.2675e-02, -2.2400e-01, -5.1514e-01,  1.4441e-01,\n",
            "         -1.0901e-01, -3.3960e-01,  3.7036e-01,  9.8206e-02, -4.9854e-01,\n",
            "         -2.0605e-01, -1.2715e+00,  3.5229e-01, -1.5686e-01,  1.2476e-01,\n",
            "          1.1304e-01, -5.6787e-01, -1.2573e-01, -1.8713e-01, -8.4912e-01,\n",
            "          7.8613e-01,  1.5833e-01,  6.5002e-02, -1.7847e-01,  3.8110e-01,\n",
            "          6.0986e-01, -2.0660e-02, -6.6455e-01,  1.5100e-01,  4.8779e-01,\n",
            "          1.6235e-02,  7.9712e-02, -1.7090e-01, -2.7051e-01,  1.1462e-01,\n",
            "         -2.1655e-01, -1.5259e-01,  3.1052e-03,  3.2373e-01, -3.4912e-01,\n",
            "         -5.0146e-01, -1.1584e-01, -1.1664e-01, -2.9956e-01, -2.1045e-01,\n",
            "         -3.6499e-01, -1.8079e-01,  1.2805e-01, -3.4009e-01, -3.0640e-01,\n",
            "          6.0449e-01,  9.9121e-02,  1.4783e-01,  3.3051e-02, -3.1519e-01,\n",
            "          4.1779e-02,  2.2095e-01,  5.1807e-01,  2.7539e-01,  2.3572e-01,\n",
            "         -2.5586e-01, -3.7018e-02,  3.2227e-01, -1.2292e-01,  1.0138e-01,\n",
            "          2.3279e-01,  2.1729e-01, -9.9512e-01,  2.2095e-02,  7.6221e-01,\n",
            "          1.6077e-01, -3.1299e-01, -1.0752e+00, -2.3328e-01,  1.3782e-01,\n",
            "         -3.7793e-01,  1.9302e-02, -3.4131e-01, -5.1611e-01, -1.6382e-01,\n",
            "         -2.1204e-01,  3.7988e-01,  1.4856e-01, -4.6875e-01,  7.1533e-01,\n",
            "         -5.6201e-01,  1.8469e-01, -7.5684e-01,  6.3770e-01,  6.2598e-01,\n",
            "          3.3276e-01,  1.7883e-02,  3.4961e-01, -2.9712e-01, -3.4326e-01,\n",
            "         -4.4849e-01, -7.7759e-02,  1.9250e-01, -5.8838e-01,  7.6416e-01,\n",
            "          5.7526e-02, -1.6113e-02, -3.4790e-01, -2.5269e-01, -4.2163e-01,\n",
            "          7.1899e-02,  4.0991e-01,  5.3809e-01,  1.1688e-01,  5.8789e-01,\n",
            "          2.3218e-01, -5.6689e-01, -7.4463e-02, -2.9248e-01,  5.9082e-01,\n",
            "          3.3228e-01, -1.2708e-01,  2.4365e-01,  4.2993e-01, -2.7344e-01,\n",
            "         -5.1147e-02,  1.7883e-01, -1.1823e-01,  1.6028e-01,  1.0215e+00,\n",
            "         -2.0044e-01,  4.2358e-01, -1.5063e-01, -5.7275e-01, -1.1633e-01,\n",
            "         -6.5625e-01,  1.3000e-01, -5.3271e-01,  1.1688e-01, -2.7368e-01,\n",
            "         -3.6157e-01, -1.2512e-01, -8.0859e-01,  6.4758e-02,  5.8258e-02,\n",
            "         -3.6499e-01,  2.6758e-01, -2.4463e-01,  7.1826e-01,  3.9233e-01,\n",
            "          4.1779e-02,  1.0185e-02,  1.7990e-02, -4.9292e-01,  2.6685e-01,\n",
            "          6.3184e-01, -8.6670e-02, -2.9565e-01,  9.9792e-02,  1.2378e-01,\n",
            "         -6.0742e-01, -2.0081e-01, -2.5928e-01, -2.3450e-01,  2.7344e-01,\n",
            "          6.9287e-01, -6.1523e-01,  2.1637e-02, -2.2021e-01,  1.8860e-02,\n",
            "         -8.3923e-02,  2.8052e-01,  2.5806e-01,  3.4839e-01,  8.2373e-01,\n",
            "         -3.2544e-01,  6.1230e-01,  4.2700e-01, -3.1616e-01, -1.6174e-01,\n",
            "         -4.8389e-01,  2.4878e-01, -5.3271e-01, -8.7256e-01,  8.6182e-01,\n",
            "          9.2896e-02, -2.5537e-01,  4.6463e-03, -1.4038e-01,  4.5117e-01,\n",
            "          8.6212e-03,  4.3701e-02, -6.4307e-01, -1.3245e-01,  1.9714e-01,\n",
            "         -3.3862e-01,  5.7715e-01,  2.2876e-01,  3.3838e-01, -9.9060e-02,\n",
            "          1.4905e-01, -5.1660e-01, -6.5552e-02,  3.4180e-01,  2.4524e-01,\n",
            "          9.8291e-01,  2.9907e-01,  5.3894e-02, -2.2119e-01,  4.1846e-01,\n",
            "          1.2830e-01,  1.7285e-01, -5.9521e-01, -1.0760e-01,  7.3914e-02,\n",
            "          1.2231e-01, -1.0919e-01,  2.5488e-01,  4.1931e-02, -1.3306e-01,\n",
            "         -4.0137e-01, -1.1890e-01,  5.0537e-01,  5.7715e-01, -2.6270e-01,\n",
            "         -3.1885e-01,  6.4746e-01,  1.6296e-01]], dtype=torch.float16), 'What is the overall condition of the given image?': tensor([[ 2.1729e-01,  8.8818e-01,  4.3140e-01,  2.4524e-01, -3.2788e-01,\n",
            "         -4.9194e-01, -4.5386e-01,  4.5532e-01,  3.2623e-02, -1.9272e-02,\n",
            "         -1.8677e-01, -1.9214e-01, -2.4963e-01,  4.9438e-01, -7.6965e-02,\n",
            "         -2.4292e-01,  2.0972e-01,  1.5479e-01,  4.2383e-01, -6.2793e-01,\n",
            "          5.6343e-03,  1.7908e-01,  6.3721e-02,  7.5562e-02,  3.9001e-02,\n",
            "         -4.1333e-01, -1.2924e-02, -3.0029e-01,  1.1143e+00, -6.0693e-01,\n",
            "         -3.6523e-01, -2.2125e-02,  1.9458e-01, -5.6671e-02, -5.7324e-01,\n",
            "         -5.5054e-02,  2.9028e-01, -6.6040e-02,  5.3223e-01, -3.7549e-01,\n",
            "         -2.4951e-01,  2.8320e-01, -4.7388e-01,  5.5275e-03, -6.2207e-01,\n",
            "          9.0149e-02, -2.7817e-02, -1.6016e-01,  7.1838e-02, -3.8940e-01,\n",
            "          2.7295e-01, -4.1772e-01,  4.3701e-01,  2.1387e-01, -3.2642e-01,\n",
            "         -1.1157e-01,  4.2163e-01,  2.3560e-01,  2.4377e-01, -1.5161e-01,\n",
            "          5.8887e-01, -4.7095e-01,  3.4332e-02,  7.2461e-01, -2.3486e-01,\n",
            "          8.4766e-01,  5.3125e-01,  1.7456e-01, -1.8570e-02, -1.9739e-01,\n",
            "          2.8564e-01, -7.6599e-02,  2.9932e-01, -1.9666e-01,  4.2188e-01,\n",
            "         -2.2949e-01, -3.8550e-01,  1.0492e-01, -2.0203e-02, -7.4829e-02,\n",
            "         -1.0352e-01, -3.4131e-01,  2.8271e-01, -4.7455e-02,  1.1578e-01,\n",
            "          5.1727e-02, -8.8745e-02,  1.3452e-01, -7.2119e-01,  4.7095e-01,\n",
            "          8.5449e-02,  2.1936e-01,  1.1011e-01, -1.1896e-01, -2.7710e-01,\n",
            "         -1.3062e-01, -9.4971e-02,  2.2629e-02, -4.0833e-02, -1.0736e-01,\n",
            "         -2.5415e-01, -3.8867e-01, -6.5625e-01, -9.2773e-02, -2.0508e-01,\n",
            "          3.0298e-01, -3.5767e-01, -2.1286e-02,  3.6011e-01,  3.5034e-01,\n",
            "          8.0933e-02, -1.0605e-02, -2.3413e-01,  5.1025e-01, -4.0771e-01,\n",
            "          5.8008e-01, -2.8467e-01, -4.2651e-01,  6.0791e-02, -8.2642e-02,\n",
            "         -1.6907e-02,  3.1445e-01,  3.3594e-01,  4.9866e-02, -1.7517e-01,\n",
            "          3.9233e-01, -2.5415e-01, -1.3123e-01,  1.0307e-02, -2.2907e-03,\n",
            "          2.6047e-02,  5.3564e-01,  6.9153e-02, -4.1772e-01, -1.8906e-02,\n",
            "          2.6099e-01, -2.6465e-01,  1.3794e-01,  6.5869e-01,  1.7090e-02,\n",
            "          5.2637e-01, -3.7622e-01,  6.5308e-02, -4.8291e-01,  4.1046e-03,\n",
            "          2.4673e-02,  9.6436e-02, -5.0732e-01,  2.8519e-02, -4.6240e-01,\n",
            "          2.6904e-01,  9.3555e-01, -3.1250e-01,  1.6708e-02,  2.5586e-01,\n",
            "          3.6841e-01, -9.6252e-02,  3.6206e-01,  2.9083e-02, -8.7158e-01,\n",
            "          4.0527e-01, -3.6621e-01,  3.0835e-01, -6.2158e-01, -5.7564e-03,\n",
            "         -5.5762e-01, -5.5078e-01, -2.9175e-01,  6.5002e-02, -6.1621e-01,\n",
            "         -5.1221e-01, -3.0835e-01,  2.0020e-01, -4.0381e-01, -4.4060e-03,\n",
            "         -6.5735e-02,  3.6914e-01, -1.3398e+00,  3.1006e-01, -5.6885e-01,\n",
            "          1.4639e+00, -1.1090e-01, -1.6711e-01, -7.6965e-02, -8.2581e-02,\n",
            "         -4.4043e-01, -8.2617e-01,  4.8492e-02,  4.8853e-01, -5.6348e-01,\n",
            "         -3.2495e-01,  2.4487e-01,  5.4443e-01, -4.6814e-02, -5.0098e-01,\n",
            "         -1.9629e+00, -6.9971e-01,  7.9443e-01,  1.9153e-01, -3.9087e-01,\n",
            "          2.1228e-01, -3.6572e-01, -3.3276e-01,  1.6650e-01, -3.6792e-01,\n",
            "          2.5854e-01, -8.4668e-01,  2.2632e-01,  1.1304e-01,  1.0252e-03,\n",
            "         -1.3062e-02, -9.7275e-03, -4.8047e-01, -8.2703e-02,  6.5857e-02,\n",
            "          6.4600e-01, -5.0659e-02,  2.9761e-01, -2.1881e-02, -5.3174e-01,\n",
            "          2.1362e-01, -1.0215e+00,  3.6548e-01, -3.1543e-01, -1.9324e-01,\n",
            "         -3.1763e-01, -3.8843e-01,  1.6388e-02,  5.2734e-01, -1.3867e-01,\n",
            "          4.9463e-01, -2.9736e-01, -3.7720e-02, -2.8778e-02, -1.3196e-01,\n",
            "         -5.9326e-01, -5.9863e-01,  5.8203e-01,  2.7588e-01,  2.7002e-01,\n",
            "          8.1909e-02,  2.8198e-02, -8.6426e-02, -3.3984e-01, -2.6367e-01,\n",
            "          4.1992e-01,  2.6782e-01,  2.4231e-01, -7.9590e-02,  7.2314e-01,\n",
            "          6.1426e-01, -3.1525e-02,  1.8433e-01, -1.8555e-01, -2.4548e-01,\n",
            "         -2.7979e-01, -4.0161e-02,  1.0967e+00, -1.1230e-01,  1.3782e-01,\n",
            "         -4.1675e-01, -3.5327e-01, -5.1575e-02, -2.7319e-01,  6.1768e-01,\n",
            "          5.0879e-01,  2.6709e-01, -1.0773e-01, -1.1377e+00,  5.1910e-02,\n",
            "         -5.3253e-02, -1.2183e-01,  2.0203e-01,  2.3730e-01, -8.8135e-02,\n",
            "         -5.9961e-01,  9.4299e-02, -5.9668e-01,  1.9409e-01, -2.2568e-02,\n",
            "         -1.2097e-01, -4.0454e-01,  5.1086e-02,  4.5923e-01, -7.5836e-03,\n",
            "         -4.8047e-01, -7.1436e-01,  3.5864e-01, -2.0000e+00, -4.1077e-02,\n",
            "          1.3452e-01,  4.1412e-02, -3.5449e-01, -5.1562e-01, -4.1168e-02,\n",
            "          1.4624e-01, -3.4253e-01,  8.1909e-02, -4.3066e-01,  8.3691e-01,\n",
            "          1.4221e-01, -3.9819e-01, -1.6345e-01, -2.2742e-01, -7.6477e-02,\n",
            "         -8.1348e-01, -4.3872e-01,  6.9727e-01, -4.4116e-01, -2.3483e-02,\n",
            "         -9.0674e-01,  6.9678e-01, -5.4883e-01,  5.2441e-01,  3.4888e-01,\n",
            "         -6.8542e-02, -1.0500e+01, -1.1246e-02, -2.2144e-01,  2.1716e-01,\n",
            "         -9.8694e-02, -1.7371e-01,  3.2812e-01, -6.9946e-02, -2.9590e-01,\n",
            "          2.1423e-01, -1.0098e+00, -4.7241e-01, -1.2720e-01, -1.7249e-01,\n",
            "         -1.1890e-01, -1.8579e-01,  1.1475e-01,  3.2031e-01, -6.5088e-01,\n",
            "         -2.2327e-01,  3.2397e-01, -4.7339e-01, -5.2002e-02, -3.1934e-01,\n",
            "          6.0693e-01, -5.0842e-02,  3.9337e-02,  2.0068e-01,  1.4539e-01,\n",
            "          4.2188e-01, -1.4294e-01, -1.6174e-01,  3.3478e-02,  1.5686e-01,\n",
            "          1.5234e-01, -1.3748e-02, -5.3369e-01,  2.2632e-01, -5.6641e-01,\n",
            "         -4.2816e-02, -8.8684e-02, -1.6711e-01,  1.2598e-01,  6.9385e-01,\n",
            "          1.5717e-02, -1.0664e+00,  5.0049e-01,  6.1475e-01, -2.5415e-01,\n",
            "          3.6719e-01,  8.1543e-01,  1.4844e-01, -1.8665e-01, -3.5229e-01,\n",
            "         -1.4587e-01, -5.1562e-01, -9.8145e-02, -3.1763e-01, -4.3311e-01,\n",
            "         -3.3691e-01, -5.4492e-01, -1.7249e-01, -3.4277e-01,  5.6250e-01,\n",
            "         -1.1902e-01,  5.2148e-01, -1.0675e-01, -2.2751e-02,  5.4346e-01,\n",
            "         -3.3911e-01,  1.7029e-01,  5.2979e-02,  4.4336e-01, -1.6565e-01,\n",
            "          4.4604e-01, -4.4507e-01,  9.6436e-02, -3.7524e-01, -2.7637e-01,\n",
            "         -4.8389e-01,  1.5771e-01, -2.3218e-01, -1.4771e-01,  6.7200e-02,\n",
            "          4.6118e-01,  2.7222e-01,  2.7661e-01, -1.1584e-01,  1.0430e+00,\n",
            "          7.0459e-01,  4.7021e-01,  4.0381e-01,  2.8271e-01,  5.1416e-01,\n",
            "          3.2666e-01, -3.7207e-01,  3.0347e-01, -1.3467e+00, -2.0984e-01,\n",
            "         -1.1145e-01, -9.4116e-02,  2.1008e-01,  4.9683e-02, -3.9844e-01,\n",
            "         -8.9062e-01, -1.7505e-01,  2.1545e-01,  4.4604e-01, -2.2934e-02,\n",
            "         -3.2373e-01, -1.5144e-02, -2.2729e-01, -2.2083e-01, -1.7151e-01,\n",
            "         -2.2842e-02,  5.1025e-02, -8.8013e-02, -1.2305e-01, -2.4805e-01,\n",
            "          1.1787e+00,  5.7324e-01,  2.8076e-01,  1.6699e-01, -4.8096e-02,\n",
            "          9.3281e+00,  2.2107e-01,  2.2180e-01, -1.4978e-01,  1.4075e-01,\n",
            "         -9.4971e-02,  3.8818e-02, -9.2041e-02,  1.0950e-01, -4.2114e-01,\n",
            "         -9.5654e-01,  6.2793e-01,  4.5068e-01,  6.5088e-01,  1.4076e-02,\n",
            "         -4.2896e-01,  2.7856e-01, -6.6016e-01, -9.9060e-02,  1.7395e-01,\n",
            "         -6.7261e-02,  4.6411e-01, -1.8250e-01,  1.2988e-01, -2.0459e-01,\n",
            "         -3.1812e-01,  7.9004e-01,  4.0283e-01, -2.3056e-02,  2.0044e-01,\n",
            "          1.9482e-01,  3.0396e-01,  1.1786e-01,  4.6606e-01,  5.3271e-01,\n",
            "         -8.3350e-01, -8.6182e-02, -2.2668e-01,  6.0449e-01, -2.4128e-03,\n",
            "         -2.8540e-01, -7.5195e-01,  9.0759e-02, -4.3701e-01, -6.2354e-01,\n",
            "          7.7759e-02,  2.6343e-01, -1.3855e-01, -1.9727e-01, -4.4342e-02,\n",
            "          2.4780e-02, -4.9634e-01, -6.9971e-01, -4.3774e-01,  4.0356e-01,\n",
            "         -1.6370e-01,  9.5459e-02,  2.3340e-01,  7.3669e-02, -6.7688e-02,\n",
            "          1.7578e-02, -4.3750e-01,  1.1707e-01, -8.3862e-02, -9.3359e-01,\n",
            "          1.7432e-01,  8.9722e-02, -3.1689e-01, -4.1162e-01,  5.6201e-01,\n",
            "          6.7261e-02, -1.3220e-01,  5.8252e-01, -7.4219e-01, -5.8105e-01,\n",
            "          4.3182e-02,  1.0889e-01, -5.7373e-01, -4.9023e-01,  1.1438e-01,\n",
            "          4.7803e-01,  1.5198e-01,  3.7183e-01, -2.3132e-01, -3.2532e-02,\n",
            "         -5.7471e-01,  1.2598e-01,  2.2986e-01, -1.0469e+00,  4.6973e-01,\n",
            "          1.0211e-01, -1.9165e-01,  1.3342e-01,  8.0811e-02,  2.7295e-01,\n",
            "          4.7925e-01, -1.0675e-01,  4.1895e-01, -8.1885e-01,  2.9688e-01,\n",
            "          2.5220e-01,  3.3301e-01,  2.0349e-01,  4.4116e-01, -7.2656e-01,\n",
            "         -6.2891e-01,  3.6060e-01, -5.5762e-01, -7.4280e-02, -7.3059e-02,\n",
            "          3.2617e-01, -1.1664e-01,  2.9272e-01,  5.2881e-01,  3.1421e-01,\n",
            "         -2.6025e-01, -4.2090e-01, -1.1536e-02, -3.6255e-01,  5.2338e-02,\n",
            "          5.5957e-01, -4.5093e-01, -1.6602e-01, -5.6299e-01, -6.1432e-02,\n",
            "          4.1919e-01, -3.9185e-02, -1.0498e-01, -4.3221e-03,  1.5723e-01,\n",
            "          7.5586e-01, -9.4727e-02,  1.3214e-02,  4.1901e-02,  5.0964e-03,\n",
            "          9.2529e-02, -5.7373e-01,  1.6309e-01,  8.5632e-02,  1.2764e+00,\n",
            "          9.9411e-03, -1.4246e-01,  3.9258e-01, -1.3855e-02,  2.1106e-01,\n",
            "         -2.6514e-01, -2.6074e-01, -2.4182e-01,  3.1934e-01,  3.2178e-01,\n",
            "         -5.4199e-01,  1.8701e-01,  1.8933e-01, -4.5459e-01,  2.6025e-01,\n",
            "          2.9736e-01,  2.5513e-01, -3.6987e-01,  2.9395e-01, -1.6736e-01,\n",
            "         -1.6406e-01, -4.1357e-01,  5.7666e-01,  3.3630e-02,  3.6401e-01,\n",
            "          2.2009e-01, -1.0364e-01, -4.5068e-01,  1.9543e-01, -2.7368e-01,\n",
            "          2.4146e-01,  2.0996e-01, -4.1016e-01, -6.0791e-01,  5.2832e-01,\n",
            "         -3.6768e-01,  6.8420e-02, -5.7471e-01,  2.7759e-01,  8.0469e-01,\n",
            "          1.6333e-01,  1.0034e-01,  5.0488e-01, -3.7036e-01, -3.4277e-01,\n",
            "         -7.0251e-02, -2.9224e-01, -3.5571e-01, -5.7434e-02,  2.5024e-01,\n",
            "         -1.6699e-01,  5.8740e-01, -2.9297e-01,  7.0020e-01, -3.5229e-01,\n",
            "          1.5515e-01,  3.6206e-01, -5.8691e-01, -1.8384e-01, -8.4473e-01,\n",
            "          5.3174e-01,  6.3086e-01,  4.8071e-01, -2.2412e-01,  1.3730e+00,\n",
            "          8.1543e-01, -8.9722e-02, -1.3416e-01,  3.5474e-01, -2.3022e-01,\n",
            "          5.9723e-02,  2.9126e-01,  2.5439e-01,  3.9612e-02, -1.2659e-01,\n",
            "         -1.7798e-01, -5.8008e-01,  5.1416e-01,  6.1572e-01,  6.6992e-01,\n",
            "         -1.5723e-01, -2.5781e-01,  7.2327e-02,  5.5322e-01, -1.1467e-02,\n",
            "         -1.6467e-01, -4.2725e-01, -1.0120e-01, -5.3711e-01,  5.6250e-01,\n",
            "         -1.2457e-01, -2.0349e-01, -2.8076e-01,  5.3894e-02,  3.3264e-02,\n",
            "         -1.2671e-01,  8.0322e-02, -1.3123e-01,  1.7822e-01, -2.9810e-01,\n",
            "         -4.4751e-01, -2.0129e-01, -6.1182e-01, -5.3986e-02,  6.0254e-01,\n",
            "          2.5659e-01,  3.7915e-01,  5.5634e-02, -1.0547e-01,  3.3936e-01,\n",
            "          1.3049e-01,  6.4014e-01, -4.6484e-01, -3.2031e-01,  3.8257e-01,\n",
            "         -1.6431e-01, -2.3413e-01, -6.4026e-02,  6.0938e-01,  1.5137e-01,\n",
            "         -2.5269e-01, -3.8623e-01, -1.2073e-01, -3.4253e-01, -7.0801e-02,\n",
            "          6.1475e-01, -3.6353e-01,  4.0259e-01, -8.3084e-03, -6.3049e-02,\n",
            "         -2.0325e-01, -8.7341e-02,  1.4099e-01,  2.1118e-01,  1.9531e-01,\n",
            "         -2.1179e-01,  2.7686e-01, -1.2866e-01, -2.0093e-01,  3.6719e-01,\n",
            "         -3.5327e-01,  1.0400e+00, -6.1816e-01, -7.1924e-01,  5.6396e-01,\n",
            "          6.4795e-01,  6.5820e-01,  6.3171e-02,  4.8193e-01,  9.3848e-01,\n",
            "         -6.7383e-01, -4.9976e-01,  1.3049e-01, -5.1758e-01, -2.6880e-01,\n",
            "          6.2164e-02,  3.7061e-01, -7.4280e-02,  4.4824e-01,  1.0620e-01,\n",
            "         -9.2773e-02, -3.4839e-01, -8.0872e-02, -4.3652e-01,  5.3613e-01,\n",
            "          4.0723e-01, -9.3018e-02, -1.7480e-01,  3.4521e-01,  2.2003e-02,\n",
            "          3.4521e-01,  3.0493e-01,  2.3389e-01, -2.2668e-01, -2.4597e-01,\n",
            "         -5.3076e-01, -5.9601e-02,  6.0254e-01, -6.2305e-01,  3.6108e-01,\n",
            "         -1.6016e-01, -2.3328e-01,  8.1006e-01,  3.2812e-01,  4.6948e-01,\n",
            "         -1.2671e-01,  1.9519e-01,  5.0098e-01]], dtype=torch.float16)}\n"
          ]
        }
      ]
    },
    {
      "cell_type": "code",
      "source": [
        "class ExperienceReplay:\n",
        "    def __init__(self, samples_per_class=10, num_classes=20, half_batch_size=8):\n",
        "        self.samples_per_class = samples_per_class\n",
        "        self.num_classes = num_classes\n",
        "        self.half_batch_size = half_batch_size\n",
        "\n",
        "        self.memory_size = self.samples_per_class\n",
        "\n",
        "        self.classes_filled = [0] * self.num_classes\n",
        "\n",
        "        self.memory = [[] for _ in range(self.num_classes)]\n",
        "\n",
        "    def update_memory(self, current_batch, elapsed_examples=0):\n",
        "        list_of_examples = unbatch(current_batch)\n",
        "\n",
        "        for ll in range(len(list_of_examples)):\n",
        "            if len(self.memory[list_of_examples[ll][2].item()]) >= self.samples_per_class:\n",
        "                self.memory.pop()\n",
        "                self.memory.append(list_of_examples[ll])\n",
        "            else:\n",
        "                self.memory.append(list_of_examples[ll])\n",
        "\n",
        "        return None\n",
        "\n",
        "    def get_from_memory(self, num_samples):\n",
        "        drawn_samples = []\n",
        "\n",
        "        if sum(self.classes_filled) < num_samples:\n",
        "            mem_filled = [idx for idx, val in enumerate(self.classes_filled) if val != 0]\n",
        "            for mm in mem_filled:\n",
        "                drawn_samples += self.memory[mm]\n",
        "        elif sum(self.classes_filled) >= self.mem_batch_size:\n",
        "            mem_filled = [idx for idx, val in enumerate(self.classes_filled) if val != 0]\n",
        "            for mm in range(self.mem_batch_size):\n",
        "                mem_index = random.choice(mem_filled)\n",
        "                temp_index = random.randint(0, self.classes_filled[mem_index] - 1)\n",
        "                drawn_samples.append(self.memory[mem_index][temp_index])\n",
        "\n",
        "        return drawn_samples\n"
      ],
      "metadata": {
        "id": "T3rvMrSBsWcc"
      },
      "execution_count": null,
      "outputs": []
    },
    {
      "cell_type": "code",
      "source": [
        "# train_ds = VQADataset(train_tasks[0])\n",
        "# for i in train_ds:\n",
        "#     print(i)\n",
        "#     print(i[0].shape, i[1].shape)\n",
        "#     break"
      ],
      "metadata": {
        "id": "OPGmBekzM5Yl"
      },
      "execution_count": null,
      "outputs": []
    },
    {
      "cell_type": "markdown",
      "source": [
        "## VQA"
      ],
      "metadata": {
        "id": "AXk5Sa49JZHw"
      }
    },
    {
      "cell_type": "code",
      "source": [
        "class Residual(nn.Module):\n",
        "    def __init__(self, fn):\n",
        "        super().__init__()\n",
        "        self.fn = fn\n",
        "    \n",
        "    def forward(self, x):\n",
        "        return x + self.fn(x)\n",
        "\n",
        "class ResidualMLPBlock(nn.Module):\n",
        "    def __init__(self, hidden_dims, num_blocks=4):\n",
        "        super().__init__()\n",
        "        self.num_blocks = num_blocks\n",
        "        self.hidden_dims = hidden_dims\n",
        "        self.resblocks = list()\n",
        "        self.resblocks = nn.Sequential(\n",
        "                    *[Residual(\n",
        "                        nn.Sequential(\n",
        "                                nn.Linear(self.hidden_dims, 512),\n",
        "                                nn.Dropout(p=cfg.residual_mlp_dropout_rate),\n",
        "                                nn.Linear(512, 256),\n",
        "                                nn.Linear(256, 512),\n",
        "                                nn.Dropout(p=cfg.residual_mlp_dropout_rate),\n",
        "                                nn.Linear(512, self.hidden_dims)\n",
        "                            )\n",
        "                        ) for block_idx in range(self.num_blocks)]\n",
        "        )\n",
        "    def forward(self, inputs):\n",
        "        return self.resblocks(inputs)"
      ],
      "metadata": {
        "id": "gp-U6_s0YMae"
      },
      "execution_count": null,
      "outputs": []
    },
    {
      "cell_type": "code",
      "source": [
        "class VQAModel(nn.Module):\n",
        "    def __init__(self, op=\"cat\", out_classes=5): # `op` can be one of `cat`, `add`, `mul`\n",
        "        super().__init__()\n",
        "        self.op = op\n",
        "        if self.op == \"add\" or \"mul\":\n",
        "            self.image = nn.Sequential(\n",
        "                nn.Linear(in_features=IMG_FEAT_DIMS, out_features=1024),\n",
        "                nn.Dropout(p=0.2),\n",
        "                nn.Linear(in_features=1024, out_features=512)   \n",
        "                )\n",
        "            self.txt = nn.Linear(in_features=768, out_features=512)\n",
        "            self.linstack1 = nn.Sequential(\n",
        "                nn.Linear(in_features=512, out_features=256),\n",
        "                nn.Dropout(p=0.2),\n",
        "                nn.Linear(in_features=256, out_features=128)\n",
        "            )\n",
        "            self.linstack2 = deepcopy(self.linstack1)\n",
        "            self.linstack3 = deepcopy(self.linstack1)\n",
        "            self.cls = nn.Linear(in_features=128 * 3, out_features=out_classes)\n",
        "\n",
        "        elif self.op == \"cat\":\n",
        "            self.image = nn.Identity()\n",
        "            self.text = nn.Identity()\n",
        "            self.linstack1 = nn.Sequential(\n",
        "                nn.Linear(in_features=1536, out_features=1024), # 2560 = 1024 (text) + 1536 (image)\n",
        "                nn.Dropout(p=0.2),\n",
        "                nn.Linear(in_features=1024, out_features=512),\n",
        "                nn.Dropout(p=0.2),\n",
        "                nn.Linear(in_features=512, out_features=256),\n",
        "                nn.Linear(in_features=256, out_features=128),\n",
        "                \n",
        "            )\n",
        "            self.linstack2 = deepcopy(self.linstack1)\n",
        "            self.linstack3 = deepcopy(self.linstack1)\n",
        "            self.cls = nn.Linear(in_features=128 * 3, out_features=out_classes)\n",
        "        else:\n",
        "            raise ValueError(f\"`op` must be one of `cat`, `add`, `mul`. Got {op}\")\n",
        "    \n",
        "    def forward(self, batch):\n",
        "        if self.op == \"cat\":\n",
        "            x = torch.concat([batch[0], batch[1]], dim=-1)\n",
        "            x1 = self.linstack1(x)\n",
        "            x2 = self.linstack2(x)\n",
        "            x3 = self.linstack3(x)\n",
        "            x = torch.concat([x1, x2, x3], dim=-1)\n",
        "            return self.cls(x)\n",
        "        elif self.op == \"add\":\n",
        "            img = self.image(batch[0])\n",
        "            txt = self.txt(batch[1])\n",
        "            x = img + txt\n",
        "            # vec = torch.dot(img, txt) # check if they are 1-d tensors\n",
        "            x1 = self.linstack1(x)\n",
        "            x2 = self.linstack2(x)\n",
        "            x3 = self.linstack3(x)\n",
        "            x = torch.concat([x1, x2, x3], dim=-1)\n",
        "\n",
        "            return self.cls(x)\n",
        "        elif self.op == \"mul\":\n",
        "            img = self.image(batch[0])\n",
        "            txt = self.txt(batch[1])\n",
        "            x = img * txt\n",
        "            # vec = torch.dot(img, txt) # check if they are 1-d tensors\n",
        "            x1 = self.linstack1(x)\n",
        "            x2 = self.linstack2(x)\n",
        "            x3 = self.linstack3(x)\n",
        "            x = torch.concat([x1, x2, x3], dim=-1)\n",
        "            return self.cls(x)\n",
        "\n",
        "class VQAResidualMLPModel(nn.Module):\n",
        "    def __init__(self, op=\"cat\", out_classes=5, hidden_dims=512, device=None):\n",
        "        super().__init__()\n",
        "        self.op = op\n",
        "        if self.op == \"add\" or \"mul\":\n",
        "            self.image = nn.Sequential(\n",
        "                nn.Linear(in_features=IMG_FEAT_DIMS, out_features=1024),\n",
        "                nn.Dropout(p=0.2),\n",
        "                nn.Linear(in_features=1024, out_features=hidden_dims)   \n",
        "                )\n",
        "            self.txt = nn.Linear(in_features=768, out_features=hidden_dims)\n",
        "\n",
        "            self.linstack1 = ResidualMLPBlock(hidden_dims=hidden_dims)\n",
        "            self.linstack2 = ResidualMLPBlock(hidden_dims=hidden_dims)\n",
        "            self.linstack3 = ResidualMLPBlock(hidden_dims=hidden_dims)\n",
        "            self.cls = nn.Linear(in_features=hidden_dims * 3, out_features=out_classes)\n",
        "\n",
        "        elif self.op == \"cat\":\n",
        "            self.image = nn.Identity()\n",
        "            self.text = nn.Identity()\n",
        "            self.linstack1 = nn.Sequential( \n",
        "                nn.Linear(in_features=2560, out_features=hidden_dims),\n",
        "                ResidualMLPBlock(hidden_dims=hidden_dims),  \n",
        "            )\n",
        "            self.linstack2 = nn.Sequential( \n",
        "                nn.Linear(in_features=2560, out_features=hidden_dims),\n",
        "                ResidualMLPBlock(hidden_dims=hidden_dims),  \n",
        "            )\n",
        "            self.linstack3 = nn.Sequential( \n",
        "                nn.Linear(in_features=2560, out_features=hidden_dims),\n",
        "                ResidualMLPBlock(hidden_dims=hidden_dims),  \n",
        "            )\n",
        "            self.cls = nn.Linear(in_features=hidden_dims * 3, out_features=out_classes)\n",
        "        else:\n",
        "            raise ValueError(f\"`op` must be one of `cat`, `add`, `mul`. Got {op}\")\n",
        "        self.linstack1 = self.linstack1.to(device)\n",
        "        self.linstack2 = self.linstack2.to(device)\n",
        "        self.linstack3 = self.linstack3.to(device)\n",
        "        \n",
        "    \n",
        "    def forward(self, batch):\n",
        "        \n",
        "        if self.op == \"cat\":\n",
        "            x = torch.concat([batch[0], batch[1]], dim=-1)\n",
        "            x1 = self.linstack1(x)\n",
        "            x2 = self.linstack2(x)\n",
        "            x3 = self.linstack3(x)\n",
        "            x = torch.concat([x1, x2, x3], dim=-1)\n",
        "            return self.cls(x)\n",
        "        elif self.op == \"add\":\n",
        "            img = self.image(batch[0])\n",
        "            txt = self.txt(batch[1])\n",
        "            x = img + txt\n",
        "            # vec = torch.dot(img, txt) # check if they are 1-d tensors\n",
        "            x1 = self.linstack1(x)\n",
        "            x2 = self.linstack2(x)\n",
        "            x3 = self.linstack3(x)\n",
        "            x = torch.concat([x1, x2, x3], dim=-1)\n",
        "\n",
        "            return self.cls(x)\n",
        "        elif self.op == \"mul\":\n",
        "            img = self.image(batch[0])\n",
        "            txt = self.txt(batch[1])\n",
        "            x = img * txt\n",
        "            # vec = torch.dot(img, txt) # check if they are 1-d tensors\n",
        "            x1 = self.linstack1(x)\n",
        "            x2 = self.linstack2(x)\n",
        "            x3 = self.linstack3(x)\n",
        "            x = torch.concat([x1, x2, x3], dim=-1)\n",
        "            return self.cls(x)"
      ],
      "metadata": {
        "id": "1YKkOuy9HIH2"
      },
      "execution_count": null,
      "outputs": []
    },
    {
      "cell_type": "code",
      "source": [
        "# qdict = json.load(open(\"/content/drive/MyDrive/floodnet_data/Questions/Training Question.json\", \"r\"))\n",
        "\n",
        "# train_dict, val_dict = get_train_val_splits_imagewise(qdict)\n",
        "# train_tasks, val_tasks = get_typewise_train_val_splits(train_dict, val_dict)\n"
      ],
      "metadata": {
        "id": "VoZFA4rIjdXo"
      },
      "execution_count": null,
      "outputs": []
    },
    {
      "cell_type": "code",
      "source": [
        "for task_order in [\n",
        "    \"yesno imagecondition roadcondition\",\n",
        "    \"yesno roadcondition imagecondition\",\n",
        "    \"imagecondition yesno roadcondition\",\n",
        "    \"imagecondition roadcondition yesno\",\n",
        "    \"roadcondition yesno imagecondition\",\n",
        "    \"roadcondition imagecondition yesno\"\n",
        "]:\n",
        "    qdict = json.load(open(\"/content/drive/MyDrive/floodnet_data/Questions/Training Question.json\", \"r\"))\n",
        "\n",
        "    train_dict, val_dict = get_train_val_splits_imagewise(qdict)\n",
        "    train_tasks, val_tasks = get_typewise_train_val_splits(train_dict, val_dict)\n",
        "\n",
        "    cfg.task_order = task_order\n",
        "    new_train_tasks = []\n",
        "    new_val_tasks = []\n",
        "\n",
        "    # \"yes_no image_condition road_condition\"\n",
        "    # [train_image_condition, train_road_condition, train_yes_no]\n",
        "    for task_name in cfg.task_order.split():\n",
        "        if task_name == \"yesno\":\n",
        "            new_train_tasks.append(train_tasks[2])\n",
        "            new_val_tasks.append(val_tasks[2])\n",
        "        elif task_name == \"imagecondition\":\n",
        "            new_train_tasks.append(train_tasks[0])\n",
        "            new_val_tasks.append(val_tasks[0])\n",
        "        elif task_name == \"roadcondition\":\n",
        "            new_train_tasks.append(train_tasks[1])\n",
        "            new_val_tasks.append(val_tasks[1])\n",
        "\n",
        "    train_tasks = new_train_tasks\n",
        "    val_tasks = new_val_tasks\n",
        "\n",
        "    val_preserve = deepcopy(val_tasks)\n",
        "\n",
        "    # print(val_tasks[2])\n",
        "\n",
        "    # Make continual\n",
        "    val_tasks[2].update(val_tasks[1])\n",
        "    val_tasks[2].update(val_tasks[0])\n",
        "    val_tasks[1].update(val_tasks[0])\n",
        "\n",
        "    device = torch.device(\"cuda\" if torch.cuda.is_available() else \"cpu\")\n",
        "\n",
        "    model = VQAResidualMLPModel(op=cfg.op, hidden_dims=cfg.hidden_dims, out_classes=5, device=device)\n",
        "\n",
        "    for child in model.children():\n",
        "        child.to(device)\n",
        "\n",
        "    model.to(device)\n",
        "\n",
        "    loss_fn = nn.CrossEntropyLoss()\n",
        "\n",
        "    exp_replay = ExperienceReplay(samples_per_class=cfg.samples_per_class, num_classes=5, half_batch_size=cfg.half_batch_size)\n",
        "\n",
        "    NUM_TASKS = 3\n",
        "    counter = 0\n",
        "    EPOCHS = cfg.epochs\n",
        "\n",
        "    # reimport_utils()\n",
        "    now = datetime.now()\n",
        "    timestr = now.strftime(\"%d_%m_%Hh%Mm%Ss\")\n",
        "\n",
        "    run_name = \"_\".join([\"ring\", cfg.task_order.replace(\" \", \"_\"), timestr, model.op])\n",
        "    \n",
        "    wandb.init(project=\"continual_vqa_final\", entity=\"compyle\", name=run_name, config=cfg.to_dict())\n",
        "\n",
        "    for tasknum in range(NUM_TASKS):\n",
        "        \n",
        "        os.makedirs(f\"./ckpts/{timestr}\", exist_ok=True)\n",
        "        train_dl = DataLoader(VQADataset(train_tasks[tasknum]), batch_size=cfg.half_batch_size, shuffle=True, num_workers=4)\n",
        "        val_dl = DataLoader(VQADataset(val_tasks[tasknum]), batch_size=cfg.half_batch_size, shuffle=True, num_workers=4)\n",
        "\n",
        "        previous_tasks_dl = []\n",
        "        for prevtasknum in range(tasknum + 1):\n",
        "            previous_tasks_dl.append(DataLoader(VQADataset(val_preserve[prevtasknum]), batch_size=cfg.half_batch_size, shuffle=True, num_workers=4))\n",
        "\n",
        "\n",
        "        if tasknum == 0:\n",
        "            optimizer = torch.optim.Adam(model.parameters(), lr=cfg.task_0_lr, weight_decay=cfg.task_0_weight_decay)\n",
        "        elif tasknum == 1:\n",
        "            optimizer = torch.optim.Adam(model.parameters(), lr=cfg.task_1_lr, weight_decay=cfg.task_1_weight_decay)\n",
        "\n",
        "        for epoch in range(EPOCHS):\n",
        "            print(f\"########## Epoch {epoch}\")\n",
        "            model.train()\n",
        "            optimizer.zero_grad()\n",
        "            \n",
        "            epoch_loss = []\n",
        "            epoch_acc = []\n",
        "            \n",
        "            val_loss = []\n",
        "            val_acc = []\n",
        "\n",
        "            for batch in tqdm.tqdm(train_dl):\n",
        "                preserved_batch = deepcopy(batch)\n",
        "                if tasknum > 0:\n",
        "                    batch = combine_batch_and_list(\n",
        "                        batch, exp_replay.get_from_memory(cfg.half_batch_size)\n",
        "                    )\n",
        "\n",
        "                batch = [elem.to(device) for elem in batch]\n",
        "                \n",
        "                outputs = model(batch)\n",
        "                loss = loss_fn(outputs, batch[2])\n",
        "                loss.backward()\n",
        "                optimizer.step()\n",
        "                optimizer.zero_grad()\n",
        "                \n",
        "                acc = accuracy(outputs.detach().cpu().numpy(), batch[2].detach().cpu().numpy())\n",
        "                \n",
        "                epoch_loss.append(loss.detach().cpu().numpy())\n",
        "                epoch_acc.append(acc)\n",
        "                if epoch == EPOCHS - 1:\n",
        "                    counter += len(batch[2])\n",
        "\n",
        "            if epoch == EPOCHS - 1:\n",
        "                exp_replay.update_memory(preserved_batch, elapsed_examples=counter)\n",
        "\n",
        "            model.eval()\n",
        "            with torch.no_grad():\n",
        "                for batch in tqdm.tqdm(val_dl):\n",
        "                    batch = [elem.to(device) for elem in batch]\n",
        "        #             batch[0] = tr(batch[0])\n",
        "                    outputs = model(batch)\n",
        "                    loss = loss_fn(outputs, batch[2])\n",
        "            \n",
        "                    acc = accuracy(outputs.detach().cpu().numpy(), batch[2].detach().cpu().numpy())\n",
        "\n",
        "                    val_loss.append(loss.detach().cpu().numpy())\n",
        "                    val_acc.append(acc)\n",
        "            \n",
        "            \n",
        "            # torch.save(model.state_dict(), f\"./ckpts/{timestr}/vqa_{tasknum}_{epoch}.pt\")\n",
        "\n",
        "            metrics_dict =  {\n",
        "                    f\"task_{tasknum}_train_loss\": np.mean(epoch_loss),\n",
        "                    f\"task_{tasknum}_val_loss\": np.mean(val_loss),\n",
        "                    f\"task_{tasknum}_train_acc\": np.mean(epoch_acc),\n",
        "                    f\"task_{tasknum}_val_acc\": np.mean(val_acc),\n",
        "                }\n",
        "\n",
        "            print(f\"Train loss: {np.mean(epoch_loss)}\", end=\"\\t\")\n",
        "            print(f\"Val loss: {np.mean(val_loss)}\", end=\"\\t\")\n",
        "            print(f\"Train acc: {np.mean(epoch_acc)}\", end=\"\\t\")\n",
        "            print(f\"Val acc: {np.mean(val_acc)}\")\n",
        "\n",
        "            model.eval()\n",
        "            for prevtasknum in range(tasknum + 1):\n",
        "                val_loss = []\n",
        "                val_acc = []\n",
        "\n",
        "                with torch.no_grad():\n",
        "                    for batch in tqdm.tqdm(previous_tasks_dl[prevtasknum]):\n",
        "                        batch = [elem.to(device) for elem in batch]\n",
        "                        outputs = model(batch)\n",
        "                        loss = loss_fn(outputs, batch[2])\n",
        "                \n",
        "                        acc = accuracy(outputs.detach().cpu().numpy(), batch[2].detach().cpu().numpy())\n",
        "\n",
        "                        val_loss.append(loss.detach().cpu().numpy())\n",
        "                        val_acc.append(acc)\n",
        "                \n",
        "                metrics_dict[f\"task_{tasknum}_prevtask_{prevtasknum}_val_acc\"] = np.mean(val_acc)\n",
        "                metrics_dict[f\"task_{tasknum}_prevtask_{prevtasknum}_val_loss\"] = np.mean(val_loss)\n",
        "\n",
        "\n",
        "            wandb.log(metrics_dict)\n",
        "    wandb.finish()   \n",
        "        # print(f\"Train loss: {np.mean(epoch_loss)}\", end=\"\\t\")\n",
        "        # print(f\"Val loss: {np.mean(val_loss)}\", end=\"\\t\")\n",
        "        # print(f\"Train acc: {np.mean(epoch_acc)}\", end=\"\\t\")\n",
        "        # print(f\"Val acc: {np.mean(val_acc)}\") \n",
        "        # wandb.log(\n",
        "        #     {\n",
        "        #         f\"task_{tasknum}_train_loss\": np.mean(epoch_loss),\n",
        "        #         f\"task_{tasknum}_val_loss\": np.mean(val_loss),\n",
        "        #         f\"task_{tasknum}_train_acc\": np.mean(epoch_acc),\n",
        "        #         f\"task_{tasknum}_val_acc\": np.mean(val_acc),\n",
        "        #     }\n",
        "        # )\n"
      ],
      "metadata": {
        "colab": {
          "base_uri": "https://localhost:8080/",
          "height": 1000,
          "referenced_widgets": [
            "a7c92a0a58dd467098134f905d7552d8",
            "6d8b2758af3542bfb93bd90bac74cb8b",
            "817b8554c0154c2d8aeb97e5678d79b4",
            "e372413b103e4e61a06652e1132d3ddf",
            "36cb5fcc020745008b345c4216667779",
            "c19df12bcf6341238bf5eddcfa2fbcba",
            "392d7f4fb7a74a998f38316be75ebbf9",
            "c862d9357a6948bfbf3c5609f14e87f9",
            "c149bdce5d9e4859875f8fba5d861c7f",
            "231fdb2bb66d405cbe47e7b8aa26117c",
            "ef2da368ec3c4bb0994903044b61795a",
            "b12d977b87964a87830018d712cc3728",
            "f8fa21c529504da5a7d56f7f68da7489",
            "fbc0fd8420a8421588a1be9a8ae166c3",
            "fc4a693b5f44425998331c1872114c88",
            "92b064e679ef4dd3b39f4cfdd9e1384f",
            "6d1ff203149f46b1b0e73363e268b8f5",
            "1809849d0c384d4fbfd063fd2f1aa593",
            "4f0621f22b6a41a9a5c27cf513f38c81",
            "1a8a97d4f9184cdcb721d6f7a27b31fa",
            "8d8217f55e8b4fb6beee836c7c981191",
            "e50f925b1e034bc6bc364d27fdb37043",
            "ed44f3c92cf044aaa7972cf90b45d07a",
            "af9925db54fa480fbadf282a44f11e22",
            "918ffbf1de2f457a811390ca11b6ba3a",
            "bd2137baf391483e9e3be1a052b7bd0d",
            "fd01ad7196b844e495b7afafdfab648d",
            "1d8d032f03f941fcb8971a65cd91bf7e",
            "bc4a92b73cba4203bec26964714260ac",
            "f14a5531915645f8be719fa935e53a5f",
            "c2d10015b9ca42bcb9ce6f045e927b42",
            "7976f17bbd084a90a41ed55ff2c7e521",
            "4b2d24323bb34723a023f7d3156acd85",
            "c0c24b8930d14703af9fbc4793f8bee0",
            "b02141f5e7724105af77de418fab353c",
            "091f699562394d23bb3007b4df74f72a",
            "35e7136672a143b7843616a4f1aee701",
            "3515a69307844da283c360cc82e81f27",
            "ef99086fbc2d4ba186e8bbe104c42e37",
            "4e600a8cf5ee4e609a6a0334bcdf2a5b",
            "a0b9e31e1acd40a1ad839d5834edd8f6",
            "cf2cca6abb62408c873b84eee1bf6024",
            "cf1d3cb7eb644ea59dd4f125e635cfa8",
            "c6f7d82e9f9b40c4a4e6a85558803407",
            "81963286ff114c12a748f6f6172d76b2",
            "924bf896d4cc454b9a8a35b39178c87c",
            "ea37299972754645871ef7a4c2d7233a",
            "be46e5d861474d3dadb2c718b6dc48c8"
          ]
        },
        "id": "D3hSQaQmG6pN",
        "outputId": "70f248e0-cdfc-4402-9065-aeeb0163c184"
      },
      "execution_count": null,
      "outputs": [
        {
          "output_type": "stream",
          "name": "stderr",
          "text": [
            "ERROR:wandb.jupyter:Failed to detect the name of this notebook, you can set it manually with the WANDB_NOTEBOOK_NAME environment variable to enable code saving.\n",
            "\u001b[34m\u001b[1mwandb\u001b[0m: Currently logged in as: \u001b[33mcompyle\u001b[0m. Use \u001b[1m`wandb login --relogin`\u001b[0m to force relogin\n"
          ]
        },
        {
          "output_type": "display_data",
          "data": {
            "text/plain": [
              "<IPython.core.display.HTML object>"
            ],
            "text/html": [
              "Tracking run with wandb version 0.13.3"
            ]
          },
          "metadata": {}
        },
        {
          "output_type": "display_data",
          "data": {
            "text/plain": [
              "<IPython.core.display.HTML object>"
            ],
            "text/html": [
              "Run data is saved locally in <code>/content/wandb/run-20220921_035118-1s2cfxuf</code>"
            ]
          },
          "metadata": {}
        },
        {
          "output_type": "display_data",
          "data": {
            "text/plain": [
              "<IPython.core.display.HTML object>"
            ],
            "text/html": [
              "Syncing run <strong><a href=\"https://wandb.ai/compyle/continual_vqa_final/runs/1s2cfxuf\" target=\"_blank\">ring_yesno_imagecondition_roadcondition_21_09_03h51m13s_mul</a></strong> to <a href=\"https://wandb.ai/compyle/continual_vqa_final\" target=\"_blank\">Weights & Biases</a> (<a href=\"https://wandb.me/run\" target=\"_blank\">docs</a>)<br/>"
            ]
          },
          "metadata": {}
        },
        {
          "output_type": "stream",
          "name": "stderr",
          "text": [
            "/usr/local/lib/python3.7/dist-packages/torch/utils/data/dataloader.py:566: UserWarning: This DataLoader will create 4 worker processes in total. Our suggested max number of worker in current system is 2, which is smaller than what this DataLoader is going to create. Please be aware that excessive worker creation might get DataLoader running slow or even freeze, lower the worker number to avoid potential slowness/freeze if necessary.\n",
            "  cpuset_checked))\n"
          ]
        },
        {
          "output_type": "stream",
          "name": "stdout",
          "text": [
            "########## Epoch 0\n"
          ]
        },
        {
          "output_type": "stream",
          "name": "stderr",
          "text": [
            "100%|██████████| 6/6 [00:02<00:00,  2.01it/s]\n",
            "100%|██████████| 2/2 [00:00<00:00,  9.64it/s]\n"
          ]
        },
        {
          "output_type": "stream",
          "name": "stdout",
          "text": [
            "Train loss: 1.0417968034744263\tVal loss: 0.7098914384841919\tTrain acc: 59.572916666666664\tVal acc: 46.81919642857143\n"
          ]
        },
        {
          "output_type": "stream",
          "name": "stderr",
          "text": [
            "100%|██████████| 2/2 [00:00<00:00,  9.67it/s]\n"
          ]
        },
        {
          "output_type": "stream",
          "name": "stdout",
          "text": [
            "########## Epoch 1\n"
          ]
        },
        {
          "output_type": "stream",
          "name": "stderr",
          "text": [
            "100%|██████████| 6/6 [00:00<00:00, 16.30it/s]\n",
            "100%|██████████| 2/2 [00:00<00:00,  9.29it/s]\n"
          ]
        },
        {
          "output_type": "stream",
          "name": "stdout",
          "text": [
            "Train loss: 0.6267069578170776\tVal loss: 0.5667404532432556\tTrain acc: 59.770833333333336\tVal acc: 86.06505102040816\n"
          ]
        },
        {
          "output_type": "stream",
          "name": "stderr",
          "text": [
            "100%|██████████| 2/2 [00:00<00:00,  9.67it/s]\n"
          ]
        },
        {
          "output_type": "stream",
          "name": "stdout",
          "text": [
            "########## Epoch 2\n"
          ]
        },
        {
          "output_type": "stream",
          "name": "stderr",
          "text": [
            "100%|██████████| 6/6 [00:00<00:00, 15.97it/s]\n",
            "100%|██████████| 2/2 [00:00<00:00,  9.41it/s]\n"
          ]
        },
        {
          "output_type": "stream",
          "name": "stdout",
          "text": [
            "Train loss: 0.4811772108078003\tVal loss: 0.4472472071647644\tTrain acc: 83.703125\tVal acc: 77.90178571428572\n"
          ]
        },
        {
          "output_type": "stream",
          "name": "stderr",
          "text": [
            "100%|██████████| 2/2 [00:00<00:00,  9.47it/s]\n"
          ]
        },
        {
          "output_type": "stream",
          "name": "stdout",
          "text": [
            "########## Epoch 3\n"
          ]
        },
        {
          "output_type": "stream",
          "name": "stderr",
          "text": [
            "100%|██████████| 6/6 [00:00<00:00, 16.62it/s]\n",
            "100%|██████████| 2/2 [00:00<00:00,  9.73it/s]\n"
          ]
        },
        {
          "output_type": "stream",
          "name": "stdout",
          "text": [
            "Train loss: 0.3725334405899048\tVal loss: 0.3828622102737427\tTrain acc: 82.63541666666667\tVal acc: 79.79113520408163\n"
          ]
        },
        {
          "output_type": "stream",
          "name": "stderr",
          "text": [
            "100%|██████████| 2/2 [00:00<00:00,  9.35it/s]\n"
          ]
        },
        {
          "output_type": "stream",
          "name": "stdout",
          "text": [
            "########## Epoch 4\n"
          ]
        },
        {
          "output_type": "stream",
          "name": "stderr",
          "text": [
            "100%|██████████| 6/6 [00:00<00:00, 15.58it/s]\n",
            "100%|██████████| 2/2 [00:00<00:00,  9.58it/s]\n"
          ]
        },
        {
          "output_type": "stream",
          "name": "stdout",
          "text": [
            "Train loss: 0.3040810525417328\tVal loss: 0.2101372927427292\tTrain acc: 83.34375\tVal acc: 87.08545918367346\n"
          ]
        },
        {
          "output_type": "stream",
          "name": "stderr",
          "text": [
            "100%|██████████| 2/2 [00:00<00:00,  9.52it/s]\n"
          ]
        },
        {
          "output_type": "stream",
          "name": "stdout",
          "text": [
            "########## Epoch 5\n"
          ]
        },
        {
          "output_type": "stream",
          "name": "stderr",
          "text": [
            "100%|██████████| 6/6 [00:00<00:00, 16.32it/s]\n",
            "100%|██████████| 2/2 [00:00<00:00,  9.64it/s]\n"
          ]
        },
        {
          "output_type": "stream",
          "name": "stdout",
          "text": [
            "Train loss: 0.1753332018852234\tVal loss: 0.08671563863754272\tTrain acc: 92.359375\tVal acc: 98.5889668367347\n"
          ]
        },
        {
          "output_type": "stream",
          "name": "stderr",
          "text": [
            "100%|██████████| 2/2 [00:00<00:00,  8.86it/s]\n"
          ]
        },
        {
          "output_type": "stream",
          "name": "stdout",
          "text": [
            "########## Epoch 6\n"
          ]
        },
        {
          "output_type": "stream",
          "name": "stderr",
          "text": [
            "100%|██████████| 6/6 [00:00<00:00, 16.21it/s]\n",
            "100%|██████████| 2/2 [00:00<00:00,  9.27it/s]\n"
          ]
        },
        {
          "output_type": "stream",
          "name": "stdout",
          "text": [
            "Train loss: 0.07891694456338882\tVal loss: 0.028791798278689384\tTrain acc: 97.78645833333333\tVal acc: 99.21875\n"
          ]
        },
        {
          "output_type": "stream",
          "name": "stderr",
          "text": [
            "100%|██████████| 2/2 [00:00<00:00,  9.38it/s]\n"
          ]
        },
        {
          "output_type": "stream",
          "name": "stdout",
          "text": [
            "########## Epoch 7\n"
          ]
        },
        {
          "output_type": "stream",
          "name": "stderr",
          "text": [
            "100%|██████████| 6/6 [00:00<00:00, 16.18it/s]\n",
            "100%|██████████| 2/2 [00:00<00:00,  9.45it/s]\n"
          ]
        },
        {
          "output_type": "stream",
          "name": "stdout",
          "text": [
            "Train loss: 0.05673763155937195\tVal loss: 0.018015317618846893\tTrain acc: 98.03125\tVal acc: 99.609375\n"
          ]
        },
        {
          "output_type": "stream",
          "name": "stderr",
          "text": [
            "100%|██████████| 2/2 [00:00<00:00,  9.03it/s]\n"
          ]
        },
        {
          "output_type": "stream",
          "name": "stdout",
          "text": [
            "########## Epoch 8\n"
          ]
        },
        {
          "output_type": "stream",
          "name": "stderr",
          "text": [
            "100%|██████████| 6/6 [00:00<00:00, 16.51it/s]\n",
            "100%|██████████| 2/2 [00:00<00:00,  9.68it/s]\n"
          ]
        },
        {
          "output_type": "stream",
          "name": "stdout",
          "text": [
            "Train loss: 0.058314740657806396\tVal loss: 0.04651646316051483\tTrain acc: 98.69791666666667\tVal acc: 97.9591836734694\n"
          ]
        },
        {
          "output_type": "stream",
          "name": "stderr",
          "text": [
            "100%|██████████| 2/2 [00:00<00:00,  9.24it/s]\n"
          ]
        },
        {
          "output_type": "stream",
          "name": "stdout",
          "text": [
            "########## Epoch 9\n"
          ]
        },
        {
          "output_type": "stream",
          "name": "stderr",
          "text": [
            "100%|██████████| 6/6 [00:00<00:00, 15.98it/s]\n",
            "100%|██████████| 2/2 [00:00<00:00,  9.77it/s]\n"
          ]
        },
        {
          "output_type": "stream",
          "name": "stdout",
          "text": [
            "Train loss: 0.04514211788773537\tVal loss: 0.038753692060709\tTrain acc: 98.69791666666667\tVal acc: 98.5889668367347\n"
          ]
        },
        {
          "output_type": "stream",
          "name": "stderr",
          "text": [
            "100%|██████████| 2/2 [00:00<00:00,  9.17it/s]\n"
          ]
        },
        {
          "output_type": "stream",
          "name": "stdout",
          "text": [
            "########## Epoch 10\n"
          ]
        },
        {
          "output_type": "stream",
          "name": "stderr",
          "text": [
            "100%|██████████| 6/6 [00:00<00:00, 15.42it/s]\n",
            "100%|██████████| 2/2 [00:00<00:00,  9.23it/s]\n"
          ]
        },
        {
          "output_type": "stream",
          "name": "stdout",
          "text": [
            "Train loss: 0.041076093912124634\tVal loss: 0.027926523238420486\tTrain acc: 98.56770833333333\tVal acc: 99.609375\n"
          ]
        },
        {
          "output_type": "stream",
          "name": "stderr",
          "text": [
            "100%|██████████| 2/2 [00:00<00:00,  9.56it/s]\n"
          ]
        },
        {
          "output_type": "stream",
          "name": "stdout",
          "text": [
            "########## Epoch 11\n"
          ]
        },
        {
          "output_type": "stream",
          "name": "stderr",
          "text": [
            "100%|██████████| 6/6 [00:00<00:00, 16.09it/s]\n",
            "100%|██████████| 2/2 [00:00<00:00,  9.20it/s]\n"
          ]
        },
        {
          "output_type": "stream",
          "name": "stdout",
          "text": [
            "Train loss: 0.03807048499584198\tVal loss: 0.0188523530960083\tTrain acc: 98.95833333333333\tVal acc: 99.609375\n"
          ]
        },
        {
          "output_type": "stream",
          "name": "stderr",
          "text": [
            "100%|██████████| 2/2 [00:00<00:00,  9.10it/s]\n"
          ]
        },
        {
          "output_type": "stream",
          "name": "stdout",
          "text": [
            "########## Epoch 12\n"
          ]
        },
        {
          "output_type": "stream",
          "name": "stderr",
          "text": [
            "100%|██████████| 6/6 [00:00<00:00, 16.55it/s]\n",
            "100%|██████████| 2/2 [00:00<00:00,  8.97it/s]\n"
          ]
        },
        {
          "output_type": "stream",
          "name": "stdout",
          "text": [
            "Train loss: 0.037947382777929306\tVal loss: 0.028127368539571762\tTrain acc: 99.015625\tVal acc: 99.21875\n"
          ]
        },
        {
          "output_type": "stream",
          "name": "stderr",
          "text": [
            "100%|██████████| 2/2 [00:00<00:00,  9.43it/s]\n"
          ]
        },
        {
          "output_type": "stream",
          "name": "stdout",
          "text": [
            "########## Epoch 13\n"
          ]
        },
        {
          "output_type": "stream",
          "name": "stderr",
          "text": [
            "100%|██████████| 6/6 [00:00<00:00, 15.69it/s]\n",
            "100%|██████████| 2/2 [00:00<00:00,  9.07it/s]\n"
          ]
        },
        {
          "output_type": "stream",
          "name": "stdout",
          "text": [
            "Train loss: 0.029546869918704033\tVal loss: 0.013428025878965855\tTrain acc: 98.95833333333333\tVal acc: 99.609375\n"
          ]
        },
        {
          "output_type": "stream",
          "name": "stderr",
          "text": [
            "100%|██████████| 2/2 [00:00<00:00,  8.85it/s]\n"
          ]
        },
        {
          "output_type": "stream",
          "name": "stdout",
          "text": [
            "########## Epoch 14\n"
          ]
        },
        {
          "output_type": "stream",
          "name": "stderr",
          "text": [
            "100%|██████████| 6/6 [00:00<00:00, 16.15it/s]\n",
            "100%|██████████| 2/2 [00:00<00:00,  9.64it/s]\n"
          ]
        },
        {
          "output_type": "stream",
          "name": "stdout",
          "text": [
            "Train loss: 0.033093731850385666\tVal loss: 0.01877002790570259\tTrain acc: 99.21875\tVal acc: 99.609375\n"
          ]
        },
        {
          "output_type": "stream",
          "name": "stderr",
          "text": [
            "100%|██████████| 2/2 [00:00<00:00,  9.26it/s]\n"
          ]
        },
        {
          "output_type": "stream",
          "name": "stdout",
          "text": [
            "########## Epoch 15\n"
          ]
        },
        {
          "output_type": "stream",
          "name": "stderr",
          "text": [
            "100%|██████████| 6/6 [00:00<00:00, 15.52it/s]\n",
            "100%|██████████| 2/2 [00:00<00:00,  8.88it/s]\n"
          ]
        },
        {
          "output_type": "stream",
          "name": "stdout",
          "text": [
            "Train loss: 0.024688510224223137\tVal loss: 0.026170674711465836\tTrain acc: 99.34895833333333\tVal acc: 99.609375\n"
          ]
        },
        {
          "output_type": "stream",
          "name": "stderr",
          "text": [
            "100%|██████████| 2/2 [00:00<00:00,  9.49it/s]\n"
          ]
        },
        {
          "output_type": "stream",
          "name": "stdout",
          "text": [
            "########## Epoch 16\n"
          ]
        },
        {
          "output_type": "stream",
          "name": "stderr",
          "text": [
            "100%|██████████| 6/6 [00:00<00:00, 15.91it/s]\n",
            "100%|██████████| 2/2 [00:00<00:00,  9.20it/s]\n"
          ]
        },
        {
          "output_type": "stream",
          "name": "stdout",
          "text": [
            "Train loss: 0.016938934102654457\tVal loss: 0.013757501728832722\tTrain acc: 99.47916666666667\tVal acc: 99.609375\n"
          ]
        },
        {
          "output_type": "stream",
          "name": "stderr",
          "text": [
            "100%|██████████| 2/2 [00:00<00:00,  9.60it/s]\n"
          ]
        },
        {
          "output_type": "stream",
          "name": "stdout",
          "text": [
            "########## Epoch 17\n"
          ]
        },
        {
          "output_type": "stream",
          "name": "stderr",
          "text": [
            "100%|██████████| 6/6 [00:00<00:00, 16.15it/s]\n",
            "100%|██████████| 2/2 [00:00<00:00,  8.90it/s]\n"
          ]
        },
        {
          "output_type": "stream",
          "name": "stdout",
          "text": [
            "Train loss: 0.015267080627381802\tVal loss: 0.04493928328156471\tTrain acc: 99.609375\tVal acc: 98.9795918367347\n"
          ]
        },
        {
          "output_type": "stream",
          "name": "stderr",
          "text": [
            "100%|██████████| 2/2 [00:00<00:00,  8.87it/s]\n"
          ]
        },
        {
          "output_type": "stream",
          "name": "stdout",
          "text": [
            "########## Epoch 18\n"
          ]
        },
        {
          "output_type": "stream",
          "name": "stderr",
          "text": [
            "100%|██████████| 6/6 [00:00<00:00, 16.08it/s]\n",
            "100%|██████████| 2/2 [00:00<00:00,  9.02it/s]\n"
          ]
        },
        {
          "output_type": "stream",
          "name": "stdout",
          "text": [
            "Train loss: 0.010155292227864265\tVal loss: 0.01654169335961342\tTrain acc: 99.609375\tVal acc: 99.609375\n"
          ]
        },
        {
          "output_type": "stream",
          "name": "stderr",
          "text": [
            "100%|██████████| 2/2 [00:00<00:00,  9.12it/s]\n"
          ]
        },
        {
          "output_type": "stream",
          "name": "stdout",
          "text": [
            "########## Epoch 19\n"
          ]
        },
        {
          "output_type": "stream",
          "name": "stderr",
          "text": [
            "100%|██████████| 6/6 [00:00<00:00, 16.35it/s]\n",
            "100%|██████████| 2/2 [00:00<00:00,  9.77it/s]\n"
          ]
        },
        {
          "output_type": "stream",
          "name": "stdout",
          "text": [
            "Train loss: 0.012746032327413559\tVal loss: 0.02173171192407608\tTrain acc: 99.609375\tVal acc: 99.609375\n"
          ]
        },
        {
          "output_type": "stream",
          "name": "stderr",
          "text": [
            "100%|██████████| 2/2 [00:00<00:00,  8.81it/s]\n"
          ]
        },
        {
          "output_type": "stream",
          "name": "stdout",
          "text": [
            "########## Epoch 20\n"
          ]
        },
        {
          "output_type": "stream",
          "name": "stderr",
          "text": [
            "100%|██████████| 6/6 [00:00<00:00, 16.50it/s]\n",
            "100%|██████████| 2/2 [00:00<00:00,  9.49it/s]\n"
          ]
        },
        {
          "output_type": "stream",
          "name": "stdout",
          "text": [
            "Train loss: 0.009140199050307274\tVal loss: 0.04577687010169029\tTrain acc: 99.609375\tVal acc: 98.9795918367347\n"
          ]
        },
        {
          "output_type": "stream",
          "name": "stderr",
          "text": [
            "100%|██████████| 2/2 [00:00<00:00,  9.07it/s]\n"
          ]
        },
        {
          "output_type": "stream",
          "name": "stdout",
          "text": [
            "########## Epoch 21\n"
          ]
        },
        {
          "output_type": "stream",
          "name": "stderr",
          "text": [
            "100%|██████████| 6/6 [00:00<00:00, 15.74it/s]\n",
            "100%|██████████| 2/2 [00:00<00:00,  9.68it/s]\n"
          ]
        },
        {
          "output_type": "stream",
          "name": "stdout",
          "text": [
            "Train loss: 0.01250044908374548\tVal loss: 0.016322536394000053\tTrain acc: 99.609375\tVal acc: 99.609375\n"
          ]
        },
        {
          "output_type": "stream",
          "name": "stderr",
          "text": [
            "100%|██████████| 2/2 [00:00<00:00,  9.16it/s]\n"
          ]
        },
        {
          "output_type": "stream",
          "name": "stdout",
          "text": [
            "########## Epoch 22\n"
          ]
        },
        {
          "output_type": "stream",
          "name": "stderr",
          "text": [
            "100%|██████████| 6/6 [00:00<00:00, 15.81it/s]\n",
            "100%|██████████| 2/2 [00:00<00:00,  9.66it/s]\n"
          ]
        },
        {
          "output_type": "stream",
          "name": "stdout",
          "text": [
            "Train loss: 0.010710352100431919\tVal loss: 0.010776832699775696\tTrain acc: 99.73958333333333\tVal acc: 99.609375\n"
          ]
        },
        {
          "output_type": "stream",
          "name": "stderr",
          "text": [
            "100%|██████████| 2/2 [00:00<00:00,  9.58it/s]\n"
          ]
        },
        {
          "output_type": "stream",
          "name": "stdout",
          "text": [
            "########## Epoch 23\n"
          ]
        },
        {
          "output_type": "stream",
          "name": "stderr",
          "text": [
            "100%|██████████| 6/6 [00:00<00:00, 15.58it/s]\n",
            "100%|██████████| 2/2 [00:00<00:00,  9.22it/s]\n"
          ]
        },
        {
          "output_type": "stream",
          "name": "stdout",
          "text": [
            "Train loss: 0.00995174702256918\tVal loss: 0.011639991775155067\tTrain acc: 99.47916666666667\tVal acc: 99.609375\n"
          ]
        },
        {
          "output_type": "stream",
          "name": "stderr",
          "text": [
            "100%|██████████| 2/2 [00:00<00:00,  9.46it/s]\n"
          ]
        },
        {
          "output_type": "stream",
          "name": "stdout",
          "text": [
            "########## Epoch 24\n"
          ]
        },
        {
          "output_type": "stream",
          "name": "stderr",
          "text": [
            "100%|██████████| 6/6 [00:00<00:00, 16.40it/s]\n",
            "100%|██████████| 2/2 [00:00<00:00,  8.31it/s]\n"
          ]
        },
        {
          "output_type": "stream",
          "name": "stdout",
          "text": [
            "Train loss: 0.005116677843034267\tVal loss: 0.017897741869091988\tTrain acc: 99.73958333333333\tVal acc: 99.609375\n"
          ]
        },
        {
          "output_type": "stream",
          "name": "stderr",
          "text": [
            "100%|██████████| 2/2 [00:00<00:00,  9.34it/s]\n"
          ]
        },
        {
          "output_type": "stream",
          "name": "stdout",
          "text": [
            "########## Epoch 0\n"
          ]
        },
        {
          "output_type": "stream",
          "name": "stderr",
          "text": [
            "100%|██████████| 10/10 [00:00<00:00, 20.31it/s]\n",
            "100%|██████████| 4/4 [00:00<00:00, 15.45it/s]\n"
          ]
        },
        {
          "output_type": "stream",
          "name": "stdout",
          "text": [
            "Train loss: 7.734014987945557\tVal loss: 4.324538230895996\tTrain acc: 0.0\tVal acc: 38.293015813253014\n"
          ]
        },
        {
          "output_type": "stream",
          "name": "stderr",
          "text": [
            "100%|██████████| 2/2 [00:00<00:00,  8.00it/s]\n",
            "100%|██████████| 3/3 [00:00<00:00, 12.92it/s]\n"
          ]
        },
        {
          "output_type": "stream",
          "name": "stdout",
          "text": [
            "########## Epoch 1\n"
          ]
        },
        {
          "output_type": "stream",
          "name": "stderr",
          "text": [
            "100%|██████████| 10/10 [00:00<00:00, 20.63it/s]\n",
            "100%|██████████| 4/4 [00:00<00:00, 16.80it/s]\n"
          ]
        },
        {
          "output_type": "stream",
          "name": "stdout",
          "text": [
            "Train loss: 6.5126519203186035\tVal loss: 3.6148178577423096\tTrain acc: 0.0\tVal acc: 38.08123117469879\n"
          ]
        },
        {
          "output_type": "stream",
          "name": "stderr",
          "text": [
            "100%|██████████| 2/2 [00:00<00:00,  9.08it/s]\n",
            "100%|██████████| 3/3 [00:00<00:00, 12.83it/s]\n"
          ]
        },
        {
          "output_type": "stream",
          "name": "stdout",
          "text": [
            "########## Epoch 2\n"
          ]
        },
        {
          "output_type": "stream",
          "name": "stderr",
          "text": [
            "100%|██████████| 10/10 [00:00<00:00, 19.83it/s]\n",
            "100%|██████████| 4/4 [00:00<00:00, 16.93it/s]\n"
          ]
        },
        {
          "output_type": "stream",
          "name": "stdout",
          "text": [
            "Train loss: 5.422538757324219\tVal loss: 3.062753677368164\tTrain acc: 0.0\tVal acc: 37.551769578313255\n"
          ]
        },
        {
          "output_type": "stream",
          "name": "stderr",
          "text": [
            "100%|██████████| 2/2 [00:00<00:00,  9.31it/s]\n",
            "100%|██████████| 3/3 [00:00<00:00, 13.50it/s]\n"
          ]
        },
        {
          "output_type": "stream",
          "name": "stdout",
          "text": [
            "########## Epoch 3\n"
          ]
        },
        {
          "output_type": "stream",
          "name": "stderr",
          "text": [
            "100%|██████████| 10/10 [00:00<00:00, 20.18it/s]\n",
            "100%|██████████| 4/4 [00:00<00:00, 16.00it/s]\n"
          ]
        },
        {
          "output_type": "stream",
          "name": "stdout",
          "text": [
            "Train loss: 4.532151699066162\tVal loss: 2.546834945678711\tTrain acc: 0.0\tVal acc: 37.445877259036145\n"
          ]
        },
        {
          "output_type": "stream",
          "name": "stderr",
          "text": [
            "100%|██████████| 2/2 [00:00<00:00,  9.06it/s]\n",
            "100%|██████████| 3/3 [00:00<00:00, 12.51it/s]\n"
          ]
        },
        {
          "output_type": "stream",
          "name": "stdout",
          "text": [
            "########## Epoch 4\n"
          ]
        },
        {
          "output_type": "stream",
          "name": "stderr",
          "text": [
            "100%|██████████| 10/10 [00:00<00:00, 20.24it/s]\n",
            "100%|██████████| 4/4 [00:00<00:00, 16.02it/s]\n"
          ]
        },
        {
          "output_type": "stream",
          "name": "stdout",
          "text": [
            "Train loss: 3.7716305255889893\tVal loss: 2.0544586181640625\tTrain acc: 0.0\tVal acc: 38.293015813253014\n"
          ]
        },
        {
          "output_type": "stream",
          "name": "stderr",
          "text": [
            "100%|██████████| 2/2 [00:00<00:00,  8.28it/s]\n",
            "100%|██████████| 3/3 [00:00<00:00, 13.05it/s]\n"
          ]
        },
        {
          "output_type": "stream",
          "name": "stdout",
          "text": [
            "########## Epoch 5\n"
          ]
        },
        {
          "output_type": "stream",
          "name": "stderr",
          "text": [
            "100%|██████████| 10/10 [00:00<00:00, 19.16it/s]\n",
            "100%|██████████| 4/4 [00:00<00:00, 15.50it/s]\n"
          ]
        },
        {
          "output_type": "stream",
          "name": "stdout",
          "text": [
            "Train loss: 3.0556743144989014\tVal loss: 1.666792869567871\tTrain acc: 0.0\tVal acc: 37.02230798192771\n"
          ]
        },
        {
          "output_type": "stream",
          "name": "stderr",
          "text": [
            "100%|██████████| 2/2 [00:00<00:00,  9.40it/s]\n",
            "100%|██████████| 3/3 [00:00<00:00, 13.62it/s]\n"
          ]
        },
        {
          "output_type": "stream",
          "name": "stdout",
          "text": [
            "########## Epoch 6\n"
          ]
        },
        {
          "output_type": "stream",
          "name": "stderr",
          "text": [
            "100%|██████████| 10/10 [00:00<00:00, 20.37it/s]\n",
            "100%|██████████| 4/4 [00:00<00:00, 16.76it/s]\n"
          ]
        },
        {
          "output_type": "stream",
          "name": "stdout",
          "text": [
            "Train loss: 2.3958239555358887\tVal loss: 1.232486605644226\tTrain acc: 0.0\tVal acc: 38.92836972891566\n"
          ]
        },
        {
          "output_type": "stream",
          "name": "stderr",
          "text": [
            "100%|██████████| 2/2 [00:00<00:00,  8.55it/s]\n",
            "100%|██████████| 3/3 [00:00<00:00, 13.38it/s]\n"
          ]
        },
        {
          "output_type": "stream",
          "name": "stdout",
          "text": [
            "########## Epoch 7\n"
          ]
        },
        {
          "output_type": "stream",
          "name": "stderr",
          "text": [
            "100%|██████████| 10/10 [00:00<00:00, 20.95it/s]\n",
            "100%|██████████| 4/4 [00:00<00:00, 15.80it/s]\n"
          ]
        },
        {
          "output_type": "stream",
          "name": "stdout",
          "text": [
            "Train loss: 1.7607336044311523\tVal loss: 0.9147997498512268\tTrain acc: 8.619791666666668\tVal acc: 63.60363328313253\n"
          ]
        },
        {
          "output_type": "stream",
          "name": "stderr",
          "text": [
            "100%|██████████| 2/2 [00:00<00:00,  8.68it/s]\n",
            "100%|██████████| 3/3 [00:00<00:00, 12.97it/s]\n"
          ]
        },
        {
          "output_type": "stream",
          "name": "stdout",
          "text": [
            "########## Epoch 8\n"
          ]
        },
        {
          "output_type": "stream",
          "name": "stderr",
          "text": [
            "100%|██████████| 10/10 [00:00<00:00, 20.27it/s]\n",
            "100%|██████████| 4/4 [00:00<00:00, 15.93it/s]\n"
          ]
        },
        {
          "output_type": "stream",
          "name": "stdout",
          "text": [
            "Train loss: 1.3356213569641113\tVal loss: 0.6648519039154053\tTrain acc: 58.541666666666664\tVal acc: 85.92808734939759\n"
          ]
        },
        {
          "output_type": "stream",
          "name": "stderr",
          "text": [
            "100%|██████████| 2/2 [00:00<00:00,  8.72it/s]\n",
            "100%|██████████| 3/3 [00:00<00:00, 13.16it/s]\n"
          ]
        },
        {
          "output_type": "stream",
          "name": "stdout",
          "text": [
            "########## Epoch 9\n"
          ]
        },
        {
          "output_type": "stream",
          "name": "stderr",
          "text": [
            "100%|██████████| 10/10 [00:00<00:00, 20.78it/s]\n",
            "100%|██████████| 4/4 [00:00<00:00, 16.32it/s]\n"
          ]
        },
        {
          "output_type": "stream",
          "name": "stdout",
          "text": [
            "Train loss: 1.0620787143707275\tVal loss: 0.49458763003349304\tTrain acc: 77.265625\tVal acc: 90.27437876506025\n"
          ]
        },
        {
          "output_type": "stream",
          "name": "stderr",
          "text": [
            "100%|██████████| 2/2 [00:00<00:00,  8.63it/s]\n",
            "100%|██████████| 3/3 [00:00<00:00, 12.63it/s]\n"
          ]
        },
        {
          "output_type": "stream",
          "name": "stdout",
          "text": [
            "########## Epoch 10\n"
          ]
        },
        {
          "output_type": "stream",
          "name": "stderr",
          "text": [
            "100%|██████████| 10/10 [00:00<00:00, 20.96it/s]\n",
            "100%|██████████| 4/4 [00:00<00:00, 15.73it/s]\n"
          ]
        },
        {
          "output_type": "stream",
          "name": "stdout",
          "text": [
            "Train loss: 0.7584904432296753\tVal loss: 0.40100032091140747\tTrain acc: 83.41145833333334\tVal acc: 90.86031626506025\n"
          ]
        },
        {
          "output_type": "stream",
          "name": "stderr",
          "text": [
            "100%|██████████| 2/2 [00:00<00:00,  9.12it/s]\n",
            "100%|██████████| 3/3 [00:00<00:00, 13.07it/s]\n"
          ]
        },
        {
          "output_type": "stream",
          "name": "stdout",
          "text": [
            "########## Epoch 11\n"
          ]
        },
        {
          "output_type": "stream",
          "name": "stderr",
          "text": [
            "100%|██████████| 10/10 [00:00<00:00, 20.41it/s]\n",
            "100%|██████████| 4/4 [00:00<00:00, 15.95it/s]\n"
          ]
        },
        {
          "output_type": "stream",
          "name": "stdout",
          "text": [
            "Train loss: 0.6471210718154907\tVal loss: 0.34444284439086914\tTrain acc: 83.95833333333334\tVal acc: 90.86031626506025\n"
          ]
        },
        {
          "output_type": "stream",
          "name": "stderr",
          "text": [
            "100%|██████████| 2/2 [00:00<00:00,  9.22it/s]\n",
            "100%|██████████| 3/3 [00:00<00:00, 13.59it/s]\n"
          ]
        },
        {
          "output_type": "stream",
          "name": "stdout",
          "text": [
            "########## Epoch 12\n"
          ]
        },
        {
          "output_type": "stream",
          "name": "stderr",
          "text": [
            "100%|██████████| 10/10 [00:00<00:00, 20.00it/s]\n",
            "100%|██████████| 4/4 [00:00<00:00, 16.40it/s]\n"
          ]
        },
        {
          "output_type": "stream",
          "name": "stdout",
          "text": [
            "Train loss: 0.6599718332290649\tVal loss: 0.3183390200138092\tTrain acc: 81.09375\tVal acc: 90.6320594879518\n"
          ]
        },
        {
          "output_type": "stream",
          "name": "stderr",
          "text": [
            "100%|██████████| 2/2 [00:00<00:00,  9.01it/s]\n",
            "100%|██████████| 3/3 [00:00<00:00, 13.22it/s]\n"
          ]
        },
        {
          "output_type": "stream",
          "name": "stdout",
          "text": [
            "########## Epoch 13\n"
          ]
        },
        {
          "output_type": "stream",
          "name": "stderr",
          "text": [
            "100%|██████████| 10/10 [00:00<00:00, 20.31it/s]\n",
            "100%|██████████| 4/4 [00:00<00:00, 16.35it/s]\n"
          ]
        },
        {
          "output_type": "stream",
          "name": "stdout",
          "text": [
            "Train loss: 0.5180198550224304\tVal loss: 0.2867128849029541\tTrain acc: 84.66145833333334\tVal acc: 90.8273719879518\n"
          ]
        },
        {
          "output_type": "stream",
          "name": "stderr",
          "text": [
            "100%|██████████| 2/2 [00:00<00:00,  9.08it/s]\n",
            "100%|██████████| 3/3 [00:00<00:00, 13.12it/s]\n"
          ]
        },
        {
          "output_type": "stream",
          "name": "stdout",
          "text": [
            "########## Epoch 14\n"
          ]
        },
        {
          "output_type": "stream",
          "name": "stderr",
          "text": [
            "100%|██████████| 10/10 [00:00<00:00, 20.55it/s]\n",
            "100%|██████████| 4/4 [00:00<00:00, 15.95it/s]\n"
          ]
        },
        {
          "output_type": "stream",
          "name": "stdout",
          "text": [
            "Train loss: 0.4790506362915039\tVal loss: 0.2597675621509552\tTrain acc: 84.73958333333334\tVal acc: 91.42978162650603\n"
          ]
        },
        {
          "output_type": "stream",
          "name": "stderr",
          "text": [
            "100%|██████████| 2/2 [00:00<00:00,  8.80it/s]\n",
            "100%|██████████| 3/3 [00:00<00:00, 12.94it/s]\n"
          ]
        },
        {
          "output_type": "stream",
          "name": "stdout",
          "text": [
            "########## Epoch 15\n"
          ]
        },
        {
          "output_type": "stream",
          "name": "stderr",
          "text": [
            "100%|██████████| 10/10 [00:00<00:00, 20.25it/s]\n",
            "100%|██████████| 4/4 [00:00<00:00, 15.70it/s]\n"
          ]
        },
        {
          "output_type": "stream",
          "name": "stdout",
          "text": [
            "Train loss: 0.42028388381004333\tVal loss: 0.2313336580991745\tTrain acc: 86.484375\tVal acc: 92.04866340361446\n"
          ]
        },
        {
          "output_type": "stream",
          "name": "stderr",
          "text": [
            "100%|██████████| 2/2 [00:00<00:00,  8.79it/s]\n",
            "100%|██████████| 3/3 [00:00<00:00, 13.03it/s]\n"
          ]
        },
        {
          "output_type": "stream",
          "name": "stdout",
          "text": [
            "########## Epoch 16\n"
          ]
        },
        {
          "output_type": "stream",
          "name": "stderr",
          "text": [
            "100%|██████████| 10/10 [00:00<00:00, 19.86it/s]\n",
            "100%|██████████| 4/4 [00:00<00:00, 15.82it/s]\n"
          ]
        },
        {
          "output_type": "stream",
          "name": "stdout",
          "text": [
            "Train loss: 0.4268198609352112\tVal loss: 0.22044187784194946\tTrain acc: 85.13020833333334\tVal acc: 91.73098644578313\n"
          ]
        },
        {
          "output_type": "stream",
          "name": "stderr",
          "text": [
            "100%|██████████| 2/2 [00:00<00:00,  6.22it/s]\n",
            "100%|██████████| 3/3 [00:00<00:00,  7.28it/s]\n"
          ]
        },
        {
          "output_type": "stream",
          "name": "stdout",
          "text": [
            "########## Epoch 17\n"
          ]
        },
        {
          "output_type": "stream",
          "name": "stderr",
          "text": [
            "100%|██████████| 10/10 [00:00<00:00, 15.50it/s]\n",
            "100%|██████████| 4/4 [00:00<00:00,  9.91it/s]\n"
          ]
        },
        {
          "output_type": "stream",
          "name": "stdout",
          "text": [
            "Train loss: 0.36190173029899597\tVal loss: 0.20487314462661743\tTrain acc: 86.71875\tVal acc: 91.73098644578313\n"
          ]
        },
        {
          "output_type": "stream",
          "name": "stderr",
          "text": [
            "100%|██████████| 2/2 [00:00<00:00,  5.49it/s]\n",
            "100%|██████████| 3/3 [00:00<00:00,  6.59it/s]\n"
          ]
        },
        {
          "output_type": "stream",
          "name": "stdout",
          "text": [
            "########## Epoch 18\n"
          ]
        },
        {
          "output_type": "stream",
          "name": "stderr",
          "text": [
            "100%|██████████| 10/10 [00:01<00:00,  9.84it/s]\n",
            "100%|██████████| 4/4 [00:00<00:00,  8.85it/s]\n"
          ]
        },
        {
          "output_type": "stream",
          "name": "stdout",
          "text": [
            "Train loss: 0.4077928960323334\tVal loss: 0.19375647604465485\tTrain acc: 85.20833333333334\tVal acc: 91.62509412650603\n"
          ]
        },
        {
          "output_type": "stream",
          "name": "stderr",
          "text": [
            "100%|██████████| 2/2 [00:00<00:00,  5.62it/s]\n",
            "100%|██████████| 3/3 [00:00<00:00, 12.93it/s]\n"
          ]
        },
        {
          "output_type": "stream",
          "name": "stdout",
          "text": [
            "########## Epoch 19\n"
          ]
        },
        {
          "output_type": "stream",
          "name": "stderr",
          "text": [
            "100%|██████████| 10/10 [00:00<00:00, 20.84it/s]\n",
            "100%|██████████| 4/4 [00:00<00:00, 15.37it/s]\n"
          ]
        },
        {
          "output_type": "stream",
          "name": "stdout",
          "text": [
            "Train loss: 0.3650538921356201\tVal loss: 0.169997900724411\tTrain acc: 85.28645833333334\tVal acc: 92.15455572289156\n"
          ]
        },
        {
          "output_type": "stream",
          "name": "stderr",
          "text": [
            "100%|██████████| 2/2 [00:00<00:00,  8.80it/s]\n",
            "100%|██████████| 3/3 [00:00<00:00, 12.98it/s]\n"
          ]
        },
        {
          "output_type": "stream",
          "name": "stdout",
          "text": [
            "########## Epoch 20\n"
          ]
        },
        {
          "output_type": "stream",
          "name": "stderr",
          "text": [
            "100%|██████████| 10/10 [00:00<00:00, 20.05it/s]\n",
            "100%|██████████| 4/4 [00:00<00:00, 15.96it/s]\n"
          ]
        },
        {
          "output_type": "stream",
          "name": "stdout",
          "text": [
            "Train loss: 0.3107888102531433\tVal loss: 0.1592765748500824\tTrain acc: 86.875\tVal acc: 91.94277108433735\n"
          ]
        },
        {
          "output_type": "stream",
          "name": "stderr",
          "text": [
            "100%|██████████| 2/2 [00:00<00:00,  9.20it/s]\n",
            "100%|██████████| 3/3 [00:00<00:00, 12.91it/s]\n"
          ]
        },
        {
          "output_type": "stream",
          "name": "stdout",
          "text": [
            "########## Epoch 21\n"
          ]
        },
        {
          "output_type": "stream",
          "name": "stderr",
          "text": [
            "100%|██████████| 10/10 [00:00<00:00, 19.59it/s]\n",
            "100%|██████████| 4/4 [00:00<00:00, 17.05it/s]\n"
          ]
        },
        {
          "output_type": "stream",
          "name": "stdout",
          "text": [
            "Train loss: 0.39006590843200684\tVal loss: 0.1469431072473526\tTrain acc: 82.5\tVal acc: 93.11464608433735\n"
          ]
        },
        {
          "output_type": "stream",
          "name": "stderr",
          "text": [
            "100%|██████████| 2/2 [00:00<00:00,  9.35it/s]\n",
            "100%|██████████| 3/3 [00:00<00:00, 12.88it/s]\n"
          ]
        },
        {
          "output_type": "stream",
          "name": "stdout",
          "text": [
            "########## Epoch 22\n"
          ]
        },
        {
          "output_type": "stream",
          "name": "stderr",
          "text": [
            "100%|██████████| 10/10 [00:00<00:00, 19.62it/s]\n",
            "100%|██████████| 4/4 [00:00<00:00, 16.94it/s]\n"
          ]
        },
        {
          "output_type": "stream",
          "name": "stdout",
          "text": [
            "Train loss: 0.2653699517250061\tVal loss: 0.13398876786231995\tTrain acc: 88.4375\tVal acc: 96.27259036144578\n"
          ]
        },
        {
          "output_type": "stream",
          "name": "stderr",
          "text": [
            "100%|██████████| 2/2 [00:00<00:00,  8.50it/s]\n",
            "100%|██████████| 3/3 [00:00<00:00, 12.24it/s]\n"
          ]
        },
        {
          "output_type": "stream",
          "name": "stdout",
          "text": [
            "########## Epoch 23\n"
          ]
        },
        {
          "output_type": "stream",
          "name": "stderr",
          "text": [
            "100%|██████████| 10/10 [00:00<00:00, 20.97it/s]\n",
            "100%|██████████| 4/4 [00:00<00:00, 15.66it/s]\n"
          ]
        },
        {
          "output_type": "stream",
          "name": "stdout",
          "text": [
            "Train loss: 0.2781921327114105\tVal loss: 0.12453237920999527\tTrain acc: 90.98958333333334\tVal acc: 98.3316076807229\n"
          ]
        },
        {
          "output_type": "stream",
          "name": "stderr",
          "text": [
            "100%|██████████| 2/2 [00:00<00:00,  8.80it/s]\n",
            "100%|██████████| 3/3 [00:00<00:00, 13.28it/s]\n"
          ]
        },
        {
          "output_type": "stream",
          "name": "stdout",
          "text": [
            "########## Epoch 24\n"
          ]
        },
        {
          "output_type": "stream",
          "name": "stderr",
          "text": [
            "100%|██████████| 10/10 [00:00<00:00, 20.19it/s]\n",
            "100%|██████████| 4/4 [00:00<00:00, 15.95it/s]\n"
          ]
        },
        {
          "output_type": "stream",
          "name": "stdout",
          "text": [
            "Train loss: 0.23280613124370575\tVal loss: 0.11712145805358887\tTrain acc: 94.765625\tVal acc: 98.9175451807229\n"
          ]
        },
        {
          "output_type": "stream",
          "name": "stderr",
          "text": [
            "100%|██████████| 2/2 [00:00<00:00,  9.26it/s]\n",
            "100%|██████████| 3/3 [00:00<00:00, 13.09it/s]\n"
          ]
        },
        {
          "output_type": "stream",
          "name": "stdout",
          "text": [
            "########## Epoch 0\n"
          ]
        },
        {
          "output_type": "stream",
          "name": "stderr",
          "text": [
            "100%|██████████| 6/6 [00:00<00:00, 15.62it/s]\n",
            "100%|██████████| 6/6 [00:00<00:00, 23.29it/s]\n"
          ]
        },
        {
          "output_type": "stream",
          "name": "stdout",
          "text": [
            "Train loss: 3.806544303894043\tVal loss: 0.6671845316886902\tTrain acc: 0.0\tVal acc: 76.30208333333333\n"
          ]
        },
        {
          "output_type": "stream",
          "name": "stderr",
          "text": [
            "100%|██████████| 2/2 [00:00<00:00,  9.22it/s]\n",
            "100%|██████████| 3/3 [00:00<00:00, 12.45it/s]\n",
            "100%|██████████| 2/2 [00:00<00:00,  8.51it/s]\n"
          ]
        },
        {
          "output_type": "stream",
          "name": "stdout",
          "text": [
            "########## Epoch 1\n"
          ]
        },
        {
          "output_type": "stream",
          "name": "stderr",
          "text": [
            "100%|██████████| 6/6 [00:00<00:00, 15.14it/s]\n",
            "100%|██████████| 6/6 [00:00<00:00, 23.76it/s]\n"
          ]
        },
        {
          "output_type": "stream",
          "name": "stdout",
          "text": [
            "Train loss: 1.8978630304336548\tVal loss: 0.398862361907959\tTrain acc: 13.786458333333334\tVal acc: 84.375\n"
          ]
        },
        {
          "output_type": "stream",
          "name": "stderr",
          "text": [
            "100%|██████████| 2/2 [00:00<00:00,  9.44it/s]\n",
            "100%|██████████| 3/3 [00:00<00:00, 12.44it/s]\n",
            "100%|██████████| 2/2 [00:00<00:00,  8.55it/s]\n"
          ]
        },
        {
          "output_type": "stream",
          "name": "stdout",
          "text": [
            "########## Epoch 2\n"
          ]
        },
        {
          "output_type": "stream",
          "name": "stderr",
          "text": [
            "100%|██████████| 6/6 [00:00<00:00, 14.62it/s]\n",
            "100%|██████████| 6/6 [00:00<00:00, 21.85it/s]\n"
          ]
        },
        {
          "output_type": "stream",
          "name": "stdout",
          "text": [
            "Train loss: 1.1479617357254028\tVal loss: 0.25191226601600647\tTrain acc: 44.026041666666664\tVal acc: 90.75520833333333\n"
          ]
        },
        {
          "output_type": "stream",
          "name": "stderr",
          "text": [
            "100%|██████████| 2/2 [00:00<00:00,  8.84it/s]\n",
            "100%|██████████| 3/3 [00:00<00:00, 12.76it/s]\n",
            "100%|██████████| 2/2 [00:00<00:00,  9.45it/s]\n"
          ]
        },
        {
          "output_type": "stream",
          "name": "stdout",
          "text": [
            "########## Epoch 3\n"
          ]
        },
        {
          "output_type": "stream",
          "name": "stderr",
          "text": [
            "100%|██████████| 6/6 [00:00<00:00, 15.43it/s]\n",
            "100%|██████████| 6/6 [00:00<00:00, 23.23it/s]\n"
          ]
        },
        {
          "output_type": "stream",
          "name": "stdout",
          "text": [
            "Train loss: 0.663465678691864\tVal loss: 0.16662701964378357\tTrain acc: 72.24479166666667\tVal acc: 94.66145833333333\n"
          ]
        },
        {
          "output_type": "stream",
          "name": "stderr",
          "text": [
            "100%|██████████| 2/2 [00:00<00:00,  8.93it/s]\n",
            "100%|██████████| 3/3 [00:00<00:00, 12.71it/s]\n",
            "100%|██████████| 2/2 [00:00<00:00,  8.94it/s]\n"
          ]
        },
        {
          "output_type": "stream",
          "name": "stdout",
          "text": [
            "########## Epoch 4\n"
          ]
        },
        {
          "output_type": "stream",
          "name": "stderr",
          "text": [
            "100%|██████████| 6/6 [00:00<00:00, 15.78it/s]\n",
            "100%|██████████| 6/6 [00:00<00:00, 22.70it/s]\n"
          ]
        },
        {
          "output_type": "stream",
          "name": "stdout",
          "text": [
            "Train loss: 0.4174027442932129\tVal loss: 0.1656191200017929\tTrain acc: 81.765625\tVal acc: 94.921875\n"
          ]
        },
        {
          "output_type": "stream",
          "name": "stderr",
          "text": [
            "100%|██████████| 2/2 [00:00<00:00,  8.83it/s]\n",
            "100%|██████████| 3/3 [00:00<00:00, 12.98it/s]\n",
            "100%|██████████| 2/2 [00:00<00:00,  8.83it/s]\n"
          ]
        },
        {
          "output_type": "stream",
          "name": "stdout",
          "text": [
            "########## Epoch 5\n"
          ]
        },
        {
          "output_type": "stream",
          "name": "stderr",
          "text": [
            "100%|██████████| 6/6 [00:00<00:00, 15.60it/s]\n",
            "100%|██████████| 6/6 [00:00<00:00, 21.98it/s]\n"
          ]
        },
        {
          "output_type": "stream",
          "name": "stdout",
          "text": [
            "Train loss: 0.31925278902053833\tVal loss: 0.2138049602508545\tTrain acc: 85.06770833333333\tVal acc: 91.53645833333333\n"
          ]
        },
        {
          "output_type": "stream",
          "name": "stderr",
          "text": [
            "100%|██████████| 2/2 [00:00<00:00,  9.04it/s]\n",
            "100%|██████████| 3/3 [00:00<00:00, 12.53it/s]\n",
            "100%|██████████| 2/2 [00:00<00:00,  9.17it/s]\n"
          ]
        },
        {
          "output_type": "stream",
          "name": "stdout",
          "text": [
            "########## Epoch 6\n"
          ]
        },
        {
          "output_type": "stream",
          "name": "stderr",
          "text": [
            "100%|██████████| 6/6 [00:00<00:00, 15.39it/s]\n",
            "100%|██████████| 6/6 [00:00<00:00, 22.56it/s]\n"
          ]
        },
        {
          "output_type": "stream",
          "name": "stdout",
          "text": [
            "Train loss: 0.2847875654697418\tVal loss: 0.17995791137218475\tTrain acc: 88.19270833333333\tVal acc: 92.1875\n"
          ]
        },
        {
          "output_type": "stream",
          "name": "stderr",
          "text": [
            "100%|██████████| 2/2 [00:00<00:00,  8.85it/s]\n",
            "100%|██████████| 3/3 [00:00<00:00, 12.51it/s]\n",
            "100%|██████████| 2/2 [00:00<00:00,  9.02it/s]\n"
          ]
        },
        {
          "output_type": "stream",
          "name": "stdout",
          "text": [
            "########## Epoch 7\n"
          ]
        },
        {
          "output_type": "stream",
          "name": "stderr",
          "text": [
            "100%|██████████| 6/6 [00:00<00:00, 15.51it/s]\n",
            "100%|██████████| 6/6 [00:00<00:00, 21.63it/s]\n"
          ]
        },
        {
          "output_type": "stream",
          "name": "stdout",
          "text": [
            "Train loss: 0.2676994800567627\tVal loss: 0.11872479319572449\tTrain acc: 89.73958333333333\tVal acc: 97.265625\n"
          ]
        },
        {
          "output_type": "stream",
          "name": "stderr",
          "text": [
            "100%|██████████| 2/2 [00:00<00:00,  8.56it/s]\n",
            "100%|██████████| 3/3 [00:00<00:00, 12.57it/s]\n",
            "100%|██████████| 2/2 [00:00<00:00,  8.89it/s]\n"
          ]
        },
        {
          "output_type": "stream",
          "name": "stdout",
          "text": [
            "########## Epoch 8\n"
          ]
        },
        {
          "output_type": "stream",
          "name": "stderr",
          "text": [
            "100%|██████████| 6/6 [00:00<00:00, 15.95it/s]\n",
            "100%|██████████| 6/6 [00:00<00:00, 21.02it/s]\n"
          ]
        },
        {
          "output_type": "stream",
          "name": "stdout",
          "text": [
            "Train loss: 0.24308639764785767\tVal loss: 0.12029379606246948\tTrain acc: 92.15625\tVal acc: 97.91666666666667\n"
          ]
        },
        {
          "output_type": "stream",
          "name": "stderr",
          "text": [
            "100%|██████████| 2/2 [00:00<00:00,  9.26it/s]\n",
            "100%|██████████| 3/3 [00:00<00:00, 12.90it/s]\n",
            "100%|██████████| 2/2 [00:00<00:00,  9.15it/s]\n"
          ]
        },
        {
          "output_type": "stream",
          "name": "stdout",
          "text": [
            "########## Epoch 9\n"
          ]
        },
        {
          "output_type": "stream",
          "name": "stderr",
          "text": [
            "100%|██████████| 6/6 [00:00<00:00, 15.64it/s]\n",
            "100%|██████████| 6/6 [00:00<00:00, 22.22it/s]\n"
          ]
        },
        {
          "output_type": "stream",
          "name": "stdout",
          "text": [
            "Train loss: 0.21653424203395844\tVal loss: 0.1265907734632492\tTrain acc: 93.90625\tVal acc: 98.17708333333333\n"
          ]
        },
        {
          "output_type": "stream",
          "name": "stderr",
          "text": [
            "100%|██████████| 2/2 [00:00<00:00,  9.02it/s]\n",
            "100%|██████████| 3/3 [00:00<00:00, 12.60it/s]\n",
            "100%|██████████| 2/2 [00:00<00:00,  9.02it/s]\n"
          ]
        },
        {
          "output_type": "stream",
          "name": "stdout",
          "text": [
            "########## Epoch 10\n"
          ]
        },
        {
          "output_type": "stream",
          "name": "stderr",
          "text": [
            "100%|██████████| 6/6 [00:00<00:00, 15.29it/s]\n",
            "100%|██████████| 6/6 [00:00<00:00, 23.23it/s]\n"
          ]
        },
        {
          "output_type": "stream",
          "name": "stdout",
          "text": [
            "Train loss: 0.19456474483013153\tVal loss: 0.11358749121427536\tTrain acc: 95.74479166666667\tVal acc: 98.4375\n"
          ]
        },
        {
          "output_type": "stream",
          "name": "stderr",
          "text": [
            "100%|██████████| 2/2 [00:00<00:00,  8.21it/s]\n",
            "100%|██████████| 3/3 [00:00<00:00, 12.18it/s]\n",
            "100%|██████████| 2/2 [00:00<00:00,  8.90it/s]\n"
          ]
        },
        {
          "output_type": "stream",
          "name": "stdout",
          "text": [
            "########## Epoch 11\n"
          ]
        },
        {
          "output_type": "stream",
          "name": "stderr",
          "text": [
            "100%|██████████| 6/6 [00:00<00:00, 14.93it/s]\n",
            "100%|██████████| 6/6 [00:00<00:00, 23.13it/s]\n"
          ]
        },
        {
          "output_type": "stream",
          "name": "stdout",
          "text": [
            "Train loss: 0.18573975563049316\tVal loss: 0.11093825101852417\tTrain acc: 96.33854166666667\tVal acc: 98.4375\n"
          ]
        },
        {
          "output_type": "stream",
          "name": "stderr",
          "text": [
            "100%|██████████| 2/2 [00:00<00:00,  8.90it/s]\n",
            "100%|██████████| 3/3 [00:00<00:00, 12.95it/s]\n",
            "100%|██████████| 2/2 [00:00<00:00,  8.72it/s]\n"
          ]
        },
        {
          "output_type": "stream",
          "name": "stdout",
          "text": [
            "########## Epoch 12\n"
          ]
        },
        {
          "output_type": "stream",
          "name": "stderr",
          "text": [
            "100%|██████████| 6/6 [00:00<00:00, 15.23it/s]\n",
            "100%|██████████| 6/6 [00:00<00:00, 23.23it/s]\n"
          ]
        },
        {
          "output_type": "stream",
          "name": "stdout",
          "text": [
            "Train loss: 0.17362426221370697\tVal loss: 0.09984152764081955\tTrain acc: 96.80208333333333\tVal acc: 98.69791666666667\n"
          ]
        },
        {
          "output_type": "stream",
          "name": "stderr",
          "text": [
            "100%|██████████| 2/2 [00:00<00:00,  9.07it/s]\n",
            "100%|██████████| 3/3 [00:00<00:00, 12.34it/s]\n",
            "100%|██████████| 2/2 [00:00<00:00,  9.15it/s]\n"
          ]
        },
        {
          "output_type": "stream",
          "name": "stdout",
          "text": [
            "########## Epoch 13\n"
          ]
        },
        {
          "output_type": "stream",
          "name": "stderr",
          "text": [
            "100%|██████████| 6/6 [00:00<00:00, 15.80it/s]\n",
            "100%|██████████| 6/6 [00:00<00:00, 21.42it/s]\n"
          ]
        },
        {
          "output_type": "stream",
          "name": "stdout",
          "text": [
            "Train loss: 0.15795059502124786\tVal loss: 0.13177354633808136\tTrain acc: 97.265625\tVal acc: 98.69791666666667\n"
          ]
        },
        {
          "output_type": "stream",
          "name": "stderr",
          "text": [
            "100%|██████████| 2/2 [00:00<00:00,  8.06it/s]\n",
            "100%|██████████| 3/3 [00:00<00:00, 12.89it/s]\n",
            "100%|██████████| 2/2 [00:00<00:00,  9.22it/s]\n"
          ]
        },
        {
          "output_type": "stream",
          "name": "stdout",
          "text": [
            "########## Epoch 14\n"
          ]
        },
        {
          "output_type": "stream",
          "name": "stderr",
          "text": [
            "100%|██████████| 6/6 [00:00<00:00, 15.46it/s]\n",
            "100%|██████████| 6/6 [00:00<00:00, 21.61it/s]\n"
          ]
        },
        {
          "output_type": "stream",
          "name": "stdout",
          "text": [
            "Train loss: 0.15321144461631775\tVal loss: 0.226360484957695\tTrain acc: 97.19270833333333\tVal acc: 94.66145833333333\n"
          ]
        },
        {
          "output_type": "stream",
          "name": "stderr",
          "text": [
            "100%|██████████| 2/2 [00:00<00:00,  8.68it/s]\n",
            "100%|██████████| 3/3 [00:00<00:00, 12.05it/s]\n",
            "100%|██████████| 2/2 [00:00<00:00,  8.83it/s]\n"
          ]
        },
        {
          "output_type": "stream",
          "name": "stdout",
          "text": [
            "########## Epoch 15\n"
          ]
        },
        {
          "output_type": "stream",
          "name": "stderr",
          "text": [
            "100%|██████████| 6/6 [00:00<00:00, 15.55it/s]\n",
            "100%|██████████| 6/6 [00:00<00:00, 22.93it/s]\n"
          ]
        },
        {
          "output_type": "stream",
          "name": "stdout",
          "text": [
            "Train loss: 0.14181266725063324\tVal loss: 0.1258048266172409\tTrain acc: 97.11979166666667\tVal acc: 94.53125\n"
          ]
        },
        {
          "output_type": "stream",
          "name": "stderr",
          "text": [
            "100%|██████████| 2/2 [00:00<00:00,  8.76it/s]\n",
            "100%|██████████| 3/3 [00:00<00:00, 12.69it/s]\n",
            "100%|██████████| 2/2 [00:00<00:00,  9.39it/s]\n"
          ]
        },
        {
          "output_type": "stream",
          "name": "stdout",
          "text": [
            "########## Epoch 16\n"
          ]
        },
        {
          "output_type": "stream",
          "name": "stderr",
          "text": [
            "100%|██████████| 6/6 [00:00<00:00, 15.22it/s]\n",
            "100%|██████████| 6/6 [00:00<00:00, 21.90it/s]\n"
          ]
        },
        {
          "output_type": "stream",
          "name": "stdout",
          "text": [
            "Train loss: 0.13062740862369537\tVal loss: 0.09569460153579712\tTrain acc: 97.25\tVal acc: 98.4375\n"
          ]
        },
        {
          "output_type": "stream",
          "name": "stderr",
          "text": [
            "100%|██████████| 2/2 [00:00<00:00,  8.93it/s]\n",
            "100%|██████████| 3/3 [00:00<00:00, 13.35it/s]\n",
            "100%|██████████| 2/2 [00:00<00:00,  9.16it/s]\n"
          ]
        },
        {
          "output_type": "stream",
          "name": "stdout",
          "text": [
            "########## Epoch 17\n"
          ]
        },
        {
          "output_type": "stream",
          "name": "stderr",
          "text": [
            "100%|██████████| 6/6 [00:00<00:00, 15.08it/s]\n",
            "100%|██████████| 6/6 [00:00<00:00, 22.64it/s]\n"
          ]
        },
        {
          "output_type": "stream",
          "name": "stdout",
          "text": [
            "Train loss: 0.13274669647216797\tVal loss: 0.1412687748670578\tTrain acc: 97.17708333333333\tVal acc: 98.4375\n"
          ]
        },
        {
          "output_type": "stream",
          "name": "stderr",
          "text": [
            "100%|██████████| 2/2 [00:00<00:00,  8.90it/s]\n",
            "100%|██████████| 3/3 [00:00<00:00, 12.19it/s]\n",
            "100%|██████████| 2/2 [00:00<00:00,  8.88it/s]\n"
          ]
        },
        {
          "output_type": "stream",
          "name": "stdout",
          "text": [
            "########## Epoch 18\n"
          ]
        },
        {
          "output_type": "stream",
          "name": "stderr",
          "text": [
            "100%|██████████| 6/6 [00:00<00:00, 15.68it/s]\n",
            "100%|██████████| 6/6 [00:00<00:00, 21.27it/s]\n"
          ]
        },
        {
          "output_type": "stream",
          "name": "stdout",
          "text": [
            "Train loss: 0.11551546305418015\tVal loss: 0.1537259817123413\tTrain acc: 97.78645833333333\tVal acc: 94.27083333333333\n"
          ]
        },
        {
          "output_type": "stream",
          "name": "stderr",
          "text": [
            "100%|██████████| 2/2 [00:00<00:00,  8.61it/s]\n",
            "100%|██████████| 3/3 [00:00<00:00, 13.15it/s]\n",
            "100%|██████████| 2/2 [00:00<00:00,  9.08it/s]\n"
          ]
        },
        {
          "output_type": "stream",
          "name": "stdout",
          "text": [
            "########## Epoch 19\n"
          ]
        },
        {
          "output_type": "stream",
          "name": "stderr",
          "text": [
            "100%|██████████| 6/6 [00:00<00:00, 15.07it/s]\n",
            "100%|██████████| 6/6 [00:00<00:00, 23.33it/s]\n"
          ]
        },
        {
          "output_type": "stream",
          "name": "stdout",
          "text": [
            "Train loss: 0.10932141542434692\tVal loss: 0.10103700309991837\tTrain acc: 97.71354166666667\tVal acc: 98.046875\n"
          ]
        },
        {
          "output_type": "stream",
          "name": "stderr",
          "text": [
            "100%|██████████| 2/2 [00:00<00:00,  9.21it/s]\n",
            "100%|██████████| 3/3 [00:00<00:00, 13.01it/s]\n",
            "100%|██████████| 2/2 [00:00<00:00,  8.54it/s]\n"
          ]
        },
        {
          "output_type": "stream",
          "name": "stdout",
          "text": [
            "########## Epoch 20\n"
          ]
        },
        {
          "output_type": "stream",
          "name": "stderr",
          "text": [
            "100%|██████████| 6/6 [00:00<00:00, 16.12it/s]\n",
            "100%|██████████| 6/6 [00:00<00:00, 22.65it/s]\n"
          ]
        },
        {
          "output_type": "stream",
          "name": "stdout",
          "text": [
            "Train loss: 0.10783939808607101\tVal loss: 0.10345140099525452\tTrain acc: 97.71354166666667\tVal acc: 97.91666666666667\n"
          ]
        },
        {
          "output_type": "stream",
          "name": "stderr",
          "text": [
            "100%|██████████| 2/2 [00:00<00:00,  8.40it/s]\n",
            "100%|██████████| 3/3 [00:00<00:00, 12.45it/s]\n",
            "100%|██████████| 2/2 [00:00<00:00,  8.97it/s]\n"
          ]
        },
        {
          "output_type": "stream",
          "name": "stdout",
          "text": [
            "########## Epoch 21\n"
          ]
        },
        {
          "output_type": "stream",
          "name": "stderr",
          "text": [
            "100%|██████████| 6/6 [00:00<00:00, 15.41it/s]\n",
            "100%|██████████| 6/6 [00:00<00:00, 21.98it/s]\n"
          ]
        },
        {
          "output_type": "stream",
          "name": "stdout",
          "text": [
            "Train loss: 0.10480346530675888\tVal loss: 0.09828289598226547\tTrain acc: 97.51041666666667\tVal acc: 97.78645833333333\n"
          ]
        },
        {
          "output_type": "stream",
          "name": "stderr",
          "text": [
            "100%|██████████| 2/2 [00:00<00:00,  9.10it/s]\n",
            "100%|██████████| 3/3 [00:00<00:00, 12.65it/s]\n",
            "100%|██████████| 2/2 [00:00<00:00,  8.43it/s]\n"
          ]
        },
        {
          "output_type": "stream",
          "name": "stdout",
          "text": [
            "########## Epoch 22\n"
          ]
        },
        {
          "output_type": "stream",
          "name": "stderr",
          "text": [
            "100%|██████████| 6/6 [00:00<00:00, 15.13it/s]\n",
            "100%|██████████| 6/6 [00:00<00:00, 22.25it/s]\n"
          ]
        },
        {
          "output_type": "stream",
          "name": "stdout",
          "text": [
            "Train loss: 0.10602077841758728\tVal loss: 0.09862106293439865\tTrain acc: 97.84375\tVal acc: 97.91666666666667\n"
          ]
        },
        {
          "output_type": "stream",
          "name": "stderr",
          "text": [
            "100%|██████████| 2/2 [00:00<00:00,  8.69it/s]\n",
            "100%|██████████| 3/3 [00:00<00:00, 12.04it/s]\n",
            "100%|██████████| 2/2 [00:00<00:00,  9.09it/s]\n"
          ]
        },
        {
          "output_type": "stream",
          "name": "stdout",
          "text": [
            "########## Epoch 23\n"
          ]
        },
        {
          "output_type": "stream",
          "name": "stderr",
          "text": [
            "100%|██████████| 6/6 [00:00<00:00, 15.10it/s]\n",
            "100%|██████████| 6/6 [00:00<00:00, 21.00it/s]\n"
          ]
        },
        {
          "output_type": "stream",
          "name": "stdout",
          "text": [
            "Train loss: 0.11193710565567017\tVal loss: 0.1016104593873024\tTrain acc: 97.77083333333333\tVal acc: 98.046875\n"
          ]
        },
        {
          "output_type": "stream",
          "name": "stderr",
          "text": [
            "100%|██████████| 2/2 [00:00<00:00,  8.59it/s]\n",
            "100%|██████████| 3/3 [00:00<00:00, 12.88it/s]\n",
            "100%|██████████| 2/2 [00:00<00:00,  9.06it/s]\n"
          ]
        },
        {
          "output_type": "stream",
          "name": "stdout",
          "text": [
            "########## Epoch 24\n"
          ]
        },
        {
          "output_type": "stream",
          "name": "stderr",
          "text": [
            "100%|██████████| 6/6 [00:00<00:00, 14.92it/s]\n",
            "100%|██████████| 6/6 [00:00<00:00, 22.45it/s]\n"
          ]
        },
        {
          "output_type": "stream",
          "name": "stdout",
          "text": [
            "Train loss: 0.10024181008338928\tVal loss: 0.12144812196493149\tTrain acc: 97.97395833333333\tVal acc: 98.046875\n"
          ]
        },
        {
          "output_type": "stream",
          "name": "stderr",
          "text": [
            "100%|██████████| 2/2 [00:00<00:00,  8.40it/s]\n",
            "100%|██████████| 3/3 [00:00<00:00, 12.36it/s]\n",
            "100%|██████████| 2/2 [00:00<00:00,  8.50it/s]\n"
          ]
        },
        {
          "output_type": "display_data",
          "data": {
            "text/plain": [
              "<IPython.core.display.HTML object>"
            ],
            "text/html": [
              "Waiting for W&B process to finish... <strong style=\"color:green\">(success).</strong>"
            ]
          },
          "metadata": {}
        },
        {
          "output_type": "display_data",
          "data": {
            "text/plain": [
              "VBox(children=(Label(value='0.000 MB of 0.000 MB uploaded (0.000 MB deduped)\\r'), FloatProgress(value=1.0, max…"
            ],
            "application/vnd.jupyter.widget-view+json": {
              "version_major": 2,
              "version_minor": 0,
              "model_id": "a7c92a0a58dd467098134f905d7552d8"
            }
          },
          "metadata": {}
        },
        {
          "output_type": "display_data",
          "data": {
            "text/plain": [
              "<IPython.core.display.HTML object>"
            ],
            "text/html": [
              "<style>\n",
              "    table.wandb td:nth-child(1) { padding: 0 10px; text-align: left ; width: auto;} td:nth-child(2) {text-align: left ; width: 100%}\n",
              "    .wandb-row { display: flex; flex-direction: row; flex-wrap: wrap; justify-content: flex-start; width: 100% }\n",
              "    .wandb-col { display: flex; flex-direction: column; flex-basis: 100%; flex: 1; padding: 10px; }\n",
              "    </style>\n",
              "<div class=\"wandb-row\"><div class=\"wandb-col\"><h3>Run history:</h3><br/><table class=\"wandb\"><tr><td>task_0_prevtask_0_val_acc</td><td>▁▆▅▆▆████████████████████</td></tr><tr><td>task_0_prevtask_0_val_loss</td><td>█▇▅▄▃▂▁▁▁▁▁▁▁▁▁▁▁▁▁▁▁▁▁▁▁</td></tr><tr><td>task_0_train_acc</td><td>▁▁▅▅▅▇███████████████████</td></tr><tr><td>task_0_train_loss</td><td>█▅▄▃▃▂▁▁▁▁▁▁▁▁▁▁▁▁▁▁▁▁▁▁▁</td></tr><tr><td>task_0_val_acc</td><td>▁▆▅▅▆████████████████████</td></tr><tr><td>task_0_val_loss</td><td>█▇▅▅▃▂▁▁▁▁▁▁▁▁▁▁▁▁▁▁▁▁▁▁▁</td></tr><tr><td>task_1_prevtask_0_val_acc</td><td>▁██▁█▁▁█▁▁██▁██▁████▁█▁██</td></tr><tr><td>task_1_prevtask_0_val_loss</td><td>▇▁▁▄▁▄▄▁▅▆▂▂▇▂▂▇▂▂▃▂█▃█▃▃</td></tr><tr><td>task_1_prevtask_1_val_acc</td><td>▁▁▁▁▁▁▁▄▇▇▇▇▇▇▇▇▇▇▇▇▇▇███</td></tr><tr><td>task_1_prevtask_1_val_loss</td><td>█▇▆▅▄▄▃▂▂▂▁▁▁▁▁▁▁▁▁▁▁▁▁▁▁</td></tr><tr><td>task_1_train_acc</td><td>▁▁▁▁▁▁▁▂▅▇▇▇▇▇▇▇▇▇▇▇▇▇███</td></tr><tr><td>task_1_train_loss</td><td>█▇▆▅▄▄▃▂▂▂▁▁▁▁▁▁▁▁▁▁▁▁▁▁▁</td></tr><tr><td>task_1_val_acc</td><td>▁▁▁▁▁▁▁▄▇▇▇▇▇▇▇▇▇▇▇▇▇▇███</td></tr><tr><td>task_1_val_loss</td><td>█▇▆▅▄▄▃▂▂▂▁▁▁▁▁▁▁▁▁▁▁▁▁▁▁</td></tr><tr><td>task_2_prevtask_0_val_acc</td><td>██▇█▇▇▆▇▇▇▆▆▇▇▇▆▆▆▆▄▃▂▃▁▃</td></tr><tr><td>task_2_prevtask_0_val_loss</td><td>▁▁▁▂▂▃▄▄▄▄▅▅▅▅▆▅▆▆▆▇▇▇▇█▇</td></tr><tr><td>task_2_prevtask_1_val_acc</td><td>▇▇▇▇▄▁▄▁▆▄▇▇▅▅▇▇▇▂▅▅▇▇▂▅█</td></tr><tr><td>task_2_prevtask_1_val_loss</td><td>█▆▅▅▅▇▄█▄▃▃▃▃▂▂▂▂▆▅▃▁▁▄▃▁</td></tr><tr><td>task_2_prevtask_2_val_acc</td><td>▁▄▅▇▇▇▇██████████████████</td></tr><tr><td>task_2_prevtask_2_val_loss</td><td>█▄▃▂▂▂▁▁▂▁▁▁▁▁▁▁▁▁▁▁▁▁▁▁▁</td></tr><tr><td>task_2_train_acc</td><td>▁▂▄▆▇▇▇▇█████████████████</td></tr><tr><td>task_2_train_loss</td><td>█▄▃▂▂▁▁▁▁▁▁▁▁▁▁▁▁▁▁▁▁▁▁▁▁</td></tr><tr><td>task_2_val_acc</td><td>▁▄▆▇▇▆▆███████▇▇██▇██████</td></tr><tr><td>task_2_val_loss</td><td>█▅▃▂▂▂▂▁▁▁▁▁▁▁▃▁▁▂▂▁▁▁▁▁▁</td></tr></table><br/></div><div class=\"wandb-col\"><h3>Run summary:</h3><br/><table class=\"wandb\"><tr><td>task_0_prevtask_0_val_acc</td><td>99.60938</td></tr><tr><td>task_0_prevtask_0_val_loss</td><td>0.01863</td></tr><tr><td>task_0_train_acc</td><td>99.73958</td></tr><tr><td>task_0_train_loss</td><td>0.00512</td></tr><tr><td>task_0_val_acc</td><td>99.60938</td></tr><tr><td>task_0_val_loss</td><td>0.0179</td></tr><tr><td>task_1_prevtask_0_val_acc</td><td>99.60938</td></tr><tr><td>task_1_prevtask_0_val_loss</td><td>0.02401</td></tr><tr><td>task_1_prevtask_1_val_acc</td><td>98.95833</td></tr><tr><td>task_1_prevtask_1_val_loss</td><td>0.16178</td></tr><tr><td>task_1_train_acc</td><td>94.76562</td></tr><tr><td>task_1_train_loss</td><td>0.23281</td></tr><tr><td>task_1_val_acc</td><td>98.91755</td></tr><tr><td>task_1_val_loss</td><td>0.11712</td></tr><tr><td>task_2_prevtask_0_val_acc</td><td>95.85459</td></tr><tr><td>task_2_prevtask_0_val_loss</td><td>0.21474</td></tr><tr><td>task_2_prevtask_1_val_acc</td><td>99.21875</td></tr><tr><td>task_2_prevtask_1_val_loss</td><td>0.05133</td></tr><tr><td>task_2_prevtask_2_val_acc</td><td>96.93878</td></tr><tr><td>task_2_prevtask_2_val_loss</td><td>0.14854</td></tr><tr><td>task_2_train_acc</td><td>97.97396</td></tr><tr><td>task_2_train_loss</td><td>0.10024</td></tr><tr><td>task_2_val_acc</td><td>98.04688</td></tr><tr><td>task_2_val_loss</td><td>0.12145</td></tr></table><br/></div></div>"
            ]
          },
          "metadata": {}
        },
        {
          "output_type": "display_data",
          "data": {
            "text/plain": [
              "<IPython.core.display.HTML object>"
            ],
            "text/html": [
              "Synced <strong style=\"color:#cdcd00\">ring_yesno_imagecondition_roadcondition_21_09_03h51m13s_mul</strong>: <a href=\"https://wandb.ai/compyle/continual_vqa_final/runs/1s2cfxuf\" target=\"_blank\">https://wandb.ai/compyle/continual_vqa_final/runs/1s2cfxuf</a><br/>Synced 5 W&B file(s), 0 media file(s), 0 artifact file(s) and 0 other file(s)"
            ]
          },
          "metadata": {}
        },
        {
          "output_type": "display_data",
          "data": {
            "text/plain": [
              "<IPython.core.display.HTML object>"
            ],
            "text/html": [
              "Find logs at: <code>./wandb/run-20220921_035118-1s2cfxuf/logs</code>"
            ]
          },
          "metadata": {}
        },
        {
          "output_type": "display_data",
          "data": {
            "text/plain": [
              "<IPython.core.display.HTML object>"
            ],
            "text/html": [
              "Tracking run with wandb version 0.13.3"
            ]
          },
          "metadata": {}
        },
        {
          "output_type": "display_data",
          "data": {
            "text/plain": [
              "<IPython.core.display.HTML object>"
            ],
            "text/html": [
              "Run data is saved locally in <code>/content/wandb/run-20220921_035302-11ytm1fo</code>"
            ]
          },
          "metadata": {}
        },
        {
          "output_type": "display_data",
          "data": {
            "text/plain": [
              "<IPython.core.display.HTML object>"
            ],
            "text/html": [
              "Syncing run <strong><a href=\"https://wandb.ai/compyle/continual_vqa_final/runs/11ytm1fo\" target=\"_blank\">ring_yesno_roadcondition_imagecondition_21_09_03h53m02s_mul</a></strong> to <a href=\"https://wandb.ai/compyle/continual_vqa_final\" target=\"_blank\">Weights & Biases</a> (<a href=\"https://wandb.me/run\" target=\"_blank\">docs</a>)<br/>"
            ]
          },
          "metadata": {}
        },
        {
          "output_type": "stream",
          "name": "stdout",
          "text": [
            "########## Epoch 0\n"
          ]
        },
        {
          "output_type": "stream",
          "name": "stderr",
          "text": [
            "100%|██████████| 6/6 [00:00<00:00, 14.12it/s]\n",
            "100%|██████████| 2/2 [00:00<00:00,  8.19it/s]\n"
          ]
        },
        {
          "output_type": "stream",
          "name": "stdout",
          "text": [
            "Train loss: 1.0908238887786865\tVal loss: 0.6758910417556763\tTrain acc: 55.43087121212121\tVal acc: 59.19744318181819\n"
          ]
        },
        {
          "output_type": "stream",
          "name": "stderr",
          "text": [
            "100%|██████████| 2/2 [00:00<00:00,  7.94it/s]\n"
          ]
        },
        {
          "output_type": "stream",
          "name": "stdout",
          "text": [
            "########## Epoch 1\n"
          ]
        },
        {
          "output_type": "stream",
          "name": "stderr",
          "text": [
            "100%|██████████| 6/6 [00:00<00:00, 15.07it/s]\n",
            "100%|██████████| 2/2 [00:00<00:00,  5.84it/s]\n"
          ]
        },
        {
          "output_type": "stream",
          "name": "stdout",
          "text": [
            "Train loss: 0.6185322999954224\tVal loss: 0.5472300052642822\tTrain acc: 65.58948863636364\tVal acc: 72.72727272727272\n"
          ]
        },
        {
          "output_type": "stream",
          "name": "stderr",
          "text": [
            "100%|██████████| 2/2 [00:00<00:00,  8.31it/s]\n"
          ]
        },
        {
          "output_type": "stream",
          "name": "stdout",
          "text": [
            "########## Epoch 2\n"
          ]
        },
        {
          "output_type": "stream",
          "name": "stderr",
          "text": [
            "100%|██████████| 6/6 [00:00<00:00, 11.77it/s]\n",
            "100%|██████████| 2/2 [00:00<00:00,  8.41it/s]\n"
          ]
        },
        {
          "output_type": "stream",
          "name": "stdout",
          "text": [
            "Train loss: 0.46111735701560974\tVal loss: 0.41670385003089905\tTrain acc: 81.94839015151514\tVal acc: 81.85369318181819\n"
          ]
        },
        {
          "output_type": "stream",
          "name": "stderr",
          "text": [
            "100%|██████████| 2/2 [00:00<00:00,  6.30it/s]\n"
          ]
        },
        {
          "output_type": "stream",
          "name": "stdout",
          "text": [
            "########## Epoch 3\n"
          ]
        },
        {
          "output_type": "stream",
          "name": "stderr",
          "text": [
            "100%|██████████| 6/6 [00:00<00:00, 14.68it/s]\n",
            "100%|██████████| 2/2 [00:00<00:00,  8.76it/s]\n"
          ]
        },
        {
          "output_type": "stream",
          "name": "stdout",
          "text": [
            "Train loss: 0.38704755902290344\tVal loss: 0.3975157141685486\tTrain acc: 81.39204545454545\tVal acc: 78.125\n"
          ]
        },
        {
          "output_type": "stream",
          "name": "stderr",
          "text": [
            "100%|██████████| 2/2 [00:00<00:00,  8.13it/s]\n"
          ]
        },
        {
          "output_type": "stream",
          "name": "stdout",
          "text": [
            "########## Epoch 4\n"
          ]
        },
        {
          "output_type": "stream",
          "name": "stderr",
          "text": [
            "100%|██████████| 6/6 [00:00<00:00, 15.20it/s]\n",
            "100%|██████████| 2/2 [00:00<00:00,  8.24it/s]\n"
          ]
        },
        {
          "output_type": "stream",
          "name": "stdout",
          "text": [
            "Train loss: 0.27734366059303284\tVal loss: 0.2316061109304428\tTrain acc: 84.90056818181819\tVal acc: 87.35795454545455\n"
          ]
        },
        {
          "output_type": "stream",
          "name": "stderr",
          "text": [
            "100%|██████████| 2/2 [00:00<00:00,  8.69it/s]\n"
          ]
        },
        {
          "output_type": "stream",
          "name": "stdout",
          "text": [
            "########## Epoch 5\n"
          ]
        },
        {
          "output_type": "stream",
          "name": "stderr",
          "text": [
            "100%|██████████| 6/6 [00:00<00:00, 15.15it/s]\n",
            "100%|██████████| 2/2 [00:00<00:00,  8.47it/s]\n"
          ]
        },
        {
          "output_type": "stream",
          "name": "stdout",
          "text": [
            "Train loss: 0.1471630185842514\tVal loss: 0.14081484079360962\tTrain acc: 96.1813446969697\tVal acc: 94.6377840909091\n"
          ]
        },
        {
          "output_type": "stream",
          "name": "stderr",
          "text": [
            "100%|██████████| 2/2 [00:00<00:00,  8.36it/s]\n"
          ]
        },
        {
          "output_type": "stream",
          "name": "stdout",
          "text": [
            "########## Epoch 6\n"
          ]
        },
        {
          "output_type": "stream",
          "name": "stderr",
          "text": [
            "100%|██████████| 6/6 [00:00<00:00, 14.47it/s]\n",
            "100%|██████████| 2/2 [00:00<00:00,  8.40it/s]\n"
          ]
        },
        {
          "output_type": "stream",
          "name": "stdout",
          "text": [
            "Train loss: 0.06891722977161407\tVal loss: 0.07071453332901001\tTrain acc: 97.78645833333333\tVal acc: 98.08238636363637\n"
          ]
        },
        {
          "output_type": "stream",
          "name": "stderr",
          "text": [
            "100%|██████████| 2/2 [00:00<00:00,  8.00it/s]\n"
          ]
        },
        {
          "output_type": "stream",
          "name": "stdout",
          "text": [
            "########## Epoch 7\n"
          ]
        },
        {
          "output_type": "stream",
          "name": "stderr",
          "text": [
            "100%|██████████| 6/6 [00:00<00:00, 14.59it/s]\n",
            "100%|██████████| 2/2 [00:00<00:00,  8.49it/s]\n"
          ]
        },
        {
          "output_type": "stream",
          "name": "stdout",
          "text": [
            "Train loss: 0.048430319875478745\tVal loss: 0.10753748565912247\tTrain acc: 98.828125\tVal acc: 95.4190340909091\n"
          ]
        },
        {
          "output_type": "stream",
          "name": "stderr",
          "text": [
            "100%|██████████| 2/2 [00:00<00:00,  7.97it/s]\n"
          ]
        },
        {
          "output_type": "stream",
          "name": "stdout",
          "text": [
            "########## Epoch 8\n"
          ]
        },
        {
          "output_type": "stream",
          "name": "stderr",
          "text": [
            "100%|██████████| 6/6 [00:00<00:00, 14.79it/s]\n",
            "100%|██████████| 2/2 [00:00<00:00,  8.28it/s]\n"
          ]
        },
        {
          "output_type": "stream",
          "name": "stdout",
          "text": [
            "Train loss: 0.04980654641985893\tVal loss: 0.05959204584360123\tTrain acc: 98.69791666666667\tVal acc: 97.69176136363637\n"
          ]
        },
        {
          "output_type": "stream",
          "name": "stderr",
          "text": [
            "100%|██████████| 2/2 [00:00<00:00,  7.98it/s]\n"
          ]
        },
        {
          "output_type": "stream",
          "name": "stdout",
          "text": [
            "########## Epoch 9\n"
          ]
        },
        {
          "output_type": "stream",
          "name": "stderr",
          "text": [
            "100%|██████████| 6/6 [00:00<00:00, 14.80it/s]\n",
            "100%|██████████| 2/2 [00:00<00:00,  8.28it/s]\n"
          ]
        },
        {
          "output_type": "stream",
          "name": "stdout",
          "text": [
            "Train loss: 0.056927334517240524\tVal loss: 0.07654085755348206\tTrain acc: 98.87310606060606\tVal acc: 98.08238636363637\n"
          ]
        },
        {
          "output_type": "stream",
          "name": "stderr",
          "text": [
            "100%|██████████| 2/2 [00:00<00:00,  7.92it/s]\n"
          ]
        },
        {
          "output_type": "stream",
          "name": "stdout",
          "text": [
            "########## Epoch 10\n"
          ]
        },
        {
          "output_type": "stream",
          "name": "stderr",
          "text": [
            "100%|██████████| 6/6 [00:00<00:00, 14.19it/s]\n",
            "100%|██████████| 2/2 [00:00<00:00,  8.16it/s]\n"
          ]
        },
        {
          "output_type": "stream",
          "name": "stdout",
          "text": [
            "Train loss: 0.04153065383434296\tVal loss: 0.0529366135597229\tTrain acc: 98.9157196969697\tVal acc: 97.69176136363637\n"
          ]
        },
        {
          "output_type": "stream",
          "name": "stderr",
          "text": [
            "100%|██████████| 2/2 [00:00<00:00,  8.33it/s]\n"
          ]
        },
        {
          "output_type": "stream",
          "name": "stdout",
          "text": [
            "########## Epoch 11\n"
          ]
        },
        {
          "output_type": "stream",
          "name": "stderr",
          "text": [
            "100%|██████████| 6/6 [00:00<00:00, 13.97it/s]\n",
            "100%|██████████| 2/2 [00:00<00:00,  8.47it/s]\n"
          ]
        },
        {
          "output_type": "stream",
          "name": "stdout",
          "text": [
            "Train loss: 0.030828392133116722\tVal loss: 0.052566442638635635\tTrain acc: 99.34895833333333\tVal acc: 98.828125\n"
          ]
        },
        {
          "output_type": "stream",
          "name": "stderr",
          "text": [
            "100%|██████████| 2/2 [00:00<00:00,  8.36it/s]\n"
          ]
        },
        {
          "output_type": "stream",
          "name": "stdout",
          "text": [
            "########## Epoch 12\n"
          ]
        },
        {
          "output_type": "stream",
          "name": "stderr",
          "text": [
            "100%|██████████| 6/6 [00:00<00:00, 14.53it/s]\n",
            "100%|██████████| 2/2 [00:00<00:00,  8.55it/s]\n"
          ]
        },
        {
          "output_type": "stream",
          "name": "stdout",
          "text": [
            "Train loss: 0.042026784271001816\tVal loss: 0.04835624620318413\tTrain acc: 99.00331439393939\tVal acc: 98.828125\n"
          ]
        },
        {
          "output_type": "stream",
          "name": "stderr",
          "text": [
            "100%|██████████| 2/2 [00:00<00:00,  8.52it/s]\n"
          ]
        },
        {
          "output_type": "stream",
          "name": "stdout",
          "text": [
            "########## Epoch 13\n"
          ]
        },
        {
          "output_type": "stream",
          "name": "stderr",
          "text": [
            "100%|██████████| 6/6 [00:00<00:00, 14.86it/s]\n",
            "100%|██████████| 2/2 [00:00<00:00,  8.25it/s]\n"
          ]
        },
        {
          "output_type": "stream",
          "name": "stdout",
          "text": [
            "Train loss: 0.03285977616906166\tVal loss: 0.06894944608211517\tTrain acc: 98.65530303030305\tVal acc: 97.69176136363637\n"
          ]
        },
        {
          "output_type": "stream",
          "name": "stderr",
          "text": [
            "100%|██████████| 2/2 [00:00<00:00,  8.25it/s]\n"
          ]
        },
        {
          "output_type": "stream",
          "name": "stdout",
          "text": [
            "########## Epoch 14\n"
          ]
        },
        {
          "output_type": "stream",
          "name": "stderr",
          "text": [
            "100%|██████████| 6/6 [00:00<00:00, 14.79it/s]\n",
            "100%|██████████| 2/2 [00:00<00:00,  8.12it/s]\n"
          ]
        },
        {
          "output_type": "stream",
          "name": "stdout",
          "text": [
            "Train loss: 0.022247321903705597\tVal loss: 0.06806766241788864\tTrain acc: 99.73958333333333\tVal acc: 97.33664772727272\n"
          ]
        },
        {
          "output_type": "stream",
          "name": "stderr",
          "text": [
            "100%|██████████| 2/2 [00:00<00:00,  8.24it/s]\n"
          ]
        },
        {
          "output_type": "stream",
          "name": "stdout",
          "text": [
            "########## Epoch 15\n"
          ]
        },
        {
          "output_type": "stream",
          "name": "stderr",
          "text": [
            "100%|██████████| 6/6 [00:00<00:00, 14.57it/s]\n",
            "100%|██████████| 2/2 [00:00<00:00,  7.87it/s]\n"
          ]
        },
        {
          "output_type": "stream",
          "name": "stdout",
          "text": [
            "Train loss: 0.018076153472065926\tVal loss: 0.049627602100372314\tTrain acc: 99.609375\tVal acc: 98.4375\n"
          ]
        },
        {
          "output_type": "stream",
          "name": "stderr",
          "text": [
            "100%|██████████| 2/2 [00:00<00:00,  7.83it/s]\n"
          ]
        },
        {
          "output_type": "stream",
          "name": "stdout",
          "text": [
            "########## Epoch 16\n"
          ]
        },
        {
          "output_type": "stream",
          "name": "stderr",
          "text": [
            "100%|██████████| 6/6 [00:00<00:00, 14.27it/s]\n",
            "100%|██████████| 2/2 [00:00<00:00,  8.23it/s]\n"
          ]
        },
        {
          "output_type": "stream",
          "name": "stdout",
          "text": [
            "Train loss: 0.020269639790058136\tVal loss: 0.08471408486366272\tTrain acc: 99.43655303030305\tVal acc: 97.69176136363637\n"
          ]
        },
        {
          "output_type": "stream",
          "name": "stderr",
          "text": [
            "100%|██████████| 2/2 [00:00<00:00,  7.99it/s]\n"
          ]
        },
        {
          "output_type": "stream",
          "name": "stdout",
          "text": [
            "########## Epoch 17\n"
          ]
        },
        {
          "output_type": "stream",
          "name": "stderr",
          "text": [
            "100%|██████████| 6/6 [00:00<00:00, 14.58it/s]\n",
            "100%|██████████| 2/2 [00:00<00:00,  7.78it/s]\n"
          ]
        },
        {
          "output_type": "stream",
          "name": "stdout",
          "text": [
            "Train loss: 0.011507261544466019\tVal loss: 0.05620037764310837\tTrain acc: 99.86979166666667\tVal acc: 97.69176136363637\n"
          ]
        },
        {
          "output_type": "stream",
          "name": "stderr",
          "text": [
            "100%|██████████| 2/2 [00:00<00:00,  8.13it/s]\n"
          ]
        },
        {
          "output_type": "stream",
          "name": "stdout",
          "text": [
            "########## Epoch 18\n"
          ]
        },
        {
          "output_type": "stream",
          "name": "stderr",
          "text": [
            "100%|██████████| 6/6 [00:00<00:00, 14.65it/s]\n",
            "100%|██████████| 2/2 [00:00<00:00,  7.62it/s]\n"
          ]
        },
        {
          "output_type": "stream",
          "name": "stdout",
          "text": [
            "Train loss: 0.009591436944901943\tVal loss: 0.04852031543850899\tTrain acc: 99.86979166666667\tVal acc: 98.4375\n"
          ]
        },
        {
          "output_type": "stream",
          "name": "stderr",
          "text": [
            "100%|██████████| 2/2 [00:00<00:00,  8.12it/s]\n"
          ]
        },
        {
          "output_type": "stream",
          "name": "stdout",
          "text": [
            "########## Epoch 19\n"
          ]
        },
        {
          "output_type": "stream",
          "name": "stderr",
          "text": [
            "100%|██████████| 6/6 [00:00<00:00, 14.66it/s]\n",
            "100%|██████████| 2/2 [00:00<00:00,  7.59it/s]\n"
          ]
        },
        {
          "output_type": "stream",
          "name": "stdout",
          "text": [
            "Train loss: 0.007613542955368757\tVal loss: 0.13251815736293793\tTrain acc: 99.73958333333333\tVal acc: 96.2002840909091\n"
          ]
        },
        {
          "output_type": "stream",
          "name": "stderr",
          "text": [
            "100%|██████████| 2/2 [00:00<00:00,  7.93it/s]\n"
          ]
        },
        {
          "output_type": "stream",
          "name": "stdout",
          "text": [
            "########## Epoch 20\n"
          ]
        },
        {
          "output_type": "stream",
          "name": "stderr",
          "text": [
            "100%|██████████| 6/6 [00:00<00:00, 14.75it/s]\n",
            "100%|██████████| 2/2 [00:00<00:00,  7.58it/s]\n"
          ]
        },
        {
          "output_type": "stream",
          "name": "stdout",
          "text": [
            "Train loss: 0.010007000528275967\tVal loss: 0.06341767311096191\tTrain acc: 99.6969696969697\tVal acc: 98.4375\n"
          ]
        },
        {
          "output_type": "stream",
          "name": "stderr",
          "text": [
            "100%|██████████| 2/2 [00:00<00:00,  7.74it/s]\n"
          ]
        },
        {
          "output_type": "stream",
          "name": "stdout",
          "text": [
            "########## Epoch 21\n"
          ]
        },
        {
          "output_type": "stream",
          "name": "stderr",
          "text": [
            "100%|██████████| 6/6 [00:00<00:00, 14.79it/s]\n",
            "100%|██████████| 2/2 [00:00<00:00,  8.34it/s]\n"
          ]
        },
        {
          "output_type": "stream",
          "name": "stdout",
          "text": [
            "Train loss: 0.010563074611127377\tVal loss: 0.050834979861974716\tTrain acc: 99.56676136363637\tVal acc: 98.046875\n"
          ]
        },
        {
          "output_type": "stream",
          "name": "stderr",
          "text": [
            "100%|██████████| 2/2 [00:00<00:00,  8.09it/s]\n"
          ]
        },
        {
          "output_type": "stream",
          "name": "stdout",
          "text": [
            "########## Epoch 22\n"
          ]
        },
        {
          "output_type": "stream",
          "name": "stderr",
          "text": [
            "100%|██████████| 6/6 [00:00<00:00, 14.55it/s]\n",
            "100%|██████████| 2/2 [00:00<00:00,  8.28it/s]\n"
          ]
        },
        {
          "output_type": "stream",
          "name": "stdout",
          "text": [
            "Train loss: 0.005889361724257469\tVal loss: 0.06600409001111984\tTrain acc: 99.86979166666667\tVal acc: 97.30113636363637\n"
          ]
        },
        {
          "output_type": "stream",
          "name": "stderr",
          "text": [
            "100%|██████████| 2/2 [00:00<00:00,  7.59it/s]\n"
          ]
        },
        {
          "output_type": "stream",
          "name": "stdout",
          "text": [
            "########## Epoch 23\n"
          ]
        },
        {
          "output_type": "stream",
          "name": "stderr",
          "text": [
            "100%|██████████| 6/6 [00:00<00:00, 14.29it/s]\n",
            "100%|██████████| 2/2 [00:00<00:00,  8.23it/s]\n"
          ]
        },
        {
          "output_type": "stream",
          "name": "stdout",
          "text": [
            "Train loss: 0.003886312944814563\tVal loss: 0.13888980448246002\tTrain acc: 99.86979166666667\tVal acc: 97.30113636363637\n"
          ]
        },
        {
          "output_type": "stream",
          "name": "stderr",
          "text": [
            "100%|██████████| 2/2 [00:00<00:00,  7.88it/s]\n"
          ]
        },
        {
          "output_type": "stream",
          "name": "stdout",
          "text": [
            "########## Epoch 24\n"
          ]
        },
        {
          "output_type": "stream",
          "name": "stderr",
          "text": [
            "100%|██████████| 6/6 [00:00<00:00, 14.67it/s]\n",
            "100%|██████████| 2/2 [00:00<00:00,  8.42it/s]\n"
          ]
        },
        {
          "output_type": "stream",
          "name": "stdout",
          "text": [
            "Train loss: 0.0018919619033113122\tVal loss: 0.11743113398551941\tTrain acc: 99.86979166666667\tVal acc: 97.69176136363637\n"
          ]
        },
        {
          "output_type": "stream",
          "name": "stderr",
          "text": [
            "100%|██████████| 2/2 [00:00<00:00,  8.24it/s]\n"
          ]
        },
        {
          "output_type": "stream",
          "name": "stdout",
          "text": [
            "########## Epoch 0\n"
          ]
        },
        {
          "output_type": "stream",
          "name": "stderr",
          "text": [
            "100%|██████████| 6/6 [00:00<00:00, 14.46it/s]\n",
            "100%|██████████| 3/3 [00:00<00:00, 10.77it/s]\n"
          ]
        },
        {
          "output_type": "stream",
          "name": "stdout",
          "text": [
            "Train loss: 11.957528114318848\tVal loss: 5.42164421081543\tTrain acc: 0.0\tVal acc: 48.34280303030303\n"
          ]
        },
        {
          "output_type": "stream",
          "name": "stderr",
          "text": [
            "100%|██████████| 2/2 [00:00<00:00,  8.13it/s]\n",
            "100%|██████████| 2/2 [00:00<00:00,  8.14it/s]\n"
          ]
        },
        {
          "output_type": "stream",
          "name": "stdout",
          "text": [
            "########## Epoch 1\n"
          ]
        },
        {
          "output_type": "stream",
          "name": "stderr",
          "text": [
            "100%|██████████| 6/6 [00:00<00:00, 14.84it/s]\n",
            "100%|██████████| 3/3 [00:00<00:00, 11.52it/s]\n"
          ]
        },
        {
          "output_type": "stream",
          "name": "stdout",
          "text": [
            "Train loss: 10.229220390319824\tVal loss: 4.778349876403809\tTrain acc: 0.0\tVal acc: 47.51420454545454\n"
          ]
        },
        {
          "output_type": "stream",
          "name": "stderr",
          "text": [
            "100%|██████████| 2/2 [00:00<00:00,  7.75it/s]\n",
            "100%|██████████| 2/2 [00:00<00:00,  8.52it/s]\n"
          ]
        },
        {
          "output_type": "stream",
          "name": "stdout",
          "text": [
            "########## Epoch 2\n"
          ]
        },
        {
          "output_type": "stream",
          "name": "stderr",
          "text": [
            "100%|██████████| 6/6 [00:00<00:00, 14.41it/s]\n",
            "100%|██████████| 3/3 [00:00<00:00, 11.15it/s]\n"
          ]
        },
        {
          "output_type": "stream",
          "name": "stdout",
          "text": [
            "Train loss: 8.925273895263672\tVal loss: 4.248073577880859\tTrain acc: 0.0\tVal acc: 47.89299242424243\n"
          ]
        },
        {
          "output_type": "stream",
          "name": "stderr",
          "text": [
            "100%|██████████| 2/2 [00:00<00:00,  8.37it/s]\n",
            "100%|██████████| 2/2 [00:00<00:00,  8.04it/s]\n"
          ]
        },
        {
          "output_type": "stream",
          "name": "stdout",
          "text": [
            "########## Epoch 3\n"
          ]
        },
        {
          "output_type": "stream",
          "name": "stderr",
          "text": [
            "100%|██████████| 6/6 [00:00<00:00, 14.40it/s]\n",
            "100%|██████████| 3/3 [00:00<00:00, 11.34it/s]\n"
          ]
        },
        {
          "output_type": "stream",
          "name": "stdout",
          "text": [
            "Train loss: 8.119997024536133\tVal loss: 3.7967300415039062\tTrain acc: 0.0\tVal acc: 49.31344696969697\n"
          ]
        },
        {
          "output_type": "stream",
          "name": "stderr",
          "text": [
            "100%|██████████| 2/2 [00:00<00:00,  8.18it/s]\n",
            "100%|██████████| 2/2 [00:00<00:00,  8.04it/s]\n"
          ]
        },
        {
          "output_type": "stream",
          "name": "stdout",
          "text": [
            "########## Epoch 4\n"
          ]
        },
        {
          "output_type": "stream",
          "name": "stderr",
          "text": [
            "100%|██████████| 6/6 [00:00<00:00, 14.57it/s]\n",
            "100%|██████████| 3/3 [00:00<00:00, 11.55it/s]\n"
          ]
        },
        {
          "output_type": "stream",
          "name": "stdout",
          "text": [
            "Train loss: 7.499338150024414\tVal loss: 3.5577306747436523\tTrain acc: 0.0\tVal acc: 48.24810606060606\n"
          ]
        },
        {
          "output_type": "stream",
          "name": "stderr",
          "text": [
            "100%|██████████| 2/2 [00:00<00:00,  8.35it/s]\n",
            "100%|██████████| 2/2 [00:00<00:00,  8.14it/s]\n"
          ]
        },
        {
          "output_type": "stream",
          "name": "stdout",
          "text": [
            "########## Epoch 5\n"
          ]
        },
        {
          "output_type": "stream",
          "name": "stderr",
          "text": [
            "100%|██████████| 6/6 [00:00<00:00, 14.02it/s]\n",
            "100%|██████████| 3/3 [00:00<00:00, 11.39it/s]\n"
          ]
        },
        {
          "output_type": "stream",
          "name": "stdout",
          "text": [
            "Train loss: 6.848714351654053\tVal loss: 3.24096941947937\tTrain acc: 0.0\tVal acc: 48.839962121212125\n"
          ]
        },
        {
          "output_type": "stream",
          "name": "stderr",
          "text": [
            "100%|██████████| 2/2 [00:00<00:00,  8.39it/s]\n",
            "100%|██████████| 2/2 [00:00<00:00,  8.08it/s]\n"
          ]
        },
        {
          "output_type": "stream",
          "name": "stdout",
          "text": [
            "########## Epoch 6\n"
          ]
        },
        {
          "output_type": "stream",
          "name": "stderr",
          "text": [
            "100%|██████████| 6/6 [00:00<00:00, 14.29it/s]\n",
            "100%|██████████| 3/3 [00:00<00:00, 10.79it/s]\n"
          ]
        },
        {
          "output_type": "stream",
          "name": "stdout",
          "text": [
            "Train loss: 6.295965671539307\tVal loss: 2.9212920665740967\tTrain acc: 0.0\tVal acc: 49.90530303030303\n"
          ]
        },
        {
          "output_type": "stream",
          "name": "stderr",
          "text": [
            "100%|██████████| 2/2 [00:00<00:00,  8.04it/s]\n",
            "100%|██████████| 2/2 [00:00<00:00,  8.00it/s]\n"
          ]
        },
        {
          "output_type": "stream",
          "name": "stdout",
          "text": [
            "########## Epoch 7\n"
          ]
        },
        {
          "output_type": "stream",
          "name": "stderr",
          "text": [
            "100%|██████████| 6/6 [00:00<00:00, 14.19it/s]\n",
            "100%|██████████| 3/3 [00:00<00:00, 11.23it/s]\n"
          ]
        },
        {
          "output_type": "stream",
          "name": "stdout",
          "text": [
            "Train loss: 5.834667205810547\tVal loss: 2.758723020553589\tTrain acc: 0.0\tVal acc: 49.21875\n"
          ]
        },
        {
          "output_type": "stream",
          "name": "stderr",
          "text": [
            "100%|██████████| 2/2 [00:00<00:00,  8.07it/s]\n",
            "100%|██████████| 2/2 [00:00<00:00,  8.40it/s]\n"
          ]
        },
        {
          "output_type": "stream",
          "name": "stdout",
          "text": [
            "########## Epoch 8\n"
          ]
        },
        {
          "output_type": "stream",
          "name": "stderr",
          "text": [
            "100%|██████████| 6/6 [00:00<00:00, 14.34it/s]\n",
            "100%|██████████| 3/3 [00:00<00:00, 11.40it/s]\n"
          ]
        },
        {
          "output_type": "stream",
          "name": "stdout",
          "text": [
            "Train loss: 5.333629608154297\tVal loss: 2.5640361309051514\tTrain acc: 0.0\tVal acc: 48.86363636363637\n"
          ]
        },
        {
          "output_type": "stream",
          "name": "stderr",
          "text": [
            "100%|██████████| 2/2 [00:00<00:00,  7.99it/s]\n",
            "100%|██████████| 2/2 [00:00<00:00,  8.40it/s]\n"
          ]
        },
        {
          "output_type": "stream",
          "name": "stdout",
          "text": [
            "########## Epoch 9\n"
          ]
        },
        {
          "output_type": "stream",
          "name": "stderr",
          "text": [
            "100%|██████████| 6/6 [00:00<00:00, 14.87it/s]\n",
            "100%|██████████| 3/3 [00:00<00:00, 11.17it/s]\n"
          ]
        },
        {
          "output_type": "stream",
          "name": "stdout",
          "text": [
            "Train loss: 4.903115749359131\tVal loss: 2.2616589069366455\tTrain acc: 0.0\tVal acc: 50.75757575757575\n"
          ]
        },
        {
          "output_type": "stream",
          "name": "stderr",
          "text": [
            "100%|██████████| 2/2 [00:00<00:00,  8.27it/s]\n",
            "100%|██████████| 2/2 [00:00<00:00,  8.13it/s]\n"
          ]
        },
        {
          "output_type": "stream",
          "name": "stdout",
          "text": [
            "########## Epoch 10\n"
          ]
        },
        {
          "output_type": "stream",
          "name": "stderr",
          "text": [
            "100%|██████████| 6/6 [00:00<00:00, 13.84it/s]\n",
            "100%|██████████| 3/3 [00:00<00:00, 11.72it/s]\n"
          ]
        },
        {
          "output_type": "stream",
          "name": "stdout",
          "text": [
            "Train loss: 4.495627403259277\tVal loss: 2.1512956619262695\tTrain acc: 0.0\tVal acc: 49.10037878787879\n"
          ]
        },
        {
          "output_type": "stream",
          "name": "stderr",
          "text": [
            "100%|██████████| 2/2 [00:00<00:00,  8.38it/s]\n",
            "100%|██████████| 2/2 [00:00<00:00,  7.55it/s]\n"
          ]
        },
        {
          "output_type": "stream",
          "name": "stdout",
          "text": [
            "########## Epoch 11\n"
          ]
        },
        {
          "output_type": "stream",
          "name": "stderr",
          "text": [
            "100%|██████████| 6/6 [00:00<00:00, 14.41it/s]\n",
            "100%|██████████| 3/3 [00:00<00:00, 11.43it/s]\n"
          ]
        },
        {
          "output_type": "stream",
          "name": "stdout",
          "text": [
            "Train loss: 4.116323471069336\tVal loss: 1.9217203855514526\tTrain acc: 0.0\tVal acc: 50.165719696969695\n"
          ]
        },
        {
          "output_type": "stream",
          "name": "stderr",
          "text": [
            "100%|██████████| 2/2 [00:00<00:00,  7.92it/s]\n",
            "100%|██████████| 2/2 [00:00<00:00,  8.37it/s]\n"
          ]
        },
        {
          "output_type": "stream",
          "name": "stdout",
          "text": [
            "########## Epoch 12\n"
          ]
        },
        {
          "output_type": "stream",
          "name": "stderr",
          "text": [
            "100%|██████████| 6/6 [00:00<00:00, 14.54it/s]\n",
            "100%|██████████| 3/3 [00:00<00:00, 10.85it/s]\n"
          ]
        },
        {
          "output_type": "stream",
          "name": "stdout",
          "text": [
            "Train loss: 3.7333033084869385\tVal loss: 1.7800426483154297\tTrain acc: 0.0\tVal acc: 49.10037878787879\n"
          ]
        },
        {
          "output_type": "stream",
          "name": "stderr",
          "text": [
            "100%|██████████| 2/2 [00:00<00:00,  8.11it/s]\n",
            "100%|██████████| 2/2 [00:00<00:00,  8.23it/s]\n"
          ]
        },
        {
          "output_type": "stream",
          "name": "stdout",
          "text": [
            "########## Epoch 13\n"
          ]
        },
        {
          "output_type": "stream",
          "name": "stderr",
          "text": [
            "100%|██████████| 6/6 [00:00<00:00, 14.75it/s]\n",
            "100%|██████████| 3/3 [00:00<00:00, 10.91it/s]\n"
          ]
        },
        {
          "output_type": "stream",
          "name": "stdout",
          "text": [
            "Train loss: 3.325615644454956\tVal loss: 1.6023920774459839\tTrain acc: 0.0\tVal acc: 49.10037878787879\n"
          ]
        },
        {
          "output_type": "stream",
          "name": "stderr",
          "text": [
            "100%|██████████| 2/2 [00:00<00:00,  8.10it/s]\n",
            "100%|██████████| 2/2 [00:00<00:00,  8.34it/s]\n"
          ]
        },
        {
          "output_type": "stream",
          "name": "stdout",
          "text": [
            "########## Epoch 14\n"
          ]
        },
        {
          "output_type": "stream",
          "name": "stderr",
          "text": [
            "100%|██████████| 6/6 [00:00<00:00, 13.91it/s]\n",
            "100%|██████████| 3/3 [00:00<00:00, 11.15it/s]\n"
          ]
        },
        {
          "output_type": "stream",
          "name": "stdout",
          "text": [
            "Train loss: 2.9464690685272217\tVal loss: 1.4052175283432007\tTrain acc: 0.0\tVal acc: 49.10037878787879\n"
          ]
        },
        {
          "output_type": "stream",
          "name": "stderr",
          "text": [
            "100%|██████████| 2/2 [00:00<00:00,  7.89it/s]\n",
            "100%|██████████| 2/2 [00:00<00:00,  8.16it/s]\n"
          ]
        },
        {
          "output_type": "stream",
          "name": "stdout",
          "text": [
            "########## Epoch 15\n"
          ]
        },
        {
          "output_type": "stream",
          "name": "stderr",
          "text": [
            "100%|██████████| 6/6 [00:00<00:00, 14.10it/s]\n",
            "100%|██████████| 3/3 [00:00<00:00, 10.99it/s]\n"
          ]
        },
        {
          "output_type": "stream",
          "name": "stdout",
          "text": [
            "Train loss: 2.5609405040740967\tVal loss: 1.229505181312561\tTrain acc: 0.0\tVal acc: 49.10037878787879\n"
          ]
        },
        {
          "output_type": "stream",
          "name": "stderr",
          "text": [
            "100%|██████████| 2/2 [00:00<00:00,  8.08it/s]\n",
            "100%|██████████| 2/2 [00:00<00:00,  7.65it/s]\n"
          ]
        },
        {
          "output_type": "stream",
          "name": "stdout",
          "text": [
            "########## Epoch 16\n"
          ]
        },
        {
          "output_type": "stream",
          "name": "stderr",
          "text": [
            "100%|██████████| 6/6 [00:00<00:00, 14.46it/s]\n",
            "100%|██████████| 3/3 [00:00<00:00, 11.99it/s]\n"
          ]
        },
        {
          "output_type": "stream",
          "name": "stdout",
          "text": [
            "Train loss: 2.183486223220825\tVal loss: 1.033279299736023\tTrain acc: 0.6936553030303031\tVal acc: 50.23674242424243\n"
          ]
        },
        {
          "output_type": "stream",
          "name": "stderr",
          "text": [
            "100%|██████████| 2/2 [00:00<00:00,  7.75it/s]\n",
            "100%|██████████| 2/2 [00:00<00:00,  8.09it/s]\n"
          ]
        },
        {
          "output_type": "stream",
          "name": "stdout",
          "text": [
            "########## Epoch 17\n"
          ]
        },
        {
          "output_type": "stream",
          "name": "stderr",
          "text": [
            "100%|██████████| 6/6 [00:00<00:00, 14.86it/s]\n",
            "100%|██████████| 3/3 [00:00<00:00, 10.60it/s]\n"
          ]
        },
        {
          "output_type": "stream",
          "name": "stdout",
          "text": [
            "Train loss: 1.8337059020996094\tVal loss: 0.8705956339836121\tTrain acc: 9.756155303030303\tVal acc: 61.434659090909086\n"
          ]
        },
        {
          "output_type": "stream",
          "name": "stderr",
          "text": [
            "100%|██████████| 2/2 [00:00<00:00,  7.86it/s]\n",
            "100%|██████████| 2/2 [00:00<00:00,  7.82it/s]\n"
          ]
        },
        {
          "output_type": "stream",
          "name": "stdout",
          "text": [
            "########## Epoch 18\n"
          ]
        },
        {
          "output_type": "stream",
          "name": "stderr",
          "text": [
            "100%|██████████| 6/6 [00:00<00:00, 13.17it/s]\n",
            "100%|██████████| 3/3 [00:00<00:00, 11.06it/s]\n"
          ]
        },
        {
          "output_type": "stream",
          "name": "stdout",
          "text": [
            "Train loss: 1.499983787536621\tVal loss: 0.7497027516365051\tTrain acc: 38.77840909090909\tVal acc: 75.23674242424242\n"
          ]
        },
        {
          "output_type": "stream",
          "name": "stderr",
          "text": [
            "100%|██████████| 2/2 [00:00<00:00,  8.15it/s]\n",
            "100%|██████████| 2/2 [00:00<00:00,  7.62it/s]\n"
          ]
        },
        {
          "output_type": "stream",
          "name": "stdout",
          "text": [
            "########## Epoch 19\n"
          ]
        },
        {
          "output_type": "stream",
          "name": "stderr",
          "text": [
            "100%|██████████| 6/6 [00:00<00:00, 13.77it/s]\n",
            "100%|██████████| 3/3 [00:00<00:00, 11.33it/s]\n"
          ]
        },
        {
          "output_type": "stream",
          "name": "stdout",
          "text": [
            "Train loss: 1.2592055797576904\tVal loss: 0.6432507038116455\tTrain acc: 60.21780303030303\tVal acc: 82.6467803030303\n"
          ]
        },
        {
          "output_type": "stream",
          "name": "stderr",
          "text": [
            "100%|██████████| 2/2 [00:00<00:00,  8.07it/s]\n",
            "100%|██████████| 2/2 [00:00<00:00,  7.77it/s]\n"
          ]
        },
        {
          "output_type": "stream",
          "name": "stdout",
          "text": [
            "########## Epoch 20\n"
          ]
        },
        {
          "output_type": "stream",
          "name": "stderr",
          "text": [
            "100%|██████████| 6/6 [00:00<00:00, 14.39it/s]\n",
            "100%|██████████| 3/3 [00:00<00:00, 11.58it/s]\n"
          ]
        },
        {
          "output_type": "stream",
          "name": "stdout",
          "text": [
            "Train loss: 1.0249677896499634\tVal loss: 0.556877613067627\tTrain acc: 71.57907196969697\tVal acc: 85.8191287878788\n"
          ]
        },
        {
          "output_type": "stream",
          "name": "stderr",
          "text": [
            "100%|██████████| 2/2 [00:00<00:00,  7.93it/s]\n",
            "100%|██████████| 2/2 [00:00<00:00,  8.09it/s]\n"
          ]
        },
        {
          "output_type": "stream",
          "name": "stdout",
          "text": [
            "########## Epoch 21\n"
          ]
        },
        {
          "output_type": "stream",
          "name": "stderr",
          "text": [
            "100%|██████████| 6/6 [00:00<00:00, 13.63it/s]\n",
            "100%|██████████| 3/3 [00:00<00:00, 10.76it/s]\n"
          ]
        },
        {
          "output_type": "stream",
          "name": "stdout",
          "text": [
            "Train loss: 0.898953914642334\tVal loss: 0.5009335875511169\tTrain acc: 76.7874053030303\tVal acc: 87.09753787878788\n"
          ]
        },
        {
          "output_type": "stream",
          "name": "stderr",
          "text": [
            "100%|██████████| 2/2 [00:00<00:00,  8.20it/s]\n",
            "100%|██████████| 2/2 [00:00<00:00,  8.49it/s]\n"
          ]
        },
        {
          "output_type": "stream",
          "name": "stdout",
          "text": [
            "########## Epoch 22\n"
          ]
        },
        {
          "output_type": "stream",
          "name": "stderr",
          "text": [
            "100%|██████████| 6/6 [00:00<00:00, 13.21it/s]\n",
            "100%|██████████| 3/3 [00:00<00:00, 11.67it/s]\n"
          ]
        },
        {
          "output_type": "stream",
          "name": "stdout",
          "text": [
            "Train loss: 0.8276463150978088\tVal loss: 0.4576396048069\tTrain acc: 77.6160037878788\tVal acc: 87.59469696969695\n"
          ]
        },
        {
          "output_type": "stream",
          "name": "stderr",
          "text": [
            "100%|██████████| 2/2 [00:00<00:00,  8.44it/s]\n",
            "100%|██████████| 2/2 [00:00<00:00,  8.21it/s]\n"
          ]
        },
        {
          "output_type": "stream",
          "name": "stdout",
          "text": [
            "########## Epoch 23\n"
          ]
        },
        {
          "output_type": "stream",
          "name": "stderr",
          "text": [
            "100%|██████████| 6/6 [00:00<00:00, 14.02it/s]\n",
            "100%|██████████| 3/3 [00:00<00:00, 11.48it/s]\n"
          ]
        },
        {
          "output_type": "stream",
          "name": "stdout",
          "text": [
            "Train loss: 0.7366762757301331\tVal loss: 0.4369471073150635\tTrain acc: 80.04261363636364\tVal acc: 87.23958333333333\n"
          ]
        },
        {
          "output_type": "stream",
          "name": "stderr",
          "text": [
            "100%|██████████| 2/2 [00:00<00:00,  8.38it/s]\n",
            "100%|██████████| 2/2 [00:00<00:00,  7.97it/s]\n"
          ]
        },
        {
          "output_type": "stream",
          "name": "stdout",
          "text": [
            "########## Epoch 24\n"
          ]
        },
        {
          "output_type": "stream",
          "name": "stderr",
          "text": [
            "100%|██████████| 6/6 [00:00<00:00, 14.02it/s]\n",
            "100%|██████████| 3/3 [00:00<00:00, 11.47it/s]\n"
          ]
        },
        {
          "output_type": "stream",
          "name": "stdout",
          "text": [
            "Train loss: 0.6780717372894287\tVal loss: 0.419576495885849\tTrain acc: 80.390625\tVal acc: 87.23958333333333\n"
          ]
        },
        {
          "output_type": "stream",
          "name": "stderr",
          "text": [
            "100%|██████████| 2/2 [00:00<00:00,  8.00it/s]\n",
            "100%|██████████| 2/2 [00:00<00:00,  7.73it/s]\n"
          ]
        },
        {
          "output_type": "stream",
          "name": "stdout",
          "text": [
            "########## Epoch 0\n"
          ]
        },
        {
          "output_type": "stream",
          "name": "stderr",
          "text": [
            "100%|██████████| 10/10 [00:00<00:00, 18.73it/s]\n",
            "100%|██████████| 5/5 [00:00<00:00, 16.14it/s]\n"
          ]
        },
        {
          "output_type": "stream",
          "name": "stdout",
          "text": [
            "Train loss: 0.7907745838165283\tVal loss: 0.5439807176589966\tTrain acc: 76.875\tVal acc: 84.40061475409837\n"
          ]
        },
        {
          "output_type": "stream",
          "name": "stderr",
          "text": [
            "100%|██████████| 2/2 [00:00<00:00,  7.85it/s]\n",
            "100%|██████████| 2/2 [00:00<00:00,  8.12it/s]\n",
            "100%|██████████| 3/3 [00:00<00:00, 11.43it/s]\n"
          ]
        },
        {
          "output_type": "stream",
          "name": "stdout",
          "text": [
            "########## Epoch 1\n"
          ]
        },
        {
          "output_type": "stream",
          "name": "stderr",
          "text": [
            "100%|██████████| 10/10 [00:00<00:00, 18.16it/s]\n",
            "100%|██████████| 5/5 [00:00<00:00, 17.05it/s]\n"
          ]
        },
        {
          "output_type": "stream",
          "name": "stdout",
          "text": [
            "Train loss: 0.5462898015975952\tVal loss: 0.5022321343421936\tTrain acc: 84.42708333333334\tVal acc: 84.9077868852459\n"
          ]
        },
        {
          "output_type": "stream",
          "name": "stderr",
          "text": [
            "100%|██████████| 2/2 [00:00<00:00,  8.05it/s]\n",
            "100%|██████████| 2/2 [00:00<00:00,  7.42it/s]\n",
            "100%|██████████| 3/3 [00:00<00:00, 11.20it/s]\n"
          ]
        },
        {
          "output_type": "stream",
          "name": "stdout",
          "text": [
            "########## Epoch 2\n"
          ]
        },
        {
          "output_type": "stream",
          "name": "stderr",
          "text": [
            "100%|██████████| 10/10 [00:00<00:00, 18.80it/s]\n",
            "100%|██████████| 5/5 [00:00<00:00, 17.19it/s]\n"
          ]
        },
        {
          "output_type": "stream",
          "name": "stdout",
          "text": [
            "Train loss: 0.5038834810256958\tVal loss: 0.4804287850856781\tTrain acc: 85.05208333333334\tVal acc: 85.18186475409837\n"
          ]
        },
        {
          "output_type": "stream",
          "name": "stderr",
          "text": [
            "100%|██████████| 2/2 [00:00<00:00,  7.71it/s]\n",
            "100%|██████████| 2/2 [00:00<00:00,  8.21it/s]\n",
            "100%|██████████| 3/3 [00:00<00:00, 11.61it/s]\n"
          ]
        },
        {
          "output_type": "stream",
          "name": "stdout",
          "text": [
            "########## Epoch 3\n"
          ]
        },
        {
          "output_type": "stream",
          "name": "stderr",
          "text": [
            "100%|██████████| 10/10 [00:00<00:00, 18.96it/s]\n",
            "100%|██████████| 5/5 [00:00<00:00, 16.47it/s]\n"
          ]
        },
        {
          "output_type": "stream",
          "name": "stdout",
          "text": [
            "Train loss: 0.45086807012557983\tVal loss: 0.4615862965583801\tTrain acc: 85.20833333333334\tVal acc: 85.3765368852459\n"
          ]
        },
        {
          "output_type": "stream",
          "name": "stderr",
          "text": [
            "100%|██████████| 2/2 [00:00<00:00,  7.83it/s]\n",
            "100%|██████████| 2/2 [00:00<00:00,  8.38it/s]\n",
            "100%|██████████| 3/3 [00:00<00:00, 11.47it/s]\n"
          ]
        },
        {
          "output_type": "stream",
          "name": "stdout",
          "text": [
            "########## Epoch 4\n"
          ]
        },
        {
          "output_type": "stream",
          "name": "stderr",
          "text": [
            "100%|██████████| 10/10 [00:00<00:00, 18.98it/s]\n",
            "100%|██████████| 5/5 [00:00<00:00, 17.42it/s]\n"
          ]
        },
        {
          "output_type": "stream",
          "name": "stdout",
          "text": [
            "Train loss: 0.5761556625366211\tVal loss: 0.44887542724609375\tTrain acc: 82.1875\tVal acc: 85.49436475409837\n"
          ]
        },
        {
          "output_type": "stream",
          "name": "stderr",
          "text": [
            "100%|██████████| 2/2 [00:00<00:00,  8.03it/s]\n",
            "100%|██████████| 2/2 [00:00<00:00,  8.45it/s]\n",
            "100%|██████████| 3/3 [00:00<00:00, 11.07it/s]\n"
          ]
        },
        {
          "output_type": "stream",
          "name": "stdout",
          "text": [
            "########## Epoch 5\n"
          ]
        },
        {
          "output_type": "stream",
          "name": "stderr",
          "text": [
            "100%|██████████| 10/10 [00:00<00:00, 18.59it/s]\n",
            "100%|██████████| 5/5 [00:00<00:00, 15.95it/s]\n"
          ]
        },
        {
          "output_type": "stream",
          "name": "stdout",
          "text": [
            "Train loss: 0.3721378445625305\tVal loss: 0.4352925717830658\tTrain acc: 87.5\tVal acc: 85.62756147540983\n"
          ]
        },
        {
          "output_type": "stream",
          "name": "stderr",
          "text": [
            "100%|██████████| 2/2 [00:00<00:00,  8.16it/s]\n",
            "100%|██████████| 2/2 [00:00<00:00,  8.26it/s]\n",
            "100%|██████████| 3/3 [00:00<00:00, 11.58it/s]\n"
          ]
        },
        {
          "output_type": "stream",
          "name": "stdout",
          "text": [
            "########## Epoch 6\n"
          ]
        },
        {
          "output_type": "stream",
          "name": "stderr",
          "text": [
            "100%|██████████| 10/10 [00:00<00:00, 18.69it/s]\n",
            "100%|██████████| 5/5 [00:00<00:00, 17.49it/s]\n"
          ]
        },
        {
          "output_type": "stream",
          "name": "stdout",
          "text": [
            "Train loss: 0.38756364583969116\tVal loss: 0.42285656929016113\tTrain acc: 85.67708333333334\tVal acc: 85.65061475409837\n"
          ]
        },
        {
          "output_type": "stream",
          "name": "stderr",
          "text": [
            "100%|██████████| 2/2 [00:00<00:00,  8.08it/s]\n",
            "100%|██████████| 2/2 [00:00<00:00,  8.03it/s]\n",
            "100%|██████████| 3/3 [00:00<00:00, 11.31it/s]\n"
          ]
        },
        {
          "output_type": "stream",
          "name": "stdout",
          "text": [
            "########## Epoch 7\n"
          ]
        },
        {
          "output_type": "stream",
          "name": "stderr",
          "text": [
            "100%|██████████| 10/10 [00:00<00:00, 18.97it/s]\n",
            "100%|██████████| 5/5 [00:00<00:00, 16.07it/s]\n"
          ]
        },
        {
          "output_type": "stream",
          "name": "stdout",
          "text": [
            "Train loss: 0.3391997814178467\tVal loss: 0.40965786576271057\tTrain acc: 87.578125\tVal acc: 85.64293032786885\n"
          ]
        },
        {
          "output_type": "stream",
          "name": "stderr",
          "text": [
            "100%|██████████| 2/2 [00:00<00:00,  8.30it/s]\n",
            "100%|██████████| 2/2 [00:00<00:00,  7.98it/s]\n",
            "100%|██████████| 3/3 [00:00<00:00, 11.46it/s]\n"
          ]
        },
        {
          "output_type": "stream",
          "name": "stdout",
          "text": [
            "########## Epoch 8\n"
          ]
        },
        {
          "output_type": "stream",
          "name": "stderr",
          "text": [
            "100%|██████████| 10/10 [00:00<00:00, 18.82it/s]\n",
            "100%|██████████| 5/5 [00:00<00:00, 17.50it/s]\n"
          ]
        },
        {
          "output_type": "stream",
          "name": "stdout",
          "text": [
            "Train loss: 0.348457932472229\tVal loss: 0.39696064591407776\tTrain acc: 86.06770833333334\tVal acc: 85.64293032786885\n"
          ]
        },
        {
          "output_type": "stream",
          "name": "stderr",
          "text": [
            "100%|██████████| 2/2 [00:00<00:00,  7.57it/s]\n",
            "100%|██████████| 2/2 [00:00<00:00,  7.99it/s]\n",
            "100%|██████████| 3/3 [00:00<00:00, 11.59it/s]\n"
          ]
        },
        {
          "output_type": "stream",
          "name": "stdout",
          "text": [
            "########## Epoch 9\n"
          ]
        },
        {
          "output_type": "stream",
          "name": "stderr",
          "text": [
            "100%|██████████| 10/10 [00:00<00:00, 18.45it/s]\n",
            "100%|██████████| 5/5 [00:00<00:00, 17.20it/s]\n"
          ]
        },
        {
          "output_type": "stream",
          "name": "stdout",
          "text": [
            "Train loss: 0.3310895562171936\tVal loss: 0.3844169080257416\tTrain acc: 86.06770833333334\tVal acc: 85.79918032786885\n"
          ]
        },
        {
          "output_type": "stream",
          "name": "stderr",
          "text": [
            "100%|██████████| 2/2 [00:00<00:00,  7.97it/s]\n",
            "100%|██████████| 2/2 [00:00<00:00,  7.74it/s]\n",
            "100%|██████████| 3/3 [00:00<00:00, 11.38it/s]\n"
          ]
        },
        {
          "output_type": "stream",
          "name": "stdout",
          "text": [
            "########## Epoch 10\n"
          ]
        },
        {
          "output_type": "stream",
          "name": "stderr",
          "text": [
            "100%|██████████| 10/10 [00:00<00:00, 19.21it/s]\n",
            "100%|██████████| 5/5 [00:00<00:00, 16.22it/s]\n"
          ]
        },
        {
          "output_type": "stream",
          "name": "stdout",
          "text": [
            "Train loss: 0.31674903631210327\tVal loss: 0.37243372201919556\tTrain acc: 86.06770833333334\tVal acc: 85.78381147540983\n"
          ]
        },
        {
          "output_type": "stream",
          "name": "stderr",
          "text": [
            "100%|██████████| 2/2 [00:00<00:00,  8.19it/s]\n",
            "100%|██████████| 2/2 [00:00<00:00,  8.46it/s]\n",
            "100%|██████████| 3/3 [00:00<00:00, 11.65it/s]\n"
          ]
        },
        {
          "output_type": "stream",
          "name": "stdout",
          "text": [
            "########## Epoch 11\n"
          ]
        },
        {
          "output_type": "stream",
          "name": "stderr",
          "text": [
            "100%|██████████| 10/10 [00:00<00:00, 18.93it/s]\n",
            "100%|██████████| 5/5 [00:00<00:00, 17.91it/s]\n"
          ]
        },
        {
          "output_type": "stream",
          "name": "stdout",
          "text": [
            "Train loss: 0.39060091972351074\tVal loss: 0.3587562143802643\tTrain acc: 83.28125\tVal acc: 87.04918032786885\n"
          ]
        },
        {
          "output_type": "stream",
          "name": "stderr",
          "text": [
            "100%|██████████| 2/2 [00:00<00:00,  8.36it/s]\n",
            "100%|██████████| 2/2 [00:00<00:00,  7.77it/s]\n",
            "100%|██████████| 3/3 [00:00<00:00, 11.64it/s]\n"
          ]
        },
        {
          "output_type": "stream",
          "name": "stdout",
          "text": [
            "########## Epoch 12\n"
          ]
        },
        {
          "output_type": "stream",
          "name": "stderr",
          "text": [
            "100%|██████████| 10/10 [00:00<00:00, 19.03it/s]\n",
            "100%|██████████| 5/5 [00:00<00:00, 16.60it/s]\n"
          ]
        },
        {
          "output_type": "stream",
          "name": "stdout",
          "text": [
            "Train loss: 0.2623595595359802\tVal loss: 0.34368252754211426\tTrain acc: 90.0\tVal acc: 88.3529713114754\n"
          ]
        },
        {
          "output_type": "stream",
          "name": "stderr",
          "text": [
            "100%|██████████| 2/2 [00:00<00:00,  7.36it/s]\n",
            "100%|██████████| 2/2 [00:00<00:00,  8.09it/s]\n",
            "100%|██████████| 3/3 [00:00<00:00, 10.83it/s]\n"
          ]
        },
        {
          "output_type": "stream",
          "name": "stdout",
          "text": [
            "########## Epoch 13\n"
          ]
        },
        {
          "output_type": "stream",
          "name": "stderr",
          "text": [
            "100%|██████████| 10/10 [00:00<00:00, 17.52it/s]\n",
            "100%|██████████| 5/5 [00:00<00:00, 16.09it/s]\n"
          ]
        },
        {
          "output_type": "stream",
          "name": "stdout",
          "text": [
            "Train loss: 0.3395805060863495\tVal loss: 0.3301895260810852\tTrain acc: 90.83333333333334\tVal acc: 89.62602459016394\n"
          ]
        },
        {
          "output_type": "stream",
          "name": "stderr",
          "text": [
            "100%|██████████| 2/2 [00:00<00:00,  8.01it/s]\n",
            "100%|██████████| 2/2 [00:00<00:00,  7.88it/s]\n",
            "100%|██████████| 3/3 [00:00<00:00, 11.30it/s]\n"
          ]
        },
        {
          "output_type": "stream",
          "name": "stdout",
          "text": [
            "########## Epoch 14\n"
          ]
        },
        {
          "output_type": "stream",
          "name": "stderr",
          "text": [
            "100%|██████████| 10/10 [00:00<00:00, 18.70it/s]\n",
            "100%|██████████| 5/5 [00:00<00:00, 17.26it/s]\n"
          ]
        },
        {
          "output_type": "stream",
          "name": "stdout",
          "text": [
            "Train loss: 0.24172964692115784\tVal loss: 0.3198773264884949\tTrain acc: 94.84375\tVal acc: 90.48668032786885\n"
          ]
        },
        {
          "output_type": "stream",
          "name": "stderr",
          "text": [
            "100%|██████████| 2/2 [00:00<00:00,  8.00it/s]\n",
            "100%|██████████| 2/2 [00:00<00:00,  7.32it/s]\n",
            "100%|██████████| 3/3 [00:00<00:00, 11.62it/s]\n"
          ]
        },
        {
          "output_type": "stream",
          "name": "stdout",
          "text": [
            "########## Epoch 15\n"
          ]
        },
        {
          "output_type": "stream",
          "name": "stderr",
          "text": [
            "100%|██████████| 10/10 [00:00<00:00, 18.81it/s]\n",
            "100%|██████████| 5/5 [00:00<00:00, 17.13it/s]\n"
          ]
        },
        {
          "output_type": "stream",
          "name": "stdout",
          "text": [
            "Train loss: 0.22217683494091034\tVal loss: 0.3083239793777466\tTrain acc: 96.09375\tVal acc: 91.0092213114754\n"
          ]
        },
        {
          "output_type": "stream",
          "name": "stderr",
          "text": [
            "100%|██████████| 2/2 [00:00<00:00,  8.22it/s]\n",
            "100%|██████████| 2/2 [00:00<00:00,  7.91it/s]\n",
            "100%|██████████| 3/3 [00:00<00:00, 10.99it/s]\n"
          ]
        },
        {
          "output_type": "stream",
          "name": "stdout",
          "text": [
            "########## Epoch 16\n"
          ]
        },
        {
          "output_type": "stream",
          "name": "stderr",
          "text": [
            "100%|██████████| 10/10 [00:00<00:00, 18.84it/s]\n",
            "100%|██████████| 5/5 [00:00<00:00, 17.16it/s]\n"
          ]
        },
        {
          "output_type": "stream",
          "name": "stdout",
          "text": [
            "Train loss: 0.2276737242937088\tVal loss: 0.29778605699539185\tTrain acc: 96.171875\tVal acc: 91.32940573770492\n"
          ]
        },
        {
          "output_type": "stream",
          "name": "stderr",
          "text": [
            "100%|██████████| 2/2 [00:00<00:00,  8.03it/s]\n",
            "100%|██████████| 2/2 [00:00<00:00,  8.19it/s]\n",
            "100%|██████████| 3/3 [00:00<00:00, 11.93it/s]\n"
          ]
        },
        {
          "output_type": "stream",
          "name": "stdout",
          "text": [
            "########## Epoch 17\n"
          ]
        },
        {
          "output_type": "stream",
          "name": "stderr",
          "text": [
            "100%|██████████| 10/10 [00:00<00:00, 19.26it/s]\n",
            "100%|██████████| 5/5 [00:00<00:00, 17.55it/s]\n"
          ]
        },
        {
          "output_type": "stream",
          "name": "stdout",
          "text": [
            "Train loss: 0.20761926472187042\tVal loss: 0.2873806357383728\tTrain acc: 96.71875\tVal acc: 91.48565573770492\n"
          ]
        },
        {
          "output_type": "stream",
          "name": "stderr",
          "text": [
            "100%|██████████| 2/2 [00:00<00:00,  7.93it/s]\n",
            "100%|██████████| 2/2 [00:00<00:00,  8.18it/s]\n",
            "100%|██████████| 3/3 [00:00<00:00, 11.42it/s]\n"
          ]
        },
        {
          "output_type": "stream",
          "name": "stdout",
          "text": [
            "########## Epoch 18\n"
          ]
        },
        {
          "output_type": "stream",
          "name": "stderr",
          "text": [
            "100%|██████████| 10/10 [00:00<00:00, 19.36it/s]\n",
            "100%|██████████| 5/5 [00:00<00:00, 17.01it/s]\n"
          ]
        },
        {
          "output_type": "stream",
          "name": "stdout",
          "text": [
            "Train loss: 0.2077043056488037\tVal loss: 0.2786123752593994\tTrain acc: 95.20833333333334\tVal acc: 91.9390368852459\n"
          ]
        },
        {
          "output_type": "stream",
          "name": "stderr",
          "text": [
            "100%|██████████| 2/2 [00:00<00:00,  8.08it/s]\n",
            "100%|██████████| 2/2 [00:00<00:00,  8.26it/s]\n",
            "100%|██████████| 3/3 [00:00<00:00, 11.19it/s]\n"
          ]
        },
        {
          "output_type": "stream",
          "name": "stdout",
          "text": [
            "########## Epoch 19\n"
          ]
        },
        {
          "output_type": "stream",
          "name": "stderr",
          "text": [
            "100%|██████████| 10/10 [00:00<00:00, 19.20it/s]\n",
            "100%|██████████| 5/5 [00:00<00:00, 17.30it/s]\n"
          ]
        },
        {
          "output_type": "stream",
          "name": "stdout",
          "text": [
            "Train loss: 0.1794644147157669\tVal loss: 0.26898282766342163\tTrain acc: 96.953125\tVal acc: 92.58709016393443\n"
          ]
        },
        {
          "output_type": "stream",
          "name": "stderr",
          "text": [
            "100%|██████████| 2/2 [00:00<00:00,  7.96it/s]\n",
            "100%|██████████| 2/2 [00:00<00:00,  8.01it/s]\n",
            "100%|██████████| 3/3 [00:00<00:00, 11.13it/s]\n"
          ]
        },
        {
          "output_type": "stream",
          "name": "stdout",
          "text": [
            "########## Epoch 20\n"
          ]
        },
        {
          "output_type": "stream",
          "name": "stderr",
          "text": [
            "100%|██████████| 10/10 [00:00<00:00, 18.92it/s]\n",
            "100%|██████████| 5/5 [00:00<00:00, 16.62it/s]\n"
          ]
        },
        {
          "output_type": "stream",
          "name": "stdout",
          "text": [
            "Train loss: 0.19680708646774292\tVal loss: 0.26137176156044006\tTrain acc: 95.36458333333334\tVal acc: 93.70389344262296\n"
          ]
        },
        {
          "output_type": "stream",
          "name": "stderr",
          "text": [
            "100%|██████████| 2/2 [00:00<00:00,  8.32it/s]\n",
            "100%|██████████| 2/2 [00:00<00:00,  7.94it/s]\n",
            "100%|██████████| 3/3 [00:00<00:00, 11.76it/s]\n"
          ]
        },
        {
          "output_type": "stream",
          "name": "stdout",
          "text": [
            "########## Epoch 21\n"
          ]
        },
        {
          "output_type": "stream",
          "name": "stderr",
          "text": [
            "100%|██████████| 10/10 [00:00<00:00, 18.67it/s]\n",
            "100%|██████████| 5/5 [00:00<00:00, 17.25it/s]\n"
          ]
        },
        {
          "output_type": "stream",
          "name": "stdout",
          "text": [
            "Train loss: 0.16484835743904114\tVal loss: 0.25458869338035583\tTrain acc: 97.109375\tVal acc: 93.9779713114754\n"
          ]
        },
        {
          "output_type": "stream",
          "name": "stderr",
          "text": [
            "100%|██████████| 2/2 [00:00<00:00,  7.69it/s]\n",
            "100%|██████████| 2/2 [00:00<00:00,  8.06it/s]\n",
            "100%|██████████| 3/3 [00:00<00:00, 11.15it/s]\n"
          ]
        },
        {
          "output_type": "stream",
          "name": "stdout",
          "text": [
            "########## Epoch 22\n"
          ]
        },
        {
          "output_type": "stream",
          "name": "stderr",
          "text": [
            "100%|██████████| 10/10 [00:00<00:00, 18.67it/s]\n",
            "100%|██████████| 5/5 [00:00<00:00, 16.40it/s]\n"
          ]
        },
        {
          "output_type": "stream",
          "name": "stdout",
          "text": [
            "Train loss: 0.15806984901428223\tVal loss: 0.2474273145198822\tTrain acc: 96.953125\tVal acc: 94.33657786885246\n"
          ]
        },
        {
          "output_type": "stream",
          "name": "stderr",
          "text": [
            "100%|██████████| 2/2 [00:00<00:00,  8.24it/s]\n",
            "100%|██████████| 2/2 [00:00<00:00,  7.69it/s]\n",
            "100%|██████████| 3/3 [00:00<00:00, 11.01it/s]\n"
          ]
        },
        {
          "output_type": "stream",
          "name": "stdout",
          "text": [
            "########## Epoch 23\n"
          ]
        },
        {
          "output_type": "stream",
          "name": "stderr",
          "text": [
            "100%|██████████| 10/10 [00:00<00:00, 18.91it/s]\n",
            "100%|██████████| 5/5 [00:00<00:00, 16.42it/s]\n"
          ]
        },
        {
          "output_type": "stream",
          "name": "stdout",
          "text": [
            "Train loss: 0.14775186777114868\tVal loss: 0.24156789481639862\tTrain acc: 97.03125\tVal acc: 94.80532786885246\n"
          ]
        },
        {
          "output_type": "stream",
          "name": "stderr",
          "text": [
            "100%|██████████| 2/2 [00:00<00:00,  7.82it/s]\n",
            "100%|██████████| 2/2 [00:00<00:00,  8.15it/s]\n",
            "100%|██████████| 3/3 [00:00<00:00, 10.94it/s]\n"
          ]
        },
        {
          "output_type": "stream",
          "name": "stdout",
          "text": [
            "########## Epoch 24\n"
          ]
        },
        {
          "output_type": "stream",
          "name": "stderr",
          "text": [
            "100%|██████████| 10/10 [00:00<00:00, 18.78it/s]\n",
            "100%|██████████| 5/5 [00:00<00:00, 17.55it/s]\n"
          ]
        },
        {
          "output_type": "stream",
          "name": "stdout",
          "text": [
            "Train loss: 0.14270813763141632\tVal loss: 0.2367698699235916\tTrain acc: 97.03125\tVal acc: 94.46209016393443\n"
          ]
        },
        {
          "output_type": "stream",
          "name": "stderr",
          "text": [
            "100%|██████████| 2/2 [00:00<00:00,  8.30it/s]\n",
            "100%|██████████| 2/2 [00:00<00:00,  7.27it/s]\n",
            "100%|██████████| 3/3 [00:00<00:00, 11.28it/s]\n"
          ]
        },
        {
          "output_type": "display_data",
          "data": {
            "text/plain": [
              "<IPython.core.display.HTML object>"
            ],
            "text/html": [
              "Waiting for W&B process to finish... <strong style=\"color:green\">(success).</strong>"
            ]
          },
          "metadata": {}
        },
        {
          "output_type": "display_data",
          "data": {
            "text/plain": [
              "VBox(children=(Label(value='0.000 MB of 0.000 MB uploaded (0.000 MB deduped)\\r'), FloatProgress(value=1.0, max…"
            ],
            "application/vnd.jupyter.widget-view+json": {
              "version_major": 2,
              "version_minor": 0,
              "model_id": "c149bdce5d9e4859875f8fba5d861c7f"
            }
          },
          "metadata": {}
        },
        {
          "output_type": "display_data",
          "data": {
            "text/plain": [
              "<IPython.core.display.HTML object>"
            ],
            "text/html": [
              "<style>\n",
              "    table.wandb td:nth-child(1) { padding: 0 10px; text-align: left ; width: auto;} td:nth-child(2) {text-align: left ; width: 100%}\n",
              "    .wandb-row { display: flex; flex-direction: row; flex-wrap: wrap; justify-content: flex-start; width: 100% }\n",
              "    .wandb-col { display: flex; flex-direction: column; flex-basis: 100%; flex: 1; padding: 10px; }\n",
              "    </style>\n",
              "<div class=\"wandb-row\"><div class=\"wandb-col\"><h3>Run history:</h3><br/><table class=\"wandb\"><tr><td>task_0_prevtask_0_val_acc</td><td>▁▃▄▄▆████████████████████</td></tr><tr><td>task_0_prevtask_0_val_loss</td><td>█▇▆▅▃▂▂▂▁▁▁▂▁▁▁▁▂▁▂▁▁▁▂▁▁</td></tr><tr><td>task_0_train_acc</td><td>▁▃▅▅▆▇███████████████████</td></tr><tr><td>task_0_train_loss</td><td>█▅▄▃▃▂▁▁▁▁▁▁▁▁▁▁▁▁▁▁▁▁▁▁▁</td></tr><tr><td>task_0_val_acc</td><td>▁▃▅▄▆▇█▇█████████████████</td></tr><tr><td>task_0_val_loss</td><td>█▇▅▅▃▂▁▂▁▁▁▁▁▁▁▁▁▁▁▂▁▁▁▂▂</td></tr><tr><td>task_1_prevtask_0_val_acc</td><td>▅▂▇▄▄▄▁▅██▅▅█▂██▅▂▅▅▅██▅▅</td></tr><tr><td>task_1_prevtask_0_val_loss</td><td>▃▃▂▄▂▆▄▆▁▁▅▄▁▅▂▁▄█▄▅▅▃▃▇▇</td></tr><tr><td>task_1_prevtask_1_val_acc</td><td>▁▁▁▁▁▁▁▁▁▁▁▁▁▁▁▁▁▃▆▇█████</td></tr><tr><td>task_1_prevtask_1_val_loss</td><td>█▇▆▆▅▅▅▄▄▄▃▃▃▃▂▂▂▂▂▁▁▁▁▁▁</td></tr><tr><td>task_1_train_acc</td><td>▁▁▁▁▁▁▁▁▁▁▁▁▁▁▁▁▁▂▄▆▇████</td></tr><tr><td>task_1_train_loss</td><td>█▇▆▆▅▅▄▄▄▄▃▃▃▃▂▂▂▂▂▁▁▁▁▁▁</td></tr><tr><td>task_1_val_acc</td><td>▁▁▁▁▁▁▁▁▁▂▁▁▁▁▁▁▁▃▆▇█████</td></tr><tr><td>task_1_val_loss</td><td>█▇▆▆▅▅▅▄▄▄▃▃▃▃▂▂▂▂▁▁▁▁▁▁▁</td></tr><tr><td>task_2_prevtask_0_val_acc</td><td>▇▆▆▃▆▆▆▇▇▆▇▇█▇█▇█▃▆▄▆▃▅▃▁</td></tr><tr><td>task_2_prevtask_0_val_loss</td><td>▁▁▃▅▅▄▅▄▄▄▅▅▄▄▄▄▅▇▅▇▆▆▆█▆</td></tr><tr><td>task_2_prevtask_1_val_acc</td><td>▂▃▂▁▃▂▂▂▁▂▁▂▂▃▂▃▃▂▃▄▆▆▇█▇</td></tr><tr><td>task_2_prevtask_1_val_loss</td><td>▇▇▇█▆▆▆▆▆▅▆▄▄▃▄▃▃▃▃▃▂▃▂▁▁</td></tr><tr><td>task_2_prevtask_2_val_acc</td><td>▁▁▃▂▃▃▃▃▂▃▂▃▄▇▇▇▇▇▇▆██▇█▇</td></tr><tr><td>task_2_prevtask_2_val_loss</td><td>█▇▆▆▅▄▅▄▅▄▄▄▅▂▂▂▂▂▂▃▁▁▂▁▂</td></tr><tr><td>task_2_train_acc</td><td>▁▄▄▄▃▅▄▅▄▄▄▃▆▆▇███▇█▇████</td></tr><tr><td>task_2_train_loss</td><td>█▅▅▄▆▃▄▃▃▃▃▄▂▃▂▂▂▂▂▁▂▁▁▁▁</td></tr><tr><td>task_2_val_acc</td><td>▁▁▂▂▂▂▂▂▂▂▂▃▄▅▅▅▆▆▆▇▇▇███</td></tr><tr><td>task_2_val_loss</td><td>█▇▇▆▆▆▅▅▅▄▄▄▃▃▃▃▂▂▂▂▂▁▁▁▁</td></tr></table><br/></div><div class=\"wandb-col\"><h3>Run summary:</h3><br/><table class=\"wandb\"><tr><td>task_0_prevtask_0_val_acc</td><td>98.4375</td></tr><tr><td>task_0_prevtask_0_val_loss</td><td>0.08575</td></tr><tr><td>task_0_train_acc</td><td>99.86979</td></tr><tr><td>task_0_train_loss</td><td>0.00189</td></tr><tr><td>task_0_val_acc</td><td>97.69176</td></tr><tr><td>task_0_val_loss</td><td>0.11743</td></tr><tr><td>task_1_prevtask_0_val_acc</td><td>98.08239</td></tr><tr><td>task_1_prevtask_0_val_loss</td><td>0.10138</td></tr><tr><td>task_1_prevtask_1_val_acc</td><td>79.50994</td></tr><tr><td>task_1_prevtask_1_val_loss</td><td>0.62631</td></tr><tr><td>task_1_train_acc</td><td>80.39062</td></tr><tr><td>task_1_train_loss</td><td>0.67807</td></tr><tr><td>task_1_val_acc</td><td>87.23958</td></tr><tr><td>task_1_val_loss</td><td>0.41958</td></tr><tr><td>task_2_prevtask_0_val_acc</td><td>93.50142</td></tr><tr><td>task_2_prevtask_0_val_loss</td><td>0.21214</td></tr><tr><td>task_2_prevtask_1_val_acc</td><td>94.21165</td></tr><tr><td>task_2_prevtask_1_val_loss</td><td>0.19676</td></tr><tr><td>task_2_prevtask_2_val_acc</td><td>93.93382</td></tr><tr><td>task_2_prevtask_2_val_loss</td><td>0.32157</td></tr><tr><td>task_2_train_acc</td><td>97.03125</td></tr><tr><td>task_2_train_loss</td><td>0.14271</td></tr><tr><td>task_2_val_acc</td><td>94.46209</td></tr><tr><td>task_2_val_loss</td><td>0.23677</td></tr></table><br/></div></div>"
            ]
          },
          "metadata": {}
        },
        {
          "output_type": "display_data",
          "data": {
            "text/plain": [
              "<IPython.core.display.HTML object>"
            ],
            "text/html": [
              "Synced <strong style=\"color:#cdcd00\">ring_yesno_roadcondition_imagecondition_21_09_03h53m02s_mul</strong>: <a href=\"https://wandb.ai/compyle/continual_vqa_final/runs/11ytm1fo\" target=\"_blank\">https://wandb.ai/compyle/continual_vqa_final/runs/11ytm1fo</a><br/>Synced 5 W&B file(s), 0 media file(s), 0 artifact file(s) and 0 other file(s)"
            ]
          },
          "metadata": {}
        },
        {
          "output_type": "display_data",
          "data": {
            "text/plain": [
              "<IPython.core.display.HTML object>"
            ],
            "text/html": [
              "Find logs at: <code>./wandb/run-20220921_035302-11ytm1fo/logs</code>"
            ]
          },
          "metadata": {}
        },
        {
          "output_type": "display_data",
          "data": {
            "text/plain": [
              "<IPython.core.display.HTML object>"
            ],
            "text/html": [
              "Tracking run with wandb version 0.13.3"
            ]
          },
          "metadata": {}
        },
        {
          "output_type": "display_data",
          "data": {
            "text/plain": [
              "<IPython.core.display.HTML object>"
            ],
            "text/html": [
              "Run data is saved locally in <code>/content/wandb/run-20220921_035453-1nsmjasx</code>"
            ]
          },
          "metadata": {}
        },
        {
          "output_type": "display_data",
          "data": {
            "text/plain": [
              "<IPython.core.display.HTML object>"
            ],
            "text/html": [
              "Syncing run <strong><a href=\"https://wandb.ai/compyle/continual_vqa_final/runs/1nsmjasx\" target=\"_blank\">ring_imagecondition_yesno_roadcondition_21_09_03h54m53s_mul</a></strong> to <a href=\"https://wandb.ai/compyle/continual_vqa_final\" target=\"_blank\">Weights & Biases</a> (<a href=\"https://wandb.me/run\" target=\"_blank\">docs</a>)<br/>"
            ]
          },
          "metadata": {}
        },
        {
          "output_type": "stream",
          "name": "stdout",
          "text": [
            "########## Epoch 0\n"
          ]
        },
        {
          "output_type": "stream",
          "name": "stderr",
          "text": [
            "100%|██████████| 10/10 [00:00<00:00, 17.11it/s]\n",
            "100%|██████████| 3/3 [00:00<00:00, 11.39it/s]\n"
          ]
        },
        {
          "output_type": "stream",
          "name": "stdout",
          "text": [
            "Train loss: 0.6968749165534973\tVal loss: 0.22822876274585724\tTrain acc: 76.84895833333334\tVal acc: 90.80882352941177\n"
          ]
        },
        {
          "output_type": "stream",
          "name": "stderr",
          "text": [
            "100%|██████████| 3/3 [00:00<00:00, 10.80it/s]\n"
          ]
        },
        {
          "output_type": "stream",
          "name": "stdout",
          "text": [
            "########## Epoch 1\n"
          ]
        },
        {
          "output_type": "stream",
          "name": "stderr",
          "text": [
            "100%|██████████| 10/10 [00:00<00:00, 18.43it/s]\n",
            "100%|██████████| 3/3 [00:00<00:00, 11.09it/s]\n"
          ]
        },
        {
          "output_type": "stream",
          "name": "stdout",
          "text": [
            "Train loss: 0.18245038390159607\tVal loss: 0.15078341960906982\tTrain acc: 95.703125\tVal acc: 94.91421568627452\n"
          ]
        },
        {
          "output_type": "stream",
          "name": "stderr",
          "text": [
            "100%|██████████| 3/3 [00:00<00:00, 10.49it/s]\n"
          ]
        },
        {
          "output_type": "stream",
          "name": "stdout",
          "text": [
            "########## Epoch 2\n"
          ]
        },
        {
          "output_type": "stream",
          "name": "stderr",
          "text": [
            "100%|██████████| 10/10 [00:00<00:00, 18.38it/s]\n",
            "100%|██████████| 3/3 [00:00<00:00, 10.54it/s]\n"
          ]
        },
        {
          "output_type": "stream",
          "name": "stdout",
          "text": [
            "Train loss: 0.16202065348625183\tVal loss: 0.17967085540294647\tTrain acc: 96.171875\tVal acc: 94.71507352941177\n"
          ]
        },
        {
          "output_type": "stream",
          "name": "stderr",
          "text": [
            "100%|██████████| 3/3 [00:00<00:00, 11.22it/s]\n"
          ]
        },
        {
          "output_type": "stream",
          "name": "stdout",
          "text": [
            "########## Epoch 3\n"
          ]
        },
        {
          "output_type": "stream",
          "name": "stderr",
          "text": [
            "100%|██████████| 10/10 [00:00<00:00, 18.27it/s]\n",
            "100%|██████████| 3/3 [00:00<00:00, 10.77it/s]\n"
          ]
        },
        {
          "output_type": "stream",
          "name": "stdout",
          "text": [
            "Train loss: 0.13571807742118835\tVal loss: 0.12953490018844604\tTrain acc: 96.484375\tVal acc: 96.67585784313725\n"
          ]
        },
        {
          "output_type": "stream",
          "name": "stderr",
          "text": [
            "100%|██████████| 3/3 [00:00<00:00, 11.49it/s]\n"
          ]
        },
        {
          "output_type": "stream",
          "name": "stdout",
          "text": [
            "########## Epoch 4\n"
          ]
        },
        {
          "output_type": "stream",
          "name": "stderr",
          "text": [
            "100%|██████████| 10/10 [00:00<00:00, 18.46it/s]\n",
            "100%|██████████| 3/3 [00:00<00:00, 10.74it/s]\n"
          ]
        },
        {
          "output_type": "stream",
          "name": "stdout",
          "text": [
            "Train loss: 0.12165595591068268\tVal loss: 0.09704075008630753\tTrain acc: 95.36458333333334\tVal acc: 97.39583333333333\n"
          ]
        },
        {
          "output_type": "stream",
          "name": "stderr",
          "text": [
            "100%|██████████| 3/3 [00:00<00:00, 10.60it/s]\n"
          ]
        },
        {
          "output_type": "stream",
          "name": "stdout",
          "text": [
            "########## Epoch 5\n"
          ]
        },
        {
          "output_type": "stream",
          "name": "stderr",
          "text": [
            "100%|██████████| 10/10 [00:00<00:00, 13.91it/s]\n",
            "100%|██████████| 3/3 [00:00<00:00, 11.58it/s]\n"
          ]
        },
        {
          "output_type": "stream",
          "name": "stdout",
          "text": [
            "Train loss: 0.12537337839603424\tVal loss: 0.09375537186861038\tTrain acc: 96.5625\tVal acc: 97.39583333333333\n"
          ]
        },
        {
          "output_type": "stream",
          "name": "stderr",
          "text": [
            "100%|██████████| 3/3 [00:00<00:00,  6.64it/s]\n"
          ]
        },
        {
          "output_type": "stream",
          "name": "stdout",
          "text": [
            "########## Epoch 6\n"
          ]
        },
        {
          "output_type": "stream",
          "name": "stderr",
          "text": [
            "100%|██████████| 10/10 [00:00<00:00, 10.07it/s]\n",
            "100%|██████████| 3/3 [00:00<00:00, 10.60it/s]\n"
          ]
        },
        {
          "output_type": "stream",
          "name": "stdout",
          "text": [
            "Train loss: 0.09446042776107788\tVal loss: 0.13577339053153992\tTrain acc: 97.265625\tVal acc: 95.2359068627451\n"
          ]
        },
        {
          "output_type": "stream",
          "name": "stderr",
          "text": [
            "100%|██████████| 3/3 [00:00<00:00, 11.48it/s]\n"
          ]
        },
        {
          "output_type": "stream",
          "name": "stdout",
          "text": [
            "########## Epoch 7\n"
          ]
        },
        {
          "output_type": "stream",
          "name": "stderr",
          "text": [
            "100%|██████████| 10/10 [00:00<00:00, 18.22it/s]\n",
            "100%|██████████| 3/3 [00:00<00:00, 10.30it/s]\n"
          ]
        },
        {
          "output_type": "stream",
          "name": "stdout",
          "text": [
            "Train loss: 0.08687131106853485\tVal loss: 0.10150156170129776\tTrain acc: 97.109375\tVal acc: 96.4154411764706\n"
          ]
        },
        {
          "output_type": "stream",
          "name": "stderr",
          "text": [
            "100%|██████████| 3/3 [00:00<00:00, 11.29it/s]\n"
          ]
        },
        {
          "output_type": "stream",
          "name": "stdout",
          "text": [
            "########## Epoch 8\n"
          ]
        },
        {
          "output_type": "stream",
          "name": "stderr",
          "text": [
            "100%|██████████| 10/10 [00:00<00:00, 18.39it/s]\n",
            "100%|██████████| 3/3 [00:00<00:00, 11.37it/s]\n"
          ]
        },
        {
          "output_type": "stream",
          "name": "stdout",
          "text": [
            "Train loss: 0.09170739352703094\tVal loss: 0.08797552436590195\tTrain acc: 96.14583333333334\tVal acc: 97.13541666666667\n"
          ]
        },
        {
          "output_type": "stream",
          "name": "stderr",
          "text": [
            "100%|██████████| 3/3 [00:00<00:00, 11.06it/s]\n"
          ]
        },
        {
          "output_type": "stream",
          "name": "stdout",
          "text": [
            "########## Epoch 9\n"
          ]
        },
        {
          "output_type": "stream",
          "name": "stderr",
          "text": [
            "100%|██████████| 10/10 [00:00<00:00, 18.74it/s]\n",
            "100%|██████████| 3/3 [00:00<00:00, 10.88it/s]\n"
          ]
        },
        {
          "output_type": "stream",
          "name": "stdout",
          "text": [
            "Train loss: 0.10245994478464127\tVal loss: 0.11151283234357834\tTrain acc: 95.67708333333334\tVal acc: 96.67585784313725\n"
          ]
        },
        {
          "output_type": "stream",
          "name": "stderr",
          "text": [
            "100%|██████████| 3/3 [00:00<00:00, 11.40it/s]\n"
          ]
        },
        {
          "output_type": "stream",
          "name": "stdout",
          "text": [
            "########## Epoch 10\n"
          ]
        },
        {
          "output_type": "stream",
          "name": "stderr",
          "text": [
            "100%|██████████| 10/10 [00:00<00:00, 18.36it/s]\n",
            "100%|██████████| 3/3 [00:00<00:00, 11.27it/s]\n"
          ]
        },
        {
          "output_type": "stream",
          "name": "stdout",
          "text": [
            "Train loss: 0.08405833691358566\tVal loss: 0.10291939228773117\tTrain acc: 97.109375\tVal acc: 97.13541666666667\n"
          ]
        },
        {
          "output_type": "stream",
          "name": "stderr",
          "text": [
            "100%|██████████| 3/3 [00:00<00:00, 11.23it/s]\n"
          ]
        },
        {
          "output_type": "stream",
          "name": "stdout",
          "text": [
            "########## Epoch 11\n"
          ]
        },
        {
          "output_type": "stream",
          "name": "stderr",
          "text": [
            "100%|██████████| 10/10 [00:00<00:00, 17.89it/s]\n",
            "100%|██████████| 3/3 [00:00<00:00, 11.00it/s]\n"
          ]
        },
        {
          "output_type": "stream",
          "name": "stdout",
          "text": [
            "Train loss: 0.08092756569385529\tVal loss: 0.11690366268157959\tTrain acc: 97.8125\tVal acc: 97.39583333333333\n"
          ]
        },
        {
          "output_type": "stream",
          "name": "stderr",
          "text": [
            "100%|██████████| 3/3 [00:00<00:00, 10.75it/s]\n"
          ]
        },
        {
          "output_type": "stream",
          "name": "stdout",
          "text": [
            "########## Epoch 12\n"
          ]
        },
        {
          "output_type": "stream",
          "name": "stderr",
          "text": [
            "100%|██████████| 10/10 [00:00<00:00, 18.32it/s]\n",
            "100%|██████████| 3/3 [00:00<00:00, 11.01it/s]\n"
          ]
        },
        {
          "output_type": "stream",
          "name": "stdout",
          "text": [
            "Train loss: 0.06588808447122574\tVal loss: 0.09834922105073929\tTrain acc: 98.125\tVal acc: 97.13541666666667\n"
          ]
        },
        {
          "output_type": "stream",
          "name": "stderr",
          "text": [
            "100%|██████████| 3/3 [00:00<00:00, 10.84it/s]\n"
          ]
        },
        {
          "output_type": "stream",
          "name": "stdout",
          "text": [
            "########## Epoch 13\n"
          ]
        },
        {
          "output_type": "stream",
          "name": "stderr",
          "text": [
            "100%|██████████| 10/10 [00:00<00:00, 18.40it/s]\n",
            "100%|██████████| 3/3 [00:00<00:00, 11.32it/s]\n"
          ]
        },
        {
          "output_type": "stream",
          "name": "stdout",
          "text": [
            "Train loss: 0.06400778144598007\tVal loss: 0.10248821973800659\tTrain acc: 98.4375\tVal acc: 97.39583333333333\n"
          ]
        },
        {
          "output_type": "stream",
          "name": "stderr",
          "text": [
            "100%|██████████| 3/3 [00:00<00:00, 10.21it/s]\n"
          ]
        },
        {
          "output_type": "stream",
          "name": "stdout",
          "text": [
            "########## Epoch 14\n"
          ]
        },
        {
          "output_type": "stream",
          "name": "stderr",
          "text": [
            "100%|██████████| 10/10 [00:00<00:00, 18.74it/s]\n",
            "100%|██████████| 3/3 [00:00<00:00, 10.86it/s]\n"
          ]
        },
        {
          "output_type": "stream",
          "name": "stdout",
          "text": [
            "Train loss: 0.06023457646369934\tVal loss: 0.13616366684436798\tTrain acc: 98.59375\tVal acc: 95.95588235294117\n"
          ]
        },
        {
          "output_type": "stream",
          "name": "stderr",
          "text": [
            "100%|██████████| 3/3 [00:00<00:00, 10.80it/s]\n"
          ]
        },
        {
          "output_type": "stream",
          "name": "stdout",
          "text": [
            "########## Epoch 15\n"
          ]
        },
        {
          "output_type": "stream",
          "name": "stderr",
          "text": [
            "100%|██████████| 10/10 [00:00<00:00, 18.36it/s]\n",
            "100%|██████████| 3/3 [00:00<00:00, 10.46it/s]\n"
          ]
        },
        {
          "output_type": "stream",
          "name": "stdout",
          "text": [
            "Train loss: 0.08483588695526123\tVal loss: 0.14208979904651642\tTrain acc: 96.84895833333334\tVal acc: 95.17463235294117\n"
          ]
        },
        {
          "output_type": "stream",
          "name": "stderr",
          "text": [
            "100%|██████████| 3/3 [00:00<00:00, 10.32it/s]\n"
          ]
        },
        {
          "output_type": "stream",
          "name": "stdout",
          "text": [
            "########## Epoch 16\n"
          ]
        },
        {
          "output_type": "stream",
          "name": "stderr",
          "text": [
            "100%|██████████| 10/10 [00:00<00:00, 18.69it/s]\n",
            "100%|██████████| 3/3 [00:00<00:00, 10.46it/s]\n"
          ]
        },
        {
          "output_type": "stream",
          "name": "stdout",
          "text": [
            "Train loss: 0.07888446003198624\tVal loss: 0.15444709360599518\tTrain acc: 97.1875\tVal acc: 95.6341911764706\n"
          ]
        },
        {
          "output_type": "stream",
          "name": "stderr",
          "text": [
            "100%|██████████| 3/3 [00:00<00:00, 11.15it/s]\n"
          ]
        },
        {
          "output_type": "stream",
          "name": "stdout",
          "text": [
            "########## Epoch 17\n"
          ]
        },
        {
          "output_type": "stream",
          "name": "stderr",
          "text": [
            "100%|██████████| 10/10 [00:00<00:00, 17.96it/s]\n",
            "100%|██████████| 3/3 [00:00<00:00, 11.58it/s]\n"
          ]
        },
        {
          "output_type": "stream",
          "name": "stdout",
          "text": [
            "Train loss: 0.07615698873996735\tVal loss: 0.1138468086719513\tTrain acc: 97.5\tVal acc: 97.13541666666667\n"
          ]
        },
        {
          "output_type": "stream",
          "name": "stderr",
          "text": [
            "100%|██████████| 3/3 [00:00<00:00, 10.77it/s]\n"
          ]
        },
        {
          "output_type": "stream",
          "name": "stdout",
          "text": [
            "########## Epoch 18\n"
          ]
        },
        {
          "output_type": "stream",
          "name": "stderr",
          "text": [
            "100%|██████████| 10/10 [00:00<00:00, 17.88it/s]\n",
            "100%|██████████| 3/3 [00:00<00:00, 10.87it/s]\n"
          ]
        },
        {
          "output_type": "stream",
          "name": "stdout",
          "text": [
            "Train loss: 0.15281036496162415\tVal loss: 0.18236100673675537\tTrain acc: 96.69270833333334\tVal acc: 95.69546568627452\n"
          ]
        },
        {
          "output_type": "stream",
          "name": "stderr",
          "text": [
            "100%|██████████| 3/3 [00:00<00:00, 11.29it/s]\n"
          ]
        },
        {
          "output_type": "stream",
          "name": "stdout",
          "text": [
            "########## Epoch 19\n"
          ]
        },
        {
          "output_type": "stream",
          "name": "stderr",
          "text": [
            "100%|██████████| 10/10 [00:00<00:00, 18.42it/s]\n",
            "100%|██████████| 3/3 [00:00<00:00, 10.86it/s]\n"
          ]
        },
        {
          "output_type": "stream",
          "name": "stdout",
          "text": [
            "Train loss: 0.07715098559856415\tVal loss: 0.13867564499378204\tTrain acc: 97.578125\tVal acc: 94.91421568627452\n"
          ]
        },
        {
          "output_type": "stream",
          "name": "stderr",
          "text": [
            "100%|██████████| 3/3 [00:00<00:00, 11.13it/s]\n"
          ]
        },
        {
          "output_type": "stream",
          "name": "stdout",
          "text": [
            "########## Epoch 20\n"
          ]
        },
        {
          "output_type": "stream",
          "name": "stderr",
          "text": [
            "100%|██████████| 10/10 [00:00<00:00, 17.57it/s]\n",
            "100%|██████████| 3/3 [00:00<00:00, 10.74it/s]\n"
          ]
        },
        {
          "output_type": "stream",
          "name": "stdout",
          "text": [
            "Train loss: 0.07665646821260452\tVal loss: 0.11042850464582443\tTrain acc: 97.03125\tVal acc: 97.39583333333333\n"
          ]
        },
        {
          "output_type": "stream",
          "name": "stderr",
          "text": [
            "100%|██████████| 3/3 [00:00<00:00, 10.53it/s]\n"
          ]
        },
        {
          "output_type": "stream",
          "name": "stdout",
          "text": [
            "########## Epoch 21\n"
          ]
        },
        {
          "output_type": "stream",
          "name": "stderr",
          "text": [
            "100%|██████████| 10/10 [00:00<00:00, 18.71it/s]\n",
            "100%|██████████| 3/3 [00:00<00:00, 11.21it/s]\n"
          ]
        },
        {
          "output_type": "stream",
          "name": "stdout",
          "text": [
            "Train loss: 0.05894704535603523\tVal loss: 0.11363985389471054\tTrain acc: 98.046875\tVal acc: 97.39583333333333\n"
          ]
        },
        {
          "output_type": "stream",
          "name": "stderr",
          "text": [
            "100%|██████████| 3/3 [00:00<00:00, 10.45it/s]\n"
          ]
        },
        {
          "output_type": "stream",
          "name": "stdout",
          "text": [
            "########## Epoch 22\n"
          ]
        },
        {
          "output_type": "stream",
          "name": "stderr",
          "text": [
            "100%|██████████| 10/10 [00:00<00:00, 18.26it/s]\n",
            "100%|██████████| 3/3 [00:00<00:00, 11.05it/s]\n"
          ]
        },
        {
          "output_type": "stream",
          "name": "stdout",
          "text": [
            "Train loss: 0.0475073903799057\tVal loss: 0.11271077394485474\tTrain acc: 98.4375\tVal acc: 97.39583333333333\n"
          ]
        },
        {
          "output_type": "stream",
          "name": "stderr",
          "text": [
            "100%|██████████| 3/3 [00:00<00:00,  9.62it/s]\n"
          ]
        },
        {
          "output_type": "stream",
          "name": "stdout",
          "text": [
            "########## Epoch 23\n"
          ]
        },
        {
          "output_type": "stream",
          "name": "stderr",
          "text": [
            "100%|██████████| 10/10 [00:00<00:00, 17.52it/s]\n",
            "100%|██████████| 3/3 [00:00<00:00, 10.25it/s]\n"
          ]
        },
        {
          "output_type": "stream",
          "name": "stdout",
          "text": [
            "Train loss: 0.03855214640498161\tVal loss: 0.23337484896183014\tTrain acc: 98.75\tVal acc: 94.97549019607844\n"
          ]
        },
        {
          "output_type": "stream",
          "name": "stderr",
          "text": [
            "100%|██████████| 3/3 [00:00<00:00, 10.24it/s]\n"
          ]
        },
        {
          "output_type": "stream",
          "name": "stdout",
          "text": [
            "########## Epoch 24\n"
          ]
        },
        {
          "output_type": "stream",
          "name": "stderr",
          "text": [
            "100%|██████████| 10/10 [00:00<00:00, 18.21it/s]\n",
            "100%|██████████| 3/3 [00:00<00:00, 10.31it/s]\n"
          ]
        },
        {
          "output_type": "stream",
          "name": "stdout",
          "text": [
            "Train loss: 0.0368119515478611\tVal loss: 0.15441589057445526\tTrain acc: 98.75\tVal acc: 95.69546568627452\n"
          ]
        },
        {
          "output_type": "stream",
          "name": "stderr",
          "text": [
            "100%|██████████| 3/3 [00:00<00:00, 11.35it/s]\n"
          ]
        },
        {
          "output_type": "stream",
          "name": "stdout",
          "text": [
            "########## Epoch 0\n"
          ]
        },
        {
          "output_type": "stream",
          "name": "stderr",
          "text": [
            "100%|██████████| 6/6 [00:00<00:00, 14.48it/s]\n",
            "100%|██████████| 4/4 [00:00<00:00, 12.61it/s]\n"
          ]
        },
        {
          "output_type": "stream",
          "name": "stdout",
          "text": [
            "Train loss: 6.511136531829834\tVal loss: 2.420567512512207\tTrain acc: 0.0\tVal acc: 60.015060240963855\n"
          ]
        },
        {
          "output_type": "stream",
          "name": "stderr",
          "text": [
            "100%|██████████| 3/3 [00:00<00:00, 10.00it/s]\n",
            "100%|██████████| 2/2 [00:00<00:00,  7.55it/s]\n"
          ]
        },
        {
          "output_type": "stream",
          "name": "stdout",
          "text": [
            "########## Epoch 1\n"
          ]
        },
        {
          "output_type": "stream",
          "name": "stderr",
          "text": [
            "100%|██████████| 6/6 [00:00<00:00, 13.40it/s]\n",
            "100%|██████████| 4/4 [00:00<00:00, 13.98it/s]\n"
          ]
        },
        {
          "output_type": "stream",
          "name": "stdout",
          "text": [
            "Train loss: 5.980035305023193\tVal loss: 2.2705273628234863\tTrain acc: 0.0\tVal acc: 59.2738140060241\n"
          ]
        },
        {
          "output_type": "stream",
          "name": "stderr",
          "text": [
            "100%|██████████| 3/3 [00:00<00:00, 10.90it/s]\n",
            "100%|██████████| 2/2 [00:00<00:00,  6.95it/s]\n"
          ]
        },
        {
          "output_type": "stream",
          "name": "stdout",
          "text": [
            "########## Epoch 2\n"
          ]
        },
        {
          "output_type": "stream",
          "name": "stderr",
          "text": [
            "100%|██████████| 6/6 [00:00<00:00, 14.55it/s]\n",
            "100%|██████████| 4/4 [00:00<00:00, 13.91it/s]\n"
          ]
        },
        {
          "output_type": "stream",
          "name": "stdout",
          "text": [
            "Train loss: 5.5140557289123535\tVal loss: 2.0738508701324463\tTrain acc: 0.0\tVal acc: 59.60796310240964\n"
          ]
        },
        {
          "output_type": "stream",
          "name": "stderr",
          "text": [
            "100%|██████████| 3/3 [00:00<00:00, 10.94it/s]\n",
            "100%|██████████| 2/2 [00:00<00:00,  7.55it/s]\n"
          ]
        },
        {
          "output_type": "stream",
          "name": "stdout",
          "text": [
            "########## Epoch 3\n"
          ]
        },
        {
          "output_type": "stream",
          "name": "stderr",
          "text": [
            "100%|██████████| 6/6 [00:00<00:00, 14.23it/s]\n",
            "100%|██████████| 4/4 [00:00<00:00, 13.34it/s]\n"
          ]
        },
        {
          "output_type": "stream",
          "name": "stdout",
          "text": [
            "Train loss: 5.065483570098877\tVal loss: 1.8973379135131836\tTrain acc: 0.0\tVal acc: 59.94211219879518\n"
          ]
        },
        {
          "output_type": "stream",
          "name": "stderr",
          "text": [
            "100%|██████████| 3/3 [00:00<00:00, 11.36it/s]\n",
            "100%|██████████| 2/2 [00:00<00:00,  7.50it/s]\n"
          ]
        },
        {
          "output_type": "stream",
          "name": "stdout",
          "text": [
            "########## Epoch 4\n"
          ]
        },
        {
          "output_type": "stream",
          "name": "stderr",
          "text": [
            "100%|██████████| 6/6 [00:00<00:00, 13.87it/s]\n",
            "100%|██████████| 4/4 [00:00<00:00, 13.52it/s]\n"
          ]
        },
        {
          "output_type": "stream",
          "name": "stdout",
          "text": [
            "Train loss: 4.6878790855407715\tVal loss: 1.8702269792556763\tTrain acc: 0.0\tVal acc: 57.824265813253014\n"
          ]
        },
        {
          "output_type": "stream",
          "name": "stderr",
          "text": [
            "100%|██████████| 3/3 [00:00<00:00, 11.43it/s]\n",
            "100%|██████████| 2/2 [00:00<00:00,  7.42it/s]\n"
          ]
        },
        {
          "output_type": "stream",
          "name": "stdout",
          "text": [
            "########## Epoch 5\n"
          ]
        },
        {
          "output_type": "stream",
          "name": "stderr",
          "text": [
            "100%|██████████| 6/6 [00:00<00:00, 13.86it/s]\n",
            "100%|██████████| 4/4 [00:00<00:00, 14.37it/s]\n"
          ]
        },
        {
          "output_type": "stream",
          "name": "stdout",
          "text": [
            "Train loss: 4.362350940704346\tVal loss: 1.695942997932434\tTrain acc: 0.0\tVal acc: 59.11144578313253\n"
          ]
        },
        {
          "output_type": "stream",
          "name": "stderr",
          "text": [
            "100%|██████████| 3/3 [00:00<00:00, 10.42it/s]\n",
            "100%|██████████| 2/2 [00:00<00:00,  7.45it/s]\n"
          ]
        },
        {
          "output_type": "stream",
          "name": "stdout",
          "text": [
            "########## Epoch 6\n"
          ]
        },
        {
          "output_type": "stream",
          "name": "stderr",
          "text": [
            "100%|██████████| 6/6 [00:00<00:00, 13.60it/s]\n",
            "100%|██████████| 4/4 [00:00<00:00, 13.10it/s]\n"
          ]
        },
        {
          "output_type": "stream",
          "name": "stdout",
          "text": [
            "Train loss: 4.0563435554504395\tVal loss: 1.5712733268737793\tTrain acc: 0.0\tVal acc: 59.535015060240966\n"
          ]
        },
        {
          "output_type": "stream",
          "name": "stderr",
          "text": [
            "100%|██████████| 3/3 [00:00<00:00, 10.54it/s]\n",
            "100%|██████████| 2/2 [00:00<00:00,  7.74it/s]\n"
          ]
        },
        {
          "output_type": "stream",
          "name": "stdout",
          "text": [
            "########## Epoch 7\n"
          ]
        },
        {
          "output_type": "stream",
          "name": "stderr",
          "text": [
            "100%|██████████| 6/6 [00:00<00:00, 13.69it/s]\n",
            "100%|██████████| 4/4 [00:00<00:00, 14.25it/s]\n"
          ]
        },
        {
          "output_type": "stream",
          "name": "stdout",
          "text": [
            "Train loss: 3.784960985183716\tVal loss: 1.512365460395813\tTrain acc: 0.0\tVal acc: 58.1019390060241\n"
          ]
        },
        {
          "output_type": "stream",
          "name": "stderr",
          "text": [
            "100%|██████████| 3/3 [00:00<00:00, 10.88it/s]\n",
            "100%|██████████| 2/2 [00:00<00:00,  7.44it/s]\n"
          ]
        },
        {
          "output_type": "stream",
          "name": "stdout",
          "text": [
            "########## Epoch 8\n"
          ]
        },
        {
          "output_type": "stream",
          "name": "stderr",
          "text": [
            "100%|██████████| 6/6 [00:00<00:00, 13.85it/s]\n",
            "100%|██████████| 4/4 [00:00<00:00, 14.80it/s]\n"
          ]
        },
        {
          "output_type": "stream",
          "name": "stdout",
          "text": [
            "Train loss: 3.529315948486328\tVal loss: 1.4282753467559814\tTrain acc: 0.0\tVal acc: 57.72778614457832\n"
          ]
        },
        {
          "output_type": "stream",
          "name": "stderr",
          "text": [
            "100%|██████████| 3/3 [00:00<00:00, 11.10it/s]\n",
            "100%|██████████| 2/2 [00:00<00:00,  7.43it/s]\n"
          ]
        },
        {
          "output_type": "stream",
          "name": "stdout",
          "text": [
            "########## Epoch 9\n"
          ]
        },
        {
          "output_type": "stream",
          "name": "stderr",
          "text": [
            "100%|██████████| 6/6 [00:00<00:00, 13.87it/s]\n",
            "100%|██████████| 4/4 [00:00<00:00, 13.06it/s]\n"
          ]
        },
        {
          "output_type": "stream",
          "name": "stdout",
          "text": [
            "Train loss: 3.284669876098633\tVal loss: 1.3567997217178345\tTrain acc: 0.0\tVal acc: 57.108904367469876\n"
          ]
        },
        {
          "output_type": "stream",
          "name": "stderr",
          "text": [
            "100%|██████████| 3/3 [00:00<00:00,  9.73it/s]\n",
            "100%|██████████| 2/2 [00:00<00:00,  7.70it/s]\n"
          ]
        },
        {
          "output_type": "stream",
          "name": "stdout",
          "text": [
            "########## Epoch 10\n"
          ]
        },
        {
          "output_type": "stream",
          "name": "stderr",
          "text": [
            "100%|██████████| 6/6 [00:00<00:00, 14.12it/s]\n",
            "100%|██████████| 4/4 [00:00<00:00, 13.13it/s]\n"
          ]
        },
        {
          "output_type": "stream",
          "name": "stdout",
          "text": [
            "Train loss: 3.052337884902954\tVal loss: 1.2517471313476562\tTrain acc: 0.0\tVal acc: 58.27371987951807\n"
          ]
        },
        {
          "output_type": "stream",
          "name": "stderr",
          "text": [
            "100%|██████████| 3/3 [00:00<00:00, 10.84it/s]\n",
            "100%|██████████| 2/2 [00:00<00:00,  7.39it/s]\n"
          ]
        },
        {
          "output_type": "stream",
          "name": "stdout",
          "text": [
            "########## Epoch 11\n"
          ]
        },
        {
          "output_type": "stream",
          "name": "stderr",
          "text": [
            "100%|██████████| 6/6 [00:00<00:00, 13.76it/s]\n",
            "100%|██████████| 4/4 [00:00<00:00, 13.94it/s]\n"
          ]
        },
        {
          "output_type": "stream",
          "name": "stdout",
          "text": [
            "Train loss: 2.8327090740203857\tVal loss: 1.200347661972046\tTrain acc: 0.0\tVal acc: 57.05242846385542\n"
          ]
        },
        {
          "output_type": "stream",
          "name": "stderr",
          "text": [
            "100%|██████████| 3/3 [00:00<00:00, 10.62it/s]\n",
            "100%|██████████| 2/2 [00:00<00:00,  7.27it/s]\n"
          ]
        },
        {
          "output_type": "stream",
          "name": "stdout",
          "text": [
            "########## Epoch 12\n"
          ]
        },
        {
          "output_type": "stream",
          "name": "stderr",
          "text": [
            "100%|██████████| 6/6 [00:00<00:00, 13.16it/s]\n",
            "100%|██████████| 4/4 [00:00<00:00, 13.45it/s]\n"
          ]
        },
        {
          "output_type": "stream",
          "name": "stdout",
          "text": [
            "Train loss: 2.624434232711792\tVal loss: 1.1530036926269531\tTrain acc: 0.0\tVal acc: 55.44051204819277\n"
          ]
        },
        {
          "output_type": "stream",
          "name": "stderr",
          "text": [
            "100%|██████████| 3/3 [00:00<00:00, 10.46it/s]\n",
            "100%|██████████| 2/2 [00:00<00:00,  7.86it/s]\n"
          ]
        },
        {
          "output_type": "stream",
          "name": "stdout",
          "text": [
            "########## Epoch 13\n"
          ]
        },
        {
          "output_type": "stream",
          "name": "stderr",
          "text": [
            "100%|██████████| 6/6 [00:00<00:00, 13.84it/s]\n",
            "100%|██████████| 4/4 [00:00<00:00, 13.58it/s]\n"
          ]
        },
        {
          "output_type": "stream",
          "name": "stdout",
          "text": [
            "Train loss: 2.4183475971221924\tVal loss: 1.0607595443725586\tTrain acc: 0.0\tVal acc: 55.57934864457832\n"
          ]
        },
        {
          "output_type": "stream",
          "name": "stderr",
          "text": [
            "100%|██████████| 3/3 [00:00<00:00, 10.71it/s]\n",
            "100%|██████████| 2/2 [00:00<00:00,  7.62it/s]\n"
          ]
        },
        {
          "output_type": "stream",
          "name": "stdout",
          "text": [
            "########## Epoch 14\n"
          ]
        },
        {
          "output_type": "stream",
          "name": "stderr",
          "text": [
            "100%|██████████| 6/6 [00:00<00:00, 13.82it/s]\n",
            "100%|██████████| 4/4 [00:00<00:00, 12.79it/s]\n"
          ]
        },
        {
          "output_type": "stream",
          "name": "stdout",
          "text": [
            "Train loss: 2.210685968399048\tVal loss: 1.0109162330627441\tTrain acc: 0.0\tVal acc: 54.85457454819277\n"
          ]
        },
        {
          "output_type": "stream",
          "name": "stderr",
          "text": [
            "100%|██████████| 3/3 [00:00<00:00, 10.81it/s]\n",
            "100%|██████████| 2/2 [00:00<00:00,  8.01it/s]\n"
          ]
        },
        {
          "output_type": "stream",
          "name": "stdout",
          "text": [
            "########## Epoch 15\n"
          ]
        },
        {
          "output_type": "stream",
          "name": "stderr",
          "text": [
            "100%|██████████| 6/6 [00:00<00:00, 13.41it/s]\n",
            "100%|██████████| 4/4 [00:00<00:00, 13.78it/s]\n"
          ]
        },
        {
          "output_type": "stream",
          "name": "stdout",
          "text": [
            "Train loss: 2.0146491527557373\tVal loss: 0.9405360817909241\tTrain acc: 0.0\tVal acc: 55.29461596385542\n"
          ]
        },
        {
          "output_type": "stream",
          "name": "stderr",
          "text": [
            "100%|██████████| 3/3 [00:00<00:00, 10.74it/s]\n",
            "100%|██████████| 2/2 [00:00<00:00,  7.60it/s]\n"
          ]
        },
        {
          "output_type": "stream",
          "name": "stdout",
          "text": [
            "########## Epoch 16\n"
          ]
        },
        {
          "output_type": "stream",
          "name": "stderr",
          "text": [
            "100%|██████████| 6/6 [00:00<00:00, 13.71it/s]\n",
            "100%|██████████| 4/4 [00:00<00:00, 13.79it/s]\n"
          ]
        },
        {
          "output_type": "stream",
          "name": "stdout",
          "text": [
            "Train loss: 1.8290042877197266\tVal loss: 0.8783917427062988\tTrain acc: 0.0\tVal acc: 54.9769390060241\n"
          ]
        },
        {
          "output_type": "stream",
          "name": "stderr",
          "text": [
            "100%|██████████| 3/3 [00:00<00:00,  9.97it/s]\n",
            "100%|██████████| 2/2 [00:00<00:00,  7.66it/s]\n"
          ]
        },
        {
          "output_type": "stream",
          "name": "stdout",
          "text": [
            "########## Epoch 17\n"
          ]
        },
        {
          "output_type": "stream",
          "name": "stderr",
          "text": [
            "100%|██████████| 6/6 [00:00<00:00, 13.69it/s]\n",
            "100%|██████████| 4/4 [00:00<00:00, 13.71it/s]\n"
          ]
        },
        {
          "output_type": "stream",
          "name": "stdout",
          "text": [
            "Train loss: 1.6400591135025024\tVal loss: 0.8403766751289368\tTrain acc: 0.59375\tVal acc: 54.82163027108434\n"
          ]
        },
        {
          "output_type": "stream",
          "name": "stderr",
          "text": [
            "100%|██████████| 3/3 [00:00<00:00, 10.49it/s]\n",
            "100%|██████████| 2/2 [00:00<00:00,  7.76it/s]\n"
          ]
        },
        {
          "output_type": "stream",
          "name": "stdout",
          "text": [
            "########## Epoch 18\n"
          ]
        },
        {
          "output_type": "stream",
          "name": "stderr",
          "text": [
            "100%|██████████| 6/6 [00:00<00:00, 13.37it/s]\n",
            "100%|██████████| 4/4 [00:00<00:00, 12.86it/s]\n"
          ]
        },
        {
          "output_type": "stream",
          "name": "stdout",
          "text": [
            "Train loss: 1.4681013822555542\tVal loss: 0.7804157733917236\tTrain acc: 11.520833333333334\tVal acc: 63.60363328313253\n"
          ]
        },
        {
          "output_type": "stream",
          "name": "stderr",
          "text": [
            "100%|██████████| 3/3 [00:00<00:00, 10.91it/s]\n",
            "100%|██████████| 2/2 [00:00<00:00,  7.60it/s]\n"
          ]
        },
        {
          "output_type": "stream",
          "name": "stdout",
          "text": [
            "########## Epoch 19\n"
          ]
        },
        {
          "output_type": "stream",
          "name": "stderr",
          "text": [
            "100%|██████████| 6/6 [00:00<00:00, 14.40it/s]\n",
            "100%|██████████| 4/4 [00:00<00:00, 13.94it/s]\n"
          ]
        },
        {
          "output_type": "stream",
          "name": "stdout",
          "text": [
            "Train loss: 1.308959722518921\tVal loss: 0.7307075262069702\tTrain acc: 35.401041666666664\tVal acc: 70.79019201807229\n"
          ]
        },
        {
          "output_type": "stream",
          "name": "stderr",
          "text": [
            "100%|██████████| 3/3 [00:00<00:00, 10.32it/s]\n",
            "100%|██████████| 2/2 [00:00<00:00,  7.63it/s]\n"
          ]
        },
        {
          "output_type": "stream",
          "name": "stdout",
          "text": [
            "########## Epoch 20\n"
          ]
        },
        {
          "output_type": "stream",
          "name": "stderr",
          "text": [
            "100%|██████████| 6/6 [00:00<00:00, 13.57it/s]\n",
            "100%|██████████| 4/4 [00:00<00:00, 12.98it/s]\n"
          ]
        },
        {
          "output_type": "stream",
          "name": "stdout",
          "text": [
            "Train loss: 1.1743983030319214\tVal loss: 0.6986376643180847\tTrain acc: 51.75\tVal acc: 76.11304593373494\n"
          ]
        },
        {
          "output_type": "stream",
          "name": "stderr",
          "text": [
            "100%|██████████| 3/3 [00:00<00:00, 10.74it/s]\n",
            "100%|██████████| 2/2 [00:00<00:00,  6.93it/s]\n"
          ]
        },
        {
          "output_type": "stream",
          "name": "stdout",
          "text": [
            "########## Epoch 21\n"
          ]
        },
        {
          "output_type": "stream",
          "name": "stderr",
          "text": [
            "100%|██████████| 6/6 [00:00<00:00, 13.50it/s]\n",
            "100%|██████████| 4/4 [00:00<00:00, 12.90it/s]\n"
          ]
        },
        {
          "output_type": "stream",
          "name": "stdout",
          "text": [
            "Train loss: 1.0546444654464722\tVal loss: 0.6649797558784485\tTrain acc: 65.18229166666667\tVal acc: 75.86831701807229\n"
          ]
        },
        {
          "output_type": "stream",
          "name": "stderr",
          "text": [
            "100%|██████████| 3/3 [00:00<00:00, 10.88it/s]\n",
            "100%|██████████| 2/2 [00:00<00:00,  7.31it/s]\n"
          ]
        },
        {
          "output_type": "stream",
          "name": "stdout",
          "text": [
            "########## Epoch 22\n"
          ]
        },
        {
          "output_type": "stream",
          "name": "stderr",
          "text": [
            "100%|██████████| 6/6 [00:00<00:00, 14.19it/s]\n",
            "100%|██████████| 4/4 [00:00<00:00, 13.33it/s]\n"
          ]
        },
        {
          "output_type": "stream",
          "name": "stdout",
          "text": [
            "Train loss: 0.9641781449317932\tVal loss: 0.6528524160385132\tTrain acc: 63.833333333333336\tVal acc: 76.29188629518072\n"
          ]
        },
        {
          "output_type": "stream",
          "name": "stderr",
          "text": [
            "100%|██████████| 3/3 [00:00<00:00, 10.15it/s]\n",
            "100%|██████████| 2/2 [00:00<00:00,  7.98it/s]\n"
          ]
        },
        {
          "output_type": "stream",
          "name": "stdout",
          "text": [
            "########## Epoch 23\n"
          ]
        },
        {
          "output_type": "stream",
          "name": "stderr",
          "text": [
            "100%|██████████| 6/6 [00:00<00:00, 13.55it/s]\n",
            "100%|██████████| 4/4 [00:00<00:00, 12.46it/s]\n"
          ]
        },
        {
          "output_type": "stream",
          "name": "stdout",
          "text": [
            "Train loss: 0.8910563588142395\tVal loss: 0.6206632852554321\tTrain acc: 67.00520833333333\tVal acc: 77.70849021084337\n"
          ]
        },
        {
          "output_type": "stream",
          "name": "stderr",
          "text": [
            "100%|██████████| 3/3 [00:00<00:00, 10.52it/s]\n",
            "100%|██████████| 2/2 [00:00<00:00,  7.51it/s]\n"
          ]
        },
        {
          "output_type": "stream",
          "name": "stdout",
          "text": [
            "########## Epoch 24\n"
          ]
        },
        {
          "output_type": "stream",
          "name": "stderr",
          "text": [
            "100%|██████████| 6/6 [00:00<00:00, 13.60it/s]\n",
            "100%|██████████| 4/4 [00:00<00:00, 13.47it/s]\n"
          ]
        },
        {
          "output_type": "stream",
          "name": "stdout",
          "text": [
            "Train loss: 0.8328474164009094\tVal loss: 0.6139786243438721\tTrain acc: 70.640625\tVal acc: 79.3933546686747\n"
          ]
        },
        {
          "output_type": "stream",
          "name": "stderr",
          "text": [
            "100%|██████████| 3/3 [00:00<00:00, 10.54it/s]\n",
            "100%|██████████| 2/2 [00:00<00:00,  7.40it/s]\n"
          ]
        },
        {
          "output_type": "stream",
          "name": "stdout",
          "text": [
            "########## Epoch 0\n"
          ]
        },
        {
          "output_type": "stream",
          "name": "stderr",
          "text": [
            "100%|██████████| 6/6 [00:00<00:00, 13.99it/s]\n",
            "100%|██████████| 6/6 [00:00<00:00, 20.08it/s]\n"
          ]
        },
        {
          "output_type": "stream",
          "name": "stdout",
          "text": [
            "Train loss: 1.3880990743637085\tVal loss: 0.6929874420166016\tTrain acc: 41.635416666666664\tVal acc: 77.47395833333333\n"
          ]
        },
        {
          "output_type": "stream",
          "name": "stderr",
          "text": [
            "100%|██████████| 3/3 [00:00<00:00, 10.57it/s]\n",
            "100%|██████████| 2/2 [00:00<00:00,  7.50it/s]\n",
            "100%|██████████| 2/2 [00:00<00:00,  7.63it/s]\n"
          ]
        },
        {
          "output_type": "stream",
          "name": "stdout",
          "text": [
            "########## Epoch 1\n"
          ]
        },
        {
          "output_type": "stream",
          "name": "stderr",
          "text": [
            "100%|██████████| 6/6 [00:00<00:00, 13.21it/s]\n",
            "100%|██████████| 6/6 [00:00<00:00, 19.00it/s]\n"
          ]
        },
        {
          "output_type": "stream",
          "name": "stdout",
          "text": [
            "Train loss: 1.1508281230926514\tVal loss: 0.6532449126243591\tTrain acc: 59.25\tVal acc: 82.8125\n"
          ]
        },
        {
          "output_type": "stream",
          "name": "stderr",
          "text": [
            "100%|██████████| 3/3 [00:00<00:00, 11.19it/s]\n",
            "100%|██████████| 2/2 [00:00<00:00,  7.60it/s]\n",
            "100%|██████████| 2/2 [00:00<00:00,  7.11it/s]\n"
          ]
        },
        {
          "output_type": "stream",
          "name": "stdout",
          "text": [
            "########## Epoch 2\n"
          ]
        },
        {
          "output_type": "stream",
          "name": "stderr",
          "text": [
            "100%|██████████| 6/6 [00:00<00:00, 14.02it/s]\n",
            "100%|██████████| 6/6 [00:00<00:00, 19.29it/s]\n"
          ]
        },
        {
          "output_type": "stream",
          "name": "stdout",
          "text": [
            "Train loss: 0.8536431193351746\tVal loss: 0.5635015368461609\tTrain acc: 82.578125\tVal acc: 88.671875\n"
          ]
        },
        {
          "output_type": "stream",
          "name": "stderr",
          "text": [
            "100%|██████████| 3/3 [00:00<00:00, 10.75it/s]\n",
            "100%|██████████| 2/2 [00:00<00:00,  7.35it/s]\n",
            "100%|██████████| 2/2 [00:00<00:00,  7.39it/s]\n"
          ]
        },
        {
          "output_type": "stream",
          "name": "stdout",
          "text": [
            "########## Epoch 3\n"
          ]
        },
        {
          "output_type": "stream",
          "name": "stderr",
          "text": [
            "100%|██████████| 6/6 [00:00<00:00, 13.28it/s]\n",
            "100%|██████████| 6/6 [00:00<00:00, 19.22it/s]\n"
          ]
        },
        {
          "output_type": "stream",
          "name": "stdout",
          "text": [
            "Train loss: 0.6277748942375183\tVal loss: 0.46124982833862305\tTrain acc: 93.60416666666667\tVal acc: 93.359375\n"
          ]
        },
        {
          "output_type": "stream",
          "name": "stderr",
          "text": [
            "100%|██████████| 3/3 [00:00<00:00, 11.00it/s]\n",
            "100%|██████████| 2/2 [00:00<00:00,  7.80it/s]\n",
            "100%|██████████| 2/2 [00:00<00:00,  7.79it/s]\n"
          ]
        },
        {
          "output_type": "stream",
          "name": "stdout",
          "text": [
            "########## Epoch 4\n"
          ]
        },
        {
          "output_type": "stream",
          "name": "stderr",
          "text": [
            "100%|██████████| 6/6 [00:00<00:00, 13.70it/s]\n",
            "100%|██████████| 6/6 [00:00<00:00, 18.25it/s]\n"
          ]
        },
        {
          "output_type": "stream",
          "name": "stdout",
          "text": [
            "Train loss: 0.4869333803653717\tVal loss: 0.5559818148612976\tTrain acc: 96.52604166666667\tVal acc: 87.109375\n"
          ]
        },
        {
          "output_type": "stream",
          "name": "stderr",
          "text": [
            "100%|██████████| 3/3 [00:00<00:00, 10.32it/s]\n",
            "100%|██████████| 2/2 [00:00<00:00,  7.90it/s]\n",
            "100%|██████████| 2/2 [00:00<00:00,  7.70it/s]\n"
          ]
        },
        {
          "output_type": "stream",
          "name": "stdout",
          "text": [
            "########## Epoch 5\n"
          ]
        },
        {
          "output_type": "stream",
          "name": "stderr",
          "text": [
            "100%|██████████| 6/6 [00:00<00:00, 13.48it/s]\n",
            "100%|██████████| 6/6 [00:00<00:00, 20.42it/s]\n"
          ]
        },
        {
          "output_type": "stream",
          "name": "stdout",
          "text": [
            "Train loss: 0.391227126121521\tVal loss: 0.5265888571739197\tTrain acc: 96.80208333333333\tVal acc: 83.46354166666667\n"
          ]
        },
        {
          "output_type": "stream",
          "name": "stderr",
          "text": [
            "100%|██████████| 3/3 [00:00<00:00, 11.22it/s]\n",
            "100%|██████████| 2/2 [00:00<00:00,  7.49it/s]\n",
            "100%|██████████| 2/2 [00:00<00:00,  7.67it/s]\n"
          ]
        },
        {
          "output_type": "stream",
          "name": "stdout",
          "text": [
            "########## Epoch 6\n"
          ]
        },
        {
          "output_type": "stream",
          "name": "stderr",
          "text": [
            "100%|██████████| 6/6 [00:00<00:00, 14.41it/s]\n",
            "100%|██████████| 6/6 [00:00<00:00, 19.52it/s]\n"
          ]
        },
        {
          "output_type": "stream",
          "name": "stdout",
          "text": [
            "Train loss: 0.32617589831352234\tVal loss: 0.60532546043396\tTrain acc: 97.453125\tVal acc: 66.14583333333333\n"
          ]
        },
        {
          "output_type": "stream",
          "name": "stderr",
          "text": [
            "100%|██████████| 3/3 [00:00<00:00, 10.73it/s]\n",
            "100%|██████████| 2/2 [00:00<00:00,  7.96it/s]\n",
            "100%|██████████| 2/2 [00:00<00:00,  7.10it/s]\n"
          ]
        },
        {
          "output_type": "stream",
          "name": "stdout",
          "text": [
            "########## Epoch 7\n"
          ]
        },
        {
          "output_type": "stream",
          "name": "stderr",
          "text": [
            "100%|██████████| 6/6 [00:00<00:00, 14.38it/s]\n",
            "100%|██████████| 6/6 [00:00<00:00, 19.93it/s]\n"
          ]
        },
        {
          "output_type": "stream",
          "name": "stdout",
          "text": [
            "Train loss: 0.2770521938800812\tVal loss: 0.41793835163116455\tTrain acc: 97.0625\tVal acc: 79.55729166666667\n"
          ]
        },
        {
          "output_type": "stream",
          "name": "stderr",
          "text": [
            "100%|██████████| 3/3 [00:00<00:00, 10.90it/s]\n",
            "100%|██████████| 2/2 [00:00<00:00,  7.45it/s]\n",
            "100%|██████████| 2/2 [00:00<00:00,  7.07it/s]\n"
          ]
        },
        {
          "output_type": "stream",
          "name": "stdout",
          "text": [
            "########## Epoch 8\n"
          ]
        },
        {
          "output_type": "stream",
          "name": "stderr",
          "text": [
            "100%|██████████| 6/6 [00:00<00:00, 13.87it/s]\n",
            "100%|██████████| 6/6 [00:00<00:00, 19.63it/s]\n"
          ]
        },
        {
          "output_type": "stream",
          "name": "stdout",
          "text": [
            "Train loss: 0.2534562647342682\tVal loss: 0.42795905470848083\tTrain acc: 97.32291666666667\tVal acc: 77.21354166666667\n"
          ]
        },
        {
          "output_type": "stream",
          "name": "stderr",
          "text": [
            "100%|██████████| 3/3 [00:00<00:00, 10.80it/s]\n",
            "100%|██████████| 2/2 [00:00<00:00,  7.62it/s]\n",
            "100%|██████████| 2/2 [00:00<00:00,  7.33it/s]\n"
          ]
        },
        {
          "output_type": "stream",
          "name": "stdout",
          "text": [
            "########## Epoch 9\n"
          ]
        },
        {
          "output_type": "stream",
          "name": "stderr",
          "text": [
            "100%|██████████| 6/6 [00:00<00:00, 14.01it/s]\n",
            "100%|██████████| 6/6 [00:00<00:00, 19.11it/s]\n"
          ]
        },
        {
          "output_type": "stream",
          "name": "stdout",
          "text": [
            "Train loss: 0.2341732531785965\tVal loss: 0.485066294670105\tTrain acc: 97.58333333333333\tVal acc: 72.39583333333333\n"
          ]
        },
        {
          "output_type": "stream",
          "name": "stderr",
          "text": [
            "100%|██████████| 3/3 [00:00<00:00, 10.48it/s]\n",
            "100%|██████████| 2/2 [00:00<00:00,  7.64it/s]\n",
            "100%|██████████| 2/2 [00:00<00:00,  7.80it/s]\n"
          ]
        },
        {
          "output_type": "stream",
          "name": "stdout",
          "text": [
            "########## Epoch 10\n"
          ]
        },
        {
          "output_type": "stream",
          "name": "stderr",
          "text": [
            "100%|██████████| 6/6 [00:00<00:00, 13.06it/s]\n",
            "100%|██████████| 6/6 [00:00<00:00, 20.29it/s]\n"
          ]
        },
        {
          "output_type": "stream",
          "name": "stdout",
          "text": [
            "Train loss: 0.23076628148555756\tVal loss: 0.5865424275398254\tTrain acc: 96.51041666666667\tVal acc: 67.96875\n"
          ]
        },
        {
          "output_type": "stream",
          "name": "stderr",
          "text": [
            "100%|██████████| 3/3 [00:00<00:00, 10.67it/s]\n",
            "100%|██████████| 2/2 [00:00<00:00,  7.05it/s]\n",
            "100%|██████████| 2/2 [00:00<00:00,  7.36it/s]\n"
          ]
        },
        {
          "output_type": "stream",
          "name": "stdout",
          "text": [
            "########## Epoch 11\n"
          ]
        },
        {
          "output_type": "stream",
          "name": "stderr",
          "text": [
            "100%|██████████| 6/6 [00:00<00:00, 13.66it/s]\n",
            "100%|██████████| 6/6 [00:00<00:00, 17.90it/s]\n"
          ]
        },
        {
          "output_type": "stream",
          "name": "stdout",
          "text": [
            "Train loss: 0.19915930926799774\tVal loss: 0.5470210909843445\tTrain acc: 97.78645833333333\tVal acc: 67.83854166666667\n"
          ]
        },
        {
          "output_type": "stream",
          "name": "stderr",
          "text": [
            "100%|██████████| 3/3 [00:00<00:00, 11.26it/s]\n",
            "100%|██████████| 2/2 [00:00<00:00,  7.39it/s]\n",
            "100%|██████████| 2/2 [00:00<00:00,  7.55it/s]\n"
          ]
        },
        {
          "output_type": "stream",
          "name": "stdout",
          "text": [
            "########## Epoch 12\n"
          ]
        },
        {
          "output_type": "stream",
          "name": "stderr",
          "text": [
            "100%|██████████| 6/6 [00:00<00:00, 13.54it/s]\n",
            "100%|██████████| 6/6 [00:00<00:00, 19.79it/s]\n"
          ]
        },
        {
          "output_type": "stream",
          "name": "stdout",
          "text": [
            "Train loss: 0.1830396056175232\tVal loss: 0.5083370804786682\tTrain acc: 97.58333333333333\tVal acc: 71.484375\n"
          ]
        },
        {
          "output_type": "stream",
          "name": "stderr",
          "text": [
            "100%|██████████| 3/3 [00:00<00:00, 10.99it/s]\n",
            "100%|██████████| 2/2 [00:00<00:00,  6.99it/s]\n",
            "100%|██████████| 2/2 [00:00<00:00,  7.64it/s]\n"
          ]
        },
        {
          "output_type": "stream",
          "name": "stdout",
          "text": [
            "########## Epoch 13\n"
          ]
        },
        {
          "output_type": "stream",
          "name": "stderr",
          "text": [
            "100%|██████████| 6/6 [00:00<00:00, 13.84it/s]\n",
            "100%|██████████| 6/6 [00:00<00:00, 18.89it/s]\n"
          ]
        },
        {
          "output_type": "stream",
          "name": "stdout",
          "text": [
            "Train loss: 0.18554051220417023\tVal loss: 0.5637093186378479\tTrain acc: 97.30729166666667\tVal acc: 67.1875\n"
          ]
        },
        {
          "output_type": "stream",
          "name": "stderr",
          "text": [
            "100%|██████████| 3/3 [00:00<00:00, 10.70it/s]\n",
            "100%|██████████| 2/2 [00:00<00:00,  7.64it/s]\n",
            "100%|██████████| 2/2 [00:00<00:00,  7.34it/s]\n"
          ]
        },
        {
          "output_type": "stream",
          "name": "stdout",
          "text": [
            "########## Epoch 14\n"
          ]
        },
        {
          "output_type": "stream",
          "name": "stderr",
          "text": [
            "100%|██████████| 6/6 [00:00<00:00, 13.77it/s]\n",
            "100%|██████████| 6/6 [00:00<00:00, 19.27it/s]\n"
          ]
        },
        {
          "output_type": "stream",
          "name": "stdout",
          "text": [
            "Train loss: 0.16416601836681366\tVal loss: 0.6672045588493347\tTrain acc: 97.71354166666667\tVal acc: 62.760416666666664\n"
          ]
        },
        {
          "output_type": "stream",
          "name": "stderr",
          "text": [
            "100%|██████████| 3/3 [00:00<00:00, 10.60it/s]\n",
            "100%|██████████| 2/2 [00:00<00:00,  7.67it/s]\n",
            "100%|██████████| 2/2 [00:00<00:00,  7.13it/s]\n"
          ]
        },
        {
          "output_type": "stream",
          "name": "stdout",
          "text": [
            "########## Epoch 15\n"
          ]
        },
        {
          "output_type": "stream",
          "name": "stderr",
          "text": [
            "100%|██████████| 6/6 [00:00<00:00, 12.71it/s]\n",
            "100%|██████████| 6/6 [00:00<00:00, 19.37it/s]\n"
          ]
        },
        {
          "output_type": "stream",
          "name": "stdout",
          "text": [
            "Train loss: 0.15283425152301788\tVal loss: 0.5589911937713623\tTrain acc: 97.58333333333333\tVal acc: 70.703125\n"
          ]
        },
        {
          "output_type": "stream",
          "name": "stderr",
          "text": [
            "100%|██████████| 3/3 [00:00<00:00, 10.49it/s]\n",
            "100%|██████████| 2/2 [00:00<00:00,  7.14it/s]\n",
            "100%|██████████| 2/2 [00:00<00:00,  7.50it/s]\n"
          ]
        },
        {
          "output_type": "stream",
          "name": "stdout",
          "text": [
            "########## Epoch 16\n"
          ]
        },
        {
          "output_type": "stream",
          "name": "stderr",
          "text": [
            "100%|██████████| 6/6 [00:00<00:00, 13.99it/s]\n",
            "100%|██████████| 6/6 [00:00<00:00, 18.59it/s]\n"
          ]
        },
        {
          "output_type": "stream",
          "name": "stdout",
          "text": [
            "Train loss: 0.14850306510925293\tVal loss: 0.7407100796699524\tTrain acc: 97.58333333333333\tVal acc: 58.59375\n"
          ]
        },
        {
          "output_type": "stream",
          "name": "stderr",
          "text": [
            "100%|██████████| 3/3 [00:00<00:00, 11.13it/s]\n",
            "100%|██████████| 2/2 [00:00<00:00,  7.64it/s]\n",
            "100%|██████████| 2/2 [00:00<00:00,  7.37it/s]\n"
          ]
        },
        {
          "output_type": "stream",
          "name": "stdout",
          "text": [
            "########## Epoch 17\n"
          ]
        },
        {
          "output_type": "stream",
          "name": "stderr",
          "text": [
            "100%|██████████| 6/6 [00:00<00:00, 13.31it/s]\n",
            "100%|██████████| 6/6 [00:00<00:00, 19.02it/s]\n"
          ]
        },
        {
          "output_type": "stream",
          "name": "stdout",
          "text": [
            "Train loss: 0.13840876519680023\tVal loss: 0.5821928381919861\tTrain acc: 97.84375\tVal acc: 70.703125\n"
          ]
        },
        {
          "output_type": "stream",
          "name": "stderr",
          "text": [
            "100%|██████████| 3/3 [00:00<00:00, 10.77it/s]\n",
            "100%|██████████| 2/2 [00:00<00:00,  6.97it/s]\n",
            "100%|██████████| 2/2 [00:00<00:00,  7.27it/s]\n"
          ]
        },
        {
          "output_type": "stream",
          "name": "stdout",
          "text": [
            "########## Epoch 18\n"
          ]
        },
        {
          "output_type": "stream",
          "name": "stderr",
          "text": [
            "100%|██████████| 6/6 [00:00<00:00, 13.98it/s]\n",
            "100%|██████████| 6/6 [00:00<00:00, 18.64it/s]\n"
          ]
        },
        {
          "output_type": "stream",
          "name": "stdout",
          "text": [
            "Train loss: 0.13463358581066132\tVal loss: 0.5170360207557678\tTrain acc: 97.97395833333333\tVal acc: 70.57291666666667\n"
          ]
        },
        {
          "output_type": "stream",
          "name": "stderr",
          "text": [
            "100%|██████████| 3/3 [00:00<00:00, 10.58it/s]\n",
            "100%|██████████| 2/2 [00:00<00:00,  7.42it/s]\n",
            "100%|██████████| 2/2 [00:00<00:00,  7.31it/s]\n"
          ]
        },
        {
          "output_type": "stream",
          "name": "stdout",
          "text": [
            "########## Epoch 19\n"
          ]
        },
        {
          "output_type": "stream",
          "name": "stderr",
          "text": [
            "100%|██████████| 6/6 [00:00<00:00, 13.56it/s]\n",
            "100%|██████████| 6/6 [00:00<00:00, 18.60it/s]\n"
          ]
        },
        {
          "output_type": "stream",
          "name": "stdout",
          "text": [
            "Train loss: 0.13307644426822662\tVal loss: 0.49280667304992676\tTrain acc: 97.58333333333333\tVal acc: 74.34895833333333\n"
          ]
        },
        {
          "output_type": "stream",
          "name": "stderr",
          "text": [
            "100%|██████████| 3/3 [00:00<00:00,  9.80it/s]\n",
            "100%|██████████| 2/2 [00:00<00:00,  7.16it/s]\n",
            "100%|██████████| 2/2 [00:00<00:00,  7.53it/s]\n"
          ]
        },
        {
          "output_type": "stream",
          "name": "stdout",
          "text": [
            "########## Epoch 20\n"
          ]
        },
        {
          "output_type": "stream",
          "name": "stderr",
          "text": [
            "100%|██████████| 6/6 [00:00<00:00, 13.06it/s]\n",
            "100%|██████████| 6/6 [00:00<00:00, 18.63it/s]\n"
          ]
        },
        {
          "output_type": "stream",
          "name": "stdout",
          "text": [
            "Train loss: 0.1274838000535965\tVal loss: 0.5792807936668396\tTrain acc: 97.84375\tVal acc: 70.3125\n"
          ]
        },
        {
          "output_type": "stream",
          "name": "stderr",
          "text": [
            "100%|██████████| 3/3 [00:00<00:00, 11.22it/s]\n",
            "100%|██████████| 2/2 [00:00<00:00,  7.32it/s]\n",
            "100%|██████████| 2/2 [00:00<00:00,  7.39it/s]\n"
          ]
        },
        {
          "output_type": "stream",
          "name": "stdout",
          "text": [
            "########## Epoch 21\n"
          ]
        },
        {
          "output_type": "stream",
          "name": "stderr",
          "text": [
            "100%|██████████| 6/6 [00:00<00:00, 13.96it/s]\n",
            "100%|██████████| 6/6 [00:00<00:00, 19.39it/s]\n"
          ]
        },
        {
          "output_type": "stream",
          "name": "stdout",
          "text": [
            "Train loss: 0.1318744570016861\tVal loss: 0.5046333074569702\tTrain acc: 97.640625\tVal acc: 74.47916666666667\n"
          ]
        },
        {
          "output_type": "stream",
          "name": "stderr",
          "text": [
            "100%|██████████| 3/3 [00:00<00:00, 10.60it/s]\n",
            "100%|██████████| 2/2 [00:00<00:00,  7.00it/s]\n",
            "100%|██████████| 2/2 [00:00<00:00,  7.41it/s]\n"
          ]
        },
        {
          "output_type": "stream",
          "name": "stdout",
          "text": [
            "########## Epoch 22\n"
          ]
        },
        {
          "output_type": "stream",
          "name": "stderr",
          "text": [
            "100%|██████████| 6/6 [00:00<00:00, 13.39it/s]\n",
            "100%|██████████| 6/6 [00:00<00:00, 19.66it/s]\n"
          ]
        },
        {
          "output_type": "stream",
          "name": "stdout",
          "text": [
            "Train loss: 0.12164312601089478\tVal loss: 0.6505308747291565\tTrain acc: 97.90104166666667\tVal acc: 66.40625\n"
          ]
        },
        {
          "output_type": "stream",
          "name": "stderr",
          "text": [
            "100%|██████████| 3/3 [00:00<00:00, 10.54it/s]\n",
            "100%|██████████| 2/2 [00:00<00:00,  7.09it/s]\n",
            "100%|██████████| 2/2 [00:00<00:00,  7.54it/s]\n"
          ]
        },
        {
          "output_type": "stream",
          "name": "stdout",
          "text": [
            "########## Epoch 23\n"
          ]
        },
        {
          "output_type": "stream",
          "name": "stderr",
          "text": [
            "100%|██████████| 6/6 [00:00<00:00, 13.70it/s]\n",
            "100%|██████████| 6/6 [00:00<00:00, 18.96it/s]\n"
          ]
        },
        {
          "output_type": "stream",
          "name": "stdout",
          "text": [
            "Train loss: 0.11482149362564087\tVal loss: 0.5800649523735046\tTrain acc: 98.03125\tVal acc: 70.44270833333333\n"
          ]
        },
        {
          "output_type": "stream",
          "name": "stderr",
          "text": [
            "100%|██████████| 3/3 [00:00<00:00, 11.19it/s]\n",
            "100%|██████████| 2/2 [00:00<00:00,  7.10it/s]\n",
            "100%|██████████| 2/2 [00:00<00:00,  7.48it/s]\n"
          ]
        },
        {
          "output_type": "stream",
          "name": "stdout",
          "text": [
            "########## Epoch 24\n"
          ]
        },
        {
          "output_type": "stream",
          "name": "stderr",
          "text": [
            "100%|██████████| 6/6 [00:00<00:00, 14.12it/s]\n",
            "100%|██████████| 6/6 [00:00<00:00, 20.58it/s]\n"
          ]
        },
        {
          "output_type": "stream",
          "name": "stdout",
          "text": [
            "Train loss: 0.11255526542663574\tVal loss: 0.7503605484962463\tTrain acc: 97.97395833333333\tVal acc: 62.369791666666664\n"
          ]
        },
        {
          "output_type": "stream",
          "name": "stderr",
          "text": [
            "100%|██████████| 3/3 [00:00<00:00, 10.44it/s]\n",
            "100%|██████████| 2/2 [00:00<00:00,  7.81it/s]\n",
            "100%|██████████| 2/2 [00:00<00:00,  7.41it/s]\n"
          ]
        },
        {
          "output_type": "display_data",
          "data": {
            "text/plain": [
              "<IPython.core.display.HTML object>"
            ],
            "text/html": [
              "Waiting for W&B process to finish... <strong style=\"color:green\">(success).</strong>"
            ]
          },
          "metadata": {}
        },
        {
          "output_type": "display_data",
          "data": {
            "text/plain": [
              "VBox(children=(Label(value='0.000 MB of 0.000 MB uploaded (0.000 MB deduped)\\r'), FloatProgress(value=1.0, max…"
            ],
            "application/vnd.jupyter.widget-view+json": {
              "version_major": 2,
              "version_minor": 0,
              "model_id": "6d1ff203149f46b1b0e73363e268b8f5"
            }
          },
          "metadata": {}
        },
        {
          "output_type": "display_data",
          "data": {
            "text/plain": [
              "<IPython.core.display.HTML object>"
            ],
            "text/html": [
              "<style>\n",
              "    table.wandb td:nth-child(1) { padding: 0 10px; text-align: left ; width: auto;} td:nth-child(2) {text-align: left ; width: 100%}\n",
              "    .wandb-row { display: flex; flex-direction: row; flex-wrap: wrap; justify-content: flex-start; width: 100% }\n",
              "    .wandb-col { display: flex; flex-direction: column; flex-basis: 100%; flex: 1; padding: 10px; }\n",
              "    </style>\n",
              "<div class=\"wandb-row\"><div class=\"wandb-col\"><h3>Run history:</h3><br/><table class=\"wandb\"><tr><td>task_0_prevtask_0_val_acc</td><td>▁▅▇█▇█▇▇█▇▇█▇▇▅▆▅█▇▇▇▇██▇</td></tr><tr><td>task_0_prevtask_0_val_loss</td><td>█▆▄▃▃▂▃▃▁▃▄▂▂▅▆▃▆▂▄▃▄▄▃▂▆</td></tr><tr><td>task_0_train_acc</td><td>▁▇▇▇▇▇█▇▇▇▇████▇██▇█▇████</td></tr><tr><td>task_0_train_loss</td><td>█▃▂▂▂▂▂▂▂▂▂▁▁▁▁▂▁▁▂▁▁▁▁▁▁</td></tr><tr><td>task_0_val_acc</td><td>▁▅▅▇██▆▇█▇████▆▆▆█▆▅███▅▆</td></tr><tr><td>task_0_val_loss</td><td>█▄▅▃▁▁▃▂▁▂▂▂▁▂▃▄▄▂▆▃▂▂▂█▄</td></tr><tr><td>task_1_prevtask_0_val_acc</td><td>███▇▇▇▇▇▆▆▆▄▅▄▄▁▄▃▂▃▂▃▂▃▂</td></tr><tr><td>task_1_prevtask_0_val_loss</td><td>▁▁▁▂▂▂▃▂▂▃▃▄▃▅▄▆▅▅▅▆▆▆█▆█</td></tr><tr><td>task_1_prevtask_1_val_acc</td><td>▁▁▁▁▁▁▁▁▁▁▁▁▁▁▁▁▁▁▃▅▇▇▇██</td></tr><tr><td>task_1_prevtask_1_val_loss</td><td>█▇▇▆▆▅▅▅▄▄▄▃▃▃▃▂▂▂▂▂▁▁▁▁▁</td></tr><tr><td>task_1_train_acc</td><td>▁▁▁▁▁▁▁▁▁▁▁▁▁▁▁▁▁▁▂▅▆▇▇██</td></tr><tr><td>task_1_train_loss</td><td>█▇▇▆▆▅▅▅▄▄▄▃▃▃▃▂▂▂▂▂▁▁▁▁▁</td></tr><tr><td>task_1_val_acc</td><td>▂▂▂▂▂▂▂▂▂▂▂▂▁▁▁▁▁▁▄▆▇▇▇██</td></tr><tr><td>task_1_val_loss</td><td>█▇▇▆▆▅▅▄▄▄▃▃▃▃▃▂▂▂▂▁▁▁▁▁▁</td></tr><tr><td>task_2_prevtask_0_val_acc</td><td>▁▄▆▆██▆████▅▆▇▇▇▇▇▇▆▆▇▇██</td></tr><tr><td>task_2_prevtask_0_val_loss</td><td>█▅▄▃▁▁▃▁▂▂▁▃▃▁▂▂▂▁▂▃▄▂▃▂▂</td></tr><tr><td>task_2_prevtask_1_val_acc</td><td>▇▇██▇▆▄▃▂▂▂▂▁▁▁▁▁▁▁▁▁▁▁▁▁</td></tr><tr><td>task_2_prevtask_1_val_loss</td><td>▁▁▂▂▃▃▄▄▅▅▅▆▆▆▆▆▇▇▇▇▇████</td></tr><tr><td>task_2_prevtask_2_val_acc</td><td>▁▅▇██████████████████████</td></tr><tr><td>task_2_prevtask_2_val_loss</td><td>█▆▅▄▃▂▂▂▂▂▁▂▁▁▂▁▁▁▁▁▁▁▁▁▁</td></tr><tr><td>task_2_train_acc</td><td>▁▃▆▇█████████████████████</td></tr><tr><td>task_2_train_loss</td><td>█▇▅▄▃▃▂▂▂▂▂▁▁▁▁▁▁▁▁▁▁▁▁▁▁</td></tr><tr><td>task_2_val_acc</td><td>▅▆▇█▇▆▃▅▅▄▃▃▄▃▂▃▁▃▃▄▃▄▃▃▂</td></tr><tr><td>task_2_val_loss</td><td>▇▆▄▂▄▃▅▁▁▂▅▄▃▄▆▄█▄▃▃▄▃▆▄█</td></tr></table><br/></div><div class=\"wandb-col\"><h3>Run summary:</h3><br/><table class=\"wandb\"><tr><td>task_0_prevtask_0_val_acc</td><td>95.69547</td></tr><tr><td>task_0_prevtask_0_val_loss</td><td>0.20872</td></tr><tr><td>task_0_train_acc</td><td>98.75</td></tr><tr><td>task_0_train_loss</td><td>0.03681</td></tr><tr><td>task_0_val_acc</td><td>95.69547</td></tr><tr><td>task_0_val_loss</td><td>0.15442</td></tr><tr><td>task_1_prevtask_0_val_acc</td><td>86.44301</td></tr><tr><td>task_1_prevtask_0_val_loss</td><td>0.5472</td></tr><tr><td>task_1_prevtask_1_val_acc</td><td>67.26722</td></tr><tr><td>task_1_prevtask_1_val_loss</td><td>0.81101</td></tr><tr><td>task_1_train_acc</td><td>70.64062</td></tr><tr><td>task_1_train_loss</td><td>0.83285</td></tr><tr><td>task_1_val_acc</td><td>79.39335</td></tr><tr><td>task_1_val_loss</td><td>0.61398</td></tr><tr><td>task_2_prevtask_0_val_acc</td><td>96.15502</td></tr><tr><td>task_2_prevtask_0_val_loss</td><td>0.14796</td></tr><tr><td>task_2_prevtask_1_val_acc</td><td>0.0</td></tr><tr><td>task_2_prevtask_1_val_loss</td><td>1.77667</td></tr><tr><td>task_2_prevtask_2_val_acc</td><td>96.63584</td></tr><tr><td>task_2_prevtask_2_val_loss</td><td>0.15983</td></tr><tr><td>task_2_train_acc</td><td>97.97396</td></tr><tr><td>task_2_train_loss</td><td>0.11256</td></tr><tr><td>task_2_val_acc</td><td>62.36979</td></tr><tr><td>task_2_val_loss</td><td>0.75036</td></tr></table><br/></div></div>"
            ]
          },
          "metadata": {}
        },
        {
          "output_type": "display_data",
          "data": {
            "text/plain": [
              "<IPython.core.display.HTML object>"
            ],
            "text/html": [
              "Synced <strong style=\"color:#cdcd00\">ring_imagecondition_yesno_roadcondition_21_09_03h54m53s_mul</strong>: <a href=\"https://wandb.ai/compyle/continual_vqa_final/runs/1nsmjasx\" target=\"_blank\">https://wandb.ai/compyle/continual_vqa_final/runs/1nsmjasx</a><br/>Synced 5 W&B file(s), 0 media file(s), 0 artifact file(s) and 0 other file(s)"
            ]
          },
          "metadata": {}
        },
        {
          "output_type": "display_data",
          "data": {
            "text/plain": [
              "<IPython.core.display.HTML object>"
            ],
            "text/html": [
              "Find logs at: <code>./wandb/run-20220921_035453-1nsmjasx/logs</code>"
            ]
          },
          "metadata": {}
        },
        {
          "output_type": "display_data",
          "data": {
            "text/plain": [
              "<IPython.core.display.HTML object>"
            ],
            "text/html": [
              "Tracking run with wandb version 0.13.3"
            ]
          },
          "metadata": {}
        },
        {
          "output_type": "display_data",
          "data": {
            "text/plain": [
              "<IPython.core.display.HTML object>"
            ],
            "text/html": [
              "Run data is saved locally in <code>/content/wandb/run-20220921_035650-3gyg4ksl</code>"
            ]
          },
          "metadata": {}
        },
        {
          "output_type": "display_data",
          "data": {
            "text/plain": [
              "<IPython.core.display.HTML object>"
            ],
            "text/html": [
              "Syncing run <strong><a href=\"https://wandb.ai/compyle/continual_vqa_final/runs/3gyg4ksl\" target=\"_blank\">ring_imagecondition_roadcondition_yesno_21_09_03h56m50s_mul</a></strong> to <a href=\"https://wandb.ai/compyle/continual_vqa_final\" target=\"_blank\">Weights & Biases</a> (<a href=\"https://wandb.me/run\" target=\"_blank\">docs</a>)<br/>"
            ]
          },
          "metadata": {}
        },
        {
          "output_type": "stream",
          "name": "stdout",
          "text": [
            "########## Epoch 0\n"
          ]
        },
        {
          "output_type": "stream",
          "name": "stderr",
          "text": [
            "100%|██████████| 10/10 [00:00<00:00, 15.99it/s]\n",
            "100%|██████████| 3/3 [00:00<00:00, 10.98it/s]\n"
          ]
        },
        {
          "output_type": "stream",
          "name": "stdout",
          "text": [
            "Train loss: 0.6844617128372192\tVal loss: 0.22323162853717804\tTrain acc: 77.86458333333334\tVal acc: 86.44301470588236\n"
          ]
        },
        {
          "output_type": "stream",
          "name": "stderr",
          "text": [
            "100%|██████████| 3/3 [00:00<00:00, 10.38it/s]\n"
          ]
        },
        {
          "output_type": "stream",
          "name": "stdout",
          "text": [
            "########## Epoch 1\n"
          ]
        },
        {
          "output_type": "stream",
          "name": "stderr",
          "text": [
            "100%|██████████| 10/10 [00:00<00:00, 17.80it/s]\n",
            "100%|██████████| 3/3 [00:00<00:00, 10.55it/s]\n"
          ]
        },
        {
          "output_type": "stream",
          "name": "stdout",
          "text": [
            "Train loss: 0.2883269488811493\tVal loss: 0.11272313445806503\tTrain acc: 91.35416666666666\tVal acc: 97.1966911764706\n"
          ]
        },
        {
          "output_type": "stream",
          "name": "stderr",
          "text": [
            "100%|██████████| 3/3 [00:00<00:00,  9.81it/s]\n"
          ]
        },
        {
          "output_type": "stream",
          "name": "stdout",
          "text": [
            "########## Epoch 2\n"
          ]
        },
        {
          "output_type": "stream",
          "name": "stderr",
          "text": [
            "100%|██████████| 10/10 [00:00<00:00, 18.41it/s]\n",
            "100%|██████████| 3/3 [00:00<00:00, 10.32it/s]\n"
          ]
        },
        {
          "output_type": "stream",
          "name": "stdout",
          "text": [
            "Train loss: 0.16081205010414124\tVal loss: 0.10027056932449341\tTrain acc: 95.390625\tVal acc: 97.45710784313725\n"
          ]
        },
        {
          "output_type": "stream",
          "name": "stderr",
          "text": [
            "100%|██████████| 3/3 [00:00<00:00, 11.01it/s]\n"
          ]
        },
        {
          "output_type": "stream",
          "name": "stdout",
          "text": [
            "########## Epoch 3\n"
          ]
        },
        {
          "output_type": "stream",
          "name": "stderr",
          "text": [
            "100%|██████████| 10/10 [00:00<00:00, 18.19it/s]\n",
            "100%|██████████| 3/3 [00:00<00:00,  9.99it/s]\n"
          ]
        },
        {
          "output_type": "stream",
          "name": "stdout",
          "text": [
            "Train loss: 0.14765945076942444\tVal loss: 0.08696111291646957\tTrain acc: 95.78125\tVal acc: 96.73713235294117\n"
          ]
        },
        {
          "output_type": "stream",
          "name": "stderr",
          "text": [
            "100%|██████████| 3/3 [00:00<00:00, 10.21it/s]\n"
          ]
        },
        {
          "output_type": "stream",
          "name": "stdout",
          "text": [
            "########## Epoch 4\n"
          ]
        },
        {
          "output_type": "stream",
          "name": "stderr",
          "text": [
            "100%|██████████| 10/10 [00:00<00:00, 17.65it/s]\n",
            "100%|██████████| 3/3 [00:00<00:00, 10.23it/s]\n"
          ]
        },
        {
          "output_type": "stream",
          "name": "stdout",
          "text": [
            "Train loss: 0.12317142635583878\tVal loss: 0.07292873412370682\tTrain acc: 96.09375\tVal acc: 98.17708333333333\n"
          ]
        },
        {
          "output_type": "stream",
          "name": "stderr",
          "text": [
            "100%|██████████| 3/3 [00:00<00:00, 10.75it/s]\n"
          ]
        },
        {
          "output_type": "stream",
          "name": "stdout",
          "text": [
            "########## Epoch 5\n"
          ]
        },
        {
          "output_type": "stream",
          "name": "stderr",
          "text": [
            "100%|██████████| 10/10 [00:00<00:00, 17.70it/s]\n",
            "100%|██████████| 3/3 [00:00<00:00, 10.68it/s]\n"
          ]
        },
        {
          "output_type": "stream",
          "name": "stdout",
          "text": [
            "Train loss: 0.11336009204387665\tVal loss: 0.05978284776210785\tTrain acc: 96.5625\tVal acc: 98.4375\n"
          ]
        },
        {
          "output_type": "stream",
          "name": "stderr",
          "text": [
            "100%|██████████| 3/3 [00:00<00:00, 10.47it/s]\n"
          ]
        },
        {
          "output_type": "stream",
          "name": "stdout",
          "text": [
            "########## Epoch 6\n"
          ]
        },
        {
          "output_type": "stream",
          "name": "stderr",
          "text": [
            "100%|██████████| 10/10 [00:00<00:00, 17.88it/s]\n",
            "100%|██████████| 3/3 [00:00<00:00, 10.08it/s]\n"
          ]
        },
        {
          "output_type": "stream",
          "name": "stdout",
          "text": [
            "Train loss: 0.10842045396566391\tVal loss: 0.07749902456998825\tTrain acc: 96.640625\tVal acc: 98.4375\n"
          ]
        },
        {
          "output_type": "stream",
          "name": "stderr",
          "text": [
            "100%|██████████| 3/3 [00:00<00:00, 10.34it/s]\n"
          ]
        },
        {
          "output_type": "stream",
          "name": "stdout",
          "text": [
            "########## Epoch 7\n"
          ]
        },
        {
          "output_type": "stream",
          "name": "stderr",
          "text": [
            "100%|██████████| 10/10 [00:00<00:00, 18.21it/s]\n",
            "100%|██████████| 3/3 [00:00<00:00, 10.40it/s]\n"
          ]
        },
        {
          "output_type": "stream",
          "name": "stdout",
          "text": [
            "Train loss: 0.10450726747512817\tVal loss: 0.052177995443344116\tTrain acc: 96.484375\tVal acc: 98.69791666666667\n"
          ]
        },
        {
          "output_type": "stream",
          "name": "stderr",
          "text": [
            "100%|██████████| 3/3 [00:00<00:00,  9.83it/s]\n"
          ]
        },
        {
          "output_type": "stream",
          "name": "stdout",
          "text": [
            "########## Epoch 8\n"
          ]
        },
        {
          "output_type": "stream",
          "name": "stderr",
          "text": [
            "100%|██████████| 10/10 [00:00<00:00, 17.53it/s]\n",
            "100%|██████████| 3/3 [00:00<00:00, 10.12it/s]\n"
          ]
        },
        {
          "output_type": "stream",
          "name": "stdout",
          "text": [
            "Train loss: 0.10640199482440948\tVal loss: 0.07342997938394547\tTrain acc: 95.13020833333334\tVal acc: 98.4375\n"
          ]
        },
        {
          "output_type": "stream",
          "name": "stderr",
          "text": [
            "100%|██████████| 3/3 [00:00<00:00,  9.72it/s]\n"
          ]
        },
        {
          "output_type": "stream",
          "name": "stdout",
          "text": [
            "########## Epoch 9\n"
          ]
        },
        {
          "output_type": "stream",
          "name": "stderr",
          "text": [
            "100%|██████████| 10/10 [00:00<00:00, 18.46it/s]\n",
            "100%|██████████| 3/3 [00:00<00:00, 10.55it/s]\n"
          ]
        },
        {
          "output_type": "stream",
          "name": "stdout",
          "text": [
            "Train loss: 0.11145806312561035\tVal loss: 0.11631807684898376\tTrain acc: 95.52083333333334\tVal acc: 96.99754901960785\n"
          ]
        },
        {
          "output_type": "stream",
          "name": "stderr",
          "text": [
            "100%|██████████| 3/3 [00:00<00:00, 10.44it/s]\n"
          ]
        },
        {
          "output_type": "stream",
          "name": "stdout",
          "text": [
            "########## Epoch 10\n"
          ]
        },
        {
          "output_type": "stream",
          "name": "stderr",
          "text": [
            "100%|██████████| 10/10 [00:00<00:00, 17.78it/s]\n",
            "100%|██████████| 3/3 [00:00<00:00,  9.99it/s]\n"
          ]
        },
        {
          "output_type": "stream",
          "name": "stdout",
          "text": [
            "Train loss: 0.13202625513076782\tVal loss: 0.12733332812786102\tTrain acc: 95.859375\tVal acc: 95.95588235294117\n"
          ]
        },
        {
          "output_type": "stream",
          "name": "stderr",
          "text": [
            "100%|██████████| 3/3 [00:00<00:00, 10.26it/s]\n"
          ]
        },
        {
          "output_type": "stream",
          "name": "stdout",
          "text": [
            "########## Epoch 11\n"
          ]
        },
        {
          "output_type": "stream",
          "name": "stderr",
          "text": [
            "100%|██████████| 10/10 [00:00<00:00, 18.38it/s]\n",
            "100%|██████████| 3/3 [00:00<00:00, 10.39it/s]\n"
          ]
        },
        {
          "output_type": "stream",
          "name": "stdout",
          "text": [
            "Train loss: 0.09030752629041672\tVal loss: 0.06184511259198189\tTrain acc: 97.109375\tVal acc: 97.71752450980392\n"
          ]
        },
        {
          "output_type": "stream",
          "name": "stderr",
          "text": [
            "100%|██████████| 3/3 [00:00<00:00, 10.13it/s]\n"
          ]
        },
        {
          "output_type": "stream",
          "name": "stdout",
          "text": [
            "########## Epoch 12\n"
          ]
        },
        {
          "output_type": "stream",
          "name": "stderr",
          "text": [
            "100%|██████████| 10/10 [00:00<00:00, 17.48it/s]\n",
            "100%|██████████| 3/3 [00:00<00:00, 10.13it/s]\n"
          ]
        },
        {
          "output_type": "stream",
          "name": "stdout",
          "text": [
            "Train loss: 0.07622374594211578\tVal loss: 0.059531521052122116\tTrain acc: 97.1875\tVal acc: 98.17708333333333\n"
          ]
        },
        {
          "output_type": "stream",
          "name": "stderr",
          "text": [
            "100%|██████████| 3/3 [00:00<00:00, 10.61it/s]\n"
          ]
        },
        {
          "output_type": "stream",
          "name": "stdout",
          "text": [
            "########## Epoch 13\n"
          ]
        },
        {
          "output_type": "stream",
          "name": "stderr",
          "text": [
            "100%|██████████| 10/10 [00:00<00:00, 17.42it/s]\n",
            "100%|██████████| 3/3 [00:00<00:00, 10.19it/s]\n"
          ]
        },
        {
          "output_type": "stream",
          "name": "stdout",
          "text": [
            "Train loss: 0.07865586876869202\tVal loss: 0.08753892034292221\tTrain acc: 97.421875\tVal acc: 97.1966911764706\n"
          ]
        },
        {
          "output_type": "stream",
          "name": "stderr",
          "text": [
            "100%|██████████| 3/3 [00:00<00:00, 10.07it/s]\n"
          ]
        },
        {
          "output_type": "stream",
          "name": "stdout",
          "text": [
            "########## Epoch 14\n"
          ]
        },
        {
          "output_type": "stream",
          "name": "stderr",
          "text": [
            "100%|██████████| 10/10 [00:00<00:00, 18.27it/s]\n",
            "100%|██████████| 3/3 [00:00<00:00, 10.43it/s]\n"
          ]
        },
        {
          "output_type": "stream",
          "name": "stdout",
          "text": [
            "Train loss: 0.06570213288068771\tVal loss: 0.06776292622089386\tTrain acc: 97.8125\tVal acc: 97.9779411764706\n"
          ]
        },
        {
          "output_type": "stream",
          "name": "stderr",
          "text": [
            "100%|██████████| 3/3 [00:00<00:00, 10.23it/s]\n"
          ]
        },
        {
          "output_type": "stream",
          "name": "stdout",
          "text": [
            "########## Epoch 15\n"
          ]
        },
        {
          "output_type": "stream",
          "name": "stderr",
          "text": [
            "100%|██████████| 10/10 [00:00<00:00, 18.00it/s]\n",
            "100%|██████████| 3/3 [00:00<00:00,  9.83it/s]\n"
          ]
        },
        {
          "output_type": "stream",
          "name": "stdout",
          "text": [
            "Train loss: 0.06028688699007034\tVal loss: 0.05970566347241402\tTrain acc: 98.28125\tVal acc: 97.71752450980392\n"
          ]
        },
        {
          "output_type": "stream",
          "name": "stderr",
          "text": [
            "100%|██████████| 3/3 [00:00<00:00, 10.54it/s]\n"
          ]
        },
        {
          "output_type": "stream",
          "name": "stdout",
          "text": [
            "########## Epoch 16\n"
          ]
        },
        {
          "output_type": "stream",
          "name": "stderr",
          "text": [
            "100%|██████████| 10/10 [00:00<00:00, 18.06it/s]\n",
            "100%|██████████| 3/3 [00:00<00:00, 10.22it/s]\n"
          ]
        },
        {
          "output_type": "stream",
          "name": "stdout",
          "text": [
            "Train loss: 0.06147747486829758\tVal loss: 0.1261133849620819\tTrain acc: 97.96875\tVal acc: 96.27757352941177\n"
          ]
        },
        {
          "output_type": "stream",
          "name": "stderr",
          "text": [
            "100%|██████████| 3/3 [00:00<00:00, 10.65it/s]\n"
          ]
        },
        {
          "output_type": "stream",
          "name": "stdout",
          "text": [
            "########## Epoch 17\n"
          ]
        },
        {
          "output_type": "stream",
          "name": "stderr",
          "text": [
            "100%|██████████| 10/10 [00:00<00:00, 17.13it/s]\n",
            "100%|██████████| 3/3 [00:00<00:00, 10.94it/s]\n"
          ]
        },
        {
          "output_type": "stream",
          "name": "stdout",
          "text": [
            "Train loss: 0.06157369539141655\tVal loss: 0.049663301557302475\tTrain acc: 97.8125\tVal acc: 98.4375\n"
          ]
        },
        {
          "output_type": "stream",
          "name": "stderr",
          "text": [
            "100%|██████████| 3/3 [00:00<00:00, 10.86it/s]\n"
          ]
        },
        {
          "output_type": "stream",
          "name": "stdout",
          "text": [
            "########## Epoch 18\n"
          ]
        },
        {
          "output_type": "stream",
          "name": "stderr",
          "text": [
            "100%|██████████| 10/10 [00:00<00:00, 17.56it/s]\n",
            "100%|██████████| 3/3 [00:00<00:00, 10.19it/s]\n"
          ]
        },
        {
          "output_type": "stream",
          "name": "stdout",
          "text": [
            "Train loss: 0.059088341891765594\tVal loss: 0.052135955542325974\tTrain acc: 98.28125\tVal acc: 97.91666666666667\n"
          ]
        },
        {
          "output_type": "stream",
          "name": "stderr",
          "text": [
            "100%|██████████| 3/3 [00:00<00:00, 10.64it/s]\n"
          ]
        },
        {
          "output_type": "stream",
          "name": "stdout",
          "text": [
            "########## Epoch 19\n"
          ]
        },
        {
          "output_type": "stream",
          "name": "stderr",
          "text": [
            "100%|██████████| 10/10 [00:00<00:00, 17.38it/s]\n",
            "100%|██████████| 3/3 [00:00<00:00, 10.74it/s]\n"
          ]
        },
        {
          "output_type": "stream",
          "name": "stdout",
          "text": [
            "Train loss: 0.05319974943995476\tVal loss: 0.04662977531552315\tTrain acc: 98.828125\tVal acc: 98.69791666666667\n"
          ]
        },
        {
          "output_type": "stream",
          "name": "stderr",
          "text": [
            "100%|██████████| 3/3 [00:00<00:00,  9.60it/s]\n"
          ]
        },
        {
          "output_type": "stream",
          "name": "stdout",
          "text": [
            "########## Epoch 20\n"
          ]
        },
        {
          "output_type": "stream",
          "name": "stderr",
          "text": [
            "100%|██████████| 10/10 [00:00<00:00, 17.71it/s]\n",
            "100%|██████████| 3/3 [00:00<00:00,  9.92it/s]\n"
          ]
        },
        {
          "output_type": "stream",
          "name": "stdout",
          "text": [
            "Train loss: 0.04150281473994255\tVal loss: 0.050335127860307693\tTrain acc: 98.671875\tVal acc: 98.4375\n"
          ]
        },
        {
          "output_type": "stream",
          "name": "stderr",
          "text": [
            "100%|██████████| 3/3 [00:00<00:00,  9.37it/s]\n"
          ]
        },
        {
          "output_type": "stream",
          "name": "stdout",
          "text": [
            "########## Epoch 21\n"
          ]
        },
        {
          "output_type": "stream",
          "name": "stderr",
          "text": [
            "100%|██████████| 10/10 [00:00<00:00, 17.25it/s]\n",
            "100%|██████████| 3/3 [00:00<00:00,  9.86it/s]\n"
          ]
        },
        {
          "output_type": "stream",
          "name": "stdout",
          "text": [
            "Train loss: 0.04434012994170189\tVal loss: 0.05359530821442604\tTrain acc: 98.28125\tVal acc: 98.4375\n"
          ]
        },
        {
          "output_type": "stream",
          "name": "stderr",
          "text": [
            "100%|██████████| 3/3 [00:00<00:00, 10.31it/s]\n"
          ]
        },
        {
          "output_type": "stream",
          "name": "stdout",
          "text": [
            "########## Epoch 22\n"
          ]
        },
        {
          "output_type": "stream",
          "name": "stderr",
          "text": [
            "100%|██████████| 10/10 [00:00<00:00, 17.60it/s]\n",
            "100%|██████████| 3/3 [00:00<00:00, 10.43it/s]\n"
          ]
        },
        {
          "output_type": "stream",
          "name": "stdout",
          "text": [
            "Train loss: 0.050622064620256424\tVal loss: 0.16729618608951569\tTrain acc: 98.59375\tVal acc: 95.17463235294117\n"
          ]
        },
        {
          "output_type": "stream",
          "name": "stderr",
          "text": [
            "100%|██████████| 3/3 [00:00<00:00, 10.75it/s]\n"
          ]
        },
        {
          "output_type": "stream",
          "name": "stdout",
          "text": [
            "########## Epoch 23\n"
          ]
        },
        {
          "output_type": "stream",
          "name": "stderr",
          "text": [
            "100%|██████████| 10/10 [00:00<00:00, 17.59it/s]\n",
            "100%|██████████| 3/3 [00:00<00:00, 10.22it/s]\n"
          ]
        },
        {
          "output_type": "stream",
          "name": "stdout",
          "text": [
            "Train loss: 0.11381733417510986\tVal loss: 0.06741674989461899\tTrain acc: 96.09375\tVal acc: 98.17708333333333\n"
          ]
        },
        {
          "output_type": "stream",
          "name": "stderr",
          "text": [
            "100%|██████████| 3/3 [00:00<00:00, 10.23it/s]\n"
          ]
        },
        {
          "output_type": "stream",
          "name": "stdout",
          "text": [
            "########## Epoch 24\n"
          ]
        },
        {
          "output_type": "stream",
          "name": "stderr",
          "text": [
            "100%|██████████| 10/10 [00:00<00:00, 17.66it/s]\n",
            "100%|██████████| 3/3 [00:00<00:00,  9.97it/s]\n"
          ]
        },
        {
          "output_type": "stream",
          "name": "stdout",
          "text": [
            "Train loss: 0.08738663047552109\tVal loss: 0.09535438567399979\tTrain acc: 96.53645833333334\tVal acc: 96.21629901960785\n"
          ]
        },
        {
          "output_type": "stream",
          "name": "stderr",
          "text": [
            "100%|██████████| 3/3 [00:00<00:00, 10.23it/s]\n"
          ]
        },
        {
          "output_type": "stream",
          "name": "stdout",
          "text": [
            "########## Epoch 0\n"
          ]
        },
        {
          "output_type": "stream",
          "name": "stderr",
          "text": [
            "100%|██████████| 6/6 [00:00<00:00, 12.51it/s]\n",
            "100%|██████████| 4/4 [00:00<00:00, 12.73it/s]\n"
          ]
        },
        {
          "output_type": "stream",
          "name": "stdout",
          "text": [
            "Train loss: 0.14023317396640778\tVal loss: 0.09203100204467773\tTrain acc: 96.2452168367347\tVal acc: 96.45647321428572\n"
          ]
        },
        {
          "output_type": "stream",
          "name": "stderr",
          "text": [
            "100%|██████████| 3/3 [00:00<00:00, 10.25it/s]\n",
            "100%|██████████| 2/2 [00:00<00:00,  6.92it/s]\n"
          ]
        },
        {
          "output_type": "stream",
          "name": "stdout",
          "text": [
            "########## Epoch 1\n"
          ]
        },
        {
          "output_type": "stream",
          "name": "stderr",
          "text": [
            "100%|██████████| 6/6 [00:00<00:00, 12.80it/s]\n",
            "100%|██████████| 4/4 [00:00<00:00, 12.68it/s]\n"
          ]
        },
        {
          "output_type": "stream",
          "name": "stdout",
          "text": [
            "Train loss: 0.11579129099845886\tVal loss: 0.09219196438789368\tTrain acc: 97.52604166666667\tVal acc: 97.15401785714286\n"
          ]
        },
        {
          "output_type": "stream",
          "name": "stderr",
          "text": [
            "100%|██████████| 3/3 [00:00<00:00, 10.37it/s]\n",
            "100%|██████████| 2/2 [00:00<00:00,  6.84it/s]\n"
          ]
        },
        {
          "output_type": "stream",
          "name": "stdout",
          "text": [
            "########## Epoch 2\n"
          ]
        },
        {
          "output_type": "stream",
          "name": "stderr",
          "text": [
            "100%|██████████| 6/6 [00:00<00:00, 13.25it/s]\n",
            "100%|██████████| 4/4 [00:00<00:00, 12.61it/s]\n"
          ]
        },
        {
          "output_type": "stream",
          "name": "stdout",
          "text": [
            "Train loss: 0.10588829964399338\tVal loss: 0.07984066009521484\tTrain acc: 97.5765306122449\tVal acc: 97.4609375\n"
          ]
        },
        {
          "output_type": "stream",
          "name": "stderr",
          "text": [
            "100%|██████████| 3/3 [00:00<00:00, 10.00it/s]\n",
            "100%|██████████| 2/2 [00:00<00:00,  6.78it/s]\n"
          ]
        },
        {
          "output_type": "stream",
          "name": "stdout",
          "text": [
            "########## Epoch 3\n"
          ]
        },
        {
          "output_type": "stream",
          "name": "stderr",
          "text": [
            "100%|██████████| 6/6 [00:00<00:00, 12.79it/s]\n",
            "100%|██████████| 4/4 [00:00<00:00, 13.12it/s]\n"
          ]
        },
        {
          "output_type": "stream",
          "name": "stdout",
          "text": [
            "Train loss: 0.10857558250427246\tVal loss: 0.08157727867364883\tTrain acc: 97.62701955782313\tVal acc: 97.55394345238095\n"
          ]
        },
        {
          "output_type": "stream",
          "name": "stderr",
          "text": [
            "100%|██████████| 3/3 [00:00<00:00, 10.05it/s]\n",
            "100%|██████████| 2/2 [00:00<00:00,  7.17it/s]\n"
          ]
        },
        {
          "output_type": "stream",
          "name": "stdout",
          "text": [
            "########## Epoch 4\n"
          ]
        },
        {
          "output_type": "stream",
          "name": "stderr",
          "text": [
            "100%|██████████| 6/6 [00:00<00:00, 13.73it/s]\n",
            "100%|██████████| 4/4 [00:00<00:00, 12.80it/s]\n"
          ]
        },
        {
          "output_type": "stream",
          "name": "stdout",
          "text": [
            "Train loss: 0.09177862852811813\tVal loss: 0.08989527821540833\tTrain acc: 97.91666666666667\tVal acc: 97.4516369047619\n"
          ]
        },
        {
          "output_type": "stream",
          "name": "stderr",
          "text": [
            "100%|██████████| 3/3 [00:00<00:00, 10.01it/s]\n",
            "100%|██████████| 2/2 [00:00<00:00,  7.36it/s]\n"
          ]
        },
        {
          "output_type": "stream",
          "name": "stdout",
          "text": [
            "########## Epoch 5\n"
          ]
        },
        {
          "output_type": "stream",
          "name": "stderr",
          "text": [
            "100%|██████████| 6/6 [00:00<00:00, 13.29it/s]\n",
            "100%|██████████| 4/4 [00:00<00:00, 13.18it/s]\n"
          ]
        },
        {
          "output_type": "stream",
          "name": "stdout",
          "text": [
            "Train loss: 0.08379164338111877\tVal loss: 0.09403299540281296\tTrain acc: 98.17708333333333\tVal acc: 97.4516369047619\n"
          ]
        },
        {
          "output_type": "stream",
          "name": "stderr",
          "text": [
            "100%|██████████| 3/3 [00:00<00:00, 10.13it/s]\n",
            "100%|██████████| 2/2 [00:00<00:00,  6.73it/s]\n"
          ]
        },
        {
          "output_type": "stream",
          "name": "stdout",
          "text": [
            "########## Epoch 6\n"
          ]
        },
        {
          "output_type": "stream",
          "name": "stderr",
          "text": [
            "100%|██████████| 6/6 [00:00<00:00, 12.84it/s]\n",
            "100%|██████████| 4/4 [00:00<00:00, 13.09it/s]\n"
          ]
        },
        {
          "output_type": "stream",
          "name": "stdout",
          "text": [
            "Train loss: 0.08787552267313004\tVal loss: 0.08145108073949814\tTrain acc: 97.9671556122449\tVal acc: 97.65625\n"
          ]
        },
        {
          "output_type": "stream",
          "name": "stderr",
          "text": [
            "100%|██████████| 3/3 [00:00<00:00, 10.16it/s]\n",
            "100%|██████████| 2/2 [00:00<00:00,  7.09it/s]\n"
          ]
        },
        {
          "output_type": "stream",
          "name": "stdout",
          "text": [
            "########## Epoch 7\n"
          ]
        },
        {
          "output_type": "stream",
          "name": "stderr",
          "text": [
            "100%|██████████| 6/6 [00:00<00:00, 13.24it/s]\n",
            "100%|██████████| 4/4 [00:00<00:00, 12.91it/s]\n"
          ]
        },
        {
          "output_type": "stream",
          "name": "stdout",
          "text": [
            "Train loss: 0.08584638684988022\tVal loss: 0.08762629330158234\tTrain acc: 97.9671556122449\tVal acc: 97.4516369047619\n"
          ]
        },
        {
          "output_type": "stream",
          "name": "stderr",
          "text": [
            "100%|██████████| 3/3 [00:00<00:00,  9.40it/s]\n",
            "100%|██████████| 2/2 [00:00<00:00,  7.51it/s]\n"
          ]
        },
        {
          "output_type": "stream",
          "name": "stdout",
          "text": [
            "########## Epoch 8\n"
          ]
        },
        {
          "output_type": "stream",
          "name": "stderr",
          "text": [
            "100%|██████████| 6/6 [00:00<00:00, 13.24it/s]\n",
            "100%|██████████| 4/4 [00:00<00:00, 12.61it/s]\n"
          ]
        },
        {
          "output_type": "stream",
          "name": "stdout",
          "text": [
            "Train loss: 0.07345939427614212\tVal loss: 0.08125873655080795\tTrain acc: 98.046875\tVal acc: 97.55394345238095\n"
          ]
        },
        {
          "output_type": "stream",
          "name": "stderr",
          "text": [
            "100%|██████████| 3/3 [00:00<00:00, 10.26it/s]\n",
            "100%|██████████| 2/2 [00:00<00:00,  6.88it/s]\n"
          ]
        },
        {
          "output_type": "stream",
          "name": "stdout",
          "text": [
            "########## Epoch 9\n"
          ]
        },
        {
          "output_type": "stream",
          "name": "stderr",
          "text": [
            "100%|██████████| 6/6 [00:00<00:00, 13.15it/s]\n",
            "100%|██████████| 4/4 [00:00<00:00, 13.68it/s]\n"
          ]
        },
        {
          "output_type": "stream",
          "name": "stdout",
          "text": [
            "Train loss: 0.07160945981740952\tVal loss: 0.08167903870344162\tTrain acc: 98.30729166666667\tVal acc: 97.8515625\n"
          ]
        },
        {
          "output_type": "stream",
          "name": "stderr",
          "text": [
            "100%|██████████| 3/3 [00:00<00:00,  9.72it/s]\n",
            "100%|██████████| 2/2 [00:00<00:00,  7.15it/s]\n"
          ]
        },
        {
          "output_type": "stream",
          "name": "stdout",
          "text": [
            "########## Epoch 10\n"
          ]
        },
        {
          "output_type": "stream",
          "name": "stderr",
          "text": [
            "100%|██████████| 6/6 [00:00<00:00, 13.08it/s]\n",
            "100%|██████████| 4/4 [00:00<00:00, 12.40it/s]\n"
          ]
        },
        {
          "output_type": "stream",
          "name": "stdout",
          "text": [
            "Train loss: 0.07086548954248428\tVal loss: 0.08681771159172058\tTrain acc: 98.09736394557824\tVal acc: 97.54464285714286\n"
          ]
        },
        {
          "output_type": "stream",
          "name": "stderr",
          "text": [
            "100%|██████████| 3/3 [00:00<00:00, 10.64it/s]\n",
            "100%|██████████| 2/2 [00:00<00:00,  7.17it/s]\n"
          ]
        },
        {
          "output_type": "stream",
          "name": "stdout",
          "text": [
            "########## Epoch 11\n"
          ]
        },
        {
          "output_type": "stream",
          "name": "stderr",
          "text": [
            "100%|██████████| 6/6 [00:00<00:00, 12.43it/s]\n",
            "100%|██████████| 4/4 [00:00<00:00, 13.13it/s]\n"
          ]
        },
        {
          "output_type": "stream",
          "name": "stdout",
          "text": [
            "Train loss: 0.06851337105035782\tVal loss: 0.08364683389663696\tTrain acc: 98.3577806122449\tVal acc: 97.74925595238095\n"
          ]
        },
        {
          "output_type": "stream",
          "name": "stderr",
          "text": [
            "100%|██████████| 3/3 [00:00<00:00, 10.09it/s]\n",
            "100%|██████████| 2/2 [00:00<00:00,  6.85it/s]\n"
          ]
        },
        {
          "output_type": "stream",
          "name": "stdout",
          "text": [
            "########## Epoch 12\n"
          ]
        },
        {
          "output_type": "stream",
          "name": "stderr",
          "text": [
            "100%|██████████| 6/6 [00:00<00:00, 13.16it/s]\n",
            "100%|██████████| 4/4 [00:00<00:00, 12.83it/s]\n"
          ]
        },
        {
          "output_type": "stream",
          "name": "stdout",
          "text": [
            "Train loss: 0.08188065141439438\tVal loss: 0.0884169265627861\tTrain acc: 98.01764455782313\tVal acc: 97.54464285714286\n"
          ]
        },
        {
          "output_type": "stream",
          "name": "stderr",
          "text": [
            "100%|██████████| 3/3 [00:00<00:00, 10.01it/s]\n",
            "100%|██████████| 2/2 [00:00<00:00,  7.07it/s]\n"
          ]
        },
        {
          "output_type": "stream",
          "name": "stdout",
          "text": [
            "########## Epoch 13\n"
          ]
        },
        {
          "output_type": "stream",
          "name": "stderr",
          "text": [
            "100%|██████████| 6/6 [00:00<00:00, 12.98it/s]\n",
            "100%|██████████| 4/4 [00:00<00:00, 12.91it/s]\n"
          ]
        },
        {
          "output_type": "stream",
          "name": "stdout",
          "text": [
            "Train loss: 0.06488552689552307\tVal loss: 0.08942348510026932\tTrain acc: 98.4375\tVal acc: 97.74925595238095\n"
          ]
        },
        {
          "output_type": "stream",
          "name": "stderr",
          "text": [
            "100%|██████████| 3/3 [00:00<00:00,  9.86it/s]\n",
            "100%|██████████| 2/2 [00:00<00:00,  7.45it/s]\n"
          ]
        },
        {
          "output_type": "stream",
          "name": "stdout",
          "text": [
            "########## Epoch 14\n"
          ]
        },
        {
          "output_type": "stream",
          "name": "stderr",
          "text": [
            "100%|██████████| 6/6 [00:00<00:00, 12.86it/s]\n",
            "100%|██████████| 4/4 [00:00<00:00, 12.72it/s]\n"
          ]
        },
        {
          "output_type": "stream",
          "name": "stdout",
          "text": [
            "Train loss: 0.06527361273765564\tVal loss: 0.10066880285739899\tTrain acc: 98.22757227891157\tVal acc: 97.44233630952381\n"
          ]
        },
        {
          "output_type": "stream",
          "name": "stderr",
          "text": [
            "100%|██████████| 3/3 [00:00<00:00,  9.14it/s]\n",
            "100%|██████████| 2/2 [00:00<00:00,  7.15it/s]\n"
          ]
        },
        {
          "output_type": "stream",
          "name": "stdout",
          "text": [
            "########## Epoch 15\n"
          ]
        },
        {
          "output_type": "stream",
          "name": "stderr",
          "text": [
            "100%|██████████| 6/6 [00:00<00:00, 13.07it/s]\n",
            "100%|██████████| 4/4 [00:00<00:00, 12.94it/s]\n"
          ]
        },
        {
          "output_type": "stream",
          "name": "stdout",
          "text": [
            "Train loss: 0.0755767896771431\tVal loss: 0.0906619057059288\tTrain acc: 98.40826955782313\tVal acc: 97.74925595238095\n"
          ]
        },
        {
          "output_type": "stream",
          "name": "stderr",
          "text": [
            "100%|██████████| 3/3 [00:00<00:00,  9.89it/s]\n",
            "100%|██████████| 2/2 [00:00<00:00,  6.93it/s]\n"
          ]
        },
        {
          "output_type": "stream",
          "name": "stdout",
          "text": [
            "########## Epoch 16\n"
          ]
        },
        {
          "output_type": "stream",
          "name": "stderr",
          "text": [
            "100%|██████████| 6/6 [00:00<00:00, 13.51it/s]\n",
            "100%|██████████| 4/4 [00:00<00:00, 14.29it/s]\n"
          ]
        },
        {
          "output_type": "stream",
          "name": "stdout",
          "text": [
            "Train loss: 0.06108328700065613\tVal loss: 0.09427285939455032\tTrain acc: 98.61819727891157\tVal acc: 97.74925595238095\n"
          ]
        },
        {
          "output_type": "stream",
          "name": "stderr",
          "text": [
            "100%|██████████| 3/3 [00:00<00:00,  9.62it/s]\n",
            "100%|██████████| 2/2 [00:00<00:00,  6.98it/s]\n"
          ]
        },
        {
          "output_type": "stream",
          "name": "stdout",
          "text": [
            "########## Epoch 17\n"
          ]
        },
        {
          "output_type": "stream",
          "name": "stderr",
          "text": [
            "100%|██████████| 6/6 [00:00<00:00, 13.02it/s]\n",
            "100%|██████████| 4/4 [00:00<00:00, 12.88it/s]\n"
          ]
        },
        {
          "output_type": "stream",
          "name": "stdout",
          "text": [
            "Train loss: 0.056735049933195114\tVal loss: 0.09671537578105927\tTrain acc: 98.828125\tVal acc: 97.74925595238095\n"
          ]
        },
        {
          "output_type": "stream",
          "name": "stderr",
          "text": [
            "100%|██████████| 3/3 [00:00<00:00,  9.06it/s]\n",
            "100%|██████████| 2/2 [00:00<00:00,  7.57it/s]\n"
          ]
        },
        {
          "output_type": "stream",
          "name": "stdout",
          "text": [
            "########## Epoch 18\n"
          ]
        },
        {
          "output_type": "stream",
          "name": "stderr",
          "text": [
            "100%|██████████| 6/6 [00:00<00:00, 13.11it/s]\n",
            "100%|██████████| 4/4 [00:00<00:00, 12.87it/s]\n"
          ]
        },
        {
          "output_type": "stream",
          "name": "stdout",
          "text": [
            "Train loss: 0.05771288648247719\tVal loss: 0.090894915163517\tTrain acc: 98.56770833333333\tVal acc: 97.6469494047619\n"
          ]
        },
        {
          "output_type": "stream",
          "name": "stderr",
          "text": [
            "100%|██████████| 3/3 [00:00<00:00,  9.79it/s]\n",
            "100%|██████████| 2/2 [00:00<00:00,  7.01it/s]\n"
          ]
        },
        {
          "output_type": "stream",
          "name": "stdout",
          "text": [
            "########## Epoch 19\n"
          ]
        },
        {
          "output_type": "stream",
          "name": "stderr",
          "text": [
            "100%|██████████| 6/6 [00:00<00:00, 13.54it/s]\n",
            "100%|██████████| 4/4 [00:00<00:00, 12.58it/s]\n"
          ]
        },
        {
          "output_type": "stream",
          "name": "stdout",
          "text": [
            "Train loss: 0.05887691304087639\tVal loss: 0.09345178306102753\tTrain acc: 98.828125\tVal acc: 97.6469494047619\n"
          ]
        },
        {
          "output_type": "stream",
          "name": "stderr",
          "text": [
            "100%|██████████| 3/3 [00:00<00:00, 10.35it/s]\n",
            "100%|██████████| 2/2 [00:00<00:00,  6.47it/s]\n"
          ]
        },
        {
          "output_type": "stream",
          "name": "stdout",
          "text": [
            "########## Epoch 20\n"
          ]
        },
        {
          "output_type": "stream",
          "name": "stderr",
          "text": [
            "100%|██████████| 6/6 [00:00<00:00, 13.60it/s]\n",
            "100%|██████████| 4/4 [00:00<00:00, 13.21it/s]\n"
          ]
        },
        {
          "output_type": "stream",
          "name": "stdout",
          "text": [
            "Train loss: 0.05517446622252464\tVal loss: 0.10127072036266327\tTrain acc: 98.69791666666667\tVal acc: 97.6469494047619\n"
          ]
        },
        {
          "output_type": "stream",
          "name": "stderr",
          "text": [
            "100%|██████████| 3/3 [00:00<00:00,  9.94it/s]\n",
            "100%|██████████| 2/2 [00:00<00:00,  6.67it/s]\n"
          ]
        },
        {
          "output_type": "stream",
          "name": "stdout",
          "text": [
            "########## Epoch 21\n"
          ]
        },
        {
          "output_type": "stream",
          "name": "stderr",
          "text": [
            "100%|██████████| 6/6 [00:00<00:00, 12.41it/s]\n",
            "100%|██████████| 4/4 [00:00<00:00, 12.72it/s]\n"
          ]
        },
        {
          "output_type": "stream",
          "name": "stdout",
          "text": [
            "Train loss: 0.06488265842199326\tVal loss: 0.0917830839753151\tTrain acc: 98.2780612244898\tVal acc: 97.74925595238095\n"
          ]
        },
        {
          "output_type": "stream",
          "name": "stderr",
          "text": [
            "100%|██████████| 3/3 [00:00<00:00, 10.23it/s]\n",
            "100%|██████████| 2/2 [00:00<00:00,  6.89it/s]\n"
          ]
        },
        {
          "output_type": "stream",
          "name": "stdout",
          "text": [
            "########## Epoch 22\n"
          ]
        },
        {
          "output_type": "stream",
          "name": "stderr",
          "text": [
            "100%|██████████| 6/6 [00:00<00:00, 13.22it/s]\n",
            "100%|██████████| 4/4 [00:00<00:00, 12.45it/s]\n"
          ]
        },
        {
          "output_type": "stream",
          "name": "stdout",
          "text": [
            "Train loss: 0.05492137745022774\tVal loss: 0.11701860278844833\tTrain acc: 98.69791666666667\tVal acc: 97.44233630952381\n"
          ]
        },
        {
          "output_type": "stream",
          "name": "stderr",
          "text": [
            "100%|██████████| 3/3 [00:00<00:00,  9.15it/s]\n",
            "100%|██████████| 2/2 [00:00<00:00,  6.83it/s]\n"
          ]
        },
        {
          "output_type": "stream",
          "name": "stdout",
          "text": [
            "########## Epoch 23\n"
          ]
        },
        {
          "output_type": "stream",
          "name": "stderr",
          "text": [
            "100%|██████████| 6/6 [00:00<00:00, 13.21it/s]\n",
            "100%|██████████| 4/4 [00:00<00:00, 12.43it/s]\n"
          ]
        },
        {
          "output_type": "stream",
          "name": "stdout",
          "text": [
            "Train loss: 0.05946565791964531\tVal loss: 0.11374573409557343\tTrain acc: 98.3577806122449\tVal acc: 97.54464285714286\n"
          ]
        },
        {
          "output_type": "stream",
          "name": "stderr",
          "text": [
            "100%|██████████| 3/3 [00:00<00:00, 10.17it/s]\n",
            "100%|██████████| 2/2 [00:00<00:00,  7.26it/s]\n"
          ]
        },
        {
          "output_type": "stream",
          "name": "stdout",
          "text": [
            "########## Epoch 24\n"
          ]
        },
        {
          "output_type": "stream",
          "name": "stderr",
          "text": [
            "100%|██████████| 6/6 [00:00<00:00, 13.02it/s]\n",
            "100%|██████████| 4/4 [00:00<00:00, 12.54it/s]\n"
          ]
        },
        {
          "output_type": "stream",
          "name": "stdout",
          "text": [
            "Train loss: 0.05399294197559357\tVal loss: 0.10287255793809891\tTrain acc: 98.69791666666667\tVal acc: 97.6469494047619\n"
          ]
        },
        {
          "output_type": "stream",
          "name": "stderr",
          "text": [
            "100%|██████████| 3/3 [00:00<00:00, 10.49it/s]\n",
            "100%|██████████| 2/2 [00:00<00:00,  6.89it/s]\n"
          ]
        },
        {
          "output_type": "stream",
          "name": "stdout",
          "text": [
            "########## Epoch 0\n"
          ]
        },
        {
          "output_type": "stream",
          "name": "stderr",
          "text": [
            "100%|██████████| 6/6 [00:00<00:00, 12.92it/s]\n",
            "100%|██████████| 6/6 [00:00<00:00, 18.09it/s]\n"
          ]
        },
        {
          "output_type": "stream",
          "name": "stdout",
          "text": [
            "Train loss: 7.78729772567749\tVal loss: 1.6434359550476074\tTrain acc: 0.0\tVal acc: 75.65104166666667\n"
          ]
        },
        {
          "output_type": "stream",
          "name": "stderr",
          "text": [
            "100%|██████████| 3/3 [00:00<00:00,  9.16it/s]\n",
            "100%|██████████| 2/2 [00:00<00:00,  6.89it/s]\n",
            "100%|██████████| 2/2 [00:00<00:00,  7.21it/s]\n"
          ]
        },
        {
          "output_type": "stream",
          "name": "stdout",
          "text": [
            "########## Epoch 1\n"
          ]
        },
        {
          "output_type": "stream",
          "name": "stderr",
          "text": [
            "100%|██████████| 6/6 [00:00<00:00, 12.70it/s]\n",
            "100%|██████████| 6/6 [00:00<00:00, 18.24it/s]\n"
          ]
        },
        {
          "output_type": "stream",
          "name": "stdout",
          "text": [
            "Train loss: 6.271216869354248\tVal loss: 1.434991478919983\tTrain acc: 0.0\tVal acc: 72.87326388888889\n"
          ]
        },
        {
          "output_type": "stream",
          "name": "stderr",
          "text": [
            "100%|██████████| 3/3 [00:00<00:00,  9.65it/s]\n",
            "100%|██████████| 2/2 [00:00<00:00,  6.68it/s]\n",
            "100%|██████████| 2/2 [00:00<00:00,  7.07it/s]\n"
          ]
        },
        {
          "output_type": "stream",
          "name": "stdout",
          "text": [
            "########## Epoch 2\n"
          ]
        },
        {
          "output_type": "stream",
          "name": "stderr",
          "text": [
            "100%|██████████| 6/6 [00:00<00:00, 13.03it/s]\n",
            "100%|██████████| 6/6 [00:00<00:00, 17.53it/s]\n"
          ]
        },
        {
          "output_type": "stream",
          "name": "stdout",
          "text": [
            "Train loss: 4.980477809906006\tVal loss: 1.1420878171920776\tTrain acc: 0.0\tVal acc: 72.09201388888889\n"
          ]
        },
        {
          "output_type": "stream",
          "name": "stderr",
          "text": [
            "100%|██████████| 3/3 [00:00<00:00, 10.16it/s]\n",
            "100%|██████████| 2/2 [00:00<00:00,  7.34it/s]\n",
            "100%|██████████| 2/2 [00:00<00:00,  6.82it/s]\n"
          ]
        },
        {
          "output_type": "stream",
          "name": "stdout",
          "text": [
            "########## Epoch 3\n"
          ]
        },
        {
          "output_type": "stream",
          "name": "stderr",
          "text": [
            "100%|██████████| 6/6 [00:00<00:00, 13.19it/s]\n",
            "100%|██████████| 6/6 [00:00<00:00, 19.07it/s]\n"
          ]
        },
        {
          "output_type": "stream",
          "name": "stdout",
          "text": [
            "Train loss: 4.116997241973877\tVal loss: 1.1555856466293335\tTrain acc: 0.0\tVal acc: 69.18402777777779\n"
          ]
        },
        {
          "output_type": "stream",
          "name": "stderr",
          "text": [
            "100%|██████████| 3/3 [00:00<00:00,  9.77it/s]\n",
            "100%|██████████| 2/2 [00:00<00:00,  7.02it/s]\n",
            "100%|██████████| 2/2 [00:00<00:00,  6.65it/s]\n"
          ]
        },
        {
          "output_type": "stream",
          "name": "stdout",
          "text": [
            "########## Epoch 4\n"
          ]
        },
        {
          "output_type": "stream",
          "name": "stderr",
          "text": [
            "100%|██████████| 6/6 [00:00<00:00, 13.12it/s]\n",
            "100%|██████████| 6/6 [00:00<00:00, 19.01it/s]\n"
          ]
        },
        {
          "output_type": "stream",
          "name": "stdout",
          "text": [
            "Train loss: 3.453404664993286\tVal loss: 1.1478317975997925\tTrain acc: 0.0\tVal acc: 63.75868055555555\n"
          ]
        },
        {
          "output_type": "stream",
          "name": "stderr",
          "text": [
            "100%|██████████| 3/3 [00:00<00:00,  9.75it/s]\n",
            "100%|██████████| 2/2 [00:00<00:00,  6.71it/s]\n",
            "100%|██████████| 2/2 [00:00<00:00,  7.19it/s]\n"
          ]
        },
        {
          "output_type": "stream",
          "name": "stdout",
          "text": [
            "########## Epoch 5\n"
          ]
        },
        {
          "output_type": "stream",
          "name": "stderr",
          "text": [
            "100%|██████████| 6/6 [00:00<00:00, 13.16it/s]\n",
            "100%|██████████| 6/6 [00:00<00:00, 17.49it/s]\n"
          ]
        },
        {
          "output_type": "stream",
          "name": "stdout",
          "text": [
            "Train loss: 2.9416534900665283\tVal loss: 0.8171188235282898\tTrain acc: 0.0\tVal acc: 71.31076388888889\n"
          ]
        },
        {
          "output_type": "stream",
          "name": "stderr",
          "text": [
            "100%|██████████| 3/3 [00:00<00:00, 10.26it/s]\n",
            "100%|██████████| 2/2 [00:00<00:00,  6.67it/s]\n",
            "100%|██████████| 2/2 [00:00<00:00,  7.15it/s]\n"
          ]
        },
        {
          "output_type": "stream",
          "name": "stdout",
          "text": [
            "########## Epoch 6\n"
          ]
        },
        {
          "output_type": "stream",
          "name": "stderr",
          "text": [
            "100%|██████████| 6/6 [00:00<00:00, 13.00it/s]\n",
            "100%|██████████| 6/6 [00:00<00:00, 18.64it/s]\n"
          ]
        },
        {
          "output_type": "stream",
          "name": "stdout",
          "text": [
            "Train loss: 2.526904821395874\tVal loss: 0.9285675883293152\tTrain acc: 0.0\tVal acc: 63.36805555555555\n"
          ]
        },
        {
          "output_type": "stream",
          "name": "stderr",
          "text": [
            "100%|██████████| 3/3 [00:00<00:00,  9.94it/s]\n",
            "100%|██████████| 2/2 [00:00<00:00,  7.00it/s]\n",
            "100%|██████████| 2/2 [00:00<00:00,  6.95it/s]\n"
          ]
        },
        {
          "output_type": "stream",
          "name": "stdout",
          "text": [
            "########## Epoch 7\n"
          ]
        },
        {
          "output_type": "stream",
          "name": "stderr",
          "text": [
            "100%|██████████| 6/6 [00:00<00:00, 12.88it/s]\n",
            "100%|██████████| 6/6 [00:00<00:00, 17.91it/s]\n"
          ]
        },
        {
          "output_type": "stream",
          "name": "stdout",
          "text": [
            "Train loss: 2.170614004135132\tVal loss: 0.8459157943725586\tTrain acc: 0.0\tVal acc: 63.23784722222222\n"
          ]
        },
        {
          "output_type": "stream",
          "name": "stderr",
          "text": [
            "100%|██████████| 3/3 [00:00<00:00,  9.74it/s]\n",
            "100%|██████████| 2/2 [00:00<00:00,  6.85it/s]\n",
            "100%|██████████| 2/2 [00:00<00:00,  7.22it/s]\n"
          ]
        },
        {
          "output_type": "stream",
          "name": "stdout",
          "text": [
            "########## Epoch 8\n"
          ]
        },
        {
          "output_type": "stream",
          "name": "stderr",
          "text": [
            "100%|██████████| 6/6 [00:00<00:00, 13.05it/s]\n",
            "100%|██████████| 6/6 [00:00<00:00, 18.22it/s]\n"
          ]
        },
        {
          "output_type": "stream",
          "name": "stdout",
          "text": [
            "Train loss: 1.8614306449890137\tVal loss: 0.7353983521461487\tTrain acc: 0.3401360544217687\tVal acc: 66.015625\n"
          ]
        },
        {
          "output_type": "stream",
          "name": "stderr",
          "text": [
            "100%|██████████| 3/3 [00:00<00:00,  9.78it/s]\n",
            "100%|██████████| 2/2 [00:00<00:00,  7.26it/s]\n",
            "100%|██████████| 2/2 [00:00<00:00,  7.22it/s]\n"
          ]
        },
        {
          "output_type": "stream",
          "name": "stdout",
          "text": [
            "########## Epoch 9\n"
          ]
        },
        {
          "output_type": "stream",
          "name": "stderr",
          "text": [
            "100%|██████████| 6/6 [00:00<00:00, 13.46it/s]\n",
            "100%|██████████| 6/6 [00:00<00:00, 18.33it/s]\n"
          ]
        },
        {
          "output_type": "stream",
          "name": "stdout",
          "text": [
            "Train loss: 1.6020489931106567\tVal loss: 0.7307640910148621\tTrain acc: 2.163052721088435\tVal acc: 68.88020833333333\n"
          ]
        },
        {
          "output_type": "stream",
          "name": "stderr",
          "text": [
            "100%|██████████| 3/3 [00:00<00:00,  9.68it/s]\n",
            "100%|██████████| 2/2 [00:00<00:00,  6.90it/s]\n",
            "100%|██████████| 2/2 [00:00<00:00,  7.13it/s]\n"
          ]
        },
        {
          "output_type": "stream",
          "name": "stdout",
          "text": [
            "########## Epoch 10\n"
          ]
        },
        {
          "output_type": "stream",
          "name": "stderr",
          "text": [
            "100%|██████████| 6/6 [00:00<00:00, 13.06it/s]\n",
            "100%|██████████| 6/6 [00:00<00:00, 18.58it/s]\n"
          ]
        },
        {
          "output_type": "stream",
          "name": "stdout",
          "text": [
            "Train loss: 1.377492070198059\tVal loss: 0.6100949048995972\tTrain acc: 25.834396258503403\tVal acc: 77.77777777777779\n"
          ]
        },
        {
          "output_type": "stream",
          "name": "stderr",
          "text": [
            "100%|██████████| 3/3 [00:00<00:00,  9.84it/s]\n",
            "100%|██████████| 2/2 [00:00<00:00,  6.77it/s]\n",
            "100%|██████████| 2/2 [00:00<00:00,  6.50it/s]\n"
          ]
        },
        {
          "output_type": "stream",
          "name": "stdout",
          "text": [
            "########## Epoch 11\n"
          ]
        },
        {
          "output_type": "stream",
          "name": "stderr",
          "text": [
            "100%|██████████| 6/6 [00:00<00:00, 13.26it/s]\n",
            "100%|██████████| 6/6 [00:00<00:00, 17.32it/s]\n"
          ]
        },
        {
          "output_type": "stream",
          "name": "stdout",
          "text": [
            "Train loss: 1.1917351484298706\tVal loss: 0.6707724928855896\tTrain acc: 54.88679846938775\tVal acc: 82.76909722222221\n"
          ]
        },
        {
          "output_type": "stream",
          "name": "stderr",
          "text": [
            "100%|██████████| 3/3 [00:00<00:00, 10.25it/s]\n",
            "100%|██████████| 2/2 [00:00<00:00,  6.98it/s]\n",
            "100%|██████████| 2/2 [00:00<00:00,  6.71it/s]\n"
          ]
        },
        {
          "output_type": "stream",
          "name": "stdout",
          "text": [
            "########## Epoch 12\n"
          ]
        },
        {
          "output_type": "stream",
          "name": "stderr",
          "text": [
            "100%|██████████| 6/6 [00:00<00:00, 13.09it/s]\n",
            "100%|██████████| 6/6 [00:00<00:00, 18.78it/s]\n"
          ]
        },
        {
          "output_type": "stream",
          "name": "stdout",
          "text": [
            "Train loss: 1.0472043752670288\tVal loss: 0.6112560033798218\tTrain acc: 67.32302295918367\tVal acc: 80.94618055555556\n"
          ]
        },
        {
          "output_type": "stream",
          "name": "stderr",
          "text": [
            "100%|██████████| 3/3 [00:00<00:00,  9.99it/s]\n",
            "100%|██████████| 2/2 [00:00<00:00,  6.53it/s]\n",
            "100%|██████████| 2/2 [00:00<00:00,  6.93it/s]\n"
          ]
        },
        {
          "output_type": "stream",
          "name": "stdout",
          "text": [
            "########## Epoch 13\n"
          ]
        },
        {
          "output_type": "stream",
          "name": "stderr",
          "text": [
            "100%|██████████| 6/6 [00:00<00:00, 12.64it/s]\n",
            "100%|██████████| 6/6 [00:00<00:00, 17.54it/s]\n"
          ]
        },
        {
          "output_type": "stream",
          "name": "stdout",
          "text": [
            "Train loss: 0.945138692855835\tVal loss: 0.6732584834098816\tTrain acc: 65.93324829931973\tVal acc: 74.91319444444444\n"
          ]
        },
        {
          "output_type": "stream",
          "name": "stderr",
          "text": [
            "100%|██████████| 3/3 [00:00<00:00,  9.80it/s]\n",
            "100%|██████████| 2/2 [00:00<00:00,  6.96it/s]\n",
            "100%|██████████| 2/2 [00:00<00:00,  6.96it/s]\n"
          ]
        },
        {
          "output_type": "stream",
          "name": "stdout",
          "text": [
            "########## Epoch 14\n"
          ]
        },
        {
          "output_type": "stream",
          "name": "stderr",
          "text": [
            "100%|██████████| 6/6 [00:00<00:00, 13.40it/s]\n",
            "100%|██████████| 6/6 [00:00<00:00, 17.96it/s]\n"
          ]
        },
        {
          "output_type": "stream",
          "name": "stdout",
          "text": [
            "Train loss: 0.8591999411582947\tVal loss: 0.7266488075256348\tTrain acc: 69.58705357142857\tVal acc: 73.35069444444444\n"
          ]
        },
        {
          "output_type": "stream",
          "name": "stderr",
          "text": [
            "100%|██████████| 3/3 [00:00<00:00, 10.39it/s]\n",
            "100%|██████████| 2/2 [00:00<00:00,  6.87it/s]\n",
            "100%|██████████| 2/2 [00:00<00:00,  6.66it/s]\n"
          ]
        },
        {
          "output_type": "stream",
          "name": "stdout",
          "text": [
            "########## Epoch 15\n"
          ]
        },
        {
          "output_type": "stream",
          "name": "stderr",
          "text": [
            "100%|██████████| 6/6 [00:00<00:00, 13.10it/s]\n",
            "100%|██████████| 6/6 [00:00<00:00, 16.92it/s]\n"
          ]
        },
        {
          "output_type": "stream",
          "name": "stdout",
          "text": [
            "Train loss: 0.804148256778717\tVal loss: 0.6759909987449646\tTrain acc: 70.83864795918367\tVal acc: 71.26736111111111\n"
          ]
        },
        {
          "output_type": "stream",
          "name": "stderr",
          "text": [
            "100%|██████████| 3/3 [00:00<00:00,  9.21it/s]\n",
            "100%|██████████| 2/2 [00:00<00:00,  7.03it/s]\n",
            "100%|██████████| 2/2 [00:00<00:00,  6.94it/s]\n"
          ]
        },
        {
          "output_type": "stream",
          "name": "stdout",
          "text": [
            "########## Epoch 16\n"
          ]
        },
        {
          "output_type": "stream",
          "name": "stderr",
          "text": [
            "100%|██████████| 6/6 [00:00<00:00, 12.47it/s]\n",
            "100%|██████████| 6/6 [00:00<00:00, 17.91it/s]\n"
          ]
        },
        {
          "output_type": "stream",
          "name": "stdout",
          "text": [
            "Train loss: 0.7626924514770508\tVal loss: 0.7239802479743958\tTrain acc: 76.59704506802721\tVal acc: 76.5625\n"
          ]
        },
        {
          "output_type": "stream",
          "name": "stderr",
          "text": [
            "100%|██████████| 3/3 [00:00<00:00,  9.21it/s]\n",
            "100%|██████████| 2/2 [00:00<00:00,  6.53it/s]\n",
            "100%|██████████| 2/2 [00:00<00:00,  7.09it/s]\n"
          ]
        },
        {
          "output_type": "stream",
          "name": "stdout",
          "text": [
            "########## Epoch 17\n"
          ]
        },
        {
          "output_type": "stream",
          "name": "stderr",
          "text": [
            "100%|██████████| 6/6 [00:00<00:00, 12.93it/s]\n",
            "100%|██████████| 6/6 [00:00<00:00, 17.99it/s]\n"
          ]
        },
        {
          "output_type": "stream",
          "name": "stdout",
          "text": [
            "Train loss: 0.7341824173927307\tVal loss: 0.7930194735527039\tTrain acc: 81.62468112244898\tVal acc: 73.26388888888889\n"
          ]
        },
        {
          "output_type": "stream",
          "name": "stderr",
          "text": [
            "100%|██████████| 3/3 [00:00<00:00,  9.69it/s]\n",
            "100%|██████████| 2/2 [00:00<00:00,  6.93it/s]\n",
            "100%|██████████| 2/2 [00:00<00:00,  6.57it/s]\n"
          ]
        },
        {
          "output_type": "stream",
          "name": "stdout",
          "text": [
            "########## Epoch 18\n"
          ]
        },
        {
          "output_type": "stream",
          "name": "stderr",
          "text": [
            "100%|██████████| 6/6 [00:00<00:00, 13.28it/s]\n",
            "100%|██████████| 6/6 [00:00<00:00, 17.76it/s]\n"
          ]
        },
        {
          "output_type": "stream",
          "name": "stdout",
          "text": [
            "Train loss: 0.7114246487617493\tVal loss: 0.7083210945129395\tTrain acc: 83.57780612244898\tVal acc: 75.65104166666667\n"
          ]
        },
        {
          "output_type": "stream",
          "name": "stderr",
          "text": [
            "100%|██████████| 3/3 [00:00<00:00, 10.07it/s]\n",
            "100%|██████████| 2/2 [00:00<00:00,  7.29it/s]\n",
            "100%|██████████| 2/2 [00:00<00:00,  6.86it/s]\n"
          ]
        },
        {
          "output_type": "stream",
          "name": "stdout",
          "text": [
            "########## Epoch 19\n"
          ]
        },
        {
          "output_type": "stream",
          "name": "stderr",
          "text": [
            "100%|██████████| 6/6 [00:00<00:00, 13.16it/s]\n",
            "100%|██████████| 6/6 [00:00<00:00, 18.53it/s]\n"
          ]
        },
        {
          "output_type": "stream",
          "name": "stdout",
          "text": [
            "Train loss: 0.693244218826294\tVal loss: 0.8281423449516296\tTrain acc: 85.8498086734694\tVal acc: 72.48263888888889\n"
          ]
        },
        {
          "output_type": "stream",
          "name": "stderr",
          "text": [
            "100%|██████████| 3/3 [00:00<00:00,  9.66it/s]\n",
            "100%|██████████| 2/2 [00:00<00:00,  7.16it/s]\n",
            "100%|██████████| 2/2 [00:00<00:00,  6.82it/s]\n"
          ]
        },
        {
          "output_type": "stream",
          "name": "stdout",
          "text": [
            "########## Epoch 20\n"
          ]
        },
        {
          "output_type": "stream",
          "name": "stderr",
          "text": [
            "100%|██████████| 6/6 [00:00<00:00, 12.64it/s]\n",
            "100%|██████████| 6/6 [00:00<00:00, 18.52it/s]\n"
          ]
        },
        {
          "output_type": "stream",
          "name": "stdout",
          "text": [
            "Train loss: 0.6794758439064026\tVal loss: 0.923116147518158\tTrain acc: 85.92155612244898\tVal acc: 66.40625\n"
          ]
        },
        {
          "output_type": "stream",
          "name": "stderr",
          "text": [
            "100%|██████████| 3/3 [00:00<00:00, 10.09it/s]\n",
            "100%|██████████| 2/2 [00:00<00:00,  6.57it/s]\n",
            "100%|██████████| 2/2 [00:00<00:00,  7.10it/s]\n"
          ]
        },
        {
          "output_type": "stream",
          "name": "stdout",
          "text": [
            "########## Epoch 21\n"
          ]
        },
        {
          "output_type": "stream",
          "name": "stderr",
          "text": [
            "100%|██████████| 6/6 [00:00<00:00, 12.86it/s]\n",
            "100%|██████████| 6/6 [00:00<00:00, 17.18it/s]\n"
          ]
        },
        {
          "output_type": "stream",
          "name": "stdout",
          "text": [
            "Train loss: 0.6665959358215332\tVal loss: 0.9660272598266602\tTrain acc: 87.67272534013607\tVal acc: 68.66319444444444\n"
          ]
        },
        {
          "output_type": "stream",
          "name": "stderr",
          "text": [
            "100%|██████████| 3/3 [00:00<00:00, 10.03it/s]\n",
            "100%|██████████| 2/2 [00:00<00:00,  6.79it/s]\n",
            "100%|██████████| 2/2 [00:00<00:00,  6.84it/s]\n"
          ]
        },
        {
          "output_type": "stream",
          "name": "stdout",
          "text": [
            "########## Epoch 22\n"
          ]
        },
        {
          "output_type": "stream",
          "name": "stderr",
          "text": [
            "100%|██████████| 6/6 [00:00<00:00, 13.20it/s]\n",
            "100%|██████████| 6/6 [00:00<00:00, 17.47it/s]\n"
          ]
        },
        {
          "output_type": "stream",
          "name": "stdout",
          "text": [
            "Train loss: 0.6552671790122986\tVal loss: 0.9724381566047668\tTrain acc: 88.71439200680273\tVal acc: 70.78993055555556\n"
          ]
        },
        {
          "output_type": "stream",
          "name": "stderr",
          "text": [
            "100%|██████████| 3/3 [00:00<00:00,  9.82it/s]\n",
            "100%|██████████| 2/2 [00:00<00:00,  6.49it/s]\n",
            "100%|██████████| 2/2 [00:00<00:00,  6.67it/s]\n"
          ]
        },
        {
          "output_type": "stream",
          "name": "stdout",
          "text": [
            "########## Epoch 23\n"
          ]
        },
        {
          "output_type": "stream",
          "name": "stderr",
          "text": [
            "100%|██████████| 6/6 [00:00<00:00, 13.10it/s]\n",
            "100%|██████████| 6/6 [00:00<00:00, 18.35it/s]\n"
          ]
        },
        {
          "output_type": "stream",
          "name": "stdout",
          "text": [
            "Train loss: 0.6455963253974915\tVal loss: 0.9388067722320557\tTrain acc: 89.23522534013607\tVal acc: 65.49479166666667\n"
          ]
        },
        {
          "output_type": "stream",
          "name": "stderr",
          "text": [
            "100%|██████████| 3/3 [00:00<00:00,  9.44it/s]\n",
            "100%|██████████| 2/2 [00:00<00:00,  6.87it/s]\n",
            "100%|██████████| 2/2 [00:00<00:00,  6.88it/s]\n"
          ]
        },
        {
          "output_type": "stream",
          "name": "stdout",
          "text": [
            "########## Epoch 24\n"
          ]
        },
        {
          "output_type": "stream",
          "name": "stderr",
          "text": [
            "100%|██████████| 6/6 [00:00<00:00, 13.28it/s]\n",
            "100%|██████████| 6/6 [00:00<00:00, 16.20it/s]\n"
          ]
        },
        {
          "output_type": "stream",
          "name": "stdout",
          "text": [
            "Train loss: 0.6363756656646729\tVal loss: 1.0056198835372925\tTrain acc: 89.49564200680273\tVal acc: 70.52951388888889\n"
          ]
        },
        {
          "output_type": "stream",
          "name": "stderr",
          "text": [
            "100%|██████████| 3/3 [00:00<00:00,  9.59it/s]\n",
            "100%|██████████| 2/2 [00:00<00:00,  6.98it/s]\n",
            "100%|██████████| 2/2 [00:00<00:00,  6.67it/s]\n"
          ]
        },
        {
          "output_type": "display_data",
          "data": {
            "text/plain": [
              "<IPython.core.display.HTML object>"
            ],
            "text/html": [
              "Waiting for W&B process to finish... <strong style=\"color:green\">(success).</strong>"
            ]
          },
          "metadata": {}
        },
        {
          "output_type": "display_data",
          "data": {
            "text/plain": [
              "VBox(children=(Label(value='0.000 MB of 0.000 MB uploaded (0.000 MB deduped)\\r'), FloatProgress(value=1.0, max…"
            ],
            "application/vnd.jupyter.widget-view+json": {
              "version_major": 2,
              "version_minor": 0,
              "model_id": "918ffbf1de2f457a811390ca11b6ba3a"
            }
          },
          "metadata": {}
        },
        {
          "output_type": "display_data",
          "data": {
            "text/plain": [
              "<IPython.core.display.HTML object>"
            ],
            "text/html": [
              "<style>\n",
              "    table.wandb td:nth-child(1) { padding: 0 10px; text-align: left ; width: auto;} td:nth-child(2) {text-align: left ; width: 100%}\n",
              "    .wandb-row { display: flex; flex-direction: row; flex-wrap: wrap; justify-content: flex-start; width: 100% }\n",
              "    .wandb-col { display: flex; flex-direction: column; flex-basis: 100%; flex: 1; padding: 10px; }\n",
              "    </style>\n",
              "<div class=\"wandb-row\"><div class=\"wandb-col\"><h3>Run history:</h3><br/><table class=\"wandb\"><tr><td>task_0_prevtask_0_val_acc</td><td>▁▇████▇███▇██▇█▇▇█▇█▇▇▇▇▇</td></tr><tr><td>task_0_prevtask_0_val_loss</td><td>█▃▂▂▂▁▂▁▂▂▃▁▂▁▂▂▂▁▁▁▁▂▃▃▂</td></tr><tr><td>task_0_train_acc</td><td>▁▆▇▇▇▇▇▇▇▇▇▇▇██████████▇▇</td></tr><tr><td>task_0_train_loss</td><td>█▄▂▂▂▂▂▂▂▂▂▂▁▁▁▁▁▁▁▁▁▁▁▂▁</td></tr><tr><td>task_0_val_acc</td><td>▁▇▇▇█████▇▆▇█▇█▇▇█████▆█▇</td></tr><tr><td>task_0_val_loss</td><td>█▄▃▃▂▂▂▁▂▄▄▂▂▃▂▂▄▁▁▁▁▁▆▂▃</td></tr><tr><td>task_1_prevtask_0_val_acc</td><td>▁▅▃▅▇▅▅▅▃█▆▃▆██▆▆█▆█▃█▆▆█</td></tr><tr><td>task_1_prevtask_0_val_loss</td><td>▂▁▅▃▁▂▂▄▃▁▆▆▃▂▂▅▃▂▃▂█▂▅▅▂</td></tr><tr><td>task_1_prevtask_1_val_acc</td><td>▅▆▁▆▇▇██▆█▇▆▄▆▃▇▇█▄▆▇▆▆▇▆</td></tr><tr><td>task_1_prevtask_1_val_loss</td><td>▆▃█▅▄▄▂▁▃▁▂▅▄▄▇▂▂▁▄▄▂▃▅▄▃</td></tr><tr><td>task_1_train_acc</td><td>▁▄▅▅▆▆▆▆▆▇▆▇▆▇▆▇▇█▇██▇█▇█</td></tr><tr><td>task_1_train_loss</td><td>█▆▅▅▄▃▄▄▃▂▂▂▃▂▂▃▂▁▁▁▁▂▁▁▁</td></tr><tr><td>task_1_val_acc</td><td>▁▄▆▇▆▆▇▆▇█▆▇▆▇▆▇▇▇▇▇▇▇▆▆▇</td></tr><tr><td>task_1_val_loss</td><td>▃▃▁▁▃▄▁▂▁▁▂▂▃▃▅▃▄▄▃▄▅▃█▇▅</td></tr><tr><td>task_2_prevtask_0_val_acc</td><td>██▇▄▅▆▃▃▂▁▅▁▃▃▃▅▆▆▅▃▂▆▂▄▅</td></tr><tr><td>task_2_prevtask_0_val_loss</td><td>▂▁▁▂▃▃▄▅▆▆▅▇▆▇▆▆▆▆▆▇█▆█▇▇</td></tr><tr><td>task_2_prevtask_1_val_acc</td><td>███████████▇▆▅▄▃▃▃▂▂▂▂▁▁▁</td></tr><tr><td>task_2_prevtask_1_val_loss</td><td>▁▁▁▁▁▂▂▂▂▂▃▃▄▄▅▅▆▆▆▇▇▇███</td></tr><tr><td>task_2_prevtask_2_val_acc</td><td>▁▁▁▁▁▁▁▁▁▂▅▆▆▆▇▇▇████████</td></tr><tr><td>task_2_prevtask_2_val_loss</td><td>█▆▅▄▄▃▃▃▂▂▂▂▁▁▁▁▁▁▁▁▁▁▁▁▁</td></tr><tr><td>task_2_train_acc</td><td>▁▁▁▁▁▁▁▁▁▁▃▅▆▆▆▇▇▇███████</td></tr><tr><td>task_2_train_loss</td><td>█▇▅▄▄▃▃▃▂▂▂▂▁▁▁▁▁▁▁▁▁▁▁▁▁</td></tr><tr><td>task_2_val_acc</td><td>▅▄▄▃▁▄▁▁▂▃▆█▇▅▅▄▆▅▅▄▂▃▄▂▄</td></tr><tr><td>task_2_val_loss</td><td>█▇▅▅▅▂▃▃▂▂▁▁▁▁▂▁▂▂▂▂▃▃▃▃▄</td></tr></table><br/></div><div class=\"wandb-col\"><h3>Run summary:</h3><br/><table class=\"wandb\"><tr><td>task_0_prevtask_0_val_acc</td><td>97.65625</td></tr><tr><td>task_0_prevtask_0_val_loss</td><td>0.06433</td></tr><tr><td>task_0_train_acc</td><td>96.53646</td></tr><tr><td>task_0_train_loss</td><td>0.08739</td></tr><tr><td>task_0_val_acc</td><td>96.2163</td></tr><tr><td>task_0_val_loss</td><td>0.09535</td></tr><tr><td>task_1_prevtask_0_val_acc</td><td>98.4375</td></tr><tr><td>task_1_prevtask_0_val_loss</td><td>0.07726</td></tr><tr><td>task_1_prevtask_1_val_acc</td><td>96.82812</td></tr><tr><td>task_1_prevtask_1_val_loss</td><td>0.10597</td></tr><tr><td>task_1_train_acc</td><td>98.69792</td></tr><tr><td>task_1_train_loss</td><td>0.05399</td></tr><tr><td>task_1_val_acc</td><td>97.64695</td></tr><tr><td>task_1_val_loss</td><td>0.10287</td></tr><tr><td>task_2_prevtask_0_val_acc</td><td>96.15502</td></tr><tr><td>task_2_prevtask_0_val_loss</td><td>0.27524</td></tr><tr><td>task_2_prevtask_1_val_acc</td><td>5.125</td></tr><tr><td>task_2_prevtask_1_val_loss</td><td>2.47782</td></tr><tr><td>task_2_prevtask_2_val_acc</td><td>84.35938</td></tr><tr><td>task_2_prevtask_2_val_loss</td><td>0.64506</td></tr><tr><td>task_2_train_acc</td><td>89.49564</td></tr><tr><td>task_2_train_loss</td><td>0.63638</td></tr><tr><td>task_2_val_acc</td><td>70.52951</td></tr><tr><td>task_2_val_loss</td><td>1.00562</td></tr></table><br/></div></div>"
            ]
          },
          "metadata": {}
        },
        {
          "output_type": "display_data",
          "data": {
            "text/plain": [
              "<IPython.core.display.HTML object>"
            ],
            "text/html": [
              "Synced <strong style=\"color:#cdcd00\">ring_imagecondition_roadcondition_yesno_21_09_03h56m50s_mul</strong>: <a href=\"https://wandb.ai/compyle/continual_vqa_final/runs/3gyg4ksl\" target=\"_blank\">https://wandb.ai/compyle/continual_vqa_final/runs/3gyg4ksl</a><br/>Synced 5 W&B file(s), 0 media file(s), 0 artifact file(s) and 0 other file(s)"
            ]
          },
          "metadata": {}
        },
        {
          "output_type": "display_data",
          "data": {
            "text/plain": [
              "<IPython.core.display.HTML object>"
            ],
            "text/html": [
              "Find logs at: <code>./wandb/run-20220921_035650-3gyg4ksl/logs</code>"
            ]
          },
          "metadata": {}
        },
        {
          "output_type": "display_data",
          "data": {
            "text/plain": [
              "<IPython.core.display.HTML object>"
            ],
            "text/html": [
              "Tracking run with wandb version 0.13.3"
            ]
          },
          "metadata": {}
        },
        {
          "output_type": "display_data",
          "data": {
            "text/plain": [
              "<IPython.core.display.HTML object>"
            ],
            "text/html": [
              "Run data is saved locally in <code>/content/wandb/run-20220921_035853-5ca62g8c</code>"
            ]
          },
          "metadata": {}
        },
        {
          "output_type": "display_data",
          "data": {
            "text/plain": [
              "<IPython.core.display.HTML object>"
            ],
            "text/html": [
              "Syncing run <strong><a href=\"https://wandb.ai/compyle/continual_vqa_final/runs/5ca62g8c\" target=\"_blank\">ring_roadcondition_yesno_imagecondition_21_09_03h58m53s_mul</a></strong> to <a href=\"https://wandb.ai/compyle/continual_vqa_final\" target=\"_blank\">Weights & Biases</a> (<a href=\"https://wandb.me/run\" target=\"_blank\">docs</a>)<br/>"
            ]
          },
          "metadata": {}
        },
        {
          "output_type": "stream",
          "name": "stdout",
          "text": [
            "########## Epoch 0\n"
          ]
        },
        {
          "output_type": "stream",
          "name": "stderr",
          "text": [
            "100%|██████████| 6/6 [00:00<00:00, 11.27it/s]\n",
            "100%|██████████| 2/2 [00:00<00:00,  5.72it/s]\n"
          ]
        },
        {
          "output_type": "stream",
          "name": "stdout",
          "text": [
            "Train loss: 0.8674641251564026\tVal loss: 0.3935200572013855\tTrain acc: 81.05902777777779\tVal acc: 83.15304487179486\n"
          ]
        },
        {
          "output_type": "stream",
          "name": "stderr",
          "text": [
            "100%|██████████| 2/2 [00:00<00:00,  6.47it/s]\n"
          ]
        },
        {
          "output_type": "stream",
          "name": "stdout",
          "text": [
            "########## Epoch 1\n"
          ]
        },
        {
          "output_type": "stream",
          "name": "stderr",
          "text": [
            "100%|██████████| 6/6 [00:00<00:00, 12.96it/s]\n",
            "100%|██████████| 2/2 [00:00<00:00,  6.68it/s]\n"
          ]
        },
        {
          "output_type": "stream",
          "name": "stdout",
          "text": [
            "Train loss: 0.31270650029182434\tVal loss: 0.1450745165348053\tTrain acc: 88.52430555555556\tVal acc: 97.54607371794872\n"
          ]
        },
        {
          "output_type": "stream",
          "name": "stderr",
          "text": [
            "100%|██████████| 2/2 [00:00<00:00,  6.82it/s]\n"
          ]
        },
        {
          "output_type": "stream",
          "name": "stdout",
          "text": [
            "########## Epoch 2\n"
          ]
        },
        {
          "output_type": "stream",
          "name": "stderr",
          "text": [
            "100%|██████████| 6/6 [00:00<00:00, 12.83it/s]\n",
            "100%|██████████| 2/2 [00:00<00:00,  6.63it/s]\n"
          ]
        },
        {
          "output_type": "stream",
          "name": "stdout",
          "text": [
            "Train loss: 0.15074992179870605\tVal loss: 0.06943733990192413\tTrain acc: 97.23090277777777\tVal acc: 98.046875\n"
          ]
        },
        {
          "output_type": "stream",
          "name": "stderr",
          "text": [
            "100%|██████████| 2/2 [00:00<00:00,  6.55it/s]\n"
          ]
        },
        {
          "output_type": "stream",
          "name": "stdout",
          "text": [
            "########## Epoch 3\n"
          ]
        },
        {
          "output_type": "stream",
          "name": "stderr",
          "text": [
            "100%|██████████| 6/6 [00:00<00:00, 12.71it/s]\n",
            "100%|██████████| 2/2 [00:00<00:00,  6.52it/s]\n"
          ]
        },
        {
          "output_type": "stream",
          "name": "stdout",
          "text": [
            "Train loss: 0.10060342401266098\tVal loss: 0.11494097858667374\tTrain acc: 97.47395833333333\tVal acc: 96.65464743589743\n"
          ]
        },
        {
          "output_type": "stream",
          "name": "stderr",
          "text": [
            "100%|██████████| 2/2 [00:00<00:00,  6.43it/s]\n"
          ]
        },
        {
          "output_type": "stream",
          "name": "stdout",
          "text": [
            "########## Epoch 4\n"
          ]
        },
        {
          "output_type": "stream",
          "name": "stderr",
          "text": [
            "100%|██████████| 6/6 [00:00<00:00, 12.72it/s]\n",
            "100%|██████████| 2/2 [00:00<00:00,  7.16it/s]\n"
          ]
        },
        {
          "output_type": "stream",
          "name": "stdout",
          "text": [
            "Train loss: 0.09690525382757187\tVal loss: 0.1400003433227539\tTrain acc: 97.7517361111111\tVal acc: 97.04527243589743\n"
          ]
        },
        {
          "output_type": "stream",
          "name": "stderr",
          "text": [
            "100%|██████████| 2/2 [00:00<00:00,  6.53it/s]\n"
          ]
        },
        {
          "output_type": "stream",
          "name": "stdout",
          "text": [
            "########## Epoch 5\n"
          ]
        },
        {
          "output_type": "stream",
          "name": "stderr",
          "text": [
            "100%|██████████| 6/6 [00:00<00:00, 12.93it/s]\n",
            "100%|██████████| 2/2 [00:00<00:00,  6.92it/s]\n"
          ]
        },
        {
          "output_type": "stream",
          "name": "stdout",
          "text": [
            "Train loss: 0.06693558394908905\tVal loss: 0.07472632080316544\tTrain acc: 98.4375\tVal acc: 97.93669871794872\n"
          ]
        },
        {
          "output_type": "stream",
          "name": "stderr",
          "text": [
            "100%|██████████| 2/2 [00:00<00:00,  7.07it/s]\n"
          ]
        },
        {
          "output_type": "stream",
          "name": "stdout",
          "text": [
            "########## Epoch 6\n"
          ]
        },
        {
          "output_type": "stream",
          "name": "stderr",
          "text": [
            "100%|██████████| 6/6 [00:00<00:00, 12.35it/s]\n",
            "100%|██████████| 2/2 [00:00<00:00,  6.76it/s]\n"
          ]
        },
        {
          "output_type": "stream",
          "name": "stdout",
          "text": [
            "Train loss: 0.07560162991285324\tVal loss: 0.055164676159620285\tTrain acc: 98.1423611111111\tVal acc: 98.828125\n"
          ]
        },
        {
          "output_type": "stream",
          "name": "stderr",
          "text": [
            "100%|██████████| 2/2 [00:00<00:00,  6.70it/s]\n"
          ]
        },
        {
          "output_type": "stream",
          "name": "stdout",
          "text": [
            "########## Epoch 7\n"
          ]
        },
        {
          "output_type": "stream",
          "name": "stderr",
          "text": [
            "100%|██████████| 6/6 [00:00<00:00, 12.62it/s]\n",
            "100%|██████████| 2/2 [00:00<00:00,  6.82it/s]\n"
          ]
        },
        {
          "output_type": "stream",
          "name": "stdout",
          "text": [
            "Train loss: 0.06500835716724396\tVal loss: 0.05779360607266426\tTrain acc: 98.15972222222223\tVal acc: 98.828125\n"
          ]
        },
        {
          "output_type": "stream",
          "name": "stderr",
          "text": [
            "100%|██████████| 2/2 [00:00<00:00,  6.81it/s]\n"
          ]
        },
        {
          "output_type": "stream",
          "name": "stdout",
          "text": [
            "########## Epoch 8\n"
          ]
        },
        {
          "output_type": "stream",
          "name": "stderr",
          "text": [
            "100%|██████████| 6/6 [00:00<00:00, 12.79it/s]\n",
            "100%|██████████| 2/2 [00:00<00:00,  6.62it/s]\n"
          ]
        },
        {
          "output_type": "stream",
          "name": "stdout",
          "text": [
            "Train loss: 0.0634169951081276\tVal loss: 0.05815029889345169\tTrain acc: 98.40277777777777\tVal acc: 98.828125\n"
          ]
        },
        {
          "output_type": "stream",
          "name": "stderr",
          "text": [
            "100%|██████████| 2/2 [00:00<00:00,  6.12it/s]\n"
          ]
        },
        {
          "output_type": "stream",
          "name": "stdout",
          "text": [
            "########## Epoch 9\n"
          ]
        },
        {
          "output_type": "stream",
          "name": "stderr",
          "text": [
            "100%|██████████| 6/6 [00:00<00:00, 13.35it/s]\n",
            "100%|██████████| 2/2 [00:00<00:00,  7.02it/s]\n"
          ]
        },
        {
          "output_type": "stream",
          "name": "stdout",
          "text": [
            "Train loss: 0.0496993362903595\tVal loss: 0.10340423882007599\tTrain acc: 98.69791666666667\tVal acc: 97.93669871794872\n"
          ]
        },
        {
          "output_type": "stream",
          "name": "stderr",
          "text": [
            "100%|██████████| 2/2 [00:00<00:00,  6.11it/s]\n"
          ]
        },
        {
          "output_type": "stream",
          "name": "stdout",
          "text": [
            "########## Epoch 10\n"
          ]
        },
        {
          "output_type": "stream",
          "name": "stderr",
          "text": [
            "100%|██████████| 6/6 [00:00<00:00, 11.96it/s]\n",
            "100%|██████████| 2/2 [00:00<00:00,  6.73it/s]\n"
          ]
        },
        {
          "output_type": "stream",
          "name": "stdout",
          "text": [
            "Train loss: 0.04940059781074524\tVal loss: 0.10844193398952484\tTrain acc: 98.69791666666667\tVal acc: 97.93669871794872\n"
          ]
        },
        {
          "output_type": "stream",
          "name": "stderr",
          "text": [
            "100%|██████████| 2/2 [00:00<00:00,  6.39it/s]\n"
          ]
        },
        {
          "output_type": "stream",
          "name": "stdout",
          "text": [
            "########## Epoch 11\n"
          ]
        },
        {
          "output_type": "stream",
          "name": "stderr",
          "text": [
            "100%|██████████| 6/6 [00:00<00:00, 12.88it/s]\n",
            "100%|██████████| 2/2 [00:00<00:00,  6.66it/s]\n"
          ]
        },
        {
          "output_type": "stream",
          "name": "stdout",
          "text": [
            "Train loss: 0.051561739295721054\tVal loss: 0.13155515491962433\tTrain acc: 98.68055555555556\tVal acc: 97.04527243589743\n"
          ]
        },
        {
          "output_type": "stream",
          "name": "stderr",
          "text": [
            "100%|██████████| 2/2 [00:00<00:00,  7.04it/s]\n"
          ]
        },
        {
          "output_type": "stream",
          "name": "stdout",
          "text": [
            "########## Epoch 12\n"
          ]
        },
        {
          "output_type": "stream",
          "name": "stderr",
          "text": [
            "100%|██████████| 6/6 [00:00<00:00, 12.88it/s]\n",
            "100%|██████████| 2/2 [00:00<00:00,  6.82it/s]\n"
          ]
        },
        {
          "output_type": "stream",
          "name": "stdout",
          "text": [
            "Train loss: 0.04667359218001366\tVal loss: 0.14252278208732605\tTrain acc: 98.8107638888889\tVal acc: 97.04527243589743\n"
          ]
        },
        {
          "output_type": "stream",
          "name": "stderr",
          "text": [
            "100%|██████████| 2/2 [00:00<00:00,  6.54it/s]\n"
          ]
        },
        {
          "output_type": "stream",
          "name": "stdout",
          "text": [
            "########## Epoch 13\n"
          ]
        },
        {
          "output_type": "stream",
          "name": "stderr",
          "text": [
            "100%|██████████| 6/6 [00:00<00:00, 12.65it/s]\n",
            "100%|██████████| 2/2 [00:00<00:00,  6.75it/s]\n"
          ]
        },
        {
          "output_type": "stream",
          "name": "stdout",
          "text": [
            "Train loss: 0.04175369068980217\tVal loss: 0.0759057104587555\tTrain acc: 98.68055555555556\tVal acc: 98.4375\n"
          ]
        },
        {
          "output_type": "stream",
          "name": "stderr",
          "text": [
            "100%|██████████| 2/2 [00:00<00:00,  6.38it/s]\n"
          ]
        },
        {
          "output_type": "stream",
          "name": "stdout",
          "text": [
            "########## Epoch 14\n"
          ]
        },
        {
          "output_type": "stream",
          "name": "stderr",
          "text": [
            "100%|██████████| 6/6 [00:00<00:00, 12.40it/s]\n",
            "100%|██████████| 2/2 [00:00<00:00,  6.47it/s]\n"
          ]
        },
        {
          "output_type": "stream",
          "name": "stdout",
          "text": [
            "Train loss: 0.044537339359521866\tVal loss: 0.07364427298307419\tTrain acc: 98.8107638888889\tVal acc: 98.4375\n"
          ]
        },
        {
          "output_type": "stream",
          "name": "stderr",
          "text": [
            "100%|██████████| 2/2 [00:00<00:00,  6.40it/s]\n"
          ]
        },
        {
          "output_type": "stream",
          "name": "stdout",
          "text": [
            "########## Epoch 15\n"
          ]
        },
        {
          "output_type": "stream",
          "name": "stderr",
          "text": [
            "100%|██████████| 6/6 [00:00<00:00, 12.50it/s]\n",
            "100%|██████████| 2/2 [00:00<00:00,  6.83it/s]\n"
          ]
        },
        {
          "output_type": "stream",
          "name": "stdout",
          "text": [
            "Train loss: 0.03281523659825325\tVal loss: 0.14599007368087769\tTrain acc: 99.08854166666667\tVal acc: 97.54607371794872\n"
          ]
        },
        {
          "output_type": "stream",
          "name": "stderr",
          "text": [
            "100%|██████████| 2/2 [00:00<00:00,  6.81it/s]\n"
          ]
        },
        {
          "output_type": "stream",
          "name": "stdout",
          "text": [
            "########## Epoch 16\n"
          ]
        },
        {
          "output_type": "stream",
          "name": "stderr",
          "text": [
            "100%|██████████| 6/6 [00:00<00:00, 12.62it/s]\n",
            "100%|██████████| 2/2 [00:00<00:00,  6.97it/s]\n"
          ]
        },
        {
          "output_type": "stream",
          "name": "stdout",
          "text": [
            "Train loss: 0.03656606748700142\tVal loss: 0.20536188781261444\tTrain acc: 98.94097222222223\tVal acc: 96.65464743589743\n"
          ]
        },
        {
          "output_type": "stream",
          "name": "stderr",
          "text": [
            "100%|██████████| 2/2 [00:00<00:00,  6.44it/s]\n"
          ]
        },
        {
          "output_type": "stream",
          "name": "stdout",
          "text": [
            "########## Epoch 17\n"
          ]
        },
        {
          "output_type": "stream",
          "name": "stderr",
          "text": [
            "100%|██████████| 6/6 [00:00<00:00, 12.94it/s]\n",
            "100%|██████████| 2/2 [00:00<00:00,  6.52it/s]\n"
          ]
        },
        {
          "output_type": "stream",
          "name": "stdout",
          "text": [
            "Train loss: 0.032918017357587814\tVal loss: 0.12465624511241913\tTrain acc: 99.07118055555556\tVal acc: 97.54607371794872\n"
          ]
        },
        {
          "output_type": "stream",
          "name": "stderr",
          "text": [
            "100%|██████████| 2/2 [00:00<00:00,  6.78it/s]\n"
          ]
        },
        {
          "output_type": "stream",
          "name": "stdout",
          "text": [
            "########## Epoch 18\n"
          ]
        },
        {
          "output_type": "stream",
          "name": "stderr",
          "text": [
            "100%|██████████| 6/6 [00:00<00:00, 12.14it/s]\n",
            "100%|██████████| 2/2 [00:00<00:00,  6.95it/s]\n"
          ]
        },
        {
          "output_type": "stream",
          "name": "stdout",
          "text": [
            "Train loss: 0.027892641723155975\tVal loss: 0.22714178264141083\tTrain acc: 99.21875\tVal acc: 96.26402243589743\n"
          ]
        },
        {
          "output_type": "stream",
          "name": "stderr",
          "text": [
            "100%|██████████| 2/2 [00:00<00:00,  6.63it/s]\n"
          ]
        },
        {
          "output_type": "stream",
          "name": "stdout",
          "text": [
            "########## Epoch 19\n"
          ]
        },
        {
          "output_type": "stream",
          "name": "stderr",
          "text": [
            "100%|██████████| 6/6 [00:00<00:00, 12.60it/s]\n",
            "100%|██████████| 2/2 [00:00<00:00,  6.75it/s]\n"
          ]
        },
        {
          "output_type": "stream",
          "name": "stdout",
          "text": [
            "Train loss: 0.030244991183280945\tVal loss: 0.1077660471200943\tTrain acc: 99.07118055555556\tVal acc: 98.4375\n"
          ]
        },
        {
          "output_type": "stream",
          "name": "stderr",
          "text": [
            "100%|██████████| 2/2 [00:00<00:00,  6.44it/s]\n"
          ]
        },
        {
          "output_type": "stream",
          "name": "stdout",
          "text": [
            "########## Epoch 20\n"
          ]
        },
        {
          "output_type": "stream",
          "name": "stderr",
          "text": [
            "100%|██████████| 6/6 [00:00<00:00, 12.91it/s]\n",
            "100%|██████████| 2/2 [00:00<00:00,  6.84it/s]\n"
          ]
        },
        {
          "output_type": "stream",
          "name": "stdout",
          "text": [
            "Train loss: 0.026881225407123566\tVal loss: 0.15861286222934723\tTrain acc: 99.47916666666667\tVal acc: 97.54607371794872\n"
          ]
        },
        {
          "output_type": "stream",
          "name": "stderr",
          "text": [
            "100%|██████████| 2/2 [00:00<00:00,  6.59it/s]\n"
          ]
        },
        {
          "output_type": "stream",
          "name": "stdout",
          "text": [
            "########## Epoch 21\n"
          ]
        },
        {
          "output_type": "stream",
          "name": "stderr",
          "text": [
            "100%|██████████| 6/6 [00:00<00:00, 12.89it/s]\n",
            "100%|██████████| 2/2 [00:00<00:00,  6.87it/s]\n"
          ]
        },
        {
          "output_type": "stream",
          "name": "stdout",
          "text": [
            "Train loss: 0.019246002659201622\tVal loss: 0.1394530087709427\tTrain acc: 99.21875\tVal acc: 97.15544871794872\n"
          ]
        },
        {
          "output_type": "stream",
          "name": "stderr",
          "text": [
            "100%|██████████| 2/2 [00:00<00:00,  6.49it/s]\n"
          ]
        },
        {
          "output_type": "stream",
          "name": "stdout",
          "text": [
            "########## Epoch 22\n"
          ]
        },
        {
          "output_type": "stream",
          "name": "stderr",
          "text": [
            "100%|██████████| 6/6 [00:00<00:00, 13.05it/s]\n",
            "100%|██████████| 2/2 [00:00<00:00,  6.73it/s]\n"
          ]
        },
        {
          "output_type": "stream",
          "name": "stdout",
          "text": [
            "Train loss: 0.020909346640110016\tVal loss: 0.1518585979938507\tTrain acc: 99.21875\tVal acc: 98.4375\n"
          ]
        },
        {
          "output_type": "stream",
          "name": "stderr",
          "text": [
            "100%|██████████| 2/2 [00:00<00:00,  6.56it/s]\n"
          ]
        },
        {
          "output_type": "stream",
          "name": "stdout",
          "text": [
            "########## Epoch 23\n"
          ]
        },
        {
          "output_type": "stream",
          "name": "stderr",
          "text": [
            "100%|██████████| 6/6 [00:00<00:00, 13.55it/s]\n",
            "100%|██████████| 2/2 [00:00<00:00,  6.87it/s]\n"
          ]
        },
        {
          "output_type": "stream",
          "name": "stdout",
          "text": [
            "Train loss: 0.019959641620516777\tVal loss: 0.3264273405075073\tTrain acc: 99.47916666666667\tVal acc: 97.54607371794872\n"
          ]
        },
        {
          "output_type": "stream",
          "name": "stderr",
          "text": [
            "100%|██████████| 2/2 [00:00<00:00,  6.54it/s]\n"
          ]
        },
        {
          "output_type": "stream",
          "name": "stdout",
          "text": [
            "########## Epoch 24\n"
          ]
        },
        {
          "output_type": "stream",
          "name": "stderr",
          "text": [
            "100%|██████████| 6/6 [00:00<00:00, 12.84it/s]\n",
            "100%|██████████| 2/2 [00:00<00:00,  6.73it/s]\n"
          ]
        },
        {
          "output_type": "stream",
          "name": "stdout",
          "text": [
            "Train loss: 0.01865464635193348\tVal loss: 0.20914161205291748\tTrain acc: 99.33159722222223\tVal acc: 97.54607371794872\n"
          ]
        },
        {
          "output_type": "stream",
          "name": "stderr",
          "text": [
            "100%|██████████| 2/2 [00:00<00:00,  6.72it/s]\n"
          ]
        },
        {
          "output_type": "stream",
          "name": "stdout",
          "text": [
            "########## Epoch 0\n"
          ]
        },
        {
          "output_type": "stream",
          "name": "stderr",
          "text": [
            "100%|██████████| 6/6 [00:00<00:00, 13.55it/s]\n",
            "100%|██████████| 3/3 [00:00<00:00,  9.44it/s]\n"
          ]
        },
        {
          "output_type": "stream",
          "name": "stdout",
          "text": [
            "Train loss: 15.632747650146484\tVal loss: 7.101804256439209\tTrain acc: 0.0\tVal acc: 48.697916666666664\n"
          ]
        },
        {
          "output_type": "stream",
          "name": "stderr",
          "text": [
            "100%|██████████| 2/2 [00:00<00:00,  6.48it/s]\n",
            "100%|██████████| 2/2 [00:00<00:00,  6.78it/s]\n"
          ]
        },
        {
          "output_type": "stream",
          "name": "stdout",
          "text": [
            "########## Epoch 1\n"
          ]
        },
        {
          "output_type": "stream",
          "name": "stderr",
          "text": [
            "100%|██████████| 6/6 [00:00<00:00, 12.93it/s]\n",
            "100%|██████████| 3/3 [00:00<00:00,  8.97it/s]\n"
          ]
        },
        {
          "output_type": "stream",
          "name": "stdout",
          "text": [
            "Train loss: 13.649323463439941\tVal loss: 6.270418167114258\tTrain acc: 0.0\tVal acc: 48.864850427350426\n"
          ]
        },
        {
          "output_type": "stream",
          "name": "stderr",
          "text": [
            "100%|██████████| 2/2 [00:00<00:00,  6.44it/s]\n",
            "100%|██████████| 2/2 [00:00<00:00,  6.42it/s]\n"
          ]
        },
        {
          "output_type": "stream",
          "name": "stdout",
          "text": [
            "########## Epoch 2\n"
          ]
        },
        {
          "output_type": "stream",
          "name": "stderr",
          "text": [
            "100%|██████████| 6/6 [00:00<00:00, 13.08it/s]\n",
            "100%|██████████| 3/3 [00:00<00:00, 10.07it/s]\n"
          ]
        },
        {
          "output_type": "stream",
          "name": "stdout",
          "text": [
            "Train loss: 11.906594276428223\tVal loss: 5.547881603240967\tTrain acc: 0.0\tVal acc: 47.74973290598291\n"
          ]
        },
        {
          "output_type": "stream",
          "name": "stderr",
          "text": [
            "100%|██████████| 2/2 [00:00<00:00,  6.05it/s]\n",
            "100%|██████████| 2/2 [00:00<00:00,  6.76it/s]\n"
          ]
        },
        {
          "output_type": "stream",
          "name": "stdout",
          "text": [
            "########## Epoch 3\n"
          ]
        },
        {
          "output_type": "stream",
          "name": "stderr",
          "text": [
            "100%|██████████| 6/6 [00:00<00:00, 13.08it/s]\n",
            "100%|██████████| 3/3 [00:00<00:00,  9.92it/s]\n"
          ]
        },
        {
          "output_type": "stream",
          "name": "stdout",
          "text": [
            "Train loss: 10.649456977844238\tVal loss: 5.014001846313477\tTrain acc: 0.0\tVal acc: 47.489316239316246\n"
          ]
        },
        {
          "output_type": "stream",
          "name": "stderr",
          "text": [
            "100%|██████████| 2/2 [00:00<00:00,  6.82it/s]\n",
            "100%|██████████| 2/2 [00:00<00:00,  6.62it/s]\n"
          ]
        },
        {
          "output_type": "stream",
          "name": "stdout",
          "text": [
            "########## Epoch 4\n"
          ]
        },
        {
          "output_type": "stream",
          "name": "stderr",
          "text": [
            "100%|██████████| 6/6 [00:00<00:00, 12.57it/s]\n",
            "100%|██████████| 3/3 [00:00<00:00,  9.73it/s]\n"
          ]
        },
        {
          "output_type": "stream",
          "name": "stdout",
          "text": [
            "Train loss: 9.50411319732666\tVal loss: 4.49534273147583\tTrain acc: 0.0\tVal acc: 47.56276709401709\n"
          ]
        },
        {
          "output_type": "stream",
          "name": "stderr",
          "text": [
            "100%|██████████| 2/2 [00:00<00:00,  6.34it/s]\n",
            "100%|██████████| 2/2 [00:00<00:00,  6.82it/s]\n"
          ]
        },
        {
          "output_type": "stream",
          "name": "stdout",
          "text": [
            "########## Epoch 5\n"
          ]
        },
        {
          "output_type": "stream",
          "name": "stderr",
          "text": [
            "100%|██████████| 6/6 [00:00<00:00, 12.90it/s]\n",
            "100%|██████████| 3/3 [00:00<00:00,  9.35it/s]\n"
          ]
        },
        {
          "output_type": "stream",
          "name": "stdout",
          "text": [
            "Train loss: 8.528804779052734\tVal loss: 4.158329486846924\tTrain acc: 0.0\tVal acc: 46.56116452991453\n"
          ]
        },
        {
          "output_type": "stream",
          "name": "stderr",
          "text": [
            "100%|██████████| 2/2 [00:00<00:00,  6.57it/s]\n",
            "100%|██████████| 2/2 [00:00<00:00,  6.87it/s]\n"
          ]
        },
        {
          "output_type": "stream",
          "name": "stdout",
          "text": [
            "########## Epoch 6\n"
          ]
        },
        {
          "output_type": "stream",
          "name": "stderr",
          "text": [
            "100%|██████████| 6/6 [00:00<00:00, 12.69it/s]\n",
            "100%|██████████| 3/3 [00:00<00:00,  9.92it/s]\n"
          ]
        },
        {
          "output_type": "stream",
          "name": "stdout",
          "text": [
            "Train loss: 7.724696636199951\tVal loss: 3.8863582611083984\tTrain acc: 0.0\tVal acc: 45.09214743589744\n"
          ]
        },
        {
          "output_type": "stream",
          "name": "stderr",
          "text": [
            "100%|██████████| 2/2 [00:00<00:00,  6.71it/s]\n",
            "100%|██████████| 2/2 [00:00<00:00,  6.42it/s]\n"
          ]
        },
        {
          "output_type": "stream",
          "name": "stdout",
          "text": [
            "########## Epoch 7\n"
          ]
        },
        {
          "output_type": "stream",
          "name": "stderr",
          "text": [
            "100%|██████████| 6/6 [00:00<00:00, 13.17it/s]\n",
            "100%|██████████| 3/3 [00:00<00:00,  9.72it/s]\n"
          ]
        },
        {
          "output_type": "stream",
          "name": "stdout",
          "text": [
            "Train loss: 7.061582088470459\tVal loss: 3.6049206256866455\tTrain acc: 0.0\tVal acc: 44.4778311965812\n"
          ]
        },
        {
          "output_type": "stream",
          "name": "stderr",
          "text": [
            "100%|██████████| 2/2 [00:00<00:00,  6.49it/s]\n",
            "100%|██████████| 2/2 [00:00<00:00,  6.65it/s]\n"
          ]
        },
        {
          "output_type": "stream",
          "name": "stdout",
          "text": [
            "########## Epoch 8\n"
          ]
        },
        {
          "output_type": "stream",
          "name": "stderr",
          "text": [
            "100%|██████████| 6/6 [00:00<00:00, 12.79it/s]\n",
            "100%|██████████| 3/3 [00:00<00:00,  9.76it/s]\n"
          ]
        },
        {
          "output_type": "stream",
          "name": "stdout",
          "text": [
            "Train loss: 6.466176509857178\tVal loss: 3.3161563873291016\tTrain acc: 0.0\tVal acc: 43.41613247863248\n"
          ]
        },
        {
          "output_type": "stream",
          "name": "stderr",
          "text": [
            "100%|██████████| 2/2 [00:00<00:00,  6.71it/s]\n",
            "100%|██████████| 2/2 [00:00<00:00,  6.84it/s]\n"
          ]
        },
        {
          "output_type": "stream",
          "name": "stdout",
          "text": [
            "########## Epoch 9\n"
          ]
        },
        {
          "output_type": "stream",
          "name": "stderr",
          "text": [
            "100%|██████████| 6/6 [00:00<00:00, 12.73it/s]\n",
            "100%|██████████| 3/3 [00:00<00:00,  9.87it/s]\n"
          ]
        },
        {
          "output_type": "stream",
          "name": "stdout",
          "text": [
            "Train loss: 5.9709930419921875\tVal loss: 3.2142646312713623\tTrain acc: 0.0\tVal acc: 39.776976495726494\n"
          ]
        },
        {
          "output_type": "stream",
          "name": "stderr",
          "text": [
            "100%|██████████| 2/2 [00:00<00:00,  6.72it/s]\n",
            "100%|██████████| 2/2 [00:00<00:00,  6.38it/s]\n"
          ]
        },
        {
          "output_type": "stream",
          "name": "stdout",
          "text": [
            "########## Epoch 10\n"
          ]
        },
        {
          "output_type": "stream",
          "name": "stderr",
          "text": [
            "100%|██████████| 6/6 [00:00<00:00, 12.05it/s]\n",
            "100%|██████████| 3/3 [00:00<00:00,  9.88it/s]\n"
          ]
        },
        {
          "output_type": "stream",
          "name": "stdout",
          "text": [
            "Train loss: 5.515023708343506\tVal loss: 3.0091865062713623\tTrain acc: 0.0\tVal acc: 40.92548076923077\n"
          ]
        },
        {
          "output_type": "stream",
          "name": "stderr",
          "text": [
            "100%|██████████| 2/2 [00:00<00:00,  6.78it/s]\n",
            "100%|██████████| 2/2 [00:00<00:00,  6.69it/s]\n"
          ]
        },
        {
          "output_type": "stream",
          "name": "stdout",
          "text": [
            "########## Epoch 11\n"
          ]
        },
        {
          "output_type": "stream",
          "name": "stderr",
          "text": [
            "100%|██████████| 6/6 [00:00<00:00, 12.48it/s]\n",
            "100%|██████████| 3/3 [00:00<00:00,  9.77it/s]\n"
          ]
        },
        {
          "output_type": "stream",
          "name": "stdout",
          "text": [
            "Train loss: 5.117812156677246\tVal loss: 2.8916561603546143\tTrain acc: 0.0\tVal acc: 38.80876068376068\n"
          ]
        },
        {
          "output_type": "stream",
          "name": "stderr",
          "text": [
            "100%|██████████| 2/2 [00:00<00:00,  6.87it/s]\n",
            "100%|██████████| 2/2 [00:00<00:00,  6.77it/s]\n"
          ]
        },
        {
          "output_type": "stream",
          "name": "stdout",
          "text": [
            "########## Epoch 12\n"
          ]
        },
        {
          "output_type": "stream",
          "name": "stderr",
          "text": [
            "100%|██████████| 6/6 [00:00<00:00, 12.96it/s]\n",
            "100%|██████████| 3/3 [00:00<00:00,  9.26it/s]\n"
          ]
        },
        {
          "output_type": "stream",
          "name": "stdout",
          "text": [
            "Train loss: 4.780505657196045\tVal loss: 2.7233009338378906\tTrain acc: 0.0\tVal acc: 38.95566239316239\n"
          ]
        },
        {
          "output_type": "stream",
          "name": "stderr",
          "text": [
            "100%|██████████| 2/2 [00:00<00:00,  6.34it/s]\n",
            "100%|██████████| 2/2 [00:00<00:00,  6.74it/s]\n"
          ]
        },
        {
          "output_type": "stream",
          "name": "stdout",
          "text": [
            "########## Epoch 13\n"
          ]
        },
        {
          "output_type": "stream",
          "name": "stderr",
          "text": [
            "100%|██████████| 6/6 [00:00<00:00, 12.74it/s]\n",
            "100%|██████████| 3/3 [00:00<00:00,  9.43it/s]\n"
          ]
        },
        {
          "output_type": "stream",
          "name": "stdout",
          "text": [
            "Train loss: 4.421746253967285\tVal loss: 2.6349234580993652\tTrain acc: 0.0\tVal acc: 38.10096153846154\n"
          ]
        },
        {
          "output_type": "stream",
          "name": "stderr",
          "text": [
            "100%|██████████| 2/2 [00:00<00:00,  6.24it/s]\n",
            "100%|██████████| 2/2 [00:00<00:00,  6.50it/s]\n"
          ]
        },
        {
          "output_type": "stream",
          "name": "stdout",
          "text": [
            "########## Epoch 14\n"
          ]
        },
        {
          "output_type": "stream",
          "name": "stderr",
          "text": [
            "100%|██████████| 6/6 [00:00<00:00, 12.57it/s]\n",
            "100%|██████████| 3/3 [00:00<00:00,  9.55it/s]\n"
          ]
        },
        {
          "output_type": "stream",
          "name": "stdout",
          "text": [
            "Train loss: 4.1317267417907715\tVal loss: 2.4987833499908447\tTrain acc: 0.0\tVal acc: 36.798878205128204\n"
          ]
        },
        {
          "output_type": "stream",
          "name": "stderr",
          "text": [
            "100%|██████████| 2/2 [00:00<00:00,  6.87it/s]\n",
            "100%|██████████| 2/2 [00:00<00:00,  6.76it/s]\n"
          ]
        },
        {
          "output_type": "stream",
          "name": "stdout",
          "text": [
            "########## Epoch 15\n"
          ]
        },
        {
          "output_type": "stream",
          "name": "stderr",
          "text": [
            "100%|██████████| 6/6 [00:00<00:00, 12.75it/s]\n",
            "100%|██████████| 3/3 [00:00<00:00,  9.41it/s]\n"
          ]
        },
        {
          "output_type": "stream",
          "name": "stdout",
          "text": [
            "Train loss: 3.8411858081817627\tVal loss: 2.350385904312134\tTrain acc: 0.0\tVal acc: 35.73717948717948\n"
          ]
        },
        {
          "output_type": "stream",
          "name": "stderr",
          "text": [
            "100%|██████████| 2/2 [00:00<00:00,  6.66it/s]\n",
            "100%|██████████| 2/2 [00:00<00:00,  6.55it/s]\n"
          ]
        },
        {
          "output_type": "stream",
          "name": "stdout",
          "text": [
            "########## Epoch 16\n"
          ]
        },
        {
          "output_type": "stream",
          "name": "stderr",
          "text": [
            "100%|██████████| 6/6 [00:00<00:00, 12.90it/s]\n",
            "100%|██████████| 3/3 [00:00<00:00,  9.20it/s]\n"
          ]
        },
        {
          "output_type": "stream",
          "name": "stdout",
          "text": [
            "Train loss: 3.566154718399048\tVal loss: 2.2445273399353027\tTrain acc: 0.0\tVal acc: 36.144497863247864\n"
          ]
        },
        {
          "output_type": "stream",
          "name": "stderr",
          "text": [
            "100%|██████████| 2/2 [00:00<00:00,  6.15it/s]\n",
            "100%|██████████| 2/2 [00:00<00:00,  6.12it/s]\n"
          ]
        },
        {
          "output_type": "stream",
          "name": "stdout",
          "text": [
            "########## Epoch 17\n"
          ]
        },
        {
          "output_type": "stream",
          "name": "stderr",
          "text": [
            "100%|██████████| 6/6 [00:00<00:00, 12.60it/s]\n",
            "100%|██████████| 3/3 [00:00<00:00,  9.60it/s]\n"
          ]
        },
        {
          "output_type": "stream",
          "name": "stdout",
          "text": [
            "Train loss: 3.286297559738159\tVal loss: 2.161895513534546\tTrain acc: 0.0\tVal acc: 34.3616452991453\n"
          ]
        },
        {
          "output_type": "stream",
          "name": "stderr",
          "text": [
            "100%|██████████| 2/2 [00:00<00:00,  6.21it/s]\n",
            "100%|██████████| 2/2 [00:00<00:00,  6.35it/s]\n"
          ]
        },
        {
          "output_type": "stream",
          "name": "stdout",
          "text": [
            "########## Epoch 18\n"
          ]
        },
        {
          "output_type": "stream",
          "name": "stderr",
          "text": [
            "100%|██████████| 6/6 [00:00<00:00, 13.09it/s]\n",
            "100%|██████████| 3/3 [00:00<00:00,  9.07it/s]\n"
          ]
        },
        {
          "output_type": "stream",
          "name": "stdout",
          "text": [
            "Train loss: 3.0240800380706787\tVal loss: 2.0953917503356934\tTrain acc: 0.0\tVal acc: 32.986111111111114\n"
          ]
        },
        {
          "output_type": "stream",
          "name": "stderr",
          "text": [
            "100%|██████████| 2/2 [00:00<00:00,  6.52it/s]\n",
            "100%|██████████| 2/2 [00:00<00:00,  6.65it/s]\n"
          ]
        },
        {
          "output_type": "stream",
          "name": "stdout",
          "text": [
            "########## Epoch 19\n"
          ]
        },
        {
          "output_type": "stream",
          "name": "stderr",
          "text": [
            "100%|██████████| 6/6 [00:00<00:00, 12.45it/s]\n",
            "100%|██████████| 3/3 [00:00<00:00,  9.66it/s]\n"
          ]
        },
        {
          "output_type": "stream",
          "name": "stdout",
          "text": [
            "Train loss: 2.759709119796753\tVal loss: 2.0178966522216797\tTrain acc: 0.0\tVal acc: 29.901175213675213\n"
          ]
        },
        {
          "output_type": "stream",
          "name": "stderr",
          "text": [
            "100%|██████████| 2/2 [00:00<00:00,  6.21it/s]\n",
            "100%|██████████| 2/2 [00:00<00:00,  6.32it/s]\n"
          ]
        },
        {
          "output_type": "stream",
          "name": "stdout",
          "text": [
            "########## Epoch 20\n"
          ]
        },
        {
          "output_type": "stream",
          "name": "stderr",
          "text": [
            "100%|██████████| 6/6 [00:00<00:00, 12.56it/s]\n",
            "100%|██████████| 3/3 [00:00<00:00,  9.19it/s]\n"
          ]
        },
        {
          "output_type": "stream",
          "name": "stdout",
          "text": [
            "Train loss: 2.5051114559173584\tVal loss: 1.922472357749939\tTrain acc: 0.0\tVal acc: 28.859508547008545\n"
          ]
        },
        {
          "output_type": "stream",
          "name": "stderr",
          "text": [
            "100%|██████████| 2/2 [00:00<00:00,  6.72it/s]\n",
            "100%|██████████| 2/2 [00:00<00:00,  6.80it/s]\n"
          ]
        },
        {
          "output_type": "stream",
          "name": "stdout",
          "text": [
            "########## Epoch 21\n"
          ]
        },
        {
          "output_type": "stream",
          "name": "stderr",
          "text": [
            "100%|██████████| 6/6 [00:00<00:00, 12.64it/s]\n",
            "100%|██████████| 3/3 [00:00<00:00,  9.80it/s]\n"
          ]
        },
        {
          "output_type": "stream",
          "name": "stdout",
          "text": [
            "Train loss: 2.2593319416046143\tVal loss: 1.834886074066162\tTrain acc: 0.0\tVal acc: 28.672542735042736\n"
          ]
        },
        {
          "output_type": "stream",
          "name": "stderr",
          "text": [
            "100%|██████████| 2/2 [00:00<00:00,  6.72it/s]\n",
            "100%|██████████| 2/2 [00:00<00:00,  6.33it/s]\n"
          ]
        },
        {
          "output_type": "stream",
          "name": "stdout",
          "text": [
            "########## Epoch 22\n"
          ]
        },
        {
          "output_type": "stream",
          "name": "stderr",
          "text": [
            "100%|██████████| 6/6 [00:00<00:00, 12.91it/s]\n",
            "100%|██████████| 3/3 [00:00<00:00,  8.38it/s]\n"
          ]
        },
        {
          "output_type": "stream",
          "name": "stdout",
          "text": [
            "Train loss: 1.9982494115829468\tVal loss: 1.7721662521362305\tTrain acc: 0.0\tVal acc: 28.1517094017094\n"
          ]
        },
        {
          "output_type": "stream",
          "name": "stderr",
          "text": [
            "100%|██████████| 2/2 [00:00<00:00,  6.60it/s]\n",
            "100%|██████████| 2/2 [00:00<00:00,  6.68it/s]\n"
          ]
        },
        {
          "output_type": "stream",
          "name": "stdout",
          "text": [
            "########## Epoch 23\n"
          ]
        },
        {
          "output_type": "stream",
          "name": "stderr",
          "text": [
            "100%|██████████| 6/6 [00:00<00:00, 12.34it/s]\n",
            "100%|██████████| 3/3 [00:00<00:00,  9.25it/s]\n"
          ]
        },
        {
          "output_type": "stream",
          "name": "stdout",
          "text": [
            "Train loss: 1.7613439559936523\tVal loss: 1.740065574645996\tTrain acc: 3.4895833333333335\tVal acc: 30.401976495726498\n"
          ]
        },
        {
          "output_type": "stream",
          "name": "stderr",
          "text": [
            "100%|██████████| 2/2 [00:00<00:00,  6.58it/s]\n",
            "100%|██████████| 2/2 [00:00<00:00,  6.34it/s]\n"
          ]
        },
        {
          "output_type": "stream",
          "name": "stdout",
          "text": [
            "########## Epoch 24\n"
          ]
        },
        {
          "output_type": "stream",
          "name": "stderr",
          "text": [
            "100%|██████████| 6/6 [00:00<00:00, 12.92it/s]\n",
            "100%|██████████| 3/3 [00:00<00:00,  9.16it/s]\n"
          ]
        },
        {
          "output_type": "stream",
          "name": "stdout",
          "text": [
            "Train loss: 1.5342053174972534\tVal loss: 1.7077010869979858\tTrain acc: 24.765625\tVal acc: 38.43482905982906\n"
          ]
        },
        {
          "output_type": "stream",
          "name": "stderr",
          "text": [
            "100%|██████████| 2/2 [00:00<00:00,  6.22it/s]\n",
            "100%|██████████| 2/2 [00:00<00:00,  6.72it/s]\n"
          ]
        },
        {
          "output_type": "stream",
          "name": "stdout",
          "text": [
            "########## Epoch 0\n"
          ]
        },
        {
          "output_type": "stream",
          "name": "stderr",
          "text": [
            "100%|██████████| 10/10 [00:00<00:00, 16.28it/s]\n",
            "100%|██████████| 5/5 [00:00<00:00, 14.98it/s]\n"
          ]
        },
        {
          "output_type": "stream",
          "name": "stdout",
          "text": [
            "Train loss: 0.8467036485671997\tVal loss: 1.1311101913452148\tTrain acc: 78.17708333333334\tVal acc: 63.92857142857143\n"
          ]
        },
        {
          "output_type": "stream",
          "name": "stderr",
          "text": [
            "100%|██████████| 2/2 [00:00<00:00,  6.38it/s]\n",
            "100%|██████████| 2/2 [00:00<00:00,  6.40it/s]\n",
            "100%|██████████| 3/3 [00:00<00:00,  9.91it/s]\n"
          ]
        },
        {
          "output_type": "stream",
          "name": "stdout",
          "text": [
            "########## Epoch 1\n"
          ]
        },
        {
          "output_type": "stream",
          "name": "stderr",
          "text": [
            "100%|██████████| 10/10 [00:00<00:00, 16.79it/s]\n",
            "100%|██████████| 5/5 [00:00<00:00, 14.14it/s]\n"
          ]
        },
        {
          "output_type": "stream",
          "name": "stdout",
          "text": [
            "Train loss: 0.581819474697113\tVal loss: 0.9103478193283081\tTrain acc: 87.78645833333334\tVal acc: 70.78125\n"
          ]
        },
        {
          "output_type": "stream",
          "name": "stderr",
          "text": [
            "100%|██████████| 2/2 [00:00<00:00,  6.26it/s]\n",
            "100%|██████████| 2/2 [00:00<00:00,  6.59it/s]\n",
            "100%|██████████| 3/3 [00:00<00:00,  9.41it/s]\n"
          ]
        },
        {
          "output_type": "stream",
          "name": "stdout",
          "text": [
            "########## Epoch 2\n"
          ]
        },
        {
          "output_type": "stream",
          "name": "stderr",
          "text": [
            "100%|██████████| 10/10 [00:00<00:00, 17.34it/s]\n",
            "100%|██████████| 5/5 [00:00<00:00, 14.18it/s]\n"
          ]
        },
        {
          "output_type": "stream",
          "name": "stdout",
          "text": [
            "Train loss: 0.4325191378593445\tVal loss: 0.7925103306770325\tTrain acc: 92.00520833333334\tVal acc: 72.83482142857142\n"
          ]
        },
        {
          "output_type": "stream",
          "name": "stderr",
          "text": [
            "100%|██████████| 2/2 [00:00<00:00,  6.45it/s]\n",
            "100%|██████████| 2/2 [00:00<00:00,  6.47it/s]\n",
            "100%|██████████| 3/3 [00:00<00:00,  9.44it/s]\n"
          ]
        },
        {
          "output_type": "stream",
          "name": "stdout",
          "text": [
            "########## Epoch 3\n"
          ]
        },
        {
          "output_type": "stream",
          "name": "stderr",
          "text": [
            "100%|██████████| 10/10 [00:00<00:00, 16.61it/s]\n",
            "100%|██████████| 5/5 [00:00<00:00, 14.76it/s]\n"
          ]
        },
        {
          "output_type": "stream",
          "name": "stdout",
          "text": [
            "Train loss: 0.3312717378139496\tVal loss: 0.7417676448822021\tTrain acc: 93.80208333333334\tVal acc: 73.48214285714286\n"
          ]
        },
        {
          "output_type": "stream",
          "name": "stderr",
          "text": [
            "100%|██████████| 2/2 [00:00<00:00,  6.37it/s]\n",
            "100%|██████████| 2/2 [00:00<00:00,  6.65it/s]\n",
            "100%|██████████| 3/3 [00:00<00:00,  8.88it/s]\n"
          ]
        },
        {
          "output_type": "stream",
          "name": "stdout",
          "text": [
            "########## Epoch 4\n"
          ]
        },
        {
          "output_type": "stream",
          "name": "stderr",
          "text": [
            "100%|██████████| 10/10 [00:00<00:00, 16.55it/s]\n",
            "100%|██████████| 5/5 [00:00<00:00, 14.80it/s]\n"
          ]
        },
        {
          "output_type": "stream",
          "name": "stdout",
          "text": [
            "Train loss: 0.2574523687362671\tVal loss: 0.7152671813964844\tTrain acc: 96.09375\tVal acc: 73.52678571428571\n"
          ]
        },
        {
          "output_type": "stream",
          "name": "stderr",
          "text": [
            "100%|██████████| 2/2 [00:00<00:00,  6.43it/s]\n",
            "100%|██████████| 2/2 [00:00<00:00,  6.58it/s]\n",
            "100%|██████████| 3/3 [00:00<00:00,  9.70it/s]\n"
          ]
        },
        {
          "output_type": "stream",
          "name": "stdout",
          "text": [
            "########## Epoch 5\n"
          ]
        },
        {
          "output_type": "stream",
          "name": "stderr",
          "text": [
            "100%|██████████| 10/10 [00:00<00:00, 16.12it/s]\n",
            "100%|██████████| 5/5 [00:00<00:00, 15.05it/s]\n"
          ]
        },
        {
          "output_type": "stream",
          "name": "stdout",
          "text": [
            "Train loss: 0.2918603718280792\tVal loss: 0.7037855386734009\tTrain acc: 94.97395833333334\tVal acc: 73.57142857142858\n"
          ]
        },
        {
          "output_type": "stream",
          "name": "stderr",
          "text": [
            "100%|██████████| 2/2 [00:00<00:00,  6.18it/s]\n",
            "100%|██████████| 2/2 [00:00<00:00,  6.37it/s]\n",
            "100%|██████████| 3/3 [00:00<00:00,  9.15it/s]\n"
          ]
        },
        {
          "output_type": "stream",
          "name": "stdout",
          "text": [
            "########## Epoch 6\n"
          ]
        },
        {
          "output_type": "stream",
          "name": "stderr",
          "text": [
            "100%|██████████| 10/10 [00:00<00:00, 16.63it/s]\n",
            "100%|██████████| 5/5 [00:00<00:00, 14.49it/s]\n"
          ]
        },
        {
          "output_type": "stream",
          "name": "stdout",
          "text": [
            "Train loss: 0.26194077730178833\tVal loss: 0.692426323890686\tTrain acc: 94.97395833333334\tVal acc: 73.50446428571429\n"
          ]
        },
        {
          "output_type": "stream",
          "name": "stderr",
          "text": [
            "100%|██████████| 2/2 [00:00<00:00,  6.69it/s]\n",
            "100%|██████████| 2/2 [00:00<00:00,  6.47it/s]\n",
            "100%|██████████| 3/3 [00:00<00:00,  9.45it/s]\n"
          ]
        },
        {
          "output_type": "stream",
          "name": "stdout",
          "text": [
            "########## Epoch 7\n"
          ]
        },
        {
          "output_type": "stream",
          "name": "stderr",
          "text": [
            "100%|██████████| 10/10 [00:00<00:00, 16.96it/s]\n",
            "100%|██████████| 5/5 [00:00<00:00, 14.89it/s]\n"
          ]
        },
        {
          "output_type": "stream",
          "name": "stdout",
          "text": [
            "Train loss: 0.24831490218639374\tVal loss: 0.6870253682136536\tTrain acc: 95.13020833333334\tVal acc: 73.39285714285714\n"
          ]
        },
        {
          "output_type": "stream",
          "name": "stderr",
          "text": [
            "100%|██████████| 2/2 [00:00<00:00,  6.33it/s]\n",
            "100%|██████████| 2/2 [00:00<00:00,  6.24it/s]\n",
            "100%|██████████| 3/3 [00:00<00:00,  9.12it/s]\n"
          ]
        },
        {
          "output_type": "stream",
          "name": "stdout",
          "text": [
            "########## Epoch 8\n"
          ]
        },
        {
          "output_type": "stream",
          "name": "stderr",
          "text": [
            "100%|██████████| 10/10 [00:00<00:00, 16.58it/s]\n",
            "100%|██████████| 5/5 [00:00<00:00, 14.82it/s]\n"
          ]
        },
        {
          "output_type": "stream",
          "name": "stdout",
          "text": [
            "Train loss: 0.18221114575862885\tVal loss: 0.6768403053283691\tTrain acc: 96.71875\tVal acc: 73.19196428571429\n"
          ]
        },
        {
          "output_type": "stream",
          "name": "stderr",
          "text": [
            "100%|██████████| 2/2 [00:00<00:00,  6.47it/s]\n",
            "100%|██████████| 2/2 [00:00<00:00,  6.27it/s]\n",
            "100%|██████████| 3/3 [00:00<00:00,  9.49it/s]\n"
          ]
        },
        {
          "output_type": "stream",
          "name": "stdout",
          "text": [
            "########## Epoch 9\n"
          ]
        },
        {
          "output_type": "stream",
          "name": "stderr",
          "text": [
            "100%|██████████| 10/10 [00:00<00:00, 16.37it/s]\n",
            "100%|██████████| 5/5 [00:00<00:00, 14.76it/s]\n"
          ]
        },
        {
          "output_type": "stream",
          "name": "stdout",
          "text": [
            "Train loss: 0.17711225152015686\tVal loss: 0.6747192144393921\tTrain acc: 96.796875\tVal acc: 73.4375\n"
          ]
        },
        {
          "output_type": "stream",
          "name": "stderr",
          "text": [
            "100%|██████████| 2/2 [00:00<00:00,  6.80it/s]\n",
            "100%|██████████| 2/2 [00:00<00:00,  6.31it/s]\n",
            "100%|██████████| 3/3 [00:00<00:00,  9.53it/s]\n"
          ]
        },
        {
          "output_type": "stream",
          "name": "stdout",
          "text": [
            "########## Epoch 10\n"
          ]
        },
        {
          "output_type": "stream",
          "name": "stderr",
          "text": [
            "100%|██████████| 10/10 [00:00<00:00, 16.82it/s]\n",
            "100%|██████████| 5/5 [00:00<00:00, 14.21it/s]\n"
          ]
        },
        {
          "output_type": "stream",
          "name": "stdout",
          "text": [
            "Train loss: 0.22342343628406525\tVal loss: 0.6675412058830261\tTrain acc: 95.28645833333334\tVal acc: 72.94642857142858\n"
          ]
        },
        {
          "output_type": "stream",
          "name": "stderr",
          "text": [
            "100%|██████████| 2/2 [00:00<00:00,  6.64it/s]\n",
            "100%|██████████| 2/2 [00:00<00:00,  6.56it/s]\n",
            "100%|██████████| 3/3 [00:00<00:00,  9.20it/s]\n"
          ]
        },
        {
          "output_type": "stream",
          "name": "stdout",
          "text": [
            "########## Epoch 11\n"
          ]
        },
        {
          "output_type": "stream",
          "name": "stderr",
          "text": [
            "100%|██████████| 10/10 [00:00<00:00, 16.38it/s]\n",
            "100%|██████████| 5/5 [00:00<00:00, 13.89it/s]\n"
          ]
        },
        {
          "output_type": "stream",
          "name": "stdout",
          "text": [
            "Train loss: 0.1736833155155182\tVal loss: 0.66391921043396\tTrain acc: 96.875\tVal acc: 72.85714285714286\n"
          ]
        },
        {
          "output_type": "stream",
          "name": "stderr",
          "text": [
            "100%|██████████| 2/2 [00:00<00:00,  6.33it/s]\n",
            "100%|██████████| 2/2 [00:00<00:00,  6.42it/s]\n",
            "100%|██████████| 3/3 [00:00<00:00,  8.91it/s]\n"
          ]
        },
        {
          "output_type": "stream",
          "name": "stdout",
          "text": [
            "########## Epoch 12\n"
          ]
        },
        {
          "output_type": "stream",
          "name": "stderr",
          "text": [
            "100%|██████████| 10/10 [00:00<00:00, 16.82it/s]\n",
            "100%|██████████| 5/5 [00:00<00:00, 13.57it/s]\n"
          ]
        },
        {
          "output_type": "stream",
          "name": "stdout",
          "text": [
            "Train loss: 0.20696792006492615\tVal loss: 0.6638936996459961\tTrain acc: 95.28645833333334\tVal acc: 72.74553571428571\n"
          ]
        },
        {
          "output_type": "stream",
          "name": "stderr",
          "text": [
            "100%|██████████| 2/2 [00:00<00:00,  6.43it/s]\n",
            "100%|██████████| 2/2 [00:00<00:00,  6.38it/s]\n",
            "100%|██████████| 3/3 [00:00<00:00,  9.28it/s]\n"
          ]
        },
        {
          "output_type": "stream",
          "name": "stdout",
          "text": [
            "########## Epoch 13\n"
          ]
        },
        {
          "output_type": "stream",
          "name": "stderr",
          "text": [
            "100%|██████████| 10/10 [00:00<00:00, 17.35it/s]\n",
            "100%|██████████| 5/5 [00:00<00:00, 13.85it/s]\n"
          ]
        },
        {
          "output_type": "stream",
          "name": "stdout",
          "text": [
            "Train loss: 0.15998685359954834\tVal loss: 0.6611722111701965\tTrain acc: 96.953125\tVal acc: 72.94642857142858\n"
          ]
        },
        {
          "output_type": "stream",
          "name": "stderr",
          "text": [
            "100%|██████████| 2/2 [00:00<00:00,  6.62it/s]\n",
            "100%|██████████| 2/2 [00:00<00:00,  6.24it/s]\n",
            "100%|██████████| 3/3 [00:00<00:00,  9.50it/s]\n"
          ]
        },
        {
          "output_type": "stream",
          "name": "stdout",
          "text": [
            "########## Epoch 14\n"
          ]
        },
        {
          "output_type": "stream",
          "name": "stderr",
          "text": [
            "100%|██████████| 10/10 [00:00<00:00, 17.11it/s]\n",
            "100%|██████████| 5/5 [00:00<00:00, 14.65it/s]\n"
          ]
        },
        {
          "output_type": "stream",
          "name": "stdout",
          "text": [
            "Train loss: 0.1614803969860077\tVal loss: 0.6557424664497375\tTrain acc: 96.875\tVal acc: 72.92410714285714\n"
          ]
        },
        {
          "output_type": "stream",
          "name": "stderr",
          "text": [
            "100%|██████████| 2/2 [00:00<00:00,  6.40it/s]\n",
            "100%|██████████| 2/2 [00:00<00:00,  6.27it/s]\n",
            "100%|██████████| 3/3 [00:00<00:00,  9.53it/s]\n"
          ]
        },
        {
          "output_type": "stream",
          "name": "stdout",
          "text": [
            "########## Epoch 15\n"
          ]
        },
        {
          "output_type": "stream",
          "name": "stderr",
          "text": [
            "100%|██████████| 10/10 [00:00<00:00, 16.78it/s]\n",
            "100%|██████████| 5/5 [00:00<00:00, 14.09it/s]\n"
          ]
        },
        {
          "output_type": "stream",
          "name": "stdout",
          "text": [
            "Train loss: 0.1584877073764801\tVal loss: 0.6588901281356812\tTrain acc: 96.953125\tVal acc: 72.67857142857142\n"
          ]
        },
        {
          "output_type": "stream",
          "name": "stderr",
          "text": [
            "100%|██████████| 2/2 [00:00<00:00,  6.36it/s]\n",
            "100%|██████████| 2/2 [00:00<00:00,  6.43it/s]\n",
            "100%|██████████| 3/3 [00:00<00:00,  9.10it/s]\n"
          ]
        },
        {
          "output_type": "stream",
          "name": "stdout",
          "text": [
            "########## Epoch 16\n"
          ]
        },
        {
          "output_type": "stream",
          "name": "stderr",
          "text": [
            "100%|██████████| 10/10 [00:00<00:00, 16.80it/s]\n",
            "100%|██████████| 5/5 [00:00<00:00, 14.31it/s]\n"
          ]
        },
        {
          "output_type": "stream",
          "name": "stdout",
          "text": [
            "Train loss: 0.15159624814987183\tVal loss: 0.6532995104789734\tTrain acc: 96.875\tVal acc: 72.8125\n"
          ]
        },
        {
          "output_type": "stream",
          "name": "stderr",
          "text": [
            "100%|██████████| 2/2 [00:00<00:00,  6.29it/s]\n",
            "100%|██████████| 2/2 [00:00<00:00,  6.62it/s]\n",
            "100%|██████████| 3/3 [00:00<00:00,  9.48it/s]\n"
          ]
        },
        {
          "output_type": "stream",
          "name": "stdout",
          "text": [
            "########## Epoch 17\n"
          ]
        },
        {
          "output_type": "stream",
          "name": "stderr",
          "text": [
            "100%|██████████| 10/10 [00:00<00:00, 16.06it/s]\n",
            "100%|██████████| 5/5 [00:00<00:00, 14.19it/s]\n"
          ]
        },
        {
          "output_type": "stream",
          "name": "stdout",
          "text": [
            "Train loss: 0.1525074690580368\tVal loss: 0.6499446034431458\tTrain acc: 96.875\tVal acc: 72.94642857142858\n"
          ]
        },
        {
          "output_type": "stream",
          "name": "stderr",
          "text": [
            "100%|██████████| 2/2 [00:00<00:00,  6.60it/s]\n",
            "100%|██████████| 2/2 [00:00<00:00,  6.50it/s]\n",
            "100%|██████████| 3/3 [00:00<00:00,  9.29it/s]\n"
          ]
        },
        {
          "output_type": "stream",
          "name": "stdout",
          "text": [
            "########## Epoch 18\n"
          ]
        },
        {
          "output_type": "stream",
          "name": "stderr",
          "text": [
            "100%|██████████| 10/10 [00:00<00:00, 17.03it/s]\n",
            "100%|██████████| 5/5 [00:00<00:00, 14.60it/s]\n"
          ]
        },
        {
          "output_type": "stream",
          "name": "stdout",
          "text": [
            "Train loss: 0.1585005521774292\tVal loss: 0.6552878618240356\tTrain acc: 97.03125\tVal acc: 72.65625\n"
          ]
        },
        {
          "output_type": "stream",
          "name": "stderr",
          "text": [
            "100%|██████████| 2/2 [00:00<00:00,  6.57it/s]\n",
            "100%|██████████| 2/2 [00:00<00:00,  6.39it/s]\n",
            "100%|██████████| 3/3 [00:00<00:00,  9.25it/s]\n"
          ]
        },
        {
          "output_type": "stream",
          "name": "stdout",
          "text": [
            "########## Epoch 19\n"
          ]
        },
        {
          "output_type": "stream",
          "name": "stderr",
          "text": [
            "100%|██████████| 10/10 [00:00<00:00, 16.52it/s]\n",
            "100%|██████████| 5/5 [00:00<00:00, 13.08it/s]\n"
          ]
        },
        {
          "output_type": "stream",
          "name": "stdout",
          "text": [
            "Train loss: 0.1525874137878418\tVal loss: 0.6530770063400269\tTrain acc: 96.953125\tVal acc: 72.70089285714286\n"
          ]
        },
        {
          "output_type": "stream",
          "name": "stderr",
          "text": [
            "100%|██████████| 2/2 [00:00<00:00,  6.38it/s]\n",
            "100%|██████████| 2/2 [00:00<00:00,  6.26it/s]\n",
            "100%|██████████| 3/3 [00:00<00:00,  9.35it/s]\n"
          ]
        },
        {
          "output_type": "stream",
          "name": "stdout",
          "text": [
            "########## Epoch 20\n"
          ]
        },
        {
          "output_type": "stream",
          "name": "stderr",
          "text": [
            "100%|██████████| 10/10 [00:00<00:00, 17.35it/s]\n",
            "100%|██████████| 5/5 [00:00<00:00, 14.05it/s]\n"
          ]
        },
        {
          "output_type": "stream",
          "name": "stdout",
          "text": [
            "Train loss: 0.14453890919685364\tVal loss: 0.646401047706604\tTrain acc: 96.953125\tVal acc: 72.85714285714286\n"
          ]
        },
        {
          "output_type": "stream",
          "name": "stderr",
          "text": [
            "100%|██████████| 2/2 [00:00<00:00,  6.59it/s]\n",
            "100%|██████████| 2/2 [00:00<00:00,  6.96it/s]\n",
            "100%|██████████| 3/3 [00:00<00:00,  9.18it/s]\n"
          ]
        },
        {
          "output_type": "stream",
          "name": "stdout",
          "text": [
            "########## Epoch 21\n"
          ]
        },
        {
          "output_type": "stream",
          "name": "stderr",
          "text": [
            "100%|██████████| 10/10 [00:00<00:00, 16.91it/s]\n",
            "100%|██████████| 5/5 [00:00<00:00, 13.89it/s]\n"
          ]
        },
        {
          "output_type": "stream",
          "name": "stdout",
          "text": [
            "Train loss: 0.14826247096061707\tVal loss: 0.6471750736236572\tTrain acc: 96.953125\tVal acc: 72.76785714285714\n"
          ]
        },
        {
          "output_type": "stream",
          "name": "stderr",
          "text": [
            "100%|██████████| 2/2 [00:00<00:00,  6.24it/s]\n",
            "100%|██████████| 2/2 [00:00<00:00,  6.60it/s]\n",
            "100%|██████████| 3/3 [00:00<00:00,  9.38it/s]\n"
          ]
        },
        {
          "output_type": "stream",
          "name": "stdout",
          "text": [
            "########## Epoch 22\n"
          ]
        },
        {
          "output_type": "stream",
          "name": "stderr",
          "text": [
            "100%|██████████| 10/10 [00:00<00:00, 17.33it/s]\n",
            "100%|██████████| 5/5 [00:00<00:00, 14.16it/s]\n"
          ]
        },
        {
          "output_type": "stream",
          "name": "stdout",
          "text": [
            "Train loss: 0.14347462356090546\tVal loss: 0.6455812454223633\tTrain acc: 96.875\tVal acc: 72.58928571428571\n"
          ]
        },
        {
          "output_type": "stream",
          "name": "stderr",
          "text": [
            "100%|██████████| 2/2 [00:00<00:00,  6.30it/s]\n",
            "100%|██████████| 2/2 [00:00<00:00,  6.63it/s]\n",
            "100%|██████████| 3/3 [00:00<00:00,  9.58it/s]\n"
          ]
        },
        {
          "output_type": "stream",
          "name": "stdout",
          "text": [
            "########## Epoch 23\n"
          ]
        },
        {
          "output_type": "stream",
          "name": "stderr",
          "text": [
            "100%|██████████| 10/10 [00:00<00:00, 16.67it/s]\n",
            "100%|██████████| 5/5 [00:00<00:00, 14.07it/s]\n"
          ]
        },
        {
          "output_type": "stream",
          "name": "stdout",
          "text": [
            "Train loss: 0.14242249727249146\tVal loss: 0.6499550342559814\tTrain acc: 96.953125\tVal acc: 72.38839285714286\n"
          ]
        },
        {
          "output_type": "stream",
          "name": "stderr",
          "text": [
            "100%|██████████| 2/2 [00:00<00:00,  6.36it/s]\n",
            "100%|██████████| 2/2 [00:00<00:00,  6.49it/s]\n",
            "100%|██████████| 3/3 [00:00<00:00,  9.54it/s]\n"
          ]
        },
        {
          "output_type": "stream",
          "name": "stdout",
          "text": [
            "########## Epoch 24\n"
          ]
        },
        {
          "output_type": "stream",
          "name": "stderr",
          "text": [
            "100%|██████████| 10/10 [00:00<00:00, 17.09it/s]\n",
            "100%|██████████| 5/5 [00:00<00:00, 14.48it/s]\n"
          ]
        },
        {
          "output_type": "stream",
          "name": "stdout",
          "text": [
            "Train loss: 0.14243696630001068\tVal loss: 0.6455196142196655\tTrain acc: 96.953125\tVal acc: 72.61160714285714\n"
          ]
        },
        {
          "output_type": "stream",
          "name": "stderr",
          "text": [
            "100%|██████████| 2/2 [00:00<00:00,  6.20it/s]\n",
            "100%|██████████| 2/2 [00:00<00:00,  6.54it/s]\n",
            "100%|██████████| 3/3 [00:00<00:00,  9.17it/s]\n"
          ]
        },
        {
          "output_type": "display_data",
          "data": {
            "text/plain": [
              "<IPython.core.display.HTML object>"
            ],
            "text/html": [
              "Waiting for W&B process to finish... <strong style=\"color:green\">(success).</strong>"
            ]
          },
          "metadata": {}
        },
        {
          "output_type": "display_data",
          "data": {
            "text/plain": [
              "VBox(children=(Label(value='0.000 MB of 0.000 MB uploaded (0.000 MB deduped)\\r'), FloatProgress(value=1.0, max…"
            ],
            "application/vnd.jupyter.widget-view+json": {
              "version_major": 2,
              "version_minor": 0,
              "model_id": "4b2d24323bb34723a023f7d3156acd85"
            }
          },
          "metadata": {}
        },
        {
          "output_type": "display_data",
          "data": {
            "text/plain": [
              "<IPython.core.display.HTML object>"
            ],
            "text/html": [
              "<style>\n",
              "    table.wandb td:nth-child(1) { padding: 0 10px; text-align: left ; width: auto;} td:nth-child(2) {text-align: left ; width: 100%}\n",
              "    .wandb-row { display: flex; flex-direction: row; flex-wrap: wrap; justify-content: flex-start; width: 100% }\n",
              "    .wandb-col { display: flex; flex-direction: column; flex-basis: 100%; flex: 1; padding: 10px; }\n",
              "    </style>\n",
              "<div class=\"wandb-row\"><div class=\"wandb-col\"><h3>Run history:</h3><br/><table class=\"wandb\"><tr><td>task_0_prevtask_0_val_acc</td><td>▁▇▇▇▇████▇███▇██▇█▇█▇▇██▇</td></tr><tr><td>task_0_prevtask_0_val_loss</td><td>█▃▂▂▂▁▂▁▂▃▂▁▂▂▁▁▄▂▃▂▃▃▃▃▇</td></tr><tr><td>task_0_train_acc</td><td>▁▄▇▇▇█▇▇█████████████████</td></tr><tr><td>task_0_train_loss</td><td>█▃▂▂▂▁▁▁▁▁▁▁▁▁▁▁▁▁▁▁▁▁▁▁▁</td></tr><tr><td>task_0_val_acc</td><td>▁▇█▇▇██████▇▇██▇▇▇▇█▇▇█▇▇</td></tr><tr><td>task_0_val_loss</td><td>█▃▁▂▃▁▁▁▁▂▂▃▃▁▁▃▄▂▅▂▃▃▃▇▄</td></tr><tr><td>task_1_prevtask_0_val_acc</td><td>████▇▇▇▇▆▅▅▅▅▅▅▄▅▄▄▃▃▂▂▂▁</td></tr><tr><td>task_1_prevtask_0_val_loss</td><td>▂▁▂▁▂▁▂▂▂▃▃▃▄▄▄▅▅▅▅▅▅▆▇▇█</td></tr><tr><td>task_1_prevtask_1_val_acc</td><td>▁▁▁▁▁▁▁▁▁▁▁▁▁▁▁▁▁▁▁▁▁▁▁▃█</td></tr><tr><td>task_1_prevtask_1_val_loss</td><td>█▇▆▆▅▅▄▄▄▃▃▃▃▃▂▂▂▂▂▂▂▁▁▁▁</td></tr><tr><td>task_1_train_acc</td><td>▁▁▁▁▁▁▁▁▁▁▁▁▁▁▁▁▁▁▁▁▁▁▁▂█</td></tr><tr><td>task_1_train_loss</td><td>█▇▆▆▅▄▄▄▃▃▃▃▃▂▂▂▂▂▂▂▁▁▁▁▁</td></tr><tr><td>task_1_val_acc</td><td>█████▇▇▇▆▅▅▅▅▄▄▄▄▃▃▂▁▁▁▂▄</td></tr><tr><td>task_1_val_loss</td><td>█▇▆▅▅▄▄▃▃▃▃▃▂▂▂▂▂▂▂▁▁▁▁▁▁</td></tr><tr><td>task_2_prevtask_0_val_acc</td><td>▁▃▆▆▇▆▆▇▇▇▇▇███▇███▇██▇██</td></tr><tr><td>task_2_prevtask_0_val_loss</td><td>█▆▃▃▃▃▃▂▂▂▂▂▁▂▁▂▁▁▁▁▁▁▁▁▁</td></tr><tr><td>task_2_prevtask_1_val_acc</td><td>▆█▆▆▅▄▅▄▃▃▂▂▂▂▁▁▁▂▂▁▂▁▂▂▁</td></tr><tr><td>task_2_prevtask_1_val_loss</td><td>▁▁▂▃▄▄▄▆▆▆▆▆▆▆▇▆▇▇▇▇▇█▇▇▇</td></tr><tr><td>task_2_prevtask_2_val_acc</td><td>▁▅██▇█▆▇████▇█▆█████▇██▇█</td></tr><tr><td>task_2_prevtask_2_val_loss</td><td>█▅▃▂▂▂▃▂▂▂▂▁▂▂▂▁▂▁▁▁▂▁▁▁▁</td></tr><tr><td>task_2_train_acc</td><td>▁▅▆▇█▇▇▇██▇█▇████████████</td></tr><tr><td>task_2_train_loss</td><td>█▅▄▃▂▂▂▂▁▁▂▁▂▁▁▁▁▁▁▁▁▁▁▁▁</td></tr><tr><td>task_2_val_acc</td><td>▁▆▇████████▇▇██▇▇█▇▇▇▇▇▇▇</td></tr><tr><td>task_2_val_loss</td><td>█▅▃▂▂▂▂▂▁▁▁▁▁▁▁▁▁▁▁▁▁▁▁▁▁</td></tr></table><br/></div><div class=\"wandb-col\"><h3>Run summary:</h3><br/><table class=\"wandb\"><tr><td>task_0_prevtask_0_val_acc</td><td>96.65465</td></tr><tr><td>task_0_prevtask_0_val_loss</td><td>0.40771</td></tr><tr><td>task_0_train_acc</td><td>99.3316</td></tr><tr><td>task_0_train_loss</td><td>0.01865</td></tr><tr><td>task_0_val_acc</td><td>97.54607</td></tr><tr><td>task_0_val_loss</td><td>0.20914</td></tr><tr><td>task_1_prevtask_0_val_acc</td><td>47.29567</td></tr><tr><td>task_1_prevtask_0_val_loss</td><td>2.068</td></tr><tr><td>task_1_prevtask_1_val_acc</td><td>28.05489</td></tr><tr><td>task_1_prevtask_1_val_loss</td><td>1.42479</td></tr><tr><td>task_1_train_acc</td><td>24.76562</td></tr><tr><td>task_1_train_loss</td><td>1.53421</td></tr><tr><td>task_1_val_acc</td><td>38.43483</td></tr><tr><td>task_1_val_loss</td><td>1.7077</td></tr><tr><td>task_2_prevtask_0_val_acc</td><td>88.23117</td></tr><tr><td>task_2_prevtask_0_val_loss</td><td>0.5125</td></tr><tr><td>task_2_prevtask_1_val_acc</td><td>15.39463</td></tr><tr><td>task_2_prevtask_1_val_loss</td><td>1.63794</td></tr><tr><td>task_2_prevtask_2_val_acc</td><td>97.13542</td></tr><tr><td>task_2_prevtask_2_val_loss</td><td>0.11134</td></tr><tr><td>task_2_train_acc</td><td>96.95312</td></tr><tr><td>task_2_train_loss</td><td>0.14244</td></tr><tr><td>task_2_val_acc</td><td>72.61161</td></tr><tr><td>task_2_val_loss</td><td>0.64552</td></tr></table><br/></div></div>"
            ]
          },
          "metadata": {}
        },
        {
          "output_type": "display_data",
          "data": {
            "text/plain": [
              "<IPython.core.display.HTML object>"
            ],
            "text/html": [
              "Synced <strong style=\"color:#cdcd00\">ring_roadcondition_yesno_imagecondition_21_09_03h58m53s_mul</strong>: <a href=\"https://wandb.ai/compyle/continual_vqa_final/runs/5ca62g8c\" target=\"_blank\">https://wandb.ai/compyle/continual_vqa_final/runs/5ca62g8c</a><br/>Synced 5 W&B file(s), 0 media file(s), 0 artifact file(s) and 0 other file(s)"
            ]
          },
          "metadata": {}
        },
        {
          "output_type": "display_data",
          "data": {
            "text/plain": [
              "<IPython.core.display.HTML object>"
            ],
            "text/html": [
              "Find logs at: <code>./wandb/run-20220921_035853-5ca62g8c/logs</code>"
            ]
          },
          "metadata": {}
        },
        {
          "output_type": "display_data",
          "data": {
            "text/plain": [
              "<IPython.core.display.HTML object>"
            ],
            "text/html": [
              "Tracking run with wandb version 0.13.3"
            ]
          },
          "metadata": {}
        },
        {
          "output_type": "display_data",
          "data": {
            "text/plain": [
              "<IPython.core.display.HTML object>"
            ],
            "text/html": [
              "Run data is saved locally in <code>/content/wandb/run-20220921_040100-2qn0ezp8</code>"
            ]
          },
          "metadata": {}
        },
        {
          "output_type": "display_data",
          "data": {
            "text/plain": [
              "<IPython.core.display.HTML object>"
            ],
            "text/html": [
              "Syncing run <strong><a href=\"https://wandb.ai/compyle/continual_vqa_final/runs/2qn0ezp8\" target=\"_blank\">ring_roadcondition_imagecondition_yesno_21_09_04h01m00s_mul</a></strong> to <a href=\"https://wandb.ai/compyle/continual_vqa_final\" target=\"_blank\">Weights & Biases</a> (<a href=\"https://wandb.me/run\" target=\"_blank\">docs</a>)<br/>"
            ]
          },
          "metadata": {}
        },
        {
          "output_type": "stream",
          "name": "stdout",
          "text": [
            "########## Epoch 0\n"
          ]
        },
        {
          "output_type": "stream",
          "name": "stderr",
          "text": [
            "100%|██████████| 6/6 [00:00<00:00, 12.50it/s]\n",
            "100%|██████████| 2/2 [00:00<00:00,  6.60it/s]\n"
          ]
        },
        {
          "output_type": "stream",
          "name": "stdout",
          "text": [
            "Train loss: 0.8968302607536316\tVal loss: 0.427359938621521\tTrain acc: 76.73311781609196\tVal acc: 80.8689024390244\n"
          ]
        },
        {
          "output_type": "stream",
          "name": "stderr",
          "text": [
            "100%|██████████| 2/2 [00:00<00:00,  6.37it/s]\n"
          ]
        },
        {
          "output_type": "stream",
          "name": "stdout",
          "text": [
            "########## Epoch 1\n"
          ]
        },
        {
          "output_type": "stream",
          "name": "stderr",
          "text": [
            "100%|██████████| 6/6 [00:00<00:00, 11.86it/s]\n",
            "100%|██████████| 2/2 [00:00<00:00,  6.17it/s]\n"
          ]
        },
        {
          "output_type": "stream",
          "name": "stdout",
          "text": [
            "Train loss: 0.32030001282691956\tVal loss: 0.13386471569538116\tTrain acc: 89.0625\tVal acc: 99.609375\n"
          ]
        },
        {
          "output_type": "stream",
          "name": "stderr",
          "text": [
            "100%|██████████| 2/2 [00:00<00:00,  5.78it/s]\n"
          ]
        },
        {
          "output_type": "stream",
          "name": "stdout",
          "text": [
            "########## Epoch 2\n"
          ]
        },
        {
          "output_type": "stream",
          "name": "stderr",
          "text": [
            "100%|██████████| 6/6 [00:00<00:00, 11.24it/s]\n",
            "100%|██████████| 2/2 [00:00<00:00,  6.55it/s]\n"
          ]
        },
        {
          "output_type": "stream",
          "name": "stdout",
          "text": [
            "Train loss: 0.15388242900371552\tVal loss: 0.03162502869963646\tTrain acc: 96.92438936781609\tVal acc: 99.609375\n"
          ]
        },
        {
          "output_type": "stream",
          "name": "stderr",
          "text": [
            "100%|██████████| 2/2 [00:00<00:00,  6.33it/s]\n"
          ]
        },
        {
          "output_type": "stream",
          "name": "stdout",
          "text": [
            "########## Epoch 3\n"
          ]
        },
        {
          "output_type": "stream",
          "name": "stderr",
          "text": [
            "100%|██████████| 6/6 [00:00<00:00, 12.63it/s]\n",
            "100%|██████████| 2/2 [00:00<00:00,  6.21it/s]\n"
          ]
        },
        {
          "output_type": "stream",
          "name": "stdout",
          "text": [
            "Train loss: 0.09832540899515152\tVal loss: 0.04251166060566902\tTrain acc: 97.78645833333333\tVal acc: 97.99923780487805\n"
          ]
        },
        {
          "output_type": "stream",
          "name": "stderr",
          "text": [
            "100%|██████████| 2/2 [00:00<00:00,  6.31it/s]\n"
          ]
        },
        {
          "output_type": "stream",
          "name": "stdout",
          "text": [
            "########## Epoch 4\n"
          ]
        },
        {
          "output_type": "stream",
          "name": "stderr",
          "text": [
            "100%|██████████| 6/6 [00:00<00:00, 12.35it/s]\n",
            "100%|██████████| 2/2 [00:00<00:00,  6.32it/s]\n"
          ]
        },
        {
          "output_type": "stream",
          "name": "stdout",
          "text": [
            "Train loss: 0.0921749398112297\tVal loss: 0.023355772718787193\tTrain acc: 97.36889367816093\tVal acc: 99.609375\n"
          ]
        },
        {
          "output_type": "stream",
          "name": "stderr",
          "text": [
            "100%|██████████| 2/2 [00:00<00:00,  6.18it/s]\n"
          ]
        },
        {
          "output_type": "stream",
          "name": "stdout",
          "text": [
            "########## Epoch 5\n"
          ]
        },
        {
          "output_type": "stream",
          "name": "stderr",
          "text": [
            "100%|██████████| 6/6 [00:00<00:00, 12.12it/s]\n",
            "100%|██████████| 2/2 [00:00<00:00,  6.45it/s]\n"
          ]
        },
        {
          "output_type": "stream",
          "name": "stdout",
          "text": [
            "Train loss: 0.0905921459197998\tVal loss: 0.03169698268175125\tTrain acc: 97.7325790229885\tVal acc: 99.609375\n"
          ]
        },
        {
          "output_type": "stream",
          "name": "stderr",
          "text": [
            "100%|██████████| 2/2 [00:00<00:00,  6.22it/s]\n"
          ]
        },
        {
          "output_type": "stream",
          "name": "stdout",
          "text": [
            "########## Epoch 6\n"
          ]
        },
        {
          "output_type": "stream",
          "name": "stderr",
          "text": [
            "100%|██████████| 6/6 [00:00<00:00, 12.63it/s]\n",
            "100%|██████████| 2/2 [00:00<00:00,  6.15it/s]\n"
          ]
        },
        {
          "output_type": "stream",
          "name": "stdout",
          "text": [
            "Train loss: 0.07064470648765564\tVal loss: 0.02657216414809227\tTrain acc: 97.7325790229885\tVal acc: 99.609375\n"
          ]
        },
        {
          "output_type": "stream",
          "name": "stderr",
          "text": [
            "100%|██████████| 2/2 [00:00<00:00,  6.19it/s]\n"
          ]
        },
        {
          "output_type": "stream",
          "name": "stdout",
          "text": [
            "########## Epoch 7\n"
          ]
        },
        {
          "output_type": "stream",
          "name": "stderr",
          "text": [
            "100%|██████████| 6/6 [00:00<00:00, 12.43it/s]\n",
            "100%|██████████| 2/2 [00:00<00:00,  6.27it/s]\n"
          ]
        },
        {
          "output_type": "stream",
          "name": "stdout",
          "text": [
            "Train loss: 0.06132371351122856\tVal loss: 0.023171089589595795\tTrain acc: 98.4375\tVal acc: 99.609375\n"
          ]
        },
        {
          "output_type": "stream",
          "name": "stderr",
          "text": [
            "100%|██████████| 2/2 [00:00<00:00,  6.01it/s]\n"
          ]
        },
        {
          "output_type": "stream",
          "name": "stdout",
          "text": [
            "########## Epoch 8\n"
          ]
        },
        {
          "output_type": "stream",
          "name": "stderr",
          "text": [
            "100%|██████████| 6/6 [00:00<00:00, 11.85it/s]\n",
            "100%|██████████| 2/2 [00:00<00:00,  6.22it/s]\n"
          ]
        },
        {
          "output_type": "stream",
          "name": "stdout",
          "text": [
            "Train loss: 0.06501408666372299\tVal loss: 0.026658885180950165\tTrain acc: 98.15014367816093\tVal acc: 99.609375\n"
          ]
        },
        {
          "output_type": "stream",
          "name": "stderr",
          "text": [
            "100%|██████████| 2/2 [00:00<00:00,  6.64it/s]\n"
          ]
        },
        {
          "output_type": "stream",
          "name": "stdout",
          "text": [
            "########## Epoch 9\n"
          ]
        },
        {
          "output_type": "stream",
          "name": "stderr",
          "text": [
            "100%|██████████| 6/6 [00:00<00:00, 11.88it/s]\n",
            "100%|██████████| 2/2 [00:00<00:00,  6.40it/s]\n"
          ]
        },
        {
          "output_type": "stream",
          "name": "stdout",
          "text": [
            "Train loss: 0.05858645960688591\tVal loss: 0.030714228749275208\tTrain acc: 98.4105603448276\tVal acc: 99.609375\n"
          ]
        },
        {
          "output_type": "stream",
          "name": "stderr",
          "text": [
            "100%|██████████| 2/2 [00:00<00:00,  6.38it/s]\n"
          ]
        },
        {
          "output_type": "stream",
          "name": "stdout",
          "text": [
            "########## Epoch 10\n"
          ]
        },
        {
          "output_type": "stream",
          "name": "stderr",
          "text": [
            "100%|██████████| 6/6 [00:00<00:00, 11.97it/s]\n",
            "100%|██████████| 2/2 [00:00<00:00,  6.40it/s]\n"
          ]
        },
        {
          "output_type": "stream",
          "name": "stdout",
          "text": [
            "Train loss: 0.0545157827436924\tVal loss: 0.03032175451517105\tTrain acc: 98.54076867816093\tVal acc: 99.609375\n"
          ]
        },
        {
          "output_type": "stream",
          "name": "stderr",
          "text": [
            "100%|██████████| 2/2 [00:00<00:00,  6.07it/s]\n"
          ]
        },
        {
          "output_type": "stream",
          "name": "stdout",
          "text": [
            "########## Epoch 11\n"
          ]
        },
        {
          "output_type": "stream",
          "name": "stderr",
          "text": [
            "100%|██████████| 6/6 [00:00<00:00, 12.75it/s]\n",
            "100%|██████████| 2/2 [00:00<00:00,  6.26it/s]\n"
          ]
        },
        {
          "output_type": "stream",
          "name": "stdout",
          "text": [
            "Train loss: 0.05579422786831856\tVal loss: 0.022044958546757698\tTrain acc: 98.8011853448276\tVal acc: 99.609375\n"
          ]
        },
        {
          "output_type": "stream",
          "name": "stderr",
          "text": [
            "100%|██████████| 2/2 [00:00<00:00,  6.14it/s]\n"
          ]
        },
        {
          "output_type": "stream",
          "name": "stdout",
          "text": [
            "########## Epoch 12\n"
          ]
        },
        {
          "output_type": "stream",
          "name": "stderr",
          "text": [
            "100%|██████████| 6/6 [00:00<00:00, 12.65it/s]\n",
            "100%|██████████| 2/2 [00:00<00:00,  6.30it/s]\n"
          ]
        },
        {
          "output_type": "stream",
          "name": "stdout",
          "text": [
            "Train loss: 0.04997717961668968\tVal loss: 0.021323757246136665\tTrain acc: 98.4105603448276\tVal acc: 99.609375\n"
          ]
        },
        {
          "output_type": "stream",
          "name": "stderr",
          "text": [
            "100%|██████████| 2/2 [00:00<00:00,  6.18it/s]\n"
          ]
        },
        {
          "output_type": "stream",
          "name": "stdout",
          "text": [
            "########## Epoch 13\n"
          ]
        },
        {
          "output_type": "stream",
          "name": "stderr",
          "text": [
            "100%|██████████| 6/6 [00:00<00:00, 12.39it/s]\n",
            "100%|██████████| 2/2 [00:00<00:00,  6.38it/s]\n"
          ]
        },
        {
          "output_type": "stream",
          "name": "stdout",
          "text": [
            "Train loss: 0.04572607949376106\tVal loss: 0.024855319410562515\tTrain acc: 98.828125\tVal acc: 99.609375\n"
          ]
        },
        {
          "output_type": "stream",
          "name": "stderr",
          "text": [
            "100%|██████████| 2/2 [00:00<00:00,  6.21it/s]\n"
          ]
        },
        {
          "output_type": "stream",
          "name": "stdout",
          "text": [
            "########## Epoch 14\n"
          ]
        },
        {
          "output_type": "stream",
          "name": "stderr",
          "text": [
            "100%|██████████| 6/6 [00:00<00:00, 12.83it/s]\n",
            "100%|██████████| 2/2 [00:00<00:00,  6.34it/s]\n"
          ]
        },
        {
          "output_type": "stream",
          "name": "stdout",
          "text": [
            "Train loss: 0.05437111854553223\tVal loss: 0.05024015158414841\tTrain acc: 98.64403735632185\tVal acc: 98.78048780487805\n"
          ]
        },
        {
          "output_type": "stream",
          "name": "stderr",
          "text": [
            "100%|██████████| 2/2 [00:00<00:00,  6.27it/s]\n"
          ]
        },
        {
          "output_type": "stream",
          "name": "stdout",
          "text": [
            "########## Epoch 15\n"
          ]
        },
        {
          "output_type": "stream",
          "name": "stderr",
          "text": [
            "100%|██████████| 6/6 [00:00<00:00, 11.81it/s]\n",
            "100%|██████████| 2/2 [00:00<00:00,  6.54it/s]\n"
          ]
        },
        {
          "output_type": "stream",
          "name": "stdout",
          "text": [
            "Train loss: 0.04653750732541084\tVal loss: 0.023378483951091766\tTrain acc: 98.67097701149426\tVal acc: 99.21875\n"
          ]
        },
        {
          "output_type": "stream",
          "name": "stderr",
          "text": [
            "100%|██████████| 2/2 [00:00<00:00,  6.36it/s]\n"
          ]
        },
        {
          "output_type": "stream",
          "name": "stdout",
          "text": [
            "########## Epoch 16\n"
          ]
        },
        {
          "output_type": "stream",
          "name": "stderr",
          "text": [
            "100%|██████████| 6/6 [00:00<00:00, 11.93it/s]\n",
            "100%|██████████| 2/2 [00:00<00:00,  6.67it/s]\n"
          ]
        },
        {
          "output_type": "stream",
          "name": "stdout",
          "text": [
            "Train loss: 0.04520304873585701\tVal loss: 0.04626303166151047\tTrain acc: 98.69791666666667\tVal acc: 98.78048780487805\n"
          ]
        },
        {
          "output_type": "stream",
          "name": "stderr",
          "text": [
            "100%|██████████| 2/2 [00:00<00:00,  6.15it/s]\n"
          ]
        },
        {
          "output_type": "stream",
          "name": "stdout",
          "text": [
            "########## Epoch 17\n"
          ]
        },
        {
          "output_type": "stream",
          "name": "stderr",
          "text": [
            "100%|██████████| 6/6 [00:00<00:00, 12.28it/s]\n",
            "100%|██████████| 2/2 [00:00<00:00,  6.35it/s]\n"
          ]
        },
        {
          "output_type": "stream",
          "name": "stdout",
          "text": [
            "Train loss: 0.03684039041399956\tVal loss: 0.026688123121857643\tTrain acc: 98.95833333333333\tVal acc: 99.21875\n"
          ]
        },
        {
          "output_type": "stream",
          "name": "stderr",
          "text": [
            "100%|██████████| 2/2 [00:00<00:00,  6.43it/s]\n"
          ]
        },
        {
          "output_type": "stream",
          "name": "stdout",
          "text": [
            "########## Epoch 18\n"
          ]
        },
        {
          "output_type": "stream",
          "name": "stderr",
          "text": [
            "100%|██████████| 6/6 [00:00<00:00, 12.10it/s]\n",
            "100%|██████████| 2/2 [00:00<00:00,  6.47it/s]\n"
          ]
        },
        {
          "output_type": "stream",
          "name": "stdout",
          "text": [
            "Train loss: 0.048297543078660965\tVal loss: 0.01806587725877762\tTrain acc: 98.5138290229885\tVal acc: 99.609375\n"
          ]
        },
        {
          "output_type": "stream",
          "name": "stderr",
          "text": [
            "100%|██████████| 2/2 [00:00<00:00,  6.01it/s]\n"
          ]
        },
        {
          "output_type": "stream",
          "name": "stdout",
          "text": [
            "########## Epoch 19\n"
          ]
        },
        {
          "output_type": "stream",
          "name": "stderr",
          "text": [
            "100%|██████████| 6/6 [00:00<00:00, 12.25it/s]\n",
            "100%|██████████| 2/2 [00:00<00:00,  6.15it/s]\n"
          ]
        },
        {
          "output_type": "stream",
          "name": "stdout",
          "text": [
            "Train loss: 0.04987989738583565\tVal loss: 0.02844027802348137\tTrain acc: 98.4105603448276\tVal acc: 99.609375\n"
          ]
        },
        {
          "output_type": "stream",
          "name": "stderr",
          "text": [
            "100%|██████████| 2/2 [00:00<00:00,  6.09it/s]\n"
          ]
        },
        {
          "output_type": "stream",
          "name": "stdout",
          "text": [
            "########## Epoch 20\n"
          ]
        },
        {
          "output_type": "stream",
          "name": "stderr",
          "text": [
            "100%|██████████| 6/6 [00:00<00:00, 12.19it/s]\n",
            "100%|██████████| 2/2 [00:00<00:00,  6.03it/s]\n"
          ]
        },
        {
          "output_type": "stream",
          "name": "stdout",
          "text": [
            "Train loss: 0.0395161509513855\tVal loss: 0.050722524523735046\tTrain acc: 98.67097701149426\tVal acc: 98.38986280487805\n"
          ]
        },
        {
          "output_type": "stream",
          "name": "stderr",
          "text": [
            "100%|██████████| 2/2 [00:00<00:00,  6.20it/s]\n"
          ]
        },
        {
          "output_type": "stream",
          "name": "stdout",
          "text": [
            "########## Epoch 21\n"
          ]
        },
        {
          "output_type": "stream",
          "name": "stderr",
          "text": [
            "100%|██████████| 6/6 [00:00<00:00, 12.11it/s]\n",
            "100%|██████████| 2/2 [00:00<00:00,  6.11it/s]\n"
          ]
        },
        {
          "output_type": "stream",
          "name": "stdout",
          "text": [
            "Train loss: 0.04029473289847374\tVal loss: 0.04610953852534294\tTrain acc: 98.4105603448276\tVal acc: 98.38986280487805\n"
          ]
        },
        {
          "output_type": "stream",
          "name": "stderr",
          "text": [
            "100%|██████████| 2/2 [00:00<00:00,  6.28it/s]\n"
          ]
        },
        {
          "output_type": "stream",
          "name": "stdout",
          "text": [
            "########## Epoch 22\n"
          ]
        },
        {
          "output_type": "stream",
          "name": "stderr",
          "text": [
            "100%|██████████| 6/6 [00:00<00:00, 12.53it/s]\n",
            "100%|██████████| 2/2 [00:00<00:00,  6.17it/s]\n"
          ]
        },
        {
          "output_type": "stream",
          "name": "stdout",
          "text": [
            "Train loss: 0.049749333411455154\tVal loss: 0.018137551844120026\tTrain acc: 98.38362068965517\tVal acc: 99.609375\n"
          ]
        },
        {
          "output_type": "stream",
          "name": "stderr",
          "text": [
            "100%|██████████| 2/2 [00:00<00:00,  6.14it/s]\n"
          ]
        },
        {
          "output_type": "stream",
          "name": "stdout",
          "text": [
            "########## Epoch 23\n"
          ]
        },
        {
          "output_type": "stream",
          "name": "stderr",
          "text": [
            "100%|██████████| 6/6 [00:00<00:00, 11.22it/s]\n",
            "100%|██████████| 2/2 [00:00<00:00,  6.23it/s]\n"
          ]
        },
        {
          "output_type": "stream",
          "name": "stdout",
          "text": [
            "Train loss: 0.03202853351831436\tVal loss: 0.04115975648164749\tTrain acc: 99.08854166666667\tVal acc: 98.78048780487805\n"
          ]
        },
        {
          "output_type": "stream",
          "name": "stderr",
          "text": [
            "100%|██████████| 2/2 [00:00<00:00,  5.99it/s]\n"
          ]
        },
        {
          "output_type": "stream",
          "name": "stdout",
          "text": [
            "########## Epoch 24\n"
          ]
        },
        {
          "output_type": "stream",
          "name": "stderr",
          "text": [
            "100%|██████████| 6/6 [00:00<00:00, 11.44it/s]\n",
            "100%|██████████| 2/2 [00:00<00:00,  6.25it/s]\n"
          ]
        },
        {
          "output_type": "stream",
          "name": "stdout",
          "text": [
            "Train loss: 0.025839095935225487\tVal loss: 0.016902007162570953\tTrain acc: 99.34895833333333\tVal acc: 99.609375\n"
          ]
        },
        {
          "output_type": "stream",
          "name": "stderr",
          "text": [
            "100%|██████████| 2/2 [00:00<00:00,  5.90it/s]\n"
          ]
        },
        {
          "output_type": "stream",
          "name": "stdout",
          "text": [
            "########## Epoch 0\n"
          ]
        },
        {
          "output_type": "stream",
          "name": "stderr",
          "text": [
            "100%|██████████| 10/10 [00:00<00:00, 15.91it/s]\n",
            "100%|██████████| 4/4 [00:00<00:00, 10.99it/s]\n"
          ]
        },
        {
          "output_type": "stream",
          "name": "stdout",
          "text": [
            "Train loss: 0.4203836917877197\tVal loss: 0.10025560110807419\tTrain acc: 93.38541666666666\tVal acc: 98.55208333333333\n"
          ]
        },
        {
          "output_type": "stream",
          "name": "stderr",
          "text": [
            "100%|██████████| 2/2 [00:00<00:00,  6.04it/s]\n",
            "100%|██████████| 3/3 [00:00<00:00,  8.98it/s]\n"
          ]
        },
        {
          "output_type": "stream",
          "name": "stdout",
          "text": [
            "########## Epoch 1\n"
          ]
        },
        {
          "output_type": "stream",
          "name": "stderr",
          "text": [
            "100%|██████████| 10/10 [00:00<00:00, 16.42it/s]\n",
            "100%|██████████| 4/4 [00:00<00:00, 10.96it/s]\n"
          ]
        },
        {
          "output_type": "stream",
          "name": "stdout",
          "text": [
            "Train loss: 0.19394834339618683\tVal loss: 0.07802683115005493\tTrain acc: 96.40625\tVal acc: 98.49479166666667\n"
          ]
        },
        {
          "output_type": "stream",
          "name": "stderr",
          "text": [
            "100%|██████████| 2/2 [00:00<00:00,  6.22it/s]\n",
            "100%|██████████| 3/3 [00:00<00:00,  9.26it/s]\n"
          ]
        },
        {
          "output_type": "stream",
          "name": "stdout",
          "text": [
            "########## Epoch 2\n"
          ]
        },
        {
          "output_type": "stream",
          "name": "stderr",
          "text": [
            "100%|██████████| 10/10 [00:00<00:00, 16.75it/s]\n",
            "100%|██████████| 4/4 [00:00<00:00, 11.09it/s]\n"
          ]
        },
        {
          "output_type": "stream",
          "name": "stdout",
          "text": [
            "Train loss: 0.176895409822464\tVal loss: 0.07479637861251831\tTrain acc: 96.328125\tVal acc: 98.10416666666667\n"
          ]
        },
        {
          "output_type": "stream",
          "name": "stderr",
          "text": [
            "100%|██████████| 2/2 [00:00<00:00,  6.09it/s]\n",
            "100%|██████████| 3/3 [00:00<00:00,  9.04it/s]\n"
          ]
        },
        {
          "output_type": "stream",
          "name": "stdout",
          "text": [
            "########## Epoch 3\n"
          ]
        },
        {
          "output_type": "stream",
          "name": "stderr",
          "text": [
            "100%|██████████| 10/10 [00:00<00:00, 16.58it/s]\n",
            "100%|██████████| 4/4 [00:00<00:00, 11.47it/s]\n"
          ]
        },
        {
          "output_type": "stream",
          "name": "stdout",
          "text": [
            "Train loss: 0.1602916270494461\tVal loss: 0.07627894729375839\tTrain acc: 96.328125\tVal acc: 98.2421875\n"
          ]
        },
        {
          "output_type": "stream",
          "name": "stderr",
          "text": [
            "100%|██████████| 2/2 [00:00<00:00,  6.07it/s]\n",
            "100%|██████████| 3/3 [00:00<00:00,  8.20it/s]\n"
          ]
        },
        {
          "output_type": "stream",
          "name": "stdout",
          "text": [
            "########## Epoch 4\n"
          ]
        },
        {
          "output_type": "stream",
          "name": "stderr",
          "text": [
            "100%|██████████| 10/10 [00:00<00:00, 16.34it/s]\n",
            "100%|██████████| 4/4 [00:00<00:00, 12.17it/s]\n"
          ]
        },
        {
          "output_type": "stream",
          "name": "stdout",
          "text": [
            "Train loss: 0.20797371864318848\tVal loss: 0.0853734239935875\tTrain acc: 94.73958333333334\tVal acc: 98.10416666666667\n"
          ]
        },
        {
          "output_type": "stream",
          "name": "stderr",
          "text": [
            "100%|██████████| 2/2 [00:00<00:00,  6.47it/s]\n",
            "100%|██████████| 3/3 [00:00<00:00,  8.56it/s]\n"
          ]
        },
        {
          "output_type": "stream",
          "name": "stdout",
          "text": [
            "########## Epoch 5\n"
          ]
        },
        {
          "output_type": "stream",
          "name": "stderr",
          "text": [
            "100%|██████████| 10/10 [00:00<00:00, 16.47it/s]\n",
            "100%|██████████| 4/4 [00:00<00:00, 11.12it/s]\n"
          ]
        },
        {
          "output_type": "stream",
          "name": "stdout",
          "text": [
            "Train loss: 0.14668439328670502\tVal loss: 0.08176995813846588\tTrain acc: 96.09375\tVal acc: 97.77083333333333\n"
          ]
        },
        {
          "output_type": "stream",
          "name": "stderr",
          "text": [
            "100%|██████████| 2/2 [00:00<00:00,  6.23it/s]\n",
            "100%|██████████| 3/3 [00:00<00:00,  9.04it/s]\n"
          ]
        },
        {
          "output_type": "stream",
          "name": "stdout",
          "text": [
            "########## Epoch 6\n"
          ]
        },
        {
          "output_type": "stream",
          "name": "stderr",
          "text": [
            "100%|██████████| 10/10 [00:00<00:00, 16.55it/s]\n",
            "100%|██████████| 4/4 [00:00<00:00, 12.12it/s]\n"
          ]
        },
        {
          "output_type": "stream",
          "name": "stdout",
          "text": [
            "Train loss: 0.16460761427879333\tVal loss: 0.08519035577774048\tTrain acc: 94.66145833333334\tVal acc: 97.90885416666667\n"
          ]
        },
        {
          "output_type": "stream",
          "name": "stderr",
          "text": [
            "100%|██████████| 2/2 [00:00<00:00,  6.08it/s]\n",
            "100%|██████████| 3/3 [00:00<00:00,  8.96it/s]\n"
          ]
        },
        {
          "output_type": "stream",
          "name": "stdout",
          "text": [
            "########## Epoch 7\n"
          ]
        },
        {
          "output_type": "stream",
          "name": "stderr",
          "text": [
            "100%|██████████| 10/10 [00:00<00:00, 16.94it/s]\n",
            "100%|██████████| 4/4 [00:00<00:00, 11.24it/s]\n"
          ]
        },
        {
          "output_type": "stream",
          "name": "stdout",
          "text": [
            "Train loss: 0.14077605307102203\tVal loss: 0.08843567222356796\tTrain acc: 96.015625\tVal acc: 97.77083333333333\n"
          ]
        },
        {
          "output_type": "stream",
          "name": "stderr",
          "text": [
            "100%|██████████| 2/2 [00:00<00:00,  6.17it/s]\n",
            "100%|██████████| 3/3 [00:00<00:00,  8.87it/s]\n"
          ]
        },
        {
          "output_type": "stream",
          "name": "stdout",
          "text": [
            "########## Epoch 8\n"
          ]
        },
        {
          "output_type": "stream",
          "name": "stderr",
          "text": [
            "100%|██████████| 10/10 [00:00<00:00, 16.62it/s]\n",
            "100%|██████████| 4/4 [00:00<00:00, 11.23it/s]\n"
          ]
        },
        {
          "output_type": "stream",
          "name": "stdout",
          "text": [
            "Train loss: 0.13816474378108978\tVal loss: 0.0865185484290123\tTrain acc: 96.015625\tVal acc: 97.96614583333333\n"
          ]
        },
        {
          "output_type": "stream",
          "name": "stderr",
          "text": [
            "100%|██████████| 2/2 [00:00<00:00,  5.75it/s]\n",
            "100%|██████████| 3/3 [00:00<00:00,  9.52it/s]\n"
          ]
        },
        {
          "output_type": "stream",
          "name": "stdout",
          "text": [
            "########## Epoch 9\n"
          ]
        },
        {
          "output_type": "stream",
          "name": "stderr",
          "text": [
            "100%|██████████| 10/10 [00:00<00:00, 16.12it/s]\n",
            "100%|██████████| 4/4 [00:00<00:00, 12.19it/s]\n"
          ]
        },
        {
          "output_type": "stream",
          "name": "stdout",
          "text": [
            "Train loss: 0.13212686777114868\tVal loss: 0.07886431366205215\tTrain acc: 96.25\tVal acc: 98.10416666666667\n"
          ]
        },
        {
          "output_type": "stream",
          "name": "stderr",
          "text": [
            "100%|██████████| 2/2 [00:00<00:00,  6.01it/s]\n",
            "100%|██████████| 3/3 [00:00<00:00,  8.95it/s]\n"
          ]
        },
        {
          "output_type": "stream",
          "name": "stdout",
          "text": [
            "########## Epoch 10\n"
          ]
        },
        {
          "output_type": "stream",
          "name": "stderr",
          "text": [
            "100%|██████████| 10/10 [00:00<00:00, 16.30it/s]\n",
            "100%|██████████| 4/4 [00:00<00:00, 11.09it/s]\n"
          ]
        },
        {
          "output_type": "stream",
          "name": "stdout",
          "text": [
            "Train loss: 0.13008293509483337\tVal loss: 0.0782318189740181\tTrain acc: 96.328125\tVal acc: 97.828125\n"
          ]
        },
        {
          "output_type": "stream",
          "name": "stderr",
          "text": [
            "100%|██████████| 2/2 [00:00<00:00,  6.33it/s]\n",
            "100%|██████████| 3/3 [00:00<00:00,  8.86it/s]\n"
          ]
        },
        {
          "output_type": "stream",
          "name": "stdout",
          "text": [
            "########## Epoch 11\n"
          ]
        },
        {
          "output_type": "stream",
          "name": "stderr",
          "text": [
            "100%|██████████| 10/10 [00:00<00:00, 15.95it/s]\n",
            "100%|██████████| 4/4 [00:00<00:00, 11.05it/s]\n"
          ]
        },
        {
          "output_type": "stream",
          "name": "stdout",
          "text": [
            "Train loss: 0.13538385927677155\tVal loss: 0.06569875776767731\tTrain acc: 96.5625\tVal acc: 98.29947916666667\n"
          ]
        },
        {
          "output_type": "stream",
          "name": "stderr",
          "text": [
            "100%|██████████| 2/2 [00:00<00:00,  5.87it/s]\n",
            "100%|██████████| 3/3 [00:00<00:00,  9.13it/s]\n"
          ]
        },
        {
          "output_type": "stream",
          "name": "stdout",
          "text": [
            "########## Epoch 12\n"
          ]
        },
        {
          "output_type": "stream",
          "name": "stderr",
          "text": [
            "100%|██████████| 10/10 [00:00<00:00, 15.60it/s]\n",
            "100%|██████████| 4/4 [00:00<00:00, 11.17it/s]\n"
          ]
        },
        {
          "output_type": "stream",
          "name": "stdout",
          "text": [
            "Train loss: 0.12699413299560547\tVal loss: 0.06784618645906448\tTrain acc: 96.640625\tVal acc: 98.49479166666667\n"
          ]
        },
        {
          "output_type": "stream",
          "name": "stderr",
          "text": [
            "100%|██████████| 2/2 [00:00<00:00,  6.39it/s]\n",
            "100%|██████████| 3/3 [00:00<00:00,  8.88it/s]\n"
          ]
        },
        {
          "output_type": "stream",
          "name": "stdout",
          "text": [
            "########## Epoch 13\n"
          ]
        },
        {
          "output_type": "stream",
          "name": "stderr",
          "text": [
            "100%|██████████| 10/10 [00:00<00:00, 16.16it/s]\n",
            "100%|██████████| 4/4 [00:00<00:00, 10.90it/s]\n"
          ]
        },
        {
          "output_type": "stream",
          "name": "stdout",
          "text": [
            "Train loss: 0.12441521883010864\tVal loss: 0.08009292185306549\tTrain acc: 96.484375\tVal acc: 98.21875\n"
          ]
        },
        {
          "output_type": "stream",
          "name": "stderr",
          "text": [
            "100%|██████████| 2/2 [00:00<00:00,  6.27it/s]\n",
            "100%|██████████| 3/3 [00:00<00:00,  9.22it/s]\n"
          ]
        },
        {
          "output_type": "stream",
          "name": "stdout",
          "text": [
            "########## Epoch 14\n"
          ]
        },
        {
          "output_type": "stream",
          "name": "stderr",
          "text": [
            "100%|██████████| 10/10 [00:00<00:00, 16.17it/s]\n",
            "100%|██████████| 4/4 [00:00<00:00, 11.11it/s]\n"
          ]
        },
        {
          "output_type": "stream",
          "name": "stdout",
          "text": [
            "Train loss: 0.1927846372127533\tVal loss: 0.06562573462724686\tTrain acc: 95.13020833333334\tVal acc: 98.6328125\n"
          ]
        },
        {
          "output_type": "stream",
          "name": "stderr",
          "text": [
            "100%|██████████| 2/2 [00:00<00:00,  5.82it/s]\n",
            "100%|██████████| 3/3 [00:00<00:00,  8.98it/s]\n"
          ]
        },
        {
          "output_type": "stream",
          "name": "stdout",
          "text": [
            "########## Epoch 15\n"
          ]
        },
        {
          "output_type": "stream",
          "name": "stderr",
          "text": [
            "100%|██████████| 10/10 [00:00<00:00, 16.38it/s]\n",
            "100%|██████████| 4/4 [00:00<00:00, 11.35it/s]\n"
          ]
        },
        {
          "output_type": "stream",
          "name": "stdout",
          "text": [
            "Train loss: 0.12674668431282043\tVal loss: 0.06790284812450409\tTrain acc: 96.40625\tVal acc: 98.2421875\n"
          ]
        },
        {
          "output_type": "stream",
          "name": "stderr",
          "text": [
            "100%|██████████| 2/2 [00:00<00:00,  5.99it/s]\n",
            "100%|██████████| 3/3 [00:00<00:00,  8.99it/s]\n"
          ]
        },
        {
          "output_type": "stream",
          "name": "stdout",
          "text": [
            "########## Epoch 16\n"
          ]
        },
        {
          "output_type": "stream",
          "name": "stderr",
          "text": [
            "100%|██████████| 10/10 [00:00<00:00, 16.29it/s]\n",
            "100%|██████████| 4/4 [00:00<00:00, 11.36it/s]\n"
          ]
        },
        {
          "output_type": "stream",
          "name": "stdout",
          "text": [
            "Train loss: 0.1228451281785965\tVal loss: 0.07071329653263092\tTrain acc: 96.640625\tVal acc: 98.49479166666667\n"
          ]
        },
        {
          "output_type": "stream",
          "name": "stderr",
          "text": [
            "100%|██████████| 2/2 [00:00<00:00,  5.71it/s]\n",
            "100%|██████████| 3/3 [00:00<00:00,  8.84it/s]\n"
          ]
        },
        {
          "output_type": "stream",
          "name": "stdout",
          "text": [
            "########## Epoch 17\n"
          ]
        },
        {
          "output_type": "stream",
          "name": "stderr",
          "text": [
            "100%|██████████| 10/10 [00:00<00:00, 15.28it/s]\n",
            "100%|██████████| 4/4 [00:00<00:00, 11.27it/s]\n"
          ]
        },
        {
          "output_type": "stream",
          "name": "stdout",
          "text": [
            "Train loss: 0.11656244099140167\tVal loss: 0.06386932730674744\tTrain acc: 96.71875\tVal acc: 98.49479166666667\n"
          ]
        },
        {
          "output_type": "stream",
          "name": "stderr",
          "text": [
            "100%|██████████| 2/2 [00:00<00:00,  6.01it/s]\n",
            "100%|██████████| 3/3 [00:00<00:00,  8.94it/s]\n"
          ]
        },
        {
          "output_type": "stream",
          "name": "stdout",
          "text": [
            "########## Epoch 18\n"
          ]
        },
        {
          "output_type": "stream",
          "name": "stderr",
          "text": [
            "100%|██████████| 10/10 [00:00<00:00, 15.62it/s]\n",
            "100%|██████████| 4/4 [00:00<00:00, 11.04it/s]\n"
          ]
        },
        {
          "output_type": "stream",
          "name": "stdout",
          "text": [
            "Train loss: 0.12270750105381012\tVal loss: 0.06339329481124878\tTrain acc: 96.71875\tVal acc: 98.69010416666667\n"
          ]
        },
        {
          "output_type": "stream",
          "name": "stderr",
          "text": [
            "100%|██████████| 2/2 [00:00<00:00,  6.25it/s]\n",
            "100%|██████████| 3/3 [00:00<00:00,  8.81it/s]\n"
          ]
        },
        {
          "output_type": "stream",
          "name": "stdout",
          "text": [
            "########## Epoch 19\n"
          ]
        },
        {
          "output_type": "stream",
          "name": "stderr",
          "text": [
            "100%|██████████| 10/10 [00:00<00:00, 16.51it/s]\n",
            "100%|██████████| 4/4 [00:00<00:00, 11.11it/s]\n"
          ]
        },
        {
          "output_type": "stream",
          "name": "stdout",
          "text": [
            "Train loss: 0.11191488802433014\tVal loss: 0.06116952747106552\tTrain acc: 96.875\tVal acc: 98.828125\n"
          ]
        },
        {
          "output_type": "stream",
          "name": "stderr",
          "text": [
            "100%|██████████| 2/2 [00:00<00:00,  6.29it/s]\n",
            "100%|██████████| 3/3 [00:00<00:00,  8.72it/s]\n"
          ]
        },
        {
          "output_type": "stream",
          "name": "stdout",
          "text": [
            "########## Epoch 20\n"
          ]
        },
        {
          "output_type": "stream",
          "name": "stderr",
          "text": [
            "100%|██████████| 10/10 [00:00<00:00, 15.90it/s]\n",
            "100%|██████████| 4/4 [00:00<00:00, 11.36it/s]\n"
          ]
        },
        {
          "output_type": "stream",
          "name": "stdout",
          "text": [
            "Train loss: 0.11388938128948212\tVal loss: 0.05902940034866333\tTrain acc: 96.796875\tVal acc: 98.828125\n"
          ]
        },
        {
          "output_type": "stream",
          "name": "stderr",
          "text": [
            "100%|██████████| 2/2 [00:00<00:00,  5.98it/s]\n",
            "100%|██████████| 3/3 [00:00<00:00,  9.32it/s]\n"
          ]
        },
        {
          "output_type": "stream",
          "name": "stdout",
          "text": [
            "########## Epoch 21\n"
          ]
        },
        {
          "output_type": "stream",
          "name": "stderr",
          "text": [
            "100%|██████████| 10/10 [00:00<00:00, 16.54it/s]\n",
            "100%|██████████| 4/4 [00:00<00:00, 11.74it/s]\n"
          ]
        },
        {
          "output_type": "stream",
          "name": "stdout",
          "text": [
            "Train loss: 0.11502633988857269\tVal loss: 0.07459044456481934\tTrain acc: 96.875\tVal acc: 98.4140625\n"
          ]
        },
        {
          "output_type": "stream",
          "name": "stderr",
          "text": [
            "100%|██████████| 2/2 [00:00<00:00,  6.01it/s]\n",
            "100%|██████████| 3/3 [00:00<00:00,  8.54it/s]\n"
          ]
        },
        {
          "output_type": "stream",
          "name": "stdout",
          "text": [
            "########## Epoch 22\n"
          ]
        },
        {
          "output_type": "stream",
          "name": "stderr",
          "text": [
            "100%|██████████| 10/10 [00:00<00:00, 16.26it/s]\n",
            "100%|██████████| 4/4 [00:00<00:00, 10.32it/s]\n"
          ]
        },
        {
          "output_type": "stream",
          "name": "stdout",
          "text": [
            "Train loss: 0.11313040554523468\tVal loss: 0.06842361390590668\tTrain acc: 96.953125\tVal acc: 98.49479166666667\n"
          ]
        },
        {
          "output_type": "stream",
          "name": "stderr",
          "text": [
            "100%|██████████| 2/2 [00:00<00:00,  6.10it/s]\n",
            "100%|██████████| 3/3 [00:00<00:00,  9.32it/s]\n"
          ]
        },
        {
          "output_type": "stream",
          "name": "stdout",
          "text": [
            "########## Epoch 23\n"
          ]
        },
        {
          "output_type": "stream",
          "name": "stderr",
          "text": [
            "100%|██████████| 10/10 [00:00<00:00, 15.41it/s]\n",
            "100%|██████████| 4/4 [00:00<00:00, 11.00it/s]\n"
          ]
        },
        {
          "output_type": "stream",
          "name": "stdout",
          "text": [
            "Train loss: 0.1223997101187706\tVal loss: 0.06894876062870026\tTrain acc: 96.71875\tVal acc: 98.49479166666667\n"
          ]
        },
        {
          "output_type": "stream",
          "name": "stderr",
          "text": [
            "100%|██████████| 2/2 [00:00<00:00,  5.82it/s]\n",
            "100%|██████████| 3/3 [00:00<00:00,  9.21it/s]\n"
          ]
        },
        {
          "output_type": "stream",
          "name": "stdout",
          "text": [
            "########## Epoch 24\n"
          ]
        },
        {
          "output_type": "stream",
          "name": "stderr",
          "text": [
            "100%|██████████| 10/10 [00:00<00:00, 15.76it/s]\n",
            "100%|██████████| 4/4 [00:00<00:00, 11.32it/s]\n"
          ]
        },
        {
          "output_type": "stream",
          "name": "stdout",
          "text": [
            "Train loss: 0.15586718916893005\tVal loss: 0.07551515102386475\tTrain acc: 95.28645833333334\tVal acc: 98.4140625\n"
          ]
        },
        {
          "output_type": "stream",
          "name": "stderr",
          "text": [
            "100%|██████████| 2/2 [00:00<00:00,  6.17it/s]\n",
            "100%|██████████| 3/3 [00:00<00:00,  8.54it/s]\n"
          ]
        },
        {
          "output_type": "stream",
          "name": "stdout",
          "text": [
            "########## Epoch 0\n"
          ]
        },
        {
          "output_type": "stream",
          "name": "stderr",
          "text": [
            "100%|██████████| 6/6 [00:00<00:00, 12.28it/s]\n",
            "100%|██████████| 5/5 [00:00<00:00, 13.62it/s]\n"
          ]
        },
        {
          "output_type": "stream",
          "name": "stdout",
          "text": [
            "Train loss: 8.813762664794922\tVal loss: 2.1444873809814453\tTrain acc: 0.0\tVal acc: 71.8103448275862\n"
          ]
        },
        {
          "output_type": "stream",
          "name": "stderr",
          "text": [
            "100%|██████████| 2/2 [00:00<00:00,  6.36it/s]\n",
            "100%|██████████| 3/3 [00:00<00:00,  9.09it/s]\n",
            "100%|██████████| 2/2 [00:00<00:00,  5.96it/s]\n"
          ]
        },
        {
          "output_type": "stream",
          "name": "stdout",
          "text": [
            "########## Epoch 1\n"
          ]
        },
        {
          "output_type": "stream",
          "name": "stderr",
          "text": [
            "100%|██████████| 6/6 [00:00<00:00, 12.13it/s]\n",
            "100%|██████████| 5/5 [00:00<00:00, 13.28it/s]\n"
          ]
        },
        {
          "output_type": "stream",
          "name": "stdout",
          "text": [
            "Train loss: 6.9614577293396\tVal loss: 1.7329418659210205\tTrain acc: 0.0\tVal acc: 70.35560344827586\n"
          ]
        },
        {
          "output_type": "stream",
          "name": "stderr",
          "text": [
            "100%|██████████| 2/2 [00:00<00:00,  5.91it/s]\n",
            "100%|██████████| 3/3 [00:00<00:00,  9.26it/s]\n",
            "100%|██████████| 2/2 [00:00<00:00,  5.94it/s]\n"
          ]
        },
        {
          "output_type": "stream",
          "name": "stdout",
          "text": [
            "########## Epoch 2\n"
          ]
        },
        {
          "output_type": "stream",
          "name": "stderr",
          "text": [
            "100%|██████████| 6/6 [00:00<00:00, 11.73it/s]\n",
            "100%|██████████| 5/5 [00:00<00:00, 13.60it/s]\n"
          ]
        },
        {
          "output_type": "stream",
          "name": "stdout",
          "text": [
            "Train loss: 5.48694372177124\tVal loss: 1.477705955505371\tTrain acc: 0.0\tVal acc: 66.91810344827586\n"
          ]
        },
        {
          "output_type": "stream",
          "name": "stderr",
          "text": [
            "100%|██████████| 2/2 [00:00<00:00,  5.91it/s]\n",
            "100%|██████████| 3/3 [00:00<00:00,  9.02it/s]\n",
            "100%|██████████| 2/2 [00:00<00:00,  6.05it/s]\n"
          ]
        },
        {
          "output_type": "stream",
          "name": "stdout",
          "text": [
            "########## Epoch 3\n"
          ]
        },
        {
          "output_type": "stream",
          "name": "stderr",
          "text": [
            "100%|██████████| 6/6 [00:00<00:00, 12.13it/s]\n",
            "100%|██████████| 5/5 [00:00<00:00, 14.20it/s]\n"
          ]
        },
        {
          "output_type": "stream",
          "name": "stdout",
          "text": [
            "Train loss: 4.469400405883789\tVal loss: 1.3224525451660156\tTrain acc: 0.0\tVal acc: 64.68211206896551\n"
          ]
        },
        {
          "output_type": "stream",
          "name": "stderr",
          "text": [
            "100%|██████████| 2/2 [00:00<00:00,  6.12it/s]\n",
            "100%|██████████| 3/3 [00:00<00:00,  8.98it/s]\n",
            "100%|██████████| 2/2 [00:00<00:00,  6.20it/s]\n"
          ]
        },
        {
          "output_type": "stream",
          "name": "stdout",
          "text": [
            "########## Epoch 4\n"
          ]
        },
        {
          "output_type": "stream",
          "name": "stderr",
          "text": [
            "100%|██████████| 6/6 [00:00<00:00, 11.77it/s]\n",
            "100%|██████████| 5/5 [00:00<00:00, 13.72it/s]\n"
          ]
        },
        {
          "output_type": "stream",
          "name": "stdout",
          "text": [
            "Train loss: 3.7548635005950928\tVal loss: 1.211686372756958\tTrain acc: 0.0\tVal acc: 63.227370689655174\n"
          ]
        },
        {
          "output_type": "stream",
          "name": "stderr",
          "text": [
            "100%|██████████| 2/2 [00:00<00:00,  6.05it/s]\n",
            "100%|██████████| 3/3 [00:00<00:00,  8.78it/s]\n",
            "100%|██████████| 2/2 [00:00<00:00,  6.33it/s]\n"
          ]
        },
        {
          "output_type": "stream",
          "name": "stdout",
          "text": [
            "########## Epoch 5\n"
          ]
        },
        {
          "output_type": "stream",
          "name": "stderr",
          "text": [
            "100%|██████████| 6/6 [00:00<00:00, 11.97it/s]\n",
            "100%|██████████| 5/5 [00:00<00:00, 13.64it/s]\n"
          ]
        },
        {
          "output_type": "stream",
          "name": "stdout",
          "text": [
            "Train loss: 3.184467315673828\tVal loss: 1.1210072040557861\tTrain acc: 0.0\tVal acc: 62.57004310344828\n"
          ]
        },
        {
          "output_type": "stream",
          "name": "stderr",
          "text": [
            "100%|██████████| 2/2 [00:00<00:00,  6.08it/s]\n",
            "100%|██████████| 3/3 [00:00<00:00,  8.78it/s]\n",
            "100%|██████████| 2/2 [00:00<00:00,  6.30it/s]\n"
          ]
        },
        {
          "output_type": "stream",
          "name": "stdout",
          "text": [
            "########## Epoch 6\n"
          ]
        },
        {
          "output_type": "stream",
          "name": "stderr",
          "text": [
            "100%|██████████| 6/6 [00:00<00:00, 12.46it/s]\n",
            "100%|██████████| 5/5 [00:00<00:00, 13.69it/s]\n"
          ]
        },
        {
          "output_type": "stream",
          "name": "stdout",
          "text": [
            "Train loss: 2.7282867431640625\tVal loss: 1.038756012916565\tTrain acc: 0.0\tVal acc: 62.49461206896551\n"
          ]
        },
        {
          "output_type": "stream",
          "name": "stderr",
          "text": [
            "100%|██████████| 2/2 [00:00<00:00,  6.10it/s]\n",
            "100%|██████████| 3/3 [00:00<00:00,  9.16it/s]\n",
            "100%|██████████| 2/2 [00:00<00:00,  6.22it/s]\n"
          ]
        },
        {
          "output_type": "stream",
          "name": "stdout",
          "text": [
            "########## Epoch 7\n"
          ]
        },
        {
          "output_type": "stream",
          "name": "stderr",
          "text": [
            "100%|██████████| 6/6 [00:00<00:00, 11.72it/s]\n",
            "100%|██████████| 5/5 [00:00<00:00, 13.40it/s]\n"
          ]
        },
        {
          "output_type": "stream",
          "name": "stdout",
          "text": [
            "Train loss: 2.30615496635437\tVal loss: 0.9723432660102844\tTrain acc: 0.0\tVal acc: 62.149784482758626\n"
          ]
        },
        {
          "output_type": "stream",
          "name": "stderr",
          "text": [
            "100%|██████████| 2/2 [00:00<00:00,  5.85it/s]\n",
            "100%|██████████| 3/3 [00:00<00:00,  9.08it/s]\n",
            "100%|██████████| 2/2 [00:00<00:00,  6.02it/s]\n"
          ]
        },
        {
          "output_type": "stream",
          "name": "stdout",
          "text": [
            "########## Epoch 8\n"
          ]
        },
        {
          "output_type": "stream",
          "name": "stderr",
          "text": [
            "100%|██████████| 6/6 [00:00<00:00, 11.15it/s]\n",
            "100%|██████████| 5/5 [00:00<00:00, 13.57it/s]\n"
          ]
        },
        {
          "output_type": "stream",
          "name": "stdout",
          "text": [
            "Train loss: 1.9407525062561035\tVal loss: 0.9192184209823608\tTrain acc: 0.0\tVal acc: 62.591594827586206\n"
          ]
        },
        {
          "output_type": "stream",
          "name": "stderr",
          "text": [
            "100%|██████████| 2/2 [00:00<00:00,  5.88it/s]\n",
            "100%|██████████| 3/3 [00:00<00:00,  8.74it/s]\n",
            "100%|██████████| 2/2 [00:00<00:00,  5.98it/s]\n"
          ]
        },
        {
          "output_type": "stream",
          "name": "stdout",
          "text": [
            "########## Epoch 9\n"
          ]
        },
        {
          "output_type": "stream",
          "name": "stderr",
          "text": [
            "100%|██████████| 6/6 [00:00<00:00, 11.47it/s]\n",
            "100%|██████████| 5/5 [00:00<00:00, 13.98it/s]\n"
          ]
        },
        {
          "output_type": "stream",
          "name": "stdout",
          "text": [
            "Train loss: 1.6043237447738647\tVal loss: 0.8891574740409851\tTrain acc: 19.706357758620687\tVal acc: 70.07543103448276\n"
          ]
        },
        {
          "output_type": "stream",
          "name": "stderr",
          "text": [
            "100%|██████████| 2/2 [00:00<00:00,  5.64it/s]\n",
            "100%|██████████| 3/3 [00:00<00:00,  8.90it/s]\n",
            "100%|██████████| 2/2 [00:00<00:00,  5.86it/s]\n"
          ]
        },
        {
          "output_type": "stream",
          "name": "stdout",
          "text": [
            "########## Epoch 10\n"
          ]
        },
        {
          "output_type": "stream",
          "name": "stderr",
          "text": [
            "100%|██████████| 6/6 [00:00<00:00, 11.62it/s]\n",
            "100%|██████████| 5/5 [00:00<00:00, 13.98it/s]\n"
          ]
        },
        {
          "output_type": "stream",
          "name": "stdout",
          "text": [
            "Train loss: 1.3192170858383179\tVal loss: 0.8826979398727417\tTrain acc: 42.29076867816092\tVal acc: 72.20366379310344\n"
          ]
        },
        {
          "output_type": "stream",
          "name": "stderr",
          "text": [
            "100%|██████████| 2/2 [00:00<00:00,  5.78it/s]\n",
            "100%|██████████| 3/3 [00:00<00:00,  8.60it/s]\n",
            "100%|██████████| 2/2 [00:00<00:00,  6.64it/s]\n"
          ]
        },
        {
          "output_type": "stream",
          "name": "stdout",
          "text": [
            "########## Epoch 11\n"
          ]
        },
        {
          "output_type": "stream",
          "name": "stderr",
          "text": [
            "100%|██████████| 6/6 [00:00<00:00, 11.86it/s]\n",
            "100%|██████████| 5/5 [00:00<00:00, 13.61it/s]\n"
          ]
        },
        {
          "output_type": "stream",
          "name": "stdout",
          "text": [
            "Train loss: 1.0905518531799316\tVal loss: 0.9059621691703796\tTrain acc: 55.21731321839081\tVal acc: 74.95150862068965\n"
          ]
        },
        {
          "output_type": "stream",
          "name": "stderr",
          "text": [
            "100%|██████████| 2/2 [00:00<00:00,  6.10it/s]\n",
            "100%|██████████| 3/3 [00:00<00:00,  8.91it/s]\n",
            "100%|██████████| 2/2 [00:00<00:00,  6.00it/s]\n"
          ]
        },
        {
          "output_type": "stream",
          "name": "stdout",
          "text": [
            "########## Epoch 12\n"
          ]
        },
        {
          "output_type": "stream",
          "name": "stderr",
          "text": [
            "100%|██████████| 6/6 [00:00<00:00, 11.05it/s]\n",
            "100%|██████████| 5/5 [00:00<00:00, 13.85it/s]\n"
          ]
        },
        {
          "output_type": "stream",
          "name": "stdout",
          "text": [
            "Train loss: 0.9257872104644775\tVal loss: 0.9566692113876343\tTrain acc: 62.845725574712645\tVal acc: 70.82435344827586\n"
          ]
        },
        {
          "output_type": "stream",
          "name": "stderr",
          "text": [
            "100%|██████████| 2/2 [00:00<00:00,  6.05it/s]\n",
            "100%|██████████| 3/3 [00:00<00:00,  9.01it/s]\n",
            "100%|██████████| 2/2 [00:00<00:00,  6.24it/s]\n"
          ]
        },
        {
          "output_type": "stream",
          "name": "stdout",
          "text": [
            "########## Epoch 13\n"
          ]
        },
        {
          "output_type": "stream",
          "name": "stderr",
          "text": [
            "100%|██████████| 6/6 [00:00<00:00, 11.84it/s]\n",
            "100%|██████████| 5/5 [00:00<00:00, 13.86it/s]\n"
          ]
        },
        {
          "output_type": "stream",
          "name": "stdout",
          "text": [
            "Train loss: 0.8182709813117981\tVal loss: 1.0237863063812256\tTrain acc: 70.19576149425286\tVal acc: 72.2790948275862\n"
          ]
        },
        {
          "output_type": "stream",
          "name": "stderr",
          "text": [
            "100%|██████████| 2/2 [00:00<00:00,  5.87it/s]\n",
            "100%|██████████| 3/3 [00:00<00:00,  8.68it/s]\n",
            "100%|██████████| 2/2 [00:00<00:00,  6.23it/s]\n"
          ]
        },
        {
          "output_type": "stream",
          "name": "stdout",
          "text": [
            "########## Epoch 14\n"
          ]
        },
        {
          "output_type": "stream",
          "name": "stderr",
          "text": [
            "100%|██████████| 6/6 [00:00<00:00, 11.98it/s]\n",
            "100%|██████████| 5/5 [00:00<00:00, 13.06it/s]\n"
          ]
        },
        {
          "output_type": "stream",
          "name": "stdout",
          "text": [
            "Train loss: 0.7514384388923645\tVal loss: 1.1012464761734009\tTrain acc: 76.8139367816092\tVal acc: 69.46120689655172\n"
          ]
        },
        {
          "output_type": "stream",
          "name": "stderr",
          "text": [
            "100%|██████████| 2/2 [00:00<00:00,  6.11it/s]\n",
            "100%|██████████| 3/3 [00:00<00:00,  8.81it/s]\n",
            "100%|██████████| 2/2 [00:00<00:00,  5.76it/s]\n"
          ]
        },
        {
          "output_type": "stream",
          "name": "stdout",
          "text": [
            "########## Epoch 15\n"
          ]
        },
        {
          "output_type": "stream",
          "name": "stderr",
          "text": [
            "100%|██████████| 6/6 [00:00<00:00, 11.29it/s]\n",
            "100%|██████████| 5/5 [00:00<00:00, 13.10it/s]\n"
          ]
        },
        {
          "output_type": "stream",
          "name": "stdout",
          "text": [
            "Train loss: 0.7125990390777588\tVal loss: 1.171907901763916\tTrain acc: 82.3590158045977\tVal acc: 67.46228448275863\n"
          ]
        },
        {
          "output_type": "stream",
          "name": "stderr",
          "text": [
            "100%|██████████| 2/2 [00:00<00:00,  5.79it/s]\n",
            "100%|██████████| 3/3 [00:00<00:00,  8.67it/s]\n",
            "100%|██████████| 2/2 [00:00<00:00,  6.12it/s]\n"
          ]
        },
        {
          "output_type": "stream",
          "name": "stdout",
          "text": [
            "########## Epoch 16\n"
          ]
        },
        {
          "output_type": "stream",
          "name": "stderr",
          "text": [
            "100%|██████████| 6/6 [00:00<00:00, 12.31it/s]\n",
            "100%|██████████| 5/5 [00:00<00:00, 13.73it/s]\n"
          ]
        },
        {
          "output_type": "stream",
          "name": "stdout",
          "text": [
            "Train loss: 0.6883948445320129\tVal loss: 1.2329800128936768\tTrain acc: 83.40068247126437\tVal acc: 65.38793103448276\n"
          ]
        },
        {
          "output_type": "stream",
          "name": "stderr",
          "text": [
            "100%|██████████| 2/2 [00:00<00:00,  5.99it/s]\n",
            "100%|██████████| 3/3 [00:00<00:00,  8.68it/s]\n",
            "100%|██████████| 2/2 [00:00<00:00,  6.00it/s]\n"
          ]
        },
        {
          "output_type": "stream",
          "name": "stdout",
          "text": [
            "########## Epoch 17\n"
          ]
        },
        {
          "output_type": "stream",
          "name": "stderr",
          "text": [
            "100%|██████████| 6/6 [00:00<00:00, 11.98it/s]\n",
            "100%|██████████| 5/5 [00:00<00:00, 13.18it/s]\n"
          ]
        },
        {
          "output_type": "stream",
          "name": "stdout",
          "text": [
            "Train loss: 0.6717667579650879\tVal loss: 1.2857505083084106\tTrain acc: 83.40068247126437\tVal acc: 63.94935344827586\n"
          ]
        },
        {
          "output_type": "stream",
          "name": "stderr",
          "text": [
            "100%|██████████| 2/2 [00:00<00:00,  6.01it/s]\n",
            "100%|██████████| 3/3 [00:00<00:00,  8.67it/s]\n",
            "100%|██████████| 2/2 [00:00<00:00,  6.06it/s]\n"
          ]
        },
        {
          "output_type": "stream",
          "name": "stdout",
          "text": [
            "########## Epoch 18\n"
          ]
        },
        {
          "output_type": "stream",
          "name": "stderr",
          "text": [
            "100%|██████████| 6/6 [00:00<00:00, 11.84it/s]\n",
            "100%|██████████| 5/5 [00:00<00:00, 13.52it/s]\n"
          ]
        },
        {
          "output_type": "stream",
          "name": "stdout",
          "text": [
            "Train loss: 0.6581079959869385\tVal loss: 1.3360790014266968\tTrain acc: 82.80352011494253\tVal acc: 62.05280172413793\n"
          ]
        },
        {
          "output_type": "stream",
          "name": "stderr",
          "text": [
            "100%|██████████| 2/2 [00:00<00:00,  5.70it/s]\n",
            "100%|██████████| 3/3 [00:00<00:00,  8.96it/s]\n",
            "100%|██████████| 2/2 [00:00<00:00,  6.14it/s]\n"
          ]
        },
        {
          "output_type": "stream",
          "name": "stdout",
          "text": [
            "########## Epoch 19\n"
          ]
        },
        {
          "output_type": "stream",
          "name": "stderr",
          "text": [
            "100%|██████████| 6/6 [00:00<00:00, 11.41it/s]\n",
            "100%|██████████| 5/5 [00:00<00:00, 13.31it/s]\n"
          ]
        },
        {
          "output_type": "stream",
          "name": "stdout",
          "text": [
            "Train loss: 0.646673858165741\tVal loss: 1.3769937753677368\tTrain acc: 83.58477011494253\tVal acc: 60.44181034482758\n"
          ]
        },
        {
          "output_type": "stream",
          "name": "stderr",
          "text": [
            "100%|██████████| 2/2 [00:00<00:00,  5.66it/s]\n",
            "100%|██████████| 3/3 [00:00<00:00,  8.48it/s]\n",
            "100%|██████████| 2/2 [00:00<00:00,  6.12it/s]\n"
          ]
        },
        {
          "output_type": "stream",
          "name": "stdout",
          "text": [
            "########## Epoch 20\n"
          ]
        },
        {
          "output_type": "stream",
          "name": "stderr",
          "text": [
            "100%|██████████| 6/6 [00:00<00:00, 11.85it/s]\n",
            "100%|██████████| 5/5 [00:00<00:00, 13.58it/s]\n"
          ]
        },
        {
          "output_type": "stream",
          "name": "stdout",
          "text": [
            "Train loss: 0.6362438797950745\tVal loss: 1.4109876155853271\tTrain acc: 84.55010775862068\tVal acc: 59.52047413793103\n"
          ]
        },
        {
          "output_type": "stream",
          "name": "stderr",
          "text": [
            "100%|██████████| 2/2 [00:00<00:00,  5.80it/s]\n",
            "100%|██████████| 3/3 [00:00<00:00,  8.59it/s]\n",
            "100%|██████████| 2/2 [00:00<00:00,  6.19it/s]\n"
          ]
        },
        {
          "output_type": "stream",
          "name": "stdout",
          "text": [
            "########## Epoch 21\n"
          ]
        },
        {
          "output_type": "stream",
          "name": "stderr",
          "text": [
            "100%|██████████| 6/6 [00:00<00:00, 11.58it/s]\n",
            "100%|██████████| 5/5 [00:00<00:00, 13.89it/s]\n"
          ]
        },
        {
          "output_type": "stream",
          "name": "stdout",
          "text": [
            "Train loss: 0.632977306842804\tVal loss: 1.4435828924179077\tTrain acc: 83.9215158045977\tVal acc: 59.299568965517246\n"
          ]
        },
        {
          "output_type": "stream",
          "name": "stderr",
          "text": [
            "100%|██████████| 2/2 [00:00<00:00,  6.02it/s]\n",
            "100%|██████████| 3/3 [00:00<00:00,  8.69it/s]\n",
            "100%|██████████| 2/2 [00:00<00:00,  6.14it/s]\n"
          ]
        },
        {
          "output_type": "stream",
          "name": "stdout",
          "text": [
            "########## Epoch 22\n"
          ]
        },
        {
          "output_type": "stream",
          "name": "stderr",
          "text": [
            "100%|██████████| 6/6 [00:00<00:00, 12.18it/s]\n",
            "100%|██████████| 5/5 [00:00<00:00, 13.84it/s]\n"
          ]
        },
        {
          "output_type": "stream",
          "name": "stdout",
          "text": [
            "Train loss: 0.6192548274993896\tVal loss: 1.4682109355926514\tTrain acc: 84.70725574712644\tVal acc: 58.41056034482758\n"
          ]
        },
        {
          "output_type": "stream",
          "name": "stderr",
          "text": [
            "100%|██████████| 2/2 [00:00<00:00,  5.89it/s]\n",
            "100%|██████████| 3/3 [00:00<00:00,  8.31it/s]\n",
            "100%|██████████| 2/2 [00:00<00:00,  5.99it/s]\n"
          ]
        },
        {
          "output_type": "stream",
          "name": "stdout",
          "text": [
            "########## Epoch 23\n"
          ]
        },
        {
          "output_type": "stream",
          "name": "stderr",
          "text": [
            "100%|██████████| 6/6 [00:00<00:00, 11.60it/s]\n",
            "100%|██████████| 5/5 [00:00<00:00, 14.01it/s]\n"
          ]
        },
        {
          "output_type": "stream",
          "name": "stdout",
          "text": [
            "Train loss: 0.610170304775238\tVal loss: 1.4947727918624878\tTrain acc: 86.29669540229885\tVal acc: 56.09913793103449\n"
          ]
        },
        {
          "output_type": "stream",
          "name": "stderr",
          "text": [
            "100%|██████████| 2/2 [00:00<00:00,  5.93it/s]\n",
            "100%|██████████| 3/3 [00:00<00:00,  7.99it/s]\n",
            "100%|██████████| 2/2 [00:00<00:00,  6.03it/s]\n"
          ]
        },
        {
          "output_type": "stream",
          "name": "stdout",
          "text": [
            "########## Epoch 24\n"
          ]
        },
        {
          "output_type": "stream",
          "name": "stderr",
          "text": [
            "100%|██████████| 6/6 [00:00<00:00, 11.69it/s]\n",
            "100%|██████████| 5/5 [00:00<00:00, 13.52it/s]\n"
          ]
        },
        {
          "output_type": "stream",
          "name": "stdout",
          "text": [
            "Train loss: 0.6062248349189758\tVal loss: 1.5142258405685425\tTrain acc: 83.79130747126437\tVal acc: 55.571120689655174\n"
          ]
        },
        {
          "output_type": "stream",
          "name": "stderr",
          "text": [
            "100%|██████████| 2/2 [00:00<00:00,  5.98it/s]\n",
            "100%|██████████| 3/3 [00:00<00:00,  8.53it/s]\n",
            "100%|██████████| 2/2 [00:00<00:00,  6.30it/s]\n"
          ]
        },
        {
          "output_type": "display_data",
          "data": {
            "text/plain": [
              "<IPython.core.display.HTML object>"
            ],
            "text/html": [
              "Waiting for W&B process to finish... <strong style=\"color:green\">(success).</strong>"
            ]
          },
          "metadata": {}
        },
        {
          "output_type": "display_data",
          "data": {
            "text/plain": [
              "VBox(children=(Label(value='0.000 MB of 0.000 MB uploaded (0.000 MB deduped)\\r'), FloatProgress(value=1.0, max…"
            ],
            "application/vnd.jupyter.widget-view+json": {
              "version_major": 2,
              "version_minor": 0,
              "model_id": "a0b9e31e1acd40a1ad839d5834edd8f6"
            }
          },
          "metadata": {}
        },
        {
          "output_type": "display_data",
          "data": {
            "text/plain": [
              "<IPython.core.display.HTML object>"
            ],
            "text/html": [
              "<style>\n",
              "    table.wandb td:nth-child(1) { padding: 0 10px; text-align: left ; width: auto;} td:nth-child(2) {text-align: left ; width: 100%}\n",
              "    .wandb-row { display: flex; flex-direction: row; flex-wrap: wrap; justify-content: flex-start; width: 100% }\n",
              "    .wandb-col { display: flex; flex-direction: column; flex-basis: 100%; flex: 1; padding: 10px; }\n",
              "    </style>\n",
              "<div class=\"wandb-row\"><div class=\"wandb-col\"><h3>Run history:</h3><br/><table class=\"wandb\"><tr><td>task_0_prevtask_0_val_acc</td><td>▁██▇███████████▇█████████</td></tr><tr><td>task_0_prevtask_0_val_loss</td><td>█▃▁▁▂▁▁▁▁▁▁▂▁▁▁▂▁▁▁▁▁▁▁▁▁</td></tr><tr><td>task_0_train_acc</td><td>▁▅▇█▇▇▇██████████████████</td></tr><tr><td>task_0_train_loss</td><td>█▃▂▂▂▂▁▁▁▁▁▁▁▁▁▁▁▁▁▁▁▁▁▁▁</td></tr><tr><td>task_0_val_acc</td><td>▁██▇█████████████████████</td></tr><tr><td>task_0_val_loss</td><td>█▃▁▁▁▁▁▁▁▁▁▁▁▁▂▁▂▁▁▁▂▁▁▁▁</td></tr><tr><td>task_1_prevtask_0_val_acc</td><td>▆▁▅██▅█▁▅███▅█▁▅██▅▁███▅▅</td></tr><tr><td>task_1_prevtask_0_val_loss</td><td>▄▅▂▂▁▆▁█▆▁▁▁▂▁▇▆▁▁▂▆▁▁▁▆▆</td></tr><tr><td>task_1_prevtask_1_val_acc</td><td>▇▇▂▅▅▁▆▄▆▅▆▇▄▇▆▆▆▇▆▆█▆▄▄█</td></tr><tr><td>task_1_prevtask_1_val_loss</td><td>▂▂▆▄▅█▃▃▂▂▂▂▄▂▄▂▄▁▄▂▁▃▄▄▁</td></tr><tr><td>task_1_train_acc</td><td>▁▇▇▇▄▆▄▆▆▇▇▇▇▇▄▇▇███████▅</td></tr><tr><td>task_1_train_loss</td><td>█▃▂▂▃▂▂▂▂▁▁▂▁▁▃▁▁▁▁▁▁▁▁▁▂</td></tr><tr><td>task_1_val_acc</td><td>▆▆▃▄▃▁▂▁▂▃▁▄▆▄▇▄▆▆▇██▅▆▆▅</td></tr><tr><td>task_1_val_loss</td><td>█▄▄▄▅▅▅▆▆▄▄▂▂▅▂▃▃▂▂▁▁▄▃▃▄</td></tr><tr><td>task_2_prevtask_0_val_acc</td><td>███▇▇▇▇▇▇▇▆▆▅▄▃▂▂▂▂▁▁▁▁▁▁</td></tr><tr><td>task_2_prevtask_0_val_loss</td><td>▁▁▁▂▂▂▂▂▂▃▃▃▄▄▅▆▆▆▇▇▇▇▇██</td></tr><tr><td>task_2_prevtask_1_val_acc</td><td>██▆▆▅▄▅▄▅▅▅▄▄▄▃▃▄▂▃▃▁▁▂▁▁</td></tr><tr><td>task_2_prevtask_1_val_loss</td><td>▁▁▂▃▃▄▄▄▄▄▅▅▆▆▇▇▇▇▇▇█████</td></tr><tr><td>task_2_prevtask_2_val_acc</td><td>▁▁▁▁▁▁▁▁▁▄▅▆▆▇█████▇▇██▇▇</td></tr><tr><td>task_2_prevtask_2_val_loss</td><td>█▆▅▄▄▃▃▂▂▂▂▁▁▁▁▁▁▁▁▁▁▁▁▁▁</td></tr><tr><td>task_2_train_acc</td><td>▁▁▁▁▁▁▁▁▁▃▄▅▆▇▇██████████</td></tr><tr><td>task_2_train_loss</td><td>█▆▅▄▄▃▃▂▂▂▂▁▁▁▁▁▁▁▁▁▁▁▁▁▁</td></tr><tr><td>task_2_val_acc</td><td>▇▆▅▄▄▄▄▃▄▆▇█▇▇▆▅▅▄▃▃▂▂▂▁▁</td></tr><tr><td>task_2_val_loss</td><td>█▆▄▃▃▂▂▁▁▁▁▁▁▂▂▃▃▃▄▄▄▄▄▄▅</td></tr></table><br/></div><div class=\"wandb-col\"><h3>Run summary:</h3><br/><table class=\"wandb\"><tr><td>task_0_prevtask_0_val_acc</td><td>99.60938</td></tr><tr><td>task_0_prevtask_0_val_loss</td><td>0.01793</td></tr><tr><td>task_0_train_acc</td><td>99.34896</td></tr><tr><td>task_0_train_loss</td><td>0.02584</td></tr><tr><td>task_0_val_acc</td><td>99.60938</td></tr><tr><td>task_0_val_loss</td><td>0.0169</td></tr><tr><td>task_1_prevtask_0_val_acc</td><td>98.38986</td></tr><tr><td>task_1_prevtask_0_val_loss</td><td>0.06506</td></tr><tr><td>task_1_prevtask_1_val_acc</td><td>98.95833</td></tr><tr><td>task_1_prevtask_1_val_loss</td><td>0.06583</td></tr><tr><td>task_1_train_acc</td><td>95.28646</td></tr><tr><td>task_1_train_loss</td><td>0.15587</td></tr><tr><td>task_1_val_acc</td><td>98.41406</td></tr><tr><td>task_1_val_loss</td><td>0.07552</td></tr><tr><td>task_2_prevtask_0_val_acc</td><td>0.39062</td></tr><tr><td>task_2_prevtask_0_val_loss</td><td>3.07459</td></tr><tr><td>task_2_prevtask_1_val_acc</td><td>73.86642</td></tr><tr><td>task_2_prevtask_1_val_loss</td><td>1.11773</td></tr><tr><td>task_2_prevtask_2_val_acc</td><td>84.57508</td></tr><tr><td>task_2_prevtask_2_val_loss</td><td>0.59632</td></tr><tr><td>task_2_train_acc</td><td>83.79131</td></tr><tr><td>task_2_train_loss</td><td>0.60622</td></tr><tr><td>task_2_val_acc</td><td>55.57112</td></tr><tr><td>task_2_val_loss</td><td>1.51423</td></tr></table><br/></div></div>"
            ]
          },
          "metadata": {}
        },
        {
          "output_type": "display_data",
          "data": {
            "text/plain": [
              "<IPython.core.display.HTML object>"
            ],
            "text/html": [
              "Synced <strong style=\"color:#cdcd00\">ring_roadcondition_imagecondition_yesno_21_09_04h01m00s_mul</strong>: <a href=\"https://wandb.ai/compyle/continual_vqa_final/runs/2qn0ezp8\" target=\"_blank\">https://wandb.ai/compyle/continual_vqa_final/runs/2qn0ezp8</a><br/>Synced 5 W&B file(s), 0 media file(s), 0 artifact file(s) and 0 other file(s)"
            ]
          },
          "metadata": {}
        },
        {
          "output_type": "display_data",
          "data": {
            "text/plain": [
              "<IPython.core.display.HTML object>"
            ],
            "text/html": [
              "Find logs at: <code>./wandb/run-20220921_040100-2qn0ezp8/logs</code>"
            ]
          },
          "metadata": {}
        }
      ]
    },
    {
      "cell_type": "code",
      "source": [
        "!rm -rf ckpts"
      ],
      "metadata": {
        "id": "-4yMdNu4oixt"
      },
      "execution_count": null,
      "outputs": []
    },
    {
      "cell_type": "markdown",
      "source": [
        "## ER on CIFAR10"
      ],
      "metadata": {
        "id": "JvTvZzeQJcUI"
      }
    },
    {
      "cell_type": "code",
      "source": [
        "from torchvision.models import resnet50, ResNet50_Weights"
      ],
      "metadata": {
        "id": "V8daoUEZJvuC"
      },
      "execution_count": null,
      "outputs": []
    },
    {
      "cell_type": "code",
      "source": [
        "weights = ResNet50_Weights.DEFAULT\n",
        "model = resnet50(weights=weights)\n",
        "model.eval()"
      ],
      "metadata": {
        "id": "wNEGCeUaKPX8",
        "colab": {
          "base_uri": "https://localhost:8080/",
          "height": 1000,
          "referenced_widgets": [
            "91584577bb734b169e22eb01808842e7",
            "775d2a2d2c514d11a436ec067af1d31e",
            "3108cd0fc18049a9aabe6010e4bf65c7",
            "61989045068747c0a66b341d708359fd",
            "99f9c68a3eb24f1f9d44dd69b4bc818d",
            "f06d12e49e76487cac8076ba4fee9f8d",
            "9112663a107c4b3a9912150c997507db",
            "3ee2afbb79b844cb826872b32076403d",
            "308343204c94468bbd2b8d116f25785e",
            "1fde10477dd74752badcb321fff05284",
            "3526ef5af3d54c7d92bc7c8273392455"
          ]
        },
        "outputId": "13420b43-9504-4a26-9cc2-cbc2696e9f10"
      },
      "execution_count": null,
      "outputs": [
        {
          "output_type": "stream",
          "name": "stderr",
          "text": [
            "Downloading: \"https://download.pytorch.org/models/resnet50-11ad3fa6.pth\" to /root/.cache/torch/hub/checkpoints/resnet50-11ad3fa6.pth\n"
          ]
        },
        {
          "output_type": "display_data",
          "data": {
            "text/plain": [
              "  0%|          | 0.00/97.8M [00:00<?, ?B/s]"
            ],
            "application/vnd.jupyter.widget-view+json": {
              "version_major": 2,
              "version_minor": 0,
              "model_id": "91584577bb734b169e22eb01808842e7"
            }
          },
          "metadata": {}
        },
        {
          "output_type": "execute_result",
          "data": {
            "text/plain": [
              "ResNet(\n",
              "  (conv1): Conv2d(3, 64, kernel_size=(7, 7), stride=(2, 2), padding=(3, 3), bias=False)\n",
              "  (bn1): BatchNorm2d(64, eps=1e-05, momentum=0.1, affine=True, track_running_stats=True)\n",
              "  (relu): ReLU(inplace=True)\n",
              "  (maxpool): MaxPool2d(kernel_size=3, stride=2, padding=1, dilation=1, ceil_mode=False)\n",
              "  (layer1): Sequential(\n",
              "    (0): Bottleneck(\n",
              "      (conv1): Conv2d(64, 64, kernel_size=(1, 1), stride=(1, 1), bias=False)\n",
              "      (bn1): BatchNorm2d(64, eps=1e-05, momentum=0.1, affine=True, track_running_stats=True)\n",
              "      (conv2): Conv2d(64, 64, kernel_size=(3, 3), stride=(1, 1), padding=(1, 1), bias=False)\n",
              "      (bn2): BatchNorm2d(64, eps=1e-05, momentum=0.1, affine=True, track_running_stats=True)\n",
              "      (conv3): Conv2d(64, 256, kernel_size=(1, 1), stride=(1, 1), bias=False)\n",
              "      (bn3): BatchNorm2d(256, eps=1e-05, momentum=0.1, affine=True, track_running_stats=True)\n",
              "      (relu): ReLU(inplace=True)\n",
              "      (downsample): Sequential(\n",
              "        (0): Conv2d(64, 256, kernel_size=(1, 1), stride=(1, 1), bias=False)\n",
              "        (1): BatchNorm2d(256, eps=1e-05, momentum=0.1, affine=True, track_running_stats=True)\n",
              "      )\n",
              "    )\n",
              "    (1): Bottleneck(\n",
              "      (conv1): Conv2d(256, 64, kernel_size=(1, 1), stride=(1, 1), bias=False)\n",
              "      (bn1): BatchNorm2d(64, eps=1e-05, momentum=0.1, affine=True, track_running_stats=True)\n",
              "      (conv2): Conv2d(64, 64, kernel_size=(3, 3), stride=(1, 1), padding=(1, 1), bias=False)\n",
              "      (bn2): BatchNorm2d(64, eps=1e-05, momentum=0.1, affine=True, track_running_stats=True)\n",
              "      (conv3): Conv2d(64, 256, kernel_size=(1, 1), stride=(1, 1), bias=False)\n",
              "      (bn3): BatchNorm2d(256, eps=1e-05, momentum=0.1, affine=True, track_running_stats=True)\n",
              "      (relu): ReLU(inplace=True)\n",
              "    )\n",
              "    (2): Bottleneck(\n",
              "      (conv1): Conv2d(256, 64, kernel_size=(1, 1), stride=(1, 1), bias=False)\n",
              "      (bn1): BatchNorm2d(64, eps=1e-05, momentum=0.1, affine=True, track_running_stats=True)\n",
              "      (conv2): Conv2d(64, 64, kernel_size=(3, 3), stride=(1, 1), padding=(1, 1), bias=False)\n",
              "      (bn2): BatchNorm2d(64, eps=1e-05, momentum=0.1, affine=True, track_running_stats=True)\n",
              "      (conv3): Conv2d(64, 256, kernel_size=(1, 1), stride=(1, 1), bias=False)\n",
              "      (bn3): BatchNorm2d(256, eps=1e-05, momentum=0.1, affine=True, track_running_stats=True)\n",
              "      (relu): ReLU(inplace=True)\n",
              "    )\n",
              "  )\n",
              "  (layer2): Sequential(\n",
              "    (0): Bottleneck(\n",
              "      (conv1): Conv2d(256, 128, kernel_size=(1, 1), stride=(1, 1), bias=False)\n",
              "      (bn1): BatchNorm2d(128, eps=1e-05, momentum=0.1, affine=True, track_running_stats=True)\n",
              "      (conv2): Conv2d(128, 128, kernel_size=(3, 3), stride=(2, 2), padding=(1, 1), bias=False)\n",
              "      (bn2): BatchNorm2d(128, eps=1e-05, momentum=0.1, affine=True, track_running_stats=True)\n",
              "      (conv3): Conv2d(128, 512, kernel_size=(1, 1), stride=(1, 1), bias=False)\n",
              "      (bn3): BatchNorm2d(512, eps=1e-05, momentum=0.1, affine=True, track_running_stats=True)\n",
              "      (relu): ReLU(inplace=True)\n",
              "      (downsample): Sequential(\n",
              "        (0): Conv2d(256, 512, kernel_size=(1, 1), stride=(2, 2), bias=False)\n",
              "        (1): BatchNorm2d(512, eps=1e-05, momentum=0.1, affine=True, track_running_stats=True)\n",
              "      )\n",
              "    )\n",
              "    (1): Bottleneck(\n",
              "      (conv1): Conv2d(512, 128, kernel_size=(1, 1), stride=(1, 1), bias=False)\n",
              "      (bn1): BatchNorm2d(128, eps=1e-05, momentum=0.1, affine=True, track_running_stats=True)\n",
              "      (conv2): Conv2d(128, 128, kernel_size=(3, 3), stride=(1, 1), padding=(1, 1), bias=False)\n",
              "      (bn2): BatchNorm2d(128, eps=1e-05, momentum=0.1, affine=True, track_running_stats=True)\n",
              "      (conv3): Conv2d(128, 512, kernel_size=(1, 1), stride=(1, 1), bias=False)\n",
              "      (bn3): BatchNorm2d(512, eps=1e-05, momentum=0.1, affine=True, track_running_stats=True)\n",
              "      (relu): ReLU(inplace=True)\n",
              "    )\n",
              "    (2): Bottleneck(\n",
              "      (conv1): Conv2d(512, 128, kernel_size=(1, 1), stride=(1, 1), bias=False)\n",
              "      (bn1): BatchNorm2d(128, eps=1e-05, momentum=0.1, affine=True, track_running_stats=True)\n",
              "      (conv2): Conv2d(128, 128, kernel_size=(3, 3), stride=(1, 1), padding=(1, 1), bias=False)\n",
              "      (bn2): BatchNorm2d(128, eps=1e-05, momentum=0.1, affine=True, track_running_stats=True)\n",
              "      (conv3): Conv2d(128, 512, kernel_size=(1, 1), stride=(1, 1), bias=False)\n",
              "      (bn3): BatchNorm2d(512, eps=1e-05, momentum=0.1, affine=True, track_running_stats=True)\n",
              "      (relu): ReLU(inplace=True)\n",
              "    )\n",
              "    (3): Bottleneck(\n",
              "      (conv1): Conv2d(512, 128, kernel_size=(1, 1), stride=(1, 1), bias=False)\n",
              "      (bn1): BatchNorm2d(128, eps=1e-05, momentum=0.1, affine=True, track_running_stats=True)\n",
              "      (conv2): Conv2d(128, 128, kernel_size=(3, 3), stride=(1, 1), padding=(1, 1), bias=False)\n",
              "      (bn2): BatchNorm2d(128, eps=1e-05, momentum=0.1, affine=True, track_running_stats=True)\n",
              "      (conv3): Conv2d(128, 512, kernel_size=(1, 1), stride=(1, 1), bias=False)\n",
              "      (bn3): BatchNorm2d(512, eps=1e-05, momentum=0.1, affine=True, track_running_stats=True)\n",
              "      (relu): ReLU(inplace=True)\n",
              "    )\n",
              "  )\n",
              "  (layer3): Sequential(\n",
              "    (0): Bottleneck(\n",
              "      (conv1): Conv2d(512, 256, kernel_size=(1, 1), stride=(1, 1), bias=False)\n",
              "      (bn1): BatchNorm2d(256, eps=1e-05, momentum=0.1, affine=True, track_running_stats=True)\n",
              "      (conv2): Conv2d(256, 256, kernel_size=(3, 3), stride=(2, 2), padding=(1, 1), bias=False)\n",
              "      (bn2): BatchNorm2d(256, eps=1e-05, momentum=0.1, affine=True, track_running_stats=True)\n",
              "      (conv3): Conv2d(256, 1024, kernel_size=(1, 1), stride=(1, 1), bias=False)\n",
              "      (bn3): BatchNorm2d(1024, eps=1e-05, momentum=0.1, affine=True, track_running_stats=True)\n",
              "      (relu): ReLU(inplace=True)\n",
              "      (downsample): Sequential(\n",
              "        (0): Conv2d(512, 1024, kernel_size=(1, 1), stride=(2, 2), bias=False)\n",
              "        (1): BatchNorm2d(1024, eps=1e-05, momentum=0.1, affine=True, track_running_stats=True)\n",
              "      )\n",
              "    )\n",
              "    (1): Bottleneck(\n",
              "      (conv1): Conv2d(1024, 256, kernel_size=(1, 1), stride=(1, 1), bias=False)\n",
              "      (bn1): BatchNorm2d(256, eps=1e-05, momentum=0.1, affine=True, track_running_stats=True)\n",
              "      (conv2): Conv2d(256, 256, kernel_size=(3, 3), stride=(1, 1), padding=(1, 1), bias=False)\n",
              "      (bn2): BatchNorm2d(256, eps=1e-05, momentum=0.1, affine=True, track_running_stats=True)\n",
              "      (conv3): Conv2d(256, 1024, kernel_size=(1, 1), stride=(1, 1), bias=False)\n",
              "      (bn3): BatchNorm2d(1024, eps=1e-05, momentum=0.1, affine=True, track_running_stats=True)\n",
              "      (relu): ReLU(inplace=True)\n",
              "    )\n",
              "    (2): Bottleneck(\n",
              "      (conv1): Conv2d(1024, 256, kernel_size=(1, 1), stride=(1, 1), bias=False)\n",
              "      (bn1): BatchNorm2d(256, eps=1e-05, momentum=0.1, affine=True, track_running_stats=True)\n",
              "      (conv2): Conv2d(256, 256, kernel_size=(3, 3), stride=(1, 1), padding=(1, 1), bias=False)\n",
              "      (bn2): BatchNorm2d(256, eps=1e-05, momentum=0.1, affine=True, track_running_stats=True)\n",
              "      (conv3): Conv2d(256, 1024, kernel_size=(1, 1), stride=(1, 1), bias=False)\n",
              "      (bn3): BatchNorm2d(1024, eps=1e-05, momentum=0.1, affine=True, track_running_stats=True)\n",
              "      (relu): ReLU(inplace=True)\n",
              "    )\n",
              "    (3): Bottleneck(\n",
              "      (conv1): Conv2d(1024, 256, kernel_size=(1, 1), stride=(1, 1), bias=False)\n",
              "      (bn1): BatchNorm2d(256, eps=1e-05, momentum=0.1, affine=True, track_running_stats=True)\n",
              "      (conv2): Conv2d(256, 256, kernel_size=(3, 3), stride=(1, 1), padding=(1, 1), bias=False)\n",
              "      (bn2): BatchNorm2d(256, eps=1e-05, momentum=0.1, affine=True, track_running_stats=True)\n",
              "      (conv3): Conv2d(256, 1024, kernel_size=(1, 1), stride=(1, 1), bias=False)\n",
              "      (bn3): BatchNorm2d(1024, eps=1e-05, momentum=0.1, affine=True, track_running_stats=True)\n",
              "      (relu): ReLU(inplace=True)\n",
              "    )\n",
              "    (4): Bottleneck(\n",
              "      (conv1): Conv2d(1024, 256, kernel_size=(1, 1), stride=(1, 1), bias=False)\n",
              "      (bn1): BatchNorm2d(256, eps=1e-05, momentum=0.1, affine=True, track_running_stats=True)\n",
              "      (conv2): Conv2d(256, 256, kernel_size=(3, 3), stride=(1, 1), padding=(1, 1), bias=False)\n",
              "      (bn2): BatchNorm2d(256, eps=1e-05, momentum=0.1, affine=True, track_running_stats=True)\n",
              "      (conv3): Conv2d(256, 1024, kernel_size=(1, 1), stride=(1, 1), bias=False)\n",
              "      (bn3): BatchNorm2d(1024, eps=1e-05, momentum=0.1, affine=True, track_running_stats=True)\n",
              "      (relu): ReLU(inplace=True)\n",
              "    )\n",
              "    (5): Bottleneck(\n",
              "      (conv1): Conv2d(1024, 256, kernel_size=(1, 1), stride=(1, 1), bias=False)\n",
              "      (bn1): BatchNorm2d(256, eps=1e-05, momentum=0.1, affine=True, track_running_stats=True)\n",
              "      (conv2): Conv2d(256, 256, kernel_size=(3, 3), stride=(1, 1), padding=(1, 1), bias=False)\n",
              "      (bn2): BatchNorm2d(256, eps=1e-05, momentum=0.1, affine=True, track_running_stats=True)\n",
              "      (conv3): Conv2d(256, 1024, kernel_size=(1, 1), stride=(1, 1), bias=False)\n",
              "      (bn3): BatchNorm2d(1024, eps=1e-05, momentum=0.1, affine=True, track_running_stats=True)\n",
              "      (relu): ReLU(inplace=True)\n",
              "    )\n",
              "  )\n",
              "  (layer4): Sequential(\n",
              "    (0): Bottleneck(\n",
              "      (conv1): Conv2d(1024, 512, kernel_size=(1, 1), stride=(1, 1), bias=False)\n",
              "      (bn1): BatchNorm2d(512, eps=1e-05, momentum=0.1, affine=True, track_running_stats=True)\n",
              "      (conv2): Conv2d(512, 512, kernel_size=(3, 3), stride=(2, 2), padding=(1, 1), bias=False)\n",
              "      (bn2): BatchNorm2d(512, eps=1e-05, momentum=0.1, affine=True, track_running_stats=True)\n",
              "      (conv3): Conv2d(512, 2048, kernel_size=(1, 1), stride=(1, 1), bias=False)\n",
              "      (bn3): BatchNorm2d(2048, eps=1e-05, momentum=0.1, affine=True, track_running_stats=True)\n",
              "      (relu): ReLU(inplace=True)\n",
              "      (downsample): Sequential(\n",
              "        (0): Conv2d(1024, 2048, kernel_size=(1, 1), stride=(2, 2), bias=False)\n",
              "        (1): BatchNorm2d(2048, eps=1e-05, momentum=0.1, affine=True, track_running_stats=True)\n",
              "      )\n",
              "    )\n",
              "    (1): Bottleneck(\n",
              "      (conv1): Conv2d(2048, 512, kernel_size=(1, 1), stride=(1, 1), bias=False)\n",
              "      (bn1): BatchNorm2d(512, eps=1e-05, momentum=0.1, affine=True, track_running_stats=True)\n",
              "      (conv2): Conv2d(512, 512, kernel_size=(3, 3), stride=(1, 1), padding=(1, 1), bias=False)\n",
              "      (bn2): BatchNorm2d(512, eps=1e-05, momentum=0.1, affine=True, track_running_stats=True)\n",
              "      (conv3): Conv2d(512, 2048, kernel_size=(1, 1), stride=(1, 1), bias=False)\n",
              "      (bn3): BatchNorm2d(2048, eps=1e-05, momentum=0.1, affine=True, track_running_stats=True)\n",
              "      (relu): ReLU(inplace=True)\n",
              "    )\n",
              "    (2): Bottleneck(\n",
              "      (conv1): Conv2d(2048, 512, kernel_size=(1, 1), stride=(1, 1), bias=False)\n",
              "      (bn1): BatchNorm2d(512, eps=1e-05, momentum=0.1, affine=True, track_running_stats=True)\n",
              "      (conv2): Conv2d(512, 512, kernel_size=(3, 3), stride=(1, 1), padding=(1, 1), bias=False)\n",
              "      (bn2): BatchNorm2d(512, eps=1e-05, momentum=0.1, affine=True, track_running_stats=True)\n",
              "      (conv3): Conv2d(512, 2048, kernel_size=(1, 1), stride=(1, 1), bias=False)\n",
              "      (bn3): BatchNorm2d(2048, eps=1e-05, momentum=0.1, affine=True, track_running_stats=True)\n",
              "      (relu): ReLU(inplace=True)\n",
              "    )\n",
              "  )\n",
              "  (avgpool): AdaptiveAvgPool2d(output_size=(1, 1))\n",
              "  (fc): Linear(in_features=2048, out_features=1000, bias=True)\n",
              ")"
            ]
          },
          "metadata": {},
          "execution_count": 20
        }
      ]
    },
    {
      "cell_type": "code",
      "source": [
        "new_model = nn.Sequential(\n",
        "    *[layer for layer in model.children() if layer!=model.fc]\n",
        ")"
      ],
      "metadata": {
        "id": "leCeg1MEKUhT"
      },
      "execution_count": null,
      "outputs": []
    },
    {
      "cell_type": "code",
      "source": [
        "class ContinualResnet(nn.Module):\n",
        "    def __init__(self, num_classes=0, model=None):\n",
        "        self.backbone = model\n",
        "        self.lin = nn.Linear(in_features=2048, out_features=10)\n",
        "    \n",
        "    def forward(self, batch):\n",
        "        return self.lin(self.backbone(batch[0]))"
      ],
      "metadata": {
        "id": "mleJjN_LLao-"
      },
      "execution_count": null,
      "outputs": []
    }
  ]
}