{
  "cells": [
    {
      "cell_type": "code",
      "execution_count": null,
      "metadata": {
        "id": "L5MUgcm5rWZu"
      },
      "outputs": [],
      "source": [
        "# %%capture\n",
        "# !pip install transformers wandb ml_collections\n",
        "# !wandb login 8c920c1bbdcc7ee5353aaa8becd54a4942f0fc06\n",
        "# !pip install timm"
      ]
    },
    {
      "cell_type": "code",
      "source": [
        "# !touch /content/drive/MyDrive/floodnet_features/question_to_file.json\n"
      ],
      "metadata": {
        "id": "ETFq_DtssBPp"
      },
      "execution_count": null,
      "outputs": []
    },
    {
      "cell_type": "code",
      "source": [
        "# import os\n",
        "\n",
        "# len(os.listdir(\"/content/drive/MyDrive/floodnet_data/Images/Valid_Image\")) # 1448, 450, 450"
      ],
      "metadata": {
        "id": "q8sTzwiNsfAE"
      },
      "execution_count": null,
      "outputs": []
    },
    {
      "cell_type": "code",
      "execution_count": null,
      "metadata": {
        "colab": {
          "base_uri": "https://localhost:8080/"
        },
        "id": "hFzrS8JpuUoL",
        "outputId": "a95547ec-8d11-4754-f775-938670f2083a"
      },
      "outputs": [
        {
          "output_type": "stream",
          "name": "stdout",
          "text": [
            "Mounted at /content/drive\n"
          ]
        }
      ],
      "source": [
        "from google.colab import drive\n",
        "drive.mount('/content/drive', force_remount=True)"
      ]
    },
    {
      "cell_type": "code",
      "source": [
        "import json\n",
        "d = json.load(open(\"/content/drive/MyDrive/floodnet_data/Questions/Training Question.json\", \"r\"))\n",
        "\n",
        "uniq = []\n",
        "for key, val in d.items():\n",
        "    if val[\"Question\"] not in uniq:\n",
        "        uniq.append(val[\"Question\"])\n",
        "\n",
        "print(len(uniq))\n",
        "\n",
        "# uniq = []\n",
        "# for key, val in d.items():\n",
        "#     if val[\"Question_Type\"] not in uniq:\n",
        "#         uniq.append(val[\"Question_Type\"])\n",
        "\n",
        "# print(len(uniq))"
      ],
      "metadata": {
        "colab": {
          "base_uri": "https://localhost:8080/"
        },
        "id": "ZFgXlaTWYlmc",
        "outputId": "8642d7f4-acb2-491d-8c7c-fe389075e797"
      },
      "execution_count": null,
      "outputs": [
        {
          "output_type": "stream",
          "name": "stdout",
          "text": [
            "15\n"
          ]
        }
      ]
    },
    {
      "cell_type": "code",
      "source": [
        "uniq_qs = {idx:uniq[idx] for idx in range(len(uniq))}"
      ],
      "metadata": {
        "id": "dRGmn1CQkyBt"
      },
      "execution_count": null,
      "outputs": []
    },
    {
      "cell_type": "code",
      "source": [
        "uniq_qs"
      ],
      "metadata": {
        "colab": {
          "base_uri": "https://localhost:8080/"
        },
        "id": "TX8iwDbllBIC",
        "outputId": "8ddc53e3-6883-431e-b050-7bfce91f5f12"
      },
      "execution_count": null,
      "outputs": [
        {
          "output_type": "execute_result",
          "data": {
            "text/plain": [
              "{0: 'What is the overall condition of the given image?',\n",
              " 1: 'How many non flooded buildings can be seen in this image?',\n",
              " 2: 'How many buildings can be seen in the image?',\n",
              " 3: 'How many buildings can be seen in this image?',\n",
              " 4: 'Is the entire road non flooded?',\n",
              " 5: 'What is the condition of the road in this image?',\n",
              " 6: 'How many buildings are non flooded?',\n",
              " 7: 'Is the entire road flooded?',\n",
              " 8: 'How many buildings are in this image?',\n",
              " 9: 'What is the condition of road?',\n",
              " 10: 'How many buildings are non flooded in this image?',\n",
              " 11: 'How many buildings are in the image?',\n",
              " 12: 'How many buildings are flooded in this image?',\n",
              " 13: 'How many buildings are flooded?',\n",
              " 14: 'How many flooded buildings can be seen in this image?'}"
            ]
          },
          "metadata": {},
          "execution_count": 4
        }
      ]
    },
    {
      "cell_type": "code",
      "source": [
        "from google.colab import drive\n",
        "drive.mount('/content/drive')"
      ],
      "metadata": {
        "id": "ZegBmmkQkSws"
      },
      "execution_count": null,
      "outputs": []
    },
    {
      "cell_type": "code",
      "source": [
        "from transformers import RobertaTokenizer, RobertaModel\n",
        "import torch\n",
        "\n",
        "tokenizer = RobertaTokenizer.from_pretrained(\"roberta-large\")\n",
        "model = RobertaModel.from_pretrained(\"roberta-large\")\n",
        "\n",
        "model.to(torch.device(\"cuda\"))\n",
        "\n",
        "feats = dict()\n",
        "\n",
        "for key, value in uniq_qs.items():\n",
        "    inputs = tokenizer(value, return_tensors=\"pt\")\n",
        "    inputs = {k:v.to(torch.device(\"cuda\")) for k,v in inputs.items()}\n",
        "    outputs = model(**inputs)\n",
        "\n",
        "    last_hidden_states = outputs[1]\n",
        "    feats[key] = last_hidden_states.detach().cpu()\n"
      ],
      "metadata": {
        "colab": {
          "base_uri": "https://localhost:8080/",
          "height": 217,
          "referenced_widgets": [
            "6b35839d165e46dbab804ee36798f707",
            "3344e9bed05d458ead5dd4de58fe5d74",
            "6121babc61794c5d9e48bf779bffdb0c",
            "2c51c1c7a5c2489a92c6553b014306e8",
            "5d640e8ff701428285532b7a8cb06f20",
            "8db0580a73bc44a4bc3bdc174d8ce28b",
            "972ba1dd2eda44e2a403ae7cbd52099f",
            "d535c0ead2fb477288a8f8b1e8a21ddc",
            "b3f204c850dd44a9baef78f2235d8745",
            "bb7c5e65e29d4abc8ee3a8b447bebf68",
            "a2cff2a6ef4541d79c2848d4d2689045",
            "1587bb3ab58c42998a029bcceab77b96",
            "8c97082e86c14d9591699d71e4768cb4",
            "6cb51acca3464aac989f6597b1786a11",
            "433a0bead10747c78dda105dd3cfa9f8",
            "4ff3e5e1982c4ed2a7f213e5ca8c31f5",
            "199b57f6db6c4aeab6c4fcddd7ae9de4",
            "8d5b862eb0ed4a50960b4134ca58ebb0",
            "05f99cf48917469e8d781a4aae31d727",
            "ef730ce0860944e0878d7749e7dcd3e0",
            "c45f7f30adae42b0b8452ee5dc19c89c",
            "7b45a5fc0d6447e388401559aa1a0f5c",
            "83eec0c5436944989e1381466af55288",
            "67603bc985b64b78906c3ab7b6311989",
            "6663320bacd540448e0629baa0cfa077",
            "682a135b82b94bd3bed684318c1139bd",
            "a02cb49d82af447a963abb8e7e4c4e38",
            "7c672a9b4be14119b3f28139214906ca",
            "0d2c131eeed24bd4a7c86344112169cc",
            "bebf716a94d84bc1a1d9c4733a24b9b8",
            "53d5e2eddaf34d1c8e7e9b91a6b57064",
            "73b749eef7244ba9b4d50530d6f328f3",
            "6219772857bb4886a2ac03a04f9d376f",
            "11c3593794954148aada08c586360446",
            "2b523237f85f4fc48d4f9ca6136dd1e2",
            "34d5e6ef5087423282773f14bb821544",
            "0086415317fc42c0b725ed36036c0d81",
            "6a80b208ccc941b19916aaf454955542",
            "cfcf29045e944a21a201d623672d1d11",
            "0fc28bd625f34631a5337f5b5762f4d5",
            "1c3c51d493824d4d9bda05ee3def9dc5",
            "976b31c8284f4125be73a0256ee09340",
            "8c8b1ed964dc432282db0c1129830c2c",
            "a34ca4b58ca54bc7a91fc7e252fc1090"
          ]
        },
        "id": "H5sRLnWqlK3-",
        "outputId": "5bae827d-b670-42c8-dee3-9f3d6d4b44a8"
      },
      "execution_count": null,
      "outputs": [
        {
          "output_type": "display_data",
          "data": {
            "text/plain": [
              "Downloading:   0%|          | 0.00/878k [00:00<?, ?B/s]"
            ],
            "application/vnd.jupyter.widget-view+json": {
              "version_major": 2,
              "version_minor": 0,
              "model_id": "6b35839d165e46dbab804ee36798f707"
            }
          },
          "metadata": {}
        },
        {
          "output_type": "display_data",
          "data": {
            "text/plain": [
              "Downloading:   0%|          | 0.00/446k [00:00<?, ?B/s]"
            ],
            "application/vnd.jupyter.widget-view+json": {
              "version_major": 2,
              "version_minor": 0,
              "model_id": "1587bb3ab58c42998a029bcceab77b96"
            }
          },
          "metadata": {}
        },
        {
          "output_type": "display_data",
          "data": {
            "text/plain": [
              "Downloading:   0%|          | 0.00/482 [00:00<?, ?B/s]"
            ],
            "application/vnd.jupyter.widget-view+json": {
              "version_major": 2,
              "version_minor": 0,
              "model_id": "83eec0c5436944989e1381466af55288"
            }
          },
          "metadata": {}
        },
        {
          "output_type": "display_data",
          "data": {
            "text/plain": [
              "Downloading:   0%|          | 0.00/1.33G [00:00<?, ?B/s]"
            ],
            "application/vnd.jupyter.widget-view+json": {
              "version_major": 2,
              "version_minor": 0,
              "model_id": "11c3593794954148aada08c586360446"
            }
          },
          "metadata": {}
        },
        {
          "output_type": "stream",
          "name": "stderr",
          "text": [
            "Some weights of the model checkpoint at roberta-large were not used when initializing RobertaModel: ['lm_head.layer_norm.bias', 'lm_head.dense.bias', 'lm_head.bias', 'lm_head.decoder.weight', 'lm_head.layer_norm.weight', 'lm_head.dense.weight']\n",
            "- This IS expected if you are initializing RobertaModel from the checkpoint of a model trained on another task or with another architecture (e.g. initializing a BertForSequenceClassification model from a BertForPreTraining model).\n",
            "- This IS NOT expected if you are initializing RobertaModel from the checkpoint of a model that you expect to be exactly identical (initializing a BertForSequenceClassification model from a BertForSequenceClassification model).\n"
          ]
        }
      ]
    },
    {
      "cell_type": "code",
      "source": [
        "for idx, q in enumerate(uniq_qs.values()):\n",
        "    savepath = \"/content/drive/MyDrive/floodnet_convnext_features/Questions/\" + q + \".pt\"\n",
        "    torch.save(feats[idx], savepath)"
      ],
      "metadata": {
        "id": "zDr52TBFmJnc"
      },
      "execution_count": null,
      "outputs": []
    },
    {
      "cell_type": "code",
      "source": [
        "# print(uniq)"
      ],
      "metadata": {
        "colab": {
          "base_uri": "https://localhost:8080/"
        },
        "id": "2yj9bR01rKqR",
        "outputId": "e58aaad0-14ff-4928-de18-4cd51331385f"
      },
      "execution_count": null,
      "outputs": [
        {
          "output_type": "stream",
          "name": "stdout",
          "text": [
            "['What is the overall condition of the given image?', 'How many non flooded buildings can be seen in this image?', 'How many buildings can be seen in the image?', 'How many buildings can be seen in this image?', 'Is the entire road non flooded?', 'What is the condition of the road in this image?', 'How many buildings are non flooded?', 'Is the entire road flooded?', 'How many buildings are in this image?', 'What is the condition of road?', 'How many buildings are non flooded in this image?', 'How many buildings are in the image?', 'How many buildings are flooded in this image?', 'How many buildings are flooded?', 'How many flooded buildings can be seen in this image?']\n"
          ]
        }
      ]
    },
    {
      "cell_type": "code",
      "execution_count": null,
      "metadata": {
        "id": "LzH257oouQMz"
      },
      "outputs": [],
      "source": [
        "from IPython.display import clear_output, Image, display\n",
        "import PIL.Image\n",
        "import io\n",
        "import json\n",
        "import torch\n",
        "import numpy as np\n",
        "import pickle\n",
        "import os\n",
        "# import timm\n",
        "from torch.utils.data import Dataset, DataLoader\n",
        "import json\n",
        "import os\n",
        "from glob import glob\n",
        "from torchvision import transforms as T\n",
        "from torchvision import transforms\n",
        "from PIL import Image\n",
        "\n",
        "from torch import nn\n",
        "from tqdm import tqdm\n",
        "\n",
        "# from transformers import AutoTokenizer, AutoModel"
      ]
    },
    {
      "cell_type": "code",
      "source": [
        "import glob\n",
        "\n",
        "all_train_ims = glob.glob(\"/content/drive/MyDrive/floodnet_data/Images/Train_Image/*\")"
      ],
      "metadata": {
        "id": "Apg2N2YRuz6L"
      },
      "execution_count": null,
      "outputs": []
    },
    {
      "cell_type": "code",
      "source": [
        "class ImageDataset(Dataset):\n",
        "    def __init__(self, all_imagepaths):\n",
        "        self.imgpaths = all_imagepaths\n",
        "        self.tr = transforms.Compose([\n",
        "                    transforms.ToTensor(),\n",
        "                    transforms.Resize([224,224]),\n",
        "                    transforms.Normalize(mean=[0.485, 0.456, 0.406],\n",
        "                                                std=[0.229, 0.224, 0.225])\n",
        "                ])\n",
        "    \n",
        "    def __len__(self):\n",
        "        return len(self.imgpaths)\n",
        "    \n",
        "    def __getitem__(self, idx):\n",
        "        img = self.tr(Image.open(self.imgpaths[idx]))\n",
        "        return img, self.imgpaths[idx]\n",
        "\n",
        "ds = ImageDataset(all_train_ims)\n",
        "dl = DataLoader(ds, batch_size=16, num_workers=2)"
      ],
      "metadata": {
        "id": "NxT7i4jH2pNU"
      },
      "execution_count": null,
      "outputs": []
    },
    {
      "cell_type": "code",
      "source": [
        "class ImageTextDataset(Dataset):\n",
        "    def __init__(self, all_imagepaths):\n",
        "        self.imgpaths = all_imagepaths\n",
        "        self.tr = transforms.Compose([\n",
        "                    transforms.ToTensor(),\n",
        "                    transforms.Resize([224,224]),\n",
        "                    transforms.Normalize(mean=[0.485, 0.456, 0.406],\n",
        "                                                std=[0.229, 0.224, 0.225])\n",
        "                ])\n",
        "    \n",
        "    def __len__(self):\n",
        "        return len(self.imgpaths)\n",
        "    \n",
        "    def __getitem__(self, idx):\n",
        "        img = self.tr(Image.open(self.imgpaths[idx]))\n",
        "        return img, self.imgpaths[idx]\n",
        "\n",
        "ds = ImageDataset(all_train_ims)\n",
        "dl = DataLoader(ds, batch_size=16, num_workers=2)"
      ],
      "metadata": {
        "id": "7wPJKMoDRXnU"
      },
      "execution_count": null,
      "outputs": []
    },
    {
      "cell_type": "code",
      "source": [
        "for batch in dl:\n",
        "    print(batch)\n",
        "    break"
      ],
      "metadata": {
        "id": "x2_JotYt4D5C"
      },
      "execution_count": null,
      "outputs": []
    },
    {
      "cell_type": "code",
      "source": [
        "import torch, gc\n",
        "del resnet\n",
        "gc.collect()\n",
        "torch.cuda.empty_cache()"
      ],
      "metadata": {
        "id": "mJ79haReHy0l"
      },
      "execution_count": null,
      "outputs": []
    },
    {
      "cell_type": "code",
      "source": [
        "!pip install ftfy regex tqdm\n",
        "!pip install git+https://github.com/openai/CLIP.git"
      ],
      "metadata": {
        "colab": {
          "base_uri": "https://localhost:8080/"
        },
        "id": "_quuN_LoQz7d",
        "outputId": "4b3d950e-e6c5-479b-a006-a61f93a5f59e"
      },
      "execution_count": null,
      "outputs": [
        {
          "output_type": "stream",
          "name": "stdout",
          "text": [
            "Looking in indexes: https://pypi.org/simple, https://us-python.pkg.dev/colab-wheels/public/simple/\n",
            "Collecting ftfy\n",
            "  Downloading ftfy-6.1.1-py3-none-any.whl (53 kB)\n",
            "\u001b[K     |████████████████████████████████| 53 kB 1.5 MB/s \n",
            "\u001b[?25hRequirement already satisfied: regex in /usr/local/lib/python3.7/dist-packages (2019.12.20)\n",
            "Requirement already satisfied: tqdm in /usr/local/lib/python3.7/dist-packages (4.64.0)\n",
            "Requirement already satisfied: wcwidth>=0.2.5 in /usr/local/lib/python3.7/dist-packages (from ftfy) (0.2.5)\n",
            "Installing collected packages: ftfy\n",
            "Successfully installed ftfy-6.1.1\n",
            "Looking in indexes: https://pypi.org/simple, https://us-python.pkg.dev/colab-wheels/public/simple/\n",
            "Collecting git+https://github.com/openai/CLIP.git\n",
            "  Cloning https://github.com/openai/CLIP.git to /tmp/pip-req-build-5hshhxqq\n",
            "  Running command git clone -q https://github.com/openai/CLIP.git /tmp/pip-req-build-5hshhxqq\n",
            "Requirement already satisfied: ftfy in /usr/local/lib/python3.7/dist-packages (from clip==1.0) (6.1.1)\n",
            "Requirement already satisfied: regex in /usr/local/lib/python3.7/dist-packages (from clip==1.0) (2019.12.20)\n",
            "Requirement already satisfied: tqdm in /usr/local/lib/python3.7/dist-packages (from clip==1.0) (4.64.0)\n",
            "Requirement already satisfied: torch in /usr/local/lib/python3.7/dist-packages (from clip==1.0) (1.11.0+cu113)\n",
            "Requirement already satisfied: torchvision in /usr/local/lib/python3.7/dist-packages (from clip==1.0) (0.12.0+cu113)\n",
            "Requirement already satisfied: wcwidth>=0.2.5 in /usr/local/lib/python3.7/dist-packages (from ftfy->clip==1.0) (0.2.5)\n",
            "Requirement already satisfied: typing-extensions in /usr/local/lib/python3.7/dist-packages (from torch->clip==1.0) (4.2.0)\n",
            "Requirement already satisfied: numpy in /usr/local/lib/python3.7/dist-packages (from torchvision->clip==1.0) (1.21.6)\n",
            "Requirement already satisfied: pillow!=8.3.*,>=5.3.0 in /usr/local/lib/python3.7/dist-packages (from torchvision->clip==1.0) (7.1.2)\n",
            "Requirement already satisfied: requests in /usr/local/lib/python3.7/dist-packages (from torchvision->clip==1.0) (2.23.0)\n",
            "Requirement already satisfied: certifi>=2017.4.17 in /usr/local/lib/python3.7/dist-packages (from requests->torchvision->clip==1.0) (2022.5.18.1)\n",
            "Requirement already satisfied: chardet<4,>=3.0.2 in /usr/local/lib/python3.7/dist-packages (from requests->torchvision->clip==1.0) (3.0.4)\n",
            "Requirement already satisfied: urllib3!=1.25.0,!=1.25.1,<1.26,>=1.21.1 in /usr/local/lib/python3.7/dist-packages (from requests->torchvision->clip==1.0) (1.24.3)\n",
            "Requirement already satisfied: idna<3,>=2.5 in /usr/local/lib/python3.7/dist-packages (from requests->torchvision->clip==1.0) (2.10)\n",
            "Building wheels for collected packages: clip\n",
            "  Building wheel for clip (setup.py) ... \u001b[?25l\u001b[?25hdone\n",
            "  Created wheel for clip: filename=clip-1.0-py3-none-any.whl size=1369387 sha256=bc913d0caa3bce2ce107e63125db9e703b5a5fffa755566c9cec6653cd6e0841\n",
            "  Stored in directory: /tmp/pip-ephem-wheel-cache-lrbfu7ch/wheels/fd/b9/c3/5b4470e35ed76e174bff77c92f91da82098d5e35fd5bc8cdac\n",
            "Successfully built clip\n",
            "Installing collected packages: clip\n",
            "Successfully installed clip-1.0\n"
          ]
        }
      ]
    },
    {
      "cell_type": "code",
      "source": [
        "# resnet = timm.create_model('resnet50', pretrained=True, num_classes=0)\n",
        "# from torchvision import transforms, models\n",
        "\n",
        "# resnet = models.vit_l_32(pretrained=True)\n",
        "# list_of_layers = list(resnet.children())[:-1]\n",
        "# list_of_layers.append(torch.nn.AdaptiveMaxPool2d(1))\n",
        "# list_of_layers.append(torch.nn.Flatten())\n",
        "# # list_of_layers.append(torch.nn.LayerNorm((1536,), eps=1e-06, elementwise_affine=True))\n",
        "# resnet = torch.nn.Sequential(*list_of_layers)\n",
        "# # flatten = torch.nn.Flatten()\n",
        "# # norm = torch.nn.LayerNorm((768,), eps=1e-06, elementwise_affine=True)\n",
        "# resnet.eval()\n",
        "\n",
        "import torch\n",
        "import clip\n",
        "from PIL import Image\n",
        "\n",
        "# device = \"cuda\" if torch.cuda.is_available() else \"cpu\"\n",
        "device = torch.device(\"cuda\")\n",
        "model, preprocess = clip.load(\"ViT-L/14\", device=\"cuda\")\n",
        "\n",
        "# image = preprocess(Image.open(\"CLIP.png\")).unsqueeze(0).to(device)\n",
        "# text = clip.tokenize([\"a diagram\", \"a dog\", \"a cat\"]).to(device)\n",
        "\n",
        "\n",
        "\n",
        "resnet = resnet.to(device)\n",
        "\n",
        "def create_image_features(dl, savedir):\n",
        "    for batch in tqdm(dl):\n",
        "        img = batch[0]\n",
        "        paths = batch[1]\n",
        "        img = img.to(device)\n",
        "        features = resnet(img).detach().cpu()\n",
        "\n",
        "        for idx in range(len(paths)):\n",
        "            savepath = os.path.join(savedir, paths[idx].split(\"/\")[-1].split(\".\")[0] + \".pt\")\n",
        "            torch.save(features[idx], savepath)"
      ],
      "metadata": {
        "id": "jZTqKD-Ns9fi"
      },
      "execution_count": null,
      "outputs": []
    },
    {
      "cell_type": "code",
      "source": [],
      "metadata": {
        "id": "6JUcNkTCmVjg"
      },
      "execution_count": null,
      "outputs": []
    },
    {
      "cell_type": "code",
      "source": [
        "create_image_features(dl, \"/content/drive/MyDrive/floodnet_vit_features/Images/Train_Image\")"
      ],
      "metadata": {
        "colab": {
          "base_uri": "https://localhost:8080/",
          "height": 328
        },
        "id": "gfyjY_vZxAv4",
        "outputId": "65a75c46-2f93-47f0-e0a7-319288d90468"
      },
      "execution_count": null,
      "outputs": [
        {
          "output_type": "stream",
          "name": "stderr",
          "text": [
            "  0%|          | 0/91 [00:14<?, ?it/s]\n"
          ]
        },
        {
          "output_type": "error",
          "ename": "AssertionError",
          "evalue": "ignored",
          "traceback": [
            "\u001b[0;31m---------------------------------------------------------------------------\u001b[0m",
            "\u001b[0;31mAssertionError\u001b[0m                            Traceback (most recent call last)",
            "\u001b[0;32m<ipython-input-20-8efc38641c19>\u001b[0m in \u001b[0;36m<module>\u001b[0;34m()\u001b[0m\n\u001b[0;32m----> 1\u001b[0;31m \u001b[0mcreate_image_features\u001b[0m\u001b[0;34m(\u001b[0m\u001b[0mdl\u001b[0m\u001b[0;34m,\u001b[0m \u001b[0;34m\"/content/drive/MyDrive/floodnet_vit_features/Images/Train_Image\"\u001b[0m\u001b[0;34m)\u001b[0m\u001b[0;34m\u001b[0m\u001b[0;34m\u001b[0m\u001b[0m\n\u001b[0m",
            "\u001b[0;32m<ipython-input-19-39711a13c1ae>\u001b[0m in \u001b[0;36mcreate_image_features\u001b[0;34m(dl, savedir)\u001b[0m\n\u001b[1;32m     21\u001b[0m         \u001b[0mpaths\u001b[0m \u001b[0;34m=\u001b[0m \u001b[0mbatch\u001b[0m\u001b[0;34m[\u001b[0m\u001b[0;36m1\u001b[0m\u001b[0;34m]\u001b[0m\u001b[0;34m\u001b[0m\u001b[0;34m\u001b[0m\u001b[0m\n\u001b[1;32m     22\u001b[0m         \u001b[0mimg\u001b[0m \u001b[0;34m=\u001b[0m \u001b[0mimg\u001b[0m\u001b[0;34m.\u001b[0m\u001b[0mto\u001b[0m\u001b[0;34m(\u001b[0m\u001b[0mdevice\u001b[0m\u001b[0;34m)\u001b[0m\u001b[0;34m\u001b[0m\u001b[0;34m\u001b[0m\u001b[0m\n\u001b[0;32m---> 23\u001b[0;31m         \u001b[0mfeatures\u001b[0m \u001b[0;34m=\u001b[0m \u001b[0mresnet\u001b[0m\u001b[0;34m(\u001b[0m\u001b[0mimg\u001b[0m\u001b[0;34m)\u001b[0m\u001b[0;34m.\u001b[0m\u001b[0mdetach\u001b[0m\u001b[0;34m(\u001b[0m\u001b[0;34m)\u001b[0m\u001b[0;34m.\u001b[0m\u001b[0mcpu\u001b[0m\u001b[0;34m(\u001b[0m\u001b[0;34m)\u001b[0m\u001b[0;34m\u001b[0m\u001b[0;34m\u001b[0m\u001b[0m\n\u001b[0m\u001b[1;32m     24\u001b[0m \u001b[0;34m\u001b[0m\u001b[0m\n\u001b[1;32m     25\u001b[0m         \u001b[0;32mfor\u001b[0m \u001b[0midx\u001b[0m \u001b[0;32min\u001b[0m \u001b[0mrange\u001b[0m\u001b[0;34m(\u001b[0m\u001b[0mlen\u001b[0m\u001b[0;34m(\u001b[0m\u001b[0mpaths\u001b[0m\u001b[0;34m)\u001b[0m\u001b[0;34m)\u001b[0m\u001b[0;34m:\u001b[0m\u001b[0;34m\u001b[0m\u001b[0;34m\u001b[0m\u001b[0m\n",
            "\u001b[0;32m/usr/local/lib/python3.7/dist-packages/torch/nn/modules/module.py\u001b[0m in \u001b[0;36m_call_impl\u001b[0;34m(self, *input, **kwargs)\u001b[0m\n\u001b[1;32m   1108\u001b[0m         if not (self._backward_hooks or self._forward_hooks or self._forward_pre_hooks or _global_backward_hooks\n\u001b[1;32m   1109\u001b[0m                 or _global_forward_hooks or _global_forward_pre_hooks):\n\u001b[0;32m-> 1110\u001b[0;31m             \u001b[0;32mreturn\u001b[0m \u001b[0mforward_call\u001b[0m\u001b[0;34m(\u001b[0m\u001b[0;34m*\u001b[0m\u001b[0minput\u001b[0m\u001b[0;34m,\u001b[0m \u001b[0;34m**\u001b[0m\u001b[0mkwargs\u001b[0m\u001b[0;34m)\u001b[0m\u001b[0;34m\u001b[0m\u001b[0;34m\u001b[0m\u001b[0m\n\u001b[0m\u001b[1;32m   1111\u001b[0m         \u001b[0;31m# Do not call functions when jit is used\u001b[0m\u001b[0;34m\u001b[0m\u001b[0;34m\u001b[0m\u001b[0;34m\u001b[0m\u001b[0m\n\u001b[1;32m   1112\u001b[0m         \u001b[0mfull_backward_hooks\u001b[0m\u001b[0;34m,\u001b[0m \u001b[0mnon_full_backward_hooks\u001b[0m \u001b[0;34m=\u001b[0m \u001b[0;34m[\u001b[0m\u001b[0;34m]\u001b[0m\u001b[0;34m,\u001b[0m \u001b[0;34m[\u001b[0m\u001b[0;34m]\u001b[0m\u001b[0;34m\u001b[0m\u001b[0;34m\u001b[0m\u001b[0m\n",
            "\u001b[0;32m/usr/local/lib/python3.7/dist-packages/torch/nn/modules/container.py\u001b[0m in \u001b[0;36mforward\u001b[0;34m(self, input)\u001b[0m\n\u001b[1;32m    139\u001b[0m     \u001b[0;32mdef\u001b[0m \u001b[0mforward\u001b[0m\u001b[0;34m(\u001b[0m\u001b[0mself\u001b[0m\u001b[0;34m,\u001b[0m \u001b[0minput\u001b[0m\u001b[0;34m)\u001b[0m\u001b[0;34m:\u001b[0m\u001b[0;34m\u001b[0m\u001b[0;34m\u001b[0m\u001b[0m\n\u001b[1;32m    140\u001b[0m         \u001b[0;32mfor\u001b[0m \u001b[0mmodule\u001b[0m \u001b[0;32min\u001b[0m \u001b[0mself\u001b[0m\u001b[0;34m:\u001b[0m\u001b[0;34m\u001b[0m\u001b[0;34m\u001b[0m\u001b[0m\n\u001b[0;32m--> 141\u001b[0;31m             \u001b[0minput\u001b[0m \u001b[0;34m=\u001b[0m \u001b[0mmodule\u001b[0m\u001b[0;34m(\u001b[0m\u001b[0minput\u001b[0m\u001b[0;34m)\u001b[0m\u001b[0;34m\u001b[0m\u001b[0;34m\u001b[0m\u001b[0m\n\u001b[0m\u001b[1;32m    142\u001b[0m         \u001b[0;32mreturn\u001b[0m \u001b[0minput\u001b[0m\u001b[0;34m\u001b[0m\u001b[0;34m\u001b[0m\u001b[0m\n\u001b[1;32m    143\u001b[0m \u001b[0;34m\u001b[0m\u001b[0m\n",
            "\u001b[0;32m/usr/local/lib/python3.7/dist-packages/torch/nn/modules/module.py\u001b[0m in \u001b[0;36m_call_impl\u001b[0;34m(self, *input, **kwargs)\u001b[0m\n\u001b[1;32m   1108\u001b[0m         if not (self._backward_hooks or self._forward_hooks or self._forward_pre_hooks or _global_backward_hooks\n\u001b[1;32m   1109\u001b[0m                 or _global_forward_hooks or _global_forward_pre_hooks):\n\u001b[0;32m-> 1110\u001b[0;31m             \u001b[0;32mreturn\u001b[0m \u001b[0mforward_call\u001b[0m\u001b[0;34m(\u001b[0m\u001b[0;34m*\u001b[0m\u001b[0minput\u001b[0m\u001b[0;34m,\u001b[0m \u001b[0;34m**\u001b[0m\u001b[0mkwargs\u001b[0m\u001b[0;34m)\u001b[0m\u001b[0;34m\u001b[0m\u001b[0;34m\u001b[0m\u001b[0m\n\u001b[0m\u001b[1;32m   1111\u001b[0m         \u001b[0;31m# Do not call functions when jit is used\u001b[0m\u001b[0;34m\u001b[0m\u001b[0;34m\u001b[0m\u001b[0;34m\u001b[0m\u001b[0m\n\u001b[1;32m   1112\u001b[0m         \u001b[0mfull_backward_hooks\u001b[0m\u001b[0;34m,\u001b[0m \u001b[0mnon_full_backward_hooks\u001b[0m \u001b[0;34m=\u001b[0m \u001b[0;34m[\u001b[0m\u001b[0;34m]\u001b[0m\u001b[0;34m,\u001b[0m \u001b[0;34m[\u001b[0m\u001b[0;34m]\u001b[0m\u001b[0;34m\u001b[0m\u001b[0;34m\u001b[0m\u001b[0m\n",
            "\u001b[0;32m/usr/local/lib/python3.7/dist-packages/torchvision/models/vision_transformer.py\u001b[0m in \u001b[0;36mforward\u001b[0;34m(self, input)\u001b[0m\n\u001b[1;32m    121\u001b[0m \u001b[0;34m\u001b[0m\u001b[0m\n\u001b[1;32m    122\u001b[0m     \u001b[0;32mdef\u001b[0m \u001b[0mforward\u001b[0m\u001b[0;34m(\u001b[0m\u001b[0mself\u001b[0m\u001b[0;34m,\u001b[0m \u001b[0minput\u001b[0m\u001b[0;34m:\u001b[0m \u001b[0mtorch\u001b[0m\u001b[0;34m.\u001b[0m\u001b[0mTensor\u001b[0m\u001b[0;34m)\u001b[0m\u001b[0;34m:\u001b[0m\u001b[0;34m\u001b[0m\u001b[0;34m\u001b[0m\u001b[0m\n\u001b[0;32m--> 123\u001b[0;31m         \u001b[0mtorch\u001b[0m\u001b[0;34m.\u001b[0m\u001b[0m_assert\u001b[0m\u001b[0;34m(\u001b[0m\u001b[0minput\u001b[0m\u001b[0;34m.\u001b[0m\u001b[0mdim\u001b[0m\u001b[0;34m(\u001b[0m\u001b[0;34m)\u001b[0m \u001b[0;34m==\u001b[0m \u001b[0;36m3\u001b[0m\u001b[0;34m,\u001b[0m \u001b[0;34mf\"Expected (batch_size, seq_length, hidden_dim) got {input.shape}\"\u001b[0m\u001b[0;34m)\u001b[0m\u001b[0;34m\u001b[0m\u001b[0;34m\u001b[0m\u001b[0m\n\u001b[0m\u001b[1;32m    124\u001b[0m         \u001b[0minput\u001b[0m \u001b[0;34m=\u001b[0m \u001b[0minput\u001b[0m \u001b[0;34m+\u001b[0m \u001b[0mself\u001b[0m\u001b[0;34m.\u001b[0m\u001b[0mpos_embedding\u001b[0m\u001b[0;34m\u001b[0m\u001b[0;34m\u001b[0m\u001b[0m\n\u001b[1;32m    125\u001b[0m         \u001b[0;32mreturn\u001b[0m \u001b[0mself\u001b[0m\u001b[0;34m.\u001b[0m\u001b[0mln\u001b[0m\u001b[0;34m(\u001b[0m\u001b[0mself\u001b[0m\u001b[0;34m.\u001b[0m\u001b[0mlayers\u001b[0m\u001b[0;34m(\u001b[0m\u001b[0mself\u001b[0m\u001b[0;34m.\u001b[0m\u001b[0mdropout\u001b[0m\u001b[0;34m(\u001b[0m\u001b[0minput\u001b[0m\u001b[0;34m)\u001b[0m\u001b[0;34m)\u001b[0m\u001b[0;34m)\u001b[0m\u001b[0;34m\u001b[0m\u001b[0;34m\u001b[0m\u001b[0m\n",
            "\u001b[0;32m/usr/local/lib/python3.7/dist-packages/torch/__init__.py\u001b[0m in \u001b[0;36m_assert\u001b[0;34m(condition, message)\u001b[0m\n\u001b[1;32m    770\u001b[0m     \u001b[0;32mif\u001b[0m \u001b[0mtype\u001b[0m\u001b[0;34m(\u001b[0m\u001b[0mcondition\u001b[0m\u001b[0;34m)\u001b[0m \u001b[0;32mis\u001b[0m \u001b[0;32mnot\u001b[0m \u001b[0mtorch\u001b[0m\u001b[0;34m.\u001b[0m\u001b[0mTensor\u001b[0m \u001b[0;32mand\u001b[0m \u001b[0mhas_torch_function\u001b[0m\u001b[0;34m(\u001b[0m\u001b[0;34m(\u001b[0m\u001b[0mcondition\u001b[0m\u001b[0;34m,\u001b[0m\u001b[0;34m)\u001b[0m\u001b[0;34m)\u001b[0m\u001b[0;34m:\u001b[0m\u001b[0;34m\u001b[0m\u001b[0;34m\u001b[0m\u001b[0m\n\u001b[1;32m    771\u001b[0m         \u001b[0;32mreturn\u001b[0m \u001b[0mhandle_torch_function\u001b[0m\u001b[0;34m(\u001b[0m\u001b[0m_assert\u001b[0m\u001b[0;34m,\u001b[0m \u001b[0;34m(\u001b[0m\u001b[0mcondition\u001b[0m\u001b[0;34m,\u001b[0m\u001b[0;34m)\u001b[0m\u001b[0;34m,\u001b[0m \u001b[0mcondition\u001b[0m\u001b[0;34m,\u001b[0m \u001b[0mmessage\u001b[0m\u001b[0;34m)\u001b[0m\u001b[0;34m\u001b[0m\u001b[0;34m\u001b[0m\u001b[0m\n\u001b[0;32m--> 772\u001b[0;31m     \u001b[0;32massert\u001b[0m \u001b[0mcondition\u001b[0m\u001b[0;34m,\u001b[0m \u001b[0mmessage\u001b[0m\u001b[0;34m\u001b[0m\u001b[0;34m\u001b[0m\u001b[0m\n\u001b[0m\u001b[1;32m    773\u001b[0m \u001b[0;34m\u001b[0m\u001b[0m\n\u001b[1;32m    774\u001b[0m \u001b[0;31m################################################################################\u001b[0m\u001b[0;34m\u001b[0m\u001b[0;34m\u001b[0m\u001b[0;34m\u001b[0m\u001b[0m\n",
            "\u001b[0;31mAssertionError\u001b[0m: Expected (batch_size, seq_length, hidden_dim) got torch.Size([16, 1024, 7, 7])"
          ]
        }
      ]
    },
    {
      "cell_type": "code",
      "source": [
        "# !rm -rf /content/drive/MyDrive/floodnet_convnext_features/Images/Train_Image\n",
        "!mkdir /content/drive/MyDrive/floodnet_vit_features\n",
        "!mkdir /content/drive/MyDrive/floodnet_vit_features/Images\n",
        "!mkdir /content/drive/MyDrive/floodnet_vit_features/Images/Train_Image"
      ],
      "metadata": {
        "id": "msv8Wdo62bRO"
      },
      "execution_count": null,
      "outputs": []
    },
    {
      "cell_type": "code",
      "source": [
        "!ls /content/drive/MyDrive/floodnet_vit_features/Questions"
      ],
      "metadata": {
        "colab": {
          "base_uri": "https://localhost:8080/"
        },
        "id": "V7I-goPOLQ-d",
        "outputId": "ff866632-1443-4e6b-ddbe-ad2fa17729c1"
      },
      "execution_count": null,
      "outputs": [
        {
          "output_type": "stream",
          "name": "stdout",
          "text": [
            "'How many buildings are flooded in this image_.pt'\n",
            "'How many buildings are flooded_.pt'\n",
            "'How many buildings are in the image_.pt'\n",
            "'How many buildings are in this image_.pt'\n",
            "'How many buildings are non flooded in this image_.pt'\n",
            "'How many buildings are non flooded_.pt'\n",
            "'How many buildings can be seen in the image_.pt'\n",
            "'How many buildings can be seen in this image_.pt'\n",
            "'How many flooded buildings can be seen in this image_.pt'\n",
            "'How many non flooded buildings can be seen in this image_.pt'\n",
            "'Is the entire road flooded_.pt'\n",
            "'Is the entire road non flooded_.pt'\n",
            "'What is the condition of road_.pt'\n",
            "'What is the condition of the road in this image_.pt'\n",
            "'What is the overall condition of the given image_.pt'\n"
          ]
        }
      ]
    },
    {
      "cell_type": "code",
      "source": [
        "!du -ah /content/drive/MyDrive/floodnet_features/Images/Train_Image/10820.pt"
      ],
      "metadata": {
        "colab": {
          "base_uri": "https://localhost:8080/"
        },
        "id": "8mRD7goW9hEA",
        "outputId": "0f72808b-c8ea-4253-ca31-a7cc309480e8"
      },
      "execution_count": null,
      "outputs": [
        {
          "output_type": "stream",
          "name": "stdout",
          "text": [
            "129K\t/content/drive/MyDrive/floodnet_features/Images/Train_Image/10820.pt\n"
          ]
        }
      ]
    },
    {
      "cell_type": "code",
      "source": [
        "# feats = torch.load(\"/content/10165.pt\")\n",
        "# feats.shape"
      ],
      "metadata": {
        "colab": {
          "base_uri": "https://localhost:8080/"
        },
        "id": "OfYUT21LwOl3",
        "outputId": "8980366a-c9a4-4461-bf89-dc1bd1fb0f5a"
      },
      "execution_count": null,
      "outputs": [
        {
          "output_type": "execute_result",
          "data": {
            "text/plain": [
              "torch.Size([1, 2048])"
            ]
          },
          "metadata": {},
          "execution_count": 12
        }
      ]
    },
    {
      "cell_type": "code",
      "source": [
        "!rm -rf /content/drive/MyDrive/floodnet_features/Images/Train_Image/*.pt"
      ],
      "metadata": {
        "id": "gKNiZYQ643GW"
      },
      "execution_count": null,
      "outputs": []
    },
    {
      "cell_type": "code",
      "execution_count": null,
      "metadata": {
        "id": "CJlowz0yweU-"
      },
      "outputs": [],
      "source": [
        "# train_ds, val_ds = get_datasets(batch_size=16)\n",
        "\n",
        "# for i in train_ds:\n",
        "#     print(i)\n",
        "#     break"
      ]
    },
    {
      "cell_type": "code",
      "execution_count": null,
      "metadata": {
        "id": "qRSbrgdJ1Wpk"
      },
      "outputs": [],
      "source": [
        "# i[1][\"input_ids\"].shape"
      ]
    },
    {
      "cell_type": "code",
      "execution_count": null,
      "metadata": {
        "colab": {
          "background_save": true
        },
        "id": "bdcCG_s6IynA",
        "outputId": "736487ee-5ac9-4ee6-93fb-7c248782df94"
      },
      "outputs": [
        {
          "ename": "NameError",
          "evalue": "ignored",
          "output_type": "error",
          "traceback": [
            "\u001b[0;31m---------------------------------------------------------------------------\u001b[0m",
            "\u001b[0;31mNameError\u001b[0m                                 Traceback (most recent call last)",
            "\u001b[0;32m<ipython-input-1-c014a417e12b>\u001b[0m in \u001b[0;36m<module>\u001b[0;34m()\u001b[0m\n\u001b[1;32m      3\u001b[0m     \u001b[0;32mreturn\u001b[0m \u001b[0mfloat\u001b[0m\u001b[0;34m(\u001b[0m\u001b[0;36m100\u001b[0m \u001b[0;34m*\u001b[0m \u001b[0macc\u001b[0m \u001b[0;34m/\u001b[0m \u001b[0mlen\u001b[0m\u001b[0;34m(\u001b[0m\u001b[0mtrue\u001b[0m\u001b[0;34m)\u001b[0m\u001b[0;34m)\u001b[0m\u001b[0;34m\u001b[0m\u001b[0;34m\u001b[0m\u001b[0m\n\u001b[1;32m      4\u001b[0m \u001b[0;34m\u001b[0m\u001b[0m\n\u001b[0;32m----> 5\u001b[0;31m \u001b[0;32mclass\u001b[0m \u001b[0mVQAModel\u001b[0m\u001b[0;34m(\u001b[0m\u001b[0mnn\u001b[0m\u001b[0;34m.\u001b[0m\u001b[0mModule\u001b[0m\u001b[0;34m)\u001b[0m\u001b[0;34m:\u001b[0m\u001b[0;34m\u001b[0m\u001b[0;34m\u001b[0m\u001b[0m\n\u001b[0m\u001b[1;32m      6\u001b[0m     \u001b[0;32mdef\u001b[0m \u001b[0m__init__\u001b[0m\u001b[0;34m(\u001b[0m\u001b[0mself\u001b[0m\u001b[0;34m)\u001b[0m\u001b[0;34m:\u001b[0m\u001b[0;34m\u001b[0m\u001b[0;34m\u001b[0m\u001b[0m\n\u001b[1;32m      7\u001b[0m         \u001b[0msuper\u001b[0m\u001b[0;34m(\u001b[0m\u001b[0;34m)\u001b[0m\u001b[0;34m.\u001b[0m\u001b[0m__init__\u001b[0m\u001b[0;34m(\u001b[0m\u001b[0;34m)\u001b[0m\u001b[0;34m\u001b[0m\u001b[0;34m\u001b[0m\u001b[0m\n",
            "\u001b[0;31mNameError\u001b[0m: name 'nn' is not defined"
          ]
        }
      ],
      "source": [
        "# def accuracy(true, pred):\n",
        "#     acc = np.sum((true == pred.argmax(-1)).astype(np.float32))\n",
        "#     return float(100 * acc / len(true))\n",
        "\n",
        "# class VQAModel(nn.Module):\n",
        "#     def __init__(self):\n",
        "#         super().__init__()\n",
        "#         self.resnet = timm.create_model('resnet50', pretrained=True, num_classes=0, global_pool='avg')\n",
        "#         self.bert = BertModel.from_pretrained(\"bert-base-uncased\")\n",
        "        \n",
        "#         self.device = torch.device(\n",
        "#             \"cuda\") if torch.cuda.is_available() else torch.device(\"cpu\")\n",
        "\n",
        "#         self.lin = nn.Linear(2048+768, 56)\n",
        "#         self.softmax = nn.Softmax(dim=-1)\n",
        "#         self.push_all_to_device()\n",
        "#         self.optimizer = torch.optim.Adam(self.parameters())\n",
        "#         self.criterion = nn.CrossEntropyLoss()\n",
        "            \n",
        "#     def push_all_to_device(self):\n",
        "#         \"\"\"Loads all layers to GPU.\"\"\"\n",
        "#         self.bert = self.bert.to(self.device)\n",
        "#         self.resnet = self.resnet.to(self.device)\n",
        "\n",
        "#         self.lin = self.lin.to(self.device)\n",
        "#         self.softmax = self.softmax.to(self.device)\n",
        "\n",
        "#     def push_batch_to_device(self, batch):\n",
        "#         batch[1] = {key:elem.to(self.device) for key,elem in batch[1].items()}\n",
        "#         batch[0] = batch[0].to(self.device)\n",
        "#         batch[2] = batch[2].to(self.device)\n",
        "#         return batch\n",
        "    \n",
        "#     def forward(self, batch):\n",
        "#         question_emb = self.bert(**batch[1])[1]  # (batch_size, hidden_size)\n",
        "\n",
        "#         image_emb = self.resnet(batch[0])\n",
        "\n",
        "#         x = torch.concat([question_emb, image_emb], dim=-1)\n",
        "\n",
        "#         ans = self.lin(x)\n",
        "#         ans = self.softmax(ans)\n",
        "#         # print(ans)\n",
        "#         # print(batch[2])\n",
        "#         return ans\n",
        "    \n",
        "#     def train_epoch(self, train_ds, progress_bar):\n",
        "#         self.train()\n",
        "#         epoch_loss = []\n",
        "#         epoch_acc = []\n",
        "#         for batchnum, batch in enumerate(train_ds):\n",
        "#             batch = self.push_batch_to_device(batch)\n",
        "\n",
        "#             outputs = self(batch)\n",
        "#             #                   (y_true, y_pred, criteria)\n",
        "#             loss = self.criterion(outputs, batch[2])\n",
        "#             self.optimizer.zero_grad()\n",
        "#             loss.backward()\n",
        "\n",
        "#             self.optimizer.step()\n",
        "\n",
        "#             acc = accuracy(batch[2].detach().cpu().numpy(), outputs.detach().cpu().numpy())\n",
        "#             loss_ = loss.detach().cpu().numpy()\n",
        "\n",
        "#             # record metrics\n",
        "#             epoch_loss.append(loss_)\n",
        "#             epoch_acc.append(acc)\n",
        "\n",
        "#             # progress bar\n",
        "#             progress_bar.set_postfix(loss=loss_, accuracy=acc)\n",
        "#             progress_bar.update(1)\n",
        "#             progress_bar.set_postfix(loss=np.mean(epoch_loss),\n",
        "#                                      accuracy=np.mean(epoch_acc))\n",
        "\n",
        "#         return np.mean(epoch_loss), np.mean(epoch_acc)\n",
        "\n",
        "\n",
        "#     def inference_epoch(self, val_ds):\n",
        "#         \"\"\"Validation loop. val DS has exactly one batch.\"\"\"\n",
        "#         val_epoch_loss = []\n",
        "#         val_epoch_acc = []\n",
        "#         val_epoch_f1 = []\n",
        "#         self.eval()\n",
        "#         with torch.no_grad():\n",
        "#             for val_batch in val_ds:\n",
        "#                 val_batch = self.push_batch_to_device(val_batch)\n",
        "\n",
        "#                 val_outputs = self(val_batch)\n",
        "#                 # print(val_batch[1])\n",
        "#                 val_loss = self.criterion(val_outputs, val_batch[2])\n",
        "\n",
        "#                 val_acc = accuracy(val_batch[2].detach().cpu().numpy(), val_outputs.detach().cpu().numpy())\n",
        "                \n",
        "#                 # self.calculate_metrics(val_outputs, val_batch)\n",
        "#                 val_epoch_loss.append(val_loss.detach().cpu().numpy())\n",
        "#                 val_epoch_acc.append(val_acc)\n",
        "#         return np.mean(val_epoch_loss), np.mean(val_epoch_acc)\n",
        "\n",
        "#     def fit(self, epochs=20):\n",
        "#         optimizer = torch.optim.Adam(self.parameters())\n",
        "#         criteria = nn.CrossEntropyLoss()\n",
        "        \n",
        "#         train_ds, val_ds = get_datasets(batch_size=8)\n",
        "\n",
        "#         for epoch in range(epochs):\n",
        "#             progress_bar = tqdm(range(len(train_ds)))\n",
        "#             epoch_loss, epoch_acc = self.train_epoch(train_ds, progress_bar)\n",
        "#             progress_bar.close()\n",
        "\n",
        "#             val_loss, val_acc = self.inference_epoch(val_ds)\n",
        "\n",
        "#             # validation loop\n",
        "            \n",
        "            \n",
        "#             val_metrics = {\"acc\": val_acc, \"loss\": val_loss}\n",
        "#             print(val_metrics)            "
      ]
    },
    {
      "cell_type": "code",
      "execution_count": null,
      "metadata": {
        "colab": {
          "background_save": true,
          "base_uri": "https://localhost:8080/",
          "height": 417
        },
        "id": "wmfU7_H4KEpX",
        "outputId": "902f0465-1c3a-4421-a44a-0f729b65417f"
      },
      "outputs": [
        {
          "name": "stderr",
          "output_type": "stream",
          "text": [
            "Some weights of the model checkpoint at bert-base-uncased were not used when initializing BertModel: ['cls.predictions.transform.LayerNorm.weight', 'cls.predictions.transform.LayerNorm.bias', 'cls.predictions.transform.dense.weight', 'cls.predictions.transform.dense.bias', 'cls.seq_relationship.bias', 'cls.predictions.decoder.weight', 'cls.seq_relationship.weight', 'cls.predictions.bias']\n",
            "- This IS expected if you are initializing BertModel from the checkpoint of a model trained on another task or with another architecture (e.g. initializing a BertForSequenceClassification model from a BertForPreTraining model).\n",
            "- This IS NOT expected if you are initializing BertModel from the checkpoint of a model that you expect to be exactly identical (initializing a BertForSequenceClassification model from a BertForSequenceClassification model).\n",
            "100%|██████████| 508/508 [22:18<00:00,  2.64s/it, accuracy=42.2, loss=3.64]\n"
          ]
        },
        {
          "name": "stdout",
          "output_type": "stream",
          "text": [
            "{'acc': 50.80409356725146, 'loss': 3.5475338}\n"
          ]
        },
        {
          "name": "stderr",
          "output_type": "stream",
          "text": [
            "100%|██████████| 508/508 [22:15<00:00,  2.63s/it, accuracy=43.2, loss=3.62]\n"
          ]
        },
        {
          "name": "stdout",
          "output_type": "stream",
          "text": [
            "{'acc': 50.80409356725146, 'loss': 3.5475335}\n"
          ]
        },
        {
          "name": "stderr",
          "output_type": "stream",
          "text": [
            " 50%|█████     | 256/508 [11:12<10:56,  2.61s/it, accuracy=42.9, loss=3.63]   "
          ]
        }
      ],
      "source": [
        "# vqa = VQAModel()\n",
        "# vqa.fit()"
      ]
    },
    {
      "cell_type": "code",
      "execution_count": null,
      "metadata": {
        "id": "8pHPjbxrt6-W"
      },
      "outputs": [],
      "source": [
        "# def get_train_val_splits(jsondict):\n",
        "#     total = len(jsondict.keys())\n",
        "#     train = int(total * 0.9)\n",
        "#     train_dict = dict()\n",
        "#     val_dict = dict()\n",
        "#     for i in range(train):\n",
        "#         train_dict[str(i)] = jsondict[str(i)]\n",
        "    \n",
        "#     for j in range(total - (train+1)):\n",
        "#         val_dict[str(j)] = jsondict[str(j)]\n",
        "    \n",
        "#     return train_dict, val_dict\n",
        "\n",
        "# class FloodNetVQADataset(Dataset):\n",
        "#     def __init__(self, images_root_path, jsondict):\n",
        "#         super().__init__()\n",
        "\n",
        "#         self.json_dict = jsondict\n",
        "#         self.images_root_path = images_root_path\n",
        "\n",
        "#         self.device = torch.device(\n",
        "#             \"cuda\") if torch.cuda.is_available() else torch.device(\"cpu\")\n",
        "\n",
        "#         self.answer_mapping = json.load(open('/content/drive/MyDrive/floodnet_label_mapping.json', \"r\"))\n",
        "\n",
        "#         self.tokenizer = BertTokenizer.from_pretrained(\"bert-base-uncased\",\n",
        "#                                                        do_lower_case=True)\n",
        "\n",
        "#     def __len__(self):\n",
        "#         return len(self.json_dict.keys())\n",
        "\n",
        "#     def __getitem__(self, idx):\n",
        "#         # Image, Question, Answer\n",
        "#         example = self.json_dict[str(idx)]\n",
        "#         imagepath = os.path.join(self.images_root_path, example[\"Image_ID\"])\n",
        "#         # print(example[\"Question\"])\n",
        "#         question = self.tokenizer(text=example[\"Question\"],\n",
        "#                                 add_special_tokens=True,\n",
        "#                                 return_attention_mask=True,\n",
        "#                                 max_length=50,\n",
        "#                                 padding='max_length',\n",
        "#                                 truncation=True,\n",
        "#                                 return_tensors=\"pt\")\n",
        "#         answer = torch.tensor(self.answer_mapping.index(str(example[\"Ground_Truth\"])))\n",
        "\n",
        "#         # print(question[\"input_ids\"].shape)\n",
        "#         # print(question[\"token_type_ids\"].shape)\n",
        "#         # print(question[\"attention_mask\"].shape)\n",
        "\n",
        "#         question[\"input_ids\"] = torch.reshape(question[\"input_ids\"], (-1,))\n",
        "#         question[\"token_type_ids\"] = torch.reshape(question[\"token_type_ids\"], (-1,))\n",
        "#         question[\"attention_mask\"] = torch.reshape(question[\"attention_mask\"], (-1,))\n",
        "\n",
        "#         transforms = T.Compose([\n",
        "#             T.Resize((512,512)),\n",
        "#             T.ToTensor()\n",
        "#         ])\n",
        "\n",
        "#         img = transforms(Image.open(imagepath))\n",
        "        \n",
        "#         return [\n",
        "#             img,\n",
        "#             question,\n",
        "#             answer\n",
        "#         ]\n",
        "\n",
        "# def get_datasets(batch_size):\n",
        "#     train_dict, val_dict = get_train_val_splits(json.load(open(\"/content/floodnet_data/Questions/Training Question.json\", \"r\")))\n",
        "#     train_ds = FloodNetVQADataset(\"/content/floodnet_data/Images/Train_Image\", train_dict)\n",
        "#     val_ds = FloodNetVQADataset(\"/content/floodnet_data/Images/Train_Image\", val_dict)\n",
        "\n",
        "#     train_dl = DataLoader(train_ds, batch_size=batch_size, shuffle=True)\n",
        "#     val_dl = DataLoader(val_ds, batch_size=batch_size, shuffle=False)\n",
        "\n",
        "#     return train_dl, val_dl"
      ]
    },
    {
      "cell_type": "code",
      "execution_count": null,
      "metadata": {
        "id": "ut9fRHq307Zq"
      },
      "outputs": [],
      "source": [
        "N# def accuracy(true, pred):\n",
        "#     acc = np.sum((true == pred.argmax(-1)).astype(np.float32))\n",
        "#     return float(100 * acc / len(true))\n",
        "\n",
        "# class VQAModel(nn.Module):\n",
        "#     def __init__(self):\n",
        "#         super().__init__()\n",
        "#         self.resnet = timm.create_model('resnet50', pretrained=True, num_classes=0, global_pool='avg')\n",
        "#         self.bert = BertModel.from_pretrained(\"bert-base-uncased\")\n",
        "        \n",
        "#         self.device = torch.device(\n",
        "#             \"cuda\") if torch.cuda.is_available() else torch.device(\"cpu\")\n",
        "\n",
        "#         self.lin = nn.Linear(2048+768, 56)\n",
        "#         self.softmax = nn.Softmax(dim=-1)\n",
        "#         self.push_all_to_device()\n",
        "\n",
        "#     def forward(self, batch):\n",
        "#         \"\"\"Mandatory forward method\"\"\"\n",
        "\n",
        "#         question_emb = self.bert(**batch[1])[1]  # (batch_size, hidden_size)\n",
        "\n",
        "#         image_emb = self.resnet(batch[0])\n",
        "\n",
        "#         x = torch.concat([question_emb, image_emb], dim=-1)\n",
        "\n",
        "#         ans = self.lin(x)\n",
        "#         ans = self.softmax(ans)\n",
        "\n",
        "#         return ans\n",
        "\n",
        "#     ### Utilities\n",
        "#     def push_all_to_device(self):\n",
        "#         \"\"\"Loads all layers to GPU.\"\"\"\n",
        "#         self.bert = self.bert.to(self.device)\n",
        "#         self.resnet = self.resnet.to(self.device)\n",
        "\n",
        "#         self.lin = self.lin.to(self.device)\n",
        "#         self.softmax = self.softmax.to(self.device)\n",
        "    \n",
        "#     def loss_fn(self, outputs, batch, criterion):\n",
        "#         \"\"\"Loss function. Currently only calculated loss for emotions.\"\"\"\n",
        "#         loss = criterion(outputs, batch[2])\n",
        "#         return loss\n",
        "\n",
        "#     def calculate_metrics(self, outputs, batch):\n",
        "#         np_outputs = outputs.detach().cpu().numpy()\n",
        "#         np_batch = batch[2].detach().cpu().numpy()\n",
        "#         return accuracy(np_batch, np_outputs)\n",
        "\n",
        "#     def push_batch_to_device(self, batch):\n",
        "#         batch[1] = {key:elem.to(self.device) for key,elem in batch[1].items()}\n",
        "#         batch[0] = batch[0].to(self.device)\n",
        "#         batch[2] = batch[2].to(self.device)\n",
        "#         return batch\n",
        "\n",
        "#     def train_epoch(self, train_ds, optimizer, criteria, progress_bar):\n",
        "#         self.train()\n",
        "#         epoch_loss = []\n",
        "#         epoch_acc = []\n",
        "#         for batchnum, batch in enumerate(train_ds):\n",
        "#             batch = self.push_batch_to_device(batch)\n",
        "\n",
        "#             outputs = self(batch)\n",
        "#             #                   (y_true, y_pred, criteria)\n",
        "#             loss = self.loss_fn(batch, outputs, criteria)\n",
        "#             optimizer.zero_grad()\n",
        "#             loss.backward()\n",
        "\n",
        "#             optimizer.step()\n",
        "\n",
        "#             acc = self.calculate_metrics(outputs, batch)\n",
        "#             loss_ = loss.detach().cpu().numpy()\n",
        "\n",
        "#             # record metrics\n",
        "#             epoch_loss.append(loss_)\n",
        "#             epoch_acc.append(acc)\n",
        "\n",
        "#             # progress bar\n",
        "#             progress_bar.set_postfix(loss=loss_, accuracy=acc)\n",
        "#             progress_bar.update(1)\n",
        "#             progress_bar.set_postfix(loss=np.mean(epoch_loss),\n",
        "#                                      accuracy=np.mean(epoch_acc))\n",
        "\n",
        "#         return np.mean(epoch_loss), np.mean(epoch_acc)\n",
        "\n",
        "\n",
        "#     def inference_epoch(self, val_ds, criterion):\n",
        "#         \"\"\"Validation loop. val DS has exactly one batch.\"\"\"\n",
        "#         val_epoch_loss = []\n",
        "#         val_epoch_acc = []\n",
        "#         val_epoch_f1 = []\n",
        "#         self.eval()\n",
        "#         with torch.no_grad():\n",
        "#             for val_batch in val_ds:\n",
        "#                 val_batch = self.push_batch_to_device(val_batch)\n",
        "\n",
        "#                 val_outputs = self(val_batch)\n",
        "#                 val_loss = criterion(val_outputs, val_batch[1])\n",
        "\n",
        "#                 val_acc = self.loss_fn(val_batch, val_outputs, criterion)\n",
        "                \n",
        "#                 # self.calculate_metrics(val_outputs, val_batch)\n",
        "#                 val_epoch_loss.append(val_loss.detach().cpu().numpy())\n",
        "#                 val_epoch_acc.append(val_acc)\n",
        "#         return np.mean(val_epoch_loss), np.mean(val_epoch_acc)\n",
        "\n",
        "#     def fit(self, epochs=20):\n",
        "#         optimizer = torch.optim.Adam(self.parameters())\n",
        "#         criteria = nn.CrossEntropyLoss()\n",
        "        \n",
        "#         train_ds, val_ds = get_datasets()\n",
        "\n",
        "#         for epoch in range(epochs):\n",
        "#             progress_bar = tqdm(range(len(train_ds)))\n",
        "\n",
        "#             epoch_loss, epoch_acc = self.train_epoch(\n",
        "#                 train_ds, optimizer, criteria, progress_bar)\n",
        "\n",
        "#             # validation loop\n",
        "#             val_loss, val_acc = self.eval_epoch(\n",
        "#                 val_ds, criteria)\n",
        "\n",
        "#             val_metrics = {\"acc\": val_acc, \"loss\": val_loss}\n",
        "\n",
        "#             progress_bar.close()\n",
        "    \n",
        "#     def inference(self):\n",
        "#         pass\n",
        "\n",
        "#     def evaluate(self):\n",
        "#         pass"
      ]
    },
    {
      "cell_type": "code",
      "execution_count": null,
      "metadata": {
        "colab": {
          "base_uri": "https://localhost:8080/",
          "height": 487
        },
        "id": "BqfL1luVj85N",
        "outputId": "0bbf9367-05d6-4b81-a6d2-563f51e59c48"
      },
      "outputs": [
        {
          "name": "stderr",
          "output_type": "stream",
          "text": [
            "Some weights of the model checkpoint at bert-base-uncased were not used when initializing BertModel: ['cls.predictions.transform.LayerNorm.bias', 'cls.seq_relationship.weight', 'cls.predictions.decoder.weight', 'cls.predictions.transform.dense.bias', 'cls.predictions.transform.dense.weight', 'cls.predictions.bias', 'cls.seq_relationship.bias', 'cls.predictions.transform.LayerNorm.weight']\n",
            "- This IS expected if you are initializing BertModel from the checkpoint of a model trained on another task or with another architecture (e.g. initializing a BertForSequenceClassification model from a BertForPreTraining model).\n",
            "- This IS NOT expected if you are initializing BertModel from the checkpoint of a model that you expect to be exactly identical (initializing a BertForSequenceClassification model from a BertForSequenceClassification model).\n",
            "\n",
            "  0%|          | 0/564 [00:00<?, ?it/s]\u001b[A"
          ]
        },
        {
          "ename": "TypeError",
          "evalue": "ignored",
          "output_type": "error",
          "traceback": [
            "\u001b[0;31m---------------------------------------------------------------------------\u001b[0m",
            "\u001b[0;31mTypeError\u001b[0m                                 Traceback (most recent call last)",
            "\u001b[0;32m<ipython-input-8-b72e05122902>\u001b[0m in \u001b[0;36m<module>\u001b[0;34m()\u001b[0m\n\u001b[1;32m      1\u001b[0m \u001b[0mmodel\u001b[0m \u001b[0;34m=\u001b[0m \u001b[0mVQAModel\u001b[0m\u001b[0;34m(\u001b[0m\u001b[0;34m)\u001b[0m\u001b[0;34m\u001b[0m\u001b[0;34m\u001b[0m\u001b[0m\n\u001b[0;32m----> 2\u001b[0;31m \u001b[0mmodel\u001b[0m\u001b[0;34m.\u001b[0m\u001b[0mfit\u001b[0m\u001b[0;34m(\u001b[0m\u001b[0;34m)\u001b[0m\u001b[0;34m\u001b[0m\u001b[0;34m\u001b[0m\u001b[0m\n\u001b[0m",
            "\u001b[0;32m<ipython-input-7-f473238afa64>\u001b[0m in \u001b[0;36mfit\u001b[0;34m(self, epochs)\u001b[0m\n\u001b[1;32m    116\u001b[0m \u001b[0;34m\u001b[0m\u001b[0m\n\u001b[1;32m    117\u001b[0m             epoch_loss, epoch_acc = self.train_epoch(\n\u001b[0;32m--> 118\u001b[0;31m                 train_ds, optimizer, criteria, progress_bar)\n\u001b[0m\u001b[1;32m    119\u001b[0m \u001b[0;34m\u001b[0m\u001b[0m\n\u001b[1;32m    120\u001b[0m             \u001b[0;31m# validation loop\u001b[0m\u001b[0;34m\u001b[0m\u001b[0;34m\u001b[0m\u001b[0;34m\u001b[0m\u001b[0m\n",
            "\u001b[0;32m<ipython-input-7-f473238afa64>\u001b[0m in \u001b[0;36mtrain_epoch\u001b[0;34m(self, train_ds, optimizer, criteria, progress_bar)\u001b[0m\n\u001b[1;32m     64\u001b[0m             \u001b[0moutputs\u001b[0m \u001b[0;34m=\u001b[0m \u001b[0mself\u001b[0m\u001b[0;34m(\u001b[0m\u001b[0mbatch\u001b[0m\u001b[0;34m)\u001b[0m\u001b[0;34m\u001b[0m\u001b[0;34m\u001b[0m\u001b[0m\n\u001b[1;32m     65\u001b[0m             \u001b[0;31m#                   (y_true, y_pred, criteria)\u001b[0m\u001b[0;34m\u001b[0m\u001b[0;34m\u001b[0m\u001b[0;34m\u001b[0m\u001b[0m\n\u001b[0;32m---> 66\u001b[0;31m             \u001b[0mloss\u001b[0m \u001b[0;34m=\u001b[0m \u001b[0mself\u001b[0m\u001b[0;34m.\u001b[0m\u001b[0mloss_fn\u001b[0m\u001b[0;34m(\u001b[0m\u001b[0mbatch\u001b[0m\u001b[0;34m,\u001b[0m \u001b[0moutputs\u001b[0m\u001b[0;34m,\u001b[0m \u001b[0mcriteria\u001b[0m\u001b[0;34m)\u001b[0m\u001b[0;34m\u001b[0m\u001b[0;34m\u001b[0m\u001b[0m\n\u001b[0m\u001b[1;32m     67\u001b[0m             \u001b[0moptimizer\u001b[0m\u001b[0;34m.\u001b[0m\u001b[0mzero_grad\u001b[0m\u001b[0;34m(\u001b[0m\u001b[0;34m)\u001b[0m\u001b[0;34m\u001b[0m\u001b[0;34m\u001b[0m\u001b[0m\n\u001b[1;32m     68\u001b[0m             \u001b[0mloss\u001b[0m\u001b[0;34m.\u001b[0m\u001b[0mbackward\u001b[0m\u001b[0;34m(\u001b[0m\u001b[0;34m)\u001b[0m\u001b[0;34m\u001b[0m\u001b[0;34m\u001b[0m\u001b[0m\n",
            "\u001b[0;32m<ipython-input-7-f473238afa64>\u001b[0m in \u001b[0;36mloss_fn\u001b[0;34m(self, outputs, batch, criterion)\u001b[0m\n\u001b[1;32m     41\u001b[0m     \u001b[0;32mdef\u001b[0m \u001b[0mloss_fn\u001b[0m\u001b[0;34m(\u001b[0m\u001b[0mself\u001b[0m\u001b[0;34m,\u001b[0m \u001b[0moutputs\u001b[0m\u001b[0;34m,\u001b[0m \u001b[0mbatch\u001b[0m\u001b[0;34m,\u001b[0m \u001b[0mcriterion\u001b[0m\u001b[0;34m)\u001b[0m\u001b[0;34m:\u001b[0m\u001b[0;34m\u001b[0m\u001b[0;34m\u001b[0m\u001b[0m\n\u001b[1;32m     42\u001b[0m         \u001b[0;34m\"\"\"Loss function. Currently only calculated loss for emotions.\"\"\"\u001b[0m\u001b[0;34m\u001b[0m\u001b[0;34m\u001b[0m\u001b[0m\n\u001b[0;32m---> 43\u001b[0;31m         \u001b[0mloss\u001b[0m \u001b[0;34m=\u001b[0m \u001b[0mcriterion\u001b[0m\u001b[0;34m(\u001b[0m\u001b[0moutputs\u001b[0m\u001b[0;34m,\u001b[0m \u001b[0mbatch\u001b[0m\u001b[0;34m[\u001b[0m\u001b[0;36m2\u001b[0m\u001b[0;34m]\u001b[0m\u001b[0;34m)\u001b[0m\u001b[0;34m\u001b[0m\u001b[0;34m\u001b[0m\u001b[0m\n\u001b[0m\u001b[1;32m     44\u001b[0m         \u001b[0;32mreturn\u001b[0m \u001b[0mloss\u001b[0m\u001b[0;34m\u001b[0m\u001b[0;34m\u001b[0m\u001b[0m\n\u001b[1;32m     45\u001b[0m \u001b[0;34m\u001b[0m\u001b[0m\n",
            "\u001b[0;32m/usr/local/lib/python3.7/dist-packages/torch/nn/modules/module.py\u001b[0m in \u001b[0;36m_call_impl\u001b[0;34m(self, *input, **kwargs)\u001b[0m\n\u001b[1;32m   1100\u001b[0m         if not (self._backward_hooks or self._forward_hooks or self._forward_pre_hooks or _global_backward_hooks\n\u001b[1;32m   1101\u001b[0m                 or _global_forward_hooks or _global_forward_pre_hooks):\n\u001b[0;32m-> 1102\u001b[0;31m             \u001b[0;32mreturn\u001b[0m \u001b[0mforward_call\u001b[0m\u001b[0;34m(\u001b[0m\u001b[0;34m*\u001b[0m\u001b[0minput\u001b[0m\u001b[0;34m,\u001b[0m \u001b[0;34m**\u001b[0m\u001b[0mkwargs\u001b[0m\u001b[0;34m)\u001b[0m\u001b[0;34m\u001b[0m\u001b[0;34m\u001b[0m\u001b[0m\n\u001b[0m\u001b[1;32m   1103\u001b[0m         \u001b[0;31m# Do not call functions when jit is used\u001b[0m\u001b[0;34m\u001b[0m\u001b[0;34m\u001b[0m\u001b[0;34m\u001b[0m\u001b[0m\n\u001b[1;32m   1104\u001b[0m         \u001b[0mfull_backward_hooks\u001b[0m\u001b[0;34m,\u001b[0m \u001b[0mnon_full_backward_hooks\u001b[0m \u001b[0;34m=\u001b[0m \u001b[0;34m[\u001b[0m\u001b[0;34m]\u001b[0m\u001b[0;34m,\u001b[0m \u001b[0;34m[\u001b[0m\u001b[0;34m]\u001b[0m\u001b[0;34m\u001b[0m\u001b[0;34m\u001b[0m\u001b[0m\n",
            "\u001b[0;32m/usr/local/lib/python3.7/dist-packages/torch/nn/modules/loss.py\u001b[0m in \u001b[0;36mforward\u001b[0;34m(self, input, target)\u001b[0m\n\u001b[1;32m   1150\u001b[0m         return F.cross_entropy(input, target, weight=self.weight,\n\u001b[1;32m   1151\u001b[0m                                \u001b[0mignore_index\u001b[0m\u001b[0;34m=\u001b[0m\u001b[0mself\u001b[0m\u001b[0;34m.\u001b[0m\u001b[0mignore_index\u001b[0m\u001b[0;34m,\u001b[0m \u001b[0mreduction\u001b[0m\u001b[0;34m=\u001b[0m\u001b[0mself\u001b[0m\u001b[0;34m.\u001b[0m\u001b[0mreduction\u001b[0m\u001b[0;34m,\u001b[0m\u001b[0;34m\u001b[0m\u001b[0;34m\u001b[0m\u001b[0m\n\u001b[0;32m-> 1152\u001b[0;31m                                label_smoothing=self.label_smoothing)\n\u001b[0m\u001b[1;32m   1153\u001b[0m \u001b[0;34m\u001b[0m\u001b[0m\n\u001b[1;32m   1154\u001b[0m \u001b[0;34m\u001b[0m\u001b[0m\n",
            "\u001b[0;32m/usr/local/lib/python3.7/dist-packages/torch/nn/functional.py\u001b[0m in \u001b[0;36mcross_entropy\u001b[0;34m(input, target, weight, size_average, ignore_index, reduce, reduction, label_smoothing)\u001b[0m\n\u001b[1;32m   2844\u001b[0m     \u001b[0;32mif\u001b[0m \u001b[0msize_average\u001b[0m \u001b[0;32mis\u001b[0m \u001b[0;32mnot\u001b[0m \u001b[0;32mNone\u001b[0m \u001b[0;32mor\u001b[0m \u001b[0mreduce\u001b[0m \u001b[0;32mis\u001b[0m \u001b[0;32mnot\u001b[0m \u001b[0;32mNone\u001b[0m\u001b[0;34m:\u001b[0m\u001b[0;34m\u001b[0m\u001b[0;34m\u001b[0m\u001b[0m\n\u001b[1;32m   2845\u001b[0m         \u001b[0mreduction\u001b[0m \u001b[0;34m=\u001b[0m \u001b[0m_Reduction\u001b[0m\u001b[0;34m.\u001b[0m\u001b[0mlegacy_get_string\u001b[0m\u001b[0;34m(\u001b[0m\u001b[0msize_average\u001b[0m\u001b[0;34m,\u001b[0m \u001b[0mreduce\u001b[0m\u001b[0;34m)\u001b[0m\u001b[0;34m\u001b[0m\u001b[0;34m\u001b[0m\u001b[0m\n\u001b[0;32m-> 2846\u001b[0;31m     \u001b[0;32mreturn\u001b[0m \u001b[0mtorch\u001b[0m\u001b[0;34m.\u001b[0m\u001b[0m_C\u001b[0m\u001b[0;34m.\u001b[0m\u001b[0m_nn\u001b[0m\u001b[0;34m.\u001b[0m\u001b[0mcross_entropy_loss\u001b[0m\u001b[0;34m(\u001b[0m\u001b[0minput\u001b[0m\u001b[0;34m,\u001b[0m \u001b[0mtarget\u001b[0m\u001b[0;34m,\u001b[0m \u001b[0mweight\u001b[0m\u001b[0;34m,\u001b[0m \u001b[0m_Reduction\u001b[0m\u001b[0;34m.\u001b[0m\u001b[0mget_enum\u001b[0m\u001b[0;34m(\u001b[0m\u001b[0mreduction\u001b[0m\u001b[0;34m)\u001b[0m\u001b[0;34m,\u001b[0m \u001b[0mignore_index\u001b[0m\u001b[0;34m,\u001b[0m \u001b[0mlabel_smoothing\u001b[0m\u001b[0;34m)\u001b[0m\u001b[0;34m\u001b[0m\u001b[0;34m\u001b[0m\u001b[0m\n\u001b[0m\u001b[1;32m   2847\u001b[0m \u001b[0;34m\u001b[0m\u001b[0m\n\u001b[1;32m   2848\u001b[0m \u001b[0;34m\u001b[0m\u001b[0m\n",
            "\u001b[0;31mTypeError\u001b[0m: cross_entropy_loss(): argument 'input' (position 1) must be Tensor, not list"
          ]
        }
      ],
      "source": [
        "# model = VQAModel()\n",
        "# model.fit()"
      ]
    },
    {
      "cell_type": "code",
      "execution_count": null,
      "metadata": {
        "id": "HhxwBojLdwRi"
      },
      "outputs": [],
      "source": [
        "# Image(Flooded area) --> How many buildings are flooded --> answer\n",
        "# limited number of answers (objective)\n",
        "# \n",
        "# VQA --> classification problem\n",
        "# CNN (for image) and Transformer (for question) --> Class\n",
        "#\n",
        "# Challenges:\n",
        "# - Naive\n",
        "# - Concating feats, which is not optimal for knowledge sharing (perhaps attention should be used)\n",
        "# - Not scalable"
      ]
    },
    {
      "cell_type": "code",
      "execution_count": null,
      "metadata": {
        "id": "U0j_KLn7W7Dn"
      },
      "outputs": [],
      "source": []
    }
  ],
  "metadata": {
    "colab": {
      "collapsed_sections": [],
      "provenance": []
    },
    "kernelspec": {
      "display_name": "Python 3",
      "name": "python3"
    },
    "language_info": {
      "name": "python"
    },
    "widgets": {
      "application/vnd.jupyter.widget-state+json": {
        "6b35839d165e46dbab804ee36798f707": {
          "model_module": "@jupyter-widgets/controls",
          "model_name": "HBoxModel",
          "model_module_version": "1.5.0",
          "state": {
            "_dom_classes": [],
            "_model_module": "@jupyter-widgets/controls",
            "_model_module_version": "1.5.0",
            "_model_name": "HBoxModel",
            "_view_count": null,
            "_view_module": "@jupyter-widgets/controls",
            "_view_module_version": "1.5.0",
            "_view_name": "HBoxView",
            "box_style": "",
            "children": [
              "IPY_MODEL_3344e9bed05d458ead5dd4de58fe5d74",
              "IPY_MODEL_6121babc61794c5d9e48bf779bffdb0c",
              "IPY_MODEL_2c51c1c7a5c2489a92c6553b014306e8"
            ],
            "layout": "IPY_MODEL_5d640e8ff701428285532b7a8cb06f20"
          }
        },
        "3344e9bed05d458ead5dd4de58fe5d74": {
          "model_module": "@jupyter-widgets/controls",
          "model_name": "HTMLModel",
          "model_module_version": "1.5.0",
          "state": {
            "_dom_classes": [],
            "_model_module": "@jupyter-widgets/controls",
            "_model_module_version": "1.5.0",
            "_model_name": "HTMLModel",
            "_view_count": null,
            "_view_module": "@jupyter-widgets/controls",
            "_view_module_version": "1.5.0",
            "_view_name": "HTMLView",
            "description": "",
            "description_tooltip": null,
            "layout": "IPY_MODEL_8db0580a73bc44a4bc3bdc174d8ce28b",
            "placeholder": "​",
            "style": "IPY_MODEL_972ba1dd2eda44e2a403ae7cbd52099f",
            "value": "Downloading: 100%"
          }
        },
        "6121babc61794c5d9e48bf779bffdb0c": {
          "model_module": "@jupyter-widgets/controls",
          "model_name": "FloatProgressModel",
          "model_module_version": "1.5.0",
          "state": {
            "_dom_classes": [],
            "_model_module": "@jupyter-widgets/controls",
            "_model_module_version": "1.5.0",
            "_model_name": "FloatProgressModel",
            "_view_count": null,
            "_view_module": "@jupyter-widgets/controls",
            "_view_module_version": "1.5.0",
            "_view_name": "ProgressView",
            "bar_style": "success",
            "description": "",
            "description_tooltip": null,
            "layout": "IPY_MODEL_d535c0ead2fb477288a8f8b1e8a21ddc",
            "max": 898823,
            "min": 0,
            "orientation": "horizontal",
            "style": "IPY_MODEL_b3f204c850dd44a9baef78f2235d8745",
            "value": 898823
          }
        },
        "2c51c1c7a5c2489a92c6553b014306e8": {
          "model_module": "@jupyter-widgets/controls",
          "model_name": "HTMLModel",
          "model_module_version": "1.5.0",
          "state": {
            "_dom_classes": [],
            "_model_module": "@jupyter-widgets/controls",
            "_model_module_version": "1.5.0",
            "_model_name": "HTMLModel",
            "_view_count": null,
            "_view_module": "@jupyter-widgets/controls",
            "_view_module_version": "1.5.0",
            "_view_name": "HTMLView",
            "description": "",
            "description_tooltip": null,
            "layout": "IPY_MODEL_bb7c5e65e29d4abc8ee3a8b447bebf68",
            "placeholder": "​",
            "style": "IPY_MODEL_a2cff2a6ef4541d79c2848d4d2689045",
            "value": " 878k/878k [00:00&lt;00:00, 12.2MB/s]"
          }
        },
        "5d640e8ff701428285532b7a8cb06f20": {
          "model_module": "@jupyter-widgets/base",
          "model_name": "LayoutModel",
          "model_module_version": "1.2.0",
          "state": {
            "_model_module": "@jupyter-widgets/base",
            "_model_module_version": "1.2.0",
            "_model_name": "LayoutModel",
            "_view_count": null,
            "_view_module": "@jupyter-widgets/base",
            "_view_module_version": "1.2.0",
            "_view_name": "LayoutView",
            "align_content": null,
            "align_items": null,
            "align_self": null,
            "border": null,
            "bottom": null,
            "display": null,
            "flex": null,
            "flex_flow": null,
            "grid_area": null,
            "grid_auto_columns": null,
            "grid_auto_flow": null,
            "grid_auto_rows": null,
            "grid_column": null,
            "grid_gap": null,
            "grid_row": null,
            "grid_template_areas": null,
            "grid_template_columns": null,
            "grid_template_rows": null,
            "height": null,
            "justify_content": null,
            "justify_items": null,
            "left": null,
            "margin": null,
            "max_height": null,
            "max_width": null,
            "min_height": null,
            "min_width": null,
            "object_fit": null,
            "object_position": null,
            "order": null,
            "overflow": null,
            "overflow_x": null,
            "overflow_y": null,
            "padding": null,
            "right": null,
            "top": null,
            "visibility": null,
            "width": null
          }
        },
        "8db0580a73bc44a4bc3bdc174d8ce28b": {
          "model_module": "@jupyter-widgets/base",
          "model_name": "LayoutModel",
          "model_module_version": "1.2.0",
          "state": {
            "_model_module": "@jupyter-widgets/base",
            "_model_module_version": "1.2.0",
            "_model_name": "LayoutModel",
            "_view_count": null,
            "_view_module": "@jupyter-widgets/base",
            "_view_module_version": "1.2.0",
            "_view_name": "LayoutView",
            "align_content": null,
            "align_items": null,
            "align_self": null,
            "border": null,
            "bottom": null,
            "display": null,
            "flex": null,
            "flex_flow": null,
            "grid_area": null,
            "grid_auto_columns": null,
            "grid_auto_flow": null,
            "grid_auto_rows": null,
            "grid_column": null,
            "grid_gap": null,
            "grid_row": null,
            "grid_template_areas": null,
            "grid_template_columns": null,
            "grid_template_rows": null,
            "height": null,
            "justify_content": null,
            "justify_items": null,
            "left": null,
            "margin": null,
            "max_height": null,
            "max_width": null,
            "min_height": null,
            "min_width": null,
            "object_fit": null,
            "object_position": null,
            "order": null,
            "overflow": null,
            "overflow_x": null,
            "overflow_y": null,
            "padding": null,
            "right": null,
            "top": null,
            "visibility": null,
            "width": null
          }
        },
        "972ba1dd2eda44e2a403ae7cbd52099f": {
          "model_module": "@jupyter-widgets/controls",
          "model_name": "DescriptionStyleModel",
          "model_module_version": "1.5.0",
          "state": {
            "_model_module": "@jupyter-widgets/controls",
            "_model_module_version": "1.5.0",
            "_model_name": "DescriptionStyleModel",
            "_view_count": null,
            "_view_module": "@jupyter-widgets/base",
            "_view_module_version": "1.2.0",
            "_view_name": "StyleView",
            "description_width": ""
          }
        },
        "d535c0ead2fb477288a8f8b1e8a21ddc": {
          "model_module": "@jupyter-widgets/base",
          "model_name": "LayoutModel",
          "model_module_version": "1.2.0",
          "state": {
            "_model_module": "@jupyter-widgets/base",
            "_model_module_version": "1.2.0",
            "_model_name": "LayoutModel",
            "_view_count": null,
            "_view_module": "@jupyter-widgets/base",
            "_view_module_version": "1.2.0",
            "_view_name": "LayoutView",
            "align_content": null,
            "align_items": null,
            "align_self": null,
            "border": null,
            "bottom": null,
            "display": null,
            "flex": null,
            "flex_flow": null,
            "grid_area": null,
            "grid_auto_columns": null,
            "grid_auto_flow": null,
            "grid_auto_rows": null,
            "grid_column": null,
            "grid_gap": null,
            "grid_row": null,
            "grid_template_areas": null,
            "grid_template_columns": null,
            "grid_template_rows": null,
            "height": null,
            "justify_content": null,
            "justify_items": null,
            "left": null,
            "margin": null,
            "max_height": null,
            "max_width": null,
            "min_height": null,
            "min_width": null,
            "object_fit": null,
            "object_position": null,
            "order": null,
            "overflow": null,
            "overflow_x": null,
            "overflow_y": null,
            "padding": null,
            "right": null,
            "top": null,
            "visibility": null,
            "width": null
          }
        },
        "b3f204c850dd44a9baef78f2235d8745": {
          "model_module": "@jupyter-widgets/controls",
          "model_name": "ProgressStyleModel",
          "model_module_version": "1.5.0",
          "state": {
            "_model_module": "@jupyter-widgets/controls",
            "_model_module_version": "1.5.0",
            "_model_name": "ProgressStyleModel",
            "_view_count": null,
            "_view_module": "@jupyter-widgets/base",
            "_view_module_version": "1.2.0",
            "_view_name": "StyleView",
            "bar_color": null,
            "description_width": ""
          }
        },
        "bb7c5e65e29d4abc8ee3a8b447bebf68": {
          "model_module": "@jupyter-widgets/base",
          "model_name": "LayoutModel",
          "model_module_version": "1.2.0",
          "state": {
            "_model_module": "@jupyter-widgets/base",
            "_model_module_version": "1.2.0",
            "_model_name": "LayoutModel",
            "_view_count": null,
            "_view_module": "@jupyter-widgets/base",
            "_view_module_version": "1.2.0",
            "_view_name": "LayoutView",
            "align_content": null,
            "align_items": null,
            "align_self": null,
            "border": null,
            "bottom": null,
            "display": null,
            "flex": null,
            "flex_flow": null,
            "grid_area": null,
            "grid_auto_columns": null,
            "grid_auto_flow": null,
            "grid_auto_rows": null,
            "grid_column": null,
            "grid_gap": null,
            "grid_row": null,
            "grid_template_areas": null,
            "grid_template_columns": null,
            "grid_template_rows": null,
            "height": null,
            "justify_content": null,
            "justify_items": null,
            "left": null,
            "margin": null,
            "max_height": null,
            "max_width": null,
            "min_height": null,
            "min_width": null,
            "object_fit": null,
            "object_position": null,
            "order": null,
            "overflow": null,
            "overflow_x": null,
            "overflow_y": null,
            "padding": null,
            "right": null,
            "top": null,
            "visibility": null,
            "width": null
          }
        },
        "a2cff2a6ef4541d79c2848d4d2689045": {
          "model_module": "@jupyter-widgets/controls",
          "model_name": "DescriptionStyleModel",
          "model_module_version": "1.5.0",
          "state": {
            "_model_module": "@jupyter-widgets/controls",
            "_model_module_version": "1.5.0",
            "_model_name": "DescriptionStyleModel",
            "_view_count": null,
            "_view_module": "@jupyter-widgets/base",
            "_view_module_version": "1.2.0",
            "_view_name": "StyleView",
            "description_width": ""
          }
        },
        "1587bb3ab58c42998a029bcceab77b96": {
          "model_module": "@jupyter-widgets/controls",
          "model_name": "HBoxModel",
          "model_module_version": "1.5.0",
          "state": {
            "_dom_classes": [],
            "_model_module": "@jupyter-widgets/controls",
            "_model_module_version": "1.5.0",
            "_model_name": "HBoxModel",
            "_view_count": null,
            "_view_module": "@jupyter-widgets/controls",
            "_view_module_version": "1.5.0",
            "_view_name": "HBoxView",
            "box_style": "",
            "children": [
              "IPY_MODEL_8c97082e86c14d9591699d71e4768cb4",
              "IPY_MODEL_6cb51acca3464aac989f6597b1786a11",
              "IPY_MODEL_433a0bead10747c78dda105dd3cfa9f8"
            ],
            "layout": "IPY_MODEL_4ff3e5e1982c4ed2a7f213e5ca8c31f5"
          }
        },
        "8c97082e86c14d9591699d71e4768cb4": {
          "model_module": "@jupyter-widgets/controls",
          "model_name": "HTMLModel",
          "model_module_version": "1.5.0",
          "state": {
            "_dom_classes": [],
            "_model_module": "@jupyter-widgets/controls",
            "_model_module_version": "1.5.0",
            "_model_name": "HTMLModel",
            "_view_count": null,
            "_view_module": "@jupyter-widgets/controls",
            "_view_module_version": "1.5.0",
            "_view_name": "HTMLView",
            "description": "",
            "description_tooltip": null,
            "layout": "IPY_MODEL_199b57f6db6c4aeab6c4fcddd7ae9de4",
            "placeholder": "​",
            "style": "IPY_MODEL_8d5b862eb0ed4a50960b4134ca58ebb0",
            "value": "Downloading: 100%"
          }
        },
        "6cb51acca3464aac989f6597b1786a11": {
          "model_module": "@jupyter-widgets/controls",
          "model_name": "FloatProgressModel",
          "model_module_version": "1.5.0",
          "state": {
            "_dom_classes": [],
            "_model_module": "@jupyter-widgets/controls",
            "_model_module_version": "1.5.0",
            "_model_name": "FloatProgressModel",
            "_view_count": null,
            "_view_module": "@jupyter-widgets/controls",
            "_view_module_version": "1.5.0",
            "_view_name": "ProgressView",
            "bar_style": "success",
            "description": "",
            "description_tooltip": null,
            "layout": "IPY_MODEL_05f99cf48917469e8d781a4aae31d727",
            "max": 456318,
            "min": 0,
            "orientation": "horizontal",
            "style": "IPY_MODEL_ef730ce0860944e0878d7749e7dcd3e0",
            "value": 456318
          }
        },
        "433a0bead10747c78dda105dd3cfa9f8": {
          "model_module": "@jupyter-widgets/controls",
          "model_name": "HTMLModel",
          "model_module_version": "1.5.0",
          "state": {
            "_dom_classes": [],
            "_model_module": "@jupyter-widgets/controls",
            "_model_module_version": "1.5.0",
            "_model_name": "HTMLModel",
            "_view_count": null,
            "_view_module": "@jupyter-widgets/controls",
            "_view_module_version": "1.5.0",
            "_view_name": "HTMLView",
            "description": "",
            "description_tooltip": null,
            "layout": "IPY_MODEL_c45f7f30adae42b0b8452ee5dc19c89c",
            "placeholder": "​",
            "style": "IPY_MODEL_7b45a5fc0d6447e388401559aa1a0f5c",
            "value": " 446k/446k [00:00&lt;00:00, 8.01MB/s]"
          }
        },
        "4ff3e5e1982c4ed2a7f213e5ca8c31f5": {
          "model_module": "@jupyter-widgets/base",
          "model_name": "LayoutModel",
          "model_module_version": "1.2.0",
          "state": {
            "_model_module": "@jupyter-widgets/base",
            "_model_module_version": "1.2.0",
            "_model_name": "LayoutModel",
            "_view_count": null,
            "_view_module": "@jupyter-widgets/base",
            "_view_module_version": "1.2.0",
            "_view_name": "LayoutView",
            "align_content": null,
            "align_items": null,
            "align_self": null,
            "border": null,
            "bottom": null,
            "display": null,
            "flex": null,
            "flex_flow": null,
            "grid_area": null,
            "grid_auto_columns": null,
            "grid_auto_flow": null,
            "grid_auto_rows": null,
            "grid_column": null,
            "grid_gap": null,
            "grid_row": null,
            "grid_template_areas": null,
            "grid_template_columns": null,
            "grid_template_rows": null,
            "height": null,
            "justify_content": null,
            "justify_items": null,
            "left": null,
            "margin": null,
            "max_height": null,
            "max_width": null,
            "min_height": null,
            "min_width": null,
            "object_fit": null,
            "object_position": null,
            "order": null,
            "overflow": null,
            "overflow_x": null,
            "overflow_y": null,
            "padding": null,
            "right": null,
            "top": null,
            "visibility": null,
            "width": null
          }
        },
        "199b57f6db6c4aeab6c4fcddd7ae9de4": {
          "model_module": "@jupyter-widgets/base",
          "model_name": "LayoutModel",
          "model_module_version": "1.2.0",
          "state": {
            "_model_module": "@jupyter-widgets/base",
            "_model_module_version": "1.2.0",
            "_model_name": "LayoutModel",
            "_view_count": null,
            "_view_module": "@jupyter-widgets/base",
            "_view_module_version": "1.2.0",
            "_view_name": "LayoutView",
            "align_content": null,
            "align_items": null,
            "align_self": null,
            "border": null,
            "bottom": null,
            "display": null,
            "flex": null,
            "flex_flow": null,
            "grid_area": null,
            "grid_auto_columns": null,
            "grid_auto_flow": null,
            "grid_auto_rows": null,
            "grid_column": null,
            "grid_gap": null,
            "grid_row": null,
            "grid_template_areas": null,
            "grid_template_columns": null,
            "grid_template_rows": null,
            "height": null,
            "justify_content": null,
            "justify_items": null,
            "left": null,
            "margin": null,
            "max_height": null,
            "max_width": null,
            "min_height": null,
            "min_width": null,
            "object_fit": null,
            "object_position": null,
            "order": null,
            "overflow": null,
            "overflow_x": null,
            "overflow_y": null,
            "padding": null,
            "right": null,
            "top": null,
            "visibility": null,
            "width": null
          }
        },
        "8d5b862eb0ed4a50960b4134ca58ebb0": {
          "model_module": "@jupyter-widgets/controls",
          "model_name": "DescriptionStyleModel",
          "model_module_version": "1.5.0",
          "state": {
            "_model_module": "@jupyter-widgets/controls",
            "_model_module_version": "1.5.0",
            "_model_name": "DescriptionStyleModel",
            "_view_count": null,
            "_view_module": "@jupyter-widgets/base",
            "_view_module_version": "1.2.0",
            "_view_name": "StyleView",
            "description_width": ""
          }
        },
        "05f99cf48917469e8d781a4aae31d727": {
          "model_module": "@jupyter-widgets/base",
          "model_name": "LayoutModel",
          "model_module_version": "1.2.0",
          "state": {
            "_model_module": "@jupyter-widgets/base",
            "_model_module_version": "1.2.0",
            "_model_name": "LayoutModel",
            "_view_count": null,
            "_view_module": "@jupyter-widgets/base",
            "_view_module_version": "1.2.0",
            "_view_name": "LayoutView",
            "align_content": null,
            "align_items": null,
            "align_self": null,
            "border": null,
            "bottom": null,
            "display": null,
            "flex": null,
            "flex_flow": null,
            "grid_area": null,
            "grid_auto_columns": null,
            "grid_auto_flow": null,
            "grid_auto_rows": null,
            "grid_column": null,
            "grid_gap": null,
            "grid_row": null,
            "grid_template_areas": null,
            "grid_template_columns": null,
            "grid_template_rows": null,
            "height": null,
            "justify_content": null,
            "justify_items": null,
            "left": null,
            "margin": null,
            "max_height": null,
            "max_width": null,
            "min_height": null,
            "min_width": null,
            "object_fit": null,
            "object_position": null,
            "order": null,
            "overflow": null,
            "overflow_x": null,
            "overflow_y": null,
            "padding": null,
            "right": null,
            "top": null,
            "visibility": null,
            "width": null
          }
        },
        "ef730ce0860944e0878d7749e7dcd3e0": {
          "model_module": "@jupyter-widgets/controls",
          "model_name": "ProgressStyleModel",
          "model_module_version": "1.5.0",
          "state": {
            "_model_module": "@jupyter-widgets/controls",
            "_model_module_version": "1.5.0",
            "_model_name": "ProgressStyleModel",
            "_view_count": null,
            "_view_module": "@jupyter-widgets/base",
            "_view_module_version": "1.2.0",
            "_view_name": "StyleView",
            "bar_color": null,
            "description_width": ""
          }
        },
        "c45f7f30adae42b0b8452ee5dc19c89c": {
          "model_module": "@jupyter-widgets/base",
          "model_name": "LayoutModel",
          "model_module_version": "1.2.0",
          "state": {
            "_model_module": "@jupyter-widgets/base",
            "_model_module_version": "1.2.0",
            "_model_name": "LayoutModel",
            "_view_count": null,
            "_view_module": "@jupyter-widgets/base",
            "_view_module_version": "1.2.0",
            "_view_name": "LayoutView",
            "align_content": null,
            "align_items": null,
            "align_self": null,
            "border": null,
            "bottom": null,
            "display": null,
            "flex": null,
            "flex_flow": null,
            "grid_area": null,
            "grid_auto_columns": null,
            "grid_auto_flow": null,
            "grid_auto_rows": null,
            "grid_column": null,
            "grid_gap": null,
            "grid_row": null,
            "grid_template_areas": null,
            "grid_template_columns": null,
            "grid_template_rows": null,
            "height": null,
            "justify_content": null,
            "justify_items": null,
            "left": null,
            "margin": null,
            "max_height": null,
            "max_width": null,
            "min_height": null,
            "min_width": null,
            "object_fit": null,
            "object_position": null,
            "order": null,
            "overflow": null,
            "overflow_x": null,
            "overflow_y": null,
            "padding": null,
            "right": null,
            "top": null,
            "visibility": null,
            "width": null
          }
        },
        "7b45a5fc0d6447e388401559aa1a0f5c": {
          "model_module": "@jupyter-widgets/controls",
          "model_name": "DescriptionStyleModel",
          "model_module_version": "1.5.0",
          "state": {
            "_model_module": "@jupyter-widgets/controls",
            "_model_module_version": "1.5.0",
            "_model_name": "DescriptionStyleModel",
            "_view_count": null,
            "_view_module": "@jupyter-widgets/base",
            "_view_module_version": "1.2.0",
            "_view_name": "StyleView",
            "description_width": ""
          }
        },
        "83eec0c5436944989e1381466af55288": {
          "model_module": "@jupyter-widgets/controls",
          "model_name": "HBoxModel",
          "model_module_version": "1.5.0",
          "state": {
            "_dom_classes": [],
            "_model_module": "@jupyter-widgets/controls",
            "_model_module_version": "1.5.0",
            "_model_name": "HBoxModel",
            "_view_count": null,
            "_view_module": "@jupyter-widgets/controls",
            "_view_module_version": "1.5.0",
            "_view_name": "HBoxView",
            "box_style": "",
            "children": [
              "IPY_MODEL_67603bc985b64b78906c3ab7b6311989",
              "IPY_MODEL_6663320bacd540448e0629baa0cfa077",
              "IPY_MODEL_682a135b82b94bd3bed684318c1139bd"
            ],
            "layout": "IPY_MODEL_a02cb49d82af447a963abb8e7e4c4e38"
          }
        },
        "67603bc985b64b78906c3ab7b6311989": {
          "model_module": "@jupyter-widgets/controls",
          "model_name": "HTMLModel",
          "model_module_version": "1.5.0",
          "state": {
            "_dom_classes": [],
            "_model_module": "@jupyter-widgets/controls",
            "_model_module_version": "1.5.0",
            "_model_name": "HTMLModel",
            "_view_count": null,
            "_view_module": "@jupyter-widgets/controls",
            "_view_module_version": "1.5.0",
            "_view_name": "HTMLView",
            "description": "",
            "description_tooltip": null,
            "layout": "IPY_MODEL_7c672a9b4be14119b3f28139214906ca",
            "placeholder": "​",
            "style": "IPY_MODEL_0d2c131eeed24bd4a7c86344112169cc",
            "value": "Downloading: 100%"
          }
        },
        "6663320bacd540448e0629baa0cfa077": {
          "model_module": "@jupyter-widgets/controls",
          "model_name": "FloatProgressModel",
          "model_module_version": "1.5.0",
          "state": {
            "_dom_classes": [],
            "_model_module": "@jupyter-widgets/controls",
            "_model_module_version": "1.5.0",
            "_model_name": "FloatProgressModel",
            "_view_count": null,
            "_view_module": "@jupyter-widgets/controls",
            "_view_module_version": "1.5.0",
            "_view_name": "ProgressView",
            "bar_style": "success",
            "description": "",
            "description_tooltip": null,
            "layout": "IPY_MODEL_bebf716a94d84bc1a1d9c4733a24b9b8",
            "max": 482,
            "min": 0,
            "orientation": "horizontal",
            "style": "IPY_MODEL_53d5e2eddaf34d1c8e7e9b91a6b57064",
            "value": 482
          }
        },
        "682a135b82b94bd3bed684318c1139bd": {
          "model_module": "@jupyter-widgets/controls",
          "model_name": "HTMLModel",
          "model_module_version": "1.5.0",
          "state": {
            "_dom_classes": [],
            "_model_module": "@jupyter-widgets/controls",
            "_model_module_version": "1.5.0",
            "_model_name": "HTMLModel",
            "_view_count": null,
            "_view_module": "@jupyter-widgets/controls",
            "_view_module_version": "1.5.0",
            "_view_name": "HTMLView",
            "description": "",
            "description_tooltip": null,
            "layout": "IPY_MODEL_73b749eef7244ba9b4d50530d6f328f3",
            "placeholder": "​",
            "style": "IPY_MODEL_6219772857bb4886a2ac03a04f9d376f",
            "value": " 482/482 [00:00&lt;00:00, 13.7kB/s]"
          }
        },
        "a02cb49d82af447a963abb8e7e4c4e38": {
          "model_module": "@jupyter-widgets/base",
          "model_name": "LayoutModel",
          "model_module_version": "1.2.0",
          "state": {
            "_model_module": "@jupyter-widgets/base",
            "_model_module_version": "1.2.0",
            "_model_name": "LayoutModel",
            "_view_count": null,
            "_view_module": "@jupyter-widgets/base",
            "_view_module_version": "1.2.0",
            "_view_name": "LayoutView",
            "align_content": null,
            "align_items": null,
            "align_self": null,
            "border": null,
            "bottom": null,
            "display": null,
            "flex": null,
            "flex_flow": null,
            "grid_area": null,
            "grid_auto_columns": null,
            "grid_auto_flow": null,
            "grid_auto_rows": null,
            "grid_column": null,
            "grid_gap": null,
            "grid_row": null,
            "grid_template_areas": null,
            "grid_template_columns": null,
            "grid_template_rows": null,
            "height": null,
            "justify_content": null,
            "justify_items": null,
            "left": null,
            "margin": null,
            "max_height": null,
            "max_width": null,
            "min_height": null,
            "min_width": null,
            "object_fit": null,
            "object_position": null,
            "order": null,
            "overflow": null,
            "overflow_x": null,
            "overflow_y": null,
            "padding": null,
            "right": null,
            "top": null,
            "visibility": null,
            "width": null
          }
        },
        "7c672a9b4be14119b3f28139214906ca": {
          "model_module": "@jupyter-widgets/base",
          "model_name": "LayoutModel",
          "model_module_version": "1.2.0",
          "state": {
            "_model_module": "@jupyter-widgets/base",
            "_model_module_version": "1.2.0",
            "_model_name": "LayoutModel",
            "_view_count": null,
            "_view_module": "@jupyter-widgets/base",
            "_view_module_version": "1.2.0",
            "_view_name": "LayoutView",
            "align_content": null,
            "align_items": null,
            "align_self": null,
            "border": null,
            "bottom": null,
            "display": null,
            "flex": null,
            "flex_flow": null,
            "grid_area": null,
            "grid_auto_columns": null,
            "grid_auto_flow": null,
            "grid_auto_rows": null,
            "grid_column": null,
            "grid_gap": null,
            "grid_row": null,
            "grid_template_areas": null,
            "grid_template_columns": null,
            "grid_template_rows": null,
            "height": null,
            "justify_content": null,
            "justify_items": null,
            "left": null,
            "margin": null,
            "max_height": null,
            "max_width": null,
            "min_height": null,
            "min_width": null,
            "object_fit": null,
            "object_position": null,
            "order": null,
            "overflow": null,
            "overflow_x": null,
            "overflow_y": null,
            "padding": null,
            "right": null,
            "top": null,
            "visibility": null,
            "width": null
          }
        },
        "0d2c131eeed24bd4a7c86344112169cc": {
          "model_module": "@jupyter-widgets/controls",
          "model_name": "DescriptionStyleModel",
          "model_module_version": "1.5.0",
          "state": {
            "_model_module": "@jupyter-widgets/controls",
            "_model_module_version": "1.5.0",
            "_model_name": "DescriptionStyleModel",
            "_view_count": null,
            "_view_module": "@jupyter-widgets/base",
            "_view_module_version": "1.2.0",
            "_view_name": "StyleView",
            "description_width": ""
          }
        },
        "bebf716a94d84bc1a1d9c4733a24b9b8": {
          "model_module": "@jupyter-widgets/base",
          "model_name": "LayoutModel",
          "model_module_version": "1.2.0",
          "state": {
            "_model_module": "@jupyter-widgets/base",
            "_model_module_version": "1.2.0",
            "_model_name": "LayoutModel",
            "_view_count": null,
            "_view_module": "@jupyter-widgets/base",
            "_view_module_version": "1.2.0",
            "_view_name": "LayoutView",
            "align_content": null,
            "align_items": null,
            "align_self": null,
            "border": null,
            "bottom": null,
            "display": null,
            "flex": null,
            "flex_flow": null,
            "grid_area": null,
            "grid_auto_columns": null,
            "grid_auto_flow": null,
            "grid_auto_rows": null,
            "grid_column": null,
            "grid_gap": null,
            "grid_row": null,
            "grid_template_areas": null,
            "grid_template_columns": null,
            "grid_template_rows": null,
            "height": null,
            "justify_content": null,
            "justify_items": null,
            "left": null,
            "margin": null,
            "max_height": null,
            "max_width": null,
            "min_height": null,
            "min_width": null,
            "object_fit": null,
            "object_position": null,
            "order": null,
            "overflow": null,
            "overflow_x": null,
            "overflow_y": null,
            "padding": null,
            "right": null,
            "top": null,
            "visibility": null,
            "width": null
          }
        },
        "53d5e2eddaf34d1c8e7e9b91a6b57064": {
          "model_module": "@jupyter-widgets/controls",
          "model_name": "ProgressStyleModel",
          "model_module_version": "1.5.0",
          "state": {
            "_model_module": "@jupyter-widgets/controls",
            "_model_module_version": "1.5.0",
            "_model_name": "ProgressStyleModel",
            "_view_count": null,
            "_view_module": "@jupyter-widgets/base",
            "_view_module_version": "1.2.0",
            "_view_name": "StyleView",
            "bar_color": null,
            "description_width": ""
          }
        },
        "73b749eef7244ba9b4d50530d6f328f3": {
          "model_module": "@jupyter-widgets/base",
          "model_name": "LayoutModel",
          "model_module_version": "1.2.0",
          "state": {
            "_model_module": "@jupyter-widgets/base",
            "_model_module_version": "1.2.0",
            "_model_name": "LayoutModel",
            "_view_count": null,
            "_view_module": "@jupyter-widgets/base",
            "_view_module_version": "1.2.0",
            "_view_name": "LayoutView",
            "align_content": null,
            "align_items": null,
            "align_self": null,
            "border": null,
            "bottom": null,
            "display": null,
            "flex": null,
            "flex_flow": null,
            "grid_area": null,
            "grid_auto_columns": null,
            "grid_auto_flow": null,
            "grid_auto_rows": null,
            "grid_column": null,
            "grid_gap": null,
            "grid_row": null,
            "grid_template_areas": null,
            "grid_template_columns": null,
            "grid_template_rows": null,
            "height": null,
            "justify_content": null,
            "justify_items": null,
            "left": null,
            "margin": null,
            "max_height": null,
            "max_width": null,
            "min_height": null,
            "min_width": null,
            "object_fit": null,
            "object_position": null,
            "order": null,
            "overflow": null,
            "overflow_x": null,
            "overflow_y": null,
            "padding": null,
            "right": null,
            "top": null,
            "visibility": null,
            "width": null
          }
        },
        "6219772857bb4886a2ac03a04f9d376f": {
          "model_module": "@jupyter-widgets/controls",
          "model_name": "DescriptionStyleModel",
          "model_module_version": "1.5.0",
          "state": {
            "_model_module": "@jupyter-widgets/controls",
            "_model_module_version": "1.5.0",
            "_model_name": "DescriptionStyleModel",
            "_view_count": null,
            "_view_module": "@jupyter-widgets/base",
            "_view_module_version": "1.2.0",
            "_view_name": "StyleView",
            "description_width": ""
          }
        },
        "11c3593794954148aada08c586360446": {
          "model_module": "@jupyter-widgets/controls",
          "model_name": "HBoxModel",
          "model_module_version": "1.5.0",
          "state": {
            "_dom_classes": [],
            "_model_module": "@jupyter-widgets/controls",
            "_model_module_version": "1.5.0",
            "_model_name": "HBoxModel",
            "_view_count": null,
            "_view_module": "@jupyter-widgets/controls",
            "_view_module_version": "1.5.0",
            "_view_name": "HBoxView",
            "box_style": "",
            "children": [
              "IPY_MODEL_2b523237f85f4fc48d4f9ca6136dd1e2",
              "IPY_MODEL_34d5e6ef5087423282773f14bb821544",
              "IPY_MODEL_0086415317fc42c0b725ed36036c0d81"
            ],
            "layout": "IPY_MODEL_6a80b208ccc941b19916aaf454955542"
          }
        },
        "2b523237f85f4fc48d4f9ca6136dd1e2": {
          "model_module": "@jupyter-widgets/controls",
          "model_name": "HTMLModel",
          "model_module_version": "1.5.0",
          "state": {
            "_dom_classes": [],
            "_model_module": "@jupyter-widgets/controls",
            "_model_module_version": "1.5.0",
            "_model_name": "HTMLModel",
            "_view_count": null,
            "_view_module": "@jupyter-widgets/controls",
            "_view_module_version": "1.5.0",
            "_view_name": "HTMLView",
            "description": "",
            "description_tooltip": null,
            "layout": "IPY_MODEL_cfcf29045e944a21a201d623672d1d11",
            "placeholder": "​",
            "style": "IPY_MODEL_0fc28bd625f34631a5337f5b5762f4d5",
            "value": "Downloading: 100%"
          }
        },
        "34d5e6ef5087423282773f14bb821544": {
          "model_module": "@jupyter-widgets/controls",
          "model_name": "FloatProgressModel",
          "model_module_version": "1.5.0",
          "state": {
            "_dom_classes": [],
            "_model_module": "@jupyter-widgets/controls",
            "_model_module_version": "1.5.0",
            "_model_name": "FloatProgressModel",
            "_view_count": null,
            "_view_module": "@jupyter-widgets/controls",
            "_view_module_version": "1.5.0",
            "_view_name": "ProgressView",
            "bar_style": "success",
            "description": "",
            "description_tooltip": null,
            "layout": "IPY_MODEL_1c3c51d493824d4d9bda05ee3def9dc5",
            "max": 1425941629,
            "min": 0,
            "orientation": "horizontal",
            "style": "IPY_MODEL_976b31c8284f4125be73a0256ee09340",
            "value": 1425941629
          }
        },
        "0086415317fc42c0b725ed36036c0d81": {
          "model_module": "@jupyter-widgets/controls",
          "model_name": "HTMLModel",
          "model_module_version": "1.5.0",
          "state": {
            "_dom_classes": [],
            "_model_module": "@jupyter-widgets/controls",
            "_model_module_version": "1.5.0",
            "_model_name": "HTMLModel",
            "_view_count": null,
            "_view_module": "@jupyter-widgets/controls",
            "_view_module_version": "1.5.0",
            "_view_name": "HTMLView",
            "description": "",
            "description_tooltip": null,
            "layout": "IPY_MODEL_8c8b1ed964dc432282db0c1129830c2c",
            "placeholder": "​",
            "style": "IPY_MODEL_a34ca4b58ca54bc7a91fc7e252fc1090",
            "value": " 1.33G/1.33G [00:25&lt;00:00, 59.2MB/s]"
          }
        },
        "6a80b208ccc941b19916aaf454955542": {
          "model_module": "@jupyter-widgets/base",
          "model_name": "LayoutModel",
          "model_module_version": "1.2.0",
          "state": {
            "_model_module": "@jupyter-widgets/base",
            "_model_module_version": "1.2.0",
            "_model_name": "LayoutModel",
            "_view_count": null,
            "_view_module": "@jupyter-widgets/base",
            "_view_module_version": "1.2.0",
            "_view_name": "LayoutView",
            "align_content": null,
            "align_items": null,
            "align_self": null,
            "border": null,
            "bottom": null,
            "display": null,
            "flex": null,
            "flex_flow": null,
            "grid_area": null,
            "grid_auto_columns": null,
            "grid_auto_flow": null,
            "grid_auto_rows": null,
            "grid_column": null,
            "grid_gap": null,
            "grid_row": null,
            "grid_template_areas": null,
            "grid_template_columns": null,
            "grid_template_rows": null,
            "height": null,
            "justify_content": null,
            "justify_items": null,
            "left": null,
            "margin": null,
            "max_height": null,
            "max_width": null,
            "min_height": null,
            "min_width": null,
            "object_fit": null,
            "object_position": null,
            "order": null,
            "overflow": null,
            "overflow_x": null,
            "overflow_y": null,
            "padding": null,
            "right": null,
            "top": null,
            "visibility": null,
            "width": null
          }
        },
        "cfcf29045e944a21a201d623672d1d11": {
          "model_module": "@jupyter-widgets/base",
          "model_name": "LayoutModel",
          "model_module_version": "1.2.0",
          "state": {
            "_model_module": "@jupyter-widgets/base",
            "_model_module_version": "1.2.0",
            "_model_name": "LayoutModel",
            "_view_count": null,
            "_view_module": "@jupyter-widgets/base",
            "_view_module_version": "1.2.0",
            "_view_name": "LayoutView",
            "align_content": null,
            "align_items": null,
            "align_self": null,
            "border": null,
            "bottom": null,
            "display": null,
            "flex": null,
            "flex_flow": null,
            "grid_area": null,
            "grid_auto_columns": null,
            "grid_auto_flow": null,
            "grid_auto_rows": null,
            "grid_column": null,
            "grid_gap": null,
            "grid_row": null,
            "grid_template_areas": null,
            "grid_template_columns": null,
            "grid_template_rows": null,
            "height": null,
            "justify_content": null,
            "justify_items": null,
            "left": null,
            "margin": null,
            "max_height": null,
            "max_width": null,
            "min_height": null,
            "min_width": null,
            "object_fit": null,
            "object_position": null,
            "order": null,
            "overflow": null,
            "overflow_x": null,
            "overflow_y": null,
            "padding": null,
            "right": null,
            "top": null,
            "visibility": null,
            "width": null
          }
        },
        "0fc28bd625f34631a5337f5b5762f4d5": {
          "model_module": "@jupyter-widgets/controls",
          "model_name": "DescriptionStyleModel",
          "model_module_version": "1.5.0",
          "state": {
            "_model_module": "@jupyter-widgets/controls",
            "_model_module_version": "1.5.0",
            "_model_name": "DescriptionStyleModel",
            "_view_count": null,
            "_view_module": "@jupyter-widgets/base",
            "_view_module_version": "1.2.0",
            "_view_name": "StyleView",
            "description_width": ""
          }
        },
        "1c3c51d493824d4d9bda05ee3def9dc5": {
          "model_module": "@jupyter-widgets/base",
          "model_name": "LayoutModel",
          "model_module_version": "1.2.0",
          "state": {
            "_model_module": "@jupyter-widgets/base",
            "_model_module_version": "1.2.0",
            "_model_name": "LayoutModel",
            "_view_count": null,
            "_view_module": "@jupyter-widgets/base",
            "_view_module_version": "1.2.0",
            "_view_name": "LayoutView",
            "align_content": null,
            "align_items": null,
            "align_self": null,
            "border": null,
            "bottom": null,
            "display": null,
            "flex": null,
            "flex_flow": null,
            "grid_area": null,
            "grid_auto_columns": null,
            "grid_auto_flow": null,
            "grid_auto_rows": null,
            "grid_column": null,
            "grid_gap": null,
            "grid_row": null,
            "grid_template_areas": null,
            "grid_template_columns": null,
            "grid_template_rows": null,
            "height": null,
            "justify_content": null,
            "justify_items": null,
            "left": null,
            "margin": null,
            "max_height": null,
            "max_width": null,
            "min_height": null,
            "min_width": null,
            "object_fit": null,
            "object_position": null,
            "order": null,
            "overflow": null,
            "overflow_x": null,
            "overflow_y": null,
            "padding": null,
            "right": null,
            "top": null,
            "visibility": null,
            "width": null
          }
        },
        "976b31c8284f4125be73a0256ee09340": {
          "model_module": "@jupyter-widgets/controls",
          "model_name": "ProgressStyleModel",
          "model_module_version": "1.5.0",
          "state": {
            "_model_module": "@jupyter-widgets/controls",
            "_model_module_version": "1.5.0",
            "_model_name": "ProgressStyleModel",
            "_view_count": null,
            "_view_module": "@jupyter-widgets/base",
            "_view_module_version": "1.2.0",
            "_view_name": "StyleView",
            "bar_color": null,
            "description_width": ""
          }
        },
        "8c8b1ed964dc432282db0c1129830c2c": {
          "model_module": "@jupyter-widgets/base",
          "model_name": "LayoutModel",
          "model_module_version": "1.2.0",
          "state": {
            "_model_module": "@jupyter-widgets/base",
            "_model_module_version": "1.2.0",
            "_model_name": "LayoutModel",
            "_view_count": null,
            "_view_module": "@jupyter-widgets/base",
            "_view_module_version": "1.2.0",
            "_view_name": "LayoutView",
            "align_content": null,
            "align_items": null,
            "align_self": null,
            "border": null,
            "bottom": null,
            "display": null,
            "flex": null,
            "flex_flow": null,
            "grid_area": null,
            "grid_auto_columns": null,
            "grid_auto_flow": null,
            "grid_auto_rows": null,
            "grid_column": null,
            "grid_gap": null,
            "grid_row": null,
            "grid_template_areas": null,
            "grid_template_columns": null,
            "grid_template_rows": null,
            "height": null,
            "justify_content": null,
            "justify_items": null,
            "left": null,
            "margin": null,
            "max_height": null,
            "max_width": null,
            "min_height": null,
            "min_width": null,
            "object_fit": null,
            "object_position": null,
            "order": null,
            "overflow": null,
            "overflow_x": null,
            "overflow_y": null,
            "padding": null,
            "right": null,
            "top": null,
            "visibility": null,
            "width": null
          }
        },
        "a34ca4b58ca54bc7a91fc7e252fc1090": {
          "model_module": "@jupyter-widgets/controls",
          "model_name": "DescriptionStyleModel",
          "model_module_version": "1.5.0",
          "state": {
            "_model_module": "@jupyter-widgets/controls",
            "_model_module_version": "1.5.0",
            "_model_name": "DescriptionStyleModel",
            "_view_count": null,
            "_view_module": "@jupyter-widgets/base",
            "_view_module_version": "1.2.0",
            "_view_name": "StyleView",
            "description_width": ""
          }
        }
      }
    },
    "gpuClass": "standard"
  },
  "nbformat": 4,
  "nbformat_minor": 0
}