{
  "nbformat": 4,
  "nbformat_minor": 0,
  "metadata": {
    "colab": {
      "provenance": [],
      "collapsed_sections": [
        "JvTvZzeQJcUI"
      ]
    },
    "kernelspec": {
      "name": "python3",
      "display_name": "Python 3"
    },
    "language_info": {
      "name": "python"
    },
    "gpuClass": "standard",
    "accelerator": "GPU",
    "widgets": {
      "application/vnd.jupyter.widget-state+json": {
        "b63c44d593274badb2a9fdf036a9227c": {
          "model_module": "@jupyter-widgets/controls",
          "model_name": "VBoxModel",
          "model_module_version": "1.5.0",
          "state": {
            "_dom_classes": [],
            "_model_module": "@jupyter-widgets/controls",
            "_model_module_version": "1.5.0",
            "_model_name": "VBoxModel",
            "_view_count": null,
            "_view_module": "@jupyter-widgets/controls",
            "_view_module_version": "1.5.0",
            "_view_name": "VBoxView",
            "box_style": "",
            "children": [
              "IPY_MODEL_c8f0fd5a16c448ba9b3500a848ed3ee1",
              "IPY_MODEL_1c078c87de784cf5912db6241cef3366"
            ],
            "layout": "IPY_MODEL_65b6789b23ae4506a63468b2a36d4b91"
          }
        },
        "c8f0fd5a16c448ba9b3500a848ed3ee1": {
          "model_module": "@jupyter-widgets/controls",
          "model_name": "LabelModel",
          "model_module_version": "1.5.0",
          "state": {
            "_dom_classes": [],
            "_model_module": "@jupyter-widgets/controls",
            "_model_module_version": "1.5.0",
            "_model_name": "LabelModel",
            "_view_count": null,
            "_view_module": "@jupyter-widgets/controls",
            "_view_module_version": "1.5.0",
            "_view_name": "LabelView",
            "description": "",
            "description_tooltip": null,
            "layout": "IPY_MODEL_0ba9a98e8ff54dda822b38a9e1b7bb48",
            "placeholder": "​",
            "style": "IPY_MODEL_b6c9b46ac8f6497798de3d897e68b8bc",
            "value": "0.030 MB of 0.030 MB uploaded (0.000 MB deduped)\r"
          }
        },
        "1c078c87de784cf5912db6241cef3366": {
          "model_module": "@jupyter-widgets/controls",
          "model_name": "FloatProgressModel",
          "model_module_version": "1.5.0",
          "state": {
            "_dom_classes": [],
            "_model_module": "@jupyter-widgets/controls",
            "_model_module_version": "1.5.0",
            "_model_name": "FloatProgressModel",
            "_view_count": null,
            "_view_module": "@jupyter-widgets/controls",
            "_view_module_version": "1.5.0",
            "_view_name": "ProgressView",
            "bar_style": "",
            "description": "",
            "description_tooltip": null,
            "layout": "IPY_MODEL_188d0027a0f842efa5d92e87f277291e",
            "max": 1,
            "min": 0,
            "orientation": "horizontal",
            "style": "IPY_MODEL_96c9dc396d064cf3b4a8c5643c219519",
            "value": 1
          }
        },
        "65b6789b23ae4506a63468b2a36d4b91": {
          "model_module": "@jupyter-widgets/base",
          "model_name": "LayoutModel",
          "model_module_version": "1.2.0",
          "state": {
            "_model_module": "@jupyter-widgets/base",
            "_model_module_version": "1.2.0",
            "_model_name": "LayoutModel",
            "_view_count": null,
            "_view_module": "@jupyter-widgets/base",
            "_view_module_version": "1.2.0",
            "_view_name": "LayoutView",
            "align_content": null,
            "align_items": null,
            "align_self": null,
            "border": null,
            "bottom": null,
            "display": null,
            "flex": null,
            "flex_flow": null,
            "grid_area": null,
            "grid_auto_columns": null,
            "grid_auto_flow": null,
            "grid_auto_rows": null,
            "grid_column": null,
            "grid_gap": null,
            "grid_row": null,
            "grid_template_areas": null,
            "grid_template_columns": null,
            "grid_template_rows": null,
            "height": null,
            "justify_content": null,
            "justify_items": null,
            "left": null,
            "margin": null,
            "max_height": null,
            "max_width": null,
            "min_height": null,
            "min_width": null,
            "object_fit": null,
            "object_position": null,
            "order": null,
            "overflow": null,
            "overflow_x": null,
            "overflow_y": null,
            "padding": null,
            "right": null,
            "top": null,
            "visibility": null,
            "width": null
          }
        },
        "0ba9a98e8ff54dda822b38a9e1b7bb48": {
          "model_module": "@jupyter-widgets/base",
          "model_name": "LayoutModel",
          "model_module_version": "1.2.0",
          "state": {
            "_model_module": "@jupyter-widgets/base",
            "_model_module_version": "1.2.0",
            "_model_name": "LayoutModel",
            "_view_count": null,
            "_view_module": "@jupyter-widgets/base",
            "_view_module_version": "1.2.0",
            "_view_name": "LayoutView",
            "align_content": null,
            "align_items": null,
            "align_self": null,
            "border": null,
            "bottom": null,
            "display": null,
            "flex": null,
            "flex_flow": null,
            "grid_area": null,
            "grid_auto_columns": null,
            "grid_auto_flow": null,
            "grid_auto_rows": null,
            "grid_column": null,
            "grid_gap": null,
            "grid_row": null,
            "grid_template_areas": null,
            "grid_template_columns": null,
            "grid_template_rows": null,
            "height": null,
            "justify_content": null,
            "justify_items": null,
            "left": null,
            "margin": null,
            "max_height": null,
            "max_width": null,
            "min_height": null,
            "min_width": null,
            "object_fit": null,
            "object_position": null,
            "order": null,
            "overflow": null,
            "overflow_x": null,
            "overflow_y": null,
            "padding": null,
            "right": null,
            "top": null,
            "visibility": null,
            "width": null
          }
        },
        "b6c9b46ac8f6497798de3d897e68b8bc": {
          "model_module": "@jupyter-widgets/controls",
          "model_name": "DescriptionStyleModel",
          "model_module_version": "1.5.0",
          "state": {
            "_model_module": "@jupyter-widgets/controls",
            "_model_module_version": "1.5.0",
            "_model_name": "DescriptionStyleModel",
            "_view_count": null,
            "_view_module": "@jupyter-widgets/base",
            "_view_module_version": "1.2.0",
            "_view_name": "StyleView",
            "description_width": ""
          }
        },
        "188d0027a0f842efa5d92e87f277291e": {
          "model_module": "@jupyter-widgets/base",
          "model_name": "LayoutModel",
          "model_module_version": "1.2.0",
          "state": {
            "_model_module": "@jupyter-widgets/base",
            "_model_module_version": "1.2.0",
            "_model_name": "LayoutModel",
            "_view_count": null,
            "_view_module": "@jupyter-widgets/base",
            "_view_module_version": "1.2.0",
            "_view_name": "LayoutView",
            "align_content": null,
            "align_items": null,
            "align_self": null,
            "border": null,
            "bottom": null,
            "display": null,
            "flex": null,
            "flex_flow": null,
            "grid_area": null,
            "grid_auto_columns": null,
            "grid_auto_flow": null,
            "grid_auto_rows": null,
            "grid_column": null,
            "grid_gap": null,
            "grid_row": null,
            "grid_template_areas": null,
            "grid_template_columns": null,
            "grid_template_rows": null,
            "height": null,
            "justify_content": null,
            "justify_items": null,
            "left": null,
            "margin": null,
            "max_height": null,
            "max_width": null,
            "min_height": null,
            "min_width": null,
            "object_fit": null,
            "object_position": null,
            "order": null,
            "overflow": null,
            "overflow_x": null,
            "overflow_y": null,
            "padding": null,
            "right": null,
            "top": null,
            "visibility": null,
            "width": null
          }
        },
        "96c9dc396d064cf3b4a8c5643c219519": {
          "model_module": "@jupyter-widgets/controls",
          "model_name": "ProgressStyleModel",
          "model_module_version": "1.5.0",
          "state": {
            "_model_module": "@jupyter-widgets/controls",
            "_model_module_version": "1.5.0",
            "_model_name": "ProgressStyleModel",
            "_view_count": null,
            "_view_module": "@jupyter-widgets/base",
            "_view_module_version": "1.2.0",
            "_view_name": "StyleView",
            "bar_color": null,
            "description_width": ""
          }
        },
        "b63ca37ba34845048f42f2d18580dae2": {
          "model_module": "@jupyter-widgets/controls",
          "model_name": "VBoxModel",
          "model_module_version": "1.5.0",
          "state": {
            "_dom_classes": [],
            "_model_module": "@jupyter-widgets/controls",
            "_model_module_version": "1.5.0",
            "_model_name": "VBoxModel",
            "_view_count": null,
            "_view_module": "@jupyter-widgets/controls",
            "_view_module_version": "1.5.0",
            "_view_name": "VBoxView",
            "box_style": "",
            "children": [
              "IPY_MODEL_3dbb497d42524a55847b346cdebb66f5",
              "IPY_MODEL_61e1eae1a96a418787d19cc3690e3221"
            ],
            "layout": "IPY_MODEL_fbe9d941f3b14be1bf204413d823c276"
          }
        },
        "3dbb497d42524a55847b346cdebb66f5": {
          "model_module": "@jupyter-widgets/controls",
          "model_name": "LabelModel",
          "model_module_version": "1.5.0",
          "state": {
            "_dom_classes": [],
            "_model_module": "@jupyter-widgets/controls",
            "_model_module_version": "1.5.0",
            "_model_name": "LabelModel",
            "_view_count": null,
            "_view_module": "@jupyter-widgets/controls",
            "_view_module_version": "1.5.0",
            "_view_name": "LabelView",
            "description": "",
            "description_tooltip": null,
            "layout": "IPY_MODEL_6f497a80d9c945d7becef50791d922f0",
            "placeholder": "​",
            "style": "IPY_MODEL_bf0d16a472874f08be35c2bd5a76c512",
            "value": "0.030 MB of 0.030 MB uploaded (0.000 MB deduped)\r"
          }
        },
        "61e1eae1a96a418787d19cc3690e3221": {
          "model_module": "@jupyter-widgets/controls",
          "model_name": "FloatProgressModel",
          "model_module_version": "1.5.0",
          "state": {
            "_dom_classes": [],
            "_model_module": "@jupyter-widgets/controls",
            "_model_module_version": "1.5.0",
            "_model_name": "FloatProgressModel",
            "_view_count": null,
            "_view_module": "@jupyter-widgets/controls",
            "_view_module_version": "1.5.0",
            "_view_name": "ProgressView",
            "bar_style": "",
            "description": "",
            "description_tooltip": null,
            "layout": "IPY_MODEL_1c8addafce774201a444435440307291",
            "max": 1,
            "min": 0,
            "orientation": "horizontal",
            "style": "IPY_MODEL_70896054f4284b3bac0ac44f048e841e",
            "value": 1
          }
        },
        "fbe9d941f3b14be1bf204413d823c276": {
          "model_module": "@jupyter-widgets/base",
          "model_name": "LayoutModel",
          "model_module_version": "1.2.0",
          "state": {
            "_model_module": "@jupyter-widgets/base",
            "_model_module_version": "1.2.0",
            "_model_name": "LayoutModel",
            "_view_count": null,
            "_view_module": "@jupyter-widgets/base",
            "_view_module_version": "1.2.0",
            "_view_name": "LayoutView",
            "align_content": null,
            "align_items": null,
            "align_self": null,
            "border": null,
            "bottom": null,
            "display": null,
            "flex": null,
            "flex_flow": null,
            "grid_area": null,
            "grid_auto_columns": null,
            "grid_auto_flow": null,
            "grid_auto_rows": null,
            "grid_column": null,
            "grid_gap": null,
            "grid_row": null,
            "grid_template_areas": null,
            "grid_template_columns": null,
            "grid_template_rows": null,
            "height": null,
            "justify_content": null,
            "justify_items": null,
            "left": null,
            "margin": null,
            "max_height": null,
            "max_width": null,
            "min_height": null,
            "min_width": null,
            "object_fit": null,
            "object_position": null,
            "order": null,
            "overflow": null,
            "overflow_x": null,
            "overflow_y": null,
            "padding": null,
            "right": null,
            "top": null,
            "visibility": null,
            "width": null
          }
        },
        "6f497a80d9c945d7becef50791d922f0": {
          "model_module": "@jupyter-widgets/base",
          "model_name": "LayoutModel",
          "model_module_version": "1.2.0",
          "state": {
            "_model_module": "@jupyter-widgets/base",
            "_model_module_version": "1.2.0",
            "_model_name": "LayoutModel",
            "_view_count": null,
            "_view_module": "@jupyter-widgets/base",
            "_view_module_version": "1.2.0",
            "_view_name": "LayoutView",
            "align_content": null,
            "align_items": null,
            "align_self": null,
            "border": null,
            "bottom": null,
            "display": null,
            "flex": null,
            "flex_flow": null,
            "grid_area": null,
            "grid_auto_columns": null,
            "grid_auto_flow": null,
            "grid_auto_rows": null,
            "grid_column": null,
            "grid_gap": null,
            "grid_row": null,
            "grid_template_areas": null,
            "grid_template_columns": null,
            "grid_template_rows": null,
            "height": null,
            "justify_content": null,
            "justify_items": null,
            "left": null,
            "margin": null,
            "max_height": null,
            "max_width": null,
            "min_height": null,
            "min_width": null,
            "object_fit": null,
            "object_position": null,
            "order": null,
            "overflow": null,
            "overflow_x": null,
            "overflow_y": null,
            "padding": null,
            "right": null,
            "top": null,
            "visibility": null,
            "width": null
          }
        },
        "bf0d16a472874f08be35c2bd5a76c512": {
          "model_module": "@jupyter-widgets/controls",
          "model_name": "DescriptionStyleModel",
          "model_module_version": "1.5.0",
          "state": {
            "_model_module": "@jupyter-widgets/controls",
            "_model_module_version": "1.5.0",
            "_model_name": "DescriptionStyleModel",
            "_view_count": null,
            "_view_module": "@jupyter-widgets/base",
            "_view_module_version": "1.2.0",
            "_view_name": "StyleView",
            "description_width": ""
          }
        },
        "1c8addafce774201a444435440307291": {
          "model_module": "@jupyter-widgets/base",
          "model_name": "LayoutModel",
          "model_module_version": "1.2.0",
          "state": {
            "_model_module": "@jupyter-widgets/base",
            "_model_module_version": "1.2.0",
            "_model_name": "LayoutModel",
            "_view_count": null,
            "_view_module": "@jupyter-widgets/base",
            "_view_module_version": "1.2.0",
            "_view_name": "LayoutView",
            "align_content": null,
            "align_items": null,
            "align_self": null,
            "border": null,
            "bottom": null,
            "display": null,
            "flex": null,
            "flex_flow": null,
            "grid_area": null,
            "grid_auto_columns": null,
            "grid_auto_flow": null,
            "grid_auto_rows": null,
            "grid_column": null,
            "grid_gap": null,
            "grid_row": null,
            "grid_template_areas": null,
            "grid_template_columns": null,
            "grid_template_rows": null,
            "height": null,
            "justify_content": null,
            "justify_items": null,
            "left": null,
            "margin": null,
            "max_height": null,
            "max_width": null,
            "min_height": null,
            "min_width": null,
            "object_fit": null,
            "object_position": null,
            "order": null,
            "overflow": null,
            "overflow_x": null,
            "overflow_y": null,
            "padding": null,
            "right": null,
            "top": null,
            "visibility": null,
            "width": null
          }
        },
        "70896054f4284b3bac0ac44f048e841e": {
          "model_module": "@jupyter-widgets/controls",
          "model_name": "ProgressStyleModel",
          "model_module_version": "1.5.0",
          "state": {
            "_model_module": "@jupyter-widgets/controls",
            "_model_module_version": "1.5.0",
            "_model_name": "ProgressStyleModel",
            "_view_count": null,
            "_view_module": "@jupyter-widgets/base",
            "_view_module_version": "1.2.0",
            "_view_name": "StyleView",
            "bar_color": null,
            "description_width": ""
          }
        },
        "0ddcbe3145be4d3d8c5032e2f6131162": {
          "model_module": "@jupyter-widgets/controls",
          "model_name": "VBoxModel",
          "model_module_version": "1.5.0",
          "state": {
            "_dom_classes": [],
            "_model_module": "@jupyter-widgets/controls",
            "_model_module_version": "1.5.0",
            "_model_name": "VBoxModel",
            "_view_count": null,
            "_view_module": "@jupyter-widgets/controls",
            "_view_module_version": "1.5.0",
            "_view_name": "VBoxView",
            "box_style": "",
            "children": [
              "IPY_MODEL_1a6b6eae89084f5b9da7828052933ad4",
              "IPY_MODEL_10a9609f7e064ec39993dda54d4b31c6"
            ],
            "layout": "IPY_MODEL_e3bf38c83d7d4991b321705b91918741"
          }
        },
        "1a6b6eae89084f5b9da7828052933ad4": {
          "model_module": "@jupyter-widgets/controls",
          "model_name": "LabelModel",
          "model_module_version": "1.5.0",
          "state": {
            "_dom_classes": [],
            "_model_module": "@jupyter-widgets/controls",
            "_model_module_version": "1.5.0",
            "_model_name": "LabelModel",
            "_view_count": null,
            "_view_module": "@jupyter-widgets/controls",
            "_view_module_version": "1.5.0",
            "_view_name": "LabelView",
            "description": "",
            "description_tooltip": null,
            "layout": "IPY_MODEL_b2a4510a22e149a5b7783154927b1ba3",
            "placeholder": "​",
            "style": "IPY_MODEL_730fb3f301a14fbd802266f80ec9f423",
            "value": "0.037 MB of 0.037 MB uploaded (0.000 MB deduped)\r"
          }
        },
        "10a9609f7e064ec39993dda54d4b31c6": {
          "model_module": "@jupyter-widgets/controls",
          "model_name": "FloatProgressModel",
          "model_module_version": "1.5.0",
          "state": {
            "_dom_classes": [],
            "_model_module": "@jupyter-widgets/controls",
            "_model_module_version": "1.5.0",
            "_model_name": "FloatProgressModel",
            "_view_count": null,
            "_view_module": "@jupyter-widgets/controls",
            "_view_module_version": "1.5.0",
            "_view_name": "ProgressView",
            "bar_style": "",
            "description": "",
            "description_tooltip": null,
            "layout": "IPY_MODEL_e5960c8dd5c44e68a5c43e67a53a84e1",
            "max": 1,
            "min": 0,
            "orientation": "horizontal",
            "style": "IPY_MODEL_a1f73e210c4e4c97aab6d632181b034d",
            "value": 1
          }
        },
        "e3bf38c83d7d4991b321705b91918741": {
          "model_module": "@jupyter-widgets/base",
          "model_name": "LayoutModel",
          "model_module_version": "1.2.0",
          "state": {
            "_model_module": "@jupyter-widgets/base",
            "_model_module_version": "1.2.0",
            "_model_name": "LayoutModel",
            "_view_count": null,
            "_view_module": "@jupyter-widgets/base",
            "_view_module_version": "1.2.0",
            "_view_name": "LayoutView",
            "align_content": null,
            "align_items": null,
            "align_self": null,
            "border": null,
            "bottom": null,
            "display": null,
            "flex": null,
            "flex_flow": null,
            "grid_area": null,
            "grid_auto_columns": null,
            "grid_auto_flow": null,
            "grid_auto_rows": null,
            "grid_column": null,
            "grid_gap": null,
            "grid_row": null,
            "grid_template_areas": null,
            "grid_template_columns": null,
            "grid_template_rows": null,
            "height": null,
            "justify_content": null,
            "justify_items": null,
            "left": null,
            "margin": null,
            "max_height": null,
            "max_width": null,
            "min_height": null,
            "min_width": null,
            "object_fit": null,
            "object_position": null,
            "order": null,
            "overflow": null,
            "overflow_x": null,
            "overflow_y": null,
            "padding": null,
            "right": null,
            "top": null,
            "visibility": null,
            "width": null
          }
        },
        "b2a4510a22e149a5b7783154927b1ba3": {
          "model_module": "@jupyter-widgets/base",
          "model_name": "LayoutModel",
          "model_module_version": "1.2.0",
          "state": {
            "_model_module": "@jupyter-widgets/base",
            "_model_module_version": "1.2.0",
            "_model_name": "LayoutModel",
            "_view_count": null,
            "_view_module": "@jupyter-widgets/base",
            "_view_module_version": "1.2.0",
            "_view_name": "LayoutView",
            "align_content": null,
            "align_items": null,
            "align_self": null,
            "border": null,
            "bottom": null,
            "display": null,
            "flex": null,
            "flex_flow": null,
            "grid_area": null,
            "grid_auto_columns": null,
            "grid_auto_flow": null,
            "grid_auto_rows": null,
            "grid_column": null,
            "grid_gap": null,
            "grid_row": null,
            "grid_template_areas": null,
            "grid_template_columns": null,
            "grid_template_rows": null,
            "height": null,
            "justify_content": null,
            "justify_items": null,
            "left": null,
            "margin": null,
            "max_height": null,
            "max_width": null,
            "min_height": null,
            "min_width": null,
            "object_fit": null,
            "object_position": null,
            "order": null,
            "overflow": null,
            "overflow_x": null,
            "overflow_y": null,
            "padding": null,
            "right": null,
            "top": null,
            "visibility": null,
            "width": null
          }
        },
        "730fb3f301a14fbd802266f80ec9f423": {
          "model_module": "@jupyter-widgets/controls",
          "model_name": "DescriptionStyleModel",
          "model_module_version": "1.5.0",
          "state": {
            "_model_module": "@jupyter-widgets/controls",
            "_model_module_version": "1.5.0",
            "_model_name": "DescriptionStyleModel",
            "_view_count": null,
            "_view_module": "@jupyter-widgets/base",
            "_view_module_version": "1.2.0",
            "_view_name": "StyleView",
            "description_width": ""
          }
        },
        "e5960c8dd5c44e68a5c43e67a53a84e1": {
          "model_module": "@jupyter-widgets/base",
          "model_name": "LayoutModel",
          "model_module_version": "1.2.0",
          "state": {
            "_model_module": "@jupyter-widgets/base",
            "_model_module_version": "1.2.0",
            "_model_name": "LayoutModel",
            "_view_count": null,
            "_view_module": "@jupyter-widgets/base",
            "_view_module_version": "1.2.0",
            "_view_name": "LayoutView",
            "align_content": null,
            "align_items": null,
            "align_self": null,
            "border": null,
            "bottom": null,
            "display": null,
            "flex": null,
            "flex_flow": null,
            "grid_area": null,
            "grid_auto_columns": null,
            "grid_auto_flow": null,
            "grid_auto_rows": null,
            "grid_column": null,
            "grid_gap": null,
            "grid_row": null,
            "grid_template_areas": null,
            "grid_template_columns": null,
            "grid_template_rows": null,
            "height": null,
            "justify_content": null,
            "justify_items": null,
            "left": null,
            "margin": null,
            "max_height": null,
            "max_width": null,
            "min_height": null,
            "min_width": null,
            "object_fit": null,
            "object_position": null,
            "order": null,
            "overflow": null,
            "overflow_x": null,
            "overflow_y": null,
            "padding": null,
            "right": null,
            "top": null,
            "visibility": null,
            "width": null
          }
        },
        "a1f73e210c4e4c97aab6d632181b034d": {
          "model_module": "@jupyter-widgets/controls",
          "model_name": "ProgressStyleModel",
          "model_module_version": "1.5.0",
          "state": {
            "_model_module": "@jupyter-widgets/controls",
            "_model_module_version": "1.5.0",
            "_model_name": "ProgressStyleModel",
            "_view_count": null,
            "_view_module": "@jupyter-widgets/base",
            "_view_module_version": "1.2.0",
            "_view_name": "StyleView",
            "bar_color": null,
            "description_width": ""
          }
        },
        "8d6154642754491b85bec66b9d65f47d": {
          "model_module": "@jupyter-widgets/controls",
          "model_name": "VBoxModel",
          "model_module_version": "1.5.0",
          "state": {
            "_dom_classes": [],
            "_model_module": "@jupyter-widgets/controls",
            "_model_module_version": "1.5.0",
            "_model_name": "VBoxModel",
            "_view_count": null,
            "_view_module": "@jupyter-widgets/controls",
            "_view_module_version": "1.5.0",
            "_view_name": "VBoxView",
            "box_style": "",
            "children": [
              "IPY_MODEL_9309d0e2a3a64a3bad2158192cb69a20",
              "IPY_MODEL_0dcf8be57e344473aa7f60f127550fc7"
            ],
            "layout": "IPY_MODEL_6719379e7f214cf8830051b367b8bf08"
          }
        },
        "9309d0e2a3a64a3bad2158192cb69a20": {
          "model_module": "@jupyter-widgets/controls",
          "model_name": "LabelModel",
          "model_module_version": "1.5.0",
          "state": {
            "_dom_classes": [],
            "_model_module": "@jupyter-widgets/controls",
            "_model_module_version": "1.5.0",
            "_model_name": "LabelModel",
            "_view_count": null,
            "_view_module": "@jupyter-widgets/controls",
            "_view_module_version": "1.5.0",
            "_view_name": "LabelView",
            "description": "",
            "description_tooltip": null,
            "layout": "IPY_MODEL_bbc426c5736145f89cb94f9f9f4b7e25",
            "placeholder": "​",
            "style": "IPY_MODEL_e5306b13896544dbb929352ee8a4fb6c",
            "value": "0.031 MB of 0.031 MB uploaded (0.000 MB deduped)\r"
          }
        },
        "0dcf8be57e344473aa7f60f127550fc7": {
          "model_module": "@jupyter-widgets/controls",
          "model_name": "FloatProgressModel",
          "model_module_version": "1.5.0",
          "state": {
            "_dom_classes": [],
            "_model_module": "@jupyter-widgets/controls",
            "_model_module_version": "1.5.0",
            "_model_name": "FloatProgressModel",
            "_view_count": null,
            "_view_module": "@jupyter-widgets/controls",
            "_view_module_version": "1.5.0",
            "_view_name": "ProgressView",
            "bar_style": "",
            "description": "",
            "description_tooltip": null,
            "layout": "IPY_MODEL_ad05831c92a54664aa1a42eb94ecf9cf",
            "max": 1,
            "min": 0,
            "orientation": "horizontal",
            "style": "IPY_MODEL_8fca4a376aef4a059d2cf0ec629798af",
            "value": 1
          }
        },
        "6719379e7f214cf8830051b367b8bf08": {
          "model_module": "@jupyter-widgets/base",
          "model_name": "LayoutModel",
          "model_module_version": "1.2.0",
          "state": {
            "_model_module": "@jupyter-widgets/base",
            "_model_module_version": "1.2.0",
            "_model_name": "LayoutModel",
            "_view_count": null,
            "_view_module": "@jupyter-widgets/base",
            "_view_module_version": "1.2.0",
            "_view_name": "LayoutView",
            "align_content": null,
            "align_items": null,
            "align_self": null,
            "border": null,
            "bottom": null,
            "display": null,
            "flex": null,
            "flex_flow": null,
            "grid_area": null,
            "grid_auto_columns": null,
            "grid_auto_flow": null,
            "grid_auto_rows": null,
            "grid_column": null,
            "grid_gap": null,
            "grid_row": null,
            "grid_template_areas": null,
            "grid_template_columns": null,
            "grid_template_rows": null,
            "height": null,
            "justify_content": null,
            "justify_items": null,
            "left": null,
            "margin": null,
            "max_height": null,
            "max_width": null,
            "min_height": null,
            "min_width": null,
            "object_fit": null,
            "object_position": null,
            "order": null,
            "overflow": null,
            "overflow_x": null,
            "overflow_y": null,
            "padding": null,
            "right": null,
            "top": null,
            "visibility": null,
            "width": null
          }
        },
        "bbc426c5736145f89cb94f9f9f4b7e25": {
          "model_module": "@jupyter-widgets/base",
          "model_name": "LayoutModel",
          "model_module_version": "1.2.0",
          "state": {
            "_model_module": "@jupyter-widgets/base",
            "_model_module_version": "1.2.0",
            "_model_name": "LayoutModel",
            "_view_count": null,
            "_view_module": "@jupyter-widgets/base",
            "_view_module_version": "1.2.0",
            "_view_name": "LayoutView",
            "align_content": null,
            "align_items": null,
            "align_self": null,
            "border": null,
            "bottom": null,
            "display": null,
            "flex": null,
            "flex_flow": null,
            "grid_area": null,
            "grid_auto_columns": null,
            "grid_auto_flow": null,
            "grid_auto_rows": null,
            "grid_column": null,
            "grid_gap": null,
            "grid_row": null,
            "grid_template_areas": null,
            "grid_template_columns": null,
            "grid_template_rows": null,
            "height": null,
            "justify_content": null,
            "justify_items": null,
            "left": null,
            "margin": null,
            "max_height": null,
            "max_width": null,
            "min_height": null,
            "min_width": null,
            "object_fit": null,
            "object_position": null,
            "order": null,
            "overflow": null,
            "overflow_x": null,
            "overflow_y": null,
            "padding": null,
            "right": null,
            "top": null,
            "visibility": null,
            "width": null
          }
        },
        "e5306b13896544dbb929352ee8a4fb6c": {
          "model_module": "@jupyter-widgets/controls",
          "model_name": "DescriptionStyleModel",
          "model_module_version": "1.5.0",
          "state": {
            "_model_module": "@jupyter-widgets/controls",
            "_model_module_version": "1.5.0",
            "_model_name": "DescriptionStyleModel",
            "_view_count": null,
            "_view_module": "@jupyter-widgets/base",
            "_view_module_version": "1.2.0",
            "_view_name": "StyleView",
            "description_width": ""
          }
        },
        "ad05831c92a54664aa1a42eb94ecf9cf": {
          "model_module": "@jupyter-widgets/base",
          "model_name": "LayoutModel",
          "model_module_version": "1.2.0",
          "state": {
            "_model_module": "@jupyter-widgets/base",
            "_model_module_version": "1.2.0",
            "_model_name": "LayoutModel",
            "_view_count": null,
            "_view_module": "@jupyter-widgets/base",
            "_view_module_version": "1.2.0",
            "_view_name": "LayoutView",
            "align_content": null,
            "align_items": null,
            "align_self": null,
            "border": null,
            "bottom": null,
            "display": null,
            "flex": null,
            "flex_flow": null,
            "grid_area": null,
            "grid_auto_columns": null,
            "grid_auto_flow": null,
            "grid_auto_rows": null,
            "grid_column": null,
            "grid_gap": null,
            "grid_row": null,
            "grid_template_areas": null,
            "grid_template_columns": null,
            "grid_template_rows": null,
            "height": null,
            "justify_content": null,
            "justify_items": null,
            "left": null,
            "margin": null,
            "max_height": null,
            "max_width": null,
            "min_height": null,
            "min_width": null,
            "object_fit": null,
            "object_position": null,
            "order": null,
            "overflow": null,
            "overflow_x": null,
            "overflow_y": null,
            "padding": null,
            "right": null,
            "top": null,
            "visibility": null,
            "width": null
          }
        },
        "8fca4a376aef4a059d2cf0ec629798af": {
          "model_module": "@jupyter-widgets/controls",
          "model_name": "ProgressStyleModel",
          "model_module_version": "1.5.0",
          "state": {
            "_model_module": "@jupyter-widgets/controls",
            "_model_module_version": "1.5.0",
            "_model_name": "ProgressStyleModel",
            "_view_count": null,
            "_view_module": "@jupyter-widgets/base",
            "_view_module_version": "1.2.0",
            "_view_name": "StyleView",
            "bar_color": null,
            "description_width": ""
          }
        },
        "eb4e5b1449d2452fb4e10a1e98368ffd": {
          "model_module": "@jupyter-widgets/controls",
          "model_name": "VBoxModel",
          "model_module_version": "1.5.0",
          "state": {
            "_dom_classes": [],
            "_model_module": "@jupyter-widgets/controls",
            "_model_module_version": "1.5.0",
            "_model_name": "VBoxModel",
            "_view_count": null,
            "_view_module": "@jupyter-widgets/controls",
            "_view_module_version": "1.5.0",
            "_view_name": "VBoxView",
            "box_style": "",
            "children": [
              "IPY_MODEL_fac8f1cf928b4d67a666705ee463ed0c",
              "IPY_MODEL_204c6bc4b3cb4d57887a200eaaca2387"
            ],
            "layout": "IPY_MODEL_c3d43b4c4cbc470d80097cdccf61d9b2"
          }
        },
        "fac8f1cf928b4d67a666705ee463ed0c": {
          "model_module": "@jupyter-widgets/controls",
          "model_name": "LabelModel",
          "model_module_version": "1.5.0",
          "state": {
            "_dom_classes": [],
            "_model_module": "@jupyter-widgets/controls",
            "_model_module_version": "1.5.0",
            "_model_name": "LabelModel",
            "_view_count": null,
            "_view_module": "@jupyter-widgets/controls",
            "_view_module_version": "1.5.0",
            "_view_name": "LabelView",
            "description": "",
            "description_tooltip": null,
            "layout": "IPY_MODEL_dd916e46f88047ebaa3b4415b5ca7cf9",
            "placeholder": "​",
            "style": "IPY_MODEL_d2670f310cc54496a2f3ac34be40a52b",
            "value": "0.030 MB of 0.030 MB uploaded (0.000 MB deduped)\r"
          }
        },
        "204c6bc4b3cb4d57887a200eaaca2387": {
          "model_module": "@jupyter-widgets/controls",
          "model_name": "FloatProgressModel",
          "model_module_version": "1.5.0",
          "state": {
            "_dom_classes": [],
            "_model_module": "@jupyter-widgets/controls",
            "_model_module_version": "1.5.0",
            "_model_name": "FloatProgressModel",
            "_view_count": null,
            "_view_module": "@jupyter-widgets/controls",
            "_view_module_version": "1.5.0",
            "_view_name": "ProgressView",
            "bar_style": "",
            "description": "",
            "description_tooltip": null,
            "layout": "IPY_MODEL_10cc253e89934ea8b54a0e2d65207ceb",
            "max": 1,
            "min": 0,
            "orientation": "horizontal",
            "style": "IPY_MODEL_fbbacb354dc84c6eaf8a301e3eb2fb56",
            "value": 1
          }
        },
        "c3d43b4c4cbc470d80097cdccf61d9b2": {
          "model_module": "@jupyter-widgets/base",
          "model_name": "LayoutModel",
          "model_module_version": "1.2.0",
          "state": {
            "_model_module": "@jupyter-widgets/base",
            "_model_module_version": "1.2.0",
            "_model_name": "LayoutModel",
            "_view_count": null,
            "_view_module": "@jupyter-widgets/base",
            "_view_module_version": "1.2.0",
            "_view_name": "LayoutView",
            "align_content": null,
            "align_items": null,
            "align_self": null,
            "border": null,
            "bottom": null,
            "display": null,
            "flex": null,
            "flex_flow": null,
            "grid_area": null,
            "grid_auto_columns": null,
            "grid_auto_flow": null,
            "grid_auto_rows": null,
            "grid_column": null,
            "grid_gap": null,
            "grid_row": null,
            "grid_template_areas": null,
            "grid_template_columns": null,
            "grid_template_rows": null,
            "height": null,
            "justify_content": null,
            "justify_items": null,
            "left": null,
            "margin": null,
            "max_height": null,
            "max_width": null,
            "min_height": null,
            "min_width": null,
            "object_fit": null,
            "object_position": null,
            "order": null,
            "overflow": null,
            "overflow_x": null,
            "overflow_y": null,
            "padding": null,
            "right": null,
            "top": null,
            "visibility": null,
            "width": null
          }
        },
        "dd916e46f88047ebaa3b4415b5ca7cf9": {
          "model_module": "@jupyter-widgets/base",
          "model_name": "LayoutModel",
          "model_module_version": "1.2.0",
          "state": {
            "_model_module": "@jupyter-widgets/base",
            "_model_module_version": "1.2.0",
            "_model_name": "LayoutModel",
            "_view_count": null,
            "_view_module": "@jupyter-widgets/base",
            "_view_module_version": "1.2.0",
            "_view_name": "LayoutView",
            "align_content": null,
            "align_items": null,
            "align_self": null,
            "border": null,
            "bottom": null,
            "display": null,
            "flex": null,
            "flex_flow": null,
            "grid_area": null,
            "grid_auto_columns": null,
            "grid_auto_flow": null,
            "grid_auto_rows": null,
            "grid_column": null,
            "grid_gap": null,
            "grid_row": null,
            "grid_template_areas": null,
            "grid_template_columns": null,
            "grid_template_rows": null,
            "height": null,
            "justify_content": null,
            "justify_items": null,
            "left": null,
            "margin": null,
            "max_height": null,
            "max_width": null,
            "min_height": null,
            "min_width": null,
            "object_fit": null,
            "object_position": null,
            "order": null,
            "overflow": null,
            "overflow_x": null,
            "overflow_y": null,
            "padding": null,
            "right": null,
            "top": null,
            "visibility": null,
            "width": null
          }
        },
        "d2670f310cc54496a2f3ac34be40a52b": {
          "model_module": "@jupyter-widgets/controls",
          "model_name": "DescriptionStyleModel",
          "model_module_version": "1.5.0",
          "state": {
            "_model_module": "@jupyter-widgets/controls",
            "_model_module_version": "1.5.0",
            "_model_name": "DescriptionStyleModel",
            "_view_count": null,
            "_view_module": "@jupyter-widgets/base",
            "_view_module_version": "1.2.0",
            "_view_name": "StyleView",
            "description_width": ""
          }
        },
        "10cc253e89934ea8b54a0e2d65207ceb": {
          "model_module": "@jupyter-widgets/base",
          "model_name": "LayoutModel",
          "model_module_version": "1.2.0",
          "state": {
            "_model_module": "@jupyter-widgets/base",
            "_model_module_version": "1.2.0",
            "_model_name": "LayoutModel",
            "_view_count": null,
            "_view_module": "@jupyter-widgets/base",
            "_view_module_version": "1.2.0",
            "_view_name": "LayoutView",
            "align_content": null,
            "align_items": null,
            "align_self": null,
            "border": null,
            "bottom": null,
            "display": null,
            "flex": null,
            "flex_flow": null,
            "grid_area": null,
            "grid_auto_columns": null,
            "grid_auto_flow": null,
            "grid_auto_rows": null,
            "grid_column": null,
            "grid_gap": null,
            "grid_row": null,
            "grid_template_areas": null,
            "grid_template_columns": null,
            "grid_template_rows": null,
            "height": null,
            "justify_content": null,
            "justify_items": null,
            "left": null,
            "margin": null,
            "max_height": null,
            "max_width": null,
            "min_height": null,
            "min_width": null,
            "object_fit": null,
            "object_position": null,
            "order": null,
            "overflow": null,
            "overflow_x": null,
            "overflow_y": null,
            "padding": null,
            "right": null,
            "top": null,
            "visibility": null,
            "width": null
          }
        },
        "fbbacb354dc84c6eaf8a301e3eb2fb56": {
          "model_module": "@jupyter-widgets/controls",
          "model_name": "ProgressStyleModel",
          "model_module_version": "1.5.0",
          "state": {
            "_model_module": "@jupyter-widgets/controls",
            "_model_module_version": "1.5.0",
            "_model_name": "ProgressStyleModel",
            "_view_count": null,
            "_view_module": "@jupyter-widgets/base",
            "_view_module_version": "1.2.0",
            "_view_name": "StyleView",
            "bar_color": null,
            "description_width": ""
          }
        },
        "0a236061e4b44754ab364dfcd4053a97": {
          "model_module": "@jupyter-widgets/controls",
          "model_name": "VBoxModel",
          "model_module_version": "1.5.0",
          "state": {
            "_dom_classes": [],
            "_model_module": "@jupyter-widgets/controls",
            "_model_module_version": "1.5.0",
            "_model_name": "VBoxModel",
            "_view_count": null,
            "_view_module": "@jupyter-widgets/controls",
            "_view_module_version": "1.5.0",
            "_view_name": "VBoxView",
            "box_style": "",
            "children": [
              "IPY_MODEL_0df71871ecb14e24b81faafc519c251f",
              "IPY_MODEL_b3cd8dd1d5fb48a9b975df86ec556fa7"
            ],
            "layout": "IPY_MODEL_108d8e9ad94645aeac9aa630dfc15f94"
          }
        },
        "0df71871ecb14e24b81faafc519c251f": {
          "model_module": "@jupyter-widgets/controls",
          "model_name": "LabelModel",
          "model_module_version": "1.5.0",
          "state": {
            "_dom_classes": [],
            "_model_module": "@jupyter-widgets/controls",
            "_model_module_version": "1.5.0",
            "_model_name": "LabelModel",
            "_view_count": null,
            "_view_module": "@jupyter-widgets/controls",
            "_view_module_version": "1.5.0",
            "_view_name": "LabelView",
            "description": "",
            "description_tooltip": null,
            "layout": "IPY_MODEL_d8af7f1679eb4736b16c28e469725f6c",
            "placeholder": "​",
            "style": "IPY_MODEL_0244f508bbb94cdba61e417f42e51b47",
            "value": "0.029 MB of 0.029 MB uploaded (0.000 MB deduped)\r"
          }
        },
        "b3cd8dd1d5fb48a9b975df86ec556fa7": {
          "model_module": "@jupyter-widgets/controls",
          "model_name": "FloatProgressModel",
          "model_module_version": "1.5.0",
          "state": {
            "_dom_classes": [],
            "_model_module": "@jupyter-widgets/controls",
            "_model_module_version": "1.5.0",
            "_model_name": "FloatProgressModel",
            "_view_count": null,
            "_view_module": "@jupyter-widgets/controls",
            "_view_module_version": "1.5.0",
            "_view_name": "ProgressView",
            "bar_style": "",
            "description": "",
            "description_tooltip": null,
            "layout": "IPY_MODEL_ae7748b337eb4a998dc52a83264ff99f",
            "max": 1,
            "min": 0,
            "orientation": "horizontal",
            "style": "IPY_MODEL_74d635f959e1497192c36eeacb304f08",
            "value": 1
          }
        },
        "108d8e9ad94645aeac9aa630dfc15f94": {
          "model_module": "@jupyter-widgets/base",
          "model_name": "LayoutModel",
          "model_module_version": "1.2.0",
          "state": {
            "_model_module": "@jupyter-widgets/base",
            "_model_module_version": "1.2.0",
            "_model_name": "LayoutModel",
            "_view_count": null,
            "_view_module": "@jupyter-widgets/base",
            "_view_module_version": "1.2.0",
            "_view_name": "LayoutView",
            "align_content": null,
            "align_items": null,
            "align_self": null,
            "border": null,
            "bottom": null,
            "display": null,
            "flex": null,
            "flex_flow": null,
            "grid_area": null,
            "grid_auto_columns": null,
            "grid_auto_flow": null,
            "grid_auto_rows": null,
            "grid_column": null,
            "grid_gap": null,
            "grid_row": null,
            "grid_template_areas": null,
            "grid_template_columns": null,
            "grid_template_rows": null,
            "height": null,
            "justify_content": null,
            "justify_items": null,
            "left": null,
            "margin": null,
            "max_height": null,
            "max_width": null,
            "min_height": null,
            "min_width": null,
            "object_fit": null,
            "object_position": null,
            "order": null,
            "overflow": null,
            "overflow_x": null,
            "overflow_y": null,
            "padding": null,
            "right": null,
            "top": null,
            "visibility": null,
            "width": null
          }
        },
        "d8af7f1679eb4736b16c28e469725f6c": {
          "model_module": "@jupyter-widgets/base",
          "model_name": "LayoutModel",
          "model_module_version": "1.2.0",
          "state": {
            "_model_module": "@jupyter-widgets/base",
            "_model_module_version": "1.2.0",
            "_model_name": "LayoutModel",
            "_view_count": null,
            "_view_module": "@jupyter-widgets/base",
            "_view_module_version": "1.2.0",
            "_view_name": "LayoutView",
            "align_content": null,
            "align_items": null,
            "align_self": null,
            "border": null,
            "bottom": null,
            "display": null,
            "flex": null,
            "flex_flow": null,
            "grid_area": null,
            "grid_auto_columns": null,
            "grid_auto_flow": null,
            "grid_auto_rows": null,
            "grid_column": null,
            "grid_gap": null,
            "grid_row": null,
            "grid_template_areas": null,
            "grid_template_columns": null,
            "grid_template_rows": null,
            "height": null,
            "justify_content": null,
            "justify_items": null,
            "left": null,
            "margin": null,
            "max_height": null,
            "max_width": null,
            "min_height": null,
            "min_width": null,
            "object_fit": null,
            "object_position": null,
            "order": null,
            "overflow": null,
            "overflow_x": null,
            "overflow_y": null,
            "padding": null,
            "right": null,
            "top": null,
            "visibility": null,
            "width": null
          }
        },
        "0244f508bbb94cdba61e417f42e51b47": {
          "model_module": "@jupyter-widgets/controls",
          "model_name": "DescriptionStyleModel",
          "model_module_version": "1.5.0",
          "state": {
            "_model_module": "@jupyter-widgets/controls",
            "_model_module_version": "1.5.0",
            "_model_name": "DescriptionStyleModel",
            "_view_count": null,
            "_view_module": "@jupyter-widgets/base",
            "_view_module_version": "1.2.0",
            "_view_name": "StyleView",
            "description_width": ""
          }
        },
        "ae7748b337eb4a998dc52a83264ff99f": {
          "model_module": "@jupyter-widgets/base",
          "model_name": "LayoutModel",
          "model_module_version": "1.2.0",
          "state": {
            "_model_module": "@jupyter-widgets/base",
            "_model_module_version": "1.2.0",
            "_model_name": "LayoutModel",
            "_view_count": null,
            "_view_module": "@jupyter-widgets/base",
            "_view_module_version": "1.2.0",
            "_view_name": "LayoutView",
            "align_content": null,
            "align_items": null,
            "align_self": null,
            "border": null,
            "bottom": null,
            "display": null,
            "flex": null,
            "flex_flow": null,
            "grid_area": null,
            "grid_auto_columns": null,
            "grid_auto_flow": null,
            "grid_auto_rows": null,
            "grid_column": null,
            "grid_gap": null,
            "grid_row": null,
            "grid_template_areas": null,
            "grid_template_columns": null,
            "grid_template_rows": null,
            "height": null,
            "justify_content": null,
            "justify_items": null,
            "left": null,
            "margin": null,
            "max_height": null,
            "max_width": null,
            "min_height": null,
            "min_width": null,
            "object_fit": null,
            "object_position": null,
            "order": null,
            "overflow": null,
            "overflow_x": null,
            "overflow_y": null,
            "padding": null,
            "right": null,
            "top": null,
            "visibility": null,
            "width": null
          }
        },
        "74d635f959e1497192c36eeacb304f08": {
          "model_module": "@jupyter-widgets/controls",
          "model_name": "ProgressStyleModel",
          "model_module_version": "1.5.0",
          "state": {
            "_model_module": "@jupyter-widgets/controls",
            "_model_module_version": "1.5.0",
            "_model_name": "ProgressStyleModel",
            "_view_count": null,
            "_view_module": "@jupyter-widgets/base",
            "_view_module_version": "1.2.0",
            "_view_name": "StyleView",
            "bar_color": null,
            "description_width": ""
          }
        }
      }
    }
  },
  "cells": [
    {
      "cell_type": "code",
      "source": [
        "from google.colab import drive\n",
        "drive.mount('/content/drive')"
      ],
      "metadata": {
        "colab": {
          "base_uri": "https://localhost:8080/"
        },
        "id": "dcvaKEHZH76K",
        "outputId": "0129f4ca-8cd0-4ca4-b34c-0acf46d9c1c6"
      },
      "execution_count": null,
      "outputs": [
        {
          "output_type": "stream",
          "name": "stdout",
          "text": [
            "Mounted at /content/drive\n"
          ]
        }
      ]
    },
    {
      "cell_type": "markdown",
      "source": [
        "## Utils"
      ],
      "metadata": {
        "id": "tk9-sp7HB3yG"
      }
    },
    {
      "cell_type": "code",
      "source": [
        "!pip install wandb ml_collections\n",
        "!wandb login 8c920c1bbdcc7ee5353aaa8becd54a4942f0fc06"
      ],
      "metadata": {
        "colab": {
          "base_uri": "https://localhost:8080/"
        },
        "id": "vHxdWtkUkyEY",
        "outputId": "5488c6d6-a8fc-4342-c950-5d536e9eada4"
      },
      "execution_count": null,
      "outputs": [
        {
          "output_type": "stream",
          "name": "stdout",
          "text": [
            "Looking in indexes: https://pypi.org/simple, https://us-python.pkg.dev/colab-wheels/public/simple/\n",
            "Collecting wandb\n",
            "  Downloading wandb-0.13.3-py2.py3-none-any.whl (1.8 MB)\n",
            "\u001b[K     |████████████████████████████████| 1.8 MB 8.7 MB/s \n",
            "\u001b[?25hCollecting ml_collections\n",
            "  Downloading ml_collections-0.1.1.tar.gz (77 kB)\n",
            "\u001b[K     |████████████████████████████████| 77 kB 8.5 MB/s \n",
            "\u001b[?25hRequirement already satisfied: promise<3,>=2.0 in /usr/local/lib/python3.7/dist-packages (from wandb) (2.3)\n",
            "Collecting sentry-sdk>=1.0.0\n",
            "  Downloading sentry_sdk-1.9.8-py2.py3-none-any.whl (158 kB)\n",
            "\u001b[K     |████████████████████████████████| 158 kB 66.5 MB/s \n",
            "\u001b[?25hRequirement already satisfied: six>=1.13.0 in /usr/local/lib/python3.7/dist-packages (from wandb) (1.15.0)\n",
            "Collecting pathtools\n",
            "  Downloading pathtools-0.1.2.tar.gz (11 kB)\n",
            "Requirement already satisfied: psutil>=5.0.0 in /usr/local/lib/python3.7/dist-packages (from wandb) (5.4.8)\n",
            "Collecting GitPython>=1.0.0\n",
            "  Downloading GitPython-3.1.27-py3-none-any.whl (181 kB)\n",
            "\u001b[K     |████████████████████████████████| 181 kB 66.0 MB/s \n",
            "\u001b[?25hRequirement already satisfied: PyYAML in /usr/local/lib/python3.7/dist-packages (from wandb) (6.0)\n",
            "Collecting docker-pycreds>=0.4.0\n",
            "  Downloading docker_pycreds-0.4.0-py2.py3-none-any.whl (9.0 kB)\n",
            "Requirement already satisfied: Click!=8.0.0,>=7.0 in /usr/local/lib/python3.7/dist-packages (from wandb) (7.1.2)\n",
            "Collecting shortuuid>=0.5.0\n",
            "  Downloading shortuuid-1.0.9-py3-none-any.whl (9.4 kB)\n",
            "Collecting setproctitle\n",
            "  Downloading setproctitle-1.3.2-cp37-cp37m-manylinux_2_5_x86_64.manylinux1_x86_64.manylinux_2_17_x86_64.manylinux2014_x86_64.whl (30 kB)\n",
            "Requirement already satisfied: requests<3,>=2.0.0 in /usr/local/lib/python3.7/dist-packages (from wandb) (2.23.0)\n",
            "Requirement already satisfied: setuptools in /usr/local/lib/python3.7/dist-packages (from wandb) (57.4.0)\n",
            "Requirement already satisfied: protobuf<4.0dev,>=3.12.0 in /usr/local/lib/python3.7/dist-packages (from wandb) (3.17.3)\n",
            "Collecting gitdb<5,>=4.0.1\n",
            "  Downloading gitdb-4.0.9-py3-none-any.whl (63 kB)\n",
            "\u001b[K     |████████████████████████████████| 63 kB 1.4 MB/s \n",
            "\u001b[?25hRequirement already satisfied: typing-extensions>=3.7.4.3 in /usr/local/lib/python3.7/dist-packages (from GitPython>=1.0.0->wandb) (4.1.1)\n",
            "Collecting smmap<6,>=3.0.1\n",
            "  Downloading smmap-5.0.0-py3-none-any.whl (24 kB)\n",
            "Requirement already satisfied: chardet<4,>=3.0.2 in /usr/local/lib/python3.7/dist-packages (from requests<3,>=2.0.0->wandb) (3.0.4)\n",
            "Requirement already satisfied: certifi>=2017.4.17 in /usr/local/lib/python3.7/dist-packages (from requests<3,>=2.0.0->wandb) (2022.6.15)\n",
            "Requirement already satisfied: idna<3,>=2.5 in /usr/local/lib/python3.7/dist-packages (from requests<3,>=2.0.0->wandb) (2.10)\n",
            "Requirement already satisfied: urllib3!=1.25.0,!=1.25.1,<1.26,>=1.21.1 in /usr/local/lib/python3.7/dist-packages (from requests<3,>=2.0.0->wandb) (1.24.3)\n",
            "Collecting sentry-sdk>=1.0.0\n",
            "  Downloading sentry_sdk-1.9.7-py2.py3-none-any.whl (157 kB)\n",
            "\u001b[K     |████████████████████████████████| 157 kB 73.9 MB/s \n",
            "\u001b[?25h  Downloading sentry_sdk-1.9.6-py2.py3-none-any.whl (157 kB)\n",
            "\u001b[K     |████████████████████████████████| 157 kB 74.7 MB/s \n",
            "\u001b[?25h  Downloading sentry_sdk-1.9.5-py2.py3-none-any.whl (157 kB)\n",
            "\u001b[K     |████████████████████████████████| 157 kB 78.2 MB/s \n",
            "\u001b[?25h  Downloading sentry_sdk-1.9.4-py2.py3-none-any.whl (157 kB)\n",
            "\u001b[K     |████████████████████████████████| 157 kB 77.0 MB/s \n",
            "\u001b[?25h  Downloading sentry_sdk-1.9.3-py2.py3-none-any.whl (157 kB)\n",
            "\u001b[K     |████████████████████████████████| 157 kB 64.9 MB/s \n",
            "\u001b[?25h  Downloading sentry_sdk-1.9.2-py2.py3-none-any.whl (157 kB)\n",
            "\u001b[K     |████████████████████████████████| 157 kB 59.7 MB/s \n",
            "\u001b[?25h  Downloading sentry_sdk-1.9.1-py2.py3-none-any.whl (157 kB)\n",
            "\u001b[K     |████████████████████████████████| 157 kB 77.5 MB/s \n",
            "\u001b[?25h  Downloading sentry_sdk-1.9.0-py2.py3-none-any.whl (156 kB)\n",
            "\u001b[K     |████████████████████████████████| 156 kB 69.8 MB/s \n",
            "\u001b[?25hRequirement already satisfied: absl-py in /usr/local/lib/python3.7/dist-packages (from ml_collections) (1.2.0)\n",
            "Requirement already satisfied: contextlib2 in /usr/local/lib/python3.7/dist-packages (from ml_collections) (0.5.5)\n",
            "Building wheels for collected packages: ml-collections, pathtools\n",
            "  Building wheel for ml-collections (setup.py) ... \u001b[?25l\u001b[?25hdone\n",
            "  Created wheel for ml-collections: filename=ml_collections-0.1.1-py3-none-any.whl size=94524 sha256=2cd3eba090a0d4d9488a9edfb36cc1da72bd90beae2be32e070584161bb4f363\n",
            "  Stored in directory: /root/.cache/pip/wheels/b7/da/64/33c926a1b10ff19791081b705879561b715a8341a856a3bbd2\n",
            "  Building wheel for pathtools (setup.py) ... \u001b[?25l\u001b[?25hdone\n",
            "  Created wheel for pathtools: filename=pathtools-0.1.2-py3-none-any.whl size=8806 sha256=3ffa52f1333a3b141b7ee3c97a2c327ea9773b74dce305a6397b9c96314651b9\n",
            "  Stored in directory: /root/.cache/pip/wheels/3e/31/09/fa59cef12cdcfecc627b3d24273699f390e71828921b2cbba2\n",
            "Successfully built ml-collections pathtools\n",
            "Installing collected packages: smmap, gitdb, shortuuid, setproctitle, sentry-sdk, pathtools, GitPython, docker-pycreds, wandb, ml-collections\n",
            "Successfully installed GitPython-3.1.27 docker-pycreds-0.4.0 gitdb-4.0.9 ml-collections-0.1.1 pathtools-0.1.2 sentry-sdk-1.9.0 setproctitle-1.3.2 shortuuid-1.0.9 smmap-5.0.0 wandb-0.13.3\n",
            "\u001b[34m\u001b[1mwandb\u001b[0m: Appending key for api.wandb.ai to your netrc file: /root/.netrc\n"
          ]
        }
      ]
    },
    {
      "cell_type": "code",
      "source": [
        "import torch\n",
        "from torch import nn\n",
        "from torch.utils.data import Dataset, DataLoader\n",
        "import os\n",
        "import numpy as np\n",
        "import json\n",
        "import tqdm\n",
        "from sklearn.model_selection import train_test_split\n",
        "import random\n",
        "import wandb\n",
        "from ml_collections import ConfigDict"
      ],
      "metadata": {
        "id": "VQLpSlH3lpMo"
      },
      "execution_count": null,
      "outputs": []
    },
    {
      "cell_type": "code",
      "source": [
        "cfg = ConfigDict()\n",
        "cfg.test_split = 0.2\n",
        "cfg.batch_size = 256\n",
        "cfg.task_0_lr = 1e-4\n",
        "cfg.task_1_lr = 5e-6\n",
        "cfg.residual_mlp_dropout_rate = 0.2\n",
        "cfg.task_0_weight_decay = 1e-5\n",
        "cfg.task_1_weight_decay = 2e-5\n",
        "cfg.samples_per_class = 25\n",
        "cfg.hidden_dims = 1024\n",
        "cfg.op = \"mul\"\n",
        "cfg.epochs = 25\n",
        "cfg.task_order = \"yesno imagecondition roadcondition\"\n",
        "\n",
        "cfg.half_batch_size = cfg.batch_size // 2"
      ],
      "metadata": {
        "id": "_9oZCzdwlqlI"
      },
      "execution_count": null,
      "outputs": []
    },
    {
      "cell_type": "code",
      "source": [
        "\n",
        "\n",
        "def set_seed(seed):\n",
        "    random.seed(seed)\n",
        "    np.random.seed(seed)\n",
        "    torch.manual_seed(seed)\n",
        "    if torch.cuda.is_available():\n",
        "        torch.cuda.manual_seed_all(seed)\n",
        "\n",
        "set_seed(42)\n",
        "\n",
        "def accuracy(pred, true):\n",
        "    acc = np.sum((true == pred.argmax(-1)).astype(np.float32))\n",
        "    return float(100 * acc / len(true))\n",
        "\n",
        "def unbatch(half_batch):\n",
        "    \"\"\"\n",
        "    Unbatches a batch into list of examples.\n",
        "\n",
        "    Args:\n",
        "        batch: A batch of examples with the structure :\n",
        "        [torch.Tensor, torch.Tensor, torch.Tensor]\n",
        "\n",
        "    Returns:\n",
        "        list of unbatched examples: [[torch.Tensor, torch.Tensor, torch.Tensor], [torch.Tensor, torch.Tensor, torch.Tensor], [torch.Tensor, torch.Tensor, torch.Tensor]]\n",
        "\n",
        "    \"\"\"\n",
        "    list_of_examples = []\n",
        "\n",
        "    num_examples = len(half_batch[0])\n",
        "\n",
        "    for idx in range(num_examples):\n",
        "        list_of_examples.append([half_batch[0][idx], half_batch[1][idx], half_batch[2][idx]])\n",
        "\n",
        "    return list_of_examples\n",
        "\n",
        "\n",
        "def batch(list_of_examples):\n",
        "    \"\"\"\n",
        "    Batches unbatched examples into one\n",
        "\n",
        "    Args:\n",
        "        list_of_examples: list of unbatched examples: [[torch.Tensor, torch.Tensor, torch.Tensor], [torch.Tensor, torch.Tensor, torch.Tensor], [torch.Tensor, torch.Tensor, torch.Tensor]]\n",
        "\n",
        "    Returns:\n",
        "        A batch of examples with the structure :\n",
        "        [torch.Tensor, torch.Tensor, torch.Tensor]\n",
        "    \"\"\"\n",
        "    img_feats = []\n",
        "    q_feats = []\n",
        "    labels = []\n",
        "    for example in list_of_examples:\n",
        "        img_feats.append(example[0])\n",
        "        q_feats.append(example[1])\n",
        "        labels.append(example[2])\n",
        "\n",
        "    return torch.concat(img_feats), torch.concat(q_feats), torch.concat(labels)\n",
        "\n",
        "def hello():\n",
        "    print(\"hi\")\n",
        "\n",
        "def combine_batch_and_list(half_batch, list_of_examples):\n",
        "    for example in list_of_examples:\n",
        "        half_batch[0] = torch.concat([half_batch[0], example[0].unsqueeze(0)], dim=0)\n",
        "        half_batch[1] = torch.concat([half_batch[1], example[1].unsqueeze(0)], dim=0)\n",
        "        half_batch[2] = torch.concat([half_batch[2], example[2].unsqueeze(0)], dim=0)\n",
        "    return half_batch\n",
        "\n",
        "\n",
        "def get_train_val_splits(jsondict):\n",
        "    total = len(jsondict.keys())\n",
        "    train, val = train_test_split(list(jsondict.keys()), test_size=cfg.test_split)\n",
        "\n",
        "    print(len(train),len(val))\n",
        "\n",
        "    train_dict = dict()\n",
        "    val_dict = dict()\n",
        "    for i in train:\n",
        "        train_dict[str(i)] = jsondict[str(i)]\n",
        "    \n",
        "    for j in val:\n",
        "        val_dict[str(j)] = jsondict[str(j)]\n",
        "    \n",
        "    return train_dict, val_dict\n",
        "\n",
        "def get_uniq_image_ids(jsondict):\n",
        "    uniq_images = []\n",
        "    for key, example in jsondict.items():\n",
        "        if example[\"Image_ID\"] not in uniq_images:\n",
        "            uniq_images.append(example[\"Image_ID\"])\n",
        "    return uniq_images\n",
        "\n",
        "def get_questions_for_imageid(jsondict, imageid):\n",
        "    qs = dict()\n",
        "    for key, example in jsondict.items():\n",
        "        if example[\"Image_ID\"] == imageid:\n",
        "            qs[key] = example\n",
        "    return qs\n",
        "\n",
        "def get_train_val_splits_imagewise(jsondict):\n",
        "    train_dict = dict()\n",
        "    val_dict = dict()\n",
        "\n",
        "    uniq_images = get_uniq_image_ids(jsondict)\n",
        "    \n",
        "    train, val = train_test_split(uniq_images, test_size=0.2)\n",
        "\n",
        "    for imageid in train:\n",
        "        train_dict.update(get_questions_for_imageid(jsondict, imageid)) \n",
        "\n",
        "    for imageid in val:\n",
        "        val_dict.update(get_questions_for_imageid(jsondict, imageid))\n",
        "\n",
        "    return train_dict, val_dict\n",
        "\n",
        "def get_typewise_train_val_splits(train_dict, val_dict):\n",
        "    train_road_condition = dict()\n",
        "    train_yes_no = dict()\n",
        "    train_image_condition = dict()\n",
        "\n",
        "    counter = 0\n",
        "    for example in train_dict.values():\n",
        "        if example[\"Question_Type\"] == \"Yes_No\":\n",
        "            train_yes_no[str(counter)] = example\n",
        "            counter += 1\n",
        "        elif \"road\" in example[\"Question\"]:\n",
        "            train_road_condition[str(counter)] = example\n",
        "            counter += 1\n",
        "        elif \"overall\" in example[\"Question\"]:\n",
        "            train_image_condition[str(counter)] = example\n",
        "            counter += 1\n",
        "\n",
        "    val_road_condition = dict()\n",
        "    val_yes_no = dict()\n",
        "    val_image_condition = dict()\n",
        "\n",
        "    counter = 0\n",
        "    for example in val_dict.values():\n",
        "        if example[\"Question_Type\"] == \"Yes_No\":\n",
        "            val_yes_no[str(counter)] = example\n",
        "            counter += 1\n",
        "        elif \"road\" in example[\"Question\"]:\n",
        "            val_road_condition[str(counter)] = example\n",
        "            counter += 1\n",
        "        elif \"overall\" in example[\"Question\"]:\n",
        "            val_image_condition[str(counter)] = example\n",
        "            counter += 1\n",
        "\n",
        "    return [train_image_condition, train_road_condition, train_yes_no], [val_image_condition, val_road_condition, val_yes_no]\n",
        "\n",
        "def accuracy(pred, true):\n",
        "    acc = np.sum((true == pred.argmax(-1)).astype(np.float32))\n",
        "    return float(100 * acc / len(true))"
      ],
      "metadata": {
        "id": "b_tVFlm7Bzqw"
      },
      "execution_count": null,
      "outputs": []
    },
    {
      "cell_type": "markdown",
      "source": [
        "## Continual VQA"
      ],
      "metadata": {
        "id": "4BnUqVJcB7j9"
      }
    },
    {
      "cell_type": "code",
      "execution_count": null,
      "metadata": {
        "id": "nNCTCfFOdOun"
      },
      "outputs": [],
      "source": [
        "import torch\n",
        "from torch import nn\n",
        "from torch.utils.data import Dataset, DataLoader\n",
        "import os\n",
        "import numpy as np\n",
        "import json\n",
        "import tqdm\n",
        "from datetime import datetime\n",
        "from sklearn.model_selection import train_test_split\n",
        "from copy import deepcopy"
      ]
    },
    {
      "cell_type": "code",
      "source": [
        "import torch\n",
        "import random\n",
        "import numpy as np\n",
        "\n",
        "def set_seed(seed):\n",
        "    random.seed(seed)\n",
        "    np.random.seed(seed)\n",
        "    torch.manual_seed(seed)\n",
        "    if torch.cuda.is_available():\n",
        "        torch.cuda.manual_seed_all(seed)\n",
        "\n",
        "set_seed(42)"
      ],
      "metadata": {
        "id": "lwb-bWMnjYWb"
      },
      "execution_count": null,
      "outputs": []
    },
    {
      "cell_type": "code",
      "source": [
        "label_mapping = [\"flooded\", # condition\n",
        "\"non flooded\", # condition\n",
        "\"flooded,non flooded\", # condition\n",
        "\"Yes\", # yes/no\n",
        "\"No\", # yes/no\n",
        "] + list(map(str, range(0, 51))) # counting"
      ],
      "metadata": {
        "id": "CEavqtbHjZZh"
      },
      "execution_count": null,
      "outputs": []
    },
    {
      "cell_type": "code",
      "source": [
        "ORIGINAL_DATA_PATH = \"/content/drive/MyDrive/floodnet_data/\"\n",
        "RESNET_FEATURE_PATH = \"/content/drive/MyDrive/continual_floodnet_data/floodnet_resnet_features/\"\n",
        "CONVNEXT_FEATURE_PATH = \"/content/drive/MyDrive/continual_floodnet_data/floodnet_convnext_features/\"\n",
        "CLIP_FEATURE_PATH = \"/content/drive/MyDrive/continual_floodnet_data/floodnet_clip_features/\"\n",
        "\n",
        "MODE = \"CLIP\" # can be RESNET or CONVNEXT\n",
        "if MODE == \"RESNET\":\n",
        "    FEATURE_PATH = RESNET_FEATURE_PATH\n",
        "    IMG_FEAT_DIMS = 2048\n",
        "elif MODE == \"CONVNEXT\":\n",
        "    FEATURE_PATH = CONVNEXT_FEATURE_PATH\n",
        "    IMG_FEAT_DIMS = 1536\n",
        "elif MODE == \"CLIP\":\n",
        "    FEATURE_PATH = CLIP_FEATURE_PATH\n",
        "    IMG_FEAT_DIMS = 768\n",
        "else:\n",
        "    raise ValueError(f\"Mode must be one of `RESNET` or `CONVNEXT`, got {MODE}\")\n",
        "\n",
        "all_images_features = dict()\n",
        "for imagename in os.listdir(os.path.join(FEATURE_PATH, \"Images/Train_Image\")):\n",
        "    all_images_features[imagename.replace(\".pt\", \".JPG\")] = torch.load(os.path.join(os.path.join(FEATURE_PATH, \"Images/Train_Image\"), imagename))\n",
        "# 1234.JPG : torch.Tensor\n",
        "\n",
        "all_questions_features = dict()\n",
        "for imagename in os.listdir(os.path.join(FEATURE_PATH, \"Questions\")):\n",
        "    all_questions_features[imagename.replace(\".pt\", \"\").replace(\"_\", \"?\")] = torch.load(os.path.join(os.path.join(FEATURE_PATH, \"Questions\"), imagename))\n",
        "# \"what is the overall condition of this image?\": torch.Tensor\n"
      ],
      "metadata": {
        "id": "2wAw3y7_jbza"
      },
      "execution_count": null,
      "outputs": []
    },
    {
      "cell_type": "code",
      "source": [
        "class VQADataset(Dataset):\n",
        "    def __init__(self, qdict, label_mapping=label_mapping):\n",
        "        self.qdict = qdict\n",
        "        self.label_mapping = label_mapping\n",
        "        self.reset_index()\n",
        "\n",
        "    def reset_index(self):\n",
        "        new_qdict = dict()\n",
        "        for idx, value in enumerate(self.qdict.values()):\n",
        "            new_qdict[idx] = value\n",
        "        self.qdict = new_qdict\n",
        "\n",
        "    def __len__(self):\n",
        "        return len(self.qdict.keys())\n",
        "    \n",
        "    def __getitem__(self, idx):\n",
        "        # \"0\":{\"Image_ID\":\"10165.JPG\",\"Question\":\"What is the overall condition of the given image?\",\"Ground_Truth\":\"flooded\",\"Question_Type\":\"Condition_Recognition\"}\n",
        "        row = self.qdict[idx]\n",
        "        img_feat = all_images_features[row[\"Image_ID\"]]\n",
        "        q_feat = all_questions_features[row[\"Question\"]]\n",
        "        \n",
        "        return img_feat.float(), q_feat.squeeze().float(), self.label_mapping.index(str(row[\"Ground_Truth\"]))"
      ],
      "metadata": {
        "id": "DWYefBsupMgW"
      },
      "execution_count": null,
      "outputs": []
    },
    {
      "cell_type": "code",
      "source": [
        "print(all_questions_features)"
      ],
      "metadata": {
        "colab": {
          "base_uri": "https://localhost:8080/"
        },
        "id": "wKHrK2c9NfqO",
        "outputId": "b4e850fe-0474-427f-9aa9-ad4cbdc0164b"
      },
      "execution_count": null,
      "outputs": [
        {
          "output_type": "stream",
          "name": "stdout",
          "text": [
            "{'How many buildings are flooded in this image?': tensor([[-5.4639e-01, -1.5417e-01,  5.2539e-01,  4.8340e-01, -1.5210e-01,\n",
            "          2.5537e-01, -1.7273e-01, -4.7760e-02, -3.8843e-01,  4.9219e-01,\n",
            "          1.0583e-01, -5.1562e-01, -2.1777e-01, -1.7065e-01, -1.0156e-01,\n",
            "          3.4912e-01,  2.1497e-01,  1.2878e-01,  1.4526e-01, -3.0054e-01,\n",
            "          5.2686e-01,  4.1748e-01, -1.0979e-02,  4.4946e-01, -1.4490e-01,\n",
            "         -2.7832e-01, -2.4185e-03, -1.0321e-01,  8.3691e-01, -6.8481e-02,\n",
            "          6.1646e-03, -1.2964e-01,  2.7954e-01, -1.1504e+00,  5.9387e-02,\n",
            "          2.3987e-01,  2.7557e-02,  5.9570e-02, -3.6987e-02,  9.7168e-02,\n",
            "         -5.8154e-01, -6.7871e-01, -8.1934e-01, -5.5127e-01, -1.7944e-01,\n",
            "          7.2754e-01, -2.2583e-01,  4.8657e-01,  1.6101e-01, -4.0454e-01,\n",
            "         -1.2964e-01, -2.9492e-01,  6.0303e-01,  6.6162e-01, -4.3335e-01,\n",
            "         -9.0674e-01,  2.3242e-01,  2.6562e-01, -5.5762e-01, -1.7944e-01,\n",
            "          4.0063e-01,  1.2915e-01, -4.3652e-01,  6.1621e-01, -3.8916e-01,\n",
            "         -7.0752e-01, -2.0312e-01,  1.2939e-01,  9.6313e-02,  5.4590e-01,\n",
            "          1.7151e-01, -3.4302e-01,  8.3618e-02, -2.5537e-01,  1.5305e-02,\n",
            "         -6.5283e-01,  2.4939e-01,  2.7002e-01, -7.7100e-01, -5.5615e-01,\n",
            "         -2.1960e-01, -4.7144e-01, -1.8884e-01,  3.1494e-01,  3.2373e-01,\n",
            "         -3.4155e-01, -4.7699e-02, -2.7515e-01, -1.0078e+00, -3.3252e-01,\n",
            "          3.5596e-01,  8.9111e-02,  2.1622e-02, -8.1177e-03,  2.8613e-01,\n",
            "         -1.5210e-01, -1.8701e-01, -2.0691e-01,  4.3983e-03, -6.5283e-01,\n",
            "         -5.9912e-01, -8.9050e-02,  2.2278e-01,  5.7764e-01, -7.1680e-01,\n",
            "          3.2593e-01,  4.7974e-02,  4.9536e-01,  9.2773e-01,  4.7803e-01,\n",
            "         -2.3206e-01, -1.1005e-01, -1.0773e-01,  1.2732e-01,  1.5625e-01,\n",
            "         -3.1250e-01, -4.0503e-01, -3.6377e-01,  2.0349e-01, -2.8687e-02,\n",
            "         -4.3042e-01, -7.0724e-03,  3.5614e-02,  2.9761e-01, -9.2285e-02,\n",
            "          3.7109e-01,  1.6772e-01,  1.3428e-01,  2.2241e-01,  1.5649e-01,\n",
            "         -7.2705e-01,  2.0972e-01, -1.8860e-02,  3.0640e-01, -4.2676e-01,\n",
            "         -6.2793e-01,  3.7556e-03,  1.5857e-01,  3.4863e-01,  6.2305e-01,\n",
            "          4.6362e-01, -1.0699e-01,  4.8828e-01, -4.9805e-01, -2.7197e-01,\n",
            "         -1.0557e+00,  4.4556e-02,  5.1074e-01, -6.4062e-01, -1.3635e-01,\n",
            "         -6.5125e-02, -1.7639e-02, -4.2896e-01,  7.2441e-03,  2.0483e-01,\n",
            "         -1.0120e-01, -2.3468e-02, -6.5063e-02,  3.5596e-01, -3.0762e-01,\n",
            "         -1.2396e-01,  1.1871e-02, -3.6499e-02, -3.6133e-01,  1.6321e-01,\n",
            "         -4.3304e-02, -5.0684e-01, -4.5776e-02,  7.8735e-02, -3.6353e-01,\n",
            "         -4.4220e-02,  9.7412e-02, -1.0315e-01, -4.3628e-01, -1.0535e-01,\n",
            "          1.3232e-01, -5.7666e-01, -1.2903e-01,  2.4231e-01, -5.3857e-01,\n",
            "         -2.8149e-01, -1.8420e-01, -3.1787e-01,  2.9834e-01, -2.2314e-01,\n",
            "         -4.4043e-01, -1.2891e-01, -1.7346e-01,  4.5410e-02, -4.1650e-01,\n",
            "          3.4424e-01, -1.4294e-01, -2.5928e-01, -3.3887e-01, -7.0686e-03,\n",
            "         -1.4023e+00, -2.1021e-01,  6.3232e-01,  6.5039e-01, -8.4668e-01,\n",
            "         -4.4434e-01,  1.8103e-01, -1.1328e-01,  3.2056e-01,  2.7881e-01,\n",
            "          1.4746e-01, -1.7349e-02,  1.5381e-02, -2.5952e-01, -5.2197e-01,\n",
            "         -2.9419e-01, -6.3916e-01, -3.2593e-01,  5.8350e-02, -4.5703e-01,\n",
            "          3.3691e-02, -1.4587e-01,  2.7563e-01,  3.4155e-01,  5.2783e-01,\n",
            "          3.3179e-01, -7.5378e-02,  2.5244e-01,  3.4131e-01, -2.8732e-02,\n",
            "          7.3047e-01, -2.8979e-01, -3.3105e-01,  3.3398e-01, -4.7412e-01,\n",
            "          2.7734e-01, -4.7705e-01,  3.0670e-02, -3.4326e-01, -8.7891e-01,\n",
            "          4.4165e-01,  1.1151e-01, -4.0710e-02, -1.9373e-01,  2.1521e-01,\n",
            "          6.6016e-01,  3.1830e-02, -5.3125e-01,  1.6699e-01,  2.0068e-01,\n",
            "          3.5620e-01, -4.2920e-01, -9.6619e-02,  2.8955e-01,  5.5029e-01,\n",
            "         -2.0715e-01, -5.2441e-01,  3.4497e-01, -5.0928e-01,  2.0142e-01,\n",
            "          1.1646e-01, -1.8250e-01,  6.9482e-01,  1.1090e-01, -9.1858e-03,\n",
            "         -7.4121e-01, -1.3794e-01, -6.6309e-01, -8.0566e-02, -1.7700e-01,\n",
            "          2.0065e-02,  2.0557e-01, -1.3525e-01,  9.4177e-02, -3.0347e-01,\n",
            "          5.9113e-02,  6.1719e-01,  2.8857e-01,  6.1890e-02, -3.0713e-01,\n",
            "         -1.4807e-01, -3.5278e-01, -5.3406e-02, -2.7661e-01, -4.5117e-01,\n",
            "          4.7119e-02,  2.2766e-01, -6.7090e-01,  5.9961e-01, -8.2214e-02,\n",
            "          2.7664e-02, -1.1025e+00,  2.7026e-01, -6.9092e-01, -2.7246e-01,\n",
            "          2.4216e-02,  1.3428e-01, -3.7646e-01, -8.6328e-01,  9.2896e-02,\n",
            "          2.0215e-01,  1.2476e-01, -2.9224e-01,  4.5605e-01,  5.9180e-01,\n",
            "         -4.8584e-01, -1.0486e-01,  6.8701e-01, -5.6738e-01,  5.5127e-01,\n",
            "          1.8079e-01, -7.4023e-01, -8.1885e-01, -9.1095e-03, -2.6904e-01,\n",
            "         -1.0020e+00,  3.9771e-01, -2.3108e-01,  1.2129e+00, -1.6138e-01,\n",
            "         -3.0225e-01, -7.8984e+00,  4.8828e-01,  1.4038e-01, -1.0516e-01,\n",
            "         -5.8167e-02, -6.7578e-01,  9.5068e-01, -3.7158e-01, -2.8839e-03,\n",
            "          3.7646e-01, -5.7324e-01, -4.7168e-01,  3.5010e-01,  3.6279e-01,\n",
            "          2.6782e-01,  4.0576e-01,  5.8008e-01, -1.3733e-01, -5.6592e-01,\n",
            "          3.1421e-01,  5.7812e-01,  9.9854e-02,  1.6199e-01, -7.9346e-02,\n",
            "         -4.1431e-01, -4.1968e-01,  3.4741e-01, -1.8237e-01,  4.3610e-02,\n",
            "         -1.1511e-01,  3.0249e-01, -6.2408e-02,  7.2998e-01,  6.8164e-01,\n",
            "          7.1338e-01, -3.5156e-01, -1.0651e-01,  5.0391e-01,  1.3074e-01,\n",
            "         -1.8884e-01,  2.2900e-01, -2.9663e-02,  5.1758e-01,  4.7583e-01,\n",
            "         -2.7930e-01, -7.5488e-01, -1.4294e-01, -3.2425e-03,  9.4727e-02,\n",
            "         -5.9387e-02, -5.4535e-02, -5.9131e-01,  4.9072e-01,  4.5850e-01,\n",
            "         -5.0732e-01,  8.2373e-01, -2.6465e-01, -1.6138e-01,  2.2021e-01,\n",
            "         -6.8604e-01,  1.3684e-01,  3.7201e-02, -3.8647e-01,  3.8696e-01,\n",
            "          4.1724e-01, -2.4402e-01,  5.1239e-02,  9.8816e-02, -3.4546e-01,\n",
            "         -3.5217e-02,  1.3818e-01,  2.2180e-01,  1.6125e-01, -1.5601e-01,\n",
            "         -1.3831e-01, -5.3680e-02,  4.8950e-01,  1.6882e-01,  4.8999e-01,\n",
            "          6.1646e-02, -4.4702e-01, -8.8770e-01, -7.2266e-02,  7.3682e-01,\n",
            "         -3.5156e-01, -4.6509e-02,  1.7053e-01,  3.7231e-01,  7.4316e-01,\n",
            "          4.2505e-01,  1.8225e-01,  5.3619e-02, -1.6187e-01, -3.4607e-02,\n",
            "          3.0396e-01, -1.8054e-01,  1.0244e+00, -8.1152e-01,  1.0791e-01,\n",
            "         -2.5513e-01,  1.4905e-01,  3.8672e-01,  3.4692e-01, -3.4766e-01,\n",
            "         -1.1511e-01,  2.1875e-01, -1.4175e-02,  4.7290e-01,  6.1963e-01,\n",
            "          1.8433e-02,  2.9102e-01,  3.5986e-01,  2.4377e-01, -9.1553e-02,\n",
            "         -5.1544e-02,  3.0981e-01, -1.4209e-01, -4.6826e-01,  4.6753e-02,\n",
            "          1.0225e+00,  5.7910e-01, -2.8149e-01,  2.7563e-01,  5.5518e-01,\n",
            "          7.4648e+00,  3.9136e-01, -5.1666e-02,  2.3145e-01, -2.5488e-01,\n",
            "         -4.8438e-01,  8.8037e-01,  5.8545e-01, -1.9312e-01, -3.5449e-01,\n",
            "          2.8625e-02,  2.9443e-01,  8.5107e-01,  1.1084e+00, -9.8145e-02,\n",
            "         -8.2080e-01, -2.6993e-02,  6.7188e-01, -8.4814e-01,  4.4287e-01,\n",
            "         -2.9370e-01,  6.9031e-02,  1.4368e-01,  3.3142e-02, -5.0598e-02,\n",
            "          2.0117e-01,  3.0176e-01, -1.0803e-01,  7.0007e-02,  5.7324e-01,\n",
            "          8.1909e-02, -1.2219e-01, -6.1462e-02, -3.6621e-01, -3.9819e-01,\n",
            "          1.1395e-01,  5.3564e-01, -3.9307e-01, -2.2522e-01,  2.5952e-01,\n",
            "          2.0996e-01,  2.7612e-01,  5.1178e-02,  3.0298e-01,  1.6138e-01,\n",
            "         -6.8262e-01,  6.5625e-01, -3.8110e-01, -1.3245e-01, -6.1377e-01,\n",
            "         -2.6245e-01,  7.7209e-02, -4.8462e-01, -9.1113e-01, -5.5273e-01,\n",
            "         -5.6787e-01, -9.7412e-02, -1.4343e-01, -1.0205e-01, -1.3390e-02,\n",
            "          3.7427e-01,  4.4360e-01,  1.1945e-01,  4.5312e-01, -6.0400e-01,\n",
            "         -3.1445e-01, -8.4595e-02, -1.3171e-01, -2.8857e-01,  3.9526e-01,\n",
            "          6.0547e-01, -2.6184e-02, -5.3906e-01, -3.0908e-01, -3.5840e-01,\n",
            "         -8.2422e-01, -3.3789e-01, -1.6504e-01,  1.7578e-01,  4.6875e-01,\n",
            "          2.1875e-01, -1.1124e-02, -1.8494e-01,  1.1450e-01,  2.4963e-01,\n",
            "          2.1045e-01,  2.2510e-01,  4.6655e-01, -1.1865e+00,  6.3135e-01,\n",
            "         -2.2308e-02,  3.7231e-01, -1.3538e-01,  5.2441e-01,  4.4727e-01,\n",
            "          7.0992e-03, -3.0347e-01,  3.3228e-01, -4.4019e-01, -6.4258e-01,\n",
            "         -4.3359e-01, -3.7769e-01, -4.3945e-01,  2.1692e-01, -1.3584e+00,\n",
            "         -4.8242e-01,  6.9153e-02,  3.8910e-02, -1.0815e-01,  4.2114e-01,\n",
            "          2.4780e-01, -5.3223e-01,  4.2480e-01,  3.1104e-01, -1.9727e-01,\n",
            "         -1.6525e-02, -1.2168e+00,  1.3977e-01, -4.8486e-01, -1.3416e-01,\n",
            "         -4.6899e-01,  1.5723e-01, -3.5083e-01,  8.0338e-03, -3.0103e-01,\n",
            "          2.5244e-01,  3.1787e-01, -8.2910e-01,  4.2529e-01, -2.7271e-01,\n",
            "         -4.2801e-03, -6.1475e-01, -4.4116e-01,  4.2871e-01,  6.8213e-01,\n",
            "          1.1368e-02,  2.3718e-01,  3.1714e-01,  2.3535e-01, -3.5669e-01,\n",
            "         -5.0928e-01, -6.9153e-02, -2.6318e-01, -5.2490e-01, -2.0370e-02,\n",
            "          4.1772e-01,  7.7515e-02,  5.4102e-01, -3.7079e-02, -1.0498e-01,\n",
            "          2.9395e-01,  2.1692e-01, -3.8501e-01, -2.7832e-01, -2.8613e-01,\n",
            "          1.1261e-01,  5.1074e-01, -4.8999e-01,  8.3069e-02,  2.3438e-01,\n",
            "         -2.6416e-01, -5.9375e-01,  2.9028e-01,  2.9297e-01, -4.9896e-02,\n",
            "         -7.5977e-01,  3.9893e-01,  3.6011e-01,  2.4768e-01, -5.7422e-01,\n",
            "          1.4210e-03, -2.5732e-01, -6.8457e-01, -8.7744e-01,  3.3350e-01,\n",
            "         -5.9473e-01, -4.1479e-01, -5.6445e-01,  1.1249e-01,  2.4731e-01,\n",
            "          6.9702e-02, -3.8989e-01, -9.5764e-02, -4.1699e-01, -3.4155e-01,\n",
            "         -4.3579e-01, -4.2871e-01,  9.4238e-02, -2.4866e-01,  1.4209e-01,\n",
            "         -9.4092e-01,  7.9688e-01, -1.1987e-01,  7.8857e-02, -4.1064e-01,\n",
            "         -2.1497e-01,  3.0103e-01,  3.0786e-01,  3.6670e-01,  1.2445e-01,\n",
            "         -1.3696e-01,  3.0786e-01, -3.0273e-02, -8.9551e-01,  8.1201e-01,\n",
            "          1.0553e-01, -7.7698e-02, -2.5781e-01,  1.8341e-02, -7.5195e-01,\n",
            "          1.4209e-01,  4.0649e-01,  3.2324e-01,  7.0152e-03, -1.5051e-01,\n",
            "         -2.7197e-01, -6.6711e-02,  7.9163e-02,  2.4854e-01,  8.4570e-01,\n",
            "          3.5864e-01,  4.6631e-01, -4.7119e-01, -4.5471e-02,  4.6313e-01,\n",
            "         -7.3389e-01, -1.1615e-01,  1.0293e+00,  2.3230e-01, -2.1286e-02,\n",
            "          4.1113e-01,  3.2275e-01, -1.8481e-01, -5.2539e-01, -2.1469e-02,\n",
            "         -1.0956e-01, -1.4331e-01, -3.4717e-01, -2.5757e-01,  3.2422e-01,\n",
            "         -8.9990e-01,  3.6182e-01,  3.4271e-02,  1.9226e-01,  3.0200e-01,\n",
            "         -1.0614e-01,  5.7324e-01,  2.3621e-02, -2.5711e-02,  5.7910e-01,\n",
            "          3.5864e-01,  4.4653e-01, -7.8796e-02, -1.7419e-01,  1.7212e-01,\n",
            "         -4.8071e-01,  1.8274e-01, -6.8799e-01,  1.3745e-01,  2.5513e-01,\n",
            "          1.8152e-01, -1.8408e-01, -2.0279e-02, -8.7305e-01,  1.8890e-02,\n",
            "          4.1504e-01, -7.0312e-02, -2.4390e-01, -2.5000e-01,  5.5725e-02,\n",
            "         -2.4368e-02,  3.0908e-01, -3.7354e-02,  4.6973e-01,  6.3525e-01,\n",
            "          7.6843e-02, -3.5645e-01, -3.8843e-01, -1.0400e+00,  6.0516e-02,\n",
            "          2.0493e-02,  7.2412e-01,  2.8296e-01, -1.0381e+00,  1.0215e+00,\n",
            "          4.4946e-01, -1.5295e-01,  1.0992e-01,  6.2012e-01,  7.2705e-01,\n",
            "         -8.7280e-02, -1.9104e-01, -3.6328e-01, -5.7764e-01, -6.8408e-01,\n",
            "          3.2666e-01, -4.0131e-02,  4.2798e-01,  3.4521e-01, -3.2251e-01,\n",
            "         -3.3667e-01, -2.7686e-01, -3.1494e-01, -9.7046e-02,  7.0947e-01,\n",
            "          3.4619e-01,  6.6016e-01,  1.6602e-01,  3.6108e-01, -1.0809e-01,\n",
            "         -4.9561e-02, -2.8442e-01,  6.1572e-01, -3.2684e-02,  2.5757e-01,\n",
            "         -8.2245e-03, -9.3750e-02,  3.1030e-01, -5.8929e-02,  3.0420e-01,\n",
            "          9.1992e-01, -8.3594e-01,  9.0186e-01,  1.6931e-01, -3.1885e-01,\n",
            "          4.0723e-01,  9.8755e-02,  1.0034e-01]], dtype=torch.float16), 'How many buildings are flooded?': tensor([[-4.6021e-01,  1.2042e-01,  6.2158e-01,  4.1821e-01, -1.9812e-01,\n",
            "          6.4697e-02, -3.7451e-01, -3.5205e-01, -1.2585e-01,  7.6709e-01,\n",
            "         -7.0679e-02, -8.9355e-02,  8.6548e-02, -4.2310e-01, -4.2676e-01,\n",
            "          4.4653e-01,  5.7487e-03, -1.1432e-01,  1.3281e-01, -4.1675e-01,\n",
            "         -7.2937e-02,  2.5952e-01, -1.4746e-01,  3.7573e-01,  6.4941e-02,\n",
            "         -2.3523e-01,  3.5400e-01,  4.7144e-01,  4.2114e-01,  1.8225e-01,\n",
            "         -1.3281e-01, -1.3574e-01,  9.1858e-02, -1.1318e+00, -1.6211e-01,\n",
            "          2.6099e-01, -4.2944e-01,  2.5708e-01,  1.5845e-01, -2.3865e-01,\n",
            "         -6.4111e-01, -7.3877e-01, -4.5703e-01, -6.4795e-01, -5.1056e-02,\n",
            "          5.0098e-01, -2.7222e-01,  1.8579e-01,  1.8753e-02, -4.1846e-01,\n",
            "         -2.3022e-01, -2.9883e-01,  1.6467e-01,  9.8584e-01,  6.9519e-02,\n",
            "         -4.8120e-01,  8.9661e-02,  3.4692e-01, -5.5371e-01, -1.9690e-01,\n",
            "          6.7090e-01,  7.1680e-01, -2.1057e-01,  4.7363e-01, -2.9858e-01,\n",
            "         -8.3496e-01, -2.1228e-01,  2.6685e-01,  1.2408e-01,  4.2725e-01,\n",
            "          1.7078e-01, -2.2986e-01, -8.7402e-02, -1.4294e-01, -1.6739e-02,\n",
            "         -7.5635e-01,  2.6352e-02,  3.7109e-01, -9.3115e-01, -7.9150e-01,\n",
            "         -1.1700e-01,  1.1023e-01, -5.8740e-01,  4.1772e-01,  1.2781e-01,\n",
            "         -7.7820e-02, -1.4136e-01, -2.5000e-01, -7.7441e-01, -1.8005e-02,\n",
            "         -2.6660e-01,  7.5012e-02,  4.6661e-02,  6.0059e-02,  2.4438e-01,\n",
            "         -4.4214e-01, -5.5634e-02, -4.7058e-02,  2.8345e-01, -3.5205e-01,\n",
            "          3.3508e-02,  8.7402e-02,  3.4668e-01,  4.8120e-01, -7.1680e-01,\n",
            "          2.8223e-01,  8.6121e-02,  4.8120e-01,  8.1055e-01,  2.2729e-01,\n",
            "         -2.5024e-01, -2.2241e-01, -3.7988e-01,  1.8372e-01,  5.2295e-01,\n",
            "         -5.4688e-02, -9.4055e-02,  1.1884e-01,  5.4413e-02,  2.0972e-01,\n",
            "         -3.3789e-01, -3.0664e-01,  4.9438e-02,  1.7029e-01, -6.7078e-02,\n",
            "          2.0630e-01,  5.4883e-01, -1.6272e-01,  1.3313e-02,  1.5967e-01,\n",
            "         -9.8242e-01, -2.0459e-01, -4.8126e-02,  8.0017e-02, -7.3486e-01,\n",
            "         -7.7881e-01,  2.1936e-01,  3.9111e-01,  1.5381e-01,  6.4844e-01,\n",
            "          3.3960e-01, -1.1475e-01,  7.9590e-02, -4.3335e-01,  1.8176e-01,\n",
            "         -5.3564e-01,  4.2041e-01,  3.9453e-01, -6.8994e-01, -2.0667e-01,\n",
            "         -1.8347e-01, -2.5589e-02, -6.0303e-01,  2.5513e-01,  4.9561e-01,\n",
            "         -1.3599e-01,  5.0201e-02, -1.5051e-01,  4.5825e-01, -5.5420e-01,\n",
            "         -8.0795e-03,  2.8198e-01,  3.7744e-01, -3.6206e-01,  5.0977e-01,\n",
            "         -1.3586e-01, -2.8125e-01,  3.1763e-01, -2.3889e-01, -1.1955e-02,\n",
            "          9.6558e-02,  3.6938e-01, -2.0288e-01, -1.8457e-01, -1.1438e-01,\n",
            "         -6.6956e-02, -6.2061e-01,  8.9661e-02, -2.4634e-01, -4.1797e-01,\n",
            "         -3.5205e-01,  1.1176e-01, -4.4891e-02,  5.1416e-01, -3.5425e-01,\n",
            "         -3.8428e-01, -5.6000e-02, -1.0553e-01, -4.1284e-01, -4.2432e-01,\n",
            "          3.0835e-01,  1.7725e-01, -3.3154e-01, -3.1097e-02, -1.5808e-02,\n",
            "         -2.3691e+00,  1.4636e-01,  3.3594e-01,  5.9912e-01, -9.3115e-01,\n",
            "         -5.2832e-01,  6.6504e-01, -5.2637e-01,  1.0822e-01,  2.9614e-01,\n",
            "          2.6685e-01,  2.3560e-01,  9.3933e-02, -7.5537e-01, -3.6697e-03,\n",
            "          5.2734e-02, -3.5059e-01, -3.4332e-02,  2.0886e-01, -7.8516e-01,\n",
            "         -1.9287e-01, -1.7871e-01, -1.6199e-01,  3.2056e-01,  5.4443e-01,\n",
            "          6.6956e-02, -1.4331e-01,  6.3330e-01,  5.1318e-01, -1.5881e-01,\n",
            "          6.6455e-01, -2.8442e-01, -2.2009e-01,  1.3049e-01, -4.0869e-01,\n",
            "         -3.2837e-02,  8.3801e-02,  4.0430e-01, -5.9033e-01, -8.7695e-01,\n",
            "          4.9707e-01,  3.4668e-01,  8.3801e-02, -1.1932e-01,  4.2896e-01,\n",
            "          6.4453e-01, -3.0322e-01, -9.2712e-02,  9.8694e-02,  2.7246e-01,\n",
            "          3.1274e-01, -1.9458e-01, -1.6431e-01, -1.5552e-01,  3.5059e-01,\n",
            "         -5.9717e-01, -5.5811e-01,  2.3148e-02, -6.7188e-01, -4.2542e-02,\n",
            "          1.1542e-01,  1.7249e-01,  6.7871e-01,  1.6199e-01,  1.0144e-01,\n",
            "         -4.5654e-01, -9.4482e-02, -3.9795e-01, -1.4636e-01, -3.1738e-01,\n",
            "          1.5906e-01,  4.0186e-01,  1.4221e-01, -1.2006e-01, -1.1926e-01,\n",
            "         -2.8052e-01,  8.3154e-01, -9.0088e-02,  5.3802e-02, -4.0356e-01,\n",
            "          1.0925e-01, -1.9116e-01,  3.4302e-01, -4.4312e-02,  1.6260e-01,\n",
            "         -2.6215e-02,  9.3066e-01, -1.0957e+00,  2.1838e-01,  5.5511e-02,\n",
            "         -2.2351e-01, -1.3037e+00,  2.3096e-01, -1.9541e+00, -4.0015e-01,\n",
            "          1.3806e-01,  5.8031e-04, -1.5442e-01, -4.8682e-01, -1.6441e-03,\n",
            "          1.2091e-01,  4.3823e-01, -3.8623e-01,  6.5576e-01,  4.5557e-01,\n",
            "         -4.8309e-02,  7.8857e-02,  4.8804e-01, -3.5742e-01,  7.5391e-01,\n",
            "          4.5068e-01, -2.1973e-01, -8.4229e-01, -1.9263e-01, -3.8013e-01,\n",
            "         -4.3262e-01, -4.9133e-02, -5.8960e-02,  8.3252e-01, -2.0667e-01,\n",
            "         -5.9912e-01, -9.3203e+00,  5.7617e-01,  1.1572e-01, -6.3232e-02,\n",
            "         -1.7224e-01, -3.6279e-01,  7.6709e-01, -4.1187e-01, -2.8473e-02,\n",
            "          1.0431e-01, -3.1421e-01,  5.8472e-02,  9.1492e-02, -1.7871e-01,\n",
            "          9.8633e-02,  3.0981e-01,  9.2346e-02,  1.3220e-01,  2.2507e-04,\n",
            "          2.0142e-01,  3.1787e-01,  1.0449e-01,  6.1230e-01, -1.4978e-01,\n",
            "          2.1458e-03, -5.9082e-02,  4.2084e-02,  1.5613e-01,  4.9780e-01,\n",
            "         -2.6489e-01,  3.7256e-01, -1.0339e-01,  5.2148e-01,  7.3242e-01,\n",
            "          4.5703e-01,  7.6416e-02,  4.6777e-01,  3.2886e-01,  2.8931e-01,\n",
            "         -2.4963e-01,  1.4062e-01, -2.1997e-01,  4.6436e-01, -9.3750e-02,\n",
            "          4.8120e-01, -8.9697e-01, -4.2798e-01, -3.6646e-01, -9.9976e-02,\n",
            "         -2.5854e-01, -3.5156e-01, -4.0967e-01,  4.2847e-01,  4.3433e-01,\n",
            "         -3.7354e-01,  9.4141e-01, -5.2930e-01, -3.9429e-02,  1.6125e-01,\n",
            "         -2.4255e-01,  5.9052e-02, -2.8735e-01, -2.3853e-01, -1.0262e-02,\n",
            "         -3.6475e-01,  1.3145e-02,  7.8796e-02,  1.9592e-01, -3.0273e-01,\n",
            "         -1.9836e-01, -6.2256e-02,  2.0837e-01,  2.6782e-01, -1.1072e-01,\n",
            "         -3.1299e-01, -1.8396e-01, -1.3123e-01,  2.4609e-01,  8.5449e-01,\n",
            "          4.3182e-02, -5.0195e-01, -2.0959e-01, -1.1615e-01,  6.4014e-01,\n",
            "         -7.6367e-01, -1.4697e-01,  4.3799e-01,  5.0684e-01, -1.7365e-02,\n",
            "          3.9014e-01, -2.3560e-01,  2.4280e-01, -1.5125e-01, -2.0471e-01,\n",
            "          5.0879e-01, -3.4326e-01,  8.1836e-01, -1.1465e+00,  1.7273e-01,\n",
            "         -1.6504e-01, -2.0081e-01,  1.4282e-01,  3.3838e-01, -2.8809e-01,\n",
            "          1.0461e-01,  1.8115e-01, -4.1168e-02,  1.5771e-01,  5.0537e-01,\n",
            "          2.4402e-01,  4.5142e-01,  3.8306e-01, -5.2185e-02,  3.1769e-02,\n",
            "         -3.4180e-01,  2.5635e-01,  2.4133e-01, -5.6641e-01, -4.8828e-02,\n",
            "          9.3750e-01,  3.1396e-01, -1.1560e-01,  1.7993e-01,  7.3438e-01,\n",
            "          8.1641e+00, -8.2886e-02,  3.5791e-01,  2.7319e-01, -4.4287e-01,\n",
            "         -6.0107e-01,  7.2998e-01,  2.9639e-01, -6.0498e-01, -1.5898e-03,\n",
            "         -6.5967e-01,  9.9731e-02,  8.0225e-01,  7.4805e-01, -1.7969e-01,\n",
            "         -4.7021e-01,  2.2449e-01,  2.8979e-01, -1.1553e+00,  4.0088e-01,\n",
            "         -1.7078e-01,  8.5510e-02,  7.4280e-02, -3.5889e-01,  2.3877e-01,\n",
            "          4.0845e-01,  1.1818e-02, -4.8145e-01,  3.6963e-01,  1.0234e+00,\n",
            "          3.8184e-01, -1.0632e-01,  9.2590e-02, -3.4424e-01, -2.8833e-01,\n",
            "         -3.1311e-02, -1.3647e-01, -1.1475e-01, -2.0752e-01,  6.6113e-01,\n",
            "          3.9703e-02,  1.1810e-01, -6.5247e-02,  3.0981e-01,  2.7515e-01,\n",
            "         -5.6982e-01,  2.3157e-01, -4.3848e-01,  2.3816e-01, -2.8955e-01,\n",
            "         -1.0413e-01,  4.5190e-01, -5.9814e-01, -6.7920e-01, -3.0664e-01,\n",
            "         -5.1562e-01, -3.2617e-01, -1.5881e-01, -3.0298e-01, -1.9702e-01,\n",
            "          1.4844e-01,  5.6641e-01,  2.8366e-02,  1.5747e-01, -3.4595e-01,\n",
            "         -2.4719e-01,  5.7373e-02, -9.8206e-02, -2.8671e-02, -6.6162e-02,\n",
            "          3.2275e-01, -3.9185e-01, -7.2998e-01,  1.0483e-02, -3.0713e-01,\n",
            "         -8.1738e-01, -4.4116e-01,  2.4948e-02,  1.4392e-01,  3.5181e-01,\n",
            "         -4.1675e-01,  2.1167e-01, -8.6914e-02, -1.3733e-01,  4.4360e-01,\n",
            "          2.8296e-01, -8.0505e-02,  1.0449e-01, -3.6743e-01,  3.7280e-01,\n",
            "          7.2144e-02,  4.3921e-01, -2.0288e-01,  4.6631e-01,  3.1250e-01,\n",
            "         -2.3840e-01,  3.4424e-02, -2.5269e-02, -1.8445e-01, -7.3193e-01,\n",
            "         -4.0234e-01, -3.5962e-01, -4.3652e-01,  6.0760e-02, -1.0410e+00,\n",
            "         -2.8394e-01,  1.0883e-01,  4.7900e-01,  2.9370e-01,  3.0811e-01,\n",
            "          2.6074e-01, -3.6377e-01,  5.5859e-01,  3.2275e-01, -8.6609e-02,\n",
            "          6.1981e-02, -1.2002e+00, -2.3535e-01, -4.1602e-01,  3.1128e-02,\n",
            "         -5.2246e-01,  1.3086e-01,  2.4365e-01,  6.0730e-02,  2.4612e-02,\n",
            "         -1.6211e-01,  3.1641e-01, -4.7559e-01,  4.3042e-01, -2.8979e-01,\n",
            "         -3.5797e-02, -2.5562e-01, -4.6240e-01,  5.0195e-01,  4.4849e-01,\n",
            "          2.4585e-01,  8.3374e-02,  2.2205e-01,  6.0400e-01, -3.1030e-01,\n",
            "         -2.3706e-01, -1.3831e-01, -1.4026e-01, -1.6064e-01, -4.1016e-01,\n",
            "          2.9956e-01, -1.3379e-01,  6.8164e-01, -6.4990e-01, -3.3179e-01,\n",
            "          6.3770e-01,  1.6162e-01, -1.8640e-01, -1.3232e-01, -3.4009e-01,\n",
            "         -1.6736e-01,  4.6021e-01, -7.5000e-01,  1.6724e-01, -6.4331e-02,\n",
            "         -4.8462e-02, -4.9536e-01,  1.2451e-01, -1.8774e-01, -1.0913e-01,\n",
            "         -1.5889e+00,  3.2080e-01,  1.5967e-01,  4.0845e-01, -3.5059e-01,\n",
            "          1.2537e-01, -1.4839e-02, -4.3701e-01, -8.0420e-01, -2.0923e-01,\n",
            "         -6.1426e-01, -3.9990e-01, -5.6592e-01,  9.9121e-02,  1.8079e-01,\n",
            "          7.7637e-01, -6.3281e-01, -7.9895e-02, -5.1807e-01, -3.9868e-01,\n",
            "         -2.7246e-01, -3.5309e-02, -1.1182e-01,  5.3589e-02,  6.1475e-01,\n",
            "         -2.8369e-01,  2.2302e-01, -5.4932e-01, -9.7107e-02,  1.9580e-01,\n",
            "         -1.4600e-01,  1.1774e-01,  3.2495e-01,  4.3042e-01,  5.1172e-01,\n",
            "         -1.6797e-01, -1.8396e-01, -1.9714e-01, -7.2949e-01,  1.1426e+00,\n",
            "         -7.4158e-02,  6.3843e-02, -1.7163e-01,  9.3872e-02, -3.3716e-01,\n",
            "          2.7710e-01,  4.0576e-01, -7.1228e-02,  1.6064e-01, -4.9072e-01,\n",
            "         -3.6914e-01,  3.9941e-01,  2.6465e-01,  3.8647e-01,  4.4824e-01,\n",
            "          1.8115e-01,  6.5674e-01,  2.1716e-01, -4.8047e-01, -2.6978e-02,\n",
            "         -3.8818e-01, -4.8511e-01,  1.2793e+00,  4.7607e-01,  9.6924e-02,\n",
            "          1.0040e-01, -1.5671e-02, -2.6587e-01, -4.7925e-01, -1.6321e-01,\n",
            "          1.2988e-01,  3.8239e-02, -7.3828e-01, -2.2314e-01,  3.9233e-01,\n",
            "         -6.0498e-01,  6.0516e-02,  1.0815e-01,  3.0786e-01,  6.2805e-02,\n",
            "         -1.1932e-01,  5.3662e-01, -8.7280e-02, -1.6187e-01, -1.2769e-01,\n",
            "          8.9600e-01, -2.8540e-01,  3.2031e-01, -3.1323e-01, -2.0599e-02,\n",
            "         -3.3008e-01,  8.3252e-01, -3.9160e-01, -1.0443e-01, -2.1194e-02,\n",
            "          4.3335e-01,  3.1055e-01,  1.0895e-01, -7.5732e-01, -3.1567e-01,\n",
            "          3.8110e-01, -2.2522e-01, -5.5695e-02, -5.1270e-01,  1.1121e-01,\n",
            "          5.9814e-02,  2.0886e-01,  1.6937e-02,  1.7773e-01,  4.8706e-01,\n",
            "          4.3579e-01, -5.3589e-02, -4.8218e-01, -6.2158e-01,  8.5144e-02,\n",
            "         -3.1226e-01,  3.8135e-01,  4.3823e-01, -1.0107e+00,  3.7476e-01,\n",
            "         -2.1753e-01, -3.5083e-01,  1.2445e-01,  5.5811e-01,  3.5815e-01,\n",
            "         -2.8198e-01, -1.9495e-01, -2.4109e-01, -5.7520e-01, -6.7725e-01,\n",
            "         -1.1224e-01, -3.9575e-01,  6.8262e-01, -1.9482e-01, -5.8691e-01,\n",
            "          1.1145e-01, -2.5903e-01, -1.9241e-02, -6.3477e-01,  5.5615e-01,\n",
            "          2.8534e-02,  4.3091e-01, -1.4368e-01,  3.2318e-02, -2.1985e-01,\n",
            "          2.1973e-02, -4.9683e-01,  6.1182e-01,  1.0791e-01,  1.4453e-01,\n",
            "          1.2256e-01, -1.3013e-01, -1.2732e-01, -4.4006e-02,  1.8530e-01,\n",
            "          8.6670e-01, -6.5283e-01,  5.7520e-01, -3.0469e-01, -1.8079e-01,\n",
            "          2.9980e-01, -7.5562e-02, -4.0625e-01]], dtype=torch.float16), 'How many buildings are in the image?': tensor([[-3.9380e-01, -1.1829e-01,  7.7393e-01,  8.5010e-01, -1.9495e-01,\n",
            "          2.1387e-01, -2.2485e-01,  3.3130e-01, -4.4800e-01, -2.1558e-01,\n",
            "         -1.1554e-01, -6.1670e-01, -2.0349e-01, -3.1250e-01, -4.2065e-01,\n",
            "          1.5210e-01,  7.7100e-01, -3.9233e-01,  1.3660e-01, -5.1807e-01,\n",
            "          6.2744e-01,  1.8652e-01, -2.6660e-01,  9.3164e-01,  8.5388e-02,\n",
            "         -2.2314e-01, -7.8174e-01, -4.2725e-01,  4.8950e-01,  1.7822e-01,\n",
            "         -9.4971e-02,  4.9731e-01,  2.9266e-02, -9.6240e-01, -2.4646e-01,\n",
            "          6.5552e-02,  1.2115e-01, -1.6992e-01, -1.8481e-01,  3.3594e-01,\n",
            "         -1.5002e-01, -2.6465e-01, -4.1577e-01, -2.8589e-01, -3.4473e-01,\n",
            "          4.9902e-01,  3.1830e-02,  3.0884e-01,  5.3857e-01, -3.2153e-01,\n",
            "         -1.6638e-01, -6.9287e-01,  5.9570e-01,  5.1221e-01, -3.5864e-01,\n",
            "         -6.2695e-01,  3.0444e-01, -1.5430e-01, -4.9164e-02, -3.9038e-01,\n",
            "          6.2683e-02, -6.7383e-02, -8.9453e-01,  5.4395e-01, -2.5195e-01,\n",
            "          9.3750e-02, -2.1436e-01,  2.3193e-01, -2.5122e-01,  4.3152e-02,\n",
            "          5.2197e-01,  3.9948e-02, -1.3916e-01, -7.7148e-01,  1.4099e-01,\n",
            "         -4.9829e-01,  4.5258e-02,  1.9275e-01, -4.7095e-01,  1.2146e-01,\n",
            "         -2.8760e-01, -6.8542e-02, -1.6443e-01,  5.6494e-01,  2.5928e-01,\n",
            "          4.6484e-01,  1.0138e-01, -5.4688e-01, -1.1562e+00, -4.6729e-01,\n",
            "          1.0962e-01, -1.1469e-01,  2.8735e-01, -1.5649e-01, -1.5918e-01,\n",
            "         -2.2693e-01, -1.6724e-01, -9.4910e-02, -9.6436e-02, -4.7217e-01,\n",
            "         -5.7422e-01,  1.9116e-01,  1.5845e-01,  7.3145e-01, -5.3284e-02,\n",
            "          2.0679e-01,  3.6450e-01,  1.7792e-02,  1.0293e+00,  9.2334e-01,\n",
            "          1.3000e-01,  3.6621e-02, -1.4453e-01,  1.4893e-01, -1.0138e-01,\n",
            "         -4.3481e-01, -2.1130e-01, -7.0508e-01, -3.2764e-01,  5.1758e-01,\n",
            "         -1.4087e-01,  2.2815e-01,  3.5449e-01, -1.6125e-01,  2.4646e-01,\n",
            "          5.8643e-01,  3.4973e-02,  2.3145e-01, -7.0915e-03, -1.4795e-01,\n",
            "         -1.4050e-01,  3.3032e-01, -3.2135e-02,  1.8628e-01, -8.3691e-01,\n",
            "         -5.1904e-01, -2.6562e-01,  1.9067e-01,  6.5381e-01, -5.5511e-02,\n",
            "         -1.5015e-01, -1.3184e-01,  9.2773e-01, -6.9092e-01,  2.1741e-01,\n",
            "         -9.4531e-01,  3.0933e-01,  8.4912e-01, -1.0931e-01, -3.0457e-02,\n",
            "          5.6732e-02, -6.1218e-02, -1.2378e-01,  1.6064e-01,  3.2227e-01,\n",
            "         -4.2920e-01, -2.1252e-01,  2.8003e-01,  3.8269e-02, -4.7363e-01,\n",
            "          3.8208e-02,  1.4496e-02,  2.8662e-01, -5.6250e-01, -4.0796e-01,\n",
            "          6.7444e-02, -1.7175e-01, -5.3564e-01,  4.1412e-02, -4.5508e-01,\n",
            "         -1.1450e-01,  1.8799e-01, -1.8774e-01,  1.1589e-02,  5.2490e-01,\n",
            "         -2.5415e-01, -2.5562e-01, -5.7080e-01,  2.8418e-01, -2.9639e-01,\n",
            "         -6.1890e-02, -4.2450e-02, -3.3789e-01,  3.2617e-01,  3.9673e-02,\n",
            "         -6.0254e-01,  2.3035e-01,  7.1838e-02,  2.3828e-01, -1.9043e-01,\n",
            "          3.4741e-01,  3.5938e-01, -3.2104e-01, -4.6387e-01, -1.9995e-01,\n",
            "         -2.1582e+00, -3.0640e-01,  7.0947e-01,  6.2354e-01, -5.3662e-01,\n",
            "         -3.7506e-02,  4.3921e-01, -1.1987e-01,  1.1456e-01,  3.5950e-02,\n",
            "          3.5986e-01,  2.7368e-01, -2.4634e-01,  1.9055e-01, -2.6929e-01,\n",
            "          1.8250e-01, -4.9634e-01, -1.6614e-01, -1.1224e-01, -5.3406e-02,\n",
            "          1.7029e-01, -4.2603e-02,  3.3081e-01,  3.4570e-01, -3.1952e-02,\n",
            "          2.0776e-01,  2.6172e-01,  6.4819e-02,  2.2461e-01, -1.7957e-01,\n",
            "          1.7212e-01, -3.7573e-01,  5.9052e-02,  4.8071e-01,  6.4430e-03,\n",
            "          3.4058e-01, -5.1611e-01, -3.1543e-01,  1.1554e-01, -4.1040e-01,\n",
            "          4.6484e-01,  6.6455e-01,  2.8809e-01, -3.5596e-01, -1.8616e-01,\n",
            "          5.1318e-01, -2.2363e-01, -2.0435e-01,  2.9199e-01,  3.0908e-01,\n",
            "          1.5015e-01, -2.3636e-02, -8.7891e-02, -1.1322e-01,  1.8384e-01,\n",
            "          2.2632e-01,  2.8052e-01,  3.1104e-01, -3.8135e-01,  2.5253e-03,\n",
            "         -9.4055e-02, -1.1945e-01,  3.2080e-01,  5.2765e-02, -4.3304e-02,\n",
            "         -1.4734e-01, -5.0049e-01, -6.0596e-01,  2.9834e-01, -1.6980e-01,\n",
            "          2.9004e-01,  3.2446e-01, -2.8296e-01, -2.1021e-01, -2.3889e-01,\n",
            "          5.2887e-02, -7.5806e-02,  2.5049e-01, -4.2065e-01,  3.3179e-01,\n",
            "         -2.6831e-01, -2.4951e-01, -4.4434e-01, -2.3346e-03, -5.1904e-01,\n",
            "          6.9275e-02,  2.9465e-02, -8.4229e-01,  8.1543e-01, -9.4421e-02,\n",
            "          3.6285e-02, -8.1152e-01,  1.4880e-01, -1.7383e+00, -2.7930e-01,\n",
            "          6.0986e-01,  4.5386e-01, -5.5762e-01, -3.8940e-01,  4.0015e-01,\n",
            "         -1.1816e-01,  2.3889e-01,  3.7866e-01,  5.1086e-02,  4.2749e-01,\n",
            "         -1.1920e-01, -1.5417e-01,  2.8906e-01, -3.1152e-01, -2.4365e-01,\n",
            "         -2.2925e-01, -8.4326e-01,  2.4426e-01,  3.4155e-01,  3.1338e-03,\n",
            "         -8.9795e-01,  3.1201e-01, -9.1370e-02,  7.3828e-01, -4.0186e-01,\n",
            "          1.2146e-01, -9.8750e+00,  2.7490e-01,  1.7517e-01, -3.1348e-01,\n",
            "         -5.5115e-02, -1.1963e+00,  6.9629e-01, -8.8623e-01, -2.1277e-01,\n",
            "          4.6680e-01, -3.1958e-01, -4.7607e-01, -4.8340e-02,  5.4382e-02,\n",
            "         -1.2183e-01,  5.2783e-01,  4.7803e-01, -1.2067e-01, -4.1968e-01,\n",
            "          3.0811e-01,  6.0205e-01, -2.2961e-01, -3.5010e-01,  2.5854e-01,\n",
            "         -4.5337e-01, -1.6077e-01,  2.9321e-01,  1.4595e-02, -1.8433e-01,\n",
            "          1.7761e-01,  3.5474e-01, -2.6440e-01, -1.2688e-02,  2.9688e-01,\n",
            "          3.9990e-01, -5.7404e-02, -5.2673e-02,  3.7256e-01,  1.1499e-01,\n",
            "          2.9126e-01,  2.5269e-01, -2.1729e-01,  5.2539e-01,  3.8965e-01,\n",
            "         -4.5654e-01, -6.6016e-01,  4.2139e-01,  3.8788e-02, -1.6443e-01,\n",
            "          2.2339e-01,  5.7471e-01, -4.4556e-01,  5.8545e-01,  4.0942e-01,\n",
            "         -4.5166e-01,  7.1240e-01,  3.1934e-01,  8.2336e-02, -1.9531e-01,\n",
            "         -6.6455e-01,  1.4185e-01, -8.5205e-02,  1.9080e-01,  3.7207e-01,\n",
            "          2.0361e-01,  7.8064e-02, -4.1357e-01, -3.9038e-01, -1.6370e-01,\n",
            "         -1.6064e-01,  3.7134e-01, -1.8152e-01,  2.6196e-01,  4.2053e-02,\n",
            "          1.9666e-01,  2.2095e-02,  1.0864e-01, -5.5518e-01,  4.8889e-02,\n",
            "         -1.6098e-02, -5.0732e-01, -7.8467e-01, -4.7095e-01, -7.1594e-02,\n",
            "         -3.1647e-02, -5.8496e-01,  1.1224e-01,  3.3838e-01,  1.0264e+00,\n",
            "          1.8164e-01,  2.9028e-01,  3.4790e-01, -2.9614e-01,  3.4961e-01,\n",
            "         -5.5908e-02,  2.5360e-02,  1.0156e+00, -1.1904e+00, -5.9113e-02,\n",
            "         -1.5649e-01, -1.0277e-02, -3.4912e-02,  1.9043e-01, -5.4443e-01,\n",
            "         -7.5378e-02,  2.1533e-01,  1.3074e-01,  5.8258e-02,  1.6992e-01,\n",
            "          1.6846e-02,  9.1064e-01,  2.9224e-01,  3.4106e-01,  2.6428e-02,\n",
            "         -2.1753e-01,  1.8494e-01, -5.5481e-02, -3.6768e-01,  3.1421e-01,\n",
            "          1.2217e+00,  7.1777e-01, -4.8120e-01,  1.2384e-01, -3.1958e-01,\n",
            "          8.9141e+00,  4.4043e-01,  2.6993e-02, -1.6626e-01, -5.6000e-02,\n",
            "          7.1716e-02,  8.4412e-02,  4.3457e-01, -1.9043e-01, -7.0610e-03,\n",
            "          4.3237e-01,  4.0796e-01,  9.5410e-01,  1.2930e+00, -2.7075e-01,\n",
            "         -1.8811e-01, -3.8623e-01,  3.6304e-01, -1.0166e+00, -1.8774e-01,\n",
            "          1.9702e-01, -1.2915e-01,  1.4478e-01,  3.1885e-01, -2.3877e-01,\n",
            "         -1.8457e-01, -4.4525e-02, -3.3936e-01,  2.3938e-01,  3.3130e-01,\n",
            "         -2.0630e-01, -2.2107e-01, -2.7124e-01, -9.8206e-02, -2.5830e-01,\n",
            "         -7.3486e-02,  2.2839e-01, -6.1066e-02, -1.1646e-01,  3.6621e-01,\n",
            "         -2.0923e-01,  4.0991e-01, -1.2901e-02,  4.0234e-01,  3.2928e-02,\n",
            "         -2.2974e-01,  6.2012e-01,  2.1375e-01,  3.2257e-02, -1.8823e-01,\n",
            "         -3.4741e-01,  1.9482e-01, -5.6006e-01, -3.6963e-01, -2.1887e-01,\n",
            "         -1.7871e-01, -3.0127e-01, -2.2424e-01,  3.5004e-02, -4.9286e-02,\n",
            "          1.5344e-01, -9.8267e-02,  2.6147e-01, -2.1301e-01, -4.8706e-01,\n",
            "         -6.3672e-01,  1.1346e-01, -3.3325e-01, -6.2256e-01,  7.7930e-01,\n",
            "         -2.4390e-01,  1.8115e-01, -4.7363e-01, -4.3286e-01, -3.6475e-01,\n",
            "         -5.2551e-02, -1.5979e-01, -2.6505e-02, -6.8652e-01,  9.4727e-01,\n",
            "          5.8887e-01,  1.8774e-01,  9.9426e-02,  4.4751e-01,  6.2927e-02,\n",
            "         -1.8982e-01,  1.4966e-01,  2.6929e-01, -1.6631e+00,  2.8223e-01,\n",
            "         -7.6172e-01,  3.8525e-01,  8.7219e-02,  9.7168e-02,  6.2207e-01,\n",
            "          6.8750e-01, -2.3047e-01,  5.1709e-01, -4.1724e-01, -2.4255e-01,\n",
            "         -2.1423e-01, -3.5126e-02, -4.6143e-01,  1.3721e-01, -6.0156e-01,\n",
            "         -5.1172e-01, -7.6721e-02, -5.1270e-01, -1.0950e-01,  8.2812e-01,\n",
            "          4.4604e-01, -4.6460e-01,  2.5195e-01,  1.9067e-01, -2.7759e-01,\n",
            "         -7.7209e-02, -1.1250e+00, -3.6499e-01, -9.4055e-02,  4.7417e-03,\n",
            "         -2.5708e-01, -1.8097e-02, -4.3652e-01, -3.0121e-02,  6.7139e-02,\n",
            "          4.0845e-01,  7.5146e-01, -4.6777e-01,  8.4412e-02, -6.8665e-02,\n",
            "         -3.4619e-01, -4.3994e-01, -1.1230e-01, -2.2545e-03,  3.7769e-01,\n",
            "          6.1920e-02, -8.0444e-02, -1.6223e-01,  1.7493e-01, -3.6926e-02,\n",
            "         -4.1064e-01,  1.0309e-01, -3.9673e-01, -1.6406e-01, -5.6787e-01,\n",
            "         -8.0017e-02,  3.7598e-01, -1.3947e-02, -9.0210e-02,  3.5791e-01,\n",
            "          2.1094e-01,  2.0557e-01, -4.5117e-01, -4.0063e-01,  1.3565e-02,\n",
            "          1.2720e-01,  1.6541e-01,  3.2080e-01,  1.7358e-01, -1.5759e-01,\n",
            "         -5.4980e-01, -2.0459e-01,  9.8694e-02,  3.6890e-01, -2.7832e-01,\n",
            "         -3.0957e-01, -3.2617e-01,  8.3252e-01,  1.7175e-01, -2.0020e-01,\n",
            "          9.5764e-02,  1.9336e-01, -4.8926e-01, -2.3035e-01,  2.8784e-01,\n",
            "         -3.6230e-01,  2.7124e-01, -1.3916e-02,  1.7212e-01,  1.5527e-01,\n",
            "          1.1005e-01, -2.4365e-01, -3.6646e-01, -2.9984e-02, -8.5693e-01,\n",
            "         -2.4255e-01, -6.9275e-02,  1.0345e-02, -7.2217e-01,  1.8387e-02,\n",
            "         -4.1772e-01,  1.0879e+00, -2.1008e-01,  2.2168e-01, -6.3477e-01,\n",
            "          1.5918e-01,  5.0781e-02,  2.7710e-01,  4.2236e-01, -6.3525e-01,\n",
            "          1.8051e-02,  7.6514e-01,  8.2275e-02, -6.6895e-01,  1.1875e+00,\n",
            "         -1.6693e-02,  1.8396e-01, -2.7734e-01, -6.8787e-02, -2.7002e-01,\n",
            "         -7.4829e-02,  2.0410e-01,  3.7915e-01,  1.4868e-01, -3.4058e-01,\n",
            "         -5.9845e-02, -5.0488e-01,  2.0007e-01,  2.3022e-01,  3.2227e-01,\n",
            "          2.9834e-01,  3.9673e-01, -4.1968e-01,  2.8174e-01, -4.9390e-01,\n",
            "         -1.4001e-01,  1.3892e-01,  9.1699e-01,  5.7526e-03,  5.2002e-01,\n",
            "          7.6514e-01,  1.9812e-01, -1.2646e-01, -4.1064e-01,  6.1523e-01,\n",
            "          7.4272e-03, -6.2012e-02, -4.7363e-02, -4.6533e-01, -1.3794e-01,\n",
            "         -7.6270e-01, -4.3030e-02, -1.3756e-02,  1.0382e-01, -6.6345e-02,\n",
            "         -2.9028e-01,  2.9688e-01,  1.2659e-01,  7.1472e-02,  1.3008e-02,\n",
            "          6.1719e-01,  2.4048e-01, -3.0054e-01,  2.0410e-01,  3.7207e-01,\n",
            "         -2.3840e-01,  1.0028e-01, -9.0967e-01,  1.9958e-02,  1.6272e-01,\n",
            "         -1.2494e-01, -3.1030e-01,  1.5698e-01, -6.3428e-01, -5.4504e-02,\n",
            "          5.6006e-01,  3.8916e-01, -2.6001e-01, -7.8735e-02, -4.0601e-01,\n",
            "          1.2390e-01, -1.9922e-01,  6.1963e-01,  5.5817e-02,  3.7061e-01,\n",
            "         -7.1533e-02, -5.1074e-01,  2.3422e-02, -6.1963e-01,  2.0166e-01,\n",
            "          4.8022e-01,  4.7729e-01, -4.2554e-01, -8.4326e-01,  9.8535e-01,\n",
            "          3.9502e-01, -5.4718e-02, -1.1499e-01,  6.8359e-01,  2.1216e-01,\n",
            "         -4.0259e-01, -5.8594e-01, -1.0522e-01, -2.9272e-01, -3.2495e-01,\n",
            "          5.6299e-01,  1.1621e-01,  2.0523e-02,  5.0684e-01,  6.6406e-02,\n",
            "         -7.9193e-03,  1.3481e-02, -6.2842e-01,  3.0563e-02,  2.6904e-01,\n",
            "          2.5220e-01,  6.8262e-01, -5.2307e-02,  9.4849e-02,  1.8018e-01,\n",
            "         -2.0215e-01,  1.2939e-01,  1.3464e-01, -5.6299e-01,  1.9348e-01,\n",
            "         -2.9980e-01,  3.1738e-01,  4.6411e-01, -5.5811e-01, -2.5928e-01,\n",
            "          4.9805e-01, -6.3721e-01,  1.3745e-01,  2.1680e-01, -4.8682e-01,\n",
            "          2.8687e-01,  4.7070e-01,  1.2939e-01]], dtype=torch.float16), 'How many buildings are in this image?': tensor([[-4.7974e-01, -4.7821e-02,  7.2852e-01,  7.4707e-01, -1.4412e-02,\n",
            "          2.5781e-01, -3.7500e-01,  3.9160e-01, -4.4067e-01, -2.0850e-01,\n",
            "         -5.8838e-02, -4.2896e-01, -1.3892e-01, -1.6797e-01, -3.8232e-01,\n",
            "          3.0200e-01,  6.5820e-01, -1.9958e-01,  6.4148e-02, -5.6494e-01,\n",
            "          6.4258e-01,  1.9104e-01, -3.9795e-01,  8.6865e-01,  5.3833e-02,\n",
            "         -2.9053e-01, -8.0176e-01, -3.4644e-01,  5.8545e-01,  1.6724e-01,\n",
            "         -9.1797e-02,  5.2686e-01,  3.9215e-03, -1.0010e+00, -2.1164e-02,\n",
            "          2.5952e-01,  2.3706e-01, -3.6401e-01, -7.5317e-02,  4.9414e-01,\n",
            "         -2.1881e-02, -3.8281e-01, -5.3906e-01, -2.7490e-01, -4.0405e-01,\n",
            "          6.9092e-01, -1.2183e-01,  3.7012e-01,  3.2764e-01, -3.5864e-01,\n",
            "         -2.7051e-01, -6.6553e-01,  7.1777e-01,  7.8613e-01, -4.9536e-01,\n",
            "         -5.9521e-01,  4.1919e-01, -1.6968e-01, -1.4136e-01, -4.7705e-01,\n",
            "          9.9792e-02, -1.8665e-01, -7.9150e-01,  6.4697e-01, -2.1167e-01,\n",
            "          1.3680e-02, -3.6353e-01,  1.3245e-01, -2.2656e-01, -7.1106e-02,\n",
            "          5.8643e-01,  6.3354e-02,  9.9365e-02, -6.0645e-01,  7.2479e-03,\n",
            "         -3.0127e-01,  2.6260e-02,  2.4292e-01, -3.8379e-01,  3.3539e-02,\n",
            "         -3.2666e-01, -1.2177e-01, -2.4182e-01,  4.5264e-01,  1.5381e-01,\n",
            "          5.1172e-01, -6.1462e-02, -4.7461e-01, -9.8633e-01, -4.4702e-01,\n",
            "          1.9495e-01, -1.6467e-01,  2.1460e-01, -2.9480e-02,  8.8501e-03,\n",
            "         -2.9248e-01, -1.9836e-01, -1.5735e-01, -2.4475e-02, -4.8779e-01,\n",
            "         -4.8071e-01,  1.1993e-01,  2.2156e-01,  5.8105e-01, -8.1543e-02,\n",
            "          3.7207e-01,  5.0537e-01, -3.7415e-02,  1.0146e+00,  1.0273e+00,\n",
            "          2.9688e-01,  1.5088e-01, -4.7577e-02,  1.7004e-01, -1.0818e-02,\n",
            "         -5.5615e-01, -2.8467e-01, -7.0752e-01, -1.6125e-01,  5.8350e-01,\n",
            "         -1.9360e-01,  5.5542e-02,  2.8589e-01, -2.9248e-01,  3.8185e-03,\n",
            "          3.1689e-01,  2.8900e-02,  5.7220e-03, -3.4161e-03, -7.9590e-02,\n",
            "         -4.1931e-02,  2.2400e-01, -6.2943e-03,  2.8271e-01, -7.7100e-01,\n",
            "         -6.4502e-01, -3.3789e-01,  1.9031e-01,  5.6201e-01,  2.2559e-01,\n",
            "          9.2896e-02, -1.2488e-01,  9.1455e-01, -5.9570e-01,  1.2573e-01,\n",
            "         -9.7070e-01,  3.5278e-01,  8.6377e-01, -2.9712e-01, -1.2378e-01,\n",
            "          3.5187e-02, -1.4087e-01, -1.4648e-01,  1.5796e-01,  2.4084e-01,\n",
            "         -3.2837e-01, -3.0957e-01,  4.8706e-01,  9.2407e-02, -3.1006e-01,\n",
            "          1.2463e-01, -2.8625e-02,  3.1543e-01, -6.0400e-01, -3.4082e-01,\n",
            "         -3.1525e-02, -6.4148e-02, -3.4106e-01,  2.8549e-02, -4.5068e-01,\n",
            "         -1.0175e-01,  2.3608e-01, -3.9307e-01, -5.5908e-02,  5.4150e-01,\n",
            "         -1.5198e-01, -9.1675e-02, -2.8955e-01,  3.9746e-01, -2.8809e-01,\n",
            "         -1.4563e-01, -1.2878e-01, -4.7852e-01,  2.9736e-01, -1.8555e-02,\n",
            "         -4.9951e-01,  1.6272e-01,  9.3079e-02,  2.1252e-01, -1.8945e-01,\n",
            "          5.1514e-01,  2.9199e-01, -3.8599e-01, -2.7246e-01, -1.1279e-01,\n",
            "         -1.6416e+00, -4.1431e-01,  7.5439e-01,  5.6445e-01, -3.4644e-01,\n",
            "          7.8064e-02,  2.0825e-01,  1.1823e-01,  2.0605e-01,  1.7566e-01,\n",
            "          2.5244e-01,  1.3538e-01, -1.7114e-01,  2.0483e-01, -4.2114e-01,\n",
            "         -2.9099e-02, -5.2197e-01, -2.7100e-02, -5.4245e-03, -7.2021e-02,\n",
            "          3.0200e-01, -6.4514e-02,  2.8638e-01,  4.8486e-01,  5.0278e-03,\n",
            "          3.8361e-02,  2.2205e-01,  1.8555e-02,  1.3440e-01, -2.4402e-01,\n",
            "          2.9224e-01, -2.2217e-01, -5.0110e-02,  5.3125e-01, -1.5335e-02,\n",
            "          3.9087e-01, -5.8105e-01, -1.5125e-01, -5.6610e-02, -5.5713e-01,\n",
            "          4.2725e-01,  5.2490e-01,  1.3039e-02, -3.7695e-01, -8.5999e-02,\n",
            "          6.7480e-01, -1.8140e-01, -2.7051e-01,  3.0664e-01,  3.2275e-01,\n",
            "          1.1340e-01, -1.0724e-01, -2.6587e-01, -5.9624e-03,  2.9639e-01,\n",
            "          1.4258e-01,  2.4146e-01,  2.0837e-01, -5.3027e-01,  1.5320e-02,\n",
            "         -4.3640e-02, -2.7808e-01,  2.9004e-01,  2.5684e-01,  4.1534e-02,\n",
            "         -2.3389e-01, -3.4595e-01, -5.9180e-01,  2.3181e-01, -1.8951e-02,\n",
            "          2.2583e-01,  2.4011e-01, -3.5449e-01, -4.9194e-02, -3.1665e-01,\n",
            "          3.4229e-01, -2.9602e-02,  4.2139e-01, -3.3813e-01,  9.3079e-02,\n",
            "         -1.8445e-01, -3.1982e-01, -3.3618e-01, -4.7424e-02, -6.3574e-01,\n",
            "          1.5356e-01,  1.8726e-01, -9.6777e-01,  1.0508e+00, -1.4539e-01,\n",
            "          5.1788e-02, -8.2031e-01,  2.5366e-01, -9.5068e-01, -4.7485e-01,\n",
            "          6.7236e-01,  3.7085e-01, -6.7676e-01, -4.8486e-01,  4.9170e-01,\n",
            "         -2.0117e-01,  2.1997e-01,  2.5317e-01,  2.1594e-01,  5.5566e-01,\n",
            "         -2.5903e-01, -2.2937e-01,  1.4978e-01, -4.6802e-01, -2.8027e-01,\n",
            "         -1.5417e-01, -7.9102e-01, -1.1566e-01,  4.9780e-01, -1.0742e-01,\n",
            "         -1.1494e+00,  2.5049e-01,  5.9235e-02,  6.4600e-01, -3.8647e-01,\n",
            "          1.6077e-01, -9.4219e+00,  7.1899e-02,  1.7358e-01, -2.5708e-01,\n",
            "          3.1952e-02, -1.1172e+00,  7.4805e-01, -9.6582e-01, -2.8735e-01,\n",
            "          3.1787e-01, -2.2986e-01, -3.7866e-01, -9.8938e-02,  2.9956e-01,\n",
            "          1.0052e-01,  5.5273e-01,  5.3027e-01,  1.5129e-02, -3.4424e-01,\n",
            "          2.8052e-01,  6.4453e-01, -3.8116e-02, -9.6741e-02,  1.0498e-01,\n",
            "         -4.6729e-01, -2.8662e-01,  3.8843e-01, -5.0446e-02, -2.4365e-01,\n",
            "          1.8494e-01,  3.5205e-01, -3.4277e-01,  1.3843e-01,  3.1396e-01,\n",
            "          5.3711e-01, -1.9592e-01, -1.6266e-02,  3.1104e-01,  4.9194e-02,\n",
            "          3.3496e-01,  4.2700e-01, -3.8428e-01,  4.4556e-01,  4.7412e-01,\n",
            "         -5.7422e-01, -6.9287e-01,  2.0764e-01,  1.7725e-01, -1.6040e-01,\n",
            "          9.5032e-02,  8.1836e-01, -5.7959e-01,  3.7012e-01,  4.0601e-01,\n",
            "         -3.1934e-01,  5.7275e-01,  3.2227e-01,  3.4766e-01, -2.6758e-01,\n",
            "         -7.4268e-01,  2.8613e-01,  2.5848e-02,  2.0068e-01,  2.8906e-01,\n",
            "          4.7168e-01, -7.8125e-02, -2.5244e-01, -3.2861e-01, -8.9905e-02,\n",
            "         -6.4575e-02,  5.1221e-01, -1.4587e-01,  1.7542e-01,  4.4274e-04,\n",
            "          1.9885e-01,  5.9418e-02,  2.0984e-01, -5.6299e-01, -4.5502e-02,\n",
            "          1.5259e-01, -5.5273e-01, -8.3594e-01, -4.3188e-01, -1.5369e-01,\n",
            "          4.9347e-02, -4.6899e-01,  1.9690e-01,  5.0098e-01,  1.0732e+00,\n",
            "          1.8127e-01,  3.8574e-01,  3.5278e-01, -3.5083e-01,  8.7036e-02,\n",
            "         -1.0553e-01,  2.3010e-01,  9.1016e-01, -1.0176e+00,  3.8239e-02,\n",
            "          7.7698e-02,  7.1960e-02, -6.7261e-02,  2.2095e-01, -4.7095e-01,\n",
            "         -1.0840e-01,  3.4131e-01, -4.4594e-03,  7.6233e-02,  2.6489e-01,\n",
            "          3.5889e-02,  8.9258e-01,  4.0796e-01,  4.0356e-01, -8.5815e-02,\n",
            "         -1.7749e-01,  2.6123e-01, -3.8971e-02, -4.0186e-01,  5.2734e-01,\n",
            "          1.1719e+00,  6.9873e-01, -2.8857e-01,  3.9856e-02, -1.9531e-01,\n",
            "          8.7109e+00,  3.9526e-01,  1.3599e-01, -6.9519e-02,  4.2847e-02,\n",
            "          6.6345e-02,  2.5439e-01,  7.7002e-01, -1.8909e-01,  2.4670e-01,\n",
            "          3.7842e-01,  4.1309e-01,  1.0830e+00,  9.2432e-01, -3.2764e-01,\n",
            "         -2.7417e-01, -3.6694e-01,  3.9771e-01, -1.0010e+00, -1.9836e-01,\n",
            "          5.3680e-02, -1.2012e-01,  6.2027e-03,  1.2830e-01, -4.4556e-01,\n",
            "         -3.9368e-02, -1.0388e-01, -3.0078e-01,  2.8906e-01,  1.8799e-01,\n",
            "         -1.8091e-01, -1.5417e-01, -2.5024e-01, -1.3867e-01,  6.9275e-02,\n",
            "          6.6032e-03,  2.9468e-01,  2.2925e-01, -1.5063e-01,  2.9004e-01,\n",
            "         -7.3425e-02,  3.8672e-01,  6.4270e-02,  4.3677e-01,  2.2083e-01,\n",
            "         -3.5815e-01,  7.3779e-01,  6.1005e-02,  1.3928e-01, -3.3081e-01,\n",
            "         -2.4255e-01,  1.8835e-01, -4.8291e-01, -3.0176e-01, -4.3115e-01,\n",
            "         -1.1163e-01, -4.3164e-01, -4.7778e-01,  1.9897e-01,  4.4281e-02,\n",
            "          9.7961e-02, -3.7476e-02,  3.2007e-01, -9.2773e-02, -5.1123e-01,\n",
            "         -4.9170e-01,  9.0408e-03, -3.2007e-01, -4.7656e-01,  7.6562e-01,\n",
            "         -1.9714e-01,  1.7456e-01, -3.3081e-01, -3.0542e-01, -4.2944e-01,\n",
            "         -1.5381e-01, -8.9111e-02, -1.8323e-01, -4.9854e-01,  8.9404e-01,\n",
            "          4.6118e-01,  2.1387e-01,  2.7612e-01,  4.1016e-01,  1.0510e-01,\n",
            "         -1.3818e-01,  1.6321e-01,  3.7769e-01, -1.8896e+00,  2.9517e-01,\n",
            "         -6.9238e-01,  6.7920e-01,  1.5588e-01,  5.2032e-03,  5.3809e-01,\n",
            "          4.9731e-01, -3.0933e-01,  4.2139e-01, -4.9463e-01, -4.4971e-01,\n",
            "         -4.4580e-01, -6.9618e-04, -5.8301e-01,  1.2061e-01, -7.0264e-01,\n",
            "         -3.8892e-01, -1.3940e-01, -3.0273e-01,  1.8433e-01,  7.2070e-01,\n",
            "          3.4839e-01, -6.0352e-01,  4.1699e-01,  1.9946e-01, -2.5684e-01,\n",
            "         -2.8052e-01, -1.0234e+00, -2.2791e-01, -4.0253e-02,  1.0223e-01,\n",
            "          5.3253e-02,  1.7419e-01, -4.3457e-01, -1.2732e-01,  4.2572e-02,\n",
            "          2.5610e-01,  6.4502e-01, -5.3662e-01,  2.3755e-01, -2.6978e-01,\n",
            "         -2.2290e-01, -6.1328e-01, -1.1536e-01,  7.9224e-02,  4.0723e-01,\n",
            "         -7.0435e-02,  1.0010e-01, -2.3486e-01,  6.5002e-02, -2.0093e-01,\n",
            "         -5.0635e-01,  7.4036e-02, -2.0044e-01, -3.1982e-01, -4.0991e-01,\n",
            "         -2.2607e-01,  5.6494e-01,  9.8389e-02, -2.5464e-01,  2.8345e-01,\n",
            "          2.9761e-01,  1.5112e-01, -5.4150e-01, -2.1692e-01, -6.5796e-02,\n",
            "          2.7716e-05,  3.5156e-01,  7.8430e-02,  9.3445e-02, -5.1788e-02,\n",
            "         -5.3467e-01, -2.8369e-01,  4.6173e-02,  3.5425e-01, -4.3823e-01,\n",
            "         -4.7656e-01, -8.3130e-02,  9.1162e-01,  3.7549e-01, -2.3633e-01,\n",
            "         -5.4840e-02,  1.9363e-02, -4.8096e-01, -4.6021e-01,  3.5767e-01,\n",
            "         -3.6499e-01,  3.8135e-01,  2.4536e-02,  3.0103e-01,  9.7473e-02,\n",
            "         -7.6233e-02, -3.3226e-03, -4.2358e-01, -4.9713e-02, -8.2910e-01,\n",
            "         -1.7981e-01, -5.6366e-02,  1.0907e-01, -5.2246e-01, -1.5222e-01,\n",
            "         -3.9233e-01,  1.0342e+00, -2.1289e-01,  3.2837e-01, -6.4209e-01,\n",
            "          4.1565e-02,  1.3428e-02,  2.2546e-01,  3.6792e-01, -4.1797e-01,\n",
            "         -1.0443e-01,  8.9014e-01, -5.3772e-02, -4.6802e-01,  1.0156e+00,\n",
            "         -6.9824e-02,  1.3550e-01, -3.5278e-01, -1.8152e-01, -2.6147e-01,\n",
            "         -1.4539e-01, -1.6113e-02,  4.8682e-01,  5.6549e-02, -4.9170e-01,\n",
            "          1.1163e-01, -3.9526e-01,  1.1253e-02,  1.9995e-01,  8.0762e-01,\n",
            "          3.1274e-01,  1.1682e-01, -6.7334e-01,  4.3408e-01, -3.9746e-01,\n",
            "         -2.4268e-01,  2.0654e-01,  9.2676e-01,  3.6102e-02,  2.0654e-01,\n",
            "          6.6309e-01,  2.8589e-01, -9.9609e-02, -2.9932e-01,  5.1904e-01,\n",
            "         -1.9299e-01,  6.1981e-02,  2.8369e-01, -3.6548e-01, -2.5375e-02,\n",
            "         -7.7637e-01, -3.7170e-02, -3.8635e-02,  2.5073e-01, -1.3464e-01,\n",
            "         -4.3854e-02,  3.7720e-01,  2.6099e-01,  1.0590e-01,  4.6478e-02,\n",
            "          6.4453e-01,  3.2544e-01, -4.7900e-01,  5.5511e-02,  1.9360e-01,\n",
            "         -2.8662e-01, -1.6052e-01, -1.0938e+00,  4.3365e-02,  3.0200e-01,\n",
            "          1.9760e-02, -3.3276e-01,  3.1250e-01, -7.8076e-01, -1.4990e-01,\n",
            "          4.0430e-01,  3.7183e-01, -2.9370e-01, -1.6541e-01, -2.7100e-01,\n",
            "         -3.2745e-02, -7.0740e-02,  4.0161e-01,  3.5254e-01,  3.3081e-01,\n",
            "         -7.0801e-02, -5.8008e-01,  7.9529e-02, -6.2061e-01,  2.1155e-01,\n",
            "          3.3398e-01,  4.6143e-01, -2.5586e-01, -8.5449e-01,  9.8096e-01,\n",
            "          5.7422e-01, -1.4685e-01, -6.5369e-02,  7.7588e-01,  3.7231e-01,\n",
            "         -5.1367e-01, -5.1270e-01, -2.2266e-01, -3.6548e-01, -1.7627e-01,\n",
            "          6.2646e-01,  2.5269e-02,  4.7638e-02,  5.0439e-01, -5.1697e-02,\n",
            "         -1.6370e-01, -2.6169e-02, -7.2363e-01,  1.1969e-03,  2.6172e-01,\n",
            "          3.4692e-01,  7.5098e-01,  1.4258e-01, -2.5848e-02,  8.0505e-02,\n",
            "         -3.1909e-01,  1.4856e-01,  2.9199e-01, -5.2881e-01,  1.7529e-01,\n",
            "         -1.3928e-01,  3.6719e-01,  5.2637e-01, -3.8916e-01, -9.4482e-02,\n",
            "          5.4590e-01, -5.9863e-01,  3.5986e-01,  2.5708e-01, -5.8057e-01,\n",
            "          2.2974e-01,  4.1382e-01,  1.6589e-01]], dtype=torch.float16), 'How many buildings are non flooded in this image?': tensor([[-2.5024e-01, -1.9043e-01,  7.0166e-01,  4.1968e-01, -2.1155e-01,\n",
            "         -4.0375e-02, -1.7969e-01, -1.5857e-01, -2.5244e-01,  3.0371e-01,\n",
            "          1.9885e-01, -6.6455e-01, -2.3767e-01, -6.5234e-01, -1.4062e-01,\n",
            "          3.7109e-01,  3.1763e-01, -1.6785e-01,  7.8735e-02, -2.9175e-01,\n",
            "          2.6416e-01,  3.2007e-01, -1.1084e-01,  6.5479e-01, -2.2571e-01,\n",
            "         -6.5918e-01, -1.1963e-01, -4.7070e-01,  8.2471e-01, -5.4718e-02,\n",
            "          2.0276e-01, -7.2174e-03,  1.4917e-01, -8.4912e-01, -9.0515e-02,\n",
            "          2.3718e-01,  2.9297e-02,  7.8308e-02, -1.6953e-02,  1.4563e-01,\n",
            "         -3.4790e-01, -5.9521e-01, -8.4131e-01, -3.3887e-01, -2.6758e-01,\n",
            "          8.8916e-01, -1.8567e-01,  5.7373e-01,  3.5522e-01, -1.5015e-01,\n",
            "         -2.2388e-01, -8.3203e-01,  4.2334e-01,  4.4165e-01, -3.5938e-01,\n",
            "         -7.3633e-01,  3.8306e-01,  3.3752e-02, -6.5527e-01, -2.7246e-01,\n",
            "          2.7197e-01, -2.3975e-01, -5.6836e-01,  5.1270e-01, -3.8281e-01,\n",
            "         -1.5894e-01, -1.7200e-01, -5.3223e-02,  1.3281e-01,  4.5435e-01,\n",
            "          2.1033e-01, -1.8176e-01, -1.6953e-02, -2.3853e-01,  1.1005e-03,\n",
            "         -6.7969e-01,  1.0986e-01,  3.5791e-01, -3.0005e-01, -2.8296e-01,\n",
            "         -1.7676e-01, -2.9102e-01, -2.6196e-01,  2.3730e-01,  4.6216e-01,\n",
            "         -5.0507e-02,  3.1769e-02, -3.3569e-01, -8.0225e-01, -2.8125e-01,\n",
            "          2.9370e-01,  5.7106e-03, -6.7482e-03, -2.1582e-01,  2.9883e-01,\n",
            "         -3.8086e-02, -3.1689e-01, -1.9440e-02, -8.2397e-02, -7.4023e-01,\n",
            "         -4.5215e-01, -1.8091e-01,  2.1558e-01,  3.4082e-01, -1.9446e-01,\n",
            "          4.3457e-01,  5.9692e-02,  3.8843e-01,  8.6572e-01,  6.6064e-01,\n",
            "         -4.5776e-02, -2.0032e-01, -4.9133e-03,  2.5513e-01,  1.9629e-01,\n",
            "         -4.8950e-01, -4.0894e-01, -3.9673e-01, -3.7109e-01,  2.2980e-02,\n",
            "         -3.0469e-01, -2.4304e-01,  8.7219e-02,  1.0156e-01,  1.0828e-01,\n",
            "          4.3286e-01, -6.2561e-02,  4.0308e-01,  1.2610e-01, -1.4563e-01,\n",
            "         -7.3291e-01,  3.1641e-01, -1.7432e-01,  1.2207e-01, -4.7900e-01,\n",
            "         -6.4551e-01, -3.4717e-01,  1.7822e-01,  1.6418e-01,  6.3428e-01,\n",
            "          5.1416e-01, -3.8635e-02,  7.0020e-01, -3.6597e-01,  5.1193e-03,\n",
            "         -1.1221e+00, -6.4087e-02,  7.4561e-01, -6.2451e-01, -2.0728e-01,\n",
            "         -1.3953e-01, -2.0300e-01, -3.6230e-01,  2.2168e-01,  3.5034e-02,\n",
            "         -8.3618e-02, -4.7028e-02,  1.3013e-01,  3.4155e-01, -5.7031e-01,\n",
            "         -3.4924e-03,  4.8920e-02,  5.3101e-02, -3.1934e-01, -1.8295e-02,\n",
            "          6.1554e-02, -2.9346e-01, -1.4246e-01,  7.3280e-03, -6.7969e-01,\n",
            "         -4.8737e-02,  1.2585e-01, -2.5073e-01, -2.8732e-02,  1.6479e-01,\n",
            "          8.2581e-02, -3.2153e-01, -1.7310e-01,  2.5244e-01, -3.5425e-01,\n",
            "         -2.7490e-01,  1.9760e-03, -3.3618e-01,  2.9956e-01, -9.3689e-02,\n",
            "         -6.7480e-01,  1.0522e-01,  5.0163e-03,  6.4270e-02, -4.5508e-01,\n",
            "          2.4707e-01,  8.1238e-02, -3.9136e-01, -2.8296e-01, -3.6377e-02,\n",
            "         -1.9531e+00, -3.6206e-01,  5.4199e-01,  6.6602e-01, -6.4111e-01,\n",
            "         -2.7930e-01,  4.3628e-01, -1.9116e-01, -4.4708e-02,  2.8976e-02,\n",
            "         -3.5362e-03,  1.4197e-01, -2.6001e-02, -4.8901e-01, -3.0005e-01,\n",
            "         -6.5308e-02, -5.1953e-01, -4.2432e-01, -1.7957e-01, -4.3579e-01,\n",
            "         -1.7151e-01,  7.0068e-02,  5.6152e-01,  3.8794e-01,  4.4263e-01,\n",
            "          2.5952e-01,  1.0193e-01,  2.0740e-01,  1.4587e-01,  2.2327e-01,\n",
            "          8.4473e-01, -4.4409e-01, -1.8726e-01,  1.3257e-01, -4.2773e-01,\n",
            "          2.5098e-01, -4.3604e-01, -7.9529e-02, -2.2412e-01, -8.2031e-01,\n",
            "          2.6978e-01, -2.8305e-02, -3.1067e-02, -2.5488e-01,  2.6831e-01,\n",
            "          5.6641e-01, -5.8929e-02, -2.4707e-01,  1.4685e-01,  4.2511e-02,\n",
            "          2.6538e-01, -3.8257e-01,  3.8574e-02,  3.2139e-03,  5.9180e-01,\n",
            "         -4.1260e-02, -3.8232e-01,  2.8760e-01, -3.9941e-01,  9.0515e-02,\n",
            "          9.2224e-02, -1.8079e-01,  5.3711e-01,  2.1301e-01, -3.4546e-01,\n",
            "         -4.0015e-01, -3.9697e-01, -4.5093e-01, -1.5640e-02, -1.3513e-01,\n",
            "          9.5886e-02, -3.9093e-02, -3.1152e-01,  6.2927e-02, -1.9910e-01,\n",
            "         -7.2571e-02,  4.5190e-01,  3.1201e-01, -4.1534e-02, -1.5552e-01,\n",
            "         -3.8599e-01, -2.8906e-01, -2.8125e-01, -2.4304e-01, -2.7881e-01,\n",
            "         -1.2659e-01,  2.2839e-01, -8.3057e-01,  5.6396e-01, -1.2146e-01,\n",
            "          2.0126e-02, -8.9014e-01,  3.8672e-01, -1.3066e+00, -2.0764e-01,\n",
            "         -7.0312e-02,  1.7136e-02, -4.6851e-01, -7.8271e-01, -1.8478e-02,\n",
            "          3.1689e-01,  1.7773e-01, -1.3977e-01,  1.8280e-02,  3.5767e-02,\n",
            "         -3.3569e-01, -3.2837e-01,  6.3867e-01, -3.5474e-01,  3.9258e-01,\n",
            "          1.1090e-01, -7.1533e-01, -5.3955e-01,  5.7793e-04,  8.9188e-03,\n",
            "         -8.2764e-01,  4.2114e-01, -2.3499e-01,  8.8916e-01, -2.6440e-01,\n",
            "         -3.6133e-02, -9.1797e+00,  2.3853e-01,  1.4551e-01, -2.1912e-01,\n",
            "          2.3816e-01, -8.1689e-01,  1.1562e+00, -3.5693e-01, -1.5723e-01,\n",
            "          5.9229e-01, -5.0537e-01, -5.3955e-01,  3.1177e-01,  2.7490e-01,\n",
            "          1.2549e-01,  4.9707e-01,  5.4590e-01,  1.6998e-02, -4.5117e-01,\n",
            "          4.3384e-01,  5.0195e-01, -6.1768e-02,  2.0599e-02,  1.1481e-01,\n",
            "         -4.4312e-01, -2.2278e-01,  2.3608e-01, -2.9248e-01, -2.3956e-02,\n",
            "         -6.4819e-02, -6.2042e-02, -8.5022e-02,  8.6816e-01,  6.6455e-01,\n",
            "          5.4541e-01, -1.1798e-01, -3.5645e-01,  3.6841e-01,  2.7612e-01,\n",
            "         -1.5295e-01,  3.2983e-01, -6.3110e-02,  3.0054e-01,  6.4404e-01,\n",
            "         -2.8198e-01, -6.8115e-01, -1.0596e-01, -5.0018e-02, -7.5256e-02,\n",
            "          6.5063e-02, -9.2529e-02, -5.1807e-01,  6.2891e-01,  3.0786e-01,\n",
            "         -4.4653e-01,  1.1191e+00, -2.2266e-01, -4.4739e-02,  2.5253e-02,\n",
            "         -6.5186e-01, -2.7930e-01,  1.3153e-02, -3.4131e-01,  3.2446e-01,\n",
            "          2.3987e-01, -5.1308e-03, -1.3721e-01, -4.3152e-02, -6.3330e-01,\n",
            "         -1.5808e-01,  9.8511e-02,  1.9507e-01,  3.7036e-01,  7.5562e-02,\n",
            "          4.1382e-02, -1.2903e-01,  1.2793e-01, -3.4973e-02,  5.6982e-01,\n",
            "         -7.5928e-02, -5.0293e-01, -1.1123e+00, -5.3162e-02,  4.6924e-01,\n",
            "         -2.6050e-01, -8.0017e-02,  6.4331e-02,  5.1025e-01,  1.3301e+00,\n",
            "          3.0420e-01,  1.0358e-01,  1.0449e-01, -3.2886e-01,  1.7542e-01,\n",
            "         -5.8136e-02, -2.5562e-01,  1.2490e+00, -1.0312e+00, -1.3232e-01,\n",
            "         -1.3940e-01, -6.5186e-02,  1.5796e-01,  4.3164e-01, -2.8052e-01,\n",
            "         -2.0728e-01, -1.5228e-02, -8.2703e-02,  6.1816e-01,  5.7764e-01,\n",
            "         -9.0271e-02,  3.5010e-01,  5.3174e-01,  1.1084e-01, -1.9067e-01,\n",
            "          1.0754e-01,  2.2485e-01, -7.1533e-02, -4.6411e-01, -2.0046e-03,\n",
            "          9.5605e-01,  1.8237e-01, -2.8223e-01,  2.5299e-02,  3.3716e-01,\n",
            "          8.3438e+00,  2.4524e-01,  8.8379e-02,  3.0371e-01, -2.9590e-01,\n",
            "         -4.1113e-01,  4.3506e-01,  4.9731e-01, -2.2937e-01, -1.1804e-01,\n",
            "          4.6021e-01,  4.1040e-01,  9.2188e-01,  9.6045e-01, -1.0236e-01,\n",
            "         -5.8984e-01,  4.4983e-02,  8.4766e-01, -1.1260e+00,  1.7590e-01,\n",
            "         -1.1621e-01,  1.3892e-01,  2.5848e-02, -1.1566e-01, -4.8447e-03,\n",
            "         -1.2183e-01,  3.0273e-01, -2.9492e-01,  2.4316e-01,  5.0684e-01,\n",
            "         -1.1511e-01,  3.3173e-02,  8.8196e-03, -1.9482e-01, -3.5913e-01,\n",
            "          1.2915e-01,  2.4182e-01, -3.4668e-01, -7.6782e-02,  4.7656e-01,\n",
            "          3.0914e-02,  4.2871e-01, -6.7749e-02,  1.4844e-01,  4.5679e-01,\n",
            "         -5.2490e-01,  3.7500e-01, -7.2754e-02, -1.3382e-02, -6.6504e-01,\n",
            "         -1.2280e-01,  2.1606e-01, -6.4014e-01, -9.8584e-01, -6.7090e-01,\n",
            "         -6.4697e-01,  9.6558e-02, -3.6670e-01, -1.9385e-01, -2.2571e-01,\n",
            "          2.3596e-01,  2.7051e-01,  2.4268e-01,  2.8931e-01, -5.3320e-01,\n",
            "         -2.9932e-01,  1.7932e-01, -4.1885e-03, -2.9639e-01,  4.1016e-01,\n",
            "          3.1494e-01, -5.3436e-02, -3.3276e-01, -3.7915e-01, -1.4001e-01,\n",
            "         -4.6582e-01, -5.2002e-01, -5.2185e-02, -9.5398e-02,  7.1045e-01,\n",
            "          2.3267e-01,  1.0986e-01, -7.3853e-02,  2.5879e-01,  4.8364e-01,\n",
            "         -5.4077e-02,  2.6855e-02,  1.2500e-01, -1.2285e+00,  2.9541e-01,\n",
            "         -1.8115e-01,  4.0405e-02, -3.3105e-01,  6.2695e-01,  7.5732e-01,\n",
            "          3.8354e-01, -1.1279e-01,  3.0298e-01, -4.5996e-01, -1.5820e-01,\n",
            "         -3.9917e-01, -8.4412e-02, -4.9780e-01,  1.4661e-01, -1.2607e+00,\n",
            "         -4.9341e-01, -2.4780e-02, -2.8442e-01, -1.2354e-01,  4.1333e-01,\n",
            "          4.0942e-01, -3.7427e-01,  3.4497e-01,  4.6753e-01,  3.1494e-02,\n",
            "         -1.0150e-01, -1.3105e+00, -2.9037e-02, -4.3994e-01, -2.0615e-02,\n",
            "         -5.4297e-01,  2.5830e-01, -4.3237e-01, -5.3139e-03, -4.1138e-02,\n",
            "          2.8442e-01,  5.8398e-01, -1.0430e+00,  4.1309e-01, -2.0170e-04,\n",
            "          9.2468e-02, -7.6855e-01, -4.4897e-01,  1.2103e-01,  6.3867e-01,\n",
            "          4.9255e-02, -7.8369e-02,  9.6130e-02,  3.4570e-01, -8.9264e-03,\n",
            "         -3.6670e-01, -6.1951e-02, -1.8311e-01, -2.0947e-01, -3.0472e-02,\n",
            "          2.1460e-01,  1.5320e-01,  4.6118e-01, -5.1611e-01,  6.8665e-02,\n",
            "          1.8579e-01,  2.3755e-01, -5.1074e-01, -4.9390e-01, -3.2739e-01,\n",
            "          7.3242e-02,  5.3857e-01, -2.0288e-01,  1.8799e-02,  7.3975e-02,\n",
            "         -2.7319e-01, -6.8481e-02,  5.1318e-01,  3.1812e-01, -1.0126e-01,\n",
            "         -5.3760e-01,  2.9224e-01,  5.9277e-01,  2.4475e-01, -3.6865e-01,\n",
            "         -3.3691e-02, -1.4343e-01, -4.8267e-01, -7.5342e-01,  3.0566e-01,\n",
            "         -5.6982e-01, -7.8552e-02, -5.6738e-01, -5.1208e-02,  3.1921e-02,\n",
            "          1.6736e-01, -2.7734e-01, -3.0981e-01, -2.1350e-01, -7.0312e-01,\n",
            "         -5.8838e-01, -3.8354e-01,  1.1551e-02, -4.6729e-01,  1.8835e-01,\n",
            "         -8.0273e-01,  9.1602e-01, -4.0137e-01,  1.9824e-01, -3.0469e-01,\n",
            "          1.6248e-01,  1.5540e-01,  2.8418e-01,  4.9976e-01, -4.0863e-02,\n",
            "         -1.5039e-01,  2.1008e-01,  9.2712e-02, -1.0371e+00,  1.0264e+00,\n",
            "          1.6626e-01, -2.6196e-01, -1.5808e-01, -4.5502e-02, -7.0361e-01,\n",
            "          1.1346e-01,  3.3374e-01,  4.6606e-01, -2.1155e-01, -2.3193e-01,\n",
            "         -2.0728e-01, -3.0542e-01, -7.0190e-02,  2.8900e-02,  4.5654e-01,\n",
            "          3.1421e-01,  6.8066e-01, -2.5562e-01, -3.0182e-02,  1.4746e-01,\n",
            "         -5.4980e-01,  1.8408e-01,  9.8779e-01,  2.2583e-01,  3.2593e-01,\n",
            "          5.0830e-01,  3.3813e-01, -2.8857e-01, -5.6982e-01,  2.2119e-01,\n",
            "         -4.5312e-01, -1.2494e-01, -1.4258e-01, -3.2715e-01,  2.0520e-01,\n",
            "         -8.1445e-01,  3.6133e-01, -2.8125e-01,  3.7573e-01,  2.1216e-01,\n",
            "         -2.6538e-01,  6.5088e-01,  4.4861e-02, -1.5149e-01,  3.7036e-01,\n",
            "          6.3916e-01,  3.2007e-01, -2.2107e-01,  1.8799e-01,  2.3242e-01,\n",
            "         -5.3076e-01,  3.5736e-02, -6.8701e-01,  4.3640e-03,  1.0284e-01,\n",
            "          1.3403e-01, -1.2469e-01,  9.6741e-02, -6.8604e-01, -5.0598e-02,\n",
            "          4.7168e-01,  1.1127e-01, -3.4888e-01, -1.6724e-01,  3.2074e-02,\n",
            "          3.0957e-01,  4.1479e-01, -2.5806e-01,  3.0469e-01,  7.7490e-01,\n",
            "          3.0737e-01, -1.2500e-01, -2.1973e-01, -7.8760e-01, -2.8931e-02,\n",
            "         -2.7197e-01,  3.5376e-01, -1.9913e-02, -1.0410e+00,  1.1436e+00,\n",
            "          2.1045e-01, -4.4409e-01, -2.1896e-02,  3.2739e-01,  5.1172e-01,\n",
            "          4.3915e-02, -6.9580e-02, -4.8193e-01, -4.5654e-01, -4.6216e-01,\n",
            "          2.2681e-01,  1.3501e-01,  4.2896e-01,  3.6377e-01, -3.0225e-01,\n",
            "         -2.4927e-01, -3.6523e-01, -4.9707e-01,  1.2134e-01,  7.9443e-01,\n",
            "          2.6440e-01,  5.8594e-01,  1.5649e-01,  8.0750e-02,  6.6223e-02,\n",
            "          1.7493e-01, -1.7700e-01,  3.6108e-01, -2.5171e-01,  4.6313e-01,\n",
            "          9.4055e-02,  1.2177e-01,  4.4531e-01, -6.7078e-02,  1.7578e-01,\n",
            "          8.2910e-01, -9.8730e-01,  8.2275e-01,  1.9263e-01, -6.0449e-01,\n",
            "          1.9202e-01,  9.9670e-02, -2.0203e-01]], dtype=torch.float16), 'How many buildings are non flooded?': tensor([[-2.9419e-01, -9.3323e-02,  5.2637e-01,  2.8223e-01, -3.1836e-01,\n",
            "          5.4932e-02, -4.5630e-01, -3.9673e-01, -2.0215e-01,  6.5771e-01,\n",
            "          1.9800e-01, -3.0396e-01, -4.5319e-03, -7.8809e-01, -4.2651e-01,\n",
            "          4.2944e-01,  1.2439e-01, -1.2866e-01,  1.2671e-01, -2.8687e-01,\n",
            "         -1.9910e-01,  8.6731e-02, -9.5886e-02,  5.3027e-01,  6.0364e-02,\n",
            "         -4.7925e-01,  3.0737e-01, -4.5204e-03,  5.7568e-01,  1.6443e-01,\n",
            "          5.1941e-02,  1.0645e-01, -1.1055e-02, -9.9121e-01, -3.6353e-01,\n",
            "          2.2339e-01, -3.5132e-01,  2.7686e-01, -1.8646e-02, -1.3745e-01,\n",
            "         -6.8506e-01, -7.0850e-01, -5.8838e-01, -3.2886e-01, -8.1848e-02,\n",
            "          6.8604e-01, -9.9365e-02,  3.6475e-01,  1.9409e-01, -2.0007e-01,\n",
            "         -3.3545e-01, -4.1968e-01,  6.9885e-02,  6.6846e-01,  7.9773e-02,\n",
            "         -3.7085e-01,  3.7231e-01,  2.7124e-01, -7.4268e-01, -2.8174e-01,\n",
            "          5.0537e-01,  3.6279e-01, -2.4524e-01,  4.3433e-01, -4.1406e-01,\n",
            "         -5.7031e-01, -1.9092e-01,  1.3098e-01,  1.5820e-01,  3.1592e-01,\n",
            "          9.3811e-02, -6.9031e-02, -1.5784e-01, -1.2195e-01,  6.6833e-02,\n",
            "         -6.6553e-01,  1.6846e-02,  4.5654e-01, -5.7520e-01, -4.9658e-01,\n",
            "          8.3847e-03,  1.3428e-01, -5.3369e-01,  3.3618e-01,  1.0266e-01,\n",
            "          7.7637e-02, -1.7456e-01, -2.2180e-01, -4.7388e-01, -1.0278e-01,\n",
            "         -2.0740e-01, -7.8613e-02, -1.7883e-02, -2.6047e-02,  3.9062e-01,\n",
            "         -3.5181e-01, -9.5032e-02,  6.6833e-02,  2.4658e-01, -4.7778e-01,\n",
            "          5.5084e-02, -3.0197e-02,  3.1909e-01,  2.5146e-01, -4.4971e-01,\n",
            "          1.5015e-01, -1.1743e-01,  5.1172e-01,  6.7188e-01,  2.4219e-01,\n",
            "         -2.1521e-01, -3.1714e-01, -1.5332e-01,  1.7346e-01,  4.8267e-01,\n",
            "         -1.9250e-01, -2.4829e-01,  7.4524e-02, -3.8867e-01, -2.5284e-02,\n",
            "         -1.9275e-01, -4.2407e-01, -9.7847e-04,  9.7412e-02,  3.8471e-03,\n",
            "         -8.6975e-03,  3.0322e-01,  8.8257e-02, -7.0007e-02, -6.1493e-02,\n",
            "         -9.4434e-01, -1.8689e-01, -2.4490e-02, -6.4453e-02, -6.9287e-01,\n",
            "         -5.4248e-01,  6.0333e-02,  3.8037e-01, -1.1053e-01,  7.3145e-01,\n",
            "          6.0059e-01,  5.6335e-02,  2.4634e-01, -4.0405e-01,  2.6367e-01,\n",
            "         -7.7734e-01,  3.4448e-01,  4.6997e-01, -7.4512e-01, -2.3669e-01,\n",
            "         -2.6978e-01, -1.6040e-01, -4.8901e-01,  5.8057e-01,  2.4670e-01,\n",
            "         -7.5684e-02, -7.7698e-02, -1.3037e-01,  5.7422e-01, -5.7422e-01,\n",
            "          1.8784e-02,  3.4717e-01,  2.5903e-01, -5.4053e-01,  4.4507e-01,\n",
            "         -1.9104e-02, -6.4392e-03,  3.1909e-01, -3.3350e-01, -1.2305e-01,\n",
            "          7.1716e-02,  2.7612e-01, -2.3645e-01,  1.9934e-01,  1.3416e-01,\n",
            "         -2.4243e-01, -5.5713e-01,  7.2998e-02, -2.0996e-01, -5.5713e-01,\n",
            "         -5.4736e-01,  2.5830e-01, -2.8125e-01,  5.4346e-01, -3.5986e-01,\n",
            "         -5.1855e-01,  4.3249e-04, -8.7646e-02, -4.3555e-01, -5.2441e-01,\n",
            "          2.9028e-01,  1.4197e-01, -3.5376e-01,  1.5625e-01, -1.3013e-01,\n",
            "         -2.8535e+00, -2.5830e-01,  4.4312e-01,  5.2197e-01, -7.1729e-01,\n",
            "         -3.5669e-01,  8.4473e-01, -4.6167e-01, -2.1484e-01,  9.3018e-02,\n",
            "          1.7920e-01,  3.5547e-01,  5.1697e-02, -8.7451e-01,  1.0266e-01,\n",
            "          1.2927e-01, -2.1387e-01, -4.8553e-02, -5.0049e-02, -6.7920e-01,\n",
            "         -3.1348e-01, -1.3428e-01,  5.9967e-02,  3.3569e-01,  4.2725e-01,\n",
            "          1.6394e-01, -5.8655e-02,  3.9746e-01,  1.8457e-01, -1.4258e-01,\n",
            "          8.9062e-01, -3.0688e-01, -2.3746e-03, -3.7872e-02, -2.5146e-01,\n",
            "          7.2266e-02,  1.9751e-01,  2.3120e-01, -5.9668e-01, -8.6230e-01,\n",
            "          3.1885e-01,  3.1519e-01,  3.2520e-01, -1.7227e-02,  5.4492e-01,\n",
            "          7.2119e-01, -2.8467e-01,  2.4017e-02,  1.2305e-01,  7.2876e-02,\n",
            "          8.5510e-02, -9.1797e-02, -1.2732e-01, -1.6919e-01,  3.7842e-01,\n",
            "         -5.3369e-01, -3.4375e-01,  7.2861e-03, -5.6787e-01, -4.9639e-04,\n",
            "         -1.9180e-02,  1.7212e-01,  5.8154e-01,  2.1619e-01, -1.3403e-01,\n",
            "         -1.0254e-01, -2.4976e-01, -3.4253e-01, -3.2300e-01, -4.1675e-01,\n",
            "          9.4604e-02,  1.2802e-02,  1.3268e-02,  8.4106e-02, -1.2109e-01,\n",
            "         -1.8958e-01,  8.6035e-01, -7.8857e-02,  8.5083e-02, -4.4067e-01,\n",
            "         -1.5540e-01, -5.0140e-02,  1.3257e-01, -1.3782e-01,  2.8076e-01,\n",
            "         -2.0618e-01,  1.0332e+00, -1.2646e+00,  7.5195e-02, -3.5187e-02,\n",
            "         -1.5027e-01, -1.0479e+00,  3.5986e-01, -2.4102e+00, -2.9834e-01,\n",
            "         -3.6621e-02, -1.0431e-01, -3.4424e-01, -4.5459e-01, -1.6846e-01,\n",
            "          1.7227e-02,  3.8965e-01, -3.1079e-01,  2.7051e-01,  1.9543e-01,\n",
            "         -8.6731e-02, -3.4155e-01,  5.9863e-01, -1.2537e-01,  4.0845e-01,\n",
            "          3.7231e-01, -4.8340e-01, -7.5439e-01, -1.5771e-01, -2.4658e-01,\n",
            "         -4.4141e-01, -1.1548e-01,  1.0645e-01,  7.3242e-01, -2.4719e-01,\n",
            "         -5.0635e-01, -1.0195e+01,  3.8525e-01,  4.8561e-03, -9.4238e-02,\n",
            "          1.8823e-01, -4.4360e-01,  8.7549e-01, -4.5288e-01, -1.7932e-01,\n",
            "          2.9907e-01, -2.8882e-01,  6.4697e-02,  1.5503e-01, -1.9116e-01,\n",
            "         -1.5894e-01,  3.6450e-01,  2.7075e-01,  1.7676e-01, -3.9215e-03,\n",
            "          3.8086e-01,  3.8818e-01,  2.2534e-01,  5.2734e-01,  1.0376e-02,\n",
            "          1.4612e-01, -2.3999e-01,  1.4526e-01, -2.7695e-02,  5.1514e-01,\n",
            "         -1.6980e-01,  2.4707e-01, -5.5603e-02,  6.5381e-01,  7.0215e-01,\n",
            "          4.4360e-01,  2.0520e-01,  2.9053e-01,  2.1338e-01,  5.2979e-01,\n",
            "         -1.6626e-01,  2.8003e-01, -2.8467e-01,  2.5146e-01,  6.7139e-02,\n",
            "          3.6353e-01, -8.2471e-01, -3.3032e-01, -3.6597e-01, -4.3823e-02,\n",
            "         -2.5684e-01, -3.8696e-01, -3.5547e-01,  4.3066e-01,  4.0356e-01,\n",
            "         -4.8218e-01,  1.2295e+00, -4.5752e-01, -1.1330e-03,  3.0838e-02,\n",
            "         -7.9102e-02, -3.3081e-01, -4.2529e-01, -2.3889e-01, -1.6235e-01,\n",
            "         -4.8340e-01,  1.5002e-01, -1.1890e-01,  5.1025e-02, -5.2930e-01,\n",
            "         -3.2593e-01,  9.4757e-03,  9.2590e-02,  5.2100e-01,  2.1960e-01,\n",
            "         -2.0398e-01, -2.8687e-01, -8.0688e-02,  1.2634e-01,  8.0762e-01,\n",
            "         -1.9824e-01, -5.2734e-01, -4.5532e-01,  5.2582e-02,  6.2939e-01,\n",
            "         -4.9463e-01, -2.4426e-01,  3.6353e-01,  4.9072e-01,  4.1309e-01,\n",
            "          2.8589e-01, -1.2830e-01,  2.8394e-01, -2.4731e-01, -3.7170e-02,\n",
            "          2.8931e-02, -2.9834e-01,  8.5205e-01, -1.3184e+00,  7.7209e-02,\n",
            "         -1.7773e-01, -4.0332e-01,  6.4209e-02,  2.6953e-01, -1.8237e-01,\n",
            "         -1.6699e-03, -1.3939e-02,  4.4556e-02,  1.5161e-01,  4.7534e-01,\n",
            "          4.2114e-02,  5.5713e-01,  4.7412e-01, -9.4299e-02,  2.9068e-02,\n",
            "         -9.5886e-02,  2.6807e-01,  2.0435e-01, -4.9268e-01, -1.6211e-01,\n",
            "          7.8711e-01,  1.7151e-01, -5.9937e-02, -5.6366e-02,  5.8838e-01,\n",
            "          8.7578e+00, -3.1128e-01,  4.7168e-01,  1.5747e-01, -4.1748e-01,\n",
            "         -5.9082e-01,  4.7217e-01,  2.1899e-01, -6.1816e-01,  1.6150e-01,\n",
            "         -2.4915e-01,  1.4771e-01,  6.4648e-01,  6.6846e-01, -2.1680e-01,\n",
            "         -3.5352e-01,  1.6675e-01,  4.1943e-01, -1.3252e+00,  2.9468e-01,\n",
            "         -1.9287e-02,  2.9297e-01,  9.6375e-02, -5.0244e-01,  1.5125e-01,\n",
            "          2.3511e-01,  7.0435e-02, -5.5518e-01,  2.2327e-01,  8.6865e-01,\n",
            "          1.5137e-01, -2.8320e-02,  1.8982e-01, -1.7590e-01, -1.2903e-01,\n",
            "         -2.0935e-01, -2.6343e-01, -2.5903e-01, -3.0884e-01,  7.8857e-01,\n",
            "          1.2854e-01,  2.5317e-01, -2.1008e-01,  2.1216e-01,  4.1772e-01,\n",
            "         -7.3730e-01,  2.2888e-01, -2.8687e-01,  3.2031e-01, -2.4182e-01,\n",
            "         -4.1008e-03,  3.9429e-01, -6.4111e-01, -9.0820e-01, -2.3596e-01,\n",
            "         -4.6509e-01,  6.0181e-02, -1.2402e-01, -4.3701e-01, -3.0811e-01,\n",
            "          6.0486e-02,  3.6011e-01,  3.2642e-01,  2.0703e-01, -1.9531e-01,\n",
            "         -3.0249e-01,  3.7500e-01,  1.1554e-01, -9.1125e-02, -1.0309e-01,\n",
            "          1.6492e-01, -2.5195e-01, -3.4692e-01, -1.8054e-01, -3.7048e-02,\n",
            "         -5.0928e-01, -4.8535e-01, -4.5624e-02, -5.2826e-02,  5.7520e-01,\n",
            "         -3.4570e-01,  3.5449e-01, -1.8066e-02,  7.3357e-03,  7.4902e-01,\n",
            "          9.8389e-02, -1.1823e-01, -1.2549e-01, -5.7422e-01,  6.7017e-02,\n",
            "          3.2013e-02,  1.9556e-01, -4.7217e-01,  5.3027e-01,  4.9854e-01,\n",
            "          3.5980e-02, -2.1572e-03, -6.1310e-02, -1.2708e-01, -2.0898e-01,\n",
            "         -3.6597e-01, -1.9763e-01, -2.4341e-01,  1.7822e-02, -1.0156e+00,\n",
            "         -8.9661e-02,  7.9956e-02,  1.4502e-01,  1.8677e-01,  3.2104e-01,\n",
            "          4.9756e-01, -1.4270e-01,  5.1904e-01,  4.7632e-01, -5.5817e-02,\n",
            "          2.9510e-02, -1.3789e+00, -6.1035e-01, -4.6191e-01,  8.4381e-03,\n",
            "         -8.2910e-01,  5.1880e-02,  2.1729e-01, -2.1957e-02,  1.3733e-01,\n",
            "         -6.6101e-02,  5.4102e-01, -7.7588e-01,  3.1787e-01, -1.0529e-01,\n",
            "          6.5430e-02, -4.3188e-01, -4.5361e-01,  3.1641e-01,  4.0015e-01,\n",
            "          2.1069e-01, -3.5767e-01,  6.7261e-02,  4.5264e-01,  1.4417e-01,\n",
            "         -2.8149e-01, -2.5977e-01, -1.0309e-01,  9.3567e-02, -4.4678e-01,\n",
            "          2.4561e-01, -9.9945e-03,  6.6504e-01, -9.7754e-01, -1.5625e-01,\n",
            "          4.8706e-01,  1.2720e-01, -4.2383e-01, -2.8540e-01, -3.5278e-01,\n",
            "         -2.5098e-01,  4.4702e-01, -6.2891e-01, -8.3847e-03, -9.7473e-02,\n",
            "         -1.1597e-01, -1.7957e-01,  3.3569e-01, -1.9849e-01, -7.5623e-02,\n",
            "         -1.1895e+00,  3.6914e-01,  3.7646e-01,  3.6987e-01, -3.0811e-01,\n",
            "          6.2195e-02, -1.4624e-01, -4.5459e-01, -6.6357e-01, -2.2876e-01,\n",
            "         -6.4209e-01, -7.1777e-02, -6.6309e-01, -3.9551e-02,  1.2085e-02,\n",
            "          7.2510e-01, -3.3765e-01, -2.8320e-01, -5.5127e-01, -6.4453e-01,\n",
            "         -4.9243e-01, -3.6041e-02, -1.1371e-01, -3.4424e-01,  6.1426e-01,\n",
            "         -3.4741e-01,  5.5127e-01, -7.2363e-01,  8.7158e-02,  2.6660e-01,\n",
            "          8.4991e-03,  1.3538e-01,  4.2432e-01,  5.7422e-01,  1.3757e-01,\n",
            "         -1.7908e-01, -1.0797e-01, -1.3535e-02, -6.3818e-01,  1.3115e+00,\n",
            "         -1.0614e-01, -9.4299e-02, -5.0903e-02, -3.5305e-03, -2.1704e-01,\n",
            "          4.1528e-01,  3.7305e-01, -2.5635e-03,  7.1960e-02, -1.8469e-01,\n",
            "         -2.6611e-01,  2.9053e-01,  9.3689e-02,  2.3584e-01,  9.3994e-02,\n",
            "          2.4280e-01,  7.3193e-01,  2.9663e-01, -3.5132e-01, -1.2482e-01,\n",
            "         -2.6636e-01, -2.7856e-01,  1.0078e+00,  3.6816e-01,  3.8379e-01,\n",
            "         -4.1473e-02,  1.9543e-01, -2.9736e-01, -3.4717e-01, -1.3501e-01,\n",
            "         -3.1885e-01, -5.5664e-02, -6.6504e-01, -2.4170e-01,  2.6196e-01,\n",
            "         -5.1611e-01,  3.4863e-01, -1.8396e-01,  3.1641e-01,  2.3645e-01,\n",
            "         -1.5991e-01,  7.3389e-01, -7.5607e-03, -2.5439e-01, -1.6272e-01,\n",
            "          8.3252e-01, -4.0332e-01,  1.0999e-01,  1.1334e-01,  7.3364e-02,\n",
            "         -2.1533e-01,  6.4893e-01, -3.2886e-01, -8.1848e-02, -3.5217e-02,\n",
            "          4.4849e-01,  2.7856e-01,  1.6943e-01, -8.6426e-01, -2.4768e-01,\n",
            "          3.9941e-01, -1.0565e-01, -1.2317e-01, -3.6206e-01,  1.1115e-01,\n",
            "          2.8394e-01,  3.8647e-01, -2.9053e-01, -1.1340e-01,  5.0928e-01,\n",
            "          6.2451e-01,  1.1298e-01, -4.1772e-01, -5.2979e-01, -1.7944e-01,\n",
            "         -5.7129e-01,  5.2002e-02,  1.5710e-01, -8.8232e-01,  5.5518e-01,\n",
            "         -1.9287e-01, -5.6250e-01, -6.5491e-02,  2.5488e-01,  3.3789e-01,\n",
            "         -2.0435e-01, -5.6061e-02, -3.2642e-01, -3.5059e-01, -4.8584e-01,\n",
            "         -2.3645e-01,  1.2550e-02,  7.9443e-01, -5.1514e-02, -5.1025e-01,\n",
            "          2.5940e-03, -2.6880e-01, -2.9517e-01, -2.1143e-01,  7.8662e-01,\n",
            "          1.4026e-01,  3.3081e-01, -1.9806e-02, -1.2195e-01, -1.8176e-01,\n",
            "          1.1792e-01, -3.3301e-01,  4.4434e-01,  1.0192e-05,  3.8770e-01,\n",
            "          3.7140e-02,  2.5708e-01,  2.7649e-02,  1.5759e-01,  5.8533e-02,\n",
            "          7.4561e-01, -9.0723e-01,  6.5771e-01, -4.6289e-01, -4.1919e-01,\n",
            "          1.5906e-01, -1.1768e-01, -3.3057e-01]], dtype=torch.float16), 'How many buildings can be seen in the image?': tensor([[-5.5957e-01,  4.6722e-02,  6.7725e-01,  1.0459e+00, -1.1658e-01,\n",
            "          1.7847e-01, -2.9810e-01,  2.3792e-01, -3.0859e-01, -1.7102e-01,\n",
            "         -2.6538e-01, -5.0000e-01, -2.9175e-01, -3.7134e-01, -3.3105e-01,\n",
            "          1.6345e-01,  4.5386e-01, -4.2456e-01, -3.0014e-02, -5.3125e-01,\n",
            "          7.8906e-01,  2.0190e-01, -1.1896e-01,  9.0430e-01,  2.0386e-01,\n",
            "         -2.1094e-01, -7.3828e-01, -4.6338e-01,  5.0977e-01,  1.8616e-01,\n",
            "         -1.2184e-02,  6.1768e-01,  2.3384e-03, -9.0137e-01, -2.9736e-01,\n",
            "         -6.5857e-02,  8.6365e-02, -2.4561e-01, -1.9910e-01,  2.3962e-01,\n",
            "         -1.4648e-01, -3.4399e-01, -4.7607e-01, -2.9370e-01, -3.8110e-01,\n",
            "          6.4746e-01, -5.2246e-02,  1.2439e-01,  7.0020e-01, -2.3669e-01,\n",
            "         -1.2476e-01, -5.6152e-01,  4.7803e-01,  4.0137e-01, -4.5068e-01,\n",
            "         -5.1270e-01,  2.1411e-01,  6.8665e-02, -8.0322e-02, -3.8989e-01,\n",
            "          6.8359e-02, -1.2927e-01, -8.8037e-01,  6.5088e-01, -3.2495e-01,\n",
            "         -6.2866e-02, -2.0459e-01,  1.5430e-01, -2.1082e-01, -3.0960e-02,\n",
            "          5.8496e-01, -1.7297e-01, -1.3684e-01, -7.1729e-01,  2.8247e-01,\n",
            "         -5.0586e-01,  2.8247e-01,  2.8320e-01, -3.7085e-01, -7.0190e-02,\n",
            "         -4.4385e-01, -9.5276e-02, -3.9575e-01,  6.3623e-01,  1.8518e-01,\n",
            "          4.4629e-01,  1.1835e-01, -6.7529e-01, -9.9609e-01, -5.8301e-01,\n",
            "          2.2205e-01, -3.1372e-01,  1.8384e-01, -2.6657e-02,  1.7990e-02,\n",
            "         -4.4971e-01, -2.3181e-01, -1.1884e-01, -2.3804e-02, -5.7812e-01,\n",
            "         -6.4600e-01,  1.6870e-01,  2.7295e-01,  8.6328e-01, -3.7415e-02,\n",
            "          9.3689e-02,  2.5928e-01,  1.6333e-01,  8.4668e-01,  9.8242e-01,\n",
            "          1.6687e-01,  7.1289e-02, -2.8149e-01,  1.8250e-01, -1.2891e-01,\n",
            "         -6.5576e-01, -2.0325e-01, -7.6709e-01, -4.7925e-01,  5.5420e-01,\n",
            "         -3.2495e-01,  2.4976e-01,  4.4141e-01, -3.9233e-01,  5.8289e-03,\n",
            "          3.4595e-01, -2.5818e-02,  1.8884e-01,  1.0437e-01, -1.5967e-01,\n",
            "         -1.2585e-01,  4.6753e-01,  6.9946e-02,  1.3330e-01, -1.0215e+00,\n",
            "         -7.0654e-01, -4.2871e-01, -4.8248e-02,  7.5439e-01,  1.0492e-01,\n",
            "         -1.0156e-01, -1.3770e-01,  8.4033e-01, -7.1729e-01,  1.8384e-01,\n",
            "         -8.1641e-01,  2.1167e-01,  9.9170e-01, -2.1948e-01, -4.1870e-02,\n",
            "          1.9653e-01, -8.9966e-02, -3.9307e-01,  2.7148e-01,  3.2373e-01,\n",
            "         -3.0664e-01, -2.6953e-01,  1.9836e-01,  5.2765e-02, -2.5244e-01,\n",
            "          5.8441e-02, -1.2183e-01,  4.1992e-01, -6.0986e-01, -3.8770e-01,\n",
            "         -1.8341e-02, -1.1884e-01, -3.8770e-01,  2.3985e-04, -4.8267e-01,\n",
            "         -5.5328e-02,  3.0884e-01, -4.2725e-01, -3.7476e-02,  4.4043e-01,\n",
            "         -3.2983e-01, -9.7656e-02, -5.1465e-01,  5.2295e-01, -3.4180e-01,\n",
            "         -2.9663e-02, -6.8176e-02, -2.7222e-01,  4.0503e-01, -1.7004e-01,\n",
            "         -5.7227e-01,  1.5076e-01,  1.4490e-01,  2.5488e-01, -1.2463e-01,\n",
            "          3.7842e-01,  2.7319e-01, -1.7639e-01, -3.7598e-01, -3.5181e-01,\n",
            "         -1.7812e+00, -2.4463e-01,  7.0850e-01,  5.6592e-01, -5.3760e-01,\n",
            "         -4.0588e-02,  3.3057e-01,  8.5449e-02,  9.0454e-02,  2.4805e-01,\n",
            "          3.2324e-01,  4.5166e-01, -1.4319e-01,  2.0422e-01, -2.1252e-01,\n",
            "          1.6235e-01, -5.7422e-01, -2.8394e-01, -1.0968e-01, -2.3157e-01,\n",
            "          1.4819e-01, -1.2634e-01,  1.9617e-01,  4.0576e-01, -9.6252e-02,\n",
            "          1.2805e-01,  3.4082e-01,  1.5515e-01,  2.7197e-01, -3.0371e-01,\n",
            "          2.3486e-01,  3.5217e-02, -1.2939e-01,  2.6611e-01,  2.7930e-01,\n",
            "          3.3423e-01, -6.4551e-01, -3.5522e-01,  4.3030e-03, -4.9097e-01,\n",
            "          5.1074e-01,  6.4258e-01,  3.3301e-01, -2.5366e-01, -9.1553e-02,\n",
            "          4.8022e-01, -2.3291e-01, -2.0972e-01,  1.6638e-01,  1.0297e-01,\n",
            "         -1.3928e-01, -7.9590e-02, -6.9214e-02, -1.6821e-01, -6.5125e-02,\n",
            "          1.9397e-01,  2.4902e-01,  2.9541e-01, -3.9062e-01,  1.5515e-01,\n",
            "         -1.3702e-02, -1.6797e-01,  1.9666e-01, -4.8294e-03, -3.2886e-01,\n",
            "         -2.1741e-01, -4.7900e-01, -7.8174e-01,  6.2195e-02, -4.0161e-02,\n",
            "          2.6440e-01,  1.9763e-01, -2.9102e-01, -5.7037e-02, -2.8516e-01,\n",
            "          4.7656e-01, -2.0984e-01,  3.9526e-01, -2.8369e-01,  2.4939e-01,\n",
            "         -1.7432e-01, -7.3181e-02, -3.3081e-01, -7.1297e-03, -5.1123e-01,\n",
            "          2.2491e-02,  1.0632e-01, -8.8135e-01,  8.4717e-01, -1.1847e-01,\n",
            "          4.0924e-02, -8.1934e-01,  3.0655e-02, -1.4102e+00, -2.9688e-01,\n",
            "          7.0752e-01,  3.6963e-01, -4.8608e-01, -3.7793e-01,  3.7451e-01,\n",
            "         -4.0601e-01,  2.4548e-01,  3.8281e-01,  1.6586e-02,  4.8730e-01,\n",
            "         -2.5684e-01, -5.0934e-02,  2.1301e-01, -2.6123e-01, -2.1997e-01,\n",
            "         -2.4390e-01, -8.5840e-01, -2.7863e-02,  2.5317e-01, -3.9062e-02,\n",
            "         -8.9258e-01,  2.2278e-01,  9.9548e-02,  8.2080e-01, -4.8462e-01,\n",
            "          2.4646e-01, -9.2656e+00,  1.3953e-01,  7.5195e-02, -3.2422e-01,\n",
            "         -1.2030e-01, -1.1875e+00,  4.0796e-01, -9.8047e-01, -9.9487e-02,\n",
            "          3.8208e-01, -2.6392e-01, -3.0347e-01,  2.7802e-02,  2.5610e-01,\n",
            "         -1.0327e-01,  5.6396e-01,  4.3188e-01, -3.2463e-03, -3.5791e-01,\n",
            "          2.9150e-01,  5.4395e-01, -7.6599e-02, -3.3789e-01,  2.3389e-01,\n",
            "         -4.8413e-01, -2.4780e-01,  4.6729e-01, -1.4587e-01, -3.1299e-01,\n",
            "          8.0383e-02,  4.1211e-01, -1.9080e-01,  1.0742e-02,  1.9275e-01,\n",
            "          3.4619e-01, -9.9426e-02, -1.2695e-01,  5.5566e-01,  1.4786e-02,\n",
            "          2.2876e-01,  2.8516e-01, -2.7100e-01,  4.2261e-01,  4.0283e-01,\n",
            "         -4.0137e-01, -6.9824e-01,  2.9053e-01,  7.9651e-02, -1.7346e-01,\n",
            "          4.5972e-01,  6.0742e-01, -4.4409e-01,  5.0586e-01,  4.3384e-01,\n",
            "         -4.6411e-01,  4.5508e-01,  3.2202e-01,  8.3862e-02, -3.0176e-01,\n",
            "         -6.6504e-01,  1.9739e-01, -1.0309e-01,  1.6736e-01,  3.7817e-01,\n",
            "          1.1084e-01,  1.3220e-01, -2.3755e-01, -3.1323e-01, -5.9601e-02,\n",
            "          8.4595e-02,  1.6736e-01, -1.1664e-01,  1.7822e-01, -3.0167e-02,\n",
            "          1.4905e-01, -1.0522e-01,  2.7783e-01, -5.1123e-01,  7.5623e-02,\n",
            "          1.9153e-01, -4.3701e-01, -7.2168e-01, -3.5181e-01, -1.9666e-01,\n",
            "         -6.1226e-03, -5.9912e-01,  1.6406e-01,  5.1807e-01,  9.4678e-01,\n",
            "         -6.1401e-02,  1.7957e-01,  3.6035e-01, -3.8452e-01,  3.3081e-01,\n",
            "         -1.3232e-01,  1.5234e-01,  9.4482e-01, -1.0576e+00,  8.7891e-02,\n",
            "         -8.7158e-02,  8.5754e-02,  8.0811e-02,  3.3020e-02, -5.3662e-01,\n",
            "         -9.5886e-02,  1.1157e-01, -9.6436e-02,  2.1326e-01,  3.6572e-01,\n",
            "         -3.4210e-02,  8.9648e-01,  4.6313e-01,  2.4390e-01, -1.4145e-02,\n",
            "         -1.6861e-02,  1.8774e-01, -3.0060e-02, -3.2837e-01,  2.7759e-01,\n",
            "          1.1426e+00,  7.9199e-01, -4.8364e-01,  2.1289e-01, -4.2700e-01,\n",
            "          8.3828e+00,  6.5283e-01,  2.3209e-02, -1.0724e-01, -1.1261e-01,\n",
            "          1.0248e-01,  3.1033e-03,  7.7002e-01, -3.5547e-01,  6.0028e-02,\n",
            "          6.0254e-01,  4.8706e-01,  1.0117e+00,  1.1533e+00, -4.6216e-01,\n",
            "         -1.1963e-01, -3.9624e-01,  4.1162e-01, -9.6826e-01, -2.6611e-01,\n",
            "          4.0356e-01, -1.1646e-01,  3.1311e-02,  2.6245e-01, -4.0820e-01,\n",
            "         -1.3756e-02,  3.3844e-02, -3.6401e-01,  1.6870e-01,  1.2793e-01,\n",
            "         -9.8633e-02, -1.8359e-01, -3.2861e-01, -6.9336e-02, -9.1125e-02,\n",
            "         -7.3853e-02,  3.6841e-01, -4.2236e-02,  2.3056e-02,  3.5718e-01,\n",
            "         -6.3049e-02,  5.3223e-01,  1.1353e-01,  4.8657e-01,  1.6699e-01,\n",
            "         -3.5986e-01,  5.5713e-01,  2.1594e-01, -4.2114e-02, -2.7148e-01,\n",
            "         -5.3027e-01,  2.4744e-01, -3.0078e-01, -4.3994e-01, -2.7148e-01,\n",
            "         -2.4805e-01, -1.1609e-01, -3.3228e-01, -8.8135e-02, -7.3975e-02,\n",
            "         -5.9723e-02,  9.0881e-02,  1.7065e-01, -1.9873e-01, -5.2197e-01,\n",
            "         -5.8936e-01,  7.3242e-02, -4.6777e-01, -3.9478e-01,  8.4961e-01,\n",
            "         -1.9824e-01,  3.4546e-01, -4.1943e-01, -5.2881e-01, -2.7026e-01,\n",
            "         -9.4055e-02, -2.5562e-01, -2.4292e-02, -4.5508e-01,  7.0996e-01,\n",
            "          4.9438e-01,  4.0796e-01,  2.5269e-01,  3.9673e-01,  7.0305e-03,\n",
            "         -1.1212e-01,  1.7310e-01,  8.4229e-02, -1.5674e+00,  5.5078e-01,\n",
            "         -7.5732e-01,  6.1621e-01,  1.4905e-01,  2.1191e-01,  4.7803e-01,\n",
            "          5.1416e-01, -4.3872e-01,  4.1333e-01, -5.5420e-01, -3.1250e-01,\n",
            "         -2.3828e-01,  1.0156e-01, -3.8208e-01,  5.9662e-02, -7.7783e-01,\n",
            "         -5.8594e-01, -2.5269e-01, -4.3481e-01, -1.0388e-01,  6.2695e-01,\n",
            "          4.2896e-01, -5.3320e-01,  2.7856e-01,  1.2549e-01, -1.2317e-01,\n",
            "         -2.6929e-01, -1.3008e+00, -4.0649e-01,  1.4929e-01,  1.9067e-01,\n",
            "         -2.8931e-01,  7.5012e-02, -6.0010e-01, -2.2498e-01,  4.2175e-02,\n",
            "          3.1812e-01,  7.1387e-01, -6.4111e-01, -5.4840e-02, -2.4597e-02,\n",
            "         -2.6929e-01, -3.9429e-01, -6.7932e-02,  1.9067e-01,  3.6646e-01,\n",
            "          2.0264e-01, -1.6016e-01, -2.4927e-01,  2.9468e-01,  1.0248e-01,\n",
            "         -3.9258e-01,  1.7346e-01, -4.3823e-01, -2.7319e-01, -4.4800e-01,\n",
            "          8.1360e-02,  4.3945e-01,  1.3049e-01,  3.7022e-03,  3.0322e-01,\n",
            "          2.9175e-02,  2.0862e-01, -5.1367e-01, -1.0089e-01,  2.0300e-01,\n",
            "          7.8125e-02,  1.6296e-01,  1.6870e-01,  5.1537e-03, -1.6467e-01,\n",
            "         -4.1968e-01, -4.1724e-01,  2.8516e-01,  2.6855e-01, -3.6401e-01,\n",
            "         -6.5918e-01, -2.0215e-01,  8.1006e-01,  1.8115e-01, -3.3105e-01,\n",
            "         -2.3613e-03,  2.6099e-01, -4.4629e-01, -1.8823e-01,  3.1226e-01,\n",
            "         -4.5508e-01,  1.8164e-01, -2.5925e-02,  9.3811e-02,  1.6724e-01,\n",
            "          1.0022e-01, -2.0129e-01, -3.9795e-01,  5.2429e-02, -8.4814e-01,\n",
            "         -3.4937e-01, -2.1912e-01, -6.2439e-02, -6.5869e-01,  1.2665e-02,\n",
            "         -3.2861e-01,  9.5752e-01, -1.0333e-01,  3.0127e-01, -5.1514e-01,\n",
            "          8.9233e-02, -1.2366e-01,  4.0308e-01,  3.5913e-01, -5.1318e-01,\n",
            "         -5.0171e-02,  7.3682e-01,  6.5430e-02, -5.8008e-01,  1.0576e+00,\n",
            "         -4.6875e-02,  1.8933e-01, -3.3203e-01, -1.1884e-01, -1.6968e-01,\n",
            "         -1.3866e-03, -1.2825e-02,  5.6494e-01,  1.9165e-01, -4.1357e-01,\n",
            "         -1.6052e-01, -5.3174e-01,  2.3584e-01,  1.9568e-01,  5.9033e-01,\n",
            "          4.1870e-01,  3.3594e-01, -6.5918e-01,  4.5874e-01, -4.1040e-01,\n",
            "         -2.6538e-01,  1.3831e-01,  8.8184e-01,  1.2201e-01,  4.3921e-01,\n",
            "          7.0068e-01,  7.1350e-02, -9.8343e-03, -2.7539e-01,  5.0293e-01,\n",
            "         -4.7668e-02, -1.9446e-01,  2.0972e-01, -1.9568e-01, -1.8665e-01,\n",
            "         -8.2861e-01,  1.9971e-01, -3.2501e-02,  3.1689e-01,  3.5858e-02,\n",
            "          4.0283e-03,  4.2139e-01,  2.4780e-02,  2.1741e-01,  5.2216e-02,\n",
            "          4.0430e-01,  2.3242e-01, -4.5996e-01,  1.8323e-01,  3.8965e-01,\n",
            "         -3.3252e-01, -7.1777e-02, -9.0918e-01,  8.2458e-02,  1.9019e-01,\n",
            "         -4.4830e-02, -2.1716e-01,  3.8971e-02, -3.8184e-01,  2.3584e-01,\n",
            "          6.0596e-01,  3.0005e-01, -4.5947e-01, -2.7695e-02, -1.1548e-01,\n",
            "          2.2742e-01, -9.1675e-02,  7.2803e-01,  1.2012e-01,  1.3049e-01,\n",
            "         -1.5417e-01, -6.7529e-01,  5.3314e-02, -5.5615e-01,  3.7671e-01,\n",
            "          4.4873e-01,  4.5337e-01, -2.6001e-01, -7.2412e-01,  7.7197e-01,\n",
            "          6.8555e-01, -1.4624e-01, -4.0588e-02,  7.6270e-01,  3.6475e-01,\n",
            "         -4.9414e-01, -7.3340e-01, -8.2703e-02, -3.6084e-01, -3.9160e-01,\n",
            "          4.8901e-01, -1.4392e-01, -2.8296e-01,  4.4482e-01,  4.9988e-02,\n",
            "         -2.9736e-03, -5.9357e-03, -5.6104e-01, -4.6616e-03,  3.8403e-01,\n",
            "          4.7534e-01,  7.4316e-01,  4.5929e-02, -4.3915e-02,  1.9714e-01,\n",
            "         -3.4619e-01,  7.3364e-02,  1.8127e-01, -4.3530e-01,  1.3770e-01,\n",
            "         -2.9956e-01,  1.7395e-01,  5.6201e-01, -4.2236e-01, -1.1755e-01,\n",
            "          5.5615e-01, -8.2031e-01, -3.7323e-02,  2.1497e-01, -5.6348e-01,\n",
            "          1.7615e-01,  5.4980e-01,  2.4307e-02]], dtype=torch.float16), 'How many buildings can be seen in this image?': tensor([[-6.1084e-01,  7.0190e-02,  6.2402e-01,  9.8438e-01, -4.1260e-02,\n",
            "          1.9067e-01, -3.9355e-01,  3.4351e-01, -2.9199e-01, -1.6626e-01,\n",
            "         -1.6101e-01, -5.6592e-01, -2.3145e-01, -2.7197e-01, -3.1787e-01,\n",
            "          2.1570e-01,  3.9966e-01, -2.9663e-01, -4.5929e-02, -5.8447e-01,\n",
            "          7.8711e-01,  2.4243e-01, -1.0645e-01,  9.1455e-01,  1.9873e-01,\n",
            "         -1.7419e-01, -7.7393e-01, -3.0688e-01,  5.1953e-01,  6.0852e-02,\n",
            "          7.5806e-02,  7.0850e-01,  3.6407e-02, -8.2812e-01, -1.7627e-01,\n",
            "          3.0716e-02,  1.9043e-01, -2.0508e-01, -1.7944e-01,  3.0737e-01,\n",
            "         -7.3547e-02, -4.1553e-01, -5.0635e-01, -3.7573e-01, -3.2812e-01,\n",
            "          7.7783e-01, -1.8030e-01,  1.2421e-01,  5.5957e-01, -1.6943e-01,\n",
            "         -1.1108e-01, -5.7324e-01,  5.3906e-01,  7.5244e-01, -4.9097e-01,\n",
            "         -4.6436e-01,  2.1057e-01,  9.4788e-02, -1.1993e-01, -3.7476e-01,\n",
            "          6.2805e-02, -2.9272e-01, -8.4814e-01,  7.4170e-01, -2.6514e-01,\n",
            "         -1.3049e-01, -2.2729e-01,  7.1228e-02, -7.6355e-02, -1.1993e-01,\n",
            "          5.3857e-01, -1.1292e-01,  7.1259e-03, -6.0303e-01,  1.2988e-01,\n",
            "         -4.2456e-01,  2.6758e-01,  3.8770e-01, -3.5205e-01, -8.7219e-02,\n",
            "         -4.2041e-01, -2.0068e-01, -4.8242e-01,  6.2402e-01,  1.9702e-01,\n",
            "          4.9146e-01,  5.0232e-02, -6.5088e-01, -8.5938e-01, -5.6152e-01,\n",
            "          3.0640e-01, -3.8721e-01,  1.0852e-01,  5.5084e-02,  9.5276e-02,\n",
            "         -4.2554e-01, -2.4548e-01, -1.4221e-01, -1.5152e-02, -5.4346e-01,\n",
            "         -6.2354e-01,  1.7749e-01,  3.7524e-01,  7.6514e-01, -1.1920e-01,\n",
            "          2.5269e-01,  3.0420e-01,  1.9873e-01,  7.9883e-01,  1.0811e+00,\n",
            "          3.7280e-01,  1.3501e-01, -1.4709e-01,  1.7786e-01, -4.7089e-02,\n",
            "         -6.7676e-01, -1.9324e-01, -8.0469e-01, -3.8330e-01,  5.2783e-01,\n",
            "         -3.3130e-01,  1.0931e-01,  3.4009e-01, -4.9951e-01, -1.2268e-01,\n",
            "          1.7114e-01, -3.1036e-02,  2.9312e-02,  1.6028e-01, -7.6721e-02,\n",
            "         -1.1823e-01,  5.0049e-01,  1.1279e-01,  3.3643e-01, -8.7891e-01,\n",
            "         -7.5977e-01, -4.9536e-01, -1.3940e-01,  6.8018e-01,  2.9321e-01,\n",
            "          8.4045e-02, -1.7358e-01,  9.1064e-01, -6.5771e-01,  1.4185e-01,\n",
            "         -9.2236e-01,  1.6235e-01,  1.0244e+00, -3.0225e-01, -1.1035e-01,\n",
            "          2.0776e-01, -1.4709e-01, -3.9478e-01,  2.7710e-01,  2.5415e-01,\n",
            "         -2.5903e-01, -4.0894e-01,  3.3301e-01,  4.2267e-02, -1.8835e-01,\n",
            "          8.2397e-02, -2.3413e-01,  4.0210e-01, -5.7715e-01, -3.3008e-01,\n",
            "         -1.5076e-01, -9.0759e-02, -2.5830e-01,  8.7967e-03, -4.5996e-01,\n",
            "         -6.3416e-02,  3.7500e-01, -4.9756e-01, -9.2346e-02,  4.5996e-01,\n",
            "         -3.0957e-01,  2.7344e-02, -1.8835e-01,  5.8545e-01, -3.1445e-01,\n",
            "         -1.1511e-01, -1.9104e-01, -3.7329e-01,  4.4824e-01, -1.7676e-01,\n",
            "         -5.2686e-01,  7.6477e-02,  1.6516e-01,  2.4646e-01, -7.8796e-02,\n",
            "          4.5703e-01,  2.2937e-01, -9.5154e-02, -3.9819e-01, -2.9639e-01,\n",
            "         -1.4287e+00, -2.8931e-01,  6.6357e-01,  4.5532e-01, -5.1172e-01,\n",
            "         -1.8749e-03,  1.9824e-01,  2.1582e-01,  1.4343e-01,  3.8062e-01,\n",
            "          3.0688e-01,  3.8940e-01, -1.0065e-01,  2.3340e-01, -4.0015e-01,\n",
            "          1.3684e-01, -5.8740e-01, -1.7065e-01, -2.0203e-02, -2.8076e-01,\n",
            "          1.9739e-01, -6.8054e-02,  1.4160e-01,  4.7046e-01, -3.7018e-02,\n",
            "          8.0872e-03,  3.1543e-01,  1.3611e-01,  3.3350e-01, -3.3350e-01,\n",
            "          2.8394e-01,  1.0028e-01, -1.8152e-01,  3.6841e-01,  3.0591e-01,\n",
            "          3.9526e-01, -6.8652e-01, -2.6001e-01, -1.0107e-01, -5.3906e-01,\n",
            "          6.2109e-01,  5.3320e-01,  1.1560e-01, -2.2668e-01, -1.6638e-01,\n",
            "          5.9814e-01, -1.9751e-01, -2.5513e-01,  1.8274e-01,  1.1029e-01,\n",
            "         -2.5903e-01, -6.0425e-02, -2.4231e-01, -1.5796e-01, -1.4343e-02,\n",
            "          1.3879e-01,  2.1838e-01,  1.8359e-01, -3.1909e-01,  1.7773e-01,\n",
            "          1.3977e-02, -2.9272e-01,  1.4685e-01,  7.4463e-02, -1.9751e-01,\n",
            "         -2.6074e-01, -4.2456e-01, -6.6455e-01, -3.7140e-02, -9.8343e-03,\n",
            "          1.7163e-01,  2.3291e-01, -1.9739e-01,  1.2152e-01, -3.6963e-01,\n",
            "          5.8740e-01, -2.3352e-01,  4.5459e-01, -1.4673e-01,  7.0801e-02,\n",
            "         -3.9825e-02, -1.3580e-02, -2.6465e-01, -1.9684e-02, -6.1426e-01,\n",
            "          1.2451e-01,  2.6831e-01, -8.7744e-01,  9.2285e-01, -1.1792e-01,\n",
            "          7.8857e-02, -8.1641e-01,  2.6810e-02, -8.8135e-01, -4.2944e-01,\n",
            "          7.0801e-01,  3.8159e-01, -4.8486e-01, -3.4766e-01,  4.8120e-01,\n",
            "         -4.6997e-01,  2.0435e-01,  2.7002e-01,  2.0264e-01,  6.7383e-01,\n",
            "         -3.1616e-01, -1.0651e-01,  1.0736e-01, -3.6963e-01, -2.6855e-01,\n",
            "         -1.3452e-01, -8.5742e-01, -1.9763e-01,  3.2910e-01, -9.2468e-02,\n",
            "         -9.7949e-01,  2.2766e-01,  2.2241e-01,  8.9111e-01, -5.2441e-01,\n",
            "          2.2705e-01, -8.8125e+00,  7.4890e-02,  1.3745e-01, -2.9956e-01,\n",
            "         -2.8671e-02, -1.1709e+00,  3.8965e-01, -1.1074e+00, -1.3098e-01,\n",
            "          2.6294e-01, -1.1340e-01, -1.8030e-01, -3.2837e-02,  4.0552e-01,\n",
            "          2.3331e-02,  5.5029e-01,  5.0244e-01,  7.5684e-02, -3.0420e-01,\n",
            "          2.0667e-01,  5.3369e-01,  2.1057e-02, -1.5649e-01,  7.2571e-02,\n",
            "         -5.2295e-01, -2.7271e-01,  4.3994e-01, -1.7334e-01, -4.0283e-01,\n",
            "          6.1584e-02,  5.6250e-01, -1.9995e-01,  6.5613e-02,  1.9409e-01,\n",
            "          4.8828e-01, -1.6187e-01, -9.5032e-02,  4.2212e-01, -5.5054e-02,\n",
            "          2.8198e-01,  3.8965e-01, -3.6011e-01,  3.9185e-01,  5.0146e-01,\n",
            "         -5.3564e-01, -7.3145e-01,  3.3374e-01,  1.2457e-01, -2.1582e-01,\n",
            "          4.6826e-01,  7.2754e-01, -4.9219e-01,  4.5190e-01,  4.5776e-01,\n",
            "         -5.6836e-01,  3.7988e-01,  3.5889e-01,  2.3462e-01, -3.9160e-01,\n",
            "         -6.8457e-01,  2.5293e-01, -7.0435e-02,  1.5210e-01,  3.5522e-01,\n",
            "          3.2178e-01,  1.0913e-01, -1.9263e-01, -3.0591e-01,  6.0844e-03,\n",
            "          8.5754e-02,  2.9810e-01, -1.4038e-01,  9.6619e-02, -4.0924e-02,\n",
            "          2.2827e-01, -9.3872e-02,  3.4595e-01, -4.8047e-01,  4.4975e-03,\n",
            "          2.5659e-01, -5.0146e-01, -6.8213e-01, -3.0469e-01, -3.9209e-01,\n",
            "         -1.7487e-02, -5.6201e-01,  2.0520e-01,  5.3711e-01,  9.4043e-01,\n",
            "         -9.8206e-02,  2.7222e-01,  3.3179e-01, -3.5181e-01,  1.5015e-01,\n",
            "         -1.1987e-01,  2.3706e-01,  8.9648e-01, -9.2969e-01,  2.6443e-02,\n",
            "          4.8981e-02,  1.5344e-01,  2.1744e-02,  1.1597e-01, -5.0879e-01,\n",
            "         -1.1926e-01,  1.7395e-01, -1.0919e-01,  2.4963e-01,  4.1260e-01,\n",
            "          8.2397e-03,  8.3105e-01,  4.8486e-01,  3.3325e-01, -1.4481e-02,\n",
            "          2.6779e-02,  2.3682e-01, -7.0251e-02, -2.5195e-01,  3.6401e-01,\n",
            "          1.0488e+00,  8.8037e-01, -3.7939e-01,  2.1143e-01, -3.9233e-01,\n",
            "          8.1016e+00,  6.5918e-01,  1.3757e-01, -5.3192e-02, -5.7922e-02,\n",
            "          1.2085e-01,  1.0602e-01,  9.2627e-01, -2.7393e-01,  1.5039e-01,\n",
            "          6.1670e-01,  5.1123e-01,  1.0049e+00,  9.2822e-01, -4.3970e-01,\n",
            "         -2.4500e-01, -4.0698e-01,  4.6509e-01, -7.7588e-01, -2.7783e-01,\n",
            "          3.0737e-01, -1.9373e-01, -8.7952e-02,  1.7529e-01, -5.5322e-01,\n",
            "          7.3669e-02, -8.2642e-02, -3.0884e-01,  1.5430e-01,  3.3234e-02,\n",
            "         -1.2732e-01, -1.4136e-01, -3.9307e-01, -1.9324e-01,  1.1487e-01,\n",
            "          1.2787e-02,  4.7510e-01,  1.1639e-01,  1.7944e-02,  2.9199e-01,\n",
            "          3.3142e-02,  5.6787e-01,  1.5833e-01,  5.0439e-01,  2.1350e-01,\n",
            "         -4.9341e-01,  6.2891e-01,  1.1597e-01,  1.6769e-02, -3.5132e-01,\n",
            "         -4.3188e-01,  2.2400e-01, -1.9934e-01, -4.2212e-01, -2.8125e-01,\n",
            "         -1.8018e-01, -2.0374e-01, -4.4263e-01, -1.9318e-02, -5.0995e-02,\n",
            "         -1.6174e-01,  1.2299e-01,  2.5806e-01, -1.4600e-01, -4.2163e-01,\n",
            "         -4.9805e-01,  2.7802e-02, -4.7290e-01, -3.1641e-01,  8.5498e-01,\n",
            "         -1.5027e-01,  3.4961e-01, -3.3960e-01, -5.1123e-01, -3.4204e-01,\n",
            "         -1.8726e-01, -2.6953e-01, -1.1176e-01, -3.9282e-01,  6.2207e-01,\n",
            "          4.8071e-01,  5.0049e-01,  3.8232e-01,  2.8687e-01,  1.4397e-02,\n",
            "         -1.8652e-01,  2.8345e-01,  1.7151e-01, -1.6240e+00,  4.7119e-01,\n",
            "         -7.2266e-01,  7.9736e-01,  2.1204e-01,  1.7969e-01,  3.5547e-01,\n",
            "          4.3677e-01, -4.9023e-01,  4.1235e-01, -4.9780e-01, -4.8242e-01,\n",
            "         -4.0869e-01,  1.4514e-01, -4.7900e-01,  1.0321e-01, -7.0752e-01,\n",
            "         -5.0195e-01, -3.8599e-01, -2.8247e-01,  7.3120e-02,  5.9424e-01,\n",
            "          3.9917e-01, -6.6846e-01,  3.0347e-01,  1.9019e-01, -8.0750e-02,\n",
            "         -4.7266e-01, -1.2666e+00, -4.0723e-01,  2.2595e-01,  3.0273e-01,\n",
            "         -1.0437e-01,  1.3928e-01, -5.1074e-01, -2.5293e-01, -6.1768e-02,\n",
            "          2.2754e-01,  7.1191e-01, -6.5234e-01,  1.5771e-01, -1.9312e-01,\n",
            "         -2.8540e-01, -5.4492e-01, -2.9724e-02,  2.5854e-01,  3.3325e-01,\n",
            "          1.8628e-01, -7.6904e-02, -2.1936e-01,  2.4304e-01, -2.6443e-02,\n",
            "         -3.5547e-01,  1.3171e-01, -3.2788e-01, -3.8745e-01, -4.6558e-01,\n",
            "          1.3016e-02,  5.6348e-01,  1.2256e-01, -5.5054e-02,  2.9834e-01,\n",
            "          6.9519e-02,  1.6968e-01, -6.1572e-01, -3.0090e-02,  1.6711e-01,\n",
            "         -5.4260e-02,  2.5195e-01,  8.4534e-02, -7.1594e-02, -1.5417e-01,\n",
            "         -4.2212e-01, -4.8853e-01,  1.5344e-01,  2.9199e-01, -4.6509e-01,\n",
            "         -7.9639e-01, -1.3770e-01,  8.3105e-01,  3.1470e-01, -2.6440e-01,\n",
            "         -8.1299e-02,  1.2573e-01, -3.8940e-01, -3.0249e-01,  3.8599e-01,\n",
            "         -4.3555e-01,  3.4082e-01, -6.3660e-02,  1.1615e-01,  1.3843e-01,\n",
            "         -4.8248e-02,  6.8283e-03, -3.4595e-01,  1.2500e-01, -6.8066e-01,\n",
            "         -3.2690e-01, -2.5342e-01,  4.5967e-03, -6.4209e-01, -3.3203e-02,\n",
            "         -2.9053e-01,  9.0088e-01, -9.2285e-02,  3.1909e-01, -5.4492e-01,\n",
            "          6.7993e-02, -1.3611e-01,  3.7280e-01,  4.0576e-01, -3.6841e-01,\n",
            "         -1.7044e-02,  8.5156e-01,  2.3804e-02, -4.1504e-01,  9.2871e-01,\n",
            "         -3.9429e-02,  1.3293e-01, -3.4326e-01, -1.5881e-01, -2.0276e-01,\n",
            "         -1.5121e-02, -1.5857e-01,  6.4990e-01,  2.1667e-01, -5.3174e-01,\n",
            "         -1.0099e-03, -4.8242e-01,  9.2224e-02,  2.0142e-01,  9.2334e-01,\n",
            "          4.2480e-01,  1.5942e-01, -8.6279e-01,  6.6504e-01, -3.3984e-01,\n",
            "         -3.3447e-01,  2.0178e-01,  8.7451e-01,  6.9397e-02,  1.8616e-01,\n",
            "          6.4014e-01,  8.4839e-02,  7.9895e-02, -1.8274e-01,  4.9756e-01,\n",
            "         -1.3318e-01, -1.1176e-01,  3.2886e-01, -2.4878e-01, -1.3684e-01,\n",
            "         -8.2959e-01,  2.0105e-01,  8.0109e-04,  2.9492e-01, -1.5808e-02,\n",
            "          1.3367e-01,  4.8730e-01,  2.2522e-01,  2.1301e-01,  4.4067e-02,\n",
            "          3.7329e-01,  3.2324e-01, -4.2700e-01,  1.0657e-01,  1.8005e-01,\n",
            "         -3.0444e-01, -2.2778e-01, -1.0195e+00,  1.1664e-01,  2.7148e-01,\n",
            "         -1.4603e-02, -1.8335e-01,  2.2485e-01, -4.9316e-01,  9.4116e-02,\n",
            "          5.0195e-01,  3.4009e-01, -4.6582e-01, -1.2079e-01, -3.8300e-02,\n",
            "          7.8735e-02,  2.6627e-02,  6.4258e-01,  4.1357e-01,  7.0007e-02,\n",
            "         -2.0520e-01, -6.8896e-01,  1.1993e-01, -5.0195e-01,  3.7842e-01,\n",
            "          3.8525e-01,  4.8193e-01, -1.4795e-01, -7.0654e-01,  7.9736e-01,\n",
            "          7.4561e-01, -2.3584e-01, -1.8616e-02,  8.1250e-01,  4.0015e-01,\n",
            "         -5.9131e-01, -5.6006e-01, -1.9641e-01, -4.0112e-01, -3.1665e-01,\n",
            "          4.2529e-01, -2.4475e-01, -3.5571e-01,  4.0894e-01, -5.0110e-02,\n",
            "         -1.4270e-01, -1.3557e-02, -6.3574e-01, -5.2185e-02,  4.2407e-01,\n",
            "          4.9341e-01,  7.8076e-01,  1.1462e-01, -1.4465e-01,  2.6636e-01,\n",
            "         -4.2285e-01,  1.6284e-01,  3.3447e-01, -4.6533e-01,  1.6296e-01,\n",
            "         -1.9775e-01,  9.8633e-02,  4.9414e-01, -4.2358e-01, -8.5144e-02,\n",
            "          5.2441e-01, -7.3486e-01,  1.8301e-03,  2.4927e-01, -5.3320e-01,\n",
            "          1.3123e-01,  5.4492e-01,  3.7354e-02]], dtype=torch.float16), 'How many flooded buildings can be seen in this image?': tensor([[-3.1177e-01, -1.5442e-01,  4.4604e-01,  5.5127e-01, -2.5244e-01,\n",
            "         -9.4910e-03, -3.3295e-02, -5.7129e-02, -3.6621e-01,  4.0063e-01,\n",
            "          8.4839e-02, -7.7002e-01, -2.6758e-01, -3.6133e-01, -3.7646e-01,\n",
            "          5.8105e-01,  1.5247e-01, -8.5205e-02,  6.8787e-02, -1.6772e-01,\n",
            "          4.5581e-01,  3.6548e-01,  7.6477e-02,  6.2158e-01, -2.6123e-01,\n",
            "         -2.2156e-01, -2.7173e-01, -3.7988e-01,  9.5264e-01, -1.9324e-01,\n",
            "          1.1131e-02,  8.7280e-02,  1.1713e-01, -1.1074e+00, -4.2999e-02,\n",
            "          2.8467e-01,  3.7937e-03, -1.6846e-01, -2.3523e-01,  1.5417e-01,\n",
            "         -5.6152e-01, -6.6650e-01, -8.1152e-01, -4.1333e-01,  5.2948e-02,\n",
            "          6.8945e-01, -3.5059e-01,  5.7617e-01,  2.3328e-01, -5.9912e-01,\n",
            "         -3.8513e-02, -3.3594e-01,  5.3418e-01,  7.0215e-01, -3.6890e-01,\n",
            "         -7.7637e-01,  1.6357e-01,  3.4375e-01, -5.7324e-01, -2.5439e-01,\n",
            "          4.0674e-01, -9.2621e-03, -9.0674e-01,  6.3623e-01, -1.6882e-01,\n",
            "         -5.6494e-01, -9.7595e-02,  1.3635e-01,  3.7170e-02,  3.4644e-01,\n",
            "          2.3706e-01, -1.5613e-01, -6.5002e-02, -2.6221e-01,  8.0200e-02,\n",
            "         -7.3779e-01,  5.3809e-01,  3.2764e-01, -7.8418e-01, -5.1758e-01,\n",
            "         -1.4795e-01, -5.6982e-01, -2.7661e-01,  2.0752e-01,  2.1155e-01,\n",
            "         -1.0492e-01,  2.4817e-01, -2.0923e-01, -8.2422e-01, -3.5010e-01,\n",
            "          5.4102e-01, -1.2549e-01,  3.4180e-02,  2.8000e-02,  3.2959e-01,\n",
            "         -8.7524e-02, -1.8567e-01, -1.6040e-01,  9.1553e-02, -6.2354e-01,\n",
            "         -4.8242e-01, -1.8387e-02,  2.2217e-01,  6.0254e-01, -4.1187e-01,\n",
            "          4.1797e-01,  9.0271e-02,  4.9634e-01,  8.8623e-01,  4.4385e-01,\n",
            "         -8.1360e-02, -1.4185e-01, -5.3772e-02,  2.3010e-01,  3.6914e-01,\n",
            "         -5.1514e-01, -3.1299e-01, -4.1431e-01, -6.5842e-03, -7.5569e-03,\n",
            "         -4.7363e-01,  6.9031e-02,  7.1106e-02,  9.8877e-02, -1.3733e-01,\n",
            "          2.3645e-01,  5.9937e-02, -3.2139e-03,  3.5303e-01, -3.8544e-02,\n",
            "         -4.5361e-01,  5.3320e-01,  2.6352e-02,  2.8296e-01, -5.9033e-01,\n",
            "         -8.8770e-01, -1.1096e-01, -5.3711e-02,  1.4355e-01,  6.0693e-01,\n",
            "          3.3228e-01, -3.4485e-02,  5.2686e-01, -5.4883e-01, -6.7749e-02,\n",
            "         -1.2744e+00, -6.9809e-03,  5.7031e-01, -7.8076e-01,  6.1150e-03,\n",
            "         -4.0405e-02, -1.6443e-01, -4.2017e-01,  2.1011e-02,  1.3367e-01,\n",
            "         -1.3367e-01, -8.5083e-02, -2.3047e-01,  2.6025e-01, -2.9419e-01,\n",
            "         -1.5735e-01, -8.3496e-02,  1.6309e-01, -3.2031e-01,  5.6396e-02,\n",
            "         -7.2571e-02, -2.5977e-01, -1.2073e-01,  2.3727e-02, -5.9912e-01,\n",
            "         -1.1414e-01,  2.9907e-01, -1.4771e-01, -2.1985e-01,  4.0405e-02,\n",
            "          7.5012e-02, -3.1030e-01,  9.7473e-02,  2.1863e-01, -4.4409e-01,\n",
            "         -5.1416e-01, -2.1973e-01, -1.7273e-01,  4.4678e-01, -2.0935e-01,\n",
            "         -5.3760e-01, -7.0190e-02, -2.2546e-01,  7.3242e-03, -2.1899e-01,\n",
            "          2.4792e-01, -1.2751e-03, -4.7363e-01, -9.2773e-02,  1.7151e-01,\n",
            "         -1.6865e+00, -1.7688e-01,  2.1301e-01,  6.6309e-01, -8.8135e-01,\n",
            "         -3.6816e-01,  3.3203e-01, -3.5522e-02,  3.6230e-01,  2.6880e-01,\n",
            "          2.0044e-01,  1.0370e-01,  2.3132e-02, -3.8599e-01, -5.5029e-01,\n",
            "         -2.6416e-01, -5.4932e-01, -2.7173e-01,  4.8248e-02, -4.8828e-01,\n",
            "          3.2368e-03, -2.4036e-01,  1.6235e-01,  4.2163e-01,  1.8005e-01,\n",
            "          3.1909e-01,  1.9641e-01,  3.0029e-01,  3.4229e-01, -1.0406e-01,\n",
            "          7.6318e-01, -1.3977e-01, -2.5635e-01,  1.6968e-01, -3.3569e-01,\n",
            "          4.6021e-01, -5.4590e-01,  1.3863e-02, -4.1431e-01, -9.8242e-01,\n",
            "          3.3594e-01,  1.1206e-01, -1.0150e-01, -1.7102e-01,  8.9600e-02,\n",
            "          4.9268e-01, -1.6943e-01, -4.7925e-01,  2.5708e-01,  3.0469e-01,\n",
            "         -5.0476e-02, -3.7329e-01, -1.5515e-01,  1.2103e-01,  3.0591e-01,\n",
            "         -2.5244e-01, -1.9397e-01,  3.7793e-01, -7.0605e-01,  4.0601e-01,\n",
            "          3.0811e-01, -2.4304e-01,  3.9990e-01,  3.4131e-01, -2.1033e-01,\n",
            "         -7.5977e-01, -2.0459e-01, -5.3516e-01, -4.9408e-02, -4.3182e-02,\n",
            "          1.6943e-01,  2.5098e-01, -1.0791e-01,  2.1289e-01, -2.5952e-01,\n",
            "          1.4026e-01,  2.2034e-01,  1.7859e-01,  1.0132e-01, -4.0356e-01,\n",
            "         -2.1082e-01, -2.3120e-01, -9.9487e-02, -2.1399e-01, -6.7432e-01,\n",
            "          1.4832e-01,  1.6406e-01, -7.4219e-01,  5.2246e-01, -1.4966e-01,\n",
            "          2.2009e-01, -1.0781e+00,  3.3276e-01, -1.0205e+00, -2.3450e-01,\n",
            "         -1.3660e-01,  2.9346e-01, -1.4929e-01, -8.3252e-01, -4.3213e-02,\n",
            "          1.9516e-02,  6.7017e-02, -8.4534e-02,  2.6465e-01,  2.7930e-01,\n",
            "         -4.1870e-01, -2.0752e-01,  6.1816e-01, -3.6426e-01,  4.8022e-01,\n",
            "          2.9834e-01, -5.5127e-01, -7.9980e-01, -3.1689e-01, -3.5767e-01,\n",
            "         -8.0420e-01,  2.1057e-01, -8.1604e-02,  1.3057e+00, -1.1273e-01,\n",
            "         -2.7759e-01, -7.7656e+00,  4.4995e-01,  8.3252e-02, -2.0093e-01,\n",
            "         -2.7832e-02, -8.8867e-01,  1.0459e+00, -5.5664e-01,  1.7090e-01,\n",
            "          2.9468e-01, -4.4263e-01, -9.5703e-02,  3.2349e-01,  2.0386e-01,\n",
            "          2.6538e-01,  4.5850e-01,  6.5186e-01, -1.0822e-01, -3.4424e-01,\n",
            "          3.8818e-01,  5.3467e-01, -1.3220e-01,  2.1924e-01,  3.4485e-02,\n",
            "         -4.4946e-01, -3.1226e-01,  4.0576e-01, -2.6001e-01,  2.0447e-02,\n",
            "         -3.6450e-01,  3.1226e-01, -4.7302e-02,  5.0732e-01,  6.2061e-01,\n",
            "          8.0127e-01, -3.4131e-01, -1.3818e-01,  6.5137e-01,  3.9648e-01,\n",
            "          3.7689e-02,  1.2524e-01,  2.7832e-02,  5.2393e-01,  4.2334e-01,\n",
            "         -4.1351e-02, -6.8506e-01, -7.1350e-02, -9.2712e-02,  2.7527e-02,\n",
            "          1.3855e-01,  2.1191e-03, -8.0029e-01,  4.5557e-01,  6.5186e-01,\n",
            "         -3.2568e-01,  9.3506e-01, -1.9324e-01, -6.1874e-03,  3.1464e-02,\n",
            "         -7.1533e-01,  2.3120e-01, -1.4923e-02, -2.2717e-01,  5.8154e-01,\n",
            "          2.7539e-01, -2.7930e-01,  2.4890e-01,  2.3560e-01, -2.4902e-01,\n",
            "          9.1980e-02,  4.1595e-02,  5.9875e-02,  3.2031e-01, -8.4961e-02,\n",
            "         -1.1328e-01, -2.0361e-01,  2.6440e-01,  1.8713e-01,  2.9541e-01,\n",
            "         -1.0809e-01, -3.8086e-01, -6.4941e-01, -1.6138e-01,  3.5693e-01,\n",
            "         -3.0298e-01, -1.4917e-01,  9.1675e-02,  6.1377e-01,  8.6230e-01,\n",
            "          1.6040e-01,  1.7236e-01,  8.5999e-02, -1.5588e-01,  3.8788e-02,\n",
            "          6.8420e-02, -2.5098e-01,  1.0293e+00, -8.7305e-01, -2.3819e-02,\n",
            "         -2.2290e-01, -5.3070e-02,  4.2041e-01,  1.8457e-01, -3.3472e-01,\n",
            "         -6.5332e-01,  3.0249e-01, -1.6754e-02,  4.8535e-01,  6.5186e-01,\n",
            "          9.3811e-02,  1.7371e-01,  4.1479e-01,  1.6882e-01, -1.5833e-01,\n",
            "          1.2708e-01,  3.2684e-02, -1.5002e-01, -5.6543e-01,  3.7811e-02,\n",
            "          8.5498e-01,  4.0503e-01, -1.2207e-01,  3.1274e-01,  4.5605e-01,\n",
            "          7.0117e+00,  3.2397e-01,  6.2225e-02,  8.2397e-02, -3.6328e-01,\n",
            "         -4.3262e-01,  5.5371e-01,  6.9922e-01, -2.8271e-01, -2.7563e-01,\n",
            "          3.7939e-01,  4.1846e-01,  5.2295e-01,  1.1299e+00, -1.7969e-01,\n",
            "         -7.4512e-01,  7.5317e-02,  5.6006e-01, -1.2139e+00,  3.8574e-01,\n",
            "         -8.8684e-02,  3.0981e-01,  2.2473e-01,  5.8167e-02, -2.1704e-01,\n",
            "          2.0020e-01,  3.0176e-01, -2.3914e-01,  1.4844e-01,  5.0879e-01,\n",
            "          1.5402e-04, -3.1958e-01, -3.4082e-01, -1.3147e-01, -3.8574e-01,\n",
            "          1.1432e-01,  4.4019e-01, -3.0933e-01, -2.6031e-02,  1.0474e-01,\n",
            "          9.1309e-02,  4.4263e-01, -8.9966e-02,  3.4009e-01,  1.7590e-01,\n",
            "         -5.3320e-01,  5.8008e-01, -1.9434e-01, -8.3984e-02, -5.4736e-01,\n",
            "         -1.8689e-01,  1.1975e-01, -4.0649e-01, -7.0508e-01, -7.1143e-01,\n",
            "         -4.7168e-01,  7.1777e-02, -3.8647e-01, -1.8250e-01,  5.2643e-02,\n",
            "          3.8525e-01,  5.0195e-01,  2.1997e-01,  1.9006e-01, -4.7778e-01,\n",
            "         -3.5498e-01,  2.7783e-01, -4.7180e-02, -6.7566e-02,  5.1660e-01,\n",
            "          7.4512e-01,  2.2168e-01, -6.8066e-01, -3.0981e-01, -4.0796e-01,\n",
            "         -7.5830e-01, -4.4897e-01, -2.4353e-01,  7.5562e-02,  2.5708e-01,\n",
            "          2.0129e-01,  1.7383e-01, -2.0203e-01,  2.7197e-01,  2.7637e-01,\n",
            "         -1.2024e-01,  3.5791e-01,  3.1982e-01, -1.1006e+00,  6.2549e-01,\n",
            "         -7.5806e-02,  1.9568e-01,  2.7786e-02,  4.9048e-01,  4.4287e-01,\n",
            "          1.1475e-01, -5.5371e-01,  1.8445e-01, -3.6182e-01, -6.2793e-01,\n",
            "         -4.0161e-01, -2.8735e-01, -5.2295e-01,  6.2561e-02, -1.2686e+00,\n",
            "         -3.1738e-01, -6.3904e-02, -1.5698e-01,  2.4365e-01,  4.1724e-01,\n",
            "          8.1543e-02, -7.4609e-01,  2.5732e-01,  2.2986e-01,  9.2407e-02,\n",
            "         -2.9068e-02, -1.2764e+00,  1.4380e-01, -4.1650e-01,  2.9266e-02,\n",
            "         -4.2700e-01,  1.6492e-01, -3.5156e-01, -1.3818e-01, -1.0114e-01,\n",
            "          3.2446e-01,  4.2676e-01, -8.1006e-01,  2.8052e-01, -7.3975e-02,\n",
            "         -2.1558e-01, -8.0029e-01, -3.9917e-01,  3.7622e-01,  7.6611e-01,\n",
            "          4.4739e-02,  1.2305e-01,  2.0044e-01,  4.1187e-01, -1.2067e-01,\n",
            "         -3.4106e-01,  7.5317e-02, -1.3538e-01, -3.7842e-01, -8.8684e-02,\n",
            "          5.1611e-01,  2.7710e-01,  5.2246e-01, -8.6426e-02,  1.9775e-01,\n",
            "          2.2327e-01,  9.4788e-02, -2.7881e-01, -2.4194e-01, -2.0569e-01,\n",
            "          2.6099e-01,  6.1133e-01, -4.7998e-01,  1.1731e-01,  6.3171e-02,\n",
            "         -3.5156e-01, -7.2510e-01,  3.5669e-01,  2.5903e-01, -8.7830e-02,\n",
            "         -1.1299e+00,  3.4204e-01,  3.6304e-01,  1.4783e-01, -5.0830e-01,\n",
            "          1.7529e-01, -9.8633e-02, -5.4346e-01, -6.0840e-01,  2.9834e-01,\n",
            "         -5.9668e-01, -2.8418e-01, -5.3027e-01,  1.4526e-01,  1.5015e-01,\n",
            "          9.4543e-02, -1.7163e-01, -3.3276e-01, -3.7939e-01, -5.2393e-01,\n",
            "         -7.2510e-01, -4.6387e-01, -7.6843e-02, -3.3008e-01,  1.2634e-01,\n",
            "         -6.5039e-01,  6.6406e-01, -2.1655e-01, -3.3752e-02, -3.2202e-01,\n",
            "          1.7126e-01,  1.7944e-01,  3.7256e-01,  3.7329e-01,  2.2974e-01,\n",
            "         -3.1921e-02,  1.8738e-01,  9.9548e-02, -9.5264e-01,  8.7549e-01,\n",
            "         -9.3460e-03, -2.1692e-01, -1.9104e-01,  5.7465e-02, -7.1289e-01,\n",
            "          1.5955e-01,  2.5317e-01,  5.5322e-01, -1.9629e-01, -2.0422e-01,\n",
            "         -3.0127e-01, -7.5317e-02,  9.1248e-02,  8.4167e-02,  9.6191e-01,\n",
            "          1.3123e-01,  4.0210e-01, -6.1475e-01, -8.1177e-02,  1.7371e-01,\n",
            "         -6.6016e-01, -1.0071e-01,  1.0010e+00,  2.3767e-01, -1.6022e-02,\n",
            "          5.9863e-01,  1.3196e-01, -7.0190e-02, -5.7812e-01, -2.4353e-02,\n",
            "         -3.7378e-01, -2.4744e-01, -1.5308e-01, -8.6670e-02,  2.1899e-01,\n",
            "         -8.1641e-01,  2.9102e-01,  1.2384e-01,  1.4014e-01,  6.1670e-01,\n",
            "         -1.3062e-01,  6.5820e-01,  1.0236e-01, -9.9243e-02,  5.8984e-01,\n",
            "          3.4570e-01,  4.9243e-01, -6.8787e-02, -9.3201e-02,  2.9883e-01,\n",
            "         -3.6230e-01, -5.7144e-03, -9.1797e-01,  2.9182e-04,  2.1655e-01,\n",
            "          1.3196e-01,  7.1182e-03, -1.5125e-01, -7.9004e-01,  5.6519e-02,\n",
            "          5.4736e-01, -6.5186e-02, -3.1396e-01, -3.1201e-01, -1.3257e-01,\n",
            "          3.2349e-01,  9.6680e-02,  4.7089e-02,  1.3135e-01,  3.5254e-01,\n",
            "          1.9360e-01, -3.6328e-01, -4.9072e-01, -9.7363e-01,  1.2283e-02,\n",
            "         -1.2079e-01,  6.2744e-01,  2.9980e-01, -9.0576e-01,  9.5752e-01,\n",
            "          4.1675e-01, -3.0054e-01,  1.6772e-01,  5.3955e-01,  3.6255e-01,\n",
            "          7.4219e-02, -2.9736e-01, -3.5132e-01, -5.0098e-01, -7.7930e-01,\n",
            "          2.0056e-01, -1.0126e-01,  4.0210e-01,  3.8477e-01, -3.5571e-01,\n",
            "         -2.7173e-01, -2.6172e-01, -5.6934e-01, -2.1826e-01,  7.8027e-01,\n",
            "          2.8760e-01,  7.0508e-01,  2.7637e-01,  9.8328e-02, -2.5415e-01,\n",
            "         -1.3672e-01, -1.6260e-01,  6.1328e-01, -8.7967e-03,  4.5630e-01,\n",
            "         -1.5222e-01,  1.6650e-01,  4.1577e-01,  2.1103e-02,  7.6599e-02,\n",
            "          9.8779e-01, -7.8369e-01,  5.4883e-01,  1.1896e-01, -4.7217e-01,\n",
            "          3.5254e-01,  1.2732e-01, -1.3611e-01]], dtype=torch.float16), 'How many non flooded buildings can be seen in this image?': tensor([[-2.2253e-01, -1.3232e-01,  5.5859e-01,  5.9668e-01, -3.0396e-01,\n",
            "         -8.7708e-02, -1.4966e-01,  1.0406e-02, -9.4543e-02,  1.9641e-01,\n",
            "          3.9429e-02, -6.7529e-01, -3.8403e-01, -5.1416e-01, -4.1919e-01,\n",
            "          4.7754e-01,  2.3584e-01, -3.5303e-01,  5.9967e-02, -1.5173e-01,\n",
            "          5.1514e-01,  3.1738e-01,  2.0508e-01,  6.7334e-01, -3.4644e-01,\n",
            "         -5.2783e-01, -2.6025e-01, -6.8848e-01,  1.0312e+00, -2.2717e-01,\n",
            "          4.1351e-02,  1.9922e-01,  3.4332e-02, -9.5020e-01, -1.6003e-01,\n",
            "          3.0029e-01,  4.4281e-02, -3.4131e-01, -2.5830e-01,  2.6929e-01,\n",
            "         -3.6255e-01, -5.9473e-01, -8.8770e-01, -3.2104e-01, -1.5466e-01,\n",
            "          1.0332e+00, -4.1699e-01,  5.9277e-01,  3.2422e-01, -4.4531e-01,\n",
            "         -1.7273e-01, -6.6455e-01,  3.6865e-01,  4.8804e-01, -4.6704e-01,\n",
            "         -5.2441e-01,  1.3770e-01,  1.4233e-01, -5.7080e-01, -3.9917e-01,\n",
            "          3.1226e-01, -4.0454e-01, -8.8525e-01,  3.1812e-01, -1.7212e-01,\n",
            "         -1.9299e-01, -2.5024e-01,  1.1707e-01,  3.6987e-02,  2.0801e-01,\n",
            "          2.9468e-01,  4.6492e-04,  1.3786e-02, -3.9941e-01,  7.2998e-02,\n",
            "         -5.3955e-01,  4.9561e-01,  3.6816e-01, -4.5288e-01, -4.0186e-01,\n",
            "         -7.8186e-02, -4.5581e-01, -3.3594e-01,  6.7993e-02,  2.8638e-01,\n",
            "          3.6682e-02,  2.3694e-01, -2.9932e-01, -6.2256e-01, -2.3657e-01,\n",
            "          3.7451e-01, -2.4365e-01,  3.2074e-02, -1.9531e-01,  3.2593e-01,\n",
            "          1.3879e-01, -3.7402e-01, -1.6418e-01, -5.6213e-02, -6.2891e-01,\n",
            "         -4.8999e-01, -2.9175e-01,  2.7417e-01,  4.7168e-01, -3.4729e-02,\n",
            "          2.6123e-01,  1.8433e-01,  3.8721e-01,  9.0527e-01,  5.1562e-01,\n",
            "         -2.7328e-02, -1.7712e-01, -7.7942e-02,  4.2920e-01,  2.6855e-01,\n",
            "         -6.3379e-01, -3.3105e-01, -6.0352e-01, -4.2480e-01,  6.1920e-02,\n",
            "         -3.6011e-01, -8.9172e-02,  1.9067e-01,  5.9326e-02, -2.5116e-02,\n",
            "          3.1201e-01, -1.2854e-01,  1.6272e-01,  2.7783e-01, -1.3843e-01,\n",
            "         -5.3027e-01,  6.9922e-01, -2.7734e-01,  2.5830e-01, -7.1094e-01,\n",
            "         -7.7637e-01, -3.4155e-01, -3.6621e-02,  3.3447e-02,  6.9287e-01,\n",
            "          3.7280e-01,  2.0432e-02,  5.4395e-01, -4.7632e-01,  1.0391e-02,\n",
            "         -1.2432e+00, -2.3975e-01,  7.6367e-01, -6.5527e-01, -6.6772e-02,\n",
            "         -1.2366e-01, -3.7964e-01, -2.0581e-01,  1.8835e-01,  1.4069e-02,\n",
            "         -1.2396e-01, -8.6517e-03, -1.2947e-02,  2.8931e-01, -4.7119e-01,\n",
            "         -3.3984e-01, -9.8694e-02,  1.7017e-01, -3.0298e-01,  2.3308e-03,\n",
            "         -2.2827e-01, -2.3047e-01, -9.0942e-02, -3.5950e-02, -5.8984e-01,\n",
            "         -1.5027e-01,  1.5710e-01, -1.2439e-01, -5.8472e-02,  1.9507e-01,\n",
            "         -1.8585e-02, -2.0630e-01,  2.4963e-01,  1.2317e-01, -4.0820e-01,\n",
            "         -4.6875e-01, -2.6245e-02, -1.2695e-01,  4.2261e-01,  2.4979e-02,\n",
            "         -5.5127e-01,  5.6702e-02,  1.7883e-02,  1.3916e-01, -3.6670e-01,\n",
            "          2.7954e-01,  8.0811e-02, -3.7866e-01, -1.3257e-01,  1.0547e-01,\n",
            "         -2.0039e+00, -1.6797e-01,  1.4880e-01,  6.0645e-01, -6.1133e-01,\n",
            "         -1.9312e-01,  5.3662e-01,  4.0398e-03,  2.2781e-02,  1.1066e-01,\n",
            "          1.5161e-01,  1.6760e-01, -1.4038e-01, -3.2495e-01, -3.7231e-01,\n",
            "         -1.8958e-01, -5.0488e-01, -3.5327e-01, -2.8540e-01, -3.0371e-01,\n",
            "         -1.3257e-01, -1.0345e-01,  4.3726e-01,  5.2637e-01,  1.8201e-01,\n",
            "          1.4453e-01,  2.5708e-01,  1.1487e-01,  1.8359e-01,  5.2368e-02,\n",
            "          9.1211e-01, -1.5320e-01, -7.5989e-02,  1.3513e-01, -1.8665e-01,\n",
            "          2.6660e-01, -6.4209e-01,  4.0466e-02, -2.1021e-01, -7.8418e-01,\n",
            "          3.2617e-01,  1.2610e-01, -1.5479e-01, -2.3108e-01,  1.4111e-01,\n",
            "          4.2871e-01,  3.4576e-02, -3.4131e-01,  1.9763e-01,  3.3521e-01,\n",
            "         -1.6138e-01, -4.3945e-01,  8.6670e-02,  2.0264e-01,  4.4775e-01,\n",
            "         -1.4746e-01, -1.0858e-01,  1.6663e-01, -7.3486e-01,  3.0176e-01,\n",
            "          2.7637e-01, -2.7856e-01,  3.8257e-01,  2.9395e-01, -4.0112e-01,\n",
            "         -4.5996e-01, -6.9336e-01, -4.9048e-01, -1.0333e-01, -1.8759e-03,\n",
            "          9.7229e-02,  2.4414e-01, -3.5498e-01,  1.3062e-01, -1.7798e-01,\n",
            "          5.3741e-02,  1.0760e-01,  2.4561e-01,  7.7209e-02, -2.8198e-01,\n",
            "         -2.4158e-01, -1.9629e-01, -1.6760e-01, -7.1777e-02, -5.6689e-01,\n",
            "         -1.5161e-01,  2.0386e-01, -9.5801e-01,  6.5186e-01, -2.3572e-01,\n",
            "          1.4575e-01, -8.7891e-01,  4.5508e-01, -1.4482e+00, -1.4636e-01,\n",
            "          7.7698e-02,  2.5073e-01, -3.0713e-01, -8.4082e-01, -1.0309e-01,\n",
            "          1.4136e-01,  2.4316e-01, -7.1777e-02,  1.2030e-01, -7.0557e-02,\n",
            "         -2.7344e-01, -1.3672e-01,  6.1523e-01, -2.1655e-01,  2.5122e-01,\n",
            "          2.4072e-01, -5.9619e-01, -5.2148e-01, -2.8174e-01,  7.5417e-03,\n",
            "         -7.6270e-01,  1.5356e-01,  5.4443e-02,  1.1240e+00, -1.9873e-01,\n",
            "         -1.9775e-02, -8.9141e+00,  3.0981e-01,  5.2490e-02, -2.5098e-01,\n",
            "          1.6760e-01, -9.9854e-01,  9.9658e-01, -6.4551e-01,  6.3965e-02,\n",
            "          4.5410e-01, -3.4937e-01, -2.1155e-01,  2.8467e-01,  8.0017e-02,\n",
            "          2.3779e-01,  5.0049e-01,  5.0049e-01,  1.0022e-01, -2.4878e-01,\n",
            "          4.6094e-01,  4.5337e-01, -7.5317e-02,  1.3428e-01,  6.0059e-02,\n",
            "         -5.3271e-01, -1.7285e-01,  2.2131e-01, -3.2886e-01, -1.2213e-01,\n",
            "         -1.1688e-01, -9.0256e-03, -4.6387e-02,  6.3867e-01,  5.3223e-01,\n",
            "          7.5293e-01, -3.2935e-01, -1.8970e-01,  6.2012e-01,  4.3091e-01,\n",
            "         -2.0370e-02,  2.6782e-01, -1.6101e-01,  3.8574e-01,  4.6777e-01,\n",
            "         -4.7882e-02, -5.6787e-01, -7.5684e-02, -1.1511e-01, -2.0837e-01,\n",
            "         -3.6530e-02, -1.5564e-01, -6.3721e-01,  4.9365e-01,  3.9160e-01,\n",
            "         -2.9541e-01,  8.8672e-01, -9.0698e-02,  2.4338e-02,  1.0010e-01,\n",
            "         -7.4707e-01, -7.1045e-02,  2.7405e-02, -9.5825e-02,  4.0063e-01,\n",
            "          1.9849e-01, -8.8684e-02,  1.9031e-01,  1.0046e-01, -4.7266e-01,\n",
            "         -7.6233e-02,  1.8445e-01,  1.4551e-01,  5.2490e-01, -3.8788e-02,\n",
            "         -7.8308e-02, -2.3035e-01,  1.4795e-01, -9.4727e-02,  3.4229e-01,\n",
            "         -1.1298e-01, -4.2725e-01, -8.3301e-01, -9.7168e-02,  4.3457e-01,\n",
            "         -1.1523e-01, -1.3342e-01,  1.1090e-01,  6.1182e-01,  1.1670e+00,\n",
            "          2.2705e-01,  1.7883e-01,  7.9895e-02, -2.7466e-01,  4.6814e-02,\n",
            "         -3.7537e-02, -1.7419e-01,  1.1719e+00, -1.0391e+00, -1.4160e-01,\n",
            "         -1.7859e-01, -7.6660e-02,  2.7246e-01,  3.1812e-01, -3.9771e-01,\n",
            "         -6.6846e-01,  1.7322e-01, -5.2826e-02,  4.3457e-01,  4.6558e-01,\n",
            "         -2.4277e-02,  2.9639e-01,  5.1855e-01,  7.3120e-02, -1.1255e-01,\n",
            "          7.1350e-02,  7.7942e-02, -1.2585e-01, -7.0264e-01,  1.3928e-01,\n",
            "          8.1787e-01,  1.4331e-01, -1.6260e-01, -2.2797e-02,  3.5620e-01,\n",
            "          7.8789e+00,  2.8638e-01,  2.2021e-01,  1.1090e-01, -3.7891e-01,\n",
            "         -3.3765e-01,  2.9761e-01,  6.8994e-01, -2.9956e-01, -1.3074e-01,\n",
            "          6.0938e-01,  4.3823e-01,  5.4688e-01,  8.1787e-01, -2.4438e-01,\n",
            "         -6.4746e-01, -3.9368e-02,  7.0654e-01, -1.1943e+00,  5.0842e-02,\n",
            "          1.7993e-01,  1.5112e-01,  1.9299e-01, -1.0980e-01, -2.7710e-01,\n",
            "         -3.4332e-02,  3.2593e-01, -2.6855e-01,  2.4585e-01,  3.4595e-01,\n",
            "         -1.6504e-01, -8.1726e-02, -2.2021e-01, -1.6980e-01, -2.9150e-01,\n",
            "         -2.7847e-02,  3.8428e-01, -1.8567e-01, -7.3814e-03,  1.3989e-01,\n",
            "          7.7209e-02,  6.9287e-01,  7.7209e-02,  3.0981e-01,  4.6313e-01,\n",
            "         -4.5239e-01,  3.8721e-01, -8.9172e-02,  8.3542e-03, -6.7334e-01,\n",
            "         -1.1774e-01,  1.7273e-01, -5.0049e-01, -6.8701e-01, -5.8057e-01,\n",
            "         -4.9951e-01,  3.6835e-02, -5.2588e-01, -1.4819e-01, -9.8328e-02,\n",
            "          3.0469e-01,  2.4390e-01,  1.7114e-01,  1.0822e-01, -4.1504e-01,\n",
            "         -3.5474e-01,  3.5376e-01,  1.3100e-02, -8.5144e-02,  5.3857e-01,\n",
            "          5.4932e-01,  1.6724e-01, -3.8184e-01, -4.1919e-01, -3.6182e-01,\n",
            "         -4.6118e-01, -4.3823e-01, -1.7725e-01, -1.7053e-01,  5.4346e-01,\n",
            "          1.5881e-01,  2.5757e-01, -2.1545e-01,  1.4832e-01,  3.0908e-01,\n",
            "         -1.6113e-01,  3.5669e-01,  3.4326e-01, -1.0576e+00,  3.8916e-01,\n",
            "         -1.8066e-01,  8.4763e-03, -2.4060e-01,  4.9243e-01,  6.1816e-01,\n",
            "          1.8079e-01, -3.4131e-01,  1.3599e-01, -4.1821e-01, -4.3750e-01,\n",
            "         -4.0796e-01, -6.5918e-03, -3.7256e-01,  7.2510e-02, -1.2715e+00,\n",
            "         -4.1602e-01, -3.6224e-02, -3.6499e-01,  2.9224e-01,  3.2202e-01,\n",
            "          1.7078e-01, -5.6885e-01,  2.8223e-01,  3.9600e-01,  7.8125e-02,\n",
            "         -1.6187e-01, -1.3545e+00,  1.5747e-02, -3.1226e-01,  9.2834e-02,\n",
            "         -5.6934e-01,  2.4829e-01, -4.1577e-01, -1.8384e-01,  2.0233e-02,\n",
            "          4.3188e-01,  4.8804e-01, -9.2480e-01,  3.9697e-01, -3.7018e-02,\n",
            "         -2.1472e-01, -7.6514e-01, -4.4116e-01,  1.5015e-01,  4.7314e-01,\n",
            "          5.1208e-02,  1.4880e-01, -7.4577e-04,  4.7998e-01,  8.3694e-03,\n",
            "         -4.6680e-01, -4.4975e-03, -8.8867e-02, -3.6572e-01, -4.0894e-02,\n",
            "          3.7817e-01,  2.1619e-01,  4.1675e-01, -5.5273e-01,  1.0712e-01,\n",
            "          6.5308e-02,  2.8687e-01, -4.3066e-01, -2.2717e-01, -2.4927e-01,\n",
            "          2.6831e-01,  6.3867e-01, -1.3269e-01,  3.8483e-02,  5.5511e-02,\n",
            "         -3.9648e-01, -3.5864e-01,  4.0723e-01,  3.5205e-01, -9.4971e-02,\n",
            "         -7.7246e-01,  3.3301e-01,  6.1621e-01, -1.4992e-02, -3.9038e-01,\n",
            "          4.9774e-02,  3.9856e-02, -5.1318e-01, -6.8115e-01,  3.6011e-01,\n",
            "         -5.2490e-01,  1.2854e-01, -6.6113e-01,  1.1975e-01,  3.8605e-03,\n",
            "          1.3794e-01, -1.8225e-01, -5.0146e-01, -2.8125e-01, -6.1182e-01,\n",
            "         -8.2568e-01, -3.2129e-01, -1.0339e-01, -3.4717e-01,  2.6367e-01,\n",
            "         -5.8594e-01,  8.0908e-01, -2.9688e-01,  1.1700e-01, -3.7329e-01,\n",
            "          3.3179e-01,  9.7778e-02,  3.4644e-01,  3.9478e-01,  5.7007e-02,\n",
            "         -2.7023e-02,  1.6479e-01,  2.1973e-01, -9.9609e-01,  1.0391e+00,\n",
            "         -6.9275e-02, -3.4058e-01, -1.8335e-01, -6.2805e-02, -4.5044e-01,\n",
            "          8.2642e-02,  1.6589e-01,  6.5869e-01, -2.2314e-01, -3.0737e-01,\n",
            "         -2.2888e-01, -1.6272e-01, -1.2646e-01, -1.1041e-01,  6.3867e-01,\n",
            "          1.1816e-01,  4.4360e-01, -5.7812e-01,  8.3679e-02, -8.6975e-02,\n",
            "         -5.6592e-01,  5.6366e-02,  9.0137e-01,  1.5283e-01,  2.8198e-01,\n",
            "          6.4258e-01,  8.6487e-02, -1.0052e-01, -6.8115e-01,  1.1955e-02,\n",
            "         -5.6836e-01, -2.9370e-01, -1.5320e-01, -1.3428e-01,  1.0840e-01,\n",
            "         -7.9297e-01,  3.0493e-01, -2.0264e-01,  1.4893e-01,  4.8022e-01,\n",
            "         -3.7012e-01,  7.2852e-01, -7.2327e-02, -1.9299e-01,  3.4985e-01,\n",
            "          5.0586e-01,  2.1313e-01, -1.6150e-01,  1.5454e-01,  5.6488e-02,\n",
            "         -3.2935e-01, -9.7229e-02, -9.9365e-01, -1.4795e-01,  1.5271e-01,\n",
            "          1.2238e-01,  1.4648e-01, -1.3855e-01, -7.1094e-01,  1.3513e-01,\n",
            "          4.7534e-01, -4.7852e-02, -3.2007e-01, -1.2238e-01,  9.3689e-02,\n",
            "          4.2651e-01,  1.9580e-01, -1.0675e-01,  2.0837e-01,  3.7500e-01,\n",
            "          3.0957e-01, -3.9062e-01, -3.7451e-01, -7.9297e-01,  1.0962e-01,\n",
            "         -2.0300e-01,  4.4409e-01,  1.0968e-01, -1.0010e+00,  8.6182e-01,\n",
            "          3.7964e-01, -3.8452e-01, -1.3306e-01,  4.2529e-01,  3.1348e-01,\n",
            "          1.9180e-02, -3.3081e-01, -3.2397e-01, -2.8467e-01, -5.1367e-01,\n",
            "          2.4915e-01,  4.9591e-02,  5.6152e-01,  4.2261e-01, -1.9373e-01,\n",
            "         -1.5381e-01, -1.0669e-01, -6.0352e-01, -3.6011e-02,  6.6455e-01,\n",
            "          2.0251e-01,  5.9424e-01,  3.0322e-01,  7.5439e-02, -2.2607e-01,\n",
            "         -8.2886e-02, -5.4718e-02,  5.3125e-01, -2.7222e-01,  5.9570e-01,\n",
            "         -6.6772e-02,  3.6084e-01,  4.5093e-01,  2.9373e-02,  7.1228e-02,\n",
            "          8.0908e-01, -9.7119e-01,  5.4932e-01,  1.6650e-01, -5.5225e-01,\n",
            "          4.6484e-01,  1.3623e-01, -2.2400e-01]], dtype=torch.float16), 'Is the entire road flooded?': tensor([[-5.1270e-01,  1.3159e-01,  3.2275e-01,  4.8737e-02,  1.0565e-01,\n",
            "          1.1963e-01,  5.9766e-01,  7.9712e-02,  2.1509e-01,  3.9697e-01,\n",
            "          1.9482e-01,  1.7310e-01, -5.1709e-01, -9.8572e-02, -1.3879e-01,\n",
            "          7.5879e-01,  1.7700e-01, -9.0561e-03, -1.3574e-01,  3.7451e-01,\n",
            "         -5.4626e-02,  7.5732e-01,  9.4543e-02, -2.6123e-01,  1.9055e-01,\n",
            "          1.2314e-02,  6.2598e-01,  5.6055e-01, -3.4912e-01, -2.6147e-01,\n",
            "          2.0154e-01,  4.5441e-02,  4.0137e-01, -7.2705e-01,  2.4084e-01,\n",
            "          4.3799e-01, -3.7158e-01,  2.7856e-01, -2.7237e-02, -3.2861e-01,\n",
            "         -4.4946e-01, -5.0049e-01, -1.9995e-01, -8.6035e-01,  2.4658e-01,\n",
            "         -6.8169e-03, -2.0789e-01,  3.0786e-01,  1.6309e-01, -3.7549e-01,\n",
            "          2.3169e-01,  1.0345e-01, -6.6284e-02, -2.9272e-01, -4.0161e-01,\n",
            "         -1.2915e-01,  5.7129e-01,  2.6685e-01, -4.5288e-01, -4.3262e-01,\n",
            "          7.3389e-01,  3.7524e-01, -2.3022e-01,  1.6455e-01, -4.3018e-01,\n",
            "         -2.8906e-01,  9.4910e-03,  2.1790e-01,  2.1509e-01,  4.7632e-01,\n",
            "         -3.0835e-01, -5.8203e-01,  1.2866e-01, -6.6223e-02,  2.8857e-01,\n",
            "         -8.4326e-01, -1.1230e-01, -6.0463e-03, -3.9233e-01, -3.9771e-01,\n",
            "          2.5269e-01, -4.7607e-01, -4.0796e-01, -1.2444e-02,  4.5581e-01,\n",
            "         -4.4678e-01, -7.4501e-03, -2.1143e-01, -8.7012e-01, -2.8638e-01,\n",
            "         -2.0520e-01,  6.3086e-01,  2.5299e-02, -5.2832e-01,  1.4514e-01,\n",
            "         -7.4890e-02, -2.8638e-01, -1.7004e-01,  2.1912e-01, -4.7412e-01,\n",
            "          3.0884e-01, -2.6196e-01,  2.0056e-01,  2.0984e-01,  6.0242e-02,\n",
            "          2.1252e-01, -2.4765e-02,  4.6118e-01,  3.8818e-01,  2.1240e-01,\n",
            "         -5.4590e-01, -5.9473e-01,  1.7786e-01,  1.7065e-01,  2.5806e-01,\n",
            "          2.5977e-01, -1.3647e-01,  4.0253e-02, -1.9385e-01, -1.2769e-01,\n",
            "         -7.6807e-01, -1.7627e-01, -5.1318e-01, -4.4617e-02, -4.4116e-01,\n",
            "         -2.7924e-02,  5.7568e-01, -6.4941e-02,  2.0557e-01,  4.3506e-01,\n",
            "         -7.8223e-01, -6.2012e-01, -2.6050e-01,  2.3474e-01, -2.8149e-01,\n",
            "         -3.7256e-01,  3.8879e-02,  2.4902e-01, -6.4893e-01,  2.3645e-01,\n",
            "          7.9712e-02, -1.7896e-01, -2.0398e-01, -2.7100e-01, -1.7566e-01,\n",
            "         -4.5898e-01, -1.6809e-01,  2.9272e-01, -8.5352e-01,  2.0850e-01,\n",
            "         -4.5837e-02,  2.5781e-01, -1.9019e-01, -3.9331e-01,  4.3408e-01,\n",
            "          5.3711e-01,  6.4941e-01, -7.0984e-02,  3.3545e-01, -3.7695e-01,\n",
            "         -2.1777e-01,  6.6846e-01, -1.4417e-01, -5.9619e-01,  2.1509e-01,\n",
            "         -3.0859e-01, -3.2153e-01,  8.8806e-02,  1.4062e-01,  2.2852e-01,\n",
            "         -1.2463e-01, -4.3831e-03,  8.8501e-02, -5.0568e-02, -4.4116e-01,\n",
            "          2.4292e-01, -8.0225e-01, -4.0405e-01, -2.0972e-01, -2.0740e-01,\n",
            "         -1.8640e-01,  2.9053e-02,  6.5186e-02,  5.9448e-02,  8.0139e-02,\n",
            "         -2.9468e-01, -5.2673e-02, -6.2683e-02, -2.4805e-01,  2.4036e-01,\n",
            "         -2.6636e-01,  4.7437e-01,  5.2881e-01,  3.9215e-02, -4.9902e-01,\n",
            "         -1.6855e+00, -4.8462e-01, -1.8726e-01,  4.0454e-01, -2.8320e-01,\n",
            "         -5.2734e-01,  7.1924e-01, -4.3701e-01, -2.7905e-01,  1.2561e-01,\n",
            "         -8.4961e-02,  1.1951e-01,  1.0925e-02, -8.3154e-01, -2.9688e-01,\n",
            "         -4.1412e-02, -5.7178e-01,  4.2114e-02,  7.3669e-02,  7.7553e-03,\n",
            "         -2.8174e-01, -1.9897e-01,  6.3477e-01, -1.6284e-01,  5.4150e-01,\n",
            "          7.6025e-01,  2.2192e-01, -2.4414e-01, -2.9297e-01, -3.3813e-02,\n",
            "          6.4404e-01, -7.8711e-01, -5.9766e-01, -6.5283e-01, -5.2539e-01,\n",
            "          1.3184e-01,  5.8691e-01, -1.2366e-01, -1.1157e-01, -9.0234e-01,\n",
            "          7.1826e-01,  2.9761e-01,  7.9224e-02, -1.3843e-01,  5.9961e-01,\n",
            "          3.1982e-01,  2.5586e-01,  1.3892e-01,  4.6948e-01, -5.1178e-02,\n",
            "          1.1709e+00, -2.7051e-01, -6.3330e-01, -4.0894e-01,  6.0156e-01,\n",
            "         -6.0129e-04, -6.0986e-01, -9.4788e-02, -2.0096e-02,  2.1716e-01,\n",
            "         -3.4619e-01, -1.0492e-01,  6.8408e-01,  3.2153e-01,  7.6843e-02,\n",
            "         -2.3242e-01, -4.8267e-01, -3.5425e-01, -2.8369e-01, -1.4185e-01,\n",
            "          4.2334e-01,  1.8396e-01,  3.0792e-02, -1.0101e-02,  7.8918e-02,\n",
            "         -5.9375e-01,  1.0283e+00, -3.1714e-01,  3.4229e-01, -5.4980e-01,\n",
            "          4.4952e-02, -1.4539e-01,  1.4258e-01, -8.3447e-01, -6.5002e-02,\n",
            "         -8.4412e-02,  7.0508e-01, -5.4565e-02,  8.4473e-02,  2.5244e-01,\n",
            "          4.0894e-01, -2.8369e-01,  5.5957e-01, -9.2139e-01,  1.8054e-01,\n",
            "         -4.2847e-01,  2.0154e-01,  2.2011e-03, -1.0010e+00, -1.0498e-01,\n",
            "          8.6060e-02,  7.8979e-02, -3.5962e-01,  2.0142e-01, -3.6841e-01,\n",
            "         -1.1407e-01,  4.7638e-02,  5.6201e-01, -1.9867e-02,  7.3145e-01,\n",
            "          1.4844e-01, -8.8232e-01, -8.6621e-01, -8.2520e-01,  4.5410e-01,\n",
            "          2.3328e-01, -2.5464e-01, -4.1772e-01,  1.3831e-01,  1.0724e-01,\n",
            "          1.9678e-01, -8.3906e+00,  4.8511e-01, -1.8701e-01,  2.6953e-01,\n",
            "         -1.6602e-01,  1.6406e-01,  5.1318e-01, -1.6251e-02, -4.2456e-01,\n",
            "          3.7207e-01, -5.9961e-01, -1.0364e-01,  4.0771e-01,  1.3867e-01,\n",
            "         -5.3467e-01,  5.5127e-01,  7.8418e-01, -5.7910e-01, -4.0137e-01,\n",
            "          4.7607e-01,  9.6252e-02, -2.1606e-01, -8.6243e-02,  1.0992e-01,\n",
            "         -2.1759e-02,  1.2891e-01,  3.3643e-01,  4.1870e-01,  7.4097e-02,\n",
            "          1.3867e-01, -6.6162e-02, -6.1475e-01,  6.1230e-01,  5.8838e-01,\n",
            "          3.3521e-01, -7.4805e-01,  1.8445e-01,  5.4736e-01,  2.0911e-01,\n",
            "         -2.3059e-01,  1.2042e-01, -2.7390e-02,  2.5049e-01,  2.1838e-01,\n",
            "          6.0156e-01, -8.9893e-01, -1.0400e+00, -3.8159e-01,  4.0649e-01,\n",
            "          4.5227e-02, -3.2861e-01, -2.6123e-02,  7.8027e-01, -2.3401e-01,\n",
            "         -3.8666e-02,  5.3418e-01, -4.8022e-01, -3.6572e-01,  1.3562e-01,\n",
            "         -8.8074e-02,  3.6060e-01, -3.8672e-01, -8.1592e-01,  1.8164e-01,\n",
            "         -7.0215e-01,  3.2642e-01,  5.9845e-02,  6.1719e-01, -3.5919e-02,\n",
            "         -3.0249e-01, -2.8223e-01,  6.7383e-02,  3.2544e-01, -3.6792e-01,\n",
            "         -6.5918e-01, -3.0347e-01,  2.2156e-02,  3.3301e-01,  6.5088e-01,\n",
            "          5.8014e-02, -3.4448e-01, -8.2959e-01,  2.4231e-01,  9.7168e-01,\n",
            "         -3.8306e-01,  1.5564e-01,  3.5962e-01,  3.8940e-01,  6.6406e-01,\n",
            "          5.4395e-01,  1.9507e-01, -2.3743e-01,  5.2460e-02, -2.7856e-01,\n",
            "          5.0000e-01,  4.2915e-03,  1.7126e-01, -7.9492e-01,  1.3086e-01,\n",
            "          1.4868e-01,  5.4199e-01, -3.7451e-01,  2.4231e-01, -1.0490e-02,\n",
            "         -1.3285e-03,  1.2978e-02,  2.2546e-01,  2.5732e-01,  4.3970e-01,\n",
            "         -2.0288e-01, -3.8745e-01,  4.1870e-01, -1.7654e-02,  2.7710e-01,\n",
            "          5.5371e-01,  4.9121e-01,  7.2607e-01, -8.8684e-02,  7.0679e-02,\n",
            "          8.4717e-01, -1.8909e-01, -3.9734e-02,  3.7256e-01,  2.6050e-01,\n",
            "          8.1172e+00,  1.0284e-01,  5.0488e-01, -2.7319e-01, -3.6060e-01,\n",
            "         -6.3428e-01,  1.0830e+00, -1.3635e-01, -3.7451e-01,  1.2854e-01,\n",
            "         -4.3457e-01,  8.6060e-02,  5.4688e-01, -6.8176e-02,  2.4353e-01,\n",
            "         -5.4199e-01, -5.5176e-02,  7.7393e-01, -2.4719e-01,  7.5439e-01,\n",
            "          1.4026e-01,  7.2998e-02,  3.6133e-02,  9.2163e-03,  1.9800e-01,\n",
            "          1.7810e-01,  2.5024e-01, -4.1455e-01, -1.6138e-01,  1.0811e+00,\n",
            "          4.2749e-01, -1.7371e-01, -3.9258e-01,  5.3329e-03, -3.4424e-01,\n",
            "          5.4785e-01, -5.8594e-02, -5.5469e-01, -2.7197e-01,  9.3567e-02,\n",
            "          3.0713e-01, -2.5854e-01,  2.2650e-06, -4.7974e-01,  5.1221e-01,\n",
            "         -5.8398e-01, -2.7246e-01, -3.2983e-01, -9.2224e-02, -7.2412e-01,\n",
            "         -3.4668e-01,  3.4644e-01, -8.3691e-01, -5.1514e-01, -1.1487e-01,\n",
            "         -3.3838e-01, -2.1472e-01,  1.7725e-01, -6.9189e-01,  7.5989e-03,\n",
            "          7.2266e-01,  9.2346e-02, -1.4397e-02,  5.6982e-01, -6.9482e-01,\n",
            "          2.5000e-01, -4.2407e-01,  2.3773e-02, -6.7041e-01,  7.2388e-02,\n",
            "          2.1484e-01,  1.6077e-01, -6.9336e-01, -3.4497e-01, -2.9492e-01,\n",
            "          7.0190e-02, -6.5479e-01,  3.2251e-01,  2.6221e-01, -1.3535e-02,\n",
            "         -2.4988e-01,  2.0667e-01,  9.4482e-02,  7.2937e-02,  5.7495e-02,\n",
            "         -2.1851e-01,  3.9215e-02, -2.4438e-01, -7.9834e-01,  3.8086e-01,\n",
            "         -5.5809e-03, -2.5537e-01,  1.2305e-01,  4.1919e-01, -3.2544e-01,\n",
            "         -1.6870e-01,  2.3096e-01, -2.9028e-01,  1.3013e-01,  1.7871e-01,\n",
            "          4.4727e-01, -3.1812e-01,  5.2307e-02,  3.3276e-01, -6.4062e-01,\n",
            "          3.5278e-02, -1.4539e-01,  4.1992e-01, -5.5469e-01,  4.6533e-01,\n",
            "         -4.5117e-01,  1.8692e-02,  7.0312e-01, -4.2267e-02, -6.3867e-01,\n",
            "         -2.0667e-01, -1.5547e+00,  2.7124e-01, -4.0698e-01, -5.2673e-02,\n",
            "         -8.5840e-01,  1.5503e-01, -1.4832e-01,  1.1642e-02, -7.1631e-01,\n",
            "          4.9103e-02,  1.4648e-01, -1.8542e-01,  1.1682e-01, -6.1768e-01,\n",
            "         -6.4026e-02, -6.9397e-02, -1.0049e+00,  6.2354e-01,  4.4727e-01,\n",
            "         -3.2806e-02, -1.3260e-02,  1.3904e-01,  2.5055e-02, -2.1313e-01,\n",
            "          1.7517e-01,  3.2501e-02, -6.2988e-01,  2.4573e-01, -4.5746e-02,\n",
            "          3.1665e-01, -5.1575e-02,  1.4575e-01, -8.0957e-01, -3.1445e-01,\n",
            "          1.9760e-02,  2.1637e-02, -1.2225e-01, -6.4893e-01, -4.7852e-01,\n",
            "          4.0649e-01,  2.7271e-01, -3.9307e-01,  3.8159e-01,  1.3196e-01,\n",
            "         -4.1626e-02,  3.0347e-01,  4.1064e-01, -9.6924e-02,  2.5391e-01,\n",
            "          3.8428e-01,  1.8860e-01, -6.0608e-02,  1.2769e-01, -5.1465e-01,\n",
            "          4.0088e-01,  2.4048e-01, -7.7539e-01, -4.6167e-01,  1.2659e-01,\n",
            "         -1.9214e-01, -7.4805e-01, -8.1055e-01, -3.8818e-01,  1.6248e-01,\n",
            "          1.4612e-01, -1.8335e-01, -4.3726e-01, -4.9683e-01, -7.5537e-01,\n",
            "         -3.1470e-01, -6.8512e-03, -3.2617e-01, -2.2144e-01,  9.2529e-01,\n",
            "         -3.2422e-01,  5.8252e-01, -8.9990e-01, -1.9821e-02,  8.6963e-01,\n",
            "         -1.3391e-01,  2.1240e-01,  6.3330e-01, -1.8958e-01, -2.7359e-02,\n",
            "         -2.2717e-01, -3.0420e-01, -2.2461e-01, -2.9248e-01,  7.8711e-01,\n",
            "          1.0956e-01,  4.2343e-03, -2.4182e-01, -8.3160e-04, -5.9521e-01,\n",
            "          1.3501e-01,  8.7256e-01,  5.8057e-01,  1.7261e-01,  4.6094e-01,\n",
            "          1.2988e-01,  3.5596e-01, -1.9812e-01, -2.6062e-02,  4.8828e-01,\n",
            "          6.6406e-02,  3.7671e-01,  7.6904e-02, -5.0244e-01,  1.9409e-01,\n",
            "          2.8833e-01, -4.9225e-02,  3.6719e-01,  6.4844e-01,  3.3789e-01,\n",
            "         -2.5238e-02,  1.9946e-01, -1.4392e-01, -6.4307e-01, -4.3945e-01,\n",
            "         -2.1729e-01, -3.3667e-01, -7.9541e-01, -9.3811e-02,  4.2999e-02,\n",
            "         -9.9854e-01,  4.3970e-01,  1.1725e-01, -1.8030e-01,  4.3259e-03,\n",
            "         -9.0039e-01,  5.0049e-01, -3.2202e-01,  2.4561e-01,  4.2944e-01,\n",
            "          1.5236e-02, -3.9478e-01,  7.4829e-02, -1.5552e-01, -1.1298e-01,\n",
            "         -2.7328e-02,  6.6602e-01, -2.7734e-01, -1.6785e-02,  1.9958e-01,\n",
            "          5.4291e-02,  1.9238e-01, -2.7051e-01, -1.1689e+00, -2.5757e-01,\n",
            "          4.1113e-01, -8.2422e-01,  1.6931e-01, -3.7573e-01,  2.6416e-01,\n",
            "         -4.5685e-02,  3.1689e-01,  2.6047e-02,  1.1041e-01,  5.9521e-01,\n",
            "          5.9906e-02,  8.4180e-01, -1.6846e-01, -6.2500e-01, -1.4380e-01,\n",
            "         -4.9487e-01,  8.9233e-02,  3.9673e-01, -1.0107e+00,  8.6426e-01,\n",
            "         -6.1719e-01, -2.7222e-01,  5.4962e-02,  8.8318e-02,  3.0591e-01,\n",
            "         -2.4634e-01,  6.8588e-03, -1.8518e-01, -2.8418e-01, -5.4688e-01,\n",
            "         -2.2363e-01,  8.4229e-02,  5.9766e-01,  8.1116e-02, -4.9048e-01,\n",
            "         -2.4634e-01, -6.3525e-01,  4.5502e-02,  8.0444e-02,  3.0151e-01,\n",
            "          5.9668e-01,  1.2073e-01,  4.7699e-02,  1.2018e-01,  4.5502e-02,\n",
            "          3.2666e-01, -9.0698e-02, -2.6514e-01,  1.8835e-01,  2.1777e-01,\n",
            "          5.0391e-01, -2.5635e-01, -4.9591e-02,  2.2803e-01,  4.6362e-01,\n",
            "          5.7666e-01, -3.4375e-01,  3.8013e-01,  1.5784e-01, -2.8076e-01,\n",
            "          4.9536e-01, -5.1575e-02, -6.3904e-02]], dtype=torch.float16), 'Is the entire road non flooded?': tensor([[-2.4280e-01,  1.8091e-01,  4.3140e-01, -1.8018e-01, -2.2046e-01,\n",
            "          1.0870e-01,  4.6558e-01,  3.4302e-02,  3.0981e-01,  4.0405e-01,\n",
            "          1.6541e-01,  2.7447e-03, -5.3076e-01, -3.9893e-01, -2.0361e-01,\n",
            "          6.9727e-01,  4.2529e-01, -3.7720e-02, -1.6098e-02,  4.0283e-01,\n",
            "         -2.3291e-01,  5.9229e-01, -6.8604e-02, -8.0078e-02, -3.7659e-02,\n",
            "          1.4600e-01,  5.4883e-01,  3.6255e-01, -3.9551e-01, -2.1338e-01,\n",
            "          3.3569e-01,  2.5562e-01,  3.9185e-01, -5.9082e-01,  6.1768e-02,\n",
            "          4.8413e-01, -3.5107e-01,  5.5957e-01, -2.0129e-01, -2.1570e-01,\n",
            "         -4.4727e-01, -2.3145e-01, -2.7808e-01, -4.9512e-01,  1.8066e-01,\n",
            "          4.6936e-02, -1.0376e-01,  4.4434e-01,  2.2131e-01, -2.8564e-01,\n",
            "          8.1421e-02, -1.5881e-01, -1.0925e-01, -3.4546e-01, -2.7612e-01,\n",
            "         -2.0401e-02,  8.7988e-01,  1.0199e-01, -4.6069e-01, -3.0591e-01,\n",
            "          7.7881e-01,  2.0703e-01, -2.9614e-01,  2.3474e-01, -1.7932e-01,\n",
            "         -2.2217e-01, -3.9642e-02,  2.5293e-01,  4.1895e-01,  5.1904e-01,\n",
            "         -2.7979e-01, -5.7178e-01, -6.1371e-02, -9.3811e-02,  3.2178e-01,\n",
            "         -6.4502e-01, -2.3364e-01,  2.8687e-01, -2.5171e-01, -2.1240e-01,\n",
            "          3.6377e-01, -3.0444e-01, -5.3223e-01, -1.0004e-01,  6.1865e-01,\n",
            "         -2.8760e-01,  1.6479e-01, -2.2263e-02, -6.9238e-01, -2.4451e-01,\n",
            "         -3.4351e-01,  5.4932e-01, -2.4390e-01, -3.8965e-01,  1.8079e-01,\n",
            "          1.9791e-02, -1.8762e-01, -1.0315e-02,  2.6978e-01, -5.9131e-01,\n",
            "          5.1318e-01, -2.7026e-01,  1.3440e-01, -1.3782e-01,  2.2559e-01,\n",
            "          5.0439e-01, -1.9055e-01,  4.5874e-01,  3.7622e-01,  5.9131e-01,\n",
            "         -6.7773e-01, -6.1035e-01,  2.1033e-01,  3.3032e-01,  3.6450e-01,\n",
            "          1.2042e-01, -2.2791e-01,  1.2164e-01, -4.4458e-01, -2.1118e-01,\n",
            "         -7.0898e-01, -2.8955e-01, -4.4067e-01,  1.8616e-01, -3.2617e-01,\n",
            "          9.4971e-02,  5.0293e-01, -1.2988e-01,  9.6130e-02,  1.3049e-01,\n",
            "         -6.2012e-01, -5.5713e-01, -4.0869e-01,  1.2537e-01, -2.4829e-01,\n",
            "         -4.4238e-01, -1.0773e-01,  2.5562e-01, -6.3330e-01,  2.0569e-01,\n",
            "          1.0547e-01, -3.1128e-01, -1.6406e-01, -1.0333e-01,  2.0737e-02,\n",
            "         -5.6299e-01, -1.0101e-01,  4.7046e-01, -8.9160e-01,  2.0129e-01,\n",
            "         -2.0251e-01, -1.3245e-01, -2.4805e-01, -2.7441e-01,  2.9346e-01,\n",
            "          3.2080e-01,  5.8105e-01, -2.0004e-02,  2.9785e-01, -4.8877e-01,\n",
            "         -1.9263e-01,  6.2646e-01, -2.1655e-01, -5.7422e-01,  1.6272e-01,\n",
            "         -1.1505e-01, -3.8867e-01, -9.4070e-03,  8.4656e-02,  7.8201e-03,\n",
            "         -1.1450e-01, -9.5177e-04, -1.3257e-01,  5.4047e-02, -1.4001e-01,\n",
            "          1.4636e-01, -8.5400e-01, -5.5664e-01, -3.0664e-01, -2.1533e-01,\n",
            "         -3.9697e-01,  1.4563e-01,  1.2292e-01,  5.6885e-02,  2.1106e-01,\n",
            "         -4.4800e-01,  1.3464e-01, -6.2469e-02, -1.2164e-01,  1.9934e-01,\n",
            "         -2.6685e-01,  4.3481e-01,  2.4463e-01, -5.6519e-02, -2.5830e-01,\n",
            "         -1.7812e+00, -5.1807e-01, -2.3792e-01,  3.3984e-01, -1.8860e-01,\n",
            "         -5.1416e-01,  7.6416e-01, -2.7734e-01, -4.5996e-01, -1.0828e-01,\n",
            "         -2.0447e-01,  3.1342e-02, -2.4023e-01, -7.4121e-01,  5.9235e-02,\n",
            "         -4.4800e-02, -3.6060e-01, -1.7896e-01, -1.8848e-01, -9.7900e-02,\n",
            "         -4.2090e-01, -5.6689e-01,  8.9404e-01, -9.6497e-02,  5.4590e-01,\n",
            "          7.2217e-01,  2.1838e-01, -2.6025e-01, -6.5674e-01, -4.3549e-02,\n",
            "          7.2217e-01, -6.8457e-01, -5.0439e-01, -8.4619e-01, -6.5430e-01,\n",
            "          1.0242e-01,  5.0635e-01,  5.5969e-02, -1.0919e-01, -8.8379e-01,\n",
            "          5.8936e-01,  1.7065e-01,  8.0017e-02, -1.9226e-01,  5.2148e-01,\n",
            "          4.2798e-01,  5.5322e-01,  1.5344e-01,  4.3408e-01, -1.3318e-01,\n",
            "          9.0723e-01, -2.8320e-01, -4.9390e-01, -4.6069e-01,  4.0869e-01,\n",
            "          1.4417e-01, -7.3779e-01, -2.0813e-01, -2.4341e-01,  3.5425e-01,\n",
            "         -4.9219e-01, -1.4795e-01,  5.3857e-01,  3.3423e-01, -1.1066e-01,\n",
            "          2.0920e-02, -6.3867e-01, -5.2051e-01, -2.1826e-01, -2.0984e-01,\n",
            "          3.6157e-01,  2.5195e-01, -3.9124e-02,  6.9763e-02,  2.3560e-01,\n",
            "         -6.1914e-01,  9.0723e-01, -3.4644e-01,  1.4917e-01, -3.9087e-01,\n",
            "         -1.7908e-01,  6.3477e-02,  4.6875e-02, -6.8994e-01,  1.4734e-01,\n",
            "          6.2683e-02,  8.2666e-01, -5.7869e-03,  1.5527e-01,  4.3221e-03,\n",
            "          2.7026e-01, -1.3208e-01,  5.8740e-01, -1.0225e+00,  3.7280e-01,\n",
            "         -4.2261e-01,  2.6270e-01,  8.1726e-02, -9.7168e-01, -1.2085e-01,\n",
            "          1.7700e-01,  3.3936e-01, -3.3667e-01,  1.7151e-02, -7.2021e-01,\n",
            "         -2.1765e-01, -1.5906e-01,  6.1963e-01,  7.2571e-02,  6.7334e-01,\n",
            "          2.0740e-01, -9.2090e-01, -8.4961e-01, -7.1240e-01,  4.0088e-01,\n",
            "         -2.3376e-02, -4.4800e-01, -2.8320e-01,  1.9519e-01,  9.8083e-02,\n",
            "          1.8872e-01, -8.2656e+00,  1.4319e-01, -7.4768e-02,  1.1047e-01,\n",
            "         -1.5173e-01, -2.5562e-01,  6.8555e-01,  1.1395e-01, -2.4878e-01,\n",
            "          6.7969e-01, -5.8936e-01, -1.9519e-01,  3.2666e-01,  6.5186e-02,\n",
            "         -8.2959e-01,  5.5664e-01,  7.5977e-01, -5.5371e-01, -2.6221e-01,\n",
            "          5.2344e-01,  8.9478e-02, -5.0684e-01,  2.4597e-02,  1.8433e-01,\n",
            "         -5.5908e-02,  2.6611e-01,  4.3091e-01,  2.8271e-01,  1.8713e-01,\n",
            "          3.4888e-01, -1.4954e-01, -6.8311e-01,  4.9146e-01,  6.7822e-01,\n",
            "          3.4033e-01, -5.3223e-01,  1.5613e-01,  4.5801e-01,  2.3914e-01,\n",
            "         -2.1362e-01, -5.3444e-03, -3.3960e-01,  1.1859e-01,  3.3911e-01,\n",
            "          6.3037e-01, -8.8623e-01, -1.0693e+00, -3.3057e-01,  2.6221e-01,\n",
            "          7.9712e-02, -6.0010e-01,  4.1840e-02,  9.4238e-01, -2.3560e-01,\n",
            "          4.4922e-02,  6.2158e-01, -3.0762e-01, -5.0635e-01,  9.1858e-02,\n",
            "         -1.3831e-01,  2.4704e-02, -2.3364e-01, -8.9600e-01,  1.7566e-01,\n",
            "         -6.4844e-01,  4.3213e-01, -1.0419e-01,  5.3857e-01, -1.0577e-01,\n",
            "         -5.4883e-01, -2.8516e-01,  7.9346e-02,  2.5977e-01, -1.2720e-01,\n",
            "         -2.9492e-01, -3.3569e-01, -8.9111e-02,  1.5479e-01,  5.8984e-01,\n",
            "         -2.4857e-02, -4.0820e-01, -8.9355e-01,  2.4988e-01,  9.6729e-01,\n",
            "         -3.2568e-01,  1.1426e-01,  2.5635e-01,  3.7036e-01,  1.0371e+00,\n",
            "          5.8789e-01,  2.0471e-01, -2.4255e-01, -1.4046e-02, -1.0834e-01,\n",
            "          2.2729e-01, -2.4536e-02,  4.9976e-01, -8.2275e-01, -7.3853e-02,\n",
            "          1.0211e-01,  3.0811e-01, -3.1787e-01,  2.4341e-01,  5.8105e-02,\n",
            "         -1.0391e-02,  6.9336e-02,  3.0542e-01,  3.6011e-01,  4.2822e-01,\n",
            "         -2.5345e-02, -3.7061e-01,  3.4741e-01,  1.5369e-01,  2.8027e-01,\n",
            "          6.5186e-01,  3.4082e-01,  6.7627e-01, -1.3391e-01,  1.0724e-01,\n",
            "          7.0312e-01, -2.4963e-01, -1.3232e-01,  7.7576e-02,  4.5142e-01,\n",
            "          7.9453e+00, -1.9104e-01,  5.2686e-01, -3.3862e-01, -2.4976e-01,\n",
            "         -7.3486e-01,  8.0273e-01,  7.2327e-02, -2.1533e-01,  7.6477e-02,\n",
            "         -7.4524e-02,  6.0883e-02,  7.7441e-01,  1.9299e-01,  1.4575e-01,\n",
            "         -4.4556e-01,  6.9214e-02,  9.2334e-01, -4.2310e-01,  6.4111e-01,\n",
            "          2.6758e-01, -3.2806e-02,  1.0577e-01,  3.2227e-02,  2.4719e-01,\n",
            "          1.9180e-02,  3.6719e-01, -5.6543e-01, -2.6367e-01,  8.4619e-01,\n",
            "          4.1821e-01,  7.6111e-02, -4.8779e-01, -1.2627e-02, -3.2642e-01,\n",
            "          9.4299e-02, -3.2861e-01, -8.3643e-01, -7.8247e-02,  2.9541e-01,\n",
            "          4.1699e-01,  6.7017e-02, -1.5564e-01, -5.6006e-01,  4.0259e-01,\n",
            "         -1.8481e-01, -2.9150e-01, -5.5237e-02, -1.5015e-01, -5.9863e-01,\n",
            "         -2.1521e-01,  2.6221e-01, -9.3896e-01, -4.1724e-01, -2.4402e-01,\n",
            "         -3.1274e-01,  1.9543e-01,  8.4961e-02, -6.4746e-01, -2.6978e-01,\n",
            "          5.4932e-01, -1.3077e-02,  1.3635e-01,  5.3125e-01, -4.7021e-01,\n",
            "          2.4329e-01, -1.1432e-01,  2.0105e-01, -6.6406e-01,  1.9577e-02,\n",
            "          6.6101e-02, -6.2073e-02, -3.9209e-01, -1.1810e-01, -6.3904e-02,\n",
            "          1.0278e-01, -6.3281e-01,  2.9028e-01,  2.4365e-01,  2.1912e-01,\n",
            "         -3.5742e-01,  3.8989e-01,  7.9712e-02,  9.8206e-02,  2.9736e-01,\n",
            "         -3.1396e-01, -1.2695e-01, -3.6401e-01, -6.7969e-01,  3.3325e-01,\n",
            "          1.1574e-02, -4.3359e-01, -1.0974e-01,  5.6641e-01,  1.1304e-01,\n",
            "         -2.4377e-01,  1.4905e-01, -1.1273e-01,  2.2876e-01,  4.3408e-01,\n",
            "          5.3564e-01, -6.2012e-02,  1.1646e-01,  3.2056e-01, -5.5469e-01,\n",
            "          2.4854e-01,  4.1534e-02,  1.7883e-01, -7.3682e-01,  3.0762e-01,\n",
            "         -1.7676e-01, -1.2726e-02,  5.6201e-01,  2.5049e-01, -6.3770e-01,\n",
            "         -3.0518e-01, -1.5664e+00,  2.3499e-01, -5.1807e-01, -1.2413e-02,\n",
            "         -9.1650e-01,  2.3486e-01, -1.6248e-01, -9.5825e-03, -7.6221e-01,\n",
            "          3.0127e-01,  3.0811e-01, -4.0918e-01, -4.3121e-02, -4.2529e-01,\n",
            "         -1.4282e-01, -9.5337e-02, -1.0752e+00,  4.6680e-01,  5.0000e-01,\n",
            "         -7.8186e-02, -1.2598e-01,  1.3770e-01,  3.4882e-02, -1.0229e-01,\n",
            "          2.0007e-01,  2.7252e-02, -5.7617e-01,  4.0454e-01, -1.8219e-02,\n",
            "          1.9604e-01, -1.1615e-01,  9.9426e-02, -9.8730e-01, -5.3613e-01,\n",
            "          5.2216e-02,  8.3008e-02, -1.9324e-01, -6.4404e-01, -2.3853e-01,\n",
            "          4.3896e-01,  2.4158e-01, -3.2007e-01,  2.7466e-01,  5.7892e-02,\n",
            "         -2.0288e-01,  3.5693e-01,  5.2002e-01, -2.0874e-01,  4.2065e-01,\n",
            "          5.5127e-01,  2.1863e-01,  1.3428e-01,  1.7798e-01, -3.8159e-01,\n",
            "          4.9609e-01,  3.3813e-01, -7.0215e-01, -4.4409e-01,  1.5454e-01,\n",
            "         -1.7285e-01, -4.5386e-01, -7.9150e-01, -2.3169e-01, -6.1073e-03,\n",
            "          3.3667e-01, -2.0068e-01, -5.5029e-01, -4.5898e-01, -6.5820e-01,\n",
            "         -3.6670e-01, -4.4769e-02, -3.8794e-01, -4.4092e-01,  6.2207e-01,\n",
            "         -3.3545e-01,  5.1855e-01, -9.7803e-01,  1.4062e-01,  6.1426e-01,\n",
            "         -1.4331e-01,  4.3042e-01,  7.4902e-01, -1.2207e-01, -2.1204e-01,\n",
            "         -9.2896e-02, -2.7368e-01, -2.6550e-03, -7.6416e-02,  8.1299e-01,\n",
            "         -1.8250e-02, -2.2446e-02, -1.6528e-01, -3.6407e-02, -6.4795e-01,\n",
            "          2.4475e-01,  8.7354e-01,  5.4736e-01, -5.4352e-02,  3.9282e-01,\n",
            "          9.0271e-02,  1.7737e-01, -1.0706e-01, -2.8491e-01,  3.0322e-01,\n",
            "          2.2937e-01,  4.8413e-01,  3.1006e-01, -3.8818e-01,  4.9347e-02,\n",
            "          2.4048e-01,  2.2690e-02,  4.3579e-01,  1.7505e-01,  7.6807e-01,\n",
            "         -6.2332e-03,  3.1177e-01, -2.1317e-02, -6.2549e-01, -8.0713e-01,\n",
            "         -5.5518e-01, -1.7786e-01, -6.7236e-01, -3.6896e-02,  9.8328e-02,\n",
            "         -6.0938e-01,  4.8706e-01, -1.0303e-01, -1.1975e-01,  9.3933e-02,\n",
            "         -8.7842e-01,  4.6558e-01, -2.5220e-01,  1.8286e-01,  5.2100e-01,\n",
            "          2.3218e-01, -4.9292e-01, -1.6281e-02, -2.5986e-02, -5.2795e-02,\n",
            "          2.6337e-02,  3.8550e-01, -4.3506e-01,  3.4393e-02,  2.3706e-01,\n",
            "         -1.0303e-01,  3.0396e-01, -1.5906e-01, -9.2578e-01, -1.3147e-01,\n",
            "          4.1479e-01, -5.7275e-01,  2.0496e-01, -3.1494e-01,  2.7759e-01,\n",
            "          1.0278e-01,  1.4966e-01, -3.8147e-02, -1.8738e-01,  7.2510e-01,\n",
            "          1.8213e-01,  6.3525e-01, -9.2850e-03, -5.7471e-01, -5.0684e-01,\n",
            "         -8.6719e-01,  9.7656e-02, -1.7624e-02, -8.5352e-01,  1.1475e+00,\n",
            "         -6.6406e-01, -6.0938e-01, -1.2085e-01,  1.0510e-01,  2.2278e-01,\n",
            "          1.0583e-01,  1.0516e-01, -3.6670e-01, -3.2397e-01, -6.0205e-01,\n",
            "         -2.9346e-01,  2.1765e-01,  6.1377e-01,  1.3977e-01, -5.5420e-01,\n",
            "         -1.4294e-01, -6.1084e-01, -1.1713e-01,  3.4644e-01,  3.7720e-01,\n",
            "          5.3662e-01,  2.1802e-01,  5.6702e-02,  1.2402e-01, -9.0820e-02,\n",
            "          4.3652e-01, -2.4023e-01, -3.8599e-01,  1.1578e-01,  4.7949e-01,\n",
            "          3.6890e-01, -3.5095e-02,  1.5002e-01,  4.0479e-01,  2.2754e-01,\n",
            "          3.8843e-01, -3.3716e-01,  3.6914e-01,  2.4670e-01, -4.3018e-01,\n",
            "          2.6318e-01,  1.4111e-01, -1.7786e-01]], dtype=torch.float16), 'What is the condition of road?': tensor([[-6.7139e-01,  5.6104e-01,  6.8066e-01,  6.8896e-01,  1.5100e-01,\n",
            "         -2.3328e-01,  5.1465e-01,  3.9844e-01,  3.9844e-01,  2.0300e-01,\n",
            "         -3.4814e-01, -6.2866e-02, -8.5645e-01,  8.3923e-03, -1.7151e-01,\n",
            "          8.5571e-02,  1.0898e+00, -1.9910e-01,  3.2495e-01, -3.1372e-02,\n",
            "          1.2805e-01, -1.8201e-01, -3.8135e-01, -8.5266e-02,  1.2840e-02,\n",
            "          2.0129e-01,  2.1521e-01,  3.1885e-01, -2.2632e-01,  2.0361e-01,\n",
            "          8.1604e-02,  6.9336e-01,  5.1367e-01, -3.7207e-01, -5.6055e-01,\n",
            "         -2.3376e-01, -6.0889e-01,  3.6865e-01, -3.6816e-01, -4.0942e-01,\n",
            "         -2.7783e-01,  3.2593e-01,  4.2944e-01, -2.8589e-01,  2.5806e-01,\n",
            "          4.8560e-01,  3.1006e-01, -1.5259e-01,  2.7319e-01, -4.2432e-01,\n",
            "          2.4121e-01, -9.5520e-02,  2.0166e-01, -3.3545e-01, -1.9678e-01,\n",
            "         -1.0681e-01,  8.5059e-01,  6.8359e-01,  3.4668e-01, -2.8931e-01,\n",
            "          5.4688e-01,  2.4414e-01, -1.8152e-01,  9.2285e-02,  6.3965e-02,\n",
            "          2.3364e-01,  2.0056e-01,  9.7717e-02, -1.7102e-01,  1.9421e-01,\n",
            "         -3.7817e-01, -2.3975e-01,  2.1988e-02,  2.2400e-02, -1.9897e-01,\n",
            "         -7.0801e-01, -4.0430e-01, -3.0273e-01, -1.6663e-01, -6.0742e-01,\n",
            "          3.2690e-01, -4.8999e-01, -7.8711e-01, -9.4116e-02,  6.8066e-01,\n",
            "         -6.0425e-02, -4.2686e-03, -1.3123e-01, -8.0322e-01, -4.4653e-01,\n",
            "          8.1543e-02,  6.9336e-01, -4.4312e-01, -5.8838e-02,  1.9196e-02,\n",
            "          1.4636e-01, -3.9087e-01,  1.4539e-01,  1.0779e-01, -5.1453e-02,\n",
            "          4.1602e-01, -5.0537e-01, -2.3462e-01,  1.8030e-01,  2.5781e-01,\n",
            "          9.0698e-02, -7.6721e-02,  4.6082e-02, -2.2412e-01,  3.5986e-01,\n",
            "         -5.5078e-01, -2.0767e-02,  1.8311e-01,  4.1724e-01,  1.9299e-01,\n",
            "         -2.0981e-02,  5.2834e-04,  5.2124e-02, -3.9331e-01, -1.3281e-01,\n",
            "          4.2664e-02, -4.6051e-02, -4.2529e-01, -5.8167e-02, -4.1064e-01,\n",
            "          3.6646e-01, -2.1835e-02,  1.4755e-02, -4.5459e-01,  1.8237e-01,\n",
            "         -5.1453e-02, -9.7351e-03, -5.7953e-02, -9.9182e-02, -6.9043e-01,\n",
            "         -5.0928e-01,  2.6245e-01,  5.0507e-02, -1.8018e-01, -3.9258e-01,\n",
            "          2.3071e-01, -5.5664e-01, -8.4778e-02, -7.8491e-02,  2.9761e-01,\n",
            "          3.0225e-01,  9.2529e-02,  2.9199e-01, -5.2295e-01, -6.5651e-03,\n",
            "          5.1514e-02, -6.3379e-01,  1.1780e-01, -3.8452e-02,  3.8770e-01,\n",
            "          9.9640e-03,  3.0615e-01,  2.7881e-01, -4.7534e-01, -2.6953e-01,\n",
            "         -5.1562e-01,  4.7314e-01,  2.4536e-01, -7.2705e-01,  3.2251e-01,\n",
            "         -2.4780e-01,  1.7554e-01, -5.5664e-01,  2.6831e-01,  3.3838e-01,\n",
            "          6.8359e-02, -2.5439e-01, -7.1875e-01,  1.1353e-01,  1.1090e-01,\n",
            "         -5.1465e-01, -6.6357e-01, -9.6680e-01,  1.3318e-01, -2.6465e-01,\n",
            "          5.1392e-02, -1.2344e-02,  3.5205e-01, -4.7516e-02,  5.6671e-02,\n",
            "         -1.9958e-01, -4.6704e-01,  4.7827e-01, -4.5776e-02,  1.9629e-01,\n",
            "         -5.8936e-01,  3.3057e-01,  6.8311e-01,  6.5857e-02, -2.8214e-02,\n",
            "         -1.5537e+00, -2.0789e-01, -2.3071e-01,  1.5149e-01, -3.0371e-01,\n",
            "         -6.8970e-02,  4.5996e-01, -2.0911e-01,  5.2795e-02, -6.4621e-03,\n",
            "          1.7700e-01, -4.9248e-03,  7.4768e-02, -5.7861e-01,  2.7612e-01,\n",
            "          1.2842e-01, -3.0298e-01,  5.0323e-02, -1.0962e-01, -6.5063e-02,\n",
            "         -2.5073e-01, -4.2310e-01,  1.0098e+00,  3.6963e-01,  3.0054e-01,\n",
            "          6.1836e-03,  2.1558e-01, -3.6548e-01, -4.0479e-01, -2.6562e-01,\n",
            "          1.5283e-01, -9.0381e-01, -2.6221e-01, -4.3994e-01, -3.0121e-02,\n",
            "          1.4685e-01, -1.3565e-02, -2.1045e-01,  2.0642e-01, -2.5269e-01,\n",
            "          4.8218e-01, -3.8477e-01,  1.0498e-02,  4.5166e-01,  4.7559e-01,\n",
            "          5.3174e-01,  1.4148e-01, -2.0923e-01,  1.9128e-01, -1.5305e-02,\n",
            "          1.4707e+00,  3.6816e-01, -2.6025e-01, -4.4043e-01,  2.1570e-01,\n",
            "         -6.2622e-02,  1.2657e-02, -1.6589e-01,  1.6321e-01, -4.3579e-02,\n",
            "         -9.9268e-01, -4.9622e-02,  5.6885e-01, -5.0903e-02,  5.5298e-02,\n",
            "         -1.9080e-01, -5.9326e-01, -8.8867e-01,  1.5297e-02, -7.0862e-02,\n",
            "          6.7139e-01, -4.2053e-02,  4.2065e-01, -1.2805e-01,  5.2637e-01,\n",
            "         -6.3672e-01,  9.9023e-01, -2.9572e-02,  2.9199e-01, -2.0667e-01,\n",
            "         -9.8267e-03, -2.9126e-01,  4.6899e-01, -5.4443e-01, -1.4380e-01,\n",
            "          9.8328e-02,  7.4756e-01,  1.3330e-01,  5.3125e-01,  1.0608e-01,\n",
            "          1.4221e-01,  4.5923e-01,  2.3755e-01, -9.1748e-01,  3.0859e-01,\n",
            "          4.6173e-02,  1.7334e-01,  9.0637e-02, -6.0205e-01,  2.9404e-02,\n",
            "          1.6541e-01,  4.2383e-01, -1.4124e-01,  2.5903e-01, -1.9287e-01,\n",
            "          4.5923e-01, -6.1279e-01,  2.6416e-01, -2.9712e-01,  2.6413e-02,\n",
            "         -3.3521e-01, -8.1592e-01, -6.2158e-01, -5.6006e-01,  4.8853e-01,\n",
            "         -2.8564e-01,  1.3391e-01, -4.6924e-01, -2.5269e-01,  8.9966e-02,\n",
            "          1.5686e-01, -9.7188e+00,  1.5381e-01, -3.1592e-01, -2.4670e-01,\n",
            "         -2.1924e-01,  3.1543e-01,  3.8477e-01,  1.6846e-01, -5.7666e-01,\n",
            "          5.1074e-01, -9.6338e-01, -1.1285e-01,  1.4209e-01, -8.0420e-01,\n",
            "         -7.6172e-01,  3.8623e-01,  6.6113e-01, -5.1318e-01,  7.7963e-04,\n",
            "          5.5957e-01, -3.8721e-01, -6.0547e-01, -1.9519e-01, -3.9764e-02,\n",
            "          6.0010e-01,  4.0991e-01,  3.8452e-02, -8.9966e-02,  2.9236e-02,\n",
            "          6.3477e-01, -4.2188e-01, -2.7808e-01,  1.5381e-01,  1.9080e-01,\n",
            "         -1.9092e-01, -5.1221e-01,  3.0615e-01,  2.0728e-01,  7.4414e-01,\n",
            "          1.3892e-01,  4.5312e-01, -8.6670e-01, -2.4390e-01, -1.6418e-02,\n",
            "          5.9570e-01, -2.5171e-01, -5.0293e-01, -1.9885e-01,  3.2520e-01,\n",
            "         -2.5818e-02, -1.4795e-01,  2.2852e-01,  8.8623e-01, -5.6641e-01,\n",
            "          1.0339e-01,  1.6284e-01, -3.9038e-01, -1.4868e-01, -1.0156e-01,\n",
            "         -7.9407e-02,  2.9834e-01, -7.1045e-01, -2.6587e-01, -5.0244e-01,\n",
            "         -2.4036e-01,  3.5596e-01, -3.7793e-01,  5.6689e-01,  6.2317e-02,\n",
            "         -4.0576e-01, -1.8457e-01, -1.1005e-01,  5.3076e-01,  1.7859e-01,\n",
            "         -5.0342e-01, -3.4766e-01, -2.8711e-01, -2.7563e-01,  1.3440e-01,\n",
            "          2.2742e-01, -3.8116e-02,  1.7285e-01, -8.4305e-03,  6.3623e-01,\n",
            "         -8.0261e-03,  1.4172e-01, -6.6719e-03,  8.0762e-01,  5.7715e-01,\n",
            "          5.2734e-01,  8.0371e-01, -2.8442e-01,  9.5337e-02, -1.8213e-01,\n",
            "          7.6367e-01,  7.2998e-02, -4.9805e-01, -8.8281e-01,  5.7648e-02,\n",
            "         -1.6870e-01,  2.7075e-01, -4.6240e-01,  4.2993e-01,  1.1511e-01,\n",
            "         -4.1626e-01, -1.8713e-01,  2.8857e-01,  8.5815e-02,  3.6713e-02,\n",
            "          2.1143e-01, -2.2095e-01, -8.2397e-02, -2.1387e-01,  6.8896e-01,\n",
            "          4.1528e-01,  2.1484e-01,  1.1676e-01, -2.4796e-02, -3.4473e-01,\n",
            "          9.4922e-01,  6.0486e-02, -2.6001e-01, -7.2510e-02,  3.8379e-01,\n",
            "          8.8594e+00, -3.8281e-01,  5.6299e-01, -3.7378e-01,  4.0210e-01,\n",
            "         -4.8730e-01,  8.5986e-01,  1.8311e-01, -1.5454e-01, -2.4673e-02,\n",
            "         -2.1887e-01,  6.7725e-01,  1.0078e+00, -1.9995e-01,  3.6621e-01,\n",
            "         -3.7549e-01, -1.3770e-01,  1.7914e-02,  3.0054e-01,  4.8364e-01,\n",
            "          1.8396e-01, -2.2461e-01, -3.2080e-01,  5.2834e-03, -2.6099e-01,\n",
            "          4.3799e-01,  5.2100e-01, -2.3407e-02, -1.0327e-01,  3.7305e-01,\n",
            "         -2.2559e-01, -1.1646e-01, -2.2974e-01, -3.2300e-01,  6.5857e-02,\n",
            "          8.7219e-02, -3.3276e-01,  4.4037e-02,  3.5864e-01,  2.1228e-01,\n",
            "         -2.4048e-02, -2.9590e-01, -1.3672e-01, -9.9902e-01,  1.6528e-01,\n",
            "         -5.8502e-02,  4.6265e-02, -6.9275e-02,  2.2693e-01, -7.0215e-01,\n",
            "         -3.0933e-01, -2.3327e-03, -3.4155e-01,  4.1919e-01,  2.4377e-01,\n",
            "         -1.6174e-01,  1.0828e-01, -1.6797e-01, -6.2451e-01, -2.8223e-01,\n",
            "          5.2002e-01, -1.2646e-01,  1.7053e-01,  2.2046e-01, -6.3281e-01,\n",
            "         -1.2018e-01, -2.7856e-01,  1.4001e-01, -4.5044e-01, -7.2449e-02,\n",
            "          2.5610e-01,  1.0040e-01,  4.1504e-01, -2.0764e-01, -7.3914e-02,\n",
            "          2.0972e-01, -2.7417e-01, -2.2217e-01,  1.6528e-01, -1.3336e-02,\n",
            "         -2.9248e-01,  6.8555e-01,  4.0674e-01,  4.6272e-03,  1.3721e-01,\n",
            "          2.8638e-01,  4.4312e-02, -5.8545e-01, -5.5518e-01,  3.6450e-01,\n",
            "          1.7834e-01, -4.3152e-02, -2.8198e-01, -6.4062e-01,  4.9365e-01,\n",
            "         -5.6689e-01,  2.3486e-01, -2.7490e-01, -2.3767e-01,  6.6162e-01,\n",
            "         -4.0588e-02, -4.5593e-02, -1.9177e-01,  2.7856e-01, -4.2554e-01,\n",
            "          2.2385e-02, -8.1482e-02, -2.4902e-02, -2.5391e-01,  2.9053e-01,\n",
            "          1.7810e-01, -2.2083e-01,  4.9634e-01, -3.6963e-01, -4.6216e-01,\n",
            "         -1.1909e-02, -1.4971e+00, -2.7856e-01, -6.1768e-01,  3.0908e-01,\n",
            "         -1.1768e+00, -6.3721e-02, -1.3771e-02,  1.2878e-01, -6.4893e-01,\n",
            "          3.3691e-01,  2.9590e-01, -1.9080e-01,  1.3354e-01,  5.0262e-02,\n",
            "         -9.8999e-02,  3.0273e-01, -1.1123e+00, -1.4067e-04,  5.5225e-01,\n",
            "          4.0063e-01,  1.9836e-01, -4.3188e-01, -5.6854e-02,  7.8491e-02,\n",
            "         -1.5430e-01, -3.0640e-01, -6.1670e-01,  8.2666e-01, -4.0161e-01,\n",
            "         -1.0791e-01, -3.6255e-02, -2.4060e-01, -5.4492e-01, -9.3079e-02,\n",
            "         -5.8545e-01,  3.5107e-01,  3.9282e-01, -2.5659e-01, -2.0593e-01,\n",
            "          2.5562e-01,  3.2031e-01, -1.7004e-01,  1.1090e-01, -1.1055e-02,\n",
            "          1.1560e-01,  5.3406e-03,  3.5669e-01, -2.6779e-02,  4.0234e-01,\n",
            "         -5.5029e-01,  3.3154e-01,  6.9336e-02,  2.4756e-01, -9.5093e-02,\n",
            "          6.7480e-01,  1.3342e-01, -8.1738e-01,  7.8918e-02,  3.5986e-01,\n",
            "          1.6159e-02, -3.2202e-01, -1.1016e+00, -9.2468e-02,  1.6016e-01,\n",
            "         -1.4014e-01,  5.1239e-02, -5.4004e-01, -3.1616e-01, -7.8809e-01,\n",
            "         -3.4277e-01,  2.3816e-01,  1.4233e-01, -2.4365e-01,  9.3066e-01,\n",
            "         -3.8757e-02,  4.3311e-01, -1.0752e+00,  5.0000e-01,  9.0869e-01,\n",
            "          6.4111e-01,  1.4124e-01,  1.3586e-01, -5.5603e-02, -2.2241e-01,\n",
            "         -2.2864e-01, -3.1152e-01,  4.3427e-02, -3.5547e-01,  8.8916e-01,\n",
            "         -3.5327e-01,  1.8567e-01, -3.4839e-01, -5.1807e-01,  1.9562e-02,\n",
            "          9.9670e-02,  6.3818e-01,  5.4248e-01, -5.8960e-02,  4.0698e-01,\n",
            "          3.7134e-01, -4.6661e-02,  1.4868e-01, -3.9087e-01,  1.7651e-01,\n",
            "          1.8201e-01,  6.7749e-02,  1.6577e-01,  1.4671e-02, -4.9536e-01,\n",
            "          1.6113e-01, -1.7896e-01,  2.7588e-01,  3.4814e-01,  8.8086e-01,\n",
            "         -3.4229e-01,  4.0796e-01, -1.7114e-01, -6.3916e-01, -2.9614e-01,\n",
            "         -1.8616e-01,  2.6587e-01, -5.5762e-01,  2.7881e-01,  1.2463e-01,\n",
            "         -3.0664e-01, -3.0960e-02, -3.6987e-01, -1.3817e-02,  3.5339e-02,\n",
            "          6.9580e-02,  5.1758e-01, -5.2100e-01,  7.7734e-01,  5.3070e-02,\n",
            "          2.3914e-01, -2.3816e-01,  6.7139e-03, -3.8013e-01,  3.3325e-01,\n",
            "          5.2344e-01,  2.9834e-01,  4.8920e-02, -2.3450e-01,  9.9304e-02,\n",
            "         -3.4937e-01, -6.0010e-01, -1.3013e-01, -6.2305e-01, -1.3733e-01,\n",
            "          6.8555e-01, -2.9126e-01,  3.6841e-01,  9.0637e-03, -2.1619e-01,\n",
            "         -2.6505e-02,  4.9866e-02,  1.9287e-01, -2.5122e-01,  7.0508e-01,\n",
            "         -2.9395e-01,  4.2725e-01,  4.7882e-02, -1.6266e-02, -3.8135e-01,\n",
            "         -5.6299e-01, -1.2744e-01, -4.3823e-02, -8.3984e-01,  6.2012e-01,\n",
            "          4.4263e-01, -5.6982e-01, -3.2739e-01, -3.1714e-01,  5.2100e-01,\n",
            "         -1.0828e-01,  2.1094e-01, -5.7861e-01, -2.7008e-03, -6.6711e-02,\n",
            "         -7.8076e-01,  2.9297e-01,  1.6528e-01, -1.2474e-02, -3.3667e-01,\n",
            "          5.6396e-01, -3.2202e-01, -2.2058e-01,  3.6938e-01, -4.7821e-02,\n",
            "          1.0850e+00,  1.8628e-01, -9.6619e-02,  1.1719e-02,  1.0791e-01,\n",
            "         -1.9150e-03,  1.3330e-01, -5.6641e-01,  1.0107e-01,  1.9434e-01,\n",
            "          6.5491e-02,  6.3965e-02,  4.9219e-01,  7.0801e-03, -3.2898e-02,\n",
            "         -5.0049e-01, -2.1777e-01,  2.6880e-01,  2.9028e-01, -5.5078e-01,\n",
            "         -1.4392e-01,  3.2129e-01, -2.9761e-01]], dtype=torch.float16), 'What is the condition of the road in this image?': tensor([[ 2.3560e-02,  6.1182e-01,  5.2295e-01,  4.3262e-01,  7.7332e-02,\n",
            "         -3.6572e-01,  5.7764e-01,  5.3320e-01,  5.0928e-01, -1.2408e-01,\n",
            "          2.0889e-02, -3.1055e-01, -6.0010e-01,  1.1615e-01, -3.4766e-01,\n",
            "          2.2858e-02,  1.2930e+00,  3.6719e-01,  2.9980e-01, -2.7222e-01,\n",
            "          4.8859e-02,  1.6772e-01, -2.8857e-01, -3.6426e-01,  1.4313e-02,\n",
            "         -4.4873e-01, -3.1769e-02, -2.5249e-04,  2.7417e-01,  2.0166e-01,\n",
            "         -1.4941e-01,  3.7085e-01,  3.8452e-01, -2.2583e-01, -6.8066e-01,\n",
            "          2.1094e-01, -3.8623e-01,  2.5244e-01, -1.2524e-01, -1.4941e-01,\n",
            "         -9.9976e-02,  2.7490e-01,  1.0663e-01,  1.6022e-02,  1.5625e-01,\n",
            "          2.6025e-01,  2.7466e-01,  5.5145e-02, -2.9614e-01, -4.4971e-01,\n",
            "         -7.4280e-02, -4.6899e-01,  3.7134e-01, -2.7905e-01, -2.7490e-01,\n",
            "         -4.3530e-01,  6.8799e-01,  4.3970e-01, -1.3354e-01, -2.3474e-01,\n",
            "          4.6069e-01,  1.9409e-02,  3.9917e-02,  4.1626e-01,  6.9237e-03,\n",
            "          3.4351e-01,  5.5176e-01,  1.7798e-01,  4.2084e-02,  2.7393e-01,\n",
            "         -7.1594e-02,  1.3965e-01,  2.7661e-01,  4.7266e-01,  3.0469e-01,\n",
            "         -7.6465e-01, -7.4219e-01, -2.5101e-02, -3.0792e-02, -3.4082e-01,\n",
            "          2.8613e-01, -6.5918e-01, -3.2227e-01, -4.6680e-01,  5.5469e-01,\n",
            "          2.4719e-01, -1.0284e-02,  2.0111e-02, -7.3193e-01, -5.5145e-02,\n",
            "          2.1130e-01,  7.3877e-01, -1.9312e-01, -6.6895e-02, -3.6230e-01,\n",
            "          2.7686e-01, -5.3711e-01,  5.8350e-02,  1.0413e-01, -4.1553e-01,\n",
            "         -1.7175e-01, -8.8623e-01, -3.9966e-01, -2.3926e-02,  2.2693e-01,\n",
            "          6.9141e-01, -2.8979e-01,  9.9792e-02,  2.4023e-01,  3.6328e-01,\n",
            "         -5.0879e-01,  2.1521e-01,  1.4148e-01,  1.6956e-01, -3.0371e-01,\n",
            "         -8.7051e-03, -7.4414e-01, -2.9639e-01,  1.3039e-02, -1.9012e-02,\n",
            "          3.3478e-02, -8.3984e-02, -1.9360e-01, -3.4131e-01, -1.8982e-01,\n",
            "          6.2500e-01, -1.4880e-01, -1.2329e-01,  2.4414e-02,  2.7002e-01,\n",
            "         -1.4542e-02,  3.6499e-01, -2.2302e-01,  1.0400e-01, -3.3154e-01,\n",
            "         -3.4888e-01,  1.2952e-01,  3.5718e-01, -1.2347e-01, -2.5269e-01,\n",
            "          9.7839e-02, -6.1230e-01,  1.2372e-01, -2.1606e-01, -7.1411e-02,\n",
            "         -1.9995e-01, -4.3945e-02,  1.7566e-01, -2.8955e-01, -3.6694e-01,\n",
            "         -8.7662e-03, -2.9883e-01,  2.0898e-01, -3.8721e-01,  1.8250e-01,\n",
            "          3.2251e-01,  3.2910e-01,  2.9419e-01, -1.3684e-01, -4.2578e-01,\n",
            "         -3.0249e-01,  4.7998e-01,  5.9998e-02, -2.7734e-01, -2.0593e-01,\n",
            "         -3.5352e-01,  7.7148e-02, -4.9951e-01,  5.7520e-01, -2.7466e-01,\n",
            "         -1.4844e-01, -3.9917e-01, -5.2588e-01, -3.0713e-01,  3.1665e-01,\n",
            "         -2.5464e-01, -5.1025e-01, -1.3994e+00,  5.1904e-01, -4.3213e-01,\n",
            "          2.1643e-01,  2.9480e-02,  2.6642e-02, -2.2058e-01,  8.8867e-02,\n",
            "         -2.3486e-01, -4.4128e-02,  2.7368e-01,  3.6987e-01, -3.7866e-01,\n",
            "         -4.3140e-01,  8.3008e-01,  4.6436e-01,  7.5439e-02, -9.9243e-02,\n",
            "         -1.1797e+00, -6.0400e-01,  3.5913e-01, -2.3657e-01, -4.3115e-01,\n",
            "          8.2397e-02, -3.8867e-01, -1.4929e-01, -3.1891e-02, -2.0081e-01,\n",
            "          2.7148e-01, -3.3936e-01, -7.1167e-02, -3.8354e-01,  7.8674e-02,\n",
            "         -4.3488e-02, -4.8560e-01, -2.1167e-01, -2.4744e-01,  8.0032e-03,\n",
            "          6.5491e-02, -4.1309e-01,  8.9453e-01,  2.4451e-01,  4.7803e-01,\n",
            "          2.8931e-01, -3.6377e-02, -5.9424e-01, -5.1074e-01, -3.9844e-01,\n",
            "         -1.3562e-01, -1.2598e+00, -2.4460e-02,  1.0809e-01, -1.5808e-01,\n",
            "          3.3911e-01, -3.3789e-01, -2.7417e-01,  1.0938e-01, -1.8140e-01,\n",
            "         -3.7689e-02, -7.4072e-01,  1.5515e-01,  3.3521e-01,  4.1309e-01,\n",
            "          4.5898e-01,  5.5029e-01, -5.0415e-02, -3.6392e-03,  2.0142e-01,\n",
            "          1.4844e+00,  2.3895e-02, -4.5532e-02, -3.7476e-01,  6.4990e-01,\n",
            "          5.2930e-01, -3.4106e-01, -1.4099e-01, -7.2693e-02, -2.0935e-01,\n",
            "         -7.5391e-01,  4.0649e-02,  7.2949e-01,  3.1079e-01,  4.9835e-02,\n",
            "         -3.9233e-01, -5.3076e-01, -5.9766e-01,  6.2988e-02,  2.2351e-01,\n",
            "          5.9814e-01, -1.3562e-01, -1.7749e-01, -3.3325e-01,  3.0933e-01,\n",
            "         -5.9912e-01,  5.5420e-01,  3.6865e-02,  2.2839e-01, -1.1212e-01,\n",
            "         -2.1704e-01, -5.0293e-01,  3.1226e-01, -2.6685e-01, -5.3467e-01,\n",
            "          7.6965e-02,  1.7761e-01,  9.5825e-02,  1.7920e-01,  7.4463e-02,\n",
            "         -2.2681e-01,  5.1562e-01,  5.1660e-01, -5.0439e-01,  3.4204e-01,\n",
            "          1.3208e-01,  2.9639e-01, -3.3569e-01, -7.3340e-01,  4.3066e-01,\n",
            "          6.5820e-01,  2.9956e-01, -1.6858e-01,  2.1802e-01,  1.5125e-01,\n",
            "          2.5684e-01, -4.1797e-01,  2.0630e-01, -3.5181e-01,  8.5876e-02,\n",
            "         -6.6064e-01, -8.7451e-01, -2.7466e-01, -3.1519e-01,  3.4595e-01,\n",
            "         -6.4111e-01,  1.4856e-01, -7.4316e-01,  2.4976e-01,  2.5439e-01,\n",
            "          4.1162e-01, -9.1641e+00,  6.9763e-02, -3.2275e-01,  7.8003e-02,\n",
            "         -9.2163e-02, -3.5376e-01,  7.5098e-01, -1.6418e-02, -5.2539e-01,\n",
            "          8.6572e-01, -1.1826e+00, -6.7920e-01,  2.2644e-01,  9.3155e-03,\n",
            "         -5.9326e-01,  5.4980e-01,  6.4941e-01, -4.2432e-01, -2.2839e-01,\n",
            "          1.8701e-01, -9.7595e-02, -9.6436e-01, -1.2915e-01, -3.9746e-01,\n",
            "          1.9385e-01,  3.9697e-01, -2.0544e-01, -5.5664e-02, -8.7280e-02,\n",
            "          5.6250e-01, -3.7573e-01, -5.7178e-01,  3.2690e-01,  3.2080e-01,\n",
            "         -4.1687e-02, -6.4502e-01, -2.9761e-01,  9.4043e-01,  2.6440e-01,\n",
            "          2.2049e-02,  6.9385e-01, -8.0762e-01, -2.1347e-02,  4.7339e-01,\n",
            "          4.6655e-01, -5.1318e-01, -6.1914e-01,  5.0293e-01,  4.9341e-01,\n",
            "          2.4951e-01,  1.5369e-01,  5.4883e-01,  9.8096e-01, -4.5923e-01,\n",
            "         -8.1116e-02,  7.7942e-02, -3.3252e-01, -4.3652e-01, -3.8361e-02,\n",
            "         -1.7200e-01,  1.0126e-01, -8.9050e-02, -2.8784e-01,  5.4016e-02,\n",
            "          3.7891e-01,  3.5620e-01, -2.3145e-01,  1.7419e-01,  2.7710e-01,\n",
            "         -3.8232e-01, -2.4805e-01, -7.2327e-02,  8.0127e-01, -9.1736e-02,\n",
            "         -3.9478e-01, -2.4951e-01,  8.7402e-02, -4.2432e-01, -1.2097e-01,\n",
            "          1.4270e-01,  1.1963e-01, -1.7993e-01, -3.3472e-01,  5.2441e-01,\n",
            "          9.1248e-02,  5.1611e-01, -4.4702e-01,  3.3447e-01,  1.7656e+00,\n",
            "          5.0293e-01,  1.1318e+00, -2.2839e-01,  1.7493e-01,  5.2528e-03,\n",
            "          5.8643e-01,  1.0815e-01,  4.4952e-02, -7.5195e-01,  2.8052e-01,\n",
            "          1.6235e-01,  3.8916e-01, -2.1912e-02,  3.8159e-01, -3.1665e-01,\n",
            "         -7.0068e-01,  6.4697e-02,  2.9810e-01,  3.8281e-01, -1.0986e-01,\n",
            "          1.8652e-01, -2.3108e-01,  1.5833e-01, -7.4844e-03,  8.2080e-01,\n",
            "          2.1484e-01,  2.8271e-01,  2.2278e-01,  1.0919e-01, -1.6711e-01,\n",
            "          1.2393e+00, -3.4790e-02, -2.9956e-01,  4.5242e-03,  8.1250e-01,\n",
            "          8.6484e+00, -7.5012e-02,  1.6797e-01, -3.0249e-01,  1.7676e-01,\n",
            "         -2.7539e-01,  8.5840e-01,  2.2729e-01,  2.8540e-01, -4.4482e-01,\n",
            "         -2.0691e-01,  5.2246e-01,  1.0049e+00, -5.6213e-02,  2.1875e-01,\n",
            "         -2.8491e-01,  4.2229e-03,  7.4341e-02,  3.4204e-01,  2.4329e-01,\n",
            "         -2.2559e-01,  1.1925e-02, -1.1169e-01, -1.0101e-01, -1.8066e-02,\n",
            "         -3.7048e-02,  8.8916e-01,  4.8071e-01, -1.7224e-01,  4.5776e-01,\n",
            "         -1.7285e-01, -3.8696e-02,  2.7002e-01, -1.8225e-01,  2.1204e-01,\n",
            "          2.8955e-01, -3.7256e-01,  1.7181e-02,  3.9453e-01, -1.6321e-01,\n",
            "          2.7026e-01, -4.3140e-01, -1.4587e-01, -9.1309e-01,  7.4158e-03,\n",
            "         -1.2445e-01, -1.1743e-01, -5.8057e-01, -9.8267e-02, -8.4424e-01,\n",
            "         -8.7524e-02,  3.0469e-01, -5.4932e-01,  6.4819e-02,  3.1055e-01,\n",
            "          1.0040e-01,  4.7302e-03, -3.2227e-01, -3.8916e-01,  8.0811e-02,\n",
            "          2.4255e-01, -1.8616e-01,  3.0127e-01,  6.0742e-01, -1.0508e+00,\n",
            "          5.5908e-02,  3.0640e-02, -2.1805e-02, -1.1035e+00,  2.4829e-01,\n",
            "          3.6279e-01,  2.5415e-01,  2.3108e-01, -3.7524e-01, -5.7715e-01,\n",
            "          8.6975e-02, -5.4736e-01, -2.1960e-01,  2.4988e-01, -1.2396e-01,\n",
            "          2.0276e-01,  2.6221e-01,  1.2421e-01, -3.7598e-02, -6.7627e-02,\n",
            "          3.4790e-01,  1.3049e-01,  8.3191e-02, -1.3203e+00,  5.4108e-02,\n",
            "         -4.3481e-01, -2.2534e-01, -1.4832e-01, -1.6736e-01,  3.8794e-01,\n",
            "         -3.3203e-01, -1.1796e-04,  1.3867e-01, -7.9395e-01,  6.2061e-01,\n",
            "          2.0959e-01,  4.8633e-01, -8.9172e-02,  4.8096e-01, -3.8330e-01,\n",
            "         -1.2048e-01, -2.2675e-02, -2.2400e-01, -5.1514e-01,  1.4441e-01,\n",
            "         -1.0901e-01, -3.3960e-01,  3.7036e-01,  9.8206e-02, -4.9854e-01,\n",
            "         -2.0605e-01, -1.2715e+00,  3.5229e-01, -1.5686e-01,  1.2476e-01,\n",
            "          1.1304e-01, -5.6787e-01, -1.2573e-01, -1.8713e-01, -8.4912e-01,\n",
            "          7.8613e-01,  1.5833e-01,  6.5002e-02, -1.7847e-01,  3.8110e-01,\n",
            "          6.0986e-01, -2.0660e-02, -6.6455e-01,  1.5100e-01,  4.8779e-01,\n",
            "          1.6235e-02,  7.9712e-02, -1.7090e-01, -2.7051e-01,  1.1462e-01,\n",
            "         -2.1655e-01, -1.5259e-01,  3.1052e-03,  3.2373e-01, -3.4912e-01,\n",
            "         -5.0146e-01, -1.1584e-01, -1.1664e-01, -2.9956e-01, -2.1045e-01,\n",
            "         -3.6499e-01, -1.8079e-01,  1.2805e-01, -3.4009e-01, -3.0640e-01,\n",
            "          6.0449e-01,  9.9121e-02,  1.4783e-01,  3.3051e-02, -3.1519e-01,\n",
            "          4.1779e-02,  2.2095e-01,  5.1807e-01,  2.7539e-01,  2.3572e-01,\n",
            "         -2.5586e-01, -3.7018e-02,  3.2227e-01, -1.2292e-01,  1.0138e-01,\n",
            "          2.3279e-01,  2.1729e-01, -9.9512e-01,  2.2095e-02,  7.6221e-01,\n",
            "          1.6077e-01, -3.1299e-01, -1.0752e+00, -2.3328e-01,  1.3782e-01,\n",
            "         -3.7793e-01,  1.9302e-02, -3.4131e-01, -5.1611e-01, -1.6382e-01,\n",
            "         -2.1204e-01,  3.7988e-01,  1.4856e-01, -4.6875e-01,  7.1533e-01,\n",
            "         -5.6201e-01,  1.8469e-01, -7.5684e-01,  6.3770e-01,  6.2598e-01,\n",
            "          3.3276e-01,  1.7883e-02,  3.4961e-01, -2.9712e-01, -3.4326e-01,\n",
            "         -4.4849e-01, -7.7759e-02,  1.9250e-01, -5.8838e-01,  7.6416e-01,\n",
            "          5.7526e-02, -1.6113e-02, -3.4790e-01, -2.5269e-01, -4.2163e-01,\n",
            "          7.1899e-02,  4.0991e-01,  5.3809e-01,  1.1688e-01,  5.8789e-01,\n",
            "          2.3218e-01, -5.6689e-01, -7.4463e-02, -2.9248e-01,  5.9082e-01,\n",
            "          3.3228e-01, -1.2708e-01,  2.4365e-01,  4.2993e-01, -2.7344e-01,\n",
            "         -5.1147e-02,  1.7883e-01, -1.1823e-01,  1.6028e-01,  1.0215e+00,\n",
            "         -2.0044e-01,  4.2358e-01, -1.5063e-01, -5.7275e-01, -1.1633e-01,\n",
            "         -6.5625e-01,  1.3000e-01, -5.3271e-01,  1.1688e-01, -2.7368e-01,\n",
            "         -3.6157e-01, -1.2512e-01, -8.0859e-01,  6.4758e-02,  5.8258e-02,\n",
            "         -3.6499e-01,  2.6758e-01, -2.4463e-01,  7.1826e-01,  3.9233e-01,\n",
            "          4.1779e-02,  1.0185e-02,  1.7990e-02, -4.9292e-01,  2.6685e-01,\n",
            "          6.3184e-01, -8.6670e-02, -2.9565e-01,  9.9792e-02,  1.2378e-01,\n",
            "         -6.0742e-01, -2.0081e-01, -2.5928e-01, -2.3450e-01,  2.7344e-01,\n",
            "          6.9287e-01, -6.1523e-01,  2.1637e-02, -2.2021e-01,  1.8860e-02,\n",
            "         -8.3923e-02,  2.8052e-01,  2.5806e-01,  3.4839e-01,  8.2373e-01,\n",
            "         -3.2544e-01,  6.1230e-01,  4.2700e-01, -3.1616e-01, -1.6174e-01,\n",
            "         -4.8389e-01,  2.4878e-01, -5.3271e-01, -8.7256e-01,  8.6182e-01,\n",
            "          9.2896e-02, -2.5537e-01,  4.6463e-03, -1.4038e-01,  4.5117e-01,\n",
            "          8.6212e-03,  4.3701e-02, -6.4307e-01, -1.3245e-01,  1.9714e-01,\n",
            "         -3.3862e-01,  5.7715e-01,  2.2876e-01,  3.3838e-01, -9.9060e-02,\n",
            "          1.4905e-01, -5.1660e-01, -6.5552e-02,  3.4180e-01,  2.4524e-01,\n",
            "          9.8291e-01,  2.9907e-01,  5.3894e-02, -2.2119e-01,  4.1846e-01,\n",
            "          1.2830e-01,  1.7285e-01, -5.9521e-01, -1.0760e-01,  7.3914e-02,\n",
            "          1.2231e-01, -1.0919e-01,  2.5488e-01,  4.1931e-02, -1.3306e-01,\n",
            "         -4.0137e-01, -1.1890e-01,  5.0537e-01,  5.7715e-01, -2.6270e-01,\n",
            "         -3.1885e-01,  6.4746e-01,  1.6296e-01]], dtype=torch.float16), 'What is the overall condition of the given image?': tensor([[ 2.1729e-01,  8.8818e-01,  4.3140e-01,  2.4524e-01, -3.2788e-01,\n",
            "         -4.9194e-01, -4.5386e-01,  4.5532e-01,  3.2623e-02, -1.9272e-02,\n",
            "         -1.8677e-01, -1.9214e-01, -2.4963e-01,  4.9438e-01, -7.6965e-02,\n",
            "         -2.4292e-01,  2.0972e-01,  1.5479e-01,  4.2383e-01, -6.2793e-01,\n",
            "          5.6343e-03,  1.7908e-01,  6.3721e-02,  7.5562e-02,  3.9001e-02,\n",
            "         -4.1333e-01, -1.2924e-02, -3.0029e-01,  1.1143e+00, -6.0693e-01,\n",
            "         -3.6523e-01, -2.2125e-02,  1.9458e-01, -5.6671e-02, -5.7324e-01,\n",
            "         -5.5054e-02,  2.9028e-01, -6.6040e-02,  5.3223e-01, -3.7549e-01,\n",
            "         -2.4951e-01,  2.8320e-01, -4.7388e-01,  5.5275e-03, -6.2207e-01,\n",
            "          9.0149e-02, -2.7817e-02, -1.6016e-01,  7.1838e-02, -3.8940e-01,\n",
            "          2.7295e-01, -4.1772e-01,  4.3701e-01,  2.1387e-01, -3.2642e-01,\n",
            "         -1.1157e-01,  4.2163e-01,  2.3560e-01,  2.4377e-01, -1.5161e-01,\n",
            "          5.8887e-01, -4.7095e-01,  3.4332e-02,  7.2461e-01, -2.3486e-01,\n",
            "          8.4766e-01,  5.3125e-01,  1.7456e-01, -1.8570e-02, -1.9739e-01,\n",
            "          2.8564e-01, -7.6599e-02,  2.9932e-01, -1.9666e-01,  4.2188e-01,\n",
            "         -2.2949e-01, -3.8550e-01,  1.0492e-01, -2.0203e-02, -7.4829e-02,\n",
            "         -1.0352e-01, -3.4131e-01,  2.8271e-01, -4.7455e-02,  1.1578e-01,\n",
            "          5.1727e-02, -8.8745e-02,  1.3452e-01, -7.2119e-01,  4.7095e-01,\n",
            "          8.5449e-02,  2.1936e-01,  1.1011e-01, -1.1896e-01, -2.7710e-01,\n",
            "         -1.3062e-01, -9.4971e-02,  2.2629e-02, -4.0833e-02, -1.0736e-01,\n",
            "         -2.5415e-01, -3.8867e-01, -6.5625e-01, -9.2773e-02, -2.0508e-01,\n",
            "          3.0298e-01, -3.5767e-01, -2.1286e-02,  3.6011e-01,  3.5034e-01,\n",
            "          8.0933e-02, -1.0605e-02, -2.3413e-01,  5.1025e-01, -4.0771e-01,\n",
            "          5.8008e-01, -2.8467e-01, -4.2651e-01,  6.0791e-02, -8.2642e-02,\n",
            "         -1.6907e-02,  3.1445e-01,  3.3594e-01,  4.9866e-02, -1.7517e-01,\n",
            "          3.9233e-01, -2.5415e-01, -1.3123e-01,  1.0307e-02, -2.2907e-03,\n",
            "          2.6047e-02,  5.3564e-01,  6.9153e-02, -4.1772e-01, -1.8906e-02,\n",
            "          2.6099e-01, -2.6465e-01,  1.3794e-01,  6.5869e-01,  1.7090e-02,\n",
            "          5.2637e-01, -3.7622e-01,  6.5308e-02, -4.8291e-01,  4.1046e-03,\n",
            "          2.4673e-02,  9.6436e-02, -5.0732e-01,  2.8519e-02, -4.6240e-01,\n",
            "          2.6904e-01,  9.3555e-01, -3.1250e-01,  1.6708e-02,  2.5586e-01,\n",
            "          3.6841e-01, -9.6252e-02,  3.6206e-01,  2.9083e-02, -8.7158e-01,\n",
            "          4.0527e-01, -3.6621e-01,  3.0835e-01, -6.2158e-01, -5.7564e-03,\n",
            "         -5.5762e-01, -5.5078e-01, -2.9175e-01,  6.5002e-02, -6.1621e-01,\n",
            "         -5.1221e-01, -3.0835e-01,  2.0020e-01, -4.0381e-01, -4.4060e-03,\n",
            "         -6.5735e-02,  3.6914e-01, -1.3398e+00,  3.1006e-01, -5.6885e-01,\n",
            "          1.4639e+00, -1.1090e-01, -1.6711e-01, -7.6965e-02, -8.2581e-02,\n",
            "         -4.4043e-01, -8.2617e-01,  4.8492e-02,  4.8853e-01, -5.6348e-01,\n",
            "         -3.2495e-01,  2.4487e-01,  5.4443e-01, -4.6814e-02, -5.0098e-01,\n",
            "         -1.9629e+00, -6.9971e-01,  7.9443e-01,  1.9153e-01, -3.9087e-01,\n",
            "          2.1228e-01, -3.6572e-01, -3.3276e-01,  1.6650e-01, -3.6792e-01,\n",
            "          2.5854e-01, -8.4668e-01,  2.2632e-01,  1.1304e-01,  1.0252e-03,\n",
            "         -1.3062e-02, -9.7275e-03, -4.8047e-01, -8.2703e-02,  6.5857e-02,\n",
            "          6.4600e-01, -5.0659e-02,  2.9761e-01, -2.1881e-02, -5.3174e-01,\n",
            "          2.1362e-01, -1.0215e+00,  3.6548e-01, -3.1543e-01, -1.9324e-01,\n",
            "         -3.1763e-01, -3.8843e-01,  1.6388e-02,  5.2734e-01, -1.3867e-01,\n",
            "          4.9463e-01, -2.9736e-01, -3.7720e-02, -2.8778e-02, -1.3196e-01,\n",
            "         -5.9326e-01, -5.9863e-01,  5.8203e-01,  2.7588e-01,  2.7002e-01,\n",
            "          8.1909e-02,  2.8198e-02, -8.6426e-02, -3.3984e-01, -2.6367e-01,\n",
            "          4.1992e-01,  2.6782e-01,  2.4231e-01, -7.9590e-02,  7.2314e-01,\n",
            "          6.1426e-01, -3.1525e-02,  1.8433e-01, -1.8555e-01, -2.4548e-01,\n",
            "         -2.7979e-01, -4.0161e-02,  1.0967e+00, -1.1230e-01,  1.3782e-01,\n",
            "         -4.1675e-01, -3.5327e-01, -5.1575e-02, -2.7319e-01,  6.1768e-01,\n",
            "          5.0879e-01,  2.6709e-01, -1.0773e-01, -1.1377e+00,  5.1910e-02,\n",
            "         -5.3253e-02, -1.2183e-01,  2.0203e-01,  2.3730e-01, -8.8135e-02,\n",
            "         -5.9961e-01,  9.4299e-02, -5.9668e-01,  1.9409e-01, -2.2568e-02,\n",
            "         -1.2097e-01, -4.0454e-01,  5.1086e-02,  4.5923e-01, -7.5836e-03,\n",
            "         -4.8047e-01, -7.1436e-01,  3.5864e-01, -2.0000e+00, -4.1077e-02,\n",
            "          1.3452e-01,  4.1412e-02, -3.5449e-01, -5.1562e-01, -4.1168e-02,\n",
            "          1.4624e-01, -3.4253e-01,  8.1909e-02, -4.3066e-01,  8.3691e-01,\n",
            "          1.4221e-01, -3.9819e-01, -1.6345e-01, -2.2742e-01, -7.6477e-02,\n",
            "         -8.1348e-01, -4.3872e-01,  6.9727e-01, -4.4116e-01, -2.3483e-02,\n",
            "         -9.0674e-01,  6.9678e-01, -5.4883e-01,  5.2441e-01,  3.4888e-01,\n",
            "         -6.8542e-02, -1.0500e+01, -1.1246e-02, -2.2144e-01,  2.1716e-01,\n",
            "         -9.8694e-02, -1.7371e-01,  3.2812e-01, -6.9946e-02, -2.9590e-01,\n",
            "          2.1423e-01, -1.0098e+00, -4.7241e-01, -1.2720e-01, -1.7249e-01,\n",
            "         -1.1890e-01, -1.8579e-01,  1.1475e-01,  3.2031e-01, -6.5088e-01,\n",
            "         -2.2327e-01,  3.2397e-01, -4.7339e-01, -5.2002e-02, -3.1934e-01,\n",
            "          6.0693e-01, -5.0842e-02,  3.9337e-02,  2.0068e-01,  1.4539e-01,\n",
            "          4.2188e-01, -1.4294e-01, -1.6174e-01,  3.3478e-02,  1.5686e-01,\n",
            "          1.5234e-01, -1.3748e-02, -5.3369e-01,  2.2632e-01, -5.6641e-01,\n",
            "         -4.2816e-02, -8.8684e-02, -1.6711e-01,  1.2598e-01,  6.9385e-01,\n",
            "          1.5717e-02, -1.0664e+00,  5.0049e-01,  6.1475e-01, -2.5415e-01,\n",
            "          3.6719e-01,  8.1543e-01,  1.4844e-01, -1.8665e-01, -3.5229e-01,\n",
            "         -1.4587e-01, -5.1562e-01, -9.8145e-02, -3.1763e-01, -4.3311e-01,\n",
            "         -3.3691e-01, -5.4492e-01, -1.7249e-01, -3.4277e-01,  5.6250e-01,\n",
            "         -1.1902e-01,  5.2148e-01, -1.0675e-01, -2.2751e-02,  5.4346e-01,\n",
            "         -3.3911e-01,  1.7029e-01,  5.2979e-02,  4.4336e-01, -1.6565e-01,\n",
            "          4.4604e-01, -4.4507e-01,  9.6436e-02, -3.7524e-01, -2.7637e-01,\n",
            "         -4.8389e-01,  1.5771e-01, -2.3218e-01, -1.4771e-01,  6.7200e-02,\n",
            "          4.6118e-01,  2.7222e-01,  2.7661e-01, -1.1584e-01,  1.0430e+00,\n",
            "          7.0459e-01,  4.7021e-01,  4.0381e-01,  2.8271e-01,  5.1416e-01,\n",
            "          3.2666e-01, -3.7207e-01,  3.0347e-01, -1.3467e+00, -2.0984e-01,\n",
            "         -1.1145e-01, -9.4116e-02,  2.1008e-01,  4.9683e-02, -3.9844e-01,\n",
            "         -8.9062e-01, -1.7505e-01,  2.1545e-01,  4.4604e-01, -2.2934e-02,\n",
            "         -3.2373e-01, -1.5144e-02, -2.2729e-01, -2.2083e-01, -1.7151e-01,\n",
            "         -2.2842e-02,  5.1025e-02, -8.8013e-02, -1.2305e-01, -2.4805e-01,\n",
            "          1.1787e+00,  5.7324e-01,  2.8076e-01,  1.6699e-01, -4.8096e-02,\n",
            "          9.3281e+00,  2.2107e-01,  2.2180e-01, -1.4978e-01,  1.4075e-01,\n",
            "         -9.4971e-02,  3.8818e-02, -9.2041e-02,  1.0950e-01, -4.2114e-01,\n",
            "         -9.5654e-01,  6.2793e-01,  4.5068e-01,  6.5088e-01,  1.4076e-02,\n",
            "         -4.2896e-01,  2.7856e-01, -6.6016e-01, -9.9060e-02,  1.7395e-01,\n",
            "         -6.7261e-02,  4.6411e-01, -1.8250e-01,  1.2988e-01, -2.0459e-01,\n",
            "         -3.1812e-01,  7.9004e-01,  4.0283e-01, -2.3056e-02,  2.0044e-01,\n",
            "          1.9482e-01,  3.0396e-01,  1.1786e-01,  4.6606e-01,  5.3271e-01,\n",
            "         -8.3350e-01, -8.6182e-02, -2.2668e-01,  6.0449e-01, -2.4128e-03,\n",
            "         -2.8540e-01, -7.5195e-01,  9.0759e-02, -4.3701e-01, -6.2354e-01,\n",
            "          7.7759e-02,  2.6343e-01, -1.3855e-01, -1.9727e-01, -4.4342e-02,\n",
            "          2.4780e-02, -4.9634e-01, -6.9971e-01, -4.3774e-01,  4.0356e-01,\n",
            "         -1.6370e-01,  9.5459e-02,  2.3340e-01,  7.3669e-02, -6.7688e-02,\n",
            "          1.7578e-02, -4.3750e-01,  1.1707e-01, -8.3862e-02, -9.3359e-01,\n",
            "          1.7432e-01,  8.9722e-02, -3.1689e-01, -4.1162e-01,  5.6201e-01,\n",
            "          6.7261e-02, -1.3220e-01,  5.8252e-01, -7.4219e-01, -5.8105e-01,\n",
            "          4.3182e-02,  1.0889e-01, -5.7373e-01, -4.9023e-01,  1.1438e-01,\n",
            "          4.7803e-01,  1.5198e-01,  3.7183e-01, -2.3132e-01, -3.2532e-02,\n",
            "         -5.7471e-01,  1.2598e-01,  2.2986e-01, -1.0469e+00,  4.6973e-01,\n",
            "          1.0211e-01, -1.9165e-01,  1.3342e-01,  8.0811e-02,  2.7295e-01,\n",
            "          4.7925e-01, -1.0675e-01,  4.1895e-01, -8.1885e-01,  2.9688e-01,\n",
            "          2.5220e-01,  3.3301e-01,  2.0349e-01,  4.4116e-01, -7.2656e-01,\n",
            "         -6.2891e-01,  3.6060e-01, -5.5762e-01, -7.4280e-02, -7.3059e-02,\n",
            "          3.2617e-01, -1.1664e-01,  2.9272e-01,  5.2881e-01,  3.1421e-01,\n",
            "         -2.6025e-01, -4.2090e-01, -1.1536e-02, -3.6255e-01,  5.2338e-02,\n",
            "          5.5957e-01, -4.5093e-01, -1.6602e-01, -5.6299e-01, -6.1432e-02,\n",
            "          4.1919e-01, -3.9185e-02, -1.0498e-01, -4.3221e-03,  1.5723e-01,\n",
            "          7.5586e-01, -9.4727e-02,  1.3214e-02,  4.1901e-02,  5.0964e-03,\n",
            "          9.2529e-02, -5.7373e-01,  1.6309e-01,  8.5632e-02,  1.2764e+00,\n",
            "          9.9411e-03, -1.4246e-01,  3.9258e-01, -1.3855e-02,  2.1106e-01,\n",
            "         -2.6514e-01, -2.6074e-01, -2.4182e-01,  3.1934e-01,  3.2178e-01,\n",
            "         -5.4199e-01,  1.8701e-01,  1.8933e-01, -4.5459e-01,  2.6025e-01,\n",
            "          2.9736e-01,  2.5513e-01, -3.6987e-01,  2.9395e-01, -1.6736e-01,\n",
            "         -1.6406e-01, -4.1357e-01,  5.7666e-01,  3.3630e-02,  3.6401e-01,\n",
            "          2.2009e-01, -1.0364e-01, -4.5068e-01,  1.9543e-01, -2.7368e-01,\n",
            "          2.4146e-01,  2.0996e-01, -4.1016e-01, -6.0791e-01,  5.2832e-01,\n",
            "         -3.6768e-01,  6.8420e-02, -5.7471e-01,  2.7759e-01,  8.0469e-01,\n",
            "          1.6333e-01,  1.0034e-01,  5.0488e-01, -3.7036e-01, -3.4277e-01,\n",
            "         -7.0251e-02, -2.9224e-01, -3.5571e-01, -5.7434e-02,  2.5024e-01,\n",
            "         -1.6699e-01,  5.8740e-01, -2.9297e-01,  7.0020e-01, -3.5229e-01,\n",
            "          1.5515e-01,  3.6206e-01, -5.8691e-01, -1.8384e-01, -8.4473e-01,\n",
            "          5.3174e-01,  6.3086e-01,  4.8071e-01, -2.2412e-01,  1.3730e+00,\n",
            "          8.1543e-01, -8.9722e-02, -1.3416e-01,  3.5474e-01, -2.3022e-01,\n",
            "          5.9723e-02,  2.9126e-01,  2.5439e-01,  3.9612e-02, -1.2659e-01,\n",
            "         -1.7798e-01, -5.8008e-01,  5.1416e-01,  6.1572e-01,  6.6992e-01,\n",
            "         -1.5723e-01, -2.5781e-01,  7.2327e-02,  5.5322e-01, -1.1467e-02,\n",
            "         -1.6467e-01, -4.2725e-01, -1.0120e-01, -5.3711e-01,  5.6250e-01,\n",
            "         -1.2457e-01, -2.0349e-01, -2.8076e-01,  5.3894e-02,  3.3264e-02,\n",
            "         -1.2671e-01,  8.0322e-02, -1.3123e-01,  1.7822e-01, -2.9810e-01,\n",
            "         -4.4751e-01, -2.0129e-01, -6.1182e-01, -5.3986e-02,  6.0254e-01,\n",
            "          2.5659e-01,  3.7915e-01,  5.5634e-02, -1.0547e-01,  3.3936e-01,\n",
            "          1.3049e-01,  6.4014e-01, -4.6484e-01, -3.2031e-01,  3.8257e-01,\n",
            "         -1.6431e-01, -2.3413e-01, -6.4026e-02,  6.0938e-01,  1.5137e-01,\n",
            "         -2.5269e-01, -3.8623e-01, -1.2073e-01, -3.4253e-01, -7.0801e-02,\n",
            "          6.1475e-01, -3.6353e-01,  4.0259e-01, -8.3084e-03, -6.3049e-02,\n",
            "         -2.0325e-01, -8.7341e-02,  1.4099e-01,  2.1118e-01,  1.9531e-01,\n",
            "         -2.1179e-01,  2.7686e-01, -1.2866e-01, -2.0093e-01,  3.6719e-01,\n",
            "         -3.5327e-01,  1.0400e+00, -6.1816e-01, -7.1924e-01,  5.6396e-01,\n",
            "          6.4795e-01,  6.5820e-01,  6.3171e-02,  4.8193e-01,  9.3848e-01,\n",
            "         -6.7383e-01, -4.9976e-01,  1.3049e-01, -5.1758e-01, -2.6880e-01,\n",
            "          6.2164e-02,  3.7061e-01, -7.4280e-02,  4.4824e-01,  1.0620e-01,\n",
            "         -9.2773e-02, -3.4839e-01, -8.0872e-02, -4.3652e-01,  5.3613e-01,\n",
            "          4.0723e-01, -9.3018e-02, -1.7480e-01,  3.4521e-01,  2.2003e-02,\n",
            "          3.4521e-01,  3.0493e-01,  2.3389e-01, -2.2668e-01, -2.4597e-01,\n",
            "         -5.3076e-01, -5.9601e-02,  6.0254e-01, -6.2305e-01,  3.6108e-01,\n",
            "         -1.6016e-01, -2.3328e-01,  8.1006e-01,  3.2812e-01,  4.6948e-01,\n",
            "         -1.2671e-01,  1.9519e-01,  5.0098e-01]], dtype=torch.float16)}\n"
          ]
        }
      ]
    },
    {
      "cell_type": "code",
      "source": [
        "class ExperienceReplay:\n",
        "    def __init__(self, samples_per_class=10, num_classes=20, half_batch_size=8):\n",
        "        self.samples_per_class = samples_per_class\n",
        "        self.num_classes = num_classes\n",
        "        self.half_batch_size = half_batch_size\n",
        "\n",
        "        self.memory_size = self.samples_per_class * self.num_classes\n",
        "\n",
        "        self.memory = []\n",
        "\n",
        "    def update_memory(self, current_batch, elapsed_examples=0):\n",
        "        list_of_examples = unbatch(current_batch)\n",
        "\n",
        "        counter = 0\n",
        "\n",
        "        for example in list_of_examples:\n",
        "            if len(self.memory) < self.memory_size:\n",
        "                self.memory.append(example)\n",
        "            else:\n",
        "                idx = random.randint(0, elapsed_examples + counter)\n",
        "                if idx < self.memory_size:\n",
        "                    self.memory[idx] = example\n",
        "\n",
        "            counter += 1\n",
        "        return None\n",
        "\n",
        "    def get_from_memory(self, num_samples):\n",
        "        return random.choices(self.memory, k=num_samples)\n"
      ],
      "metadata": {
        "id": "T3rvMrSBsWcc"
      },
      "execution_count": null,
      "outputs": []
    },
    {
      "cell_type": "code",
      "source": [
        "# train_ds = VQADataset(train_tasks[0])\n",
        "# for i in train_ds:\n",
        "#     print(i)\n",
        "#     print(i[0].shape, i[1].shape)\n",
        "#     break"
      ],
      "metadata": {
        "id": "OPGmBekzM5Yl"
      },
      "execution_count": null,
      "outputs": []
    },
    {
      "cell_type": "markdown",
      "source": [
        "## VQA"
      ],
      "metadata": {
        "id": "AXk5Sa49JZHw"
      }
    },
    {
      "cell_type": "code",
      "source": [
        "class Residual(nn.Module):\n",
        "    def __init__(self, fn):\n",
        "        super().__init__()\n",
        "        self.fn = fn\n",
        "    \n",
        "    def forward(self, x):\n",
        "        return x + self.fn(x)\n",
        "\n",
        "class ResidualMLPBlock(nn.Module):\n",
        "    def __init__(self, hidden_dims, num_blocks=4):\n",
        "        super().__init__()\n",
        "        self.num_blocks = num_blocks\n",
        "        self.hidden_dims = hidden_dims\n",
        "        self.resblocks = list()\n",
        "        self.resblocks = nn.Sequential(\n",
        "                    *[Residual(\n",
        "                        nn.Sequential(\n",
        "                                nn.Linear(self.hidden_dims, 512),\n",
        "                                nn.Dropout(p=cfg.residual_mlp_dropout_rate),\n",
        "                                nn.Linear(512, 256),\n",
        "                                nn.Linear(256, 512),\n",
        "                                nn.Dropout(p=cfg.residual_mlp_dropout_rate),\n",
        "                                nn.Linear(512, self.hidden_dims)\n",
        "                            )\n",
        "                        ) for block_idx in range(self.num_blocks)]\n",
        "        )\n",
        "    def forward(self, inputs):\n",
        "        return self.resblocks(inputs)"
      ],
      "metadata": {
        "id": "gp-U6_s0YMae"
      },
      "execution_count": null,
      "outputs": []
    },
    {
      "cell_type": "code",
      "source": [
        "class VQAModel(nn.Module):\n",
        "    def __init__(self, op=\"cat\", out_classes=5): # `op` can be one of `cat`, `add`, `mul`\n",
        "        super().__init__()\n",
        "        self.op = op\n",
        "        if self.op == \"add\" or \"mul\":\n",
        "            self.image = nn.Sequential(\n",
        "                nn.Linear(in_features=IMG_FEAT_DIMS, out_features=1024),\n",
        "                nn.Dropout(p=0.2),\n",
        "                nn.Linear(in_features=1024, out_features=512)   \n",
        "                )\n",
        "            self.txt = nn.Linear(in_features=1024, out_features=512)\n",
        "            self.linstack1 = nn.Sequential(\n",
        "                nn.Linear(in_features=512, out_features=256),\n",
        "                nn.Dropout(p=0.2),\n",
        "                nn.Linear(in_features=256, out_features=128)\n",
        "            )\n",
        "            self.linstack2 = deepcopy(self.linstack1)\n",
        "            self.linstack3 = deepcopy(self.linstack1)\n",
        "            self.cls = nn.Linear(in_features=128 * 3, out_features=out_classes)\n",
        "\n",
        "        elif self.op == \"cat\":\n",
        "            self.image = nn.Identity()\n",
        "            self.text = nn.Identity()\n",
        "            self.linstack1 = nn.Sequential(\n",
        "                nn.Linear(in_features=2560, out_features=1024), # 2560 = 1024 (text) + 1536 (image)\n",
        "                nn.Dropout(p=0.2),\n",
        "                nn.Linear(in_features=1024, out_features=512),\n",
        "                nn.Dropout(p=0.2),\n",
        "                nn.Linear(in_features=512, out_features=256),\n",
        "                nn.Linear(in_features=256, out_features=128),\n",
        "                \n",
        "            )\n",
        "            self.linstack2 = deepcopy(self.linstack1)\n",
        "            self.linstack3 = deepcopy(self.linstack1)\n",
        "            self.cls = nn.Linear(in_features=128 * 3, out_features=out_classes)\n",
        "        else:\n",
        "            raise ValueError(f\"`op` must be one of `cat`, `add`, `mul`. Got {op}\")\n",
        "    \n",
        "    def forward(self, batch):\n",
        "        if self.op == \"cat\":\n",
        "            x = torch.concat([batch[0], batch[1]], dim=-1)\n",
        "            x1 = self.linstack1(x)\n",
        "            x2 = self.linstack2(x)\n",
        "            x3 = self.linstack3(x)\n",
        "            x = torch.concat([x1, x2, x3], dim=-1)\n",
        "            return self.cls(x)\n",
        "        elif self.op == \"add\":\n",
        "            img = self.image(batch[0])\n",
        "            txt = self.txt(batch[1])\n",
        "            x = img + txt\n",
        "            # vec = torch.dot(img, txt) # check if they are 1-d tensors\n",
        "            x1 = self.linstack1(x)\n",
        "            x2 = self.linstack2(x)\n",
        "            x3 = self.linstack3(x)\n",
        "            x = torch.concat([x1, x2, x3], dim=-1)\n",
        "\n",
        "            return self.cls(x)\n",
        "        elif self.op == \"mul\":\n",
        "            img = self.image(batch[0])\n",
        "            txt = self.txt(batch[1])\n",
        "            x = img * txt\n",
        "            # vec = torch.dot(img, txt) # check if they are 1-d tensors\n",
        "            x1 = self.linstack1(x)\n",
        "            x2 = self.linstack2(x)\n",
        "            x3 = self.linstack3(x)\n",
        "            x = torch.concat([x1, x2, x3], dim=-1)\n",
        "            return self.cls(x)\n",
        "\n",
        "class VQAResidualMLPModel(nn.Module):\n",
        "    def __init__(self, op=\"cat\", out_classes=5, hidden_dims=512, device=None):\n",
        "        super().__init__()\n",
        "        self.op = op\n",
        "        if self.op == \"add\" or \"mul\":\n",
        "            self.image = nn.Sequential(\n",
        "                nn.Linear(in_features=IMG_FEAT_DIMS, out_features=1024), ###########\n",
        "                nn.Dropout(p=0.2),\n",
        "                nn.Linear(in_features=1024, out_features=hidden_dims)   \n",
        "                )\n",
        "            self.txt = nn.Linear(in_features=768, out_features=hidden_dims) ###########\n",
        "\n",
        "            self.linstack1 = ResidualMLPBlock(hidden_dims=hidden_dims)\n",
        "            self.linstack2 = ResidualMLPBlock(hidden_dims=hidden_dims)\n",
        "            self.linstack3 = ResidualMLPBlock(hidden_dims=hidden_dims)\n",
        "            self.cls = nn.Linear(in_features=hidden_dims * 3, out_features=out_classes)\n",
        "\n",
        "        elif self.op == \"cat\":\n",
        "            self.image = nn.Identity()\n",
        "            self.text = nn.Identity()\n",
        "            self.linstack1 = nn.Sequential( \n",
        "                nn.Linear(in_features=2560, out_features=hidden_dims),\n",
        "                ResidualMLPBlock(hidden_dims=hidden_dims),  \n",
        "            )\n",
        "            self.linstack2 = nn.Sequential( \n",
        "                nn.Linear(in_features=2560, out_features=hidden_dims),\n",
        "                ResidualMLPBlock(hidden_dims=hidden_dims),  \n",
        "            )\n",
        "            self.linstack3 = nn.Sequential( \n",
        "                nn.Linear(in_features=2560, out_features=hidden_dims),\n",
        "                ResidualMLPBlock(hidden_dims=hidden_dims),  \n",
        "            )\n",
        "            self.cls = nn.Linear(in_features=hidden_dims * 3, out_features=out_classes)\n",
        "        else:\n",
        "            raise ValueError(f\"`op` must be one of `cat`, `add`, `mul`. Got {op}\")\n",
        "        self.linstack1 = self.linstack1.to(device)\n",
        "        self.linstack2 = self.linstack2.to(device)\n",
        "        self.linstack3 = self.linstack3.to(device)\n",
        "        \n",
        "    \n",
        "    def forward(self, batch):\n",
        "        \n",
        "        if self.op == \"cat\":\n",
        "            x = torch.concat([batch[0], batch[1]], dim=-1)\n",
        "            x1 = self.linstack1(x)\n",
        "            x2 = self.linstack2(x)\n",
        "            x3 = self.linstack3(x)\n",
        "            x = torch.concat([x1, x2, x3], dim=-1)\n",
        "            return self.cls(x)\n",
        "        elif self.op == \"add\":\n",
        "            img = self.image(batch[0])\n",
        "            txt = self.txt(batch[1])\n",
        "            x = img + txt\n",
        "            # vec = torch.dot(img, txt) # check if they are 1-d tensors\n",
        "            x1 = self.linstack1(x)\n",
        "            x2 = self.linstack2(x)\n",
        "            x3 = self.linstack3(x)\n",
        "            x = torch.concat([x1, x2, x3], dim=-1)\n",
        "\n",
        "            return self.cls(x)\n",
        "        elif self.op == \"mul\":\n",
        "            img = self.image(batch[0])\n",
        "            txt = self.txt(batch[1])\n",
        "            x = img * txt\n",
        "            # vec = torch.dot(img, txt) # check if they are 1-d tensors\n",
        "            x1 = self.linstack1(x)\n",
        "            x2 = self.linstack2(x)\n",
        "            x3 = self.linstack3(x)\n",
        "            x = torch.concat([x1, x2, x3], dim=-1)\n",
        "            return self.cls(x)"
      ],
      "metadata": {
        "id": "1YKkOuy9HIH2"
      },
      "execution_count": null,
      "outputs": []
    },
    {
      "cell_type": "code",
      "source": [
        "\n"
      ],
      "metadata": {
        "id": "VoZFA4rIjdXo"
      },
      "execution_count": null,
      "outputs": []
    },
    {
      "cell_type": "code",
      "source": [
        "\n",
        "for task_order in [\n",
        "    \"yesno imagecondition roadcondition\",\n",
        "    \"yesno roadcondition imagecondition\",\n",
        "    \"imagecondition yesno roadcondition\",\n",
        "    \"imagecondition roadcondition yesno\",\n",
        "    \"roadcondition yesno imagecondition\",\n",
        "    \"roadcondition imagecondition yesno\"\n",
        "]:  \n",
        "    qdict = json.load(open(\"/content/drive/MyDrive/floodnet_data/Questions/Training Question.json\", \"r\"))\n",
        "\n",
        "    train_dict, val_dict = get_train_val_splits_imagewise(qdict)\n",
        "    train_tasks, val_tasks = get_typewise_train_val_splits(train_dict, val_dict)\n",
        "\n",
        "    cfg.task_order = task_order\n",
        "    new_train_tasks = []\n",
        "    new_val_tasks = []\n",
        "\n",
        "    # \"yes_no image_condition road_condition\"\n",
        "    # [train_image_condition, train_road_condition, train_yes_no]\n",
        "    for task_name in cfg.task_order.split():\n",
        "        if task_name == \"yesno\":\n",
        "            new_train_tasks.append(train_tasks[2])\n",
        "            new_val_tasks.append(val_tasks[2])\n",
        "        elif task_name == \"imagecondition\":\n",
        "            new_train_tasks.append(train_tasks[0])\n",
        "            new_val_tasks.append(val_tasks[0])\n",
        "        elif task_name == \"roadcondition\":\n",
        "            new_train_tasks.append(train_tasks[1])\n",
        "            new_val_tasks.append(val_tasks[1])\n",
        "\n",
        "    train_tasks = new_train_tasks\n",
        "    val_tasks = new_val_tasks\n",
        "\n",
        "    val_preserve = deepcopy(val_tasks)\n",
        "\n",
        "    # print(val_tasks[2])\n",
        "\n",
        "    # Make continual\n",
        "    val_tasks[2].update(val_tasks[1])\n",
        "    val_tasks[2].update(val_tasks[0])\n",
        "    val_tasks[1].update(val_tasks[0])\n",
        "\n",
        "    device = torch.device(\"cuda\" if torch.cuda.is_available() else \"cpu\")\n",
        "\n",
        "    model = VQAResidualMLPModel(op=cfg.op, hidden_dims=cfg.hidden_dims, out_classes=5, device=device)\n",
        "\n",
        "    for child in model.children():\n",
        "        child.to(device)\n",
        "\n",
        "    model.to(device)\n",
        "\n",
        "    loss_fn = nn.CrossEntropyLoss()\n",
        "\n",
        "    exp_replay = ExperienceReplay(samples_per_class=cfg.samples_per_class, num_classes=5, half_batch_size=cfg.half_batch_size)\n",
        "\n",
        "    NUM_TASKS = 3\n",
        "    counter = 0\n",
        "    EPOCHS = cfg.epochs\n",
        "\n",
        "    # reimport_utils()\n",
        "    now = datetime.now()\n",
        "    timestr = now.strftime(\"%d_%m_%Hh%Mm%Ss\")\n",
        "\n",
        "    run_name = \"_\".join([\"reservoir\", cfg.task_order.replace(\" \", \"_\"), timestr, model.op])\n",
        "\n",
        "    wandb.init(project=\"continual_vqa_final\", entity=\"compyle\", name=run_name, config=cfg.to_dict())\n",
        "\n",
        "    for tasknum in range(NUM_TASKS):\n",
        "        \n",
        "        os.makedirs(f\"./ckpts/{timestr}\", exist_ok=True)\n",
        "        train_dl = DataLoader(VQADataset(train_tasks[tasknum]), batch_size=cfg.half_batch_size, shuffle=True, num_workers=4)\n",
        "        val_dl = DataLoader(VQADataset(val_tasks[tasknum]), batch_size=cfg.half_batch_size, shuffle=True, num_workers=4)\n",
        "\n",
        "        previous_tasks_dl = []\n",
        "        for prevtasknum in range(tasknum + 1):\n",
        "            previous_tasks_dl.append(DataLoader(VQADataset(val_preserve[prevtasknum]), batch_size=cfg.half_batch_size, shuffle=True, num_workers=4))\n",
        "\n",
        "\n",
        "        if tasknum == 0:\n",
        "            optimizer = torch.optim.Adam(model.parameters(), lr=cfg.task_0_lr, weight_decay=cfg.task_0_weight_decay)\n",
        "        elif tasknum == 1:\n",
        "            optimizer = torch.optim.Adam(model.parameters(), lr=cfg.task_1_lr, weight_decay=cfg.task_1_weight_decay)\n",
        "\n",
        "        for epoch in range(EPOCHS):\n",
        "            print(f\"########## Epoch {epoch}\")\n",
        "            model.train()\n",
        "            optimizer.zero_grad()\n",
        "            \n",
        "            epoch_loss = []\n",
        "            epoch_acc = []\n",
        "            \n",
        "            val_loss = []\n",
        "            val_acc = []\n",
        "\n",
        "            for batch in tqdm.tqdm(train_dl):\n",
        "                preserved_batch = deepcopy(batch)\n",
        "                if tasknum > 0:\n",
        "                    batch = combine_batch_and_list(\n",
        "                        batch, exp_replay.get_from_memory(cfg.half_batch_size)\n",
        "                    )\n",
        "\n",
        "                batch = [elem.to(device) for elem in batch]\n",
        "                \n",
        "                outputs = model(batch)\n",
        "                loss = loss_fn(outputs, batch[2])\n",
        "                loss.backward()\n",
        "                optimizer.step()\n",
        "                optimizer.zero_grad()\n",
        "                \n",
        "                acc = accuracy(outputs.detach().cpu().numpy(), batch[2].detach().cpu().numpy())\n",
        "                \n",
        "                epoch_loss.append(loss.detach().cpu().numpy())\n",
        "                epoch_acc.append(acc)\n",
        "                if epoch == EPOCHS - 1:\n",
        "                    counter += len(batch[2])\n",
        "\n",
        "            if epoch == EPOCHS - 1:\n",
        "                exp_replay.update_memory(preserved_batch, elapsed_examples=counter)\n",
        "\n",
        "            model.eval()\n",
        "            with torch.no_grad():\n",
        "                for batch in tqdm.tqdm(val_dl):\n",
        "                    batch = [elem.to(device) for elem in batch]\n",
        "        #             batch[0] = tr(batch[0])\n",
        "                    outputs = model(batch)\n",
        "                    loss = loss_fn(outputs, batch[2])\n",
        "            \n",
        "                    acc = accuracy(outputs.detach().cpu().numpy(), batch[2].detach().cpu().numpy())\n",
        "\n",
        "                    val_loss.append(loss.detach().cpu().numpy())\n",
        "                    val_acc.append(acc)\n",
        "            \n",
        "            \n",
        "            # torch.save(model.state_dict(), f\"./ckpts/{timestr}/vqa_{tasknum}_{epoch}.pt\")\n",
        "\n",
        "            metrics_dict =  {\n",
        "                    f\"task_{tasknum}_train_loss\": np.mean(epoch_loss),\n",
        "                    f\"task_{tasknum}_val_loss\": np.mean(val_loss),\n",
        "                    f\"task_{tasknum}_train_acc\": np.mean(epoch_acc),\n",
        "                    f\"task_{tasknum}_val_acc\": np.mean(val_acc),\n",
        "                }\n",
        "\n",
        "            print(f\"Train loss: {np.mean(epoch_loss)}\", end=\"\\t\")\n",
        "            print(f\"Val loss: {np.mean(val_loss)}\", end=\"\\t\")\n",
        "            print(f\"Train acc: {np.mean(epoch_acc)}\", end=\"\\t\")\n",
        "            print(f\"Val acc: {np.mean(val_acc)}\")\n",
        "\n",
        "            model.eval()\n",
        "            for prevtasknum in range(tasknum + 1):\n",
        "                val_loss = []\n",
        "                val_acc = []\n",
        "\n",
        "                with torch.no_grad():\n",
        "                    for batch in tqdm.tqdm(previous_tasks_dl[prevtasknum]):\n",
        "                        batch = [elem.to(device) for elem in batch]\n",
        "                        outputs = model(batch)\n",
        "                        loss = loss_fn(outputs, batch[2])\n",
        "                \n",
        "                        acc = accuracy(outputs.detach().cpu().numpy(), batch[2].detach().cpu().numpy())\n",
        "\n",
        "                        val_loss.append(loss.detach().cpu().numpy())\n",
        "                        val_acc.append(acc)\n",
        "                \n",
        "                metrics_dict[f\"task_{tasknum}_prevtask_{prevtasknum}_val_acc\"] = np.mean(val_acc)\n",
        "                metrics_dict[f\"task_{tasknum}_prevtask_{prevtasknum}_val_loss\"] = np.mean(val_loss)\n",
        "\n",
        "\n",
        "            wandb.log(metrics_dict)\n",
        "    wandb.finish()"
      ],
      "metadata": {
        "colab": {
          "base_uri": "https://localhost:8080/",
          "height": 1000,
          "referenced_widgets": [
            "b63c44d593274badb2a9fdf036a9227c",
            "c8f0fd5a16c448ba9b3500a848ed3ee1",
            "1c078c87de784cf5912db6241cef3366",
            "65b6789b23ae4506a63468b2a36d4b91",
            "0ba9a98e8ff54dda822b38a9e1b7bb48",
            "b6c9b46ac8f6497798de3d897e68b8bc",
            "188d0027a0f842efa5d92e87f277291e",
            "96c9dc396d064cf3b4a8c5643c219519",
            "b63ca37ba34845048f42f2d18580dae2",
            "3dbb497d42524a55847b346cdebb66f5",
            "61e1eae1a96a418787d19cc3690e3221",
            "fbe9d941f3b14be1bf204413d823c276",
            "6f497a80d9c945d7becef50791d922f0",
            "bf0d16a472874f08be35c2bd5a76c512",
            "1c8addafce774201a444435440307291",
            "70896054f4284b3bac0ac44f048e841e",
            "0ddcbe3145be4d3d8c5032e2f6131162",
            "1a6b6eae89084f5b9da7828052933ad4",
            "10a9609f7e064ec39993dda54d4b31c6",
            "e3bf38c83d7d4991b321705b91918741",
            "b2a4510a22e149a5b7783154927b1ba3",
            "730fb3f301a14fbd802266f80ec9f423",
            "e5960c8dd5c44e68a5c43e67a53a84e1",
            "a1f73e210c4e4c97aab6d632181b034d",
            "8d6154642754491b85bec66b9d65f47d",
            "9309d0e2a3a64a3bad2158192cb69a20",
            "0dcf8be57e344473aa7f60f127550fc7",
            "6719379e7f214cf8830051b367b8bf08",
            "bbc426c5736145f89cb94f9f9f4b7e25",
            "e5306b13896544dbb929352ee8a4fb6c",
            "ad05831c92a54664aa1a42eb94ecf9cf",
            "8fca4a376aef4a059d2cf0ec629798af",
            "eb4e5b1449d2452fb4e10a1e98368ffd",
            "fac8f1cf928b4d67a666705ee463ed0c",
            "204c6bc4b3cb4d57887a200eaaca2387",
            "c3d43b4c4cbc470d80097cdccf61d9b2",
            "dd916e46f88047ebaa3b4415b5ca7cf9",
            "d2670f310cc54496a2f3ac34be40a52b",
            "10cc253e89934ea8b54a0e2d65207ceb",
            "fbbacb354dc84c6eaf8a301e3eb2fb56",
            "0a236061e4b44754ab364dfcd4053a97",
            "0df71871ecb14e24b81faafc519c251f",
            "b3cd8dd1d5fb48a9b975df86ec556fa7",
            "108d8e9ad94645aeac9aa630dfc15f94",
            "d8af7f1679eb4736b16c28e469725f6c",
            "0244f508bbb94cdba61e417f42e51b47",
            "ae7748b337eb4a998dc52a83264ff99f",
            "74d635f959e1497192c36eeacb304f08"
          ]
        },
        "id": "D3hSQaQmG6pN",
        "outputId": "ed0a77e2-4613-408a-f934-c75cf12644dc"
      },
      "execution_count": null,
      "outputs": [
        {
          "output_type": "stream",
          "name": "stderr",
          "text": [
            "ERROR:wandb.jupyter:Failed to detect the name of this notebook, you can set it manually with the WANDB_NOTEBOOK_NAME environment variable to enable code saving.\n",
            "\u001b[34m\u001b[1mwandb\u001b[0m: Currently logged in as: \u001b[33mcompyle\u001b[0m. Use \u001b[1m`wandb login --relogin`\u001b[0m to force relogin\n"
          ]
        },
        {
          "output_type": "display_data",
          "data": {
            "text/plain": [
              "<IPython.core.display.HTML object>"
            ],
            "text/html": [
              "Tracking run with wandb version 0.13.3"
            ]
          },
          "metadata": {}
        },
        {
          "output_type": "display_data",
          "data": {
            "text/plain": [
              "<IPython.core.display.HTML object>"
            ],
            "text/html": [
              "Run data is saved locally in <code>/content/wandb/run-20220920_225522-2pu0a6gt</code>"
            ]
          },
          "metadata": {}
        },
        {
          "output_type": "display_data",
          "data": {
            "text/plain": [
              "<IPython.core.display.HTML object>"
            ],
            "text/html": [
              "Syncing run <strong><a href=\"https://wandb.ai/compyle/continual_vqa_final/runs/2pu0a6gt\" target=\"_blank\">reservoir_yesno_imagecondition_roadcondition_20_09_22h55m18s_mul</a></strong> to <a href=\"https://wandb.ai/compyle/continual_vqa_final\" target=\"_blank\">Weights & Biases</a> (<a href=\"https://wandb.me/run\" target=\"_blank\">docs</a>)<br/>"
            ]
          },
          "metadata": {}
        },
        {
          "output_type": "stream",
          "name": "stderr",
          "text": [
            "/usr/local/lib/python3.7/dist-packages/torch/utils/data/dataloader.py:566: UserWarning: This DataLoader will create 4 worker processes in total. Our suggested max number of worker in current system is 2, which is smaller than what this DataLoader is going to create. Please be aware that excessive worker creation might get DataLoader running slow or even freeze, lower the worker number to avoid potential slowness/freeze if necessary.\n",
            "  cpuset_checked))\n"
          ]
        },
        {
          "output_type": "stream",
          "name": "stdout",
          "text": [
            "########## Epoch 0\n"
          ]
        },
        {
          "output_type": "stream",
          "name": "stderr",
          "text": [
            "100%|██████████| 6/6 [00:02<00:00,  2.12it/s]\n",
            "100%|██████████| 2/2 [00:00<00:00,  8.64it/s]\n"
          ]
        },
        {
          "output_type": "stream",
          "name": "stdout",
          "text": [
            "Train loss: 1.0417968034744263\tVal loss: 0.7098914384841919\tTrain acc: 59.572916666666664\tVal acc: 46.81919642857143\n"
          ]
        },
        {
          "output_type": "stream",
          "name": "stderr",
          "text": [
            "100%|██████████| 2/2 [00:00<00:00,  7.09it/s]\n"
          ]
        },
        {
          "output_type": "stream",
          "name": "stdout",
          "text": [
            "########## Epoch 1\n"
          ]
        },
        {
          "output_type": "stream",
          "name": "stderr",
          "text": [
            "100%|██████████| 6/6 [00:00<00:00, 10.41it/s]\n",
            "100%|██████████| 2/2 [00:00<00:00,  6.15it/s]\n"
          ]
        },
        {
          "output_type": "stream",
          "name": "stdout",
          "text": [
            "Train loss: 0.6267069578170776\tVal loss: 0.5667404532432556\tTrain acc: 59.770833333333336\tVal acc: 86.06505102040816\n"
          ]
        },
        {
          "output_type": "stream",
          "name": "stderr",
          "text": [
            "100%|██████████| 2/2 [00:00<00:00,  6.33it/s]\n"
          ]
        },
        {
          "output_type": "stream",
          "name": "stdout",
          "text": [
            "########## Epoch 2\n"
          ]
        },
        {
          "output_type": "stream",
          "name": "stderr",
          "text": [
            "100%|██████████| 6/6 [00:00<00:00, 11.15it/s]\n",
            "100%|██████████| 2/2 [00:00<00:00,  6.76it/s]\n"
          ]
        },
        {
          "output_type": "stream",
          "name": "stdout",
          "text": [
            "Train loss: 0.4811772108078003\tVal loss: 0.4472472071647644\tTrain acc: 83.703125\tVal acc: 77.90178571428572\n"
          ]
        },
        {
          "output_type": "stream",
          "name": "stderr",
          "text": [
            "100%|██████████| 2/2 [00:00<00:00,  6.33it/s]\n"
          ]
        },
        {
          "output_type": "stream",
          "name": "stdout",
          "text": [
            "########## Epoch 3\n"
          ]
        },
        {
          "output_type": "stream",
          "name": "stderr",
          "text": [
            "100%|██████████| 6/6 [00:00<00:00, 10.64it/s]\n",
            "100%|██████████| 2/2 [00:00<00:00,  6.78it/s]\n"
          ]
        },
        {
          "output_type": "stream",
          "name": "stdout",
          "text": [
            "Train loss: 0.3725334405899048\tVal loss: 0.3828622102737427\tTrain acc: 82.63541666666667\tVal acc: 79.79113520408163\n"
          ]
        },
        {
          "output_type": "stream",
          "name": "stderr",
          "text": [
            "100%|██████████| 2/2 [00:00<00:00,  9.00it/s]\n"
          ]
        },
        {
          "output_type": "stream",
          "name": "stdout",
          "text": [
            "########## Epoch 4\n"
          ]
        },
        {
          "output_type": "stream",
          "name": "stderr",
          "text": [
            "100%|██████████| 6/6 [00:00<00:00, 14.29it/s]\n",
            "100%|██████████| 2/2 [00:00<00:00,  9.23it/s]\n"
          ]
        },
        {
          "output_type": "stream",
          "name": "stdout",
          "text": [
            "Train loss: 0.3040810525417328\tVal loss: 0.2101372927427292\tTrain acc: 83.34375\tVal acc: 87.08545918367346\n"
          ]
        },
        {
          "output_type": "stream",
          "name": "stderr",
          "text": [
            "100%|██████████| 2/2 [00:00<00:00,  9.69it/s]\n"
          ]
        },
        {
          "output_type": "stream",
          "name": "stdout",
          "text": [
            "########## Epoch 5\n"
          ]
        },
        {
          "output_type": "stream",
          "name": "stderr",
          "text": [
            "100%|██████████| 6/6 [00:00<00:00, 15.48it/s]\n",
            "100%|██████████| 2/2 [00:00<00:00,  9.17it/s]\n"
          ]
        },
        {
          "output_type": "stream",
          "name": "stdout",
          "text": [
            "Train loss: 0.1753332018852234\tVal loss: 0.08671563863754272\tTrain acc: 92.359375\tVal acc: 98.5889668367347\n"
          ]
        },
        {
          "output_type": "stream",
          "name": "stderr",
          "text": [
            "100%|██████████| 2/2 [00:00<00:00,  9.36it/s]\n"
          ]
        },
        {
          "output_type": "stream",
          "name": "stdout",
          "text": [
            "########## Epoch 6\n"
          ]
        },
        {
          "output_type": "stream",
          "name": "stderr",
          "text": [
            "100%|██████████| 6/6 [00:00<00:00, 15.69it/s]\n",
            "100%|██████████| 2/2 [00:00<00:00,  9.62it/s]\n"
          ]
        },
        {
          "output_type": "stream",
          "name": "stdout",
          "text": [
            "Train loss: 0.07891694456338882\tVal loss: 0.028791798278689384\tTrain acc: 97.78645833333333\tVal acc: 99.21875\n"
          ]
        },
        {
          "output_type": "stream",
          "name": "stderr",
          "text": [
            "100%|██████████| 2/2 [00:00<00:00,  9.27it/s]\n"
          ]
        },
        {
          "output_type": "stream",
          "name": "stdout",
          "text": [
            "########## Epoch 7\n"
          ]
        },
        {
          "output_type": "stream",
          "name": "stderr",
          "text": [
            "100%|██████████| 6/6 [00:00<00:00, 16.42it/s]\n",
            "100%|██████████| 2/2 [00:00<00:00,  8.80it/s]\n"
          ]
        },
        {
          "output_type": "stream",
          "name": "stdout",
          "text": [
            "Train loss: 0.05673763155937195\tVal loss: 0.018015317618846893\tTrain acc: 98.03125\tVal acc: 99.609375\n"
          ]
        },
        {
          "output_type": "stream",
          "name": "stderr",
          "text": [
            "100%|██████████| 2/2 [00:00<00:00,  9.52it/s]\n"
          ]
        },
        {
          "output_type": "stream",
          "name": "stdout",
          "text": [
            "########## Epoch 8\n"
          ]
        },
        {
          "output_type": "stream",
          "name": "stderr",
          "text": [
            "100%|██████████| 6/6 [00:00<00:00, 16.28it/s]\n",
            "100%|██████████| 2/2 [00:00<00:00,  9.31it/s]\n"
          ]
        },
        {
          "output_type": "stream",
          "name": "stdout",
          "text": [
            "Train loss: 0.058314740657806396\tVal loss: 0.04651646316051483\tTrain acc: 98.69791666666667\tVal acc: 97.9591836734694\n"
          ]
        },
        {
          "output_type": "stream",
          "name": "stderr",
          "text": [
            "100%|██████████| 2/2 [00:00<00:00,  9.28it/s]\n"
          ]
        },
        {
          "output_type": "stream",
          "name": "stdout",
          "text": [
            "########## Epoch 9\n"
          ]
        },
        {
          "output_type": "stream",
          "name": "stderr",
          "text": [
            "100%|██████████| 6/6 [00:00<00:00, 15.85it/s]\n",
            "100%|██████████| 2/2 [00:00<00:00,  9.31it/s]\n"
          ]
        },
        {
          "output_type": "stream",
          "name": "stdout",
          "text": [
            "Train loss: 0.04514211788773537\tVal loss: 0.038753692060709\tTrain acc: 98.69791666666667\tVal acc: 98.5889668367347\n"
          ]
        },
        {
          "output_type": "stream",
          "name": "stderr",
          "text": [
            "100%|██████████| 2/2 [00:00<00:00,  9.25it/s]\n"
          ]
        },
        {
          "output_type": "stream",
          "name": "stdout",
          "text": [
            "########## Epoch 10\n"
          ]
        },
        {
          "output_type": "stream",
          "name": "stderr",
          "text": [
            "100%|██████████| 6/6 [00:00<00:00, 16.08it/s]\n",
            "100%|██████████| 2/2 [00:00<00:00,  9.37it/s]\n"
          ]
        },
        {
          "output_type": "stream",
          "name": "stdout",
          "text": [
            "Train loss: 0.041076093912124634\tVal loss: 0.027926523238420486\tTrain acc: 98.56770833333333\tVal acc: 99.609375\n"
          ]
        },
        {
          "output_type": "stream",
          "name": "stderr",
          "text": [
            "100%|██████████| 2/2 [00:00<00:00,  9.09it/s]\n"
          ]
        },
        {
          "output_type": "stream",
          "name": "stdout",
          "text": [
            "########## Epoch 11\n"
          ]
        },
        {
          "output_type": "stream",
          "name": "stderr",
          "text": [
            "100%|██████████| 6/6 [00:00<00:00, 16.20it/s]\n",
            "100%|██████████| 2/2 [00:00<00:00,  9.37it/s]\n"
          ]
        },
        {
          "output_type": "stream",
          "name": "stdout",
          "text": [
            "Train loss: 0.03807048499584198\tVal loss: 0.0188523530960083\tTrain acc: 98.95833333333333\tVal acc: 99.609375\n"
          ]
        },
        {
          "output_type": "stream",
          "name": "stderr",
          "text": [
            "100%|██████████| 2/2 [00:00<00:00,  9.82it/s]\n"
          ]
        },
        {
          "output_type": "stream",
          "name": "stdout",
          "text": [
            "########## Epoch 12\n"
          ]
        },
        {
          "output_type": "stream",
          "name": "stderr",
          "text": [
            "100%|██████████| 6/6 [00:00<00:00, 15.86it/s]\n",
            "100%|██████████| 2/2 [00:00<00:00,  8.88it/s]\n"
          ]
        },
        {
          "output_type": "stream",
          "name": "stdout",
          "text": [
            "Train loss: 0.037947382777929306\tVal loss: 0.028127368539571762\tTrain acc: 99.015625\tVal acc: 99.21875\n"
          ]
        },
        {
          "output_type": "stream",
          "name": "stderr",
          "text": [
            "100%|██████████| 2/2 [00:00<00:00,  9.61it/s]\n"
          ]
        },
        {
          "output_type": "stream",
          "name": "stdout",
          "text": [
            "########## Epoch 13\n"
          ]
        },
        {
          "output_type": "stream",
          "name": "stderr",
          "text": [
            "100%|██████████| 6/6 [00:00<00:00, 16.32it/s]\n",
            "100%|██████████| 2/2 [00:00<00:00,  9.37it/s]\n"
          ]
        },
        {
          "output_type": "stream",
          "name": "stdout",
          "text": [
            "Train loss: 0.029546869918704033\tVal loss: 0.013428025878965855\tTrain acc: 98.95833333333333\tVal acc: 99.609375\n"
          ]
        },
        {
          "output_type": "stream",
          "name": "stderr",
          "text": [
            "100%|██████████| 2/2 [00:00<00:00,  9.55it/s]\n"
          ]
        },
        {
          "output_type": "stream",
          "name": "stdout",
          "text": [
            "########## Epoch 14\n"
          ]
        },
        {
          "output_type": "stream",
          "name": "stderr",
          "text": [
            "100%|██████████| 6/6 [00:00<00:00, 15.80it/s]\n",
            "100%|██████████| 2/2 [00:00<00:00,  9.14it/s]\n"
          ]
        },
        {
          "output_type": "stream",
          "name": "stdout",
          "text": [
            "Train loss: 0.033093731850385666\tVal loss: 0.01877002790570259\tTrain acc: 99.21875\tVal acc: 99.609375\n"
          ]
        },
        {
          "output_type": "stream",
          "name": "stderr",
          "text": [
            "100%|██████████| 2/2 [00:00<00:00,  8.91it/s]\n"
          ]
        },
        {
          "output_type": "stream",
          "name": "stdout",
          "text": [
            "########## Epoch 15\n"
          ]
        },
        {
          "output_type": "stream",
          "name": "stderr",
          "text": [
            "100%|██████████| 6/6 [00:00<00:00, 15.89it/s]\n",
            "100%|██████████| 2/2 [00:00<00:00,  9.47it/s]\n"
          ]
        },
        {
          "output_type": "stream",
          "name": "stdout",
          "text": [
            "Train loss: 0.024688510224223137\tVal loss: 0.026170674711465836\tTrain acc: 99.34895833333333\tVal acc: 99.609375\n"
          ]
        },
        {
          "output_type": "stream",
          "name": "stderr",
          "text": [
            "100%|██████████| 2/2 [00:00<00:00,  9.30it/s]\n"
          ]
        },
        {
          "output_type": "stream",
          "name": "stdout",
          "text": [
            "########## Epoch 16\n"
          ]
        },
        {
          "output_type": "stream",
          "name": "stderr",
          "text": [
            "100%|██████████| 6/6 [00:00<00:00, 15.51it/s]\n",
            "100%|██████████| 2/2 [00:00<00:00,  9.36it/s]\n"
          ]
        },
        {
          "output_type": "stream",
          "name": "stdout",
          "text": [
            "Train loss: 0.016938934102654457\tVal loss: 0.013757501728832722\tTrain acc: 99.47916666666667\tVal acc: 99.609375\n"
          ]
        },
        {
          "output_type": "stream",
          "name": "stderr",
          "text": [
            "100%|██████████| 2/2 [00:00<00:00,  9.17it/s]\n"
          ]
        },
        {
          "output_type": "stream",
          "name": "stdout",
          "text": [
            "########## Epoch 17\n"
          ]
        },
        {
          "output_type": "stream",
          "name": "stderr",
          "text": [
            "100%|██████████| 6/6 [00:00<00:00, 15.90it/s]\n",
            "100%|██████████| 2/2 [00:00<00:00,  9.02it/s]\n"
          ]
        },
        {
          "output_type": "stream",
          "name": "stdout",
          "text": [
            "Train loss: 0.015267080627381802\tVal loss: 0.04493928328156471\tTrain acc: 99.609375\tVal acc: 98.9795918367347\n"
          ]
        },
        {
          "output_type": "stream",
          "name": "stderr",
          "text": [
            "100%|██████████| 2/2 [00:00<00:00,  9.00it/s]\n"
          ]
        },
        {
          "output_type": "stream",
          "name": "stdout",
          "text": [
            "########## Epoch 18\n"
          ]
        },
        {
          "output_type": "stream",
          "name": "stderr",
          "text": [
            "100%|██████████| 6/6 [00:00<00:00, 16.04it/s]\n",
            "100%|██████████| 2/2 [00:00<00:00,  8.83it/s]\n"
          ]
        },
        {
          "output_type": "stream",
          "name": "stdout",
          "text": [
            "Train loss: 0.010155292227864265\tVal loss: 0.01654169335961342\tTrain acc: 99.609375\tVal acc: 99.609375\n"
          ]
        },
        {
          "output_type": "stream",
          "name": "stderr",
          "text": [
            "100%|██████████| 2/2 [00:00<00:00,  9.27it/s]\n"
          ]
        },
        {
          "output_type": "stream",
          "name": "stdout",
          "text": [
            "########## Epoch 19\n"
          ]
        },
        {
          "output_type": "stream",
          "name": "stderr",
          "text": [
            "100%|██████████| 6/6 [00:00<00:00, 16.03it/s]\n",
            "100%|██████████| 2/2 [00:00<00:00,  9.46it/s]\n"
          ]
        },
        {
          "output_type": "stream",
          "name": "stdout",
          "text": [
            "Train loss: 0.012746032327413559\tVal loss: 0.02173171192407608\tTrain acc: 99.609375\tVal acc: 99.609375\n"
          ]
        },
        {
          "output_type": "stream",
          "name": "stderr",
          "text": [
            "100%|██████████| 2/2 [00:00<00:00,  9.27it/s]\n"
          ]
        },
        {
          "output_type": "stream",
          "name": "stdout",
          "text": [
            "########## Epoch 20\n"
          ]
        },
        {
          "output_type": "stream",
          "name": "stderr",
          "text": [
            "100%|██████████| 6/6 [00:00<00:00, 16.08it/s]\n",
            "100%|██████████| 2/2 [00:00<00:00,  9.80it/s]\n"
          ]
        },
        {
          "output_type": "stream",
          "name": "stdout",
          "text": [
            "Train loss: 0.009140199050307274\tVal loss: 0.04577687010169029\tTrain acc: 99.609375\tVal acc: 98.9795918367347\n"
          ]
        },
        {
          "output_type": "stream",
          "name": "stderr",
          "text": [
            "100%|██████████| 2/2 [00:00<00:00,  9.51it/s]\n"
          ]
        },
        {
          "output_type": "stream",
          "name": "stdout",
          "text": [
            "########## Epoch 21\n"
          ]
        },
        {
          "output_type": "stream",
          "name": "stderr",
          "text": [
            "100%|██████████| 6/6 [00:00<00:00, 15.81it/s]\n",
            "100%|██████████| 2/2 [00:00<00:00,  9.26it/s]\n"
          ]
        },
        {
          "output_type": "stream",
          "name": "stdout",
          "text": [
            "Train loss: 0.01250044908374548\tVal loss: 0.016322536394000053\tTrain acc: 99.609375\tVal acc: 99.609375\n"
          ]
        },
        {
          "output_type": "stream",
          "name": "stderr",
          "text": [
            "100%|██████████| 2/2 [00:00<00:00,  9.36it/s]\n"
          ]
        },
        {
          "output_type": "stream",
          "name": "stdout",
          "text": [
            "########## Epoch 22\n"
          ]
        },
        {
          "output_type": "stream",
          "name": "stderr",
          "text": [
            "100%|██████████| 6/6 [00:00<00:00, 15.46it/s]\n",
            "100%|██████████| 2/2 [00:00<00:00,  9.36it/s]\n"
          ]
        },
        {
          "output_type": "stream",
          "name": "stdout",
          "text": [
            "Train loss: 0.010710352100431919\tVal loss: 0.010776832699775696\tTrain acc: 99.73958333333333\tVal acc: 99.609375\n"
          ]
        },
        {
          "output_type": "stream",
          "name": "stderr",
          "text": [
            "100%|██████████| 2/2 [00:00<00:00,  9.23it/s]\n"
          ]
        },
        {
          "output_type": "stream",
          "name": "stdout",
          "text": [
            "########## Epoch 23\n"
          ]
        },
        {
          "output_type": "stream",
          "name": "stderr",
          "text": [
            "100%|██████████| 6/6 [00:00<00:00, 15.11it/s]\n",
            "100%|██████████| 2/2 [00:00<00:00,  8.94it/s]\n"
          ]
        },
        {
          "output_type": "stream",
          "name": "stdout",
          "text": [
            "Train loss: 0.00995174702256918\tVal loss: 0.011639991775155067\tTrain acc: 99.47916666666667\tVal acc: 99.609375\n"
          ]
        },
        {
          "output_type": "stream",
          "name": "stderr",
          "text": [
            "100%|██████████| 2/2 [00:00<00:00,  8.90it/s]\n"
          ]
        },
        {
          "output_type": "stream",
          "name": "stdout",
          "text": [
            "########## Epoch 24\n"
          ]
        },
        {
          "output_type": "stream",
          "name": "stderr",
          "text": [
            "100%|██████████| 6/6 [00:00<00:00,  9.22it/s]\n",
            "100%|██████████| 2/2 [00:00<00:00,  8.85it/s]\n"
          ]
        },
        {
          "output_type": "stream",
          "name": "stdout",
          "text": [
            "Train loss: 0.005116677843034267\tVal loss: 0.017897741869091988\tTrain acc: 99.73958333333333\tVal acc: 99.609375\n"
          ]
        },
        {
          "output_type": "stream",
          "name": "stderr",
          "text": [
            "100%|██████████| 2/2 [00:00<00:00,  7.25it/s]\n"
          ]
        },
        {
          "output_type": "stream",
          "name": "stdout",
          "text": [
            "########## Epoch 0\n"
          ]
        },
        {
          "output_type": "stream",
          "name": "stderr",
          "text": [
            "100%|██████████| 10/10 [00:01<00:00,  7.88it/s]\n",
            "100%|██████████| 4/4 [00:00<00:00, 15.61it/s]\n"
          ]
        },
        {
          "output_type": "stream",
          "name": "stdout",
          "text": [
            "Train loss: 3.5621657371520996\tVal loss: 4.3229827880859375\tTrain acc: 54.55223880597015\tVal acc: 38.293015813253014\n"
          ]
        },
        {
          "output_type": "stream",
          "name": "stderr",
          "text": [
            "100%|██████████| 2/2 [00:00<00:00,  9.46it/s]\n",
            "100%|██████████| 3/3 [00:00<00:00, 13.50it/s]\n"
          ]
        },
        {
          "output_type": "stream",
          "name": "stdout",
          "text": [
            "########## Epoch 1\n"
          ]
        },
        {
          "output_type": "stream",
          "name": "stderr",
          "text": [
            "100%|██████████| 10/10 [00:00<00:00, 11.89it/s]\n",
            "100%|██████████| 4/4 [00:00<00:00, 16.15it/s]\n"
          ]
        },
        {
          "output_type": "stream",
          "name": "stdout",
          "text": [
            "Train loss: 2.9765372276306152\tVal loss: 3.6398425102233887\tTrain acc: 54.55223880597015\tVal acc: 38.08123117469879\n"
          ]
        },
        {
          "output_type": "stream",
          "name": "stderr",
          "text": [
            "100%|██████████| 2/2 [00:00<00:00,  9.15it/s]\n",
            "100%|██████████| 3/3 [00:00<00:00, 12.33it/s]\n"
          ]
        },
        {
          "output_type": "stream",
          "name": "stdout",
          "text": [
            "########## Epoch 2\n"
          ]
        },
        {
          "output_type": "stream",
          "name": "stderr",
          "text": [
            "100%|██████████| 10/10 [00:00<00:00, 12.19it/s]\n",
            "100%|██████████| 4/4 [00:00<00:00, 15.21it/s]\n"
          ]
        },
        {
          "output_type": "stream",
          "name": "stdout",
          "text": [
            "Train loss: 2.507540225982666\tVal loss: 3.098095178604126\tTrain acc: 54.55223880597015\tVal acc: 37.551769578313255\n"
          ]
        },
        {
          "output_type": "stream",
          "name": "stderr",
          "text": [
            "100%|██████████| 2/2 [00:00<00:00,  8.47it/s]\n",
            "100%|██████████| 3/3 [00:00<00:00, 13.21it/s]\n"
          ]
        },
        {
          "output_type": "stream",
          "name": "stdout",
          "text": [
            "########## Epoch 3\n"
          ]
        },
        {
          "output_type": "stream",
          "name": "stderr",
          "text": [
            "100%|██████████| 10/10 [00:00<00:00, 12.09it/s]\n",
            "100%|██████████| 4/4 [00:00<00:00, 16.18it/s]\n"
          ]
        },
        {
          "output_type": "stream",
          "name": "stdout",
          "text": [
            "Train loss: 2.1068673133850098\tVal loss: 2.5936944484710693\tTrain acc: 54.55223880597015\tVal acc: 37.445877259036145\n"
          ]
        },
        {
          "output_type": "stream",
          "name": "stderr",
          "text": [
            "100%|██████████| 2/2 [00:00<00:00,  8.66it/s]\n",
            "100%|██████████| 3/3 [00:00<00:00, 12.56it/s]\n"
          ]
        },
        {
          "output_type": "stream",
          "name": "stdout",
          "text": [
            "########## Epoch 4\n"
          ]
        },
        {
          "output_type": "stream",
          "name": "stderr",
          "text": [
            "100%|██████████| 10/10 [00:00<00:00, 12.34it/s]\n",
            "100%|██████████| 4/4 [00:00<00:00, 15.51it/s]\n"
          ]
        },
        {
          "output_type": "stream",
          "name": "stdout",
          "text": [
            "Train loss: 1.7614831924438477\tVal loss: 2.107146739959717\tTrain acc: 54.55223880597015\tVal acc: 38.293015813253014\n"
          ]
        },
        {
          "output_type": "stream",
          "name": "stderr",
          "text": [
            "100%|██████████| 2/2 [00:00<00:00,  9.00it/s]\n",
            "100%|██████████| 3/3 [00:00<00:00, 12.96it/s]\n"
          ]
        },
        {
          "output_type": "stream",
          "name": "stdout",
          "text": [
            "########## Epoch 5\n"
          ]
        },
        {
          "output_type": "stream",
          "name": "stderr",
          "text": [
            "100%|██████████| 10/10 [00:00<00:00, 12.02it/s]\n",
            "100%|██████████| 4/4 [00:00<00:00, 16.61it/s]\n"
          ]
        },
        {
          "output_type": "stream",
          "name": "stdout",
          "text": [
            "Train loss: 1.436845302581787\tVal loss: 1.7190495729446411\tTrain acc: 54.55223880597015\tVal acc: 37.02230798192771\n"
          ]
        },
        {
          "output_type": "stream",
          "name": "stderr",
          "text": [
            "100%|██████████| 2/2 [00:00<00:00,  8.61it/s]\n",
            "100%|██████████| 3/3 [00:00<00:00, 13.32it/s]\n"
          ]
        },
        {
          "output_type": "stream",
          "name": "stdout",
          "text": [
            "########## Epoch 6\n"
          ]
        },
        {
          "output_type": "stream",
          "name": "stderr",
          "text": [
            "100%|██████████| 10/10 [00:00<00:00, 12.33it/s]\n",
            "100%|██████████| 4/4 [00:00<00:00, 16.13it/s]\n"
          ]
        },
        {
          "output_type": "stream",
          "name": "stdout",
          "text": [
            "Train loss: 1.1351747512817383\tVal loss: 1.2799105644226074\tTrain acc: 54.55223880597015\tVal acc: 38.92836972891566\n"
          ]
        },
        {
          "output_type": "stream",
          "name": "stderr",
          "text": [
            "100%|██████████| 2/2 [00:00<00:00,  9.28it/s]\n",
            "100%|██████████| 3/3 [00:00<00:00, 13.43it/s]\n"
          ]
        },
        {
          "output_type": "stream",
          "name": "stdout",
          "text": [
            "########## Epoch 7\n"
          ]
        },
        {
          "output_type": "stream",
          "name": "stderr",
          "text": [
            "100%|██████████| 10/10 [00:00<00:00, 11.53it/s]\n",
            "100%|██████████| 4/4 [00:00<00:00, 15.72it/s]\n"
          ]
        },
        {
          "output_type": "stream",
          "name": "stdout",
          "text": [
            "Train loss: 0.8582793474197388\tVal loss: 0.95604008436203\tTrain acc: 56.619053171641795\tVal acc: 57.97957454819277\n"
          ]
        },
        {
          "output_type": "stream",
          "name": "stderr",
          "text": [
            "100%|██████████| 2/2 [00:00<00:00,  8.81it/s]\n",
            "100%|██████████| 3/3 [00:00<00:00, 12.92it/s]\n"
          ]
        },
        {
          "output_type": "stream",
          "name": "stdout",
          "text": [
            "########## Epoch 8\n"
          ]
        },
        {
          "output_type": "stream",
          "name": "stderr",
          "text": [
            "100%|██████████| 10/10 [00:00<00:00, 12.11it/s]\n",
            "100%|██████████| 4/4 [00:00<00:00, 16.63it/s]\n"
          ]
        },
        {
          "output_type": "stream",
          "name": "stdout",
          "text": [
            "Train loss: 0.6258996725082397\tVal loss: 0.6943749785423279\tTrain acc: 77.7023087686567\tVal acc: 84.65032003012048\n"
          ]
        },
        {
          "output_type": "stream",
          "name": "stderr",
          "text": [
            "100%|██████████| 2/2 [00:00<00:00,  9.48it/s]\n",
            "100%|██████████| 3/3 [00:00<00:00, 12.69it/s]\n"
          ]
        },
        {
          "output_type": "stream",
          "name": "stdout",
          "text": [
            "########## Epoch 9\n"
          ]
        },
        {
          "output_type": "stream",
          "name": "stderr",
          "text": [
            "100%|██████████| 10/10 [00:00<00:00, 12.01it/s]\n",
            "100%|██████████| 4/4 [00:00<00:00, 15.68it/s]\n"
          ]
        },
        {
          "output_type": "stream",
          "name": "stdout",
          "text": [
            "Train loss: 0.4622932970523834\tVal loss: 0.5125207901000977\tTrain acc: 89.89330690298507\tVal acc: 89.08603162650603\n"
          ]
        },
        {
          "output_type": "stream",
          "name": "stderr",
          "text": [
            "100%|██████████| 2/2 [00:00<00:00,  9.43it/s]\n",
            "100%|██████████| 3/3 [00:00<00:00, 12.95it/s]\n"
          ]
        },
        {
          "output_type": "stream",
          "name": "stdout",
          "text": [
            "########## Epoch 10\n"
          ]
        },
        {
          "output_type": "stream",
          "name": "stderr",
          "text": [
            "100%|██████████| 10/10 [00:00<00:00, 11.92it/s]\n",
            "100%|██████████| 4/4 [00:00<00:00, 15.88it/s]\n"
          ]
        },
        {
          "output_type": "stream",
          "name": "stdout",
          "text": [
            "Train loss: 0.35925599932670593\tVal loss: 0.4135153293609619\tTrain acc: 92.30818563432835\tVal acc: 90.66500376506025\n"
          ]
        },
        {
          "output_type": "stream",
          "name": "stderr",
          "text": [
            "100%|██████████| 2/2 [00:00<00:00,  9.04it/s]\n",
            "100%|██████████| 3/3 [00:00<00:00, 12.22it/s]\n"
          ]
        },
        {
          "output_type": "stream",
          "name": "stdout",
          "text": [
            "########## Epoch 11\n"
          ]
        },
        {
          "output_type": "stream",
          "name": "stderr",
          "text": [
            "100%|██████████| 10/10 [00:00<00:00, 12.20it/s]\n",
            "100%|██████████| 4/4 [00:00<00:00, 15.49it/s]\n"
          ]
        },
        {
          "output_type": "stream",
          "name": "stdout",
          "text": [
            "Train loss: 0.3005841374397278\tVal loss: 0.3543283939361572\tTrain acc: 92.69881063432835\tVal acc: 90.86031626506025\n"
          ]
        },
        {
          "output_type": "stream",
          "name": "stderr",
          "text": [
            "100%|██████████| 2/2 [00:00<00:00,  9.03it/s]\n",
            "100%|██████████| 3/3 [00:00<00:00, 13.12it/s]\n"
          ]
        },
        {
          "output_type": "stream",
          "name": "stdout",
          "text": [
            "########## Epoch 12\n"
          ]
        },
        {
          "output_type": "stream",
          "name": "stderr",
          "text": [
            "100%|██████████| 10/10 [00:00<00:00, 12.34it/s]\n",
            "100%|██████████| 4/4 [00:00<00:00, 16.29it/s]\n"
          ]
        },
        {
          "output_type": "stream",
          "name": "stdout",
          "text": [
            "Train loss: 0.26649099588394165\tVal loss: 0.32722118496894836\tTrain acc: 92.74486940298507\tVal acc: 90.6320594879518\n"
          ]
        },
        {
          "output_type": "stream",
          "name": "stderr",
          "text": [
            "100%|██████████| 2/2 [00:00<00:00,  8.61it/s]\n",
            "100%|██████████| 3/3 [00:00<00:00, 12.01it/s]\n"
          ]
        },
        {
          "output_type": "stream",
          "name": "stdout",
          "text": [
            "########## Epoch 13\n"
          ]
        },
        {
          "output_type": "stream",
          "name": "stderr",
          "text": [
            "100%|██████████| 10/10 [00:00<00:00, 12.29it/s]\n",
            "100%|██████████| 4/4 [00:00<00:00, 16.14it/s]\n"
          ]
        },
        {
          "output_type": "stream",
          "name": "stdout",
          "text": [
            "Train loss: 0.24136261641979218\tVal loss: 0.2947242259979248\tTrain acc: 92.97224813432835\tVal acc: 90.8273719879518\n"
          ]
        },
        {
          "output_type": "stream",
          "name": "stderr",
          "text": [
            "100%|██████████| 2/2 [00:00<00:00,  8.95it/s]\n",
            "100%|██████████| 3/3 [00:00<00:00, 13.55it/s]\n"
          ]
        },
        {
          "output_type": "stream",
          "name": "stdout",
          "text": [
            "########## Epoch 14\n"
          ]
        },
        {
          "output_type": "stream",
          "name": "stderr",
          "text": [
            "100%|██████████| 10/10 [00:00<00:00, 12.38it/s]\n",
            "100%|██████████| 4/4 [00:00<00:00, 16.24it/s]\n"
          ]
        },
        {
          "output_type": "stream",
          "name": "stdout",
          "text": [
            "Train loss: 0.22322432696819305\tVal loss: 0.2672888934612274\tTrain acc: 93.12849813432835\tVal acc: 91.23446912650603\n"
          ]
        },
        {
          "output_type": "stream",
          "name": "stderr",
          "text": [
            "100%|██████████| 2/2 [00:00<00:00,  8.54it/s]\n",
            "100%|██████████| 3/3 [00:00<00:00, 13.17it/s]\n"
          ]
        },
        {
          "output_type": "stream",
          "name": "stdout",
          "text": [
            "########## Epoch 15\n"
          ]
        },
        {
          "output_type": "stream",
          "name": "stderr",
          "text": [
            "100%|██████████| 10/10 [00:00<00:00, 12.59it/s]\n",
            "100%|██████████| 4/4 [00:00<00:00, 16.28it/s]\n"
          ]
        },
        {
          "output_type": "stream",
          "name": "stdout",
          "text": [
            "Train loss: 0.20796136558055878\tVal loss: 0.23785050213336945\tTrain acc: 93.2421875\tVal acc: 92.04866340361446\n"
          ]
        },
        {
          "output_type": "stream",
          "name": "stderr",
          "text": [
            "100%|██████████| 2/2 [00:00<00:00,  9.31it/s]\n",
            "100%|██████████| 3/3 [00:00<00:00, 12.11it/s]\n"
          ]
        },
        {
          "output_type": "stream",
          "name": "stdout",
          "text": [
            "########## Epoch 16\n"
          ]
        },
        {
          "output_type": "stream",
          "name": "stderr",
          "text": [
            "100%|██████████| 10/10 [00:00<00:00, 12.65it/s]\n",
            "100%|██████████| 4/4 [00:00<00:00, 15.50it/s]\n"
          ]
        },
        {
          "output_type": "stream",
          "name": "stdout",
          "text": [
            "Train loss: 0.19642993807792664\tVal loss: 0.22598233819007874\tTrain acc: 93.28474813432835\tVal acc: 91.73098644578313\n"
          ]
        },
        {
          "output_type": "stream",
          "name": "stderr",
          "text": [
            "100%|██████████| 2/2 [00:00<00:00,  8.85it/s]\n",
            "100%|██████████| 3/3 [00:00<00:00, 13.01it/s]\n"
          ]
        },
        {
          "output_type": "stream",
          "name": "stdout",
          "text": [
            "########## Epoch 17\n"
          ]
        },
        {
          "output_type": "stream",
          "name": "stderr",
          "text": [
            "100%|██████████| 10/10 [00:00<00:00, 11.57it/s]\n",
            "100%|██████████| 4/4 [00:00<00:00, 15.90it/s]\n"
          ]
        },
        {
          "output_type": "stream",
          "name": "stdout",
          "text": [
            "Train loss: 0.18239766359329224\tVal loss: 0.20845162868499756\tTrain acc: 93.3203125\tVal acc: 91.73098644578313\n"
          ]
        },
        {
          "output_type": "stream",
          "name": "stderr",
          "text": [
            "100%|██████████| 2/2 [00:00<00:00,  9.43it/s]\n",
            "100%|██████████| 3/3 [00:00<00:00, 13.30it/s]\n"
          ]
        },
        {
          "output_type": "stream",
          "name": "stdout",
          "text": [
            "########## Epoch 18\n"
          ]
        },
        {
          "output_type": "stream",
          "name": "stderr",
          "text": [
            "100%|██████████| 10/10 [00:00<00:00, 11.70it/s]\n",
            "100%|██████████| 4/4 [00:00<00:00, 16.38it/s]\n"
          ]
        },
        {
          "output_type": "stream",
          "name": "stdout",
          "text": [
            "Train loss: 0.17316514253616333\tVal loss: 0.19530168175697327\tTrain acc: 93.36287313432835\tVal acc: 91.62509412650603\n"
          ]
        },
        {
          "output_type": "stream",
          "name": "stderr",
          "text": [
            "100%|██████████| 2/2 [00:00<00:00,  8.86it/s]\n",
            "100%|██████████| 3/3 [00:00<00:00, 12.92it/s]\n"
          ]
        },
        {
          "output_type": "stream",
          "name": "stdout",
          "text": [
            "########## Epoch 19\n"
          ]
        },
        {
          "output_type": "stream",
          "name": "stderr",
          "text": [
            "100%|██████████| 10/10 [00:00<00:00, 11.57it/s]\n",
            "100%|██████████| 4/4 [00:00<00:00, 16.42it/s]\n"
          ]
        },
        {
          "output_type": "stream",
          "name": "stdout",
          "text": [
            "Train loss: 0.16246013343334198\tVal loss: 0.16899752616882324\tTrain acc: 93.40193563432835\tVal acc: 92.15455572289156\n"
          ]
        },
        {
          "output_type": "stream",
          "name": "stderr",
          "text": [
            "100%|██████████| 2/2 [00:00<00:00,  9.52it/s]\n",
            "100%|██████████| 3/3 [00:00<00:00, 12.29it/s]\n"
          ]
        },
        {
          "output_type": "stream",
          "name": "stdout",
          "text": [
            "########## Epoch 20\n"
          ]
        },
        {
          "output_type": "stream",
          "name": "stderr",
          "text": [
            "100%|██████████| 10/10 [00:00<00:00, 12.06it/s]\n",
            "100%|██████████| 4/4 [00:00<00:00, 15.01it/s]\n"
          ]
        },
        {
          "output_type": "stream",
          "name": "stdout",
          "text": [
            "Train loss: 0.15098586678504944\tVal loss: 0.15693974494934082\tTrain acc: 93.515625\tVal acc: 92.13808358433735\n"
          ]
        },
        {
          "output_type": "stream",
          "name": "stderr",
          "text": [
            "100%|██████████| 2/2 [00:00<00:00,  9.08it/s]\n",
            "100%|██████████| 3/3 [00:00<00:00, 13.31it/s]\n"
          ]
        },
        {
          "output_type": "stream",
          "name": "stdout",
          "text": [
            "########## Epoch 21\n"
          ]
        },
        {
          "output_type": "stream",
          "name": "stderr",
          "text": [
            "100%|██████████| 10/10 [00:00<00:00, 11.63it/s]\n",
            "100%|██████████| 4/4 [00:00<00:00, 15.72it/s]\n"
          ]
        },
        {
          "output_type": "stream",
          "name": "stdout",
          "text": [
            "Train loss: 0.14313054084777832\tVal loss: 0.14361386001110077\tTrain acc: 93.52611940298507\tVal acc: 93.41585090361446\n"
          ]
        },
        {
          "output_type": "stream",
          "name": "stderr",
          "text": [
            "100%|██████████| 2/2 [00:00<00:00,  8.90it/s]\n",
            "100%|██████████| 3/3 [00:00<00:00, 11.94it/s]\n"
          ]
        },
        {
          "output_type": "stream",
          "name": "stdout",
          "text": [
            "########## Epoch 22\n"
          ]
        },
        {
          "output_type": "stream",
          "name": "stderr",
          "text": [
            "100%|██████████| 10/10 [00:00<00:00, 11.80it/s]\n",
            "100%|██████████| 4/4 [00:00<00:00, 15.64it/s]\n"
          ]
        },
        {
          "output_type": "stream",
          "name": "stdout",
          "text": [
            "Train loss: 0.13089032471179962\tVal loss: 0.13050009310245514\tTrain acc: 94.5703125\tVal acc: 97.05384036144578\n"
          ]
        },
        {
          "output_type": "stream",
          "name": "stderr",
          "text": [
            "100%|██████████| 2/2 [00:00<00:00,  9.22it/s]\n",
            "100%|██████████| 3/3 [00:00<00:00, 13.29it/s]\n"
          ]
        },
        {
          "output_type": "stream",
          "name": "stdout",
          "text": [
            "########## Epoch 23\n"
          ]
        },
        {
          "output_type": "stream",
          "name": "stderr",
          "text": [
            "100%|██████████| 10/10 [00:00<00:00, 11.87it/s]\n",
            "100%|██████████| 4/4 [00:00<00:00, 14.96it/s]\n"
          ]
        },
        {
          "output_type": "stream",
          "name": "stdout",
          "text": [
            "Train loss: 0.12192004919052124\tVal loss: 0.12052889168262482\tTrain acc: 96.60506063432835\tVal acc: 98.7222326807229\n"
          ]
        },
        {
          "output_type": "stream",
          "name": "stderr",
          "text": [
            "100%|██████████| 2/2 [00:00<00:00,  7.95it/s]\n",
            "100%|██████████| 3/3 [00:00<00:00, 12.89it/s]\n"
          ]
        },
        {
          "output_type": "stream",
          "name": "stdout",
          "text": [
            "########## Epoch 24\n"
          ]
        },
        {
          "output_type": "stream",
          "name": "stderr",
          "text": [
            "100%|██████████| 10/10 [00:00<00:00, 12.19it/s]\n",
            "100%|██████████| 4/4 [00:00<00:00, 16.57it/s]\n"
          ]
        },
        {
          "output_type": "stream",
          "name": "stdout",
          "text": [
            "Train loss: 0.11317206919193268\tVal loss: 0.11235924065113068\tTrain acc: 97.65625\tVal acc: 98.9175451807229\n"
          ]
        },
        {
          "output_type": "stream",
          "name": "stderr",
          "text": [
            "100%|██████████| 2/2 [00:00<00:00,  9.09it/s]\n",
            "100%|██████████| 3/3 [00:00<00:00, 13.53it/s]\n"
          ]
        },
        {
          "output_type": "stream",
          "name": "stdout",
          "text": [
            "########## Epoch 0\n"
          ]
        },
        {
          "output_type": "stream",
          "name": "stderr",
          "text": [
            "100%|██████████| 6/6 [00:00<00:00, 10.38it/s]\n",
            "100%|██████████| 6/6 [00:00<00:00, 22.83it/s]\n"
          ]
        },
        {
          "output_type": "stream",
          "name": "stdout",
          "text": [
            "Train loss: 1.8257206678390503\tVal loss: 0.6721764206886292\tTrain acc: 53.651685393258425\tVal acc: 76.30208333333333\n"
          ]
        },
        {
          "output_type": "stream",
          "name": "stderr",
          "text": [
            "100%|██████████| 2/2 [00:00<00:00,  8.71it/s]\n",
            "100%|██████████| 3/3 [00:00<00:00, 12.06it/s]\n",
            "100%|██████████| 2/2 [00:00<00:00,  8.84it/s]\n"
          ]
        },
        {
          "output_type": "stream",
          "name": "stdout",
          "text": [
            "########## Epoch 1\n"
          ]
        },
        {
          "output_type": "stream",
          "name": "stderr",
          "text": [
            "100%|██████████| 6/6 [00:00<00:00,  9.67it/s]\n",
            "100%|██████████| 6/6 [00:00<00:00, 23.69it/s]\n"
          ]
        },
        {
          "output_type": "stream",
          "name": "stdout",
          "text": [
            "Train loss: 0.9221818447113037\tVal loss: 0.3943517506122589\tTrain acc: 58.388927902621724\tVal acc: 84.375\n"
          ]
        },
        {
          "output_type": "stream",
          "name": "stderr",
          "text": [
            "100%|██████████| 2/2 [00:00<00:00,  8.63it/s]\n",
            "100%|██████████| 3/3 [00:00<00:00, 13.09it/s]\n",
            "100%|██████████| 2/2 [00:00<00:00,  8.92it/s]\n"
          ]
        },
        {
          "output_type": "stream",
          "name": "stdout",
          "text": [
            "########## Epoch 2\n"
          ]
        },
        {
          "output_type": "stream",
          "name": "stderr",
          "text": [
            "100%|██████████| 6/6 [00:00<00:00, 10.04it/s]\n",
            "100%|██████████| 6/6 [00:00<00:00, 22.39it/s]\n"
          ]
        },
        {
          "output_type": "stream",
          "name": "stdout",
          "text": [
            "Train loss: 0.5389581322669983\tVal loss: 0.24793130159378052\tTrain acc: 73.48943703183521\tVal acc: 90.49479166666667\n"
          ]
        },
        {
          "output_type": "stream",
          "name": "stderr",
          "text": [
            "100%|██████████| 2/2 [00:00<00:00,  8.69it/s]\n",
            "100%|██████████| 3/3 [00:00<00:00, 12.90it/s]\n",
            "100%|██████████| 2/2 [00:00<00:00,  9.10it/s]\n"
          ]
        },
        {
          "output_type": "stream",
          "name": "stdout",
          "text": [
            "########## Epoch 3\n"
          ]
        },
        {
          "output_type": "stream",
          "name": "stderr",
          "text": [
            "100%|██████████| 6/6 [00:00<00:00, 10.02it/s]\n",
            "100%|██████████| 6/6 [00:00<00:00, 23.16it/s]\n"
          ]
        },
        {
          "output_type": "stream",
          "name": "stdout",
          "text": [
            "Train loss: 0.31714990735054016\tVal loss: 0.15972881019115448\tTrain acc: 86.36835791198502\tVal acc: 94.79166666666667\n"
          ]
        },
        {
          "output_type": "stream",
          "name": "stderr",
          "text": [
            "100%|██████████| 2/2 [00:00<00:00,  9.35it/s]\n",
            "100%|██████████| 3/3 [00:00<00:00, 12.74it/s]\n",
            "100%|██████████| 2/2 [00:00<00:00,  8.78it/s]\n"
          ]
        },
        {
          "output_type": "stream",
          "name": "stdout",
          "text": [
            "########## Epoch 4\n"
          ]
        },
        {
          "output_type": "stream",
          "name": "stderr",
          "text": [
            "100%|██████████| 6/6 [00:00<00:00, 10.10it/s]\n",
            "100%|██████████| 6/6 [00:00<00:00, 21.61it/s]\n"
          ]
        },
        {
          "output_type": "stream",
          "name": "stdout",
          "text": [
            "Train loss: 0.20118826627731323\tVal loss: 0.1595594733953476\tTrain acc: 92.08947799625469\tVal acc: 95.44270833333333\n"
          ]
        },
        {
          "output_type": "stream",
          "name": "stderr",
          "text": [
            "100%|██████████| 2/2 [00:00<00:00,  9.08it/s]\n",
            "100%|██████████| 3/3 [00:00<00:00, 13.34it/s]\n",
            "100%|██████████| 2/2 [00:00<00:00,  8.61it/s]\n"
          ]
        },
        {
          "output_type": "stream",
          "name": "stdout",
          "text": [
            "########## Epoch 5\n"
          ]
        },
        {
          "output_type": "stream",
          "name": "stderr",
          "text": [
            "100%|██████████| 6/6 [00:00<00:00, 10.38it/s]\n",
            "100%|██████████| 6/6 [00:00<00:00, 22.83it/s]\n"
          ]
        },
        {
          "output_type": "stream",
          "name": "stdout",
          "text": [
            "Train loss: 0.1657116562128067\tVal loss: 0.201167032122612\tTrain acc: 93.63588483146067\tVal acc: 92.05729166666667\n"
          ]
        },
        {
          "output_type": "stream",
          "name": "stderr",
          "text": [
            "100%|██████████| 2/2 [00:00<00:00,  8.84it/s]\n",
            "100%|██████████| 3/3 [00:00<00:00, 12.29it/s]\n",
            "100%|██████████| 2/2 [00:00<00:00,  8.68it/s]\n"
          ]
        },
        {
          "output_type": "stream",
          "name": "stdout",
          "text": [
            "########## Epoch 6\n"
          ]
        },
        {
          "output_type": "stream",
          "name": "stderr",
          "text": [
            "100%|██████████| 6/6 [00:00<00:00,  9.95it/s]\n",
            "100%|██████████| 6/6 [00:00<00:00, 21.52it/s]\n"
          ]
        },
        {
          "output_type": "stream",
          "name": "stdout",
          "text": [
            "Train loss: 0.14774613082408905\tVal loss: 0.16269837319850922\tTrain acc: 94.77118445692884\tVal acc: 92.83854166666667\n"
          ]
        },
        {
          "output_type": "stream",
          "name": "stderr",
          "text": [
            "100%|██████████| 2/2 [00:00<00:00,  8.89it/s]\n",
            "100%|██████████| 3/3 [00:00<00:00, 12.93it/s]\n",
            "100%|██████████| 2/2 [00:00<00:00,  9.09it/s]\n"
          ]
        },
        {
          "output_type": "stream",
          "name": "stdout",
          "text": [
            "########## Epoch 7\n"
          ]
        },
        {
          "output_type": "stream",
          "name": "stderr",
          "text": [
            "100%|██████████| 6/6 [00:00<00:00,  9.99it/s]\n",
            "100%|██████████| 6/6 [00:00<00:00, 22.43it/s]\n"
          ]
        },
        {
          "output_type": "stream",
          "name": "stdout",
          "text": [
            "Train loss: 0.13286378979682922\tVal loss: 0.10553576797246933\tTrain acc: 96.18299391385767\tVal acc: 97.91666666666667\n"
          ]
        },
        {
          "output_type": "stream",
          "name": "stderr",
          "text": [
            "100%|██████████| 2/2 [00:00<00:00,  9.13it/s]\n",
            "100%|██████████| 3/3 [00:00<00:00, 12.88it/s]\n",
            "100%|██████████| 2/2 [00:00<00:00,  8.73it/s]\n"
          ]
        },
        {
          "output_type": "stream",
          "name": "stdout",
          "text": [
            "########## Epoch 8\n"
          ]
        },
        {
          "output_type": "stream",
          "name": "stderr",
          "text": [
            "100%|██████████| 6/6 [00:00<00:00, 10.11it/s]\n",
            "100%|██████████| 6/6 [00:00<00:00, 22.64it/s]\n"
          ]
        },
        {
          "output_type": "stream",
          "name": "stdout",
          "text": [
            "Train loss: 0.12328539043664932\tVal loss: 0.10174325853586197\tTrain acc: 96.89109316479401\tVal acc: 98.56770833333333\n"
          ]
        },
        {
          "output_type": "stream",
          "name": "stderr",
          "text": [
            "100%|██████████| 2/2 [00:00<00:00,  9.04it/s]\n",
            "100%|██████████| 3/3 [00:00<00:00, 12.83it/s]\n",
            "100%|██████████| 2/2 [00:00<00:00,  8.46it/s]\n"
          ]
        },
        {
          "output_type": "stream",
          "name": "stdout",
          "text": [
            "########## Epoch 9\n"
          ]
        },
        {
          "output_type": "stream",
          "name": "stderr",
          "text": [
            "100%|██████████| 6/6 [00:00<00:00, 10.44it/s]\n",
            "100%|██████████| 6/6 [00:00<00:00, 23.07it/s]\n"
          ]
        },
        {
          "output_type": "stream",
          "name": "stdout",
          "text": [
            "Train loss: 0.10993748158216476\tVal loss: 0.10538064688444138\tTrain acc: 97.76597612359551\tVal acc: 98.69791666666667\n"
          ]
        },
        {
          "output_type": "stream",
          "name": "stderr",
          "text": [
            "100%|██████████| 2/2 [00:00<00:00,  8.48it/s]\n",
            "100%|██████████| 3/3 [00:00<00:00, 12.90it/s]\n",
            "100%|██████████| 2/2 [00:00<00:00,  9.03it/s]\n"
          ]
        },
        {
          "output_type": "stream",
          "name": "stdout",
          "text": [
            "########## Epoch 10\n"
          ]
        },
        {
          "output_type": "stream",
          "name": "stderr",
          "text": [
            "100%|██████████| 6/6 [00:00<00:00, 10.05it/s]\n",
            "100%|██████████| 6/6 [00:00<00:00, 22.69it/s]\n"
          ]
        },
        {
          "output_type": "stream",
          "name": "stdout",
          "text": [
            "Train loss: 0.10316746681928635\tVal loss: 0.08761662244796753\tTrain acc: 98.25023408239701\tVal acc: 98.69791666666667\n"
          ]
        },
        {
          "output_type": "stream",
          "name": "stderr",
          "text": [
            "100%|██████████| 2/2 [00:00<00:00,  9.35it/s]\n",
            "100%|██████████| 3/3 [00:00<00:00, 12.99it/s]\n",
            "100%|██████████| 2/2 [00:00<00:00,  8.56it/s]\n"
          ]
        },
        {
          "output_type": "stream",
          "name": "stdout",
          "text": [
            "########## Epoch 11\n"
          ]
        },
        {
          "output_type": "stream",
          "name": "stderr",
          "text": [
            "100%|██████████| 6/6 [00:00<00:00, 10.06it/s]\n",
            "100%|██████████| 6/6 [00:00<00:00, 21.11it/s]\n"
          ]
        },
        {
          "output_type": "stream",
          "name": "stdout",
          "text": [
            "Train loss: 0.09526865929365158\tVal loss: 0.08480630069971085\tTrain acc: 98.31533824906369\tVal acc: 98.828125\n"
          ]
        },
        {
          "output_type": "stream",
          "name": "stderr",
          "text": [
            "100%|██████████| 2/2 [00:00<00:00,  9.45it/s]\n",
            "100%|██████████| 3/3 [00:00<00:00, 12.55it/s]\n",
            "100%|██████████| 2/2 [00:00<00:00,  9.44it/s]\n"
          ]
        },
        {
          "output_type": "stream",
          "name": "stdout",
          "text": [
            "########## Epoch 12\n"
          ]
        },
        {
          "output_type": "stream",
          "name": "stderr",
          "text": [
            "100%|██████████| 6/6 [00:00<00:00,  9.84it/s]\n",
            "100%|██████████| 6/6 [00:00<00:00, 22.76it/s]\n"
          ]
        },
        {
          "output_type": "stream",
          "name": "stdout",
          "text": [
            "Train loss: 0.08821675926446915\tVal loss: 0.07710065692663193\tTrain acc: 98.57575491573034\tVal acc: 98.828125\n"
          ]
        },
        {
          "output_type": "stream",
          "name": "stderr",
          "text": [
            "100%|██████████| 2/2 [00:00<00:00,  8.74it/s]\n",
            "100%|██████████| 3/3 [00:00<00:00, 12.53it/s]\n",
            "100%|██████████| 2/2 [00:00<00:00,  8.96it/s]\n"
          ]
        },
        {
          "output_type": "stream",
          "name": "stdout",
          "text": [
            "########## Epoch 13\n"
          ]
        },
        {
          "output_type": "stream",
          "name": "stderr",
          "text": [
            "100%|██████████| 6/6 [00:00<00:00, 10.07it/s]\n",
            "100%|██████████| 6/6 [00:00<00:00, 21.90it/s]\n"
          ]
        },
        {
          "output_type": "stream",
          "name": "stdout",
          "text": [
            "Train loss: 0.08178213238716125\tVal loss: 0.09922168403863907\tTrain acc: 98.69791666666667\tVal acc: 98.828125\n"
          ]
        },
        {
          "output_type": "stream",
          "name": "stderr",
          "text": [
            "100%|██████████| 2/2 [00:00<00:00,  8.89it/s]\n",
            "100%|██████████| 3/3 [00:00<00:00, 13.01it/s]\n",
            "100%|██████████| 2/2 [00:00<00:00,  9.02it/s]\n"
          ]
        },
        {
          "output_type": "stream",
          "name": "stdout",
          "text": [
            "########## Epoch 14\n"
          ]
        },
        {
          "output_type": "stream",
          "name": "stderr",
          "text": [
            "100%|██████████| 6/6 [00:00<00:00,  9.93it/s]\n",
            "100%|██████████| 6/6 [00:00<00:00, 22.43it/s]\n"
          ]
        },
        {
          "output_type": "stream",
          "name": "stdout",
          "text": [
            "Train loss: 0.07732131332159042\tVal loss: 0.20179052650928497\tTrain acc: 98.73449204119851\tVal acc: 94.79166666666667\n"
          ]
        },
        {
          "output_type": "stream",
          "name": "stderr",
          "text": [
            "100%|██████████| 2/2 [00:00<00:00,  8.46it/s]\n",
            "100%|██████████| 3/3 [00:00<00:00, 12.81it/s]\n",
            "100%|██████████| 2/2 [00:00<00:00,  8.98it/s]\n"
          ]
        },
        {
          "output_type": "stream",
          "name": "stdout",
          "text": [
            "########## Epoch 15\n"
          ]
        },
        {
          "output_type": "stream",
          "name": "stderr",
          "text": [
            "100%|██████████| 6/6 [00:00<00:00,  9.82it/s]\n",
            "100%|██████████| 6/6 [00:00<00:00, 21.39it/s]\n"
          ]
        },
        {
          "output_type": "stream",
          "name": "stdout",
          "text": [
            "Train loss: 0.07367783039808273\tVal loss: 0.07469228655099869\tTrain acc: 98.70596324906369\tVal acc: 98.828125\n"
          ]
        },
        {
          "output_type": "stream",
          "name": "stderr",
          "text": [
            "100%|██████████| 2/2 [00:00<00:00,  8.83it/s]\n",
            "100%|██████████| 3/3 [00:00<00:00, 12.80it/s]\n",
            "100%|██████████| 2/2 [00:00<00:00,  8.49it/s]\n"
          ]
        },
        {
          "output_type": "stream",
          "name": "stdout",
          "text": [
            "########## Epoch 16\n"
          ]
        },
        {
          "output_type": "stream",
          "name": "stderr",
          "text": [
            "100%|██████████| 6/6 [00:00<00:00,  9.97it/s]\n",
            "100%|██████████| 6/6 [00:00<00:00, 22.27it/s]\n"
          ]
        },
        {
          "output_type": "stream",
          "name": "stdout",
          "text": [
            "Train loss: 0.07010630518198013\tVal loss: 0.06721760332584381\tTrain acc: 98.83617158239701\tVal acc: 98.828125\n"
          ]
        },
        {
          "output_type": "stream",
          "name": "stderr",
          "text": [
            "100%|██████████| 2/2 [00:00<00:00,  8.60it/s]\n",
            "100%|██████████| 3/3 [00:00<00:00, 12.25it/s]\n",
            "100%|██████████| 2/2 [00:00<00:00,  8.85it/s]\n"
          ]
        },
        {
          "output_type": "stream",
          "name": "stdout",
          "text": [
            "########## Epoch 17\n"
          ]
        },
        {
          "output_type": "stream",
          "name": "stderr",
          "text": [
            "100%|██████████| 6/6 [00:00<00:00, 10.11it/s]\n",
            "100%|██████████| 6/6 [00:00<00:00, 21.77it/s]\n"
          ]
        },
        {
          "output_type": "stream",
          "name": "stdout",
          "text": [
            "Train loss: 0.06741888076066971\tVal loss: 0.08856285363435745\tTrain acc: 98.80764279026216\tVal acc: 98.828125\n"
          ]
        },
        {
          "output_type": "stream",
          "name": "stderr",
          "text": [
            "100%|██████████| 2/2 [00:00<00:00,  7.98it/s]\n",
            "100%|██████████| 3/3 [00:00<00:00, 11.43it/s]\n",
            "100%|██████████| 2/2 [00:00<00:00,  8.99it/s]\n"
          ]
        },
        {
          "output_type": "stream",
          "name": "stdout",
          "text": [
            "########## Epoch 18\n"
          ]
        },
        {
          "output_type": "stream",
          "name": "stderr",
          "text": [
            "100%|██████████| 6/6 [00:00<00:00, 10.16it/s]\n",
            "100%|██████████| 6/6 [00:00<00:00, 21.97it/s]\n"
          ]
        },
        {
          "output_type": "stream",
          "name": "stdout",
          "text": [
            "Train loss: 0.06202461197972298\tVal loss: 0.07692337036132812\tTrain acc: 98.89322916666667\tVal acc: 98.828125\n"
          ]
        },
        {
          "output_type": "stream",
          "name": "stderr",
          "text": [
            "100%|██████████| 2/2 [00:00<00:00,  8.63it/s]\n",
            "100%|██████████| 3/3 [00:00<00:00, 12.72it/s]\n",
            "100%|██████████| 2/2 [00:00<00:00,  8.84it/s]\n"
          ]
        },
        {
          "output_type": "stream",
          "name": "stdout",
          "text": [
            "########## Epoch 19\n"
          ]
        },
        {
          "output_type": "stream",
          "name": "stderr",
          "text": [
            "100%|██████████| 6/6 [00:00<00:00,  9.74it/s]\n",
            "100%|██████████| 6/6 [00:00<00:00, 21.91it/s]\n"
          ]
        },
        {
          "output_type": "stream",
          "name": "stdout",
          "text": [
            "Train loss: 0.061161208897829056\tVal loss: 0.06755362451076508\tTrain acc: 98.99490870786518\tVal acc: 98.828125\n"
          ]
        },
        {
          "output_type": "stream",
          "name": "stderr",
          "text": [
            "100%|██████████| 2/2 [00:00<00:00,  8.27it/s]\n",
            "100%|██████████| 3/3 [00:00<00:00, 12.38it/s]\n",
            "100%|██████████| 2/2 [00:00<00:00,  8.66it/s]\n"
          ]
        },
        {
          "output_type": "stream",
          "name": "stdout",
          "text": [
            "########## Epoch 20\n"
          ]
        },
        {
          "output_type": "stream",
          "name": "stderr",
          "text": [
            "100%|██████████| 6/6 [00:00<00:00, 10.08it/s]\n",
            "100%|██████████| 6/6 [00:00<00:00, 23.02it/s]\n"
          ]
        },
        {
          "output_type": "stream",
          "name": "stdout",
          "text": [
            "Train loss: 0.0588756687939167\tVal loss: 0.06961521506309509\tTrain acc: 98.99490870786518\tVal acc: 98.95833333333333\n"
          ]
        },
        {
          "output_type": "stream",
          "name": "stderr",
          "text": [
            "100%|██████████| 2/2 [00:00<00:00,  9.19it/s]\n",
            "100%|██████████| 3/3 [00:00<00:00, 12.74it/s]\n",
            "100%|██████████| 2/2 [00:00<00:00,  8.35it/s]\n"
          ]
        },
        {
          "output_type": "stream",
          "name": "stdout",
          "text": [
            "########## Epoch 21\n"
          ]
        },
        {
          "output_type": "stream",
          "name": "stderr",
          "text": [
            "100%|██████████| 6/6 [00:00<00:00, 10.25it/s]\n",
            "100%|██████████| 6/6 [00:00<00:00, 22.33it/s]\n"
          ]
        },
        {
          "output_type": "stream",
          "name": "stdout",
          "text": [
            "Train loss: 0.05682782456278801\tVal loss: 0.06254374235868454\tTrain acc: 99.08854166666667\tVal acc: 98.95833333333333\n"
          ]
        },
        {
          "output_type": "stream",
          "name": "stderr",
          "text": [
            "100%|██████████| 2/2 [00:00<00:00,  8.82it/s]\n",
            "100%|██████████| 3/3 [00:00<00:00, 12.82it/s]\n",
            "100%|██████████| 2/2 [00:00<00:00,  9.12it/s]\n"
          ]
        },
        {
          "output_type": "stream",
          "name": "stdout",
          "text": [
            "########## Epoch 22\n"
          ]
        },
        {
          "output_type": "stream",
          "name": "stderr",
          "text": [
            "100%|██████████| 6/6 [00:00<00:00, 10.40it/s]\n",
            "100%|██████████| 6/6 [00:00<00:00, 21.66it/s]\n"
          ]
        },
        {
          "output_type": "stream",
          "name": "stdout",
          "text": [
            "Train loss: 0.05576787516474724\tVal loss: 0.05945020914077759\tTrain acc: 99.06001287453184\tVal acc: 98.95833333333333\n"
          ]
        },
        {
          "output_type": "stream",
          "name": "stderr",
          "text": [
            "100%|██████████| 2/2 [00:00<00:00,  8.86it/s]\n",
            "100%|██████████| 3/3 [00:00<00:00, 12.24it/s]\n",
            "100%|██████████| 2/2 [00:00<00:00,  8.66it/s]\n"
          ]
        },
        {
          "output_type": "stream",
          "name": "stdout",
          "text": [
            "########## Epoch 23\n"
          ]
        },
        {
          "output_type": "stream",
          "name": "stderr",
          "text": [
            "100%|██████████| 6/6 [00:00<00:00, 10.46it/s]\n",
            "100%|██████████| 6/6 [00:00<00:00, 22.14it/s]\n"
          ]
        },
        {
          "output_type": "stream",
          "name": "stdout",
          "text": [
            "Train loss: 0.055885206907987595\tVal loss: 0.058200765401124954\tTrain acc: 99.03148408239701\tVal acc: 99.08854166666667\n"
          ]
        },
        {
          "output_type": "stream",
          "name": "stderr",
          "text": [
            "100%|██████████| 2/2 [00:00<00:00,  8.91it/s]\n",
            "100%|██████████| 3/3 [00:00<00:00, 12.33it/s]\n",
            "100%|██████████| 2/2 [00:00<00:00,  8.39it/s]\n"
          ]
        },
        {
          "output_type": "stream",
          "name": "stdout",
          "text": [
            "########## Epoch 24\n"
          ]
        },
        {
          "output_type": "stream",
          "name": "stderr",
          "text": [
            "100%|██████████| 6/6 [00:00<00:00,  9.69it/s]\n",
            "100%|██████████| 6/6 [00:00<00:00, 20.82it/s]\n"
          ]
        },
        {
          "output_type": "stream",
          "name": "stdout",
          "text": [
            "Train loss: 0.05283380672335625\tVal loss: 0.05707477033138275\tTrain acc: 99.03148408239701\tVal acc: 99.08854166666667\n"
          ]
        },
        {
          "output_type": "stream",
          "name": "stderr",
          "text": [
            "100%|██████████| 2/2 [00:00<00:00,  8.85it/s]\n",
            "100%|██████████| 3/3 [00:00<00:00, 12.28it/s]\n",
            "100%|██████████| 2/2 [00:00<00:00,  8.45it/s]\n"
          ]
        },
        {
          "output_type": "display_data",
          "data": {
            "text/plain": [
              "<IPython.core.display.HTML object>"
            ],
            "text/html": [
              "Waiting for W&B process to finish... <strong style=\"color:green\">(success).</strong>"
            ]
          },
          "metadata": {}
        },
        {
          "output_type": "display_data",
          "data": {
            "text/plain": [
              "VBox(children=(Label(value='0.000 MB of 0.000 MB uploaded (0.000 MB deduped)\\r'), FloatProgress(value=1.0, max…"
            ],
            "application/vnd.jupyter.widget-view+json": {
              "version_major": 2,
              "version_minor": 0,
              "model_id": "b63c44d593274badb2a9fdf036a9227c"
            }
          },
          "metadata": {}
        },
        {
          "output_type": "display_data",
          "data": {
            "text/plain": [
              "<IPython.core.display.HTML object>"
            ],
            "text/html": [
              "<style>\n",
              "    table.wandb td:nth-child(1) { padding: 0 10px; text-align: left ; width: auto;} td:nth-child(2) {text-align: left ; width: 100%}\n",
              "    .wandb-row { display: flex; flex-direction: row; flex-wrap: wrap; justify-content: flex-start; width: 100% }\n",
              "    .wandb-col { display: flex; flex-direction: column; flex-basis: 100%; flex: 1; padding: 10px; }\n",
              "    </style>\n",
              "<div class=\"wandb-row\"><div class=\"wandb-col\"><h3>Run history:</h3><br/><table class=\"wandb\"><tr><td>task_0_prevtask_0_val_acc</td><td>▁▆▅▆▆████████████████████</td></tr><tr><td>task_0_prevtask_0_val_loss</td><td>█▇▅▄▃▂▁▁▁▁▁▁▁▁▁▁▁▁▁▁▁▁▁▁▁</td></tr><tr><td>task_0_train_acc</td><td>▁▁▅▅▅▇███████████████████</td></tr><tr><td>task_0_train_loss</td><td>█▅▄▃▃▂▁▁▁▁▁▁▁▁▁▁▁▁▁▁▁▁▁▁▁</td></tr><tr><td>task_0_val_acc</td><td>▁▆▅▅▆████████████████████</td></tr><tr><td>task_0_val_loss</td><td>█▇▅▅▃▂▁▁▁▁▁▁▁▁▁▁▁▁▁▁▁▁▁▁▁</td></tr><tr><td>task_1_prevtask_0_val_acc</td><td>▁██▁█▁▁█▁▁██▁██▁████▁█▁██</td></tr><tr><td>task_1_prevtask_0_val_loss</td><td>▇▁▁▄▁▄▄▁▅▆▂▂▇▂▂█▂▂▃▂█▃█▃▃</td></tr><tr><td>task_1_prevtask_1_val_acc</td><td>▁▁▁▁▁▁▁▃▆▇▇▇▇▇▇▇▇▇▇▇▇▇███</td></tr><tr><td>task_1_prevtask_1_val_loss</td><td>█▇▆▅▄▄▃▂▂▂▁▁▁▁▁▁▁▁▁▁▁▁▁▁▁</td></tr><tr><td>task_1_train_acc</td><td>▁▁▁▁▁▁▁▁▅▇▇▇▇▇▇▇▇▇▇▇▇▇▇██</td></tr><tr><td>task_1_train_loss</td><td>█▇▆▅▄▄▃▃▂▂▁▁▁▁▁▁▁▁▁▁▁▁▁▁▁</td></tr><tr><td>task_1_val_acc</td><td>▁▁▁▁▁▁▁▃▆▇▇▇▇▇▇▇▇▇▇▇▇▇███</td></tr><tr><td>task_1_val_loss</td><td>█▇▆▅▄▄▃▂▂▂▂▁▁▁▁▁▁▁▁▁▁▁▁▁▁</td></tr><tr><td>task_2_prevtask_0_val_acc</td><td>██▁███▁████▁██▁████████▁▁</td></tr><tr><td>task_2_prevtask_0_val_loss</td><td>▁▁▃▃▅▆█▆▅▅▅▇▄▄▇▄▄▄▄▄▄▄▃▇▆</td></tr><tr><td>task_2_prevtask_1_val_acc</td><td>▇▇▇▇▄▁▄▁▇▇▇▇▅▅▇▇▇▂▅▅▇▇▂▅█</td></tr><tr><td>task_2_prevtask_1_val_loss</td><td>█▆▅▅▅▇▄█▄▃▂▃▃▂▂▂▂▆▅▃▁▁▄▃▁</td></tr><tr><td>task_2_prevtask_2_val_acc</td><td>▁▄▅▇▇▇▇██████████████████</td></tr><tr><td>task_2_prevtask_2_val_loss</td><td>█▄▃▂▂▁▁▁▁▁▁▁▁▁▁▁▁▁▁▁▁▁▁▁▁</td></tr><tr><td>task_2_train_acc</td><td>▁▂▄▆▇▇▇██████████████████</td></tr><tr><td>task_2_train_loss</td><td>█▄▃▂▂▁▁▁▁▁▁▁▁▁▁▁▁▁▁▁▁▁▁▁▁</td></tr><tr><td>task_2_val_acc</td><td>▁▃▅▇▇▆▆███████▇██████████</td></tr><tr><td>task_2_val_loss</td><td>█▅▃▂▂▃▂▂▂▂▁▁▁▁▃▁▁▁▁▁▁▁▁▁▁</td></tr></table><br/></div><div class=\"wandb-col\"><h3>Run summary:</h3><br/><table class=\"wandb\"><tr><td>task_0_prevtask_0_val_acc</td><td>99.60938</td></tr><tr><td>task_0_prevtask_0_val_loss</td><td>0.01863</td></tr><tr><td>task_0_train_acc</td><td>99.73958</td></tr><tr><td>task_0_train_loss</td><td>0.00512</td></tr><tr><td>task_0_val_acc</td><td>99.60938</td></tr><tr><td>task_0_val_loss</td><td>0.0179</td></tr><tr><td>task_1_prevtask_0_val_acc</td><td>99.60938</td></tr><tr><td>task_1_prevtask_0_val_loss</td><td>0.02303</td></tr><tr><td>task_1_prevtask_1_val_acc</td><td>98.95833</td></tr><tr><td>task_1_prevtask_1_val_loss</td><td>0.15477</td></tr><tr><td>task_1_train_acc</td><td>97.65625</td></tr><tr><td>task_1_train_loss</td><td>0.11317</td></tr><tr><td>task_1_val_acc</td><td>98.91755</td></tr><tr><td>task_1_val_loss</td><td>0.11236</td></tr><tr><td>task_2_prevtask_0_val_acc</td><td>98.97959</td></tr><tr><td>task_2_prevtask_0_val_loss</td><td>0.056</td></tr><tr><td>task_2_prevtask_1_val_acc</td><td>99.21875</td></tr><tr><td>task_2_prevtask_1_val_loss</td><td>0.05067</td></tr><tr><td>task_2_prevtask_2_val_acc</td><td>96.93878</td></tr><tr><td>task_2_prevtask_2_val_loss</td><td>0.15314</td></tr><tr><td>task_2_train_acc</td><td>99.03148</td></tr><tr><td>task_2_train_loss</td><td>0.05283</td></tr><tr><td>task_2_val_acc</td><td>99.08854</td></tr><tr><td>task_2_val_loss</td><td>0.05707</td></tr></table><br/></div></div>"
            ]
          },
          "metadata": {}
        },
        {
          "output_type": "display_data",
          "data": {
            "text/plain": [
              "<IPython.core.display.HTML object>"
            ],
            "text/html": [
              "Synced <strong style=\"color:#cdcd00\">reservoir_yesno_imagecondition_roadcondition_20_09_22h55m18s_mul</strong>: <a href=\"https://wandb.ai/compyle/continual_vqa_final/runs/2pu0a6gt\" target=\"_blank\">https://wandb.ai/compyle/continual_vqa_final/runs/2pu0a6gt</a><br/>Synced 5 W&B file(s), 0 media file(s), 0 artifact file(s) and 0 other file(s)"
            ]
          },
          "metadata": {}
        },
        {
          "output_type": "display_data",
          "data": {
            "text/plain": [
              "<IPython.core.display.HTML object>"
            ],
            "text/html": [
              "Find logs at: <code>./wandb/run-20220920_225522-2pu0a6gt/logs</code>"
            ]
          },
          "metadata": {}
        },
        {
          "output_type": "display_data",
          "data": {
            "text/plain": [
              "<IPython.core.display.HTML object>"
            ],
            "text/html": [
              "Tracking run with wandb version 0.13.3"
            ]
          },
          "metadata": {}
        },
        {
          "output_type": "display_data",
          "data": {
            "text/plain": [
              "<IPython.core.display.HTML object>"
            ],
            "text/html": [
              "Run data is saved locally in <code>/content/wandb/run-20220920_225719-1dcp5pyi</code>"
            ]
          },
          "metadata": {}
        },
        {
          "output_type": "display_data",
          "data": {
            "text/plain": [
              "<IPython.core.display.HTML object>"
            ],
            "text/html": [
              "Syncing run <strong><a href=\"https://wandb.ai/compyle/continual_vqa_final/runs/1dcp5pyi\" target=\"_blank\">reservoir_yesno_roadcondition_imagecondition_20_09_22h57m19s_mul</a></strong> to <a href=\"https://wandb.ai/compyle/continual_vqa_final\" target=\"_blank\">Weights & Biases</a> (<a href=\"https://wandb.me/run\" target=\"_blank\">docs</a>)<br/>"
            ]
          },
          "metadata": {}
        },
        {
          "output_type": "stream",
          "name": "stdout",
          "text": [
            "########## Epoch 0\n"
          ]
        },
        {
          "output_type": "stream",
          "name": "stderr",
          "text": [
            "100%|██████████| 6/6 [00:00<00:00, 14.69it/s]\n",
            "100%|██████████| 2/2 [00:00<00:00,  8.66it/s]\n"
          ]
        },
        {
          "output_type": "stream",
          "name": "stdout",
          "text": [
            "Train loss: 1.0907400846481323\tVal loss: 0.6759333610534668\tTrain acc: 55.82149621212121\tVal acc: 57.27982954545455\n"
          ]
        },
        {
          "output_type": "stream",
          "name": "stderr",
          "text": [
            "100%|██████████| 2/2 [00:00<00:00,  8.60it/s]\n"
          ]
        },
        {
          "output_type": "stream",
          "name": "stdout",
          "text": [
            "########## Epoch 1\n"
          ]
        },
        {
          "output_type": "stream",
          "name": "stderr",
          "text": [
            "100%|██████████| 6/6 [00:00<00:00, 15.14it/s]\n",
            "100%|██████████| 2/2 [00:00<00:00,  8.56it/s]\n"
          ]
        },
        {
          "output_type": "stream",
          "name": "stdout",
          "text": [
            "Train loss: 0.6153736710548401\tVal loss: 0.547598659992218\tTrain acc: 66.89157196969697\tVal acc: 72.72727272727272\n"
          ]
        },
        {
          "output_type": "stream",
          "name": "stderr",
          "text": [
            "100%|██████████| 2/2 [00:00<00:00,  8.08it/s]\n"
          ]
        },
        {
          "output_type": "stream",
          "name": "stdout",
          "text": [
            "########## Epoch 2\n"
          ]
        },
        {
          "output_type": "stream",
          "name": "stderr",
          "text": [
            "100%|██████████| 6/6 [00:00<00:00, 14.90it/s]\n",
            "100%|██████████| 2/2 [00:00<00:00,  8.23it/s]\n"
          ]
        },
        {
          "output_type": "stream",
          "name": "stdout",
          "text": [
            "Train loss: 0.46984684467315674\tVal loss: 0.4265153408050537\tTrain acc: 82.33901515151514\tVal acc: 81.85369318181819\n"
          ]
        },
        {
          "output_type": "stream",
          "name": "stderr",
          "text": [
            "100%|██████████| 2/2 [00:00<00:00,  8.72it/s]\n"
          ]
        },
        {
          "output_type": "stream",
          "name": "stdout",
          "text": [
            "########## Epoch 3\n"
          ]
        },
        {
          "output_type": "stream",
          "name": "stderr",
          "text": [
            "100%|██████████| 6/6 [00:00<00:00, 15.39it/s]\n",
            "100%|██████████| 2/2 [00:00<00:00,  7.92it/s]\n"
          ]
        },
        {
          "output_type": "stream",
          "name": "stdout",
          "text": [
            "Train loss: 0.38664916157722473\tVal loss: 0.4075852036476135\tTrain acc: 81.39204545454545\tVal acc: 78.125\n"
          ]
        },
        {
          "output_type": "stream",
          "name": "stderr",
          "text": [
            "100%|██████████| 2/2 [00:00<00:00,  8.85it/s]\n"
          ]
        },
        {
          "output_type": "stream",
          "name": "stdout",
          "text": [
            "########## Epoch 4\n"
          ]
        },
        {
          "output_type": "stream",
          "name": "stderr",
          "text": [
            "100%|██████████| 6/6 [00:00<00:00, 14.80it/s]\n",
            "100%|██████████| 2/2 [00:00<00:00,  8.67it/s]\n"
          ]
        },
        {
          "output_type": "stream",
          "name": "stdout",
          "text": [
            "Train loss: 0.28040698170661926\tVal loss: 0.24773171544075012\tTrain acc: 84.77035984848486\tVal acc: 84.2684659090909\n"
          ]
        },
        {
          "output_type": "stream",
          "name": "stderr",
          "text": [
            "100%|██████████| 2/2 [00:00<00:00,  8.33it/s]\n"
          ]
        },
        {
          "output_type": "stream",
          "name": "stdout",
          "text": [
            "########## Epoch 5\n"
          ]
        },
        {
          "output_type": "stream",
          "name": "stderr",
          "text": [
            "100%|██████████| 6/6 [00:00<00:00, 15.55it/s]\n",
            "100%|██████████| 2/2 [00:00<00:00,  8.53it/s]\n"
          ]
        },
        {
          "output_type": "stream",
          "name": "stdout",
          "text": [
            "Train loss: 0.14721743762493134\tVal loss: 0.15038475394248962\tTrain acc: 95.7907196969697\tVal acc: 94.6377840909091\n"
          ]
        },
        {
          "output_type": "stream",
          "name": "stderr",
          "text": [
            "100%|██████████| 2/2 [00:00<00:00,  7.76it/s]\n"
          ]
        },
        {
          "output_type": "stream",
          "name": "stdout",
          "text": [
            "########## Epoch 6\n"
          ]
        },
        {
          "output_type": "stream",
          "name": "stderr",
          "text": [
            "100%|██████████| 6/6 [00:00<00:00, 15.24it/s]\n",
            "100%|██████████| 2/2 [00:00<00:00,  8.75it/s]\n"
          ]
        },
        {
          "output_type": "stream",
          "name": "stdout",
          "text": [
            "Train loss: 0.07383555918931961\tVal loss: 0.07553453743457794\tTrain acc: 97.78645833333333\tVal acc: 97.69176136363637\n"
          ]
        },
        {
          "output_type": "stream",
          "name": "stderr",
          "text": [
            "100%|██████████| 2/2 [00:00<00:00,  8.49it/s]\n"
          ]
        },
        {
          "output_type": "stream",
          "name": "stdout",
          "text": [
            "########## Epoch 7\n"
          ]
        },
        {
          "output_type": "stream",
          "name": "stderr",
          "text": [
            "100%|██████████| 6/6 [00:00<00:00, 14.87it/s]\n",
            "100%|██████████| 2/2 [00:00<00:00,  8.70it/s]\n"
          ]
        },
        {
          "output_type": "stream",
          "name": "stdout",
          "text": [
            "Train loss: 0.05168043076992035\tVal loss: 0.11378339678049088\tTrain acc: 98.69791666666667\tVal acc: 95.4190340909091\n"
          ]
        },
        {
          "output_type": "stream",
          "name": "stderr",
          "text": [
            "100%|██████████| 2/2 [00:00<00:00,  8.73it/s]\n"
          ]
        },
        {
          "output_type": "stream",
          "name": "stdout",
          "text": [
            "########## Epoch 8\n"
          ]
        },
        {
          "output_type": "stream",
          "name": "stderr",
          "text": [
            "100%|██████████| 6/6 [00:00<00:00, 15.11it/s]\n",
            "100%|██████████| 2/2 [00:00<00:00,  8.60it/s]\n"
          ]
        },
        {
          "output_type": "stream",
          "name": "stdout",
          "text": [
            "Train loss: 0.05606372281908989\tVal loss: 0.06556139141321182\tTrain acc: 98.26467803030305\tVal acc: 97.69176136363637\n"
          ]
        },
        {
          "output_type": "stream",
          "name": "stderr",
          "text": [
            "100%|██████████| 2/2 [00:00<00:00,  8.61it/s]\n"
          ]
        },
        {
          "output_type": "stream",
          "name": "stdout",
          "text": [
            "########## Epoch 9\n"
          ]
        },
        {
          "output_type": "stream",
          "name": "stderr",
          "text": [
            "100%|██████████| 6/6 [00:00<00:00, 15.09it/s]\n",
            "100%|██████████| 2/2 [00:00<00:00,  8.14it/s]\n"
          ]
        },
        {
          "output_type": "stream",
          "name": "stdout",
          "text": [
            "Train loss: 0.06018606945872307\tVal loss: 0.0841774046421051\tTrain acc: 98.74289772727273\tVal acc: 98.08238636363637\n"
          ]
        },
        {
          "output_type": "stream",
          "name": "stderr",
          "text": [
            "100%|██████████| 2/2 [00:00<00:00,  7.92it/s]\n"
          ]
        },
        {
          "output_type": "stream",
          "name": "stdout",
          "text": [
            "########## Epoch 10\n"
          ]
        },
        {
          "output_type": "stream",
          "name": "stderr",
          "text": [
            "100%|██████████| 6/6 [00:00<00:00, 14.93it/s]\n",
            "100%|██████████| 2/2 [00:00<00:00,  8.33it/s]\n"
          ]
        },
        {
          "output_type": "stream",
          "name": "stdout",
          "text": [
            "Train loss: 0.04136141762137413\tVal loss: 0.06404296308755875\tTrain acc: 99.04592803030305\tVal acc: 96.51988636363637\n"
          ]
        },
        {
          "output_type": "stream",
          "name": "stderr",
          "text": [
            "100%|██████████| 2/2 [00:00<00:00,  8.62it/s]\n"
          ]
        },
        {
          "output_type": "stream",
          "name": "stdout",
          "text": [
            "########## Epoch 11\n"
          ]
        },
        {
          "output_type": "stream",
          "name": "stderr",
          "text": [
            "100%|██████████| 6/6 [00:00<00:00, 14.94it/s]\n",
            "100%|██████████| 2/2 [00:00<00:00,  8.27it/s]\n"
          ]
        },
        {
          "output_type": "stream",
          "name": "stdout",
          "text": [
            "Train loss: 0.03435562178492546\tVal loss: 0.05539702624082565\tTrain acc: 99.21875\tVal acc: 98.828125\n"
          ]
        },
        {
          "output_type": "stream",
          "name": "stderr",
          "text": [
            "100%|██████████| 2/2 [00:00<00:00,  8.64it/s]\n"
          ]
        },
        {
          "output_type": "stream",
          "name": "stdout",
          "text": [
            "########## Epoch 12\n"
          ]
        },
        {
          "output_type": "stream",
          "name": "stderr",
          "text": [
            "100%|██████████| 6/6 [00:00<00:00, 15.44it/s]\n",
            "100%|██████████| 2/2 [00:00<00:00,  7.94it/s]\n"
          ]
        },
        {
          "output_type": "stream",
          "name": "stdout",
          "text": [
            "Train loss: 0.05169818922877312\tVal loss: 0.052713196724653244\tTrain acc: 99.00331439393939\tVal acc: 98.828125\n"
          ]
        },
        {
          "output_type": "stream",
          "name": "stderr",
          "text": [
            "100%|██████████| 2/2 [00:00<00:00,  8.52it/s]\n"
          ]
        },
        {
          "output_type": "stream",
          "name": "stdout",
          "text": [
            "########## Epoch 13\n"
          ]
        },
        {
          "output_type": "stream",
          "name": "stderr",
          "text": [
            "100%|██████████| 6/6 [00:00<00:00, 15.00it/s]\n",
            "100%|██████████| 2/2 [00:00<00:00,  7.86it/s]\n"
          ]
        },
        {
          "output_type": "stream",
          "name": "stdout",
          "text": [
            "Train loss: 0.03151225298643112\tVal loss: 0.07675875723361969\tTrain acc: 99.21875\tVal acc: 97.69176136363637\n"
          ]
        },
        {
          "output_type": "stream",
          "name": "stderr",
          "text": [
            "100%|██████████| 2/2 [00:00<00:00,  8.37it/s]\n"
          ]
        },
        {
          "output_type": "stream",
          "name": "stdout",
          "text": [
            "########## Epoch 14\n"
          ]
        },
        {
          "output_type": "stream",
          "name": "stderr",
          "text": [
            "100%|██████████| 6/6 [00:00<00:00, 15.41it/s]\n",
            "100%|██████████| 2/2 [00:00<00:00,  8.28it/s]\n"
          ]
        },
        {
          "output_type": "stream",
          "name": "stdout",
          "text": [
            "Train loss: 0.02116374485194683\tVal loss: 0.07395292073488235\tTrain acc: 99.609375\tVal acc: 97.33664772727272\n"
          ]
        },
        {
          "output_type": "stream",
          "name": "stderr",
          "text": [
            "100%|██████████| 2/2 [00:00<00:00,  7.91it/s]\n"
          ]
        },
        {
          "output_type": "stream",
          "name": "stdout",
          "text": [
            "########## Epoch 15\n"
          ]
        },
        {
          "output_type": "stream",
          "name": "stderr",
          "text": [
            "100%|██████████| 6/6 [00:00<00:00, 13.14it/s]\n",
            "100%|██████████| 2/2 [00:00<00:00,  5.78it/s]\n"
          ]
        },
        {
          "output_type": "stream",
          "name": "stdout",
          "text": [
            "Train loss: 0.01749604009091854\tVal loss: 0.04747258499264717\tTrain acc: 99.73958333333333\tVal acc: 98.4375\n"
          ]
        },
        {
          "output_type": "stream",
          "name": "stderr",
          "text": [
            "100%|██████████| 2/2 [00:00<00:00,  5.26it/s]\n"
          ]
        },
        {
          "output_type": "stream",
          "name": "stdout",
          "text": [
            "########## Epoch 16\n"
          ]
        },
        {
          "output_type": "stream",
          "name": "stderr",
          "text": [
            "100%|██████████| 6/6 [00:00<00:00,  9.57it/s]\n",
            "100%|██████████| 2/2 [00:00<00:00,  5.88it/s]\n"
          ]
        },
        {
          "output_type": "stream",
          "name": "stdout",
          "text": [
            "Train loss: 0.021157780662178993\tVal loss: 0.09308700263500214\tTrain acc: 99.56676136363637\tVal acc: 97.69176136363637\n"
          ]
        },
        {
          "output_type": "stream",
          "name": "stderr",
          "text": [
            "100%|██████████| 2/2 [00:00<00:00,  5.68it/s]\n"
          ]
        },
        {
          "output_type": "stream",
          "name": "stdout",
          "text": [
            "########## Epoch 17\n"
          ]
        },
        {
          "output_type": "stream",
          "name": "stderr",
          "text": [
            "100%|██████████| 6/6 [00:00<00:00,  9.85it/s]\n",
            "100%|██████████| 2/2 [00:00<00:00,  5.39it/s]\n"
          ]
        },
        {
          "output_type": "stream",
          "name": "stdout",
          "text": [
            "Train loss: 0.013383009470999241\tVal loss: 0.06942041963338852\tTrain acc: 99.86979166666667\tVal acc: 97.69176136363637\n"
          ]
        },
        {
          "output_type": "stream",
          "name": "stderr",
          "text": [
            "100%|██████████| 2/2 [00:00<00:00,  5.69it/s]\n"
          ]
        },
        {
          "output_type": "stream",
          "name": "stdout",
          "text": [
            "########## Epoch 18\n"
          ]
        },
        {
          "output_type": "stream",
          "name": "stderr",
          "text": [
            "100%|██████████| 6/6 [00:00<00:00,  9.49it/s]\n",
            "100%|██████████| 2/2 [00:00<00:00,  6.09it/s]\n"
          ]
        },
        {
          "output_type": "stream",
          "name": "stdout",
          "text": [
            "Train loss: 0.011883641593158245\tVal loss: 0.05060817301273346\tTrain acc: 99.86979166666667\tVal acc: 98.046875\n"
          ]
        },
        {
          "output_type": "stream",
          "name": "stderr",
          "text": [
            "100%|██████████| 2/2 [00:00<00:00,  8.59it/s]\n"
          ]
        },
        {
          "output_type": "stream",
          "name": "stdout",
          "text": [
            "########## Epoch 19\n"
          ]
        },
        {
          "output_type": "stream",
          "name": "stderr",
          "text": [
            "100%|██████████| 6/6 [00:00<00:00, 15.21it/s]\n",
            "100%|██████████| 2/2 [00:00<00:00,  8.62it/s]\n"
          ]
        },
        {
          "output_type": "stream",
          "name": "stdout",
          "text": [
            "Train loss: 0.007626289036124945\tVal loss: 0.13961948454380035\tTrain acc: 99.86979166666667\tVal acc: 96.2002840909091\n"
          ]
        },
        {
          "output_type": "stream",
          "name": "stderr",
          "text": [
            "100%|██████████| 2/2 [00:00<00:00,  8.41it/s]\n"
          ]
        },
        {
          "output_type": "stream",
          "name": "stdout",
          "text": [
            "########## Epoch 20\n"
          ]
        },
        {
          "output_type": "stream",
          "name": "stderr",
          "text": [
            "100%|██████████| 6/6 [00:00<00:00, 14.22it/s]\n",
            "100%|██████████| 2/2 [00:00<00:00,  8.31it/s]\n"
          ]
        },
        {
          "output_type": "stream",
          "name": "stdout",
          "text": [
            "Train loss: 0.012971233576536179\tVal loss: 0.0660184994339943\tTrain acc: 99.6969696969697\tVal acc: 98.4375\n"
          ]
        },
        {
          "output_type": "stream",
          "name": "stderr",
          "text": [
            "100%|██████████| 2/2 [00:00<00:00,  8.15it/s]\n"
          ]
        },
        {
          "output_type": "stream",
          "name": "stdout",
          "text": [
            "########## Epoch 21\n"
          ]
        },
        {
          "output_type": "stream",
          "name": "stderr",
          "text": [
            "100%|██████████| 6/6 [00:00<00:00, 14.56it/s]\n",
            "100%|██████████| 2/2 [00:00<00:00,  8.51it/s]\n"
          ]
        },
        {
          "output_type": "stream",
          "name": "stdout",
          "text": [
            "Train loss: 0.006473792251199484\tVal loss: 0.06092146039009094\tTrain acc: 99.86979166666667\tVal acc: 98.4375\n"
          ]
        },
        {
          "output_type": "stream",
          "name": "stderr",
          "text": [
            "100%|██████████| 2/2 [00:00<00:00,  8.24it/s]\n"
          ]
        },
        {
          "output_type": "stream",
          "name": "stdout",
          "text": [
            "########## Epoch 22\n"
          ]
        },
        {
          "output_type": "stream",
          "name": "stderr",
          "text": [
            "100%|██████████| 6/6 [00:00<00:00, 13.98it/s]\n",
            "100%|██████████| 2/2 [00:00<00:00,  8.21it/s]\n"
          ]
        },
        {
          "output_type": "stream",
          "name": "stdout",
          "text": [
            "Train loss: 0.005585109815001488\tVal loss: 0.0704159289598465\tTrain acc: 99.86979166666667\tVal acc: 97.30113636363637\n"
          ]
        },
        {
          "output_type": "stream",
          "name": "stderr",
          "text": [
            "100%|██████████| 2/2 [00:00<00:00,  8.46it/s]\n"
          ]
        },
        {
          "output_type": "stream",
          "name": "stdout",
          "text": [
            "########## Epoch 23\n"
          ]
        },
        {
          "output_type": "stream",
          "name": "stderr",
          "text": [
            "100%|██████████| 6/6 [00:00<00:00, 14.44it/s]\n",
            "100%|██████████| 2/2 [00:00<00:00,  7.46it/s]\n"
          ]
        },
        {
          "output_type": "stream",
          "name": "stdout",
          "text": [
            "Train loss: 0.006694843526929617\tVal loss: 0.1599568873643875\tTrain acc: 99.73958333333333\tVal acc: 97.69176136363637\n"
          ]
        },
        {
          "output_type": "stream",
          "name": "stderr",
          "text": [
            "100%|██████████| 2/2 [00:00<00:00,  8.48it/s]\n"
          ]
        },
        {
          "output_type": "stream",
          "name": "stdout",
          "text": [
            "########## Epoch 24\n"
          ]
        },
        {
          "output_type": "stream",
          "name": "stderr",
          "text": [
            "100%|██████████| 6/6 [00:00<00:00, 14.17it/s]\n",
            "100%|██████████| 2/2 [00:00<00:00,  8.43it/s]\n"
          ]
        },
        {
          "output_type": "stream",
          "name": "stdout",
          "text": [
            "Train loss: 0.002267619827762246\tVal loss: 0.11530307680368423\tTrain acc: 100.0\tVal acc: 97.69176136363637\n"
          ]
        },
        {
          "output_type": "stream",
          "name": "stderr",
          "text": [
            "100%|██████████| 2/2 [00:00<00:00,  8.20it/s]\n"
          ]
        },
        {
          "output_type": "stream",
          "name": "stdout",
          "text": [
            "########## Epoch 0\n"
          ]
        },
        {
          "output_type": "stream",
          "name": "stderr",
          "text": [
            "100%|██████████| 6/6 [00:00<00:00,  8.79it/s]\n",
            "100%|██████████| 3/3 [00:00<00:00, 11.59it/s]\n"
          ]
        },
        {
          "output_type": "stream",
          "name": "stdout",
          "text": [
            "Train loss: 5.544677734375\tVal loss: 5.375912189483643\tTrain acc: 53.32422586520948\tVal acc: 48.34280303030303\n"
          ]
        },
        {
          "output_type": "stream",
          "name": "stderr",
          "text": [
            "100%|██████████| 2/2 [00:00<00:00,  8.51it/s]\n",
            "100%|██████████| 2/2 [00:00<00:00,  7.64it/s]\n"
          ]
        },
        {
          "output_type": "stream",
          "name": "stdout",
          "text": [
            "########## Epoch 1\n"
          ]
        },
        {
          "output_type": "stream",
          "name": "stderr",
          "text": [
            "100%|██████████| 6/6 [00:00<00:00,  8.48it/s]\n",
            "100%|██████████| 3/3 [00:00<00:00, 11.64it/s]\n"
          ]
        },
        {
          "output_type": "stream",
          "name": "stdout",
          "text": [
            "Train loss: 4.77441930770874\tVal loss: 4.7377800941467285\tTrain acc: 53.32422586520948\tVal acc: 47.51420454545454\n"
          ]
        },
        {
          "output_type": "stream",
          "name": "stderr",
          "text": [
            "100%|██████████| 2/2 [00:00<00:00,  8.12it/s]\n",
            "100%|██████████| 2/2 [00:00<00:00,  8.39it/s]\n"
          ]
        },
        {
          "output_type": "stream",
          "name": "stdout",
          "text": [
            "########## Epoch 2\n"
          ]
        },
        {
          "output_type": "stream",
          "name": "stderr",
          "text": [
            "100%|██████████| 6/6 [00:00<00:00,  8.55it/s]\n",
            "100%|██████████| 3/3 [00:00<00:00, 11.29it/s]\n"
          ]
        },
        {
          "output_type": "stream",
          "name": "stdout",
          "text": [
            "Train loss: 4.147718906402588\tVal loss: 4.149726867675781\tTrain acc: 53.32422586520948\tVal acc: 47.51420454545454\n"
          ]
        },
        {
          "output_type": "stream",
          "name": "stderr",
          "text": [
            "100%|██████████| 2/2 [00:00<00:00,  8.33it/s]\n",
            "100%|██████████| 2/2 [00:00<00:00,  8.14it/s]\n"
          ]
        },
        {
          "output_type": "stream",
          "name": "stdout",
          "text": [
            "########## Epoch 3\n"
          ]
        },
        {
          "output_type": "stream",
          "name": "stderr",
          "text": [
            "100%|██████████| 6/6 [00:00<00:00,  8.76it/s]\n",
            "100%|██████████| 3/3 [00:00<00:00, 10.91it/s]\n"
          ]
        },
        {
          "output_type": "stream",
          "name": "stdout",
          "text": [
            "Train loss: 3.689981460571289\tVal loss: 3.673860549926758\tTrain acc: 53.32422586520948\tVal acc: 49.053030303030305\n"
          ]
        },
        {
          "output_type": "stream",
          "name": "stderr",
          "text": [
            "100%|██████████| 2/2 [00:00<00:00,  8.68it/s]\n",
            "100%|██████████| 2/2 [00:00<00:00,  8.70it/s]\n"
          ]
        },
        {
          "output_type": "stream",
          "name": "stdout",
          "text": [
            "########## Epoch 4\n"
          ]
        },
        {
          "output_type": "stream",
          "name": "stderr",
          "text": [
            "100%|██████████| 6/6 [00:00<00:00,  8.60it/s]\n",
            "100%|██████████| 3/3 [00:00<00:00, 11.95it/s]\n"
          ]
        },
        {
          "output_type": "stream",
          "name": "stdout",
          "text": [
            "Train loss: 3.3937673568725586\tVal loss: 3.4617223739624023\tTrain acc: 53.063809198542806\tVal acc: 47.9876893939394\n"
          ]
        },
        {
          "output_type": "stream",
          "name": "stderr",
          "text": [
            "100%|██████████| 2/2 [00:00<00:00,  8.52it/s]\n",
            "100%|██████████| 2/2 [00:00<00:00,  7.78it/s]\n"
          ]
        },
        {
          "output_type": "stream",
          "name": "stdout",
          "text": [
            "########## Epoch 5\n"
          ]
        },
        {
          "output_type": "stream",
          "name": "stderr",
          "text": [
            "100%|██████████| 6/6 [00:00<00:00,  8.66it/s]\n",
            "100%|██████████| 3/3 [00:00<00:00, 11.28it/s]\n"
          ]
        },
        {
          "output_type": "stream",
          "name": "stdout",
          "text": [
            "Train loss: 3.1249752044677734\tVal loss: 3.1535322666168213\tTrain acc: 53.259121698542806\tVal acc: 48.57954545454546\n"
          ]
        },
        {
          "output_type": "stream",
          "name": "stderr",
          "text": [
            "100%|██████████| 2/2 [00:00<00:00,  8.34it/s]\n",
            "100%|██████████| 2/2 [00:00<00:00,  8.21it/s]\n"
          ]
        },
        {
          "output_type": "stream",
          "name": "stdout",
          "text": [
            "########## Epoch 6\n"
          ]
        },
        {
          "output_type": "stream",
          "name": "stderr",
          "text": [
            "100%|██████████| 6/6 [00:00<00:00,  8.40it/s]\n",
            "100%|██████████| 3/3 [00:00<00:00, 11.48it/s]\n"
          ]
        },
        {
          "output_type": "stream",
          "name": "stdout",
          "text": [
            "Train loss: 2.8690826892852783\tVal loss: 2.8347465991973877\tTrain acc: 53.12891336520948\tVal acc: 49.64488636363637\n"
          ]
        },
        {
          "output_type": "stream",
          "name": "stderr",
          "text": [
            "100%|██████████| 2/2 [00:00<00:00,  7.92it/s]\n",
            "100%|██████████| 2/2 [00:00<00:00,  8.18it/s]\n"
          ]
        },
        {
          "output_type": "stream",
          "name": "stdout",
          "text": [
            "########## Epoch 7\n"
          ]
        },
        {
          "output_type": "stream",
          "name": "stderr",
          "text": [
            "100%|██████████| 6/6 [00:00<00:00,  8.50it/s]\n",
            "100%|██████████| 3/3 [00:00<00:00, 11.58it/s]\n"
          ]
        },
        {
          "output_type": "stream",
          "name": "stdout",
          "text": [
            "Train loss: 2.633769989013672\tVal loss: 2.6763384342193604\tTrain acc: 53.32422586520948\tVal acc: 48.57954545454546\n"
          ]
        },
        {
          "output_type": "stream",
          "name": "stderr",
          "text": [
            "100%|██████████| 2/2 [00:00<00:00,  8.30it/s]\n",
            "100%|██████████| 2/2 [00:00<00:00,  8.44it/s]\n"
          ]
        },
        {
          "output_type": "stream",
          "name": "stdout",
          "text": [
            "########## Epoch 8\n"
          ]
        },
        {
          "output_type": "stream",
          "name": "stderr",
          "text": [
            "100%|██████████| 6/6 [00:00<00:00,  8.66it/s]\n",
            "100%|██████████| 3/3 [00:00<00:00, 11.42it/s]\n"
          ]
        },
        {
          "output_type": "stream",
          "name": "stdout",
          "text": [
            "Train loss: 2.416559934616089\tVal loss: 2.4856746196746826\tTrain acc: 53.32422586520948\tVal acc: 48.34280303030303\n"
          ]
        },
        {
          "output_type": "stream",
          "name": "stderr",
          "text": [
            "100%|██████████| 2/2 [00:00<00:00,  8.59it/s]\n",
            "100%|██████████| 2/2 [00:00<00:00,  8.16it/s]\n"
          ]
        },
        {
          "output_type": "stream",
          "name": "stdout",
          "text": [
            "########## Epoch 9\n"
          ]
        },
        {
          "output_type": "stream",
          "name": "stderr",
          "text": [
            "100%|██████████| 6/6 [00:00<00:00,  8.44it/s]\n",
            "100%|██████████| 3/3 [00:00<00:00, 11.95it/s]\n"
          ]
        },
        {
          "output_type": "stream",
          "name": "stdout",
          "text": [
            "Train loss: 2.22650146484375\tVal loss: 2.18753981590271\tTrain acc: 53.32422586520948\tVal acc: 50.497159090909086\n"
          ]
        },
        {
          "output_type": "stream",
          "name": "stderr",
          "text": [
            "100%|██████████| 2/2 [00:00<00:00,  7.92it/s]\n",
            "100%|██████████| 2/2 [00:00<00:00,  8.34it/s]\n"
          ]
        },
        {
          "output_type": "stream",
          "name": "stdout",
          "text": [
            "########## Epoch 10\n"
          ]
        },
        {
          "output_type": "stream",
          "name": "stderr",
          "text": [
            "100%|██████████| 6/6 [00:00<00:00,  8.50it/s]\n",
            "100%|██████████| 3/3 [00:00<00:00, 11.14it/s]\n"
          ]
        },
        {
          "output_type": "stream",
          "name": "stdout",
          "text": [
            "Train loss: 2.0337769985198975\tVal loss: 2.074035406112671\tTrain acc: 53.32422586520948\tVal acc: 48.839962121212125\n"
          ]
        },
        {
          "output_type": "stream",
          "name": "stderr",
          "text": [
            "100%|██████████| 2/2 [00:00<00:00,  8.01it/s]\n",
            "100%|██████████| 2/2 [00:00<00:00,  8.70it/s]\n"
          ]
        },
        {
          "output_type": "stream",
          "name": "stdout",
          "text": [
            "########## Epoch 11\n"
          ]
        },
        {
          "output_type": "stream",
          "name": "stderr",
          "text": [
            "100%|██████████| 6/6 [00:00<00:00,  8.48it/s]\n",
            "100%|██████████| 3/3 [00:00<00:00, 11.25it/s]\n"
          ]
        },
        {
          "output_type": "stream",
          "name": "stdout",
          "text": [
            "Train loss: 1.8448883295059204\tVal loss: 1.8389836549758911\tTrain acc: 53.32422586520948\tVal acc: 49.90530303030303\n"
          ]
        },
        {
          "output_type": "stream",
          "name": "stderr",
          "text": [
            "100%|██████████| 2/2 [00:00<00:00,  8.10it/s]\n",
            "100%|██████████| 2/2 [00:00<00:00,  8.14it/s]\n"
          ]
        },
        {
          "output_type": "stream",
          "name": "stdout",
          "text": [
            "########## Epoch 12\n"
          ]
        },
        {
          "output_type": "stream",
          "name": "stderr",
          "text": [
            "100%|██████████| 6/6 [00:00<00:00,  8.28it/s]\n",
            "100%|██████████| 3/3 [00:00<00:00, 11.66it/s]\n"
          ]
        },
        {
          "output_type": "stream",
          "name": "stdout",
          "text": [
            "Train loss: 1.661969780921936\tVal loss: 1.690543293952942\tTrain acc: 53.259121698542806\tVal acc: 49.10037878787879\n"
          ]
        },
        {
          "output_type": "stream",
          "name": "stderr",
          "text": [
            "100%|██████████| 2/2 [00:00<00:00,  8.37it/s]\n",
            "100%|██████████| 2/2 [00:00<00:00,  8.11it/s]\n"
          ]
        },
        {
          "output_type": "stream",
          "name": "stdout",
          "text": [
            "########## Epoch 13\n"
          ]
        },
        {
          "output_type": "stream",
          "name": "stderr",
          "text": [
            "100%|██████████| 6/6 [00:00<00:00,  8.12it/s]\n",
            "100%|██████████| 3/3 [00:00<00:00, 10.91it/s]\n"
          ]
        },
        {
          "output_type": "stream",
          "name": "stdout",
          "text": [
            "Train loss: 1.4712820053100586\tVal loss: 1.5090608596801758\tTrain acc: 53.32422586520948\tVal acc: 49.10037878787879\n"
          ]
        },
        {
          "output_type": "stream",
          "name": "stderr",
          "text": [
            "100%|██████████| 2/2 [00:00<00:00,  8.05it/s]\n",
            "100%|██████████| 2/2 [00:00<00:00,  8.37it/s]\n"
          ]
        },
        {
          "output_type": "stream",
          "name": "stdout",
          "text": [
            "########## Epoch 14\n"
          ]
        },
        {
          "output_type": "stream",
          "name": "stderr",
          "text": [
            "100%|██████████| 6/6 [00:00<00:00,  8.49it/s]\n",
            "100%|██████████| 3/3 [00:00<00:00, 11.73it/s]\n"
          ]
        },
        {
          "output_type": "stream",
          "name": "stdout",
          "text": [
            "Train loss: 1.285312533378601\tVal loss: 1.3002656698226929\tTrain acc: 53.32422586520948\tVal acc: 49.10037878787879\n"
          ]
        },
        {
          "output_type": "stream",
          "name": "stderr",
          "text": [
            "100%|██████████| 2/2 [00:00<00:00,  8.28it/s]\n",
            "100%|██████████| 2/2 [00:00<00:00,  8.42it/s]\n"
          ]
        },
        {
          "output_type": "stream",
          "name": "stdout",
          "text": [
            "########## Epoch 15\n"
          ]
        },
        {
          "output_type": "stream",
          "name": "stderr",
          "text": [
            "100%|██████████| 6/6 [00:00<00:00,  8.52it/s]\n",
            "100%|██████████| 3/3 [00:00<00:00, 11.62it/s]\n"
          ]
        },
        {
          "output_type": "stream",
          "name": "stdout",
          "text": [
            "Train loss: 1.0961613655090332\tVal loss: 1.1194509267807007\tTrain acc: 53.38933003187614\tVal acc: 48.72159090909091\n"
          ]
        },
        {
          "output_type": "stream",
          "name": "stderr",
          "text": [
            "100%|██████████| 2/2 [00:00<00:00,  7.91it/s]\n",
            "100%|██████████| 2/2 [00:00<00:00,  8.38it/s]\n"
          ]
        },
        {
          "output_type": "stream",
          "name": "stdout",
          "text": [
            "########## Epoch 16\n"
          ]
        },
        {
          "output_type": "stream",
          "name": "stderr",
          "text": [
            "100%|██████████| 6/6 [00:00<00:00,  8.46it/s]\n",
            "100%|██████████| 3/3 [00:00<00:00, 11.54it/s]\n"
          ]
        },
        {
          "output_type": "stream",
          "name": "stdout",
          "text": [
            "Train loss: 0.9142882823944092\tVal loss: 0.9229909777641296\tTrain acc: 56.669797358834245\tVal acc: 58.214962121212125\n"
          ]
        },
        {
          "output_type": "stream",
          "name": "stderr",
          "text": [
            "100%|██████████| 2/2 [00:00<00:00,  7.41it/s]\n",
            "100%|██████████| 2/2 [00:00<00:00,  8.04it/s]\n"
          ]
        },
        {
          "output_type": "stream",
          "name": "stdout",
          "text": [
            "########## Epoch 17\n"
          ]
        },
        {
          "output_type": "stream",
          "name": "stderr",
          "text": [
            "100%|██████████| 6/6 [00:00<00:00,  8.36it/s]\n",
            "100%|██████████| 3/3 [00:00<00:00, 11.54it/s]\n"
          ]
        },
        {
          "output_type": "stream",
          "name": "stdout",
          "text": [
            "Train loss: 0.752356231212616\tVal loss: 0.7741032242774963\tTrain acc: 68.34870218579235\tVal acc: 72.63257575757575\n"
          ]
        },
        {
          "output_type": "stream",
          "name": "stderr",
          "text": [
            "100%|██████████| 2/2 [00:00<00:00,  7.73it/s]\n",
            "100%|██████████| 2/2 [00:00<00:00,  8.37it/s]\n"
          ]
        },
        {
          "output_type": "stream",
          "name": "stdout",
          "text": [
            "########## Epoch 18\n"
          ]
        },
        {
          "output_type": "stream",
          "name": "stderr",
          "text": [
            "100%|██████████| 6/6 [00:00<00:00,  8.26it/s]\n",
            "100%|██████████| 3/3 [00:00<00:00, 11.58it/s]\n"
          ]
        },
        {
          "output_type": "stream",
          "name": "stdout",
          "text": [
            "Train loss: 0.6143126487731934\tVal loss: 0.6728620529174805\tTrain acc: 80.45700990437159\tVal acc: 82.74147727272727\n"
          ]
        },
        {
          "output_type": "stream",
          "name": "stderr",
          "text": [
            "100%|██████████| 2/2 [00:00<00:00,  8.28it/s]\n",
            "100%|██████████| 2/2 [00:00<00:00,  8.32it/s]\n"
          ]
        },
        {
          "output_type": "stream",
          "name": "stdout",
          "text": [
            "########## Epoch 19\n"
          ]
        },
        {
          "output_type": "stream",
          "name": "stderr",
          "text": [
            "100%|██████████| 6/6 [00:00<00:00,  8.45it/s]\n",
            "100%|██████████| 3/3 [00:00<00:00, 12.25it/s]\n"
          ]
        },
        {
          "output_type": "stream",
          "name": "stdout",
          "text": [
            "Train loss: 0.5197668671607971\tVal loss: 0.591339647769928\tTrain acc: 86.38148907103825\tVal acc: 85.06155303030303\n"
          ]
        },
        {
          "output_type": "stream",
          "name": "stderr",
          "text": [
            "100%|██████████| 2/2 [00:00<00:00,  7.97it/s]\n",
            "100%|██████████| 2/2 [00:00<00:00,  8.46it/s]\n"
          ]
        },
        {
          "output_type": "stream",
          "name": "stdout",
          "text": [
            "########## Epoch 20\n"
          ]
        },
        {
          "output_type": "stream",
          "name": "stderr",
          "text": [
            "100%|██████████| 6/6 [00:00<00:00,  8.64it/s]\n",
            "100%|██████████| 3/3 [00:00<00:00, 11.31it/s]\n"
          ]
        },
        {
          "output_type": "stream",
          "name": "stdout",
          "text": [
            "Train loss: 0.44506514072418213\tVal loss: 0.5255256295204163\tTrain acc: 88.56834870218579\tVal acc: 86.45833333333333\n"
          ]
        },
        {
          "output_type": "stream",
          "name": "stderr",
          "text": [
            "100%|██████████| 2/2 [00:00<00:00,  8.41it/s]\n",
            "100%|██████████| 2/2 [00:00<00:00,  8.04it/s]\n"
          ]
        },
        {
          "output_type": "stream",
          "name": "stdout",
          "text": [
            "########## Epoch 21\n"
          ]
        },
        {
          "output_type": "stream",
          "name": "stderr",
          "text": [
            "100%|██████████| 6/6 [00:00<00:00,  8.36it/s]\n",
            "100%|██████████| 3/3 [00:00<00:00, 11.38it/s]\n"
          ]
        },
        {
          "output_type": "stream",
          "name": "stdout",
          "text": [
            "Train loss: 0.4001992642879486\tVal loss: 0.4865109622478485\tTrain acc: 89.84446152094718\tVal acc: 86.71875\n"
          ]
        },
        {
          "output_type": "stream",
          "name": "stderr",
          "text": [
            "100%|██████████| 2/2 [00:00<00:00,  8.32it/s]\n",
            "100%|██████████| 2/2 [00:00<00:00,  7.92it/s]\n"
          ]
        },
        {
          "output_type": "stream",
          "name": "stdout",
          "text": [
            "########## Epoch 22\n"
          ]
        },
        {
          "output_type": "stream",
          "name": "stderr",
          "text": [
            "100%|██████████| 6/6 [00:00<00:00,  8.48it/s]\n",
            "100%|██████████| 3/3 [00:00<00:00, 11.29it/s]\n"
          ]
        },
        {
          "output_type": "stream",
          "name": "stdout",
          "text": [
            "Train loss: 0.3709396421909332\tVal loss: 0.4525173604488373\tTrain acc: 90.3656506147541\tVal acc: 87.07386363636363\n"
          ]
        },
        {
          "output_type": "stream",
          "name": "stderr",
          "text": [
            "100%|██████████| 2/2 [00:00<00:00,  8.07it/s]\n",
            "100%|██████████| 2/2 [00:00<00:00,  7.99it/s]\n"
          ]
        },
        {
          "output_type": "stream",
          "name": "stdout",
          "text": [
            "########## Epoch 23\n"
          ]
        },
        {
          "output_type": "stream",
          "name": "stderr",
          "text": [
            "100%|██████████| 6/6 [00:00<00:00,  8.31it/s]\n",
            "100%|██████████| 3/3 [00:00<00:00, 11.51it/s]\n"
          ]
        },
        {
          "output_type": "stream",
          "name": "stdout",
          "text": [
            "Train loss: 0.3424384295940399\tVal loss: 0.4404836893081665\tTrain acc: 90.56060735428052\tVal acc: 86.6003787878788\n"
          ]
        },
        {
          "output_type": "stream",
          "name": "stderr",
          "text": [
            "100%|██████████| 2/2 [00:00<00:00,  8.35it/s]\n",
            "100%|██████████| 2/2 [00:00<00:00,  7.85it/s]\n"
          ]
        },
        {
          "output_type": "stream",
          "name": "stdout",
          "text": [
            "########## Epoch 24\n"
          ]
        },
        {
          "output_type": "stream",
          "name": "stderr",
          "text": [
            "100%|██████████| 6/6 [00:00<00:00,  8.75it/s]\n",
            "100%|██████████| 3/3 [00:00<00:00, 11.33it/s]\n"
          ]
        },
        {
          "output_type": "stream",
          "name": "stdout",
          "text": [
            "Train loss: 0.3236371576786041\tVal loss: 0.42567726969718933\tTrain acc: 90.8601576730419\tVal acc: 86.6003787878788\n"
          ]
        },
        {
          "output_type": "stream",
          "name": "stderr",
          "text": [
            "100%|██████████| 2/2 [00:00<00:00,  8.07it/s]\n",
            "100%|██████████| 2/2 [00:00<00:00,  8.58it/s]\n"
          ]
        },
        {
          "output_type": "stream",
          "name": "stdout",
          "text": [
            "########## Epoch 0\n"
          ]
        },
        {
          "output_type": "stream",
          "name": "stderr",
          "text": [
            "100%|██████████| 10/10 [00:01<00:00,  9.97it/s]\n",
            "100%|██████████| 5/5 [00:00<00:00, 17.39it/s]\n"
          ]
        },
        {
          "output_type": "stream",
          "name": "stdout",
          "text": [
            "Train loss: 0.5172000527381897\tVal loss: 0.5441058874130249\tTrain acc: 84.1651119402985\tVal acc: 84.40061475409837\n"
          ]
        },
        {
          "output_type": "stream",
          "name": "stderr",
          "text": [
            "100%|██████████| 2/2 [00:00<00:00,  7.48it/s]\n",
            "100%|██████████| 2/2 [00:00<00:00,  8.40it/s]\n",
            "100%|██████████| 3/3 [00:00<00:00, 12.11it/s]\n"
          ]
        },
        {
          "output_type": "stream",
          "name": "stdout",
          "text": [
            "########## Epoch 1\n"
          ]
        },
        {
          "output_type": "stream",
          "name": "stderr",
          "text": [
            "100%|██████████| 10/10 [00:01<00:00,  9.86it/s]\n",
            "100%|██████████| 5/5 [00:00<00:00, 17.47it/s]\n"
          ]
        },
        {
          "output_type": "stream",
          "name": "stdout",
          "text": [
            "Train loss: 0.3849758207798004\tVal loss: 0.501482367515564\tTrain acc: 88.5185401119403\tVal acc: 85.23565573770492\n"
          ]
        },
        {
          "output_type": "stream",
          "name": "stderr",
          "text": [
            "100%|██████████| 2/2 [00:00<00:00,  7.63it/s]\n",
            "100%|██████████| 2/2 [00:00<00:00,  8.03it/s]\n",
            "100%|██████████| 3/3 [00:00<00:00, 11.80it/s]\n"
          ]
        },
        {
          "output_type": "stream",
          "name": "stdout",
          "text": [
            "########## Epoch 2\n"
          ]
        },
        {
          "output_type": "stream",
          "name": "stderr",
          "text": [
            "100%|██████████| 10/10 [00:00<00:00, 10.11it/s]\n",
            "100%|██████████| 5/5 [00:00<00:00, 17.72it/s]\n"
          ]
        },
        {
          "output_type": "stream",
          "name": "stdout",
          "text": [
            "Train loss: 0.36229777336120605\tVal loss: 0.47882765531539917\tTrain acc: 88.89517257462686\tVal acc: 85.33811475409837\n"
          ]
        },
        {
          "output_type": "stream",
          "name": "stderr",
          "text": [
            "100%|██████████| 2/2 [00:00<00:00,  8.18it/s]\n",
            "100%|██████████| 2/2 [00:00<00:00,  8.34it/s]\n",
            "100%|██████████| 3/3 [00:00<00:00, 11.28it/s]\n"
          ]
        },
        {
          "output_type": "stream",
          "name": "stdout",
          "text": [
            "########## Epoch 3\n"
          ]
        },
        {
          "output_type": "stream",
          "name": "stderr",
          "text": [
            "100%|██████████| 10/10 [00:01<00:00,  9.85it/s]\n",
            "100%|██████████| 5/5 [00:00<00:00, 17.06it/s]\n"
          ]
        },
        {
          "output_type": "stream",
          "name": "stdout",
          "text": [
            "Train loss: 0.32424286007881165\tVal loss: 0.4569607377052307\tTrain acc: 89.8857276119403\tVal acc: 85.5327868852459\n"
          ]
        },
        {
          "output_type": "stream",
          "name": "stderr",
          "text": [
            "100%|██████████| 2/2 [00:00<00:00,  8.24it/s]\n",
            "100%|██████████| 2/2 [00:00<00:00,  8.27it/s]\n",
            "100%|██████████| 3/3 [00:00<00:00, 11.05it/s]\n"
          ]
        },
        {
          "output_type": "stream",
          "name": "stdout",
          "text": [
            "########## Epoch 4\n"
          ]
        },
        {
          "output_type": "stream",
          "name": "stderr",
          "text": [
            "100%|██████████| 10/10 [00:00<00:00, 10.06it/s]\n",
            "100%|██████████| 5/5 [00:00<00:00, 17.33it/s]\n"
          ]
        },
        {
          "output_type": "stream",
          "name": "stdout",
          "text": [
            "Train loss: 0.349182665348053\tVal loss: 0.4387575685977936\tTrain acc: 88.39377332089552\tVal acc: 85.65829918032787\n"
          ]
        },
        {
          "output_type": "stream",
          "name": "stderr",
          "text": [
            "100%|██████████| 2/2 [00:00<00:00,  8.35it/s]\n",
            "100%|██████████| 2/2 [00:00<00:00,  8.68it/s]\n",
            "100%|██████████| 3/3 [00:00<00:00, 11.53it/s]\n"
          ]
        },
        {
          "output_type": "stream",
          "name": "stdout",
          "text": [
            "########## Epoch 5\n"
          ]
        },
        {
          "output_type": "stream",
          "name": "stderr",
          "text": [
            "100%|██████████| 10/10 [00:00<00:00, 10.25it/s]\n",
            "100%|██████████| 5/5 [00:00<00:00, 17.50it/s]\n"
          ]
        },
        {
          "output_type": "stream",
          "name": "stdout",
          "text": [
            "Train loss: 0.2822057902812958\tVal loss: 0.42033258080482483\tTrain acc: 90.42210820895522\tVal acc: 85.78381147540983\n"
          ]
        },
        {
          "output_type": "stream",
          "name": "stderr",
          "text": [
            "100%|██████████| 2/2 [00:00<00:00,  7.90it/s]\n",
            "100%|██████████| 2/2 [00:00<00:00,  8.08it/s]\n",
            "100%|██████████| 3/3 [00:00<00:00, 12.03it/s]\n"
          ]
        },
        {
          "output_type": "stream",
          "name": "stdout",
          "text": [
            "########## Epoch 6\n"
          ]
        },
        {
          "output_type": "stream",
          "name": "stderr",
          "text": [
            "100%|██████████| 10/10 [00:01<00:00,  9.73it/s]\n",
            "100%|██████████| 5/5 [00:00<00:00, 17.30it/s]\n"
          ]
        },
        {
          "output_type": "stream",
          "name": "stdout",
          "text": [
            "Train loss: 0.27559441328048706\tVal loss: 0.40200939774513245\tTrain acc: 89.9463619402985\tVal acc: 85.80686475409837\n"
          ]
        },
        {
          "output_type": "stream",
          "name": "stderr",
          "text": [
            "100%|██████████| 2/2 [00:00<00:00,  8.24it/s]\n",
            "100%|██████████| 2/2 [00:00<00:00,  8.55it/s]\n",
            "100%|██████████| 3/3 [00:00<00:00, 11.78it/s]\n"
          ]
        },
        {
          "output_type": "stream",
          "name": "stdout",
          "text": [
            "########## Epoch 7\n"
          ]
        },
        {
          "output_type": "stream",
          "name": "stderr",
          "text": [
            "100%|██████████| 10/10 [00:01<00:00,  9.92it/s]\n",
            "100%|██████████| 5/5 [00:00<00:00, 16.64it/s]\n"
          ]
        },
        {
          "output_type": "stream",
          "name": "stdout",
          "text": [
            "Train loss: 0.27926331758499146\tVal loss: 0.38317376375198364\tTrain acc: 89.11497201492537\tVal acc: 85.79918032786885\n"
          ]
        },
        {
          "output_type": "stream",
          "name": "stderr",
          "text": [
            "100%|██████████| 2/2 [00:00<00:00,  8.03it/s]\n",
            "100%|██████████| 2/2 [00:00<00:00,  8.00it/s]\n",
            "100%|██████████| 3/3 [00:00<00:00, 11.81it/s]\n"
          ]
        },
        {
          "output_type": "stream",
          "name": "stdout",
          "text": [
            "########## Epoch 8\n"
          ]
        },
        {
          "output_type": "stream",
          "name": "stderr",
          "text": [
            "100%|██████████| 10/10 [00:00<00:00, 10.13it/s]\n",
            "100%|██████████| 5/5 [00:00<00:00, 17.47it/s]\n"
          ]
        },
        {
          "output_type": "stream",
          "name": "stdout",
          "text": [
            "Train loss: 0.24703741073608398\tVal loss: 0.36322689056396484\tTrain acc: 89.95685634328359\tVal acc: 85.79918032786885\n"
          ]
        },
        {
          "output_type": "stream",
          "name": "stderr",
          "text": [
            "100%|██████████| 2/2 [00:00<00:00,  8.28it/s]\n",
            "100%|██████████| 2/2 [00:00<00:00,  8.53it/s]\n",
            "100%|██████████| 3/3 [00:00<00:00, 11.46it/s]\n"
          ]
        },
        {
          "output_type": "stream",
          "name": "stdout",
          "text": [
            "########## Epoch 9\n"
          ]
        },
        {
          "output_type": "stream",
          "name": "stderr",
          "text": [
            "100%|██████████| 10/10 [00:01<00:00,  9.94it/s]\n",
            "100%|██████████| 5/5 [00:00<00:00, 17.19it/s]\n"
          ]
        },
        {
          "output_type": "stream",
          "name": "stdout",
          "text": [
            "Train loss: 0.23885345458984375\tVal loss: 0.34503263235092163\tTrain acc: 89.53066697761194\tVal acc: 85.95543032786885\n"
          ]
        },
        {
          "output_type": "stream",
          "name": "stderr",
          "text": [
            "100%|██████████| 2/2 [00:00<00:00,  7.68it/s]\n",
            "100%|██████████| 2/2 [00:00<00:00,  8.10it/s]\n",
            "100%|██████████| 3/3 [00:00<00:00, 11.67it/s]\n"
          ]
        },
        {
          "output_type": "stream",
          "name": "stdout",
          "text": [
            "########## Epoch 10\n"
          ]
        },
        {
          "output_type": "stream",
          "name": "stderr",
          "text": [
            "100%|██████████| 10/10 [00:01<00:00,  9.90it/s]\n",
            "100%|██████████| 5/5 [00:00<00:00, 16.21it/s]\n"
          ]
        },
        {
          "output_type": "stream",
          "name": "stdout",
          "text": [
            "Train loss: 0.21386460959911346\tVal loss: 0.3285159766674042\tTrain acc: 90.64598880597015\tVal acc: 88.29918032786885\n"
          ]
        },
        {
          "output_type": "stream",
          "name": "stderr",
          "text": [
            "100%|██████████| 2/2 [00:00<00:00,  8.32it/s]\n",
            "100%|██████████| 2/2 [00:00<00:00,  7.97it/s]\n",
            "100%|██████████| 3/3 [00:00<00:00, 11.29it/s]\n"
          ]
        },
        {
          "output_type": "stream",
          "name": "stdout",
          "text": [
            "########## Epoch 11\n"
          ]
        },
        {
          "output_type": "stream",
          "name": "stderr",
          "text": [
            "100%|██████████| 10/10 [00:00<00:00, 10.17it/s]\n",
            "100%|██████████| 5/5 [00:00<00:00, 17.26it/s]\n"
          ]
        },
        {
          "output_type": "stream",
          "name": "stdout",
          "text": [
            "Train loss: 0.2029961347579956\tVal loss: 0.3121185302734375\tTrain acc: 92.48892257462686\tVal acc: 90.5251024590164\n"
          ]
        },
        {
          "output_type": "stream",
          "name": "stderr",
          "text": [
            "100%|██████████| 2/2 [00:00<00:00,  7.73it/s]\n",
            "100%|██████████| 2/2 [00:00<00:00,  8.28it/s]\n",
            "100%|██████████| 3/3 [00:00<00:00, 11.71it/s]\n"
          ]
        },
        {
          "output_type": "stream",
          "name": "stdout",
          "text": [
            "########## Epoch 12\n"
          ]
        },
        {
          "output_type": "stream",
          "name": "stderr",
          "text": [
            "100%|██████████| 10/10 [00:01<00:00,  9.79it/s]\n",
            "100%|██████████| 5/5 [00:00<00:00, 16.87it/s]\n"
          ]
        },
        {
          "output_type": "stream",
          "name": "stdout",
          "text": [
            "Train loss: 0.19755303859710693\tVal loss: 0.2955661416053772\tTrain acc: 94.09398320895522\tVal acc: 91.82120901639344\n"
          ]
        },
        {
          "output_type": "stream",
          "name": "stderr",
          "text": [
            "100%|██████████| 2/2 [00:00<00:00,  8.04it/s]\n",
            "100%|██████████| 2/2 [00:00<00:00,  8.57it/s]\n",
            "100%|██████████| 3/3 [00:00<00:00, 10.75it/s]\n"
          ]
        },
        {
          "output_type": "stream",
          "name": "stdout",
          "text": [
            "########## Epoch 13\n"
          ]
        },
        {
          "output_type": "stream",
          "name": "stderr",
          "text": [
            "100%|██████████| 10/10 [00:01<00:00,  9.87it/s]\n",
            "100%|██████████| 5/5 [00:00<00:00, 17.21it/s]\n"
          ]
        },
        {
          "output_type": "stream",
          "name": "stdout",
          "text": [
            "Train loss: 0.1866580694913864\tVal loss: 0.2786840498447418\tTrain acc: 95.2518656716418\tVal acc: 94.01639344262296\n"
          ]
        },
        {
          "output_type": "stream",
          "name": "stderr",
          "text": [
            "100%|██████████| 2/2 [00:00<00:00,  7.79it/s]\n",
            "100%|██████████| 2/2 [00:00<00:00,  7.37it/s]\n",
            "100%|██████████| 3/3 [00:00<00:00, 11.78it/s]\n"
          ]
        },
        {
          "output_type": "stream",
          "name": "stdout",
          "text": [
            "########## Epoch 14\n"
          ]
        },
        {
          "output_type": "stream",
          "name": "stderr",
          "text": [
            "100%|██████████| 10/10 [00:01<00:00,  9.80it/s]\n",
            "100%|██████████| 5/5 [00:00<00:00, 17.16it/s]\n"
          ]
        },
        {
          "output_type": "stream",
          "name": "stdout",
          "text": [
            "Train loss: 0.1798742711544037\tVal loss: 0.2658575177192688\tTrain acc: 95.5713619402985\tVal acc: 94.5952868852459\n"
          ]
        },
        {
          "output_type": "stream",
          "name": "stderr",
          "text": [
            "100%|██████████| 2/2 [00:00<00:00,  8.22it/s]\n",
            "100%|██████████| 2/2 [00:00<00:00,  7.30it/s]\n",
            "100%|██████████| 3/3 [00:00<00:00, 11.48it/s]\n"
          ]
        },
        {
          "output_type": "stream",
          "name": "stdout",
          "text": [
            "########## Epoch 15\n"
          ]
        },
        {
          "output_type": "stream",
          "name": "stderr",
          "text": [
            "100%|██████████| 10/10 [00:01<00:00,  9.59it/s]\n",
            "100%|██████████| 5/5 [00:00<00:00, 17.50it/s]\n"
          ]
        },
        {
          "output_type": "stream",
          "name": "stdout",
          "text": [
            "Train loss: 0.15618178248405457\tVal loss: 0.2514175772666931\tTrain acc: 96.7648087686567\tVal acc: 94.94620901639344\n"
          ]
        },
        {
          "output_type": "stream",
          "name": "stderr",
          "text": [
            "100%|██████████| 2/2 [00:00<00:00,  8.23it/s]\n",
            "100%|██████████| 2/2 [00:00<00:00,  8.04it/s]\n",
            "100%|██████████| 3/3 [00:00<00:00, 11.15it/s]\n"
          ]
        },
        {
          "output_type": "stream",
          "name": "stdout",
          "text": [
            "########## Epoch 16\n"
          ]
        },
        {
          "output_type": "stream",
          "name": "stderr",
          "text": [
            "100%|██████████| 10/10 [00:00<00:00, 10.02it/s]\n",
            "100%|██████████| 5/5 [00:00<00:00, 16.88it/s]\n"
          ]
        },
        {
          "output_type": "stream",
          "name": "stdout",
          "text": [
            "Train loss: 0.14127328991889954\tVal loss: 0.23894698917865753\tTrain acc: 96.9706156716418\tVal acc: 95.10245901639344\n"
          ]
        },
        {
          "output_type": "stream",
          "name": "stderr",
          "text": [
            "100%|██████████| 2/2 [00:00<00:00,  7.71it/s]\n",
            "100%|██████████| 2/2 [00:00<00:00,  8.10it/s]\n",
            "100%|██████████| 3/3 [00:00<00:00, 11.66it/s]\n"
          ]
        },
        {
          "output_type": "stream",
          "name": "stdout",
          "text": [
            "########## Epoch 17\n"
          ]
        },
        {
          "output_type": "stream",
          "name": "stderr",
          "text": [
            "100%|██████████| 10/10 [00:01<00:00,  9.72it/s]\n",
            "100%|██████████| 5/5 [00:00<00:00, 17.13it/s]\n"
          ]
        },
        {
          "output_type": "stream",
          "name": "stdout",
          "text": [
            "Train loss: 0.1395624577999115\tVal loss: 0.2286893129348755\tTrain acc: 96.96711753731344\tVal acc: 95.58657786885246\n"
          ]
        },
        {
          "output_type": "stream",
          "name": "stderr",
          "text": [
            "100%|██████████| 2/2 [00:00<00:00,  7.50it/s]\n",
            "100%|██████████| 2/2 [00:00<00:00,  8.23it/s]\n",
            "100%|██████████| 3/3 [00:00<00:00, 11.49it/s]\n"
          ]
        },
        {
          "output_type": "stream",
          "name": "stdout",
          "text": [
            "########## Epoch 18\n"
          ]
        },
        {
          "output_type": "stream",
          "name": "stderr",
          "text": [
            "100%|██████████| 10/10 [00:01<00:00,  9.63it/s]\n",
            "100%|██████████| 5/5 [00:00<00:00, 16.41it/s]\n"
          ]
        },
        {
          "output_type": "stream",
          "name": "stdout",
          "text": [
            "Train loss: 0.1445479542016983\tVal loss: 0.2188911885023117\tTrain acc: 96.46630130597015\tVal acc: 95.74282786885246\n"
          ]
        },
        {
          "output_type": "stream",
          "name": "stderr",
          "text": [
            "100%|██████████| 2/2 [00:00<00:00,  7.78it/s]\n",
            "100%|██████████| 2/2 [00:00<00:00,  8.18it/s]\n",
            "100%|██████████| 3/3 [00:00<00:00, 11.36it/s]\n"
          ]
        },
        {
          "output_type": "stream",
          "name": "stdout",
          "text": [
            "########## Epoch 19\n"
          ]
        },
        {
          "output_type": "stream",
          "name": "stderr",
          "text": [
            "100%|██████████| 10/10 [00:01<00:00,  9.77it/s]\n",
            "100%|██████████| 5/5 [00:00<00:00, 16.51it/s]\n"
          ]
        },
        {
          "output_type": "stream",
          "name": "stdout",
          "text": [
            "Train loss: 0.12482564151287079\tVal loss: 0.20934927463531494\tTrain acc: 97.1163712686567\tVal acc: 95.74282786885246\n"
          ]
        },
        {
          "output_type": "stream",
          "name": "stderr",
          "text": [
            "100%|██████████| 2/2 [00:00<00:00,  7.72it/s]\n",
            "100%|██████████| 2/2 [00:00<00:00,  8.07it/s]\n",
            "100%|██████████| 3/3 [00:00<00:00, 11.15it/s]\n"
          ]
        },
        {
          "output_type": "stream",
          "name": "stdout",
          "text": [
            "########## Epoch 20\n"
          ]
        },
        {
          "output_type": "stream",
          "name": "stderr",
          "text": [
            "100%|██████████| 10/10 [00:01<00:00,  9.68it/s]\n",
            "100%|██████████| 5/5 [00:00<00:00, 16.15it/s]\n"
          ]
        },
        {
          "output_type": "stream",
          "name": "stdout",
          "text": [
            "Train loss: 0.12424015998840332\tVal loss: 0.20138593018054962\tTrain acc: 96.92455690298507\tVal acc: 95.75819672131146\n"
          ]
        },
        {
          "output_type": "stream",
          "name": "stderr",
          "text": [
            "100%|██████████| 2/2 [00:00<00:00,  8.32it/s]\n",
            "100%|██████████| 2/2 [00:00<00:00,  8.04it/s]\n",
            "100%|██████████| 3/3 [00:00<00:00, 11.06it/s]\n"
          ]
        },
        {
          "output_type": "stream",
          "name": "stdout",
          "text": [
            "########## Epoch 21\n"
          ]
        },
        {
          "output_type": "stream",
          "name": "stderr",
          "text": [
            "100%|██████████| 10/10 [00:00<00:00, 10.03it/s]\n",
            "100%|██████████| 5/5 [00:00<00:00, 16.92it/s]\n"
          ]
        },
        {
          "output_type": "stream",
          "name": "stdout",
          "text": [
            "Train loss: 0.1164960116147995\tVal loss: 0.1957084685564041\tTrain acc: 97.7023087686567\tVal acc: 95.89139344262296\n"
          ]
        },
        {
          "output_type": "stream",
          "name": "stderr",
          "text": [
            "100%|██████████| 2/2 [00:00<00:00,  8.16it/s]\n",
            "100%|██████████| 2/2 [00:00<00:00,  8.02it/s]\n",
            "100%|██████████| 3/3 [00:00<00:00, 10.93it/s]\n"
          ]
        },
        {
          "output_type": "stream",
          "name": "stdout",
          "text": [
            "########## Epoch 22\n"
          ]
        },
        {
          "output_type": "stream",
          "name": "stderr",
          "text": [
            "100%|██████████| 10/10 [00:01<00:00,  9.76it/s]\n",
            "100%|██████████| 5/5 [00:00<00:00, 16.32it/s]\n"
          ]
        },
        {
          "output_type": "stream",
          "name": "stdout",
          "text": [
            "Train loss: 0.10791821777820587\tVal loss: 0.19099459052085876\tTrain acc: 97.54256063432835\tVal acc: 96.07069672131146\n"
          ]
        },
        {
          "output_type": "stream",
          "name": "stderr",
          "text": [
            "100%|██████████| 2/2 [00:00<00:00,  7.89it/s]\n",
            "100%|██████████| 2/2 [00:00<00:00,  8.12it/s]\n",
            "100%|██████████| 3/3 [00:00<00:00, 10.75it/s]\n"
          ]
        },
        {
          "output_type": "stream",
          "name": "stdout",
          "text": [
            "########## Epoch 23\n"
          ]
        },
        {
          "output_type": "stream",
          "name": "stderr",
          "text": [
            "100%|██████████| 10/10 [00:01<00:00,  9.94it/s]\n",
            "100%|██████████| 5/5 [00:00<00:00, 17.28it/s]\n"
          ]
        },
        {
          "output_type": "stream",
          "name": "stdout",
          "text": [
            "Train loss: 0.10667260736227036\tVal loss: 0.1869814097881317\tTrain acc: 97.65625\tVal acc: 95.89907786885246\n"
          ]
        },
        {
          "output_type": "stream",
          "name": "stderr",
          "text": [
            "100%|██████████| 2/2 [00:00<00:00,  7.69it/s]\n",
            "100%|██████████| 2/2 [00:00<00:00,  7.58it/s]\n",
            "100%|██████████| 3/3 [00:00<00:00, 11.63it/s]\n"
          ]
        },
        {
          "output_type": "stream",
          "name": "stdout",
          "text": [
            "########## Epoch 24\n"
          ]
        },
        {
          "output_type": "stream",
          "name": "stderr",
          "text": [
            "100%|██████████| 10/10 [00:01<00:00,  9.65it/s]\n",
            "100%|██████████| 5/5 [00:00<00:00, 16.80it/s]\n"
          ]
        },
        {
          "output_type": "stream",
          "name": "stdout",
          "text": [
            "Train loss: 0.10082395374774933\tVal loss: 0.18417343497276306\tTrain acc: 97.81599813432835\tVal acc: 95.89139344262296\n"
          ]
        },
        {
          "output_type": "stream",
          "name": "stderr",
          "text": [
            "100%|██████████| 2/2 [00:00<00:00,  7.85it/s]\n",
            "100%|██████████| 2/2 [00:00<00:00,  7.74it/s]\n",
            "100%|██████████| 3/3 [00:00<00:00, 10.87it/s]\n"
          ]
        },
        {
          "output_type": "display_data",
          "data": {
            "text/plain": [
              "<IPython.core.display.HTML object>"
            ],
            "text/html": [
              "Waiting for W&B process to finish... <strong style=\"color:green\">(success).</strong>"
            ]
          },
          "metadata": {}
        },
        {
          "output_type": "display_data",
          "data": {
            "text/plain": [
              "VBox(children=(Label(value='0.000 MB of 0.000 MB uploaded (0.000 MB deduped)\\r'), FloatProgress(value=1.0, max…"
            ],
            "application/vnd.jupyter.widget-view+json": {
              "version_major": 2,
              "version_minor": 0,
              "model_id": "b63ca37ba34845048f42f2d18580dae2"
            }
          },
          "metadata": {}
        },
        {
          "output_type": "display_data",
          "data": {
            "text/plain": [
              "<IPython.core.display.HTML object>"
            ],
            "text/html": [
              "<style>\n",
              "    table.wandb td:nth-child(1) { padding: 0 10px; text-align: left ; width: auto;} td:nth-child(2) {text-align: left ; width: 100%}\n",
              "    .wandb-row { display: flex; flex-direction: row; flex-wrap: wrap; justify-content: flex-start; width: 100% }\n",
              "    .wandb-col { display: flex; flex-direction: column; flex-basis: 100%; flex: 1; padding: 10px; }\n",
              "    </style>\n",
              "<div class=\"wandb-row\"><div class=\"wandb-col\"><h3>Run history:</h3><br/><table class=\"wandb\"><tr><td>task_0_prevtask_0_val_acc</td><td>▁▃▄▅▅████████████████████</td></tr><tr><td>task_0_prevtask_0_val_loss</td><td>█▇▆▅▃▂▂▂▁▁▁▂▁▁▁▁▂▁▂▂▁▁▂▂▁</td></tr><tr><td>task_0_train_acc</td><td>▁▃▅▅▆▇███████████████████</td></tr><tr><td>task_0_train_loss</td><td>█▅▄▃▃▂▁▁▁▁▁▁▁▁▁▁▁▁▁▁▁▁▁▁▁</td></tr><tr><td>task_0_val_acc</td><td>▁▄▅▅▆▇█▇█████████████████</td></tr><tr><td>task_0_val_loss</td><td>█▇▅▅▃▂▁▂▁▁▁▁▁▁▁▁▂▁▁▂▁▁▁▂▂</td></tr><tr><td>task_1_prevtask_0_val_acc</td><td>▆▄▆▃▄▄▁▃▆▅▅▅█▅█▇▄▃▄▁▄▆▆▃▃</td></tr><tr><td>task_1_prevtask_0_val_loss</td><td>▃▄▂▄▂▅▄▆▁▂▅▄▁▅▃▁▄█▄▆▅▃▃▇▇</td></tr><tr><td>task_1_prevtask_1_val_acc</td><td>▁▁▁▁▁▁▁▁▁▁▁▁▁▁▁▁▃▅▇▇█████</td></tr><tr><td>task_1_prevtask_1_val_loss</td><td>█▇▆▆▅▅▅▄▄▄▃▃▃▃▂▂▂▂▁▁▁▁▁▁▁</td></tr><tr><td>task_1_train_acc</td><td>▁▁▁▁▁▁▁▁▁▁▁▁▁▁▁▁▂▄▆▇█████</td></tr><tr><td>task_1_train_loss</td><td>█▇▆▆▅▅▄▄▄▄▃▃▃▃▂▂▂▂▁▁▁▁▁▁▁</td></tr><tr><td>task_1_val_acc</td><td>▁▁▁▁▁▁▁▁▁▂▁▁▁▁▁▁▃▅▇██████</td></tr><tr><td>task_1_val_loss</td><td>█▇▆▆▅▅▄▄▄▃▃▃▃▃▂▂▂▁▁▁▁▁▁▁▁</td></tr><tr><td>task_2_prevtask_0_val_acc</td><td>▄▄▄▁▄▄▄▆▆▄▆▆█▆█▆█▃█▄▄▆▄▄▆</td></tr><tr><td>task_2_prevtask_0_val_loss</td><td>▁▂▃▆▆▃▆▂▂▄▃▂▁▂▁▂▁█▁▇▅▃▅▇▃</td></tr><tr><td>task_2_prevtask_1_val_acc</td><td>▂▃▂▁▂▂▁▂▁▂▁▃▄▇▇▇▇████▇███</td></tr><tr><td>task_2_prevtask_1_val_loss</td><td>█▇▇█▆▆▆▆▆▄▅▄▃▃▃▃▃▂▂▂▂▂▁▁▁</td></tr><tr><td>task_2_prevtask_2_val_acc</td><td>▁▁▂▂▃▃▃▃▂▃▅▆▆██████▇██▇█▇</td></tr><tr><td>task_2_prevtask_2_val_loss</td><td>██▆▇▅▄▆▄▅▄▄▄▅▂▂▂▂▂▂▃▁▁▂▁▂</td></tr><tr><td>task_2_train_acc</td><td>▁▃▃▄▃▄▄▄▄▄▄▅▆▇▇▇██▇██████</td></tr><tr><td>task_2_train_loss</td><td>█▆▅▅▅▄▄▄▃▃▃▃▃▂▂▂▂▂▂▁▁▁▁▁▁</td></tr><tr><td>task_2_val_acc</td><td>▁▂▂▂▂▂▂▂▂▂▃▅▅▇▇▇▇████████</td></tr><tr><td>task_2_val_loss</td><td>█▇▇▆▆▆▅▅▄▄▄▃▃▃▃▂▂▂▂▁▁▁▁▁▁</td></tr></table><br/></div><div class=\"wandb-col\"><h3>Run summary:</h3><br/><table class=\"wandb\"><tr><td>task_0_prevtask_0_val_acc</td><td>98.4375</td></tr><tr><td>task_0_prevtask_0_val_loss</td><td>0.0894</td></tr><tr><td>task_0_train_acc</td><td>100.0</td></tr><tr><td>task_0_train_loss</td><td>0.00227</td></tr><tr><td>task_0_val_acc</td><td>97.69176</td></tr><tr><td>task_0_val_loss</td><td>0.1153</td></tr><tr><td>task_1_prevtask_0_val_acc</td><td>96.5554</td></tr><tr><td>task_1_prevtask_0_val_loss</td><td>0.11743</td></tr><tr><td>task_1_prevtask_1_val_acc</td><td>79.50994</td></tr><tr><td>task_1_prevtask_1_val_loss</td><td>0.62292</td></tr><tr><td>task_1_train_acc</td><td>90.86016</td></tr><tr><td>task_1_train_loss</td><td>0.32364</td></tr><tr><td>task_1_val_acc</td><td>86.60038</td></tr><tr><td>task_1_val_loss</td><td>0.42568</td></tr><tr><td>task_2_prevtask_0_val_acc</td><td>97.30114</td></tr><tr><td>task_2_prevtask_0_val_loss</td><td>0.15217</td></tr><tr><td>task_2_prevtask_1_val_acc</td><td>97.30114</td></tr><tr><td>task_2_prevtask_1_val_loss</td><td>0.10839</td></tr><tr><td>task_2_prevtask_2_val_acc</td><td>92.95343</td></tr><tr><td>task_2_prevtask_2_val_loss</td><td>0.28974</td></tr><tr><td>task_2_train_acc</td><td>97.816</td></tr><tr><td>task_2_train_loss</td><td>0.10082</td></tr><tr><td>task_2_val_acc</td><td>95.89139</td></tr><tr><td>task_2_val_loss</td><td>0.18417</td></tr></table><br/></div></div>"
            ]
          },
          "metadata": {}
        },
        {
          "output_type": "display_data",
          "data": {
            "text/plain": [
              "<IPython.core.display.HTML object>"
            ],
            "text/html": [
              "Synced <strong style=\"color:#cdcd00\">reservoir_yesno_roadcondition_imagecondition_20_09_22h57m19s_mul</strong>: <a href=\"https://wandb.ai/compyle/continual_vqa_final/runs/1dcp5pyi\" target=\"_blank\">https://wandb.ai/compyle/continual_vqa_final/runs/1dcp5pyi</a><br/>Synced 5 W&B file(s), 0 media file(s), 0 artifact file(s) and 0 other file(s)"
            ]
          },
          "metadata": {}
        },
        {
          "output_type": "display_data",
          "data": {
            "text/plain": [
              "<IPython.core.display.HTML object>"
            ],
            "text/html": [
              "Find logs at: <code>./wandb/run-20220920_225719-1dcp5pyi/logs</code>"
            ]
          },
          "metadata": {}
        },
        {
          "output_type": "display_data",
          "data": {
            "text/plain": [
              "<IPython.core.display.HTML object>"
            ],
            "text/html": [
              "Tracking run with wandb version 0.13.3"
            ]
          },
          "metadata": {}
        },
        {
          "output_type": "display_data",
          "data": {
            "text/plain": [
              "<IPython.core.display.HTML object>"
            ],
            "text/html": [
              "Run data is saved locally in <code>/content/wandb/run-20220920_225925-2d6u0cqx</code>"
            ]
          },
          "metadata": {}
        },
        {
          "output_type": "display_data",
          "data": {
            "text/plain": [
              "<IPython.core.display.HTML object>"
            ],
            "text/html": [
              "Syncing run <strong><a href=\"https://wandb.ai/compyle/continual_vqa_final/runs/2d6u0cqx\" target=\"_blank\">reservoir_imagecondition_yesno_roadcondition_20_09_22h59m25s_mul</a></strong> to <a href=\"https://wandb.ai/compyle/continual_vqa_final\" target=\"_blank\">Weights & Biases</a> (<a href=\"https://wandb.me/run\" target=\"_blank\">docs</a>)<br/>"
            ]
          },
          "metadata": {}
        },
        {
          "output_type": "stream",
          "name": "stdout",
          "text": [
            "########## Epoch 0\n"
          ]
        },
        {
          "output_type": "stream",
          "name": "stderr",
          "text": [
            "100%|██████████| 10/10 [00:00<00:00, 17.82it/s]\n",
            "100%|██████████| 3/3 [00:00<00:00, 11.24it/s]\n"
          ]
        },
        {
          "output_type": "stream",
          "name": "stdout",
          "text": [
            "Train loss: 0.6952605247497559\tVal loss: 0.22721201181411743\tTrain acc: 77.00520833333334\tVal acc: 90.80882352941177\n"
          ]
        },
        {
          "output_type": "stream",
          "name": "stderr",
          "text": [
            "100%|██████████| 3/3 [00:00<00:00, 11.27it/s]\n"
          ]
        },
        {
          "output_type": "stream",
          "name": "stdout",
          "text": [
            "########## Epoch 1\n"
          ]
        },
        {
          "output_type": "stream",
          "name": "stderr",
          "text": [
            "100%|██████████| 10/10 [00:00<00:00, 17.72it/s]\n",
            "100%|██████████| 3/3 [00:00<00:00, 11.61it/s]\n"
          ]
        },
        {
          "output_type": "stream",
          "name": "stdout",
          "text": [
            "Train loss: 0.18018129467964172\tVal loss: 0.15115219354629517\tTrain acc: 95.390625\tVal acc: 95.17463235294117\n"
          ]
        },
        {
          "output_type": "stream",
          "name": "stderr",
          "text": [
            "100%|██████████| 3/3 [00:00<00:00, 10.17it/s]\n"
          ]
        },
        {
          "output_type": "stream",
          "name": "stdout",
          "text": [
            "########## Epoch 2\n"
          ]
        },
        {
          "output_type": "stream",
          "name": "stderr",
          "text": [
            "100%|██████████| 10/10 [00:00<00:00, 18.55it/s]\n",
            "100%|██████████| 3/3 [00:00<00:00, 11.39it/s]\n"
          ]
        },
        {
          "output_type": "stream",
          "name": "stdout",
          "text": [
            "Train loss: 0.1599413901567459\tVal loss: 0.17614872753620148\tTrain acc: 96.015625\tVal acc: 94.71507352941177\n"
          ]
        },
        {
          "output_type": "stream",
          "name": "stderr",
          "text": [
            "100%|██████████| 3/3 [00:00<00:00, 10.95it/s]\n"
          ]
        },
        {
          "output_type": "stream",
          "name": "stdout",
          "text": [
            "########## Epoch 3\n"
          ]
        },
        {
          "output_type": "stream",
          "name": "stderr",
          "text": [
            "100%|██████████| 10/10 [00:00<00:00, 19.37it/s]\n",
            "100%|██████████| 3/3 [00:00<00:00, 11.48it/s]\n"
          ]
        },
        {
          "output_type": "stream",
          "name": "stdout",
          "text": [
            "Train loss: 0.1373601257801056\tVal loss: 0.12968146800994873\tTrain acc: 96.5625\tVal acc: 96.67585784313725\n"
          ]
        },
        {
          "output_type": "stream",
          "name": "stderr",
          "text": [
            "100%|██████████| 3/3 [00:00<00:00, 11.09it/s]\n"
          ]
        },
        {
          "output_type": "stream",
          "name": "stdout",
          "text": [
            "########## Epoch 4\n"
          ]
        },
        {
          "output_type": "stream",
          "name": "stderr",
          "text": [
            "100%|██████████| 10/10 [00:00<00:00, 18.22it/s]\n",
            "100%|██████████| 3/3 [00:00<00:00, 10.51it/s]\n"
          ]
        },
        {
          "output_type": "stream",
          "name": "stdout",
          "text": [
            "Train loss: 0.12290479242801666\tVal loss: 0.0959671214222908\tTrain acc: 95.36458333333334\tVal acc: 97.39583333333333\n"
          ]
        },
        {
          "output_type": "stream",
          "name": "stderr",
          "text": [
            "100%|██████████| 3/3 [00:00<00:00, 10.54it/s]\n"
          ]
        },
        {
          "output_type": "stream",
          "name": "stdout",
          "text": [
            "########## Epoch 5\n"
          ]
        },
        {
          "output_type": "stream",
          "name": "stderr",
          "text": [
            "100%|██████████| 10/10 [00:00<00:00, 18.80it/s]\n",
            "100%|██████████| 3/3 [00:00<00:00, 10.57it/s]\n"
          ]
        },
        {
          "output_type": "stream",
          "name": "stdout",
          "text": [
            "Train loss: 0.12730631232261658\tVal loss: 0.09399527311325073\tTrain acc: 96.328125\tVal acc: 97.39583333333333\n"
          ]
        },
        {
          "output_type": "stream",
          "name": "stderr",
          "text": [
            "100%|██████████| 3/3 [00:00<00:00, 11.30it/s]\n"
          ]
        },
        {
          "output_type": "stream",
          "name": "stdout",
          "text": [
            "########## Epoch 6\n"
          ]
        },
        {
          "output_type": "stream",
          "name": "stderr",
          "text": [
            "100%|██████████| 10/10 [00:00<00:00, 18.69it/s]\n",
            "100%|██████████| 3/3 [00:00<00:00, 11.15it/s]\n"
          ]
        },
        {
          "output_type": "stream",
          "name": "stdout",
          "text": [
            "Train loss: 0.09446103125810623\tVal loss: 0.13538047671318054\tTrain acc: 97.34375\tVal acc: 95.2359068627451\n"
          ]
        },
        {
          "output_type": "stream",
          "name": "stderr",
          "text": [
            "100%|██████████| 3/3 [00:00<00:00, 11.71it/s]\n"
          ]
        },
        {
          "output_type": "stream",
          "name": "stdout",
          "text": [
            "########## Epoch 7\n"
          ]
        },
        {
          "output_type": "stream",
          "name": "stderr",
          "text": [
            "100%|██████████| 10/10 [00:00<00:00, 17.72it/s]\n",
            "100%|██████████| 3/3 [00:00<00:00, 11.12it/s]\n"
          ]
        },
        {
          "output_type": "stream",
          "name": "stdout",
          "text": [
            "Train loss: 0.08809639513492584\tVal loss: 0.10048162937164307\tTrain acc: 97.109375\tVal acc: 96.4154411764706\n"
          ]
        },
        {
          "output_type": "stream",
          "name": "stderr",
          "text": [
            "100%|██████████| 3/3 [00:00<00:00, 11.42it/s]\n"
          ]
        },
        {
          "output_type": "stream",
          "name": "stdout",
          "text": [
            "########## Epoch 8\n"
          ]
        },
        {
          "output_type": "stream",
          "name": "stderr",
          "text": [
            "100%|██████████| 10/10 [00:00<00:00, 18.12it/s]\n",
            "100%|██████████| 3/3 [00:00<00:00, 11.10it/s]\n"
          ]
        },
        {
          "output_type": "stream",
          "name": "stdout",
          "text": [
            "Train loss: 0.0939609631896019\tVal loss: 0.08719717711210251\tTrain acc: 95.98958333333334\tVal acc: 97.13541666666667\n"
          ]
        },
        {
          "output_type": "stream",
          "name": "stderr",
          "text": [
            "100%|██████████| 3/3 [00:00<00:00, 11.11it/s]\n"
          ]
        },
        {
          "output_type": "stream",
          "name": "stdout",
          "text": [
            "########## Epoch 9\n"
          ]
        },
        {
          "output_type": "stream",
          "name": "stderr",
          "text": [
            "100%|██████████| 10/10 [00:00<00:00, 18.03it/s]\n",
            "100%|██████████| 3/3 [00:00<00:00, 10.41it/s]\n"
          ]
        },
        {
          "output_type": "stream",
          "name": "stdout",
          "text": [
            "Train loss: 0.10204627364873886\tVal loss: 0.11191672831773758\tTrain acc: 95.98958333333334\tVal acc: 96.67585784313725\n"
          ]
        },
        {
          "output_type": "stream",
          "name": "stderr",
          "text": [
            "100%|██████████| 3/3 [00:00<00:00, 10.57it/s]\n"
          ]
        },
        {
          "output_type": "stream",
          "name": "stdout",
          "text": [
            "########## Epoch 10\n"
          ]
        },
        {
          "output_type": "stream",
          "name": "stderr",
          "text": [
            "100%|██████████| 10/10 [00:00<00:00, 18.33it/s]\n",
            "100%|██████████| 3/3 [00:00<00:00, 10.60it/s]\n"
          ]
        },
        {
          "output_type": "stream",
          "name": "stdout",
          "text": [
            "Train loss: 0.08483745157718658\tVal loss: 0.10472440719604492\tTrain acc: 97.265625\tVal acc: 97.13541666666667\n"
          ]
        },
        {
          "output_type": "stream",
          "name": "stderr",
          "text": [
            "100%|██████████| 3/3 [00:00<00:00, 10.53it/s]\n"
          ]
        },
        {
          "output_type": "stream",
          "name": "stdout",
          "text": [
            "########## Epoch 11\n"
          ]
        },
        {
          "output_type": "stream",
          "name": "stderr",
          "text": [
            "100%|██████████| 10/10 [00:00<00:00, 18.69it/s]\n",
            "100%|██████████| 3/3 [00:00<00:00, 10.42it/s]\n"
          ]
        },
        {
          "output_type": "stream",
          "name": "stdout",
          "text": [
            "Train loss: 0.08402650058269501\tVal loss: 0.11565808206796646\tTrain acc: 97.734375\tVal acc: 97.13541666666667\n"
          ]
        },
        {
          "output_type": "stream",
          "name": "stderr",
          "text": [
            "100%|██████████| 3/3 [00:00<00:00, 10.49it/s]\n"
          ]
        },
        {
          "output_type": "stream",
          "name": "stdout",
          "text": [
            "########## Epoch 12\n"
          ]
        },
        {
          "output_type": "stream",
          "name": "stderr",
          "text": [
            "100%|██████████| 10/10 [00:00<00:00, 18.32it/s]\n",
            "100%|██████████| 3/3 [00:00<00:00, 11.06it/s]\n"
          ]
        },
        {
          "output_type": "stream",
          "name": "stdout",
          "text": [
            "Train loss: 0.06622479110956192\tVal loss: 0.09804362803697586\tTrain acc: 98.125\tVal acc: 97.13541666666667\n"
          ]
        },
        {
          "output_type": "stream",
          "name": "stderr",
          "text": [
            "100%|██████████| 3/3 [00:00<00:00,  9.70it/s]\n"
          ]
        },
        {
          "output_type": "stream",
          "name": "stdout",
          "text": [
            "########## Epoch 13\n"
          ]
        },
        {
          "output_type": "stream",
          "name": "stderr",
          "text": [
            "100%|██████████| 10/10 [00:00<00:00, 11.56it/s]\n",
            "100%|██████████| 3/3 [00:00<00:00,  6.94it/s]\n"
          ]
        },
        {
          "output_type": "stream",
          "name": "stdout",
          "text": [
            "Train loss: 0.06486454606056213\tVal loss: 0.10313557833433151\tTrain acc: 98.28125\tVal acc: 97.39583333333333\n"
          ]
        },
        {
          "output_type": "stream",
          "name": "stderr",
          "text": [
            "100%|██████████| 3/3 [00:00<00:00,  6.73it/s]\n"
          ]
        },
        {
          "output_type": "stream",
          "name": "stdout",
          "text": [
            "########## Epoch 14\n"
          ]
        },
        {
          "output_type": "stream",
          "name": "stderr",
          "text": [
            "100%|██████████| 10/10 [00:00<00:00, 12.36it/s]\n",
            "100%|██████████| 3/3 [00:00<00:00,  6.88it/s]\n"
          ]
        },
        {
          "output_type": "stream",
          "name": "stdout",
          "text": [
            "Train loss: 0.06492956727743149\tVal loss: 0.13511525094509125\tTrain acc: 98.359375\tVal acc: 95.69546568627452\n"
          ]
        },
        {
          "output_type": "stream",
          "name": "stderr",
          "text": [
            "100%|██████████| 3/3 [00:00<00:00,  7.15it/s]\n"
          ]
        },
        {
          "output_type": "stream",
          "name": "stdout",
          "text": [
            "########## Epoch 15\n"
          ]
        },
        {
          "output_type": "stream",
          "name": "stderr",
          "text": [
            "100%|██████████| 10/10 [00:00<00:00, 11.65it/s]\n",
            "100%|██████████| 3/3 [00:00<00:00,  8.28it/s]\n"
          ]
        },
        {
          "output_type": "stream",
          "name": "stdout",
          "text": [
            "Train loss: 0.08230090886354446\tVal loss: 0.14297527074813843\tTrain acc: 96.61458333333334\tVal acc: 94.91421568627452\n"
          ]
        },
        {
          "output_type": "stream",
          "name": "stderr",
          "text": [
            "100%|██████████| 3/3 [00:00<00:00, 10.63it/s]\n"
          ]
        },
        {
          "output_type": "stream",
          "name": "stdout",
          "text": [
            "########## Epoch 16\n"
          ]
        },
        {
          "output_type": "stream",
          "name": "stderr",
          "text": [
            "100%|██████████| 10/10 [00:00<00:00, 17.77it/s]\n",
            "100%|██████████| 3/3 [00:00<00:00, 11.49it/s]\n"
          ]
        },
        {
          "output_type": "stream",
          "name": "stdout",
          "text": [
            "Train loss: 0.07702977955341339\tVal loss: 0.14674855768680573\tTrain acc: 97.578125\tVal acc: 95.6341911764706\n"
          ]
        },
        {
          "output_type": "stream",
          "name": "stderr",
          "text": [
            "100%|██████████| 3/3 [00:00<00:00, 10.56it/s]\n"
          ]
        },
        {
          "output_type": "stream",
          "name": "stdout",
          "text": [
            "########## Epoch 17\n"
          ]
        },
        {
          "output_type": "stream",
          "name": "stderr",
          "text": [
            "100%|██████████| 10/10 [00:00<00:00, 17.54it/s]\n",
            "100%|██████████| 3/3 [00:00<00:00, 11.33it/s]\n"
          ]
        },
        {
          "output_type": "stream",
          "name": "stdout",
          "text": [
            "Train loss: 0.07691551744937897\tVal loss: 0.11095926910638809\tTrain acc: 97.5\tVal acc: 97.13541666666667\n"
          ]
        },
        {
          "output_type": "stream",
          "name": "stderr",
          "text": [
            "100%|██████████| 3/3 [00:00<00:00, 10.44it/s]\n"
          ]
        },
        {
          "output_type": "stream",
          "name": "stdout",
          "text": [
            "########## Epoch 18\n"
          ]
        },
        {
          "output_type": "stream",
          "name": "stderr",
          "text": [
            "100%|██████████| 10/10 [00:00<00:00, 18.03it/s]\n",
            "100%|██████████| 3/3 [00:00<00:00, 10.20it/s]\n"
          ]
        },
        {
          "output_type": "stream",
          "name": "stdout",
          "text": [
            "Train loss: 0.1542414128780365\tVal loss: 0.18169383704662323\tTrain acc: 96.77083333333334\tVal acc: 95.95588235294117\n"
          ]
        },
        {
          "output_type": "stream",
          "name": "stderr",
          "text": [
            "100%|██████████| 3/3 [00:00<00:00, 10.80it/s]\n"
          ]
        },
        {
          "output_type": "stream",
          "name": "stdout",
          "text": [
            "########## Epoch 19\n"
          ]
        },
        {
          "output_type": "stream",
          "name": "stderr",
          "text": [
            "100%|██████████| 10/10 [00:00<00:00, 18.49it/s]\n",
            "100%|██████████| 3/3 [00:00<00:00,  9.95it/s]\n"
          ]
        },
        {
          "output_type": "stream",
          "name": "stdout",
          "text": [
            "Train loss: 0.08187436312437057\tVal loss: 0.13832221925258636\tTrain acc: 97.65625\tVal acc: 94.91421568627452\n"
          ]
        },
        {
          "output_type": "stream",
          "name": "stderr",
          "text": [
            "100%|██████████| 3/3 [00:00<00:00, 10.93it/s]\n"
          ]
        },
        {
          "output_type": "stream",
          "name": "stdout",
          "text": [
            "########## Epoch 20\n"
          ]
        },
        {
          "output_type": "stream",
          "name": "stderr",
          "text": [
            "100%|██████████| 10/10 [00:00<00:00, 17.73it/s]\n",
            "100%|██████████| 3/3 [00:00<00:00, 10.71it/s]\n"
          ]
        },
        {
          "output_type": "stream",
          "name": "stdout",
          "text": [
            "Train loss: 0.08367818593978882\tVal loss: 0.10880085080862045\tTrain acc: 96.796875\tVal acc: 97.39583333333333\n"
          ]
        },
        {
          "output_type": "stream",
          "name": "stderr",
          "text": [
            "100%|██████████| 3/3 [00:00<00:00, 10.51it/s]\n"
          ]
        },
        {
          "output_type": "stream",
          "name": "stdout",
          "text": [
            "########## Epoch 21\n"
          ]
        },
        {
          "output_type": "stream",
          "name": "stderr",
          "text": [
            "100%|██████████| 10/10 [00:00<00:00, 17.99it/s]\n",
            "100%|██████████| 3/3 [00:00<00:00, 10.18it/s]\n"
          ]
        },
        {
          "output_type": "stream",
          "name": "stdout",
          "text": [
            "Train loss: 0.06144797056913376\tVal loss: 0.11353815346956253\tTrain acc: 98.125\tVal acc: 97.39583333333333\n"
          ]
        },
        {
          "output_type": "stream",
          "name": "stderr",
          "text": [
            "100%|██████████| 3/3 [00:00<00:00, 11.22it/s]\n"
          ]
        },
        {
          "output_type": "stream",
          "name": "stdout",
          "text": [
            "########## Epoch 22\n"
          ]
        },
        {
          "output_type": "stream",
          "name": "stderr",
          "text": [
            "100%|██████████| 10/10 [00:00<00:00, 18.02it/s]\n",
            "100%|██████████| 3/3 [00:00<00:00, 10.96it/s]\n"
          ]
        },
        {
          "output_type": "stream",
          "name": "stdout",
          "text": [
            "Train loss: 0.046081602573394775\tVal loss: 0.11332398653030396\tTrain acc: 98.515625\tVal acc: 97.39583333333333\n"
          ]
        },
        {
          "output_type": "stream",
          "name": "stderr",
          "text": [
            "100%|██████████| 3/3 [00:00<00:00, 11.01it/s]\n"
          ]
        },
        {
          "output_type": "stream",
          "name": "stdout",
          "text": [
            "########## Epoch 23\n"
          ]
        },
        {
          "output_type": "stream",
          "name": "stderr",
          "text": [
            "100%|██████████| 10/10 [00:00<00:00, 17.82it/s]\n",
            "100%|██████████| 3/3 [00:00<00:00, 10.70it/s]\n"
          ]
        },
        {
          "output_type": "stream",
          "name": "stdout",
          "text": [
            "Train loss: 0.0408254936337471\tVal loss: 0.23748548328876495\tTrain acc: 98.671875\tVal acc: 94.71507352941177\n"
          ]
        },
        {
          "output_type": "stream",
          "name": "stderr",
          "text": [
            "100%|██████████| 3/3 [00:00<00:00, 10.91it/s]\n"
          ]
        },
        {
          "output_type": "stream",
          "name": "stdout",
          "text": [
            "########## Epoch 24\n"
          ]
        },
        {
          "output_type": "stream",
          "name": "stderr",
          "text": [
            "100%|██████████| 10/10 [00:00<00:00, 18.65it/s]\n",
            "100%|██████████| 3/3 [00:00<00:00, 10.05it/s]\n"
          ]
        },
        {
          "output_type": "stream",
          "name": "stdout",
          "text": [
            "Train loss: 0.03811038285493851\tVal loss: 0.15931397676467896\tTrain acc: 98.828125\tVal acc: 95.69546568627452\n"
          ]
        },
        {
          "output_type": "stream",
          "name": "stderr",
          "text": [
            "100%|██████████| 3/3 [00:00<00:00, 10.42it/s]\n"
          ]
        },
        {
          "output_type": "stream",
          "name": "stdout",
          "text": [
            "########## Epoch 0\n"
          ]
        },
        {
          "output_type": "stream",
          "name": "stderr",
          "text": [
            "100%|██████████| 6/6 [00:00<00:00,  8.75it/s]\n",
            "100%|██████████| 4/4 [00:00<00:00, 12.61it/s]\n"
          ]
        },
        {
          "output_type": "stream",
          "name": "stdout",
          "text": [
            "Train loss: 3.0517005920410156\tVal loss: 2.430311918258667\tTrain acc: 53.651685393258425\tVal acc: 60.015060240963855\n"
          ]
        },
        {
          "output_type": "stream",
          "name": "stderr",
          "text": [
            "100%|██████████| 3/3 [00:00<00:00, 11.39it/s]\n",
            "100%|██████████| 2/2 [00:00<00:00,  8.32it/s]\n"
          ]
        },
        {
          "output_type": "stream",
          "name": "stdout",
          "text": [
            "########## Epoch 1\n"
          ]
        },
        {
          "output_type": "stream",
          "name": "stderr",
          "text": [
            "100%|██████████| 6/6 [00:00<00:00,  8.09it/s]\n",
            "100%|██████████| 4/4 [00:00<00:00, 14.52it/s]\n"
          ]
        },
        {
          "output_type": "stream",
          "name": "stdout",
          "text": [
            "Train loss: 2.7984392642974854\tVal loss: 2.2813382148742676\tTrain acc: 53.651685393258425\tVal acc: 59.2738140060241\n"
          ]
        },
        {
          "output_type": "stream",
          "name": "stderr",
          "text": [
            "100%|██████████| 3/3 [00:00<00:00, 10.23it/s]\n",
            "100%|██████████| 2/2 [00:00<00:00,  7.85it/s]\n"
          ]
        },
        {
          "output_type": "stream",
          "name": "stdout",
          "text": [
            "########## Epoch 2\n"
          ]
        },
        {
          "output_type": "stream",
          "name": "stderr",
          "text": [
            "100%|██████████| 6/6 [00:00<00:00,  8.43it/s]\n",
            "100%|██████████| 4/4 [00:00<00:00, 13.46it/s]\n"
          ]
        },
        {
          "output_type": "stream",
          "name": "stdout",
          "text": [
            "Train loss: 2.5848886966705322\tVal loss: 2.0857372283935547\tTrain acc: 53.651685393258425\tVal acc: 59.80327560240964\n"
          ]
        },
        {
          "output_type": "stream",
          "name": "stderr",
          "text": [
            "100%|██████████| 3/3 [00:00<00:00, 11.07it/s]\n",
            "100%|██████████| 2/2 [00:00<00:00,  7.76it/s]\n"
          ]
        },
        {
          "output_type": "stream",
          "name": "stdout",
          "text": [
            "########## Epoch 3\n"
          ]
        },
        {
          "output_type": "stream",
          "name": "stderr",
          "text": [
            "100%|██████████| 6/6 [00:00<00:00,  8.28it/s]\n",
            "100%|██████████| 4/4 [00:00<00:00, 13.41it/s]\n"
          ]
        },
        {
          "output_type": "stream",
          "name": "stdout",
          "text": [
            "Train loss: 2.3931589126586914\tVal loss: 1.906935691833496\tTrain acc: 53.651685393258425\tVal acc: 60.24331701807229\n"
          ]
        },
        {
          "output_type": "stream",
          "name": "stderr",
          "text": [
            "100%|██████████| 3/3 [00:00<00:00, 10.63it/s]\n",
            "100%|██████████| 2/2 [00:00<00:00,  8.08it/s]\n"
          ]
        },
        {
          "output_type": "stream",
          "name": "stdout",
          "text": [
            "########## Epoch 4\n"
          ]
        },
        {
          "output_type": "stream",
          "name": "stderr",
          "text": [
            "100%|██████████| 6/6 [00:00<00:00,  8.45it/s]\n",
            "100%|██████████| 4/4 [00:00<00:00, 14.40it/s]\n"
          ]
        },
        {
          "output_type": "stream",
          "name": "stdout",
          "text": [
            "Train loss: 2.2206852436065674\tVal loss: 1.8813042640686035\tTrain acc: 53.651685393258425\tVal acc: 57.9136859939759\n"
          ]
        },
        {
          "output_type": "stream",
          "name": "stderr",
          "text": [
            "100%|██████████| 3/3 [00:00<00:00, 10.92it/s]\n",
            "100%|██████████| 2/2 [00:00<00:00,  7.35it/s]\n"
          ]
        },
        {
          "output_type": "stream",
          "name": "stdout",
          "text": [
            "########## Epoch 5\n"
          ]
        },
        {
          "output_type": "stream",
          "name": "stderr",
          "text": [
            "100%|██████████| 6/6 [00:00<00:00,  8.15it/s]\n",
            "100%|██████████| 4/4 [00:00<00:00, 13.48it/s]\n"
          ]
        },
        {
          "output_type": "stream",
          "name": "stdout",
          "text": [
            "Train loss: 2.065183639526367\tVal loss: 1.7017173767089844\tTrain acc: 53.651685393258425\tVal acc: 59.11144578313253\n"
          ]
        },
        {
          "output_type": "stream",
          "name": "stderr",
          "text": [
            "100%|██████████| 3/3 [00:00<00:00, 11.02it/s]\n",
            "100%|██████████| 2/2 [00:00<00:00,  8.09it/s]\n"
          ]
        },
        {
          "output_type": "stream",
          "name": "stdout",
          "text": [
            "########## Epoch 6\n"
          ]
        },
        {
          "output_type": "stream",
          "name": "stderr",
          "text": [
            "100%|██████████| 6/6 [00:00<00:00,  8.24it/s]\n",
            "100%|██████████| 4/4 [00:00<00:00, 14.07it/s]\n"
          ]
        },
        {
          "output_type": "stream",
          "name": "stdout",
          "text": [
            "Train loss: 1.928674340248108\tVal loss: 1.571281909942627\tTrain acc: 53.651685393258425\tVal acc: 59.730327560240966\n"
          ]
        },
        {
          "output_type": "stream",
          "name": "stderr",
          "text": [
            "100%|██████████| 3/3 [00:00<00:00, 10.60it/s]\n",
            "100%|██████████| 2/2 [00:00<00:00,  7.49it/s]\n"
          ]
        },
        {
          "output_type": "stream",
          "name": "stdout",
          "text": [
            "########## Epoch 7\n"
          ]
        },
        {
          "output_type": "stream",
          "name": "stderr",
          "text": [
            "100%|██████████| 6/6 [00:00<00:00,  8.27it/s]\n",
            "100%|██████████| 4/4 [00:00<00:00, 13.58it/s]\n"
          ]
        },
        {
          "output_type": "stream",
          "name": "stdout",
          "text": [
            "Train loss: 1.8002454042434692\tVal loss: 1.506705641746521\tTrain acc: 53.651685393258425\tVal acc: 58.98908132530121\n"
          ]
        },
        {
          "output_type": "stream",
          "name": "stderr",
          "text": [
            "100%|██████████| 3/3 [00:00<00:00, 11.16it/s]\n",
            "100%|██████████| 2/2 [00:00<00:00,  7.66it/s]\n"
          ]
        },
        {
          "output_type": "stream",
          "name": "stdout",
          "text": [
            "########## Epoch 8\n"
          ]
        },
        {
          "output_type": "stream",
          "name": "stderr",
          "text": [
            "100%|██████████| 6/6 [00:00<00:00,  8.07it/s]\n",
            "100%|██████████| 4/4 [00:00<00:00, 13.48it/s]\n"
          ]
        },
        {
          "output_type": "stream",
          "name": "stdout",
          "text": [
            "Train loss: 1.6826525926589966\tVal loss: 1.4168338775634766\tTrain acc: 53.651685393258425\tVal acc: 59.09497364457832\n"
          ]
        },
        {
          "output_type": "stream",
          "name": "stderr",
          "text": [
            "100%|██████████| 3/3 [00:00<00:00, 10.19it/s]\n",
            "100%|██████████| 2/2 [00:00<00:00,  7.63it/s]\n"
          ]
        },
        {
          "output_type": "stream",
          "name": "stdout",
          "text": [
            "########## Epoch 9\n"
          ]
        },
        {
          "output_type": "stream",
          "name": "stderr",
          "text": [
            "100%|██████████| 6/6 [00:00<00:00,  7.87it/s]\n",
            "100%|██████████| 4/4 [00:00<00:00, 13.96it/s]\n"
          ]
        },
        {
          "output_type": "stream",
          "name": "stdout",
          "text": [
            "Train loss: 1.5744510889053345\tVal loss: 1.33931303024292\tTrain acc: 53.651685393258425\tVal acc: 58.777296686746986\n"
          ]
        },
        {
          "output_type": "stream",
          "name": "stderr",
          "text": [
            "100%|██████████| 3/3 [00:00<00:00, 11.03it/s]\n",
            "100%|██████████| 2/2 [00:00<00:00,  7.70it/s]\n"
          ]
        },
        {
          "output_type": "stream",
          "name": "stdout",
          "text": [
            "########## Epoch 10\n"
          ]
        },
        {
          "output_type": "stream",
          "name": "stderr",
          "text": [
            "100%|██████████| 6/6 [00:00<00:00,  8.05it/s]\n",
            "100%|██████████| 4/4 [00:00<00:00, 14.19it/s]\n"
          ]
        },
        {
          "output_type": "stream",
          "name": "stdout",
          "text": [
            "Train loss: 1.4691162109375\tVal loss: 1.225020408630371\tTrain acc: 53.651685393258425\tVal acc: 59.83621987951807\n"
          ]
        },
        {
          "output_type": "stream",
          "name": "stderr",
          "text": [
            "100%|██████████| 3/3 [00:00<00:00, 10.58it/s]\n",
            "100%|██████████| 2/2 [00:00<00:00,  7.66it/s]\n"
          ]
        },
        {
          "output_type": "stream",
          "name": "stdout",
          "text": [
            "########## Epoch 11\n"
          ]
        },
        {
          "output_type": "stream",
          "name": "stderr",
          "text": [
            "100%|██████████| 6/6 [00:00<00:00,  8.45it/s]\n",
            "100%|██████████| 4/4 [00:00<00:00, 14.12it/s]\n"
          ]
        },
        {
          "output_type": "stream",
          "name": "stdout",
          "text": [
            "Train loss: 1.3688058853149414\tVal loss: 1.1623605489730835\tTrain acc: 53.651685393258425\tVal acc: 59.30675828313253\n"
          ]
        },
        {
          "output_type": "stream",
          "name": "stderr",
          "text": [
            "100%|██████████| 3/3 [00:00<00:00, 10.47it/s]\n",
            "100%|██████████| 2/2 [00:00<00:00,  7.50it/s]\n"
          ]
        },
        {
          "output_type": "stream",
          "name": "stdout",
          "text": [
            "########## Epoch 12\n"
          ]
        },
        {
          "output_type": "stream",
          "name": "stderr",
          "text": [
            "100%|██████████| 6/6 [00:00<00:00,  8.30it/s]\n",
            "100%|██████████| 4/4 [00:00<00:00, 13.84it/s]\n"
          ]
        },
        {
          "output_type": "stream",
          "name": "stdout",
          "text": [
            "Train loss: 1.2702564001083374\tVal loss: 1.1042821407318115\tTrain acc: 53.651685393258425\tVal acc: 58.777296686746986\n"
          ]
        },
        {
          "output_type": "stream",
          "name": "stderr",
          "text": [
            "100%|██████████| 3/3 [00:00<00:00, 11.23it/s]\n",
            "100%|██████████| 2/2 [00:00<00:00,  7.77it/s]\n"
          ]
        },
        {
          "output_type": "stream",
          "name": "stdout",
          "text": [
            "########## Epoch 13\n"
          ]
        },
        {
          "output_type": "stream",
          "name": "stderr",
          "text": [
            "100%|██████████| 6/6 [00:00<00:00,  8.19it/s]\n",
            "100%|██████████| 4/4 [00:00<00:00, 13.88it/s]\n"
          ]
        },
        {
          "output_type": "stream",
          "name": "stdout",
          "text": [
            "Train loss: 1.1762934923171997\tVal loss: 1.000644564628601\tTrain acc: 53.651685393258425\tVal acc: 59.624435240963855\n"
          ]
        },
        {
          "output_type": "stream",
          "name": "stderr",
          "text": [
            "100%|██████████| 3/3 [00:00<00:00, 11.19it/s]\n",
            "100%|██████████| 2/2 [00:00<00:00,  7.43it/s]\n"
          ]
        },
        {
          "output_type": "stream",
          "name": "stdout",
          "text": [
            "########## Epoch 14\n"
          ]
        },
        {
          "output_type": "stream",
          "name": "stderr",
          "text": [
            "100%|██████████| 6/6 [00:00<00:00,  8.40it/s]\n",
            "100%|██████████| 4/4 [00:00<00:00, 13.39it/s]\n"
          ]
        },
        {
          "output_type": "stream",
          "name": "stdout",
          "text": [
            "Train loss: 1.0789743661880493\tVal loss: 0.9421877264976501\tTrain acc: 53.651685393258425\tVal acc: 58.671404367469876\n"
          ]
        },
        {
          "output_type": "stream",
          "name": "stderr",
          "text": [
            "100%|██████████| 3/3 [00:00<00:00, 10.26it/s]\n",
            "100%|██████████| 2/2 [00:00<00:00,  7.49it/s]\n"
          ]
        },
        {
          "output_type": "stream",
          "name": "stdout",
          "text": [
            "########## Epoch 15\n"
          ]
        },
        {
          "output_type": "stream",
          "name": "stderr",
          "text": [
            "100%|██████████| 6/6 [00:00<00:00,  8.14it/s]\n",
            "100%|██████████| 4/4 [00:00<00:00, 14.05it/s]\n"
          ]
        },
        {
          "output_type": "stream",
          "name": "stdout",
          "text": [
            "Train loss: 0.9895260334014893\tVal loss: 0.8502210974693298\tTrain acc: 53.651685393258425\tVal acc: 59.94211219879518\n"
          ]
        },
        {
          "output_type": "stream",
          "name": "stderr",
          "text": [
            "100%|██████████| 3/3 [00:00<00:00, 10.81it/s]\n",
            "100%|██████████| 2/2 [00:00<00:00,  7.28it/s]\n"
          ]
        },
        {
          "output_type": "stream",
          "name": "stdout",
          "text": [
            "########## Epoch 16\n"
          ]
        },
        {
          "output_type": "stream",
          "name": "stderr",
          "text": [
            "100%|██████████| 6/6 [00:00<00:00,  8.14it/s]\n",
            "100%|██████████| 4/4 [00:00<00:00, 13.73it/s]\n"
          ]
        },
        {
          "output_type": "stream",
          "name": "stdout",
          "text": [
            "Train loss: 0.898705244064331\tVal loss: 0.7858449220657349\tTrain acc: 53.651685393258425\tVal acc: 59.30675828313253\n"
          ]
        },
        {
          "output_type": "stream",
          "name": "stderr",
          "text": [
            "100%|██████████| 3/3 [00:00<00:00, 11.04it/s]\n",
            "100%|██████████| 2/2 [00:00<00:00,  7.73it/s]\n"
          ]
        },
        {
          "output_type": "stream",
          "name": "stdout",
          "text": [
            "########## Epoch 17\n"
          ]
        },
        {
          "output_type": "stream",
          "name": "stderr",
          "text": [
            "100%|██████████| 6/6 [00:00<00:00,  7.89it/s]\n",
            "100%|██████████| 4/4 [00:00<00:00, 13.87it/s]\n"
          ]
        },
        {
          "output_type": "stream",
          "name": "stdout",
          "text": [
            "Train loss: 0.8137929439544678\tVal loss: 0.7339754104614258\tTrain acc: 53.651685393258425\tVal acc: 58.15841490963855\n"
          ]
        },
        {
          "output_type": "stream",
          "name": "stderr",
          "text": [
            "100%|██████████| 3/3 [00:00<00:00, 10.93it/s]\n",
            "100%|██████████| 2/2 [00:00<00:00,  7.59it/s]\n"
          ]
        },
        {
          "output_type": "stream",
          "name": "stdout",
          "text": [
            "########## Epoch 18\n"
          ]
        },
        {
          "output_type": "stream",
          "name": "stderr",
          "text": [
            "100%|██████████| 6/6 [00:00<00:00,  7.97it/s]\n",
            "100%|██████████| 4/4 [00:00<00:00, 13.79it/s]\n"
          ]
        },
        {
          "output_type": "stream",
          "name": "stdout",
          "text": [
            "Train loss: 0.7288661003112793\tVal loss: 0.6643186807632446\tTrain acc: 54.97425093632959\tVal acc: 60.46216114457832\n"
          ]
        },
        {
          "output_type": "stream",
          "name": "stderr",
          "text": [
            "100%|██████████| 3/3 [00:00<00:00, 10.71it/s]\n",
            "100%|██████████| 2/2 [00:00<00:00,  7.08it/s]\n"
          ]
        },
        {
          "output_type": "stream",
          "name": "stdout",
          "text": [
            "########## Epoch 19\n"
          ]
        },
        {
          "output_type": "stream",
          "name": "stderr",
          "text": [
            "100%|██████████| 6/6 [00:00<00:00,  8.09it/s]\n",
            "100%|██████████| 4/4 [00:00<00:00, 12.58it/s]\n"
          ]
        },
        {
          "output_type": "stream",
          "name": "stdout",
          "text": [
            "Train loss: 0.6529251933097839\tVal loss: 0.6026326417922974\tTrain acc: 62.54315894194756\tVal acc: 71.00197665662651\n"
          ]
        },
        {
          "output_type": "stream",
          "name": "stderr",
          "text": [
            "100%|██████████| 3/3 [00:00<00:00, 10.77it/s]\n",
            "100%|██████████| 2/2 [00:00<00:00,  7.33it/s]\n"
          ]
        },
        {
          "output_type": "stream",
          "name": "stdout",
          "text": [
            "########## Epoch 20\n"
          ]
        },
        {
          "output_type": "stream",
          "name": "stderr",
          "text": [
            "100%|██████████| 6/6 [00:00<00:00,  8.21it/s]\n",
            "100%|██████████| 4/4 [00:00<00:00, 13.51it/s]\n"
          ]
        },
        {
          "output_type": "stream",
          "name": "stdout",
          "text": [
            "Train loss: 0.5846431851387024\tVal loss: 0.5507173538208008\tTrain acc: 74.00588132022472\tVal acc: 77.76496611445783\n"
          ]
        },
        {
          "output_type": "stream",
          "name": "stderr",
          "text": [
            "100%|██████████| 3/3 [00:00<00:00, 10.46it/s]\n",
            "100%|██████████| 2/2 [00:00<00:00,  8.13it/s]\n"
          ]
        },
        {
          "output_type": "stream",
          "name": "stdout",
          "text": [
            "########## Epoch 21\n"
          ]
        },
        {
          "output_type": "stream",
          "name": "stderr",
          "text": [
            "100%|██████████| 6/6 [00:00<00:00,  8.02it/s]\n",
            "100%|██████████| 4/4 [00:00<00:00, 13.92it/s]\n"
          ]
        },
        {
          "output_type": "stream",
          "name": "stdout",
          "text": [
            "Train loss: 0.5248273015022278\tVal loss: 0.496624618768692\tTrain acc: 81.01738061797754\tVal acc: 80.53228539156626\n"
          ]
        },
        {
          "output_type": "stream",
          "name": "stderr",
          "text": [
            "100%|██████████| 3/3 [00:00<00:00, 10.81it/s]\n",
            "100%|██████████| 2/2 [00:00<00:00,  8.06it/s]\n"
          ]
        },
        {
          "output_type": "stream",
          "name": "stdout",
          "text": [
            "########## Epoch 22\n"
          ]
        },
        {
          "output_type": "stream",
          "name": "stderr",
          "text": [
            "100%|██████████| 6/6 [00:00<00:00,  8.25it/s]\n",
            "100%|██████████| 4/4 [00:00<00:00, 13.64it/s]\n"
          ]
        },
        {
          "output_type": "stream",
          "name": "stdout",
          "text": [
            "Train loss: 0.4765675365924835\tVal loss: 0.4721285104751587\tTrain acc: 82.40066128277154\tVal acc: 80.93938253012048\n"
          ]
        },
        {
          "output_type": "stream",
          "name": "stderr",
          "text": [
            "100%|██████████| 3/3 [00:00<00:00, 10.44it/s]\n",
            "100%|██████████| 2/2 [00:00<00:00,  7.85it/s]\n"
          ]
        },
        {
          "output_type": "stream",
          "name": "stdout",
          "text": [
            "########## Epoch 23\n"
          ]
        },
        {
          "output_type": "stream",
          "name": "stderr",
          "text": [
            "100%|██████████| 6/6 [00:00<00:00,  8.20it/s]\n",
            "100%|██████████| 4/4 [00:00<00:00, 13.92it/s]\n"
          ]
        },
        {
          "output_type": "stream",
          "name": "stdout",
          "text": [
            "Train loss: 0.4394131898880005\tVal loss: 0.44618892669677734\tTrain acc: 82.78323970037452\tVal acc: 81.31353539156626\n"
          ]
        },
        {
          "output_type": "stream",
          "name": "stderr",
          "text": [
            "100%|██████████| 3/3 [00:00<00:00, 10.62it/s]\n",
            "100%|██████████| 2/2 [00:00<00:00,  7.54it/s]\n"
          ]
        },
        {
          "output_type": "stream",
          "name": "stdout",
          "text": [
            "########## Epoch 24\n"
          ]
        },
        {
          "output_type": "stream",
          "name": "stderr",
          "text": [
            "100%|██████████| 6/6 [00:00<00:00,  8.25it/s]\n",
            "100%|██████████| 4/4 [00:00<00:00, 13.27it/s]\n"
          ]
        },
        {
          "output_type": "stream",
          "name": "stdout",
          "text": [
            "Train loss: 0.408023476600647\tVal loss: 0.4224516749382019\tTrain acc: 83.96755032771536\tVal acc: 83.2101844879518\n"
          ]
        },
        {
          "output_type": "stream",
          "name": "stderr",
          "text": [
            "100%|██████████| 3/3 [00:00<00:00, 11.18it/s]\n",
            "100%|██████████| 2/2 [00:00<00:00,  7.90it/s]\n"
          ]
        },
        {
          "output_type": "stream",
          "name": "stdout",
          "text": [
            "########## Epoch 0\n"
          ]
        },
        {
          "output_type": "stream",
          "name": "stderr",
          "text": [
            "100%|██████████| 6/6 [00:00<00:00,  8.35it/s]\n",
            "100%|██████████| 6/6 [00:00<00:00, 19.66it/s]\n"
          ]
        },
        {
          "output_type": "stream",
          "name": "stdout",
          "text": [
            "Train loss: 0.8449983596801758\tVal loss: 0.5018720030784607\tTrain acc: 75.73077598314607\tVal acc: 82.68229166666667\n"
          ]
        },
        {
          "output_type": "stream",
          "name": "stderr",
          "text": [
            "100%|██████████| 3/3 [00:00<00:00, 10.93it/s]\n",
            "100%|██████████| 2/2 [00:00<00:00,  7.50it/s]\n",
            "100%|██████████| 2/2 [00:00<00:00,  7.96it/s]\n"
          ]
        },
        {
          "output_type": "stream",
          "name": "stdout",
          "text": [
            "########## Epoch 1\n"
          ]
        },
        {
          "output_type": "stream",
          "name": "stderr",
          "text": [
            "100%|██████████| 6/6 [00:00<00:00,  8.30it/s]\n",
            "100%|██████████| 6/6 [00:00<00:00, 18.48it/s]\n"
          ]
        },
        {
          "output_type": "stream",
          "name": "stdout",
          "text": [
            "Train loss: 0.7860564589500427\tVal loss: 0.5049220323562622\tTrain acc: 78.4241865636704\tVal acc: 80.859375\n"
          ]
        },
        {
          "output_type": "stream",
          "name": "stderr",
          "text": [
            "100%|██████████| 3/3 [00:00<00:00, 10.47it/s]\n",
            "100%|██████████| 2/2 [00:00<00:00,  7.12it/s]\n",
            "100%|██████████| 2/2 [00:00<00:00,  7.72it/s]\n"
          ]
        },
        {
          "output_type": "stream",
          "name": "stdout",
          "text": [
            "########## Epoch 2\n"
          ]
        },
        {
          "output_type": "stream",
          "name": "stderr",
          "text": [
            "100%|██████████| 6/6 [00:00<00:00,  8.00it/s]\n",
            "100%|██████████| 6/6 [00:00<00:00, 19.68it/s]\n"
          ]
        },
        {
          "output_type": "stream",
          "name": "stdout",
          "text": [
            "Train loss: 0.7156770825386047\tVal loss: 0.4840516149997711\tTrain acc: 83.6654377340824\tVal acc: 80.98958333333333\n"
          ]
        },
        {
          "output_type": "stream",
          "name": "stderr",
          "text": [
            "100%|██████████| 3/3 [00:00<00:00, 10.67it/s]\n",
            "100%|██████████| 2/2 [00:00<00:00,  7.76it/s]\n",
            "100%|██████████| 2/2 [00:00<00:00,  7.52it/s]\n"
          ]
        },
        {
          "output_type": "stream",
          "name": "stdout",
          "text": [
            "########## Epoch 3\n"
          ]
        },
        {
          "output_type": "stream",
          "name": "stderr",
          "text": [
            "100%|██████████| 6/6 [00:00<00:00,  8.12it/s]\n",
            "100%|██████████| 6/6 [00:00<00:00, 18.85it/s]\n"
          ]
        },
        {
          "output_type": "stream",
          "name": "stdout",
          "text": [
            "Train loss: 0.6392442584037781\tVal loss: 0.4187425374984741\tTrain acc: 84.5366631554307\tVal acc: 85.546875\n"
          ]
        },
        {
          "output_type": "stream",
          "name": "stderr",
          "text": [
            "100%|██████████| 3/3 [00:00<00:00, 11.04it/s]\n",
            "100%|██████████| 2/2 [00:00<00:00,  7.21it/s]\n",
            "100%|██████████| 2/2 [00:00<00:00,  7.63it/s]\n"
          ]
        },
        {
          "output_type": "stream",
          "name": "stdout",
          "text": [
            "########## Epoch 4\n"
          ]
        },
        {
          "output_type": "stream",
          "name": "stderr",
          "text": [
            "100%|██████████| 6/6 [00:00<00:00,  8.28it/s]\n",
            "100%|██████████| 6/6 [00:00<00:00, 19.12it/s]\n"
          ]
        },
        {
          "output_type": "stream",
          "name": "stdout",
          "text": [
            "Train loss: 0.603971540927887\tVal loss: 0.5139996409416199\tTrain acc: 82.47308052434457\tVal acc: 81.38020833333333\n"
          ]
        },
        {
          "output_type": "stream",
          "name": "stderr",
          "text": [
            "100%|██████████| 3/3 [00:00<00:00, 10.76it/s]\n",
            "100%|██████████| 2/2 [00:00<00:00,  7.43it/s]\n",
            "100%|██████████| 2/2 [00:00<00:00,  7.49it/s]\n"
          ]
        },
        {
          "output_type": "stream",
          "name": "stdout",
          "text": [
            "########## Epoch 5\n"
          ]
        },
        {
          "output_type": "stream",
          "name": "stderr",
          "text": [
            "100%|██████████| 6/6 [00:00<00:00,  8.18it/s]\n",
            "100%|██████████| 6/6 [00:00<00:00, 18.62it/s]\n"
          ]
        },
        {
          "output_type": "stream",
          "name": "stdout",
          "text": [
            "Train loss: 0.5706979632377625\tVal loss: 0.4560984671115875\tTrain acc: 83.1116865636704\tVal acc: 81.38020833333333\n"
          ]
        },
        {
          "output_type": "stream",
          "name": "stderr",
          "text": [
            "100%|██████████| 3/3 [00:00<00:00, 10.90it/s]\n",
            "100%|██████████| 2/2 [00:00<00:00,  7.18it/s]\n",
            "100%|██████████| 2/2 [00:00<00:00,  7.45it/s]\n"
          ]
        },
        {
          "output_type": "stream",
          "name": "stdout",
          "text": [
            "########## Epoch 6\n"
          ]
        },
        {
          "output_type": "stream",
          "name": "stderr",
          "text": [
            "100%|██████████| 6/6 [00:00<00:00,  8.07it/s]\n",
            "100%|██████████| 6/6 [00:00<00:00, 20.07it/s]\n"
          ]
        },
        {
          "output_type": "stream",
          "name": "stdout",
          "text": [
            "Train loss: 0.544806718826294\tVal loss: 0.507548987865448\tTrain acc: 81.1424683988764\tVal acc: 73.30729166666667\n"
          ]
        },
        {
          "output_type": "stream",
          "name": "stderr",
          "text": [
            "100%|██████████| 3/3 [00:00<00:00, 10.21it/s]\n",
            "100%|██████████| 2/2 [00:00<00:00,  7.63it/s]\n",
            "100%|██████████| 2/2 [00:00<00:00,  7.57it/s]\n"
          ]
        },
        {
          "output_type": "stream",
          "name": "stdout",
          "text": [
            "########## Epoch 7\n"
          ]
        },
        {
          "output_type": "stream",
          "name": "stderr",
          "text": [
            "100%|██████████| 6/6 [00:00<00:00,  8.30it/s]\n",
            "100%|██████████| 6/6 [00:00<00:00, 18.85it/s]\n"
          ]
        },
        {
          "output_type": "stream",
          "name": "stdout",
          "text": [
            "Train loss: 0.5132809281349182\tVal loss: 0.3398284614086151\tTrain acc: 81.6106331928839\tVal acc: 85.546875\n"
          ]
        },
        {
          "output_type": "stream",
          "name": "stderr",
          "text": [
            "100%|██████████| 3/3 [00:00<00:00,  9.74it/s]\n",
            "100%|██████████| 2/2 [00:00<00:00,  7.55it/s]\n",
            "100%|██████████| 2/2 [00:00<00:00,  7.98it/s]\n"
          ]
        },
        {
          "output_type": "stream",
          "name": "stdout",
          "text": [
            "########## Epoch 8\n"
          ]
        },
        {
          "output_type": "stream",
          "name": "stderr",
          "text": [
            "100%|██████████| 6/6 [00:00<00:00,  8.18it/s]\n",
            "100%|██████████| 6/6 [00:00<00:00, 19.38it/s]\n"
          ]
        },
        {
          "output_type": "stream",
          "name": "stdout",
          "text": [
            "Train loss: 0.49870535731315613\tVal loss: 0.33822450041770935\tTrain acc: 81.39849602059925\tVal acc: 85.546875\n"
          ]
        },
        {
          "output_type": "stream",
          "name": "stderr",
          "text": [
            "100%|██████████| 3/3 [00:00<00:00,  9.85it/s]\n",
            "100%|██████████| 2/2 [00:00<00:00,  7.47it/s]\n",
            "100%|██████████| 2/2 [00:00<00:00,  7.05it/s]\n"
          ]
        },
        {
          "output_type": "stream",
          "name": "stdout",
          "text": [
            "########## Epoch 9\n"
          ]
        },
        {
          "output_type": "stream",
          "name": "stderr",
          "text": [
            "100%|██████████| 6/6 [00:00<00:00,  8.33it/s]\n",
            "100%|██████████| 6/6 [00:00<00:00, 19.34it/s]\n"
          ]
        },
        {
          "output_type": "stream",
          "name": "stdout",
          "text": [
            "Train loss: 0.4630836248397827\tVal loss: 0.3604503571987152\tTrain acc: 82.63181764981273\tVal acc: 81.77083333333333\n"
          ]
        },
        {
          "output_type": "stream",
          "name": "stderr",
          "text": [
            "100%|██████████| 3/3 [00:00<00:00, 10.96it/s]\n",
            "100%|██████████| 2/2 [00:00<00:00,  7.14it/s]\n",
            "100%|██████████| 2/2 [00:00<00:00,  7.03it/s]\n"
          ]
        },
        {
          "output_type": "stream",
          "name": "stdout",
          "text": [
            "########## Epoch 10\n"
          ]
        },
        {
          "output_type": "stream",
          "name": "stderr",
          "text": [
            "100%|██████████| 6/6 [00:00<00:00,  8.21it/s]\n",
            "100%|██████████| 6/6 [00:00<00:00, 18.01it/s]\n"
          ]
        },
        {
          "output_type": "stream",
          "name": "stdout",
          "text": [
            "Train loss: 0.4414292275905609\tVal loss: 0.45516619086265564\tTrain acc: 85.06920060861422\tVal acc: 78.90625\n"
          ]
        },
        {
          "output_type": "stream",
          "name": "stderr",
          "text": [
            "100%|██████████| 3/3 [00:00<00:00, 10.43it/s]\n",
            "100%|██████████| 2/2 [00:00<00:00,  7.17it/s]\n",
            "100%|██████████| 2/2 [00:00<00:00,  7.14it/s]\n"
          ]
        },
        {
          "output_type": "stream",
          "name": "stdout",
          "text": [
            "########## Epoch 11\n"
          ]
        },
        {
          "output_type": "stream",
          "name": "stderr",
          "text": [
            "100%|██████████| 6/6 [00:00<00:00,  8.34it/s]\n",
            "100%|██████████| 6/6 [00:00<00:00, 19.47it/s]\n"
          ]
        },
        {
          "output_type": "stream",
          "name": "stdout",
          "text": [
            "Train loss: 0.4253406226634979\tVal loss: 0.3828451335430145\tTrain acc: 87.18984082397003\tVal acc: 83.72395833333333\n"
          ]
        },
        {
          "output_type": "stream",
          "name": "stderr",
          "text": [
            "100%|██████████| 3/3 [00:00<00:00, 11.12it/s]\n",
            "100%|██████████| 2/2 [00:00<00:00,  7.28it/s]\n",
            "100%|██████████| 2/2 [00:00<00:00,  7.50it/s]\n"
          ]
        },
        {
          "output_type": "stream",
          "name": "stdout",
          "text": [
            "########## Epoch 12\n"
          ]
        },
        {
          "output_type": "stream",
          "name": "stderr",
          "text": [
            "100%|██████████| 6/6 [00:00<00:00,  8.34it/s]\n",
            "100%|██████████| 6/6 [00:00<00:00, 18.38it/s]\n"
          ]
        },
        {
          "output_type": "stream",
          "name": "stdout",
          "text": [
            "Train loss: 0.40543225407600403\tVal loss: 0.32004496455192566\tTrain acc: 90.79105220037452\tVal acc: 90.49479166666667\n"
          ]
        },
        {
          "output_type": "stream",
          "name": "stderr",
          "text": [
            "100%|██████████| 3/3 [00:00<00:00, 10.49it/s]\n",
            "100%|██████████| 2/2 [00:00<00:00,  7.60it/s]\n",
            "100%|██████████| 2/2 [00:00<00:00,  6.90it/s]\n"
          ]
        },
        {
          "output_type": "stream",
          "name": "stdout",
          "text": [
            "########## Epoch 13\n"
          ]
        },
        {
          "output_type": "stream",
          "name": "stderr",
          "text": [
            "100%|██████████| 6/6 [00:00<00:00,  8.35it/s]\n",
            "100%|██████████| 6/6 [00:00<00:00, 17.43it/s]\n"
          ]
        },
        {
          "output_type": "stream",
          "name": "stdout",
          "text": [
            "Train loss: 0.39008858799934387\tVal loss: 0.3650684058666229\tTrain acc: 93.01702949438203\tVal acc: 88.02083333333333\n"
          ]
        },
        {
          "output_type": "stream",
          "name": "stderr",
          "text": [
            "100%|██████████| 3/3 [00:00<00:00, 10.44it/s]\n",
            "100%|██████████| 2/2 [00:00<00:00,  7.42it/s]\n",
            "100%|██████████| 2/2 [00:00<00:00,  6.51it/s]\n"
          ]
        },
        {
          "output_type": "stream",
          "name": "stdout",
          "text": [
            "########## Epoch 14\n"
          ]
        },
        {
          "output_type": "stream",
          "name": "stderr",
          "text": [
            "100%|██████████| 6/6 [00:00<00:00,  8.02it/s]\n",
            "100%|██████████| 6/6 [00:00<00:00, 18.20it/s]\n"
          ]
        },
        {
          "output_type": "stream",
          "name": "stdout",
          "text": [
            "Train loss: 0.3702101409435272\tVal loss: 0.39122453331947327\tTrain acc: 92.77270599250937\tVal acc: 88.41145833333333\n"
          ]
        },
        {
          "output_type": "stream",
          "name": "stderr",
          "text": [
            "100%|██████████| 3/3 [00:00<00:00, 10.66it/s]\n",
            "100%|██████████| 2/2 [00:00<00:00,  7.53it/s]\n",
            "100%|██████████| 2/2 [00:00<00:00,  7.33it/s]\n"
          ]
        },
        {
          "output_type": "stream",
          "name": "stdout",
          "text": [
            "########## Epoch 15\n"
          ]
        },
        {
          "output_type": "stream",
          "name": "stderr",
          "text": [
            "100%|██████████| 6/6 [00:00<00:00,  8.23it/s]\n",
            "100%|██████████| 6/6 [00:00<00:00, 18.81it/s]\n"
          ]
        },
        {
          "output_type": "stream",
          "name": "stdout",
          "text": [
            "Train loss: 0.3542756140232086\tVal loss: 0.31291621923446655\tTrain acc: 93.05360486891385\tVal acc: 91.92708333333333\n"
          ]
        },
        {
          "output_type": "stream",
          "name": "stderr",
          "text": [
            "100%|██████████| 3/3 [00:00<00:00, 10.63it/s]\n",
            "100%|██████████| 2/2 [00:00<00:00,  7.73it/s]\n",
            "100%|██████████| 2/2 [00:00<00:00,  7.59it/s]\n"
          ]
        },
        {
          "output_type": "stream",
          "name": "stdout",
          "text": [
            "########## Epoch 16\n"
          ]
        },
        {
          "output_type": "stream",
          "name": "stderr",
          "text": [
            "100%|██████████| 6/6 [00:00<00:00,  8.26it/s]\n",
            "100%|██████████| 6/6 [00:00<00:00, 18.26it/s]\n"
          ]
        },
        {
          "output_type": "stream",
          "name": "stdout",
          "text": [
            "Train loss: 0.35094988346099854\tVal loss: 0.3884158432483673\tTrain acc: 93.07408707865169\tVal acc: 87.5\n"
          ]
        },
        {
          "output_type": "stream",
          "name": "stderr",
          "text": [
            "100%|██████████| 3/3 [00:00<00:00, 10.20it/s]\n",
            "100%|██████████| 2/2 [00:00<00:00,  7.43it/s]\n",
            "100%|██████████| 2/2 [00:00<00:00,  7.59it/s]\n"
          ]
        },
        {
          "output_type": "stream",
          "name": "stdout",
          "text": [
            "########## Epoch 17\n"
          ]
        },
        {
          "output_type": "stream",
          "name": "stderr",
          "text": [
            "100%|██████████| 6/6 [00:00<00:00,  8.25it/s]\n",
            "100%|██████████| 6/6 [00:00<00:00, 18.27it/s]\n"
          ]
        },
        {
          "output_type": "stream",
          "name": "stdout",
          "text": [
            "Train loss: 0.32849088311195374\tVal loss: 0.31873762607574463\tTrain acc: 93.90800561797754\tVal acc: 92.44791666666667\n"
          ]
        },
        {
          "output_type": "stream",
          "name": "stderr",
          "text": [
            "100%|██████████| 3/3 [00:00<00:00,  9.44it/s]\n",
            "100%|██████████| 2/2 [00:00<00:00,  7.07it/s]\n",
            "100%|██████████| 2/2 [00:00<00:00,  7.98it/s]\n"
          ]
        },
        {
          "output_type": "stream",
          "name": "stdout",
          "text": [
            "########## Epoch 18\n"
          ]
        },
        {
          "output_type": "stream",
          "name": "stderr",
          "text": [
            "100%|██████████| 6/6 [00:00<00:00,  7.92it/s]\n",
            "100%|██████████| 6/6 [00:00<00:00, 18.97it/s]\n"
          ]
        },
        {
          "output_type": "stream",
          "name": "stdout",
          "text": [
            "Train loss: 0.3243881165981293\tVal loss: 0.28180697560310364\tTrain acc: 94.18451544943821\tVal acc: 93.09895833333333\n"
          ]
        },
        {
          "output_type": "stream",
          "name": "stderr",
          "text": [
            "100%|██████████| 3/3 [00:00<00:00, 10.49it/s]\n",
            "100%|██████████| 2/2 [00:00<00:00,  7.83it/s]\n",
            "100%|██████████| 2/2 [00:00<00:00,  7.32it/s]\n"
          ]
        },
        {
          "output_type": "stream",
          "name": "stdout",
          "text": [
            "########## Epoch 19\n"
          ]
        },
        {
          "output_type": "stream",
          "name": "stderr",
          "text": [
            "100%|██████████| 6/6 [00:00<00:00,  7.94it/s]\n",
            "100%|██████████| 6/6 [00:00<00:00, 19.24it/s]\n"
          ]
        },
        {
          "output_type": "stream",
          "name": "stdout",
          "text": [
            "Train loss: 0.3112644851207733\tVal loss: 0.277791291475296\tTrain acc: 94.68120903558052\tVal acc: 93.09895833333333\n"
          ]
        },
        {
          "output_type": "stream",
          "name": "stderr",
          "text": [
            "100%|██████████| 3/3 [00:00<00:00, 11.13it/s]\n",
            "100%|██████████| 2/2 [00:00<00:00,  6.98it/s]\n",
            "100%|██████████| 2/2 [00:00<00:00,  7.21it/s]\n"
          ]
        },
        {
          "output_type": "stream",
          "name": "stdout",
          "text": [
            "########## Epoch 20\n"
          ]
        },
        {
          "output_type": "stream",
          "name": "stderr",
          "text": [
            "100%|██████████| 6/6 [00:00<00:00,  8.20it/s]\n",
            "100%|██████████| 6/6 [00:00<00:00, 19.26it/s]\n"
          ]
        },
        {
          "output_type": "stream",
          "name": "stdout",
          "text": [
            "Train loss: 0.29731181263923645\tVal loss: 0.31445762515068054\tTrain acc: 95.39735486891385\tVal acc: 93.09895833333333\n"
          ]
        },
        {
          "output_type": "stream",
          "name": "stderr",
          "text": [
            "100%|██████████| 3/3 [00:00<00:00, 10.25it/s]\n",
            "100%|██████████| 2/2 [00:00<00:00,  7.25it/s]\n",
            "100%|██████████| 2/2 [00:00<00:00,  7.16it/s]\n"
          ]
        },
        {
          "output_type": "stream",
          "name": "stdout",
          "text": [
            "########## Epoch 21\n"
          ]
        },
        {
          "output_type": "stream",
          "name": "stderr",
          "text": [
            "100%|██████████| 6/6 [00:00<00:00,  8.11it/s]\n",
            "100%|██████████| 6/6 [00:00<00:00, 19.29it/s]\n"
          ]
        },
        {
          "output_type": "stream",
          "name": "stdout",
          "text": [
            "Train loss: 0.2930203974246979\tVal loss: 0.27455052733421326\tTrain acc: 94.70169124531834\tVal acc: 93.61979166666667\n"
          ]
        },
        {
          "output_type": "stream",
          "name": "stderr",
          "text": [
            "100%|██████████| 3/3 [00:00<00:00, 10.43it/s]\n",
            "100%|██████████| 2/2 [00:00<00:00,  7.58it/s]\n",
            "100%|██████████| 2/2 [00:00<00:00,  7.59it/s]\n"
          ]
        },
        {
          "output_type": "stream",
          "name": "stdout",
          "text": [
            "########## Epoch 22\n"
          ]
        },
        {
          "output_type": "stream",
          "name": "stderr",
          "text": [
            "100%|██████████| 6/6 [00:00<00:00,  8.36it/s]\n",
            "100%|██████████| 6/6 [00:00<00:00, 19.41it/s]\n"
          ]
        },
        {
          "output_type": "stream",
          "name": "stdout",
          "text": [
            "Train loss: 0.2740074098110199\tVal loss: 0.31766700744628906\tTrain acc: 96.15446512172285\tVal acc: 94.53125\n"
          ]
        },
        {
          "output_type": "stream",
          "name": "stderr",
          "text": [
            "100%|██████████| 3/3 [00:00<00:00, 10.29it/s]\n",
            "100%|██████████| 2/2 [00:00<00:00,  7.47it/s]\n",
            "100%|██████████| 2/2 [00:00<00:00,  7.25it/s]\n"
          ]
        },
        {
          "output_type": "stream",
          "name": "stdout",
          "text": [
            "########## Epoch 23\n"
          ]
        },
        {
          "output_type": "stream",
          "name": "stderr",
          "text": [
            "100%|██████████| 6/6 [00:00<00:00,  8.32it/s]\n",
            "100%|██████████| 6/6 [00:00<00:00, 18.29it/s]\n"
          ]
        },
        {
          "output_type": "stream",
          "name": "stdout",
          "text": [
            "Train loss: 0.2728869915008545\tVal loss: 0.29345107078552246\tTrain acc: 95.33225070224718\tVal acc: 94.921875\n"
          ]
        },
        {
          "output_type": "stream",
          "name": "stderr",
          "text": [
            "100%|██████████| 3/3 [00:00<00:00, 10.74it/s]\n",
            "100%|██████████| 2/2 [00:00<00:00,  7.45it/s]\n",
            "100%|██████████| 2/2 [00:00<00:00,  6.99it/s]\n"
          ]
        },
        {
          "output_type": "stream",
          "name": "stdout",
          "text": [
            "########## Epoch 24\n"
          ]
        },
        {
          "output_type": "stream",
          "name": "stderr",
          "text": [
            "100%|██████████| 6/6 [00:00<00:00,  8.25it/s]\n",
            "100%|██████████| 6/6 [00:00<00:00, 19.11it/s]\n"
          ]
        },
        {
          "output_type": "stream",
          "name": "stdout",
          "text": [
            "Train loss: 0.2567843496799469\tVal loss: 0.32337304949760437\tTrain acc: 96.08936095505618\tVal acc: 94.921875\n"
          ]
        },
        {
          "output_type": "stream",
          "name": "stderr",
          "text": [
            "100%|██████████| 3/3 [00:00<00:00, 10.78it/s]\n",
            "100%|██████████| 2/2 [00:00<00:00,  7.46it/s]\n",
            "100%|██████████| 2/2 [00:00<00:00,  7.62it/s]\n"
          ]
        },
        {
          "output_type": "display_data",
          "data": {
            "text/plain": [
              "<IPython.core.display.HTML object>"
            ],
            "text/html": [
              "Waiting for W&B process to finish... <strong style=\"color:green\">(success).</strong>"
            ]
          },
          "metadata": {}
        },
        {
          "output_type": "display_data",
          "data": {
            "text/plain": [
              "VBox(children=(Label(value='0.000 MB of 0.000 MB uploaded (0.000 MB deduped)\\r'), FloatProgress(value=1.0, max…"
            ],
            "application/vnd.jupyter.widget-view+json": {
              "version_major": 2,
              "version_minor": 0,
              "model_id": "0ddcbe3145be4d3d8c5032e2f6131162"
            }
          },
          "metadata": {}
        },
        {
          "output_type": "display_data",
          "data": {
            "text/plain": [
              "<IPython.core.display.HTML object>"
            ],
            "text/html": [
              "<style>\n",
              "    table.wandb td:nth-child(1) { padding: 0 10px; text-align: left ; width: auto;} td:nth-child(2) {text-align: left ; width: 100%}\n",
              "    .wandb-row { display: flex; flex-direction: row; flex-wrap: wrap; justify-content: flex-start; width: 100% }\n",
              "    .wandb-col { display: flex; flex-direction: column; flex-basis: 100%; flex: 1; padding: 10px; }\n",
              "    </style>\n",
              "<div class=\"wandb-row\"><div class=\"wandb-col\"><h3>Run history:</h3><br/><table class=\"wandb\"><tr><td>task_0_prevtask_0_val_acc</td><td>▁▅▇█▇█▇▇█▇▇▇▇▇▅▆▅█▇▇▇▇██▇</td></tr><tr><td>task_0_prevtask_0_val_loss</td><td>█▆▄▃▃▂▃▃▁▃▄▂▂▅▆▃▆▂▄▃▄▄▃▃▆</td></tr><tr><td>task_0_train_acc</td><td>▁▇▇▇▇▇█▇▇▇▇████▇██▇█▇████</td></tr><tr><td>task_0_train_loss</td><td>█▃▂▂▂▂▂▂▂▂▁▁▁▁▁▁▁▁▂▁▁▁▁▁▁</td></tr><tr><td>task_0_val_acc</td><td>▁▆▅▇██▆▇█▇████▆▅▆█▆▅███▅▆</td></tr><tr><td>task_0_val_loss</td><td>█▄▅▃▁▁▃▂▁▂▂▂▂▂▃▄▄▂▅▃▂▂▂█▄</td></tr><tr><td>task_1_prevtask_0_val_acc</td><td>▇██▆▆▃▅▇▇▄▇▁▇▅▇▁▅▃▅▅▂▆▃▄▅</td></tr><tr><td>task_1_prevtask_0_val_loss</td><td>▃▁▁▃▃▃▆▂▂▄▃▇▃▆▃▆▄▅▄▄▆▃█▄▅</td></tr><tr><td>task_1_prevtask_1_val_acc</td><td>▁▁▁▁▁▁▁▁▁▁▁▁▁▁▁▁▁▁▂▄▇████</td></tr><tr><td>task_1_prevtask_1_val_loss</td><td>█▇▇▆▆▅▅▅▄▄▄▄▃▃▃▂▂▂▂▂▁▁▁▁▁</td></tr><tr><td>task_1_train_acc</td><td>▁▁▁▁▁▁▁▁▁▁▁▁▁▁▁▁▁▁▁▃▆▇███</td></tr><tr><td>task_1_train_loss</td><td>█▇▇▆▆▅▅▅▄▄▄▄▃▃▃▃▂▂▂▂▁▁▁▁▁</td></tr><tr><td>task_1_val_acc</td><td>▂▁▂▂▁▁▂▁▁▁▂▁▁▁▁▂▁▁▂▅▆▇▇▇█</td></tr><tr><td>task_1_val_loss</td><td>█▇▇▆▆▅▅▅▄▄▄▄▃▃▃▂▂▂▂▂▁▁▁▁▁</td></tr><tr><td>task_2_prevtask_0_val_acc</td><td>▇█▅▂▇▇▃▄▇▅▇▁▄▇▇▇▂▇▇▄▅▅▅▇▇</td></tr><tr><td>task_2_prevtask_0_val_loss</td><td>▃▁▂▆▁▁▅▄▃▅▃█▆▄▄▆█▄▆▇█▆▆▅▅</td></tr><tr><td>task_2_prevtask_1_val_acc</td><td>▃▃▂▂▁▁▂▁▁▂▂▃▅▆▆▆▆▆▇▆▇▇███</td></tr><tr><td>task_2_prevtask_1_val_loss</td><td>▇▇▇███▇▇▇▆▆▅▄▄▄▃▄▃▃▃▂▂▂▁▁</td></tr><tr><td>task_2_prevtask_2_val_acc</td><td>▁▅▆▇██▇██▇█▇██▇██████▇███</td></tr><tr><td>task_2_prevtask_2_val_loss</td><td>█▆▅▄▃▃▃▃▃▃▂▂▂▂▂▂▂▁▁▂▁▂▁▁▁</td></tr><tr><td>task_2_train_acc</td><td>▁▂▄▄▃▄▃▃▃▃▄▅▆▇▇▇▇▇▇▇█████</td></tr><tr><td>task_2_train_loss</td><td>█▇▆▆▅▅▄▄▄▃▃▃▃▃▂▂▂▂▂▂▁▁▁▁▁</td></tr><tr><td>task_2_val_acc</td><td>▄▃▃▅▄▄▁▅▅▄▃▄▇▆▆▇▆▇▇▇▇████</td></tr><tr><td>task_2_val_loss</td><td>██▇▅█▆█▃▃▄▆▄▂▄▄▂▄▂▁▁▂▁▂▂▂</td></tr></table><br/></div><div class=\"wandb-col\"><h3>Run summary:</h3><br/><table class=\"wandb\"><tr><td>task_0_prevtask_0_val_acc</td><td>95.69547</td></tr><tr><td>task_0_prevtask_0_val_loss</td><td>0.20998</td></tr><tr><td>task_0_train_acc</td><td>98.82812</td></tr><tr><td>task_0_train_loss</td><td>0.03811</td></tr><tr><td>task_0_val_acc</td><td>95.69547</td></tr><tr><td>task_0_val_loss</td><td>0.15931</td></tr><tr><td>task_1_prevtask_0_val_acc</td><td>95.43505</td></tr><tr><td>task_1_prevtask_0_val_loss</td><td>0.1816</td></tr><tr><td>task_1_prevtask_1_val_acc</td><td>60.84184</td></tr><tr><td>task_1_prevtask_1_val_loss</td><td>0.83275</td></tr><tr><td>task_1_train_acc</td><td>83.96755</td></tr><tr><td>task_1_train_loss</td><td>0.40802</td></tr><tr><td>task_1_val_acc</td><td>83.21018</td></tr><tr><td>task_1_val_loss</td><td>0.42245</td></tr><tr><td>task_2_prevtask_0_val_acc</td><td>95.89461</td></tr><tr><td>task_2_prevtask_0_val_loss</td><td>0.22795</td></tr><tr><td>task_2_prevtask_1_val_acc</td><td>89.42921</td></tr><tr><td>task_2_prevtask_1_val_loss</td><td>0.52222</td></tr><tr><td>task_2_prevtask_2_val_acc</td><td>96.63584</td></tr><tr><td>task_2_prevtask_2_val_loss</td><td>0.18684</td></tr><tr><td>task_2_train_acc</td><td>96.08936</td></tr><tr><td>task_2_train_loss</td><td>0.25678</td></tr><tr><td>task_2_val_acc</td><td>94.92188</td></tr><tr><td>task_2_val_loss</td><td>0.32337</td></tr></table><br/></div></div>"
            ]
          },
          "metadata": {}
        },
        {
          "output_type": "display_data",
          "data": {
            "text/plain": [
              "<IPython.core.display.HTML object>"
            ],
            "text/html": [
              "Synced <strong style=\"color:#cdcd00\">reservoir_imagecondition_yesno_roadcondition_20_09_22h59m25s_mul</strong>: <a href=\"https://wandb.ai/compyle/continual_vqa_final/runs/2d6u0cqx\" target=\"_blank\">https://wandb.ai/compyle/continual_vqa_final/runs/2d6u0cqx</a><br/>Synced 5 W&B file(s), 0 media file(s), 0 artifact file(s) and 0 other file(s)"
            ]
          },
          "metadata": {}
        },
        {
          "output_type": "display_data",
          "data": {
            "text/plain": [
              "<IPython.core.display.HTML object>"
            ],
            "text/html": [
              "Find logs at: <code>./wandb/run-20220920_225925-2d6u0cqx/logs</code>"
            ]
          },
          "metadata": {}
        },
        {
          "output_type": "display_data",
          "data": {
            "text/plain": [
              "<IPython.core.display.HTML object>"
            ],
            "text/html": [
              "Tracking run with wandb version 0.13.3"
            ]
          },
          "metadata": {}
        },
        {
          "output_type": "display_data",
          "data": {
            "text/plain": [
              "<IPython.core.display.HTML object>"
            ],
            "text/html": [
              "Run data is saved locally in <code>/content/wandb/run-20220920_230137-141fosas</code>"
            ]
          },
          "metadata": {}
        },
        {
          "output_type": "display_data",
          "data": {
            "text/plain": [
              "<IPython.core.display.HTML object>"
            ],
            "text/html": [
              "Syncing run <strong><a href=\"https://wandb.ai/compyle/continual_vqa_final/runs/141fosas\" target=\"_blank\">reservoir_imagecondition_roadcondition_yesno_20_09_23h01m37s_mul</a></strong> to <a href=\"https://wandb.ai/compyle/continual_vqa_final\" target=\"_blank\">Weights & Biases</a> (<a href=\"https://wandb.me/run\" target=\"_blank\">docs</a>)<br/>"
            ]
          },
          "metadata": {}
        },
        {
          "output_type": "stream",
          "name": "stdout",
          "text": [
            "########## Epoch 0\n"
          ]
        },
        {
          "output_type": "stream",
          "name": "stderr",
          "text": [
            "100%|██████████| 10/10 [00:00<00:00, 17.97it/s]\n",
            "100%|██████████| 3/3 [00:00<00:00,  9.84it/s]\n"
          ]
        },
        {
          "output_type": "stream",
          "name": "stdout",
          "text": [
            "Train loss: 0.686522364616394\tVal loss: 0.2229657620191574\tTrain acc: 77.70833333333334\tVal acc: 86.44301470588236\n"
          ]
        },
        {
          "output_type": "stream",
          "name": "stderr",
          "text": [
            "100%|██████████| 3/3 [00:00<00:00, 10.47it/s]\n"
          ]
        },
        {
          "output_type": "stream",
          "name": "stdout",
          "text": [
            "########## Epoch 1\n"
          ]
        },
        {
          "output_type": "stream",
          "name": "stderr",
          "text": [
            "100%|██████████| 10/10 [00:00<00:00, 17.77it/s]\n",
            "100%|██████████| 3/3 [00:00<00:00, 10.66it/s]\n"
          ]
        },
        {
          "output_type": "stream",
          "name": "stdout",
          "text": [
            "Train loss: 0.29199689626693726\tVal loss: 0.11333918571472168\tTrain acc: 91.51041666666666\tVal acc: 97.1966911764706\n"
          ]
        },
        {
          "output_type": "stream",
          "name": "stderr",
          "text": [
            "100%|██████████| 3/3 [00:00<00:00, 10.04it/s]\n"
          ]
        },
        {
          "output_type": "stream",
          "name": "stdout",
          "text": [
            "########## Epoch 2\n"
          ]
        },
        {
          "output_type": "stream",
          "name": "stderr",
          "text": [
            "100%|██████████| 10/10 [00:00<00:00, 17.96it/s]\n",
            "100%|██████████| 3/3 [00:00<00:00, 10.71it/s]\n"
          ]
        },
        {
          "output_type": "stream",
          "name": "stdout",
          "text": [
            "Train loss: 0.15942375361919403\tVal loss: 0.09881021827459335\tTrain acc: 95.46875\tVal acc: 97.45710784313725\n"
          ]
        },
        {
          "output_type": "stream",
          "name": "stderr",
          "text": [
            "100%|██████████| 3/3 [00:00<00:00, 10.69it/s]\n"
          ]
        },
        {
          "output_type": "stream",
          "name": "stdout",
          "text": [
            "########## Epoch 3\n"
          ]
        },
        {
          "output_type": "stream",
          "name": "stderr",
          "text": [
            "100%|██████████| 10/10 [00:00<00:00, 17.90it/s]\n",
            "100%|██████████| 3/3 [00:00<00:00, 10.77it/s]\n"
          ]
        },
        {
          "output_type": "stream",
          "name": "stdout",
          "text": [
            "Train loss: 0.14775867760181427\tVal loss: 0.0882301852107048\tTrain acc: 95.703125\tVal acc: 96.73713235294117\n"
          ]
        },
        {
          "output_type": "stream",
          "name": "stderr",
          "text": [
            "100%|██████████| 3/3 [00:00<00:00, 10.19it/s]\n"
          ]
        },
        {
          "output_type": "stream",
          "name": "stdout",
          "text": [
            "########## Epoch 4\n"
          ]
        },
        {
          "output_type": "stream",
          "name": "stderr",
          "text": [
            "100%|██████████| 10/10 [00:00<00:00, 17.86it/s]\n",
            "100%|██████████| 3/3 [00:00<00:00, 10.83it/s]\n"
          ]
        },
        {
          "output_type": "stream",
          "name": "stdout",
          "text": [
            "Train loss: 0.12215107679367065\tVal loss: 0.0731421634554863\tTrain acc: 96.171875\tVal acc: 98.17708333333333\n"
          ]
        },
        {
          "output_type": "stream",
          "name": "stderr",
          "text": [
            "100%|██████████| 3/3 [00:00<00:00,  9.72it/s]\n"
          ]
        },
        {
          "output_type": "stream",
          "name": "stdout",
          "text": [
            "########## Epoch 5\n"
          ]
        },
        {
          "output_type": "stream",
          "name": "stderr",
          "text": [
            "100%|██████████| 10/10 [00:00<00:00, 17.98it/s]\n",
            "100%|██████████| 3/3 [00:00<00:00, 10.53it/s]\n"
          ]
        },
        {
          "output_type": "stream",
          "name": "stdout",
          "text": [
            "Train loss: 0.11252206563949585\tVal loss: 0.060473039746284485\tTrain acc: 96.5625\tVal acc: 98.4375\n"
          ]
        },
        {
          "output_type": "stream",
          "name": "stderr",
          "text": [
            "100%|██████████| 3/3 [00:00<00:00, 10.18it/s]\n"
          ]
        },
        {
          "output_type": "stream",
          "name": "stdout",
          "text": [
            "########## Epoch 6\n"
          ]
        },
        {
          "output_type": "stream",
          "name": "stderr",
          "text": [
            "100%|██████████| 10/10 [00:00<00:00, 18.59it/s]\n",
            "100%|██████████| 3/3 [00:00<00:00,  9.87it/s]\n"
          ]
        },
        {
          "output_type": "stream",
          "name": "stdout",
          "text": [
            "Train loss: 0.10710227489471436\tVal loss: 0.07797712087631226\tTrain acc: 96.71875\tVal acc: 98.4375\n"
          ]
        },
        {
          "output_type": "stream",
          "name": "stderr",
          "text": [
            "100%|██████████| 3/3 [00:00<00:00, 10.35it/s]\n"
          ]
        },
        {
          "output_type": "stream",
          "name": "stdout",
          "text": [
            "########## Epoch 7\n"
          ]
        },
        {
          "output_type": "stream",
          "name": "stderr",
          "text": [
            "100%|██████████| 10/10 [00:00<00:00, 17.76it/s]\n",
            "100%|██████████| 3/3 [00:00<00:00,  9.89it/s]\n"
          ]
        },
        {
          "output_type": "stream",
          "name": "stdout",
          "text": [
            "Train loss: 0.10292710363864899\tVal loss: 0.05267692729830742\tTrain acc: 96.484375\tVal acc: 98.69791666666667\n"
          ]
        },
        {
          "output_type": "stream",
          "name": "stderr",
          "text": [
            "100%|██████████| 3/3 [00:00<00:00, 10.26it/s]\n"
          ]
        },
        {
          "output_type": "stream",
          "name": "stdout",
          "text": [
            "########## Epoch 8\n"
          ]
        },
        {
          "output_type": "stream",
          "name": "stderr",
          "text": [
            "100%|██████████| 10/10 [00:00<00:00, 17.47it/s]\n",
            "100%|██████████| 3/3 [00:00<00:00,  9.90it/s]\n"
          ]
        },
        {
          "output_type": "stream",
          "name": "stdout",
          "text": [
            "Train loss: 0.11172394454479218\tVal loss: 0.07681096345186234\tTrain acc: 95.28645833333334\tVal acc: 98.4375\n"
          ]
        },
        {
          "output_type": "stream",
          "name": "stderr",
          "text": [
            "100%|██████████| 3/3 [00:00<00:00,  7.49it/s]\n"
          ]
        },
        {
          "output_type": "stream",
          "name": "stdout",
          "text": [
            "########## Epoch 9\n"
          ]
        },
        {
          "output_type": "stream",
          "name": "stderr",
          "text": [
            "100%|██████████| 10/10 [00:00<00:00, 12.35it/s]\n",
            "100%|██████████| 3/3 [00:00<00:00,  6.32it/s]\n"
          ]
        },
        {
          "output_type": "stream",
          "name": "stdout",
          "text": [
            "Train loss: 0.11106506735086441\tVal loss: 0.11921173334121704\tTrain acc: 95.36458333333334\tVal acc: 96.99754901960785\n"
          ]
        },
        {
          "output_type": "stream",
          "name": "stderr",
          "text": [
            "100%|██████████| 3/3 [00:00<00:00,  7.13it/s]\n"
          ]
        },
        {
          "output_type": "stream",
          "name": "stdout",
          "text": [
            "########## Epoch 10\n"
          ]
        },
        {
          "output_type": "stream",
          "name": "stderr",
          "text": [
            "100%|██████████| 10/10 [00:00<00:00, 11.94it/s]\n",
            "100%|██████████| 3/3 [00:00<00:00,  6.42it/s]\n"
          ]
        },
        {
          "output_type": "stream",
          "name": "stdout",
          "text": [
            "Train loss: 0.13200077414512634\tVal loss: 0.12778787314891815\tTrain acc: 96.171875\tVal acc: 95.95588235294117\n"
          ]
        },
        {
          "output_type": "stream",
          "name": "stderr",
          "text": [
            "100%|██████████| 3/3 [00:00<00:00,  6.46it/s]\n"
          ]
        },
        {
          "output_type": "stream",
          "name": "stdout",
          "text": [
            "########## Epoch 11\n"
          ]
        },
        {
          "output_type": "stream",
          "name": "stderr",
          "text": [
            "100%|██████████| 10/10 [00:00<00:00, 11.32it/s]\n",
            "100%|██████████| 3/3 [00:00<00:00,  9.36it/s]\n"
          ]
        },
        {
          "output_type": "stream",
          "name": "stdout",
          "text": [
            "Train loss: 0.09121743589639664\tVal loss: 0.06139155104756355\tTrain acc: 97.265625\tVal acc: 97.71752450980392\n"
          ]
        },
        {
          "output_type": "stream",
          "name": "stderr",
          "text": [
            "100%|██████████| 3/3 [00:00<00:00,  9.98it/s]\n"
          ]
        },
        {
          "output_type": "stream",
          "name": "stdout",
          "text": [
            "########## Epoch 12\n"
          ]
        },
        {
          "output_type": "stream",
          "name": "stderr",
          "text": [
            "100%|██████████| 10/10 [00:00<00:00, 17.20it/s]\n",
            "100%|██████████| 3/3 [00:00<00:00, 10.40it/s]\n"
          ]
        },
        {
          "output_type": "stream",
          "name": "stdout",
          "text": [
            "Train loss: 0.07786346971988678\tVal loss: 0.05802661180496216\tTrain acc: 97.421875\tVal acc: 98.17708333333333\n"
          ]
        },
        {
          "output_type": "stream",
          "name": "stderr",
          "text": [
            "100%|██████████| 3/3 [00:00<00:00, 10.03it/s]\n"
          ]
        },
        {
          "output_type": "stream",
          "name": "stdout",
          "text": [
            "########## Epoch 13\n"
          ]
        },
        {
          "output_type": "stream",
          "name": "stderr",
          "text": [
            "100%|██████████| 10/10 [00:00<00:00, 17.31it/s]\n",
            "100%|██████████| 3/3 [00:00<00:00, 10.43it/s]\n"
          ]
        },
        {
          "output_type": "stream",
          "name": "stdout",
          "text": [
            "Train loss: 0.07466724514961243\tVal loss: 0.08772185444831848\tTrain acc: 97.5\tVal acc: 97.1966911764706\n"
          ]
        },
        {
          "output_type": "stream",
          "name": "stderr",
          "text": [
            "100%|██████████| 3/3 [00:00<00:00, 10.30it/s]\n"
          ]
        },
        {
          "output_type": "stream",
          "name": "stdout",
          "text": [
            "########## Epoch 14\n"
          ]
        },
        {
          "output_type": "stream",
          "name": "stderr",
          "text": [
            "100%|██████████| 10/10 [00:00<00:00, 18.10it/s]\n",
            "100%|██████████| 3/3 [00:00<00:00, 10.52it/s]\n"
          ]
        },
        {
          "output_type": "stream",
          "name": "stdout",
          "text": [
            "Train loss: 0.06421137601137161\tVal loss: 0.07075344771146774\tTrain acc: 97.890625\tVal acc: 97.71752450980392\n"
          ]
        },
        {
          "output_type": "stream",
          "name": "stderr",
          "text": [
            "100%|██████████| 3/3 [00:00<00:00, 10.14it/s]\n"
          ]
        },
        {
          "output_type": "stream",
          "name": "stdout",
          "text": [
            "########## Epoch 15\n"
          ]
        },
        {
          "output_type": "stream",
          "name": "stderr",
          "text": [
            "100%|██████████| 10/10 [00:00<00:00, 17.10it/s]\n",
            "100%|██████████| 3/3 [00:00<00:00, 10.02it/s]\n"
          ]
        },
        {
          "output_type": "stream",
          "name": "stdout",
          "text": [
            "Train loss: 0.06315109133720398\tVal loss: 0.05923004075884819\tTrain acc: 98.125\tVal acc: 97.71752450980392\n"
          ]
        },
        {
          "output_type": "stream",
          "name": "stderr",
          "text": [
            "100%|██████████| 3/3 [00:00<00:00, 10.36it/s]\n"
          ]
        },
        {
          "output_type": "stream",
          "name": "stdout",
          "text": [
            "########## Epoch 16\n"
          ]
        },
        {
          "output_type": "stream",
          "name": "stderr",
          "text": [
            "100%|██████████| 10/10 [00:00<00:00, 17.67it/s]\n",
            "100%|██████████| 3/3 [00:00<00:00, 10.25it/s]\n"
          ]
        },
        {
          "output_type": "stream",
          "name": "stdout",
          "text": [
            "Train loss: 0.060159940272569656\tVal loss: 0.12569327652454376\tTrain acc: 98.046875\tVal acc: 96.0171568627451\n"
          ]
        },
        {
          "output_type": "stream",
          "name": "stderr",
          "text": [
            "100%|██████████| 3/3 [00:00<00:00, 10.69it/s]\n"
          ]
        },
        {
          "output_type": "stream",
          "name": "stdout",
          "text": [
            "########## Epoch 17\n"
          ]
        },
        {
          "output_type": "stream",
          "name": "stderr",
          "text": [
            "100%|██████████| 10/10 [00:00<00:00, 17.46it/s]\n",
            "100%|██████████| 3/3 [00:00<00:00, 10.26it/s]\n"
          ]
        },
        {
          "output_type": "stream",
          "name": "stdout",
          "text": [
            "Train loss: 0.06771551817655563\tVal loss: 0.04744530841708183\tTrain acc: 97.65625\tVal acc: 98.4375\n"
          ]
        },
        {
          "output_type": "stream",
          "name": "stderr",
          "text": [
            "100%|██████████| 3/3 [00:00<00:00, 10.22it/s]\n"
          ]
        },
        {
          "output_type": "stream",
          "name": "stdout",
          "text": [
            "########## Epoch 18\n"
          ]
        },
        {
          "output_type": "stream",
          "name": "stderr",
          "text": [
            "100%|██████████| 10/10 [00:00<00:00, 17.74it/s]\n",
            "100%|██████████| 3/3 [00:00<00:00,  9.86it/s]\n"
          ]
        },
        {
          "output_type": "stream",
          "name": "stdout",
          "text": [
            "Train loss: 0.06561736017465591\tVal loss: 0.05696864798665047\tTrain acc: 97.96875\tVal acc: 97.65625\n"
          ]
        },
        {
          "output_type": "stream",
          "name": "stderr",
          "text": [
            "100%|██████████| 3/3 [00:00<00:00,  9.69it/s]\n"
          ]
        },
        {
          "output_type": "stream",
          "name": "stdout",
          "text": [
            "########## Epoch 19\n"
          ]
        },
        {
          "output_type": "stream",
          "name": "stderr",
          "text": [
            "100%|██████████| 10/10 [00:00<00:00, 17.73it/s]\n",
            "100%|██████████| 3/3 [00:00<00:00, 10.04it/s]\n"
          ]
        },
        {
          "output_type": "stream",
          "name": "stdout",
          "text": [
            "Train loss: 0.05844072625041008\tVal loss: 0.047853488475084305\tTrain acc: 98.28125\tVal acc: 98.17708333333333\n"
          ]
        },
        {
          "output_type": "stream",
          "name": "stderr",
          "text": [
            "100%|██████████| 3/3 [00:00<00:00,  9.05it/s]\n"
          ]
        },
        {
          "output_type": "stream",
          "name": "stdout",
          "text": [
            "########## Epoch 20\n"
          ]
        },
        {
          "output_type": "stream",
          "name": "stderr",
          "text": [
            "100%|██████████| 10/10 [00:00<00:00, 17.72it/s]\n",
            "100%|██████████| 3/3 [00:00<00:00,  9.97it/s]\n"
          ]
        },
        {
          "output_type": "stream",
          "name": "stdout",
          "text": [
            "Train loss: 0.045871324837207794\tVal loss: 0.049253106117248535\tTrain acc: 98.671875\tVal acc: 97.71752450980392\n"
          ]
        },
        {
          "output_type": "stream",
          "name": "stderr",
          "text": [
            "100%|██████████| 3/3 [00:00<00:00, 10.16it/s]\n"
          ]
        },
        {
          "output_type": "stream",
          "name": "stdout",
          "text": [
            "########## Epoch 21\n"
          ]
        },
        {
          "output_type": "stream",
          "name": "stderr",
          "text": [
            "100%|██████████| 10/10 [00:00<00:00, 17.97it/s]\n",
            "100%|██████████| 3/3 [00:00<00:00,  9.38it/s]\n"
          ]
        },
        {
          "output_type": "stream",
          "name": "stdout",
          "text": [
            "Train loss: 0.05166371539235115\tVal loss: 0.05591568350791931\tTrain acc: 98.125\tVal acc: 97.91666666666667\n"
          ]
        },
        {
          "output_type": "stream",
          "name": "stderr",
          "text": [
            "100%|██████████| 3/3 [00:00<00:00, 10.24it/s]\n"
          ]
        },
        {
          "output_type": "stream",
          "name": "stdout",
          "text": [
            "########## Epoch 22\n"
          ]
        },
        {
          "output_type": "stream",
          "name": "stderr",
          "text": [
            "100%|██████████| 10/10 [00:00<00:00, 17.44it/s]\n",
            "100%|██████████| 3/3 [00:00<00:00, 10.26it/s]\n"
          ]
        },
        {
          "output_type": "stream",
          "name": "stdout",
          "text": [
            "Train loss: 0.054811011999845505\tVal loss: 0.20808172225952148\tTrain acc: 98.4375\tVal acc: 93.41299019607844\n"
          ]
        },
        {
          "output_type": "stream",
          "name": "stderr",
          "text": [
            "100%|██████████| 3/3 [00:00<00:00,  9.93it/s]\n"
          ]
        },
        {
          "output_type": "stream",
          "name": "stdout",
          "text": [
            "########## Epoch 23\n"
          ]
        },
        {
          "output_type": "stream",
          "name": "stderr",
          "text": [
            "100%|██████████| 10/10 [00:00<00:00, 17.08it/s]\n",
            "100%|██████████| 3/3 [00:00<00:00,  9.89it/s]\n"
          ]
        },
        {
          "output_type": "stream",
          "name": "stdout",
          "text": [
            "Train loss: 0.10385137796401978\tVal loss: 0.06655079871416092\tTrain acc: 96.015625\tVal acc: 98.17708333333333\n"
          ]
        },
        {
          "output_type": "stream",
          "name": "stderr",
          "text": [
            "100%|██████████| 3/3 [00:00<00:00, 10.22it/s]\n"
          ]
        },
        {
          "output_type": "stream",
          "name": "stdout",
          "text": [
            "########## Epoch 24\n"
          ]
        },
        {
          "output_type": "stream",
          "name": "stderr",
          "text": [
            "100%|██████████| 10/10 [00:00<00:00, 17.32it/s]\n",
            "100%|██████████| 3/3 [00:00<00:00, 10.37it/s]\n"
          ]
        },
        {
          "output_type": "stream",
          "name": "stdout",
          "text": [
            "Train loss: 0.08046158403158188\tVal loss: 0.11094353348016739\tTrain acc: 97.00520833333334\tVal acc: 95.95588235294117\n"
          ]
        },
        {
          "output_type": "stream",
          "name": "stderr",
          "text": [
            "100%|██████████| 3/3 [00:00<00:00, 10.00it/s]\n"
          ]
        },
        {
          "output_type": "stream",
          "name": "stdout",
          "text": [
            "########## Epoch 0\n"
          ]
        },
        {
          "output_type": "stream",
          "name": "stderr",
          "text": [
            "100%|██████████| 6/6 [00:00<00:00,  8.45it/s]\n",
            "100%|██████████| 4/4 [00:00<00:00, 12.87it/s]\n"
          ]
        },
        {
          "output_type": "stream",
          "name": "stdout",
          "text": [
            "Train loss: 0.1598956286907196\tVal loss: 0.12574616074562073\tTrain acc: 93.80002354048963\tVal acc: 95.77752976190476\n"
          ]
        },
        {
          "output_type": "stream",
          "name": "stderr",
          "text": [
            "100%|██████████| 3/3 [00:00<00:00, 10.54it/s]\n",
            "100%|██████████| 2/2 [00:00<00:00,  7.41it/s]\n"
          ]
        },
        {
          "output_type": "stream",
          "name": "stdout",
          "text": [
            "########## Epoch 1\n"
          ]
        },
        {
          "output_type": "stream",
          "name": "stderr",
          "text": [
            "100%|██████████| 6/6 [00:00<00:00,  8.08it/s]\n",
            "100%|██████████| 4/4 [00:00<00:00, 13.30it/s]\n"
          ]
        },
        {
          "output_type": "stream",
          "name": "stdout",
          "text": [
            "Train loss: 0.1291692852973938\tVal loss: 0.1319679319858551\tTrain acc: 97.60512299905838\tVal acc: 95.77752976190476\n"
          ]
        },
        {
          "output_type": "stream",
          "name": "stderr",
          "text": [
            "100%|██████████| 3/3 [00:00<00:00,  9.93it/s]\n",
            "100%|██████████| 2/2 [00:00<00:00,  7.04it/s]\n"
          ]
        },
        {
          "output_type": "stream",
          "name": "stdout",
          "text": [
            "########## Epoch 2\n"
          ]
        },
        {
          "output_type": "stream",
          "name": "stderr",
          "text": [
            "100%|██████████| 6/6 [00:00<00:00,  7.85it/s]\n",
            "100%|██████████| 4/4 [00:00<00:00, 12.48it/s]\n"
          ]
        },
        {
          "output_type": "stream",
          "name": "stdout",
          "text": [
            "Train loss: 0.11096695810556412\tVal loss: 0.11567256599664688\tTrain acc: 98.01781720809792\tVal acc: 95.78683035714286\n"
          ]
        },
        {
          "output_type": "stream",
          "name": "stderr",
          "text": [
            "100%|██████████| 3/3 [00:00<00:00, 10.65it/s]\n",
            "100%|██████████| 2/2 [00:00<00:00,  6.89it/s]\n"
          ]
        },
        {
          "output_type": "stream",
          "name": "stdout",
          "text": [
            "########## Epoch 3\n"
          ]
        },
        {
          "output_type": "stream",
          "name": "stderr",
          "text": [
            "100%|██████████| 6/6 [00:00<00:00,  8.03it/s]\n",
            "100%|██████████| 4/4 [00:00<00:00, 12.73it/s]\n"
          ]
        },
        {
          "output_type": "stream",
          "name": "stdout",
          "text": [
            "Train loss: 0.10012061148881912\tVal loss: 0.10744617879390717\tTrain acc: 98.31428024952919\tVal acc: 96.17745535714286\n"
          ]
        },
        {
          "output_type": "stream",
          "name": "stderr",
          "text": [
            "100%|██████████| 3/3 [00:00<00:00,  9.96it/s]\n",
            "100%|██████████| 2/2 [00:00<00:00,  7.22it/s]\n"
          ]
        },
        {
          "output_type": "stream",
          "name": "stdout",
          "text": [
            "########## Epoch 4\n"
          ]
        },
        {
          "output_type": "stream",
          "name": "stderr",
          "text": [
            "100%|██████████| 6/6 [00:00<00:00,  7.99it/s]\n",
            "100%|██████████| 4/4 [00:00<00:00, 13.34it/s]\n"
          ]
        },
        {
          "output_type": "stream",
          "name": "stdout",
          "text": [
            "Train loss: 0.08628296852111816\tVal loss: 0.10193489491939545\tTrain acc: 98.31428024952919\tVal acc: 96.07514880952381\n"
          ]
        },
        {
          "output_type": "stream",
          "name": "stderr",
          "text": [
            "100%|██████████| 3/3 [00:00<00:00, 10.60it/s]\n",
            "100%|██████████| 2/2 [00:00<00:00,  6.88it/s]\n"
          ]
        },
        {
          "output_type": "stream",
          "name": "stdout",
          "text": [
            "########## Epoch 5\n"
          ]
        },
        {
          "output_type": "stream",
          "name": "stderr",
          "text": [
            "100%|██████████| 6/6 [00:00<00:00,  8.25it/s]\n",
            "100%|██████████| 4/4 [00:00<00:00, 11.80it/s]\n"
          ]
        },
        {
          "output_type": "stream",
          "name": "stdout",
          "text": [
            "Train loss: 0.07294073700904846\tVal loss: 0.09642823785543442\tTrain acc: 98.56770833333333\tVal acc: 95.97284226190476\n"
          ]
        },
        {
          "output_type": "stream",
          "name": "stderr",
          "text": [
            "100%|██████████| 3/3 [00:00<00:00,  9.84it/s]\n",
            "100%|██████████| 2/2 [00:00<00:00,  7.27it/s]\n"
          ]
        },
        {
          "output_type": "stream",
          "name": "stdout",
          "text": [
            "########## Epoch 6\n"
          ]
        },
        {
          "output_type": "stream",
          "name": "stderr",
          "text": [
            "100%|██████████| 6/6 [00:00<00:00,  8.23it/s]\n",
            "100%|██████████| 4/4 [00:00<00:00, 13.29it/s]\n"
          ]
        },
        {
          "output_type": "stream",
          "name": "stdout",
          "text": [
            "Train loss: 0.06761003285646439\tVal loss: 0.08561570197343826\tTrain acc: 98.60375470809792\tVal acc: 96.37276785714286\n"
          ]
        },
        {
          "output_type": "stream",
          "name": "stderr",
          "text": [
            "100%|██████████| 3/3 [00:00<00:00,  9.94it/s]\n",
            "100%|██████████| 2/2 [00:00<00:00,  7.37it/s]\n"
          ]
        },
        {
          "output_type": "stream",
          "name": "stdout",
          "text": [
            "########## Epoch 7\n"
          ]
        },
        {
          "output_type": "stream",
          "name": "stderr",
          "text": [
            "100%|██████████| 6/6 [00:00<00:00,  8.02it/s]\n",
            "100%|██████████| 4/4 [00:00<00:00, 13.04it/s]\n"
          ]
        },
        {
          "output_type": "stream",
          "name": "stdout",
          "text": [
            "Train loss: 0.061731357127428055\tVal loss: 0.08701713383197784\tTrain acc: 98.60375470809792\tVal acc: 96.76339285714286\n"
          ]
        },
        {
          "output_type": "stream",
          "name": "stderr",
          "text": [
            "100%|██████████| 3/3 [00:00<00:00, 10.22it/s]\n",
            "100%|██████████| 2/2 [00:00<00:00,  6.60it/s]\n"
          ]
        },
        {
          "output_type": "stream",
          "name": "stdout",
          "text": [
            "########## Epoch 8\n"
          ]
        },
        {
          "output_type": "stream",
          "name": "stderr",
          "text": [
            "100%|██████████| 6/6 [00:00<00:00,  8.27it/s]\n",
            "100%|██████████| 4/4 [00:00<00:00, 12.16it/s]\n"
          ]
        },
        {
          "output_type": "stream",
          "name": "stdout",
          "text": [
            "Train loss: 0.05438618361949921\tVal loss: 0.0807875320315361\tTrain acc: 98.69791666666667\tVal acc: 97.35863095238095\n"
          ]
        },
        {
          "output_type": "stream",
          "name": "stderr",
          "text": [
            "100%|██████████| 3/3 [00:00<00:00, 10.46it/s]\n",
            "100%|██████████| 2/2 [00:00<00:00,  7.55it/s]\n"
          ]
        },
        {
          "output_type": "stream",
          "name": "stdout",
          "text": [
            "########## Epoch 9\n"
          ]
        },
        {
          "output_type": "stream",
          "name": "stderr",
          "text": [
            "100%|██████████| 6/6 [00:00<00:00,  8.31it/s]\n",
            "100%|██████████| 4/4 [00:00<00:00, 13.39it/s]\n"
          ]
        },
        {
          "output_type": "stream",
          "name": "stdout",
          "text": [
            "Train loss: 0.051088541746139526\tVal loss: 0.07914834469556808\tTrain acc: 98.73396304143125\tVal acc: 97.15401785714286\n"
          ]
        },
        {
          "output_type": "stream",
          "name": "stderr",
          "text": [
            "100%|██████████| 3/3 [00:00<00:00,  9.90it/s]\n",
            "100%|██████████| 2/2 [00:00<00:00,  7.43it/s]\n"
          ]
        },
        {
          "output_type": "stream",
          "name": "stdout",
          "text": [
            "########## Epoch 10\n"
          ]
        },
        {
          "output_type": "stream",
          "name": "stderr",
          "text": [
            "100%|██████████| 6/6 [00:00<00:00,  8.19it/s]\n",
            "100%|██████████| 4/4 [00:00<00:00, 12.45it/s]\n"
          ]
        },
        {
          "output_type": "stream",
          "name": "stdout",
          "text": [
            "Train loss: 0.04841320216655731\tVal loss: 0.07529214024543762\tTrain acc: 98.63980108286252\tVal acc: 97.4609375\n"
          ]
        },
        {
          "output_type": "stream",
          "name": "stderr",
          "text": [
            "100%|██████████| 3/3 [00:00<00:00,  9.79it/s]\n",
            "100%|██████████| 2/2 [00:00<00:00,  6.69it/s]\n"
          ]
        },
        {
          "output_type": "stream",
          "name": "stdout",
          "text": [
            "########## Epoch 11\n"
          ]
        },
        {
          "output_type": "stream",
          "name": "stderr",
          "text": [
            "100%|██████████| 6/6 [00:00<00:00,  8.22it/s]\n",
            "100%|██████████| 4/4 [00:00<00:00, 12.44it/s]\n"
          ]
        },
        {
          "output_type": "stream",
          "name": "stdout",
          "text": [
            "Train loss: 0.04587099328637123\tVal loss: 0.07269710302352905\tTrain acc: 98.77000941619586\tVal acc: 97.8515625\n"
          ]
        },
        {
          "output_type": "stream",
          "name": "stderr",
          "text": [
            "100%|██████████| 3/3 [00:00<00:00,  9.65it/s]\n",
            "100%|██████████| 2/2 [00:00<00:00,  6.96it/s]\n"
          ]
        },
        {
          "output_type": "stream",
          "name": "stdout",
          "text": [
            "########## Epoch 12\n"
          ]
        },
        {
          "output_type": "stream",
          "name": "stderr",
          "text": [
            "100%|██████████| 6/6 [00:00<00:00,  8.11it/s]\n",
            "100%|██████████| 4/4 [00:00<00:00, 13.10it/s]\n"
          ]
        },
        {
          "output_type": "stream",
          "name": "stdout",
          "text": [
            "Train loss: 0.04534062743186951\tVal loss: 0.07317715138196945\tTrain acc: 98.83511358286252\tVal acc: 97.74925595238095\n"
          ]
        },
        {
          "output_type": "stream",
          "name": "stderr",
          "text": [
            "100%|██████████| 3/3 [00:00<00:00,  9.86it/s]\n",
            "100%|██████████| 2/2 [00:00<00:00,  7.16it/s]\n"
          ]
        },
        {
          "output_type": "stream",
          "name": "stdout",
          "text": [
            "########## Epoch 13\n"
          ]
        },
        {
          "output_type": "stream",
          "name": "stderr",
          "text": [
            "100%|██████████| 6/6 [00:00<00:00,  8.07it/s]\n",
            "100%|██████████| 4/4 [00:00<00:00, 12.48it/s]\n"
          ]
        },
        {
          "output_type": "stream",
          "name": "stdout",
          "text": [
            "Train loss: 0.041785385459661484\tVal loss: 0.07377538084983826\tTrain acc: 98.90021774952919\tVal acc: 97.94456845238095\n"
          ]
        },
        {
          "output_type": "stream",
          "name": "stderr",
          "text": [
            "100%|██████████| 3/3 [00:00<00:00,  9.76it/s]\n",
            "100%|██████████| 2/2 [00:00<00:00,  6.49it/s]\n"
          ]
        },
        {
          "output_type": "stream",
          "name": "stdout",
          "text": [
            "########## Epoch 14\n"
          ]
        },
        {
          "output_type": "stream",
          "name": "stderr",
          "text": [
            "100%|██████████| 6/6 [00:00<00:00,  7.88it/s]\n",
            "100%|██████████| 4/4 [00:00<00:00, 12.42it/s]\n"
          ]
        },
        {
          "output_type": "stream",
          "name": "stdout",
          "text": [
            "Train loss: 0.040182217955589294\tVal loss: 0.08173347264528275\tTrain acc: 98.89322916666667\tVal acc: 97.54464285714286\n"
          ]
        },
        {
          "output_type": "stream",
          "name": "stderr",
          "text": [
            "100%|██████████| 3/3 [00:00<00:00,  9.74it/s]\n",
            "100%|██████████| 2/2 [00:00<00:00,  6.88it/s]\n"
          ]
        },
        {
          "output_type": "stream",
          "name": "stdout",
          "text": [
            "########## Epoch 15\n"
          ]
        },
        {
          "output_type": "stream",
          "name": "stderr",
          "text": [
            "100%|██████████| 6/6 [00:00<00:00,  7.88it/s]\n",
            "100%|██████████| 4/4 [00:00<00:00, 12.35it/s]\n"
          ]
        },
        {
          "output_type": "stream",
          "name": "stdout",
          "text": [
            "Train loss: 0.040222618728876114\tVal loss: 0.0731610432267189\tTrain acc: 98.90021774952919\tVal acc: 97.94456845238095\n"
          ]
        },
        {
          "output_type": "stream",
          "name": "stderr",
          "text": [
            "100%|██████████| 3/3 [00:00<00:00,  9.90it/s]\n",
            "100%|██████████| 2/2 [00:00<00:00,  6.77it/s]\n"
          ]
        },
        {
          "output_type": "stream",
          "name": "stdout",
          "text": [
            "########## Epoch 16\n"
          ]
        },
        {
          "output_type": "stream",
          "name": "stderr",
          "text": [
            "100%|██████████| 6/6 [00:00<00:00,  7.97it/s]\n",
            "100%|██████████| 4/4 [00:00<00:00, 12.62it/s]\n"
          ]
        },
        {
          "output_type": "stream",
          "name": "stdout",
          "text": [
            "Train loss: 0.03747512027621269\tVal loss: 0.07397183030843735\tTrain acc: 99.05948387476458\tVal acc: 97.94456845238095\n"
          ]
        },
        {
          "output_type": "stream",
          "name": "stderr",
          "text": [
            "100%|██████████| 3/3 [00:00<00:00,  9.09it/s]\n",
            "100%|██████████| 2/2 [00:00<00:00,  7.05it/s]\n"
          ]
        },
        {
          "output_type": "stream",
          "name": "stdout",
          "text": [
            "########## Epoch 17\n"
          ]
        },
        {
          "output_type": "stream",
          "name": "stderr",
          "text": [
            "100%|██████████| 6/6 [00:00<00:00,  8.03it/s]\n",
            "100%|██████████| 4/4 [00:00<00:00, 12.71it/s]\n"
          ]
        },
        {
          "output_type": "stream",
          "name": "stdout",
          "text": [
            "Train loss: 0.03551383689045906\tVal loss: 0.0749673843383789\tTrain acc: 99.08854166666667\tVal acc: 97.94456845238095\n"
          ]
        },
        {
          "output_type": "stream",
          "name": "stderr",
          "text": [
            "100%|██████████| 3/3 [00:00<00:00, 10.13it/s]\n",
            "100%|██████████| 2/2 [00:00<00:00,  7.30it/s]\n"
          ]
        },
        {
          "output_type": "stream",
          "name": "stdout",
          "text": [
            "########## Epoch 18\n"
          ]
        },
        {
          "output_type": "stream",
          "name": "stderr",
          "text": [
            "100%|██████████| 6/6 [00:00<00:00,  8.29it/s]\n",
            "100%|██████████| 4/4 [00:00<00:00, 12.78it/s]\n"
          ]
        },
        {
          "output_type": "stream",
          "name": "stdout",
          "text": [
            "Train loss: 0.0340525284409523\tVal loss: 0.07357961684465408\tTrain acc: 99.08854166666667\tVal acc: 97.6469494047619\n"
          ]
        },
        {
          "output_type": "stream",
          "name": "stderr",
          "text": [
            "100%|██████████| 3/3 [00:00<00:00,  9.94it/s]\n",
            "100%|██████████| 2/2 [00:00<00:00,  7.29it/s]\n"
          ]
        },
        {
          "output_type": "stream",
          "name": "stdout",
          "text": [
            "########## Epoch 19\n"
          ]
        },
        {
          "output_type": "stream",
          "name": "stderr",
          "text": [
            "100%|██████████| 6/6 [00:00<00:00,  7.89it/s]\n",
            "100%|██████████| 4/4 [00:00<00:00, 12.88it/s]\n"
          ]
        },
        {
          "output_type": "stream",
          "name": "stdout",
          "text": [
            "Train loss: 0.03371748700737953\tVal loss: 0.07255756855010986\tTrain acc: 99.15364583333333\tVal acc: 97.6469494047619\n"
          ]
        },
        {
          "output_type": "stream",
          "name": "stderr",
          "text": [
            "100%|██████████| 3/3 [00:00<00:00,  9.61it/s]\n",
            "100%|██████████| 2/2 [00:00<00:00,  6.66it/s]\n"
          ]
        },
        {
          "output_type": "stream",
          "name": "stdout",
          "text": [
            "########## Epoch 20\n"
          ]
        },
        {
          "output_type": "stream",
          "name": "stderr",
          "text": [
            "100%|██████████| 6/6 [00:00<00:00,  7.96it/s]\n",
            "100%|██████████| 4/4 [00:00<00:00, 12.68it/s]\n"
          ]
        },
        {
          "output_type": "stream",
          "name": "stdout",
          "text": [
            "Train loss: 0.03267967328429222\tVal loss: 0.07745810598134995\tTrain acc: 99.08854166666667\tVal acc: 97.8422619047619\n"
          ]
        },
        {
          "output_type": "stream",
          "name": "stderr",
          "text": [
            "100%|██████████| 3/3 [00:00<00:00,  9.91it/s]\n",
            "100%|██████████| 2/2 [00:00<00:00,  7.14it/s]\n"
          ]
        },
        {
          "output_type": "stream",
          "name": "stdout",
          "text": [
            "########## Epoch 21\n"
          ]
        },
        {
          "output_type": "stream",
          "name": "stderr",
          "text": [
            "100%|██████████| 6/6 [00:00<00:00,  7.87it/s]\n",
            "100%|██████████| 4/4 [00:00<00:00, 12.39it/s]\n"
          ]
        },
        {
          "output_type": "stream",
          "name": "stdout",
          "text": [
            "Train loss: 0.033586252480745316\tVal loss: 0.07319829612970352\tTrain acc: 99.03042608286252\tVal acc: 97.8422619047619\n"
          ]
        },
        {
          "output_type": "stream",
          "name": "stderr",
          "text": [
            "100%|██████████| 3/3 [00:00<00:00, 10.22it/s]\n",
            "100%|██████████| 2/2 [00:00<00:00,  7.19it/s]\n"
          ]
        },
        {
          "output_type": "stream",
          "name": "stdout",
          "text": [
            "########## Epoch 22\n"
          ]
        },
        {
          "output_type": "stream",
          "name": "stderr",
          "text": [
            "100%|██████████| 6/6 [00:00<00:00,  8.02it/s]\n",
            "100%|██████████| 4/4 [00:00<00:00, 12.80it/s]\n"
          ]
        },
        {
          "output_type": "stream",
          "name": "stdout",
          "text": [
            "Train loss: 0.030866457149386406\tVal loss: 0.08419002592563629\tTrain acc: 99.34895833333333\tVal acc: 97.34002976190476\n"
          ]
        },
        {
          "output_type": "stream",
          "name": "stderr",
          "text": [
            "100%|██████████| 3/3 [00:00<00:00,  9.85it/s]\n",
            "100%|██████████| 2/2 [00:00<00:00,  6.84it/s]\n"
          ]
        },
        {
          "output_type": "stream",
          "name": "stdout",
          "text": [
            "########## Epoch 23\n"
          ]
        },
        {
          "output_type": "stream",
          "name": "stderr",
          "text": [
            "100%|██████████| 6/6 [00:00<00:00,  8.41it/s]\n",
            "100%|██████████| 4/4 [00:00<00:00, 12.27it/s]\n"
          ]
        },
        {
          "output_type": "stream",
          "name": "stdout",
          "text": [
            "Train loss: 0.032322946935892105\tVal loss: 0.08172395825386047\tTrain acc: 99.18969220809792\tVal acc: 97.34933035714286\n"
          ]
        },
        {
          "output_type": "stream",
          "name": "stderr",
          "text": [
            "100%|██████████| 3/3 [00:00<00:00,  9.96it/s]\n",
            "100%|██████████| 2/2 [00:00<00:00,  6.87it/s]\n"
          ]
        },
        {
          "output_type": "stream",
          "name": "stdout",
          "text": [
            "########## Epoch 24\n"
          ]
        },
        {
          "output_type": "stream",
          "name": "stderr",
          "text": [
            "100%|██████████| 6/6 [00:00<00:00,  7.87it/s]\n",
            "100%|██████████| 4/4 [00:00<00:00, 12.68it/s]\n"
          ]
        },
        {
          "output_type": "stream",
          "name": "stdout",
          "text": [
            "Train loss: 0.030933372676372528\tVal loss: 0.07365983724594116\tTrain acc: 99.28385416666667\tVal acc: 97.34933035714286\n"
          ]
        },
        {
          "output_type": "stream",
          "name": "stderr",
          "text": [
            "100%|██████████| 3/3 [00:00<00:00,  9.23it/s]\n",
            "100%|██████████| 2/2 [00:00<00:00,  6.39it/s]\n"
          ]
        },
        {
          "output_type": "stream",
          "name": "stdout",
          "text": [
            "########## Epoch 0\n"
          ]
        },
        {
          "output_type": "stream",
          "name": "stderr",
          "text": [
            "100%|██████████| 6/6 [00:00<00:00,  7.79it/s]\n",
            "100%|██████████| 6/6 [00:00<00:00, 17.05it/s]\n"
          ]
        },
        {
          "output_type": "stream",
          "name": "stdout",
          "text": [
            "Train loss: 3.7115776538848877\tVal loss: 1.6727701425552368\tTrain acc: 53.71939736346516\tVal acc: 75.0\n"
          ]
        },
        {
          "output_type": "stream",
          "name": "stderr",
          "text": [
            "100%|██████████| 3/3 [00:00<00:00,  9.92it/s]\n",
            "100%|██████████| 2/2 [00:00<00:00,  6.65it/s]\n",
            "100%|██████████| 2/2 [00:00<00:00,  6.68it/s]\n"
          ]
        },
        {
          "output_type": "stream",
          "name": "stdout",
          "text": [
            "########## Epoch 1\n"
          ]
        },
        {
          "output_type": "stream",
          "name": "stderr",
          "text": [
            "100%|██████████| 6/6 [00:00<00:00,  7.91it/s]\n",
            "100%|██████████| 6/6 [00:00<00:00, 18.21it/s]\n"
          ]
        },
        {
          "output_type": "stream",
          "name": "stdout",
          "text": [
            "Train loss: 3.0186843872070312\tVal loss: 1.4736089706420898\tTrain acc: 53.371807321092284\tVal acc: 71.44097222222221\n"
          ]
        },
        {
          "output_type": "stream",
          "name": "stderr",
          "text": [
            "100%|██████████| 3/3 [00:00<00:00,  9.94it/s]\n",
            "100%|██████████| 2/2 [00:00<00:00,  6.89it/s]\n",
            "100%|██████████| 2/2 [00:00<00:00,  7.13it/s]\n"
          ]
        },
        {
          "output_type": "stream",
          "name": "stdout",
          "text": [
            "########## Epoch 2\n"
          ]
        },
        {
          "output_type": "stream",
          "name": "stderr",
          "text": [
            "100%|██████████| 6/6 [00:00<00:00,  8.01it/s]\n",
            "100%|██████████| 6/6 [00:00<00:00, 17.82it/s]\n"
          ]
        },
        {
          "output_type": "stream",
          "name": "stdout",
          "text": [
            "Train loss: 2.4353530406951904\tVal loss: 1.287943959236145\tTrain acc: 52.77888123822976\tVal acc: 70.92013888888889\n"
          ]
        },
        {
          "output_type": "stream",
          "name": "stderr",
          "text": [
            "100%|██████████| 3/3 [00:00<00:00,  9.80it/s]\n",
            "100%|██████████| 2/2 [00:00<00:00,  6.62it/s]\n",
            "100%|██████████| 2/2 [00:00<00:00,  6.72it/s]\n"
          ]
        },
        {
          "output_type": "stream",
          "name": "stdout",
          "text": [
            "########## Epoch 3\n"
          ]
        },
        {
          "output_type": "stream",
          "name": "stderr",
          "text": [
            "100%|██████████| 6/6 [00:00<00:00,  8.32it/s]\n",
            "100%|██████████| 6/6 [00:00<00:00, 18.01it/s]\n"
          ]
        },
        {
          "output_type": "stream",
          "name": "stdout",
          "text": [
            "Train loss: 2.0425710678100586\tVal loss: 1.2481871843338013\tTrain acc: 52.61961511299435\tVal acc: 67.23090277777779\n"
          ]
        },
        {
          "output_type": "stream",
          "name": "stderr",
          "text": [
            "100%|██████████| 3/3 [00:00<00:00,  9.84it/s]\n",
            "100%|██████████| 2/2 [00:00<00:00,  6.84it/s]\n",
            "100%|██████████| 2/2 [00:00<00:00,  6.84it/s]\n"
          ]
        },
        {
          "output_type": "stream",
          "name": "stdout",
          "text": [
            "########## Epoch 4\n"
          ]
        },
        {
          "output_type": "stream",
          "name": "stderr",
          "text": [
            "100%|██████████| 6/6 [00:00<00:00,  7.97it/s]\n",
            "100%|██████████| 6/6 [00:00<00:00, 18.35it/s]\n"
          ]
        },
        {
          "output_type": "stream",
          "name": "stdout",
          "text": [
            "Train loss: 1.7527179718017578\tVal loss: 1.2554227113723755\tTrain acc: 52.16388594632769\tVal acc: 61.41493055555555\n"
          ]
        },
        {
          "output_type": "stream",
          "name": "stderr",
          "text": [
            "100%|██████████| 3/3 [00:00<00:00,  9.97it/s]\n",
            "100%|██████████| 2/2 [00:00<00:00,  6.37it/s]\n",
            "100%|██████████| 2/2 [00:00<00:00,  6.75it/s]\n"
          ]
        },
        {
          "output_type": "stream",
          "name": "stdout",
          "text": [
            "########## Epoch 5\n"
          ]
        },
        {
          "output_type": "stream",
          "name": "stderr",
          "text": [
            "100%|██████████| 6/6 [00:00<00:00,  8.30it/s]\n",
            "100%|██████████| 6/6 [00:00<00:00, 17.76it/s]\n"
          ]
        },
        {
          "output_type": "stream",
          "name": "stdout",
          "text": [
            "Train loss: 1.5334663391113281\tVal loss: 0.9311990737915039\tTrain acc: 51.8162959039548\tVal acc: 66.57986111111111\n"
          ]
        },
        {
          "output_type": "stream",
          "name": "stderr",
          "text": [
            "100%|██████████| 3/3 [00:00<00:00,  9.98it/s]\n",
            "100%|██████████| 2/2 [00:00<00:00,  6.44it/s]\n",
            "100%|██████████| 2/2 [00:00<00:00,  6.79it/s]\n"
          ]
        },
        {
          "output_type": "stream",
          "name": "stdout",
          "text": [
            "########## Epoch 6\n"
          ]
        },
        {
          "output_type": "stream",
          "name": "stderr",
          "text": [
            "100%|██████████| 6/6 [00:00<00:00,  7.95it/s]\n",
            "100%|██████████| 6/6 [00:00<00:00, 18.37it/s]\n"
          ]
        },
        {
          "output_type": "stream",
          "name": "stdout",
          "text": [
            "Train loss: 1.3591861724853516\tVal loss: 0.9991510510444641\tTrain acc: 52.61262653013183\tVal acc: 61.28472222222222\n"
          ]
        },
        {
          "output_type": "stream",
          "name": "stderr",
          "text": [
            "100%|██████████| 3/3 [00:00<00:00,  9.93it/s]\n",
            "100%|██████████| 2/2 [00:00<00:00,  6.38it/s]\n",
            "100%|██████████| 2/2 [00:00<00:00,  7.29it/s]\n"
          ]
        },
        {
          "output_type": "stream",
          "name": "stdout",
          "text": [
            "########## Epoch 7\n"
          ]
        },
        {
          "output_type": "stream",
          "name": "stderr",
          "text": [
            "100%|██████████| 6/6 [00:00<00:00,  8.11it/s]\n",
            "100%|██████████| 6/6 [00:00<00:00, 18.79it/s]\n"
          ]
        },
        {
          "output_type": "stream",
          "name": "stdout",
          "text": [
            "Train loss: 1.220791220664978\tVal loss: 0.8831749558448792\tTrain acc: 52.53244173728814\tVal acc: 61.80555555555555\n"
          ]
        },
        {
          "output_type": "stream",
          "name": "stderr",
          "text": [
            "100%|██████████| 3/3 [00:00<00:00,  9.57it/s]\n",
            "100%|██████████| 2/2 [00:00<00:00,  6.36it/s]\n",
            "100%|██████████| 2/2 [00:00<00:00,  6.86it/s]\n"
          ]
        },
        {
          "output_type": "stream",
          "name": "stdout",
          "text": [
            "########## Epoch 8\n"
          ]
        },
        {
          "output_type": "stream",
          "name": "stderr",
          "text": [
            "100%|██████████| 6/6 [00:00<00:00,  8.29it/s]\n",
            "100%|██████████| 6/6 [00:00<00:00, 18.13it/s]\n"
          ]
        },
        {
          "output_type": "stream",
          "name": "stdout",
          "text": [
            "Train loss: 1.090816855430603\tVal loss: 0.7533124089241028\tTrain acc: 53.23461040489642\tVal acc: 64.71354166666667\n"
          ]
        },
        {
          "output_type": "stream",
          "name": "stderr",
          "text": [
            "100%|██████████| 3/3 [00:00<00:00,  9.80it/s]\n",
            "100%|██████████| 2/2 [00:00<00:00,  6.57it/s]\n",
            "100%|██████████| 2/2 [00:00<00:00,  7.15it/s]\n"
          ]
        },
        {
          "output_type": "stream",
          "name": "stdout",
          "text": [
            "########## Epoch 9\n"
          ]
        },
        {
          "output_type": "stream",
          "name": "stderr",
          "text": [
            "100%|██████████| 6/6 [00:00<00:00,  7.91it/s]\n",
            "100%|██████████| 6/6 [00:00<00:00, 17.96it/s]\n"
          ]
        },
        {
          "output_type": "stream",
          "name": "stdout",
          "text": [
            "Train loss: 0.9748935699462891\tVal loss: 0.703440248966217\tTrain acc: 54.33439265536723\tVal acc: 63.498263888888886\n"
          ]
        },
        {
          "output_type": "stream",
          "name": "stderr",
          "text": [
            "100%|██████████| 3/3 [00:00<00:00, 10.34it/s]\n",
            "100%|██████████| 2/2 [00:00<00:00,  6.53it/s]\n",
            "100%|██████████| 2/2 [00:00<00:00,  7.03it/s]\n"
          ]
        },
        {
          "output_type": "stream",
          "name": "stdout",
          "text": [
            "########## Epoch 10\n"
          ]
        },
        {
          "output_type": "stream",
          "name": "stderr",
          "text": [
            "100%|██████████| 6/6 [00:00<00:00,  8.06it/s]\n",
            "100%|██████████| 6/6 [00:00<00:00, 18.88it/s]\n"
          ]
        },
        {
          "output_type": "stream",
          "name": "stdout",
          "text": [
            "Train loss: 0.8822866082191467\tVal loss: 0.5728078484535217\tTrain acc: 57.88017890772128\tVal acc: 71.13715277777779\n"
          ]
        },
        {
          "output_type": "stream",
          "name": "stderr",
          "text": [
            "100%|██████████| 3/3 [00:00<00:00, 10.45it/s]\n",
            "100%|██████████| 2/2 [00:00<00:00,  6.53it/s]\n",
            "100%|██████████| 2/2 [00:00<00:00,  6.97it/s]\n"
          ]
        },
        {
          "output_type": "stream",
          "name": "stdout",
          "text": [
            "########## Epoch 11\n"
          ]
        },
        {
          "output_type": "stream",
          "name": "stderr",
          "text": [
            "100%|██████████| 6/6 [00:00<00:00,  8.04it/s]\n",
            "100%|██████████| 6/6 [00:00<00:00, 18.70it/s]\n"
          ]
        },
        {
          "output_type": "stream",
          "name": "stdout",
          "text": [
            "Train loss: 0.7969325184822083\tVal loss: 0.5573390126228333\tTrain acc: 63.02340807438795\tVal acc: 75.04340277777779\n"
          ]
        },
        {
          "output_type": "stream",
          "name": "stderr",
          "text": [
            "100%|██████████| 3/3 [00:00<00:00,  9.73it/s]\n",
            "100%|██████████| 2/2 [00:00<00:00,  6.62it/s]\n",
            "100%|██████████| 2/2 [00:00<00:00,  6.87it/s]\n"
          ]
        },
        {
          "output_type": "stream",
          "name": "stdout",
          "text": [
            "########## Epoch 12\n"
          ]
        },
        {
          "output_type": "stream",
          "name": "stderr",
          "text": [
            "100%|██████████| 6/6 [00:00<00:00,  8.30it/s]\n",
            "100%|██████████| 6/6 [00:00<00:00, 18.41it/s]\n"
          ]
        },
        {
          "output_type": "stream",
          "name": "stdout",
          "text": [
            "Train loss: 0.7352843880653381\tVal loss: 0.4760482609272003\tTrain acc: 72.65293961864407\tVal acc: 83.15972222222221\n"
          ]
        },
        {
          "output_type": "stream",
          "name": "stderr",
          "text": [
            "100%|██████████| 3/3 [00:00<00:00,  9.81it/s]\n",
            "100%|██████████| 2/2 [00:00<00:00,  6.76it/s]\n",
            "100%|██████████| 2/2 [00:00<00:00,  7.02it/s]\n"
          ]
        },
        {
          "output_type": "stream",
          "name": "stdout",
          "text": [
            "########## Epoch 13\n"
          ]
        },
        {
          "output_type": "stream",
          "name": "stderr",
          "text": [
            "100%|██████████| 6/6 [00:00<00:00,  7.94it/s]\n",
            "100%|██████████| 6/6 [00:00<00:00, 17.62it/s]\n"
          ]
        },
        {
          "output_type": "stream",
          "name": "stdout",
          "text": [
            "Train loss: 0.6787685751914978\tVal loss: 0.4685419499874115\tTrain acc: 81.35593220338983\tVal acc: 86.67534722222223\n"
          ]
        },
        {
          "output_type": "stream",
          "name": "stderr",
          "text": [
            "100%|██████████| 3/3 [00:00<00:00,  9.88it/s]\n",
            "100%|██████████| 2/2 [00:00<00:00,  6.63it/s]\n",
            "100%|██████████| 2/2 [00:00<00:00,  6.95it/s]\n"
          ]
        },
        {
          "output_type": "stream",
          "name": "stdout",
          "text": [
            "########## Epoch 14\n"
          ]
        },
        {
          "output_type": "stream",
          "name": "stderr",
          "text": [
            "100%|██████████| 6/6 [00:00<00:00,  7.97it/s]\n",
            "100%|██████████| 6/6 [00:00<00:00, 17.51it/s]\n"
          ]
        },
        {
          "output_type": "stream",
          "name": "stdout",
          "text": [
            "Train loss: 0.6305558681488037\tVal loss: 0.4276460111141205\tTrain acc: 85.54577153954801\tVal acc: 91.015625\n"
          ]
        },
        {
          "output_type": "stream",
          "name": "stderr",
          "text": [
            "100%|██████████| 3/3 [00:00<00:00,  9.35it/s]\n",
            "100%|██████████| 2/2 [00:00<00:00,  6.72it/s]\n",
            "100%|██████████| 2/2 [00:00<00:00,  6.86it/s]\n"
          ]
        },
        {
          "output_type": "stream",
          "name": "stdout",
          "text": [
            "########## Epoch 15\n"
          ]
        },
        {
          "output_type": "stream",
          "name": "stderr",
          "text": [
            "100%|██████████| 6/6 [00:00<00:00,  7.73it/s]\n",
            "100%|██████████| 6/6 [00:00<00:00, 18.13it/s]\n"
          ]
        },
        {
          "output_type": "stream",
          "name": "stdout",
          "text": [
            "Train loss: 0.5881752371788025\tVal loss: 0.3778146505355835\tTrain acc: 87.50588512241056\tVal acc: 86.37152777777777\n"
          ]
        },
        {
          "output_type": "stream",
          "name": "stderr",
          "text": [
            "100%|██████████| 3/3 [00:00<00:00,  9.58it/s]\n",
            "100%|██████████| 2/2 [00:00<00:00,  6.71it/s]\n",
            "100%|██████████| 2/2 [00:00<00:00,  6.42it/s]\n"
          ]
        },
        {
          "output_type": "stream",
          "name": "stdout",
          "text": [
            "########## Epoch 16\n"
          ]
        },
        {
          "output_type": "stream",
          "name": "stderr",
          "text": [
            "100%|██████████| 6/6 [00:00<00:00,  8.24it/s]\n",
            "100%|██████████| 6/6 [00:00<00:00, 17.06it/s]\n"
          ]
        },
        {
          "output_type": "stream",
          "name": "stdout",
          "text": [
            "Train loss: 0.5529048442840576\tVal loss: 0.3767327070236206\tTrain acc: 88.655690913371\tVal acc: 92.31770833333333\n"
          ]
        },
        {
          "output_type": "stream",
          "name": "stderr",
          "text": [
            "100%|██████████| 3/3 [00:00<00:00,  9.75it/s]\n",
            "100%|██████████| 2/2 [00:00<00:00,  6.54it/s]\n",
            "100%|██████████| 2/2 [00:00<00:00,  6.86it/s]\n"
          ]
        },
        {
          "output_type": "stream",
          "name": "stdout",
          "text": [
            "########## Epoch 17\n"
          ]
        },
        {
          "output_type": "stream",
          "name": "stderr",
          "text": [
            "100%|██████████| 6/6 [00:00<00:00,  8.37it/s]\n",
            "100%|██████████| 6/6 [00:00<00:00, 17.52it/s]\n"
          ]
        },
        {
          "output_type": "stream",
          "name": "stdout",
          "text": [
            "Train loss: 0.5119348168373108\tVal loss: 0.31916120648384094\tTrain acc: 89.95078566384181\tVal acc: 92.44791666666667\n"
          ]
        },
        {
          "output_type": "stream",
          "name": "stderr",
          "text": [
            "100%|██████████| 3/3 [00:00<00:00,  9.42it/s]\n",
            "100%|██████████| 2/2 [00:00<00:00,  6.54it/s]\n",
            "100%|██████████| 2/2 [00:00<00:00,  6.84it/s]\n"
          ]
        },
        {
          "output_type": "stream",
          "name": "stdout",
          "text": [
            "########## Epoch 18\n"
          ]
        },
        {
          "output_type": "stream",
          "name": "stderr",
          "text": [
            "100%|██████████| 6/6 [00:00<00:00,  8.00it/s]\n",
            "100%|██████████| 6/6 [00:00<00:00, 16.49it/s]\n"
          ]
        },
        {
          "output_type": "stream",
          "name": "stdout",
          "text": [
            "Train loss: 0.4871732294559479\tVal loss: 0.2763060927391052\tTrain acc: 91.3540195386064\tVal acc: 92.83854166666667\n"
          ]
        },
        {
          "output_type": "stream",
          "name": "stderr",
          "text": [
            "100%|██████████| 3/3 [00:00<00:00,  9.46it/s]\n",
            "100%|██████████| 2/2 [00:00<00:00,  6.64it/s]\n",
            "100%|██████████| 2/2 [00:00<00:00,  7.03it/s]\n"
          ]
        },
        {
          "output_type": "stream",
          "name": "stdout",
          "text": [
            "########## Epoch 19\n"
          ]
        },
        {
          "output_type": "stream",
          "name": "stderr",
          "text": [
            "100%|██████████| 6/6 [00:00<00:00,  8.30it/s]\n",
            "100%|██████████| 6/6 [00:00<00:00, 18.05it/s]\n"
          ]
        },
        {
          "output_type": "stream",
          "name": "stdout",
          "text": [
            "Train loss: 0.46308255195617676\tVal loss: 0.3044719099998474\tTrain acc: 91.76671374764595\tVal acc: 93.61979166666667\n"
          ]
        },
        {
          "output_type": "stream",
          "name": "stderr",
          "text": [
            "100%|██████████| 3/3 [00:00<00:00,  9.95it/s]\n",
            "100%|██████████| 2/2 [00:00<00:00,  6.83it/s]\n",
            "100%|██████████| 2/2 [00:00<00:00,  6.85it/s]\n"
          ]
        },
        {
          "output_type": "stream",
          "name": "stdout",
          "text": [
            "########## Epoch 20\n"
          ]
        },
        {
          "output_type": "stream",
          "name": "stderr",
          "text": [
            "100%|██████████| 6/6 [00:00<00:00,  7.97it/s]\n",
            "100%|██████████| 6/6 [00:00<00:00, 18.02it/s]\n"
          ]
        },
        {
          "output_type": "stream",
          "name": "stdout",
          "text": [
            "Train loss: 0.4347583055496216\tVal loss: 0.36876463890075684\tTrain acc: 93.06180849811676\tVal acc: 86.06770833333333\n"
          ]
        },
        {
          "output_type": "stream",
          "name": "stderr",
          "text": [
            "100%|██████████| 3/3 [00:00<00:00,  9.64it/s]\n",
            "100%|██████████| 2/2 [00:00<00:00,  6.46it/s]\n",
            "100%|██████████| 2/2 [00:00<00:00,  6.80it/s]\n"
          ]
        },
        {
          "output_type": "stream",
          "name": "stdout",
          "text": [
            "########## Epoch 21\n"
          ]
        },
        {
          "output_type": "stream",
          "name": "stderr",
          "text": [
            "100%|██████████| 6/6 [00:00<00:00,  7.96it/s]\n",
            "100%|██████████| 6/6 [00:00<00:00, 17.07it/s]\n"
          ]
        },
        {
          "output_type": "stream",
          "name": "stdout",
          "text": [
            "Train loss: 0.40798524022102356\tVal loss: 0.28615623712539673\tTrain acc: 93.36526012241056\tVal acc: 94.01041666666667\n"
          ]
        },
        {
          "output_type": "stream",
          "name": "stderr",
          "text": [
            "100%|██████████| 3/3 [00:00<00:00,  9.67it/s]\n",
            "100%|██████████| 2/2 [00:00<00:00,  6.80it/s]\n",
            "100%|██████████| 2/2 [00:00<00:00,  7.08it/s]\n"
          ]
        },
        {
          "output_type": "stream",
          "name": "stdout",
          "text": [
            "########## Epoch 22\n"
          ]
        },
        {
          "output_type": "stream",
          "name": "stderr",
          "text": [
            "100%|██████████| 6/6 [00:00<00:00,  8.20it/s]\n",
            "100%|██████████| 6/6 [00:00<00:00, 17.15it/s]\n"
          ]
        },
        {
          "output_type": "stream",
          "name": "stdout",
          "text": [
            "Train loss: 0.39324715733528137\tVal loss: 0.303025484085083\tTrain acc: 93.87211629001884\tVal acc: 94.27083333333333\n"
          ]
        },
        {
          "output_type": "stream",
          "name": "stderr",
          "text": [
            "100%|██████████| 3/3 [00:00<00:00,  9.22it/s]\n",
            "100%|██████████| 2/2 [00:00<00:00,  6.28it/s]\n",
            "100%|██████████| 2/2 [00:00<00:00,  6.88it/s]\n"
          ]
        },
        {
          "output_type": "stream",
          "name": "stdout",
          "text": [
            "########## Epoch 23\n"
          ]
        },
        {
          "output_type": "stream",
          "name": "stderr",
          "text": [
            "100%|██████████| 6/6 [00:00<00:00,  7.91it/s]\n",
            "100%|██████████| 6/6 [00:00<00:00, 17.31it/s]\n"
          ]
        },
        {
          "output_type": "stream",
          "name": "stdout",
          "text": [
            "Train loss: 0.37246525287628174\tVal loss: 0.2586626708507538\tTrain acc: 94.2557527071563\tVal acc: 91.6232638888889\n"
          ]
        },
        {
          "output_type": "stream",
          "name": "stderr",
          "text": [
            "100%|██████████| 3/3 [00:00<00:00,  9.94it/s]\n",
            "100%|██████████| 2/2 [00:00<00:00,  6.78it/s]\n",
            "100%|██████████| 2/2 [00:00<00:00,  6.86it/s]\n"
          ]
        },
        {
          "output_type": "stream",
          "name": "stdout",
          "text": [
            "########## Epoch 24\n"
          ]
        },
        {
          "output_type": "stream",
          "name": "stderr",
          "text": [
            "100%|██████████| 6/6 [00:00<00:00,  8.20it/s]\n",
            "100%|██████████| 6/6 [00:00<00:00, 18.08it/s]\n"
          ]
        },
        {
          "output_type": "stream",
          "name": "stdout",
          "text": [
            "Train loss: 0.3621375262737274\tVal loss: 0.26886945962905884\tTrain acc: 94.49410016478343\tVal acc: 94.79166666666667\n"
          ]
        },
        {
          "output_type": "stream",
          "name": "stderr",
          "text": [
            "100%|██████████| 3/3 [00:00<00:00,  9.85it/s]\n",
            "100%|██████████| 2/2 [00:00<00:00,  6.71it/s]\n",
            "100%|██████████| 2/2 [00:00<00:00,  6.57it/s]\n"
          ]
        },
        {
          "output_type": "display_data",
          "data": {
            "text/plain": [
              "<IPython.core.display.HTML object>"
            ],
            "text/html": [
              "Waiting for W&B process to finish... <strong style=\"color:green\">(success).</strong>"
            ]
          },
          "metadata": {}
        },
        {
          "output_type": "display_data",
          "data": {
            "text/plain": [
              "VBox(children=(Label(value='0.000 MB of 0.000 MB uploaded (0.000 MB deduped)\\r'), FloatProgress(value=1.0, max…"
            ],
            "application/vnd.jupyter.widget-view+json": {
              "version_major": 2,
              "version_minor": 0,
              "model_id": "8d6154642754491b85bec66b9d65f47d"
            }
          },
          "metadata": {}
        },
        {
          "output_type": "display_data",
          "data": {
            "text/plain": [
              "<IPython.core.display.HTML object>"
            ],
            "text/html": [
              "<style>\n",
              "    table.wandb td:nth-child(1) { padding: 0 10px; text-align: left ; width: auto;} td:nth-child(2) {text-align: left ; width: 100%}\n",
              "    .wandb-row { display: flex; flex-direction: row; flex-wrap: wrap; justify-content: flex-start; width: 100% }\n",
              "    .wandb-col { display: flex; flex-direction: column; flex-basis: 100%; flex: 1; padding: 10px; }\n",
              "    </style>\n",
              "<div class=\"wandb-row\"><div class=\"wandb-col\"><h3>Run history:</h3><br/><table class=\"wandb\"><tr><td>task_0_prevtask_0_val_acc</td><td>▁▇████▇███▇██▇▇▇▇█▇█▇▇▆▇▇</td></tr><tr><td>task_0_prevtask_0_val_loss</td><td>█▃▂▂▂▁▂▁▂▂▃▁▂▁▂▂▂▁▂▁▁▂▄▃▂</td></tr><tr><td>task_0_train_acc</td><td>▁▆▇▇▇▇▇▇▇▇▇████████████▇▇</td></tr><tr><td>task_0_train_loss</td><td>█▄▂▂▂▂▂▂▂▂▂▁▁▁▁▁▁▁▁▁▁▁▁▂▁</td></tr><tr><td>task_0_val_acc</td><td>▁▇▇▇█████▇▆▇█▇▇▇▆█▇█▇█▅█▆</td></tr><tr><td>task_0_val_loss</td><td>█▄▃▃▂▂▂▁▂▄▄▂▁▃▂▁▄▁▁▁▁▁▇▂▄</td></tr><tr><td>task_1_prevtask_0_val_acc</td><td>▄▂▁▂▄▅▂▂▆▆▄▅▇▇▇▅█▅▃▇▇█▆▅▇</td></tr><tr><td>task_1_prevtask_0_val_loss</td><td>▅██▇▄▃▆▅▂▂▆▅▂▁▁▅▂▃▄▁▅▂▂▂▁</td></tr><tr><td>task_1_prevtask_1_val_acc</td><td>▄▅▁▄▄▄▅▇▇██▇▇▇▅▇▇█▅▆▇▆▆▇▆</td></tr><tr><td>task_1_prevtask_1_val_loss</td><td>▇▅█▅▄▅▃▂▂▁▂▃▃▃▆▂▂▁▃▃▁▂▃▃▃</td></tr><tr><td>task_1_train_acc</td><td>▁▆▆▇▇▇▇▇▇▇▇▇▇▇▇▇█████████</td></tr><tr><td>task_1_train_loss</td><td>█▆▅▅▄▃▃▃▂▂▂▂▂▂▂▂▁▁▁▁▁▁▁▁▁</td></tr><tr><td>task_1_val_acc</td><td>▁▁▁▂▂▂▃▄▆▅▆█▇█▇███▇▇██▆▆▆</td></tr><tr><td>task_1_val_loss</td><td>▇█▆▅▄▄▃▃▂▂▁▁▁▁▂▁▁▁▁▁▂▁▂▂▁</td></tr><tr><td>task_2_prevtask_0_val_acc</td><td>▇▇▆▂▂▂▁▂▂▂▄▅▅▅▇█▇█▇▇▇█▇▇▇</td></tr><tr><td>task_2_prevtask_0_val_loss</td><td>▁▂▄██████▇▅▅▄▄▂▂▂▁▁▁▂▁▃▁▁</td></tr><tr><td>task_2_prevtask_1_val_acc</td><td>█▆▅▂▄▃▄▂▁▄▆▅▇▆▆█▇▇▇▅▇▅▇▇▆</td></tr><tr><td>task_2_prevtask_1_val_loss</td><td>▁▂▂▄▄▅▅▆▇▇▇▇██▇▆▆▆▅▅▄▄▃▃▃</td></tr><tr><td>task_2_prevtask_2_val_acc</td><td>▁▁▁▁▁▁▁▁▁▁▂▃▅▆▇▇▇▇▇██████</td></tr><tr><td>task_2_prevtask_2_val_loss</td><td>█▆▅▄▄▃▃▃▂▂▂▂▁▁▁▁▁▁▁▁▁▁▁▁▁</td></tr><tr><td>task_2_train_acc</td><td>▁▁▁▁▁▁▁▁▁▁▂▃▄▆▇▇▇▇▇██████</td></tr><tr><td>task_2_train_loss</td><td>█▇▅▅▄▃▃▃▃▂▂▂▂▂▂▁▁▁▁▁▁▁▁▁▁</td></tr><tr><td>task_2_val_acc</td><td>▄▃▃▂▁▂▁▁▂▁▃▄▆▆▇▆▇███▆██▇█</td></tr><tr><td>task_2_val_loss</td><td>█▇▆▆▆▄▅▄▃▃▃▂▂▂▂▂▂▁▁▁▂▁▁▁▁</td></tr></table><br/></div><div class=\"wandb-col\"><h3>Run summary:</h3><br/><table class=\"wandb\"><tr><td>task_0_prevtask_0_val_acc</td><td>97.39583</td></tr><tr><td>task_0_prevtask_0_val_loss</td><td>0.0739</td></tr><tr><td>task_0_train_acc</td><td>97.00521</td></tr><tr><td>task_0_train_loss</td><td>0.08046</td></tr><tr><td>task_0_val_acc</td><td>95.95588</td></tr><tr><td>task_0_val_loss</td><td>0.11094</td></tr><tr><td>task_1_prevtask_0_val_acc</td><td>98.17708</td></tr><tr><td>task_1_prevtask_0_val_loss</td><td>0.04947</td></tr><tr><td>task_1_prevtask_1_val_acc</td><td>96.82812</td></tr><tr><td>task_1_prevtask_1_val_loss</td><td>0.10206</td></tr><tr><td>task_1_train_acc</td><td>99.28385</td></tr><tr><td>task_1_train_loss</td><td>0.03093</td></tr><tr><td>task_1_val_acc</td><td>97.34933</td></tr><tr><td>task_1_val_loss</td><td>0.07366</td></tr><tr><td>task_2_prevtask_0_val_acc</td><td>96.47672</td></tr><tr><td>task_2_prevtask_0_val_loss</td><td>0.06423</td></tr><tr><td>task_2_prevtask_1_val_acc</td><td>96.82812</td></tr><tr><td>task_2_prevtask_1_val_loss</td><td>0.1754</td></tr><tr><td>task_2_prevtask_2_val_acc</td><td>83.96875</td></tr><tr><td>task_2_prevtask_2_val_loss</td><td>0.6983</td></tr><tr><td>task_2_train_acc</td><td>94.4941</td></tr><tr><td>task_2_train_loss</td><td>0.36214</td></tr><tr><td>task_2_val_acc</td><td>94.79167</td></tr><tr><td>task_2_val_loss</td><td>0.26887</td></tr></table><br/></div></div>"
            ]
          },
          "metadata": {}
        },
        {
          "output_type": "display_data",
          "data": {
            "text/plain": [
              "<IPython.core.display.HTML object>"
            ],
            "text/html": [
              "Synced <strong style=\"color:#cdcd00\">reservoir_imagecondition_roadcondition_yesno_20_09_23h01m37s_mul</strong>: <a href=\"https://wandb.ai/compyle/continual_vqa_final/runs/141fosas\" target=\"_blank\">https://wandb.ai/compyle/continual_vqa_final/runs/141fosas</a><br/>Synced 5 W&B file(s), 0 media file(s), 0 artifact file(s) and 0 other file(s)"
            ]
          },
          "metadata": {}
        },
        {
          "output_type": "display_data",
          "data": {
            "text/plain": [
              "<IPython.core.display.HTML object>"
            ],
            "text/html": [
              "Find logs at: <code>./wandb/run-20220920_230137-141fosas/logs</code>"
            ]
          },
          "metadata": {}
        },
        {
          "output_type": "display_data",
          "data": {
            "text/plain": [
              "<IPython.core.display.HTML object>"
            ],
            "text/html": [
              "Tracking run with wandb version 0.13.3"
            ]
          },
          "metadata": {}
        },
        {
          "output_type": "display_data",
          "data": {
            "text/plain": [
              "<IPython.core.display.HTML object>"
            ],
            "text/html": [
              "Run data is saved locally in <code>/content/wandb/run-20220920_230354-focr7mj0</code>"
            ]
          },
          "metadata": {}
        },
        {
          "output_type": "display_data",
          "data": {
            "text/plain": [
              "<IPython.core.display.HTML object>"
            ],
            "text/html": [
              "Syncing run <strong><a href=\"https://wandb.ai/compyle/continual_vqa_final/runs/focr7mj0\" target=\"_blank\">reservoir_roadcondition_yesno_imagecondition_20_09_23h03m54s_mul</a></strong> to <a href=\"https://wandb.ai/compyle/continual_vqa_final\" target=\"_blank\">Weights & Biases</a> (<a href=\"https://wandb.me/run\" target=\"_blank\">docs</a>)<br/>"
            ]
          },
          "metadata": {}
        },
        {
          "output_type": "stream",
          "name": "stdout",
          "text": [
            "########## Epoch 0\n"
          ]
        },
        {
          "output_type": "stream",
          "name": "stderr",
          "text": [
            "100%|██████████| 6/6 [00:00<00:00, 11.28it/s]\n",
            "100%|██████████| 2/2 [00:00<00:00,  6.59it/s]\n"
          ]
        },
        {
          "output_type": "stream",
          "name": "stdout",
          "text": [
            "Train loss: 0.8693087100982666\tVal loss: 0.3951821029186249\tTrain acc: 81.31944444444444\tVal acc: 83.15304487179486\n"
          ]
        },
        {
          "output_type": "stream",
          "name": "stderr",
          "text": [
            "100%|██████████| 2/2 [00:00<00:00,  6.68it/s]\n"
          ]
        },
        {
          "output_type": "stream",
          "name": "stdout",
          "text": [
            "########## Epoch 1\n"
          ]
        },
        {
          "output_type": "stream",
          "name": "stderr",
          "text": [
            "100%|██████████| 6/6 [00:00<00:00,  9.88it/s]\n",
            "100%|██████████| 2/2 [00:00<00:00,  3.92it/s]\n"
          ]
        },
        {
          "output_type": "stream",
          "name": "stdout",
          "text": [
            "Train loss: 0.31511807441711426\tVal loss: 0.1472061276435852\tTrain acc: 89.0625\tVal acc: 97.54607371794872\n"
          ]
        },
        {
          "output_type": "stream",
          "name": "stderr",
          "text": [
            "100%|██████████| 2/2 [00:00<00:00,  3.93it/s]\n"
          ]
        },
        {
          "output_type": "stream",
          "name": "stdout",
          "text": [
            "########## Epoch 2\n"
          ]
        },
        {
          "output_type": "stream",
          "name": "stderr",
          "text": [
            "100%|██████████| 6/6 [00:00<00:00,  8.52it/s]\n",
            "100%|██████████| 2/2 [00:00<00:00,  4.19it/s]\n"
          ]
        },
        {
          "output_type": "stream",
          "name": "stdout",
          "text": [
            "Train loss: 0.15060587227344513\tVal loss: 0.06934425979852676\tTrain acc: 97.10069444444444\tVal acc: 98.046875\n"
          ]
        },
        {
          "output_type": "stream",
          "name": "stderr",
          "text": [
            "100%|██████████| 2/2 [00:00<00:00,  4.22it/s]\n"
          ]
        },
        {
          "output_type": "stream",
          "name": "stdout",
          "text": [
            "########## Epoch 3\n"
          ]
        },
        {
          "output_type": "stream",
          "name": "stderr",
          "text": [
            "100%|██████████| 6/6 [00:00<00:00,  8.48it/s]\n",
            "100%|██████████| 2/2 [00:00<00:00,  4.88it/s]\n"
          ]
        },
        {
          "output_type": "stream",
          "name": "stdout",
          "text": [
            "Train loss: 0.09947863966226578\tVal loss: 0.11745123565196991\tTrain acc: 97.21354166666667\tVal acc: 96.26402243589743\n"
          ]
        },
        {
          "output_type": "stream",
          "name": "stderr",
          "text": [
            "100%|██████████| 2/2 [00:00<00:00,  4.89it/s]\n"
          ]
        },
        {
          "output_type": "stream",
          "name": "stdout",
          "text": [
            "########## Epoch 4\n"
          ]
        },
        {
          "output_type": "stream",
          "name": "stderr",
          "text": [
            "100%|██████████| 6/6 [00:00<00:00,  9.16it/s]\n",
            "100%|██████████| 2/2 [00:00<00:00,  6.49it/s]\n"
          ]
        },
        {
          "output_type": "stream",
          "name": "stdout",
          "text": [
            "Train loss: 0.09492721408605576\tVal loss: 0.14308877289295197\tTrain acc: 97.7517361111111\tVal acc: 97.04527243589743\n"
          ]
        },
        {
          "output_type": "stream",
          "name": "stderr",
          "text": [
            "100%|██████████| 2/2 [00:00<00:00,  6.42it/s]\n"
          ]
        },
        {
          "output_type": "stream",
          "name": "stdout",
          "text": [
            "########## Epoch 5\n"
          ]
        },
        {
          "output_type": "stream",
          "name": "stderr",
          "text": [
            "100%|██████████| 6/6 [00:00<00:00, 13.19it/s]\n",
            "100%|██████████| 2/2 [00:00<00:00,  6.29it/s]\n"
          ]
        },
        {
          "output_type": "stream",
          "name": "stdout",
          "text": [
            "Train loss: 0.07175404578447342\tVal loss: 0.076790951192379\tTrain acc: 98.4375\tVal acc: 97.93669871794872\n"
          ]
        },
        {
          "output_type": "stream",
          "name": "stderr",
          "text": [
            "100%|██████████| 2/2 [00:00<00:00,  6.42it/s]\n"
          ]
        },
        {
          "output_type": "stream",
          "name": "stdout",
          "text": [
            "########## Epoch 6\n"
          ]
        },
        {
          "output_type": "stream",
          "name": "stderr",
          "text": [
            "100%|██████████| 6/6 [00:00<00:00, 12.75it/s]\n",
            "100%|██████████| 2/2 [00:00<00:00,  6.47it/s]\n"
          ]
        },
        {
          "output_type": "stream",
          "name": "stdout",
          "text": [
            "Train loss: 0.07497197389602661\tVal loss: 0.055346231907606125\tTrain acc: 98.01215277777777\tVal acc: 98.828125\n"
          ]
        },
        {
          "output_type": "stream",
          "name": "stderr",
          "text": [
            "100%|██████████| 2/2 [00:00<00:00,  6.74it/s]\n"
          ]
        },
        {
          "output_type": "stream",
          "name": "stdout",
          "text": [
            "########## Epoch 7\n"
          ]
        },
        {
          "output_type": "stream",
          "name": "stderr",
          "text": [
            "100%|██████████| 6/6 [00:00<00:00, 12.50it/s]\n",
            "100%|██████████| 2/2 [00:00<00:00,  6.60it/s]\n"
          ]
        },
        {
          "output_type": "stream",
          "name": "stdout",
          "text": [
            "Train loss: 0.06390894949436188\tVal loss: 0.057228028774261475\tTrain acc: 98.15972222222223\tVal acc: 98.828125\n"
          ]
        },
        {
          "output_type": "stream",
          "name": "stderr",
          "text": [
            "100%|██████████| 2/2 [00:00<00:00,  6.93it/s]\n"
          ]
        },
        {
          "output_type": "stream",
          "name": "stdout",
          "text": [
            "########## Epoch 8\n"
          ]
        },
        {
          "output_type": "stream",
          "name": "stderr",
          "text": [
            "100%|██████████| 6/6 [00:00<00:00, 12.55it/s]\n",
            "100%|██████████| 2/2 [00:00<00:00,  6.66it/s]\n"
          ]
        },
        {
          "output_type": "stream",
          "name": "stdout",
          "text": [
            "Train loss: 0.061735015362501144\tVal loss: 0.058901723474264145\tTrain acc: 98.27256944444444\tVal acc: 98.828125\n"
          ]
        },
        {
          "output_type": "stream",
          "name": "stderr",
          "text": [
            "100%|██████████| 2/2 [00:00<00:00,  6.85it/s]\n"
          ]
        },
        {
          "output_type": "stream",
          "name": "stdout",
          "text": [
            "########## Epoch 9\n"
          ]
        },
        {
          "output_type": "stream",
          "name": "stderr",
          "text": [
            "100%|██████████| 6/6 [00:00<00:00, 12.02it/s]\n",
            "100%|██████████| 2/2 [00:00<00:00,  7.10it/s]\n"
          ]
        },
        {
          "output_type": "stream",
          "name": "stdout",
          "text": [
            "Train loss: 0.05019165948033333\tVal loss: 0.10380275547504425\tTrain acc: 98.69791666666667\tVal acc: 97.93669871794872\n"
          ]
        },
        {
          "output_type": "stream",
          "name": "stderr",
          "text": [
            "100%|██████████| 2/2 [00:00<00:00,  6.47it/s]\n"
          ]
        },
        {
          "output_type": "stream",
          "name": "stdout",
          "text": [
            "########## Epoch 10\n"
          ]
        },
        {
          "output_type": "stream",
          "name": "stderr",
          "text": [
            "100%|██████████| 6/6 [00:00<00:00, 12.60it/s]\n",
            "100%|██████████| 2/2 [00:00<00:00,  6.69it/s]\n"
          ]
        },
        {
          "output_type": "stream",
          "name": "stdout",
          "text": [
            "Train loss: 0.04749967157840729\tVal loss: 0.10906308889389038\tTrain acc: 98.828125\tVal acc: 97.93669871794872\n"
          ]
        },
        {
          "output_type": "stream",
          "name": "stderr",
          "text": [
            "100%|██████████| 2/2 [00:00<00:00,  6.07it/s]\n"
          ]
        },
        {
          "output_type": "stream",
          "name": "stdout",
          "text": [
            "########## Epoch 11\n"
          ]
        },
        {
          "output_type": "stream",
          "name": "stderr",
          "text": [
            "100%|██████████| 6/6 [00:00<00:00, 13.10it/s]\n",
            "100%|██████████| 2/2 [00:00<00:00,  6.82it/s]\n"
          ]
        },
        {
          "output_type": "stream",
          "name": "stdout",
          "text": [
            "Train loss: 0.05173443630337715\tVal loss: 0.13741466403007507\tTrain acc: 98.68055555555556\tVal acc: 97.04527243589743\n"
          ]
        },
        {
          "output_type": "stream",
          "name": "stderr",
          "text": [
            "100%|██████████| 2/2 [00:00<00:00,  6.44it/s]\n"
          ]
        },
        {
          "output_type": "stream",
          "name": "stdout",
          "text": [
            "########## Epoch 12\n"
          ]
        },
        {
          "output_type": "stream",
          "name": "stderr",
          "text": [
            "100%|██████████| 6/6 [00:00<00:00, 12.82it/s]\n",
            "100%|██████████| 2/2 [00:00<00:00,  6.46it/s]\n"
          ]
        },
        {
          "output_type": "stream",
          "name": "stdout",
          "text": [
            "Train loss: 0.04488241672515869\tVal loss: 0.14520709216594696\tTrain acc: 98.8107638888889\tVal acc: 97.04527243589743\n"
          ]
        },
        {
          "output_type": "stream",
          "name": "stderr",
          "text": [
            "100%|██████████| 2/2 [00:00<00:00,  6.52it/s]\n"
          ]
        },
        {
          "output_type": "stream",
          "name": "stdout",
          "text": [
            "########## Epoch 13\n"
          ]
        },
        {
          "output_type": "stream",
          "name": "stderr",
          "text": [
            "100%|██████████| 6/6 [00:00<00:00, 12.59it/s]\n",
            "100%|██████████| 2/2 [00:00<00:00,  6.68it/s]\n"
          ]
        },
        {
          "output_type": "stream",
          "name": "stdout",
          "text": [
            "Train loss: 0.04070043936371803\tVal loss: 0.07534106075763702\tTrain acc: 98.95833333333333\tVal acc: 98.4375\n"
          ]
        },
        {
          "output_type": "stream",
          "name": "stderr",
          "text": [
            "100%|██████████| 2/2 [00:00<00:00,  6.38it/s]\n"
          ]
        },
        {
          "output_type": "stream",
          "name": "stdout",
          "text": [
            "########## Epoch 14\n"
          ]
        },
        {
          "output_type": "stream",
          "name": "stderr",
          "text": [
            "100%|██████████| 6/6 [00:00<00:00, 12.73it/s]\n",
            "100%|██████████| 2/2 [00:00<00:00,  6.17it/s]\n"
          ]
        },
        {
          "output_type": "stream",
          "name": "stdout",
          "text": [
            "Train loss: 0.04265422746539116\tVal loss: 0.07251109182834625\tTrain acc: 98.8107638888889\tVal acc: 98.4375\n"
          ]
        },
        {
          "output_type": "stream",
          "name": "stderr",
          "text": [
            "100%|██████████| 2/2 [00:00<00:00,  6.79it/s]\n"
          ]
        },
        {
          "output_type": "stream",
          "name": "stdout",
          "text": [
            "########## Epoch 15\n"
          ]
        },
        {
          "output_type": "stream",
          "name": "stderr",
          "text": [
            "100%|██████████| 6/6 [00:00<00:00, 12.89it/s]\n",
            "100%|██████████| 2/2 [00:00<00:00,  6.62it/s]\n"
          ]
        },
        {
          "output_type": "stream",
          "name": "stdout",
          "text": [
            "Train loss: 0.03278796747326851\tVal loss: 0.14884404838085175\tTrain acc: 99.08854166666667\tVal acc: 97.54607371794872\n"
          ]
        },
        {
          "output_type": "stream",
          "name": "stderr",
          "text": [
            "100%|██████████| 2/2 [00:00<00:00,  6.54it/s]\n"
          ]
        },
        {
          "output_type": "stream",
          "name": "stdout",
          "text": [
            "########## Epoch 16\n"
          ]
        },
        {
          "output_type": "stream",
          "name": "stderr",
          "text": [
            "100%|██████████| 6/6 [00:00<00:00, 12.40it/s]\n",
            "100%|██████████| 2/2 [00:00<00:00,  6.72it/s]\n"
          ]
        },
        {
          "output_type": "stream",
          "name": "stdout",
          "text": [
            "Train loss: 0.036144059151411057\tVal loss: 0.20134037733078003\tTrain acc: 98.94097222222223\tVal acc: 96.65464743589743\n"
          ]
        },
        {
          "output_type": "stream",
          "name": "stderr",
          "text": [
            "100%|██████████| 2/2 [00:00<00:00,  6.51it/s]\n"
          ]
        },
        {
          "output_type": "stream",
          "name": "stdout",
          "text": [
            "########## Epoch 17\n"
          ]
        },
        {
          "output_type": "stream",
          "name": "stderr",
          "text": [
            "100%|██████████| 6/6 [00:00<00:00, 12.50it/s]\n",
            "100%|██████████| 2/2 [00:00<00:00,  6.83it/s]\n"
          ]
        },
        {
          "output_type": "stream",
          "name": "stdout",
          "text": [
            "Train loss: 0.03189746290445328\tVal loss: 0.12869657576084137\tTrain acc: 99.07118055555556\tVal acc: 97.54607371794872\n"
          ]
        },
        {
          "output_type": "stream",
          "name": "stderr",
          "text": [
            "100%|██████████| 2/2 [00:00<00:00,  6.28it/s]\n"
          ]
        },
        {
          "output_type": "stream",
          "name": "stdout",
          "text": [
            "########## Epoch 18\n"
          ]
        },
        {
          "output_type": "stream",
          "name": "stderr",
          "text": [
            "100%|██████████| 6/6 [00:00<00:00, 12.50it/s]\n",
            "100%|██████████| 2/2 [00:00<00:00,  6.52it/s]\n"
          ]
        },
        {
          "output_type": "stream",
          "name": "stdout",
          "text": [
            "Train loss: 0.026054678484797478\tVal loss: 0.2382853925228119\tTrain acc: 99.21875\tVal acc: 96.65464743589743\n"
          ]
        },
        {
          "output_type": "stream",
          "name": "stderr",
          "text": [
            "100%|██████████| 2/2 [00:00<00:00,  6.77it/s]\n"
          ]
        },
        {
          "output_type": "stream",
          "name": "stdout",
          "text": [
            "########## Epoch 19\n"
          ]
        },
        {
          "output_type": "stream",
          "name": "stderr",
          "text": [
            "100%|██████████| 6/6 [00:00<00:00, 12.70it/s]\n",
            "100%|██████████| 2/2 [00:00<00:00,  6.64it/s]\n"
          ]
        },
        {
          "output_type": "stream",
          "name": "stdout",
          "text": [
            "Train loss: 0.03203041851520538\tVal loss: 0.11505495756864548\tTrain acc: 99.07118055555556\tVal acc: 98.4375\n"
          ]
        },
        {
          "output_type": "stream",
          "name": "stderr",
          "text": [
            "100%|██████████| 2/2 [00:00<00:00,  6.83it/s]\n"
          ]
        },
        {
          "output_type": "stream",
          "name": "stdout",
          "text": [
            "########## Epoch 20\n"
          ]
        },
        {
          "output_type": "stream",
          "name": "stderr",
          "text": [
            "100%|██████████| 6/6 [00:00<00:00, 12.27it/s]\n",
            "100%|██████████| 2/2 [00:00<00:00,  6.79it/s]\n"
          ]
        },
        {
          "output_type": "stream",
          "name": "stdout",
          "text": [
            "Train loss: 0.025889357551932335\tVal loss: 0.17332905530929565\tTrain acc: 99.47916666666667\tVal acc: 97.15544871794872\n"
          ]
        },
        {
          "output_type": "stream",
          "name": "stderr",
          "text": [
            "100%|██████████| 2/2 [00:00<00:00,  6.45it/s]\n"
          ]
        },
        {
          "output_type": "stream",
          "name": "stdout",
          "text": [
            "########## Epoch 21\n"
          ]
        },
        {
          "output_type": "stream",
          "name": "stderr",
          "text": [
            "100%|██████████| 6/6 [00:00<00:00, 12.14it/s]\n",
            "100%|██████████| 2/2 [00:00<00:00,  6.22it/s]\n"
          ]
        },
        {
          "output_type": "stream",
          "name": "stdout",
          "text": [
            "Train loss: 0.023729944601655006\tVal loss: 0.1320689469575882\tTrain acc: 99.21875\tVal acc: 98.4375\n"
          ]
        },
        {
          "output_type": "stream",
          "name": "stderr",
          "text": [
            "100%|██████████| 2/2 [00:00<00:00,  6.33it/s]\n"
          ]
        },
        {
          "output_type": "stream",
          "name": "stdout",
          "text": [
            "########## Epoch 22\n"
          ]
        },
        {
          "output_type": "stream",
          "name": "stderr",
          "text": [
            "100%|██████████| 6/6 [00:00<00:00, 12.67it/s]\n",
            "100%|██████████| 2/2 [00:00<00:00,  6.56it/s]\n"
          ]
        },
        {
          "output_type": "stream",
          "name": "stdout",
          "text": [
            "Train loss: 0.018697502091526985\tVal loss: 0.14275623857975006\tTrain acc: 99.609375\tVal acc: 98.4375\n"
          ]
        },
        {
          "output_type": "stream",
          "name": "stderr",
          "text": [
            "100%|██████████| 2/2 [00:00<00:00,  6.81it/s]\n"
          ]
        },
        {
          "output_type": "stream",
          "name": "stdout",
          "text": [
            "########## Epoch 23\n"
          ]
        },
        {
          "output_type": "stream",
          "name": "stderr",
          "text": [
            "100%|██████████| 6/6 [00:00<00:00, 12.66it/s]\n",
            "100%|██████████| 2/2 [00:00<00:00,  6.88it/s]\n"
          ]
        },
        {
          "output_type": "stream",
          "name": "stdout",
          "text": [
            "Train loss: 0.018987415358424187\tVal loss: 0.3465973734855652\tTrain acc: 99.609375\tVal acc: 97.54607371794872\n"
          ]
        },
        {
          "output_type": "stream",
          "name": "stderr",
          "text": [
            "100%|██████████| 2/2 [00:00<00:00,  6.44it/s]\n"
          ]
        },
        {
          "output_type": "stream",
          "name": "stdout",
          "text": [
            "########## Epoch 24\n"
          ]
        },
        {
          "output_type": "stream",
          "name": "stderr",
          "text": [
            "100%|██████████| 6/6 [00:00<00:00, 12.83it/s]\n",
            "100%|██████████| 2/2 [00:00<00:00,  6.69it/s]\n"
          ]
        },
        {
          "output_type": "stream",
          "name": "stdout",
          "text": [
            "Train loss: 0.016872236505150795\tVal loss: 0.23504416644573212\tTrain acc: 99.46180555555556\tVal acc: 97.54607371794872\n"
          ]
        },
        {
          "output_type": "stream",
          "name": "stderr",
          "text": [
            "100%|██████████| 2/2 [00:00<00:00,  6.38it/s]\n"
          ]
        },
        {
          "output_type": "stream",
          "name": "stdout",
          "text": [
            "########## Epoch 0\n"
          ]
        },
        {
          "output_type": "stream",
          "name": "stderr",
          "text": [
            "100%|██████████| 6/6 [00:00<00:00,  7.80it/s]\n",
            "100%|██████████| 3/3 [00:00<00:00, 10.00it/s]\n"
          ]
        },
        {
          "output_type": "stream",
          "name": "stdout",
          "text": [
            "Train loss: 7.452390193939209\tVal loss: 7.208656311035156\tTrain acc: 52.753767730496456\tVal acc: 48.958333333333336\n"
          ]
        },
        {
          "output_type": "stream",
          "name": "stderr",
          "text": [
            "100%|██████████| 2/2 [00:00<00:00,  6.51it/s]\n",
            "100%|██████████| 2/2 [00:00<00:00,  6.79it/s]\n"
          ]
        },
        {
          "output_type": "stream",
          "name": "stdout",
          "text": [
            "########## Epoch 1\n"
          ]
        },
        {
          "output_type": "stream",
          "name": "stderr",
          "text": [
            "100%|██████████| 6/6 [00:00<00:00,  7.62it/s]\n",
            "100%|██████████| 3/3 [00:00<00:00,  9.47it/s]\n"
          ]
        },
        {
          "output_type": "stream",
          "name": "stdout",
          "text": [
            "Train loss: 6.546812534332275\tVal loss: 6.376478672027588\tTrain acc: 52.469802748226954\tVal acc: 48.864850427350426\n"
          ]
        },
        {
          "output_type": "stream",
          "name": "stderr",
          "text": [
            "100%|██████████| 2/2 [00:00<00:00,  6.44it/s]\n",
            "100%|██████████| 2/2 [00:00<00:00,  6.97it/s]\n"
          ]
        },
        {
          "output_type": "stream",
          "name": "stdout",
          "text": [
            "########## Epoch 2\n"
          ]
        },
        {
          "output_type": "stream",
          "name": "stderr",
          "text": [
            "100%|██████████| 6/6 [00:00<00:00,  7.67it/s]\n",
            "100%|██████████| 3/3 [00:00<00:00,  9.48it/s]\n"
          ]
        },
        {
          "output_type": "stream",
          "name": "stdout",
          "text": [
            "Train loss: 5.7908782958984375\tVal loss: 5.658923625946045\tTrain acc: 52.493351063829785\tVal acc: 48.270566239316246\n"
          ]
        },
        {
          "output_type": "stream",
          "name": "stderr",
          "text": [
            "100%|██████████| 2/2 [00:00<00:00,  6.52it/s]\n",
            "100%|██████████| 2/2 [00:00<00:00,  6.47it/s]\n"
          ]
        },
        {
          "output_type": "stream",
          "name": "stdout",
          "text": [
            "########## Epoch 3\n"
          ]
        },
        {
          "output_type": "stream",
          "name": "stderr",
          "text": [
            "100%|██████████| 6/6 [00:00<00:00,  7.85it/s]\n",
            "100%|██████████| 3/3 [00:00<00:00,  9.58it/s]\n"
          ]
        },
        {
          "output_type": "stream",
          "name": "stdout",
          "text": [
            "Train loss: 5.191339492797852\tVal loss: 5.127523422241211\tTrain acc: 51.48769946808511\tVal acc: 47.74973290598291\n"
          ]
        },
        {
          "output_type": "stream",
          "name": "stderr",
          "text": [
            "100%|██████████| 2/2 [00:00<00:00,  6.26it/s]\n",
            "100%|██████████| 2/2 [00:00<00:00,  6.34it/s]\n"
          ]
        },
        {
          "output_type": "stream",
          "name": "stdout",
          "text": [
            "########## Epoch 4\n"
          ]
        },
        {
          "output_type": "stream",
          "name": "stderr",
          "text": [
            "100%|██████████| 6/6 [00:00<00:00,  7.88it/s]\n",
            "100%|██████████| 3/3 [00:00<00:00,  9.19it/s]\n"
          ]
        },
        {
          "output_type": "stream",
          "name": "stdout",
          "text": [
            "Train loss: 4.655889987945557\tVal loss: 4.601699352264404\tTrain acc: 50.5291445035461\tVal acc: 47.823183760683754\n"
          ]
        },
        {
          "output_type": "stream",
          "name": "stderr",
          "text": [
            "100%|██████████| 2/2 [00:00<00:00,  6.62it/s]\n",
            "100%|██████████| 2/2 [00:00<00:00,  6.85it/s]\n"
          ]
        },
        {
          "output_type": "stream",
          "name": "stdout",
          "text": [
            "########## Epoch 5\n"
          ]
        },
        {
          "output_type": "stream",
          "name": "stderr",
          "text": [
            "100%|██████████| 6/6 [00:00<00:00,  8.04it/s]\n",
            "100%|██████████| 3/3 [00:00<00:00,  9.15it/s]\n"
          ]
        },
        {
          "output_type": "stream",
          "name": "stdout",
          "text": [
            "Train loss: 4.231459617614746\tVal loss: 4.264455795288086\tTrain acc: 49.86009530141845\tVal acc: 46.8215811965812\n"
          ]
        },
        {
          "output_type": "stream",
          "name": "stderr",
          "text": [
            "100%|██████████| 2/2 [00:00<00:00,  5.95it/s]\n",
            "100%|██████████| 2/2 [00:00<00:00,  6.58it/s]\n"
          ]
        },
        {
          "output_type": "stream",
          "name": "stdout",
          "text": [
            "########## Epoch 6\n"
          ]
        },
        {
          "output_type": "stream",
          "name": "stderr",
          "text": [
            "100%|██████████| 6/6 [00:00<00:00,  7.71it/s]\n",
            "100%|██████████| 3/3 [00:00<00:00, 10.07it/s]\n"
          ]
        },
        {
          "output_type": "stream",
          "name": "stdout",
          "text": [
            "Train loss: 3.8892698287963867\tVal loss: 3.99115252494812\tTrain acc: 48.145223847517734\tVal acc: 46.65464743589744\n"
          ]
        },
        {
          "output_type": "stream",
          "name": "stderr",
          "text": [
            "100%|██████████| 2/2 [00:00<00:00,  6.29it/s]\n",
            "100%|██████████| 2/2 [00:00<00:00,  6.22it/s]\n"
          ]
        },
        {
          "output_type": "stream",
          "name": "stdout",
          "text": [
            "########## Epoch 7\n"
          ]
        },
        {
          "output_type": "stream",
          "name": "stderr",
          "text": [
            "100%|██████████| 6/6 [00:00<00:00,  7.92it/s]\n",
            "100%|██████████| 3/3 [00:00<00:00,  9.76it/s]\n"
          ]
        },
        {
          "output_type": "stream",
          "name": "stdout",
          "text": [
            "Train loss: 3.5938146114349365\tVal loss: 3.6938893795013428\tTrain acc: 47.973459663120565\tVal acc: 46.56116452991453\n"
          ]
        },
        {
          "output_type": "stream",
          "name": "stderr",
          "text": [
            "100%|██████████| 2/2 [00:00<00:00,  6.73it/s]\n",
            "100%|██████████| 2/2 [00:00<00:00,  6.30it/s]\n"
          ]
        },
        {
          "output_type": "stream",
          "name": "stdout",
          "text": [
            "########## Epoch 8\n"
          ]
        },
        {
          "output_type": "stream",
          "name": "stderr",
          "text": [
            "100%|██████████| 6/6 [00:00<00:00,  7.97it/s]\n",
            "100%|██████████| 3/3 [00:00<00:00,  9.06it/s]\n"
          ]
        },
        {
          "output_type": "stream",
          "name": "stdout",
          "text": [
            "Train loss: 3.3390653133392334\tVal loss: 3.360783815383911\tTrain acc: 48.17431294326241\tVal acc: 47.135416666666664\n"
          ]
        },
        {
          "output_type": "stream",
          "name": "stderr",
          "text": [
            "100%|██████████| 2/2 [00:00<00:00,  6.37it/s]\n",
            "100%|██████████| 2/2 [00:00<00:00,  6.55it/s]\n"
          ]
        },
        {
          "output_type": "stream",
          "name": "stdout",
          "text": [
            "########## Epoch 9\n"
          ]
        },
        {
          "output_type": "stream",
          "name": "stderr",
          "text": [
            "100%|██████████| 6/6 [00:00<00:00,  7.75it/s]\n",
            "100%|██████████| 3/3 [00:00<00:00,  9.60it/s]\n"
          ]
        },
        {
          "output_type": "stream",
          "name": "stdout",
          "text": [
            "Train loss: 3.1465368270874023\tVal loss: 3.226064682006836\tTrain acc: 46.43450797872341\tVal acc: 45.20566239316239\n"
          ]
        },
        {
          "output_type": "stream",
          "name": "stderr",
          "text": [
            "100%|██████████| 2/2 [00:00<00:00,  6.41it/s]\n",
            "100%|██████████| 2/2 [00:00<00:00,  6.58it/s]\n"
          ]
        },
        {
          "output_type": "stream",
          "name": "stdout",
          "text": [
            "########## Epoch 10\n"
          ]
        },
        {
          "output_type": "stream",
          "name": "stderr",
          "text": [
            "100%|██████████| 6/6 [00:00<00:00,  8.09it/s]\n",
            "100%|██████████| 3/3 [00:00<00:00,  9.73it/s]\n"
          ]
        },
        {
          "output_type": "stream",
          "name": "stdout",
          "text": [
            "Train loss: 2.9196383953094482\tVal loss: 2.9864683151245117\tTrain acc: 48.15630540780142\tVal acc: 45.85336538461539\n"
          ]
        },
        {
          "output_type": "stream",
          "name": "stderr",
          "text": [
            "100%|██████████| 2/2 [00:00<00:00,  6.42it/s]\n",
            "100%|██████████| 2/2 [00:00<00:00,  6.65it/s]\n"
          ]
        },
        {
          "output_type": "stream",
          "name": "stdout",
          "text": [
            "########## Epoch 11\n"
          ]
        },
        {
          "output_type": "stream",
          "name": "stderr",
          "text": [
            "100%|██████████| 6/6 [00:00<00:00,  7.94it/s]\n",
            "100%|██████████| 3/3 [00:00<00:00,  9.60it/s]\n"
          ]
        },
        {
          "output_type": "stream",
          "name": "stdout",
          "text": [
            "Train loss: 2.7607262134552\tVal loss: 2.8650779724121094\tTrain acc: 47.168661347517734\tVal acc: 43.99706196581197\n"
          ]
        },
        {
          "output_type": "stream",
          "name": "stderr",
          "text": [
            "100%|██████████| 2/2 [00:00<00:00,  6.36it/s]\n",
            "100%|██████████| 2/2 [00:00<00:00,  6.91it/s]\n"
          ]
        },
        {
          "output_type": "stream",
          "name": "stdout",
          "text": [
            "########## Epoch 12\n"
          ]
        },
        {
          "output_type": "stream",
          "name": "stderr",
          "text": [
            "100%|██████████| 6/6 [00:00<00:00,  7.66it/s]\n",
            "100%|██████████| 3/3 [00:00<00:00,  8.81it/s]\n"
          ]
        },
        {
          "output_type": "stream",
          "name": "stdout",
          "text": [
            "Train loss: 2.617213487625122\tVal loss: 2.629901170730591\tTrain acc: 46.778036347517734\tVal acc: 45.16559829059829\n"
          ]
        },
        {
          "output_type": "stream",
          "name": "stderr",
          "text": [
            "100%|██████████| 2/2 [00:00<00:00,  6.40it/s]\n",
            "100%|██████████| 2/2 [00:00<00:00,  6.48it/s]\n"
          ]
        },
        {
          "output_type": "stream",
          "name": "stdout",
          "text": [
            "########## Epoch 13\n"
          ]
        },
        {
          "output_type": "stream",
          "name": "stderr",
          "text": [
            "100%|██████████| 6/6 [00:00<00:00,  7.82it/s]\n",
            "100%|██████████| 3/3 [00:00<00:00,  9.08it/s]\n"
          ]
        },
        {
          "output_type": "stream",
          "name": "stdout",
          "text": [
            "Train loss: 2.4767749309539795\tVal loss: 2.5219032764434814\tTrain acc: 46.334773936170215\tVal acc: 44.831730769230774\n"
          ]
        },
        {
          "output_type": "stream",
          "name": "stderr",
          "text": [
            "100%|██████████| 2/2 [00:00<00:00,  6.24it/s]\n",
            "100%|██████████| 2/2 [00:00<00:00,  6.64it/s]\n"
          ]
        },
        {
          "output_type": "stream",
          "name": "stdout",
          "text": [
            "########## Epoch 14\n"
          ]
        },
        {
          "output_type": "stream",
          "name": "stderr",
          "text": [
            "100%|██████████| 6/6 [00:00<00:00,  7.91it/s]\n",
            "100%|██████████| 3/3 [00:00<00:00,  8.94it/s]\n"
          ]
        },
        {
          "output_type": "stream",
          "name": "stdout",
          "text": [
            "Train loss: 2.2931811809539795\tVal loss: 2.3521578311920166\tTrain acc: 48.24495789007093\tVal acc: 45.59294871794872\n"
          ]
        },
        {
          "output_type": "stream",
          "name": "stderr",
          "text": [
            "100%|██████████| 2/2 [00:00<00:00,  6.72it/s]\n",
            "100%|██████████| 2/2 [00:00<00:00,  6.46it/s]\n"
          ]
        },
        {
          "output_type": "stream",
          "name": "stdout",
          "text": [
            "########## Epoch 15\n"
          ]
        },
        {
          "output_type": "stream",
          "name": "stderr",
          "text": [
            "100%|██████████| 6/6 [00:00<00:00,  7.73it/s]\n",
            "100%|██████████| 3/3 [00:00<00:00,  9.41it/s]\n"
          ]
        },
        {
          "output_type": "stream",
          "name": "stdout",
          "text": [
            "Train loss: 2.1992666721343994\tVal loss: 2.1707723140716553\tTrain acc: 47.06754210992907\tVal acc: 47.18883547008547\n"
          ]
        },
        {
          "output_type": "stream",
          "name": "stderr",
          "text": [
            "100%|██████████| 2/2 [00:00<00:00,  6.36it/s]\n",
            "100%|██████████| 2/2 [00:00<00:00,  6.56it/s]\n"
          ]
        },
        {
          "output_type": "stream",
          "name": "stdout",
          "text": [
            "########## Epoch 16\n"
          ]
        },
        {
          "output_type": "stream",
          "name": "stderr",
          "text": [
            "100%|██████████| 6/6 [00:00<00:00,  7.75it/s]\n",
            "100%|██████████| 3/3 [00:00<00:00,  9.43it/s]\n"
          ]
        },
        {
          "output_type": "stream",
          "name": "stdout",
          "text": [
            "Train loss: 2.067307710647583\tVal loss: 2.0919344425201416\tTrain acc: 47.15065381205674\tVal acc: 46.18723290598291\n"
          ]
        },
        {
          "output_type": "stream",
          "name": "stderr",
          "text": [
            "100%|██████████| 2/2 [00:00<00:00,  6.50it/s]\n",
            "100%|██████████| 2/2 [00:00<00:00,  6.13it/s]\n"
          ]
        },
        {
          "output_type": "stream",
          "name": "stdout",
          "text": [
            "########## Epoch 17\n"
          ]
        },
        {
          "output_type": "stream",
          "name": "stderr",
          "text": [
            "100%|██████████| 6/6 [00:00<00:00,  7.72it/s]\n",
            "100%|██████████| 3/3 [00:00<00:00,  9.20it/s]\n"
          ]
        },
        {
          "output_type": "stream",
          "name": "stdout",
          "text": [
            "Train loss: 1.9397915601730347\tVal loss: 1.9819444417953491\tTrain acc: 47.49418218085106\tVal acc: 45.68643162393162\n"
          ]
        },
        {
          "output_type": "stream",
          "name": "stderr",
          "text": [
            "100%|██████████| 2/2 [00:00<00:00,  6.68it/s]\n",
            "100%|██████████| 2/2 [00:00<00:00,  6.62it/s]\n"
          ]
        },
        {
          "output_type": "stream",
          "name": "stdout",
          "text": [
            "########## Epoch 18\n"
          ]
        },
        {
          "output_type": "stream",
          "name": "stderr",
          "text": [
            "100%|██████████| 6/6 [00:00<00:00,  7.57it/s]\n",
            "100%|██████████| 3/3 [00:00<00:00,  9.14it/s]\n"
          ]
        },
        {
          "output_type": "stream",
          "name": "stdout",
          "text": [
            "Train loss: 1.8431693315505981\tVal loss: 1.8678001165390015\tTrain acc: 47.35150709219858\tVal acc: 45.94684829059829\n"
          ]
        },
        {
          "output_type": "stream",
          "name": "stderr",
          "text": [
            "100%|██████████| 2/2 [00:00<00:00,  6.38it/s]\n",
            "100%|██████████| 2/2 [00:00<00:00,  6.43it/s]\n"
          ]
        },
        {
          "output_type": "stream",
          "name": "stdout",
          "text": [
            "########## Epoch 19\n"
          ]
        },
        {
          "output_type": "stream",
          "name": "stderr",
          "text": [
            "100%|██████████| 6/6 [00:00<00:00,  7.49it/s]\n",
            "100%|██████████| 3/3 [00:00<00:00,  9.32it/s]\n"
          ]
        },
        {
          "output_type": "stream",
          "name": "stdout",
          "text": [
            "Train loss: 1.7326436042785645\tVal loss: 1.7451395988464355\tTrain acc: 47.14511303191489\tVal acc: 46.11378205128205\n"
          ]
        },
        {
          "output_type": "stream",
          "name": "stderr",
          "text": [
            "100%|██████████| 2/2 [00:00<00:00,  5.95it/s]\n",
            "100%|██████████| 2/2 [00:00<00:00,  6.27it/s]\n"
          ]
        },
        {
          "output_type": "stream",
          "name": "stdout",
          "text": [
            "########## Epoch 20\n"
          ]
        },
        {
          "output_type": "stream",
          "name": "stderr",
          "text": [
            "100%|██████████| 6/6 [00:00<00:00,  7.67it/s]\n",
            "100%|██████████| 3/3 [00:00<00:00,  9.40it/s]\n"
          ]
        },
        {
          "output_type": "stream",
          "name": "stdout",
          "text": [
            "Train loss: 1.6265678405761719\tVal loss: 1.656898021697998\tTrain acc: 46.57718306737589\tVal acc: 45.27911324786325\n"
          ]
        },
        {
          "output_type": "stream",
          "name": "stderr",
          "text": [
            "100%|██████████| 2/2 [00:00<00:00,  6.88it/s]\n",
            "100%|██████████| 2/2 [00:00<00:00,  6.23it/s]\n"
          ]
        },
        {
          "output_type": "stream",
          "name": "stdout",
          "text": [
            "########## Epoch 21\n"
          ]
        },
        {
          "output_type": "stream",
          "name": "stderr",
          "text": [
            "100%|██████████| 6/6 [00:00<00:00,  7.80it/s]\n",
            "100%|██████████| 3/3 [00:00<00:00,  8.87it/s]\n"
          ]
        },
        {
          "output_type": "stream",
          "name": "stdout",
          "text": [
            "Train loss: 1.506158471107483\tVal loss: 1.54683256149292\tTrain acc: 47.65347960992907\tVal acc: 45.27911324786325\n"
          ]
        },
        {
          "output_type": "stream",
          "name": "stderr",
          "text": [
            "100%|██████████| 2/2 [00:00<00:00,  6.49it/s]\n",
            "100%|██████████| 2/2 [00:00<00:00,  6.34it/s]\n"
          ]
        },
        {
          "output_type": "stream",
          "name": "stdout",
          "text": [
            "########## Epoch 22\n"
          ]
        },
        {
          "output_type": "stream",
          "name": "stderr",
          "text": [
            "100%|██████████| 6/6 [00:00<00:00,  7.75it/s]\n",
            "100%|██████████| 3/3 [00:00<00:00,  9.11it/s]\n"
          ]
        },
        {
          "output_type": "stream",
          "name": "stdout",
          "text": [
            "Train loss: 1.4027796983718872\tVal loss: 1.4144738912582397\tTrain acc: 47.695035460992905\tVal acc: 46.447649572649574\n"
          ]
        },
        {
          "output_type": "stream",
          "name": "stderr",
          "text": [
            "100%|██████████| 2/2 [00:00<00:00,  6.37it/s]\n",
            "100%|██████████| 2/2 [00:00<00:00,  6.34it/s]\n"
          ]
        },
        {
          "output_type": "stream",
          "name": "stdout",
          "text": [
            "########## Epoch 23\n"
          ]
        },
        {
          "output_type": "stream",
          "name": "stderr",
          "text": [
            "100%|██████████| 6/6 [00:00<00:00,  7.65it/s]\n",
            "100%|██████████| 3/3 [00:00<00:00,  9.54it/s]\n"
          ]
        },
        {
          "output_type": "stream",
          "name": "stdout",
          "text": [
            "Train loss: 1.2948119640350342\tVal loss: 1.316664695739746\tTrain acc: 48.03856382978723\tVal acc: 46.207264957264954\n"
          ]
        },
        {
          "output_type": "stream",
          "name": "stderr",
          "text": [
            "100%|██████████| 2/2 [00:00<00:00,  6.33it/s]\n",
            "100%|██████████| 2/2 [00:00<00:00,  6.14it/s]\n"
          ]
        },
        {
          "output_type": "stream",
          "name": "stdout",
          "text": [
            "########## Epoch 24\n"
          ]
        },
        {
          "output_type": "stream",
          "name": "stderr",
          "text": [
            "100%|██████████| 6/6 [00:00<00:00,  7.63it/s]\n",
            "100%|██████████| 3/3 [00:00<00:00,  9.09it/s]\n"
          ]
        },
        {
          "output_type": "stream",
          "name": "stdout",
          "text": [
            "Train loss: 1.2038512229919434\tVal loss: 1.2129641771316528\tTrain acc: 48.29205452127659\tVal acc: 47.135416666666664\n"
          ]
        },
        {
          "output_type": "stream",
          "name": "stderr",
          "text": [
            "100%|██████████| 2/2 [00:00<00:00,  6.18it/s]\n",
            "100%|██████████| 2/2 [00:00<00:00,  6.91it/s]\n"
          ]
        },
        {
          "output_type": "stream",
          "name": "stdout",
          "text": [
            "########## Epoch 0\n"
          ]
        },
        {
          "output_type": "stream",
          "name": "stderr",
          "text": [
            "100%|██████████| 10/10 [00:01<00:00,  9.01it/s]\n",
            "100%|██████████| 5/5 [00:00<00:00, 14.70it/s]\n"
          ]
        },
        {
          "output_type": "stream",
          "name": "stdout",
          "text": [
            "Train loss: 0.7462235689163208\tVal loss: 0.6865578889846802\tTrain acc: 68.046875\tVal acc: 71.69642857142858\n"
          ]
        },
        {
          "output_type": "stream",
          "name": "stderr",
          "text": [
            "100%|██████████| 2/2 [00:00<00:00,  6.60it/s]\n",
            "100%|██████████| 2/2 [00:00<00:00,  5.97it/s]\n",
            "100%|██████████| 3/3 [00:00<00:00,  9.22it/s]\n"
          ]
        },
        {
          "output_type": "stream",
          "name": "stdout",
          "text": [
            "########## Epoch 1\n"
          ]
        },
        {
          "output_type": "stream",
          "name": "stderr",
          "text": [
            "100%|██████████| 10/10 [00:01<00:00,  9.07it/s]\n",
            "100%|██████████| 5/5 [00:00<00:00, 14.36it/s]\n"
          ]
        },
        {
          "output_type": "stream",
          "name": "stdout",
          "text": [
            "Train loss: 0.6659508347511292\tVal loss: 0.6295815706253052\tTrain acc: 71.97119869402985\tVal acc: 73.72767857142858\n"
          ]
        },
        {
          "output_type": "stream",
          "name": "stderr",
          "text": [
            "100%|██████████| 2/2 [00:00<00:00,  6.03it/s]\n",
            "100%|██████████| 2/2 [00:00<00:00,  6.27it/s]\n",
            "100%|██████████| 3/3 [00:00<00:00,  9.12it/s]\n"
          ]
        },
        {
          "output_type": "stream",
          "name": "stdout",
          "text": [
            "########## Epoch 2\n"
          ]
        },
        {
          "output_type": "stream",
          "name": "stderr",
          "text": [
            "100%|██████████| 10/10 [00:01<00:00,  9.04it/s]\n",
            "100%|██████████| 5/5 [00:00<00:00, 13.11it/s]\n"
          ]
        },
        {
          "output_type": "stream",
          "name": "stdout",
          "text": [
            "Train loss: 0.5813422799110413\tVal loss: 0.5784748196601868\tTrain acc: 77.24871735074626\tVal acc: 76.45089285714286\n"
          ]
        },
        {
          "output_type": "stream",
          "name": "stderr",
          "text": [
            "100%|██████████| 2/2 [00:00<00:00,  6.16it/s]\n",
            "100%|██████████| 2/2 [00:00<00:00,  6.43it/s]\n",
            "100%|██████████| 3/3 [00:00<00:00,  8.98it/s]\n"
          ]
        },
        {
          "output_type": "stream",
          "name": "stdout",
          "text": [
            "########## Epoch 3\n"
          ]
        },
        {
          "output_type": "stream",
          "name": "stderr",
          "text": [
            "100%|██████████| 10/10 [00:01<00:00,  9.25it/s]\n",
            "100%|██████████| 5/5 [00:00<00:00, 13.94it/s]\n"
          ]
        },
        {
          "output_type": "stream",
          "name": "stdout",
          "text": [
            "Train loss: 0.533551037311554\tVal loss: 0.5406626462936401\tTrain acc: 80.85004664179105\tVal acc: 77.61160714285714\n"
          ]
        },
        {
          "output_type": "stream",
          "name": "stderr",
          "text": [
            "100%|██████████| 2/2 [00:00<00:00,  6.44it/s]\n",
            "100%|██████████| 2/2 [00:00<00:00,  6.02it/s]\n",
            "100%|██████████| 3/3 [00:00<00:00,  9.47it/s]\n"
          ]
        },
        {
          "output_type": "stream",
          "name": "stdout",
          "text": [
            "########## Epoch 4\n"
          ]
        },
        {
          "output_type": "stream",
          "name": "stderr",
          "text": [
            "100%|██████████| 10/10 [00:01<00:00,  9.25it/s]\n",
            "100%|██████████| 5/5 [00:00<00:00, 13.33it/s]\n"
          ]
        },
        {
          "output_type": "stream",
          "name": "stdout",
          "text": [
            "Train loss: 0.4853246808052063\tVal loss: 0.5054219961166382\tTrain acc: 84.05725279850746\tVal acc: 79.57589285714286\n"
          ]
        },
        {
          "output_type": "stream",
          "name": "stderr",
          "text": [
            "100%|██████████| 2/2 [00:00<00:00,  6.41it/s]\n",
            "100%|██████████| 2/2 [00:00<00:00,  6.50it/s]\n",
            "100%|██████████| 3/3 [00:00<00:00,  8.67it/s]\n"
          ]
        },
        {
          "output_type": "stream",
          "name": "stdout",
          "text": [
            "########## Epoch 5\n"
          ]
        },
        {
          "output_type": "stream",
          "name": "stderr",
          "text": [
            "100%|██████████| 10/10 [00:01<00:00,  9.16it/s]\n",
            "100%|██████████| 5/5 [00:00<00:00, 13.92it/s]\n"
          ]
        },
        {
          "output_type": "stream",
          "name": "stdout",
          "text": [
            "Train loss: 0.45608025789260864\tVal loss: 0.4805019497871399\tTrain acc: 84.95219216417911\tVal acc: 80.40178571428571\n"
          ]
        },
        {
          "output_type": "stream",
          "name": "stderr",
          "text": [
            "100%|██████████| 2/2 [00:00<00:00,  6.50it/s]\n",
            "100%|██████████| 2/2 [00:00<00:00,  6.23it/s]\n",
            "100%|██████████| 3/3 [00:00<00:00,  9.34it/s]\n"
          ]
        },
        {
          "output_type": "stream",
          "name": "stdout",
          "text": [
            "########## Epoch 6\n"
          ]
        },
        {
          "output_type": "stream",
          "name": "stderr",
          "text": [
            "100%|██████████| 10/10 [00:01<00:00,  9.37it/s]\n",
            "100%|██████████| 5/5 [00:00<00:00, 13.51it/s]\n"
          ]
        },
        {
          "output_type": "stream",
          "name": "stdout",
          "text": [
            "Train loss: 0.43397969007492065\tVal loss: 0.4533194899559021\tTrain acc: 85.12593283582089\tVal acc: 81.29464285714286\n"
          ]
        },
        {
          "output_type": "stream",
          "name": "stderr",
          "text": [
            "100%|██████████| 2/2 [00:00<00:00,  6.28it/s]\n",
            "100%|██████████| 2/2 [00:00<00:00,  6.45it/s]\n",
            "100%|██████████| 3/3 [00:00<00:00,  9.17it/s]\n"
          ]
        },
        {
          "output_type": "stream",
          "name": "stdout",
          "text": [
            "########## Epoch 7\n"
          ]
        },
        {
          "output_type": "stream",
          "name": "stderr",
          "text": [
            "100%|██████████| 10/10 [00:01<00:00,  9.33it/s]\n",
            "100%|██████████| 5/5 [00:00<00:00, 13.64it/s]\n"
          ]
        },
        {
          "output_type": "stream",
          "name": "stdout",
          "text": [
            "Train loss: 0.4151673913002014\tVal loss: 0.43526142835617065\tTrain acc: 85.00874533582089\tVal acc: 82.23214285714286\n"
          ]
        },
        {
          "output_type": "stream",
          "name": "stderr",
          "text": [
            "100%|██████████| 2/2 [00:00<00:00,  6.27it/s]\n",
            "100%|██████████| 2/2 [00:00<00:00,  6.19it/s]\n",
            "100%|██████████| 3/3 [00:00<00:00,  9.08it/s]\n"
          ]
        },
        {
          "output_type": "stream",
          "name": "stdout",
          "text": [
            "########## Epoch 8\n"
          ]
        },
        {
          "output_type": "stream",
          "name": "stderr",
          "text": [
            "100%|██████████| 10/10 [00:01<00:00,  9.28it/s]\n",
            "100%|██████████| 5/5 [00:00<00:00, 13.63it/s]\n"
          ]
        },
        {
          "output_type": "stream",
          "name": "stdout",
          "text": [
            "Train loss: 0.38799142837524414\tVal loss: 0.4128056466579437\tTrain acc: 85.55620335820895\tVal acc: 83.01339285714286\n"
          ]
        },
        {
          "output_type": "stream",
          "name": "stderr",
          "text": [
            "100%|██████████| 2/2 [00:00<00:00,  5.98it/s]\n",
            "100%|██████████| 2/2 [00:00<00:00,  6.40it/s]\n",
            "100%|██████████| 3/3 [00:00<00:00,  9.21it/s]\n"
          ]
        },
        {
          "output_type": "stream",
          "name": "stdout",
          "text": [
            "########## Epoch 9\n"
          ]
        },
        {
          "output_type": "stream",
          "name": "stderr",
          "text": [
            "100%|██████████| 10/10 [00:01<00:00,  9.38it/s]\n",
            "100%|██████████| 5/5 [00:00<00:00, 14.16it/s]\n"
          ]
        },
        {
          "output_type": "stream",
          "name": "stdout",
          "text": [
            "Train loss: 0.369344025850296\tVal loss: 0.3976871371269226\tTrain acc: 85.63024720149254\tVal acc: 83.23660714285714\n"
          ]
        },
        {
          "output_type": "stream",
          "name": "stderr",
          "text": [
            "100%|██████████| 2/2 [00:00<00:00,  6.50it/s]\n",
            "100%|██████████| 2/2 [00:00<00:00,  6.38it/s]\n",
            "100%|██████████| 3/3 [00:00<00:00,  8.79it/s]\n"
          ]
        },
        {
          "output_type": "stream",
          "name": "stdout",
          "text": [
            "########## Epoch 10\n"
          ]
        },
        {
          "output_type": "stream",
          "name": "stderr",
          "text": [
            "100%|██████████| 10/10 [00:01<00:00,  9.30it/s]\n",
            "100%|██████████| 5/5 [00:00<00:00, 13.41it/s]\n"
          ]
        },
        {
          "output_type": "stream",
          "name": "stdout",
          "text": [
            "Train loss: 0.3574017584323883\tVal loss: 0.3808087706565857\tTrain acc: 84.91662779850746\tVal acc: 83.30357142857142\n"
          ]
        },
        {
          "output_type": "stream",
          "name": "stderr",
          "text": [
            "100%|██████████| 2/2 [00:00<00:00,  6.28it/s]\n",
            "100%|██████████| 2/2 [00:00<00:00,  6.22it/s]\n",
            "100%|██████████| 3/3 [00:00<00:00,  9.07it/s]\n"
          ]
        },
        {
          "output_type": "stream",
          "name": "stdout",
          "text": [
            "########## Epoch 11\n"
          ]
        },
        {
          "output_type": "stream",
          "name": "stderr",
          "text": [
            "100%|██████████| 10/10 [00:01<00:00,  9.26it/s]\n",
            "100%|██████████| 5/5 [00:00<00:00, 14.26it/s]\n"
          ]
        },
        {
          "output_type": "stream",
          "name": "stdout",
          "text": [
            "Train loss: 0.34576308727264404\tVal loss: 0.36603397130966187\tTrain acc: 84.65718283582089\tVal acc: 83.125\n"
          ]
        },
        {
          "output_type": "stream",
          "name": "stderr",
          "text": [
            "100%|██████████| 2/2 [00:00<00:00,  6.12it/s]\n",
            "100%|██████████| 2/2 [00:00<00:00,  5.95it/s]\n",
            "100%|██████████| 3/3 [00:00<00:00,  9.07it/s]\n"
          ]
        },
        {
          "output_type": "stream",
          "name": "stdout",
          "text": [
            "########## Epoch 12\n"
          ]
        },
        {
          "output_type": "stream",
          "name": "stderr",
          "text": [
            "100%|██████████| 10/10 [00:01<00:00,  9.48it/s]\n",
            "100%|██████████| 5/5 [00:00<00:00, 13.75it/s]\n"
          ]
        },
        {
          "output_type": "stream",
          "name": "stdout",
          "text": [
            "Train loss: 0.3313824236392975\tVal loss: 0.3568790555000305\tTrain acc: 86.50419776119404\tVal acc: 83.57142857142858\n"
          ]
        },
        {
          "output_type": "stream",
          "name": "stderr",
          "text": [
            "100%|██████████| 2/2 [00:00<00:00,  5.86it/s]\n",
            "100%|██████████| 2/2 [00:00<00:00,  6.33it/s]\n",
            "100%|██████████| 3/3 [00:00<00:00,  9.03it/s]\n"
          ]
        },
        {
          "output_type": "stream",
          "name": "stdout",
          "text": [
            "########## Epoch 13\n"
          ]
        },
        {
          "output_type": "stream",
          "name": "stderr",
          "text": [
            "100%|██████████| 10/10 [00:01<00:00,  9.24it/s]\n",
            "100%|██████████| 5/5 [00:00<00:00, 14.10it/s]\n"
          ]
        },
        {
          "output_type": "stream",
          "name": "stdout",
          "text": [
            "Train loss: 0.3130105137825012\tVal loss: 0.3473770022392273\tTrain acc: 86.87733208955224\tVal acc: 83.86160714285714\n"
          ]
        },
        {
          "output_type": "stream",
          "name": "stderr",
          "text": [
            "100%|██████████| 2/2 [00:00<00:00,  6.07it/s]\n",
            "100%|██████████| 2/2 [00:00<00:00,  6.47it/s]\n",
            "100%|██████████| 3/3 [00:00<00:00,  9.42it/s]\n"
          ]
        },
        {
          "output_type": "stream",
          "name": "stdout",
          "text": [
            "########## Epoch 14\n"
          ]
        },
        {
          "output_type": "stream",
          "name": "stderr",
          "text": [
            "100%|██████████| 10/10 [00:01<00:00,  9.34it/s]\n",
            "100%|██████████| 5/5 [00:00<00:00, 13.55it/s]\n"
          ]
        },
        {
          "output_type": "stream",
          "name": "stdout",
          "text": [
            "Train loss: 0.30742955207824707\tVal loss: 0.33919453620910645\tTrain acc: 86.8417677238806\tVal acc: 83.79464285714286\n"
          ]
        },
        {
          "output_type": "stream",
          "name": "stderr",
          "text": [
            "100%|██████████| 2/2 [00:00<00:00,  6.50it/s]\n",
            "100%|██████████| 2/2 [00:00<00:00,  6.67it/s]\n",
            "100%|██████████| 3/3 [00:00<00:00,  9.14it/s]\n"
          ]
        },
        {
          "output_type": "stream",
          "name": "stdout",
          "text": [
            "########## Epoch 15\n"
          ]
        },
        {
          "output_type": "stream",
          "name": "stderr",
          "text": [
            "100%|██████████| 10/10 [00:01<00:00,  9.19it/s]\n",
            "100%|██████████| 5/5 [00:00<00:00, 14.20it/s]\n"
          ]
        },
        {
          "output_type": "stream",
          "name": "stdout",
          "text": [
            "Train loss: 0.2888576090335846\tVal loss: 0.33345991373062134\tTrain acc: 87.2714552238806\tVal acc: 83.75\n"
          ]
        },
        {
          "output_type": "stream",
          "name": "stderr",
          "text": [
            "100%|██████████| 2/2 [00:00<00:00,  6.24it/s]\n",
            "100%|██████████| 2/2 [00:00<00:00,  6.09it/s]\n",
            "100%|██████████| 3/3 [00:00<00:00,  8.94it/s]\n"
          ]
        },
        {
          "output_type": "stream",
          "name": "stdout",
          "text": [
            "########## Epoch 16\n"
          ]
        },
        {
          "output_type": "stream",
          "name": "stderr",
          "text": [
            "100%|██████████| 10/10 [00:01<00:00,  9.40it/s]\n",
            "100%|██████████| 5/5 [00:00<00:00, 14.11it/s]\n"
          ]
        },
        {
          "output_type": "stream",
          "name": "stdout",
          "text": [
            "Train loss: 0.2857138514518738\tVal loss: 0.32425516843795776\tTrain acc: 87.8008395522388\tVal acc: 83.88392857142858\n"
          ]
        },
        {
          "output_type": "stream",
          "name": "stderr",
          "text": [
            "100%|██████████| 2/2 [00:00<00:00,  6.18it/s]\n",
            "100%|██████████| 2/2 [00:00<00:00,  6.47it/s]\n",
            "100%|██████████| 3/3 [00:00<00:00,  9.04it/s]\n"
          ]
        },
        {
          "output_type": "stream",
          "name": "stdout",
          "text": [
            "########## Epoch 17\n"
          ]
        },
        {
          "output_type": "stream",
          "name": "stderr",
          "text": [
            "100%|██████████| 10/10 [00:01<00:00,  9.24it/s]\n",
            "100%|██████████| 5/5 [00:00<00:00, 14.14it/s]\n"
          ]
        },
        {
          "output_type": "stream",
          "name": "stdout",
          "text": [
            "Train loss: 0.2916240692138672\tVal loss: 0.31668493151664734\tTrain acc: 86.87733208955224\tVal acc: 83.97321428571429\n"
          ]
        },
        {
          "output_type": "stream",
          "name": "stderr",
          "text": [
            "100%|██████████| 2/2 [00:00<00:00,  6.21it/s]\n",
            "100%|██████████| 2/2 [00:00<00:00,  6.37it/s]\n",
            "100%|██████████| 3/3 [00:00<00:00,  8.99it/s]\n"
          ]
        },
        {
          "output_type": "stream",
          "name": "stdout",
          "text": [
            "########## Epoch 18\n"
          ]
        },
        {
          "output_type": "stream",
          "name": "stderr",
          "text": [
            "100%|██████████| 10/10 [00:01<00:00,  9.36it/s]\n",
            "100%|██████████| 5/5 [00:00<00:00, 14.37it/s]\n"
          ]
        },
        {
          "output_type": "stream",
          "name": "stdout",
          "text": [
            "Train loss: 0.28075194358825684\tVal loss: 0.3131803870201111\tTrain acc: 86.37651585820895\tVal acc: 83.81696428571429\n"
          ]
        },
        {
          "output_type": "stream",
          "name": "stderr",
          "text": [
            "100%|██████████| 2/2 [00:00<00:00,  6.01it/s]\n",
            "100%|██████████| 2/2 [00:00<00:00,  6.30it/s]\n",
            "100%|██████████| 3/3 [00:00<00:00,  8.99it/s]\n"
          ]
        },
        {
          "output_type": "stream",
          "name": "stdout",
          "text": [
            "########## Epoch 19\n"
          ]
        },
        {
          "output_type": "stream",
          "name": "stderr",
          "text": [
            "100%|██████████| 10/10 [00:01<00:00,  9.28it/s]\n",
            "100%|██████████| 5/5 [00:00<00:00, 13.26it/s]\n"
          ]
        },
        {
          "output_type": "stream",
          "name": "stdout",
          "text": [
            "Train loss: 0.2654822766780853\tVal loss: 0.3059374690055847\tTrain acc: 88.59258395522389\tVal acc: 83.77232142857142\n"
          ]
        },
        {
          "output_type": "stream",
          "name": "stderr",
          "text": [
            "100%|██████████| 2/2 [00:00<00:00,  6.28it/s]\n",
            "100%|██████████| 2/2 [00:00<00:00,  6.44it/s]\n",
            "100%|██████████| 3/3 [00:00<00:00,  9.17it/s]\n"
          ]
        },
        {
          "output_type": "stream",
          "name": "stdout",
          "text": [
            "########## Epoch 20\n"
          ]
        },
        {
          "output_type": "stream",
          "name": "stderr",
          "text": [
            "100%|██████████| 10/10 [00:01<00:00,  9.47it/s]\n",
            "100%|██████████| 5/5 [00:00<00:00, 13.97it/s]\n"
          ]
        },
        {
          "output_type": "stream",
          "name": "stdout",
          "text": [
            "Train loss: 0.2629399001598358\tVal loss: 0.29779672622680664\tTrain acc: 88.27308768656717\tVal acc: 83.83928571428571\n"
          ]
        },
        {
          "output_type": "stream",
          "name": "stderr",
          "text": [
            "100%|██████████| 2/2 [00:00<00:00,  6.04it/s]\n",
            "100%|██████████| 2/2 [00:00<00:00,  6.26it/s]\n",
            "100%|██████████| 3/3 [00:00<00:00,  9.09it/s]\n"
          ]
        },
        {
          "output_type": "stream",
          "name": "stdout",
          "text": [
            "########## Epoch 21\n"
          ]
        },
        {
          "output_type": "stream",
          "name": "stderr",
          "text": [
            "100%|██████████| 10/10 [00:01<00:00,  9.17it/s]\n",
            "100%|██████████| 5/5 [00:00<00:00, 14.02it/s]\n"
          ]
        },
        {
          "output_type": "stream",
          "name": "stdout",
          "text": [
            "Train loss: 0.269675612449646\tVal loss: 0.29489096999168396\tTrain acc: 87.77576958955224\tVal acc: 83.83928571428571\n"
          ]
        },
        {
          "output_type": "stream",
          "name": "stderr",
          "text": [
            "100%|██████████| 2/2 [00:00<00:00,  4.24it/s]\n",
            "100%|██████████| 2/2 [00:00<00:00,  4.06it/s]\n",
            "100%|██████████| 3/3 [00:00<00:00,  6.04it/s]\n"
          ]
        },
        {
          "output_type": "stream",
          "name": "stdout",
          "text": [
            "########## Epoch 22\n"
          ]
        },
        {
          "output_type": "stream",
          "name": "stderr",
          "text": [
            "100%|██████████| 10/10 [00:01<00:00,  6.93it/s]\n",
            "100%|██████████| 5/5 [00:00<00:00,  8.41it/s]\n"
          ]
        },
        {
          "output_type": "stream",
          "name": "stdout",
          "text": [
            "Train loss: 0.27555766701698303\tVal loss: 0.286808580160141\tTrain acc: 86.74556902985074\tVal acc: 84.48660714285714\n"
          ]
        },
        {
          "output_type": "stream",
          "name": "stderr",
          "text": [
            "100%|██████████| 2/2 [00:00<00:00,  4.23it/s]\n",
            "100%|██████████| 2/2 [00:00<00:00,  4.20it/s]\n",
            "100%|██████████| 3/3 [00:00<00:00,  6.24it/s]\n"
          ]
        },
        {
          "output_type": "stream",
          "name": "stdout",
          "text": [
            "########## Epoch 23\n"
          ]
        },
        {
          "output_type": "stream",
          "name": "stderr",
          "text": [
            "100%|██████████| 10/10 [00:01<00:00,  9.11it/s]\n",
            "100%|██████████| 5/5 [00:00<00:00, 14.19it/s]\n"
          ]
        },
        {
          "output_type": "stream",
          "name": "stdout",
          "text": [
            "Train loss: 0.2601887583732605\tVal loss: 0.28577765822410583\tTrain acc: 91.51527518656717\tVal acc: 84.79910714285714\n"
          ]
        },
        {
          "output_type": "stream",
          "name": "stderr",
          "text": [
            "100%|██████████| 2/2 [00:00<00:00,  6.11it/s]\n",
            "100%|██████████| 2/2 [00:00<00:00,  6.25it/s]\n",
            "100%|██████████| 3/3 [00:00<00:00,  8.88it/s]\n"
          ]
        },
        {
          "output_type": "stream",
          "name": "stdout",
          "text": [
            "########## Epoch 24\n"
          ]
        },
        {
          "output_type": "stream",
          "name": "stderr",
          "text": [
            "100%|██████████| 10/10 [00:01<00:00,  9.18it/s]\n",
            "100%|██████████| 5/5 [00:00<00:00, 13.60it/s]\n"
          ]
        },
        {
          "output_type": "stream",
          "name": "stdout",
          "text": [
            "Train loss: 0.24848389625549316\tVal loss: 0.28153663873672485\tTrain acc: 91.56891324626865\tVal acc: 84.91071428571429\n"
          ]
        },
        {
          "output_type": "stream",
          "name": "stderr",
          "text": [
            "100%|██████████| 2/2 [00:00<00:00,  5.97it/s]\n",
            "100%|██████████| 2/2 [00:00<00:00,  6.06it/s]\n",
            "100%|██████████| 3/3 [00:00<00:00,  9.06it/s]\n"
          ]
        },
        {
          "output_type": "display_data",
          "data": {
            "text/plain": [
              "<IPython.core.display.HTML object>"
            ],
            "text/html": [
              "Waiting for W&B process to finish... <strong style=\"color:green\">(success).</strong>"
            ]
          },
          "metadata": {}
        },
        {
          "output_type": "display_data",
          "data": {
            "text/plain": [
              "VBox(children=(Label(value='0.000 MB of 0.000 MB uploaded (0.000 MB deduped)\\r'), FloatProgress(value=1.0, max…"
            ],
            "application/vnd.jupyter.widget-view+json": {
              "version_major": 2,
              "version_minor": 0,
              "model_id": "eb4e5b1449d2452fb4e10a1e98368ffd"
            }
          },
          "metadata": {}
        },
        {
          "output_type": "display_data",
          "data": {
            "text/plain": [
              "<IPython.core.display.HTML object>"
            ],
            "text/html": [
              "<style>\n",
              "    table.wandb td:nth-child(1) { padding: 0 10px; text-align: left ; width: auto;} td:nth-child(2) {text-align: left ; width: 100%}\n",
              "    .wandb-row { display: flex; flex-direction: row; flex-wrap: wrap; justify-content: flex-start; width: 100% }\n",
              "    .wandb-col { display: flex; flex-direction: column; flex-basis: 100%; flex: 1; padding: 10px; }\n",
              "    </style>\n",
              "<div class=\"wandb-row\"><div class=\"wandb-col\"><h3>Run history:</h3><br/><table class=\"wandb\"><tr><td>task_0_prevtask_0_val_acc</td><td>▁▇▇▇▇████▇███▇██▇█▇█▇███▇</td></tr><tr><td>task_0_prevtask_0_val_loss</td><td>█▃▂▂▂▁▂▁▂▃▂▁▂▂▁▁▄▂▃▂▃▃▃▃▇</td></tr><tr><td>task_0_train_acc</td><td>▁▄▇▇▇█▇▇▇████████████████</td></tr><tr><td>task_0_train_loss</td><td>█▃▂▂▂▁▁▁▁▁▁▁▁▁▁▁▁▁▁▁▁▁▁▁▁</td></tr><tr><td>task_0_val_acc</td><td>▁▇█▇▇██████▇▇██▇▇▇▇█▇██▇▇</td></tr><tr><td>task_0_val_loss</td><td>█▃▁▂▃▁▁▁▁▂▂▃▃▁▁▃▄▃▅▂▃▃▃▇▅</td></tr><tr><td>task_1_prevtask_0_val_acc</td><td>▇█▆▆▅▆▅▇▅▂▃▃▁▂▁▃▃▁▄▄▆▄▂▃▄</td></tr><tr><td>task_1_prevtask_0_val_loss</td><td>▆▁▄▄▄▂▄▂▅█▆▄█▆▆▆▅▇▆▅▄▅▆▆▆</td></tr><tr><td>task_1_prevtask_1_val_acc</td><td>▁▁▁▁▁▁▁▁▁▁▁▁▁▁▁▁▁▁▁▁▁▁▁▁▁</td></tr><tr><td>task_1_prevtask_1_val_loss</td><td>█▇▆▆▅▄▄▄▃▃▃▃▃▂▂▂▂▂▂▂▁▁▁▁▁</td></tr><tr><td>task_1_train_acc</td><td>███▇▆▅▃▃▃▁▃▂▁▁▃▂▂▂▂▂▁▂▂▃▃</td></tr><tr><td>task_1_train_loss</td><td>█▇▆▅▅▄▄▄▃▃▃▃▃▂▂▂▂▂▂▂▁▁▁▁▁</td></tr><tr><td>task_1_val_acc</td><td>██▇▆▆▅▅▅▅▃▄▁▃▂▃▆▄▃▄▄▃▃▄▄▅</td></tr><tr><td>task_1_val_loss</td><td>█▇▆▆▅▅▄▄▄▃▃▃▃▃▂▂▂▂▂▂▂▁▁▁▁</td></tr><tr><td>task_2_prevtask_0_val_acc</td><td>▃▃▁▄▇▆▅▆▆█▆▆█▆█▅▆██▆▆█▆▇▆</td></tr><tr><td>task_2_prevtask_0_val_loss</td><td>██▇█▇██▇▇▅▅▅▃▄▃▅▃▂▂▃▃▁▃▂▃</td></tr><tr><td>task_2_prevtask_1_val_acc</td><td>▁▂▄▄▅▅▆▆▆▇▇█▇█▇▇▇█▇▇▇█▇██</td></tr><tr><td>task_2_prevtask_1_val_loss</td><td>█▇▆▅▄▄▃▃▃▂▂▂▂▂▂▂▂▁▁▁▁▁▁▁▁</td></tr><tr><td>task_2_prevtask_2_val_acc</td><td>▄▆▇▇▄█▃▃█▆▆█▄▆▁█▆▆█▆▄▆▆▆█</td></tr><tr><td>task_2_prevtask_2_val_loss</td><td>▇▇▅▅▆▄█▇▃▄▄▂▄▄▇▂▃▂▂▂▄▂▂▂▁</td></tr><tr><td>task_2_train_acc</td><td>▁▂▄▅▆▆▆▆▆▆▆▆▆▇▇▇▇▇▆▇▇▇▇██</td></tr><tr><td>task_2_train_loss</td><td>█▇▆▅▄▄▄▃▃▃▃▂▂▂▂▂▂▂▁▁▁▁▁▁▁</td></tr><tr><td>task_2_val_acc</td><td>▁▂▄▄▅▆▆▇▇▇▇▇▇▇▇▇▇█▇▇▇▇███</td></tr><tr><td>task_2_val_loss</td><td>█▇▆▅▅▄▄▄▃▃▃▂▂▂▂▂▂▂▂▁▁▁▁▁▁</td></tr></table><br/></div><div class=\"wandb-col\"><h3>Run summary:</h3><br/><table class=\"wandb\"><tr><td>task_0_prevtask_0_val_acc</td><td>96.65465</td></tr><tr><td>task_0_prevtask_0_val_loss</td><td>0.43267</td></tr><tr><td>task_0_train_acc</td><td>99.46181</td></tr><tr><td>task_0_train_loss</td><td>0.01687</td></tr><tr><td>task_0_val_acc</td><td>97.54607</td></tr><tr><td>task_0_val_loss</td><td>0.23504</td></tr><tr><td>task_1_prevtask_0_val_acc</td><td>93.02885</td></tr><tr><td>task_1_prevtask_0_val_loss</td><td>0.37729</td></tr><tr><td>task_1_prevtask_1_val_acc</td><td>0.0</td></tr><tr><td>task_1_prevtask_1_val_loss</td><td>2.09095</td></tr><tr><td>task_1_train_acc</td><td>48.29205</td></tr><tr><td>task_1_train_loss</td><td>1.20385</td></tr><tr><td>task_1_val_acc</td><td>47.13542</td></tr><tr><td>task_1_val_loss</td><td>1.21296</td></tr><tr><td>task_2_prevtask_0_val_acc</td><td>96.65465</td></tr><tr><td>task_2_prevtask_0_val_loss</td><td>0.18815</td></tr><tr><td>task_2_prevtask_1_val_acc</td><td>51.8129</td></tr><tr><td>task_2_prevtask_1_val_loss</td><td>0.66293</td></tr><tr><td>task_2_prevtask_2_val_acc</td><td>97.39583</td></tr><tr><td>task_2_prevtask_2_val_loss</td><td>0.1011</td></tr><tr><td>task_2_train_acc</td><td>91.56891</td></tr><tr><td>task_2_train_loss</td><td>0.24848</td></tr><tr><td>task_2_val_acc</td><td>84.91071</td></tr><tr><td>task_2_val_loss</td><td>0.28154</td></tr></table><br/></div></div>"
            ]
          },
          "metadata": {}
        },
        {
          "output_type": "display_data",
          "data": {
            "text/plain": [
              "<IPython.core.display.HTML object>"
            ],
            "text/html": [
              "Synced <strong style=\"color:#cdcd00\">reservoir_roadcondition_yesno_imagecondition_20_09_23h03m54s_mul</strong>: <a href=\"https://wandb.ai/compyle/continual_vqa_final/runs/focr7mj0\" target=\"_blank\">https://wandb.ai/compyle/continual_vqa_final/runs/focr7mj0</a><br/>Synced 5 W&B file(s), 0 media file(s), 0 artifact file(s) and 0 other file(s)"
            ]
          },
          "metadata": {}
        },
        {
          "output_type": "display_data",
          "data": {
            "text/plain": [
              "<IPython.core.display.HTML object>"
            ],
            "text/html": [
              "Find logs at: <code>./wandb/run-20220920_230354-focr7mj0/logs</code>"
            ]
          },
          "metadata": {}
        },
        {
          "output_type": "display_data",
          "data": {
            "text/plain": [
              "<IPython.core.display.HTML object>"
            ],
            "text/html": [
              "Tracking run with wandb version 0.13.3"
            ]
          },
          "metadata": {}
        },
        {
          "output_type": "display_data",
          "data": {
            "text/plain": [
              "<IPython.core.display.HTML object>"
            ],
            "text/html": [
              "Run data is saved locally in <code>/content/wandb/run-20220920_230624-t96e5m7w</code>"
            ]
          },
          "metadata": {}
        },
        {
          "output_type": "display_data",
          "data": {
            "text/plain": [
              "<IPython.core.display.HTML object>"
            ],
            "text/html": [
              "Syncing run <strong><a href=\"https://wandb.ai/compyle/continual_vqa_final/runs/t96e5m7w\" target=\"_blank\">reservoir_roadcondition_imagecondition_yesno_20_09_23h06m24s_mul</a></strong> to <a href=\"https://wandb.ai/compyle/continual_vqa_final\" target=\"_blank\">Weights & Biases</a> (<a href=\"https://wandb.me/run\" target=\"_blank\">docs</a>)<br/>"
            ]
          },
          "metadata": {}
        },
        {
          "output_type": "stream",
          "name": "stdout",
          "text": [
            "########## Epoch 0\n"
          ]
        },
        {
          "output_type": "stream",
          "name": "stderr",
          "text": [
            "100%|██████████| 6/6 [00:00<00:00, 11.70it/s]\n",
            "100%|██████████| 2/2 [00:00<00:00,  5.92it/s]\n"
          ]
        },
        {
          "output_type": "stream",
          "name": "stdout",
          "text": [
            "Train loss: 0.8968238234519958\tVal loss: 0.4266330599784851\tTrain acc: 76.73311781609196\tVal acc: 80.8689024390244\n"
          ]
        },
        {
          "output_type": "stream",
          "name": "stderr",
          "text": [
            "100%|██████████| 2/2 [00:00<00:00,  5.79it/s]\n"
          ]
        },
        {
          "output_type": "stream",
          "name": "stdout",
          "text": [
            "########## Epoch 1\n"
          ]
        },
        {
          "output_type": "stream",
          "name": "stderr",
          "text": [
            "100%|██████████| 6/6 [00:00<00:00, 11.01it/s]\n",
            "100%|██████████| 2/2 [00:00<00:00,  6.06it/s]\n"
          ]
        },
        {
          "output_type": "stream",
          "name": "stdout",
          "text": [
            "Train loss: 0.31809452176094055\tVal loss: 0.13312293589115143\tTrain acc: 88.80208333333333\tVal acc: 99.609375\n"
          ]
        },
        {
          "output_type": "stream",
          "name": "stderr",
          "text": [
            "100%|██████████| 2/2 [00:00<00:00,  6.31it/s]\n"
          ]
        },
        {
          "output_type": "stream",
          "name": "stdout",
          "text": [
            "########## Epoch 2\n"
          ]
        },
        {
          "output_type": "stream",
          "name": "stderr",
          "text": [
            "100%|██████████| 6/6 [00:00<00:00, 11.53it/s]\n",
            "100%|██████████| 2/2 [00:00<00:00,  6.27it/s]\n"
          ]
        },
        {
          "output_type": "stream",
          "name": "stdout",
          "text": [
            "Train loss: 0.1506202071905136\tVal loss: 0.03156132623553276\tTrain acc: 96.92438936781609\tVal acc: 99.609375\n"
          ]
        },
        {
          "output_type": "stream",
          "name": "stderr",
          "text": [
            "100%|██████████| 2/2 [00:00<00:00,  6.12it/s]\n"
          ]
        },
        {
          "output_type": "stream",
          "name": "stdout",
          "text": [
            "########## Epoch 3\n"
          ]
        },
        {
          "output_type": "stream",
          "name": "stderr",
          "text": [
            "100%|██████████| 6/6 [00:00<00:00, 11.31it/s]\n",
            "100%|██████████| 2/2 [00:00<00:00,  6.30it/s]\n"
          ]
        },
        {
          "output_type": "stream",
          "name": "stdout",
          "text": [
            "Train loss: 0.09955144673585892\tVal loss: 0.042047642171382904\tTrain acc: 97.91666666666667\tVal acc: 97.99923780487805\n"
          ]
        },
        {
          "output_type": "stream",
          "name": "stderr",
          "text": [
            "100%|██████████| 2/2 [00:00<00:00,  6.07it/s]\n"
          ]
        },
        {
          "output_type": "stream",
          "name": "stdout",
          "text": [
            "########## Epoch 4\n"
          ]
        },
        {
          "output_type": "stream",
          "name": "stderr",
          "text": [
            "100%|██████████| 6/6 [00:00<00:00, 12.03it/s]\n",
            "100%|██████████| 2/2 [00:00<00:00,  6.32it/s]\n"
          ]
        },
        {
          "output_type": "stream",
          "name": "stdout",
          "text": [
            "Train loss: 0.08907374739646912\tVal loss: 0.022775758057832718\tTrain acc: 97.6293103448276\tVal acc: 99.609375\n"
          ]
        },
        {
          "output_type": "stream",
          "name": "stderr",
          "text": [
            "100%|██████████| 2/2 [00:00<00:00,  6.15it/s]\n"
          ]
        },
        {
          "output_type": "stream",
          "name": "stdout",
          "text": [
            "########## Epoch 5\n"
          ]
        },
        {
          "output_type": "stream",
          "name": "stderr",
          "text": [
            "100%|██████████| 6/6 [00:00<00:00, 12.04it/s]\n",
            "100%|██████████| 2/2 [00:00<00:00,  6.28it/s]\n"
          ]
        },
        {
          "output_type": "stream",
          "name": "stdout",
          "text": [
            "Train loss: 0.08880113810300827\tVal loss: 0.031554147601127625\tTrain acc: 97.86278735632185\tVal acc: 99.609375\n"
          ]
        },
        {
          "output_type": "stream",
          "name": "stderr",
          "text": [
            "100%|██████████| 2/2 [00:00<00:00,  5.59it/s]\n"
          ]
        },
        {
          "output_type": "stream",
          "name": "stdout",
          "text": [
            "########## Epoch 6\n"
          ]
        },
        {
          "output_type": "stream",
          "name": "stderr",
          "text": [
            "100%|██████████| 6/6 [00:00<00:00, 11.89it/s]\n",
            "100%|██████████| 2/2 [00:00<00:00,  6.03it/s]\n"
          ]
        },
        {
          "output_type": "stream",
          "name": "stdout",
          "text": [
            "Train loss: 0.0686432421207428\tVal loss: 0.025396278128027916\tTrain acc: 97.88972701149426\tVal acc: 99.609375\n"
          ]
        },
        {
          "output_type": "stream",
          "name": "stderr",
          "text": [
            "100%|██████████| 2/2 [00:00<00:00,  6.27it/s]\n"
          ]
        },
        {
          "output_type": "stream",
          "name": "stdout",
          "text": [
            "########## Epoch 7\n"
          ]
        },
        {
          "output_type": "stream",
          "name": "stderr",
          "text": [
            "100%|██████████| 6/6 [00:00<00:00, 12.12it/s]\n",
            "100%|██████████| 2/2 [00:00<00:00,  6.00it/s]\n"
          ]
        },
        {
          "output_type": "stream",
          "name": "stdout",
          "text": [
            "Train loss: 0.06211470440030098\tVal loss: 0.02245163731276989\tTrain acc: 98.17708333333333\tVal acc: 99.609375\n"
          ]
        },
        {
          "output_type": "stream",
          "name": "stderr",
          "text": [
            "100%|██████████| 2/2 [00:00<00:00,  6.04it/s]\n"
          ]
        },
        {
          "output_type": "stream",
          "name": "stdout",
          "text": [
            "########## Epoch 8\n"
          ]
        },
        {
          "output_type": "stream",
          "name": "stderr",
          "text": [
            "100%|██████████| 6/6 [00:00<00:00, 11.25it/s]\n",
            "100%|██████████| 2/2 [00:00<00:00,  6.38it/s]\n"
          ]
        },
        {
          "output_type": "stream",
          "name": "stdout",
          "text": [
            "Train loss: 0.06595613062381744\tVal loss: 0.02633991464972496\tTrain acc: 98.28035201149426\tVal acc: 99.609375\n"
          ]
        },
        {
          "output_type": "stream",
          "name": "stderr",
          "text": [
            "100%|██████████| 2/2 [00:00<00:00,  6.21it/s]\n"
          ]
        },
        {
          "output_type": "stream",
          "name": "stdout",
          "text": [
            "########## Epoch 9\n"
          ]
        },
        {
          "output_type": "stream",
          "name": "stderr",
          "text": [
            "100%|██████████| 6/6 [00:00<00:00, 12.44it/s]\n",
            "100%|██████████| 2/2 [00:00<00:00,  6.31it/s]\n"
          ]
        },
        {
          "output_type": "stream",
          "name": "stdout",
          "text": [
            "Train loss: 0.05792844668030739\tVal loss: 0.03125273063778877\tTrain acc: 98.28035201149426\tVal acc: 99.609375\n"
          ]
        },
        {
          "output_type": "stream",
          "name": "stderr",
          "text": [
            "100%|██████████| 2/2 [00:00<00:00,  6.06it/s]\n"
          ]
        },
        {
          "output_type": "stream",
          "name": "stdout",
          "text": [
            "########## Epoch 10\n"
          ]
        },
        {
          "output_type": "stream",
          "name": "stderr",
          "text": [
            "100%|██████████| 6/6 [00:00<00:00, 11.96it/s]\n",
            "100%|██████████| 2/2 [00:00<00:00,  6.21it/s]\n"
          ]
        },
        {
          "output_type": "stream",
          "name": "stdout",
          "text": [
            "Train loss: 0.053422216325998306\tVal loss: 0.02891247719526291\tTrain acc: 98.69791666666667\tVal acc: 99.609375\n"
          ]
        },
        {
          "output_type": "stream",
          "name": "stderr",
          "text": [
            "100%|██████████| 2/2 [00:00<00:00,  6.06it/s]\n"
          ]
        },
        {
          "output_type": "stream",
          "name": "stdout",
          "text": [
            "########## Epoch 11\n"
          ]
        },
        {
          "output_type": "stream",
          "name": "stderr",
          "text": [
            "100%|██████████| 6/6 [00:00<00:00, 12.05it/s]\n",
            "100%|██████████| 2/2 [00:00<00:00,  6.36it/s]\n"
          ]
        },
        {
          "output_type": "stream",
          "name": "stdout",
          "text": [
            "Train loss: 0.05681580305099487\tVal loss: 0.02201445773243904\tTrain acc: 98.8011853448276\tVal acc: 99.609375\n"
          ]
        },
        {
          "output_type": "stream",
          "name": "stderr",
          "text": [
            "100%|██████████| 2/2 [00:00<00:00,  5.78it/s]\n"
          ]
        },
        {
          "output_type": "stream",
          "name": "stdout",
          "text": [
            "########## Epoch 12\n"
          ]
        },
        {
          "output_type": "stream",
          "name": "stderr",
          "text": [
            "100%|██████████| 6/6 [00:00<00:00, 11.27it/s]\n",
            "100%|██████████| 2/2 [00:00<00:00,  5.94it/s]\n"
          ]
        },
        {
          "output_type": "stream",
          "name": "stdout",
          "text": [
            "Train loss: 0.046774353832006454\tVal loss: 0.02077200822532177\tTrain acc: 98.95833333333333\tVal acc: 99.609375\n"
          ]
        },
        {
          "output_type": "stream",
          "name": "stderr",
          "text": [
            "100%|██████████| 2/2 [00:00<00:00,  5.86it/s]\n"
          ]
        },
        {
          "output_type": "stream",
          "name": "stdout",
          "text": [
            "########## Epoch 13\n"
          ]
        },
        {
          "output_type": "stream",
          "name": "stderr",
          "text": [
            "100%|██████████| 6/6 [00:00<00:00, 11.94it/s]\n",
            "100%|██████████| 2/2 [00:00<00:00,  6.10it/s]\n"
          ]
        },
        {
          "output_type": "stream",
          "name": "stdout",
          "text": [
            "Train loss: 0.04457930102944374\tVal loss: 0.023479018360376358\tTrain acc: 98.828125\tVal acc: 99.609375\n"
          ]
        },
        {
          "output_type": "stream",
          "name": "stderr",
          "text": [
            "100%|██████████| 2/2 [00:00<00:00,  6.23it/s]\n"
          ]
        },
        {
          "output_type": "stream",
          "name": "stdout",
          "text": [
            "########## Epoch 14\n"
          ]
        },
        {
          "output_type": "stream",
          "name": "stderr",
          "text": [
            "100%|██████████| 6/6 [00:00<00:00, 11.37it/s]\n",
            "100%|██████████| 2/2 [00:00<00:00,  6.33it/s]\n"
          ]
        },
        {
          "output_type": "stream",
          "name": "stdout",
          "text": [
            "Train loss: 0.055026907473802567\tVal loss: 0.05100655183196068\tTrain acc: 98.38362068965517\tVal acc: 98.78048780487805\n"
          ]
        },
        {
          "output_type": "stream",
          "name": "stderr",
          "text": [
            "100%|██████████| 2/2 [00:00<00:00,  5.87it/s]\n"
          ]
        },
        {
          "output_type": "stream",
          "name": "stdout",
          "text": [
            "########## Epoch 15\n"
          ]
        },
        {
          "output_type": "stream",
          "name": "stderr",
          "text": [
            "100%|██████████| 6/6 [00:00<00:00, 12.17it/s]\n",
            "100%|██████████| 2/2 [00:00<00:00,  6.32it/s]\n"
          ]
        },
        {
          "output_type": "stream",
          "name": "stdout",
          "text": [
            "Train loss: 0.046255093067884445\tVal loss: 0.021819911897182465\tTrain acc: 98.28035201149426\tVal acc: 99.609375\n"
          ]
        },
        {
          "output_type": "stream",
          "name": "stderr",
          "text": [
            "100%|██████████| 2/2 [00:00<00:00,  6.23it/s]\n"
          ]
        },
        {
          "output_type": "stream",
          "name": "stdout",
          "text": [
            "########## Epoch 16\n"
          ]
        },
        {
          "output_type": "stream",
          "name": "stderr",
          "text": [
            "100%|██████████| 6/6 [00:00<00:00, 11.77it/s]\n",
            "100%|██████████| 2/2 [00:00<00:00,  6.31it/s]\n"
          ]
        },
        {
          "output_type": "stream",
          "name": "stdout",
          "text": [
            "Train loss: 0.041677918285131454\tVal loss: 0.04506240412592888\tTrain acc: 98.95833333333333\tVal acc: 98.78048780487805\n"
          ]
        },
        {
          "output_type": "stream",
          "name": "stderr",
          "text": [
            "100%|██████████| 2/2 [00:00<00:00,  6.03it/s]\n"
          ]
        },
        {
          "output_type": "stream",
          "name": "stdout",
          "text": [
            "########## Epoch 17\n"
          ]
        },
        {
          "output_type": "stream",
          "name": "stderr",
          "text": [
            "100%|██████████| 6/6 [00:00<00:00, 12.38it/s]\n",
            "100%|██████████| 2/2 [00:00<00:00,  6.34it/s]\n"
          ]
        },
        {
          "output_type": "stream",
          "name": "stdout",
          "text": [
            "Train loss: 0.03315884247422218\tVal loss: 0.023214098066091537\tTrain acc: 99.08854166666667\tVal acc: 99.609375\n"
          ]
        },
        {
          "output_type": "stream",
          "name": "stderr",
          "text": [
            "100%|██████████| 2/2 [00:00<00:00,  5.84it/s]\n"
          ]
        },
        {
          "output_type": "stream",
          "name": "stdout",
          "text": [
            "########## Epoch 18\n"
          ]
        },
        {
          "output_type": "stream",
          "name": "stderr",
          "text": [
            "100%|██████████| 6/6 [00:00<00:00, 12.01it/s]\n",
            "100%|██████████| 2/2 [00:00<00:00,  6.22it/s]\n"
          ]
        },
        {
          "output_type": "stream",
          "name": "stdout",
          "text": [
            "Train loss: 0.04666244611144066\tVal loss: 0.017330698668956757\tTrain acc: 98.77424568965517\tVal acc: 99.609375\n"
          ]
        },
        {
          "output_type": "stream",
          "name": "stderr",
          "text": [
            "100%|██████████| 2/2 [00:00<00:00,  6.18it/s]\n"
          ]
        },
        {
          "output_type": "stream",
          "name": "stdout",
          "text": [
            "########## Epoch 19\n"
          ]
        },
        {
          "output_type": "stream",
          "name": "stderr",
          "text": [
            "100%|██████████| 6/6 [00:00<00:00, 12.37it/s]\n",
            "100%|██████████| 2/2 [00:00<00:00,  6.02it/s]\n"
          ]
        },
        {
          "output_type": "stream",
          "name": "stdout",
          "text": [
            "Train loss: 0.04369821771979332\tVal loss: 0.026055190712213516\tTrain acc: 98.8011853448276\tVal acc: 99.609375\n"
          ]
        },
        {
          "output_type": "stream",
          "name": "stderr",
          "text": [
            "100%|██████████| 2/2 [00:00<00:00,  6.23it/s]\n"
          ]
        },
        {
          "output_type": "stream",
          "name": "stdout",
          "text": [
            "########## Epoch 20\n"
          ]
        },
        {
          "output_type": "stream",
          "name": "stderr",
          "text": [
            "100%|██████████| 6/6 [00:00<00:00, 11.58it/s]\n",
            "100%|██████████| 2/2 [00:00<00:00,  5.69it/s]\n"
          ]
        },
        {
          "output_type": "stream",
          "name": "stdout",
          "text": [
            "Train loss: 0.033921241760253906\tVal loss: 0.04682686924934387\tTrain acc: 99.08854166666667\tVal acc: 98.78048780487805\n"
          ]
        },
        {
          "output_type": "stream",
          "name": "stderr",
          "text": [
            "100%|██████████| 2/2 [00:00<00:00,  6.27it/s]\n"
          ]
        },
        {
          "output_type": "stream",
          "name": "stdout",
          "text": [
            "########## Epoch 21\n"
          ]
        },
        {
          "output_type": "stream",
          "name": "stderr",
          "text": [
            "100%|██████████| 6/6 [00:00<00:00, 11.61it/s]\n",
            "100%|██████████| 2/2 [00:00<00:00,  6.21it/s]\n"
          ]
        },
        {
          "output_type": "stream",
          "name": "stdout",
          "text": [
            "Train loss: 0.03549807518720627\tVal loss: 0.041704438626766205\tTrain acc: 98.8011853448276\tVal acc: 98.38986280487805\n"
          ]
        },
        {
          "output_type": "stream",
          "name": "stderr",
          "text": [
            "100%|██████████| 2/2 [00:00<00:00,  6.42it/s]\n"
          ]
        },
        {
          "output_type": "stream",
          "name": "stdout",
          "text": [
            "########## Epoch 22\n"
          ]
        },
        {
          "output_type": "stream",
          "name": "stderr",
          "text": [
            "100%|██████████| 6/6 [00:00<00:00, 11.98it/s]\n",
            "100%|██████████| 2/2 [00:00<00:00,  6.27it/s]\n"
          ]
        },
        {
          "output_type": "stream",
          "name": "stdout",
          "text": [
            "Train loss: 0.037376031279563904\tVal loss: 0.016883699223399162\tTrain acc: 98.77424568965517\tVal acc: 99.609375\n"
          ]
        },
        {
          "output_type": "stream",
          "name": "stderr",
          "text": [
            "100%|██████████| 2/2 [00:00<00:00,  6.07it/s]\n"
          ]
        },
        {
          "output_type": "stream",
          "name": "stdout",
          "text": [
            "########## Epoch 23\n"
          ]
        },
        {
          "output_type": "stream",
          "name": "stderr",
          "text": [
            "100%|██████████| 6/6 [00:00<00:00, 12.03it/s]\n",
            "100%|██████████| 2/2 [00:00<00:00,  6.14it/s]\n"
          ]
        },
        {
          "output_type": "stream",
          "name": "stdout",
          "text": [
            "Train loss: 0.027751462534070015\tVal loss: 0.03535011410713196\tTrain acc: 99.21875\tVal acc: 98.78048780487805\n"
          ]
        },
        {
          "output_type": "stream",
          "name": "stderr",
          "text": [
            "100%|██████████| 2/2 [00:00<00:00,  5.98it/s]\n"
          ]
        },
        {
          "output_type": "stream",
          "name": "stdout",
          "text": [
            "########## Epoch 24\n"
          ]
        },
        {
          "output_type": "stream",
          "name": "stderr",
          "text": [
            "100%|██████████| 6/6 [00:00<00:00, 11.98it/s]\n",
            "100%|██████████| 2/2 [00:00<00:00,  5.95it/s]\n"
          ]
        },
        {
          "output_type": "stream",
          "name": "stdout",
          "text": [
            "Train loss: 0.022427648305892944\tVal loss: 0.016458922997117043\tTrain acc: 99.34895833333333\tVal acc: 99.609375\n"
          ]
        },
        {
          "output_type": "stream",
          "name": "stderr",
          "text": [
            "100%|██████████| 2/2 [00:00<00:00,  5.75it/s]\n"
          ]
        },
        {
          "output_type": "stream",
          "name": "stdout",
          "text": [
            "########## Epoch 0\n"
          ]
        },
        {
          "output_type": "stream",
          "name": "stderr",
          "text": [
            "100%|██████████| 10/10 [00:01<00:00,  9.47it/s]\n",
            "100%|██████████| 4/4 [00:00<00:00, 11.28it/s]\n"
          ]
        },
        {
          "output_type": "stream",
          "name": "stdout",
          "text": [
            "Train loss: 0.14757157862186432\tVal loss: 0.11599905043840408\tTrain acc: 98.36287313432835\tVal acc: 98.74739583333333\n"
          ]
        },
        {
          "output_type": "stream",
          "name": "stderr",
          "text": [
            "100%|██████████| 2/2 [00:00<00:00,  5.97it/s]\n",
            "100%|██████████| 3/3 [00:00<00:00,  9.11it/s]\n"
          ]
        },
        {
          "output_type": "stream",
          "name": "stdout",
          "text": [
            "########## Epoch 1\n"
          ]
        },
        {
          "output_type": "stream",
          "name": "stderr",
          "text": [
            "100%|██████████| 10/10 [00:01<00:00,  9.27it/s]\n",
            "100%|██████████| 4/4 [00:00<00:00, 10.97it/s]\n"
          ]
        },
        {
          "output_type": "stream",
          "name": "stdout",
          "text": [
            "Train loss: 0.10964862257242203\tVal loss: 0.08930431306362152\tTrain acc: 98.359375\tVal acc: 97.96614583333333\n"
          ]
        },
        {
          "output_type": "stream",
          "name": "stderr",
          "text": [
            "100%|██████████| 2/2 [00:00<00:00,  6.05it/s]\n",
            "100%|██████████| 3/3 [00:00<00:00,  8.59it/s]\n"
          ]
        },
        {
          "output_type": "stream",
          "name": "stdout",
          "text": [
            "########## Epoch 2\n"
          ]
        },
        {
          "output_type": "stream",
          "name": "stderr",
          "text": [
            "100%|██████████| 10/10 [00:01<00:00,  9.41it/s]\n",
            "100%|██████████| 4/4 [00:00<00:00, 10.64it/s]\n"
          ]
        },
        {
          "output_type": "stream",
          "name": "stdout",
          "text": [
            "Train loss: 0.09686751663684845\tVal loss: 0.09000709652900696\tTrain acc: 98.203125\tVal acc: 98.10416666666667\n"
          ]
        },
        {
          "output_type": "stream",
          "name": "stderr",
          "text": [
            "100%|██████████| 2/2 [00:00<00:00,  6.01it/s]\n",
            "100%|██████████| 3/3 [00:00<00:00,  9.00it/s]\n"
          ]
        },
        {
          "output_type": "stream",
          "name": "stdout",
          "text": [
            "########## Epoch 3\n"
          ]
        },
        {
          "output_type": "stream",
          "name": "stderr",
          "text": [
            "100%|██████████| 10/10 [00:01<00:00,  9.08it/s]\n",
            "100%|██████████| 4/4 [00:00<00:00, 10.53it/s]\n"
          ]
        },
        {
          "output_type": "stream",
          "name": "stdout",
          "text": [
            "Train loss: 0.08878826349973679\tVal loss: 0.08952346444129944\tTrain acc: 97.9296875\tVal acc: 97.4609375\n"
          ]
        },
        {
          "output_type": "stream",
          "name": "stderr",
          "text": [
            "100%|██████████| 2/2 [00:00<00:00,  6.13it/s]\n",
            "100%|██████████| 3/3 [00:00<00:00,  8.55it/s]\n"
          ]
        },
        {
          "output_type": "stream",
          "name": "stdout",
          "text": [
            "########## Epoch 4\n"
          ]
        },
        {
          "output_type": "stream",
          "name": "stderr",
          "text": [
            "100%|██████████| 10/10 [00:01<00:00,  9.20it/s]\n",
            "100%|██████████| 4/4 [00:00<00:00,  9.98it/s]\n"
          ]
        },
        {
          "output_type": "stream",
          "name": "stdout",
          "text": [
            "Train loss: 0.08337580412626266\tVal loss: 0.09244824945926666\tTrain acc: 97.81599813432835\tVal acc: 97.90885416666667\n"
          ]
        },
        {
          "output_type": "stream",
          "name": "stderr",
          "text": [
            "100%|██████████| 2/2 [00:00<00:00,  6.12it/s]\n",
            "100%|██████████| 3/3 [00:00<00:00,  8.93it/s]\n"
          ]
        },
        {
          "output_type": "stream",
          "name": "stdout",
          "text": [
            "########## Epoch 5\n"
          ]
        },
        {
          "output_type": "stream",
          "name": "stderr",
          "text": [
            "100%|██████████| 10/10 [00:01<00:00,  8.88it/s]\n",
            "100%|██████████| 4/4 [00:00<00:00, 11.07it/s]\n"
          ]
        },
        {
          "output_type": "stream",
          "name": "stdout",
          "text": [
            "Train loss: 0.07533063739538193\tVal loss: 0.07850054651498795\tTrain acc: 98.046875\tVal acc: 98.10416666666667\n"
          ]
        },
        {
          "output_type": "stream",
          "name": "stderr",
          "text": [
            "100%|██████████| 2/2 [00:00<00:00,  5.95it/s]\n",
            "100%|██████████| 3/3 [00:00<00:00,  8.46it/s]\n"
          ]
        },
        {
          "output_type": "stream",
          "name": "stdout",
          "text": [
            "########## Epoch 6\n"
          ]
        },
        {
          "output_type": "stream",
          "name": "stderr",
          "text": [
            "100%|██████████| 10/10 [00:01<00:00,  8.96it/s]\n",
            "100%|██████████| 4/4 [00:00<00:00, 10.76it/s]\n"
          ]
        },
        {
          "output_type": "stream",
          "name": "stdout",
          "text": [
            "Train loss: 0.07357461750507355\tVal loss: 0.07911227643489838\tTrain acc: 98.16756063432835\tVal acc: 98.10416666666667\n"
          ]
        },
        {
          "output_type": "stream",
          "name": "stderr",
          "text": [
            "100%|██████████| 2/2 [00:00<00:00,  5.51it/s]\n",
            "100%|██████████| 3/3 [00:00<00:00,  8.52it/s]\n"
          ]
        },
        {
          "output_type": "stream",
          "name": "stdout",
          "text": [
            "########## Epoch 7\n"
          ]
        },
        {
          "output_type": "stream",
          "name": "stderr",
          "text": [
            "100%|██████████| 10/10 [00:01<00:00,  9.16it/s]\n",
            "100%|██████████| 4/4 [00:00<00:00, 11.32it/s]\n"
          ]
        },
        {
          "output_type": "stream",
          "name": "stdout",
          "text": [
            "Train loss: 0.06860481202602386\tVal loss: 0.08074169605970383\tTrain acc: 98.203125\tVal acc: 98.16145833333333\n"
          ]
        },
        {
          "output_type": "stream",
          "name": "stderr",
          "text": [
            "100%|██████████| 2/2 [00:00<00:00,  5.75it/s]\n",
            "100%|██████████| 3/3 [00:00<00:00,  8.91it/s]\n"
          ]
        },
        {
          "output_type": "stream",
          "name": "stdout",
          "text": [
            "########## Epoch 8\n"
          ]
        },
        {
          "output_type": "stream",
          "name": "stderr",
          "text": [
            "100%|██████████| 10/10 [00:01<00:00,  8.94it/s]\n",
            "100%|██████████| 4/4 [00:00<00:00, 11.03it/s]\n"
          ]
        },
        {
          "output_type": "stream",
          "name": "stdout",
          "text": [
            "Train loss: 0.06634046137332916\tVal loss: 0.08286808431148529\tTrain acc: 98.2421875\tVal acc: 98.16145833333333\n"
          ]
        },
        {
          "output_type": "stream",
          "name": "stderr",
          "text": [
            "100%|██████████| 2/2 [00:00<00:00,  5.72it/s]\n",
            "100%|██████████| 3/3 [00:00<00:00,  8.78it/s]\n"
          ]
        },
        {
          "output_type": "stream",
          "name": "stdout",
          "text": [
            "########## Epoch 9\n"
          ]
        },
        {
          "output_type": "stream",
          "name": "stderr",
          "text": [
            "100%|██████████| 10/10 [00:01<00:00,  8.98it/s]\n",
            "100%|██████████| 4/4 [00:00<00:00, 11.04it/s]\n"
          ]
        },
        {
          "output_type": "stream",
          "name": "stdout",
          "text": [
            "Train loss: 0.06465890258550644\tVal loss: 0.07714053988456726\tTrain acc: 98.2421875\tVal acc: 98.29947916666667\n"
          ]
        },
        {
          "output_type": "stream",
          "name": "stderr",
          "text": [
            "100%|██████████| 2/2 [00:00<00:00,  6.03it/s]\n",
            "100%|██████████| 3/3 [00:00<00:00,  8.71it/s]\n"
          ]
        },
        {
          "output_type": "stream",
          "name": "stdout",
          "text": [
            "########## Epoch 10\n"
          ]
        },
        {
          "output_type": "stream",
          "name": "stderr",
          "text": [
            "100%|██████████| 10/10 [00:01<00:00,  9.00it/s]\n",
            "100%|██████████| 4/4 [00:00<00:00, 10.57it/s]\n"
          ]
        },
        {
          "output_type": "stream",
          "name": "stdout",
          "text": [
            "Train loss: 0.06270347535610199\tVal loss: 0.07755352556705475\tTrain acc: 98.3203125\tVal acc: 98.0234375\n"
          ]
        },
        {
          "output_type": "stream",
          "name": "stderr",
          "text": [
            "100%|██████████| 2/2 [00:00<00:00,  6.06it/s]\n",
            "100%|██████████| 3/3 [00:00<00:00,  8.82it/s]\n"
          ]
        },
        {
          "output_type": "stream",
          "name": "stdout",
          "text": [
            "########## Epoch 11\n"
          ]
        },
        {
          "output_type": "stream",
          "name": "stderr",
          "text": [
            "100%|██████████| 10/10 [00:01<00:00,  8.79it/s]\n",
            "100%|██████████| 4/4 [00:00<00:00, 10.27it/s]\n"
          ]
        },
        {
          "output_type": "stream",
          "name": "stdout",
          "text": [
            "Train loss: 0.06192057579755783\tVal loss: 0.06532002240419388\tTrain acc: 98.28125\tVal acc: 98.6328125\n"
          ]
        },
        {
          "output_type": "stream",
          "name": "stderr",
          "text": [
            "100%|██████████| 2/2 [00:00<00:00,  5.82it/s]\n",
            "100%|██████████| 3/3 [00:00<00:00,  8.75it/s]\n"
          ]
        },
        {
          "output_type": "stream",
          "name": "stdout",
          "text": [
            "########## Epoch 12\n"
          ]
        },
        {
          "output_type": "stream",
          "name": "stderr",
          "text": [
            "100%|██████████| 10/10 [00:01<00:00,  8.99it/s]\n",
            "100%|██████████| 4/4 [00:00<00:00, 11.24it/s]\n"
          ]
        },
        {
          "output_type": "stream",
          "name": "stdout",
          "text": [
            "Train loss: 0.059950102120637894\tVal loss: 0.06986596435308456\tTrain acc: 98.2421875\tVal acc: 98.49479166666667\n"
          ]
        },
        {
          "output_type": "stream",
          "name": "stderr",
          "text": [
            "100%|██████████| 2/2 [00:00<00:00,  6.06it/s]\n",
            "100%|██████████| 3/3 [00:00<00:00,  8.42it/s]\n"
          ]
        },
        {
          "output_type": "stream",
          "name": "stdout",
          "text": [
            "########## Epoch 13\n"
          ]
        },
        {
          "output_type": "stream",
          "name": "stderr",
          "text": [
            "100%|██████████| 10/10 [00:01<00:00,  9.06it/s]\n",
            "100%|██████████| 4/4 [00:00<00:00, 10.40it/s]\n"
          ]
        },
        {
          "output_type": "stream",
          "name": "stdout",
          "text": [
            "Train loss: 0.0593368224799633\tVal loss: 0.08214560151100159\tTrain acc: 98.359375\tVal acc: 98.21875\n"
          ]
        },
        {
          "output_type": "stream",
          "name": "stderr",
          "text": [
            "100%|██████████| 2/2 [00:00<00:00,  5.84it/s]\n",
            "100%|██████████| 3/3 [00:00<00:00,  8.22it/s]\n"
          ]
        },
        {
          "output_type": "stream",
          "name": "stdout",
          "text": [
            "########## Epoch 14\n"
          ]
        },
        {
          "output_type": "stream",
          "name": "stderr",
          "text": [
            "100%|██████████| 10/10 [00:01<00:00,  9.03it/s]\n",
            "100%|██████████| 4/4 [00:00<00:00, 10.48it/s]\n"
          ]
        },
        {
          "output_type": "stream",
          "name": "stdout",
          "text": [
            "Train loss: 0.059882305562496185\tVal loss: 0.0667228102684021\tTrain acc: 98.36287313432835\tVal acc: 98.6328125\n"
          ]
        },
        {
          "output_type": "stream",
          "name": "stderr",
          "text": [
            "100%|██████████| 2/2 [00:00<00:00,  5.88it/s]\n",
            "100%|██████████| 3/3 [00:00<00:00,  8.65it/s]\n"
          ]
        },
        {
          "output_type": "stream",
          "name": "stdout",
          "text": [
            "########## Epoch 15\n"
          ]
        },
        {
          "output_type": "stream",
          "name": "stderr",
          "text": [
            "100%|██████████| 10/10 [00:01<00:00,  8.95it/s]\n",
            "100%|██████████| 4/4 [00:00<00:00, 10.49it/s]\n"
          ]
        },
        {
          "output_type": "stream",
          "name": "stdout",
          "text": [
            "Train loss: 0.058281343430280685\tVal loss: 0.0637025386095047\tTrain acc: 98.3203125\tVal acc: 98.6328125\n"
          ]
        },
        {
          "output_type": "stream",
          "name": "stderr",
          "text": [
            "100%|██████████| 2/2 [00:00<00:00,  5.84it/s]\n",
            "100%|██████████| 3/3 [00:00<00:00,  8.58it/s]\n"
          ]
        },
        {
          "output_type": "stream",
          "name": "stdout",
          "text": [
            "########## Epoch 16\n"
          ]
        },
        {
          "output_type": "stream",
          "name": "stderr",
          "text": [
            "100%|██████████| 10/10 [00:01<00:00,  8.89it/s]\n",
            "100%|██████████| 4/4 [00:00<00:00, 10.23it/s]\n"
          ]
        },
        {
          "output_type": "stream",
          "name": "stdout",
          "text": [
            "Train loss: 0.057507116347551346\tVal loss: 0.06860142201185226\tTrain acc: 98.3984375\tVal acc: 98.69010416666667\n"
          ]
        },
        {
          "output_type": "stream",
          "name": "stderr",
          "text": [
            "100%|██████████| 2/2 [00:00<00:00,  6.00it/s]\n",
            "100%|██████████| 3/3 [00:00<00:00,  8.80it/s]\n"
          ]
        },
        {
          "output_type": "stream",
          "name": "stdout",
          "text": [
            "########## Epoch 17\n"
          ]
        },
        {
          "output_type": "stream",
          "name": "stderr",
          "text": [
            "100%|██████████| 10/10 [00:01<00:00,  9.21it/s]\n",
            "100%|██████████| 4/4 [00:00<00:00, 10.43it/s]\n"
          ]
        },
        {
          "output_type": "stream",
          "name": "stdout",
          "text": [
            "Train loss: 0.05616980046033859\tVal loss: 0.06443049013614655\tTrain acc: 98.4765625\tVal acc: 98.828125\n"
          ]
        },
        {
          "output_type": "stream",
          "name": "stderr",
          "text": [
            "100%|██████████| 2/2 [00:00<00:00,  5.97it/s]\n",
            "100%|██████████| 3/3 [00:00<00:00,  8.52it/s]\n"
          ]
        },
        {
          "output_type": "stream",
          "name": "stdout",
          "text": [
            "########## Epoch 18\n"
          ]
        },
        {
          "output_type": "stream",
          "name": "stderr",
          "text": [
            "100%|██████████| 10/10 [00:01<00:00,  8.89it/s]\n",
            "100%|██████████| 4/4 [00:00<00:00, 11.28it/s]\n"
          ]
        },
        {
          "output_type": "stream",
          "name": "stdout",
          "text": [
            "Train loss: 0.055183570832014084\tVal loss: 0.0659758672118187\tTrain acc: 98.3984375\tVal acc: 98.828125\n"
          ]
        },
        {
          "output_type": "stream",
          "name": "stderr",
          "text": [
            "100%|██████████| 2/2 [00:00<00:00,  5.87it/s]\n",
            "100%|██████████| 3/3 [00:00<00:00,  8.45it/s]\n"
          ]
        },
        {
          "output_type": "stream",
          "name": "stdout",
          "text": [
            "########## Epoch 19\n"
          ]
        },
        {
          "output_type": "stream",
          "name": "stderr",
          "text": [
            "100%|██████████| 10/10 [00:01<00:00,  9.05it/s]\n",
            "100%|██████████| 4/4 [00:00<00:00, 11.06it/s]\n"
          ]
        },
        {
          "output_type": "stream",
          "name": "stdout",
          "text": [
            "Train loss: 0.05586179345846176\tVal loss: 0.06483865529298782\tTrain acc: 98.4375\tVal acc: 98.828125\n"
          ]
        },
        {
          "output_type": "stream",
          "name": "stderr",
          "text": [
            "100%|██████████| 2/2 [00:00<00:00,  6.04it/s]\n",
            "100%|██████████| 3/3 [00:00<00:00,  8.25it/s]\n"
          ]
        },
        {
          "output_type": "stream",
          "name": "stdout",
          "text": [
            "########## Epoch 20\n"
          ]
        },
        {
          "output_type": "stream",
          "name": "stderr",
          "text": [
            "100%|██████████| 10/10 [00:01<00:00,  8.85it/s]\n",
            "100%|██████████| 4/4 [00:00<00:00, 11.12it/s]\n"
          ]
        },
        {
          "output_type": "stream",
          "name": "stdout",
          "text": [
            "Train loss: 0.053859781473875046\tVal loss: 0.06144477799534798\tTrain acc: 98.3984375\tVal acc: 98.828125\n"
          ]
        },
        {
          "output_type": "stream",
          "name": "stderr",
          "text": [
            "100%|██████████| 2/2 [00:00<00:00,  5.67it/s]\n",
            "100%|██████████| 3/3 [00:00<00:00,  8.58it/s]\n"
          ]
        },
        {
          "output_type": "stream",
          "name": "stdout",
          "text": [
            "########## Epoch 21\n"
          ]
        },
        {
          "output_type": "stream",
          "name": "stderr",
          "text": [
            "100%|██████████| 10/10 [00:01<00:00,  8.66it/s]\n",
            "100%|██████████| 4/4 [00:00<00:00, 10.38it/s]\n"
          ]
        },
        {
          "output_type": "stream",
          "name": "stdout",
          "text": [
            "Train loss: 0.05246558040380478\tVal loss: 0.07557302713394165\tTrain acc: 98.4765625\tVal acc: 98.55208333333333\n"
          ]
        },
        {
          "output_type": "stream",
          "name": "stderr",
          "text": [
            "100%|██████████| 2/2 [00:00<00:00,  6.02it/s]\n",
            "100%|██████████| 3/3 [00:00<00:00,  9.00it/s]\n"
          ]
        },
        {
          "output_type": "stream",
          "name": "stdout",
          "text": [
            "########## Epoch 22\n"
          ]
        },
        {
          "output_type": "stream",
          "name": "stderr",
          "text": [
            "100%|██████████| 10/10 [00:01<00:00,  8.89it/s]\n",
            "100%|██████████| 4/4 [00:00<00:00, 10.72it/s]\n"
          ]
        },
        {
          "output_type": "stream",
          "name": "stdout",
          "text": [
            "Train loss: 0.053748201578855515\tVal loss: 0.07166087627410889\tTrain acc: 98.359375\tVal acc: 98.69010416666667\n"
          ]
        },
        {
          "output_type": "stream",
          "name": "stderr",
          "text": [
            "100%|██████████| 2/2 [00:00<00:00,  6.12it/s]\n",
            "100%|██████████| 3/3 [00:00<00:00,  8.77it/s]\n"
          ]
        },
        {
          "output_type": "stream",
          "name": "stdout",
          "text": [
            "########## Epoch 23\n"
          ]
        },
        {
          "output_type": "stream",
          "name": "stderr",
          "text": [
            "100%|██████████| 10/10 [00:01<00:00,  8.95it/s]\n",
            "100%|██████████| 4/4 [00:00<00:00, 10.44it/s]\n"
          ]
        },
        {
          "output_type": "stream",
          "name": "stdout",
          "text": [
            "Train loss: 0.05306850001215935\tVal loss: 0.07241664081811905\tTrain acc: 98.4765625\tVal acc: 98.69010416666667\n"
          ]
        },
        {
          "output_type": "stream",
          "name": "stderr",
          "text": [
            "100%|██████████| 2/2 [00:00<00:00,  5.89it/s]\n",
            "100%|██████████| 3/3 [00:00<00:00,  8.48it/s]\n"
          ]
        },
        {
          "output_type": "stream",
          "name": "stdout",
          "text": [
            "########## Epoch 24\n"
          ]
        },
        {
          "output_type": "stream",
          "name": "stderr",
          "text": [
            "100%|██████████| 10/10 [00:01<00:00,  8.76it/s]\n",
            "100%|██████████| 4/4 [00:00<00:00, 11.17it/s]\n"
          ]
        },
        {
          "output_type": "stream",
          "name": "stdout",
          "text": [
            "Train loss: 0.052881695330142975\tVal loss: 0.07745325565338135\tTrain acc: 98.48006063432835\tVal acc: 98.4140625\n"
          ]
        },
        {
          "output_type": "stream",
          "name": "stderr",
          "text": [
            "100%|██████████| 2/2 [00:00<00:00,  5.69it/s]\n",
            "100%|██████████| 3/3 [00:00<00:00,  8.33it/s]\n"
          ]
        },
        {
          "output_type": "stream",
          "name": "stdout",
          "text": [
            "########## Epoch 0\n"
          ]
        },
        {
          "output_type": "stream",
          "name": "stderr",
          "text": [
            "100%|██████████| 6/6 [00:00<00:00,  7.41it/s]\n",
            "100%|██████████| 5/5 [00:00<00:00, 13.05it/s]\n"
          ]
        },
        {
          "output_type": "stream",
          "name": "stdout",
          "text": [
            "Train loss: 4.873990535736084\tVal loss: 2.4626643657684326\tTrain acc: 52.045530913978496\tVal acc: 71.63793103448276\n"
          ]
        },
        {
          "output_type": "stream",
          "name": "stderr",
          "text": [
            "100%|██████████| 2/2 [00:00<00:00,  5.74it/s]\n",
            "100%|██████████| 3/3 [00:00<00:00,  8.32it/s]\n",
            "100%|██████████| 2/2 [00:00<00:00,  5.75it/s]\n"
          ]
        },
        {
          "output_type": "stream",
          "name": "stdout",
          "text": [
            "########## Epoch 1\n"
          ]
        },
        {
          "output_type": "stream",
          "name": "stderr",
          "text": [
            "100%|██████████| 6/6 [00:00<00:00,  7.51it/s]\n",
            "100%|██████████| 5/5 [00:00<00:00, 12.72it/s]\n"
          ]
        },
        {
          "output_type": "stream",
          "name": "stdout",
          "text": [
            "Train loss: 3.7835605144500732\tVal loss: 1.9618861675262451\tTrain acc: 52.30594758064516\tVal acc: 69.26185344827586\n"
          ]
        },
        {
          "output_type": "stream",
          "name": "stderr",
          "text": [
            "100%|██████████| 2/2 [00:00<00:00,  6.10it/s]\n",
            "100%|██████████| 3/3 [00:00<00:00,  8.40it/s]\n",
            "100%|██████████| 2/2 [00:00<00:00,  5.70it/s]\n"
          ]
        },
        {
          "output_type": "stream",
          "name": "stdout",
          "text": [
            "########## Epoch 2\n"
          ]
        },
        {
          "output_type": "stream",
          "name": "stderr",
          "text": [
            "100%|██████████| 6/6 [00:00<00:00,  7.38it/s]\n",
            "100%|██████████| 5/5 [00:00<00:00, 13.49it/s]\n"
          ]
        },
        {
          "output_type": "stream",
          "name": "stdout",
          "text": [
            "Train loss: 2.9767911434173584\tVal loss: 1.6506391763687134\tTrain acc: 51.825716845878134\tVal acc: 66.13685344827586\n"
          ]
        },
        {
          "output_type": "stream",
          "name": "stderr",
          "text": [
            "100%|██████████| 2/2 [00:00<00:00,  5.80it/s]\n",
            "100%|██████████| 3/3 [00:00<00:00,  8.76it/s]\n",
            "100%|██████████| 2/2 [00:00<00:00,  6.00it/s]\n"
          ]
        },
        {
          "output_type": "stream",
          "name": "stdout",
          "text": [
            "########## Epoch 3\n"
          ]
        },
        {
          "output_type": "stream",
          "name": "stderr",
          "text": [
            "100%|██████████| 6/6 [00:00<00:00,  7.58it/s]\n",
            "100%|██████████| 5/5 [00:00<00:00, 13.32it/s]\n"
          ]
        },
        {
          "output_type": "stream",
          "name": "stdout",
          "text": [
            "Train loss: 2.446364402770996\tVal loss: 1.4322149753570557\tTrain acc: 50.38502464157707\tVal acc: 65.51185344827586\n"
          ]
        },
        {
          "output_type": "stream",
          "name": "stderr",
          "text": [
            "100%|██████████| 2/2 [00:00<00:00,  5.65it/s]\n",
            "100%|██████████| 3/3 [00:00<00:00,  8.42it/s]\n",
            "100%|██████████| 2/2 [00:00<00:00,  6.20it/s]\n"
          ]
        },
        {
          "output_type": "stream",
          "name": "stdout",
          "text": [
            "########## Epoch 4\n"
          ]
        },
        {
          "output_type": "stream",
          "name": "stderr",
          "text": [
            "100%|██████████| 6/6 [00:00<00:00,  7.37it/s]\n",
            "100%|██████████| 5/5 [00:00<00:00, 12.29it/s]\n"
          ]
        },
        {
          "output_type": "stream",
          "name": "stdout",
          "text": [
            "Train loss: 2.073969602584839\tVal loss: 1.2513370513916016\tTrain acc: 50.62934027777778\tVal acc: 66.10452586206897\n"
          ]
        },
        {
          "output_type": "stream",
          "name": "stderr",
          "text": [
            "100%|██████████| 2/2 [00:00<00:00,  5.87it/s]\n",
            "100%|██████████| 3/3 [00:00<00:00,  8.49it/s]\n",
            "100%|██████████| 2/2 [00:00<00:00,  5.70it/s]\n"
          ]
        },
        {
          "output_type": "stream",
          "name": "stdout",
          "text": [
            "########## Epoch 5\n"
          ]
        },
        {
          "output_type": "stream",
          "name": "stderr",
          "text": [
            "100%|██████████| 6/6 [00:00<00:00,  7.17it/s]\n",
            "100%|██████████| 5/5 [00:00<00:00, 12.47it/s]\n"
          ]
        },
        {
          "output_type": "stream",
          "name": "stdout",
          "text": [
            "Train loss: 1.7740716934204102\tVal loss: 1.1022875308990479\tTrain acc: 52.06163194444445\tVal acc: 67.82327586206897\n"
          ]
        },
        {
          "output_type": "stream",
          "name": "stderr",
          "text": [
            "100%|██████████| 2/2 [00:00<00:00,  5.68it/s]\n",
            "100%|██████████| 3/3 [00:00<00:00,  8.05it/s]\n",
            "100%|██████████| 2/2 [00:00<00:00,  6.16it/s]\n"
          ]
        },
        {
          "output_type": "stream",
          "name": "stdout",
          "text": [
            "########## Epoch 6\n"
          ]
        },
        {
          "output_type": "stream",
          "name": "stderr",
          "text": [
            "100%|██████████| 6/6 [00:00<00:00,  7.51it/s]\n",
            "100%|██████████| 5/5 [00:00<00:00, 12.95it/s]\n"
          ]
        },
        {
          "output_type": "stream",
          "name": "stdout",
          "text": [
            "Train loss: 1.5532485246658325\tVal loss: 0.9720494151115417\tTrain acc: 52.25694444444445\tVal acc: 69.32650862068965\n"
          ]
        },
        {
          "output_type": "stream",
          "name": "stderr",
          "text": [
            "100%|██████████| 2/2 [00:00<00:00,  5.59it/s]\n",
            "100%|██████████| 3/3 [00:00<00:00,  8.35it/s]\n",
            "100%|██████████| 2/2 [00:00<00:00,  5.71it/s]\n"
          ]
        },
        {
          "output_type": "stream",
          "name": "stdout",
          "text": [
            "########## Epoch 7\n"
          ]
        },
        {
          "output_type": "stream",
          "name": "stderr",
          "text": [
            "100%|██████████| 6/6 [00:00<00:00,  7.44it/s]\n",
            "100%|██████████| 5/5 [00:00<00:00, 12.83it/s]\n"
          ]
        },
        {
          "output_type": "stream",
          "name": "stdout",
          "text": [
            "Train loss: 1.3530144691467285\tVal loss: 0.8638808131217957\tTrain acc: 52.126736111111114\tVal acc: 70.29633620689656\n"
          ]
        },
        {
          "output_type": "stream",
          "name": "stderr",
          "text": [
            "100%|██████████| 2/2 [00:00<00:00,  5.75it/s]\n",
            "100%|██████████| 3/3 [00:00<00:00,  8.71it/s]\n",
            "100%|██████████| 2/2 [00:00<00:00,  6.23it/s]\n"
          ]
        },
        {
          "output_type": "stream",
          "name": "stdout",
          "text": [
            "########## Epoch 8\n"
          ]
        },
        {
          "output_type": "stream",
          "name": "stderr",
          "text": [
            "100%|██████████| 6/6 [00:00<00:00,  6.78it/s]\n",
            "100%|██████████| 5/5 [00:00<00:00,  7.88it/s]\n"
          ]
        },
        {
          "output_type": "stream",
          "name": "stdout",
          "text": [
            "Train loss: 1.1682844161987305\tVal loss: 0.768682599067688\tTrain acc: 52.0861335125448\tVal acc: 70.92133620689656\n"
          ]
        },
        {
          "output_type": "stream",
          "name": "stderr",
          "text": [
            "100%|██████████| 2/2 [00:00<00:00,  3.87it/s]\n",
            "100%|██████████| 3/3 [00:00<00:00,  5.79it/s]\n",
            "100%|██████████| 2/2 [00:00<00:00,  3.56it/s]\n"
          ]
        },
        {
          "output_type": "stream",
          "name": "stdout",
          "text": [
            "########## Epoch 9\n"
          ]
        },
        {
          "output_type": "stream",
          "name": "stderr",
          "text": [
            "100%|██████████| 6/6 [00:01<00:00,  5.34it/s]\n",
            "100%|██████████| 5/5 [00:00<00:00,  8.54it/s]\n"
          ]
        },
        {
          "output_type": "stream",
          "name": "stdout",
          "text": [
            "Train loss: 1.0175069570541382\tVal loss: 0.6864300966262817\tTrain acc: 52.59086581541218\tVal acc: 72.34375\n"
          ]
        },
        {
          "output_type": "stream",
          "name": "stderr",
          "text": [
            "100%|██████████| 2/2 [00:00<00:00,  4.10it/s]\n",
            "100%|██████████| 3/3 [00:00<00:00,  8.63it/s]\n",
            "100%|██████████| 2/2 [00:00<00:00,  6.10it/s]\n"
          ]
        },
        {
          "output_type": "stream",
          "name": "stdout",
          "text": [
            "########## Epoch 10\n"
          ]
        },
        {
          "output_type": "stream",
          "name": "stderr",
          "text": [
            "100%|██████████| 6/6 [00:00<00:00,  7.42it/s]\n",
            "100%|██████████| 5/5 [00:00<00:00, 13.17it/s]\n"
          ]
        },
        {
          "output_type": "stream",
          "name": "stdout",
          "text": [
            "Train loss: 0.8791093230247498\tVal loss: 0.6165496110916138\tTrain acc: 58.288530465949826\tVal acc: 78.87392241379311\n"
          ]
        },
        {
          "output_type": "stream",
          "name": "stderr",
          "text": [
            "100%|██████████| 2/2 [00:00<00:00,  5.85it/s]\n",
            "100%|██████████| 3/3 [00:00<00:00,  8.56it/s]\n",
            "100%|██████████| 2/2 [00:00<00:00,  5.97it/s]\n"
          ]
        },
        {
          "output_type": "stream",
          "name": "stdout",
          "text": [
            "########## Epoch 11\n"
          ]
        },
        {
          "output_type": "stream",
          "name": "stderr",
          "text": [
            "100%|██████████| 6/6 [00:00<00:00,  7.30it/s]\n",
            "100%|██████████| 5/5 [00:00<00:00, 12.24it/s]\n"
          ]
        },
        {
          "output_type": "stream",
          "name": "stdout",
          "text": [
            "Train loss: 0.7629182934761047\tVal loss: 0.5540483593940735\tTrain acc: 70.87953629032258\tVal acc: 87.77478448275863\n"
          ]
        },
        {
          "output_type": "stream",
          "name": "stderr",
          "text": [
            "100%|██████████| 2/2 [00:00<00:00,  5.99it/s]\n",
            "100%|██████████| 3/3 [00:00<00:00,  8.46it/s]\n",
            "100%|██████████| 2/2 [00:00<00:00,  5.66it/s]\n"
          ]
        },
        {
          "output_type": "stream",
          "name": "stdout",
          "text": [
            "########## Epoch 12\n"
          ]
        },
        {
          "output_type": "stream",
          "name": "stderr",
          "text": [
            "100%|██████████| 6/6 [00:00<00:00,  7.45it/s]\n",
            "100%|██████████| 5/5 [00:00<00:00, 12.70it/s]\n"
          ]
        },
        {
          "output_type": "stream",
          "name": "stdout",
          "text": [
            "Train loss: 0.6756206154823303\tVal loss: 0.5045390725135803\tTrain acc: 80.44214829749104\tVal acc: 90.41487068965517\n"
          ]
        },
        {
          "output_type": "stream",
          "name": "stderr",
          "text": [
            "100%|██████████| 2/2 [00:00<00:00,  5.67it/s]\n",
            "100%|██████████| 3/3 [00:00<00:00,  8.83it/s]\n",
            "100%|██████████| 2/2 [00:00<00:00,  6.13it/s]\n"
          ]
        },
        {
          "output_type": "stream",
          "name": "stdout",
          "text": [
            "########## Epoch 13\n"
          ]
        },
        {
          "output_type": "stream",
          "name": "stderr",
          "text": [
            "100%|██████████| 6/6 [00:00<00:00,  7.49it/s]\n",
            "100%|██████████| 5/5 [00:00<00:00, 12.93it/s]\n"
          ]
        },
        {
          "output_type": "stream",
          "name": "stdout",
          "text": [
            "Train loss: 0.607790470123291\tVal loss: 0.4619016647338867\tTrain acc: 84.11248319892474\tVal acc: 93.02801724137932\n"
          ]
        },
        {
          "output_type": "stream",
          "name": "stderr",
          "text": [
            "100%|██████████| 2/2 [00:00<00:00,  5.72it/s]\n",
            "100%|██████████| 3/3 [00:00<00:00,  8.37it/s]\n",
            "100%|██████████| 2/2 [00:00<00:00,  6.13it/s]\n"
          ]
        },
        {
          "output_type": "stream",
          "name": "stdout",
          "text": [
            "########## Epoch 14\n"
          ]
        },
        {
          "output_type": "stream",
          "name": "stderr",
          "text": [
            "100%|██████████| 6/6 [00:00<00:00,  7.35it/s]\n",
            "100%|██████████| 5/5 [00:00<00:00, 13.31it/s]\n"
          ]
        },
        {
          "output_type": "stream",
          "name": "stdout",
          "text": [
            "Train loss: 0.557784914970398\tVal loss: 0.4254123568534851\tTrain acc: 88.06843637992831\tVal acc: 94.73060344827586\n"
          ]
        },
        {
          "output_type": "stream",
          "name": "stderr",
          "text": [
            "100%|██████████| 2/2 [00:00<00:00,  5.58it/s]\n",
            "100%|██████████| 3/3 [00:00<00:00,  8.67it/s]\n",
            "100%|██████████| 2/2 [00:00<00:00,  6.13it/s]\n"
          ]
        },
        {
          "output_type": "stream",
          "name": "stdout",
          "text": [
            "########## Epoch 15\n"
          ]
        },
        {
          "output_type": "stream",
          "name": "stderr",
          "text": [
            "100%|██████████| 6/6 [00:00<00:00,  7.56it/s]\n",
            "100%|██████████| 5/5 [00:00<00:00, 13.01it/s]\n"
          ]
        },
        {
          "output_type": "stream",
          "name": "stdout",
          "text": [
            "Train loss: 0.5073989033699036\tVal loss: 0.3937351107597351\tTrain acc: 89.1507056451613\tVal acc: 95.70043103448276\n"
          ]
        },
        {
          "output_type": "stream",
          "name": "stderr",
          "text": [
            "100%|██████████| 2/2 [00:00<00:00,  5.49it/s]\n",
            "100%|██████████| 3/3 [00:00<00:00,  8.02it/s]\n",
            "100%|██████████| 2/2 [00:00<00:00,  5.82it/s]\n"
          ]
        },
        {
          "output_type": "stream",
          "name": "stdout",
          "text": [
            "########## Epoch 16\n"
          ]
        },
        {
          "output_type": "stream",
          "name": "stderr",
          "text": [
            "100%|██████████| 6/6 [00:00<00:00,  7.59it/s]\n",
            "100%|██████████| 5/5 [00:00<00:00, 12.77it/s]\n"
          ]
        },
        {
          "output_type": "stream",
          "name": "stdout",
          "text": [
            "Train loss: 0.4706849157810211\tVal loss: 0.3671322166919708\tTrain acc: 91.52735775089606\tVal acc: 96.0290948275862\n"
          ]
        },
        {
          "output_type": "stream",
          "name": "stderr",
          "text": [
            "100%|██████████| 2/2 [00:00<00:00,  5.82it/s]\n",
            "100%|██████████| 3/3 [00:00<00:00,  8.49it/s]\n",
            "100%|██████████| 2/2 [00:00<00:00,  5.70it/s]\n"
          ]
        },
        {
          "output_type": "stream",
          "name": "stdout",
          "text": [
            "########## Epoch 17\n"
          ]
        },
        {
          "output_type": "stream",
          "name": "stderr",
          "text": [
            "100%|██████████| 6/6 [00:00<00:00,  7.60it/s]\n",
            "100%|██████████| 5/5 [00:00<00:00, 12.68it/s]\n"
          ]
        },
        {
          "output_type": "stream",
          "name": "stdout",
          "text": [
            "Train loss: 0.44595634937286377\tVal loss: 0.34491387009620667\tTrain acc: 91.24243951612902\tVal acc: 96.1853448275862\n"
          ]
        },
        {
          "output_type": "stream",
          "name": "stderr",
          "text": [
            "100%|██████████| 2/2 [00:00<00:00,  5.68it/s]\n",
            "100%|██████████| 3/3 [00:00<00:00,  8.26it/s]\n",
            "100%|██████████| 2/2 [00:00<00:00,  6.05it/s]\n"
          ]
        },
        {
          "output_type": "stream",
          "name": "stdout",
          "text": [
            "########## Epoch 18\n"
          ]
        },
        {
          "output_type": "stream",
          "name": "stderr",
          "text": [
            "100%|██████████| 6/6 [00:00<00:00,  7.57it/s]\n",
            "100%|██████████| 5/5 [00:00<00:00, 12.46it/s]\n"
          ]
        },
        {
          "output_type": "stream",
          "name": "stdout",
          "text": [
            "Train loss: 0.4149301052093506\tVal loss: 0.326974093914032\tTrain acc: 92.38211245519715\tVal acc: 96.1853448275862\n"
          ]
        },
        {
          "output_type": "stream",
          "name": "stderr",
          "text": [
            "100%|██████████| 2/2 [00:00<00:00,  5.63it/s]\n",
            "100%|██████████| 3/3 [00:00<00:00,  8.15it/s]\n",
            "100%|██████████| 2/2 [00:00<00:00,  6.08it/s]\n"
          ]
        },
        {
          "output_type": "stream",
          "name": "stdout",
          "text": [
            "########## Epoch 19\n"
          ]
        },
        {
          "output_type": "stream",
          "name": "stderr",
          "text": [
            "100%|██████████| 6/6 [00:00<00:00,  7.60it/s]\n",
            "100%|██████████| 5/5 [00:00<00:00, 12.68it/s]\n"
          ]
        },
        {
          "output_type": "stream",
          "name": "stdout",
          "text": [
            "Train loss: 0.4036424458026886\tVal loss: 0.3119693696498871\tTrain acc: 92.49621975806451\tVal acc: 95.88900862068965\n"
          ]
        },
        {
          "output_type": "stream",
          "name": "stderr",
          "text": [
            "100%|██████████| 2/2 [00:00<00:00,  5.74it/s]\n",
            "100%|██████████| 3/3 [00:00<00:00,  8.83it/s]\n",
            "100%|██████████| 2/2 [00:00<00:00,  5.80it/s]\n"
          ]
        },
        {
          "output_type": "stream",
          "name": "stdout",
          "text": [
            "########## Epoch 20\n"
          ]
        },
        {
          "output_type": "stream",
          "name": "stderr",
          "text": [
            "100%|██████████| 6/6 [00:00<00:00,  7.33it/s]\n",
            "100%|██████████| 5/5 [00:00<00:00, 12.29it/s]\n"
          ]
        },
        {
          "output_type": "stream",
          "name": "stdout",
          "text": [
            "Train loss: 0.38696619868278503\tVal loss: 0.29901057481765747\tTrain acc: 93.05765568996416\tVal acc: 95.99676724137932\n"
          ]
        },
        {
          "output_type": "stream",
          "name": "stderr",
          "text": [
            "100%|██████████| 2/2 [00:00<00:00,  5.74it/s]\n",
            "100%|██████████| 3/3 [00:00<00:00,  8.30it/s]\n",
            "100%|██████████| 2/2 [00:00<00:00,  5.45it/s]\n"
          ]
        },
        {
          "output_type": "stream",
          "name": "stdout",
          "text": [
            "########## Epoch 21\n"
          ]
        },
        {
          "output_type": "stream",
          "name": "stderr",
          "text": [
            "100%|██████████| 6/6 [00:00<00:00,  7.56it/s]\n",
            "100%|██████████| 5/5 [00:00<00:00, 12.90it/s]\n"
          ]
        },
        {
          "output_type": "stream",
          "name": "stdout",
          "text": [
            "Train loss: 0.3699513375759125\tVal loss: 0.2886073589324951\tTrain acc: 93.28517025089606\tVal acc: 96.37392241379311\n"
          ]
        },
        {
          "output_type": "stream",
          "name": "stderr",
          "text": [
            "100%|██████████| 2/2 [00:00<00:00,  5.77it/s]\n",
            "100%|██████████| 3/3 [00:00<00:00,  7.91it/s]\n",
            "100%|██████████| 2/2 [00:00<00:00,  5.99it/s]\n"
          ]
        },
        {
          "output_type": "stream",
          "name": "stdout",
          "text": [
            "########## Epoch 22\n"
          ]
        },
        {
          "output_type": "stream",
          "name": "stderr",
          "text": [
            "100%|██████████| 6/6 [00:00<00:00,  7.55it/s]\n",
            "100%|██████████| 5/5 [00:00<00:00, 13.09it/s]\n"
          ]
        },
        {
          "output_type": "stream",
          "name": "stdout",
          "text": [
            "Train loss: 0.3560841381549835\tVal loss: 0.28005656599998474\tTrain acc: 93.73319892473118\tVal acc: 96.30926724137932\n"
          ]
        },
        {
          "output_type": "stream",
          "name": "stderr",
          "text": [
            "100%|██████████| 2/2 [00:00<00:00,  5.95it/s]\n",
            "100%|██████████| 3/3 [00:00<00:00,  8.29it/s]\n",
            "100%|██████████| 2/2 [00:00<00:00,  6.12it/s]\n"
          ]
        },
        {
          "output_type": "stream",
          "name": "stdout",
          "text": [
            "########## Epoch 23\n"
          ]
        },
        {
          "output_type": "stream",
          "name": "stderr",
          "text": [
            "100%|██████████| 6/6 [00:00<00:00,  7.57it/s]\n",
            "100%|██████████| 5/5 [00:00<00:00, 13.08it/s]\n"
          ]
        },
        {
          "output_type": "stream",
          "name": "stdout",
          "text": [
            "Train loss: 0.34917691349983215\tVal loss: 0.2713054418563843\tTrain acc: 93.51338485663082\tVal acc: 96.23383620689656\n"
          ]
        },
        {
          "output_type": "stream",
          "name": "stderr",
          "text": [
            "100%|██████████| 2/2 [00:00<00:00,  5.69it/s]\n",
            "100%|██████████| 3/3 [00:00<00:00,  8.45it/s]\n",
            "100%|██████████| 2/2 [00:00<00:00,  5.94it/s]\n"
          ]
        },
        {
          "output_type": "stream",
          "name": "stdout",
          "text": [
            "########## Epoch 24\n"
          ]
        },
        {
          "output_type": "stream",
          "name": "stderr",
          "text": [
            "100%|██████████| 6/6 [00:00<00:00,  7.41it/s]\n",
            "100%|██████████| 5/5 [00:00<00:00, 12.96it/s]\n"
          ]
        },
        {
          "output_type": "stream",
          "name": "stdout",
          "text": [
            "Train loss: 0.3362061083316803\tVal loss: 0.2651832401752472\tTrain acc: 93.87950828853047\tVal acc: 96.20150862068965\n"
          ]
        },
        {
          "output_type": "stream",
          "name": "stderr",
          "text": [
            "100%|██████████| 2/2 [00:00<00:00,  5.67it/s]\n",
            "100%|██████████| 3/3 [00:00<00:00,  8.36it/s]\n",
            "100%|██████████| 2/2 [00:00<00:00,  6.17it/s]\n"
          ]
        },
        {
          "output_type": "display_data",
          "data": {
            "text/plain": [
              "<IPython.core.display.HTML object>"
            ],
            "text/html": [
              "Waiting for W&B process to finish... <strong style=\"color:green\">(success).</strong>"
            ]
          },
          "metadata": {}
        },
        {
          "output_type": "display_data",
          "data": {
            "text/plain": [
              "VBox(children=(Label(value='0.000 MB of 0.000 MB uploaded (0.000 MB deduped)\\r'), FloatProgress(value=1.0, max…"
            ],
            "application/vnd.jupyter.widget-view+json": {
              "version_major": 2,
              "version_minor": 0,
              "model_id": "0a236061e4b44754ab364dfcd4053a97"
            }
          },
          "metadata": {}
        },
        {
          "output_type": "display_data",
          "data": {
            "text/plain": [
              "<IPython.core.display.HTML object>"
            ],
            "text/html": [
              "<style>\n",
              "    table.wandb td:nth-child(1) { padding: 0 10px; text-align: left ; width: auto;} td:nth-child(2) {text-align: left ; width: 100%}\n",
              "    .wandb-row { display: flex; flex-direction: row; flex-wrap: wrap; justify-content: flex-start; width: 100% }\n",
              "    .wandb-col { display: flex; flex-direction: column; flex-basis: 100%; flex: 1; padding: 10px; }\n",
              "    </style>\n",
              "<div class=\"wandb-row\"><div class=\"wandb-col\"><h3>Run history:</h3><br/><table class=\"wandb\"><tr><td>task_0_prevtask_0_val_acc</td><td>▁██▇█████████████████████</td></tr><tr><td>task_0_prevtask_0_val_loss</td><td>█▃▁▁▁▁▁▁▁▁▁▂▁▁▁▁▁▁▁▁▁▁▁▁▁</td></tr><tr><td>task_0_train_acc</td><td>▁▅▇█▇████████████████████</td></tr><tr><td>task_0_train_loss</td><td>█▃▂▂▂▂▁▁▁▁▁▁▁▁▁▁▁▁▁▁▁▁▁▁▁</td></tr><tr><td>task_0_val_acc</td><td>▁██▇█████████████████████</td></tr><tr><td>task_0_val_loss</td><td>█▃▁▁▁▁▁▁▁▁▁▁▁▁▂▁▁▁▁▁▂▁▁▁▁</td></tr><tr><td>task_1_prevtask_0_val_acc</td><td>▅▁▄▂▅▄▇▁▄▇▇▇▄▇▁▄███▅███▅▅</td></tr><tr><td>task_1_prevtask_0_val_loss</td><td>▅▆▄▄▂▆▁█▆▁▁▁▂▁▇▇▁▁▂█▂▁▁██</td></tr><tr><td>task_1_prevtask_1_val_acc</td><td>█▆▁▁▅▁▆▅▇▇▇▇▄▇▆▇▆▇▆▆▇▆▄▄▇</td></tr><tr><td>task_1_prevtask_1_val_loss</td><td>▃▃█▄▅█▂▃▂▂▂▁▄▂▃▂▄▁▄▂▁▃▄▄▁</td></tr><tr><td>task_1_train_acc</td><td>▇▇▅▂▁▃▅▅▅▅▆▆▅▇▇▆▇█▇█▇█▇██</td></tr><tr><td>task_1_train_loss</td><td>█▅▄▄▃▃▃▂▂▂▂▂▂▂▂▁▁▁▁▁▁▁▁▁▁</td></tr><tr><td>task_1_val_acc</td><td>█▄▄▁▃▄▄▅▅▅▄▇▆▅▇▇▇████▇▇▇▆</td></tr><tr><td>task_1_val_loss</td><td>█▅▅▅▅▃▃▃▄▃▃▁▂▄▂▁▂▁▂▁▁▃▂▂▃</td></tr><tr><td>task_2_prevtask_0_val_acc</td><td>█▇▃▁▁▅▄▆▆▅▆▇███▇█▇███████</td></tr><tr><td>task_2_prevtask_0_val_loss</td><td>▁▂▄▆▆▅▆▆▆▇▇██▇▇▇▅▅▄▃▃▃▃▂▂</td></tr><tr><td>task_2_prevtask_1_val_acc</td><td>▇▅▁▃▃▄▅▆▇█▇▇██▇██████████</td></tr><tr><td>task_2_prevtask_1_val_loss</td><td>▁▃▇▇██▇▇▇▇█▇▇▆▅▄▄▄▃▃▃▂▂▂▂</td></tr><tr><td>task_2_prevtask_2_val_acc</td><td>▁▁▁▁▁▁▁▁▁▁▃▅▆▇██████▇████</td></tr><tr><td>task_2_prevtask_2_val_loss</td><td>█▆▅▄▄▃▃▃▂▂▂▂▁▁▁▁▁▁▁▁▁▁▁▁▁</td></tr><tr><td>task_2_train_acc</td><td>▁▁▁▁▁▁▁▁▁▁▂▄▆▆▇▇█████████</td></tr><tr><td>task_2_train_loss</td><td>█▆▅▄▄▃▃▃▂▂▂▂▂▁▁▁▁▁▁▁▁▁▁▁▁</td></tr><tr><td>task_2_val_acc</td><td>▂▂▁▁▁▂▂▂▂▃▄▆▇▇███████████</td></tr><tr><td>task_2_val_loss</td><td>█▆▅▅▄▄▃▃▃▂▂▂▂▂▂▁▁▁▁▁▁▁▁▁▁</td></tr></table><br/></div><div class=\"wandb-col\"><h3>Run summary:</h3><br/><table class=\"wandb\"><tr><td>task_0_prevtask_0_val_acc</td><td>99.60938</td></tr><tr><td>task_0_prevtask_0_val_loss</td><td>0.01805</td></tr><tr><td>task_0_train_acc</td><td>99.34896</td></tr><tr><td>task_0_train_loss</td><td>0.02243</td></tr><tr><td>task_0_val_acc</td><td>99.60938</td></tr><tr><td>task_0_val_loss</td><td>0.01646</td></tr><tr><td>task_1_prevtask_0_val_acc</td><td>98.78049</td></tr><tr><td>task_1_prevtask_0_val_loss</td><td>0.07791</td></tr><tr><td>task_1_prevtask_1_val_acc</td><td>98.69792</td></tr><tr><td>task_1_prevtask_1_val_loss</td><td>0.06614</td></tr><tr><td>task_1_train_acc</td><td>98.48006</td></tr><tr><td>task_1_train_loss</td><td>0.05288</td></tr><tr><td>task_1_val_acc</td><td>98.41406</td></tr><tr><td>task_1_val_loss</td><td>0.07745</td></tr><tr><td>task_2_prevtask_0_val_acc</td><td>99.60938</td></tr><tr><td>task_2_prevtask_0_val_loss</td><td>0.07286</td></tr><tr><td>task_2_prevtask_1_val_acc</td><td>98.95833</td></tr><tr><td>task_2_prevtask_1_val_loss</td><td>0.14867</td></tr><tr><td>task_2_prevtask_2_val_acc</td><td>91.74924</td></tr><tr><td>task_2_prevtask_2_val_loss</td><td>0.63082</td></tr><tr><td>task_2_train_acc</td><td>93.87951</td></tr><tr><td>task_2_train_loss</td><td>0.33621</td></tr><tr><td>task_2_val_acc</td><td>96.20151</td></tr><tr><td>task_2_val_loss</td><td>0.26518</td></tr></table><br/></div></div>"
            ]
          },
          "metadata": {}
        },
        {
          "output_type": "display_data",
          "data": {
            "text/plain": [
              "<IPython.core.display.HTML object>"
            ],
            "text/html": [
              "Synced <strong style=\"color:#cdcd00\">reservoir_roadcondition_imagecondition_yesno_20_09_23h06m24s_mul</strong>: <a href=\"https://wandb.ai/compyle/continual_vqa_final/runs/t96e5m7w\" target=\"_blank\">https://wandb.ai/compyle/continual_vqa_final/runs/t96e5m7w</a><br/>Synced 5 W&B file(s), 0 media file(s), 0 artifact file(s) and 0 other file(s)"
            ]
          },
          "metadata": {}
        },
        {
          "output_type": "display_data",
          "data": {
            "text/plain": [
              "<IPython.core.display.HTML object>"
            ],
            "text/html": [
              "Find logs at: <code>./wandb/run-20220920_230624-t96e5m7w/logs</code>"
            ]
          },
          "metadata": {}
        }
      ]
    },
    {
      "cell_type": "code",
      "source": [
        "!rm -rf ckpts"
      ],
      "metadata": {
        "id": "-4yMdNu4oixt"
      },
      "execution_count": null,
      "outputs": []
    },
    {
      "cell_type": "markdown",
      "source": [
        "## ER on CIFAR10"
      ],
      "metadata": {
        "id": "JvTvZzeQJcUI"
      }
    },
    {
      "cell_type": "code",
      "source": [
        "from torchvision.models import resnet50, ResNet50_Weights"
      ],
      "metadata": {
        "colab": {
          "base_uri": "https://localhost:8080/"
        },
        "id": "V8daoUEZJvuC",
        "outputId": "2fb2ccd0-485c-47a3-d70d-09df4e73c159"
      },
      "execution_count": null,
      "outputs": [
        {
          "output_type": "stream",
          "name": "stderr",
          "text": [
            "Traceback (most recent call last):\n",
            "  File \"/usr/lib/python3.7/multiprocessing/queues.py\", line 232, in _feed\n",
            "    close()\n",
            "  File \"/usr/lib/python3.7/multiprocessing/connection.py\", line 177, in close\n",
            "    self._close()\n",
            "  File \"/usr/lib/python3.7/multiprocessing/connection.py\", line 361, in _close\n",
            "    _close(self._handle)\n",
            "OSError: [Errno 9] Bad file descriptor\n"
          ]
        }
      ]
    },
    {
      "cell_type": "code",
      "source": [
        "weights = ResNet50_Weights.DEFAULT\n",
        "model = resnet50(weights=weights)\n",
        "model.eval()"
      ],
      "metadata": {
        "id": "wNEGCeUaKPX8"
      },
      "execution_count": null,
      "outputs": []
    },
    {
      "cell_type": "code",
      "source": [
        "new_model = nn.Sequential(\n",
        "    *[layer for layer in model.children() if layer!=model.fc]\n",
        ")"
      ],
      "metadata": {
        "id": "leCeg1MEKUhT"
      },
      "execution_count": null,
      "outputs": []
    },
    {
      "cell_type": "code",
      "source": [
        "class ContinualResnet(nn.Module):\n",
        "    def __init__(self, num_classes=0, model=None):\n",
        "        self.backbone = model\n",
        "        self.lin = nn.Linear(in_features=2048, out_features=10)\n",
        "    \n",
        "    def forward(self, batch):\n",
        "        return self.lin(self.backbone(batch[0]))"
      ],
      "metadata": {
        "id": "mleJjN_LLao-"
      },
      "execution_count": null,
      "outputs": []
    },
    {
      "cell_type": "code",
      "source": [
        "continual_resnet = "
      ],
      "metadata": {
        "id": "ZIfZUjApLyTP"
      },
      "execution_count": null,
      "outputs": []
    }
  ]
}